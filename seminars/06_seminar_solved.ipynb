{
  "nbformat": 4,
  "nbformat_minor": 0,
  "metadata": {
    "colab": {
      "name": "06_seminar_solved.ipynb",
      "provenance": [],
      "toc_visible": true
    },
    "kernelspec": {
      "name": "python3",
      "display_name": "Python 3"
    },
    "language_info": {
      "name": "python"
    }
  },
  "cells": [
    {
      "cell_type": "markdown",
      "source": [
        "# Домашки\n"
      ],
      "metadata": {
        "id": "De0ky7Pgjm13"
      }
    },
    {
      "cell_type": "markdown",
      "source": [
        "\n",
        "## HW01\n",
        "\n",
        "Просмотрел ноутбуки, в которых было `< 200/200`. Если есть вопросы, пишите в личку.\n",
        "\n",
        "```python\n",
        "CustomResNet(\n",
        "    (model): Sequential(\n",
        "    (conv1): Conv2d(1, 4, kernel_size=(3, 3), stride=(1, 1), padding=(1, 1))\n",
        "      (0): ResBlock(\n",
        "        (conv1): Conv2d(4, 16, kernel_size=(3, 3), stride=(1, 1), padding=(1, 1))\n",
        "        (relu): ReLU()\n",
        "        (conv2): Conv2d(16, 4, kernel_size=(3, 3), stride=(1, 1), padding=(1, 1))\n",
        "      )\n",
        "      (1): ResBlock(\n",
        "        (conv1): Conv2d(1, 32, kernel_size=(3, 3), stride=(1, 1), padding=(1, 1))\n",
        "        (relu): ReLU()\n",
        "        (conv2): Conv2d(32, 1, kernel_size=(3, 3), stride=(1, 1), padding=(1, 1))\n",
        "      )\n",
        "      (2): ResBlock(\n",
        "        (conv1): Conv2d(1, 32, kernel_size=(3, 3), stride=(1, 1), padding=(1, 1))\n",
        "        (relu): ReLU()\n",
        "        (conv2): Conv2d(32, 1, kernel_size=(3, 3), stride=(1, 1), padding=(1, 1))\n",
        "      )\n",
        "      (3): Flatten(start_dim=1, end_dim=-1)\n",
        "      (4): Linear(in_features=784, out_features=10, bias=True)\n",
        "      (5): Softmax(dim=None)\n",
        "    )\n",
        "  )\n",
        "```\n",
        "\n",
        "Не всегда большие сети --- это хорошо. Если задача простая, не обязательно использовать модели из `torchvision`\n",
        "```\n",
        "\n",
        "```\n"
      ],
      "metadata": {
        "id": "yP2ojCCAnSCX"
      }
    },
    {
      "cell_type": "markdown",
      "source": [
        "## Высокоуровнкевые фреймворки\n",
        "\n",
        "https://catalyst-team.github.io/catalyst/\n",
        "\n",
        "https://github.com/pytorch/ignite\n",
        "\n",
        "https://github.com/PyTorchLightning/pytorch-lightning\n",
        "\n",
        "\n",
        "\n",
        " **Важно**: аккуратнее в сложных задачах, во фреймворках могут быть баги\n"
      ],
      "metadata": {
        "id": "QBzVPBkN53Js"
      }
    },
    {
      "cell_type": "markdown",
      "source": [
        "# Другие задачи CV"
      ],
      "metadata": {
        "id": "fWRVrn2PseJN"
      }
    },
    {
      "cell_type": "markdown",
      "source": [
        "* [Ноутбук Захаркина Ильи](https://colab.research.google.com/drive/17iJcJkegjb8fRCpDD9j0M6ua7pLlOzpL?usp=sharing)\n",
        "* [Запись сема Захаркина](https://www.youtube.com/watch?v=XSPYe4-y4HE)\n",
        "* [Семантическая сегментация от Татьяны Гайнцевой](https://www.youtube.com/watch?v=tIqndofykgc) (в описании видоса есть ссылки на другие части про сегментацию)\n",
        "\n",
        "\n"
      ],
      "metadata": {
        "id": "PDMPLEbkjCAj"
      }
    },
    {
      "cell_type": "markdown",
      "source": [
        ""
      ],
      "metadata": {
        "id": "hsR8jF-bjB97"
      }
    }
  ]
}