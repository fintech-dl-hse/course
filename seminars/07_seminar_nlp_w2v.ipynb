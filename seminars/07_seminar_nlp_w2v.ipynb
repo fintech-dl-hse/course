{
  "nbformat": 4,
  "nbformat_minor": 0,
  "metadata": {
    "colab": {
      "provenance": [],
      "toc_visible": true
    },
    "kernelspec": {
      "name": "python3",
      "display_name": "Python 3"
    },
    "language_info": {
      "name": "python"
    },
    "widgets": {
      "application/vnd.jupyter.widget-state+json": {
        "69ef74ecdad143878bf08becddab74ac": {
          "model_module": "@jupyter-widgets/controls",
          "model_name": "HBoxModel",
          "model_module_version": "1.5.0",
          "state": {
            "_dom_classes": [],
            "_model_module": "@jupyter-widgets/controls",
            "_model_module_version": "1.5.0",
            "_model_name": "HBoxModel",
            "_view_count": null,
            "_view_module": "@jupyter-widgets/controls",
            "_view_module_version": "1.5.0",
            "_view_name": "HBoxView",
            "box_style": "",
            "children": [
              "IPY_MODEL_b3b04e3244324c22865097c906ba1a4f",
              "IPY_MODEL_671a6405601b40f5b6a5055994a6c639",
              "IPY_MODEL_ba7475243e2140b39d5857d6ad2cf193"
            ],
            "layout": "IPY_MODEL_1f582897811d44cb9f5ffea845ccb300"
          }
        },
        "b3b04e3244324c22865097c906ba1a4f": {
          "model_module": "@jupyter-widgets/controls",
          "model_name": "HTMLModel",
          "model_module_version": "1.5.0",
          "state": {
            "_dom_classes": [],
            "_model_module": "@jupyter-widgets/controls",
            "_model_module_version": "1.5.0",
            "_model_name": "HTMLModel",
            "_view_count": null,
            "_view_module": "@jupyter-widgets/controls",
            "_view_module_version": "1.5.0",
            "_view_name": "HTMLView",
            "description": "",
            "description_tooltip": null,
            "layout": "IPY_MODEL_58b46945740a48d08bc5ab5008c781b7",
            "placeholder": "​",
            "style": "IPY_MODEL_c10dc162646048328b399771168d0e49",
            "value": "tokenizer_config.json: 100%"
          }
        },
        "671a6405601b40f5b6a5055994a6c639": {
          "model_module": "@jupyter-widgets/controls",
          "model_name": "FloatProgressModel",
          "model_module_version": "1.5.0",
          "state": {
            "_dom_classes": [],
            "_model_module": "@jupyter-widgets/controls",
            "_model_module_version": "1.5.0",
            "_model_name": "FloatProgressModel",
            "_view_count": null,
            "_view_module": "@jupyter-widgets/controls",
            "_view_module_version": "1.5.0",
            "_view_name": "ProgressView",
            "bar_style": "success",
            "description": "",
            "description_tooltip": null,
            "layout": "IPY_MODEL_cdb94b4b87d149a6ae3569c97510e678",
            "max": 26,
            "min": 0,
            "orientation": "horizontal",
            "style": "IPY_MODEL_0502824c29124894afe75f34604af510",
            "value": 26
          }
        },
        "ba7475243e2140b39d5857d6ad2cf193": {
          "model_module": "@jupyter-widgets/controls",
          "model_name": "HTMLModel",
          "model_module_version": "1.5.0",
          "state": {
            "_dom_classes": [],
            "_model_module": "@jupyter-widgets/controls",
            "_model_module_version": "1.5.0",
            "_model_name": "HTMLModel",
            "_view_count": null,
            "_view_module": "@jupyter-widgets/controls",
            "_view_module_version": "1.5.0",
            "_view_name": "HTMLView",
            "description": "",
            "description_tooltip": null,
            "layout": "IPY_MODEL_28267454c474442e8d0821e3a1f99756",
            "placeholder": "​",
            "style": "IPY_MODEL_b2cce337c3454c519fd5bd4f525752f7",
            "value": " 26.0/26.0 [00:00&lt;00:00, 353B/s]"
          }
        },
        "1f582897811d44cb9f5ffea845ccb300": {
          "model_module": "@jupyter-widgets/base",
          "model_name": "LayoutModel",
          "model_module_version": "1.2.0",
          "state": {
            "_model_module": "@jupyter-widgets/base",
            "_model_module_version": "1.2.0",
            "_model_name": "LayoutModel",
            "_view_count": null,
            "_view_module": "@jupyter-widgets/base",
            "_view_module_version": "1.2.0",
            "_view_name": "LayoutView",
            "align_content": null,
            "align_items": null,
            "align_self": null,
            "border": null,
            "bottom": null,
            "display": null,
            "flex": null,
            "flex_flow": null,
            "grid_area": null,
            "grid_auto_columns": null,
            "grid_auto_flow": null,
            "grid_auto_rows": null,
            "grid_column": null,
            "grid_gap": null,
            "grid_row": null,
            "grid_template_areas": null,
            "grid_template_columns": null,
            "grid_template_rows": null,
            "height": null,
            "justify_content": null,
            "justify_items": null,
            "left": null,
            "margin": null,
            "max_height": null,
            "max_width": null,
            "min_height": null,
            "min_width": null,
            "object_fit": null,
            "object_position": null,
            "order": null,
            "overflow": null,
            "overflow_x": null,
            "overflow_y": null,
            "padding": null,
            "right": null,
            "top": null,
            "visibility": null,
            "width": null
          }
        },
        "58b46945740a48d08bc5ab5008c781b7": {
          "model_module": "@jupyter-widgets/base",
          "model_name": "LayoutModel",
          "model_module_version": "1.2.0",
          "state": {
            "_model_module": "@jupyter-widgets/base",
            "_model_module_version": "1.2.0",
            "_model_name": "LayoutModel",
            "_view_count": null,
            "_view_module": "@jupyter-widgets/base",
            "_view_module_version": "1.2.0",
            "_view_name": "LayoutView",
            "align_content": null,
            "align_items": null,
            "align_self": null,
            "border": null,
            "bottom": null,
            "display": null,
            "flex": null,
            "flex_flow": null,
            "grid_area": null,
            "grid_auto_columns": null,
            "grid_auto_flow": null,
            "grid_auto_rows": null,
            "grid_column": null,
            "grid_gap": null,
            "grid_row": null,
            "grid_template_areas": null,
            "grid_template_columns": null,
            "grid_template_rows": null,
            "height": null,
            "justify_content": null,
            "justify_items": null,
            "left": null,
            "margin": null,
            "max_height": null,
            "max_width": null,
            "min_height": null,
            "min_width": null,
            "object_fit": null,
            "object_position": null,
            "order": null,
            "overflow": null,
            "overflow_x": null,
            "overflow_y": null,
            "padding": null,
            "right": null,
            "top": null,
            "visibility": null,
            "width": null
          }
        },
        "c10dc162646048328b399771168d0e49": {
          "model_module": "@jupyter-widgets/controls",
          "model_name": "DescriptionStyleModel",
          "model_module_version": "1.5.0",
          "state": {
            "_model_module": "@jupyter-widgets/controls",
            "_model_module_version": "1.5.0",
            "_model_name": "DescriptionStyleModel",
            "_view_count": null,
            "_view_module": "@jupyter-widgets/base",
            "_view_module_version": "1.2.0",
            "_view_name": "StyleView",
            "description_width": ""
          }
        },
        "cdb94b4b87d149a6ae3569c97510e678": {
          "model_module": "@jupyter-widgets/base",
          "model_name": "LayoutModel",
          "model_module_version": "1.2.0",
          "state": {
            "_model_module": "@jupyter-widgets/base",
            "_model_module_version": "1.2.0",
            "_model_name": "LayoutModel",
            "_view_count": null,
            "_view_module": "@jupyter-widgets/base",
            "_view_module_version": "1.2.0",
            "_view_name": "LayoutView",
            "align_content": null,
            "align_items": null,
            "align_self": null,
            "border": null,
            "bottom": null,
            "display": null,
            "flex": null,
            "flex_flow": null,
            "grid_area": null,
            "grid_auto_columns": null,
            "grid_auto_flow": null,
            "grid_auto_rows": null,
            "grid_column": null,
            "grid_gap": null,
            "grid_row": null,
            "grid_template_areas": null,
            "grid_template_columns": null,
            "grid_template_rows": null,
            "height": null,
            "justify_content": null,
            "justify_items": null,
            "left": null,
            "margin": null,
            "max_height": null,
            "max_width": null,
            "min_height": null,
            "min_width": null,
            "object_fit": null,
            "object_position": null,
            "order": null,
            "overflow": null,
            "overflow_x": null,
            "overflow_y": null,
            "padding": null,
            "right": null,
            "top": null,
            "visibility": null,
            "width": null
          }
        },
        "0502824c29124894afe75f34604af510": {
          "model_module": "@jupyter-widgets/controls",
          "model_name": "ProgressStyleModel",
          "model_module_version": "1.5.0",
          "state": {
            "_model_module": "@jupyter-widgets/controls",
            "_model_module_version": "1.5.0",
            "_model_name": "ProgressStyleModel",
            "_view_count": null,
            "_view_module": "@jupyter-widgets/base",
            "_view_module_version": "1.2.0",
            "_view_name": "StyleView",
            "bar_color": null,
            "description_width": ""
          }
        },
        "28267454c474442e8d0821e3a1f99756": {
          "model_module": "@jupyter-widgets/base",
          "model_name": "LayoutModel",
          "model_module_version": "1.2.0",
          "state": {
            "_model_module": "@jupyter-widgets/base",
            "_model_module_version": "1.2.0",
            "_model_name": "LayoutModel",
            "_view_count": null,
            "_view_module": "@jupyter-widgets/base",
            "_view_module_version": "1.2.0",
            "_view_name": "LayoutView",
            "align_content": null,
            "align_items": null,
            "align_self": null,
            "border": null,
            "bottom": null,
            "display": null,
            "flex": null,
            "flex_flow": null,
            "grid_area": null,
            "grid_auto_columns": null,
            "grid_auto_flow": null,
            "grid_auto_rows": null,
            "grid_column": null,
            "grid_gap": null,
            "grid_row": null,
            "grid_template_areas": null,
            "grid_template_columns": null,
            "grid_template_rows": null,
            "height": null,
            "justify_content": null,
            "justify_items": null,
            "left": null,
            "margin": null,
            "max_height": null,
            "max_width": null,
            "min_height": null,
            "min_width": null,
            "object_fit": null,
            "object_position": null,
            "order": null,
            "overflow": null,
            "overflow_x": null,
            "overflow_y": null,
            "padding": null,
            "right": null,
            "top": null,
            "visibility": null,
            "width": null
          }
        },
        "b2cce337c3454c519fd5bd4f525752f7": {
          "model_module": "@jupyter-widgets/controls",
          "model_name": "DescriptionStyleModel",
          "model_module_version": "1.5.0",
          "state": {
            "_model_module": "@jupyter-widgets/controls",
            "_model_module_version": "1.5.0",
            "_model_name": "DescriptionStyleModel",
            "_view_count": null,
            "_view_module": "@jupyter-widgets/base",
            "_view_module_version": "1.2.0",
            "_view_name": "StyleView",
            "description_width": ""
          }
        },
        "ab86081166c54c9980ab0386a162d0de": {
          "model_module": "@jupyter-widgets/controls",
          "model_name": "HBoxModel",
          "model_module_version": "1.5.0",
          "state": {
            "_dom_classes": [],
            "_model_module": "@jupyter-widgets/controls",
            "_model_module_version": "1.5.0",
            "_model_name": "HBoxModel",
            "_view_count": null,
            "_view_module": "@jupyter-widgets/controls",
            "_view_module_version": "1.5.0",
            "_view_name": "HBoxView",
            "box_style": "",
            "children": [
              "IPY_MODEL_9fa167baf48c498786505111bc4cc5e7",
              "IPY_MODEL_3988d04cb4b34624805cd9720dc1315b",
              "IPY_MODEL_807f4ba084224513ae2a5baef6288cde"
            ],
            "layout": "IPY_MODEL_8534ed14eab14975b5f439f56a84a35f"
          }
        },
        "9fa167baf48c498786505111bc4cc5e7": {
          "model_module": "@jupyter-widgets/controls",
          "model_name": "HTMLModel",
          "model_module_version": "1.5.0",
          "state": {
            "_dom_classes": [],
            "_model_module": "@jupyter-widgets/controls",
            "_model_module_version": "1.5.0",
            "_model_name": "HTMLModel",
            "_view_count": null,
            "_view_module": "@jupyter-widgets/controls",
            "_view_module_version": "1.5.0",
            "_view_name": "HTMLView",
            "description": "",
            "description_tooltip": null,
            "layout": "IPY_MODEL_bae75653f8d248cfabd55e5f7ac4bc36",
            "placeholder": "​",
            "style": "IPY_MODEL_0c434cdcd7ae4dd5b17f753af9a683fe",
            "value": "config.json: 100%"
          }
        },
        "3988d04cb4b34624805cd9720dc1315b": {
          "model_module": "@jupyter-widgets/controls",
          "model_name": "FloatProgressModel",
          "model_module_version": "1.5.0",
          "state": {
            "_dom_classes": [],
            "_model_module": "@jupyter-widgets/controls",
            "_model_module_version": "1.5.0",
            "_model_name": "FloatProgressModel",
            "_view_count": null,
            "_view_module": "@jupyter-widgets/controls",
            "_view_module_version": "1.5.0",
            "_view_name": "ProgressView",
            "bar_style": "success",
            "description": "",
            "description_tooltip": null,
            "layout": "IPY_MODEL_57834fe03b1f49dd92f3eb70f5ad5351",
            "max": 665,
            "min": 0,
            "orientation": "horizontal",
            "style": "IPY_MODEL_850cc6687127454cb9c4903b766d5522",
            "value": 665
          }
        },
        "807f4ba084224513ae2a5baef6288cde": {
          "model_module": "@jupyter-widgets/controls",
          "model_name": "HTMLModel",
          "model_module_version": "1.5.0",
          "state": {
            "_dom_classes": [],
            "_model_module": "@jupyter-widgets/controls",
            "_model_module_version": "1.5.0",
            "_model_name": "HTMLModel",
            "_view_count": null,
            "_view_module": "@jupyter-widgets/controls",
            "_view_module_version": "1.5.0",
            "_view_name": "HTMLView",
            "description": "",
            "description_tooltip": null,
            "layout": "IPY_MODEL_a9f0f89be54a49d98ae770810d1361fc",
            "placeholder": "​",
            "style": "IPY_MODEL_92729c9580f0462d93549578d5a8c1ad",
            "value": " 665/665 [00:00&lt;00:00, 11.4kB/s]"
          }
        },
        "8534ed14eab14975b5f439f56a84a35f": {
          "model_module": "@jupyter-widgets/base",
          "model_name": "LayoutModel",
          "model_module_version": "1.2.0",
          "state": {
            "_model_module": "@jupyter-widgets/base",
            "_model_module_version": "1.2.0",
            "_model_name": "LayoutModel",
            "_view_count": null,
            "_view_module": "@jupyter-widgets/base",
            "_view_module_version": "1.2.0",
            "_view_name": "LayoutView",
            "align_content": null,
            "align_items": null,
            "align_self": null,
            "border": null,
            "bottom": null,
            "display": null,
            "flex": null,
            "flex_flow": null,
            "grid_area": null,
            "grid_auto_columns": null,
            "grid_auto_flow": null,
            "grid_auto_rows": null,
            "grid_column": null,
            "grid_gap": null,
            "grid_row": null,
            "grid_template_areas": null,
            "grid_template_columns": null,
            "grid_template_rows": null,
            "height": null,
            "justify_content": null,
            "justify_items": null,
            "left": null,
            "margin": null,
            "max_height": null,
            "max_width": null,
            "min_height": null,
            "min_width": null,
            "object_fit": null,
            "object_position": null,
            "order": null,
            "overflow": null,
            "overflow_x": null,
            "overflow_y": null,
            "padding": null,
            "right": null,
            "top": null,
            "visibility": null,
            "width": null
          }
        },
        "bae75653f8d248cfabd55e5f7ac4bc36": {
          "model_module": "@jupyter-widgets/base",
          "model_name": "LayoutModel",
          "model_module_version": "1.2.0",
          "state": {
            "_model_module": "@jupyter-widgets/base",
            "_model_module_version": "1.2.0",
            "_model_name": "LayoutModel",
            "_view_count": null,
            "_view_module": "@jupyter-widgets/base",
            "_view_module_version": "1.2.0",
            "_view_name": "LayoutView",
            "align_content": null,
            "align_items": null,
            "align_self": null,
            "border": null,
            "bottom": null,
            "display": null,
            "flex": null,
            "flex_flow": null,
            "grid_area": null,
            "grid_auto_columns": null,
            "grid_auto_flow": null,
            "grid_auto_rows": null,
            "grid_column": null,
            "grid_gap": null,
            "grid_row": null,
            "grid_template_areas": null,
            "grid_template_columns": null,
            "grid_template_rows": null,
            "height": null,
            "justify_content": null,
            "justify_items": null,
            "left": null,
            "margin": null,
            "max_height": null,
            "max_width": null,
            "min_height": null,
            "min_width": null,
            "object_fit": null,
            "object_position": null,
            "order": null,
            "overflow": null,
            "overflow_x": null,
            "overflow_y": null,
            "padding": null,
            "right": null,
            "top": null,
            "visibility": null,
            "width": null
          }
        },
        "0c434cdcd7ae4dd5b17f753af9a683fe": {
          "model_module": "@jupyter-widgets/controls",
          "model_name": "DescriptionStyleModel",
          "model_module_version": "1.5.0",
          "state": {
            "_model_module": "@jupyter-widgets/controls",
            "_model_module_version": "1.5.0",
            "_model_name": "DescriptionStyleModel",
            "_view_count": null,
            "_view_module": "@jupyter-widgets/base",
            "_view_module_version": "1.2.0",
            "_view_name": "StyleView",
            "description_width": ""
          }
        },
        "57834fe03b1f49dd92f3eb70f5ad5351": {
          "model_module": "@jupyter-widgets/base",
          "model_name": "LayoutModel",
          "model_module_version": "1.2.0",
          "state": {
            "_model_module": "@jupyter-widgets/base",
            "_model_module_version": "1.2.0",
            "_model_name": "LayoutModel",
            "_view_count": null,
            "_view_module": "@jupyter-widgets/base",
            "_view_module_version": "1.2.0",
            "_view_name": "LayoutView",
            "align_content": null,
            "align_items": null,
            "align_self": null,
            "border": null,
            "bottom": null,
            "display": null,
            "flex": null,
            "flex_flow": null,
            "grid_area": null,
            "grid_auto_columns": null,
            "grid_auto_flow": null,
            "grid_auto_rows": null,
            "grid_column": null,
            "grid_gap": null,
            "grid_row": null,
            "grid_template_areas": null,
            "grid_template_columns": null,
            "grid_template_rows": null,
            "height": null,
            "justify_content": null,
            "justify_items": null,
            "left": null,
            "margin": null,
            "max_height": null,
            "max_width": null,
            "min_height": null,
            "min_width": null,
            "object_fit": null,
            "object_position": null,
            "order": null,
            "overflow": null,
            "overflow_x": null,
            "overflow_y": null,
            "padding": null,
            "right": null,
            "top": null,
            "visibility": null,
            "width": null
          }
        },
        "850cc6687127454cb9c4903b766d5522": {
          "model_module": "@jupyter-widgets/controls",
          "model_name": "ProgressStyleModel",
          "model_module_version": "1.5.0",
          "state": {
            "_model_module": "@jupyter-widgets/controls",
            "_model_module_version": "1.5.0",
            "_model_name": "ProgressStyleModel",
            "_view_count": null,
            "_view_module": "@jupyter-widgets/base",
            "_view_module_version": "1.2.0",
            "_view_name": "StyleView",
            "bar_color": null,
            "description_width": ""
          }
        },
        "a9f0f89be54a49d98ae770810d1361fc": {
          "model_module": "@jupyter-widgets/base",
          "model_name": "LayoutModel",
          "model_module_version": "1.2.0",
          "state": {
            "_model_module": "@jupyter-widgets/base",
            "_model_module_version": "1.2.0",
            "_model_name": "LayoutModel",
            "_view_count": null,
            "_view_module": "@jupyter-widgets/base",
            "_view_module_version": "1.2.0",
            "_view_name": "LayoutView",
            "align_content": null,
            "align_items": null,
            "align_self": null,
            "border": null,
            "bottom": null,
            "display": null,
            "flex": null,
            "flex_flow": null,
            "grid_area": null,
            "grid_auto_columns": null,
            "grid_auto_flow": null,
            "grid_auto_rows": null,
            "grid_column": null,
            "grid_gap": null,
            "grid_row": null,
            "grid_template_areas": null,
            "grid_template_columns": null,
            "grid_template_rows": null,
            "height": null,
            "justify_content": null,
            "justify_items": null,
            "left": null,
            "margin": null,
            "max_height": null,
            "max_width": null,
            "min_height": null,
            "min_width": null,
            "object_fit": null,
            "object_position": null,
            "order": null,
            "overflow": null,
            "overflow_x": null,
            "overflow_y": null,
            "padding": null,
            "right": null,
            "top": null,
            "visibility": null,
            "width": null
          }
        },
        "92729c9580f0462d93549578d5a8c1ad": {
          "model_module": "@jupyter-widgets/controls",
          "model_name": "DescriptionStyleModel",
          "model_module_version": "1.5.0",
          "state": {
            "_model_module": "@jupyter-widgets/controls",
            "_model_module_version": "1.5.0",
            "_model_name": "DescriptionStyleModel",
            "_view_count": null,
            "_view_module": "@jupyter-widgets/base",
            "_view_module_version": "1.2.0",
            "_view_name": "StyleView",
            "description_width": ""
          }
        },
        "3a7d3979460f44e1bf1a59c565e5c53c": {
          "model_module": "@jupyter-widgets/controls",
          "model_name": "HBoxModel",
          "model_module_version": "1.5.0",
          "state": {
            "_dom_classes": [],
            "_model_module": "@jupyter-widgets/controls",
            "_model_module_version": "1.5.0",
            "_model_name": "HBoxModel",
            "_view_count": null,
            "_view_module": "@jupyter-widgets/controls",
            "_view_module_version": "1.5.0",
            "_view_name": "HBoxView",
            "box_style": "",
            "children": [
              "IPY_MODEL_56d095c8e87544fe9bb0e4c5bd6b7aeb",
              "IPY_MODEL_ad82ed2c99a64ce59fdc5def5d730c29",
              "IPY_MODEL_cee62f64688045a7ae134979584ead7d"
            ],
            "layout": "IPY_MODEL_012df7f84a2742ca834fef71faadbd6f"
          }
        },
        "56d095c8e87544fe9bb0e4c5bd6b7aeb": {
          "model_module": "@jupyter-widgets/controls",
          "model_name": "HTMLModel",
          "model_module_version": "1.5.0",
          "state": {
            "_dom_classes": [],
            "_model_module": "@jupyter-widgets/controls",
            "_model_module_version": "1.5.0",
            "_model_name": "HTMLModel",
            "_view_count": null,
            "_view_module": "@jupyter-widgets/controls",
            "_view_module_version": "1.5.0",
            "_view_name": "HTMLView",
            "description": "",
            "description_tooltip": null,
            "layout": "IPY_MODEL_f3b6366fc6b7459ca1295e0946f7cdea",
            "placeholder": "​",
            "style": "IPY_MODEL_c379b44cf405421f805b59fed1225529",
            "value": "vocab.json: 100%"
          }
        },
        "ad82ed2c99a64ce59fdc5def5d730c29": {
          "model_module": "@jupyter-widgets/controls",
          "model_name": "FloatProgressModel",
          "model_module_version": "1.5.0",
          "state": {
            "_dom_classes": [],
            "_model_module": "@jupyter-widgets/controls",
            "_model_module_version": "1.5.0",
            "_model_name": "FloatProgressModel",
            "_view_count": null,
            "_view_module": "@jupyter-widgets/controls",
            "_view_module_version": "1.5.0",
            "_view_name": "ProgressView",
            "bar_style": "success",
            "description": "",
            "description_tooltip": null,
            "layout": "IPY_MODEL_d30d547e864e4e6daf94b8eab8b53a9f",
            "max": 1042301,
            "min": 0,
            "orientation": "horizontal",
            "style": "IPY_MODEL_92afa66a3297485b8faf81462c0cdcdc",
            "value": 1042301
          }
        },
        "cee62f64688045a7ae134979584ead7d": {
          "model_module": "@jupyter-widgets/controls",
          "model_name": "HTMLModel",
          "model_module_version": "1.5.0",
          "state": {
            "_dom_classes": [],
            "_model_module": "@jupyter-widgets/controls",
            "_model_module_version": "1.5.0",
            "_model_name": "HTMLModel",
            "_view_count": null,
            "_view_module": "@jupyter-widgets/controls",
            "_view_module_version": "1.5.0",
            "_view_name": "HTMLView",
            "description": "",
            "description_tooltip": null,
            "layout": "IPY_MODEL_b57526c333574d989f545ad5254c9a45",
            "placeholder": "​",
            "style": "IPY_MODEL_504b0c047ba2405e9e58a2fe871324e5",
            "value": " 1.04M/1.04M [00:00&lt;00:00, 3.81MB/s]"
          }
        },
        "012df7f84a2742ca834fef71faadbd6f": {
          "model_module": "@jupyter-widgets/base",
          "model_name": "LayoutModel",
          "model_module_version": "1.2.0",
          "state": {
            "_model_module": "@jupyter-widgets/base",
            "_model_module_version": "1.2.0",
            "_model_name": "LayoutModel",
            "_view_count": null,
            "_view_module": "@jupyter-widgets/base",
            "_view_module_version": "1.2.0",
            "_view_name": "LayoutView",
            "align_content": null,
            "align_items": null,
            "align_self": null,
            "border": null,
            "bottom": null,
            "display": null,
            "flex": null,
            "flex_flow": null,
            "grid_area": null,
            "grid_auto_columns": null,
            "grid_auto_flow": null,
            "grid_auto_rows": null,
            "grid_column": null,
            "grid_gap": null,
            "grid_row": null,
            "grid_template_areas": null,
            "grid_template_columns": null,
            "grid_template_rows": null,
            "height": null,
            "justify_content": null,
            "justify_items": null,
            "left": null,
            "margin": null,
            "max_height": null,
            "max_width": null,
            "min_height": null,
            "min_width": null,
            "object_fit": null,
            "object_position": null,
            "order": null,
            "overflow": null,
            "overflow_x": null,
            "overflow_y": null,
            "padding": null,
            "right": null,
            "top": null,
            "visibility": null,
            "width": null
          }
        },
        "f3b6366fc6b7459ca1295e0946f7cdea": {
          "model_module": "@jupyter-widgets/base",
          "model_name": "LayoutModel",
          "model_module_version": "1.2.0",
          "state": {
            "_model_module": "@jupyter-widgets/base",
            "_model_module_version": "1.2.0",
            "_model_name": "LayoutModel",
            "_view_count": null,
            "_view_module": "@jupyter-widgets/base",
            "_view_module_version": "1.2.0",
            "_view_name": "LayoutView",
            "align_content": null,
            "align_items": null,
            "align_self": null,
            "border": null,
            "bottom": null,
            "display": null,
            "flex": null,
            "flex_flow": null,
            "grid_area": null,
            "grid_auto_columns": null,
            "grid_auto_flow": null,
            "grid_auto_rows": null,
            "grid_column": null,
            "grid_gap": null,
            "grid_row": null,
            "grid_template_areas": null,
            "grid_template_columns": null,
            "grid_template_rows": null,
            "height": null,
            "justify_content": null,
            "justify_items": null,
            "left": null,
            "margin": null,
            "max_height": null,
            "max_width": null,
            "min_height": null,
            "min_width": null,
            "object_fit": null,
            "object_position": null,
            "order": null,
            "overflow": null,
            "overflow_x": null,
            "overflow_y": null,
            "padding": null,
            "right": null,
            "top": null,
            "visibility": null,
            "width": null
          }
        },
        "c379b44cf405421f805b59fed1225529": {
          "model_module": "@jupyter-widgets/controls",
          "model_name": "DescriptionStyleModel",
          "model_module_version": "1.5.0",
          "state": {
            "_model_module": "@jupyter-widgets/controls",
            "_model_module_version": "1.5.0",
            "_model_name": "DescriptionStyleModel",
            "_view_count": null,
            "_view_module": "@jupyter-widgets/base",
            "_view_module_version": "1.2.0",
            "_view_name": "StyleView",
            "description_width": ""
          }
        },
        "d30d547e864e4e6daf94b8eab8b53a9f": {
          "model_module": "@jupyter-widgets/base",
          "model_name": "LayoutModel",
          "model_module_version": "1.2.0",
          "state": {
            "_model_module": "@jupyter-widgets/base",
            "_model_module_version": "1.2.0",
            "_model_name": "LayoutModel",
            "_view_count": null,
            "_view_module": "@jupyter-widgets/base",
            "_view_module_version": "1.2.0",
            "_view_name": "LayoutView",
            "align_content": null,
            "align_items": null,
            "align_self": null,
            "border": null,
            "bottom": null,
            "display": null,
            "flex": null,
            "flex_flow": null,
            "grid_area": null,
            "grid_auto_columns": null,
            "grid_auto_flow": null,
            "grid_auto_rows": null,
            "grid_column": null,
            "grid_gap": null,
            "grid_row": null,
            "grid_template_areas": null,
            "grid_template_columns": null,
            "grid_template_rows": null,
            "height": null,
            "justify_content": null,
            "justify_items": null,
            "left": null,
            "margin": null,
            "max_height": null,
            "max_width": null,
            "min_height": null,
            "min_width": null,
            "object_fit": null,
            "object_position": null,
            "order": null,
            "overflow": null,
            "overflow_x": null,
            "overflow_y": null,
            "padding": null,
            "right": null,
            "top": null,
            "visibility": null,
            "width": null
          }
        },
        "92afa66a3297485b8faf81462c0cdcdc": {
          "model_module": "@jupyter-widgets/controls",
          "model_name": "ProgressStyleModel",
          "model_module_version": "1.5.0",
          "state": {
            "_model_module": "@jupyter-widgets/controls",
            "_model_module_version": "1.5.0",
            "_model_name": "ProgressStyleModel",
            "_view_count": null,
            "_view_module": "@jupyter-widgets/base",
            "_view_module_version": "1.2.0",
            "_view_name": "StyleView",
            "bar_color": null,
            "description_width": ""
          }
        },
        "b57526c333574d989f545ad5254c9a45": {
          "model_module": "@jupyter-widgets/base",
          "model_name": "LayoutModel",
          "model_module_version": "1.2.0",
          "state": {
            "_model_module": "@jupyter-widgets/base",
            "_model_module_version": "1.2.0",
            "_model_name": "LayoutModel",
            "_view_count": null,
            "_view_module": "@jupyter-widgets/base",
            "_view_module_version": "1.2.0",
            "_view_name": "LayoutView",
            "align_content": null,
            "align_items": null,
            "align_self": null,
            "border": null,
            "bottom": null,
            "display": null,
            "flex": null,
            "flex_flow": null,
            "grid_area": null,
            "grid_auto_columns": null,
            "grid_auto_flow": null,
            "grid_auto_rows": null,
            "grid_column": null,
            "grid_gap": null,
            "grid_row": null,
            "grid_template_areas": null,
            "grid_template_columns": null,
            "grid_template_rows": null,
            "height": null,
            "justify_content": null,
            "justify_items": null,
            "left": null,
            "margin": null,
            "max_height": null,
            "max_width": null,
            "min_height": null,
            "min_width": null,
            "object_fit": null,
            "object_position": null,
            "order": null,
            "overflow": null,
            "overflow_x": null,
            "overflow_y": null,
            "padding": null,
            "right": null,
            "top": null,
            "visibility": null,
            "width": null
          }
        },
        "504b0c047ba2405e9e58a2fe871324e5": {
          "model_module": "@jupyter-widgets/controls",
          "model_name": "DescriptionStyleModel",
          "model_module_version": "1.5.0",
          "state": {
            "_model_module": "@jupyter-widgets/controls",
            "_model_module_version": "1.5.0",
            "_model_name": "DescriptionStyleModel",
            "_view_count": null,
            "_view_module": "@jupyter-widgets/base",
            "_view_module_version": "1.2.0",
            "_view_name": "StyleView",
            "description_width": ""
          }
        },
        "28f944f1cf40465fbebce2d79c9dd178": {
          "model_module": "@jupyter-widgets/controls",
          "model_name": "HBoxModel",
          "model_module_version": "1.5.0",
          "state": {
            "_dom_classes": [],
            "_model_module": "@jupyter-widgets/controls",
            "_model_module_version": "1.5.0",
            "_model_name": "HBoxModel",
            "_view_count": null,
            "_view_module": "@jupyter-widgets/controls",
            "_view_module_version": "1.5.0",
            "_view_name": "HBoxView",
            "box_style": "",
            "children": [
              "IPY_MODEL_d565db5b6d93470f87bc963e83b7292b",
              "IPY_MODEL_8eb6ddd4bd924d1e9769036a78bd436f",
              "IPY_MODEL_1f1d2fba49bb40d1bcdb60b4b07b5031"
            ],
            "layout": "IPY_MODEL_02b6d3e65c7d434ebb6f5e52cb4aa5f4"
          }
        },
        "d565db5b6d93470f87bc963e83b7292b": {
          "model_module": "@jupyter-widgets/controls",
          "model_name": "HTMLModel",
          "model_module_version": "1.5.0",
          "state": {
            "_dom_classes": [],
            "_model_module": "@jupyter-widgets/controls",
            "_model_module_version": "1.5.0",
            "_model_name": "HTMLModel",
            "_view_count": null,
            "_view_module": "@jupyter-widgets/controls",
            "_view_module_version": "1.5.0",
            "_view_name": "HTMLView",
            "description": "",
            "description_tooltip": null,
            "layout": "IPY_MODEL_5deca4f39d704e7a8ddc53d6cfb070c6",
            "placeholder": "​",
            "style": "IPY_MODEL_2890dfeab10749f08f2f6b46c3d6fed7",
            "value": "merges.txt: 100%"
          }
        },
        "8eb6ddd4bd924d1e9769036a78bd436f": {
          "model_module": "@jupyter-widgets/controls",
          "model_name": "FloatProgressModel",
          "model_module_version": "1.5.0",
          "state": {
            "_dom_classes": [],
            "_model_module": "@jupyter-widgets/controls",
            "_model_module_version": "1.5.0",
            "_model_name": "FloatProgressModel",
            "_view_count": null,
            "_view_module": "@jupyter-widgets/controls",
            "_view_module_version": "1.5.0",
            "_view_name": "ProgressView",
            "bar_style": "success",
            "description": "",
            "description_tooltip": null,
            "layout": "IPY_MODEL_768ac32cc01a414d8d2a164757cca610",
            "max": 456318,
            "min": 0,
            "orientation": "horizontal",
            "style": "IPY_MODEL_8bbec78f44644b6e9a8590fddb702dce",
            "value": 456318
          }
        },
        "1f1d2fba49bb40d1bcdb60b4b07b5031": {
          "model_module": "@jupyter-widgets/controls",
          "model_name": "HTMLModel",
          "model_module_version": "1.5.0",
          "state": {
            "_dom_classes": [],
            "_model_module": "@jupyter-widgets/controls",
            "_model_module_version": "1.5.0",
            "_model_name": "HTMLModel",
            "_view_count": null,
            "_view_module": "@jupyter-widgets/controls",
            "_view_module_version": "1.5.0",
            "_view_name": "HTMLView",
            "description": "",
            "description_tooltip": null,
            "layout": "IPY_MODEL_3b22c1aca5cf42c882fab57dca41f350",
            "placeholder": "​",
            "style": "IPY_MODEL_d94c488c0463457386e7f215c9b60072",
            "value": " 456k/456k [00:00&lt;00:00, 16.5MB/s]"
          }
        },
        "02b6d3e65c7d434ebb6f5e52cb4aa5f4": {
          "model_module": "@jupyter-widgets/base",
          "model_name": "LayoutModel",
          "model_module_version": "1.2.0",
          "state": {
            "_model_module": "@jupyter-widgets/base",
            "_model_module_version": "1.2.0",
            "_model_name": "LayoutModel",
            "_view_count": null,
            "_view_module": "@jupyter-widgets/base",
            "_view_module_version": "1.2.0",
            "_view_name": "LayoutView",
            "align_content": null,
            "align_items": null,
            "align_self": null,
            "border": null,
            "bottom": null,
            "display": null,
            "flex": null,
            "flex_flow": null,
            "grid_area": null,
            "grid_auto_columns": null,
            "grid_auto_flow": null,
            "grid_auto_rows": null,
            "grid_column": null,
            "grid_gap": null,
            "grid_row": null,
            "grid_template_areas": null,
            "grid_template_columns": null,
            "grid_template_rows": null,
            "height": null,
            "justify_content": null,
            "justify_items": null,
            "left": null,
            "margin": null,
            "max_height": null,
            "max_width": null,
            "min_height": null,
            "min_width": null,
            "object_fit": null,
            "object_position": null,
            "order": null,
            "overflow": null,
            "overflow_x": null,
            "overflow_y": null,
            "padding": null,
            "right": null,
            "top": null,
            "visibility": null,
            "width": null
          }
        },
        "5deca4f39d704e7a8ddc53d6cfb070c6": {
          "model_module": "@jupyter-widgets/base",
          "model_name": "LayoutModel",
          "model_module_version": "1.2.0",
          "state": {
            "_model_module": "@jupyter-widgets/base",
            "_model_module_version": "1.2.0",
            "_model_name": "LayoutModel",
            "_view_count": null,
            "_view_module": "@jupyter-widgets/base",
            "_view_module_version": "1.2.0",
            "_view_name": "LayoutView",
            "align_content": null,
            "align_items": null,
            "align_self": null,
            "border": null,
            "bottom": null,
            "display": null,
            "flex": null,
            "flex_flow": null,
            "grid_area": null,
            "grid_auto_columns": null,
            "grid_auto_flow": null,
            "grid_auto_rows": null,
            "grid_column": null,
            "grid_gap": null,
            "grid_row": null,
            "grid_template_areas": null,
            "grid_template_columns": null,
            "grid_template_rows": null,
            "height": null,
            "justify_content": null,
            "justify_items": null,
            "left": null,
            "margin": null,
            "max_height": null,
            "max_width": null,
            "min_height": null,
            "min_width": null,
            "object_fit": null,
            "object_position": null,
            "order": null,
            "overflow": null,
            "overflow_x": null,
            "overflow_y": null,
            "padding": null,
            "right": null,
            "top": null,
            "visibility": null,
            "width": null
          }
        },
        "2890dfeab10749f08f2f6b46c3d6fed7": {
          "model_module": "@jupyter-widgets/controls",
          "model_name": "DescriptionStyleModel",
          "model_module_version": "1.5.0",
          "state": {
            "_model_module": "@jupyter-widgets/controls",
            "_model_module_version": "1.5.0",
            "_model_name": "DescriptionStyleModel",
            "_view_count": null,
            "_view_module": "@jupyter-widgets/base",
            "_view_module_version": "1.2.0",
            "_view_name": "StyleView",
            "description_width": ""
          }
        },
        "768ac32cc01a414d8d2a164757cca610": {
          "model_module": "@jupyter-widgets/base",
          "model_name": "LayoutModel",
          "model_module_version": "1.2.0",
          "state": {
            "_model_module": "@jupyter-widgets/base",
            "_model_module_version": "1.2.0",
            "_model_name": "LayoutModel",
            "_view_count": null,
            "_view_module": "@jupyter-widgets/base",
            "_view_module_version": "1.2.0",
            "_view_name": "LayoutView",
            "align_content": null,
            "align_items": null,
            "align_self": null,
            "border": null,
            "bottom": null,
            "display": null,
            "flex": null,
            "flex_flow": null,
            "grid_area": null,
            "grid_auto_columns": null,
            "grid_auto_flow": null,
            "grid_auto_rows": null,
            "grid_column": null,
            "grid_gap": null,
            "grid_row": null,
            "grid_template_areas": null,
            "grid_template_columns": null,
            "grid_template_rows": null,
            "height": null,
            "justify_content": null,
            "justify_items": null,
            "left": null,
            "margin": null,
            "max_height": null,
            "max_width": null,
            "min_height": null,
            "min_width": null,
            "object_fit": null,
            "object_position": null,
            "order": null,
            "overflow": null,
            "overflow_x": null,
            "overflow_y": null,
            "padding": null,
            "right": null,
            "top": null,
            "visibility": null,
            "width": null
          }
        },
        "8bbec78f44644b6e9a8590fddb702dce": {
          "model_module": "@jupyter-widgets/controls",
          "model_name": "ProgressStyleModel",
          "model_module_version": "1.5.0",
          "state": {
            "_model_module": "@jupyter-widgets/controls",
            "_model_module_version": "1.5.0",
            "_model_name": "ProgressStyleModel",
            "_view_count": null,
            "_view_module": "@jupyter-widgets/base",
            "_view_module_version": "1.2.0",
            "_view_name": "StyleView",
            "bar_color": null,
            "description_width": ""
          }
        },
        "3b22c1aca5cf42c882fab57dca41f350": {
          "model_module": "@jupyter-widgets/base",
          "model_name": "LayoutModel",
          "model_module_version": "1.2.0",
          "state": {
            "_model_module": "@jupyter-widgets/base",
            "_model_module_version": "1.2.0",
            "_model_name": "LayoutModel",
            "_view_count": null,
            "_view_module": "@jupyter-widgets/base",
            "_view_module_version": "1.2.0",
            "_view_name": "LayoutView",
            "align_content": null,
            "align_items": null,
            "align_self": null,
            "border": null,
            "bottom": null,
            "display": null,
            "flex": null,
            "flex_flow": null,
            "grid_area": null,
            "grid_auto_columns": null,
            "grid_auto_flow": null,
            "grid_auto_rows": null,
            "grid_column": null,
            "grid_gap": null,
            "grid_row": null,
            "grid_template_areas": null,
            "grid_template_columns": null,
            "grid_template_rows": null,
            "height": null,
            "justify_content": null,
            "justify_items": null,
            "left": null,
            "margin": null,
            "max_height": null,
            "max_width": null,
            "min_height": null,
            "min_width": null,
            "object_fit": null,
            "object_position": null,
            "order": null,
            "overflow": null,
            "overflow_x": null,
            "overflow_y": null,
            "padding": null,
            "right": null,
            "top": null,
            "visibility": null,
            "width": null
          }
        },
        "d94c488c0463457386e7f215c9b60072": {
          "model_module": "@jupyter-widgets/controls",
          "model_name": "DescriptionStyleModel",
          "model_module_version": "1.5.0",
          "state": {
            "_model_module": "@jupyter-widgets/controls",
            "_model_module_version": "1.5.0",
            "_model_name": "DescriptionStyleModel",
            "_view_count": null,
            "_view_module": "@jupyter-widgets/base",
            "_view_module_version": "1.2.0",
            "_view_name": "StyleView",
            "description_width": ""
          }
        },
        "dcbf1fd5b6cb4c68a621678df10e8cc9": {
          "model_module": "@jupyter-widgets/controls",
          "model_name": "HBoxModel",
          "model_module_version": "1.5.0",
          "state": {
            "_dom_classes": [],
            "_model_module": "@jupyter-widgets/controls",
            "_model_module_version": "1.5.0",
            "_model_name": "HBoxModel",
            "_view_count": null,
            "_view_module": "@jupyter-widgets/controls",
            "_view_module_version": "1.5.0",
            "_view_name": "HBoxView",
            "box_style": "",
            "children": [
              "IPY_MODEL_991267e7513d4c359d5d3438d9de1137",
              "IPY_MODEL_ae5e8948fe134b0994986fbba99c8d18",
              "IPY_MODEL_df6d77ca81464ca48b33408d73d38c94"
            ],
            "layout": "IPY_MODEL_e53d4bd4e010405bae0b1e1f1ac12959"
          }
        },
        "991267e7513d4c359d5d3438d9de1137": {
          "model_module": "@jupyter-widgets/controls",
          "model_name": "HTMLModel",
          "model_module_version": "1.5.0",
          "state": {
            "_dom_classes": [],
            "_model_module": "@jupyter-widgets/controls",
            "_model_module_version": "1.5.0",
            "_model_name": "HTMLModel",
            "_view_count": null,
            "_view_module": "@jupyter-widgets/controls",
            "_view_module_version": "1.5.0",
            "_view_name": "HTMLView",
            "description": "",
            "description_tooltip": null,
            "layout": "IPY_MODEL_b740ddbbbca74540a02a4c1f406cfce5",
            "placeholder": "​",
            "style": "IPY_MODEL_5c732e24895a4aa0899d77fa0535754d",
            "value": "tokenizer.json: 100%"
          }
        },
        "ae5e8948fe134b0994986fbba99c8d18": {
          "model_module": "@jupyter-widgets/controls",
          "model_name": "FloatProgressModel",
          "model_module_version": "1.5.0",
          "state": {
            "_dom_classes": [],
            "_model_module": "@jupyter-widgets/controls",
            "_model_module_version": "1.5.0",
            "_model_name": "FloatProgressModel",
            "_view_count": null,
            "_view_module": "@jupyter-widgets/controls",
            "_view_module_version": "1.5.0",
            "_view_name": "ProgressView",
            "bar_style": "success",
            "description": "",
            "description_tooltip": null,
            "layout": "IPY_MODEL_b2e9334f8fcf4698bf548f429b852627",
            "max": 1355256,
            "min": 0,
            "orientation": "horizontal",
            "style": "IPY_MODEL_b8483aef107742b3a2138eae967034b6",
            "value": 1355256
          }
        },
        "df6d77ca81464ca48b33408d73d38c94": {
          "model_module": "@jupyter-widgets/controls",
          "model_name": "HTMLModel",
          "model_module_version": "1.5.0",
          "state": {
            "_dom_classes": [],
            "_model_module": "@jupyter-widgets/controls",
            "_model_module_version": "1.5.0",
            "_model_name": "HTMLModel",
            "_view_count": null,
            "_view_module": "@jupyter-widgets/controls",
            "_view_module_version": "1.5.0",
            "_view_name": "HTMLView",
            "description": "",
            "description_tooltip": null,
            "layout": "IPY_MODEL_89b438223e9b44119e38ce263f24b902",
            "placeholder": "​",
            "style": "IPY_MODEL_ee1bd5651135454c8f492e124de7d539",
            "value": " 1.36M/1.36M [00:00&lt;00:00, 6.97MB/s]"
          }
        },
        "e53d4bd4e010405bae0b1e1f1ac12959": {
          "model_module": "@jupyter-widgets/base",
          "model_name": "LayoutModel",
          "model_module_version": "1.2.0",
          "state": {
            "_model_module": "@jupyter-widgets/base",
            "_model_module_version": "1.2.0",
            "_model_name": "LayoutModel",
            "_view_count": null,
            "_view_module": "@jupyter-widgets/base",
            "_view_module_version": "1.2.0",
            "_view_name": "LayoutView",
            "align_content": null,
            "align_items": null,
            "align_self": null,
            "border": null,
            "bottom": null,
            "display": null,
            "flex": null,
            "flex_flow": null,
            "grid_area": null,
            "grid_auto_columns": null,
            "grid_auto_flow": null,
            "grid_auto_rows": null,
            "grid_column": null,
            "grid_gap": null,
            "grid_row": null,
            "grid_template_areas": null,
            "grid_template_columns": null,
            "grid_template_rows": null,
            "height": null,
            "justify_content": null,
            "justify_items": null,
            "left": null,
            "margin": null,
            "max_height": null,
            "max_width": null,
            "min_height": null,
            "min_width": null,
            "object_fit": null,
            "object_position": null,
            "order": null,
            "overflow": null,
            "overflow_x": null,
            "overflow_y": null,
            "padding": null,
            "right": null,
            "top": null,
            "visibility": null,
            "width": null
          }
        },
        "b740ddbbbca74540a02a4c1f406cfce5": {
          "model_module": "@jupyter-widgets/base",
          "model_name": "LayoutModel",
          "model_module_version": "1.2.0",
          "state": {
            "_model_module": "@jupyter-widgets/base",
            "_model_module_version": "1.2.0",
            "_model_name": "LayoutModel",
            "_view_count": null,
            "_view_module": "@jupyter-widgets/base",
            "_view_module_version": "1.2.0",
            "_view_name": "LayoutView",
            "align_content": null,
            "align_items": null,
            "align_self": null,
            "border": null,
            "bottom": null,
            "display": null,
            "flex": null,
            "flex_flow": null,
            "grid_area": null,
            "grid_auto_columns": null,
            "grid_auto_flow": null,
            "grid_auto_rows": null,
            "grid_column": null,
            "grid_gap": null,
            "grid_row": null,
            "grid_template_areas": null,
            "grid_template_columns": null,
            "grid_template_rows": null,
            "height": null,
            "justify_content": null,
            "justify_items": null,
            "left": null,
            "margin": null,
            "max_height": null,
            "max_width": null,
            "min_height": null,
            "min_width": null,
            "object_fit": null,
            "object_position": null,
            "order": null,
            "overflow": null,
            "overflow_x": null,
            "overflow_y": null,
            "padding": null,
            "right": null,
            "top": null,
            "visibility": null,
            "width": null
          }
        },
        "5c732e24895a4aa0899d77fa0535754d": {
          "model_module": "@jupyter-widgets/controls",
          "model_name": "DescriptionStyleModel",
          "model_module_version": "1.5.0",
          "state": {
            "_model_module": "@jupyter-widgets/controls",
            "_model_module_version": "1.5.0",
            "_model_name": "DescriptionStyleModel",
            "_view_count": null,
            "_view_module": "@jupyter-widgets/base",
            "_view_module_version": "1.2.0",
            "_view_name": "StyleView",
            "description_width": ""
          }
        },
        "b2e9334f8fcf4698bf548f429b852627": {
          "model_module": "@jupyter-widgets/base",
          "model_name": "LayoutModel",
          "model_module_version": "1.2.0",
          "state": {
            "_model_module": "@jupyter-widgets/base",
            "_model_module_version": "1.2.0",
            "_model_name": "LayoutModel",
            "_view_count": null,
            "_view_module": "@jupyter-widgets/base",
            "_view_module_version": "1.2.0",
            "_view_name": "LayoutView",
            "align_content": null,
            "align_items": null,
            "align_self": null,
            "border": null,
            "bottom": null,
            "display": null,
            "flex": null,
            "flex_flow": null,
            "grid_area": null,
            "grid_auto_columns": null,
            "grid_auto_flow": null,
            "grid_auto_rows": null,
            "grid_column": null,
            "grid_gap": null,
            "grid_row": null,
            "grid_template_areas": null,
            "grid_template_columns": null,
            "grid_template_rows": null,
            "height": null,
            "justify_content": null,
            "justify_items": null,
            "left": null,
            "margin": null,
            "max_height": null,
            "max_width": null,
            "min_height": null,
            "min_width": null,
            "object_fit": null,
            "object_position": null,
            "order": null,
            "overflow": null,
            "overflow_x": null,
            "overflow_y": null,
            "padding": null,
            "right": null,
            "top": null,
            "visibility": null,
            "width": null
          }
        },
        "b8483aef107742b3a2138eae967034b6": {
          "model_module": "@jupyter-widgets/controls",
          "model_name": "ProgressStyleModel",
          "model_module_version": "1.5.0",
          "state": {
            "_model_module": "@jupyter-widgets/controls",
            "_model_module_version": "1.5.0",
            "_model_name": "ProgressStyleModel",
            "_view_count": null,
            "_view_module": "@jupyter-widgets/base",
            "_view_module_version": "1.2.0",
            "_view_name": "StyleView",
            "bar_color": null,
            "description_width": ""
          }
        },
        "89b438223e9b44119e38ce263f24b902": {
          "model_module": "@jupyter-widgets/base",
          "model_name": "LayoutModel",
          "model_module_version": "1.2.0",
          "state": {
            "_model_module": "@jupyter-widgets/base",
            "_model_module_version": "1.2.0",
            "_model_name": "LayoutModel",
            "_view_count": null,
            "_view_module": "@jupyter-widgets/base",
            "_view_module_version": "1.2.0",
            "_view_name": "LayoutView",
            "align_content": null,
            "align_items": null,
            "align_self": null,
            "border": null,
            "bottom": null,
            "display": null,
            "flex": null,
            "flex_flow": null,
            "grid_area": null,
            "grid_auto_columns": null,
            "grid_auto_flow": null,
            "grid_auto_rows": null,
            "grid_column": null,
            "grid_gap": null,
            "grid_row": null,
            "grid_template_areas": null,
            "grid_template_columns": null,
            "grid_template_rows": null,
            "height": null,
            "justify_content": null,
            "justify_items": null,
            "left": null,
            "margin": null,
            "max_height": null,
            "max_width": null,
            "min_height": null,
            "min_width": null,
            "object_fit": null,
            "object_position": null,
            "order": null,
            "overflow": null,
            "overflow_x": null,
            "overflow_y": null,
            "padding": null,
            "right": null,
            "top": null,
            "visibility": null,
            "width": null
          }
        },
        "ee1bd5651135454c8f492e124de7d539": {
          "model_module": "@jupyter-widgets/controls",
          "model_name": "DescriptionStyleModel",
          "model_module_version": "1.5.0",
          "state": {
            "_model_module": "@jupyter-widgets/controls",
            "_model_module_version": "1.5.0",
            "_model_name": "DescriptionStyleModel",
            "_view_count": null,
            "_view_module": "@jupyter-widgets/base",
            "_view_module_version": "1.2.0",
            "_view_name": "StyleView",
            "description_width": ""
          }
        },
        "ed94a1273eb64334a64c6b78c802ff49": {
          "model_module": "@jupyter-widgets/controls",
          "model_name": "HBoxModel",
          "model_module_version": "1.5.0",
          "state": {
            "_dom_classes": [],
            "_model_module": "@jupyter-widgets/controls",
            "_model_module_version": "1.5.0",
            "_model_name": "HBoxModel",
            "_view_count": null,
            "_view_module": "@jupyter-widgets/controls",
            "_view_module_version": "1.5.0",
            "_view_name": "HBoxView",
            "box_style": "",
            "children": [
              "IPY_MODEL_99f0c90abeb14c6a80052d9d021da1f1",
              "IPY_MODEL_7c31430d14d64b3b896519ccaefb26cc",
              "IPY_MODEL_af4c7c8c3bae47889ee72a1d3a6b75a1"
            ],
            "layout": "IPY_MODEL_5a27d5156ca747158a74922dc3d2e6ac"
          }
        },
        "99f0c90abeb14c6a80052d9d021da1f1": {
          "model_module": "@jupyter-widgets/controls",
          "model_name": "HTMLModel",
          "model_module_version": "1.5.0",
          "state": {
            "_dom_classes": [],
            "_model_module": "@jupyter-widgets/controls",
            "_model_module_version": "1.5.0",
            "_model_name": "HTMLModel",
            "_view_count": null,
            "_view_module": "@jupyter-widgets/controls",
            "_view_module_version": "1.5.0",
            "_view_name": "HTMLView",
            "description": "",
            "description_tooltip": null,
            "layout": "IPY_MODEL_decc54b95c3c4442b5536ee94344ceef",
            "placeholder": "​",
            "style": "IPY_MODEL_dcecd1b5bc474bde954cfa8601439d41",
            "value": "tokenizer_config.json: 100%"
          }
        },
        "7c31430d14d64b3b896519ccaefb26cc": {
          "model_module": "@jupyter-widgets/controls",
          "model_name": "FloatProgressModel",
          "model_module_version": "1.5.0",
          "state": {
            "_dom_classes": [],
            "_model_module": "@jupyter-widgets/controls",
            "_model_module_version": "1.5.0",
            "_model_name": "FloatProgressModel",
            "_view_count": null,
            "_view_module": "@jupyter-widgets/controls",
            "_view_module_version": "1.5.0",
            "_view_name": "ProgressView",
            "bar_style": "success",
            "description": "",
            "description_tooltip": null,
            "layout": "IPY_MODEL_09e1043ebed843b4b9766d3a5bd811d5",
            "max": 48,
            "min": 0,
            "orientation": "horizontal",
            "style": "IPY_MODEL_786c7648ae4f4487a56988b238e8d4b9",
            "value": 48
          }
        },
        "af4c7c8c3bae47889ee72a1d3a6b75a1": {
          "model_module": "@jupyter-widgets/controls",
          "model_name": "HTMLModel",
          "model_module_version": "1.5.0",
          "state": {
            "_dom_classes": [],
            "_model_module": "@jupyter-widgets/controls",
            "_model_module_version": "1.5.0",
            "_model_name": "HTMLModel",
            "_view_count": null,
            "_view_module": "@jupyter-widgets/controls",
            "_view_module_version": "1.5.0",
            "_view_name": "HTMLView",
            "description": "",
            "description_tooltip": null,
            "layout": "IPY_MODEL_1913b45f34924282a0e12f26a1221877",
            "placeholder": "​",
            "style": "IPY_MODEL_a8bf7226dc724aaf9ffb87296aaf88ae",
            "value": " 48.0/48.0 [00:00&lt;00:00, 575B/s]"
          }
        },
        "5a27d5156ca747158a74922dc3d2e6ac": {
          "model_module": "@jupyter-widgets/base",
          "model_name": "LayoutModel",
          "model_module_version": "1.2.0",
          "state": {
            "_model_module": "@jupyter-widgets/base",
            "_model_module_version": "1.2.0",
            "_model_name": "LayoutModel",
            "_view_count": null,
            "_view_module": "@jupyter-widgets/base",
            "_view_module_version": "1.2.0",
            "_view_name": "LayoutView",
            "align_content": null,
            "align_items": null,
            "align_self": null,
            "border": null,
            "bottom": null,
            "display": null,
            "flex": null,
            "flex_flow": null,
            "grid_area": null,
            "grid_auto_columns": null,
            "grid_auto_flow": null,
            "grid_auto_rows": null,
            "grid_column": null,
            "grid_gap": null,
            "grid_row": null,
            "grid_template_areas": null,
            "grid_template_columns": null,
            "grid_template_rows": null,
            "height": null,
            "justify_content": null,
            "justify_items": null,
            "left": null,
            "margin": null,
            "max_height": null,
            "max_width": null,
            "min_height": null,
            "min_width": null,
            "object_fit": null,
            "object_position": null,
            "order": null,
            "overflow": null,
            "overflow_x": null,
            "overflow_y": null,
            "padding": null,
            "right": null,
            "top": null,
            "visibility": null,
            "width": null
          }
        },
        "decc54b95c3c4442b5536ee94344ceef": {
          "model_module": "@jupyter-widgets/base",
          "model_name": "LayoutModel",
          "model_module_version": "1.2.0",
          "state": {
            "_model_module": "@jupyter-widgets/base",
            "_model_module_version": "1.2.0",
            "_model_name": "LayoutModel",
            "_view_count": null,
            "_view_module": "@jupyter-widgets/base",
            "_view_module_version": "1.2.0",
            "_view_name": "LayoutView",
            "align_content": null,
            "align_items": null,
            "align_self": null,
            "border": null,
            "bottom": null,
            "display": null,
            "flex": null,
            "flex_flow": null,
            "grid_area": null,
            "grid_auto_columns": null,
            "grid_auto_flow": null,
            "grid_auto_rows": null,
            "grid_column": null,
            "grid_gap": null,
            "grid_row": null,
            "grid_template_areas": null,
            "grid_template_columns": null,
            "grid_template_rows": null,
            "height": null,
            "justify_content": null,
            "justify_items": null,
            "left": null,
            "margin": null,
            "max_height": null,
            "max_width": null,
            "min_height": null,
            "min_width": null,
            "object_fit": null,
            "object_position": null,
            "order": null,
            "overflow": null,
            "overflow_x": null,
            "overflow_y": null,
            "padding": null,
            "right": null,
            "top": null,
            "visibility": null,
            "width": null
          }
        },
        "dcecd1b5bc474bde954cfa8601439d41": {
          "model_module": "@jupyter-widgets/controls",
          "model_name": "DescriptionStyleModel",
          "model_module_version": "1.5.0",
          "state": {
            "_model_module": "@jupyter-widgets/controls",
            "_model_module_version": "1.5.0",
            "_model_name": "DescriptionStyleModel",
            "_view_count": null,
            "_view_module": "@jupyter-widgets/base",
            "_view_module_version": "1.2.0",
            "_view_name": "StyleView",
            "description_width": ""
          }
        },
        "09e1043ebed843b4b9766d3a5bd811d5": {
          "model_module": "@jupyter-widgets/base",
          "model_name": "LayoutModel",
          "model_module_version": "1.2.0",
          "state": {
            "_model_module": "@jupyter-widgets/base",
            "_model_module_version": "1.2.0",
            "_model_name": "LayoutModel",
            "_view_count": null,
            "_view_module": "@jupyter-widgets/base",
            "_view_module_version": "1.2.0",
            "_view_name": "LayoutView",
            "align_content": null,
            "align_items": null,
            "align_self": null,
            "border": null,
            "bottom": null,
            "display": null,
            "flex": null,
            "flex_flow": null,
            "grid_area": null,
            "grid_auto_columns": null,
            "grid_auto_flow": null,
            "grid_auto_rows": null,
            "grid_column": null,
            "grid_gap": null,
            "grid_row": null,
            "grid_template_areas": null,
            "grid_template_columns": null,
            "grid_template_rows": null,
            "height": null,
            "justify_content": null,
            "justify_items": null,
            "left": null,
            "margin": null,
            "max_height": null,
            "max_width": null,
            "min_height": null,
            "min_width": null,
            "object_fit": null,
            "object_position": null,
            "order": null,
            "overflow": null,
            "overflow_x": null,
            "overflow_y": null,
            "padding": null,
            "right": null,
            "top": null,
            "visibility": null,
            "width": null
          }
        },
        "786c7648ae4f4487a56988b238e8d4b9": {
          "model_module": "@jupyter-widgets/controls",
          "model_name": "ProgressStyleModel",
          "model_module_version": "1.5.0",
          "state": {
            "_model_module": "@jupyter-widgets/controls",
            "_model_module_version": "1.5.0",
            "_model_name": "ProgressStyleModel",
            "_view_count": null,
            "_view_module": "@jupyter-widgets/base",
            "_view_module_version": "1.2.0",
            "_view_name": "StyleView",
            "bar_color": null,
            "description_width": ""
          }
        },
        "1913b45f34924282a0e12f26a1221877": {
          "model_module": "@jupyter-widgets/base",
          "model_name": "LayoutModel",
          "model_module_version": "1.2.0",
          "state": {
            "_model_module": "@jupyter-widgets/base",
            "_model_module_version": "1.2.0",
            "_model_name": "LayoutModel",
            "_view_count": null,
            "_view_module": "@jupyter-widgets/base",
            "_view_module_version": "1.2.0",
            "_view_name": "LayoutView",
            "align_content": null,
            "align_items": null,
            "align_self": null,
            "border": null,
            "bottom": null,
            "display": null,
            "flex": null,
            "flex_flow": null,
            "grid_area": null,
            "grid_auto_columns": null,
            "grid_auto_flow": null,
            "grid_auto_rows": null,
            "grid_column": null,
            "grid_gap": null,
            "grid_row": null,
            "grid_template_areas": null,
            "grid_template_columns": null,
            "grid_template_rows": null,
            "height": null,
            "justify_content": null,
            "justify_items": null,
            "left": null,
            "margin": null,
            "max_height": null,
            "max_width": null,
            "min_height": null,
            "min_width": null,
            "object_fit": null,
            "object_position": null,
            "order": null,
            "overflow": null,
            "overflow_x": null,
            "overflow_y": null,
            "padding": null,
            "right": null,
            "top": null,
            "visibility": null,
            "width": null
          }
        },
        "a8bf7226dc724aaf9ffb87296aaf88ae": {
          "model_module": "@jupyter-widgets/controls",
          "model_name": "DescriptionStyleModel",
          "model_module_version": "1.5.0",
          "state": {
            "_model_module": "@jupyter-widgets/controls",
            "_model_module_version": "1.5.0",
            "_model_name": "DescriptionStyleModel",
            "_view_count": null,
            "_view_module": "@jupyter-widgets/base",
            "_view_module_version": "1.2.0",
            "_view_name": "StyleView",
            "description_width": ""
          }
        },
        "3a439063adc54f968fa0a58f5b0116fe": {
          "model_module": "@jupyter-widgets/controls",
          "model_name": "HBoxModel",
          "model_module_version": "1.5.0",
          "state": {
            "_dom_classes": [],
            "_model_module": "@jupyter-widgets/controls",
            "_model_module_version": "1.5.0",
            "_model_name": "HBoxModel",
            "_view_count": null,
            "_view_module": "@jupyter-widgets/controls",
            "_view_module_version": "1.5.0",
            "_view_name": "HBoxView",
            "box_style": "",
            "children": [
              "IPY_MODEL_d9f26e28f1f84fd88fece42ed7af68cc",
              "IPY_MODEL_f040bfe1309f4f488a5d08d063f07e17",
              "IPY_MODEL_ec0d3f7f000d48c1ad5078a17acd35cd"
            ],
            "layout": "IPY_MODEL_90471aa66f424a34903fa793c35e7a11"
          }
        },
        "d9f26e28f1f84fd88fece42ed7af68cc": {
          "model_module": "@jupyter-widgets/controls",
          "model_name": "HTMLModel",
          "model_module_version": "1.5.0",
          "state": {
            "_dom_classes": [],
            "_model_module": "@jupyter-widgets/controls",
            "_model_module_version": "1.5.0",
            "_model_name": "HTMLModel",
            "_view_count": null,
            "_view_module": "@jupyter-widgets/controls",
            "_view_module_version": "1.5.0",
            "_view_name": "HTMLView",
            "description": "",
            "description_tooltip": null,
            "layout": "IPY_MODEL_9931299884814a18a3889483d1181e59",
            "placeholder": "​",
            "style": "IPY_MODEL_d5ab984cf752483286232ecdab4199c2",
            "value": "config.json: 100%"
          }
        },
        "f040bfe1309f4f488a5d08d063f07e17": {
          "model_module": "@jupyter-widgets/controls",
          "model_name": "FloatProgressModel",
          "model_module_version": "1.5.0",
          "state": {
            "_dom_classes": [],
            "_model_module": "@jupyter-widgets/controls",
            "_model_module_version": "1.5.0",
            "_model_name": "FloatProgressModel",
            "_view_count": null,
            "_view_module": "@jupyter-widgets/controls",
            "_view_module_version": "1.5.0",
            "_view_name": "ProgressView",
            "bar_style": "success",
            "description": "",
            "description_tooltip": null,
            "layout": "IPY_MODEL_8696abfe5b78442b9309269c5f7522cf",
            "max": 570,
            "min": 0,
            "orientation": "horizontal",
            "style": "IPY_MODEL_5bdc40211d9746198c381347a0d1653b",
            "value": 570
          }
        },
        "ec0d3f7f000d48c1ad5078a17acd35cd": {
          "model_module": "@jupyter-widgets/controls",
          "model_name": "HTMLModel",
          "model_module_version": "1.5.0",
          "state": {
            "_dom_classes": [],
            "_model_module": "@jupyter-widgets/controls",
            "_model_module_version": "1.5.0",
            "_model_name": "HTMLModel",
            "_view_count": null,
            "_view_module": "@jupyter-widgets/controls",
            "_view_module_version": "1.5.0",
            "_view_name": "HTMLView",
            "description": "",
            "description_tooltip": null,
            "layout": "IPY_MODEL_c944436de35840f2a723722c1830db16",
            "placeholder": "​",
            "style": "IPY_MODEL_f0b1f1ea08404e0b983d5b19e5d02d97",
            "value": " 570/570 [00:00&lt;00:00, 4.22kB/s]"
          }
        },
        "90471aa66f424a34903fa793c35e7a11": {
          "model_module": "@jupyter-widgets/base",
          "model_name": "LayoutModel",
          "model_module_version": "1.2.0",
          "state": {
            "_model_module": "@jupyter-widgets/base",
            "_model_module_version": "1.2.0",
            "_model_name": "LayoutModel",
            "_view_count": null,
            "_view_module": "@jupyter-widgets/base",
            "_view_module_version": "1.2.0",
            "_view_name": "LayoutView",
            "align_content": null,
            "align_items": null,
            "align_self": null,
            "border": null,
            "bottom": null,
            "display": null,
            "flex": null,
            "flex_flow": null,
            "grid_area": null,
            "grid_auto_columns": null,
            "grid_auto_flow": null,
            "grid_auto_rows": null,
            "grid_column": null,
            "grid_gap": null,
            "grid_row": null,
            "grid_template_areas": null,
            "grid_template_columns": null,
            "grid_template_rows": null,
            "height": null,
            "justify_content": null,
            "justify_items": null,
            "left": null,
            "margin": null,
            "max_height": null,
            "max_width": null,
            "min_height": null,
            "min_width": null,
            "object_fit": null,
            "object_position": null,
            "order": null,
            "overflow": null,
            "overflow_x": null,
            "overflow_y": null,
            "padding": null,
            "right": null,
            "top": null,
            "visibility": null,
            "width": null
          }
        },
        "9931299884814a18a3889483d1181e59": {
          "model_module": "@jupyter-widgets/base",
          "model_name": "LayoutModel",
          "model_module_version": "1.2.0",
          "state": {
            "_model_module": "@jupyter-widgets/base",
            "_model_module_version": "1.2.0",
            "_model_name": "LayoutModel",
            "_view_count": null,
            "_view_module": "@jupyter-widgets/base",
            "_view_module_version": "1.2.0",
            "_view_name": "LayoutView",
            "align_content": null,
            "align_items": null,
            "align_self": null,
            "border": null,
            "bottom": null,
            "display": null,
            "flex": null,
            "flex_flow": null,
            "grid_area": null,
            "grid_auto_columns": null,
            "grid_auto_flow": null,
            "grid_auto_rows": null,
            "grid_column": null,
            "grid_gap": null,
            "grid_row": null,
            "grid_template_areas": null,
            "grid_template_columns": null,
            "grid_template_rows": null,
            "height": null,
            "justify_content": null,
            "justify_items": null,
            "left": null,
            "margin": null,
            "max_height": null,
            "max_width": null,
            "min_height": null,
            "min_width": null,
            "object_fit": null,
            "object_position": null,
            "order": null,
            "overflow": null,
            "overflow_x": null,
            "overflow_y": null,
            "padding": null,
            "right": null,
            "top": null,
            "visibility": null,
            "width": null
          }
        },
        "d5ab984cf752483286232ecdab4199c2": {
          "model_module": "@jupyter-widgets/controls",
          "model_name": "DescriptionStyleModel",
          "model_module_version": "1.5.0",
          "state": {
            "_model_module": "@jupyter-widgets/controls",
            "_model_module_version": "1.5.0",
            "_model_name": "DescriptionStyleModel",
            "_view_count": null,
            "_view_module": "@jupyter-widgets/base",
            "_view_module_version": "1.2.0",
            "_view_name": "StyleView",
            "description_width": ""
          }
        },
        "8696abfe5b78442b9309269c5f7522cf": {
          "model_module": "@jupyter-widgets/base",
          "model_name": "LayoutModel",
          "model_module_version": "1.2.0",
          "state": {
            "_model_module": "@jupyter-widgets/base",
            "_model_module_version": "1.2.0",
            "_model_name": "LayoutModel",
            "_view_count": null,
            "_view_module": "@jupyter-widgets/base",
            "_view_module_version": "1.2.0",
            "_view_name": "LayoutView",
            "align_content": null,
            "align_items": null,
            "align_self": null,
            "border": null,
            "bottom": null,
            "display": null,
            "flex": null,
            "flex_flow": null,
            "grid_area": null,
            "grid_auto_columns": null,
            "grid_auto_flow": null,
            "grid_auto_rows": null,
            "grid_column": null,
            "grid_gap": null,
            "grid_row": null,
            "grid_template_areas": null,
            "grid_template_columns": null,
            "grid_template_rows": null,
            "height": null,
            "justify_content": null,
            "justify_items": null,
            "left": null,
            "margin": null,
            "max_height": null,
            "max_width": null,
            "min_height": null,
            "min_width": null,
            "object_fit": null,
            "object_position": null,
            "order": null,
            "overflow": null,
            "overflow_x": null,
            "overflow_y": null,
            "padding": null,
            "right": null,
            "top": null,
            "visibility": null,
            "width": null
          }
        },
        "5bdc40211d9746198c381347a0d1653b": {
          "model_module": "@jupyter-widgets/controls",
          "model_name": "ProgressStyleModel",
          "model_module_version": "1.5.0",
          "state": {
            "_model_module": "@jupyter-widgets/controls",
            "_model_module_version": "1.5.0",
            "_model_name": "ProgressStyleModel",
            "_view_count": null,
            "_view_module": "@jupyter-widgets/base",
            "_view_module_version": "1.2.0",
            "_view_name": "StyleView",
            "bar_color": null,
            "description_width": ""
          }
        },
        "c944436de35840f2a723722c1830db16": {
          "model_module": "@jupyter-widgets/base",
          "model_name": "LayoutModel",
          "model_module_version": "1.2.0",
          "state": {
            "_model_module": "@jupyter-widgets/base",
            "_model_module_version": "1.2.0",
            "_model_name": "LayoutModel",
            "_view_count": null,
            "_view_module": "@jupyter-widgets/base",
            "_view_module_version": "1.2.0",
            "_view_name": "LayoutView",
            "align_content": null,
            "align_items": null,
            "align_self": null,
            "border": null,
            "bottom": null,
            "display": null,
            "flex": null,
            "flex_flow": null,
            "grid_area": null,
            "grid_auto_columns": null,
            "grid_auto_flow": null,
            "grid_auto_rows": null,
            "grid_column": null,
            "grid_gap": null,
            "grid_row": null,
            "grid_template_areas": null,
            "grid_template_columns": null,
            "grid_template_rows": null,
            "height": null,
            "justify_content": null,
            "justify_items": null,
            "left": null,
            "margin": null,
            "max_height": null,
            "max_width": null,
            "min_height": null,
            "min_width": null,
            "object_fit": null,
            "object_position": null,
            "order": null,
            "overflow": null,
            "overflow_x": null,
            "overflow_y": null,
            "padding": null,
            "right": null,
            "top": null,
            "visibility": null,
            "width": null
          }
        },
        "f0b1f1ea08404e0b983d5b19e5d02d97": {
          "model_module": "@jupyter-widgets/controls",
          "model_name": "DescriptionStyleModel",
          "model_module_version": "1.5.0",
          "state": {
            "_model_module": "@jupyter-widgets/controls",
            "_model_module_version": "1.5.0",
            "_model_name": "DescriptionStyleModel",
            "_view_count": null,
            "_view_module": "@jupyter-widgets/base",
            "_view_module_version": "1.2.0",
            "_view_name": "StyleView",
            "description_width": ""
          }
        },
        "e801f9dd76d14e52b7203a2057cb7828": {
          "model_module": "@jupyter-widgets/controls",
          "model_name": "HBoxModel",
          "model_module_version": "1.5.0",
          "state": {
            "_dom_classes": [],
            "_model_module": "@jupyter-widgets/controls",
            "_model_module_version": "1.5.0",
            "_model_name": "HBoxModel",
            "_view_count": null,
            "_view_module": "@jupyter-widgets/controls",
            "_view_module_version": "1.5.0",
            "_view_name": "HBoxView",
            "box_style": "",
            "children": [
              "IPY_MODEL_7f6c3087583a43ca8175e1ad6190e432",
              "IPY_MODEL_ce6925031265487b943a9dc64684dc07",
              "IPY_MODEL_a7c27b943837479fabea01e1002c1e84"
            ],
            "layout": "IPY_MODEL_056700f93494451083de39c813aadf3b"
          }
        },
        "7f6c3087583a43ca8175e1ad6190e432": {
          "model_module": "@jupyter-widgets/controls",
          "model_name": "HTMLModel",
          "model_module_version": "1.5.0",
          "state": {
            "_dom_classes": [],
            "_model_module": "@jupyter-widgets/controls",
            "_model_module_version": "1.5.0",
            "_model_name": "HTMLModel",
            "_view_count": null,
            "_view_module": "@jupyter-widgets/controls",
            "_view_module_version": "1.5.0",
            "_view_name": "HTMLView",
            "description": "",
            "description_tooltip": null,
            "layout": "IPY_MODEL_c0fa46a09efd4de4b02e7552c32d7265",
            "placeholder": "​",
            "style": "IPY_MODEL_8f66d6ef2f464671b4cf6d222dae0dcd",
            "value": "vocab.txt: 100%"
          }
        },
        "ce6925031265487b943a9dc64684dc07": {
          "model_module": "@jupyter-widgets/controls",
          "model_name": "FloatProgressModel",
          "model_module_version": "1.5.0",
          "state": {
            "_dom_classes": [],
            "_model_module": "@jupyter-widgets/controls",
            "_model_module_version": "1.5.0",
            "_model_name": "FloatProgressModel",
            "_view_count": null,
            "_view_module": "@jupyter-widgets/controls",
            "_view_module_version": "1.5.0",
            "_view_name": "ProgressView",
            "bar_style": "success",
            "description": "",
            "description_tooltip": null,
            "layout": "IPY_MODEL_06f9ca46fc0249a8883f4fd04f11b0db",
            "max": 231508,
            "min": 0,
            "orientation": "horizontal",
            "style": "IPY_MODEL_215518b8d172435c9686b9039873f4f0",
            "value": 231508
          }
        },
        "a7c27b943837479fabea01e1002c1e84": {
          "model_module": "@jupyter-widgets/controls",
          "model_name": "HTMLModel",
          "model_module_version": "1.5.0",
          "state": {
            "_dom_classes": [],
            "_model_module": "@jupyter-widgets/controls",
            "_model_module_version": "1.5.0",
            "_model_name": "HTMLModel",
            "_view_count": null,
            "_view_module": "@jupyter-widgets/controls",
            "_view_module_version": "1.5.0",
            "_view_name": "HTMLView",
            "description": "",
            "description_tooltip": null,
            "layout": "IPY_MODEL_3581658d8d574d69a8f66b5665c60f77",
            "placeholder": "​",
            "style": "IPY_MODEL_1421fd452540461f976e2e896e7b61e5",
            "value": " 232k/232k [00:00&lt;00:00, 2.39MB/s]"
          }
        },
        "056700f93494451083de39c813aadf3b": {
          "model_module": "@jupyter-widgets/base",
          "model_name": "LayoutModel",
          "model_module_version": "1.2.0",
          "state": {
            "_model_module": "@jupyter-widgets/base",
            "_model_module_version": "1.2.0",
            "_model_name": "LayoutModel",
            "_view_count": null,
            "_view_module": "@jupyter-widgets/base",
            "_view_module_version": "1.2.0",
            "_view_name": "LayoutView",
            "align_content": null,
            "align_items": null,
            "align_self": null,
            "border": null,
            "bottom": null,
            "display": null,
            "flex": null,
            "flex_flow": null,
            "grid_area": null,
            "grid_auto_columns": null,
            "grid_auto_flow": null,
            "grid_auto_rows": null,
            "grid_column": null,
            "grid_gap": null,
            "grid_row": null,
            "grid_template_areas": null,
            "grid_template_columns": null,
            "grid_template_rows": null,
            "height": null,
            "justify_content": null,
            "justify_items": null,
            "left": null,
            "margin": null,
            "max_height": null,
            "max_width": null,
            "min_height": null,
            "min_width": null,
            "object_fit": null,
            "object_position": null,
            "order": null,
            "overflow": null,
            "overflow_x": null,
            "overflow_y": null,
            "padding": null,
            "right": null,
            "top": null,
            "visibility": null,
            "width": null
          }
        },
        "c0fa46a09efd4de4b02e7552c32d7265": {
          "model_module": "@jupyter-widgets/base",
          "model_name": "LayoutModel",
          "model_module_version": "1.2.0",
          "state": {
            "_model_module": "@jupyter-widgets/base",
            "_model_module_version": "1.2.0",
            "_model_name": "LayoutModel",
            "_view_count": null,
            "_view_module": "@jupyter-widgets/base",
            "_view_module_version": "1.2.0",
            "_view_name": "LayoutView",
            "align_content": null,
            "align_items": null,
            "align_self": null,
            "border": null,
            "bottom": null,
            "display": null,
            "flex": null,
            "flex_flow": null,
            "grid_area": null,
            "grid_auto_columns": null,
            "grid_auto_flow": null,
            "grid_auto_rows": null,
            "grid_column": null,
            "grid_gap": null,
            "grid_row": null,
            "grid_template_areas": null,
            "grid_template_columns": null,
            "grid_template_rows": null,
            "height": null,
            "justify_content": null,
            "justify_items": null,
            "left": null,
            "margin": null,
            "max_height": null,
            "max_width": null,
            "min_height": null,
            "min_width": null,
            "object_fit": null,
            "object_position": null,
            "order": null,
            "overflow": null,
            "overflow_x": null,
            "overflow_y": null,
            "padding": null,
            "right": null,
            "top": null,
            "visibility": null,
            "width": null
          }
        },
        "8f66d6ef2f464671b4cf6d222dae0dcd": {
          "model_module": "@jupyter-widgets/controls",
          "model_name": "DescriptionStyleModel",
          "model_module_version": "1.5.0",
          "state": {
            "_model_module": "@jupyter-widgets/controls",
            "_model_module_version": "1.5.0",
            "_model_name": "DescriptionStyleModel",
            "_view_count": null,
            "_view_module": "@jupyter-widgets/base",
            "_view_module_version": "1.2.0",
            "_view_name": "StyleView",
            "description_width": ""
          }
        },
        "06f9ca46fc0249a8883f4fd04f11b0db": {
          "model_module": "@jupyter-widgets/base",
          "model_name": "LayoutModel",
          "model_module_version": "1.2.0",
          "state": {
            "_model_module": "@jupyter-widgets/base",
            "_model_module_version": "1.2.0",
            "_model_name": "LayoutModel",
            "_view_count": null,
            "_view_module": "@jupyter-widgets/base",
            "_view_module_version": "1.2.0",
            "_view_name": "LayoutView",
            "align_content": null,
            "align_items": null,
            "align_self": null,
            "border": null,
            "bottom": null,
            "display": null,
            "flex": null,
            "flex_flow": null,
            "grid_area": null,
            "grid_auto_columns": null,
            "grid_auto_flow": null,
            "grid_auto_rows": null,
            "grid_column": null,
            "grid_gap": null,
            "grid_row": null,
            "grid_template_areas": null,
            "grid_template_columns": null,
            "grid_template_rows": null,
            "height": null,
            "justify_content": null,
            "justify_items": null,
            "left": null,
            "margin": null,
            "max_height": null,
            "max_width": null,
            "min_height": null,
            "min_width": null,
            "object_fit": null,
            "object_position": null,
            "order": null,
            "overflow": null,
            "overflow_x": null,
            "overflow_y": null,
            "padding": null,
            "right": null,
            "top": null,
            "visibility": null,
            "width": null
          }
        },
        "215518b8d172435c9686b9039873f4f0": {
          "model_module": "@jupyter-widgets/controls",
          "model_name": "ProgressStyleModel",
          "model_module_version": "1.5.0",
          "state": {
            "_model_module": "@jupyter-widgets/controls",
            "_model_module_version": "1.5.0",
            "_model_name": "ProgressStyleModel",
            "_view_count": null,
            "_view_module": "@jupyter-widgets/base",
            "_view_module_version": "1.2.0",
            "_view_name": "StyleView",
            "bar_color": null,
            "description_width": ""
          }
        },
        "3581658d8d574d69a8f66b5665c60f77": {
          "model_module": "@jupyter-widgets/base",
          "model_name": "LayoutModel",
          "model_module_version": "1.2.0",
          "state": {
            "_model_module": "@jupyter-widgets/base",
            "_model_module_version": "1.2.0",
            "_model_name": "LayoutModel",
            "_view_count": null,
            "_view_module": "@jupyter-widgets/base",
            "_view_module_version": "1.2.0",
            "_view_name": "LayoutView",
            "align_content": null,
            "align_items": null,
            "align_self": null,
            "border": null,
            "bottom": null,
            "display": null,
            "flex": null,
            "flex_flow": null,
            "grid_area": null,
            "grid_auto_columns": null,
            "grid_auto_flow": null,
            "grid_auto_rows": null,
            "grid_column": null,
            "grid_gap": null,
            "grid_row": null,
            "grid_template_areas": null,
            "grid_template_columns": null,
            "grid_template_rows": null,
            "height": null,
            "justify_content": null,
            "justify_items": null,
            "left": null,
            "margin": null,
            "max_height": null,
            "max_width": null,
            "min_height": null,
            "min_width": null,
            "object_fit": null,
            "object_position": null,
            "order": null,
            "overflow": null,
            "overflow_x": null,
            "overflow_y": null,
            "padding": null,
            "right": null,
            "top": null,
            "visibility": null,
            "width": null
          }
        },
        "1421fd452540461f976e2e896e7b61e5": {
          "model_module": "@jupyter-widgets/controls",
          "model_name": "DescriptionStyleModel",
          "model_module_version": "1.5.0",
          "state": {
            "_model_module": "@jupyter-widgets/controls",
            "_model_module_version": "1.5.0",
            "_model_name": "DescriptionStyleModel",
            "_view_count": null,
            "_view_module": "@jupyter-widgets/base",
            "_view_module_version": "1.2.0",
            "_view_name": "StyleView",
            "description_width": ""
          }
        },
        "58b0eca38a344c86aab760b70871eb26": {
          "model_module": "@jupyter-widgets/controls",
          "model_name": "HBoxModel",
          "model_module_version": "1.5.0",
          "state": {
            "_dom_classes": [],
            "_model_module": "@jupyter-widgets/controls",
            "_model_module_version": "1.5.0",
            "_model_name": "HBoxModel",
            "_view_count": null,
            "_view_module": "@jupyter-widgets/controls",
            "_view_module_version": "1.5.0",
            "_view_name": "HBoxView",
            "box_style": "",
            "children": [
              "IPY_MODEL_fece256d7e7f49fa8006d078b91be1ab",
              "IPY_MODEL_46319610755242c4b697191a557660e8",
              "IPY_MODEL_696f60751d7f461e974086149ae02d61"
            ],
            "layout": "IPY_MODEL_90884f54981343048e8821eb4690a306"
          }
        },
        "fece256d7e7f49fa8006d078b91be1ab": {
          "model_module": "@jupyter-widgets/controls",
          "model_name": "HTMLModel",
          "model_module_version": "1.5.0",
          "state": {
            "_dom_classes": [],
            "_model_module": "@jupyter-widgets/controls",
            "_model_module_version": "1.5.0",
            "_model_name": "HTMLModel",
            "_view_count": null,
            "_view_module": "@jupyter-widgets/controls",
            "_view_module_version": "1.5.0",
            "_view_name": "HTMLView",
            "description": "",
            "description_tooltip": null,
            "layout": "IPY_MODEL_2b7d1e75bb4245cabab015e1ee168d69",
            "placeholder": "​",
            "style": "IPY_MODEL_c237892eb08c4314a1ca682f8ed351c3",
            "value": "tokenizer.json: 100%"
          }
        },
        "46319610755242c4b697191a557660e8": {
          "model_module": "@jupyter-widgets/controls",
          "model_name": "FloatProgressModel",
          "model_module_version": "1.5.0",
          "state": {
            "_dom_classes": [],
            "_model_module": "@jupyter-widgets/controls",
            "_model_module_version": "1.5.0",
            "_model_name": "FloatProgressModel",
            "_view_count": null,
            "_view_module": "@jupyter-widgets/controls",
            "_view_module_version": "1.5.0",
            "_view_name": "ProgressView",
            "bar_style": "success",
            "description": "",
            "description_tooltip": null,
            "layout": "IPY_MODEL_67151f1522384aaeaa8e7212ffd720d8",
            "max": 466062,
            "min": 0,
            "orientation": "horizontal",
            "style": "IPY_MODEL_1f18c6eae02c454f8319f8fab0d2ad2c",
            "value": 466062
          }
        },
        "696f60751d7f461e974086149ae02d61": {
          "model_module": "@jupyter-widgets/controls",
          "model_name": "HTMLModel",
          "model_module_version": "1.5.0",
          "state": {
            "_dom_classes": [],
            "_model_module": "@jupyter-widgets/controls",
            "_model_module_version": "1.5.0",
            "_model_name": "HTMLModel",
            "_view_count": null,
            "_view_module": "@jupyter-widgets/controls",
            "_view_module_version": "1.5.0",
            "_view_name": "HTMLView",
            "description": "",
            "description_tooltip": null,
            "layout": "IPY_MODEL_ecbedee2bda14983a9a527edc9c5cb57",
            "placeholder": "​",
            "style": "IPY_MODEL_b79bf4d9b54b44f4b366b2f6f2fa3ddd",
            "value": " 466k/466k [00:00&lt;00:00, 8.92MB/s]"
          }
        },
        "90884f54981343048e8821eb4690a306": {
          "model_module": "@jupyter-widgets/base",
          "model_name": "LayoutModel",
          "model_module_version": "1.2.0",
          "state": {
            "_model_module": "@jupyter-widgets/base",
            "_model_module_version": "1.2.0",
            "_model_name": "LayoutModel",
            "_view_count": null,
            "_view_module": "@jupyter-widgets/base",
            "_view_module_version": "1.2.0",
            "_view_name": "LayoutView",
            "align_content": null,
            "align_items": null,
            "align_self": null,
            "border": null,
            "bottom": null,
            "display": null,
            "flex": null,
            "flex_flow": null,
            "grid_area": null,
            "grid_auto_columns": null,
            "grid_auto_flow": null,
            "grid_auto_rows": null,
            "grid_column": null,
            "grid_gap": null,
            "grid_row": null,
            "grid_template_areas": null,
            "grid_template_columns": null,
            "grid_template_rows": null,
            "height": null,
            "justify_content": null,
            "justify_items": null,
            "left": null,
            "margin": null,
            "max_height": null,
            "max_width": null,
            "min_height": null,
            "min_width": null,
            "object_fit": null,
            "object_position": null,
            "order": null,
            "overflow": null,
            "overflow_x": null,
            "overflow_y": null,
            "padding": null,
            "right": null,
            "top": null,
            "visibility": null,
            "width": null
          }
        },
        "2b7d1e75bb4245cabab015e1ee168d69": {
          "model_module": "@jupyter-widgets/base",
          "model_name": "LayoutModel",
          "model_module_version": "1.2.0",
          "state": {
            "_model_module": "@jupyter-widgets/base",
            "_model_module_version": "1.2.0",
            "_model_name": "LayoutModel",
            "_view_count": null,
            "_view_module": "@jupyter-widgets/base",
            "_view_module_version": "1.2.0",
            "_view_name": "LayoutView",
            "align_content": null,
            "align_items": null,
            "align_self": null,
            "border": null,
            "bottom": null,
            "display": null,
            "flex": null,
            "flex_flow": null,
            "grid_area": null,
            "grid_auto_columns": null,
            "grid_auto_flow": null,
            "grid_auto_rows": null,
            "grid_column": null,
            "grid_gap": null,
            "grid_row": null,
            "grid_template_areas": null,
            "grid_template_columns": null,
            "grid_template_rows": null,
            "height": null,
            "justify_content": null,
            "justify_items": null,
            "left": null,
            "margin": null,
            "max_height": null,
            "max_width": null,
            "min_height": null,
            "min_width": null,
            "object_fit": null,
            "object_position": null,
            "order": null,
            "overflow": null,
            "overflow_x": null,
            "overflow_y": null,
            "padding": null,
            "right": null,
            "top": null,
            "visibility": null,
            "width": null
          }
        },
        "c237892eb08c4314a1ca682f8ed351c3": {
          "model_module": "@jupyter-widgets/controls",
          "model_name": "DescriptionStyleModel",
          "model_module_version": "1.5.0",
          "state": {
            "_model_module": "@jupyter-widgets/controls",
            "_model_module_version": "1.5.0",
            "_model_name": "DescriptionStyleModel",
            "_view_count": null,
            "_view_module": "@jupyter-widgets/base",
            "_view_module_version": "1.2.0",
            "_view_name": "StyleView",
            "description_width": ""
          }
        },
        "67151f1522384aaeaa8e7212ffd720d8": {
          "model_module": "@jupyter-widgets/base",
          "model_name": "LayoutModel",
          "model_module_version": "1.2.0",
          "state": {
            "_model_module": "@jupyter-widgets/base",
            "_model_module_version": "1.2.0",
            "_model_name": "LayoutModel",
            "_view_count": null,
            "_view_module": "@jupyter-widgets/base",
            "_view_module_version": "1.2.0",
            "_view_name": "LayoutView",
            "align_content": null,
            "align_items": null,
            "align_self": null,
            "border": null,
            "bottom": null,
            "display": null,
            "flex": null,
            "flex_flow": null,
            "grid_area": null,
            "grid_auto_columns": null,
            "grid_auto_flow": null,
            "grid_auto_rows": null,
            "grid_column": null,
            "grid_gap": null,
            "grid_row": null,
            "grid_template_areas": null,
            "grid_template_columns": null,
            "grid_template_rows": null,
            "height": null,
            "justify_content": null,
            "justify_items": null,
            "left": null,
            "margin": null,
            "max_height": null,
            "max_width": null,
            "min_height": null,
            "min_width": null,
            "object_fit": null,
            "object_position": null,
            "order": null,
            "overflow": null,
            "overflow_x": null,
            "overflow_y": null,
            "padding": null,
            "right": null,
            "top": null,
            "visibility": null,
            "width": null
          }
        },
        "1f18c6eae02c454f8319f8fab0d2ad2c": {
          "model_module": "@jupyter-widgets/controls",
          "model_name": "ProgressStyleModel",
          "model_module_version": "1.5.0",
          "state": {
            "_model_module": "@jupyter-widgets/controls",
            "_model_module_version": "1.5.0",
            "_model_name": "ProgressStyleModel",
            "_view_count": null,
            "_view_module": "@jupyter-widgets/base",
            "_view_module_version": "1.2.0",
            "_view_name": "StyleView",
            "bar_color": null,
            "description_width": ""
          }
        },
        "ecbedee2bda14983a9a527edc9c5cb57": {
          "model_module": "@jupyter-widgets/base",
          "model_name": "LayoutModel",
          "model_module_version": "1.2.0",
          "state": {
            "_model_module": "@jupyter-widgets/base",
            "_model_module_version": "1.2.0",
            "_model_name": "LayoutModel",
            "_view_count": null,
            "_view_module": "@jupyter-widgets/base",
            "_view_module_version": "1.2.0",
            "_view_name": "LayoutView",
            "align_content": null,
            "align_items": null,
            "align_self": null,
            "border": null,
            "bottom": null,
            "display": null,
            "flex": null,
            "flex_flow": null,
            "grid_area": null,
            "grid_auto_columns": null,
            "grid_auto_flow": null,
            "grid_auto_rows": null,
            "grid_column": null,
            "grid_gap": null,
            "grid_row": null,
            "grid_template_areas": null,
            "grid_template_columns": null,
            "grid_template_rows": null,
            "height": null,
            "justify_content": null,
            "justify_items": null,
            "left": null,
            "margin": null,
            "max_height": null,
            "max_width": null,
            "min_height": null,
            "min_width": null,
            "object_fit": null,
            "object_position": null,
            "order": null,
            "overflow": null,
            "overflow_x": null,
            "overflow_y": null,
            "padding": null,
            "right": null,
            "top": null,
            "visibility": null,
            "width": null
          }
        },
        "b79bf4d9b54b44f4b366b2f6f2fa3ddd": {
          "model_module": "@jupyter-widgets/controls",
          "model_name": "DescriptionStyleModel",
          "model_module_version": "1.5.0",
          "state": {
            "_model_module": "@jupyter-widgets/controls",
            "_model_module_version": "1.5.0",
            "_model_name": "DescriptionStyleModel",
            "_view_count": null,
            "_view_module": "@jupyter-widgets/base",
            "_view_module_version": "1.2.0",
            "_view_name": "StyleView",
            "description_width": ""
          }
        }
      }
    }
  },
  "cells": [
    {
      "cell_type": "markdown",
      "source": [
        "# Word2Vec\n"
      ],
      "metadata": {
        "id": "5EgGg0R2bX6H"
      }
    },
    {
      "cell_type": "code",
      "source": [
        "from gensim.test.utils import common_texts\n",
        "from gensim.models import Word2Vec"
      ],
      "metadata": {
        "id": "dFE93g29kiZ8"
      },
      "execution_count": null,
      "outputs": []
    },
    {
      "cell_type": "code",
      "source": [
        "common_texts[:10]"
      ],
      "metadata": {
        "colab": {
          "base_uri": "https://localhost:8080/"
        },
        "id": "vQw25TENle8k",
        "outputId": "15c02d9d-e8a8-4b28-cbb8-f3093d082f5b"
      },
      "execution_count": null,
      "outputs": [
        {
          "output_type": "execute_result",
          "data": {
            "text/plain": [
              "[['human', 'interface', 'computer'],\n",
              " ['survey', 'user', 'computer', 'system', 'response', 'time'],\n",
              " ['eps', 'user', 'interface', 'system'],\n",
              " ['system', 'human', 'system', 'eps'],\n",
              " ['user', 'response', 'time'],\n",
              " ['trees'],\n",
              " ['graph', 'trees'],\n",
              " ['graph', 'minors', 'trees'],\n",
              " ['graph', 'minors', 'survey']]"
            ]
          },
          "metadata": {},
          "execution_count": 13
        }
      ]
    },
    {
      "cell_type": "code",
      "source": [
        "skipgram = 1 # 1 / 0\n",
        "negative_samplig = 5\n",
        "w2v_model = Word2Vec(sentences=common_texts, size=100, window=5, min_count=1, workers=4, sg=skipgram, negative=negative_samplig)\n",
        "w2v_model.save(\"word2vec.model\")"
      ],
      "metadata": {
        "id": "VZcXBPKZ2b_e"
      },
      "execution_count": null,
      "outputs": []
    },
    {
      "cell_type": "code",
      "source": [
        "vector = w2v_model.wv['computer']  # get numpy vector of a word\n",
        "sims = w2v_model.wv.most_similar('computer', topn=10)  # get other similar words\n",
        "sims"
      ],
      "metadata": {
        "colab": {
          "base_uri": "https://localhost:8080/"
        },
        "id": "fHct_uASwkWf",
        "outputId": "e3c89dab-f234-44c0-aebc-75c5c5b95439"
      },
      "execution_count": null,
      "outputs": [
        {
          "output_type": "execute_result",
          "data": {
            "text/plain": [
              "[('user', 0.1467563360929489),\n",
              " ('interface', 0.12252745032310486),\n",
              " ('response', 0.08799518644809723),\n",
              " ('minors', 0.07840339839458466),\n",
              " ('time', 0.03845221921801567),\n",
              " ('trees', 0.0367119237780571),\n",
              " ('graph', -0.03798753023147583),\n",
              " ('system', -0.06022052466869354),\n",
              " ('human', -0.09970732033252716),\n",
              " ('eps', -0.10036389529705048)]"
            ]
          },
          "metadata": {},
          "execution_count": 4
        }
      ]
    },
    {
      "cell_type": "code",
      "source": [
        "w2v_model"
      ],
      "metadata": {
        "colab": {
          "base_uri": "https://localhost:8080/"
        },
        "id": "bXR4k1bFw9aE",
        "outputId": "802e1568-33fa-4fd8-fb97-4bbe934b688b"
      },
      "execution_count": null,
      "outputs": [
        {
          "output_type": "execute_result",
          "data": {
            "text/plain": [
              "<gensim.models.word2vec.Word2Vec at 0x7f5345a1b6d0>"
            ]
          },
          "metadata": {},
          "execution_count": 5
        }
      ]
    },
    {
      "cell_type": "code",
      "source": [
        "w2v_model.wv['human'].shape"
      ],
      "metadata": {
        "colab": {
          "base_uri": "https://localhost:8080/"
        },
        "id": "8vdixtLyHdUE",
        "outputId": "81b3a093-c5b0-4bae-d74f-38080c3a70ea"
      },
      "execution_count": null,
      "outputs": [
        {
          "output_type": "execute_result",
          "data": {
            "text/plain": [
              "(100,)"
            ]
          },
          "metadata": {},
          "execution_count": 15
        }
      ]
    },
    {
      "cell_type": "code",
      "source": [
        "result = w2v_model.most_similar(positive=['human', 'system'], negative=['computer'], topn=1)\n",
        "print(result)"
      ],
      "metadata": {
        "colab": {
          "base_uri": "https://localhost:8080/"
        },
        "id": "iRFiOVuUEgz6",
        "outputId": "f65ff833-af85-4a4a-ab45-33c592e45a9f"
      },
      "execution_count": null,
      "outputs": [
        {
          "output_type": "stream",
          "name": "stdout",
          "text": [
            "[('trees', 0.12913841009140015)]\n"
          ]
        },
        {
          "output_type": "stream",
          "name": "stderr",
          "text": [
            "/usr/local/lib/python3.7/dist-packages/ipykernel_launcher.py:1: DeprecationWarning: Call to deprecated `most_similar` (Method will be removed in 4.0.0, use self.wv.most_similar() instead).\n",
            "  \"\"\"Entry point for launching an IPython kernel.\n"
          ]
        }
      ]
    },
    {
      "cell_type": "markdown",
      "source": [
        "### Предобученные эмбеддинги"
      ],
      "metadata": {
        "id": "2gGbNwLuEiN6"
      }
    },
    {
      "cell_type": "code",
      "source": [
        "!wget http://nlp.stanford.edu/data/glove.6B.zip"
      ],
      "metadata": {
        "colab": {
          "base_uri": "https://localhost:8080/"
        },
        "id": "AjzooJYsDfXT",
        "outputId": "a9a3649e-55f0-495c-9bb9-2fc3f7fe2bfe"
      },
      "execution_count": null,
      "outputs": [
        {
          "output_type": "stream",
          "name": "stdout",
          "text": [
            "--2022-03-22 22:22:07--  http://nlp.stanford.edu/data/glove.6B.zip\n",
            "Resolving nlp.stanford.edu (nlp.stanford.edu)... 171.64.67.140\n",
            "Connecting to nlp.stanford.edu (nlp.stanford.edu)|171.64.67.140|:80... connected.\n",
            "HTTP request sent, awaiting response... 302 Found\n",
            "Location: https://nlp.stanford.edu/data/glove.6B.zip [following]\n",
            "--2022-03-22 22:22:07--  https://nlp.stanford.edu/data/glove.6B.zip\n",
            "Connecting to nlp.stanford.edu (nlp.stanford.edu)|171.64.67.140|:443... connected.\n",
            "HTTP request sent, awaiting response... 301 Moved Permanently\n",
            "Location: http://downloads.cs.stanford.edu/nlp/data/glove.6B.zip [following]\n",
            "--2022-03-22 22:22:08--  http://downloads.cs.stanford.edu/nlp/data/glove.6B.zip\n",
            "Resolving downloads.cs.stanford.edu (downloads.cs.stanford.edu)... 171.64.64.22\n",
            "Connecting to downloads.cs.stanford.edu (downloads.cs.stanford.edu)|171.64.64.22|:80... connected.\n",
            "HTTP request sent, awaiting response... 200 OK\n",
            "Length: 862182613 (822M) [application/zip]\n",
            "Saving to: ‘glove.6B.zip’\n",
            "\n",
            "glove.6B.zip        100%[===================>] 822.24M  5.05MB/s    in 2m 41s  \n",
            "\n",
            "2022-03-22 22:24:48 (5.12 MB/s) - ‘glove.6B.zip’ saved [862182613/862182613]\n",
            "\n"
          ]
        }
      ]
    },
    {
      "cell_type": "code",
      "source": [
        "!unzip glove.6B.zip"
      ],
      "metadata": {
        "colab": {
          "base_uri": "https://localhost:8080/"
        },
        "id": "k0PAWJ07DhE4",
        "outputId": "a68b199e-8e23-4f9c-98cd-03a0dbc85ab5"
      },
      "execution_count": null,
      "outputs": [
        {
          "output_type": "stream",
          "name": "stdout",
          "text": [
            "Archive:  glove.6B.zip\n",
            "  inflating: glove.6B.50d.txt        \n",
            "  inflating: glove.6B.100d.txt       \n",
            "  inflating: glove.6B.200d.txt       \n",
            "  inflating: glove.6B.300d.txt       \n"
          ]
        }
      ]
    },
    {
      "cell_type": "code",
      "source": [
        "from gensim.scripts.glove2word2vec import glove2word2vec\n",
        "glove2word2vec('glove.6B.100d.txt', 'glove.6B.100d.txt.word2vec')"
      ],
      "metadata": {
        "colab": {
          "base_uri": "https://localhost:8080/"
        },
        "id": "ktwlibr0EXst",
        "outputId": "96b5b289-43e3-4743-d0ba-5cac317523a4"
      },
      "execution_count": null,
      "outputs": [
        {
          "output_type": "execute_result",
          "data": {
            "text/plain": [
              "(400000, 100)"
            ]
          },
          "metadata": {},
          "execution_count": 10
        }
      ]
    },
    {
      "cell_type": "code",
      "source": [
        "from gensim.models import KeyedVectors\n",
        "# load the Stanford GloVe model\n",
        "filename = 'glove.6B.100d.txt.word2vec'\n",
        "glove_model = KeyedVectors.load_word2vec_format(filename, binary=False)\n",
        "# calculate: (king - man) + woman = ?\n",
        "result = glove_model.most_similar(positive=['woman', 'king'], negative=['man'], topn=1)\n",
        "\n",
        "print(result)"
      ],
      "metadata": {
        "colab": {
          "base_uri": "https://localhost:8080/"
        },
        "id": "-gkHSCnz5cY5",
        "outputId": "3efd988a-f812-4ca8-cbb8-4e08b2897053"
      },
      "execution_count": null,
      "outputs": [
        {
          "output_type": "stream",
          "name": "stdout",
          "text": [
            "[('queen', 0.7698541283607483)]\n"
          ]
        }
      ]
    },
    {
      "cell_type": "markdown",
      "source": [
        "# [FastText](https://github.com/facebookresearch/fastText)\n",
        "\n",
        "[supervised-tutorial](https://fasttext.cc/docs/en/supervised-tutorial.html)\n",
        "\n",
        "[unsupervised-tutorial](https://fasttext.cc/docs/en/unsupervised-tutorial.html)\n",
        "\n",
        "[help](https://fasttext.cc/docs/en/python-module.html)\n",
        "\n",
        "[python reimplementation](http://christopher5106.github.io/deep/learning/2020/04/02/fasttext_pretrained_embeddings_subword_word_representations.html)\n",
        "\n",
        "```\n",
        "word_emb = word_emb + sum( subword_embeddings )\n",
        "```"
      ],
      "metadata": {
        "id": "_0A31kUdbX3h"
      }
    },
    {
      "cell_type": "code",
      "source": [
        "w2v_model.wv['abracadabra']"
      ],
      "metadata": {
        "colab": {
          "base_uri": "https://localhost:8080/",
          "height": 313
        },
        "id": "nkkAwYnw5dh6",
        "outputId": "641933dd-6ecb-4997-9477-4faab6935219"
      },
      "execution_count": null,
      "outputs": [
        {
          "output_type": "error",
          "ename": "KeyError",
          "evalue": "ignored",
          "traceback": [
            "\u001b[0;31m---------------------------------------------------------------------------\u001b[0m",
            "\u001b[0;31mKeyError\u001b[0m                                  Traceback (most recent call last)",
            "\u001b[0;32m<ipython-input-12-4d1e749b88d4>\u001b[0m in \u001b[0;36m<module>\u001b[0;34m()\u001b[0m\n\u001b[0;32m----> 1\u001b[0;31m \u001b[0mw2v_model\u001b[0m\u001b[0;34m.\u001b[0m\u001b[0mwv\u001b[0m\u001b[0;34m[\u001b[0m\u001b[0;34m'abracadabra'\u001b[0m\u001b[0;34m]\u001b[0m\u001b[0;34m\u001b[0m\u001b[0;34m\u001b[0m\u001b[0m\n\u001b[0m",
            "\u001b[0;32m/usr/local/lib/python3.7/dist-packages/gensim/models/keyedvectors.py\u001b[0m in \u001b[0;36m__getitem__\u001b[0;34m(self, entities)\u001b[0m\n\u001b[1;32m    335\u001b[0m         \u001b[0;32mif\u001b[0m \u001b[0misinstance\u001b[0m\u001b[0;34m(\u001b[0m\u001b[0mentities\u001b[0m\u001b[0;34m,\u001b[0m \u001b[0mstring_types\u001b[0m\u001b[0;34m)\u001b[0m\u001b[0;34m:\u001b[0m\u001b[0;34m\u001b[0m\u001b[0;34m\u001b[0m\u001b[0m\n\u001b[1;32m    336\u001b[0m             \u001b[0;31m# allow calls like trained_model['office'], as a shorthand for trained_model[['office']]\u001b[0m\u001b[0;34m\u001b[0m\u001b[0;34m\u001b[0m\u001b[0;34m\u001b[0m\u001b[0m\n\u001b[0;32m--> 337\u001b[0;31m             \u001b[0;32mreturn\u001b[0m \u001b[0mself\u001b[0m\u001b[0;34m.\u001b[0m\u001b[0mget_vector\u001b[0m\u001b[0;34m(\u001b[0m\u001b[0mentities\u001b[0m\u001b[0;34m)\u001b[0m\u001b[0;34m\u001b[0m\u001b[0;34m\u001b[0m\u001b[0m\n\u001b[0m\u001b[1;32m    338\u001b[0m \u001b[0;34m\u001b[0m\u001b[0m\n\u001b[1;32m    339\u001b[0m         \u001b[0;32mreturn\u001b[0m \u001b[0mvstack\u001b[0m\u001b[0;34m(\u001b[0m\u001b[0;34m[\u001b[0m\u001b[0mself\u001b[0m\u001b[0;34m.\u001b[0m\u001b[0mget_vector\u001b[0m\u001b[0;34m(\u001b[0m\u001b[0mentity\u001b[0m\u001b[0;34m)\u001b[0m \u001b[0;32mfor\u001b[0m \u001b[0mentity\u001b[0m \u001b[0;32min\u001b[0m \u001b[0mentities\u001b[0m\u001b[0;34m]\u001b[0m\u001b[0;34m)\u001b[0m\u001b[0;34m\u001b[0m\u001b[0;34m\u001b[0m\u001b[0m\n",
            "\u001b[0;32m/usr/local/lib/python3.7/dist-packages/gensim/models/keyedvectors.py\u001b[0m in \u001b[0;36mget_vector\u001b[0;34m(self, word)\u001b[0m\n\u001b[1;32m    453\u001b[0m \u001b[0;34m\u001b[0m\u001b[0m\n\u001b[1;32m    454\u001b[0m     \u001b[0;32mdef\u001b[0m \u001b[0mget_vector\u001b[0m\u001b[0;34m(\u001b[0m\u001b[0mself\u001b[0m\u001b[0;34m,\u001b[0m \u001b[0mword\u001b[0m\u001b[0;34m)\u001b[0m\u001b[0;34m:\u001b[0m\u001b[0;34m\u001b[0m\u001b[0;34m\u001b[0m\u001b[0m\n\u001b[0;32m--> 455\u001b[0;31m         \u001b[0;32mreturn\u001b[0m \u001b[0mself\u001b[0m\u001b[0;34m.\u001b[0m\u001b[0mword_vec\u001b[0m\u001b[0;34m(\u001b[0m\u001b[0mword\u001b[0m\u001b[0;34m)\u001b[0m\u001b[0;34m\u001b[0m\u001b[0;34m\u001b[0m\u001b[0m\n\u001b[0m\u001b[1;32m    456\u001b[0m \u001b[0;34m\u001b[0m\u001b[0m\n\u001b[1;32m    457\u001b[0m     \u001b[0;32mdef\u001b[0m \u001b[0mwords_closer_than\u001b[0m\u001b[0;34m(\u001b[0m\u001b[0mself\u001b[0m\u001b[0;34m,\u001b[0m \u001b[0mw1\u001b[0m\u001b[0;34m,\u001b[0m \u001b[0mw2\u001b[0m\u001b[0;34m)\u001b[0m\u001b[0;34m:\u001b[0m\u001b[0;34m\u001b[0m\u001b[0;34m\u001b[0m\u001b[0m\n",
            "\u001b[0;32m/usr/local/lib/python3.7/dist-packages/gensim/models/keyedvectors.py\u001b[0m in \u001b[0;36mword_vec\u001b[0;34m(self, word, use_norm)\u001b[0m\n\u001b[1;32m    450\u001b[0m             \u001b[0;32mreturn\u001b[0m \u001b[0mresult\u001b[0m\u001b[0;34m\u001b[0m\u001b[0;34m\u001b[0m\u001b[0m\n\u001b[1;32m    451\u001b[0m         \u001b[0;32melse\u001b[0m\u001b[0;34m:\u001b[0m\u001b[0;34m\u001b[0m\u001b[0;34m\u001b[0m\u001b[0m\n\u001b[0;32m--> 452\u001b[0;31m             \u001b[0;32mraise\u001b[0m \u001b[0mKeyError\u001b[0m\u001b[0;34m(\u001b[0m\u001b[0;34m\"word '%s' not in vocabulary\"\u001b[0m \u001b[0;34m%\u001b[0m \u001b[0mword\u001b[0m\u001b[0;34m)\u001b[0m\u001b[0;34m\u001b[0m\u001b[0;34m\u001b[0m\u001b[0m\n\u001b[0m\u001b[1;32m    453\u001b[0m \u001b[0;34m\u001b[0m\u001b[0m\n\u001b[1;32m    454\u001b[0m     \u001b[0;32mdef\u001b[0m \u001b[0mget_vector\u001b[0m\u001b[0;34m(\u001b[0m\u001b[0mself\u001b[0m\u001b[0;34m,\u001b[0m \u001b[0mword\u001b[0m\u001b[0;34m)\u001b[0m\u001b[0;34m:\u001b[0m\u001b[0;34m\u001b[0m\u001b[0;34m\u001b[0m\u001b[0m\n",
            "\u001b[0;31mKeyError\u001b[0m: \"word 'abracadabra' not in vocabulary\""
          ]
        }
      ]
    },
    {
      "cell_type": "code",
      "source": [
        "!wget https://dl.fbaipublicfiles.com/fasttext/data/cooking.stackexchange.tar.gz && tar xvzf cooking.stackexchange.tar.gz"
      ],
      "metadata": {
        "id": "FugotThZkmBA",
        "colab": {
          "base_uri": "https://localhost:8080/"
        },
        "outputId": "ad9d3c94-c2c0-452d-dc93-64a26181c2d0"
      },
      "execution_count": null,
      "outputs": [
        {
          "output_type": "stream",
          "name": "stdout",
          "text": [
            "--2024-03-04 16:49:30--  https://dl.fbaipublicfiles.com/fasttext/data/cooking.stackexchange.tar.gz\n",
            "Resolving dl.fbaipublicfiles.com (dl.fbaipublicfiles.com)... 65.8.243.25, 65.8.243.119, 65.8.243.111, ...\n",
            "Connecting to dl.fbaipublicfiles.com (dl.fbaipublicfiles.com)|65.8.243.25|:443... connected.\n",
            "HTTP request sent, awaiting response... 200 OK\n",
            "Length: 457609 (447K) [application/x-tar]\n",
            "Saving to: ‘cooking.stackexchange.tar.gz’\n",
            "\n",
            "cooking.stackexchan 100%[===================>] 446.88K  --.-KB/s    in 0.1s    \n",
            "\n",
            "2024-03-04 16:49:31 (3.51 MB/s) - ‘cooking.stackexchange.tar.gz’ saved [457609/457609]\n",
            "\n",
            "cooking.stackexchange.id\n",
            "cooking.stackexchange.txt\n",
            "readme.txt\n"
          ]
        }
      ]
    },
    {
      "cell_type": "code",
      "source": [
        "! head cooking.stackexchange.txt"
      ],
      "metadata": {
        "id": "Wy0_nVT9SlJr",
        "colab": {
          "base_uri": "https://localhost:8080/"
        },
        "outputId": "8e00d94d-9cf2-45a2-f087-05dfcaf35760"
      },
      "execution_count": null,
      "outputs": [
        {
          "output_type": "stream",
          "name": "stdout",
          "text": [
            "__label__sauce __label__cheese How much does potato starch affect a cheese sauce recipe?\n",
            "__label__food-safety __label__acidity Dangerous pathogens capable of growing in acidic environments\n",
            "__label__cast-iron __label__stove How do I cover up the white spots on my cast iron stove?\n",
            "__label__restaurant Michelin Three Star Restaurant; but if the chef is not there\n",
            "__label__knife-skills __label__dicing Without knife skills, how can I quickly and accurately dice vegetables?\n",
            "__label__storage-method __label__equipment __label__bread What's the purpose of a bread box?\n",
            "__label__baking __label__food-safety __label__substitutions __label__peanuts how to seperate peanut oil from roasted peanuts at home?\n",
            "__label__chocolate American equivalent for British chocolate terms\n",
            "__label__baking __label__oven __label__convection Fan bake vs bake\n",
            "__label__sauce __label__storage-lifetime __label__acidity __label__mayonnaise Regulation and balancing of readymade packed mayonnaise and other sauces\n"
          ]
        }
      ]
    },
    {
      "cell_type": "code",
      "source": [
        "! head -n 12404 cooking.stackexchange.txt > cooking.train\n",
        "! tail -n 3000 cooking.stackexchange.txt > cooking.valid"
      ],
      "metadata": {
        "id": "_lZ2RVNaSnWP"
      },
      "execution_count": null,
      "outputs": []
    },
    {
      "cell_type": "code",
      "source": [
        "!pip install fasttext"
      ],
      "metadata": {
        "id": "JbwEQ5AGS2KH",
        "colab": {
          "base_uri": "https://localhost:8080/"
        },
        "outputId": "b103918f-f454-4c10-8635-32115c8b6414"
      },
      "execution_count": null,
      "outputs": [
        {
          "output_type": "stream",
          "name": "stdout",
          "text": [
            "Collecting fasttext\n",
            "  Downloading fasttext-0.9.2.tar.gz (68 kB)\n",
            "\u001b[2K     \u001b[90m━━━━━━━━━━━━━━━━━━━━━━━━━━━━━━━━━━━━━━━━\u001b[0m \u001b[32m68.8/68.8 kB\u001b[0m \u001b[31m1.6 MB/s\u001b[0m eta \u001b[36m0:00:00\u001b[0m\n",
            "\u001b[?25h  Preparing metadata (setup.py) ... \u001b[?25l\u001b[?25hdone\n",
            "Collecting pybind11>=2.2 (from fasttext)\n",
            "  Using cached pybind11-2.11.1-py3-none-any.whl (227 kB)\n",
            "Requirement already satisfied: setuptools>=0.7.0 in /usr/local/lib/python3.10/dist-packages (from fasttext) (67.7.2)\n",
            "Requirement already satisfied: numpy in /usr/local/lib/python3.10/dist-packages (from fasttext) (1.25.2)\n",
            "Building wheels for collected packages: fasttext\n",
            "  Building wheel for fasttext (setup.py) ... \u001b[?25l\u001b[?25hdone\n",
            "  Created wheel for fasttext: filename=fasttext-0.9.2-cp310-cp310-linux_x86_64.whl size=4199772 sha256=7fb89b12ff5326a284f4d62c5b8fcf56a3ff67b2a8cacfd43308dc9d45c733af\n",
            "  Stored in directory: /root/.cache/pip/wheels/a5/13/75/f811c84a8ab36eedbaef977a6a58a98990e8e0f1967f98f394\n",
            "Successfully built fasttext\n",
            "Installing collected packages: pybind11, fasttext\n",
            "Successfully installed fasttext-0.9.2 pybind11-2.11.1\n"
          ]
        }
      ]
    },
    {
      "cell_type": "code",
      "source": [
        "import fasttext\n",
        "\n",
        "ft_model = fasttext.train_supervised(input=\"cooking.train\", minn=4, maxn=6, dim=100)"
      ],
      "metadata": {
        "id": "nwNIMVQjSteo"
      },
      "execution_count": null,
      "outputs": []
    },
    {
      "cell_type": "code",
      "source": [
        "ft_model.predict(\"Which baking dish is best to bake a banana bread ?\")"
      ],
      "metadata": {
        "id": "Rotk-RZnS9s9",
        "colab": {
          "base_uri": "https://localhost:8080/"
        },
        "outputId": "e60b1088-0560-4741-9132-6a3b8e78771f"
      },
      "execution_count": null,
      "outputs": [
        {
          "output_type": "execute_result",
          "data": {
            "text/plain": [
              "(('__label__baking',), array([0.00184464]))"
            ]
          },
          "metadata": {},
          "execution_count": 21
        }
      ]
    },
    {
      "cell_type": "code",
      "source": [
        "ft_model.test(\"cooking.valid\") # N, P@1, R@1"
      ],
      "metadata": {
        "id": "p_jrfC9fVO-n",
        "colab": {
          "base_uri": "https://localhost:8080/"
        },
        "outputId": "a2585b07-c454-40a9-ef25-4f18b38ac50c"
      },
      "execution_count": null,
      "outputs": [
        {
          "output_type": "execute_result",
          "data": {
            "text/plain": [
              "(3000, 0.096, 0.04151650569410408)"
            ]
          },
          "metadata": {},
          "execution_count": 22
        }
      ]
    },
    {
      "cell_type": "code",
      "source": [
        "!grep -c abracdabra cooking.train"
      ],
      "metadata": {
        "id": "nV-YHtV-Twci",
        "colab": {
          "base_uri": "https://localhost:8080/"
        },
        "outputId": "57d34540-a62c-419a-bf43-4a29b4e9a2d1"
      },
      "execution_count": null,
      "outputs": [
        {
          "output_type": "stream",
          "name": "stdout",
          "text": [
            "0\n"
          ]
        }
      ]
    },
    {
      "cell_type": "code",
      "source": [
        "ft_model['dab']"
      ],
      "metadata": {
        "id": "gL9zH-kncUBS",
        "colab": {
          "base_uri": "https://localhost:8080/"
        },
        "outputId": "651e5676-252e-4c37-aa14-ae5dd3c86408"
      },
      "execution_count": null,
      "outputs": [
        {
          "output_type": "execute_result",
          "data": {
            "text/plain": [
              "array([ 1.68020895e-04,  4.51601591e-05, -5.14288840e-04, -1.60145544e-04,\n",
              "        3.63977771e-04, -2.06045326e-04,  1.23952643e-03,  5.03843999e-04,\n",
              "        4.73251159e-04,  5.25946416e-05,  8.16813728e-04,  1.60578603e-03,\n",
              "       -3.61540879e-04, -4.96256107e-04, -2.93571720e-05, -1.24202506e-03,\n",
              "       -4.98984416e-04, -1.25787861e-03, -9.98524833e-04, -3.70868278e-04,\n",
              "        6.13538781e-04, -6.90861722e-04,  5.93442164e-05, -1.78122474e-03,\n",
              "       -1.52719615e-03,  2.90485448e-04, -8.34761304e-04,  6.15805038e-04,\n",
              "       -1.08085037e-03,  1.28276821e-03, -1.06472646e-04,  5.93195844e-04,\n",
              "       -8.37484025e-04,  8.91225238e-04, -1.44962367e-04,  3.45618260e-04,\n",
              "       -5.93322620e-04, -6.50832662e-04,  2.18673726e-04, -1.20386097e-03,\n",
              "       -8.49472068e-04, -1.98841197e-04,  1.07815792e-03, -1.20035361e-03,\n",
              "        1.11841224e-03,  1.14627054e-03, -2.01708492e-04,  1.09654444e-03,\n",
              "       -1.18399307e-03,  9.65096522e-04, -2.09229300e-03,  6.76721684e-04,\n",
              "       -3.39861697e-04, -4.79945011e-04, -1.43575587e-03, -1.52373424e-04,\n",
              "        9.20381513e-04,  2.55786472e-05,  8.84295732e-04,  1.84468343e-03,\n",
              "       -5.25520823e-04, -6.26707741e-04,  7.70297076e-04,  1.18756515e-03,\n",
              "       -1.74780015e-03, -1.40185366e-05, -1.62657793e-03, -7.94281601e-04,\n",
              "        1.25056633e-03,  1.51022326e-03, -2.73684418e-04,  1.59157976e-03,\n",
              "       -1.32678112e-03,  8.03805073e-04,  3.66704189e-04,  8.82399036e-04,\n",
              "        4.35376394e-04, -2.40432331e-04,  2.03719319e-04,  1.29230748e-05,\n",
              "        8.85260350e-04, -4.84208460e-04,  2.13574944e-03, -7.38444360e-05,\n",
              "        1.00519741e-03, -8.00802023e-04,  1.46499986e-03,  7.94610824e-04,\n",
              "       -1.74552074e-03, -2.06000725e-04,  1.07046764e-03,  3.77768360e-04,\n",
              "        7.25210703e-04, -1.08077412e-03,  7.75049732e-04, -1.19190512e-03,\n",
              "       -1.73858098e-05,  1.45774789e-03,  8.93073680e-04,  7.96694832e-04],\n",
              "      dtype=float32)"
            ]
          },
          "metadata": {},
          "execution_count": 24
        }
      ]
    },
    {
      "cell_type": "code",
      "source": [
        "ft_model.get_words()[:10]"
      ],
      "metadata": {
        "id": "ptbOo3ppWlY-",
        "colab": {
          "base_uri": "https://localhost:8080/"
        },
        "outputId": "ad40280b-b4b6-4e6b-c94e-7342f3530d08"
      },
      "execution_count": null,
      "outputs": [
        {
          "output_type": "execute_result",
          "data": {
            "text/plain": [
              "['</s>', 'to', 'a', 'the', 'How', 'I', 'in', 'of', 'for', 'What']"
            ]
          },
          "metadata": {},
          "execution_count": 25
        }
      ]
    },
    {
      "cell_type": "code",
      "source": [
        "ft_model.get_subwords(\"a\")"
      ],
      "metadata": {
        "colab": {
          "base_uri": "https://localhost:8080/"
        },
        "id": "vniAmC75Yt8r",
        "outputId": "b7ff00aa-6ee8-46fb-c651-843fdbc68f72"
      },
      "execution_count": null,
      "outputs": [
        {
          "output_type": "execute_result",
          "data": {
            "text/plain": [
              "(['a'], array([2]))"
            ]
          },
          "metadata": {},
          "execution_count": 10
        }
      ]
    },
    {
      "cell_type": "code",
      "source": [
        "ft_model.get_subwords(\"я\")"
      ],
      "metadata": {
        "colab": {
          "base_uri": "https://localhost:8080/"
        },
        "id": "qQWiWf3VXQMY",
        "outputId": "c2971bef-dfb6-424a-ffcf-adb66fee0bf4"
      },
      "execution_count": null,
      "outputs": [
        {
          "output_type": "execute_result",
          "data": {
            "text/plain": [
              "([], array([], dtype=float64))"
            ]
          },
          "metadata": {},
          "execution_count": 9
        }
      ]
    },
    {
      "cell_type": "code",
      "source": [
        "ft_model.get_subwords(\"abracadabra\")"
      ],
      "metadata": {
        "id": "KDxewALOY0k3",
        "colab": {
          "base_uri": "https://localhost:8080/"
        },
        "outputId": "da8278a1-9542-4e12-d770-adb5fda6b4d3"
      },
      "execution_count": null,
      "outputs": [
        {
          "output_type": "execute_result",
          "data": {
            "text/plain": [
              "(['<ab',\n",
              "  '<abr',\n",
              "  '<abra',\n",
              "  '<abrac',\n",
              "  'abr',\n",
              "  'abra',\n",
              "  'abrac',\n",
              "  'abraca',\n",
              "  'bra',\n",
              "  'brac',\n",
              "  'braca',\n",
              "  'bracad',\n",
              "  'rac',\n",
              "  'raca',\n",
              "  'racad',\n",
              "  'racada',\n",
              "  'aca',\n",
              "  'acad',\n",
              "  'acada',\n",
              "  'acadab',\n",
              "  'cad',\n",
              "  'cada',\n",
              "  'cadab',\n",
              "  'cadabr',\n",
              "  'ada',\n",
              "  'adab',\n",
              "  'adabr',\n",
              "  'adabra',\n",
              "  'dab',\n",
              "  'dabr',\n",
              "  'dabra',\n",
              "  'dabra>',\n",
              "  'abr',\n",
              "  'abra',\n",
              "  'abra>',\n",
              "  'bra',\n",
              "  'bra>',\n",
              "  'ra>'],\n",
              " array([ 224051,  725489, 1353288,  435133,  599159,  974266, 1098983,\n",
              "         864970,   77835,  937436, 1164499,  324207,  356924, 1794739,\n",
              "        1431503,  437506,  631491, 1342847,  853586, 1335810,  828966,\n",
              "         356177,  853615, 1596005, 1277706, 1647850, 1036698, 1568237,\n",
              "         293931,  827321, 1215264,  353548,  599159,  974266, 2008350,\n",
              "          77835,  618869, 1005653]))"
            ]
          },
          "metadata": {},
          "execution_count": 26
        }
      ]
    },
    {
      "cell_type": "markdown",
      "source": [
        "ing, er,"
      ],
      "metadata": {
        "id": "fbXAym7o1IGp"
      }
    },
    {
      "cell_type": "code",
      "source": [
        "ft_model.get_word_vector(\"abracadabra\")"
      ],
      "metadata": {
        "id": "ddWUvv5FYfmE",
        "colab": {
          "base_uri": "https://localhost:8080/"
        },
        "outputId": "e48c14a0-7e4e-4caa-8dbb-63f1e3f30aef"
      },
      "execution_count": null,
      "outputs": [
        {
          "output_type": "execute_result",
          "data": {
            "text/plain": [
              "array([ 1.50607084e-04, -3.40160070e-04, -1.23179634e-04,  2.07611287e-04,\n",
              "       -1.40313030e-04,  4.00692457e-04,  2.64935952e-04,  2.79084692e-04,\n",
              "        9.59921017e-05,  2.74404883e-05, -5.60258166e-04,  5.82685694e-04,\n",
              "        3.86817002e-04,  6.58130215e-04,  3.30035109e-05, -2.46394309e-04,\n",
              "        2.73763028e-04,  5.20171423e-04,  2.86129856e-04, -2.49065342e-04,\n",
              "        9.83962600e-05,  4.42419550e-04,  3.17247497e-04, -3.46008368e-04,\n",
              "        2.67010182e-04, -4.74593253e-04,  3.27796966e-04, -5.06438198e-04,\n",
              "       -6.22282096e-04,  5.89403062e-05, -2.34203384e-04, -4.08275140e-04,\n",
              "       -3.60058970e-04, -5.62688860e-04, -6.96792733e-04, -6.23562373e-05,\n",
              "        2.03026604e-04, -7.19135714e-05,  1.18385768e-04,  4.67424339e-04,\n",
              "        2.65481649e-04,  8.25641677e-04,  4.28372412e-04,  3.29143913e-05,\n",
              "        2.14948421e-04, -4.26023529e-04, -1.08251279e-05,  1.96853958e-04,\n",
              "       -2.90007447e-04,  6.32750220e-04, -6.79778284e-04,  3.71797010e-04,\n",
              "        4.17675074e-05,  3.13881465e-04, -3.38408718e-04, -2.57508684e-04,\n",
              "       -2.44413794e-04, -1.08482622e-04, -3.35962774e-04, -3.22890439e-04,\n",
              "       -1.15279268e-04, -1.35084018e-04, -1.15540613e-04, -6.58010176e-05,\n",
              "        3.16427322e-04,  1.66117563e-04,  2.68852618e-05,  4.65136953e-04,\n",
              "       -4.34022659e-04,  2.43098519e-04, -6.34679978e-04, -1.44063844e-04,\n",
              "       -2.66033778e-04, -2.86656752e-04,  8.62873785e-05, -4.86483448e-04,\n",
              "        7.49187311e-04, -1.24399652e-04, -3.31431133e-04, -1.51576824e-04,\n",
              "        1.02773782e-04,  5.28315759e-05,  4.19042015e-04, -4.32200351e-04,\n",
              "        1.86129371e-04, -6.50727365e-04,  8.17405380e-05,  2.01007017e-04,\n",
              "       -4.67205500e-05, -3.59879690e-04,  4.50522639e-04,  2.06123383e-04,\n",
              "        5.77745959e-04, -4.44891280e-04,  4.97293343e-07, -3.18949373e-04,\n",
              "        1.48391598e-04,  4.36812348e-04, -1.10596004e-04, -1.06035572e-04],\n",
              "      dtype=float32)"
            ]
          },
          "metadata": {},
          "execution_count": 27
        }
      ]
    },
    {
      "cell_type": "markdown",
      "source": [
        "# [nn.Embeddings](https://pytorch.org/docs/stable/generated/torch.nn.Embedding.html)"
      ],
      "metadata": {
        "id": "jNog-Rz4e4I_"
      }
    },
    {
      "cell_type": "markdown",
      "source": [
        "Словарь\n",
        "\n",
        "```\n",
        "1 A\n",
        "2 And\n",
        "3 But\n",
        "4 Me\n",
        "5 He\n",
        "6 She\n",
        "\n",
        "...\n",
        "\n",
        "10000 ...\n",
        "```"
      ],
      "metadata": {
        "id": "sCTmHoEd1nw3"
      }
    },
    {
      "cell_type": "code",
      "source": [
        "# [ \"Happy\", \"new\", \"year\" ] -> [ 300, 601, 902 ]\n",
        "# 50 ~ 300\n",
        "#"
      ],
      "metadata": {
        "id": "eFYMBqVD13wD"
      },
      "execution_count": null,
      "outputs": []
    },
    {
      "cell_type": "code",
      "source": [
        "# свой nn.Embeddings\n",
        "import torch.nn as nn\n",
        "import torch\n",
        "\n",
        "import string\n",
        "\n",
        "ascii_lowercase = string.ascii_lowercase\n",
        "\n",
        "nn_embeddings = nn.Embedding(num_embeddings=len(ascii_lowercase), embedding_dim=100)"
      ],
      "metadata": {
        "id": "LpRXfXzYklsO"
      },
      "execution_count": null,
      "outputs": []
    },
    {
      "cell_type": "code",
      "source": [
        "nn_embeddings.weight.shape"
      ],
      "metadata": {
        "id": "xlU6BZZPeCcl",
        "colab": {
          "base_uri": "https://localhost:8080/"
        },
        "outputId": "27628856-f65e-4271-c6a7-aafc115fffd4"
      },
      "execution_count": null,
      "outputs": [
        {
          "output_type": "execute_result",
          "data": {
            "text/plain": [
              "torch.Size([26, 100])"
            ]
          },
          "metadata": {},
          "execution_count": 12
        }
      ]
    },
    {
      "cell_type": "code",
      "source": [
        "string.ascii_lowercase[0]"
      ],
      "metadata": {
        "colab": {
          "base_uri": "https://localhost:8080/",
          "height": 35
        },
        "id": "V-wF-ph72y5H",
        "outputId": "10e4d9b2-d391-4ed8-8725-d91d327357cd"
      },
      "execution_count": null,
      "outputs": [
        {
          "output_type": "execute_result",
          "data": {
            "text/plain": [
              "'a'"
            ],
            "application/vnd.google.colaboratory.intrinsic+json": {
              "type": "string"
            }
          },
          "metadata": {},
          "execution_count": 31
        }
      ]
    },
    {
      "cell_type": "code",
      "source": [
        "with torch.no_grad():\n",
        "    token_id = 0\n",
        "\n",
        "    token_ids_t = torch.LongTensor( [ token_id ] )\n",
        "\n",
        "    # векторное представление для буквы `a`\n",
        "    zero_idx_embedding = nn_embeddings( token_ids_t )\n",
        "\n",
        "    # равносильно\n",
        "    hands_embeddings = nn_embeddings.weight[ token_id, : ]\n",
        "\n",
        "    assert (zero_idx_embedding == hands_embeddings).all()"
      ],
      "metadata": {
        "id": "EqRPyKSIdh5t"
      },
      "execution_count": null,
      "outputs": []
    },
    {
      "cell_type": "code",
      "source": [
        "zero_idx_embedding.shape"
      ],
      "metadata": {
        "colab": {
          "base_uri": "https://localhost:8080/"
        },
        "id": "2_hZLxFb20-5",
        "outputId": "e3387315-8378-4031-9539-75375814e86e"
      },
      "execution_count": null,
      "outputs": [
        {
          "output_type": "execute_result",
          "data": {
            "text/plain": [
              "torch.Size([3, 100])"
            ]
          },
          "metadata": {},
          "execution_count": 36
        }
      ]
    },
    {
      "cell_type": "markdown",
      "source": [
        "## MyEmbedding"
      ],
      "metadata": {
        "id": "tRbKMuXwITWD"
      }
    },
    {
      "cell_type": "code",
      "source": [
        "class MyEmbedding(nn.Module):\n",
        "    def __init__(self, num_embeddings, embedding_dim):\n",
        "        super().__init__()\n",
        "\n",
        "        self.num_embeddings = num_embeddings\n",
        "        self.embedding_dim = embedding_dim\n",
        "\n",
        "        self.weight = nn.Parameter( torch.Tensor( size=( num_embeddings, embedding_dim ) ) )\n",
        "\n",
        "        return\n",
        "\n",
        "    def forward(self, token_ids): # [ bs, seq_len, ... ] # LongTensor\n",
        "\n",
        "        token_ids_flat = token_ids.view(-1)\n",
        "\n",
        "        new_shape = (*(token_ids.shape), self.embedding_dim)\n",
        "\n",
        "        # [ bs, seq_len, emb_dim ]\n",
        "        return self.weight[token_ids_flat, :].view( new_shape )\n",
        "\n"
      ],
      "metadata": {
        "id": "F3w9W6MOgLMk"
      },
      "execution_count": null,
      "outputs": []
    },
    {
      "cell_type": "code",
      "source": [
        "# tokens ids\n",
        "tokens_batch = torch.arange(26).view(2,13).repeat(3, 1)\n",
        "\n",
        "tokens_batch.shape # [ bs, seq_len ]"
      ],
      "metadata": {
        "id": "5VnNw7tZhhKk",
        "colab": {
          "base_uri": "https://localhost:8080/"
        },
        "outputId": "2bfe9b5a-08c7-4e32-cb0c-2ccb70b5d124"
      },
      "execution_count": null,
      "outputs": [
        {
          "output_type": "execute_result",
          "data": {
            "text/plain": [
              "torch.Size([6, 13])"
            ]
          },
          "metadata": {},
          "execution_count": 38
        }
      ]
    },
    {
      "cell_type": "code",
      "source": [
        "nn_embeddings = nn.Embedding(num_embeddings=len(ascii_lowercase), embedding_dim=100)\n",
        "\n",
        "tokens_batch_embedded = nn_embeddings(tokens_batch)\n",
        "tokens_batch_embedded.shape"
      ],
      "metadata": {
        "id": "s7zMEBCxh_YX",
        "colab": {
          "base_uri": "https://localhost:8080/"
        },
        "outputId": "0f5d72ce-0f03-40c2-ee52-ba659bc9b420"
      },
      "execution_count": null,
      "outputs": [
        {
          "output_type": "execute_result",
          "data": {
            "text/plain": [
              "torch.Size([6, 13, 100])"
            ]
          },
          "metadata": {},
          "execution_count": 39
        }
      ]
    },
    {
      "cell_type": "code",
      "source": [
        "my_embeddings = MyEmbedding(num_embeddings=len(ascii_lowercase), embedding_dim=100)\n",
        "\n",
        "my_tokens_batch_embedded = my_embeddings(tokens_batch)\n",
        "my_tokens_batch_embedded.shape"
      ],
      "metadata": {
        "id": "SaBxW_SRhAZk",
        "colab": {
          "base_uri": "https://localhost:8080/"
        },
        "outputId": "9e23dee4-9afe-41b8-d952-1ae1a3bf95f5"
      },
      "execution_count": null,
      "outputs": [
        {
          "output_type": "execute_result",
          "data": {
            "text/plain": [
              "torch.Size([6, 13, 100])"
            ]
          },
          "metadata": {},
          "execution_count": 42
        }
      ]
    },
    {
      "cell_type": "markdown",
      "source": [
        "## MyWord2Vec"
      ],
      "metadata": {
        "id": "ftyWgU-DIVz5"
      }
    },
    {
      "cell_type": "code",
      "source": [
        "class PyTorchWord2Vec(nn.Module):\n",
        "    def __init__(self, vocab_size, embedding_dim):\n",
        "\n",
        "        self.vocab_size = vocab_size\n",
        "\n",
        "        self.word_embedding = nn.Embedding(vocab_size, embedding_dim)\n",
        "        self.context_embedding = nn.Embedding(vocab_size, embedding_dim)\n",
        "\n",
        "        return\n",
        "\n",
        "    def forward_skip_gram(self, tokens_ids, skipgram_target_tokens):\n",
        "        # tokens_ids ~ [ seq_len ]\n",
        "        # skipgram_target_tokens [ seq_len, window_size ]\n",
        "        if not isinstance(torch.Tensor, tokens_ids):\n",
        "            tokens_ids = torch.tensor(tokens_ids, dtype=torch.long)\n",
        "\n",
        "        if not isinstance(torch.Tensor, skipgram_target_tokens):\n",
        "            skipgram_target_tokens = torch.tensor(skipgram_target_tokens, dtype=torch.long)\n",
        "\n",
        "        return self.word_embedding(tokens_ids), self.context_embedding(skipgram_target_tokens)\n",
        "\n",
        "    def get_token_embedding(self, token_id):\n",
        "        # only word_embedding used\n",
        "        return self.word_embedding(token_id)\n",
        "\n",
        "    def negative_sampling(self, num_negative_samples=100):\n",
        "\n",
        "        random_tokens = torch.randint(0, self.vocab_size, [ num_negative_samples ])\n",
        "\n",
        "        return self.context_embedding(random_tokens)\n",
        "\n",
        "    def build_skip_gram_list(tokens_ids):\n",
        "        skip_gram_target_tokens = []\n",
        "\n",
        "        tokens_ids = [ '', *tokens_ids, '' ] # source sentnce padding\n",
        "        for i in enumerate(tokens_ids):\n",
        "            token_id = tokens_ids[i]\n",
        "            if i > 0:\n",
        "                skip_gram_target_tokens.append(tokens_ids[i-1])\n",
        "            if i < len(tokens_ids) - 1:\n",
        "                skip_gram_target_tokens.append(tokens_ids[i+1])\n",
        "\n",
        "        return skip_gram_target_tokens\n"
      ],
      "metadata": {
        "id": "xXqL0-aVmYVb"
      },
      "execution_count": null,
      "outputs": []
    },
    {
      "cell_type": "markdown",
      "source": [
        "# Эмбэддинги для русского языка"
      ],
      "metadata": {
        "id": "XcMMRzRPtCqT"
      }
    },
    {
      "cell_type": "markdown",
      "source": [
        "## navec\n",
        "\n",
        "https://github.com/natasha/navec"
      ],
      "metadata": {
        "id": "D8cy4Ji-tE7b"
      }
    },
    {
      "cell_type": "code",
      "source": [
        "!pip install navec"
      ],
      "metadata": {
        "colab": {
          "base_uri": "https://localhost:8080/"
        },
        "id": "188iAXn2tPWY",
        "outputId": "086e5348-3cee-4927-f8c3-1ad4ab383d0f"
      },
      "execution_count": null,
      "outputs": [
        {
          "output_type": "stream",
          "name": "stdout",
          "text": [
            "Collecting navec\n",
            "  Downloading navec-0.10.0-py3-none-any.whl (23 kB)\n",
            "Requirement already satisfied: numpy in /usr/local/lib/python3.7/dist-packages (from navec) (1.21.5)\n",
            "Installing collected packages: navec\n",
            "Successfully installed navec-0.10.0\n"
          ]
        }
      ]
    },
    {
      "cell_type": "code",
      "source": [
        "!wget https://storage.yandexcloud.net/natasha-navec/packs/navec_hudlit_v1_12B_500K_300d_100q.tar"
      ],
      "metadata": {
        "colab": {
          "base_uri": "https://localhost:8080/"
        },
        "id": "bPooO9Witd_z",
        "outputId": "ee72e814-40a1-42f4-a6f4-977c5e5932ff"
      },
      "execution_count": null,
      "outputs": [
        {
          "output_type": "stream",
          "name": "stdout",
          "text": [
            "--2022-03-22 12:59:23--  https://storage.yandexcloud.net/natasha-navec/packs/navec_hudlit_v1_12B_500K_300d_100q.tar\n",
            "Resolving storage.yandexcloud.net (storage.yandexcloud.net)... 213.180.193.243, 2a02:6b8::1d9\n",
            "Connecting to storage.yandexcloud.net (storage.yandexcloud.net)|213.180.193.243|:443... connected.\n",
            "HTTP request sent, awaiting response... 200 OK\n",
            "Length: 53012480 (51M) [application/x-tar]\n",
            "Saving to: ‘navec_hudlit_v1_12B_500K_300d_100q.tar’\n",
            "\n",
            "navec_hudlit_v1_12B 100%[===================>]  50.56M  15.5MB/s    in 4.4s    \n",
            "\n",
            "2022-03-22 12:59:29 (11.6 MB/s) - ‘navec_hudlit_v1_12B_500K_300d_100q.tar’ saved [53012480/53012480]\n",
            "\n"
          ]
        }
      ]
    },
    {
      "cell_type": "code",
      "source": [
        "from navec import Navec\n",
        "\n",
        "path = 'navec_hudlit_v1_12B_500K_300d_100q.tar'\n",
        "navec = Navec.load(path)"
      ],
      "metadata": {
        "id": "MByt3lNVtLJA"
      },
      "execution_count": null,
      "outputs": []
    },
    {
      "cell_type": "code",
      "source": [
        "navec['вечер'].shape"
      ],
      "metadata": {
        "colab": {
          "base_uri": "https://localhost:8080/"
        },
        "id": "00Zi9T3mtkpn",
        "outputId": "4f802889-5e0d-4394-848a-a2bef9c6923d"
      },
      "execution_count": null,
      "outputs": [
        {
          "output_type": "execute_result",
          "data": {
            "text/plain": [
              "(300,)"
            ]
          },
          "metadata": {},
          "execution_count": 31
        }
      ]
    },
    {
      "cell_type": "markdown",
      "source": [
        "## Бенчмарк эмбэддингов - [MTEB](https://arxiv.org/abs/2210.07316)\n",
        "\n",
        "[**Leaderboard**](https://huggingface.co/spaces/mteb/leaderboard)"
      ],
      "metadata": {
        "id": "D1KUN61W3aKh"
      }
    },
    {
      "cell_type": "markdown",
      "source": [
        "![изображение.png](data:image/png;base64,iVBORw0KGgoAAAANSUhEUgAABiQAAAM0CAYAAAA7i0rdAAAMP2lDQ1BJQ0MgUHJvZmlsZQAASImVVwdYU8kWnluSkEBooUsJvQkiNYCUEFoA6UUQlZAECCXGQFCxl0UF14KKKNjQVRHFTrOgiJ1FsffFgoKyLhbsypsU0HVf+d75vrn3v/+c+c+Zc+eWAUDtBEckykXVAcgTFohjQwLo45JT6KQegAANoA5cAJ3DzRcxo6MjALSh89/t3Q3oDe2qg1Trn/3/1TR4/HwuAEg0xOm8fG4exIcAwKu4InEBAEQpbz61QCTFsAEtMUwQ4sVSnCnHVVKcLsf7ZD7xsSyI2wBQUuFwxJkAqF6GPL2Qmwk1VPshdhLyBEIA1OgQ++blTeZBnAaxDfQRQSzVZ6T/oJP5N830YU0OJ3MYy+ciM6VAQb4olzP9/yzH/7a8XMlQDCvYVLLEobHSOcO63cqZHC7FKhD3CdMjoyDWhPiDgCfzhxilZElCE+T+qCE3nwVrBnQgduJxAsMhNoQ4WJgbGaHg0zMEwWyI4QpBpwkK2PEQ60G8mJ8fFKfw2SyeHKuIhdZniFlMBX+OI5bFlcZ6IMlJYCr0X2fx2Qp9TLUoKz4JYgrEFoWCxEiIVSF2zM+JC1f4jCnKYkUO+YglsdL8LSCO5QtDAuT6WGGGODhW4V+Slz80X2xzloAdqcAHCrLiQ+X1wdq4HFn+cC7YZb6QmTCkw88fFzE0Fx4/MEg+d6yHL0yIU+h8EBUExMrH4hRRbrTCHzfj54ZIeTOIXfML4xRj8cQCuCDl+niGqCA6Xp4nXpTNCYuW54OvABGABQIBHUhgSweTQTYQdPQ19MEreU8w4AAxyAR84KBghkYkyXqE8BgHisCfEPFB/vC4AFkvHxRC/uswKz86gAxZb6FsRA54CnEeCAe58FoiGyUcjpYInkBG8I/oHNi4MN9c2KT9/54fYr8zTMhEKBjJUES62pAnMYgYSAwlBhNtcQPcF/fGI+DRHzZnnIF7Ds3juz/hKaGT8IhwndBFuD1JMF/8U5ZjQRfUD1bUIv3HWuBWUNMND8B9oDpUxnVwA+CAu8I4TNwPRnaDLEuRt7Qq9J+0/zaDH+6Gwo/sREbJumR/ss3PI1XtVN2GVaS1/rE+8lzTh+vNGu75OT7rh+rz4Dn8Z09sMXYQO4udxM5jR7EGQMdasEasHTsmxcOr64lsdQ1Fi5XlkwN1BP+IN3RnpZXMd6p16nX6Iu8r4E+TvqMBa7JouliQmVVAZ8IvAp/OFnIdR9KdnZxdAZB+X+Svrzcxsu8GotP+nVvwBwA+LYODg0e+c2EtAOz3gI9/03fOhgE/HcoAnGviSsSFcg6XHgjwLaEGnzR9YAzMgQ2cjzNwB97AHwSBMBAF4kEymAizz4LrXAymgplgHigGpWAFWAPWg01gK9gJ9oADoAEcBSfBGXARXAbXwV24errBC9AP3oHPCIKQECpCQ/QRE8QSsUecEQbiiwQhEUgskoykIZmIEJEgM5EFSClShqxHtiA1yH6kCTmJnEc6kdvIQ6QXeY18QjFUBdVCjVArdBTKQJloOBqPTkAz0SloEboQXYZWoNXobrQePYleRK+jXegLdAADmDKmg5liDhgDY2FRWAqWgYmx2VgJVo5VY3VYM7zPV7EurA/7iBNxGk7HHeAKDsUTcC4+BZ+NL8XX4zvxerwNv4o/xPvxbwQqwZBgT/AisAnjCJmEqYRiQjlhO+Ew4TR8lroJ74hEog7RmugBn8VkYjZxBnEpcQNxL/EEsZP4mDhAIpH0SfYkH1IUiUMqIBWT1pF2k1pIV0jdpA9KykomSs5KwUopSkKl+UrlSruUjitdUXqm9JmsTrYke5GjyDzydPJy8jZyM/kSuZv8maJBsab4UOIp2ZR5lApKHeU05R7ljbKyspmyp3KMskB5rnKF8j7lc8oPlT+qaKrYqbBUUlUkKstUdqicULmt8oZKpVpR/akp1ALqMmoN9RT1AfWDKk3VUZWtylOdo1qpWq96RfWlGlnNUo2pNlGtSK1c7aDaJbU+dbK6lTpLnaM+W71SvUn9pvqABk1jtEaURp7GUo1dGuc1ejRJmlaaQZo8zYWaWzVPaT6mYTRzGovGpS2gbaOdpnVrEbWstdha2VqlWnu0OrT6tTW1XbUTtadpV2of0+7SwXSsdNg6uTrLdQ7o3ND5pGuky9Tl6y7RrdO9ovteb4Sevx5fr0Rvr951vU/6dP0g/Rz9lfoN+vcNcAM7gxiDqQYbDU4b9I3QGuE9gjuiZMSBEXcMUUM7w1jDGYZbDdsNB4yMjUKMREbrjE4Z9RnrGPsbZxuvNj5u3GtCM/E1EZisNmkxeU7XpjPpufQKehu939TQNNRUYrrFtMP0s5m1WYLZfLO9ZvfNKeYM8wzz1eat5v0WJhZjLWZa1FrcsSRbMiyzLNdanrV8b2VtlWS1yKrBqsdaz5ptXWRda33PhmrjZzPFptrmmi3RlmGbY7vB9rIdaudml2VXaXfJHrV3txfYb7DvHEkY6TlSOLJ65E0HFQemQ6FDrcNDRx3HCMf5jg2OL0dZjEoZtXLU2VHfnNyccp22Od0drTk6bPT80c2jXzvbOXOdK52vuVBdgl3muDS6vHK1d+W7bnS95UZzG+u2yK3V7au7h7vYvc6918PCI82jyuMmQ4sRzVjKOOdJ8AzwnON51POjl7tXgdcBr7+8HbxzvHd594yxHsMfs23MYx8zH47PFp8uX7pvmu9m3y4/Uz+OX7XfI39zf57/dv9nTFtmNnM382WAU4A44HDAe5YXaxbrRCAWGBJYEtgRpBmUELQ+6EGwWXBmcG1wf4hbyIyQE6GE0PDQlaE32UZsLruG3R/mETYrrC1cJTwufH34owi7CHFE81h0bNjYVWPvRVpGCiMbokAUO2pV1P1o6+gp0UdiiDHRMZUxT2NHx86MPRtHi5sUtyvuXXxA/PL4uwk2CZKE1kS1xNTEmsT3SYFJZUld40aNmzXuYrJBsiC5MYWUkpiyPWVgfND4NeO7U91Si1NvTLCeMG3C+YkGE3MnHpukNokz6WAaIS0pbVfaF04Up5ozkM5Or0rv57K4a7kveP681bxevg+/jP8swyejLKMn0ydzVWZvll9WeVafgCVYL3iVHZq9Kft9TlTOjpzB3KTcvXlKeWl5TUJNYY6wbbLx5GmTO0X2omJR1xSvKWum9IvDxdvzkfwJ+Y0FWvBHvl1iI/lF8rDQt7Cy8MPUxKkHp2lME05rn243fcn0Z0XBRb/NwGdwZ7TONJ05b+bDWcxZW2Yjs9Nnt84xn7NwTvfckLk751Hm5cz7fb7T/LL5bxckLWheaLRw7sLHv4T8UlusWiwuvrnIe9GmxfhiweKOJS5L1i35VsIruVDqVFpe+mUpd+mFX0f/WvHr4LKMZR3L3ZdvXEFcIVxxY6Xfyp1lGmVFZY9XjV1Vv5q+umT12zWT1pwvdy3ftJayVrK2qyKionGdxboV676sz1p/vTKgcm+VYdWSqvcbeBuubPTfWLfJaFPppk+bBZtvbQnZUl9tVV2+lbi1cOvTbYnbzv7G+K1mu8H20u1fdwh3dO2M3dlW41FTs8tw1/JatFZS27s7dfflPYF7Gusc6rbs1dlbug/sk+x7vj9t/40D4QdaDzIO1h2yPFR1mHa4pB6pn17f35DV0NWY3NjZFNbU2uzdfPiI45EdR02PVh7TPrb8OOX4wuODLUUtAydEJ/pOZp583Dqp9e6pcaeutcW0dZwOP33uTPCZU2eZZ1vO+Zw7et7rfNMFxoWGi+4X69vd2g//7vb74Q73jvpLHpcaL3tebu4c03n8it+Vk1cDr565xr528Xrk9c4bCTdu3Uy92XWLd6vndu7tV3cK73y+O/ce4V7JffX75Q8MH1T/YfvH3i73rmMPAx+2P4p7dPcx9/GLJ/lPvnQvfEp9Wv7M5FlNj3PP0d7g3svPxz/vfiF68bmv+E+NP6te2rw89Jf/X+394/q7X4lfDb5e+kb/zY63rm9bB6IHHrzLe/f5fckH/Q87PzI+nv2U9OnZ56lfSF8qvtp+bf4W/u3eYN7goIgj5sh+BTDY0IwMAF7vAICaDAAN7s8o4+X7P5kh8j2rDIH/hOV7RJm5A1AH/99j+uDfzU0A9m2D2y+or5YKQDQVgHhPgLq4DLehvZpsXyk1ItwHbA79mp6XDv6NyfecP+T98xlIVV3Bz+d/Aa5afHlrjStBAAAAomVYSWZNTQAqAAAACAAGAQYAAwAAAAEAAgAAARIAAwAAAAEAAQAAARoABQAAAAEAAABWARsABQAAAAEAAABeASgAAwAAAAEAAgAAh2kABAAAAAEAAABmAAAAAAAAAJAAAAABAAAAkAAAAAEAA5KGAAcAAAASAAAAkKACAAQAAAABAAAGJKADAAQAAAABAAADNAAAAABBU0NJSQAAAFNjcmVlbnNob3RKj7qjAAAACXBIWXMAABYlAAAWJQFJUiTwAAADVGlUWHRYTUw6Y29tLmFkb2JlLnhtcAAAAAAAPHg6eG1wbWV0YSB4bWxuczp4PSJhZG9iZTpuczptZXRhLyIgeDp4bXB0az0iWE1QIENvcmUgNi4wLjAiPgogICA8cmRmOlJERiB4bWxuczpyZGY9Imh0dHA6Ly93d3cudzMub3JnLzE5OTkvMDIvMjItcmRmLXN5bnRheC1ucyMiPgogICAgICA8cmRmOkRlc2NyaXB0aW9uIHJkZjphYm91dD0iIgogICAgICAgICAgICB4bWxuczp0aWZmPSJodHRwOi8vbnMuYWRvYmUuY29tL3RpZmYvMS4wLyIKICAgICAgICAgICAgeG1sbnM6ZXhpZj0iaHR0cDovL25zLmFkb2JlLmNvbS9leGlmLzEuMC8iPgogICAgICAgICA8dGlmZjpDb21wcmVzc2lvbj4xPC90aWZmOkNvbXByZXNzaW9uPgogICAgICAgICA8dGlmZjpSZXNvbHV0aW9uVW5pdD4yPC90aWZmOlJlc29sdXRpb25Vbml0PgogICAgICAgICA8dGlmZjpYUmVzb2x1dGlvbj4xNDQ8L3RpZmY6WFJlc29sdXRpb24+CiAgICAgICAgIDx0aWZmOllSZXNvbHV0aW9uPjE0NDwvdGlmZjpZUmVzb2x1dGlvbj4KICAgICAgICAgPHRpZmY6UGhvdG9tZXRyaWNJbnRlcnByZXRhdGlvbj4yPC90aWZmOlBob3RvbWV0cmljSW50ZXJwcmV0YXRpb24+CiAgICAgICAgIDx0aWZmOk9yaWVudGF0aW9uPjE8L3RpZmY6T3JpZW50YXRpb24+CiAgICAgICAgIDxleGlmOlBpeGVsWERpbWVuc2lvbj4xNTcyPC9leGlmOlBpeGVsWERpbWVuc2lvbj4KICAgICAgICAgPGV4aWY6VXNlckNvbW1lbnQ+U2NyZWVuc2hvdDwvZXhpZjpVc2VyQ29tbWVudD4KICAgICAgICAgPGV4aWY6UGl4ZWxZRGltZW5zaW9uPjgyMDwvZXhpZjpQaXhlbFlEaW1lbnNpb24+CiAgICAgIDwvcmRmOkRlc2NyaXB0aW9uPgogICA8L3JkZjpSREY+CjwveDp4bXBtZXRhPgr5QeuKAABAAElEQVR4AeydB3wU1fbHD0koKYRUeui9CYKAgBTpIPpQxI7tqdjeszx9+vzbnr737B17x4oFFcWCgAJK7733TggtEEKA//nNZjazk0mySXY3u5vf4bPszJ07t3xndjL3nnvOqXBaRSgkQAIkQAIkQAIkQAIkQAIkQAIkQAIkQAIkQAIkQAIkQAIk4EcCEX4sm0WTAAmQAAmQAAmQAAmQAAmQAAmQAAmQAAmQAAmQAAmQAAmQgEGACgneCCRAAiRAAiRAAiRAAiRAAiRAAiRAAiRAAiRAAiRAAiRAAn4nQIWE3xGzAhIgARIgARIgARIgARIgARIgARIgARIgARIgARIgARIgASokeA+QAAmQAAmQAAmQAAmQAAmQAAmQAAmQAAmQAAmQAAmQAAn4nQAVEn5HzApIgARIgARIgARIgARIgARIgARIgARIgARIgARIgARIgASokOA9QAIkQAIkQAIkQAIkQAIkQAIkQAIkQAIkQAIkQAIkQAIk4HcCVEj4HTErIAESIAESIAESIAESIAESIAESIAESIAESIAESIAESIAESoEKC9wAJkAAJkAAJkAAJkAAJkAAJkAAJkAAJkAAJkAAJkAAJkIDfCVAh4XfErIAESIAESIAESIAESIAESIAESIAESIAESIAESIAESIAESIAKCd4DJEACJEACJEACJEACJEACJEACJEACJEACJEACJEACJEACfidAhYTfEbMCEiABEiABEiABEiABEiABEiABEiABEiABEiABEiABEiABKiR4D5AACZAACZAACZAACZAACZAACZAACZAACZAACZAACZAACfidABUSfkfMCkiABEiABEiABEiABEiABEiABEiABEiABEiABEiABEiABKiQ4D1AAiRAAiRAAiRAAiRAAiRAAiRAAiRAAiRAAiRAAiRAAiTgdwJUSPgdMSsgARIgARIgARIgARIgARIgARIgARIgARIgARIgARIgARKgQoL3AAmQAAmQAAmQAAmQAAmQAAmQAAmQAAmQAAmQAAmQAAmQgN8JUCHhd8SsgARIgARIgARIgARIgARIgARIgARIgARIgARIgARIgARIgAoJ3gMkQAIkQAIkQAIkQAIkQAIkQAIkQAIkQAIkQAIkQAIkQAJ+J0CFhN8RswISIAESIAESIAESIAESIAESIAESIAESIAESIAESIAESIAEqJHgPkAAJkAAJkAAJkAAJkAAJkAAJkAAJkAAJkAAJkAAJkAAJ+J0AFRJ+R8wKSIAESIAESIAESIAESIAESIAESIAESIAESIAESIAESIAEqJDgPUACJEACJEACJEACJEACJEACJEACJEACJEACJEACJEACJOB3AlRI+B0xKyABEiABEiABEiABEiABEiABEiABEiABEiABEiABEiABEqBCgvcACZAACZAACZAACZAACZAACZAACZAACZAACZAACZAACZCA3wlQIeF3xKyABEiABEiABEiABEiABEiABEiABEiABEiABEiABEiABEiACgneAyRAAiRAAiRAAiRAAiRAAiRAAiRAAiRAAiRAAiRAAiRAAn4nQIWE3xGzAhIgARIgARIgARIgARIgARIgARIgARIgARIgARIgARIgASokeA+QAAmQAAmQAAmQAAmQAAmQAAmQAAmQAAmQAAmQAAmQAAn4nQAVEn5HzApIgARIgARIgARIgARIgARIgARIgARIgARIgARIgARIgASokOA9QAIkQAIkQAIkQAIkQAIkQAIkQAIkQAIkQAIkQAIkQAIk4HcCVEj4HTErIAESIAESIAESIAESIAESIAESIAESIAESIAESIAESIAESoEKC9wAJkAAJkAAJkAAJkAAJkAAJkAAJkAAJkAAJkAAJkAAJkIDfCVAh4XfErIAESIAESIAESIAESIAESIAESIAESIAESIAESIAESIAESIAKCd4DJEACJEACJEACJEACJEACJEACJEACJEACJEACJEACJEACfidAhYTfEbMCEiABEiABEiABEiABEiABEiABEiABEiABEiABEiABEiABKiR4D5AACZAACZAACZAACZAACZAACZAACZAACZAACZAACZAACfidABUSfkfMCkiABEiABEiABEiABEiABEiABEiABEiABEiABEiABEiABKiQ4D1AAiRAAiRAAiRAAiRAAiRAAiRAAiRAAiRAAiRAAiRAAiTgdwJUSPgdMSsgARIgARIgARIgARIgARIgARIgARIgARIgARIgARIgARKgQoL3AAmQAAmQAAmQAAmQAAmQAAmQAAmQAAmQAAmQAAmQAAmQgN8JUCHhd8SsgARIgARIgARIgARIgARIgARIgARIgARIgARIgARIgARIgAoJ3gMkQAIkQAIkQAIkQAIkQAIkQAIkQAIkQAIkQAIkQAIkQAJ+J0CFhN8RswISIAESIAESIAESIAESIAESIAESIAESIAESIAESIAESIAEqJHgPkAAJkAAJkAAJkAAJkAAJkAAJkAAJkAAJkAAJkAAJkAAJ+J0AFRJ+R8wKSIAESIAESIAESIAESIAESIAESIAESIAESIAESIAESIAEqJDgPUACJEACJEACJEACJEACJEACJEACJEACJEACJEACJEACJOB3AlRI+B0xKyABEiABEiABEiABEiABEiABEiABEiABEiABEiABEiABEqBCgvcACZAACZAACZAACZAACZAACZAACZAACZAACZAACZAACZCA3wlQIeF3xKyABEiABEiABEiABEiABEiABEiABEiABEiABEiABEiABEggigjyEzh8+LBs27bN+GRkZOTPwBQSIAESIAESIAES8AGBatWqSd26dSUtLU3i4+N9UCKLIAESIAESCGYCBw4ckO3btxsfbFNIgARIgARIgATCm0BcXJzUqVPH+KSkpIR3Z73sHRUSCmrVqlXy008/GZ85c+YIlRBe3j3MRgIkQAIkQAIk4DMCUE507NhRBg8eLIMGDZI2bdr4rGwWRAIkQAIkUDYEfvjhB5k4caJMmTLFUEJg8RuFBEiABEiABEigfBKIjo42FBPnnHOODBkyxPjExMSUOxgVTquUu17ndvill16SN998U5YvX+5G0KhRI2OVIlYr4pOUlOQ+xg0SIAESIAESIAES8CUBrI6FVebWrVuN73Xr1rmLb9asmVx//fVy7733utO4QQIkQAIkEPwExo4dK99//71AGZGZmeluMJ7r5gpJfHOs6UbDDRIgARIgARIIWwKHDh1yW0eaVpIHDx40+hsREWEoJYYOHSqjR48OWwb2jpVLhcSHH34o//vf/wzLCADBKkTz07x5czsj7pMACZAACZAACZBAQAhs2LDBsNj88ccfjcksVNqwYUO577775MYbbwxIG1gJCZAACZBAyQh89dVX8tRTTwms7iH169d3r37EREOFChVKVjDPIgESIAESIAESCCsCsJw0rSjhuQfSokULYzHatddeG1Z9depMuVJIrF27VnBR//jjD4MFBvb333+/NGjQwIkN00iABEiABEiABEigzAjs2rXLWEABi05Ihw4d5P3335d27dqVWZtYMQmQAAmQQH4CUCI//fTTMnXqVOPgJZdcInfeead06dIlf2amkAAJkAAJkAAJkICFwJIlS2TMmDGGFx8kn3nmmYZiAu8T4SrlRiExYcIEQxmRnp4uI0eONBQR7du3D9fryn6RAAmQAAmQAAmECYGVK1fKE088IbDwREC0Dz74QC688MIw6R27QQIkQAKhTeCRRx6RRx991OjEsGHDjAmEHj16hHan2HoSIAESIAESIIGAE1i6dKlhafnRRx8Zdd9yyy2GoiLgDQlAheVCIYHVKqb/ZZjQ3nPPPQFAyypIgARIgARIgARIwHcEYCnx97//3SjwySefdL/b+K4GlkQCJEACJFAcAqNGjRLEi6hXr5689dZbMmDAgOKczrwkQAIkQAIkQAIkkI/A7NmzBcqIBQsWyODBg42FaSkpKfnyhXJC2CskYPJy2223SXJysrz33nuCVSsUEiABEiABEiABEghFAhMnTpSrr75a9u3bJy+++KL87W9/C8VusM0kQAIkENIENm7cKFdddZXhCrh3796GUqJu3boh3Sc2ngRIgARIgARIIHgIZGVlGe8aX375pSDeMazlO3fuHDwNLGVLwlohMXnyZOnXr59ER0fLzJkz5YwzziglLp5OAiRAAiRAAiRAAmVLAD5Gu3XrJpmZmUYgtCFDhpRtg1g7CZAACZQjAgcOHJDu3bvLihUr5LrrrpN33nmnHPWeXSUBEiABEiABEggkgX/+85+GG6fExERjIUTLli0DWb3f6orwW8llXPD27duNmBFoBiwjqIwo4wvC6kmABEiABEiABHxCAEGtsUIGAnchq1ev9km5LIQESIAESKBoArCMgDLi7rvvpjKiaFzMQQIkQAIkQAIkUAoCcNX7zDPPSEZGhmExcfz48VKUFjynhq1CAi4Mtm7dKggyFs5RyYPnVmJLSIAESIAESIAEAkUAQa3xcpqenm64pgxUvayHBEiABMozAcTx+f7772X48OHG5EB5ZsG+kwAJkAAJkAAJBIYAFkEgpsT8+fMNpURgavVvLWHpsunXX3+V/v37S48ePWT69On+JcjSSYAESIAESIAESKCMCAwdOlQQV+Krr74SKCkoJEACJEAC/iGAuD133HGHYXn/xx9/SGxsrH8qYqkkQAIkQAIkQAIk4EAAAa5/+ukngRunJ554wiFH6CSFpUKib9++MmXKFPpVDp37kC0lARIgARIgARIoAYEZM2bIOeecI506dZK5c+eWoASeQgIkQAIkUBQBWKPVr19fjh49KosXL5a2bdsWdQqPkwAJkAAJkAAJkIBPCezdu9dYfL9mzRpZtGhRSIcnCDuXTYg+DmXEeeedJwzy6NP7noWRAAmQAAmQAAkEGQFYg15++eUyb948effdd4OsdWwOCZAACYQHgaeeekoyMzPl3//+N5UR4XFJ2QsSIAESIAESCDkCqampcv/99xvtxrtJKEvYWUggXsS4cePkrbfekr/+9a+hfG3YdhIgARIgARIgARIokgD8mQ8bNkwGDhxomPAWeQIz+ITAk+9Pk6Vrd3tdVvf29eXmizt7nd8p4yufz5ZZS7Y4HXJMa9+ilvzjqh75jr3x1VyZvmBTvvSySLhrVHc5s3ltj6pP5JySm//7nWQdP+GR7s+d1o2ry/3X9SqwirWb0+XRN6cUeLyoAxERERIZUUEqVYySilER+h0pSdWiJTUxVtKqV5OeHRtIXEyloorh8TIggLiE9erVkxo1asiWLVukUiVepzK4DKySBEiABEiABEgglwCs4xFP4s8//5Szzz47JLlEhWSrC2k0fGmlpaVRGVEIIx4iARIgARIgARIIHwKwCm3Tpo38/PPPcuTIEYmLiwufzgVxT375c72sWLXT6xZOnr5WLh3UThKrVvH6HGvGfQeOyn/GTLYmFbmdruc4KSSmzt0gv2v7g0HO790yn0LieHaO/PDrioA2b/vuw4UqJDbvOiC4hv6Uc3s0kfN7t5L+XRtLUny0P6ti2cUgYK5AvPfee6mMKAY3ZiUBEiABEiABEvAPAbyTYEE+3lHGjx/vn0r8XGpYuWyaNGmSHDp0SAYNGuRnbCyeBEiABEiABEiABIKHgPnug4UZlOAl8OGEhSVu3PsTFpT4XJ4YGgSmzFgndzz+nbQ+73mBNczJU6dDo+Fh3ErEjBgzZow0bNhQ7rrrrjDuKbtGAiRAAiRAAiQQKgRGjhwpPXv2lG+++UZWrlwZKs32aGdYKSTMQbg5KPfoKXdIgARIgARIgARIIEwJmO8+5rtQmHYz5Lv1uk4yZ584Wex+wGLg1Y9nFfs8nhC6BGANM+Ifn5bofgndXgdfy3/44Qc5ffq0XHjhhcHXOLaIBEiABEiABEig3BIYMWKE0feJEyeGJIOwUkiYWqHu3buH5MVgo0mABEiABEiABEigJAS6detmnLZ69eqSnM5zAkTgQMZRGT+1+KuYvpy8Qo4dzQ5QK1lNsBCYNW+T/POlX4KlOeWyHeYgf+jQoeWy/+w0CZAACZAACZBAcBIYMmSI0TAsnghFCSuFxLZt2wy/ngg4RiEBEiABEiABEiCB8kIgOjpaEhISZNeuXeWlyyHbz1c+naUrrr1vPvKO0XMo5ZPAZ98ulDkrtpXPzgdBrzHIT0lJkT59+gRBa9gEEiABEiABEiABEnARaNy4sXTs2FGmTp0q+/btCzksYaeQqFu3bshdBDaYBEiABEiABEiABEpLoGbNmrJzp/dBlktbH88vGYF16/fItAWbvD4ZAag3bgq9QYbXHWTGIgl8+N2iIvMwg+8J/Pbbb7J3716hdYTv2bJEEiABEiABEiCB0hMIZSuJsFFIHD58WDIyMiQtLa30V5QlkAAJkAAJkAAJkECIEYBCIjMzUw4dOhRiLS9/zR0zznuLhzHjZpc/QOyxB4GJv63y2OdOYAisWbPGqKhr166BqZC1kAAJkAAJkAAJkEAxCISy296oYvQzqLMeO3bMaF9sbGxQt5ONIwESIAESIAESIAF/EIiJiTGKzcrKkvj4eH9UwTJ9RGD6zA2yatNeadEgtdASl2/YLX/O2VhonpIcvPniLtK3c2OvT/1mygpZsMQ7t0HXjewsDWoneF12t3b1vM7rlLFVi1py6aC2ToeKlZZWo1qx8heW+eWHL5CBXZvKaf138tRpOaWfw5nHZcO2/Xrd98k7X8+XHTsyCivC4xjihxzLOiHRVSp6pHPHvwS2b99uVFCnTh3/VsTSSYAESIAESIAESKAEBMx3FPOdpQRFlNkpYaOQKDOCrJgESKBUBHJycmT8+PEeZTRs2FA6derkkcadwgkcOXJEfvzxR49MiKfTs2dPjzTukAAJkAAJBAeB17+YKy/c4wpGV1CLkMcf0qtjA8HHWzmUmeW1QuKaYR2kaf1kb4sudb5zzmwgN1wYXO8MVaMrS9XYSh59S64WbShqzu3cyFCgXP1/X8q8RVs98hS2sycjU+rX8l7RU1hZPOYdAXNwbw72vTuLuUigfBLYvXu3TJs2zaPzXbp0kXr1Sqd09iiwjHaKO86CperixYtl06ZNsmfPHqlcubIR56t9+/bSpk0bmTBhgmDxiCkVKlSQESNGmLsh9b1hwwaZP3++R5vRx5YtW3qkcYcESMA/BMx3FPOdxT+1+KdUKiT8w5WlkkC5JLB+/XqZOXOmLFu2TJYsWSJLly41As1Xr15d2rZtK3gpPe+888QaeB7WTSNHjvTgdf3118vbb7/tkcadwgls2bIlH8dzzz1XJk+eXPiJPEoCJEACJFAmBD6fsEj+dX0vqZ7kbN27a1+mfPnDkjJpGyv1L4Gk+Gh59V/nS+eRY7yuKD6uitd5mdE3BMzBvTnY902pLIUEgp/AnDlzZOHChcaYDhPrGzduNCwv4RryjDPOkB49esigQYPEtMxEj5DfPqYbO3asXHnllcHf4SJaWJxx1htvvCH33HOPwKW4Xa655hp577335Iorrsh3/MSJExIVFXrTc7/++qvcdNNNHl19/PHH5YEHHvBI4w4JkIB/CCQlJQk8BZnvLP6pxT+lht4Tzz8cWCoJkEApCGCFx5NPPimPPPKIYylYOTFr1ix56623jOMXX3yx4GUtMTHRMX8wJmJiv1+/fh5N++ijj4wXSo9E7pAACZAACZCAlwTe+26+/PMaZ0u29yd4rjj0skhmCxECaTW9dxEVHVNJEqtSIRHoS4vBfaVKlTwW0gS6DayPBAJJYMeOHXLHHXfIF1984VjtihUrZMqUKfL8888bx++//37573//65i3PCaC2+jRo0O+6xjTP/roox79gLVH/fr1PdK4QwIkEBwEsHAiFBUSYRPUOjhuA7aCBMofAVhCYKVMQcoIJyJ4WcMLbyjJyZMn8zX31KlT+dKYQAIkQAIkQALeEnjjszlGbAB7fsQLePPzOfZk7ocRgZyT3r9DtG5WI4x6HjpdwbtfKK5YDh3CbGkwEfj888+lRYsWBSojnNr6yiuvOCWX27S77rrLse/wFhBK4jTudUoLpT6xrSQQzgTwrhKKv1FaSITzXcm+kYCfCWRnZwusHdasWePnmlh8UQQQd+P333/3yBZKFigeDecOCZAACZQTAghWPO7XZXL1eR08evy5puEYJXwJLF67y+vOXRdkMTK8bjgzkgAJhASBdevWyaWXXhoSbS2LRnozztq/f79s27bNo3nDhg0TKHqio6Pl6NGjkpmZaRyfNGmSHD9+3J03MjIyZJWf559/vqHIcndGN8CLQgIkQAJFEaBCoihCPE4CJFAggeeee85RGdGsWTN5+eWXjZgR8fHxhjXEl19+aZj0IrBXcQWBrxFrwirwWYqXN6vgJc9qtQAzewQRcxLkRcwLmLbt3LnT8IFau3ZtwadBgwYeL4XwAYpgZnZBGVb/oFWqVJGKFSvasxlBy+B7FS/7MHeFn7/GjRtLkyZNJCUlJV9+JMCPqDXYGdKqVq2KL7fs27fP6B/S8aJ75plnyunTp93H0X+rFFYm+CL2x/Lly402IRAZ2liUQCm1atUqI2YI+g5TXljM4NpYX7RRjr39RZXN4yRAAiRQHgi8+ulsuWpIe4mIqGB09+Sp0/KaplG8IzB76Rb5/Jdl3mUuINdZrWpLo7pJBRz1ffKazfvklse+86rg2rUTZdg5zb3Ky0wkQAIkUFwCGDvcdtttjqcNHTpUHnvsMSNAMVbgYhHau+++K88++6xjfm8SUd/WrVuN8SHGMvhgPIHxUXJysjE+SktL86Yo41yMrTCe27t3r3F+rVq1pG7dusansEI2b95sKBCgRMCYDjEOMQ7EWAZtsUpR4yyMBxE70S7gh3EsjmOclJqaamRp166dkW7mt49pzXTzG2WgnWgzPigLjNBWJ1YlZYwV1lCc4GMX9ME67oXP+oiICKNP2LYKeBUk6AuuP8bha9euFYyfMXeAcSdilBQk/hjHFlQX00mABAJDgAqJwHBmLSQQdgTwIgG/oXZBIOWJEyd6KALg0+7vf/+7XKOBvOCX9P3337efVuj+hx9+KAh0bZWff/5ZBgwY4E7Ci1dcXJx7Hxuw3hg3bpxHGl7ioCwp7EUaE+cXXnihEeciPT1dCgpmePPNNws+psDX5kMPPWTuGi9zTz/9dKHurP72t78Zx+3WDI888kg+n6x44cbL9lNPPSU//fST8VI4fPhw+frrrw2FiX3C/4YbbpA333zT3R6nMvHyjFgYiAFil6uvvtrwEWtvG/JB8YOYIE5+UtEOvBzDz6xVMFjAiz6FBEiABMoTAUwo79iRUWCXt2zdL5NmrZeB3ZoYeX7VbaQVJgmJMXIgI/+EQWHnhOuxRUu3yx36KY3cfUNP+cdVPUpThMe581du13eSSpJz4pSa0J+SEzmn5PCxbFm2drcsXLVd5izY4pG/oB3Ejnj3seESFUkvuwUxYjoJkEDpCIwfP14wrrILxjT2OAKtWrWSZ555xghijMDMWJRUHPnxxx/lkksu8ZjYdjof48kbb7zRyOt0fPbs2YKFcfZxnjUvlBIYZyHAtCmYcEd/MQ5EfMOCBIu8EJh58ODBRhYsTCtonAU3xAWNFTFOMsdKUE58//33Rnm9evWSuXPnuqtHWzG2tgsWp2Hc/PDDD0tBi/rQ1ttvv90YZ+P80jDGmNIemNxsU/v27c1N43vq1KnSu3dvQZzFgQMHehwrKM4iysfYuaC+nHXWWcb4Eovb7OLLcay9bO6TAAmUDQEqJMqGO2slgZAn8Oeffzr2AcGqC7JKqFatmrz33nsyatQowwrBsQA/JqLNgwYNKvIlGKs/PvjgA3nhhRdK3JqFCxcKTFjtprv2Al966SX57LPP3JYJ5nEoWOzyf//3f4bywJ6Ofaf8VmuRgvK0bdvWqTgjDQzw4j527FiPPCj3L3/5i0yYMMEj3dwBP7sywjzGbxIgARIobwRGjzxLHnrhl0K7/cpnM90KCWwXJleq+54/FmyiQqIwSGV87OUP/hB8SisfPT1Szmha8IrR0pbP80mABEjg119/zQcBiocHHnggX7qZ0LRpU5k2bZrMmDHDTPLqG26NrKvsCzoJgbPxOXDggKH8sOYbM2ZMgRYd1nwYg2GMZSoksMIei+M++eQTazbH7QULFhiucE2FhDfjLMeCSpGIhWhdunQpcPLeLBptRZBx9A3iC8ZGQUX8ZzKxjzdxmnnMLALsL7roogLHjmY+KGmg+Pjf//4n9913n5lsfNvLRGJJxrEehXKHBEigTAlwuU2Z4mflJBC6BJxWxGBFBdwQFSV9+vQRu2lnUeeU9jhMT2FN4PQS3KhRo3yrXkpTH+qCH1a7MgLmqBdccEG+orFK5F//+le+dHsCVpsEWlCn3QQZK3UKUkYEun2sjwRIgASCnUDTesnSq1vjQps5b9FWWbRmp/HBdmFy/V88400UlpfHQpPAuT2ayMzPbpFubeuFZgfYahIggZAhsGTJknxthWWB3fWrPRNc7fTr18+eXOz9wgI+w7oAE+ymLF68uEBlBMZZhQmsxp2UEbB8wFgwmASWERhXF2RJUNy2Fodxccv2Jj+sWYozdoQXhsIsWLypE3mcxrHenst8JEAC/idAhYT/GbMGEghLAog1YJc2bdrYk4JmHwGf7S91MAeG8gA+LA8dOmTEksCLi/WFFi9w8+fPd7SWgCnzvHnz3B+YFkP+/e9/54utgdVHq1evlm+++cZQisDE1Spwf7RlyxZrUsC2r7vuOsP8+pZbbnGsE7ElTIGPVbjdsgvMhWHujdU8UGDALJlCAiRAAiTgInDjhWcVieK1cXMFn8Kka6cG0qJBamFZeCwMCMTFVJHVm/bJ8eycMOgNu0ACJBDMBJwUEi1atPBLkxMSEgTjr1dffdWwDke8ud27dxuuYKFsgMseu1jb9+mnn9oPG+5yEZcA4yx8Y1yHFfZ2F0uIfWEXBJfGGBDnQAmwaNEit4sle96C9s2xIrwA2AWKHXOs+OKLL9oPF7gP90RWl05mxnfeeccYL0JJg7EtrA7sUhrG/fv3N9p71VVX2Ys1XASbfcF3586d8+VxSkAMRbu1A/JBQQGrB3CHSyq7wF0zrmdRUpxxbFFl8TgJkEBgCUQFtjrWRgIkEC4E8NJoF5jvBqsgFoRddu3aJb/99pt069ZN4E4KgbTgDxXWDX/88YfxIosgY5hsR8A1u8AapGPHjvZk+fjjjz3SunfvLn379nWnIdYFXvRQt1UQKK5evYJXQ8LCAxP9iM+AYGGIJ4Gg4aURXEcEVjMFAd3sL4V4STcFL/t2KxP4PYXJtjWAWfPmzeWHH34wT+M3CZAACZRrAr07NdQYOoXHkvjOi8DMN12Uf7KmXIMN087jXsAHMSSeumewjOjbOkx7ym6RAAmUJQEoA+zv9WiPvywGMI6xL1rCYicsGkNgaxyzT8Qj8LG5kMtpPLZy5UpjEh2ufuA2GG3HBPitt97q4ULWvjAN/YQ7X4xjsBgN5yJ2wWuvvWZYrjsFdsY5dkGwb4wVnVwXNWzY0HGsaC/Dvo84F3bB4jbreLJnz56CD9xSzZkzx529NIyhzMDYFsGy7QI2Jbkv4HrLLvAMcN555xnJ4A4FDGJQWq893P9CmVGYcqy441h7O7hPAiRQtgSokChb/qydBEKWACauMYFuFatJrTU9GLadXqDwojNkyBCjeXgZxUsd3ElhtQm2SyJQEthdNUG5YVccOL38g2dhps8wd23QoEFJmlXgOfZ2nXPOOfnyWl/IoZCwCwKpWZUR9uPcJwESIIHyTiAiooLcfMlZ8uDzhceSKIxTampV6de1cNdPhZ3PY6FH4NjRbLn90W9lxoLN8r/b+0t0lYqh1wm2mARIIGgJ2McBZkMzMjKMBVDmvi+/oXhAcGNMumNxlpOiwFof4tmZ4rT47YsvvhB8IFhkhYVmiBmI+A+IwWBK69at843RsAjLXIiFBWQ9evQw4uR17drVPC3g3wigbR9jw3LEqoywNgoL6fCxSmkYW8vxxbbV0t4sz8mFMVxUWRUSyAsOhSkk7PdvUeNYs35+kwAJBAcBumwKjuvAVpBAyBHAKgm7OLlxsufx1b7TKpTCysYLKVavFCRQIsCv6A033CBJSUnGapOC8haWXhADKCCsH6cyinohdzrH12nJycmFFmm1ljAzNm7MCTKTBb9JgARIoCACIwe0LeiQV+k3jewsUZF8dfcKVphl+nzCIrn2ka/DrFfsDgmQQFkTwIIiq6tasz1OC5DMY6X53r59u+Gy6bLLLpNx48YVqYyw13XllVfakzz24d7p9ddfN5QKGJ9Y3T0V5JrWLAALyJ588kk5++yzZcCAAeJkXW/m9ee301jSySK/oDaUlnFB5ZY03R6LEOXUqVMnX3FYHGgXWMcUR4oaxxanLOYlARLwPwFaSPifMWsggbAk0LJly3z9wioXrGKBmyN/C1Z+FEfQJsRvgPWDffWFUzl4UW7VqpWHOyOnfPa0ihWdVy/a/Zjaz8N+oAN9O7UBZrOFCZQ1drFaUNiPcZ8ESIAESMBFID62slyrSoX3xuW5VigOm8uH5F8IUJzzwzUv3Bq1blajVN1rUT/443L8/ud6+WHaahnas3mp+sqTSYAESMBKAIvM7Cvyp0+fLhdffLE1W6m3EQ8Ai8OcFmBBKYJ2YHz37bffFlgXJrIROwFtcyrHeiIWmyEmwsaNGyUmJkbOP/98eeWVVwoMim09F7Elbr75ZkNpYk0PxLbVIsSsr0KFCuZmod++YFxoBSU46DS29LY/xV2A6FRXCZrMU0iABAJEgAqJAIFmNSQQbgSczCfhAgkven//+98L7O6qVavk2muvFQSPLs3K+gMHDhRYR0EHEHth1qxZhnnwl19+acSJsK6csZ+HwGnW+Ar2404vjFBi2OWaa64Rp0Bn9nyhsO/kUxRMnYKfhUJ/2EYSIAESCCSBa4d1KJFC4rILOkhi1SqBbGrI1DXqLx3lkdF9gqq9zz0wTAae3cRo06lTpzVwp6h/8dOSo4s2jhw9Ljv3HZGFq3fKRxMWy44dGV63/f4Xf5E+nRtJDF03ec2MGUmABAonAFdGpssjM+fLL78so0aNkk6dOplJ+b6/++47eeqpp4w4cvkOOiQgELJdiTBw4EBBsOnatWsbZ8yfP79QhQQywa0ulAyoH4GRMQ7ZsGGDQ41i1AcFBtw3QRBXAovTPv/8c4HSYdq0aY4xNJAXTBDw2u4WCMf8KbgedilsvGrN6yvG1jLN7eIqB8zzMDb++eefzV3je8eOHe5rbh5Aml2c5hvsebhPAiQQugRo9x26144tJ4EyJQA/m06T73fccYfxYmmfrMcq+hdffFFgWYEXx6ysLK/bj1UtdrEHTLa/4NrzIxDYG2+8YQQcO/fcc+XVV18VBMJCO2bOnCmXX365/RRB0GtTIiLyPy4RCM4uiYmJUr16dY/k999/X5zMVc1MeAFDMC8E7gp2cVJIgOXTTz8tmzdv1kmX0wZXWMtQSIAESIAEPAk0rZ8s3bs09Ez0Yu/64QW7HPTidGYJMIGkqtGSFO/6pCTESGpijNRIjpU61eOleYNUQZDzO6/oJnM+GS2jr+zmdev27j0sc5dv9zo/M5IACZBAUQSuuOIKxyyXXHKJYY1gP4hxC9wfIQ6AtxPlKMMpuPG9996bb2LaXp91f8yYMYIxHcaGiJvw8ccfC9zJYqHa999/7+ieF/H9IHfddZcx1qpZs6axeA75oXCAi6MPPvhAnKzZnYJoW9vjj+1q1arlCx4Nd1JO/FA/FtBB0QJxylNcxijHadxb1Fgb5zmJ03wBFgZaBeNHXEu7UCFhJ8J9EggvAvln2MKrf+wNCZCAnwjAJLKgVf/XX3+9YVmAYMePP/64YRGBlz8oK0oiToGc4XcUprcPPfSQsTof5RcmeGEePXq0NG/eXPAyi5U1ePlBPzp06OCoXLGW6eTrEtYgUK7gBe2nn34SrOqBoP92gQIHfkkR2AsvxvDN+tVXXxkvxyj70Ucfla1bt9pPC7p9rNpBYDW74GUX1wkvsO3bt5cFCxbYs3CfBEiABEhACdx0UedicejUPk1aNyqdS6JiVcjMASMQqcHOH76xt7Rt5Vod7E3F67ele5ONeUiABEjAKwJNmjSRZ599Nl9eWB307t3bCKZ83333GcGfL7zwQsP//2uvvZYvf1EJTpPcsHA4fvy4MSZD7IQHH3yw0GJ+/PFHww0TAjzDymH//v1GfkziI6BxrVq18p2fmupyyff8888LgmJjnAalxrFjx4y8sM5APxFPwy716tWzJwVkf8SIEfnqQZ/RB4xpMY795ZdfBIGgsahuxowZRn5fMEZBTvEcMKbH+BUKKbB3smjI12hNQDwOu2BMPHbsWMGCRSiT7r777nxjR7j3atSokf1U7pMACYQRgagw6gu7QgIkEGACnTt3Nl4gnF5i4b4JH18IlAhOgpdYfIojeLm+7bbb3KfAmqGgFR/WwGlOShH4JkXgM1OgVEDQMVg74EXXGqsCAa3xMo9PKAt8fsIaAi/uFBIgARIggeITOFdd7tSunei1q57RI4qnwCh+i3hGWRO4eEAbWboiv7sKp3at3kSFhBMXppEACZScwN/+9jf57LPPPMYuZmlYde+08t487u23k/unF154QfAprljbZFo2YKxlF0ys9+nj6dIPLqLwgRR2LtzRRkWVzXQZxpQYS9oXeMHKozDxFWOnQOdQBuFjCq6B6WrLTHP6hlIHLsCwUNEqcAmGT0Hy9ttvByQuZUH1M50ESMD/BCL8XwVrIAESCGcCTzzxhLz++uvuFzpv+1qlive+sOEG6T//+U+hRdvdJBWa2XKwIGXEO++8I1Yfnlg1g5dDb6RSpUrGSz1WdoSj9OrVy4gBYr7EO/XR6Ri4UEiABEigvBPAqvgbLy7YL7eVT2pqVRnYvak1idthSOBo1gmve3U0K9vrvMxIAiRAAt4QwMQ7Yirceeed3mR354FlgreCFf5Dhw71NrvX+aCIcFJGYCwyfvx4KWzMWdC5sLbA+LasBG2GFYKTYqCwNvmKMfrvy8Vn8FJQnHiDcAcMDwYUEiCB8CZAhUR4X1/2jgT8TgAvsDfddJPhk/Pmm292NPE0G4EA0Qh+tnPnTndAayfT0sjISPMU9/c999wjjz32mHvfuoEVFzAhtQtW85uCF2D4O3WaKDfz4BsvTIj3cN1111mTjW1YN0ApUVAZVlNfmJjCQgI+MgsLjI2C8dKH1UFwdWSKEwMnVmZ+p2P2Muz7ONd+nlMep9VB8DcLC5iXXnpJbrzxRqMPMBmGgmrLli35XmLBLCUlxWwuv0mABEigXBMYOaCtV/3/64izJCqSr+tewQrhTLv3Z3rd+sOZVEh4DYsZSYAEvCYA5cJzzz1nxIIbNmxYgeMdFNi/f3/58MMPPcZf9jEF8lnHFRiXffTRR8ZYC8fsAte+TpYY1nKRB0GpCxMsUsOYce3atR5BuaFggAvdwgTxDuCSGEGYrTEMrW0wz7f2DWlOeZzGUMhrPxdpdoErLbixgmujwlwXYRx5//33G6f7gjEKQl8++eSTQpUIcHts5jU2LP/Z+wcOuF+g9CpMyYLg47humFOwi71MHLczd8pT0DWwl899EiCBwBOooD7UTwe+Wt/XiFXONWrUkCFDhog92K3va2OJJEAChRGAP0gEaEaQMLwYxMdrEEd1uwRLh9JKRkaG8fKLsuEHFMGuirPyHo88BChDwGooRg4ePGgEoYbJKWI5WF8+C2rrqVOnjABqaAu24+LijHML69+JEyeMoM9wGYXVOMnJye56ExISCqoqaNPhrgrM7C+CaDCuPa6NVc7VQOKTJ0+2JnGbBEjAxwSgeJ04caLs3r3beL74uHgWZyPQ98b3ZMWqnbbU/LufPneZEcTYfuSeF36Rj76eZ0/22F824U5Jrpbfr3W3UW/Kxk37PPI67bRvW0d+HHO106FipT07doY889Y0r86ZNvYmQfDu0siRo9nSdNAzXhVx0+VnyyOjPV1yeHViMTP9Onu9XHXP516d9f4TI2VgtyZe5cVIrPvV3l1PFHjtyM7y39v6eVU2M5WOACxlN23aJJmZ3iuMSlcjzyaB4CKQnp5uTBDjG6v2k5KSjLGXdRFWSVqMcdiqVauM+AFQIGBRljdjMLOunJwc410H5eCDOBQYlyCGBMZzhU1CI3aEOQ7E+1LFihXd5yJ+oHVBm1lfMHxj/IhFX4g5iPEs2gp3SBhTOklpGZtlgi0W/oEbxn1YZFa/fn3HmBvmOUV9437CeBH9wVwBlC/4FOceKKoOHieB8kQgVN9XysYpXnm6M9hXEiiHBPAyAauAoiwDSoIGk/5du3YtyanGOXjJRHAzfNq29W6Fqr0yvIzZJ9zteez7eNk1X7bsx0JtH8HH0tLSjAlPBLdr06aN8SKPF2VYTSBQmV2cAmHb83CfBEiABMoTgb/+pYMsWLG9wC6f26WhozKiwBN4IOQIQBnx1AfTvFIumZ2ro268KCRAAiQQCAKY7C5owrs09WMyHZ+SChQOUDzgU1yBMqVhw4bGp7jnlmV+KAIw6Wh1KVxYe0rL2CwblhC+HtOb91WXLl3MavhNAiRQDglQIVEOLzq7TAIkQAK+IADLNG/8q8LMONSDefuCF8sgARIgASuB5g1SZfKb11qTuF0CAtv2HJT1W/eX4EzPU+LjqkhqYoxnoh/2ck6ekrVb9smStXvk/W/ny6KlBSulnKrv16WRUzLTSIAESIAESIAESIAESCBkCFAhETKXig0lARIggdAkgKBsoeiWKjRps9UkQAIkUL4I/PDrCsGntNKiWU2Z+nb++FElKfeeZ3+UVz7Lc8d46tRpOaXmENknTnnl5qugOtFGKLIoJEACJEACJEACJEACJBDKBKiQCOWrx7aTAAmQQBkQQMyO4cOHG0G7EUvCSRAUDoHBR40aZbjHcsrDNBIgARIgARIIRwJ79x4WfHwt917Tw9dFsjwSIAESIAESIAESIAESCDgBKiQCjpwVkgAJkEBoE0CMkK+//troBIJ1I3YEgoNnZ2cbcSUKC+4d2j1n60mABEiABEigbAgMG9BaBvdoVjaVs1YSIAESIAESIAESIAES8CEBKiR8CJNFkQAJkEB5I4Bg3UlJScanvPWd/SUBEiABEiCBQBBo37aOPHPnoEBUxTpIgARIgARIgARIgARIwO8EIvxeAysgARIgARIgARIgARIgARIgARIoNoFe3RrL189eLvGxlYt9Lk8gARIgARIgARIgARIggWAkQAuJYLwqbBMJkAAJkAAJkAAJkAAJkEC5JRAdU0meuHuQXNyvjVSoUG4xsOMkQAIkQAIkQAIkQAJhSIAKiTC8qOwSCZAACZAACZAACZAACZBA6BFo2CBFLh96hlwx5AxJrFol9DrAFpMACZAACZAACZAACZBAEQSokCgCEA+TAAmQAAmQAAmQAAmQgJ1AXExFe5LjfpUqvn/djtPV895IrJf5iiorLsZ7d0GVK5e+v5ERgTcJiCniOsV4eb2LYonjsH4Ap/i4KlIzNU5aN6kpLRulSvtmNaStblNIgARIgARIgARIgARIIJwJlH7EEM502DcSIAESIAESIAESIAEScCDw7QtXOqQGJumX168JTEW5tdx00VmCT6AkukpF2TntX4Gqzqt6urWtF3Rt8qrhzEQCJEACJEACJEACJEACQUaAQa2D7IKwOSRAAiRAAiRAAiRAAiRAAiRAAiRAAiRAAiRAAiRAAiQQjgSokAjHq8o+kQAJkAAJkAAJkAAJkAAJkAAJkAAJkAAJkAAJkAAJkECQEaBCIsguCJtDAiRAAiRAAiRAAiRAAiRAAiRAAiRAAiRAAiRAAiRAAuFIgAqJcLyq7BMJkAAJkAAJkAAJkAAJkAAJkAAJkAAJkAAJkAAJkAAJBBkBKiSC7IKwOSRAAiRAAiRAAiRAAiRAAiRAAiRAAiRAAiRAAiRAAiQQjgSokAjHq8o+kQAJkAAJkAAJkAAJkAAJkAAJkAAJkAAJkAAJkAAJkECQEaBCIsguCJtDAiRAAiRAAiRAAiRAAiRAAiRAAiRAAiRAAiRAAiRAAuFIgAqJcLyq7BMJkAAJkAAJkAAJkAAJkAAJkAAJkAAJkAAJkAAJkAAJBBkBKiSC7IKwOSRAAiRAAiRAAiRAAiRAAiRAAiRAAiRAAiRAAiRAAiQQjgSokAjHq8o+kQAJkAAJkAAJkAAJkAAJkAAJkAAJkAAJkAAJkAAJkECQEaBCIsguCJtDAiRAAiRAAiRAAiRAAiRAAiRAAiRAAiRAAiRAAiRAAuFIgAqJcLyq7BMJkAAJkAAJkAAJkAAJkAAJkAAJkAAJkAAJkAAJkAAJBBkBKiSC7IKwOSRAAiRAAiRAAiRAAiRAAiRAAiRAAiRAAiRAAiRAAiQQjgSokAjHq8o+kQAJkAAJkAAJkAAJkAAJkAAJkAAJkAAJkAAJkAAJkECQEaBCIsguCJtDAiRAAiRAAiRAAiRAAiRAAiRAAiRAAiRAAiRAAiRAAuFIgAqJcLyq7BMJkAAJkAAJkAAJkAAJkAAJkAAJkAAJkAAJkAAJkAAJBBkBKiSC7IKwOSRAAiRAAiRAAiRAAiRAAiRAAiRAAiRAAiRAAiRAAiQQjgSokAjHq8o+kQAJkAAJkAAJkAAJkAAJkAAJkAAJkAAJkAAJkAAJkECQEYgKsvaERHO2bsuSpcszZcnSTMk+cTok2lzeG9myRYy0ax0rzZvF+BXFvIWHZemyI7J1W7Zf62HhviGQnFxR2rSKkbat4yQp0X+PQz4zfHO9AlkKnxmBpB06dQXqmRE6RNhSEiABEiABEiABEiABEiABEiABEigeAf/NwBWvHSGT+4Ux2+XNd3aHTHvZUJNAurExqH+C3PePNKmeWtE84JPveQsOy/+e3SYrVx7zSXksJLAE4uIi5Z9315aLLkj1ecV8ZvgcaYAK5DMjQKBDshp/PjNCEggbTQIkQAIkQAIkQAIkQAIkQAIkQAJeEqBCwktQyHbp1asNq4iE1CiJ7hQpp1JOSlQ0vV4VA2GZZD2VI3J0+yk5sUHkp0kHZOacIzL27abSpHG0T9ozfsI+eeDhLUZZcbUjJaZrhFRMqeCTslmIfwkczzgl2btEDk3PkQcf3SorVh6VB++r77NK+czwGcqAFsRnRkBxh1Rl/n5mhBQMNpYESIAESKDYBFavOSpTpx1Qa/ujsmUrLaqLDZAnkEAQEWjerIpa2sfIBeelSEI1/0yt8ZkRRBecTSGBUhJo0SJaPbdEy4i/VJdoziWLf56apbxIwXg6VjnDRVNczUhJuTZSIquglZHB2FS2yYFAfH29Vt1ENnx6Wg6uypH/PL1N3nu9qUPO4iXt2p0tTz67wzip5mWVpFoLKiKKR7Bsc8fV0fuijUh86wjZMT5HPh2XLt26xEvfPomlbhifGaVGWKYF8JlRpviDtnJ/PjOCttNsGAmQAAmQgE8IvP/RLnnqOde4AQVWqhwhp3xSMgshARIINIGc46dk/YYsmfjTAXl/7F75v3/W9ckY0toPPjOsNLhNAqFNwHxm/DAxQ8Z+uk/uu7uOnNur9PNOoUyFCgkvrh78v8NNU9WUKKnhVkZ4cSKzBB2BRpdFyYbPRWbPOSxff7dXLjy/dC56Xn5tuxw6lCP1zo+W6BYcUgTdBfeyQbG1Kkj1QZGy64NT8pi63iqtQoLPDC/Bh0A2PjNC4CKVQRN9/cwogy6wShIgARIggQASeOnV7fL627ulcpUIST6zokSdKRKdyIVMAbwErIoEfE7gyO5Tcmj1Sdn9+wm5/e6N8srz4rMJRuszI6ljRanc8bRUTuYzw+cXkQWSQAAJZO48LRnLT8q26dly252+fWYEsBs+q4oKCS9QIoA1JO4s0zLCi5OYJWgJpHSJlJ0rTsr8xZmlVkgsWXpMoipWkOiOVEYE7QX3smHVGkXIvsaRsmf9Cdmz90Sp4ozwmeEl9BDJxmdGiFyoADfTl8+MADed1ZEACZAACQSQwJz5hw1lRKrGsIu9KEoqJbkqP30ygI1gVSRAAj4nEJsSKfhERJ6Qg1Ny5OEnt8nZnauV2hWLxzPj0gipnIKmUxnh8wvIAkkgwASwqC22VpTsrKxuw389KQ/56JkR4G74rDoqJLxACVdNEMSMoJsmA0VI/1e1TgXZqT1YmHtdS9qZAwdzZP3GLEltVqmkRfC8ICNQuY5IznqRJcuOSL9SuG3iMyPILmwpm8NnRikBhvHpvnpmhDEido0ESIAEyj2BTz7dYzCoMbiyZMWfEsSqopAACYQPgdROlSTnqEj6rBMy9ovdcuOoWqXqnPnMSD2/kpxM4QOjVDB5MgkEIYFa50TJyeMi+6frM+NLfWZcVbpnRhB20asmUSHhBabsE6eNXAxg7QWsEMhSoaI2slIFOZpdOquGkydd90VORXxzxUIIXPoimxhZ2XUdc3JKd2/wmVEk6pDKwGdGSF2ugDbWV8+MgDaalZEACZAACQSUwOJlR6VqtUjJStX3S1pFBJQ9KyOBQBGo1ixKMmflyPSFh0utkMAzI06fGSfrURkRqOvHekgg0AQSW0dK5vSTMm2BPjOokAg0ftZHAmVLIKKCb5QILrVE2faFtZMACfifAJ8Z/mfMGkiABEiABEggnAik7z8hu/ecMCYXT+f4ZuwRTnzYFxIIFwLRiZFGVzas1WXPpRDrM6MUxfBUEiCBICcA902QDeuzgryl/mseLST8x5YlkwAJkAAJkAAJkAAJkAAJkAAJlHMCqfXVxespKiTK+W3A7oc5AVhV+2qxYnJDuHXwVWlhDp7dI4FQJaCeW8rzr5wKiVC9cdluEiABEiABEiABEiABEiABEiCBoCdgqCJOUiER9BeKDSSBUhLgr7yUAHk6CZBAuSFAhUS5udTsKAmQAAmQAAmQAAmQAAmQAAmQQOAJ6DQl3cEHHjtrJIFAEyjPy50DzZr1kQAJhDQBKiSC4PKNbF1DoiMjjJaMW7NPjmWd8FurmtWoKkPTEmR/do58sGRnsevp2ShJGsZVdp+Hv7eHT5yUVRlZsnLXIXc6NhqmxsrZWl+D2MqSGqNR5E+dlh1HT8jkHYdk8faD+fL2rBXvkXbs5CnZfCRb5mve0gYZ9ig4BHbObpAozeKrGC39XXlt2pfpt1aX9p5Aw6KiIuTchonSulqM1IyOMszO9madlD16Ly/Qti/fmXdvVKoUKd3qVpO2iTFSK7qiVNX99KwcWXMoS77dsF8yj2bn62vV2EoyWJk0xL2k5R/ToNP7tPxtx47LnN2ZsjXdf3zyNcZPCfbfFqrJ1t9MZs5JWZJ+VDbt9ezjwKYp0qpatMzbnynTlVtZSWnbcVmbmlIpIm8tUc7p05JxPEcW7j0qOzOOenSrOM8UO8/CnlUelQTRjr0PaFoo3BOh8ExJS46V/vocqhtbUarpM+jA8ZP6TMmRDUeOy+xdh+XA4dL5/w2i24hNIQESIAESCAICFfAiQguJILgSbAIJ+JdA3qjGv/WwdBIgARIIdQJUSJTxFayeEC0j6ye6W7HjWLZMWpvu3vf1RtOEytK9eqwcPHFKPpDiKyT6q9KgZTXXRLlH2xqK7MyqLvfN2mJMKGOC+umz0jyyYKeBTix3U0XFz/p5a9EO9/H2KbEyTCeHnCSrRXV5VPOu3X3Y6XBYpt3ULFXilCGkRpWK8pQfFRKlvSegLHipewOpmtte84I0qerauiCtmsxVJdiTc7YYCcOaJMtlDZLMbMZ3rSpR0iahigypU01u/3OzZBzOC+zTtna8/N8ZtSTSHoTcuF1ijbLeXLtXfvHj78ajnJSPMwAAQABJREFUsX7aKfC3hfoaJcssnaB/Zq6LIZLO0t9M+8RowQT+dCk7hURp23FRvQR0J780EZm976g8nXvfFPeZUiBP27Mqf8XBk1JgH9DEIL4ngv2ZcqkqwUbY7rv6Ma7r3leqyg2q7Lt95pZ8CrHguTPYkrIgsGl7hhzIzPvbhDYkxFaRBnXy3uGs7crRRRXL1u+2JhnbTeomS1yM+pIPQRl86weyaOl2d8u7dmog45+73L0fjBtbdh2U/Yc8ldvetrNGYlWplRrnbXbmI4EiCVSgQqJIRsxQtgRqJkZJzYSKcvLkadmqAdkPHDlZtg3yUe0NqleUw1mnJP1QePTHR1hYTDkkgLmbSroYOl0Xg1JIoKwJUCFRxlegr20SfpBOyPpTIbFk3zH5uuIByVALidLI8oNZ8ruuIo2rGCHtdKU7JkYxqfxY57py128b3EXv1VWnE7ZmyObD2ZJWtZKgf3V1VfxAnWT+fvOBfBM+GWpt8Ymu9o6OrKCWGFXknBqxUkW3H+lQW0ZP3yiHM/OvnndXFiYbrVXpYyoj0KVOyTECq4LsbP+8QJX2nrjrjNqGMgIrt6ftPiKLdVX78ZzT0iC+kiq/4qS+TrxE2JQJWCQ2Qy0b/tx7WHL0vM6qoMLkK671DS2ry1O5k9Do952taxrKiHTt/zRVSq3IOCZVVPnRqGpl6VszXuL1HrSXH8q3wrIDWTJVrY0qqtVA1YqR+huIk3rKsGtqjLTU/pqWSJPUcmaDruJerjzKUnzVjp+1Pxt1dTpWq/dQy6o0fU50SYmRUe1qyYcWa67iPlO8fVaVJcOi6g61eyKYnymwsjGVEbjfpu85IhsPZUt1teJrWrWK9KkZZzxvLEY7RV0eHi8nBB4YM0mmzFjn0dsEff9Z/OXtUkmf1Xb5ccYaufHBr+3J8uFTl0j/ro3zpYdCQrYuZrFKdinfJa1l+Wv7P2//Lt/9sqxExY++sps8fGPvEp3ry5Nuevw7yVSLUFNuGtFZzulQ39zld4gQgIVEhRzXYiN/N7lt/crSq0WsUc2GvdkyccERf1cZUuX3aBUjrWpVlrSkipKgf/8PHj0pew/nyKyNR2X26rJ9r3YCWSclSjKzTvtVOZBSLVLuP6+6NExBIGWXzN54TJ78bq+565PvyhrANSU+UvapYuB4NkaE/pcB7WNldK9k2ZJ+Qu74qPgLMovXQrWPCEy3itesEMgdSK8hIYDDaGJxPAl426enutaX1MqR8sCC7bJa5/N8KU5W8lhUGKfj+iPHTpQ7rye+ZBuuZVEhUcZXtp9OwkI26UQ7rAcweZuiblj2HfR8GcIkSnylKFmuE7JwX1Q3KVYSVQGwT3/YKfoDx+TJNp2ctGs6G+gq6mqVXfm27z8qu3Xl+XI9b7+6poAkq1ugujqxi3Jw3C5ta1czyjbrNY/PVxc5U9a7LDm+08SLWlU3Vqpj4hRaVygO/jF3q4ebmeX69395+jF5vovLcqKxroi3u2TZlnlCpuaWi7p+0YnJ/3WsI5W1gy10Yn5uOVBI9FOlDWSLui6qG43JfJEeamFg8jYO6n/mtdukyqGDOrGG/drqTuu4rsqsrFrvkt4T0WqR0UxZZ+vKGHPy26wT3/X1nkrQe2rDgWMSr99t9TpCnl2xW+ZvOWBs478F+vl6xR45S1ciY5LZlF9UEfXrloNGm820hdsOSqrWC8VWc4sFzrnqpgkKB8hdajlhdec0U9M+X7lHBqvFxVptS7jIAnXB9Lsq5UyZsHaffDagmbELJc/KXa4j61QRkaXPAlx/uzRWK6jman1VXZnC6mpFepZs03Kt4qtnir0d5n1Z3GfKJL0HTNdkX+l980i3BobVTBd99n2oDcdzryTPFG+eVVYuwbgdavdEaf7O1NDnmD+fKZc2SjEu8VZ9vt4zbaPH5Z6sex/r36/hjZPlQO7fSI8M3CEBG4EDqoAfP3WlXDKgje2IyMufzsqXxgQSKAkBu0JlcI/mJSmG55Q1ASgkAmQhcWHHanJGmuv9/OxGp+XHuZ7vgGWNoqzqr5EUKbcPSJaWtSt7NKFOAqZEVInTPFYO9T4lo9/erpPlHlnKbKfvGTFyS99kfY8/IX9/P3cQ4IfW3NBb3TLnKiMOqSXBseOn5Kh++/qevblPkvRUZdmkZUfk9V8y/NCT/EVWOKWDaRX87+v+GAVb/nPVZEngplcEAu01xKtGBUEmbz0JFKep5jrRCOMXUZwzi87rZCU/SheXDqkTL1/rPNEny/z3DCu6dcwRjASokCjDqwINYrXcydb/LNghL5xdT2JVg9i3brx8blNI/Kt9bUnUFXh/7o2XM3TSFvkgy3QitpYqAZJ1wvewTtjdNmOTe9IWyoin1G0SJqYnahyGd1Xh0EEVIPdozIr1qrz4p1ocXKB+/+EmB5YJN0xa60EDE88Pt69lpN0+80Q+5YE18/Qdh91ueOJUcQKFhN3nPfJjosoUtKsosbppSlBNbrgLNMjddCU85LON+6V3jXjprKvEYVFiV0hc2iTFWM27+tBxiYmqIGl6H5gCa4KS3hMttL4HdFU65KYZ2R5KLrTvPx3rGpYMcJO0WmOHmJKjCgwnmWtRUuB4QVYuiC8ChYQaSbjFun1KLSnsgknqCat8u3LHXkdZ71eMyrvvt6ilkSkjGicZViVfbM6Qz5e73ILg+tzavo6cowoJD2kqMkEn/K1xY3z1TLG3w1fPlHmq9IQbr2qW/vvimeL0rPJgFQI7wX5PlObvTJTlD4Nfnim5i1MrmG/jtuuN55PVIsd2mLskkI/AK6p4GNm/jVhvqTkrtsnSFXluKfOdFKIJ913XU90f5S0AqKGLYygkQALeE6hQOgN1ryqKj42QtnVdygicEK0r0nu2iJHpy/IvPPOqwDDK9NBfqqs7Itf0x4qtx+WPNZly6NhpqZMUJR0bVpGmajURXyXCGGdnH/W0CCsrDBG5k+mYPPTn/dOujuue+XbeIRk7JS/Wo2VY5hMEZnkRp/3bH2tjI8xLCaWgn3+D6kmXUgICgfYaUoImlukp3noSKNNGauVOVvLmb976nlzW7WT9wUOACokyvBYDct01rdQVzvCZ/7taP0A50E8nn80JRnvzEH8BcgLBbnUl/FF1jfP4wh3ybOc0w23OP9W10UN/bDJc/GDCEXM761T58O5iNU9wkJ+3HjTqhLIDroKswYcHqe9/yGZdSWq3ZLAXlawrsU1B2wqSM7VvpmzXVf1FCVz2wEd+lD7BtLthL13VEgKxEsBwwfZDckIn+aGQaKxWLInqTsQaW8GE0TzetcoH2KFYilXriNLcE7BWyGxVw3gZH6DWDZ9aNNlnqnYbbpVQ1/StrkDVuNr4Q3N3mxrylbrl+mPnkXwWPmZbC/tGLALIVosVzJbDeQHen+pWXz7dkC7LNa4ALELCVRCoeos+G+CyKVmtmYbWdcVYgMXM6r2Fm9xf0CzFrYyYvidTVuvEUUedMOqQFG3EaEHA3ukW6wswDNZnSlyuC5TTRdg9F/eZ4u2zKpjur/J0T8BCy5/PlM1Hsg3FJ1wHPqxWOF+q4neDWhsdy8p71gTTtWdbgp/AuvV75Pf5G6V3p4buxr72+Rz3tjcbuP827syQdF1kkqELUg6rZVuiuq1MUKVso1rJUjP372NhZUGZtnlXhuzUvxNQGqQmxEh1Dd5ev2aiYbla0LnFOa9XxwaC2BimROn7BgQLBrJs7pvgxso8bubHRM2x456/Nad8yI8+rN+mv89tGfpMUDeQtROkQc0kr1iY9eH7lks6y/A+La1JMm3hZnlvnOc1uuuvPaVt4xoe+RrX9Yx3ZR48qtdrw/b9slHblqF/V+vp4pEGtRIkTT+RFqWqU3/xvoTnnFWc8sEVZYSWZeVtnnM8+4SuXM7jGF25oodCzMzH7+AigGvv79XZ6PG5rWON8V/2idP6LDmlFtSR0rtVrMxYnKdMRL7E+Ag5Qyfh9x08KbsP5kjX5tFSX/3s71VXOgvXZcmabdmGMqNb62hpXLOycY9t2KWxDhd4WlukVY+S1vUqS1LVSKkaHSkndGyaru6P/lx1TPZm5LmbPaMRxjJ5i2zQBqssWJslhyxKgN5qGdCoRiWpUrmCbNt3QuavOybb9+aVh3M7Nq0iVWMiZPbKY9KiXiVppe1IjIuUXVrvL/OPeJR3Sa94tzLiq5mH5LPfXOMYsw1f/X5Y+p0ZK8O7VpXj2kXzWoHT2S2iJS2lkuC3umlPtkxfelSO2dwNob2wKpi9Km+xFspuVreS1E6OklXbjsuudFf7vW13amKktM21dEmIjZQ+bfKUwL8tzlMw1UyOlDMbV5F6qZX0eaxeE9KzZeoizzY2rF1R6qdWlLU7jhscsZ+mFhHHs133SOWKuENFKlaIMOqBi74/V2SJt9fXODn3v+5t9F7SumJ1MeHugydk1dZs434Ci3pJrgV09bVusz8mN5PV8i3HPe4dFNuznVrva5tmrczj265hZf27oG63lE1M5QjJ1ntvu7plmrbEs++mUkdVIO7ram2vr7dNiwxflxvO5ZXEa0hDfcdpo2PcGF2QB5fOS9X9EBYrwtqinc6f1NXFmnv0b+WfOw/LAZ0PswoWBtfTeQt4caii7zKHdQ5ltbpNtrowwjxUy0LiSB04niObLXE+4SXgDJ2rS1Nr6wP6TrTuoLpW3un5nDE9UaQfy5F0Hdu3V1excEOdpe9WS9WTyJoCYqYW5UnA7Js3XhLMvNbvBG1D86QYSakSqQumo+S4Pkj2qbX4vF1H3IudzfzwoAKX2/CkAUZp+q4aExWlXhuO5fPGUkPfRdE/CFzjnpHrCeSoXqf96qGlJJ5azHbwOzwIUCFRRtcRK5m75yoXfsl9UE3WCWgoJKAcaKK+99epb2u77NYH34vLdud7WGG1+mgNhNxK3d1crBYQzfQHn6QPCASvfmz+dnsx7n24aYIf7Ybq6mewTnyaD020r6c+qCHf2Va4u0/O3cAD/Q6djIYc0vrs7qZysxkPrGt1VT8E/VivE6aFCVxX/U3LhTICsiw978WrsPNC+RgsISB/7s00/qDiD2uWmrlBCXBuWrx8pS+GdslSpcW76/bJNF0pjz/CppT0nsD50MJfqMqIAdoeq0LivNzJ8T+0feYE3jdbD8hwVaTE6B/zqzTQLj4n9Y19k078zdx3RL7XYNPWdpnts34PbZ5i+DJE2g9qzWPK0h0HZb1aAkAhgxgld6miBII+r9UXi1/0+MxNgTH3Ndvk72/EDMHHLqtVcYnJiYIEv9kR9VzBVcfrNfl4qcsk8ifZJ3d2SjOC2Y9SVzR2hUSwPVOMZ0/9RLlQ7ynIov3573mTAV6CivNM8fZZZZYfLN/l6Z7Ac8Wfz5RvVKk5oHZVjVOkK0j1BbqtKvEh+Fu5XCeDx2/SSUZ9vlFIoDgEXvl8llshgeDXP01d5fXpf/33N/LDrysKzd+9S0O55eIucm7nRvnyrd+6X14ZN1s++3ZhvmNmQvu2deTZfwyWVg2rm0lSkvNufOxb+fm3vL6dr66q3vi/82Wj9rnHFa+7y8bGvTf1ljuv6OaRNnv5Vhl+y1iPNHtMjVWb9so/X/hZ5izY4pHP3Bnct6U8fks/qZ3qekc10wv6PqNpTcHHKkf0OfOeNUG3u7WvJ93b1bOleu5CSfL4W7/JpwWwbtGspjx990Dp1LKOcWLG4WPS/ao3BK69rPLLu9dJ2yZ5bXrp05nyxOtTrVnksgs66MTuSfnyhyUe6dh54NmfjY954LvXr5azWrnqNNP4HYQEdDI7IgAum3q2cgVin78eE/g5MuKceGlTTxWcOtF0KDNvnNC9eYxc3c/1rgXlRaXcCWmQu7BrvExemCkdm+l4Uif43XJGrCA+xQtf5r173zwwSZrqRLNdLu+VIO+rS56f57ru/7/2T5SaaolQkLz2fYb8ppPodVIj5R8jUoxJfGvey85JkI+nHJCJs/P+Rt86NFmVIBXk1iHWnK7t8zpVlfve2S17cpUi/bTtkC17cmTc5MPi5K5kirYVHwiOd2lVRW4emiTRqhTJk1i5uHu8vDR+vyzf5LJcbt2gkrYhyVg8d/lyz3H3JT2qCSbOv5t1WD7+1TU56W27+7WNk+5q3QKJ0TagDlPS95806h/SJVYu76MLmdRaPk9i5aKzq8nTX6TLGlUGQC7uFi9nNY2WzbtPCOI4IHi1kwzp6Lp/cGzR6h3i7fVF/pb1lcP5SZKq8Sjs8qveT3U1FgaUXpAmtSrpx9Uf6LnB7cre1aRlWmX5asYhGfdbnm/7xnUryu16HSCXLMvj++ClqUaa/b8r9d575KM9snGHyxwC1hiGBOg3aG8P9wsnUBKvISIubw5myZiLWNMgyZjXMudTzGNX6NzEbX9sdi/shBeQ/6pLcCeBF5EHZm425i6ap8TJg2d41mM9B+5f78yNnYq5jKvVLax9qL68UZI8oXNx5rwJFBB3585nHNMbH+MRUy5rIPKpjkPgurgosXsSwPjZWy8JTmXf1qamsWDLfuxU8+ry9PJdYnq8gOLC9KDy/bZYY+7S7PP76nZ9ryoxrN5Yrm+eKubiWXg+aJPg4om5ook69zlMF2FiDHb9pDUeVcO1tFnPrX+ekN0HPN+jPDJzJ6QJ5P0CQrobodf4jqp4wApo/Bhn64p0CDSsCNgKGZA78WvsWP57wUEZgcO/rkuX6RokGHKJTuZhRTRWsT+2cHs+raaRyfLfd7n1YyW+uWrrLH04IG4DAhX/4aCQGKUP9nf7N5Mvh7QwHuhwD4T6XtQ4Ak6Ch+S/u9Qz3AhpNnnaEqTWmh8TRG/3byrjBreQ17vXNxQsOI4J1j1hFCfA2mdzu5oqhVrmxk/4VR/QEEzkz8hVTPVXbbSTfKNBw+HOyT7pX5p74keN8wCpqtfN1GTjDxAUXpDvt+TFOMDE9wsaywGr702BlQeUCFc21PukbxN3GeZx6zdiTFzT2KWoWqSrG2bZFAx4KcAf532WoN5Q0OBewR/0F/s0MeJnWMsM5W0oCKbqaoTfNEA4FFOwUIIg6PdrvRoX2LUkvX/wTIF8sz7v+mD/i1yrCCg7MYlvlWB5pjxxVl0ZO7CZES/jFn15QVeO6ovamytcihVrm7Ht7TOluM8qez3BsF/e7gl/PlOwGvyWGZtksq6WgmLTFLhPhLXQ0+rm8IGu9Y37yzzGbxIoisAfszfKyo2uAeRb4+cXld3j+PbdeUp4jwOWHZR/xT8+k9/mbbSk6uKFpVsMRUBhygicsGjpdtmg7wqmlPQ883z7d+O0JGnbqrZH8tcOSpYJv632yBOtqxetliVvj58nfUa9VaAyAif/OHml9NBJfliCBFJmLdsqnUaOKVAZgbasWrNLht30gUyatd5oWlJ8tLz5yPB8zfzrw9+4JycWrt6ZTxkBxcZ/b+uf77yCEoqyJCzoPKYHnkCEDvP8+amnE7711GIB8odaRExfcMywOsScV++2MR51V3ANOY28UEas356tq8+PyXFVTuAdrL9aC0AZse/AScMCYdd+1+RupybRHuVg/HdE3R7NWnFMvv3jsPw854gczDxplDGqX6I77/QlmYbCAUoH82NUrv/pcFh27Tlh5L1dJ7RhUYBJ6qkLjxplQqkAD56jVIHSuIbGTszlmDvNbBRzVIM+w8pi5WbXeCS2SgUZfna8kTcmIsJYRY+Mk9Vywjy/sG+4Cr5tmEsZgf79MPOI0TfwwYr82/+SlFdOrlsllG8v07gASNf+mMe8bffqTcfV8s1lDQUe09Qqwvxs33lSWuvk/aj+CYYyAswnL9Cg3HoNoWCKV8uRGwfn8a+g50PqKz8oI8AcFimwaME5pixcd9yoY4qWla399vb6gjEUSVBGwOXmdLVSmDQvU7bsdt03cWrBMEfvkQNHXDdeulrmmH0xrwkCvxtiYQVmkZZ71WSIbzDBfYn76Zvph406UXcVVbhcrwowM6/1XjfT/PWN9luvr6tD/L8wAk5eQ5AfXkMKE3iGwJh5eW48xWbqNQLKCHjXmKMeFTCWxv2LOa0utfIUbbhvkL5ULSI+0zmGt3Vh5x+5C2UxfzFQF0NCtqoHE8xBWT9mXcZxjX0KwULia3UuA89NLJhEeT/qXA5u59Y6d/JXXSzsJFBGwFMKFoLuz53nGKnzePaxutO5dk8Cdi8JaMPC/a7fNSb9z1HFSGECyyrw/EXb8t76fe65F/TJXBBqP/88LRfHMV6HcgVWHnaZuvuQe35zpyorMO+IzzhdSPtj7hwjxmBn2uY+h6tyCQJPL1RG2KmG176zajy8+hiUvcHKcwgmbm9ulzeIQ8R7SHf1Af+mTgbbJ5mNgwX8N2bxdulwbhOJ0/MgX23JcAeJLeAUI3mmPgxgXYGHda961eSnNfvEXAk/Ndf0zel8M9iwuVr9ddXmOj0wMHH4qE7wNNEHPOQ5VVo4+YI360jIddUCZc02NeX6eN1+WbDNNUFu5gnH73PUHZIp58E6QR/ykI7J0cZ3ik4kN9AJMzs7893NyGT7r6T3BFxDrdA/kFBAwGXQYrVa6Jvrwgt/TOzWLTPU7Qk++ANaW89pop8e1asaMQBgOXGNuhK602L5YDazo/bzHrUAwYsbLHWemLvVPOT+xm8AKwXwQcD0umr9g4BJUNDAaqJOdJScp8GvrfER3CeH4MbPyuk7W1wMmEY+pPFc8Acbq0iczDlT1QUNBC9Y1uDfSINJqCmV9feVbVHumOlO3yW9f0ryTIElVJQqmiBYKbFALaLe1WeFuaLE2r7iPlO8fVZZ6wim7fJ4T/jzmQKlxGuqrH9NLzJc4TWopspWjV+DQQyeV1Dot9bfGZ57FBIoiEBCYozHyvfXv5grj9zcV961uAKy5ymoLDO9nk7sN22QbLg/WqBKhGOWZzfyPKqr6Hu/3dDIfkL/Nt7+nx/MU93fndqnSd2aCbJ+S7pjHIuSnueuoICNq87vIPda4mbAldXazenStH6yccZJ/eP09aRlHmdfPbyjTqS53lkXr90lDz7/i8dxWHb0UauQJTrRP3n6WvcxcHnwtV/l7Yf+4k7z58YRre9GKBEs16N27UQZ1ruFrjjPkm8mLfc4dvfTE2X2x6ONRT7ndKgv9998rvzvtSnuJm5Rq5b/e3Wy/FvToZywCpQ0Hzx+kbqpiVL3T96tG/M2n7UebgeeACZb/W0h0a+9ywrgiE40L1zumphfryvkm6RVknPaxMjEaXnWBaaFACbyX/5ivyxZ68rfp2O0/PWCRAPQd9OPyOeTXIukYCXwxv21jMnvDuoeaPEaV/6nP0xXV0Weo5GpamXwxK3VDSVCM10Jv26bWj9OyasbhQ/rmed+aPzvh2TdphzppK6RGmp+yJvjM9xupib8dkSe+Xt1SVAFyUU94+W5j3MX3mBWXUcRs3Wi+63xB9ztuHdUspzRpLK6MIoymDeokzflsWuPKku8sFQZ3iPOsBrBhP2Dr+9xW1rMWnJMHro+1XANdV7XOJn4R6a6ATKabPxnL9v8FVfQVfruY162e9nqbJkSnynXDkuQvTrx/sZXnuPhSy+NN8ZQO9QS5p6X81ZVd2tXRW4dkWS4W0pLqmhYypgthLLiW528/3mmWrvnXjdc2y4PuMabH/1wUF1L5VoWaOneXt+L+laVOLVWwcTmf97bJ2u2uCZrUW/vM1WJpfMMU+YdlaZ1KsvZ6tJp2frj8uY3ef0x7sdcS4YI22/FzU3Lsm7f9L+d7j6Y/duqCpzLB1RTV3pQXLnGFaaFRCB+g0Y7PH8OZtP47UAAY7qSeA3BJP576lbanCt7vncjI54mrBYeVYsE00XTrlbV5VKd3O6i1g6Y44Js258pl+uKfPNcpP2knxMaJ7N3jTj1NBIteLtCGabHAeRBW5/r2QibhrePVxbvMLZHNXUtrIQy4n6N0WoK5jawyK6XljlW58HMNuE4vIr8e9F297zO1+ru6Y0eDYy5wVq6bXUFZZaHb7Shp82TANJK4iXBWu5T87d68MCxyera/e1zGhoLHuG5xO4FZYkuFn51+R6P9C7aNqvAkwVcDw/Wea5ZupDEyhP5EAsVFhTD6ye45/ti9T2oa66r0q9UcUEJbwJ5f53Du59B1Tv8yNrp5Icp+QLQ6gEoBzro5IhpHmXmLewbK6Sjcyf0kK+dDpY/L+yE3GN4GE/R1aJ4UGDyea5qmk3Tqu9zV8rbi0GQ7C/UKuO4alILm9yExcXjXdOkvvYZE6XPr9xdqIsdPLj/rX9EnCZV7W0It/2BuT710K8uaq3iJP01z1vFcCdS0nsCdX+rKwJaVaspHVQhAuuNQbntm2BZZWlvI+4FKEzwgYXGEFVEXKduutJ0shzKBEwEmtK3SbKhCMOrIv6APzx7S74/hGZe8xvnr8RHF81j0v4+tbqBO5vOqqj5wMwUht9wXXW8rct1VzO1DHFSSMCaCZLr4cyDgjnRj8QoLyc4kLek909JninPqPJhud43x9RCxPqCiHZYpbjPFG+fVdY6QmG7PNwTuA7+fqZA+YoPYud8rpZeb6rFFRRYeKZQIREKv4Sya2PPsxrJOp30X7HKFaNr3PeLJS7GtfDCbNWtl58t/xkz2dx1/L5Y3R7drO6Y+nZpJLHReW5PMIF/30uT5KOv57nPwwr84+qXuHKlKFm3dZ/s2OE5UHvg1r5y2yVd3PmhfPhy8nJ55r0ZuorNNTFT0vPchRawcUGvFnLvE54Kku+mrZS7r+phnDFXA33bXRddNqitu7S7nv7RvY2N4YPbyqv3D3OnjZ242KN8uLnaf8cgSdKBu7/l2Y/+lL1789yHpKq7qNkf36STra6pxptHdJaearVhCvL+Pn+TDOre1Ei6/dKuMm/Fdpn0+2ozi3zyzQKZs3Rbvmv4rioj6tV0LUh54Z4hgk+tnv91n4eNZ+4/T64Y3M4jjTuhQSDSi4nw0vSks8Z7gMxbnqWryl2/+dlLjxkKiXrqaz8tuaLsUJdFENOvfnpGjixflS2RxtS2ThBtcB1Hnil/HnWXk60eM/boRHUtneSH251lK13v9Ejvd1aMtG9RRWqqZUM1VRpEq3WCKVXVVVTkybwykd6maWW5+FzXfb5wNZR6mUb9DWq4pib2axyLmQu0D7ltQh0z1NrjvJ5x6vanortNZh1zF2cJ8pj5V288bigk4jSmBTjEWqyDserfZGOe7/SdlutaaIHGhEjfd8pd9vqN6htelTxNNWZFPY0rEXnyqGH9YJZhL9tc9Q8LBfuxotqNMt0BmZWF/fx6uW2MU2uIa4e4eOKcyvoeY0pdvea7dqkSJneyf7paPkyY7FIOmbzMiXucg/vCWo+317dhLdfCqMVqpQJGZtkoc/rcLHwZaaalBhQ01npw3M3qdITHMfNeNcqw/IbQ7gt7xUqrRlUkJSFSENAd7qgg+DbLd5er6WaakckP/6H2vLvfDxWEWZGFeQ3BQl14DXFyY/6bzl1Zx4urdCFlms43LVVvC9aJ/5UZeu81UMsgnYewSrQq/fs1TdDFk9FSQ+cpEvUZgfk3SKzl92M9564z60ptXQyJWJ9QephzYI10ngRinzyHBwvMg8CzQ5ougLK2a6cuurUuMk0/lCWZ+s4Wq8oF0/rBWjc8CaBeq4sn05NAUV4SsNDZ9JJgttlaNrbBsoMuhu2mC0obxFWUJI1NBU8ZpoCJS51jpoj8d05+JUbeUe+2vlKFxb/a1TS8hJhKj4ENEgzLCyhtijMX6l2NzBVsBKiQKIMrck5d12oGWBY8t3y3mnN5qtFH6UQtHqgDdFW0tz9CrEx/WH3hweLCFCgVrm5Xy6uV4xPVSgIKCaw4/9eZtY0i4IKnoGDW+3TS0Dq5bNZp/UZgn8fV/QX+mMB07rFFO90xKqz5rNtHdBVKUeVa84fLdh0NIgT2EJjY7T6at6oEab1rxhtWM7101e5bSPBCSntPzNd74kiL6obFzUOd6hh/yGC18ptFSQVFRVuduMNqZidZo6aQplgDPV6qfgpHqHUEBG6aYBlhfakwz0FgpkgNruY0AY88a3UiEQqJSrkvEOZ54faNlQ9FyZ5cZQ+eAA10VcEmS5CtpqqcNMUpMLp5zPpd2vunuM+UXRpzpKjffkmeKd48q6z9DpXtcL0n/P1M6dEwSZarGbfT7wDPIAwQ4itW1mdK0b+5ULlX2E7/EbhZAybf/ui37gqs1hHdOjfUmA2p7mMFbVx3QUfjEIIXL123S1eV7pfdGn9pr/rL3bg9Pd9p6Ro0sKD4CWM+mamraNXve8va0lLrhiulywa2NT75CrIklPQ8SxE6EaQr3FSJMP7Hpe7kryatcCsk7O6aYP3QrL5rVSGe/aZixzy5vgaInjJng7nrnvx3J+jGBuWTFF/HmuSX7Wk2V1ntWtSUaapwKEzWbk2XQeJSSODV/JX7zpM+a/d4KCBgRWKV+0b38XBhZT3G7dAnYKzOzskbp/m6R+1a5AWNbq/b/7jatVIVk/Km9DkzRj793qVcMyeGcSzC0q6TOmFviuHWxnIsOzeQMywCzHPuuzFJWjT2nOw7rvnMiWFMGpt5UW5SNfV1PhIB4NXdzr6T8sbHB93Hq8fnKiTURZP1HJx3NDf+BYJcm8dMmtb2IO/xo5Y+aPt3bMtTiNTROBYbdcK8KEmu5mrLXg2kbdZnnpOZG3wblgU4Zp0wt+fFxDsEFgDmMW/bjfOsAZLN85EeH1fBCPhtbOtEfL+ueRYnSDMlRmNLGOepQgRiZ4W0CMuCxkhFY63H2+ubkuDitRPKD8s9g/KtYvKooJOr9nxuxYG21XrMiW9tdU1213WJkqKBv00xDE/MHf02y/BQuBTSNsup3AwQAV95DbG6YbU2Peuky3zJMkUmzWtW1dgQtQ1FgZkXcxyFyfktUgXuzSHP6iI605U4xstQOEB2HfGcv0EaFgzieEwBSg7kMeWIvgdCIeEkhXkSqKdunSFaVYm9JNzTuV6+BbH2GBdO7SptGrygHGxZ3fACcb4qIt5VV4ND67jmiL7fnmdBVdp6eH7wEnD95Qje9oVly8xAO4gN4OSKKFVd0NzYNFXaq9sIWFPY3a84QbmrQx2poZpeaEpvnbFJLlalBgJkw2fcMjWnwuRyYQLFAxQQ0PDCmgHyTRHnFFZeddU2P6er1/EAxuP9oQU7ZEN6Zj6/3E6T0IWVG67H+ua6Z0IMEdOc0NrXXeqjENpt8GyveRflxv2w5rFvl/aeQHk/qTkkFAfmPTFN45RYNesNdbX+HfpH5BKd5Ht3zV5ZpRN9cLGDydLGOik+Wv94Q3BfmqsCbtXVBf/P3lUAxlVl7RN3d2uTujv1UqGF0uKuxWVx1x92kYWl7OILi7tTrBQopVCjblB3SdM0lbjrf743cydv3swkM8kknSTntC/z5Op377vvvaMTOaATaPmRUnqJXY2B9AxWNS/GsSAG/gkhtPiIBTUH+BfXYG3RlwUhZ6eZPra25ZvMxrWC2vgfCFcUFtCCTWETz8v5flYvOxtzWQXMDhXw/XuI3WklsmDrRh6TR9niBGMFrK5iSxUQ/FQ6S82dP7KmOIt04+k60pxo6TXlfDbbvo0FrT+z1REsANUHBYRd41lZQFkHbuPgtUKCQGMInD6uJ93H70x6Vz4qz/XnnKB2G/yFxcPT7yymD75dY7ccR5m7pLBvc0PdsEB449Plliy4fuaUvnQba+hnpJiel03NZym0gZ1Lpg20Ekjs2XuUEKS6e6dYG3dNl5022FLSpj05ln218wJj0hjt5ftYBZBuLG1Tr1eyJbBRWAL3UXoXUvbK3s2BvvUEgc2HT59LJ13xlv60Zf8Udv9028WjLMey0z4R8NVpd7u7h2MG1VvfR4b5EDYjDR8QSF9+V6yd1jNp9e2q0/HUwAjWX1OMdGjb4/yooQEWYcQ6tsr4ZWEp7c+qpgp2BfTfp+I1oYQ3c8n0ZdzBgpIQ1ugv5zQvvZ1H1fxa62vWKa82G1LDslefBw2uZtdSID8713zM7dES8B/lQgntRTmFuXVaXAXEyujH7qaWr2z8u6GKtXOh0x9gp74aczv9zdd8zDEkoB9lbLfSO4QAyHitsXajP0pwpPqCc6CacjUaHGvjj1LatMPcKNNly98tfB71wg0SCAIBm3bo5qV+zF0Z36pKx3iZajb9tQgdeMyN7VDp/Jl7rL9WbyVSj+G0ccGaMKKa+c3zl5TQstXldCC7mjLSfenhW2K0olQZEH6Ya7cqV9Xn1l/AIOQUAu70GqJG2FixZeh1F65jN0r4rj7G38lv7zjCFvqlGr9tYtcYupmvGak38yMu5/ipIMSTWK3jkdXqKkCcGyNVmK9jrWgONeRJoLleEvqyQEN55/iNPaXM4tiTx4rLNZ4L4jvqrTKa0wdHeeew4OES/j47iduBoOJwUQ3Y5u5tmH/pqDw537YQEIFEK49XQmSwZv2Aauczs9ce/ZFVpAkksGyNSQmjX3bYasjp853VO07TEse5ZzfkaFrG7/yZTX3ZLRQYyQhEcxtrqsMUrCH6nv3EgbkMgpR5pRNMb0flpbJgQzFQ0Y+n2HrDSJBEX/hTvfm68XpHOp7EknrQr9kFdrsN5i5iN8CK4hS2nGlMIOGuOfEz++1Tlgxo2ByOS2KP0K6H2RoHhLmDl3f9YxfzUlEvFmIoGhkXTCMnmzQI1Tn8vsPChx/Nfh5xPIjn8iC2tgGhfDW3cAxhx5vsCqy9EPxcYrNHs/me1Jt3GtO8zm6s/s6xJhCv5R12PYOXoGAeCwS7xova/9gljTPkrvkja4ozaDeepiPOiZZcU8AwgMAeG1548SxSAeExGnAhB5dzQoJAYwhAaHzDRcPphXeWWCWFS5/JI7vSQoNmvVUiPjjM1gwXP/CFDcPbmM7eMeqeye58bn3sW3uXtXMQlCDg9Xcc4+DXt66mLqnRzCBsWj6HlegujO6fRoitoHcl9f3CrXTi0HQbd01w8aQo67BJY1sdO/sLYU5L01G2VGkKlbMlsZH6ZMTTZecMs3LDpdLceflouy4X1XX5bQcIMNPaS8f4dXePBvU1uQ1Zw+6LNrMLJj2lJPvSJGbgRnHA4f7d/Wnj1ipmdJtYeGAQ69vlo9Mgh9BCf02920NrH+d7ZpjqLCyupVffqv+u1X8F6Mu45tJw6pTipwVUfv8zDnZ6qJa/F1SpREfM7qSg/Y6YTmVmiwz0pXu6qa5cdjGl2qSUmlV7VJ/Vdbz8qv39mdXUrYsfjRgSSL8vYkW8/bb3aBC7+Tn5pCD67qdSOnasltL406Z7ur+lDFV+eprJPdExtvBA+XVm+Qa0sCODvKmg2IQt0nuZGwkhjmqLK+1W1gEQpqj8KBeulAqKaikizJvdsXrRn39ajznSKNIw5vpBxvHGOasx5/FX9bgyvkfYrVUq49WTrWVUfpRtJCWQCGDLDZt0JmV2LSC3/pp3Vf0cUee7mefDhs0V9NW3JVo16Ke9tApDjIXKb2yXW4/rh9+txba3wlrCa0hjGMGiId3svuk95jes1Hl+sJc3kr+pHxpoine5kflpxhgIUJREQOpoLrc/e23Qf6dDKTCGz4Oy2RNAc6ghTwLN9ZIwgNsNgoDm1bUHmtPMBvMGOrA+h+Dhos78fsrr2K2sNAZCkHFnlLIbrFAutgkERCDRysPUK9rEjIVPtB059j/AcPNhwevHjNt+LMD4hY5pTFjid59KZr7qCf7UL80wSWwRsR5+xRU9ueYgvTKms3ZzX8M398yV+6mcF02QktaqtPhdzhLfcg5uDWbvvOxCuy50ytilEqjc0A7tpO5PRSPXkZT5yhaCSRhItc9yoQPsQDNXBSJfyMIoRzSPx3YGS+f7RpnmkMKsQg8kZ3bnnIBVwwaei/15LmbC16HODRDauZmtfOBi6iQWqGSY/ScqYQGGF/4c3952xCqfK3Pjuz15VM4fTBO5fPVAV+WDibiYH1YfcvmwDmjrpO4tfT/Qx6P8cnCQLWS+Zh+LWw7Vf+wp09QKRI8zE+7/x3j/zr4Jmh98hRUsb57hwFtZOusKLb871hTz/NO3Q7XHmTUFWh2wADDOY1WG+nVl3iCPwrOxtUqV74m/qg/6trWJOdGM50xLrykvbcqmU1KjaDRbWOH+gHBC+dbHmgrNp+91wlA99rIvCNhDYMb0ITYCiRs5joPeTaG9fDj3JQd5Nmrfw+3RGSf2YquCGDqUV0zn3fKRo+x03kl9CKb6L328rEGNfQgmvvx1E91/5TitrKbmc9gQ8wUELb30tAH07BsLLUln/bKJmWbWz+gLTx/E8TbqXbx0Tqr3fa4ywn1Rp+RIdWj3d0hP5n61MMVH27pBOYPjfkwda6tMoW+KigOhP7dm60G7wgikueWpH+iX167Q3uH0eWS/fSGgNLbd3avRIwMsLpLmzGElJnabY00VNGZ4EAWwi6FRHLR666Zq1pg3uQYBE1ffLsW8RX5fLkZ/jcxMbWis43ydmacfwkz4Lsl+BKZ/Qrw3nXFaqKU9sB5A2kkTgmjkMNM3zK/zS2n9Gtbc1wkjUN/2bdVaUGR/FgxccVE4vfWu6b130AA/GjrQlHfnTrbE5vJApr/MUDe3RzvJf5TTE1xXab+cVUz33x3FwZX5PfmmKPp2dgktXGSyhgwLYwv0gf50+rRQCgv1pqVLyrktVTSoXwCld/Kjk08Mpt9+N6U996wQijG7CdrGgh+Un8fMeEWnTgqhr74poahILzp1agj15ODaIL2FhCvtLi4wlR3Frq56dvajXRzjA+0tKqqjHTuqaNiQABo7Mojj3NTQvF9NbYRbq7FjAmnyxGB65j+5lJfP7pHM393KukW1F7/KwgP7vpxOYebK+O7ktgzuH8BCCV+6+MxQ+vJrk5AA8+Gcs0KplN1cvf9RMZWahTU9uvhr37+wlFH9yWNXXaABfQIoMbKUjrJQCGN/zpkmxT1cU22rNX9/JMb5UBRb3ACPHt257gtM7mv0aR3NdaQROn4ItITXkMZ6o7do6Mk8mGXmDP1Z4fMKtpDQEzwWPMpKtbAQALP+qdWZ+suW/TXsBWQKv4shsPTKQyWUw4oMyHtj30TtOwPf3PvZY0lLUXO9JMC1OgiWCVEc6wJubSFMuZiDdbvDOiK/yvSgGMIur95nXCDEgWBIed0A73M585jwbabo23323YGr6/LbfhAQgUQrj+VCNoHC1hj9Y+leqyS3/rbT6lgdwD3O+T9uVYdWv1hMLv15m9U5BOk8jzd7hMXhsrnW6Y3pnlqxz3jK7vEmFmicx5uzBDdF9lwVOZu/LaeD5cp5DsZQ3y8Eccam6B1mMGMzkjvnBMp+zDAX9fXhQaIfO/h/D+UHTAm7OFAumvTpsX/Pwt3GUw6PMYc/23hI2/BgD+OAn/DBWOhEDBOHhXroBWfvLdX89//KthsfBkKJq3nDiwQCWEOIaU/DwF1riqN2oJ3OrCmXGNYo1T/jr6triqt4GuvzhGNX++BoLFp7TjTnOdPSa8ouFmK+io0HGC/D4bymIPZSXmmF5cXYE8Ze2tB2EEiKC6Xpk/sQgiwrutjJgMO/rbJ+Hk4Z39MqkHNphWONulx+dziSW0TD+6TSR/88X3OXuGnPYdq8+yj9vnIX/fy79bvhDxxQGQKJpuZTfWvs94Ip/a0EEvszc+mdzJVW2S5ioYueenW2dZGAgNFnT+itT2a1v25bNgfQNbl/tLrg5gO0o0+vJCvBUUFxGZ01vrdDi4bdB3I5QLmJCamac4QtXS+7/wt1aPOLeBJ3P/+z1fjbJDKfKCt3PC8c5ZHzxx8BaIb71ChWuXvbM8LM6M9id0mHszhos4UlX1/Ppo2VNIRdLA1kprFPTQkzqM1scUO79EF/vbm9PjrFJ6Xdjrzoy5ZNlTRubBD5sBLwg/dGEdy1Y19PsF5A2jNZSKFo4oRgmjDepJWrzv30Uwn9MrecVnEA5BEjAmno4ADq3TNWu88COUg2rA8QR+KH7xCw2xpHVYcqy6fWdF2PedbeWpr7cylNPTVYi71w0XmhdME5ofyuivcBldP0i34v+q2CxnPfEhJ86PyzQ+k0Fi6AbxccbMINgpGN62s0rAvZqDInp0ZLexILASZy34zKwKYgzq63e+/OWkJMcB/m2tx1W5SGA7B48YUCmvVFCfXp6UfBHEPinDP4WXRKCL/LgMFfX08wv+sU8reAit0AqxEjfnqBhGnMTTi4Mr4L57PQa2QgW8mxNQ6P79jRwZoQIjLS1JZ16yq0evfsqqbx45j5yQKWfz8dq/UL8+b2247Rts3VNOIE0tr/+KMxGt5GHFXbd7DAKJmFH0mJbPX3z1hNkOUorUXIxgOo8luPuPuOzHeV+wpspyW1hNcQZ6DCtylcGPeOCNTcQsNaGgQFJSOd2DmKOpmVJ6AYCe8DeipnpcBr5+2gj7YdJcT5RPyHl0d1omKuA+UphdMP+L1MMd/1+d253xwvCatZwfRC7iviVLw5Ll2L/Yp9d9HmXPbSkk6ae/kP2TMGrNIhBLlI5ynlm725FoHEHlY03WdQgnVXW6Qcz0Og/mnleW2TFgkCgkAbQwASemjhOxJGNKc7eIGAgALlNxb8uDn1tJe8wAh42RNGtJc+Sj9cQ6AtzomWXFPwcXCUAwRDk6mlPxRcGylJ3dYQePORsyjz9we07cCCBzUNM2f6cMDgprGStciU9l4NW4/NXWZfGQVlr2dt+wkz3qS7/vMTbdqdo2nWI57CjOkD6d3HziEEjdZTaLDJxUhT8+nLamg/NSGcxozIcJikEwfaHtE3zeo6rCXA9NfTk/+dT6/PWkUlZfXM91yO7fLril00/ZYPaNp179J+A376/O7cP3GYdX8WLt1Fdz33E2Udrle8gTIILCBueno2jbnkf/TLivqxQ8Dyax/72sZtFQKf6wkBwd/7YZ3+lLYPF2B6+u73LVTF70QgtKE1XFfp65f9piPgy4zlltg6mV0I/bmaNfYd1LFmRYXWcFhJdOnkS9Xm4NWI26DPg9gEML7FVlfB1g268qrMtyPy4vzmtdU0j90bIS0Iwgjsb95Qf99WsWshpK0xW9kjnS8z1/14SbLamAGGdJ++w5YL88u1csD8DwoyCSMy91XTczMLqJo17FWbLO0x12E5b/ZSDOa8Ooffud+V0YvPFtD+vdWa8AQMbCWMAFN8F2v5f/ReMRUfNeV76dlCZpKb+oJ2oD0QSqxdVUFvvFJsVfbHnK8g3wSEYoyjnsMsqAAhBoZqiyvtLsuro2+/Kub3FLay8DJtpgLZGpivzXyigDayuya0H2OrhBEVPNzr2Aql8KgJ/yq2RDC2Q7UHbrW08eYktazIrc67Mr7I88LMIlq1olxrC3BVwogjh2tZeMOWLZxm/bJKWrG03CRsMAuv6hg2XFu7lDWl/zANHvoKHNHvtatNc7ea45uotn3zaSltYSGbIpVWjZc+bZU5/ghwV/lb6hftsQh/VOPk1wYBV7yGIDO8hoCUhwCj1xDlOaJMJ0BFetaR1Ehdx8HM9QcJTG8QBAfY4E1AxVpUVvtVuNl1BMtqq818o+Nb+9al+2gvf3ujrHBWnoQwAh5JXtl62Mr9ekUD3kaUVb/eK4CKD6HapGuO1a7mJWF9NsELC9oIawcw/tGve1dmGrwkmNYpFfB7z5ESzeMFrPBBEEZw02lhjineEM6Vm9tdxfgiFQQK4M0YSXk70XtjgYcHWKAjH5TAQIZhosPsDULR17oYHeqc/LZfBMRCov2OrfRMEBAEBAFBQBAQBAQBQaCFEcD3FTTpXaX+PRPZxUm91SwY3ScwMzs9NZI278ixYWDbK/9TjhGBDUzrHl1iKcDPh3ayqbu+XOSbOLyLVfam5rMqxMHBjOmD6Y8Ve+xenXHGYI2pZrz46kOnaQIW/fl/vDiPsKFvVRy5FEG7jwfdN2MMzV2ynRCkWxFic2BD4PCoyBCruBkqjfp9/I0FtHLtfnWo/T5x58l06akDacI1b1uN1YMzf6IB3RNoSM9kS3qM65Ej9S49V6/PpE6T/mWJ1/Hd/2ZoljKWDLLjkQiADaMPJO3ORj50a32MN2+LIyPrGraw8OCua+vXmwM7amj576ZjfR4w/O+5vj6d/trLT9cL4dT5n2aV05J5lRQawcIDtmQ4klNLRYXWjCqkffi2+jZat6z+SJX5HTObsaWl+xCCFhcX1FnKVGmQ6/F764Oe6s+vWVxJaxbb9g159m+voReeNPUjLsGbIqO8qbikjrIzzZxLTqPKKmNXR68/V0wBLIyI5bRY5TP32qZDucDzsXvyKYXbDEIgbXs44Jqr7f7j10r649dcra1+zOgvLKyjChYKoZ2FLDx552UT4xD9CQv3plx2IZWfVz8GSPfR6yXahvpV/7APamjMnR1fVc6nb5YSNrQFQo5K5vsqHFS9n79TSt9+WqbNlwDmM+dksUa5ed5+8W4poc7waBPjMsuM90dkcgGl0qG+N18oppg4bwoMYWEWD86+3fVjg+sq7aqFlbRqof35gHRCrY+Au72GfLkph7AZ6QDH6jJ6ooCC1r2L9lgpj0CJz0iL2asJNmcIHi/gBQKuswP5PQxkr8y1B/LpPN7s0d0LdtucdtaTADI6axF/x++7bOqBx4vf2D10cIAvxwL1sViOv2xICeGLI+8sSOrISh6xNz7nWJZ+HPnbn29Wo7vtqekmF52wLlnG7RDqOAiIQKLjjLX0VBAQBAQBQUAQEAQEAUHAQxC4/ZKRVq6e0CwEhNYHhXa2qWBY65nW+nzjRnWhOy4ZrT9l2W9qPksBdnZOGd1NY9QjdoWRzpvcz3hKO+6ZHkev/OMsuuUf39pcd9Qvm4QtdAIMhrcfO4suvOdzG4zRR3v9VE35ZsEWevPT5epQ+z1pXHe65qxhmmDmLS735Kvfsbp+5UOzaMG711J0eJB2/oZzh9sV8DRlnlhVJAetjoAvuy9qjwTGPTZFxtgQ6ryrv9m765nq7ipT34a87DrKyzYxsRsqnz1cUY65LQ2lQ9kqHfYbS4s0rlDxsYYxdrY/rtSJtE0ZX7RFkT0cgCkEQcXs7sp4XV+f8ZoqU/0W5NRRgaZ7bVuOStPav+3zLm9tFFu+PnsCg+bWCmtJbMeTmupJAtbiLWkxDosKbMZoGnDLfTor4oB+cCCsOZ54St0ti4AIJFoWXyldEBAEBAFBQBAQBAQBQaCNI+BlNjNX3fBhk/jGCEGejaQPdt2/WyJ9/O+L6I5n5tgwuhGX4nxm3l/5gHXcAQSgBfXOiKfLzhlGP/y+2aHlQEZ6LCHA9oVT+pK/WWOvqflQpwECds9i2z+kC/D3pYtOG0TvfrEShxYCIz4hpj5ooeWCeefcSX1o/JB0eoGDdH8ye51DRn//Psl02vhelMLuoZpC9tqtHxd7ZQK31Z/dRB+wS6WXPlpmM14qT3JyFJ0+oReNG9SZ9h7Mp5se/UZd0n4jo4LppftPt2CJOfDILZPpiVd+taSDAOa2Z37QYoPg5JSRXenVx8+mj+estyuY8GeNQ6E2gADzZ/XxGdpAi6WJgoAg0AQE6kUxTcgsWQSBDobAqE6RmosruImau8++9UgHg6RDdVcEEh1quKWzgoAgIAgIAoKAICAICAKuIoDA0a7SBI49kL3ooQazTRreRWN07zxwjDKzC9n/tz/16hzP2vGBWj5H+RFM+9k7TqaZt5/MgarL6NCxQg5yXcrxBDiwamwIJUaHa8x/oxChqfnQGMSmoMca7I7l4lPMZMfmKsWyn+gnbz5J2xCAe292Lh3m4IYh7BopNjKIEmPDrdwsuFo+0iNY9tmLHAfMdlQmhDrXnj1M26ABuSc7j7JyigjCjBgWNMRHhhLw1ZOj8dOnuemC4YStIdLazO1GcOx9h/K4TvZRHehPaYkRHKBXPucaws5TrkGY6FttX4jnKW2UdggCgkDzEPHbpnAAAEAASURBVIAbfrnLm4eh5O5YCOSWVdPsAwWUzTHDmmrd0bEQa1+9lTdYJ8YzNYWdNTKVcUCm0BTRQnICMo9OUsE+PYmDnEXHN2/6x0T7UUioD1XyvICXSqG2j0DFEZNOS0pSQLM6I2tGs+DzuMyyZnjckHhMg9y1ZnhMh6QhxwUBMLr7sAY+NlcJAoeYiCBtoy7O525qPudraH5KCGWiwzmWQs/ml+XuEuDGqalj1py2xLHgA5tQ20PAi18xfTl4sJAgIAi0XwSEI9B+x1Z61jIIbGJlHGxCHROB5nFkOwhm/fqYtJ2KV9RS3GARSLT1Yc9ZZvIVOniAY7cBzvaxX+9gWrGqiAr3+VB4Z/nIcBY3T01XebCWvHhV7Gu+55vaTlkzmoqcZ+aTNcMzx8UTWuWuNcMT+iJtEAQEAUFAEGg5BPYfKqd+cfKt0HIIS8mCwPFHoBomEib9tmY35vCeKurEETaEBAFBoB0jwIrSHZlkhXNi9IcNCaOuGYG0a0855W+rocieIpRwAjaPTFLFwteyjaYAaaefGNXsNk6eFK4JJI4uqWGBhNxOzQb0OBaQ9Vs11R2uo8ETQ4k9ITSLZM1oFnwelVnWDI8aDo9qjDvXDI/qmDRGEBAEBAFBwG0IwKI6Ic6PysrqyLdOBBJuA1YKEgQ8DIG8ykqtRZ2baWmv1oyiyvqg7h7WVWmOICAIuAGBkkMmYURiZ5NHHjcU2eaKEA6qE0MG5uT996TS9TfvpMNfVFPFKUQJw0Uo4QR0HpUkf2cNHf6ZrSNK6+isK6JpQH9rP79NaeylFybQ8uXFNH9hAe3+mChxsg8FJ8jHRlOwPG55+DmQ+Us1lS6toaAoH3r1URd8XjhotKwZDoBpY6dlzWhjA9ZazW2BNaO1mi71CAKCgCAgCLQ+Av36BtP8BQV0KKCUUgKbb6Hd+j2QGgUBQaAxBA6UlGhJ+vZsvls9tWbkb/eiyB7Cd2oMe7kuCLRFBPK3mDy39O4T1Bab75Y2i0DCSRjHjgqnh+5Lpn/9+yDlz6mm/Pk15JPIkQP8m6lK7WT9kqzpCNTxfV59hDUMCk0SyHFnRNBTt6c3vUBDzgfvS6PK2jpavLiQMrfXkFcsB62LlnlhgMkjD2uKaqkWkmn+H5rkQ4/dm0YREe5ZFmXN8Mghd6pRsmY4BVOHTNSSa0aHBFQ6LQgIAoJAB0Dg/HNjNYHEuvJcivMJpBAf97xrdgDopIuCQJtAYGtpAf1VmEtBvn502Yy4ZrdZrRkF8+oohHlOfuHNLlIKEAQEAQ9C4PDqWipeUEPe4V50/Tl8k3dQkrchFwb+sosSafSICHru5Sxav7WMcvdWUQ3/E/J8BAIjfChtkD/dcHkCTZsY7dYGJyf50+svdqP3Pz5E383Np107yqjqqMwLt4LcgoXFdvajIYNC6NmHM8jP173WLbJmtODAtXDRsma0MMBtuPiWXDPaMCzSdEFAEBAEBAEHCJw4JoKuvCyW3vvoKH1ffoC6+YdRv+AoChXBhAPE5LQg0DYQKKippL0VxbSi+IjW4JsvS6CkTn7Nbrx+zdjzZi0FDfBmDx2+5B/R7KKlAEFAEDiOCJQdraO8TTVU9JuJX3jpDbGUnhBwHFt0fKv2qmM6vk1wT+2HDx+mhARmNk+bRnPmzHFPoY2UUlBQTdU17QK+Rnra9i/DF2Nr0rHcqtasTupqIgKwhvD1ca8QoqGmyJrREDqedU3WDM8aD09pTWuvGa72e/r06fTjjz9STk4OxcfHu5pd0gsCgoAgIAjoEOjbty/t3buXSsyuWHSXmrT739ez6L+v51jy+nqJKxYLGLIjCLQxBKphUm2mQD8fuvnyJLrmFve+exnXDPJvve9W1Tf5FQQEATchoAtg7R/mTZf9LZbuuSjVLYW7+33FLY1yohCxkHACJEdJ3OXaxVH5cr7tItDazMy2i1THarmsGR1rvF3prawZrqAlaQUBQUAQEAQEgbaHwM03pNDIEeG0cHEBbfirnLKyOAiu6La1vYGUFgsCGgJ+lBrvT33Y//vFl8dRSrL7A9Pq14z1W0rpQHYl1bYPfWKZQ4JAh0QgIc2f+vcOohsuSKK42NZVmvZEwEUg4YmjIm0SBAQBQUAQEAQEAUFAEBAEBAFBQBBoVwgMHRRG2IQEAUFAEHAGAVkznEFJ0ggCgkBbREAi77bFUZM2CwKCgCAgCAgCgoAgIAgIAoKAICAICAKCgCAgCAgCgoAgIAgIAm0MAbGQaGMDJs0VBAQBQUAQEAQEAUHgeCGwNyuP8kvKna4+JMCfuneOcTp9cxO+98M6enDmT5Zi4uLC6K9Zt1qOj/fO7IVb6fpHvrZqRvaih6yOGzrIOVZCg85+0SrJ7NevoGG9U7RzJWWV1O2Uf1tdv/u6E+mey8danfP0g427cjhOW63dZvp4e5Gfrw9FhARRUlyo3TRt+eS1j39Lc37dbOnCedMH0Mv3n2Y57mg7W/YcpklXvGXV7T8+uZG6pEZbnZMDQUAQEAQEAUFAEBAEBIG2g4AIJNrOWElLBQFBQBAQBAQBQUAQOK4IPPzfefTbkp1Ot6FPrySa/8ZVTqdvbsLqqvogkyirqtr6uLnlNzd/dTN9P9fW2jqc1zPua+3w8GscMPab25eWzD/lqredKj45OYrOndKH7r58DAX4t4/Pmupq60GsrLI+dgqYdpSoxs6cr6mxvQ/aUZelK4KAICAICAKCgCAgCLR7BMRlU7sfYumgICAICAKCgCAgCAgCgoAg0P4QOHgwj15+/w+64L7PCNYhQoKAICAICAKCgCAgCAgCgoAg4PkItA9VIs/HWVooCAgCgoAgIAgIAoKAICAItCgCQYG+9ML/nWFVR9+ucVbH7fFg5dr99MuKXXT2hN7tsXvSJ0FAEBAEBAFBQBAQBAQBQaBdISACiXY1nNIZQUAQEAQEAUFAEBAEWg+BoGB/evWRMx1WGBkRaLkGb0VlFVWWY+wEB/ppx4UlFbR+WzYVFlfQsD6plBgbYpUOB3s4fsVaThMfFUJ9u8ZTdHiQTZqGThzIKaSNO3PIy8uL+nWLp5T48IaSa9dKy6tod1Yu7TmQR3nctk4J4ZSeFElpvCGWQUNUxnk37M7hvPkc7yCABvVMbii5zTW4Ytq+/yht3n2U/Hy8qHdGHIUF1+Npk4FP+Pp40xkn9iS9Qxt/Px+rpGiX8TryVbGroG37jtDWvccoLjJYqy8+2nYc9IVVVFbTlr1HaGdmHkWHBWp+/dOTIwm46SmQ3Sl5N4KXPr1x/6Rx3emxG0+iGvZJdfBIET373mJa+9cBq2TL1mc2KJDILSyjXQdyaTePZR3/QzvTE6PtzjUU7E6cUF5xaSXtz8mn/QcLqJjxSYwNpdQ4nk/cDmcI989etgjZtOuwFkOje6doh3EUHLW9kl2abcSczMqnAV0TqFunGL4frGs/VlBGKzdk8nh5U6+MWOrMc90eoT1Zhwsp+1gR5ReWE/D14XmEeRATFUx9u8Rr89FeXrRD72oM808/T4tKKrUxCuf7xhnCPDS6dmrunHOmXkkjCAgCgoAgIAgIAoKAINA0BEQg0TTcJJcgIAgIAoKAICAICAIdHoFQZhhOHdPdKRw278mhyVdaxwb4+r+X03vfraPvf9loVcaQAan0+cyLKJQFHj8t2U73Pz+XjjAjWk9P3zuVrjx9iP6U3f2lG/bTPc/+THv2HrW6Pnp4Br3197MpihmoRgJz9ck3F9Cn3DZ71KtHIj179ymWYNL6NGC2Pv3uYvrfR0v1p7V9BNl2hr6av5nue/ZHKmMmtp4QM6Ex6nvWi1b5nn1wOl126kBLNuP1p+6ZqjHLn3r1N0satXPnNeO0gNhGYQKYyS9/tpxmvr5AJbX89u+TTBs2H7QcY+e7/82g4SxoaipFsfCpa5opiHGPzrEUHxNCJxkCHcdG2RdQbWWByf0vzCVYUdijU0/qTU/eNJmSDWPjDpxQ324WgjzHc2HWj3/Zq546cb9uvHA4XXWG47n88x876L7nfra5B6ZP7kPP3jnVZg4b2/5Pnqt5PKf//eYiqzZEsuDg6xcuYeFTPCF49F3//onWb8iySnPJWUPoqVsmW8XoWL0liy6481OreWaViQ9Q9sXTB9GtF4+0ad/1T3xHcxdstWQ54+R+9NJ90+j5j5fSl3M3EVxxdWOh4+J3r7WkcbSzKzOXplz3jlVbIChd+tHfHAqbHJUl5wUBQUAQEAQEAUFAEBAEWgcBEUi0Ds5SiyAgCAgCgoAgIAgIAu0OAQSN1ms6GzsIzWdF9uI5n3Pzh+qy1S+03y9+4HNKTYykb3/eYHVNHTzIQoY+zLRsiNGdn1dK5978kcpi9bt05R6aeuN7tPi966y0s5dvzKRL7vncisFplZEPtm4/RKff8D59MPNCmjKyq+UyNLWn3fIhbd6abTmn3zEKVfTX1P6DL8+j975cpQ6tfsGodZXs4a4v46F//6w/tNp//u3F1Ik15C86ub/lPAJrn3/vZ7R89V7LOf2OURiBa/aCcevzuLq/my0yjHTyqG7GU/TWN6vpked/sTmvP/HT/C20YNku+uPDGykpLlR/yWrfVZyQGYKlWx/71qoc48F+Zqh/8P16hwIJCOuMAjtVxpxfNxMsAV554DR1yu7vw/+Za/c87o9z7viELjtjEL3yvq0ADZk++XYtdUqMoNsvGWUpo5gtGIzCMstF8w7Kfo0FMeu2HqQvWLjo51u/FhjTrt9ykE686i0CFq4Q4oZc/vBXNm355N8XijDCFSAlrSAgCAgCgoAgIAgIAq2MgOM3w1ZuiFQnCAgCgoAgIAgIAoKAINC2EADTMW3ivxxua5gZ2VRazS54HAkjVJmvfrZS7TbpFwzQr3/fbMkLtzrX//1bKwYnrBJuYGbsxWcOJmhe6+luWDHo3BO98vlyh8IIY159OWof1hyOhBHQOD8e9Ow7S6yq/fDH9Q6FES3VxjWbDtK/3l1Ej7+xgK76+9d03f/NsmrT1RcMpwHdEq3O/bnjkI0wYlD/FILVB1xA6QnM9Ude+1V/yuV9I06b2DWSI2FERnqszVxyuUJzBlhewHVSUwn3sCNhhCrzxQ/+IEeCLczrYYPSNEz79EpSWSy/EFz9tnK35djeDu5DV4URKOd2vv+Mlk/PPXw6jeyXZq8aOScICAKCgCAgCAgCgoAg4CEIiIWEhwyENEMQEAQEAUFAEBAEBIH2hkBjmvFgZF57zjBKYH/6X/6ySdPG1mMAZucdV4ylkQNTaX92oY0bo+0GN0z6vGofQZ6hPR/AsRS+W7iV7vrnbHVJ+33zq9UWC4D/sEa33ooBLpZWfHyDxRf+384bTide/rolP9IuXLNXc1t1NL/Urkuc/z16Fo0b3FmLofDe7LUEyw5H9MjL820uPcnudi6fNkiz4oD7oYkz3rRJ05wT6ONtl42iAT0TKedIseYaCExqRbDKgOVHAGvigx57xbaNz//f6XTeSX01nLbvO0rjL39DZXfLL5jOL75rLRhRBU8a240e+9skmxgVdz37k0qi/Z59an969cHTLec+/PFPuu9fcyzHsDbIvWMqxyaxdeGFRK7idOdM6/pRxqO3Tqbrzz1Biz8Cy6I5i7fRA+yOrDG6ecZomji8C1VV1pC9+BmIjdFQTBQI1W65ZAT17hJHG7bn0KMv2FqNzDh3GJ0+oRdVs8uxR/47n3ZyrApFENhgfseZhWKwmLj3+vHavO/D7p70hPGfesN7VkK9P3dk0ymju+mTNXv/9VmrCGOmJ01weEq9NY/+muwLAoKAICAICAKCgCAgCHgOAiKQ8JyxkJYIAoKAICAICAKCgCDQoRB47u5p1L1zjNbnob1SbAQSM84aSrexD3rQ8D5E69kV0tufr9CO8ceoHW25YN6Bxv6F7J9e0cXMrPxkznqC9YUivXulRav3qNPa74BeibSIBQ4N0Y7MYzSVumsBs43pnrrzFBo/NN1yOiLMfpwDJIClhb4tOAf//decORS7GkWEOM6v0rj6e+81J7LAoz7GxKFjxTYM62wWvKSnRFE2CyyMrnrALNe7dGos8Lar7Wss/W9LdtKYGW/QIzdMpNM4oDcIQZGNWCI4s15TX+9OTNWxO+sYCyRS1KHVrys4IY6I0XXVedMH0N/OH24pE/WfOaE3jRnUmf5iF2COCPEV/u/aCZbLMZFBdPLV71iOsXPwaJHVsfHgDh4jNcawHpi7bAf9saJ+riMmyjO3n2zJ9vC14+mqB7+0HGPn0LFCi0CiS2o03XXZGO364dwSDrx+mPYdyifsH9UJs1QBh44Wq127v4g78uzdUwnCDbh2QoD1otIKu2lxEpZE/3hxntV1CKYeuX6C1Tk5EAQEAUFAEBAEBAFBQBDwTAREIOGZ4yKtEgQEAUFAEBAEBAFBoE0gcMfVYx22MzUuwuE14wUwIhHgtyHXLenJzpdnLF8dn8AMWb1AAudzC8spNMjPhok9f/EOwtYQ7c4yxTPYsf+YTbJpo61dA9kk0J3YecA2/5mssd7a1L2TSUCkr7fW7K/HXhsn62Jo6PO4cx/WCaPYyqSmtpYFN5W0c5+1ix/MGbhx+ubVyzV3PZs4gLqRXnhnsfGUzfHegwV2A5XbJOQTDeG0hS1ZjHT+lHrBmP5abGQwTWLrB2epe1qsTdKamjqbcw2d6JoaYyWQMKZNTQw3nmLsretArJXHXvvNJgi2TUYnTmSwgGNg93qXW1gLojmQuSN6wI71yf8ePkuzPHGUR84LAoKAICAICAKCgCAgCHgOAiKQ8JyxkJYIAoKAICAICAKCgCDQphAAo/j+K090W5v9zW6BHBXox26Xmktd0qJsiqioqKbyiiqb886cKOe8oD0H862Sw92UcnNkdcHBQSa7pDJSYozjIMvGtO46Dg72c1hUCbvuMVJkqH0XR8Z0zTkePzyDXr6/PnAz5COvfrGCnmTXQnr67KcNmkAi63DDFgP6PPp9uKZylhrCaV+W9VxAme4ay8CA5n++NTYv/X0bvs/e+2EdPWhHKOAsdi2R7rtFW+iyU+stfVqiDilTEBAEBAFBQBAQBAQBQcA9CDT/jdY97ZBSBAFBQBAQBAQBQUAQEAQ6OAL23OjoIfH29tYfNmk/n60hjBQXHWw8pR3DXc7UsQ1bOcCfPigmwpoxD9dGiKHh7e2lXW/sTxS74jFSfoltW41p3H3s0wDGKQlhNtUdZOZ/r/Q4m/MtecKLIYXFgVEgsS/bJAjonGRrSfPAjROpU3Jkg80a0tM2KLOjDA3hlGan/hx2Z9Sjs611g6PyW/K8NwBsgLzI8XW4UzIKIyCYvJ3dQg1gK4e0+Ei6498/0MKluxqoofmXIPDTuw+79+k5dOLgdFL3Y/NrkBIEAUFAEBAEBAFBQBAQBFoKARFItBSyUq4gIAgIAoKAICAICAKCgEchAM36WfM2WbUpIz3WErS6T68kK7dNBcVldNb43uSIf7ubgwmHBAVo5XVOjrYqFwcrNh2gUf3TbM7bO5EWb8tEX8zxK4b3SbWX/LicS02wZei//NlyGsAxCOB6CJST1zTrBFc7tHpTlk2W1ASTq6FenW0FJBB2nc0xGxzRum3ZbrNi6GVH8PD1b5u14ObG+hF3Ye2Wg1qAaOM1Tzxes9UW909mXkD9uiZYmtuYYNGSsIk7z9w/nTrxWF9816dWJdz6r9n0zXOXOi0EtMp8HA6O5TbNKus4NFWqFAQEATsIxEQ7tii0k7zZp2TNaDaErVJAVKQfP4dapSqtkvyCanLVdWPrtU5q0iPQ2muGvm5P3BeBRDNGRW78ZoDXyllb+8aXl4VWHuAmVicvC00ErgNkkzWjAwxyE7rY2mtGE5rY6lmOcLDjf769wGG9KfHhdOXpQxxeb+kLcMVUWFJB4SEBWkDmmR8spq2GAMLTx/ewNOPEYRlWAgloed/13E90z+VjCH0BacGnOUbA29+soW/YRdDMB6ZrAYN7Z9jGXrjjX3PoufunUbeUGNq+/yi99dUqS13GncTYUDJqff/7zUXUOTmKxgzoTMcKS+jNWauN2Vr1OCoskIxCm+Wr91L/M16gMSMytLbogyW7q3E7OT7HV/M3c3F1VMzBjtdvPUSfz15vU/xws/AnlLXnje2ENYUvxya4jAN4hwT5a3lzC8s0YcDzH/5Ba/86QIs+vMESZN2mcBdOBAX62dT/2XfrNO39G889gXAdga9//mMH3f/8z5QYF95mBBLZdgJUl5ndlgEiCOm27DrqAlquJx3VL1Ubp7NP7a/dg6qElWv30zvfraFrzx6mTnnc71ffHqGffsmnDZtKqbioxuPaJw0SBAQB5xFIiPOjfn2D6cLz42jsKNvYO86X5DilrBmOsfHUKz6+XtS/TzANGxpCd93aMkolh3Iq6eXXsuivDWW0a0/rW9N6Kvae3q6kJH+eG0F0yUXxNHyordWxp7ff3e0TgYSLiMqN7yJgHpK8NW58eVnwkMF2oRnysuACWB0sqawZHWzAnexua6wZTjbFo5K98v5Sh+0BU/h4CiTg0qXnqf9x2L7IqGC6/eLRluv3zRhDc5dspz176xmqYCRjg7AgKjKEDh7Ms6TX7/TtkkDjRnWhxct2W04j2PJ5t3xkOW5oB1rld145lp569TerZLc+9p3V8fE++MffJtEFt39s04yWEESoStZvyKJbeWuIunWNp3Mm1ltAvPrQaTRhxptWWf7x4jzCBhdDVdU1lJ9XanXdnQcvPzidTrriLasiZ76+gLBh3unrhkCirVAftigy0hk3vk/Dh3RiYVGVlUDPmM7dx0/ePJl+XrjNynXTI8//QpNO6EJdOFC2J1FefjU9+cx++mluvtashGR/Su0ZQGXsAktIEBAE2h4Ch/dUUXFlLc1fUKBt11+TQHfcnOK2jsia4TYoW72gktwaWv9XibYtW1lMD9ydQkMHuY/5/M3so/TMfw5SYWE1+fp5Uc/+wVTlW0c1MAMW8lgE6vhxf4TXjV/mF2jbjdcm0G03uW/N8NiON9AwEUg0AI7xkvHGT+CXyErfWtbVEvJoBPjGz82sbrEb3/iyEBHvS/Hp/lTJfqOFPBuB6rzaVn1ZkDXDs+eDpXWyZligkB1rBFp6zbCuTY5aGgEIGF575EyCNr0iaK6//dhZdOE9nxOsP/QE4YbeZ73+mtp/+NoJNFUnkFDnnf29+swh9BFr/kOQ4ak0bnBneuSWyfTEK7/abaLRygOJ/BoJkmy3IBdO9mKXUR89dZ7F8gFZe3Jci1f+cRbd8o9vbUoyjq1NAjec6JMRTy8+cgbd/sT3NqXphRE2Fz38BHCdOrEX/fz7VquWwjqhtSk6PIj+wxZKNz36jVXVNz89m354eQb5OBm/xSpzCx0oYUT3AUEUNtaPiqOrCF+RAQ3E62ihpkixgoAg4AYE0sj07pC/o4YK5tXQG2/nUGSED115WaIbSieLALMb1ozxflQaW8ErRg1ZR6tyS1VSiJsRCCRvCisIoMMLa2jTmlK695F99ONXfSkwwHF8JmebsHptET38d9PzdsSF4VQ6qJoqK2sIzsNa14GYsy2WdHoEOpEv5W7yosJ5tfS/t3IoPNx9a4a+nrayLwIJJ0dKf+MnnxZIYScoZnMrOodzsq2SzB4C3nzj11DuXPff+OoDI6l3ANWdUEsRXdWcaP4Dx15P5Jw7EfCmygJfyl5QTZvWltIDj+6j2V+6/2VB1gx3jllrlSVrRmsh3bbqabk1o63g4OUomIKDDugZgvp9ldzHx/pZaQwA7WVgKDYWjNeHrQz0BE30gb2TbALsjhyWTs/dfSplpETpk2v7vZmRvPqzm+iDH9bRSx8tsxFMqAzJ7Erp9Am9aNygzuoUDeSgvr9/cB1d8fAsG6HCDZeM0tzM3PP0D5b0xh24Evrl9avohie/tWnz+NFd6e4ZYwna6HpqKLgy0jWGmfG6vXEyprnpguE0aXgGfb9wK23ZfYQOHS2ibp1iCC6TgOn5t1pbhWQwVu4kjGtyQgR14uDRl5w6kCaP6Go3zse5k/rQ+CHp9MLHy+iT2escCpT690mm08b3ohRzDAp7bTVi4AxOF3Dg7bE8P57n+j/62r67LQhTrj233sWQ8RYz3iP22tZYGmPbjXUY7zt75env/ZfuO40eZWEALIf0BMuT/+Pg4T8u3k5zF9QLLHx8fPTJbMbKXn0qgz2c9ekRF+SrsRvotyU7VRaCRQ3u36vOOH7u4iyN4R3NipotI/oPCqHq04mKqquJaqzXPn162RcEBIG2g0BEF1/yO8ebDn5YSzOfO0ijhodTzx6mmEpN7YVlzRgcQrXn1VJpdUVTi5J8xwkBfw4LlnqGD2UG1dGhJZX09LP76LH/S292a57+zwGtjNE3RdCxBHbVVNnsIqWAVkYguq8PBcR404F3qty2ZrRyF9xWnVcdk9tKO44FHT58mBISEmjatGk0Z84ct7fk3Eu30JYtZZR6aSCF9GgXkLkdo7ZQYMmhOsriG7+uoo6++ayXW14WHn08kxJYGBF5UVtAQNroCIHMedVUuqSGzjsnmh53w8uCrBmOkG5b52XNaFvj1Zqtdfea4Y62T58+nX788UfKycmh+Ph4dxTZbsooKqmkfYdMrpZ6dIolfz9rBmlDHUXMiD3ZeZSVU6RpXMcwMzw+MpSS4kIbykaZhwpoK7t+io8JIQQ5DvB3TQ8ot7CcNuw4RH7+3tQ3I4EiQk3BsxustJUubuMYGhkp0TY41rJ16C3P/GDl1x/Cgy3f3dFKLWu4GmC6NzuXDh8toRC2jImNDKLE2HBCbIyWJmCTc6yEMo/kU3FxJUVFBFEKu2qKjw5p6apbrHwE5N627yhVcTyMRL4feqfH2wgbWqzyVii4b9++tHfvXiopKWlWbdfctIOWLS+igdeFUWmUxI1oFpiSWRDwUAQy51ZR+Z9VdN0NCXTnDc1zw6LWjP43h1FlvHCcPXTInW7Wticr2GbCizauGOx0HnsJV68rohnX7KCkzv4UfrUIte1h1JbO7f2umirW1rhlzXDX+0pr4+fal1Frt85D6sOND2FEaLKPCCM8ZEya2oyQRC/y7+ut3fi/L8pvtkACQelAXmwZwTqI2r78aZsIpE3xpW0raujbH/KaLZCQNaNtzgF7rZY1wx4qcg4IuHPNEERbHoGwEH/q1zWhSRVpAYrZagIueFyhtMQIwtZUig4PpPFD05uavUXzqdgMU8b3ZNdIMRTHsTUOMbP995W7bYKGjxzUqUXb4krhwDQ6PJn9ObmSyz1pYYUAIVZjgiz31NY6pUCY0pYFKq2DEmkBrOMS2U1TGH8vVAsTqbVwl3oEgdZEIHaYLx1ggcTStcV0ZzMrRtD72CQ/EUY0E0dPyR7AGvEV62to46ZiDoLesDJLQ23esLFYuxw/0Z/KqaqhpHKtDSCQNNaH9rJA4g/mNzd3zWgD3bXbRBFI2IXF+qS68UNGOa9NZ12CHHkSAurGX/5nMd3YzIbhZSE8zlfnpqmZBUr244qAu18WZM04rsPptsplzXAblO2uIHetGe0OGOlQh0FgHgcUnrfQcXcRT+LpW09xnECuCALtHIFjuRz4tqiG0roHUqW4aWrnoy3d68gIBIQyr4id+B/Map5Fg1ozEPQeMSOE2j4CAXFeBKdbuzLLmyWQyDxgmlvl4VCGFWrrCATEsIKCvxcdPNi8NaMt4yACCSdGT934vjFOJJYkHo+AuvH3mxf0pjZYvSwggLVQ+0BAvSwcOFjhlpcFWTPaybwwvyzImtE+xtOdvXDXmuHONklZgoCnIIB4Aq/9/Ux2idR2XRJ5CpbSjraPQEV1LXnVyKd32x9J6YEg4BgB2D+5y7l3Ga8ZLe9M0HFf5Ir7EXCXGKG4vJpC2QWUUPtAwF1rRltEQ96K2uKoSZs9CoFK9gnMTps8qk3SGEFAEPBcBGTN8NyxkZYJAoKAcwi88cQ5tHnPEdp9II/yikqpqLiCfDmgeHJ8BCWzIGIkB7c+aUQX7ZxzJUoqQaADICAWEh1gkKWLHR0Br47MXezogy/9FwQEAZcQEIGES3BJYkFAEBAEBAFBQBAQBAQBQaBjI3D6+F6ETUgQEAScRYCVl8T7irNgSTpBQBAQBAQBQUAQaOcIiECinQ+wdE8QEAQEAUFAEBAEBAFBQBAQBAQBQeD4IaBpTUtA6+M3AFKzINBKCIjfhFYCWqoRBASBNo+ACCTa/BBKBwQBQUAQEAQEAUFAEBAEBAFBQBAQBDwZAS9x2eTJwyNtEwTcgICII6LCTJEv8orK3YCnFCEICALtGQERSLST0Y0JD6RyDnxUUtpxI7S3k6F0WzdkTrgNSinICQRcefkMC/Enf/Y1fqxQXlSdgPa4JpFxPa7wS+WCgCAgCAgC7QQBWEi0d4HEtZOiKNDPxJD96I8Cyi8WH1U3TI4mP5/6SVzH86Ckspa2ZlfQ8m1l9RdacO+CkeHUPSmA/tpfTrPXFLVgTVK0hsBxiCEREuxP53WLsRoAhLksq6mhHA6AvPpgEZWVV1ldb4kDf38fenNculb05b/tarDOHglhND0tknIrq+n9v7JbojmWMn19venSPgmWY0c7X+86RkUllXRW7ziK8GuYVbo0p5h25LSf+8neHDLidJjn0E/bjxpPt8oxxjA0yI+Ky6qomvmeejqleyz1iQii1bkltHh3rv6S7Hs4Ag3fZR7eeE9pnv7mzeGb9Gc7N6k+zdGKKpqzzX038pDUSHpoQCLt5cXznoW73QoLGIfX9k4g3PKv/XWQKitde7HMiAuhE5PCrdpUVlNL+4oraU1WgdViAsbXuJQw6sa/SUG+/PLmTTml1bSWF5a5O6zx0uOpCq/ipy7wX84P3OMtmNG3T+aEGiHrX8zbUfGhlBzsR/7eRMcqanirpo35ZbTmYKHVXBucGkHDYkMohV+2YgJ9qYjnYSbP92/35lF2Xql1wXyEB9akjCjqGxFMiTyX8F54pLyG8BBde7SENmUX2uRpTydO7BJNGaEBVl0q5fsOmK0+YH3fWSVq4gHmu3r5vOTXHVZjZ6/Ip0Z0oiQex7+vO2gZi78NTqFAvue/3ptL+3iMQEGBfhTg5035RRX2iulw59rLuEbw3KzlL3K88BvJ2Efcu0VVNbQ1r5y2HLK+b/F8GcUfM+khARQX7Es1/Aw4WFpF83n9+JOfL3py5Vmkzyf7goAgIAgIAoKAWxDgB5pXO3bZ1C3Zn6b1D7NAlZNXQ18ttX5uWy52oJ1T+oba7e0ZA4lyRlXTw5/nUF6RNXPNboZmnBycFkQ9kwOohi10flhR3IySJGujCODF9ThQfIgfnc7fy46ookccPbr2AO06bPrGcpTOnee9vRu2FukeGUBj4kOooKqW3qeWFUhE8LdqQ/iofi9jIYMmkEiLolDmJzRE+LZuTwKJxuYQsDjEwq3jJZCY0TeRpqWE09f78+mTjYeshuYE5hMNigqiav6+XEwikLACx8MPRCDhhgEy3ryrDhXbaP6e1TXasggeY2aqOwUSqgteDa/5KplLv5HMEMSDAvRBgF+jjEZj4YN4cXC0+Jf3iqfH1h+0LOT3DEyinuHWTNRUloIOjQmik3nxuXtBvbDFiLm+3hu6x9EHu4/RD9uO6E+36r6xfTInrOH/59gMm7HOML+vn5IcTjW94+nCn7Zpmbozw/HhAUlWBYCZ3YPnyklJYfQMP5BW8YNJEYRoL41JpzDDS0Q38zfSmWkRtIq1MZ5ZuV9laXe/U1gI2DvCZC5r7Fx5z3j6vzUHaK+Z6W+83prH+vdUjCVo1bESi0Bi5ujONoKL1myfp9XVHsYVwqu3T8zQoLUnvHLYR86SXR5PDyzfrwmcIXR89oQ0myFK5/t/NAsq5vL2Jj9fFLnyLFJ55FcQEAQEAUFAEHAnAu3ZQmKygfE+oVcIzVrcfrSHmzsPlmwrpf1HqijI34v6pQWyxYI/JUT40l2nxtKjn7bsN+uiLaWUebSathysaPdWOs0dp/aQ/7XtRzQlHX8fL+oSGkgTE0MpgD+6bmDey32H93hMF/86WkZf++VTHltItDQVsBeRt3ZaK7iqOuOZ33WGQZjzFivDhrJSnJFw5upuscbT7e74fealQdHLSLkuKicb8zfnWLE67fE857Ey2m5WYNyU1zpWZ83ph+S1RkAEEtZ4uOXoQl6kXmUJtCKYrk1PcSyxVuk88fcoa7DOYmYvlqOiMlttVmfbnMcarp+w+VQQPxgz+ME4LiGEtaG96B+Dk+nGxXssmrLlNXX0I2u2YjEJY9wmJobRQJZ2dmYm1pTuMTRvxzGbKv/HD10wNhOD/GkCM6/D+eFxZdcY2ldUSRsOWmvJ2mRupRMyJ+qBPrNXnEUYsepoKa1hC5gjZdWUzJodQ6JDaHB0EHnxPyNtK6ygn3k881ky35vnBO6pEGZK3s4WPJfpBBJ3DUzWhBGV/BBdxFoOf7IFRUV1HaWH+7NwLVSbS972nmTGCtvB8aaCclpwqIgC+F6D5dE4Fi7ivntyaCpdNtck8PGUbn7ClhGB3t60XfciYTsLPKW1x7cdbX1cnUEPfVzIcxcfAwOigjWtFwginxieSnfphNNH2LJqdmaett6nhfnTVF4XIMiGYPOHffk2FlTOPoucaaOkEQQEAUFAEBAEnEUA7zTt2UJiVI9gDYrs3GpKivalpChf6pbgT7uyrN3EDO0eQGHBPrRiSxkN6BJAfToFUCAz6bdnVdLSTWVUVllH3dP8aWBGgFbG0cIa+mMzM/NzrJmWI3oFUmqcL0WyhSQ8q5RWsLYyl7FsS7070PBgbxrS3b6CDhqbV1RDf+6ut8LtkuxHg7hNyTF+VFhSQ3tyKmnxhvrykCc6nN9LMgLpWEE1ZXFfR/bi79R4Vtrjbm7cV04rtlqnRx7QwvWltH6XqquI7j0/moZ3D9IEE/bmBfrXlYUWMeE+BAw276uwtFW1oZI1y5dutq1vIPchKsyHth2ooOxjNbQzs4oqOdmug5U2c7ChetDuYT0C2E2KD/21p5xyC+stOSYMDOY+W9cP/DrF+dHew1W0N9s07hDAjOkXRMk8JwLZJD6X3XjtyWZPCTsUFqilfZFX7fH9gpm/05pfUslKn9P4/RgWxXpKiwmh9IgAimaeSyj7FSs3W9OvzSq08mIBi/UeMcF0jL/XjzFjfxALOLqEBWjpNxwro+1Oui2CkmEwf7sXsEcEKMblcIyJTfxun8vf9oqaUhd4bUP5vR/fuqCdXG4xu0UDf2jLkWJNoRYufux5MUH6q5l3ACriNLtZMQ60ZI99LXt4eFC0LLv9WhvN3tq4kBTW5+H+vrSJxz+D51I/5uFgfDfzt/wG/oYD5vGRQTQgNphSmZcHTxVLs4vsej6Aq/GBXF4aK5bls4BqZwELF3QeLRIig7U5B+y78zgPNPNWS7kOWKns5Drhvn4vfz8aqSvzP3pyOyB4Osj8zM3HyukA85/0hPpTeU4jvy9PnMGcB20+ynN1OSubHy0QQYceL3fui0DCnWiay5qQEEofs0uKgmLTg3Yqu0/xx4rYAEGrux/fhFjcmSfPLo0qaJUD1yrpbHXQn2/suABf7SaJ5oXASPrFHDccyu/ENxqoik2Zgtg1SiHf7HuOWN+McJvUiTXPq5mZi0UAvgY35pZp7jWUrza1AGDxUedU/Sr/UfbtlpVb70rnQEkV/c4++RT9wg+kp4emaNL6XvyAW8WCj1c25dARfoDoy1yemU/vndRdY6L2Cg+ieaoA3e+vuofurOBjmnZ8BDOxRvJC4ikCiabMCWgA92eBTBcejxBfHzrAGK09XGx3EW/unMCLQDy7ToIg3IgZHvK940zmCxjz5s6JSzKitdH7iV923v6zXoP5Tz77Ex2lzjy/J/JLhaI9/GJwx/JMqwfHBpaCl1TX0FVdY7W5gXmHwFkp0cHUP9I0z/+zOYfW6AQVa7nArzcfphM6RVIE96kj0BrGTn/frUmPorvZfyaEEsBKf48CD/jyhPlsHFtDwdXYZr73lfskPV6RvE4N43WuE68rBSxszG9AW0L/koi1B2sb7k8jreW1KILXslzzuom2RJnHaRivjXg5AB3itSQnv35tMZbTEY7b8riOSjZZwmCcRrA2UiELFEB4kdS72kMffzM/M77n6+f2iaeL06OpE78c4nkGc+p7VmXSXt0zbBNbe2/iD6PnR5gsJ7ryWmB06ebMs0hrkPwRBAQBQUAQEATciQC/Y3vX83PdWfJxL2tE70AKDTS9pz3/dS49PiNOEzJM7h9Ce/hbTk83nxZDYUFedPP0KP1pmjQghKYNCeP3/Soa3TvI6trpJ4TSw+8doX2HTExuMNzvOcfaX77KcGAsu0F65wiVM7N8SJdAm3pUOvweyqum2/+bo5265KRwOmNkGBl1lk4bWkkzv8zVhBdIOLpnEF0xxcSUrKiqY9ei9d/4U4eG0M+riundubYKcd7MpNaPfyYLWIZ3h5tZLwrm73K0FwRBwt3nRlP3VH/tWP05Z1SYJph56es8GpIRRDdMN7UhJ/cw7TlowgVpA/kd+75zY8if2/XV4kL6cmERnc39guDk17Ul9OaPpvFwph6Ud9vpMRQU4EWfLyygrxebGLAQRvzNPH57D+bQIRbMgC4dH8HCmgBLO3twHx64KJZCzHNDS2T+s3l/BT32gX2NdX062W8+AkrRfV+JtRBIvS8bayhha/q72CJZxfqDAALfjyC43gYfSdHF6USfslLZLP7GbojOYIXEGV1M9+xc/o5/kwUSg9mi/96+CbSLNdvvZwVVkKt1gSn+f4NSDN+W9YrA8MYBvoEjAg9hqpnv8DFbBej5UPbyXNPTZB2x/EipFW/CXtr2fu6hQckUpQXISbLq6tnsiWI7f7Pt4W96KIjp6VKeA7f8sU/j26jz0xnTK7rEagIkdQ6/m5iH+q81WRrv6Zqe9Qqt/fj7rl+kqc4a5i3Aq8Z57I0GVvZf7sujz5mnCAIv7WaeG1DItCJed2czn1Uft+QiViiHJREI94uedXs5t+ORtQedFrxZ1SUHjSJgy8luNIskcIQANC8LeYM2/7msof8OM1txI5zdyfTCtY6Ze9D+NtIoZhLezAs/mIR6OsY3xiOrD9Bh9qmv6Hq+8U823Njqmv5XLebwybeNJX3DWYChaDtrmsPdDeghvsmVVBuMw2eYkQMp+T6Wft/NAgkwfv4+yHTDX8QS5gBmGP4fS9nR0pe2+tAitnrQ0839EjRNVmi+N+QSR+9vLzLAxBw2Mo5QLh4KwDXJx5e87WjN6+vGPhhaWPzgQy7KjqDGmL6lj5s6J8AsfoitRxJY6KSn6h6x9Dw/8FfwYqvIHXMCVinQnAB9xgzpr3QvFfcOSdXmLaxXbua5BN/vzZkTyvoBPv7sERjg7+ncCWEOGKXYyJddUq9NoR4aimmN69WQ7NkhvXsnO5fb9amtzKxVFKyLsAcB5t0833DfGOlHFhxhLVMEH/8380uBj/GLTSXQ/ULz5tEh6mVFd8HO7gOsnRLLa88ja+u0WAFPDkmxvAzA7Zty/bb6WCn9a8V+OyV03FNtZVwR++VG9mGr6HY2HVf0JptGG2MFqWv4XcyxgSCQAIXy2g6BhF4YoV3gP9C2UqTWBXVs79fes8heOjknCAgCgoAgIAg0CwEwOdiHf3uk8Sx4AEErPjOrmtZsL9e04kf2Dqa3Z1sz5/UIFJfV0bbMCooK9aYuHIOiU4KvtjHPk7ZnVmpWD7Bw8GOm/aiegVrZqKeOccRnxG7W+N/FzPgSjhPXhWMkDOwaoFlNnDs2jD79tZD28TVYJugpLd5XqwvnDnOcC4zJCSxQOZMZ/iAICtZsL6N41ugf1TdIS3v9tEh69hPTNy8EC4ogjECfs1mw0Tc9gGCRMWVoKH2zoIQKS63jLnobxr8zW3eA9nH+yvI6y3furWdGacII9G8LW0VksrVBP7bISOH0Y/oE03q2wFiwupSFIhGa0OeUQaH0hk7oM3FosCaMAFPt91VlWv8QUB3kVcdCEfMcdKaeJRvKafuBSg3XXqmBnNekyDichTKKxjFGsxaYBBWw6ABt3VOp1XP9tChNGFFaUUfL2fqltLyW0pP8qC8LLaCsqdqiymovv/Uz5Pj0aBgr38HdTiDzoQbwtx0YtZgC8HqhJzBzs1iJdA1/WyGOYwJ/D4KBDA8Ef2NBwZPL9umTa/sQRmxhfsB+fg+H337wjS7oHEWzWUHUUazRqcy/UMKIecxf0rtUtalAd6KxusC7eoQZzvCOAT7FT+xJAXHnBkYFa/12Zhyu5m8RfC/A4lqv5KprhmV3MgcNB28GWL67rWEBjCVTG905jb/1MT+MhHmyki3QjQSe13rmM8Rz7M6+7DYavEZs4Pes5fOIt3Eie6qA67ARSaH0s/l7rRufg4IpaAcLphay8msKez2Zyu7aUc61PA9fZlfTv+cUUlqoPytN+rAL32paZeYVQUHVEZ3J804JIxZz7JRthWU01OyNA3yF3cwzXGzgZaKsWh7h1exODHxdCCnA87iOhSb3ctuE3I+ANbfT/eV3qBLx4P94Z64WYPoU1gL9fIc/ncCTGL7sM3mx/40DchoFEkm8YN7FEmcsmEeZWQP3KtAeHhcfRjG8yN7VP5EeMEuMsQgqYcROvmHhaz2UNefhhgYPA3uEspQwIp9vKgTneZMX0PvNzL8HWbhwy5IKjZEPxjPKwYLx+Oose8Vp6fDQGsZWDbiR9QIJCC8UQ/NHljo2RHiAYIHy5RscL52OCMFP4aYDlFlmLdV3lEcFIHLE8HaUryXON2VOQIj1d2bGYizwcMXCXMJM+fFsLYE5cRvHV7iWXRHBUsFdc2LOvgKKZa14zJWLmOn3Jz84wKiDxFrN2Wc5VgOsfjDOeoIQyJU5cYBN5aDlDJdLEML9uL+AstkMrjGNBH2d2B/OGhEgYAy/kKDDHCwdj07cT3ezcGwWu3D5g80pxcwO6BD14ngsILxgwPJE0S0cowP3LrAEw39ncTmN5JfMLnz/IXjUCrbMgcUUzCVv5Rc34ItYOHCpg/tsBI8FBLF6wjx+hIUc0JxAwPlf2UQzl62y+kQE0SAWzKKMhujL/Xl0Pgtz8ZII9z3QngFtL6xnODeUvyNdayvjCjPvhbx2jWfrGtB8nhMl5gcArHEaohj+SFKE+eSIhugE9lm8XjVGzj6LGitHrgsCgoAgIAgIAg0hgPcen3YY1DqQtecHdjVZJy/bWKb18Y+1ZZpAIpQtIUb0CKLVerdC/N6IN3UwqN/6poDKmVkNeu7OeBYC+NDh3Bp6jpn/B8wumq48LZwmjwhhF06BNKva9O66ZXslXffPQ5a8WgFUQnddFkVDWHCRnuCnteNgVg29Oav+mxRtfeZWk2IE3DW99kW+lu4cFmCAIIx48JV6VyVZE6vo/EnhmtunzuzGCW0CUx9UykKE177Ko3XbTO8aGSl+9MSNsQTl8a5c/187rD9wuyT6UXlJHUWxC6bRA4NoGLcTtG57hWVe9GWBCgQboNfZEmLJevXOW0Qzb4ujZBZKDGchz7J1FbR8QxlNYOHDyD5B9DbjqAjWC6ANO8upIK+WfBhr1WYIRTAHXalnM7u0gqAHQcvV/O3PAgVFw3l8v/21RGubsoT4c3OllhYutUCL1pTSRz/Va6l3TvLV0qvyVFnt4VebHY5fU1uliw/0S7SpB+2CyyU9XTpvh833N7637mBegzGuJ/IVsqLr4+uzLApBX7P3jdfHpmsM2yTet2dVD17FtaxkC4Iw4vV19Upu2kkHf5ypa0pGlCaMwHft7cv2WSw6YFn98qRuFh6Sgyo0rwyj4kz3y3sO4kuovPiuvcxs4fEr90NZj6jr7e0X7s/tEYJaGwUSsHh5l/lEipfz/IQulMZ8gUz+7nuMlZ/zzd/wh/rEa3ymEbEskNhuso6a0b1eGPGgmeeJeqFgfBMLRfDN+CF7Zli2N0/jIZzKfInlrCT98YZD9ppnOYfxOs+sFP4NC2xV+p/ZG8edw9K0GLkzuI9GgQQUt59hqxrl6WYLK2KC99HZ4O7MUpHsNBsBEUg0G0LrAtYeyKccZuJCenoOT3K4DQJ9yiZg9vzWX803Gh4QuOnuXbRHS4s/ixLD6QnWLO7GNyCY8rgprjAvDEvZRcVz7KpC0Qb2ZffQANsHD67jefgDCwe+4JseDGxFT6zNoufYGgLCkvuZaQj3GGA8I/2T67MtN6FKr/+dzdJ1CCQyuF3wC6csOE7qZNKwh+DD6PZHnz+WGZK3MbMYwgjQRmaAOqKb+pr6hXbNZ8Z1QwQt70sYT2AG+ivPcbkNlePua67OiSm88EEYAUbvdQt3W8btK46V8RG7r4JkGRYwWJjdOSde4BeM58dlaHP3QWZQv7rNRzOfAx6fsSnmn2xF4YhcmRPvbj9Gj7LVDRjN0NjABoK0ez3PhVl8r6gHl6P64KJqEgtoQL+ZfRRiH3P8W37owFQQ5s+X84sDNryo7GVhxbKjxfQDxyFRD0zkac+UzBoGuN9C2WfrYMbsPNZgAUFTQWGQypoCI8wWVE+wJYQya/2a083k4MMQSpzIWEMgMYM1DXDX5rB2xJ380qA0YebwS8f7/PKhpwls+YV5DN7xPSszLe6hvuFEzrwkfsnmluPZbVMiCyS/YO0F1C9kQqCtjivuz3e2HLYIJN7edMgyhxoaW7jvuoOfGSB8oDgSMEK4cJX5owdzdBdrwzRErjyLGipHrgkCgoAgIAgIAo0hgPen9qgRPn5QMLF+nKZg9sdKk0b+xq2V/C5fQ5HsfmjcoCBau8FWQWD1n+VUyZ9qygIelgIQSOxiy4iDB9lyQXvj5LgH+1kBawTHCoz1s8IviuNQTJkUTF053kRUhDfHpfDWLCkwDiEseLCH9d2XRlNMBH9jsVLtK5/kU0mhyTIBjH7Qb8tLrPLN/rWUzhwXplkcdGWBAtrlZZYzHGOrCDDeVTv37a/WBCQQekQEeVuVg7Ih2KBJ2Kun+VzfN3OLLWV05RgMinqkshAgpV7ZB+0GJUb6aGXPX1aqCSSC2B3SxMFBtHB1OaUl+lK6uYwFK0xjgTwWCwluO3BxpZ6NW1jpawpjysKlzhwfIpWtWOAOKo/jWmB8O7HFQyIH5+7b2dTWI2x1ks+CEOCCfYzpiUOCmWnN3+Y7KmkbW09kHqjRNoUd2tieCPf68SQo/+D7C7wWxGLrzZrmUAKEu+z/bjti5c73JBYYQGs8iWM5QvER388gvVsm1ZdsVrDVWyeDKQ+lSVhUIAaFkU5Nj9QY0Dj/CzOt32BGr7PkTF3dQk2KdgtzSpokILieGc0gMM713ifstRHa9lB6BU/hEzMz3V669nIOrrXrNM6gdY8O8Rww0gJWMFN8BVzbyoqEEEhsYHe8ep7OljwWsKYTM/fr1zXwGUCzdN4/cAy3vQgejnmbxm619OXgemMUzeX6gdnE9O0uk3WbyvMl8xXGMI8WSpP4dlT8DFxHbFMljMDxRvb6AkJRxrTaBfnTbAREINFsCG0L+IyD4MAVxZlpJgY9TMAgSRzJDDojdTe7TkJAGPjIVhRofhjgOI59+4PUg+F9fpA4SztYyqf3j6bywXf8q1wOJH59+CGFDfTerqMWF04qrfEXjMFcNp8Cs/FUNgl83+xS6tQUky9LuP8xEvz6vzWlO4XzG6t5bdCSQGKpBBrGPAgwNNSs0f0hM6n1i4M+LcoNYbzUooNrsCBpzOxOX0ZL77syJ3pwrAwQXiKmdbGeMwq7ZJ4TEFS5c05gMX58zUF6cVSapm2gtCvAvNa7cLKHlStzAsKqe6uq6RL2FQhNedUnWMIksdQbpqJfsXb8F8yQtkcIOvQPszsfCL/eZwanniAB38fChzP4/lMPOZjadWVBFbZzWFr+n405DQpY9OX8NYXYAABAAElEQVS15f3JSWGETU8r+cH68l/ZllNd2UWXIgQL72GOwYFzSRwcGJRqfnFQ69WXvMbpH95aIsMfNY+XsQDVGKvCkFQOXUSgI4wrTLvPSjNpPil48HH14mb76wI0YR4f0Un7mIIA+1ndHFf58duUZ5E+v+wLAoKAICAICAJNQoAfTj5mdzlNyu+hmcawtj8In67Xn2/6FsQxmNWgAexyCYFOK8yWEIpZC9dHejyqzDILaPPrzyMYMwj51PkRAwPo6vMjNMa4dpH/WFncG8pAmotPC6XeGSZG2KfsRmr37mrNeiA81MtSzpGjNZY6VLnVrFTuz6/Dwazcg/p9zBYSuK7ao9KWcWDtQHYpglgRxmuFJbVUzBYSsVHeWn3M16T5f7BFiW5OJEXVM3UnjTBpbquy1a+/uR0HMmtoHwcM78yWGeM5dsWSFRV00jBTntwCdp+yga0UzEIdi0DCPAddqQdWJoXFtRTObrX6ceyObp1M3wa/Ly+lQezqqkuaH40ZGEgJ0abz23ZxveY+LeA055/KgYxZaDJlVIi21TI2q/4qp1ksiDnC1jBC7kcALm70pFmt8zsyXODA2wbiC4KP8PgJaewep54diPdnV6mYbzwIJOwRvC6AYNnsijDCXlk4Z6wrJcTU9oNOetHQl9s/OcJiBfLWtoZjmYQwc11p23/Pir5wG9veSR/n09W+wsOHPSqvMd3vZp1kjcGvXNYfKrYVdFTyvMH1YBaquUpxZh4Gvh31MQpRDiz2FQWwUKIhnkal1YNF5ZJfdyJQvwK5s9QOXhZMf65kX2gqcOvne47ZRQRSNuVeCBJp5R/bmDiImfgJIer1jW8iF1yW2F8OTDUs5HaOZddQyiUP/LbNaWRBVm37MSufLsuI0ZidEHh0Zw1W9AH1zbPjVw75Is2Sc0iWD7B0Fe6tYD1gj65gDX24igHBvO/7rY6FMKpc1H2YtWLnMcP72y2O02uFtvIfZ+cEmpUaXH9bOpoTEFgl6KTL7poTCBb8FvtyV37esYj/e90Bp9ByZU5Au+Ip3vCCFMdS74yIABrC8QbgWxACivPhi5Kl2XqrHjQCwoiZ/EKF+wauxR5adcAmDdItYYY5Ntxjyfzy1Y03zHUEQYLmx5Ws5XCnHcEZ8rYnwgvBAX7oxrCwxxR0igOH84uUHtcUfslSBB+g9iiQffdirCCEBO1lQWdjlMaaNqBd7P5JyL0IdJRxhU9YEPqL59P/OLaNvYDmmJuPjexssY57joUWeg0uI/rqmeHMs8iYV44FAUFAEBAEBIGmImBPa7+pZXlCvthob8pINb3voT0DetQruaj2+fFnzbhBgfTbUuv3QW9m7FvhYbY8gAWC/ryXzsuMOn/2ySarBTDKf5hXTH+yFv/R3Fo6bXIwnT01VLMIUGnRjpGDAmjKWJPXgiVsxbGA3RUr7fzqsvpvbH/mlOnzIW9VNb4wvSiAvx9wzUvHQzemVXHycN547d3PCuivLVU0pJ8//W1GJHnzK85dV0fRP1/MZYY/6uD4d2Y+WRm7g3r7U1sFP6TJL2DrAzPDf9HyMrr8XD/qykKC1BhfGsE4g5auKrekwbGy6oBgAnldrWc7CxmGsdABAp1e3UzfDStWV1BtlZcmkBjah+N8sKAEtI3daan2zf2tjLZvr6KTxwdTOrcxjq0l0G+0M4YtPZ5+JU/L067+mOexJ/UJ2uuL2RUzBBIZ7IcfdBq7O4IwAsKCT9gTwmLWiIcWOqyH/zems1ubD6XR6zgOqrOxI5ytvMzM+O4cbJr3zuZDuus4yDZoG3/TNmaFfxl7P0Ef8D3ypQuKwVoFHfCPaTWz7Tj4Snqq1Z2AlZ2RKszX/WFe5SJBmAFSwg99dl9deb5YkBogXRMbSCWXmoNAPeezOaVIXhsEvtyXq/nLQ1DpBcz4t0f6m/BTfhCsZQatPcpkc6cMZta6m8DESTRbX6DsZJYkIj6AM1JfuE+6lAUS0NBH4KQxcSYt7NWsfW0vP1xSPc4+5HBTG6WUxn7dOjTV4tIDPukae3hdw66uEGjZXr3Gso/nsTNzAu2rNL/IrOdx/9iBP8PDJVWUbHZN5e4+9eYXEUUQDnTnudfYgxrpXZ0TyIMXJAQzx7aUXVB9x3U9z67E8Njpx6Z0+gDUndnl0BNsagqBAty2PMjCCEfWNSgbBIk3GJPYYDEzjQURMP9Lc2Gum0pqm3+/4HUIwjxodjw/urMmUHiQ3bvdzQJBFUS+AqpKTEU8Fo+vy7Lb0UK28nKV3PkAxzwUqkegvYxrfY9s92Bp9yXfsxVsBdWQ5gpc9T05Mk2LYYI59/yWHII7O0fkyrPIURlyXhAQBAQBQUAQcBkBg0WAy/k9MMOE4cEaw6eSlVu//KZQ+87TN3Pq5BCKi/GhUXAptNikzALLAJDRikCxhfDKpzTsVTr8gnAeFg0JsSbu1c/zSmnBIlO5sAZAjASQvozUJB+acUG41s59mVX0wafFFssBpK3iEFbFbL0QGsKubdgCYOOGeglIQqy3ZhmAdMeOmKwnVFBroyUH0igPJ0brD1zyMY//n3+ye9kfi+kcttiIZYuIO66JpH8+Z1LQyzlkeif3YYZZJruAyss3dwgF6EhZPixmwcp50+sIbptuvTqS3/e9Ca/1CxZaW14oQYlqs6v1QMgAgcSgviaBEwKX5x2po1XsJurcaaHUia00QBjbLSx00Y/f/n019NYHpmCwUZFedN4ZYXTC4ADKYMsKfTpd99r+rv1hO679CjAzYdUnlYr7uYjdO81uQPGzOY3+DysIDeJ4qSextT48ICBI8OcOPCA0pZ7s0ipNyNI3ylYgAbfkjuhEdo+dzMp6oDe3WntaMOaBMuTkJJOSLL6/GvomMeaV44YRAB8ol3k1UHjsz+7g9cpk4ElC2RmUzZ4v9BTYiBABaQ+brVgw3+Hqe685CDaudec5qSjPHFxbHctv6yPg+E5t/ba0qxp/ZSEEFmFHDD50Fjch3DmB/PjG2sNMU3sb0h3lBVdRSnT9TaTONeX3tsEpVsF+YG73MLvCcYbA/F9l9ql2OVuDjI43tel7ji9hj4pZuwR5GhJGQEDyyKjOFmHE5+xLrjFhBOqCKydPF0agnc7MCaTbX2J6scZ42JsPOAccW2JOIPCUCjiLtoAeYAY2zDobI2fnxCkcvAiWC/YoUxdo2VfHhR7EAdSfOSFVE0bgnrlr+T67mtJo59gMk3movfK359drZ/noyreXtj2dw3x5hAPVQ1vAn/v9xLAUS3DyTPMD249VCA4VVdqdc7DAwToEQRCoZ1S90MoRTsrHJIJYN5f8G3ipbG7ZbTl/Wx9XP3vqMOYBOcrWblhTGnrxx0fCc2PSNWEEYu48xr5pGxJGoGhnnkVteU5I2wUBQUAQEAQ8FwEE8W1P2wlseQDavLmCliyupKVLrLfVzLAGZaT7UQJrxKPviiHqzZ/AeizqtfitMVICADD7kb5GZ9GQnuZrKWPs0EA6ZaJZgc+cFi59/3Z1BAX4e1FRUS3997VCS3p93Tt2mr6zx41i16WdTQGxkffyC8JMAhfmh+3azi6e0H4zsxm/+jK0a1pvWSCiu2Y+pVkNqPTz5pbT8pUmbDozY/7mq8K1srZuriR4NYGLqJtZwJDMFgUqT1e2RLn9ugi68sJQyzlcW7PWVE68WUizkceihD/HVT78Gtvsaj0b/6rnQ6A/f/5pCsRdyJ5u9nGMD0XZh6otdQO/F5+KpQtY8IJ9tAPpi/KV0IW9J3CsDX0728O+wuJ4/oKngg3f21HsiWA6a/jDFSpoS4GJz6AZ/vBxZ7aYUN/lScyovW9gopbOHX/+4lhur7GyG9wFg+AB4VRWDnQXLTtcrBUFhvbtHKh4YEoEgZfxCge0Vl5IjHUBlyuYdwVaw26p9YxqY1ocX8cBvrFmQcn4R1aU6igEZUYofRk34OdOQhxbEFxiJUSa+Imo40aOIwtWDaxS9pvdw+ezy2/QEI59qdqh5q52QfcH/EEE4AbdyGOo0kHQcZV5Dm7hWBdCxx8BsZBooTEA864xxgiqXsXSOrgmOoeD8B5g5gvczIBwkw1nJuylHMj6nj/2EaR3xVwmFtcb+KZ6koNag1HTOzGcbjSbnGkZnfyDh8HoONNLG5g4EIggMDYCQl/DsRuc8RuHQMbDeUFQvgePcXu2HGpa4Fn099lxGZrmOrrwLseymMsue9Rio7oFXNsqOT0njpRqgZ6781hcPTCJPmBNAtXvbuzS6BoO3P0JY4NYDO6cE7BAuL67yXwRsT3msJbxK6P/n73rAIyjurZXXVp1WZZky5bl3sEN2/RmSqgJLUASPgmBHwKEECCBNBIIPYQQfgqhJJBA6BBCC82AAdvYxrh3W7Yk2+pWbyvpnzO7Tzu7WskraSVrpXvt0c7OvHrmvbdvbs21rGB+PmekV9D1zp7BwcYEf9SuhEDim9BM+CeEdssQBMnEBhkN64gLcd3QDrfw4CjEXvnRNFdAWwaq/fnnBVIDDX/72DD4jIVLph9ifnwdQoknEAR8MzZAdE/EtOPRPzNX6O6pu8GRTLtC9ZOubu5FfI1fYEzRZc2vIeD58Sd5sgkYkZlLH423wgLlfqwHRsBHs91v4HmVNsLFGvIySBXn/IV4JquwyWRwYQa2vwYxZXxpc1W9JdyaC42H2VjLVsNVlOWDExtFxgsJhCqbnFZQ6+PgbmuVW9jJZ2medyBlDPY0ofZc7ULphSMT5X1s7nvyTDnufgf3bRy35A388ou9shObWvu6wGevY2WwzwDtnyKgCCgCoYEAmcKRblc7odHirls5bkKkpLuZ4F+saPTbt88/bZSvnBZvMfWPmR8rr/8H5ghuoqDBjodhmtPKwX49wmaky+tO8DYL8p0yCsKI+fNi5QgIIqiZb1eapSUA0y46IVaGu9uYmBgud/7axZQ1bWiGWfpPbq6Q116qlZnQ/mdA6h/9IMWKd0FXH7GwPCAtfh/vE2DyR4I12S4gwXV7O62E7j+0hvC9R4sQ+7Wn/15rWY+MHx8lhx8WIxd9rVVefrFOPkBdp5zqkBz077afp0l1FeJSgHEf7fK0I2u+bPIqZ8niBjnmKI/yz2cfN3jdZ5OM5QjdZLENZfvaulVPDfiwpaWteN4uZuSqZZ7nvWZ1k+RCiEPasQ3vXO4xTgziEAh70clxcvJJcVag62jIr+JhiUJaAYGMwdS6MEj+cMS4Rs2h69Czp07yWznff3+/bp9173PwoMhrIO/nmUUTrWDNjLnYF3Tf53vkDigQMbj2FfBUUA3mvuF59aa+NbCm3oB3UrqiOhaeFXgcjM6aOKzdrfrjW4q7TD4WvLJ5eI8lPQMX7EPpneLJE8b5xaaw3inXL97u915PLv4T7uKPh+t3KuI+fGSOxduiIMIIlJ7aWdqunLaxHAKEXJHMmEj5B8Ys3WiRh3HxW1v8Vv0ILH9umzXCGuNPnDhB6ALKgfdG5uO741984pD6LUQv9jkCgXGF+rwZQ7eCf8K9xFFYPMkgJCP1KggK6iAJTLdpkFM7mNu3F2ExcDkEFAxA/TQmobX56sHvxnjU9223ZJiM53Vwi0R6CwvuVyAc4bEBjMZlXbi9YHoKH8qaMtvNqV7vJB4E0x6MYhDUm250DLF9po3mGj9vWJ4vdi16+73Bcs64GqvBwGVsjzMg6T8FZoLlMHHkmDAbhXi3n85gjQkKCn4xe6QliWZAcDKfSXR/cuuMLPibjJHvwaLmL9By6IoCHRN09UXBBA/6ruQPj+kby7cHO59i07DnD9Cjx+Z2aMLq8nq5E1YThsjw/hnikJAoWaeZqn2q3L+uyCQdUp/cuP0tIcqaWznQfPgJtEmI21MIbkZXVlxbHj9unJRCEMAA9CbQ1HsQHJGeQ3B5CiS4XtG/KB6d9ez8gbh4V4V8C9o4dLHFZ9E6c0Snaf3l57W1cFs2GVrwR2PNOvqMKdZY4bPmxlbJg0CoPdcdWGMYYP7qScOtg7EcHoN7une3Ba55NAprkhmfnNt3QZjmSyz3651sUn3T6ndFQBFQBBQBRaCvERhMLmomjnO9t9XXtcnaFa4A0b74VWC7nb/bKaPHRAqtJCJaGqSZ3jfAN2yGpYMdDxPUugkK3PbrzgbXDr65qa39+t8fq5Grvp8oGZlwXoTbPMi4r0R8BQoqnO60rU2uvKZdUZ5XTfclV6BqtvOh+yvlsisSZXhGuMVIZwInlP/ffqNO3nurod3Nk9OtVMs4DPZ2Mj3bTnI2evrGoNiR4LgwVoVv+kcerpEf/yxZ0oeHy4lg2n/+WZO88VKDlBa1yhlnOyQ5BS6jkl0MfJa7F66S1q/xBI3mtaI90CDOc0pObqSUQWiweQ1cS3m99Xja1Yy2mzZ0t54diAWRnh4jhQVw1wS8TB2rlzXLOee6nsHWTZ6g4E4oPlNQNQMByClMSUW8ERJdSq2FUOWFZ7zdSlk3B8sfW+Dz/uoSWAV+icqLJVDOW4X3p5ehrGcsj18BMzbHESPHZrqY+HwP5zvzqrI6673L+O9noY1uc4oGPwF+zbVG9z26JOf+m2/ezU5Po369fI/ce4zLqvl68LxWw1VUg1vRtKd1sW23fZpnWYDMTgM/DbySfLi1XlZSI9dAYddy8wyFWTt9JTvF+voh6j+Y6+fTR7nSMkYpFagGO3U2huz9drZ5lIM5XgRrqm/g53r3WDAxPkx+U765z+tUVLvus91yK/hQubBeMPEDOSYexXi1u74nn+mVfId8FYrchm/EJpCstuDTuKLmNSrv/hqfN0BxkuWa90Z627h3zV4pLHdZ7jCtaVOjKZAXQRzD5He04Z/d3b7rrv4NBgIqkAgCimZy2RdTf8WaRdcMeKbhj8J1S/Lk29AAPw4/CFw4HW5vNpRiL8FiWYsfEdLrCKKTCsb9OaOTrW0GN19MsxXBeOgHsMHY3iFtVz8c17pNoOyMZ5ZPqwj64COj8hpo4VMg4cSkNJOQaXzpDTDPaQLINB8groQvmb6avvveN9/NZCdjuitirAiSwdwErOkqz6G4Z9rXkzHB9pJJfBaewUWQ+nNMkBFP4g/8SpgXbsOmghSsMXERBGFkMnMxv3v1Xqts/qFW+jtwEXYq/D4ugv/HV3Y5pArjsadjgtYKv4Urs5Myk2QWBC583pRSG6IFxD/AHLcLw+w/LCad7ydxIW2E6SYZmydnJVpCFF4zPz5MQQ3/xzGPDmaeyXyhTPVdbBwZuH5MfKyclJVgCb1ogfLm1lIpxAbuKmzeONYy3OONGHB9+RSB0Ei7oU1z7/r9lsUKnxsfHcfCp7CW4IaWz8H8WFOL5CYIEG+fN8oSppnHTPPYw7DOML/ZPLBs14aWY9CzcXwFAdYnQSBxONY31mM0Gph+KNJgea6/g0DwF7C6yoLgkM+Vm0r3FJau+mh/5ubFx37N99y+pwz0t8i3DP2uCCgCioAioAgEAwHudg0zOBjlHeoyFr/eKDxIhjntr02/v8O1hzTp7rjZ875oz/fyU2CY4jDpTFnb17fIjd91xYYy6SsK2+Ten1VJ9hiPC9hCxCqwE9N++Gajddiv+56bMvfuaJV7flppCQESkl3vJqZMk4Z5ly9usg6e26/zO/MbMvd+8j1PXCtzzaRpgceZu2/15OF1pln5UTOOSomBxcbIUeECPSEpRXyJxka+zXSs96HfeGNsJbL9efbROuFBsrehO/U8/0Sd8PAto7q0TW660n8fn36E6essTCnoqUf7u+qHVbj+6RECBeW1csGbm7uV96FV+fIY+D7R4DXQlTEt30kP+pRCZckLOlE8vfHDnV6p+f7nTxmI133TrgEz+gIoy9mpO3WZfHy3fUPgD8xNoyCcIP+EZHdxze//+942fgREdDf159UBJR0Uibo7hq77wL+lxAvw7sHDlzorn66hb/pop+UeKhb8KFJnsR2oNPschGl0+0ulbeNp48m1+4SHL1Eo8R0cdNXEANYUntit9U36J8AH5eFL5NVe9Fb35pVvGfq9awTC2kBdJwmNu8XFxZKZmSlnnHGGvPHGG0Ft9O1375ZnXyiT7KuiJSHbwzwNaiXuwjhZHFGRFtOXzFt/RJcUCbAmoOS5s8nqL59e8yCw5c4myRoRJR+8MsNzsZtnZeXNcuyidZIyHX5RL/Jor3SzmIMmp/VCEo46+M0zrnR8M4XqmKALnwQI2cjIPoDYGcE2hWRMiQRoS9RCQhSIi6Z9n7RI1btO+d29Y+T0U4b5whzw9/5cMwJuVIAJOZbSgFszuLnV9U2dPhP6JCUFsgalQBueRFdbPXnG9PsYgU1EODbL/jYRVuF9/CeU1gx/UAzE58r5b2lSQV3OaGz5a/tAvhasNSNYfTzzzDPlzTfflKKiIsnIyAhWsVqOIqAIKAJDEoHp06dLXl6e1Na6/Fz3BATzvjB1YrzkxgTPf3pP2qJ5FAFFoG8ReGfjHgQrj5bF707vcUVmzRgzK1ZivzYoWHU9xuJgGX+6YIwwJN0aaLszQPJwKDt9DRr09MawBYzun32Sd7Ai+uW+eV+4864c+drpPf8dCGUeQ78AHYKVkMeQnBEhS187rFetD8Z+pVcN6GFmtZDoIXB9lY0M52qhLWvnRIZeIMzVzkvQO6GEAAVTnQmnTD9CdUyQudyXDGZKzb31Lgxi+tkZAhxLBzNhZd5ABBGmjt6uVy5mtbfmmylbPwNDYCA+176c+4GhoqkUAUVAEVAEFIF+QgB8xUj41VdSBBSBwY2AihD67/kmwY0142AchthydqJw4qH1HbX07Wn0XBFQBA49AiqQOPTPQFugCCgCioAioAgoAoqAIqAIKAKKgCIwSBGgZXukUwUSg/TxarcUAQsB+h7RWd5/g+FxuB2ehfiGw2OiJIZup+D+eQ+8LnwKt9NUxlJSBBSBgY2ACiQG9vPR1ikCioAioAgoAoqAIqAIKAKKgCKgCIQwAmFgVA6mGBIh/Ci06YpAnyHQd06c+6zJIV3wNsQ55KGkCCgCoYmACiRC87lpqxUBRUARUAQUAUVAEVAEFAFFQBFQBAYwAhERLn3pxqZW+DpX3ekB/Ki0aYpArxBgTEQnjt7Oc7NmNDW0iStiX6+apZkHAAKtTS5HXubZ9rRJUVGu3xBnPa0/XAGge1qW5jv0CLQxZDDGRkTk0N0bqEAigHGoEz8AkEIoiZn4Yb1cw80PSlujeooMocffZVPNZiESgbB6Q7pm9Aa9gZdX14yB90wGSouCtWYMlP5oOxQBRUARUASCi0BKcqSMy42R3YX1smDE0GU6BBdVLU0RGHgIlDc0WI0an907MYJZM/bsbJIkiR54HdUWdRuBhgJXlhnT4rud155h5nSH9TW8DGzcCcqDsmMTiufVe13PMHvC0J3nKpAIYOSaiV+/VyRlQgAZNMmARsBM/KnTvIMfdbfRZrOwew+DkPdSutHdyjV9nyDQvlmYHpzNgq4ZffKY+r1QXTP6HfKQqTBYa0bIdFgbqggoAoqAItBtBGbMcMjOvEbZVlkpUxNSup1fMygCisDAR2B7jct10MypLqZxb1ps1oz9y1oka6HyGXqD5aHOW50Py5kdLRKTFi7jeimsmjE9wepO9epmSZwbKWHKzT3Uj7dX9ZevarHyT+slX7JXjTjEmXUIB/AAzMRvXNcqbUdF6MQPALOBnMRM/IWHJfa6mbpZ6DWEA6YAs1lISI+QrMzeSal1zRgwjzUoDdE1IygwDrpCgrlmDDpwtEOKgCKgCCgC7Qhc/d0R8va7B2RFZYmkhkdLdkzvFF/aC9YTRUARGBAIfHSgSHY2VElWnEO+c1Vmr9tk1ozKt50SOwxKsRNVKNFrUA9BAQ1lbbL/bfrlETn+0t4Lo3NzYuWyb6TLU0+XyvZHW2Xi1b3jWRwCSLRKNwJ5LzulcQ0EVbnhct2l2UMWFxVIBPDovSd+k078ADAbqEnMxB85JUa+eUFGr5upm4VeQzggCrBvFq78Xu83kbpmDIjHGpRG6JoRFBgHXSHBXjMGHUCHsENl5a4Xv0PYBK1aEQgZBIalRYVMW0O5oWPARLrlxmy5/a4C+W9FoQyPipOZcSmSDOGEkiKgCIQmAuUtjUJP/nub6mRHY5WE4d/N3x8pcUm9d81mXzOK/umUkuwWSYOlRMyw3rkVDk2kQ6/VzVWtUre/TWo+hQY8tqVp86PkgW+PCUpHbrkxR5Ytr5Gt2xtk6x/h1mt2hMRlhUlETO/HXVAaqIV0ikAbhkNdUavUbm+T5s34gul8zQ9GSFr00BU4qkCi0+HifUMnvjceofTNd+LTtO3uW3OC0gXdLAQFxkNWiO9mYe6iBLnyvKygtEfXjKDAeEgK0TXjkMAeEpX25ZoREgAM0EYu/qhCXn+7Qtaur5PCQrpRVFIEFIFAEHDERcjMmQ6ZM8sh131v6GroBYJVb9NcDEWorKxoufOuQincXy8fNNf3tkjNrwgoAgMEgYnDE+Sma0bKsee4XOoEo1lmzfj1fflSVNAspS85g1GsltGfCEBGcMLlKXLH98ZIRFjwBAYv/Wuq3H7fHnnhhTKp/K9TKvuzT1pXUBAYPiNarrs+Sy6Ymx6U8kK1kLA2UKg23t7u4uJiyczMlDPOOEPeeOMN+62gnbe0tMk9v90jTz9XFrQytaD+RWDs7Dh56Be5MiG3d/EjfFv94ScH5K7fFkiBFU/C965+H/AIYH9w5XWZcsPlwX0Z1zVjwD/5gzZQ14yDQjQ0E/TRmtFbMM8880x58803paioSDIyem8F2Nv29HX+qmqnPPD7AnnhlXKrqhgHVI2gdBA3euhqGvU15lr+4EKgqQRanMUuH8ZTp8TJTT/MliPnJw2uTvaiN9OnT5e8vDypra3tRSneWZua2mTZiipZs7JW8nY0SasLfu9E+k0RUARCAoFRGTFy+FyHLDoruc/aa9aMZRuqZVt+gzhbBwX7rs/wGggFxydFyMQJsXLKnFSZNja4fCd7/zZtrpM1m2pk+YZaOVCvAis7NgP1PCsnWhYgFshXj4EvtiBSX+xXgti8TotSgUSn0HR+gxN/09Za2YDPmkb9QegcqYFzZ9J4bBamJsi82b2PG9FZr8xmYcvWOtlZCBNOHRqdQTVgrielRMicqfEyfbJDckbH9lm7dM3oM2j7rGBdM/oM2pAuuL/WjJ6CNNQEEtfftEPe/aBShudGSezJEeLI0R/eno4dzTd0EagvbZPiz1qkwR1c8bUXpsqE8X3HQAklpEP1BT+UMNa2KgKKgCKgCCgCikDvEAjV/Yq6bOrBc586xSE8zjunB5k1y6BFIDo6TI47Otk6Bm0ntWM9QkDXjB7BNugz6Zox6B+xdrAPEXj5tRJLGDFyRowkXsiKVBjRh3Br0YMYgbj0MBlzTqQUjQiTA6874QYiX556ZNIg7rF2TRFQBBQBRUARUAQUAUXgUCOgUXEO9RPQ+hUBRUARUAQUAUVAEVAEuoXA438rttJHHKuCiG4Bp4kVgU4QyDwiQqKnR8jKFTXyEVyRKikCioAioAgoAoqAIqAIKAJ9hYAKJPoKWS1XEVAEFAFFQBFQBBQBRSDoCJSVN8uu3Y0ybHK0OLKCFyQw6A3VAhWBEEMgaaprPm3eUhdiLdfmKgKKgCKgCCgCioAioAiEEgIqkAilp6VtVQQUAUVAEVAEFAFFYIgjsHZdjYVAZPYQB0K7rwgEGQHHCNer4ar1KpAIMrRanCKgCCgCioAioAgoAoqADQEVSNjA0FNFQBFQBBQBRUARUAQUgYGNQGNTq9XAhkh11zSwn5S2LtQQiIp1WUhU1beEWtO1vYqAIqAIKAKKgCKgCCgCIYSACiRC6GFpUxUBRUARUAQUAUVAEVAEXAi0talAQseCItAXCESFqyu0vsBVy1QEFAFFQBFQBBQBRUARcCGgAgkdCYqAIqAIKAKKgCKgCCgCioAioAgoAoqAIqAIKAKKgCKgCCgCioAi0OcIRPZ5DVqBIqAIKAKKgCKgCCgCioAioAh0C4HMFIeMTIiSTEeUDIuJlIiwMKlsckp+TbMU1DRK8YH6bpVnTxzviJaoiN5pwTc2t0p9Q7O92EN6HhkZLk+fMtHCyd6Q65bukX0VGhPBjomeKwKKgCKgCCgCioAioAgoAocSARVIHEr0tW5FQBFQBBQBRUARUAQUAUXAhsC8nBT5em6qjE2IsV3teLq7rkme31Uhy3dXdLx5kCt/O36c9NYrD+u/8cOdB6mpf29TaONLMb0UvPiWp98VAUVAEVAEFAFFQBFQBBQBRaB3CKhAonf4aW5FQBFQBBQBRUARUAQUAUUgKAjcdESOLBzuCKisMbByuHl6pryQEC3PbSgKKI9J1FthBMsJ98P8N+XrpyKgCCgCioAioAgoAoqAIqAIKAKdIaAxJDpDRq8rAoqAIqAIKAKKgCKgCCgC/YTAxTOyAhZG2Jt04ZhUmQurCiVFQBFQBBQBRUARUAQUAUVAEVAEQgEBtZAIhaekbVQEFAFFQBFQBBQBRUARGNQIfG10st/+LS2pk8/LaiQ3PkaOykiQ4TERHdItTE+QVXsOdLjepxfa2vq0eC1cERiMCGzZWieLPz4g6zbUyZ78psHYRe3TAEBgxIhomTk9TubPS5IF8xL7rEUvv1Yi69bXyVqM56ZG/U3oM6CHcMGR2PLMmOaQGTMc8vXzM/oMifc/rJAv19TI2vX1Ul7h7LN6tOChjcDE8bEyA2vzV04bJiMyo4c2GOi9CiR6MAT0h7cHoGkWRWAAIpCWGimHzYiTWYcnyMknpA7AFmqTFAFFQBFQBIYCAsOSYjsEY2a/lxTVykOr8i0IluDvq/HR8gTiP/hGSpicEmulCfTPlUvyJDqio6H0gwtHS7SPPyfGirjvy/0diq5r9rywM0h2DvowJila0qIjJYVHVISQkVDZ1CoVCMZd3uiU9eV1kldS26Es3wsMUD17ZJJkxyOod2yUpMdESXNrm5SijJLGZgT2bpKNxTXS1NTim/Wg3xOB4biUuA7p9tU2dQgU3pft6NAAvTDoEfj7P/fLfb/b297P6JhwaW3/pieKQPAQ2LGzQT75tEr+/Nci+d8rMuX6a7KDVzhK2r6jXu5+oECWLqtuLzcK41lFEu1w6EmQEGjBHmLLtgZ56d/l8sIr5XLLjdkyb3bwhGxNTW1yz2/3yLMvlrW3WMdyOxR6EmQEuDa//e4BeeTxYvnJjSPlvHOGB7mG0CpOBRLdeF76w9sNsDSpIhACCPAHYcWqGrS0RC6+oEpuuSlHoqN92Twh0BFtoiKgCCgCisCgRCAx2ltoUA2meQWY8GnR4PTbqBKM+u5QRXWD3+TVzlYZ5lN2eUOLFB2o85veXLzvyBzJjAngtWL8MNnX4JS/bi6WdXurTPb2TwoAvjZ5uJw9KlkcfgQm7QlxAvmEvLCnQl7oRvwMln/7EaNkNAQovvQ8goM/f6DeutzX7fCtW78PfgT+8KdC+ctjRRITGy5pc6MkZm6bxAzTPefgf/KHpodNFW1StKJFmja0gfFVJIUlECz/amxQGlNc0izf+u42qax0SvbcWGmd0SoJI8MlPICfgKA0QAsZUgi0QWpbs69VDnzZKhu/qJPLrtgmL/9rikyZHFi8rYOBdc2Ptsunn1VL+pgoaZ0YJimHhUlUvK7NB8NN7/cMgdqSVqnahuN9p/z8V/nixPb9ovOGrlBCfzYCHEcdfngPa5XE7DAJiwqwAE2mCCgCAw4BJ2QRJV84pXFTm6UVkVfYJE/8cWKftJNryNr1NfjRUV24PgFYC1UE+gGB5OQoWFUlSLzDm0ncD1VrFYMcgUpYIVCz1PcVeFZqnNx5zFh5FAz8vNJaiYO1gD9G/XLcCxUaERspPz98hPwYgpXdPu3+ybzRMjuto/WCv77RkGNkbEfBgr+05to1h2f7FUasLq+X522Cjb5uh2mPfg4NBD5fVW0JI4YPj5L4i8MlJp399p3tQwML7WX/IBCdGiajT42UlmNFdj7VJK+/ViGnn5AiJwXBIvye3+Zbwojk6dESfxrHsUtA3tZ9g7X+AUNrCXkEErIiJOH0CMlHT+rx7n7vg4Xyt7/0/p39iaf2WcKIUXNixXG6Z03WsRzyQ2bAdsCRFiGOBRESnRQmpa80y32/3ysnHJsiGdgfDEVSgUSAT9388CbNiJKEc/y9MgZYkCZTBBSBAYNAZILIiOOwDB4nsutZpyxbWi3cmHznshFBa+P7iyusTVNBgfoJDhqoWpAicIgRWLggUW69cZRMnBAY4/QQN1erDwEEKKz+BO6Zjs2M79DayUkx8tv5o2U/LAvC8L4cG+F5aWZiulR6e4fH1UCHAgbghQh05KopGfKzT3a1t+6rU4cHLIxoz9SNk0UThvnFt6C+We5dSTaHi/q6HaYe/Rw6CDzzr2Krs8PPiZaW9O5ZMw0dlLSnfYFABLYpGadEyv4nm+Xhp4p6LZDYjBgodDcyenqsxJwJl2M6nPvisWmZnSCQvSha8qF/sfzzaqGgd/7c3rluevzvJRLriJCw+bC6dHrvrTppgl5WBIKCQMrEKGk6XqTqo2a4IiuWa64Krlu9oDSyHwpRgUQAIJsf3mz88CZcSGGEkiKgCAw2BLJPi5BdO1vlkb8VB00gccc9u+Vfz7uYRJNmxYljTKRUhzktNxODDT/tjyIwFBBoqWyTxoJWWba8Ws69aJP89Mcj5ZsXZw2Frmsf+wGBxzYVyaSUzl0fZcGywJeeySuXlze6mJ2+9/rzewu2xw34swwWD6vKaiW/qkkqEeuBcSqmpTvk8vHpkhzlbVk0LsHbumEBAnP7Esu8bXWB7EV50XC3lIU8s4Y54NIppYNgxjev/XtuerxcNbGjSXwtBEG3rSjwsl7sy3bY26TnQweBNQj6m5AcIS05yr0dOk994PQ0eVy4FKWFyc7N/l31daela9e7rPGco0Vi1CKiO9Bp2iAhED82Qhq3OBFMvaZXAoldeQ1SccApIw6HcC0e+xMdz0F6QlpMoAgkT4q0BBLLvqyVawLNNMjSdXyzGWQdDEZ32n94x6kwIhh4ahmKwEBEgKbN0ePDpXpji3CDMja3ewFCffv00r9LLGFEzrgYiTsNS22WU+qlSXTR9UVKvysCoYVAHNxsNK2MlIr/OOWu+/bKgnnJaikRWo9wwLa2FpYOP166R36zYLSMjgvMdDs7Di4zEA+BeQ8l3QRLB38BphmLYV1Jm7yGuBTfGjfMq4lR8LnEANOMi0HyFVDwGmNaRISFS7OzReobmqWyplG27K+WV7aVyqlj02Q/rBsORumOKLl6cob4xOq2lANuW11olWkvo6/aYa9Dz4cOAmXlzVJU3GwJJIZOr7WnAw0B+uFvbmiVvD0NkpvT83eczVtc8YQanG3iUI3ygfaYh0R7ImNdlgwr19XKFb3o8ZZtLuFabV0LxrLL7VgvitOsikC3EYh2YCzj/9YtvRcWd7vyAZJBeWMBPAjzw9scTt/v3tpdAWTXJIqAIhAiCLS6+TncoPRGIFFeAd+WD+y1eh1zFjY4w1QjLkSGgDZTEQgIgYx5rhcXSyhxf4H87ZHe+7ENqGJNNKgRIPP+q+PTJBtxIgKl4zMTZEpKrNyybE87Yz/QvMFMR2EE2z8RVg6zYBExF1YMoyEIoGumrijcdr+4sUUYX8JOw2Mi5K652VZ8jb31Ttla2SCbKutl+b5qeX1LiT1pp+e3zPBvxfTwFsTlKHExJOyZ+6od9jr0fOghMGws57Uqtw29Jz8wehyTEy6NB4KnAh6bBp5Ia9fr+8DoubZisCEQnejixwVrNQ3LwDjWsTzYhknI9Cec1jlDmLx3/UMYiEC6HpepP7qB4KRpFIFQRcAxNkyqtve+9Ws31EhNTYtMPD1OwocFb/Pf+5ZpCYqAIhAsBCiUqFzdIstXVEM7vVUDXQcL2CFczh1HjpGJiTFeCNS1tMobBZWIfZAo/lw2MXFmTKRcO2OE3L18t1fe/vySneaQX87JlmGwhOgprYK7p7NGJfvNzh14dlwkjgQ5MStBvjdpuLy7r0oe/dIl/PebqYuLza1tsmRnud8U/dkOvw3Qi4qAIqAIDHQEWrAq81BSBPobgWCPuzYdy/39CLU+HwSCJV3zKTYUvqpAIhSekrZREVAEQgqBdW7/qrVpLZJIOzwlRUARGJQIxIwMl/qCFlkLP7ZHzk8alH3UTvUPAgtzUzsII1jz3Wv2y6b9VfLchiIZnxEvlyMOwtTkju425g6Lk+SEmA7uh/qj9VOzkuRXs0cc1BriYG15ZnOxHDE83hKwHCwt3S+dNjIJcSTC5eFVBQdL3uE+3UWdM2W4vLa5o5VFf7ajQ8P0giKgCCgCoYAAmcJqAB4KT2rwtdEIJILExA2jExQdy4NvnIRKjzj+hjCpQGIIP3ztuiKgCPQNAhVw2UQK6xifs28q1FIVAUXgkCAQlRyG2DAilZUH92N/SBqolYYMArNTHR3a2tLWZgkjzI0dxbXyCxw/OmK0HAXGvS9lIh4DYyz0N505OsWvMOLLinpZVlIju6oarDgQdL3UFdHt0w1Ldsk3p2bKSVmJAQWtpsuqp3ooiPnm2GGybH+NFB/gLPZQf7fDU7OeKQKKgCIQGghYTFzDGA6NJmsrBwkCYS1BkkS48QjjONaxPEhGh3Yj1BBQgUSoPTFtryKgCCgCioAioAgoAorAoEIgNdr/lpxxGZwI7GynbdUNfgUSza3e6ex5+vJ8Vlpch+JfyT8gT6/b336dwasPRnT7VAThxRNr9spTG8Jl7LB4mZQSIxMS4+SwVFiARPn3s5sKV05dCWLWQuBAwchVsC6xE60sfjJrhNz44U77ZemrdnhVol8UAUUg6AhwnYmG1VQZ1hFD/q6Ze/rZcwTCwBO2GLk9L0JzKgI9Q6A93gN+xINB2DrpWA4GkFpGTxDgzjZII7kn1R/yPP7ffg55s7QBioAioAgoAoqAIqAIKAKKwNBAIK+2UebA7ZKdGBD66sNHerkkooBiNhj3/ggGFf1OKYh5ERvR8VVqZ7W3pUZOUkc3U/bGsl8PLcyR/Q1O+fv2Ulm554BsK6q2DpPuvGkZcmlumvna/okwG13SU9tKreDVx2cmyeQk7xgdYxzRcgHKfXFjsVVGX7ajy0bqTUVgECAwGZZNCzO8zYMRrkX+tamog2C1L7p714IcGREbKbet3isbEGOG9ABi86Qhts0tKwtke3FNX1Q7JMsMc4YLj97SOXMTJSedAd9FXvuiWvaUdLQ4tad5c0217NzfMU1v2xFo/vmT4uSU6QlSWdci//df/3GIAi2rq3TnL0iSESnerLrS6hZ59rPKrrJ1ei87PVJqG9rkAGIc9hf1VZ1Bt5Bo7Xws28eejs+OI2dGToycPC1BspIjJSE2QqrrW6Qcc2NPaZN8ur1OCksHly+svpj/h2Lv3vFJHror3qvcoWuH1qwIBIRAaqLrhbYC2oEDmYbhxbsBGo21dU0DuZnaNkVAEVAEFAFFQBEYAAhsotugnJQOLaFLohmLJgoDLdNLwVFg9vmzFCiFu6M8pOlvOgDBAxmOtDaw0zWTM2Q0tJVrmltkSnKcX4sOe3pzzsDdt8zIktopGbK8tE521jRILfZTGbh+PGJV+BJlMPsqvV0u+aYRJgL9bu0++dPRYzq4l7poTJosheumwvI6V0L87ZN2tJeuJ4rA4ERgHlzJne0nMP2rO8uk2tl/70T29QhyXYvCzMnghL7fe0WN8mBolR87MUHGZ7oEEolgaN7zcqlXX1ITw+VbR6UKDF8s2rG/SXYVHjom54T0aJmbEyc1ja3of4VXW4P55YTJCZKd6s2qK6ttkeeWuARt3anr5MMd8v2Th0lBebNc/3eP5WJ3yuhu2r6sM9xtIUErnWBQV9Y+Oj47R/iqU1LltJneAmhxC9GOGu+QixekyE+fL5ItBf239nfe2uDc6Yv5j5U0OI0L0VK8V7kQ7YQ2O/gIjIaZ/CnYUI6Kj5JkaJUcaGyRUmit7YRv4uX7q4UvoIYYRLEVor3q2r5dbKLRjkePzbWq/dYHO6S+oXPtiHhqvE0YZpro97MY+d/a6r3p8ZuwmxePRGDKG6dlypaqRvnZJ7u6mVuTKwKKgEGAcz4xNkqqMVfp03ugkroDGKhPRtulCIQOAqsLKmUL9g+T/VgSDMNaeCoCOHdFj2/tGJy5q/TBvLcNe0JfywNaTVw0JrXH1cTDYuKkrAQ5SXxedn1K/KSoNmDNa7pxeXpXuVw2znt/SOblj2GJcv3i7T6li/RFOzpUohcUgUGCwKs7ymUZLJt+PXuUZTn1371V8l5hZZ+/Iw4S+EKqG5ZAIghyATsrbl5unOSkRUl+secd//x5ye3CCAJEZnRYEOrtKdgbdjVKSkytHIAWeF+246HXy2RKdrR85yTX7+jTSyplQ35Dj+o0DHzYAfQof0+w6ss6w5z2UdOT1nnnYTyUzp6lvSYdnx7c5kyIbRdGFJQ5ZdWuOtkN66b0xEgZCwHjfAgkKESMPMTz1dPi4Jz11/wPTmtDoxQVSITGc+rXVl4MzbQLfLT0xri9A5wsiXLlxHS5buke2VdRJ2T8P37cWKt9l763rd+YhuF21Rc/6GRAkOJPQ8eelG4B+kIgYa9DzxWBUECALipOGpsq05MdkgVf3FQ4KWloEQrtvoDGrTF7Z1+YNiEuSmrqmwNmAvUUgwsnD5evIVjqm3iZfWLNvi6LOW5cmoyFcLQrej2vwsuvcFdpu3NvMLsD8CfcbYY6dBHGxrK91V5WYBQgHQVB9kwE5x2BMZKI72VYZ7eCCfjvneVeaYnvJfitibat5U4ItisanbK6pM76fenOM9C0isBgQOA3KwvlvqPGWC5HAu0PA1//eUuJrICLo0NFDyJWxB+PyulgedDX7WHQ7IdW5Xermtc2l8gJcCuTg/2rnbLx2/eNmVny3CaX6yb7vYOd96QdBytT7ysCoYgALcN34DgAy6isiEjZVNkgu0o8llu0IB8FN295uB6D/eSs4dwvRFsKb1/ASon5ue84PCNeJiBtrbNFViF/nq0Mgwv3HHMhqJ0A6/lmrIO7oTTnz3rMpOd2Y1JmokxNjZWkqEjZDmv7FRAE+8boMen1s2sEwqAnFAwLiTA8O0Nk/l54ZJI8+LLLFVJcdJicPCPe3LY+LeaxOwDx6IxImQ6XMWmJUGCKi5BmZ5uUVTvls831UlLRUZFpwZRYyc2KlhRHhOVyaW+5U1YgbX2Tpw3DUyNk4eQ4yYALGlJJlVM25zfJVreW9559TklPaJTyKggk0I7UpHA5fGysNDW3ymcbO3pwOHxcjKSifZsLGmV/madNbMv4EdEyLClSSiqdsmlPo6zZ6VH43FXQLDW1rRBIWM2Q1dsbZDdcVRlt6rEjo2TM8CjZtrdRohFfac64WBk5LErK0f/lWxpke6FLUZT9mTna5WEiJT5CTrTh+eEam1XgsAiZMz5WcoZHC8NRFZQ1yeIv67ywCXadrp51/y/HXjApHI+/s7E8FMcn591R0+NkTEa0xMWEyb6yZlmxrQGCQo8k8GtHuJRk9lc45Ya/drS6yRpWKecfnSSlB1zzxP68jp6BsjF242MipKiy2Wt+mXSTRkXLzNwYGZEWCZ5Dm+QVN4l9vDLdcYc5rPWb8+4EWAFNHBEjERECt29N8ubnnt8dpk1yYI5MjJUMWHAkY60Ih7CEQkXOKzO3mY40F+kSkX75JtfaMAPtSEuKkJIDTvGd/64crr+cH7PHxljzsKquFa7lmuST9Qex4GVWLj+eJchV2BD6qwKJIfSwA+nqWJjaGmHELmzslsDX5q6qJslwRMpEbPhOhLYafRrbeEiBFHtI0zwJM+EW+hPwofIBrHHt01T9qgj0GQLU7v/D0bmSiBdDO01IdH07d3SyrIBQ4N7P91gXLpueJWdkJ8nLYH49s77jBsReRvDO7fop/ks9ZUSSTE12bbj9pxBZD5co9kCHnaXr7nXjBWAwugPoSrj7vwgQ+xTW19fBDCWdDau0S3z8u9OX84yUWIyZZLnus91id7d3vo/gux33CWK5arnfPebar+uJIjDIEaDl53UfbJcjMDe+MX6YjIJgrzNqxL7mDTDT/An7OssTyPV6KyAD3uhsVOcTVNt2yzothcukmz4vkB/OzBTGZLATt18ry+rkeawV9x0x2mv/yHtO9/6MTMHfbiySYzMSZS5iaUSahdVemPucTM4XIWBeA2G1L1FgGuWzSa0Hk8pOv1tbJA8uHN3BSP7cUSmWQCIY7bDXp+eKgCLgQuDiCenWuyS/cVbad3cVWPPehUXFudhzxtjmMPcV92K/aRe60pL/l3NGSmqU91rlqsX/3zvnZPvcSJaCsWnys+X5HRQmfBLqVz8IRLSBH+AWDPi5HfAlw2Dfkg9Lu9ExsnASlKOSqqQYAoVzFySC2R4me6GBnRAXbjEVw231Xn1amkwE49KXLj0+Rf7+ToX8d4WL4R4LBuud386QUcM7sr6cp4t84+5Cq4ivLIiXb52c4mWRYcp+Ea6SXvioWo6Z6pBvn5oiBSVOufGRIpk3Nk6uOsNlxVBUViS79nqYtqz3x+elW3146ZMqef7DaggnwuXG84d1bPeRIp9urJM/vOxxAxVhwzcCQgI73hcelSRHTHTFnaJMx/6TeTaYxQ+9WibLwahdBJc6R09xaZY6wFy+5gxPHKay8hbZkNckZ6Dfl56YLFGR9hkZL+cfmSz3v1AmWyGQIQWzToNrTz4NDvbW9qQckycMWvymTHPNfA618Tk9N1qu/WqapCV4r60XHSPy1HsH5G03o9/s0bhU+8OuuLhV/vyKS1GGljmkqWOi5Zpz0mR4snfZvPfe6lp59A1X+qvPToGAwVsQyTRnId7ML58skQYIEEdnRsp1Z7rG8pWntmF9sI+GeDkRcV5+8phHweSc+Yly7pFu5gYLc9MFEID6zrtrzhwGAWeYHDu1USbBSonzmLQNQr5PNtR5zX93MXLpyUlyzsJEr3nIe2fPa5L7ni/D+2/nwc5Yur31psyh8tlxVR4qPdd++kXg4nHp1vV8aKjc/PEurzTv49vTYF5+DRvGA9B6JR050jOxF0AztgqunUjbobVGLRduGHOTIVWEFksCNo0NeNHNh2unLwqr/GqkxME9y9R05ElybS4Ka5tlPbRiDhaLYSI0XhxgqFZCu9bXh/J/oA3XFc0cmWy9IBfA5YAvszIXbUmOiZRSaIPbfQtTw2dyWhxcWkVb2jsFNc2yASbKvlo27M8sCHHGQRuIfV9XVi9bkc5ODAg5GQEq0+E3MxkaO41QS6B7rJVuTSF7WraVL++b9lfJ4WDwTQajjy/eDB65FC/n/ojppiBdHOzm9qEfBTVNEok8u6G1bHe9xbyZKQ6ZmR4n2WAoVEG7aSfcTvl74fdXj14LTQR+BDcVFEY0YVx9XFQja2D51AjmDefg0fBVTuZSuG2Xa34wbZcGVMfpKu3TYu85Zhq4vTwALQWTWD87IPAXuIThxjML2ownYM1NgkbW5fg92F3dJOv2uhiDZDDQhcpnJVgPMabmQ8hNYRHdt1w5NUPu8yNkoEsHCsDpHvAYlDsaTNgF6Q657LAR8hR8vispAkMNATLeeFBTmELBLOw1yKCrRxCJYuytyuudUok50xf0w8U7elRsflmt3PjhTjBbXBrQ0WBsHICAJf9AQ7v17EVvbe6y7GXYx/AgUVieHBMlqRBqxkdjfwervTKUdwD978yFH/dgl7y9pcs6eLOgvFYufLPztvS2HQdtgCZQBBQBofBwFd6LuFc4NjPeEi4YN28UOhZgri9IT7D2GotGQDnGbQVGS91fzHYJI1jGe/uqpbzJKdMQq2YW3s3MPtUfxGVQRluLvWAK9huz+R6H/calk9Ll0S/3+kuu17pAgBrlUvBL8gAAQABJREFU4UHQVG9zW0is2NwAS4dIGZ4SIRcekyR/frVCTpnjctn3xmc1ctFJLp4DteNNvXj8lvb0+l0NUgRN7VgILxZCszsZlgCXLUqVd5e5BBLfPAluqCGM4B512cZ6KYJlRBY0r6kxTYEHy0uC1YQRRuyHAORLaE7zXWcqLDBysqIkGvtYprNr5/P7Ygg9LluUYjEtT52VKI/me97HT5jpsMpnO9//vM7Kf925LiEKu71pd6PlnmoGLCyy0b6jpzlkNXD4dJ3rfSXc5prIF29aihhi+VtQVk1Dq8xF0G26yvn6cZgz6xpkS16j7Iblwxj0gfoGn67zWEUU7muR6RACXXZKijVvKhGjYuWWRou5OxsueahVftVXUuXHfy6yqgpWneb5mfZ395MChKCSJezxX+JQGp8OmA388Lxh1nNvasb6DKuIhsY2mTMpxppTnEcr1jeAud4CqwmnJVSjxcFd3x4uby2vkY0QbvGeP4rFO+NNF6RbY8uJvezSDfWWYIFCyBwIFxJiwq35cf4Jie3CCFpkbMDczh0RZQkrx8AV1P9grj36nwqveUhhRAksMXbsa5JR6VHWXM/FeD92Wlz7XGoD65IWVBt3N0khXEs1ow1zJsRZgg3Ou49X18na7a59tRldh8HagQRDPautzcDEd/7z/hFTY9uFHflFcF+1tV4ysL4cibVoHKygKLC8/5kyJlXyg4AKJPyAMpQvmYBRnWn6Mk6EYRCNSouX700a3g7X9QhAaOjRbaXyXxwPLhhtLnl91iLY4Y+W7fESAMwfkyI/mJJpMa7sifkj+2tsFLfhZdcfnTNleLs/YDK2Hu1GUEduaq+dliH0z1yNF9lrP8lrF35QGGG0+SyXMe5gh3Qzch60F81iZdrU0JIlV36003y1/Cn/9fixliDAXLwkV+RfeeXy0kaPxPZalDcr1aXhYNLxsxUY3b/BoxFEwcVts0ZYSQ40Z0qKj1bQJggefvFpnnWff/gy/zNoA01APn/0Sv4BeRpuFgzRVQHd4/jSFmgP3bZsdwdhi286/R56CGRDEDYTwirSA9BMXeV+2eP3L3C8jHFKTV0yikkUWFG4RqLFFIVdJGrPboOgjebzU4cnSJYjynrZozUVXxJXF9dJ0QHPBtjK5P6TC4b1BFg2pEN4Vwpm0w4f8357WnNOJt0E95zZVFLjxZxaXlojb3YRG8a4C+C6YpjoplzTfn73FTBOB1OdQpr4yAjZD8HeZrzQFjMIrQ+xPzOA6zAIMgvxMv0xMPVlntFlQE4imG3AKxaLbjWEf1vAtNuC+Dx2Mm2lawMKEWfDhcEo9L0UgtdlEFhSK9mXyAycixf7HEtY2iqbUS6FCE3YeNldbzEf17+ZcF0yLinG6lcBhcWwivMVVJo63tvu2Uy95CizLGvoHmEh2kUs39l9QN7bU+nFKKVf/OEUzOJ5Te7EguVdpDGCZK6Nvzoq17KqWAAsnzKV66ciMAQRoDLGLh5+3JUMVDhoBWW3hOppO7nf5FHQ0wKClG+gtCNI3dFiFIEBgQCVR+5ZXdgeW6ISCghnQbGNyjG//KJQtmMvQvoA+6W752bLYXCzZOgExNqhohv3cTd9nt+uMPYKEjx80oROXd79O79S/rHOo+RwubvORSPARP7SlK6fgSLAGAH+NKMDzW/ShcHiwSIw/d5eViPfOj1ZjprhkCpoFJMhTtdIH4LpbwQS1LY29d7/VJnUg2FqJwoI7rkmQ7Bdl0lgBm6H6yP6tCft3tsk//esR2CQBMHF0YfHWuWNAwPT8EGeeqtS1mz1CP3ngeF4AIxW1ksLDRIDIZt2LIMA4YS5DjkSDNDHX3VpeTPNiXAjQ1q3o1EqD7TKYRAMTIf7F9Ijr1TIki/NPr5K7r8uQ0ZCKLEAZSz90uX6KdwmdLDqtllMWIXgTz7cOD38QgWYrC5l0bOPa5aLFyVZrm6YZ/2WJvkgqVa+Da3zEghiHnnJ0z6WcfHFSRZPYy/y3/ywhz9x1GGxcs0FaUK3WKMR18OUzzy9rdNozLOsnlC7QMP70fekKCtPlxYSQ2h8fv2UJGvOtWAu3vhQsTX3CBDnyR9vzrQsaI7C+Hzrs1r594c1smBqnMTAemA8rAiuPc9lrVAL90q7IBj477Ja+QLCNUPnn5xoCSPoDuzOv5XK1j2eODEnzImDCyXXvD7nKJfg8aMv6uSvtrn03XNS5MR5Dpk3ORZzLEzs1kPPvlcl//nY9ZvB+v58S5bVj1y4nFra4mrDC+9WCw87Pf/favk/9Isu1eg+jXPFIktIGmYJV/6BtWA5hDCGTlvostywz//zjnG1mcKIW/7omUOFJzTLhSclWYLPMRCU8L5fCtI49lt2CFxUgUQIPKT+bOJuaM+TcUSNkdvAFHoRwf92wtrBXwDpMrwkfwSN6uMzXdoL70NDpdYy9RfZ6NZEpm/jQjDvVsFcvwxMtEwwpk6Dv08GCbx6eqb8Zuluq3tkjN4MVzD8iS+BlcViWACQUbcQDKkMMPYcYHr5o9Oh1WKCE767D8IIPxouZ8EPPdvhS2zP52Cg/Wb1Xnlg/mhLS/wns0fKL8HUJ2Pyp7NGWoy87bA+MP7rT504TIybEW6mv4CWXTraRxcD1ACOxGEnWiVQy2cPXqqPgICDG2hq//wHjD3DpOTCXAGG5AowHArrm6x+nwJLiHSk/RGCY19iYxKbsimMKISG5EYwecfBb/54MInproZMU8N0vB4bbSOM+BDPaXdto+TGx8iRwNTut51lLoKrFSOMYH+XQ6jDwJpz8FwYqPJCCJv+1W/ueUwv9bOvESCT2xC1FfyR0UjjvSswl0zgUrrhmZHiEpBxfn39rS1yCuJQfHu8y8rKq6wJgjgQVZhHHg00Wg/dAOuMOXDN4Us7MAZ/smSX72XrO4UR9x+ZY60LdVhvblgKy6ZuuF+bA2Y9XQ2Rnk2JkRdtwsGb54yyNOYagMU1mLfUQB6R6pBbsS6MhJauL72wu0Ke2+DSGuI9vjT70iVjh8kPsKYYK68xWAfu8pOO+djvn2FNNJZWdtcGfPG2PS75FmJm/OKLvV4WV5zHjPFDQVA7jWk/k0sh1DXrDtfcn6JfmVi/7OTEmvogMFmOvnVFFqMU+PD3IjXaVQYZd/5ob12zlc5nefSX1Lq2Eu3k+Erm26SSIqAIKAKKgCKgCAwqBPj+ZN8z8F2JAolS7OeMMIId3g2rXRKtwalwQWHnpCTXvnEp35vcymJWooP8WeYWcphk/4E1FuvknikZ71J9ZXVm6htsn2QK25mCPe2f2bGSKfzOp7VyzrGJ0MYOl7OOcfEX3lla667HlZJMelNvE4bHoiMcMgvxGLKGwTc83MzExZoSoZwH7wMRLU7ZX9oiE6AjORrxI35wUaqs2gC/8XnNFsP1nSV1EgEOxL69LUJ2AbfQl5+RIh9n1cqmnU2ybXezrF7vEk4wHRmRJNZi2vEBmK8USLDuk2Y55KNV9agrUnJHujw+fLjc1Yfx8DFviD7yJ7jv89owtxubLMSuMOVG2CwBIm39ZnojGNkCrfT9+1usPvD6pq3Yiy/CfbBOUmPDpaq2DYHAeYfkzcjllZwMV5sSIPz59hkuRTNej7HxXkYhNgXrCFadLL83ZMelN+WYvIwhYTA318ynGU1DYXzSqoDEOAznuuefwYHjiZQFiwhiVVLcIj//Y6lcfHqizJwQY1kC8X48rBVmIG4Kj217muT+v5dbVhZjYeVAWgOrix27nO3jldeWrHAx/CdAsEGLJVJKgvd4nJDtyp+EtYF8RPsY+OAzzGGbsC6vsFkOmxgjSYgVYb8+A9eOPjwOFk+RkoSYEHQDZ4SQ8Rjv9rRsw9OvV8lKzH3Oe0P+5v9IxMMgLXbPc5P2P+/XyrlYz9in8cB2L9YYpY4IeHMiOt7XK0MMgVfh4/dUuGEiI52a0zPBsCJVIlDTBmgDvwLtfqOpRyHFEwj+ZwQSj0Ob3zC7DGzfeHdbO3PNXCPT7Ydw3WEYm7z+HTA6OdX3wVXRDR/vbM/zFK5RCLAbzH9fIvPtu/BFSqIw4hEIFvwRXYr4Iwa1pkCCbgb+uq3EsvaYBqb+hRCUTMKml8ID9vuOVYVWdmoT/4+b2boELknsgRSfAnP1rPFp0NLwSD6rkPf2LwvbA7G9DAb/I8fkWhvfETjf7bbkuA8BGQ0D0rTzfWjxPHbsWGsDng4TZF9N6Ic3F8tHO10Bv5jnr4smWu2lBvcGKP/QVZaxuvg9ntEnECwZqgUTmDEA7HS5u1++VhMmwDkDQKpAwo7Y4DgvhgCS+2rOvRtnZMpL0Nr/dJ9/zXv2eHFRlYxOiJbhCELFubrCPYYZdJBEmQaZ+RRA7qxpEAYpPgbCuokQmHHMvQ9/32bc/wACMyOMWFJcC9P8RgjXYmU+XPUwGLI/ohDjnoUeYcTNywu8rKyYh+b9zZPcbws+hXwCoci728pkdmq8Vc/F8Eu8Bu4CaN1x5uR0SxjBLPdD+MYXU8752+dlW24EqLVHCyz6V58FIcUkCOqSfayUmJfzfjVekLmGsi+0IDgHwgMzfyizpXBhA16+N0CgWAPrkql4uT4aVgYULJ6GdeSNLaUsyota8aRWltZbrtRMLJ8r0eab3S7gKOgwFmtc2yjUJdHtlm/wVvbrNlhPcY3j8/oIZdSiHcdjntNa7AdYn78LIaY/QbS9UQkoh8Tn3BVRGEuiu75AiO79SG3W6Awkh6YZaggYN3JttkCUQw0D7a8i0BcItLjnVIt56+6LSrRMRcAHgQbsQfyR73sl04yGGzvSDuwze0OVdZ49iV2PozdlDqW8luskm0uhHvfdvYUk05wuihYvrZOvLnIJIxjU+e0P4OoIbypmSbK02d313nJVmkwZ72L6m/obsYZRa5tkWRUg7Ydw3TQXVg4UGCxAQF0epB1gmL4ILelN2+EOsBz7900NMmcaAt+mRcgFsDIg0WXNB8j/2vs11rmxiuA941Jpz54WyYMlRu6oKDkegoklyxvkZHySyisROHdtk9WHEWDmGjppfkcf+bwXDReFptwwG76mLya/uKeMwc1cb4QAwpArD97zbIINUzbTJCWESSziSljnYPQucmt/WxdsfxxwwWjlC0KdtmJ7fGoCULta3uNi2jPax1T7RXMyhMbncNv47GwsxOLdz4yhEgipHv67y+ImNxsCOBzjc6JlPpj+nIMTcb4Q8+ljCBzS3WXvo2DLNq4NzPzMhpsjQ4dP8ljFmWvmMxYLtu88DPew4KQRVhqkMLxwm7ouOStRTjvWe841I48RSFixadztMuPK3xrnWy/nkBGiFMHKyNRn2upEHdH4yXLg3db3nklj6jPfh9qn56kPtZ5rf/0iQG2V73+SJ9+EKyYysqj1TyJT7Sho1vNYDeuHe1d2ZKL7LRAXT4bgYC7cO43ABpLMLod75pNhZ4jMPdJzYJz7MuffAQORRKsFQ1/JTREyE0nvgEn4Vz+WESbtW2BC+mNs0e2KIboimZ7ssHyYfh0WDCQyDe9YXdiu2ZwC6wITZO3JrR5zLKYl4+4Fm6Y0rzFeQ57NzQLjU5DpR6muYbgxHfs7Gxo6R4Fxm5sQJWnwmWwPMEyJrS978lMfq4kNcMtyLBiaKW5NZcbtIFHTyC6MsC76/KFbGPOc07Fing8XVoaMOx8+NzIxfZ+NSaefoYkAx+2rcN1F6xjOy2+NG2YdtHjIg7BiKdwfvY75Z54745TQR+9XIFxYBldJdpdfROBtuEriYScy1/908gTLomEcBH4USJB5fgSY9aQ/ISDyBzs8roAyUuLkCFgx+BKFEXfDMoJBkjmPfowAqv7cQFHQaRd22sspBqN+Fda430NQ+OCxYy3rgFshGPnTlgj5H3f8nGchdDVxU06HMJMBE7kW/BAu5oyLpudRKN1V2S0WWA/XoicgzDB4XT9vtDUvKWgwRN/ll767tT0Nr7+No3nuKMRlSIAwNE7eMIndn1shkL0Xa5zR3tsEAcd1sFoagzXJ0LdgGUEqwLpzE6xLTBvezjsgT54wziSzPk9BfgojKEigmzkjeHgRMSL+efJEa51j7JvO4tLwWVwKIbKxwFrr1mD0qsT9hYIeCrBIb/gJQOtOZn1wjTkO6+95btdxX5b3jtlgL1vPBxcCM2e4mBVhRZ59xODqofZGETg0CNTud3GcZiBwq5IiMBAR4J4sGBTjfmdiWV6WpcEofAiUQQ3lSJtWck+7bJhxZAqzvHcX18lpx8RbwgNqPvvWQcsMXjtybky7MGI1LB7e+ahO9hQ6pREChD/elWExRMMxWJg2b4dTbrqjRM49LV6mToyWkbAKoBY4mac3XJ4m37/V9V7/pycqZeGcBlkAFzJjIFxIgpY2GfZnHI/3EtT78ps1FpPT1Vfv/i9ZXgeBRLJVZk46XC/Ncgk9PgMz1vTB6ZaB1Te0yePPumKv+eJ2AAIMk56BrA1Re9tc5zVq9ZPo8sp+XWyMWdczImPWnRYf9rQtDQZ9KJ19WicbtnmEdK4crr+bcJ35glGnvdyenvtqsve0HJOPQh07LuY6Pw1CQ2J8WoLhCNkJq6A3F/t3lV6wr9kvVgUQyvH4BJ4Lnn21Ru7/+XBxwFpiJuK0fLasUZqbOAgjJIYeRTCW/FGrhzUnf/nHASt2g286JzT76jB10hyeMlxzw5ayfW64nmtiYpicijWFlI/2/+fdWtm2C25Bq9vkhqtSZDpiZHCO+LYrwnduIT+FHC5y9cM+h2LDwS+DRZadGLeCoygGQj3f8u3phvK5CiSG8tPvpO8USvwZjPg/4z7NY8ncnga3HHS1RKYlg4BNh09Pw7TrpBjL/PX2I0ZLdpxnmJkpbM9DQYMRTvizhLCnNedGGMFgZl0JI5j+cZubGJPf3+cf1xTKbPgeNVq/L+2paPdrzvQj4JOdxHWoMx/rVoIu/tRgEaVAwk43z8+xArjar1EL22Biv97ZeZ1bQ93cZ1BqUrFN6GLu+X4yWKYhBpWDsZ356vVJ335Kgw8BChXoqu2c0cmW+y/2kC9mZKLzOC8nVR5YX3TQ+W6QoXXOSRBYTIKgKx3CgxSaQLpVz6hhQxoPwQSJrpbswgheI9P/DZ/YDHQJ9JuFoy1XchRG3AyfwUY4wDx2yseYX9eJCX8eBHckatzdvmqvPHTkaCtY4i2I40L6AtYSdhdO7APpY5j5+9bnb/1bDLd1RhDAfF9C+OASFHqEqbweBzdJiyamwC1RnGTCPV4q1kAj7KQA0pdWoRwjjOC99aUuFwacklw/2R8j9PAn1PUtz7g7iMRzOWOcSwBr0phpPhJxQHzpsVMmSjx+A+g6wRBdvNljS5jr/GT8EWN99SVc/5lgtfY0PL/niFFWcEv7mkd3XH/duN83qX5XBCwERsDtQjZMuws3N8mwCph4p3rGpEKkCCgCPUegertrp75gukvo1/OSNKci0DcIUKGMiidUkHmtF1VMwvssiSOeSmNK3UOAWupGU717Ob1Tm1/vcFjssjy6YXoMzMjM9Aj5BIxM3zrIOOS1ye6As1U1rfKnx1xWwSwZrWqvgNrMJj/LfeEVMlldjNbTT3bI+WclWNrNh02KlnWbXNzQ5SuahAdp7OhIueziRBkFV0tTYYnBshg7gxQGpR5TNr9//EmjXHBmmyVIufbbqRIPF0h0y/whBCUm3f79LmZlBJiye3Y7pQJxJfyR6YNdG5tlmHKsPLZYFvbr9jwR0Pi2tLzdbaYmtz0tMalErI7kxHArVt2aNf4FEqzPalMQ6vTX3+5ei/Dm+XY3e4f0FDbYcbEnMKNpKIzPYrhhGg3XSrRuONhYOO3EONm8tVl2QwjoSxxX5Qgy78A7bhTGOrEtKW2VUfD0PNk9j3zz8DsFGoYiMeJWrenoIYX3ORb9jXOTt92aCuOVdc8cD4GD+0H++fFKKSlzzTuW057WNgaM4b+/ceE7/9lXWnIlwMJoythoWQtrKENcwyjUJJUWt3Y6xkz6ofrp4RQPVQS0310iYIITMjDpc3D989cTJ1gMvPmwlPDHkLMXdhb8yVMYQaHBM9A6XgJLBTLy6YLoL0ePaU/a2i5phGSyIy+uPZ2/EzLGrkSsB3+xI/yl7+paGvyHxrktQpjuMLhlec6WoQEMMpKNF2e727NTxnxY4NYU/wBBal+CG6YyuroB0/Ufp03qllDC3oJ6t4DCCCbs93zP6YrG0E/hnqqZuycfYhJ/ZtM+yfRriCJAKxoeZG6PhLCAQabpaol+/CmEvBxxBW44iHY7u24PMG+g4PiyTSvr8gg3sztQFz5HDvdoaj4Ft3K+wgFTFz8Xw33ba5tL7Jf8ntO64rFtpe1ujjjGf7u6wCttttstwK4eugVgsG9fmgy3SL+A2zRjlcT7/mLc+Oazf29yr0XmGi0LjFXV/gDcIo1yeH76L3FbmpmyzCdj+PgSY9eQuGIUwz3duwhk/eom/1jPhTDCxAXaBfdX96zIt/L6+0PBiIm/Qzd5X8Dl1xMbi9otN/zl0WuKwDe+ni73/W6vFL7XImMv9IxpRUYRUAR6hkDZ+hZpWNUiablRcvKJ3sLqnpWouRSB4COwuarechc8d5jDsjDnOyrji10Ai3xa0XZGtNTf5r5JhbvvwtKTtBYKE0rdR4AxDYKi8WuY3HBqZMrbuA5xEt2q/mRMkgzjMLzNla7NzQeNhx/4cRAY7MlHrMoMuEmFkMG4bDJWHLfenCJlYEL++/UaKQJjkFS4x8NIpa/5udPC5JKLkuTN/9ZYwgWmyc9rEadba9uBetg+1k8iM9O017qAP6tWN8gxR8ZJBhiRpPUbG6UW2tymD1sg9GDAYLpwufY7yfLEk1Xt7RmbGylnfcUhByrBA3jGFaDXbgngq61trBXoasbeDnseMk8jUV8NyiSlJofL5DFRsmOnU6g1Tg3xbduaZd6cGDlmYZyUlLTIu++55gMtQ445OlYWneiQex8oh/AE7m/cLIPe1mk1phd/nG4BixEW9KIoK2sE+mXH0Ku8oTQ+EdR57uGxkj0iUq76ZpI886zLTRnxmD0rGuMzXt6DC7WlyxvlpGMg0Ds7QlZ+0SAfLam3xhTTjcmJlCPnx1hCPH4vxLwkttsxzmbPxHWUfcm5CfLCyy7BIOfseV9NkLq6VnnynzVSVt4iw+Ay7eLzEiGcbJN1G1wTMH1YuJwCIeKE8VFyx90VtrgoUKR0j3PWR6LVkOvT9VztlheHI97Mhx/XW5ZPp50SJ9Mmu7wNcGybMWDGFS2UzDWrQPzxN/+3weXb7MNj5FjM/bUQomyHRRbnz2UXJVqCkCa4kduJ/vuWZcrkajKUqfNf7aGMyhDu+zFj02QDtG8piPAlMsnphigpCoFrTGQbW6IoBCC1M61NDIOP4Yv8P10wCFkuNaXpFmge3ESZGBW2ojucPgBmFf24nzwC/uBguVGFoND24LIdMhzkAhmxtyHQrNHkZnJq3/wP3Lk8uXaflbvYxuibBAuRrW7f7Qcpusvbh2EzTWL///RFQZdpu3OzCK5pSHS1lQItd7tFR5rNRJlp9oNZaIj932pzM2Wu6+fQQIDzl27GeFDr/QwIIr6DOC2joeGQCEsaewBCX0Q4h+jyicSA73+D+589sHRgmTfAdRFjJBhqdDPUjVWAuR7I5//AjdKakroOcVUCyeubZiqEo4YoaJwI6w4TFJ7XGy0zS7w4+FnvTL6uPt37dq8kV+IFmMIIzvnHEbtmA/rCANEnol/XuF+OvTL4+WKTIVp3uYayLm5nRmG+H2wNtaxmkZZWC09v93axZRWIP8W17jcwcwGfV3y8CxZibV2OAyanmz7Gs2B7tkEIfdvyPV6WI0xjp99iPd+AMccYPOyLkiIQCAKXfzNLPvq4SpavrBHEnZQRp8HaMn1ob+oDwU3TKAL+ENj7oVOqF7u0E2//cY6/JHpNETgoAqfBfeTX4HoxHXtC0nVThsulcBP5wyW7vN4RD1pQFwkW76qw9ptUmPkZ3tNaZ44ISFnsB3B1yViAtELPgKUq933cTz0ChTul7iNAZndES0flle6WZAQNZCoGUp6pd9OGJjn2mDjL9dKtN6dajH66YbITNZxZJi0DZs+KsY5qWARQKJCS4mp7UVGLrFwGpvwR0ZIMhj2FEhedJ2DAt1iBb6PdjgTee5eBc+E/H2VahP2wb3uXLHYJJEwbPlvS4JWmFCyFD96vk1NOdUjO6Ci57WfDpKoKXhEg7DD1UDOd5V73g0QZA+GBoRuvT5VCaKM/8FtIOECG6coXAHs7iKMhXo+A5UnedvQZrIEIcP5+9INUi0lKjfGHfl8pLz1fC6ZslDig4X3eOQlyJtxakYGaCKsJQw7M5yrMm2DVuW2bRxhk6ujOJ59rMCkMQiY7hvayh9L4/OyjZlk4r1nGjYuSI+bGyhwIJ6j9z7FgXoXj4YbXhRVEcngMTMeD+qxtODjGDO3d65S3XsccgLDxo/cb5eiFsTJyZKScdIJDjjnKYQkhzDxcvRrBozFen4MQ5Oqrky2Lg+//b4rUov4wVORwu2ji/LXGtW0MRLS6xrmp1y44Y9odW1owpulVQOTrFyTIhecltM8Bk4dj29UvcwVzDHX4XvM3//8N4crM6TGWEOKG61Itt3HEJhYxa0gffFAvdQdQVieCB9cYC+6Y9vRi4J/ZhszAb6y2sO8RuBDastywvQ3N19cR8NloIjPOwPGjktp9s2+BdgqJjDRDCxEM+30wMU2sATcvT8YgCK5xKzICQoQbZmaaLO2fq6ERuwjCBfqyXw+3KZvcAVnp/uX7iGnwzI5y2QJ/9obWIggu/ZsnRuVYgWMvxOaXQom3fPzXMz21ZuxWGKaMZlgRGObXj2ZnW/7k6Sbkmk/y5EIw1M6Aj/iz4QtyPZiqqxCzgS5TisAwy8Qm9loEvv4l+m4Y/XNGpcj/YtP9Q+TtDplgsBQcUFuHgiAyfi/Bht7uvqQ7ZTLtOuDTMpWa6WHycwSvfRba77QmOXVkshWs3F4emcz0Oz8KTOcbENj4LuCS5w5WTOwYr2MunsOteJlQGlwIJMMqaCasnTqLM7LV7eKIvY7wMQ2KNTsTNyRk5puf0ru+8MRe8YdYQZ2L2T0OzHOzNvhLZ65Rw/5PeGG8Y84oy2Ljnvmj5Male7zcGJm0gX4uwhw/HjEb7HTLYVlyLRjoxj3SHswNxrc5An17xZ6wh+fsa67bRdrfIQj4HGtssKgcAg4KdQ9LQTA98QSxj8c1X9pT22it5XQfdzDhhT2vwcV+zff8Yri/ugDWESQKPGgZYdZZ37Tm+364DOtK2GXS6aci4IvAz28ZLXc+WCDLPq2WPVtbJCwTqxBeiGJzPS/Svnn0uyKgCHgQaC5rE2chOFrwux6bHCFXXJ0hJy1M9iTQM0WgGwgk4H3GCCOYje8h6VCEirD2jC2WMIDXG8EktVO9Wxmh0W3hbb9HS1u+wzjdFtzcU9y0PF9unzfKqstsT1fh/fGw1FgrbYOtfOscfF1ao/J9iweJiiF3Iz6Xede116nnB0eALlMie8dXtippdrMSmhGItqvyTLomd7qNX8BS9606Ofk0h8UspTCCQ2QzBBXTZrqkCM1wp8Iyv1zZJEcfB2viJBw2RvuePKc893SNlWbf7hbZDg3xcYgxQaZqutvKoRF6e0sQ12LFx4ijgBY3I/4Die3xbW/R7lZhmTmwdiiDi5rNX0I73Ert+fPGS/VSWtQqZ5ztkGQIRSgEMbQXAof1X6IetJkuYAxDk/fJTOU1U2cz1mySE+0x1/i9uTbMwoHn9G8fCYZMfUWbvPpijZwNRmwU5gKZpRahHt67745KueASxNeYES0x0OzmQWLfN65vkiroLrGOYNVpb69VUTf/RLYzo01HulmAT3IrLgn654/MuBsq4/MP91bJOefHydHHOzAOoNzqHp+cWzu3NUkeNf2B1Ssv1MgCCBgmTSWfD5YDHMbuodyEcbP8swb5z7/rvcbm7++rlgsviZM582KtPAzgTiqB1dL6L13lbl3jlIfud43H7FGREo8xb6gSLs5WfY6YLKjfCQMLulZiu5w1mAMmET6bzBxFO5iWY/wZWCNd9I1ES7BhWBiFBU5JgEslzkP7PLKeOfQone71w1a03/l/YH8b2nxALrsiSYbD4iMOsTNItK56+406ee8t4GAvRM+9EFBsvODQL0SAGzsy43lQc4QbOLvPcGq82n2G78B3+i+/GhqxPJj+MTLbwNSeiOsMfPrMoonWdbsFgh3tJ8FsPMYdRPuOOSOlojnTWmQYeJUU6/Y9b8/D8/s+3yN3HJ0rU+Fi5gpoclfD3Ycvc9U3oKspo7DeKdcv3i5fnTpc5rktFe5fV2Qxxp5Ys0+mI27GGDDkfzQtU34Axiz9i/4BgavvBIN/JEyCH0VQXLotoasUaumQjNsRU8fBPlfCNz2DaNNlyaPH5lpBZnneW6Kg6LndFXIpBExkgBof+Z2V+yDiCPx2/mgr0C0/KyDcCQd72b5p7yyvXg9dBMbCJdMPp2bI12EZ9QQsGjbDOooBjilUHI/A09+DkI1EQZ0Rvh1oxi87aA5cjT2JdHwxJKOdrtkMTYeLpc93Y0ON+4ugGWe3jmCazRBAMjktJH44K1t+B+sglsP0DCR9HAQFP4Y2vqFNlY0W4/znSHcPXkDpOuiuBaPlpk93d3DrkxwVCf+tHo0iUwY/TfBmBtW+aqKrb68gqPcbEG7+31G5lhDw51h/bnbX/SWCNVNQSqHEucDi325LLwoNL5ucYQlB/7HOZUFlr6ezc7tgdDKEvEvdCWdCUEjLj97QZ1hLKEA9AcGo90OIux2YTUD8n6+N7uh2YwWsMk6Buziuz985fIQ8hXXNCA0mYB2+ApYaFAKvg2C6O3QNBEYnon7SMtTxB8TlIfG5GjL1mO/6qQj0BoHx4+LkiYcnyrMvFsuz/y6TrRuhLIG1pR5uB5QUAUUgMASSsiJl2mFx8rtbx0pKsr4aBoaapvKHwEsbi4VHZ/QE4vrx8CVanV/w5mbfy9b3S9/e0uE6hQjfe2+bZQXOmzVQrOpsf3HdB9vb81MRJxJ7T76rmn1t+0096RYCFEjY/bh3K7Mt8cN3e+I/8N2zM/rNTzxKPCbdWy81yCfvNklCcpgVu6EEjP5qWBzYiWnfeRVBr3FQIJEOhiH34+WlsPh1p2WaknzEorjfpfw4PBMeBlLD5UBFq7BMkqlzxUdNsuIjl+KPuWav7/e/OXh/XGU0SQwYlyOz4WECQgMKKRohbDF1PfArTzn28k2d/3ykVniY9CZNPVwr3XSVRzHJpP/0vSb59L1yq19RYCBXVbVZ9fF+FbB44mFP34lTOQQq7L8hpgtmnabcnnwGY9zZ66ULqs7KHIrj8/XnG4QH50Baerg1T8w8IG4cCxtWOHG4xgzHSxoslBkbxXcOmvHHfBQc/OvROuvgHKMwgcIL+zxkOioY/e7XrvGfnYtA0XiN9J2vFUVtcuOV/ufhc0/UCQ+SqX/tcqesXV4ho1Eeqa62TcpKPOOb10za22/uuNbwPqmz+V+4o1Xu/ukBC7N4rEekQrh8I5lyrS/6pwMCuuvsAMnQvvCHDfvktFGpchS0pulWhMKJcDeDnCauZN695mOF8Dsw8X8BJl4WmPRkMlLoQInlKxAy5DjgT80KlOy6Ti2VVWBGkkHZaGNgklF47Wd5cs30LDkcgoBUm69yBprdXtFgbR64gaTPRlo3GPr18j1y7zG5lvDgejBXV8NFFPjpByUn7MrIuPzGWBcj8DX4ILUz4H6zaq/839FjLKbpFbAaofBjy/5q+cnKfFhIZFlubGgtQaL2zoe4R5cjxs2LiTlhb4i5ZlzWUDuZwptvgxlJ3CiMICxLwFw02tsNblOTZmDHbQox8N10k2FMMuXz/GW8EOyB5vFxcC9FX/glEMDQ2oMa1HOGxUklNIMM7Ybw6JrPdst1sPyYAuGOwZ/3aRXyZoFnYTZ59HPwIECfuzR7J3GOxmDu218JKKgztLEc7txyxbIU+gcEjZbWGsbkZe9vtzTfaNnzY8yPFgjyuHbYyzFl8CWQQeNp2TQfgo1/IlhySWOLDIcZKOcABX3+iK6k7oSwkDEYOPcY6PpWjFu7q7hzEZybhz/6DdyvbYHQ5RezR1prGwMyM6g36cFNRXIrtPvH4mX1e7CY+svqQisI81ZYP1EgQXdUF6C9jHHAtY70zl7/LwvWTT9/OG83VTZYAtSzIDyg0JfEdba39CKs046BIIdzt7O4EKaOLzCfV6P+2QjoyDZQOFGORZNajUZoHO/WWjF5AvmcAgGXoYUQSi3E+PClJ7DevenzG+KbRr8rAt1F4OILMoSHE7+Xm7a4XtC7W4amVwSGIgKZGTGSMdy/EH8o4qF9Di0EuitUCMTSM7QQOHSttfy2t2uqH7p2kAHPw5CJ12C+2z+ZLh+umAx1lrZiX5tU7HOl6yyNKaM3ny3YruSD+WqoL+syddTAKs6Qv/r6ou8Hq9O0J9BPe5yMQPN0lY4uczxWF12l7P69UB6ffG41ZQefB+xjYYBz0CDIcWbI3zg094p2eoQGXaUz6Q/2uS/I5fnW58LM1beA2+uBwre4IfFdBRJD4jEH3skdcPXzJx7IQq3npDiYLYJBWFHX6MX0s5fI4LDXQvvEuEZqgbjTMAgfWpUvj8HKIBpMSrp8Ka10uXp60F6A+5ybyjuX7ba+UQOZzMxaCCrszPevv9VRS4b3b/xwp1eJtBDoTNPGKyG+XNiJRg7dJ33Dj1YOMbqheIel9RsDM2Rq2tg3uGT2XdAJA9+3nWzL22DOfQANbQcYrDGwNzVYP+zTUPaps7aSqWoYq/ZsK+Fqiochaiqf5w5UyHggdqK20S8+zbMu0X0Un1dVfVP7s7Sn1fPBgcBGCL4oEDsZgZbJiCeZYMv8bdwM5vnjW0raXXjxPt2pvZLvkK/CvZphXtMynnP+9i/3yS0QbNCyxtxjPIkUCBooQLCb6DPmSzFinVwGYRytjEwgQlrnvA7BJ8kI7uyCtnUQAvweaxMtl2jB9M2pmZa2Xb1bcGdl7ORPC6R9FyEuBi0sKHi5e7VHS49u2d5Jc8CtWZJlFfHKLodwbfsl1qRvoK6vZCdZFhTGlVpeLTSNIPwkGXcAvsGmG7E2kez9vg/uAX6JeDXE2wgiKIwpxVpHSy97WgqBffPzOwWyFFxSRGmsLrg+/GAJ3M2hf7S+YNl5cHW1FfgzNgXTm3WZZXCtPQvXL8pNtSy8jHCVAs+VEAJvK3et1Ua4S6Hrwcg8r67ScawYYpnRaKi9z+aefioCPUEgEtaUM6d7u2LrSTmaRxFQBBQBRUARUAQ6RyAcW9RgM4Y7r03vKAIeBCKMDMf2TuG52/0zWkfoWO4+bppDEQgGAiqQCAaKg7QMMq9Km1xMqUC6SIaYP+L17uorhoI/cQpCnE7/ffaHQ1fXiLWdWdhV2kDvnTk5XU6C5vPn0CrfD+FDLIRCZ4KJnARmMRmo62DR0Rn5C2reWVq9HroIcMxRIMaDRFP2BDD7a8GF7krrjMKv52ABxUD20RAmGIHcNpjcX/FutTDmDKkBc6SzdYH3F+8osw5aKtHdmRPj0rhV4v0XYeXDw5c+gwCPh53uWu4SZtqv+TunQMMEqve9/1cIC3jYifOc6XlQUEq+PAUC9vlqdwdgz8u6LvCxouDaRpdQFPoZ6my+debagHVf9FZH1wbE7im0006nQ0BB8md18jqETTyIfxKOOrjj8l17C8prAxbu3vSRt2DY3g5/5/7cMPhLp9cUAUVAEVAEFAFFQBFQBAYOApaFhDMIJr4Dp0vakhBBwATuDtboC4NwLVLHcog8/cHXTGscB0m4ForoqEAiFJ+atlkRCACBBDCLqUE+ZgwcRdqIgbQf3lzsxVC13dbTIYwABQuBRg1wCeRaxZ/IkvFWukN2IUR38vV3Wl9mfW/q70wI0ZsyH4Prq3Vwb7elql5qIUiZAsEQLT5Ii2HZ0hkR/1B5Bp31Qa8rAoqAIqAIKAKKgCKgCPQPApEMao1DSRHobwSCbc0QDmawjuX+fopaXzsCQ1gYQQxUINE+EvREERhcCLyXX2kxJUfGRUk8hBM10OrOh7XK0r3V7Rrtg6vH2htFYOgiQHdsdEV1LOLz8LDTNrjD+7fGbbBDoueKgCKgCCgCikC/IlC8q1ly9NW7XzHXyjwINO5xuQH1XOndWTWUWYZHeqx9e1ea5lYEAkegvskdazBIjNxSuCaPSFThWuBPQFMGE4FGp1NiZejG8lKBRDdGUz2iuSdk62LVDcg06SFEgFrqr3dTU/0QNndAVF23K0g7mwHRG23EUEKAFisPbCyScYkxkobYNuEIJ76voUm2IQ7I6oJA7V6GEmLaV0VAEVAEFAFFoO8RGJYWJZkIHF7dFFyGcN+3XGsYTAiERYiExYRJbk7vhAiTJ8VZsLTBzWpkm/JFBtMYCZW+NLnX0gnjXPEPe9ruSRMcVtbE+HAdyz0FUfP1CoFaCCPIfcrN7t1Y7lUjDnFmFUgE8ADMD29LkzIrA4BLkygCIYtAmNu7ldmghGxHtOFDEoGliKuxdEj2XDutCCgCioAioAgMXARmTHfI+x9WyoGtYZIyCZxhJUWgHxGozm+TtrI2GT6l90yvmdMSrJaXtjbINGdKP/ZCq1IEXAgU1btcAy84MrFXkIwbGyfJyZGyo6xa5kSlS0y4rs29AlQzdxuBwhpXpN3DZ7qEY90uYBBkUIFEAA/R/PA685B4YQAZNIkioAiEHALOGgQr3tQiMQnhwg2KkiKgCCgCioAioAgoAoqAItBbBC48P90SSFS+2ybxWSJRrvBOvS1W8ysCB0cA+pRF7zZb6c76au8FCNOmOuTE45Nk8UdVktlWKTPie1/mwTuhKRQBFwKfV5fJrvoqGT/CIQvn934hvezSdHn4z/tlxYEyOTElU2FWBPoNgcLGOllVWSYR4WFyMcbhUCUVSATw5O0/vPuhfpp1pEpPA4BNkygCIYVAwX/hjxKb9jPO6/3GOjXFtbQ2VcI8P1vXi5AaCNpYRaAbCDRXuywnk5KGru/PbsClSRUBRUARGJIIHHd0slz+zXT5+z9LZdejrRJ3WLhkzo+U6OQhCYd2uh8QaK4WKf3SKTVrW6W1uE1yFsbKTRdlB6Xmn9w4SpYu2yzLq0qkvKlZZsYlS1pUjOUuNCgVaCGKgA0B7rTLnY2yBYKI9fXl1p1f3T7KlqLnp1dfOVKWLq+RlV9USW2LUybGJsqE6CSJDg/veaGaUxHoAoHKlmYpaKqVpdXF0grm0/XfGSljeulKr4vqBvwtFUgE+Ij4w/sZfngr33ZKw36YPC6IgIYL/CbqWhUggppMERh4CLTUi5RtaJWqtU5p2d0mmZOj5c7/Z+884OOorv1/1HuzZUmWJXe5dxswYFNDMB0C4UEIgUCS908hEEgBEiAhhRoCjwcJISEJvEBIMB3TTbUN7hX3Iku2ZVm9d/1/Z3avdna1klbSStqVfsef9Wpn7tzynZk7u+fcc85NY3vd0RnTHUmFaw/jK9S0XlfHCkiABAKUQP0hR0zwmc57PkC7yW6RAAmQAAkMMIGf3jxa4uLC5LEnjkrNp82yHy+JZAz+AT4tg7d5W6jpE85LkCd/meO3sY7Oipa//Xmi/OZ3+bJtZ5nsriuz6g7XRBUUEvAzgebWZivOvlabnhIlt92SKfPnO0KH+aOpRx4YL7+9P0+WvV0qRxtq5FM5KryW/UGWdXgj0ITrWSUEj/8fXDNS/vt7cJscwkKDhI8nXx+8f8eD95f358vOjTWSv9FxIfGLpI8AWYwEApGA7cv6nFPj5LE7J/illzOmxUlERIhUrWiW2tlhEjOCPzj9ApaVkEAAETiG7wEtiMuclhMhCfH8ER5Ap4ZdIQESIIGAJPD9/x4lC09IlI8+KZeN2/F78kiDtLQ6PO0CssPsVNASSEwJl5ycaDnrxCRZcvowv49j9sx4+c9zU+TpZwtk69Za2b6tTuptv6v83iArHLIEQkMjZEJ2jMycGy3XX5dh/cb2J4wU3CsP3jNOFp+cIJs2V8vWLXVSVubU9fmzIdZFAiAwKi1Ops+IlksuHS4TxjNMOA0S3bgt9MH70jOOB+/mHTWyZXut1Dc6Vkd2oxoWJQESCBACMQlhMhlf1k+ekyBfvXCE33o1IjVCfnbLKPnNvfly6NVGyVgSIfGjaJTwG2BWRAIDTKB4S7OUvIwwb5BbbvZPCIQBHhKbJwESIAES6AcC8/GdU18UEhgMBL7xtaG9uncwnEOOwUHgovNTRV8UEiCB/iNAg0QPWPPB2wNoPIQEhhiBr12eJpu3Vsurr5fKoT83SMSUMIlCrqxQuucPsSuBwx1MBJqqW6UBYRub9jkWI3z56hS54AT/rzwcTMw4FhIgARIgARIgARIgARIgARIgARKwE6BBwk6Df5MACZCAHwnce/c4OfH4BPn1A4ekZkezNO7wY+WsigRIYMAIJI4Nlzt+kiXnnUhjxICdBDZMAiRAAiRAAiRAAiRAAiRAAiQQlARokAjK08ZOkwAJBAsB4/6Zd6heNm+vlrJ6R5iXYOk/+0kCJOAioLkiFs5IlLThEa6N/IsESIAESIAESIAESIAESIAESIAESMBnAjRI+IyKBUmABEig5wSyR0WJvigkQAIkQAIkQAIkQAIkQAIkQAIkQAIkQAIkMFQJhA7VgXPcJEACJEACJEACJEACJEACJEACJEACJEACJEACJEACJEAC/UeABon+Y82WSIAESIAESIAESIAESIAESIAESIAESIAESIAESIAESGDIEqBBYsieeg6cBEiABEiABEiABEiABEiABEiABEiABEiABEiABEiABPqPAA0S/ceaLZEACZAACZAACZAACZAACZAACZAACZAACZAACZAACZDAkCVAg8SQPfUcOAmQAAmQAAmQAAmQAAmQAAmQAAmQAAmQAAmQAAmQAAn0HwEaJPqPNVsiARIgARIgARIgARIgARIgARIgARIgARIgARIgARIggSFLgAaJIXvqOXASIAESIAESIAESIAESIAESIAESIAESIAESIAESIAES6D8CNEj0H2u2RAIkQAIkQAIkQAIkQAIkQAIkQAIkQAIkQAIkQAIkQAJDlgANEkP21HPgJEACJEACJEACJEACJEACJEACJEACJEACJEACJEACJNB/BGiQ6D/WbIkESIAESIAESIAESIAESIAESIAESIAESIAESIAESIAEhiwBGiSG7KnnwEmABEiABEiABEiABEiABEiABEiABEiABEiABEiABEig/wjQINF/rNkSCZAACZAACZAACZAACZAACZAACZAACZAACZAACZAACQxZAuFDduQcOAn0EYGt26ok/3B9H9XOakmABPqDwOScOBk3Nro/mmIbJEACfiKQm1cn23dU+6k2VkMCg5/AyPQomTkzXkJDBv9YA22E/L0QaGeE/SGB7hOYNDFWxo+L6f6BPTiCc0YPoPEQEggwAtQxuJ8QGiTcefATCfSIQF19q9z34EF56bUSaWho7VEdPIgESCCwCKQkh8v1146Q674xMrA6xt6QAAm4EXjk8UPy4sslcqyo0W07P5AACXRNIDwiRBYeFy8/uSlLcib2j2Kt614NzhL8vTA4zytHNbQJJCWFy7VfT5X/vj7T7yA4Z/gdKSskgQEnQB2D6xTQIOFiwb9IoEcE1m2slNvvOih5efUSGRUiM0+Lk6bhInVNLT2qjweRAAkMLIHSPU2SEBMmhdsa5MGHj8iq1VXy2EMTJTKSS0gH9sywdRJwJ/D5mgq59/eHZOeuWglFENJJC2Klsr5ZosczIqk7KX4iAe8EGotape5gs3y6shKv7XLTDSPlO9+kEd47rd5t9fy9MPf0eJHUEClraO5dxTyaBEhgQAiU7m6S2JhQObKhTh55rEDWrK+Wx//gv98LnDMG5LSyURLoMwI6Z8REh0jJ9kbqGJyUaZDos8uNFQ8VAqoMUWPErPPjpeH4JmlobbKGHjlUAHCcJDDICKTPU2Vmq2QuCpfC91pkBRQ198ID6s7bxwyykXI4JBDcBIwxYtqZcdK6qFVaQpsl0RoSFwQE95ll7/uLgH5XjZNQaV4XLtXLW+ThR4/IxHHRcsZpKf3VhSHTjvm9cOolyVI8r0lqYDxV4e+FIXMJcKCDjED6zDBrRFGLo+XwO02yclWl3PNgrtx1+1i/jJRzhl8wshISCBgCbXPGokg58m6TpWPw55wRMAPtRkdokOgGLBYlAU8CDz2aL9u21cjEU2Ok/jiEimC0Jk9E/EwCQUsgMiVEsr4aJnuLW+RfLxTLySclyplU0gTt+WTHBxcBDdOknhGTz4iV5lMcCwEG1wg5GhLoPwJp88OkPDlECp5ukd88eEgWnpBkrfztvx4M7pbM74W5Z8bLkSkNIjU6XnpdDu6zztENFQIRMSEy5qJI6/fC8y+UyKKTknr9e4FzxlC5ejjOoUggMg5zxsWYM0paxF9zRrBypEEiWM8c+x0QBFavdSTPbD2OloiAOCHsBAn0AYHYaSFScURk46aqXv/A6IPusUoSGJIENGeEhmlqWdiC9d0UEiCB3hJImhAqx8aESkFug3z0Samc82XEH6X4hYD5vdAwJ0RaaD/1C1NWQgKBRiBucphUHG2RjxFOsrcLmDhnBNrZZX9IwP8E/Dln+L93/VMjDRL9w5mtDEICTU2tsmVrtaSOiZDwBBokBuEp5pBIwCIwYl64VLzfLJ9vdBggiYUESGBgCeTm1VkJrNNnR0loFJ+/A3s22PpgIpB6cqgczW2R7TtrYZAYTCMbuLGY3wujxkZJfSvCyTXTM2LgzgZbJoG+I5AyPUIqPm6UdZstF6geN8Q5o8foeCAJBBUBf80ZQTVoj87SIOEBhB9JwFcC5RVN0go9SGgif1j4yozlSCAYCYQj76QgoXVRGZc1BuP5Y58HH4HtOxzGwdr6Fkmmf8TgO8Ec0YARiEhy+Btt3tE7hdqADSAAGza/F+KSw6S5ib8ZAvAUsUsk4BcC4RG4vyNESkp793uBc4ZfTgcrIYGAJ+CvOSPgB9pJB2mQ6AQOd5GALwQaWnR1Jn9g+MKKZUiABEiABEjAXwRCRvurJtZDAiSgBKLiHd9n65rpeeTvK6IJvxdCWvh7wd9cWR8JBBIBvcP9dZdzzgikM8u+kEDfEPDnnNE3PezbWmmQ6Fu+rJ0ESIAESIAESIAESKAPCLSqmyKFBEjA7wQiQv2lUvN714K7QoZrCu7zx96TgC8E/PnVhHOGL8RZhgSCm4A/54wgI0GDRJCdMHaXBEiABEiABEiABEiABEiABEggiAi0wsjTu0guQTRYdpUESKDXBDhn9BohKyABEghsAjRIBPb5Ye9IgARIgARIgARIgAT6gUBMdIRERThi6HenuaraRmlqQrLaDiQyMkzGpsRKelyEpEWHS3x4mJQ2NElRHV61TbKvuLrT4zuo1m2zthEb1fHX+vrGFqmta3Q7hh9IgAT6j4Dlc8LVzv0HnC2RwAAR8Jd/GeeMATqBbJYE+pmAv+aMfu62X5rr+JeLX6pnJSRAAoFCIC42Ui6bONzn7ryyv0TKKut9Lt/XBcPDQyU+JkK6Uvx01Y8rZ2RIpDMUwXv55XKoxD1x43Gjk2Vacox8eLhCcosciVO7qpP7SYAESIAEgp/Aw4vGynAo9rsrr+SVyzNbjrQ7LCk+Si4eP0zOzkxse+60K4QNGq//3SMV8uLeYqmsbvBWpMttdx0/WiYnRnVaTlNelTU2S0l9k2wsrZW3c8uktLKu02P8tXNsapwszEhwqy63ql5WHSh12zZYP+h3sAtwLdiloaVFXvyi0L6Jfw9mArj/QmiQkHnjY+SkCbHWmd6QVysrvCRQt8ZaLLsAAEAASURBVJfZcqhOPvqiWv77jGESEeab2mZtbq18tsvx/X54YpgsmZEg41IjJTMpQuqbWuVAcYPsPFonb22qanfF2ds2O+saW+VgaYPVj3r8beSCeYkyZjiyGDulGZNsdX2LlNa0yAb0Ib84+IzAPzl3hESFh8irGytk88H+eT4YfoPjPUT8Fk2Sc0aXl4Te31eekGyVK6xokn9/Xt7uGHuZkqpmeXZVWY/nE638ovmJMjEtSsYMixBVKeQhifn+onp5ZX2F2OcHLevrfJKFeeRizCee8samCtlf2P15JCU+TOKiQvt1DhqINj15BednP84ZQQiABokgPGnsMgn0hEAaVmZekJXk86HroYwPJIPEN6ZnyLmjEuXFg2Xy7NYCn8fhWfBSGByMTEmKlts+2W8+Wu+L0xPkpBFxchQrSWmQcEPDDyRAAiQwqAn4pupqj8BbuP305Fh58IQsiQnr2uMiGko2fT4vSo+Xn3x2sEfPXl/6rv0cBoOLviYmRMlleB7urKiTP2w5KkXlte0H5sct89PirPbsVW4vrxsyBomM+Ih241cWNEjYr4jB/bfeoyFNXc8Hg5uCyKzMaDlzcrw1zPmjY2Xl1vZK7+tOHCajUhxqiuiwMPl4c60smeZu0OyMU0uzyOdf1MnpM2PlW4uHSUyk+ww5Fsq/0ybFyVlTEuX3bxbJkRJXLC17/zzb0H499E6xrNnlmC9PnRgvE9JcBgm38ielyK6CennorWIpLEOHgkROGu8wFm3OrZct+3pmIA+SofZZN92vtp43wzmja3ZjkqPa5hMtvXZPnew/6q7A/68FyW1lympb5LlPKno0n0wcGSE/OjtVRia7q1BHJUfIwnExcs6MRHns/WJZhz4Y8XU+GTMssq2P5lh933WkQQ4c7v78cd9XMmREYrg8+HaRrNzet9/vTH8Hok3TdrC/+2vOCEYO7ndTMI6AfSYBEvCJQEFlgzy1p8it7FmjkiQbXgdHsVryjbwyt337ylwPU7cdA/TBTNQh5g8/9CMHCpmZmUmy5XD71RR+qJ5VkAAJkAAJDEECuhr+3uN9M0bY8aREhMlvjsuWHyzfY9/cp39PToyW/zlxtNwPQ/9GeA1SSIAE+oiAtdq5j+oOompDW11GmeSYUDlvTrwsW+fyVDh+ckybMUKHpaVDoI97bmW5RGDlvpEpmVEyI8vhFfbC6gqz2XrfipX9U0dGyQ1nOjzDm+CF9sbGStkNRWV8VIicmBMrs0dHy/gREfLzC0bIDU+5PNxM/yrqWuSVtZWWMSM7NUIWjI2xPAd+/OXhcuPRAjmqRgyns8Seggb5fG+txEWHyLC4MJmDsonRoTIpI0p+c1m63PpsAbzROg7r59b5Af7w+oYqiY4IkR359Rb3Ae5O8DXvvCb80nHOGV1iDPW4rb56fJI88LJL35EYFyqnT45z1QP3lZ7MJzGYe+64KE0ScF+rfAoPrA0H6kS9omZkRcsZ0+NE57OfnZMqP3zaOT+gnK/zyYbddfK7umNy+QlJMjEjUg4WNcr/rSiTbXk9uw9DnCtlQltC+u0+Hog2rZMR7P/5c84IQhY0SAThSWOXSaAnBDR29LJdrge01pEREynZoyJkB4wP9n2zYaiYmBIjm2pcK2MS4iJlPEIZFSFWtj3M0Th4EyRGhsv2Y1XS0OCy4Ovq0Jmp+FEBxUwFQkTsq6iXTYfclR1qDGjCg3x7QYVom5OToyUCD9B9CBVlD+OgdY2H8UAlJyHaKqt/1yBmdwn6k4V9nv3S/Srahj6Ttx2tdIvRXdvcYq1cvW5yqvzIR4NEV2NKA5+R4JSP/hdj1amRSfC6iEHIKXsfNFb5pOGxUg5j0AFnaCgNSzUboT2yYiNQPgzxxRtlL1aQ7j/WPnSU8poCXrr69ggY5Fc1SDgGmot2jWeLOTem3axhcZKC+OXK6kipw5Vd+zEnI17GIbRIM76kKfsNCFdlj4euyjW9HgqqG+VomXuIqwlY9RofEe42Nnu744bHybSUaEnCNbIHfVsNhZe9bsOI7yRAAiQQrAQ0FJJd5sLTIQHzuaeU4ln4Koz/dXj+LBgWL3OHxVjPJ3u5DMzRyXimmXncvq+v/tYwhrfPHCm3IJ9FHvJZUEiABPqGQEiTS6HeNy0Efq0hHgrEixCm5M3PXfPOVxAOxU1UgQhuSz+pdNv8pblxlkGiur5V/vWBu0FCC95/bbpVvq6hVe56/pjsPez6TfPe2hq56vREueT4RMmEJ8aF8xPktc8dRhHTv6MIw/LKClebx0+Olp9enGoZReZkR8s7hdVizuZWKA1f+tRVVqRULluUKFecnCipCJ3yaxglbnjS3bs7JTFUToTxZTRCSekz5MCxBvl4S41of+1yCrw8mhBmav3eOlk0PVYmQFnZgM/bYHRZvdPxW0P7NnlUlCTHIkQLDCVvrq1yq0eVsvMnRMsIrOxOigkTddwrq26W9fvqZFe+i4u2uwmGlSQYVQ4VNFncdZvpg660Pm1WrEyEsUfTLeUWNciyNa5zp2UpIOBxjfeGCeeMzul5hsE7HiHhsnCdHypy6CQ0vFK4R6i3nswn3zwruc0Y8ef3SuWdda7r/tNNtbgXa+XWr6RabV13aorc+x+HzsXn+QT1rd9RL4snN1kGicIK3J/4rAKTgvXu6314AuaDJKfhZD4Mr5HO4w9jbrDf71puwshIGR4P3UBlk3xxELqa/e7huv3dpjUQ/teegB/njPaVB/YWGiQC+/ywdyTQ7wSGY7XkHbNHWu1+D7GsC8scbn6XTBguFyKkRAGScNpXb/5q3iiJxTfb320ukPX5Di+Lq2ZmyCXZrtBIZhA7xw2Tuz7LtRTSqnC5a46jnbLGdEnGylC7bIfC/Y4VB6xN108e0RYbewaU8DOSHcepAn3ZoQor1EU5EnZe/+4uexWiinHTxvdXuivTn4Bx5qapaZaHyMKxKfJZF3GsfRnTlRNTZTEU9CthQHhoTZ7VF1X4/3b+KOurwL1bQ2QtQk6pnJSVKN+dNEKOgOcNWA2rxox7sTI20UtC1dVFNXL/6oPWcWoY+jmYa7gNb/ISlF3/3OL40XP7nEzRFbcrjyXKbBgU4pwKsk2IHf7rVbmihpLbca7jPRRnx3JGyG82HGozPC1CqKxv56TKGvTjPmc/TNu/mpslGm7kx6tdhhXTrojjPJmyIklyePxwuQ0hSaptxi7Xfv5FAiRAAoFFYCnm7LeQa6Ezqax1V+jMRgJrb/LjVQelHHkTVN6VYvk25mjNL+Ep4xBOcIMfcjjp8/rmT/dD+RSKFa9hMmV4DNpLwjM02rNJyzCic/cNH+1tZzS2FgUgLEImjOVJMEAnI+RTAuprwKrjchhZypCgez/GtcaLwdkYtKckxrRrMx0emmpct4t94UJv2rXXaf7W+maNiEFi8QhJxysWz74yLKQ4BuN/MRYH7MbijK5CNebguTkmIVJGx0XhFSmq58jH80xfu8rqsQLbrpR0tKxjnAHjkzfRvFXK0cgePJ89n4/KcAEWDigv7bvyr8Z3nsJ6R7/3oN97Cl0rzE1dfA8sAiH4zhrKHBJYMew4L3sRimRseqSkIgb8WbPj5P31NTJ1dKTkQEEGm63sg9dBTmYkyod45WYUfeql4Ml1dHq4jE93hFJ6E94X+/Ma4WlhzAeO9p97r1JORtimtOQwOW1qnLyx0qFgNP0L8ah37ReYuy92HJscHWa1qedURVdpe/bhxY8qBY4GculJiTJyWLjMgWJws1PZd8KUaPneeQglBW8Nl8TJV09MlEdeLpEvch3PFB3HD8915J6prmu1PDBM+fPmxcsahIZJgRFiIjjZ5ezZ8fK9/3UZQC5ckCAXL2wf8uoytPfJ9hp59CVXLp/vnzNMkmGQaKovlpUIe2Xvw3e+3Crx8AJxSZycPi1OfvbUMdcm/oUrzc6o50A4Z3TNznhIVNa2Is9ks3WvXXZSknVNa6i2L8+KtypRj58p8KjSc+N5r2qBzuYT3X8arnOVXYca5L3VNe3mk40762Ul8uEsmhorC8ZHSxx0I7UwLnZnPtH6dd6xxGP+6c59+OOLUsVElDgVnhv6UvkChtNfPlMkw2AMvfmS4TJplPu8celCcZsP/Nmm1QH+1yEBf80ZHTYQwDtokAjgk8OukcBAENCV/ZXwPNDVndPwA9oYJBZjxaeKrt5U5bluT4G3ghojVHY6k0N/CYmzjTFiDxQqn2P1v4aEmDcs1jIqfHVKmjznkQNCjRGHsDLzC6y+H4+V+hOgbJ8Khcz0kYmyDYk+PzhaIdnxkTIiKsxS4K9xehRUNzXLJ4crLYNEEhT587KS24wi2qdLxjq+xGs/PFf2b4HRYG1ajSyAl8I1E1I7NUj4OqZNJdWWQWIWlP9G5o9MaPtaelp6YptBYlqSo8zGYofHwc0w4qgxQtm/DQ8FHdukhBhZOCJWomwrO26cNbLNGPHh0SrJra6XsVCMnAjji0nWbdo275oTQ6URS7Cq8SuvHsqPSCg07oTySY0Jumr3NRgy1DvlYhiSlPPP52bK997vfdiQYih7NpfgWkGdc8AlE9fP1+GV8sSGw6Z7fCcBEiCBgCWgiubuJn5WbzVvkoz5zxgkdP9GPDe9GSTKoBz3h9QjabLDc7FZ1EtyFRJYq/fhYiRX/iGexZ691Ll/IZ4Bn+4vaWteFeY/m5HR9rmzPxpR56dYNfzE5sNtRo3FML5/C8Z6b6K5LMwCCLP/+05PvN62a+rTd12c8E0sAJiG7xVdSQUU/TeuPNAuufhIGJlunJHe9vy116PfV4xswPPusW0FbR4uo/Ddx3OMpqy+e7L9065j8t6eYquILkC4BkxPSYtv50ljr0P/1sTo9yGx+hZ8f6AEKgGoHIbwKkhzVgyDYqwALiitkZOnxcqFxyfIcngtfAXKe5VVUJK3hWeCYs4cY+rQdw1FoqL/e+7PRrJZI++shidDB9w/3lItly1OlHR4SZgybe8e7SbGhlmGEv3Z0woPBaucU3kYAqOJOc60q+//Xl4pF52QYK2anpIVKVv21ovWc8MFwyQS1gpVon64qRrJukVOnwMvZhgCbrxomPy/h53GBJfjuWWMKMAKZ42PrwaIEUlhctxEx9xTA2PFdihcNUxUDtpRI8+M7CjZhjwQKppToxF9/uIgjKfHGi3v9LkT4J2RFi6LoUD9ZEONbNrnKGsdgP/axmTrgxojjiEfhoaoykYejqwR4TIOHhuLpsXIiq39E6fe9G9ovHu/robG2H0bpRosVVphHHz9syr59rnJctLkWPl3YqWcNB16Chj9jpY2y2p496hBQjOOe7tXO5tPYvD7XMOxqSzf0PF88j7mMDVIqGTCCLnvcGNbW2posLfrdT7BcXrfqXiWl27ch++ur5az5sVZRol98AzLK3J8p9yP+1b78APMP2qMUHuqekUcRNLsWeOiZVSqYz7YAM8r6372Y5vWoPgfCXghQIOEFyjcRAJDncB6KMlPhQFiJn6AfyglYoX60W/LTlmcmSBLYZDQ1ZYqh7EK06zouxbKfRX7Sn39fAUUGppA87SMhHYGiUd3FMpH+1wKkD9/KcdKujk2MRIGCfwwgQJFFfjnYKX+ZwgNZTwAtF6VnQgHNTkxSi4Z4zJI6IrChakORfzSXNfKH8cRjv+f2nlMFpw0xlLAq9HBKAHsZfRvX8e06RiMC1PE8jhQY40qsU7FakojxyGElYZl0pBFM5xGi/XO8BhqiFF5Ja9UXt5+zBxiGX0yoJRQyUb4I1Xqqzy8vdBNaVQ9O9NK+m3t9PhPc4Q8svWo7LKt3Lx46gjLGFEPI8VNK3Lbzp8aeB4Dk7SocDkJniMru/Ac8WjK7eMreeXyDBQkRq6DN8a5WCl6Bq6BJ8xGvpMACZBAABNQb4f8EfWWQrgKq91Ka+rdwhN66/ohlBFxPH/s++9dkCXPHiiRt/G8U0PBRBjrPaUaz4c8rJLvS/kE7adijr8KXouech48Ie0GCae+zbOY189q1D4dK/njwrPavPq8FvRho7/aXYDvHT+dntGlQt90SRcGRDoXWphtZ8ND8Ft4OdQEZqv3dw3D9Sieod/5aL9lBPJequut+h3m/oWO7yddlxbrea4hGSkBTAAXdRhDNrWtAFaF20sfVMlJMEioB8EVpybIrPFRlpLs5Q+r5PIzHd+ftZw3bmZltJ5xz/2jUJ8K1vZIeWmLhHVw9xYVOzRu0VhJnYzQopU1zW390+NNvROzIuSb5yZZoY50+xd7G6x9ZlWr9sWU1f12yS9skrFIhjsFIZXCmqpgdIm3jBFqILjjicK2hNerkLj7l9ePkBSEeDr/uHh5c1W1hNk8ap59t1xeX+Hw4hiWECaP3pJujWoTjByP/KtE6hods+a9/2+EjM6IsEI07UA/VV54t9J62fv1vFTK4z+GhzramwivlK27HGXNPBfmHJO9D8+9VyGvferyxvrTT7GYCh4aY0dEymdNrlC19naG4t+GYa/H3sG13+t6B1EFdm+HD+C5cNniBPx2DpOvLkqQmRMcv63fXFUlobaFIt7u1c7mkzEjXc/Wo7ifvR2vSA8fcWnwx8AomnsQYc8ct6VF3BzX0XyihUx5z3mvO/fh318rlwU50fCECJO3PquWTzG3GJkF740ZYxxc/vRyqXyCcFMOqZAHvp8mo2BkPHFKjHy2sc5t/unq3u+szY7mX9MnvuO8D2EIrrtrCEPg0EmABNwJrIOSXA0Ss5whBk4e6fCO0PBCI/GD97SMRFn6RaFlJNAj1zk9FjTck664V0mNjJBLp6VZf+t/M50hIoZjRaQq5e2ywhnGyGzbhvADGvpIfxz4IkuhNL99VoblVZEKw0VRea2cPTbZUkDoasc1HvWbOtXL4yN4GehYvzZuuHzoRfnenTGpAUK9DTRM0lQYa9YinIKGSlLPhAoomXTss8BOvUn0b5UdCIOkcgghP7KhgLgwKwX9DpH1WGWaj/5ZdaJelbFJji8QRVBk2RVG1s5O/nsYxgjPMBLj4x2KsA8LKtuMEVqFMtmIFZ6qVBkHT5WVndTb1a7PPEJIvLK/1DJIhGF8STDA2FcKd1UX95MACZDAQBA4Dc8HfdlFnytvI/fQ23i2eMv18EF+hVzh9NCzH6cK+2sQtu7rMARsL69vFzpJf7eqgb4/8uy8hfnYm0EiB/O+MZzb+96dv49PRYxxrOrv7zBCnu2qJ+BNU9N9NkZ4G6OGeboeHh7efiyqV4L5zmM/VnM7XTctXR5bn2/f3K2/fwYvRfVYoQweAnoN2ZVKg2dk3RtJ20pkrAQ+WtAsm5DMdQ6UZ5fAU0Fl/a46a7trpXCIV26mHj3Gk2sMwtSpaO4Fz33WDud/0bbfIwmRoVKDxNOm3glYQfzkz0ZaYZWc1VlHfby+VvYdgFISs4JRHmpYlo7aMb94WlXBDwNDNhJpq6zDKuTiYpexROvcAw+GHIStGgMFf1gzwsLYDBIffF7b1kZ5WQu+QzdbxoS18ExoxM8Eo/Tbf6jRMkhkYrWzvU8zJkbJybNjZExGuCRCYRuPBLzG9qohXU1ZXTWtohx0m70Pyz+raSunZfYjfM1snDsrL4Wtr7pvqIr1rLApoXvDgXNG1/TaDAnOe/BtKOCvOCtRTpnj8FQow33y/qoa+fJJJpRm9+eTeNuizOYG78drT1ts+V/Uq8K6f5yeXL7MJ1qHmVMsg4TtnurpfageEebe1vonZrq8x9RLQsPiGUmF15VKBnJw9Obe92zT1M937wT8OWd4byGwt/qm7QvsMbB3JEACfiawzakkV8W6Ko5PwYp2lfs2HpH7js+yjBIatmkGkhWrrHeWNyv5ddvidF0d2n6FqO6zr1LQz55So0uauiGau6J8ahpiW4fKhTBEPAVr/3mjHDksXj/Ueezvp+ElsRiKE10VeS68JDylu2NSFmciTJOuqlVDhC7IWAXPiT1VdZYi6jTs09wXKrkIBaJhNFSWIka5htDQfnwNiix94XB5C+EXnt9dZBkNNEG4SiGSUvdWNBa4Sh764CmahFzFM7eEZ7nufi63taVGFwoJkAAJBCMBnae/OiZFLkJ4o9vX5SMZqSu5oY5HQx/+bW+RfNPpMeg5RjXKeuZx0DxIDyL/z/aC/gm5o88eNW6nOo3j9j7GIU+BMRg364MIos+rj2DA3gtDyuGqBoT8aJG0uAg5NzvFMurbj9e/J2IRghokPj9SZeVIOBMhGNWT0S5q2Pm/fY7wRLpdWyrGs1Klt+1qHbPx3cWbwWDZoXJ5aV+pVGPRwAh8xxmNfp2PkI+e/dM6bp07sp1B43M85/+G7w66+EHDKn1tUqqchfHZRT1Fnsa+o7gWHkfZKVgscQa2ecqTeL7rdwUj68FMDUJTvHjPaPjJP2w5annpJOAcZcF4pN/PToHBjE9UQzBw3/Uc2ZVKgdvTvu2ZXeGmPF5fXm0ZJEyr+lm3e5Yz+827PfyJJ9eiEqfnA8K1aK6YOiS+9ibR4Y47R3NWHCtstuLCm3a1fFyMa38Rwr68+UmVfLC61hU/3lQL44pnH0x7CUgoraLeGFomNcmhfjmGpLuex1TXoiMQDTOj+4xxRLdZn20/jxqdPwVUIWuvp8GpFFXVotl+xbkJcs4i999kjYjiYgwSuj7XlHV5fXTdh3pnlCfPPmh/h7L4az7mnNH1VeR5j7z5QY1cCO+IWOe9+y6MEda94zQMaI3mWrfX3tl8chRzg5E0eB2o54M3SUt0qVYLjznu727NJ6g0xISiw9xi76fnOENdXZLO7sMwj7lpZLLLIHHm8e5zghlTJL7jemPW0zZNvXzvmIC/5oyOWwjcPa67JnD7yJ6RAAn0MwFVRBQizI+G7bkIsabT8a5hmfKRI2E1lOtqbDgXYRB0Rb9+F99Z5HDfbbD9qL593SH8yHZ8sbZ3X4toqIpY1OlPeQOGB1Xiq9JjL360q3FC23r7QOcGCR2rKifOR5iKy8cMQ04GdwV9d8ak41kL7xI1SMyEh0FcuGOlwYdQMB2AEkdXxuoKzkqnwl9DYxlRj4ft+HwxVs5Oh6FH2aox41yEqcqA4uF3n+dKrdNQYwwT5tievGseCRVveScanOct0r4kDGU7iotuVeTDf1E+erz4UBWLkAAJkMCAE9D587fzs+Snq/PkkDOPkunUGzuLpLS+WW7GSnlfRH+MxGOFbn9KQU2jV4NEhEtLJRuQqPpqKOCN8dz0T5XmhfjwAsI/aQhC4/Vn9o9xhhpUL7/leGkeIU+F/yEYOZbvdRkkzLH63tt2tY5hHXzPUM8G/affRfS86UtDQ06AZ+YieDEa47l6SGYjkbRd1HjwB3g+GC+WSnxneHZXUTuDhB6TAWPHbuzXMeaibm8GibdhkPAUzVehz39PqYKnJbBb/db8TGr40iTg/4cQkUsQsnJ3KUOmeDILqM/42mVCdgRUv/q5M3aFm/LYtxcJ5Q80Ss7YCNm5r0EO7Hd6Hzh/Qlirbb2EunJbGe2xvwCeF0bmIGzLms3u+RHMvqljHUbSYuRFMOfG9O8IFIqP/K1UWnDPF5W4fs8YTwRTh76HdXBux2aFSwoUmCq7nWGeGmGIxREShZvctGkVwH9Nzm5GwNtc94XDKGFEFYRhNj2omyeDbfwh5hgoIrWOhIQQWXKyQ/GYd6RRXn2vWnYdaJDKyla5+VvJMmMSQkmhS559UeVjV30wce1V6ep5vOk333tBgFy7hGdX1Jtr8AN48px3epzUIEfLm+/Cq0e9mZxTQkfXamfzSUlhixX+TX/WTx8XJes3uusKTCfn5LgWXeTnOUI7dXc+MYYR9RAz49H6O5sLvN2HxhASpp5OtvmhyWmwrEXemSefLzddd3svK3fMh/5q061yfiABDwL+1Qh6VM6PJEACwUtgHRQQmrPhQijqVVSprrL8SIVlkFAFvsp+KPQdSTNFCvC3EV0Bustj1ajZ15v3aA8lualLDQ9XwKCgX/BvgKeBygqEPTK5LUw5b+/PQ5mgiUV1JaWnwqS7Y/oC3FTUmJOGOIxN+MWwBatKVXlxEMqX0TA0mCSm6zXnhE1UufDXTYetLTEwQnxt8gjrHMwa5vBEOQqjkIoaW5KxMtIeKmRYN5X9h6CI0rHOQcLNV61aXf9NQ4gKlcMII6ViPDpUodQbmQ2FjIoailRJRSEBEiCBQCagims1Squ3mDcFsfZdnzkXwRj+uIdBIgf5g67uwEPC25jV60ITHP8fvA7seYS8lfXXNmOY9qxPn992UWOEekVq/ij1/lNjg4b46EzCQjrf39mxZl9v2z1Wa9PemUrx/hUsqNBXLZZF76lsQPisWtmAZ7eGNtyL7w1GxjtDTZrP+q5htx4+Zbx9U4d/Z8dHos4Od3e4o6KDpOaaQ+qRhaOt7xUH4KWyC98ZNiPfyEZ4Uj63taDD+rgjQAhA6WtXngVIr/q9GxreSEUVbobHP1+olKk54bJ1Z2PbNrNSX99NOceRjv+Nok8/ee4/mNtseUVEw9PgorPiZZ0XBeLEseEya7JDgXgg19Wu6V99XYsUQRFp1d+BD1LbTAmln2cfUpJC5cZvpljH63qiHbscbahxI3ukSM4YLDyyrdrWguOyHQbQEvWewL424wL2hUKp2KY0xWejcNRy9npM/3W/bp8Fg4yZ0h/7WwWMKw7NbKgqabVRiP1cmHqVb1d9MG3p6jR7Hxy1DtH/cckYY1GvCXDO6BKhGtNUzPWufy+DEaKqolnUqGiuS/u9Y7ZpWSOdzSdaJjevUSbAaLr4uFhZ9l6NlJY7G3ZWEIU8NGcvdvzOVQNnNXT9eo+Ze8SX+USrarv/PO6pzuYC04b7fei4u6PgBWYfb8FRx/eiMOg88uDp4TkO53Ac3mLGuImNnvNPd9o0dfK9AwL+nDM6aCKQN9MgEchnh30jgQEkoMmW1SBh5FMkO1bZXlgp9S0ZlhJGP6+1rfLXlYL5CCeUhRWFP5qRLr/DN/ADzvwSmqDxHIRTmo/EzLd9sl8P7ZaUqW8xZB48DP4BRYgq+DU+tDGGqOHhM7R10giX++HLua5E2Z01pkqPpQdLvcb87u6YtB/qTZLpTC65GkoOs5LyAxgm1EtCRZXyu52eJbrS9MkzJiJsU6m8hZWUWl77dAzhJFTC8UtCx7oFipLmqYiHi8+/mDdK/gWvClWOfDkzqS1Hh3WAD/9pnhBdrTkLSqYTkbxaV4eqXDBlhIyKcTwa1jsNSkapMxZKqLHgq+FJdOXoNyeneQ2HYZofh6TkRhkzBgnGr88ZYe2yXzOmLN9JgARIYKAJPLnrmDWn7kEeI82nYxddPf9f41JlHvIDeYp6tdllKlbZ/2puZjsjxkrMnaqoWDgi1prH7ceYv7+OfEZrjla387gw+/35Pi7BEQbQs86qBndF/nWzMy1vPc9yff25t+3uLq2xDOqeBhbTb831oPmt9HU5QnAdg0fLfVgUYL635HgJm6THZviYPDrVx3KmP+Zdv0eY71Jmm/1dvxNMxKIEfZ07KknqkCfjqT1FHXqb2I/l3wNJwH2l6kD2ZCDbNgo3VZ6ZlbtH8qE8xEvFeCC0rRSGssaUs/fbrmD03N+EKexdhH664Jx4yUwPl1/8MEWeerpCjhY5lIgnzI+SK7+aYCnqNfTRi69UtbVh+qfvnvXa29e/TZ6L6IgQicOCqaRE5EhLDpV5s6Lk+AXwlI4NgYeFyNPPVkg1HLZ1bLt2NMrc6VEybnSEnH1yrLz3keNZc9lFcTI8xbHwZ8dOR9LsMOeqbm0rHAYJHZeneHqQmP6rwlD732KL8joHBpgPPqkVTeK95KwYmQ7vCBXPOnSbhnrR4zvvg0Pp6QsrrXOoiDH09H68nDO6YuhtHtD7ZPkHjkWSZj4JbXEsktBz4+2+9laPve2lL1fJT25MQUhFkV/cOEz+8VyFbNvuuLnGZIfLdVcnSmK8o41XX0NCetw7KuZ+9PUeaTMTesw/3b0Pq6paRI2i8zDXfPKJg4Xe9zu2NUrzhYiQANvnD7+ZJE/+3TUvjhsTLhcsiZWyihZ5+jnMiZ3OP67xmbF21GadLbeGnSn/dhHw35zhqjNY/qJBIljOFPtJAv1MwCRb1mY1mbVRzqiy3IRt0n26qtAuf0AM7AePz5ZhUKDruyZ51hUCuqpfRcMM9ES+KMGK+rFihY965ks5ltJIvQ+ueHNnW3UvHShpM0io50au0xjSVqCTP17dUywXIh54rC1UhSne3TGtRbttniVHHIYcrevTQy6DhMaCNoYK3ZcAo8S1E4bLN2CwKMDqyBisXNAcHiqvIWSGGl709TyMFhqaSo0Dt2I1bU/lc9SzHyEexiGkxC0IKVIBYwG++7SdpzU4r/udBoldMDrpKmENT/LgcdmdKnjs/fkO6tQY6hodysTx1nP25+09WDJqr5h/kwAJkEAfEFiDJNUdia6c/x1eD5023vJ0s5fTsIb2RNA/mJ7WzhixG3P+Q2vyrMPUwHzuhGFy2ehhbXOjvb4LoRz/o4fHhX2/P/5WLzx9TnuKGsvtnoW/XTSuneeg5zF98dkf7eqCgqfwbP92TqpPXdQk0vfjGffdFQescEhdeYF0VWlvfmA+jO9Sv12Q1bb4o7O29Pn6PXhUNuL5+glCaFECl4A9Jnjg9rJve2aU+Kow74yHXZHnrVxoq0vB6G3/smV1Mn1KlIwfFyFjofy/+xeOBUHqreCMqGoZC155rUrKETlOf6uomP6JenDYVgh3RuWUk2JEX56iBuj/LK2SNasb2ur/8MM6OW1xjKSnhclXL4mX85fEWYbqWBgvVHbvaZTNG5scK5TRByMaesUew93Fx72fnv3fvbNJ6qEQ1BXcV1waL5ejTfWY0JcRb+dCjRQ6/rb6UNizD3qcirfjHXv4f28J+HoN9radYD3erP7Xy7kzVm2XewfzTlfzyf69zfLBh7VyxukxMDyGyg//O9maPzwDN2zYWC+rbfd72/3TxXwyY1q4XP11GDUSHPParGlR8sCvh8u//1Mp6zY0dvs+zIXXV/aocJmGOfCJh0dYIaf272+Uhx4pl/eXI8n3WbGSnRUhv/r5cKmobJGY6FAsfnRcBRs31ffo3u+szWC9vtjvvidAg0TfM2YLJBCwBOqduQLqNZubh+gKfU1iOQaeDSZckyliwjap4mI/VtrbRY0A31+ZKzdMT0cSx+g2pbqWOQpF+zIkoFZptGI4O8IB2RXzuq/G2Z86W7800edLebFyMYwGZrWjKrrtUljtWgb0YgeKJVWs6+rCJu28TVTZ/xw8Dq6f6FBc1MHwYsTXMZnyG5wGCQ11tNkZ6kr3aZgiE7ZpHfJxGNHxLztUAY8FRwJO412hXXwfx//zC5cC/8UvCuUgQjWcgnAgoxDaQ70XtmIl7yyEWdKVu+U2g4+GGxGsgGiwcTRt6vvPPzso35+VKSdj5a+GC1HRNjWR9tPbXOEf9Fp4cOtRuRnnVBUfyt+UOxshPPRzR6E/1INDY+uqqBHmwc0FbqGmHHv4PwmQAAkEB4HcysZ2BgmdD0Mx16kkwcirBgpPWYFkxUb0eaNhmVYi4fPjJ40xm9vexyDUT1/LLfDg8CarnIZo3adhmjzDGOr2auuZVS67kRvpCJT+10EZPhd5k7oroXh2eBN/tqs5Gg6jj1dPHC7jcW66Ej2Nl8FY9MSGw21hCz2PUW8EX2STx4INX44xZdRL44crc+V6hKBcMNx7TglT1rxfhQUNNEgYGoH3rgrkCB8V3IHXe//1qBGxy1WaEBW0Mx6NzkTU+u6tXJMz8mcjlO3e9msbDz9QIUvOhbHgtGiJd65eVmOE/vwpKGiS55+rlv3IYRHhNEboMW39w0+KjurVciqNjoXHjg/6GcfU1LRINVYn793TJB99UCuFCPtkr18LP/L7CvnGtXEyZWqkxDiT76rxYv26ennu2Zq2dpux5ku3a3+b8Le9Hh23SktdSFt5/Wz6r33T/tfhZ9ezT1fKf30NiX5h9DAK1MOHmiQOTJKwilpzV5ix6nlRaYLjhm7rtA/Oc9RU794HRw1D8399qnl/snWfB+eMrpk14/pXaexiPtHrubNyvswnL/+nRvYirNzFMOylpiKUp+Ons1VvOUI4vbWsRlbAG8HtPjXzXRfzSQwWJhpjhKOnYn2OxoQV0dzU7ftw2St1kp0ZIWMQmk7nEMsIiy+rek+//lKtFB1tkfMuiLXufzWwGDl8uEm2bGrs0b3fWZumfr63J+DPOaN97YG/JaQVEvjd7LqHhYWFkp6eLueee6688cYbXR/AEiTQSwLFJY2y+EtbJHl6hKRf7prIe1ntoDs8BckWw/ALvwL5CFQJ01vRVagReKpG4l0TUtvl0mlpciW8BzTx47Xv7LLv8uvf/h6TvXO6ajUZIa/UIFIJZp7GGntZ87cy+fPpEy2jwj2II72uA2OMKe/5rscnxDiSaGsei45EyyXBQKWGFnv+Cs/yT56VYxmibkNi81yEzAjDN7ZGLEnzZSyedQXK552/bZCMkRGy/KUZgdIl9oME2hE477zzZNmyZXL06FFJS0trt3+wbHjr3WK5+We5knhWuIxc1H6Vf0/GqaHrZiFG/xu55ZJvMxjb61LPhkeRP8AzgbP9mZM1LE4eXphtP8z6+zl48C2FQdlTXjh3iucm2Qwj891QRndHfrdonExCXiC76KKCWz7cZ99k/f3T40fL8Qh/6E1+tjavLY/Ckkmp8i2nkd6UVS+3b36wzy3J9bfnZLblRjLllhfA2ILkz0bM89l81vcDMBT8+KP2/fNXu/o8jYanoclZpM/uKTDcayimyXgpL2+Ko23ldXLXigOiobd+PS/T3mXr7xthzPdMYu5ZKB2LBI6WuTxINeTXfQvaXxdfe2+31+9Geh2Z61DHMQlGiZykKMlJiJGZCBGmHoueooaxy9/c4bm5W5+bYDfb+0C9zF8YL888Pqlbxw7GwtOnT5cDBw5IdbVrEUl3x2l+L0zNiZPM+GHdPZzl/UQgHkq3xCQkisYj4+CB3v8e8Ue3omCMGDHCodjsjz6NHut4XtZUI1H3MVg5KH4n8OGmfITewmK+d6f3uG7OGT1G168H6v2kxsJjuJfqkUA7EEXnPZ3zNNSUt3te56DMUWEw6LT6bRxdtRmInAayT/6YM7T//vi+MhAc2i/hGohesE0SIIFBS8AoAvw1QFVq68s9urc+aEPlgqxkq5nXnV4Y/mrTsx5/j8lev3oj6KsjOW9yqpwxMhFhs6qlAPk6ohFi6jx4jaiHg3pEaALt7ory9GVMWq4zg4W3dh1GqMD44eetf9xGAiRAAkpAjRFnYW7V13YopN8/UiEH4NVVXNMo4TCqzoFC+TIYLTyNEXrsLngKGCms8m7UvXR0iqxGbog8m1ehKry9SWEHyZi9le1sW0pEuIxF/h6NRBiPvychV8KXMD5vY9B6NpTUthkj9POEePfcGLqtBAsLPJ9RGvqvK/HmRZcdG4EY65FuIaK0Hn+1e974FPkvLFJ4B15//0boJn3OrdKXs7NqYHoKxnwTUtCMwSzVykdZb3Incjj9Bh4U9nNpys1GTofrJjlyMdmNO3h8epXpafGyAWEZ7aIJ0e+ZP0q2IJfJP5DXRL0lNh0qx8tV6hcnjhFNcm0XXSxACWwC4Qi7QxkYAnVlrfAWcNwj4V5Nkf3fr2bYuQqqHZNDf/Tp8D7XRNQf7fU/0cHXIueMwD2nwXA/mTlPKXq753UOytvl+p3urUx3z0BXbXa3PpYf3ARokBjc55ejI4EhQ+DE0ckSD6OErhB8O7fjOODBDiQeyxw0jNaYMe4hPXTV6qM7Cr2utAz2MbP/JEACJNCfBKYi3KC+fJW3oCw2okbYw8i7ZELvme26ov0PJ2RbSv98eC5kIw+Qp0LZlN0MzzJ/iBqqNZeTL1Le2CIPbTzsVvRQrRpa4t22pSEc1R1Qhq+GkjwFf5+SHi+6rSs5bAupaMpquL+HELJqA/IUpUSGywys/P8+PBP82a6qf8/OTLReGjZwDQxCRTg/Gk4wBx4TnsYI7Vsh9qtoDooPj1bJaRijXdSgo+dyH7w0D1Q1IgRki4yFUWYcQm1pvd6kCIYtb/Jj5IJanZ4oLcjipKGZ/gQDRJHTIKXJtvX8abjLz5C/5Ai8JjUS40h4UU7xknA7F/2lBDaBzmKcB3bP2TsSIAFfCXh/Cvh6tHs5zhnuPPiJBAYjAX/OGcHGp+tfEME2IvaXBEhgSBIowQ94Tf6sP9hViTBY5b28cit+dyYUEnEwTlQhFFIelFurDle2C2E1UAxezStDstRwKfAIqTVQ/WG7JEACJNBXBHT1/XoPr7wnthfKL5GjwdsPDM210Fm+BV0Vv/JAaV9112u9R6CAv3NNfjvPh20l8BAY1/6Q2ViZr6/uyEEYA7yJKve/NDKhbVdUWJj4s922ivHHxIQo62Xf5vm3rp9+YR8y3DrlT5sOy2SE6RoZ3f4nk+ak8CUvhValicI194ZnouwoGDAWp8eZ5qz9nhkqNCfJRdlJbWU6+mOZzTDWURluH0ACuLjCEb+bQgIkMHgJqKOaPkf8Ipwz/IKRlZBAIBPw65wRyAPtoG/tv113UJCbSYAESCCQCWxDeA19DXbRkEmvd5LnIRDG/9qOY4HQDfaBBEiABPqUwEdYPf8U8vZ4ij6L/oLV8tcj/0IHC+Y9D7E+74XS/rerD3rd1xcba5pb5G0YVJ6HAUVD8nnK7qOVomM81cNDwLOcL5+LymvlXXDRkFhdiT/b7aot+371sLxvW4EUIoeHEeXyy7X5csuske1ydJgyvr4/trNQfjo9w9fi3Sr3LHKUfLyvpFvHsHD/EgiBidIkDu7fltkaCZBAfxFAhESvixF60j7njJ5Q4zEkEFwE/DlnBNfIHb2lQSIYzxr7TAIkQAIkQAIkQAIk4DcCL+0vtfLwnIyY/sOwar8jUaX1RuRa+OvOY25Jiz3Lv727SD47UimXTxxueQBoeKKOREMJ/XNviWw57Ar91FHZjrbXwrjQkehqTU28XdbQJKUIKVVS3ywrYGzwzF3g7fhH1+VLwfR0+SpyYHgaV0obm+VZKMFHI/zUBVnuK/hr4L3nKX/dUmDloLgI+Z68hUrSHAga/kjFH+2+n1chUUigcQpyMnSUN0PbUnZvHKqQN/aXePWw1IUAt3+6X2Yi9NNVE4ZboZk6Op8aPnF9ca18WlgpubhO7LIa4SQfwnVw9YRUGRHV/hrT81SPCywXIbv+vPsYDEGJSL7dcX4OvRZXIJTTizBGeMtnYW+bfw88gRCcr7CmjueBge8he0ACJBBIBDhnBNLZYF9IgAT6ggANEn1BlXUOCQKJCY7bp7FcfzyrbZNCAiQwGAk0VWFUDa0SncD7fDCeX46JBJSAror/h77wd0x0hKTBwyERholo5CYKhRK5ECF3NDRgeTdC0WnZJ5GX4cmNIglQ2g9HqL0RSOQcgzpLESapsAYGgpp6v+T++fWq3D47kf/ZdlRegYElE3kLtP91MG5o34+WuXJd/GPzkS7bV28DrUtfyQiflIwwSKqebUBihBrksNCk03bpbbta3z9hBNGXJrBOwHlNQZv6UvtNSV2jdR58Padb4E1yK14qej7T4iJkGOrU/pcjz0M5DD2VCBvpzdvEjEvDcelLk3mngiUuBRwvGH+zlOMaM8e+s7tY9BWOAvG4bpIRtknb0gTl2u+S2q7bMm3yfWAJmN8L5VVNEhZDg8TAng22TgJ9R6ChpVnUKB0b0d7g3J1WOWd0hxbLkkDwEvDXnBG8BDTZOoUESKBHBCIiQmTGjDjZurVammvD8SOjR9XwIBIggQAnULTZsdJ32lTe5AF+qtg9EvALgVoofHPx8qdobiN9HfBnpf1YlybrPoBE1v7qfxm8QvTVlfirXa2nWF9+iuxozufergbQwX4rpwQMEF2JGigMqwNdFeb+gCRg/73QmtWKxOdc3BCQJ4qdIoFeEthdoSuYRCZP6N3vBc4ZvTwRPJwEgoSAv+aMIBmu127SIOEVCzeSgG8E5s6MsQwSh5Y3yejzeDv5Ro2lSCC4CFR+4TBInDzXlXg1uEbA3pIACZAACZAACQwUAfN7YVNpqSxMSh2obrBdEiCBPiRwsLbaqn3GlN4ZJLQSzhl9eKJYNQkECAF/zhkBMqRud4Ma1G4j4wEk4CJw649HyyefVcqB1fVyOE4k8zTeUi46/IsEgptAM6KR5L3VJC15rTL11Fi5ZAmVCMF9Rtn7wUIgPj7CGkpTlUbdp5AACfiLQEO1454KZ2ghfyG16tHfC6tWV8mOvaUSGxIqc+OH+7V+VkYCJDBwBDT30crKY3KsvlYWjE+Wb3wrrded4ZzRa4SsgAQClkA9wrt9Vlnk1zkjYAfbRceoPe0CEHeTQGcENEflL36aLbfcdkDKP2iSnStbJHpGqEQOY4zYzrhxHwkEMoHa3FYJjUZc79wWaS1HLNixYfLYHRMCucvsGwkMKQKzZ8Q6xtt12oIhxYWDJYHeEqg+4kgqPnNa71f49rYvg+l4/b1w64+z5Ce35cr6smLZUlMmEyITJSnMYVwdTGPlWEhgqBA43FgjUSFhsq++QvCLQTKiYuWXd2ZJeFTvCXDO6D1D1kACgUbAzBmHm2qkprlRMqL9N2cE2lh97c+gMUgkJSVZYy6FKyyFBPqTwEknJMrrL0yVX91/UN57p1zq1jWLe1rG/uwN2yIBEvAXgRA8IU+8NFH+fPsECdNfBhQSCHACFRXOhLsJgzu8WEJCuEzOiZadu+ukYn+oJI5jTPYAvzTZvSAhULHRYZBYOCMxSHocPN3U3wuvvjBF7nkgT5a9XSY76vibNXjOHntKAh0T0F8IX56RKvf9MVui4vz3e4FzRsfMuYcEgplAKPQK58waIb97LMuvc0YwMglphQRjx731OT09XaKiouTgwYPednMbCfQ5gdq6Ftmxq0Z25tdK8+C5tfqcGxsggUAjMGlcjBw3bXArdQONOfvTewI5OTlSVFQkQ2FxxvsflsoNN++X0MwQGX91pIQ5nSZ6T5E1kMDQJLDvuSZp3NEsY06Iljf/OG1oQvAY9fTp0+XAgQNSXe2IDe+xu8cfze+F/P310th1bvMet8MDSYAE+pbA2NHRMvf4OOnrdUucM/r2PLJ2EugvAuPHxMic4/3/o6Wvvq/0NZdBZZCYP3++bNiwQVoQx49CAiRAAiRAAiRAAkOJQHx8vGRnZ8v27duHxLDvvPuAvPByiUhCiMQgXOLIk8MlgnbEIXHuOUg/EcCytOKtLVK+uUUadzVLRHyo/PvZyTI5iyGblHCw/sD309XBakiABEiABEiABIKAQLB+Xxk0IZv0GsnKypL169dLfn6+9XcQXDfsIgmQAAmQAAmQAAn0mkBhYaG1ijcjI6PXdQVLBXffOVbiU8Pl738plNpVzbIPL8E325AU/4VMCBYW7CcJ9IRAazEsEs51XKPmRMlPbhpFY0RPQPIYEiABEiABEiABEiCBbhEYVAaJefPmyauvvirvv/++XHPNNd0CwcIkQAIkQAIkQAIkEKwEVq5caXV9zpw5wTqEHvX7p9/LkvNPHyZPv1YoG7bUyOE99dLqSKXRo/p4EAkMJQIx6WGSNSlK5s2OkzuvzR5KQ+dYSYAESIAESIAESIAEBpDAoDJILFmyRH75y1/Km2++SYPEAF5UbJoESIAESIAESKB/Cbz11ltWg/pdaKjJtKmxcu/UsUNt2BwvCZAACZAACZAACZAACZAACQQlgUGVQ0LPgIZtqqqqkrKysqA8Iew0CZAACZAACZAACXSXwNixY6W4uFgqKyu7eyjLkwAJkAAJeCEQrDGZvQyFm0iABEiABEiABAYpgWD9vhI62M7HOeecI+Xl5fLSSy8NtqFxPCRAAiRAAiRAAiTQjoCGqszNzZWh6B3RDgY3kAAJkAAJkAAJkAAJkAAJkAAJBDSBQWeQuPrqqy3g9957b0CDZ+dIgARIgARIgARIwB8EzHce5s/yB03WQQIkQAIkQAIkQAIkQAIkQAIk0JcEBp1B4pRTTpErr7xSVq9eLX/729/6kh3rJgESIAESIAESIIEBJbB06VJ577335LzzzpPzzz9/QPvCxkmABEiABEiABEiABEiABEiABEigKwKDziChA7711lutcd9zzz1djZ/7SYAESIAESIAESCBoCRjvCPPdJ2gHwo6TAAmQAAmQAAmQAAmQAAmQAAkMCQKD0iAxa9Ys+e53vyu7d++W66+/fkicSA6SBEiABEiABEhgaBH4wQ9+IGvXrpWrrrpKFi1aNLQGz9GSAAmQAAmQAAmQAAmQAAmQAAkEJYFBaZDQM/H444/LySefLE899ZQ88MADQXly2GkSIAESIAESIAES8Ebg4Ycflscee0zmzp0rf/nLX7wV4TYSIAESIAESIAESIAESIAESIAESCDgCg9YgoaQ1h8Tw4cPlpz/9qdx1110BB58dIgESIAESIAESIIHuEtDvND/60Y8kMTFRnn76aYmOju5uFSxPAiRAAiRAAiRAAiRAAiRAAiRAAgNCYFAbJHJyctoSW999993y0EMPDQhkNkoCJEACJEACJEAC/iDwyCOPiH6nUVFjxIwZM/xRLesgARIgARIgARIgARIgARIgARIggX4hMKgNEkrwggsukJdfflmSk5Pllltuke985zv9ApaNkAAJkAAJkAAJkIA/Cdxwww1y0003SXx8vLz44oty0UUX+bN61kUCJEACJEACJEACJEACJEACJEACfU5g0BsklKD+YF+1apUsXLhQnnzySZk5c6Y8++yzfQ6XDZAACZAACZAACZBAbwksXbpUjjvuOPnf//1fK2fEypUr5ZJLLulttTyeBEiABEiABEiABEiABEiABEiABPqdwJAwSCjVKVOmWEaJ6667TrZu3SpXXXWVLF68WJYtW9bv0NkgCZAACZAACZAACXRF4P3335ezzjpLLrvsMlm7dq313WXFihXWwoqujuV+EiABEiABEiABEiABEiABEiABEghEAiGtkEDsWF/2SX/U33PPPVa4A20nMzNTlixZYr1OPvlk63Nfts+6SYAESIAESIAESMCTQFFRkXz66afy1ltvWa/c3FyryHnnnSe33nqrLFq0yPMQfiYBEiABEugjAtOnT5cDBw5IdXV1H7XAakmABEiABEiABEigdwSC9fvKkDRImFP93nvvyVNPPWX96C8tLTWbJSkpSbKysqzX8OHD27bzDxIgARIgARIgARLwJwH9/pGfn2+97N9FNE+ELpa45ppr5Pzzz/dnk6yLBEiABEjABwJ99QN/7YZK2bK1SvLyG3zoBYuQAAkEKoHJk2Jk5rR4mTY1tk+7yDmjT/GychLoNwJTJsfKrBlxMmWSf+eMvvq+0tdghrRBwg53+fLllmFizZo1bYqBuro6exH+TQIkQAIkQAIkQAJ+JxAZGWktgsjOzrZyRKgh4uyzz/Z7O6yQBEiABEjAdwL+/oG/dn2l3PP7fNm+vdb3TrAkCZBAwBM487Qk+fnPsiUjPdKvfeWc4VecrIwEAobAkrOS5dYfZ0vaiAi/9Mnf31f80ikfKqFBohNIx44dE/tqxU6KchcJkAAJkAAJkAAJdJuAemWmp6d3+zgeQAIkQAIk0LcE/PkD/6XXiuTndx20OjwsK0KiFoZK6LAhFzm5b08YayeBfiRQe7RVmhtapW5fq9TvbJbEpHD5v7/kyMQJMX7pBecMv2BkJSQQMASsOaMec8ZuzBl7/Ttn+PP7Sn8Co0GiP2mzLRIgARIgARIgARIgARIgARIggYAn4K8f+AVHG+Ti/9ohFRVNMv4bMRIxoSXgx84OkgAJ+E5g/7+apGF7s8xaECf/+vNk3w/soCTnjA7AcDMJDBIC+55rksYd/psz/PVvikxCAABAAElEQVR9pb/xhvZ3g2yPBEiABEiABEiABEiABEiABEiABIYCgUf/eMgyRsy4NJ7GiKFwwjnGIUdg3BXhEjEtTDavrZZnXizs9fg5Z/QaISsggYAmMP5K/84ZAT3YTjpHg0QncLiLBEiABEiABEiABEiABEiABEiABHpKYPOWWgmPCJHGWY09rYLHkQAJBDiB1BPCrB5+vL6i1z3lnNFrhKyABAKegD/njIAfbAcdpEGiAzDcTAIkQAIkQAIkQAIkQAIkQAIkQAI9JVBW3iR799dJZk5UT6vgcSRAAkFAIGFUiNXLPb1MWs85IwhONrtIAn4g4K85ww9dGbAqaJAYMPRsmARIgARIgARIgARIgARIgARIYLASaG52JK4OpT1isJ5ijosELAIhEXiLDJEaJLrujXDO6A09HksCwUPAX3NG8Iy4fU9pkGjPhFtIgARIgARIgARIgARIgARIgARIwC8EWnuno/RLH1gJCZBA3xMIdThK9Lohzhm9RsgKSCAoCPhrzgiKwXp0kgYJDyD8SAIkQAIkQAIkQAIkQAIkQAIkQAIkQAIkQAIkQAIkQAIk4H8CNEj4nylrJAESIAESIAESIAESIAESIAESIAESIAESIAESIAESIAES8CBAg4QHEH4kARIgARIgARIgARIgARIgARIgARIgARIgARIgARIgARLwP4Fw/1fJGkmABEiABEiABEiABEiABEiABEiABAKdwJUzMiTSxyDWqwurZXtBhd+GlBAXKd+ami4tqPGPmw9LQ0Nzj+qemZko01JiZEJ8tAyPCZOSumY5UtsoK45Wys6Cyh7VOdQOSoqPkhYkLqisbnAbur/OkVul/NBjAnGxkXLZxOE+H//K/hIpq6z3uXxfF+zoOjPt6vV2ztgUGRcXJSNiwqW2qUWKcD/n19bL6qPVkldcbYr22XtMdIRERYR65fbduaMkOixUXjxQIrlFfd8XfwwyOSFK6htbpLau0a06X66lQhzz5q4it+N8+dBRm74c688ynZ3Ls3NSZVpSjKwtqZZP9pX4s1nW5SMBGiR8BMViJEACJEACJEACJEACJEACJEACJDCYCFw6Otnn4TRBYe1Pg0QyFH8np8VZ7T8dFdFtg4QqL384c6TMHRbjNoYxsSJzJUbOHZUopY3N8t0P9koTFJsU7wRUMfnXU8ZZO7/23m6389Dbc+S9RW7tKYG0uAi5ICvJ58PXQ2keKAaJzq4zHZAaFn8xe6SEhXhkBreGGydXjh0mf959TN7ZXezz+HtS8P6TxsjI6HC5a8Nh2XbE3QB75sgEq8o1MIwEg0FiXlay3D4rQ/ZX1ctPPt7vhsOXa6mgrqnbBonO2nTrQD986OxcHpcaJ3NgyNbn2idCg0Q/nI52TdAg0Q4JN5AACZAACZAACZAACZAACZAACZDA4Cfwp13H3DwkZibHynGp0OhDntrjvjJ2S3GtX4EUYTX+0oNl0opaK2vdV+b70tDdx2VJNpTpKmuLa+QDeENU1DdLVkKEnDQiQWYmR0tKRJhEhIfRIOELUC9lenuOvFTJTb0gUFDZ0O6+PGtUkmTHRMjR+iZ5I6/MrfZ9ZXVunwP1Q2RkmPxoeoZljCiGp9TH8G76orRWosNDZTxW+J+ZkSiJ8FoI9TRW9MGAPMwhbi08C8+I6NBQ2YW+BYOEOIP0h3TB7R/7iqW5RWdidynpgdear226t9Q3nzo7l+8erpB98B7aFiTnsm8IDWytNEgMLH+2TgIkQAIkQAIkQAIkQAIkQAIkQAIDQuC9Pe6rjQuwolYNEhUI8bHMS6iO4YnRMntEnGTDO6GsoUn2lEOhY1tFrPuzoEBU3daWw+VuY1Kl49QR8da2bVA4agiRrSW1Vqggbx4M00cmytjESImDQaEAIZh2oGxhmUMRuGRSapsx4q8wnNjDimwvEHkXq6h1pe41CMvR2OQKBaUhPOZkxMs4hChqxspYVUhtgGLK3r6WmTQ8Voprm6S4psEqr0rRuuYWUaPMLvTdyGwog1V0PPY6dFtKQrSMToySIvT9UEmNbrIkHUafmakxMgrGlAp4cOyrqJdNh9xZzcxMkiZAVI8U5ZYN40pseLgcKK+1wiqFQ1E7GyvKs2IjJAZ8isByb3md7D/mCiOTPTxOxiZFyTAcHw/DjPY/D0ag9Yfcx3tipmPVt3buBKy+V6OOyh4o6qox/o7OUVfXgtbRHZZaXmVSeoKMt/odLqW4xvKrGmV7YXu+jtJD63+9Zzzvy4yYSMkeFSE7YHyw75sA76OJWAG+C9eRPVyPXrMNze7eTua+PYhrsbTSZcTw5Vo1Z0DPW04yQi3B2+ko+vkF7le7F0Fn19niLIfBQeu6eWWudd2Zelfhj+e3F8o5CFW123n/m3363lW7WsZ+P+n4J+N+ikCoOr3/Vx0o1SKWaF0puF9UFmCeC3eGsyuobpSjZTWyHvdXUmS4lMDjwMg4lEvENp0DxuGemwGPrVjcn2pQ2QIjqc4LackxMgvzahbueQ2DtPJIpVfPFfX6moH6dL7BKZJctLMmv9xtbjHn6gDud+3fXJxnrbcIBqnPCqqkCHOEinqkzBvmMC4PjwoXM1fpPs/55rUdx3RzhzIWfdJxV+B+tM8xeoCZ53S+0j511qZ9PshHqCQd72g8M1R2HquSeBjWJqPPqdFhkhQRLvUtGrKrSdZiXDoXeZOOnhNdnUud3+pwbrTPnqKsJmIOig0LkwPV9bIZ4QrLbedcy9vPexbusxnot3I+hH5+DEN7T0MQevZlMH+mQWIwn12OjQRIgARIgARIgARIgARIgARIgAT8QOC8yalyzfhUrFJ2r2zb+GFy77pDltJzXnqc/HfOCKvAv6CcfOGLwrbCP5mXZYVXqoOm7ftQAmnOgrvmjLT2XwFllFHoj0yJldvmZkomwqZ4yn9yS+X5bUflouwUa9duKBTtxgh7+fX5ZaIvI6qguh0hYeKhLLTLMfT3NxsOtRkN1GBxy7R0q0gtlPgxiBlv5MqxIs9hlfRSjEsVfhpiRnH8z44w+dgjDvn3Z6RbIUHWFNXIfasPWlVcNTNDLsluHyZr57hhctdnuRYDjb9uuLyeH4fQU0ltzP++txix9Kvk3uOyrRXjpl/mfTXaut/Z1h9OyDab3d6rJ6fJzZ8dlOKKOskaFif/b5LjfGmhG6ektZV9cneRrISxxvTFfo58uRa0Il9Zalk1svz2xDEyAeP3lMaWDLnyrZ2em/m5EwJ3zBllXet/hBfU+07Doypa78A1q/LNj+racoZcM3kEvIriZBmMVU9tOmzt9+Va1YKqZL4F96uGv/EUU19X11mYbU5pgWLbU3Ru8FSa+9Ku1mO/n8oa0yUZxjm7bFcmKw5Ym34zb1TbvaahsUx4LPXAuvfzg3Lr7ExJhcHijvUug87tczItTywRB1dTt97nuxBmSsMlnQ3joV2uGj9cfrAi1834cyJyZ3wf92a0HQYOKp6YKneszW8zxl6Bz6djjlJRVPb5+GrMxXesP2wZTdXIY9pNwL1lzrsedyOMpN2Ry8cNl+OdnnO3Y643Rlk1lt6HeUaNnrlQxKvXQWdtqoFW59ZyGLx34hlg6tS+3LI6T66GAdnbddQCLg9sK5A1UPQb6eo5cenolDY23s7lZROGyVkweptnitarOU7umD9KxsJQYpfGSa2Y4wvdjFcdnXc97krw+iGuqY6MKPa6h/LfrifrUKbAsZMACZAACZAACZAACZAACZAACZAACXglMDEtXr45wWGMUCPAX9QrAcpLVR1OT4qWb013KPDVM0GV4ipXQBmXAyOAiiqwTa6HB7YWtFttahXCf6qUvnvBKMsY0QBt22tYHfxvGCF2YeW2ShKUiVpmRJRDqfjSQdfqZqtAB/+p4uxOKA7VGKF5JZ5GiBI1LKjBQev6ORSq3kSNEduhOHsbijYTvuTyMSmW14Iqm9ZBUaliFJemDl35axRryzAGlS9hhbcxRuwBw38i4bAqOlWpOBmKuq/ajAGmnvOhFFWFYw36qX1VL4ebYdTQ8DWVUNK+AAWdhltZdazGOhdRNmWmeoAcRB9fQhgfPV/KUpnGgcF3nedLPUA+goHDyPtYuf0qyulLV7h7E1+vBc9jO2OpZb8CpbgaI/SaUt4aMuwdvKsBS1ezU7pHYJPz/M2CR46RxRk2bxhnPgTdNx0r+FU2lTqu5+5cqz+YNdK61vU61ntfwxrtc64m1zwuuoK9q+vsYKVLQa5x/0+Ccl6Vw52JL+16Hq/GiEPwfHoXXl17cQ+qTMX8pX1U+Q/mEx2Hyjbc9+Ze+NDmFeXY6/1/nVs+wGp+PVZlEu5rVdBrngJl8yHuNa0/CtfzCSMdRgUtp8r1m6GoV2NEEcIk6X2tfdRrfzjmLr3nvUkL7hat9z3ct3q/a/6Nb2OuVdmO878TRkcVbd+MRd+Peaz2Px/33jnwOvN8HT/GYTx9eOMhq19a120waKkxVkWNzGqM0Pnp7rWHfG4zCfOXMUaUgZn2r66pVeAQYc3Pet//bW+RNUcrD739lY8RX54TPTmXP8bY1BihLF/EOdA+5MN4o/PPj6ami3qneBP1KNR51Dz7dHwXwjhE6ZxA+yUHnZcfNHuLi4tl3bp11is/P3/QjIsDIQESIAESIAESGLwE5s2bJ/Pnz5c5c+YE9CA3b94s+v1KX3l5eVJSwmRxAX3C2DkSGGACycnJkp2dLVlZWdYr0Oe4AcY1IM1/AytXVdQYcdsn+9v6oKt/vwdl1qnp8fIMlMmaQFeVV39YPE7SEb7iNigrH98ZZnlW6EH/grLSM1xIW2X4Y8mE4dZqY1Xa3YRV/CZE07+xT1d3q2JqmE1RedimyLTX4/n3uVgNq8q+elR80wpXSJhPDlfKY1CApqGvqgRdaQvfokqmuzGWA84wSC9CGfXEorGW0m8k/tZwNK9BabUA4Z00BJSGZTH9PXO0I5STKttM6KprYdBRUQPBP7cgrpRTrpiRIZchufhpUBY/B2ONXTYjRM3j2wrbwrDovu84PVBeySuVl7e7Qq1o6JQM28req97d3eZ1YupUJexNU9MsA4hu01A+TyEcjp4/lb9iFbI91IgaVjylO9eCOdYXlpOdyj41AD258bA5VP4Ohed8jxXmbTv5R4cE1iIkjiaNn2HzXFiIRL5GTsf1piHbVPGvClSVLxCaRsXXa1U9H05wrpz/NTwrtkCRrPIiXvcjUfp41H0K2tGwbp1dZ3kovxf3qBqkNKG0UT6rQl7nnHcQ/s0eWqk77Wp/jDyKVe4f2TyZ/vylHEuhrqHhth2BQQLeV6fCiJqBPvwb5ezh6EwdHb2rEe1vuH+Np9cfThtvhZXLg9HvV/AqMMnFC6alWcbaE1Lj5S1nWLzrMIeqyc0z+fTHyJ3x63mZMhFc9DzZwwapkfY+3Cdm23YowG+AUXNMnMOQo/PTiwcj5DbML/k1jfL0ZgywA7kW86430aTWq3Md4Yd+vf6QPARvCPW2+NncTBhjqy0js9pvfrPxiNUP7Ysvbeoxr8Mw8m+M3x5O7P51eW38TH/ezyuXv+B5okaB1KQYay705TmxAfV351xqCCY1TqncjfGYc//23hJ59NQJluFavVMeW++uP1bjyVO2837jgmxZjPvOm6eXGRPfHQSGnEHinXfekRtvvFF27NjBa4AESIAESIAESIAEgpJAVFSUXHvttfLII4+I/j3QUlSElbJvvinLli2z3svL3WNhD3T/2D4JkEBwEYiLi5Nzzjmn7TVypHsojOAazeDorSoWVZbCW8EuyxFC6DooaVTZnw2FuCrdVKF997rD8siJjrBCt0IhprK+uNYthJO9HvP3JKdS+uPCqjblvtlnDBljbEpV9RjwRcbHOxRNHyKmuz2MhhoQNmIlsXpvjIPSb6WtsiNYGWuMEbpZQxxVwytBPQw0J4OKKq1K4G2gq4TPgVHhH84Y9+eMcqwsXubMDaEra00oltTICLkUSkkjmnxbRVdC68pfu/wOYUyMgtNsP4QE4JrM+8IsDUkSIuuhRM5Huxr73x7/X8ufCa+M+VAaj4yLsOqPdYafsoehMvX6+t6da8HU6QvLXOS3mA3luXqLfBveLB/jXB1EXgRVWNqV0aZOvndOYIsa0qaoV1GoFbZoJBTVeg1q8ms1wKkBSFe6T8S1r5KH611Zd+danYCwbEam4txNcl7Lum0k8gGoZHkxalk7PP77+apcuQir9M9C/hQNi6Si/dX7Q1+HEAbn7nX51n3Y03ZXwIBol224vlR5nIz8CL2VD+GlYL9Xd8CwpvfpFuQqMMYIbWN7KbwWxgoMB5FtTebgmlfRXBT2uSHaFi5uBPLFGOODll0Hg5P981anZ5oabdUjzG5Y1PKdicPbTc0E7qK5e4xoHpzHdx6zjB7ToLjXl8rf4UVgQjiZsl2974Yx5R9eDCTKby68wk5KS5Cx8REyDPlI1ABiJA7XchE++PKcMMf4+j7eOZ4jMMIYY4Qeq316Fcbf6/GcGw/Dlad84HHeN+K8OK4pxzXsWZ6fXQR6f9e56gr4v2699Va57777rH6ecsop1gpDXWWYk5MT8H1nB0mABEiABEiABIY2gbq6Osuzc+3atbJ06VJ54okn5IMPPrCMEkuWLBkQOLm5uXLPPfdYfTEdGDVqlFxyySXWKmez4jk11bEq1JThOwmQAAnYCaj3uvGq0vfly5fLCy+8YL20nBpg9bfc5MmT7Yfx734ioMoto0wvQIJhT9EwQLo/1rnKWvdrAti/IAeByU+gHg8PbnBfWepZj34eBcW5yv4qR6gR64PHf4VVruSmI6HUM0lcPYq5fcyEMk9FVyt7iiaWVvHMLeFZTj9XwQCiBgm7LDtUJl+HsvRLCIGjSjYNU6XGBVXvvYvVxSp2z4XFyLOBlLPWds//QlWb2IUsRZ0/xEpoDdv0tbHDrJfyfQsrdZ8HczW46Grqu5FnYlSMS+XTXt3YRUNedvfkWvBSjbXJk+VbUBbrqn1VQGqYGxOLfiMUun+DItSeGLyjOrndRUCV4MUwDuq1OBVePDOdYZlegBfQYnjEzMLnhUhorsnVVdZiRb1Kd65Vc6wep6HMvEl0eNfXtB6nil/NzaIv9czJgoFTk2SrgUK9JvRaPh9eTHqP+avdGlvCe29978029e7wJnXNjvkGtkRL9J4yc4+eqytxT3sTTV7fmTT4aJz1VsdfnXlDvO2zb1PvkkUwFpjwe+q98sZONRF0T7yTQQio40e3edyYGj3z+Oh2X54T5nhf3zOcBrQjSGDuKVW4NlXiujgHWqbGWVb/pnROwPV06rxc0O9duHChfP755zJu3Djrh/sFF1wQ9GPiAEiABEiABEiABIYWAV1QofLPf/5TbrnlFnnooYesFcT/8z//IzfccEO/wVAPCDVEmIUeqiS8/PLLrb6ceOKJ/dYPNkQCJDB4CajxVb2uXnzxRfn73/9uvW666Sa57bbbJC3Ntbp88BIInJHZk8x608doGCSVSBgl7DIV4TWMqJ49Z3ic28pTs8/+Xo844iqRoe5Kf3sZXcWtyj41gsxHuBgTEslexvPveqdyMNKLwr9BA5dDOmvTsz775/cPlstVMEio18ECeEmcPMIRp38tVixXYtW/ihptjGhS2EZnm2abvmsRXdUci9XrncmnyD2xHbknLh43TKanRFursHVYGq8/AwmGf/d5rpw/LsVS4DaiUo3p/wnyfaiCWkOe/OnkMZ1V3+m+nl4LnVbq3KneKt9evkfOhVeHhrOZkBAp4dDaai6O+2Bc+frbO32phmVsBNbByPBlGHfmwUvGxOxfrSu6ESNfDRKnwXhmjI0bnSvsu3Ot1juvY81ncjcSw3uTinqHAt7bvo626X2zXV8FIq/uOCa3njDaCo12PMLq/AMH9VW79v54mSrsu7v823XHuxe1TQXWDvs9pXlt1jtDxLkfBWMqDHOdiWe99rLG+GHf1pO/1YMrw2nc1eMzocRX45GZ5+x1drdNzeNhwn8tRx6OpTB+FMMwrYaqZ86eZM2vpn5fnhOmrL77ci6Nt53nc0yPr3caeyJ9GFRH513robgT6PxJ5142aD/paho1RkyaNMlaWRgf70oeE7SDYsdJgARIgARIgASGNIHf//73csYZZ8hXvvIVKxzl6aefLjNmzOhzJh999JFcffXVVm6I9PR0Szmo4TApJEACJOBPAgsWLBB93XnnnfKnP/3JMoI+/PDD8swzz1gvDelE6R8CqhDShM4almgmVlrbwxipMkpX9aocsXkuaFJck5fA9PLWWRnyAyjF7WFGzD7zfhBKSE0EexyMFy+ZjV7eNdTK/OExUMInyevwGPDmJaHKs9OhmP//7J0HfFRl9vdPeoUkdEKv0qUoICoKiqhYVgXF7uoqiLr2wrrrWhG7vtY/9nUta1dULGAXBEWUJr33moT0+p7fndzJnZuZZCZzJ8wkv/P5TOaWp36fO89MnvOccxBoe6v6UIcroIHNkuVjW3l9KoP+blNXSHURLMb9oou5WPC9UONEtEl08fjY4h5mhyWILALPrvKx6Ohv/XAfZe5qTlIlxHkISqsKiQHNXG5UzIDa32ug1Zm6oOuvxKnGqSZXL3V5FvytG+lQPhagPxZXm49Wv/jXqjUIFs3hqgt+8Sn+E1iobnagkBjVxrUGhvgcsKD5VWOnVChX02c+FlFXa0wASCDP6mZ99iFx+kzvOFDsEQ/AuOHjj/0566Zuk2Kion26/lmt7sgQq8VUKNa1Xh/N8Xo53mYJ5TWRAxfxzO9WpU3LhBiNkxAt64OcG7w1KaEGBa+39L6u/X1QO8NaxbwPa7HbB7eT2yxxhcx7gdY5QMcXAqueZ2xxGswyzXd/vyfM9P6M5Tb9joAgXge+OzAupvSr/I6A6zmKcwR8bztwro6DWhJiRmD3HiwjEMSayoiDOhysnARIgARIgARIwEEC48aNMyw/K3SnW30oBV599VU59thjDWXEMcccI3DZVB/1OoiMRZEACUQggcmTJxvzDZQQcO908skny7PPPhuBPYncJiOAKWR8xwxpXbk4g0WbyX3bGLtPYbGwqTJ+AhaOzcDLCOD8N12swn1YEPxzcGaNEH7fn2/ch1Li9F4t3Wmh+LhqcHu5sL8rnshzy3dKmX73YefrIxpo9XC1TDAFLlAGt0+Xp4/tJpM0ADQW7M32Y1f4Eer2xZRTtQ7TrZGvnclm2preEdwagrKgcMCi2p87XAF+cR1Kiy2Vi1nX92stnS1xMODHf7zGlLhfA7fWJmD+8gk95RRVQOAYAouR3UWuhTJYFKD/lYYm0ik13jhHurYZyXLLoa54Hjg3xRpTAy58IGbZZhrru8nSn2fBmq+247uO7CyTNFguxtqU9VlF5qE7bof7Ag9qJWAGqTYTfrvzgHGIZ2ZJ5ecVFxDs3FREBfKs/qmKOFhbQGE0dUg7j7GDNQ4C/J7f3/XM1fScHa3Bm6dp/n8e0Uk6qxWE+fzhWRiun9czOrg+sysrn4dA6jX77u97dnGpkXSkuiYyxWyPee70+y+VirYzO6TLUWr5ZArqHaH9f/q47sY8Zl739z1LxxmCIN2tKl12YX6wC+YgzJP2l7XfJ2l8jxE6NpC7NJj2tMVqvqKCBfzLDq2a1/2t08hs+YPnCIKYJxnqrguC8b9C48nYY974+z0RyFjC6gxWJniW/1oZ9whtgLJsbOW8+Gvl9yCuU4In0OAtJMx/khH0kcqI4B8YlkACJEACJEACJBBeBLBQh1gSb7/9tjz55JMhc9105513yl133WV0Hu5TLr744vACwdaQAAk0eAJw4fTOO+8YVlpTpkyR9evXy4MPPtjg+x0OHfyv+gk/Rt27YEfsk0d0FPjUhjLA9H3+n3V7jAVNLGj9SxeVcW+NLnK+vsS1aPXYnztlqi7ydNHYBpN1l+1zi7y7d/lZ/duvUmUCFBIXdm0u49UvfXZJubGgBg5fapwECII3P6/xEqD4QJtu1bLLVTkCVy72xSukn6/BuNd3Sjfqv7FPa8nRfFj+wuIXBBYOwexMhvJhb3Frt7XIJ1s8g+eijseUxcNDOxiWJnjfr7EroiXK3QYoMfwRxFi4pFtzuUj57NAAxUm6gJZRGWR75pZsYxwW6AJnD10oxGLhG8f3MJQ3UJT4EixId9O0V/Zsabyg7HlhzR75WXfS28XfZ8Ger7bzRH1oxqjbFrz2KItSXR3EQipkvVqYWAPN1lYW77sIQPGAuCkIrgyxjuc3GjQcCjqIfaHV32cVyov/VAa2R5DjF0d21bErlaZqaWO6gpqtLqJM8fWcmfdh2TNQ3XNBTLds5r18dZvzvM4jkEDrNcvw532xukZCwO8jdSH6yJN7qXu1Clmkge8fXLDJn+x1SvNf7dcIBNfWz/F1vVvJFbr4n69KXDO4NwrFLv+anTZVr3qzWpKh/XH62cK8Ha1zAGaBa+Z59uXVY7tWz6xXthaUyrXfrDEW5f+q1l8QKJmXVM7Ds9SqAZZZeC3LLhDM3/7WaRRm+fPrrlw5R+d7KFWfP7qzoejCsTfx93sikLGESzvMn6d3SDPi1wxvmer+jkMrsnS+nqnfORTnCLi+fZ0rL6xKwu6ZFStWCPwtM2ZEWA0NG0MCJEACJEACJOAggZtvvtkoDdagoRAE0IYyAkGqv/32WyojQgGZZZIACfhFYMKECfLjjz9Kr1695KGHHpKHH37Yr3xM5B8B01d2YaVveDMXdjdfM3ejbNAFSCgbEFAZygjEj3hqxS75Ut0iQc7WhTQsqmEx8f5F28zsslAtCExlAoI/w8qiVNNodmOx3J1QD+74eaOxMIQds1AumIvSqPsndUFkyuw1e+XqeRt1p7f6Gde0aJepjMA5lAz/1jZgURZy+8+b5KddLksPtB/KCNT/mcZXeMTiIsT0T276FDfrw7t5zeRkvfdppRICZX6tcSXsAndDVylDuM2BMgRKBFMhslMVCx9v3m9kKVEuuI8+WN2G4CbO0V7wRX8zdcEe5aDOr7bnyOtqOQL54M9d8sNOV19xDmUE8pj9N+N+4B7k0SU7ZUeha2c4ykJ6rd7rGPn7LKDcQFii/XBdA8FCrDnui3Un/7RF243r/FOdgBlPwdszidS/6s5vyMqcIsNdk3Gifwy3TZUni2yusPx9VpH9s1V75J4/tgueYTyTrTQGiqmMWKV1/lRplYG0vp6zj9bvl3d1jrAq5cwyoBz7Vj/31/y00cPdm7/11vR5gpIDYn6ucfyBLjr/URmvAZ8FLObrmyFmOjMwNS7icwWxB5VGMGZIQeV940T/6Lq2IeZ9nMA65ZofNghiJ+Bzn6zznqmMQBu/UAVAXuU8ZuYz4+K4StNyNUA32gteZlwKlPuozgmu+cKljEB6pDPbYeb39l5a4erD1ZWWcFYlM9LDbdwm/W6AXKVWW5Ca6qxpPoBCGEpQtB8CZQTa+Z1lzi80Tb/0vj/fEzWPpase8/ODOl9bsl1eW7fXaAPmZih/9ZFWZUuhXK9zt3U+9jXuRZWunuzjg/IpngSi1MTfNQqe1xvEGdw1jR07Vq6//noj6GOD6BQ7QQIkQAIkQAIkQAI2Avg5FxcXJ71795YlS5bY7gZ3+sUXX8iJJ55olI9FwKFDhwZXIHOTAAmQgAMEli9fLkcddZTs368LWe++K2eddZYDpVYV0bdvX9mwYYPk5VUt6lbd9e9o774SOfr4JdJpYKIkntFw/u2GFUSiLoJDYKkQSoHLDmPxTBfbsNBVkyBtU10MzdOVNux29SVwQ9IkKd5YPEUshoMlcEsSo4udORq7ora+eWsjxiFdg8oW6gLYAS3Dulhmpocrlnhd3EQ93uJsmOnMd6THYmaZKqT8aVMongW4lElHO/QjU1c2Zn/q833lfcWS1ipG5n08oM7Vhuuc4e+zis9WM7WCghLA1zMJODU9Z+bnM1kXhHNUyQFriNrE33prK8d6H89hjMZeiNbPjtXdlDVNqI4xlyXHxUqOKiFMhWqwdeGzGqvWVAXK1NtcEWz53vLXpU5wT9Z5PCEmRvbnV7kS81a+ea2274m6jGVztZKBciRfefkzF5ptCeTdiTkD9TnxeyWQdjuVtkG7bDJ3CQ4ZMsQpXiyHBEiABEiABEiABMKOQJTuIsLvnQULFkhubq5jbipXrVpluEZBh1977TUqI8Ju5NkgEmi8BPr06WPMS6eccooxTyFm4ODBgxsvkHrsORbInFokq63Z/ixGmmUgrT/psRgXakWK2aaa3oNtgz/jgIXUQFRqgS68+tOGmhh4u4fFv13FgTqn8VYSrzlFwN9nFZ+tXZbYFL7qr+k5Mz+fLnshXyV4Xve3Xs9cNZ+5FqFrVoLWXELd7xpzmdSuiAmkhvqas61tqkud4B6oAqC2eb8uY3kwldVWhg35uEG7bNqyZYsxdj169GjIY8i+kQAJkAAJkAAJkIB0797doLBtW5WLjGCx3HvvvbJ79265//775Zxzzgm2OOYnARIgAUcJjBs3Tp566ikpKCiQu+++29GyWRgJkAAJkAAJkAAJkEBoCDRohURokLFUEiABEiABEiABEmj4BObNm2fsPh40aJDcdtttDb/D7CEJkEBEErjqqqvkmGOOkY8++kjgYo5CAiRAAiRAAiRAAiQQ3gSokAjv8WHrSIAESIAESIAESOCgEIBVBGTq1KkHpX5WSgIkQAL+EjDnKXPe8jcf05EACZAACZAACZAACdQ/ASok6p85ayQBEiABEiABEiCBsCbw3XffycyZM2XUqFEyYcKEsG4rG0cCJEACY8eOldNPP10wd3388ceOAGnSpInk5+erL2tn/Xg70jgWQgIkQAIkQAIkQAJKICcnR/CbJdKEColIGzG2lwRIgARIgARIgARCTGDWrFlGDZMmTQpxTSyeBEiABJwhMHnyZKMgc/4KttR27doZRWzdurXORTVvFicpqTGSs6O0zmUwIwmQQPgTKNpXIVJcIaktYoJqLOeMoPAxMwlEDAGn5oyKigrB7xTzN0vEANCGUiERSaPFtpIACZAACZAACZBAPRAwF/ROOumkeqiNVZAACZBA8AROPPFESU1Nlc8++yz4wrQE85/7YBQSaEi/3smyXxUSORt1wZJCAiTQIAnsnFdm9KtPn+Sg+8c5I2iELIAEwp6AU3MGfqNAKWH+Zgn7jlsaSIWEBQYPSYAESIAESIAESKCxE1i1apUsXrxYTjjhBGnatGljx8H+kwAJRBABKFE3bdokCxYsCLrV5j/3wSokjh/tmkez55YH3SYWQAIkEH4ESnJECpa6Pt8nj0wPuoGcM4JGyAJIIKwJODlnmL9RzN8sYd1xW+OokLAB4SkJkAAJkAAJkAAJNGYC3377rdF9Wkc05qeAfSeByCRw8sknGw0357FgemH+c//mm28GU4ycf05rOe6YNMlfUSrr3yyV/J20lAgKKDOTQBgRyFlfLuv/q3Fm8ivkmIlpMnZoRtCt45wRNEIWQAJhSyBrTZms/49zc8Z7771n9NX8zRK2HffSsFgv13iJBEiABEiABEiABEigkRLYvHmz0fOePXs2UgLsNgmQQKQS6Nq1q9H0HTt2BN2F4cOHG2Xk5uYGXdbUWzpISXmFfP9DjmxeUSZRLaIkthn3BgYNlgWQwEEiULKtXKI0XERFtkvBeOiJKfLUza75x4kmcc5wgiLLIIHwIWCfMwaelOrInLFnzx6jk0cccUT4dNbPllAh4ScoJiMBEiABEiABEiCBxkBgy5YtRjfbt2/fGLrLPpIACTQgAm3atDF6s3379qB71b17dxk0aJDMmTNH9u7dK82bN69zmZlt4+W5J7rLq6/vkE++zJJVqwqkZI/L53ydC2VGEiCBg0ogvkm0tO2fIBec00LOO7mVo23hnOEoThZGAmFBIL5ptGQOSJRLLmghE45v6UibEDcLv0+OO+44R8qrz0KokKhP2qyLBEiABEiABEiABMKcABUSYT5AbB4JkIBPAqZCwgkLCVQybtw4WbRokREo+8ILL/RZr783Lj6/jeAF2buvxN9sTEcCJBCGBJo3iwt5qzhnhBwxKyCBeiPg9Jzx3Xffyc6dO8WJ3yf1BsFSERUSFhg8JAESIAESIAESIIHGTmDbtm2SnJwszZo1a+wo2H8SIIEII9C0aVNj/tq1a5cjLUdMinvvvVc+/fRTx//hd3phwpEOsxASIIGwJcA5I2yHhg0jgYNCANYREGyeiEShQiISR41tJoGDTGD+/PmyadMmj1aMHj06KFN2j8J4UiuBdevWycKFCz3S9evXT3r37u1xzYmTmTNnSmFhobuoqKgoGT9+vPucByRAAiRAAiRAAiTQEAnAJzPiUvzvf/+TO+64Q/r06dMQu8k+kQAJkAAJkAAJRBCBnJwcmTFjhsTHxws2T0SiUCERiaPGNpNAHQisWbNG/vOf//jMGR0dLbGxsdKkSROBz9xRo0YZO8y8ZXj88cflrbfe8rj1/fffy9FHH+1xrbGf4AvCdH1issBi/m233SZJSUnmJY/39evXy8svv+xxDSfDhg3z0HzPnj1bJk2a5JEOO/huv/12j2tOnJx//vly4MABj6JKSkqM58XjIk9IgARIgAQaHIEffvhB8J2D7ycow3fv3i2tW7eWDh06SNu2bWXAgAFy/PHHS2Zmprvvjz32mOzfv999HujBmDFjvP6mqEtbAq2b6UnATgC/26644gp54IEH5NVXX7Xf5jkJkAAJkAAJkAAJ1CsB/CbJysoyNktgDS8ShQqJSBw1tpkE6kBg9erVcs899wSU8x//+IeRB8qKQOWoo46Sn376yZ0NwVE3b97sPg/HA6fb/MILL8gvv/xSratdunSRSy65pNp1XHj00Uflqaeeqnbv6quv9lBIVEvACyRAAiRAAiTgIIFZs2bJ3XffLT///HO1UletWlXtGhQT3377rWRkZBjfZXaFfLUMNVyA0t66ySGYttRQDW+RgF8ELr/8cnnmmWeMjT1TpkwxNon4lZGJSIAESIAESIAESMBhAlu3bpXp06dLixYt5NZbb3W49PorLvBVxvprG2siARI4yASmTZtm7AirSzPKyso8shUXF3uch+NJfbX5/vvvl/Ly8moI9uzZ41UZUS0hL5AACZAACZBACAnAEhLm396UEb6qXbx4sRQUFPi6Xefr4dSWOneCGSOegPkPPxYAKCRAAiRAAiRAAiRwsAjgtwjWk/DbBHH/IlVoIRGpI8d2k0A9EXjxxRflwQcf9Ahueuedd8qVV17p0YKBAwd6nPPENwHsLP3yyy/lxBNP9Ej0/PPPe5zXdHLaaadJr169PJLA8iIU8tVXX0lRUZG76JiYGLprctPgAQmQAAk0LAJz586V66+/3mun4Es/PT1dfvvtN6/3nb4YTm1xum8sL7IITJw4UZ599ln58MMPDQugG264IbI6wNaSAAmQAAmQAAlEPIE33njD2MSKtZ+bbropovtDhUREDx8bTwLBEZgwYYI8/fTTAsuAXbt2GXEhsHvfLvPmzfNwF4QFCauvaKQ3/dbBEgKL194sIqxxCBBLITU11V6VcZ6dnS1r164VuJlCu9q1ayfdunUzYlukpKR45CktLa22I9NX2d7ahbgZWGD3dg8V+dtmj0b5cQLXTFaFBIJGYxeov9KyZUuxs7DHpUCcB2swapRtjhN2sS5dulSWLVtmmPohGDYYexO44QBnU8DLLrm5uVJRUeG+jOBKCQkJxjlcdf3++++Gj8MePXpI//79q7XdnbHyABp/+CvHjluMQadOnQRBu7EQlp+f75EcuwK8tckjEU9IgARIgAT8IvDwww9XS3fsscfKK6+8YszFuInfDZijFy5cKLCmxFxtlffee6/adzNiWf3tb3+zJjOCBb/00kse13CC3xkQJ9piFMQ/JOAAgeeee05GjBghN954o+D3zKmnnupAqSyCBEiABEiABEiABGonAHfgF198sZEQ7sEjXnQBqcGK+vjE6ljF/PnzG2wf2TES8JfAZ599Znwe8JkwXxrHoFp2XQRw3zfT6cTnkU5jS1RLs2HDBiONxjqods8sx/6uSgCPctXfdMXZZ5/tM78upldofIUKXWh359M4FV7Tv//+++40OFAlR4W3vmmgwopg2uxRie3k8MMP99o2k8Mff/zhzqFBEmtMizZa5YsvvqiW/r///a81SYW3cVqyZEmFmvZVy4s26Zdbxb59+zzKwIm9HxoPxCONKgyqlaf+liswNn369Kl2r1WrVhWffPKJRxnWE/VBXoE6TE7W9yOPPLLa9bffftuancck0GgJnHfeecbnY+XKlUExwOdWFX1BlcHMkUvA2/z75ptv+uyQKqwrXnvtNeO7Ql0P+kyH7x/rfI5jfL/UJKFqS0118l7kE8D8hXksFPLRRx8Zz7FukKhYvnx5KKpgmSRAAiRAAiRAAiTgQWD//v0VuonU+A2iGyQ87kXqCWNI6H9DFBIgARcB7DzHTner6OKxDB482HrJYye8eUMnQePQW2wEM4393cyD66+//rrowoPo4rI9mfscO+UR3PmUU05xtwE71bxZdUBzjGA/pvz973+XdevWmafGOwJmImBnXdvsUVgdTh577DEjFzg88MADAZXgrc1WnijMfo5rsE7wVZcqRQScAhVv9cD9lCoPRP9Zr1YcrF4wht7uPfLII4KduL6CoVoDpVcrmBdIgARIgASCJuDNwvGee+6Rr7/+2sN9n1kRLNQuuOACWbBggTRv3ty87Mh7OLXFkQ6xkIgnAJeZsNzJysoydinaf1tGfAfZARIgARIgARIggbAikJOTI/Bo8eeffxpWmpMmTQqr9tW1MVRI1JUc85FAAyAAt0jwhfvOO+8Y7oKwQI/FYqvce++9Eh0d2qkCEysWM+yC9mBx2i5qHSDwnWfKLbfcIqeffrp5arxDeXHRRRcZbiXeeustwWK7VaBogfIjLi7Oerlej+H+Ytu2bTJnzhyvi/P12pjKytTKQnQXa71UjVgkVoGCItL9IFr7w2MSIAESiEQChx56aLVmY34+7rjjJDExUUaNGiVqgWfEQrJvYqiWMcgL4dSWILvC7A2IAFw2YTEArhOw+WL27NkNqHfsCgmQAAmQAAmQQLgQgOvro446Snbs2GGseXlzZxoubQ20HaFdZQy0NUxPAiRQrwR++OEHOeOMM0TdJBkBLO1BKrHwr653AmrT1KlT5ddff5WePXt65EPsAlw3X6gLMQawu96ujEBaLNR///338s033whiENjljjvucF+CwuTll192+5w2b2A3J4JvX3HFFeYl97ua3EubNm2M80Db7C4kwAMoQS677DKPXAiQiHgSVsFCTyjl0ksvNXb3qVs7r9UgtoQTgtgTd911l9x3332CY7sgNolVvCkj8CyoKxBBIHD4Hw81G2t7eEwCJEACjZEAlPk1ibrVMywTx44da8QlwsLsihUraspS53vh1JY6d4IZGyQBxJPA7xssEIwZM0ZmzJjRIPvJTpEACZAACZAACRwcAuqG3FBGYMPoddddZ2wmPjgtCU2tVEiEhitLJYEGQeCaa64xrCe8uQfy1UG4XRoyZIg0a9bMIwkCLuO6+Ro0aJBxX2NPiF0RcsMNN0jbtm3d+VHmhRde6D7HAUzk8/Ly3NcyMjIEE7Zd4DoI1hJWwT+Rw4cPd18KtM3ujHU4uOqqqzxywQJl1qxZ7mujR48Wk437ooMHGrdCXnzxRcPUDwHNoTCwCyxnghUETIc2H4ojKBGg/LIL3DKZ7jjwjFk5mGnhogkKKwSPRNDtYcOGmbf4TgIkQAIkEAICEydODChYLxZiYUYOa0SnJZza4nTfWF7kE8DvG42vIrGxsYbFBDbxrF69OvI7xh6QAAmQAAmQAAkcNALwWoLNmmeddZax5vX//t//E9Pd90FrVAgqpkIiBFBZJAk0FALYlQ7riTPPPDNkXcICuV2wSN60aVOPF3bJ28W+cA7XDnbXTPY8sFA4mD73oGyAeb8vqUsMB19lebsOrlaBWyy7IJZIsIJ6oqKi3MXg3FtdGtjcSOMtZgR23yLmBYUESIAESKD+CGBxFQp+fBfDSs1fOffccw3ftv6m9yddOLXFn/YyTeMjAKUZNk9AKffCCy8YFsLXXnutRxyzxkeFPSYBEiABEiABEgiUAFyhYkNnx44dBbE127VrJ5988olgo3BDFCokGuKosk8k4CcBaFy3b99uuEfauHGj/PzzzzJ58uRqueHeCO6PQiGLFy/2WiysGqwvb4l2795d7TLcO/hyM9WnTx958sknq+Wp7wswt/MmsNQYN26ct1shu+Z0ANKaGgqXVb4EljJ2sbv9st/nOQmQAAmQQGgIQBGAf4i2bt0qL730kpx33nl+KSeeeeYZxxsUTm1xvHMssEEQGDp0qBELDJannTp1EuxkxDsWED7//PMG0Ud2ggRIgARIgARIIDQEvvvuO7n11lsNRcQ999wj8C4ybdo0wRpdfa8PhaaH3kuN9X6ZV0mABBoDAex8NOMooL/QxMIlDnzUYbeXVRD7Ae6EnBZfQaX92ZWJ4JrexOrKyXofsSj27t0rWPg/mIIA3FictwcQx446LLzUpyCOR31JcnKyz6rS09Or3fM1jtUS8gIJkAAJkEBICOC7+K9//avxQsyn9evXy8KFCwXuEL/66qtqdToVg6hawXohnNrirX28RgKIzYUXAk4++OCD8tRTTxkvWImefPLJxqtz587Gb+/WrVsblsCkRgIkQAIkQAIk0DgIYH0Dsad27txpxIPYs2ePfPbZZ8Y5CMTHx8s///lPueWWW/zaCBTp1Op35SvSabH9JNBICLRo0aJaTwsLC6tdc+KCN5c8cLtUWyBLX3Xjn7833njD621YXCC2AQJy1udCvL0xUMLASsIeoBmLPo1VoAyzy48//ihlZWUSExNjv8VzEiABEiCBEBDAdz1cNcLS8NRTT/WoAW74unbtarzwXQolOnaCW6WkpMR6GtRxOLUlqI4wc6MjAL/P+J2HRQa8Pv30UyPGij3OSkpKiqSlpTU6PuwwCZAACZAACTQ2AnDHlJOTU63b8FiBeKmwhMDmBX825lYrJEIvUCERoQPHZpNAqAjAXAwumuziTXFgT2M9ty8iwxoACxV2iwi4UbLLAw88IGeccYbPyXjRokXy+uuvy/Tp0z0sChA4uTb/enBLhX8Uvblu8rfN9vbW5fzSSy+VX375xZ31iCOOkPp0n+SuOEwOYCGBL19rAHLEMMFOwyuuuMIIhr5t2zavgcvDpAtsBgmQAAlEPAF8T8+cOdN4Ie7PQw89ZFhOeusYzMntAoWFUxJObXGqTyyn8RCAxetpp51mvNDruXPnyvfff2/sgsTuSHOHZHZ2duOBwp6SAAmQAAmQQCMlAM8kiHmKd/MF7yTHHXdcIyUiQoVEox16dpwERGbPnm0s9paXl0txcbHhhmH58uVe0WCyDETgO9fu9unOO+80YlRg1yPuwQoCpuvDhw834leY5aMNuDZ16lRjISQjI0PgbgmuILBQ8s477xhJ77vvPrdCAn6ux48fbxbhfofFBMqxLnTj2ogRIwQBOK3ib5ujo4MPvwNTfQQNpVQRuPrqq+X++++vuqBHM2bMMF4eF3lCAiRAAiQQcgJQ8uO7GEqGww47TAYOHCjdu3cXmJd/8cUXXjcvXHbZZSFpVzi1JSQdZKENngB+d+JFIQESIAESIAESIAESoEKCzwAJNGoCW7ZsMfxA1wYBQSozMzNrS+Zxv1evXh7nOEFgHrxMgUIArpPgYgnaYqvSAEoJmK75I0VFRYYywh6T4frrr5errrpK2rZtKwjgbRUE6ITVR79+/dyXA2mzOxMPHCNw8803G76Wrc+BY4WzIBIgARIggToRWLduneD19ttv15j/ggsukGOOOabGNMHeDKe2BNsX5icBEiABEiABEiABEiCBxkog+G2+jZUc+00CjYQAgvJdeeWVAfd20qRJPl0u2Qvr0qWLsdCBQM91ESge4IrJKoMHD3YrP84880zDH7b1Po4RXNpqKh9Im+1l8Tx4ArCE+eabb6Rnz54+C/P2jCD4E4UESIAESCB4AogTUReBhdvLL79cl6w+84RTW3w2kjdIgARIgARIgARIgARIgAQCJkCFRMDImIEEIpOAPT6Ct17Ah/+AAQOMgDpwh7Rv3z7BrnW7eCvL7sYIC8dYXIYPal9iXWw48cQTZf369Ya/am+LztYyEEzztddeM+JRvPfee/Lss89abxvHsLpITEx0X3/00UcNtxPuC3qAnZYIOmhKoG028zn97g9fO2+0wZ7Pfo409nze0sDvsVW8pbHet5eJe97yeLtmzztkyBBBjJCXXnpJoGgaM2aMoTi64447ZP78+Yb7LWvdOO7Ro4f9Es9JgARIgATqQCA1NVW2b98uL774opx00kk1loDfDIjbtHbtWiMuk/27w57Z23eAt2tmvlC2xayD7yRAAiRAAiRAAiRAAiRAAvVPIKpCpf6rrZ8a4aoFrmawiDV06ND6qZS1kAAJVCMAK4TVq1dLWVmZoURAAGPEa6hpISIvL89QGGzYsMHIB2UBXu3bt/dQNFSrzKELdWmzQ1U36mJ27twpeD7gyssuiD0C114Idm0VuOyilYSVCI8bK4Hzzz/fcIG3cuXKGi2NauPTt29fwdyLeZjSuAngexsKio0bN0pOTo7xvQ0XjvguxlxdnxJObanPfrOuwAmkpKQYMcqWLVsWeGbmIAESIAESIAESIAESCDkBz22wIa+OFZAACTRGAmlpaUZAzED6jn8mEeMBr4MhdWnzwWhnQ6vz5JNPlt9++01gBQNFMhRXWITCYhiCkSPuiVXgmovKCCsRHpMACZCAcwSwcQDKB7wOtoRTWw42C9ZPAiRAAiRAAiRAAiRAApFMgAqJSB49tp0ESIAEGiiBd955R/CqTWbMmFFbEt4nARIgARIgARIgARIgARIgARIgARIgARIIEwKMIREmA8FmkAAJkAAJBEbgueeeE8ScoJAACZAACZAACZAACZAACZAACZAACZAACUQGAVpIRMY4sZUkQAIk0CgIILg5YkUsX77ca3/hNgTunK644grp1auX1zS8SAIkQAIkQAIkQAIkQAIkQAIkQAIkQAIkEJ4EqJAIz3Fhq0iABEigURK47777BC/EjcjNzTWCqCKwbkZGhrRs2VKio2nY1ygfDHaaBEiABEiABEiABEiABEiABEiABEigQRCgQqJBDCM7QQIkQAINiwCClyKwOF4UEiABEiABEiABEiABEiABEiABEiABEiCBhkGAW00bxjiyFyRAAiRAAiRAAiRAAiRAAiRAAiRAAiRAAiRAAiRAAiQQ1gSokAjr4WHjSIAESIAESIAESIAESIAESIAESIAESIAESIAESIAESKBhEKBComGMI3tBAiRAAiRAAiRAAiRAAiRAAiRAAiRAAiRAAiRAAiRAAmFNgAqJsB4eNo4ESIAESIAESIAESIAESIAESIAESIAESIAESIAESIAEGgYBKiQaxjiyFyRAAiRAAiRAAiRAAiRAAiRAAiRAAiRAAiRAAiRAAiQQ1gRiw7p1bBwJkAAJkAAJkAAJkAAJkAAJkAAJhCGBzZs3y8yZM+XXX3+Vbdu2Ga+ysrIwbCmbRAIkQAIkQAIkECkE2rZtK5mZmTJgwAA59dRT5ZBDDomUpvvdTiok/EbFhCRAAiRAAiRAAiRAAiRAAiRAAo2dwKxZs+SBBx6Q7777zgNFQkKCxMTEeFzjCQmQAAmQAAmQAAkEQmD58uXu5DfffLMMHjxY8D5x4kT39Ug/oEIi0keQ7ScBEiABEiABEiABEiABEiABEgg5AVhETJkyRT755BOjrhEjRhg7F3v06CEjR46Uli1bhrwNrIAEMxhjrgAAQABJREFUSIAESIAESKBhE9i3b59hdTlnzhzDEhPv5557rjzzzDPyxBNPyKBBgyIeABUSET+E7AAJkAAJkAAJkAAJkAAJkAAJkEAoCcyePVsuueQS2bp1q4wePVpuu+02GTNmTCirZNkkQAIkQAIkQAKNkECzZs0Er379+sm1114rCxYskOnTp8sHH3wgRxxxhLzyyisRby3BoNaN8MFml0mABEiABEiABEiABEiABEiABPwjAGUElA9QRtx9992CnYpURvjHjqlIgARIgARIgASCIzB06FB5//33DQuJoqIiw1ritddeC67Qg5ybComDPACsngRIgARIgARIgARIgARIgARIIDwJwE0TLCMg2KX4r3/9yzjmHxIgARIgARIgARKoTwJXXnmlPProo0aV+G0Cy4lIFSokInXk2G4SIAESIAESIAESIAESIAESIIGQEkDMCNMy4vHHHw9pXSycBEiABEiABEiABGoicP3118uMGTOkvLxcJk2aVFPSsL5HhURYDw8bRwIkQAIkQAIkQAIkQAIkQAIkcDAIzJo1ywhgjZgRtIw4GCPAOkmABEiABEiABOwELr/8crnooovk999/l+eff95+OyLOqZCIiGFiI0mABEiABEiABEiABEiABEiABOqTwAMPPGBUhwDWFBIgARIgARIgARIIFwLmbxMEu45EoUIiEkeNbSYBEiABEiABEiABEiABEiABEggZAcSO+O6772TEiBEMYB0yyiyYBEiABEiABEigLgR69+4tEydOlHXr1smPP/5YlyIOah4qJA4qflZOAiRAAiRAAiRAAiRAAiRAAiQQbgRmzpxpNOnUU08Nt6axPSRAAiRAAiRAAiQg5m+UTz75JOJoUCERcUPGBpMACZAACZAACZAACZAACZAACYSSwK+//moU36NHj1BWw7JJgARIgARIgARIoE4ERo4caeRbsGBBnfIfzExUSBxM+qybBEiABEiABEiABEiABEiABEgg7Ahs27bNaJP5z37YNZANIgESIAESIAESaNQE2rdvL6mpqWL+ZokkGFRIRNJosa0kQAIkQAIkQAIkQAIkQAIkQAIhJ4B/7hMSEqRly5Yhr4sVkAAJkAAJkAAJkEBdCGRmZlIhURdwzEMCJEACJEACJEACJEACJEACJEAC4USgrKxMYmJiwqlJbAsJkAAJkAAJkAAJeBCIjY0V/GaJNKGFRKSNGNtLAiRAAiRAAiRAAiRAAiRAAiRAAiRAAiRAAiRAAiRAAhFIgAqJCBw0NpkESIAESIAESIAESIAESIAESIAESIAESIAESIAESIAEIo0AFRKRNmJsLwmQAAmQAAmQAAmQAAmQAAmQAAmQAAmQAAmQAAmQAAlEIIHYCGzzQW/y+x/vliVL82XxsnwpLqo46O1hA0iABOpGoFlGrAzolyQDD02V447NqFshfuTinOEHJCYhgQggUF9zRgSgCKiJBQXl8u6Hu/R3U4GsWFEQUF4mDl8CSUnR0q9PkvTrmyxnnhb6oL9zvt0vv/+RK4uXFsi+/aXhC4YtC4hA544J+gwlybFHp8shPZMDysvEJEACJEACJEACJEACkUmACokAxm3N2gK5/5EtMu/nA+5ccQnRQpWEGwcPSCCiCKxdVyi/LMzVNu+WieNz5LabOkp8fJRjfeCc4RhKFkQCYUEg1HNGWHTS4UZ8/d1+mf7IVtmypdhdMn87uVFE9EFpUbks1c058s5e+fTzLJl6Y3vp3i3J8T4VF1fI9Ic3yVvv7nWXzWfIjSLiDzCvzvk2W554eofcckOmXHJBm4jvEztAAiRAAiRAAiRAAiRQMwEqJGrm4767a3eJXPi31ZKdXSrthiRKWd9yaZIZI1Ek6GbEAxKINAIleRWy5/dSKV5ZYSx0bNAFs5ee6eFINzhnOIKRhZBAWBEI5ZwRVh11qDFQRlx9/XqjtENOTpa8jqWS0tY5pa9DzWQxdSRQXiSSu61c9iwoNzbrnP+3VfLZe32kebO4OpboPdtVN6yRn+YekOad4qTiEJGMQ6MlNtV7Wl6NPAKFeytk549lUrysQh58dJvk5pbJ1ZPbRV5H2GISIAESIAESIAESIAG/CXA53U9U0x/ebCgj0vrGS/IJCL3hCr9RUeZnAUxGAiQQdgRiE6OkzfB4keEiG98vlp/V+uml/2yXSy9qG3RbOWcEjZAFkEDYEQjlnBF2nQ2yQXDTBMsISOapiSKHlUmKUBkRJNawyh6dINK0S7TxWvemyIEVZTLtsc3yyD1dHWsnvpOhjGg3JEFST3OsWBYURgQSm0dJp9NjJW9YhWx9vUSembFTjh2Zru7AUsKolWwKCZAACZAACZAACZCAkwSokPCD5opV+fL5V1nSoW+iJI5TRQSVEH5QYxISiCwCbUbFyeYNZfJ/L+8OWiHBOSOyxp6tJYG6EHByzqhL/eGeBzEj4KZp8GlNJG9IlbumcG8321c3Al3PjZXVz5fLrE+z5IYri6Vdpir7HZAXX9ktickxEn80HKRSoeUA0rAtIqVNlDQ7Pkb2vl8q/317l0y/s0vYtpUNI4GGSmD+/PmyadMmj+6NHj1amjdv7nEtXE++/vpr2bu3yr1famqqnHTSSeHa3IDaFejY/Pnnn7JmzRpjPIuLiyU5OVnatm0rY8aMkcWLF0f0ONvBzZw5UwoLC92Xo6KiZPz48e5zHpAACYQnASok/BiXxUvzjFSlHUTKS/nPkB/ImIQEIo5AXHKUxHeMkQOrS2X9hkLp0ll39NZROGfUERyzkUAEEXByzoigbvvdVASwhuR2LuMyst/UIjthcvdoyd1SJj8sypKJma2C7gy+i/dnlUrrwQkSnxF0cSwgAgi0GKAKiQ9L5Zc/XP97RUCT2UQSCJrA7Nmz5fvvv/dZTnR0tCQmJkr79u1l8ODB0qdPH59pg73x+OOPy1tvveVRDNp29NFHe1wL9cnatWtl3rx5snTpUmPxfMmSJRrnL15atWol/fv3l2HDhskpp5wirVu39mjKbbfdJr/88ov7Gpht3rzZfR7JB/6Ozfr16+Xaa68VLNJ7Eygp/C3LW/5wvHb++efLgQNVcV7RxpKSEomN5XJnOI4X20QCJgF+Qk0SNbyvWKkB+1QKSyskuYwKiRpQ8RYJRDSBihJXiPqVq/OCUkhwzojox4CNJwG/CTg1Z/hdYQQlXLHCpZCIak6z0ggatqCaGh3jyj5fN/JMHBdUUUZmfBdD8gvKJF0qCzeu8E+DJYB/s+KiZPvGYl1MqpA4PaaQQEMnMGfOHJk+fbrf3YRy4I477pDjjz/e7zyRkhC73B944AG58847vTZ53bp16mL3Z3n++eeN+xMmTJD/+7//k4wMaq0BBJYQf/nLXwwljleAEXIxPz9fUlI83fZdfvnlMmPGjAjpAZtJAiTgDwEqJPyhVJkmMUP/GaJCIgBiTEoCkUUgqV2sFKvbJqeEc4ZTJFkOCYQnAafnjPDsZd1blZCgbi4pjYZAUmaU5GhvXap957od1d65slhS+BOIVuOa8oaxoTn8YbOFEUnghx9+MNzuzJo1S0488cSI7IO3RsONEBQMq1at8nbb67V33nlH/v3vf1MhUUkHPMDRLrAsKSgoqGZFYE8XLucVFdV/SZSVOfc/erj0k+0ggcZOgAqJQJ6Act2lQ4VEIMSYlgQii0C5w83lnOEwUBZHAmFGwOk5I8y6x+aQAAmQAAmQAAmEJwHERoD7nW7dujnWQFgmXHnllR7lDRw40OM8FCfY2R+oMiIU7QjnMv0Zm0WLFlXrwnfffScjR440rm/dulXatGljWKAcjHGu1jiHLnz11VdSVFTkLi0mJobumtw0eEAC4UuAColAxgbKCCpmAyHGtCQQUQSiKhx2DcA5I6LGn40lgUAJOD5nBNoApicBEiABEiABEmhwBO666y4577zzDD/4GzZsMNwSffTRR9X6+e2331ZTSOzZs0eQB+8I8Azf+unp6dKsWTNp166d9O3bt1o55oWuXbtKZmameWq8N2nSxOM8NzdXrDvYEdshISHBncbciY9A2FgY9kceffRRr5YRPXv2lCeffNKIGdG0aVPZtm2bvPvuuzJt2jTZtWuXP0V7TRMMI2uBeXl5gngXWOjfvn27ETga/PDq3LlzjYvigeataWyg0MGC/PLly63NM2JuDBo0yG0ZgXYh4HNNZXkUYDnJysqSjRs3up8tKDY6dOggPXr0kKSkJEtK16HZv927d8u+ffuMFwJr4zls2bKloF1xcXHV8sFdU3Z2drXrcOdljROB+BBmvQMGDJDS0lJ3ntqeO5QPZd7q1asF7evUqZN0797d4IJ4Lb6kpmcfsUp+//13AScwQawTu9spX+XyOgk0VgJUSAQw8lFlajrGoNYBEGNSEogwAlW/YxxpOOcMRzCyEBIIXwIOzxnh21G2jARIgARIgARIoL4ItG3b1lggRX29e/eWsWPHysknnyxffPGFRxPmz58vl112mXENC+JDhw6VLVu2eKSxn2CR/4orrpApU6a4F3TNNNiFj8V+q0C5gQVbCBZk7QoK+PZHkORnnnlG3nzzTfntt9+MtFicPfTQQ43jmv5gIXfq1KnVkowePVo+++wzD2UHFCoI2HzJJZfIddddJ6+88kq1fDVdcIIRysfCPBQljzzyiM/qwOnMM880lElWhU1d89Y0NjfeeKM89dRT1doCpQ0UOaYsWLBADj/8cMNCoqZxNtPjHQHF7733Xnn77betlz2O8Qz885//lI4dOxrXjzvuOPn666890thPwGfy5MlyzTXXGIoN8z4UFd7cdr3xxhuClymIpWIGgz/mmGP8CmYOHrfeemuNzw243HDDDR7PHer09ezjWUT/vSmDXnrpJRk3zoGgWman+U4CDYwAFRIBDCh2QkbRZVMAxJiUBCKLQLTDFhKcMyJr/A9mazu3ipMStcDburfkYDaDdQdIwOk5I8DqmZwESIAESIAESKAREIiOjpYTTjihmkLCqnzALnnruS8sWOy96aabDMXBf//7X2PHvJnWavng7Zq3+wsXLjR2u3tbRDbLqOl97ty5Xm8jWLV1Id+aKC0tTV5++WW56KKLDEsE672ajp1ghPYidod1t763OnH/1VdfNZQ1Zj+CyeuNvXmtvNw/H6JmevPd2m5v1xCf4+6777Ym83qMIOOnnHKKWyHhz7MAPg899JDA8geBys3A5FZLB6+V1fHil19+KePHj6913P7xj38YCgukNxVxqNIbH/TbDLBubxaUH2CybNky6dOnj/02z0mABJQAFRIBPAZQRlAhEQCwECdtkRYjE4enedSC+EeFJeWyK6dMfliZL1m5VT62UpOi5ZKR6VKm39fPfrXPI595csmx6ZKqQTg//u2AbNrtuTCI+kb3TpGOLeKlXXqcfimJ7M4tlfW7i2X2slzZk11Vl1neUX2SpU/bBOnQLE7Sk2MlO79Mdh8olZ/X58v8lQVmMr6HCwHEfHBQOGc4CNNHUZOObyZx/lmDy68bCuRnPz53CfFR0qJpjOzReaSoWD/oIZY2zWLlsbNd5vHnPru5XuoMcZcaT/EOzxmNB5wzPT23XxuJj66at/FpLdIv+aziMvl1Z67szSl0V5TeJEFO79LMfW4efLJhv0c6XO+fmSaDWiRLD82TlhArmw4Uy9rcQvl2S47sP1BVplkG3pukxMtJnTOkS0qCtEyKlYLSctlTWCZbCopkwc482bw3z518ZNdm0iW1yr2F+4blwN6uwe3T5YhWqZKZHKd9FtlbVKavUlmaVSALt+VIsfbZKh2ap8iY9mnSPiVO0uJjJEvT7ykslXW5RTJ/xwHJOlDla9maj8feCfg7voE8Z20zkmVo6xTpmpoo7XSc8vSZ2ZFfIr/vz5dftmSr+wnXAtMR+lz1bJooc/WZXr3zQLUGntWnlaTG6hgXl8pHK3ZXu2+/YP/clOsHJ0+Dhf65r1D+3IGw5BQSIIFwJLBz585qzaotfkRNwYyx2xxuoYLdwW1aRFRrnJ8XVqxYUS3l2Wef7bYQqXbTcmHUqFGWs7odBsII7oTOOOMMr4vacIME9z++FBXB5K1bz4LL9f777/uljPCnFtOqxhsbKC8eeOABmT59uj9F1SkNXEZdeOGFXscGbbO3C2266qqr5JNPPqlTfdZMsGypybrEmpbHJNDYCFAhEcCIR5VGSxRdNgVALLRJO6bHy+heqT4ruWB4ujz06R5ZuMa1eNA+rSr9y3OyvC76je3TRBLiomTppmLZvL3KF8dpQ5vIxCPSJCG2auEDFXduESeHd06SCYenybsLcuStH1z+DlvpAuPfT2gmvdt5Lji0S8dHLkGOOSRFco4tl8nPb/PaDp+d4o2QEnB6tzPnjJAOl1H42L6+5wB77eU6f89f5n0x0Zr2yrHNZGSvFPlqaZ4894V35aU1fbDHcRW6ulgp+I6Jqpp6zMt8D1MCTs8ZYdrNsG3WWR3Tfbbt8h4t5KU1e+SzVXuMNO1UAXCqLtDbZbku6JuKi3hduP/7oe1keMtkj2SZibHGtXN0YfiF1Xtk9pq9Hvf7ZzaVfx7aVmLUL7OHGNWlyLmdm8mM1bvly9WufGPaNpXeab59FKMMKBrMdt13VBc5pKnn74kulVPfWK27rHcrOWfWSnfVE1VRM97GplNll46TJgI218zbJNt14ZtSO4FAxtef5yw2NlrO0TH7S4d0sT0x0lefi+PaNpGiXq3k9oVbZMPuPDm2dVMZ0jxJClXZZldIXHtYBzm6VYrRief12fRHfH5uOosq0FrKVH02Cgo9N+X4Uy7TkAAJhI4Adms/+OCD1SqAn3pTsAsf7niwKxs7+OHqyVwIhuUEFkZffPFFM7nxDuuGYBUSHgXW4QQ7yO3Sr18/+yVHzoNlhADR9tgVcC2FhWsznsGOHTtkzpw5xmK+1VIgmLy1dR4ury699FK5+uqrDWsDa/pff/3VfervTn3E6jjrrLPc+cwDBFK/5557DGURFvk//fRTgUWBfUEfrrr+8pe/yOmnn27EUmjdurVRBGI3wCoH7bSK1UoGLKHYgRsmq5h1m9esrqjMa77ewcc+bmgbrGxgmbF48WJD0bRu3Tp3EejbO++8YwRbd1/0coD4FWCFmBb/+9//jLKsyebNm2c95TEJkICFABUSFhi1HUbpRiVaSNRGqf7uR1t2pr7xY7ZaPlRIfFy0WjDEytBuyRKnyoOLjsqQ31buMBoV7dpoZhy7dq77bivSmmN9/KAUufho16JHUUmFfLrogGzcXSopCVHSpVW8jOydbCgxWqbEuPP8+4yW0sZQPogs31wkP63Kl5yCcmmnlhJDuiRKj7bx0jQxWlK0vcV6nRImBLBN0EHhnOEgTB9FvTU3x8NColdmgvTt4Fq4e2++507PpRuL3J9RH8UZl1UlYLxH6+NgzgM1pQ/2nnUuq21uCrYu5neYgMNzhsOtazTFfaEWAqvUGiJOrSVaJ8XJ6DZNJU2/X//avYV8uW6fsdN85e5cufXXzXJRj5bGou8atRB4fuUu2bivylrxuoHtZKhaRkCWZhXK59uyZV9BqXRRZcC5al2RqgvJk3u2lN167Y+trg0IUGJc37eNoYzYq1YK3+sO9uX7CyRR03ZVC4vjtC1NtS3RdmWF1rEyR38f7Kq+4x31r6ls1+m9WrqVEb/syZeF+/KM+jN1R/3gZikyqFmSzlhVy9pdWqa4lRHr1Rrih125sj6nWFqplWaPJokyqk2q0VaLYQmqo/ggEOj4+vOcXazPy0ntXD69NxeUyIcb9xuWEa3U+qV/erIxRgk6QGnxNf+bdtmhmW5lxOvr98kXfiokzK7ic7NWPwfJ+qwOUYua/umJ0l4/P9eqcm36/E1mMr6TAAkcBALPPfecIGD1/v37ZeXKlWJdKDWbg539sCQwBUGGESPAKnBRhMVdBLeGosKukEDZwQragZgUQ4YMMQIWl5SUyKZNm9zue2or/48//qiWBEGBQyHBMgJHu0ABgbEaMWKEwJUU6jj//PNl4sSJ8tNPP7mVQsHktddpP2/fvr3ghWDRdsG4BCreFtERswHKArgPg6CvUCygn7fddpsg7okpdssCuJRCIHG8oERDW63uxRBvxBQo0sxYFOY1vKP8uvQFeRHbxC4vvPCC200UlAqIwYE4LVb58MMPa1RITJgwwVBCIFA4BDzAxSroJz6HCP5OIQES8CRQ8y9dz7SN/iwaLptoIRE2z0G0xTvBB9/nerTr738ROVrdJbVTSwVzzDB+psTUsgsZC4TIl6SuWy6oVEbAJdMdb+yW3fstFUu+vPt9jlx+UoYcyCs38pxzbBO3MuL9eQfkzW+si6KF8t63B+T4wclyxvCmUqTNNttnto3vB49AlEXJ5UQrOGc4QbHmMvB5ssrxg8sMhUReYYW8Ncfz3rBeiTL+iCaG+7Q4/fbLL9LdpluLZd6fVVYTvTrES8eMOKNIWECN6uvaeVqgaeevqEp3WM8E6aEWUHDttDOrVP5UZceSDcXWpriPUWbfzvHSVhWSeaqAXL+zRL79o2pnsnUuw4LnSG1n19bxAvXY6m3FHmlRaMfWsdKnY4I0bxIjTdQVnXrpkL0HSmSu9sNzfnI3gQchIuD0nBGiZjb4Yr9S9zYb9lS5RPpdF+7vGpRpLNO3aZokW3QRH+5v1u7Kk01t0wyFxFZ1jYNzU7rpLnNTGfHZ1hx56Y9t5i1ZpUqGubp4O314R2mtLpyuUCXBVZUKidFqNQGFA+SGuRslL79qHsCeuP/9uUtO6t5cVqvFg13m78l1W3DY75nn56kiBDJL2/SipU1Yvpkle6RTixQZpVYSpkzs2sI43KztuPn79eZl432O/n1dXUud0a25ZKn7JkrtBAId39qes/aqRDKVEXPV+uHRXza7G4FlwR9kn7ynSom/92stuSW+x+icvq3d5by/KUs+0OcsULF+bnQ/qkwZ3F6VeanSPyMp0KKYngRIwGECcINUmyukp59+WtLTq1sKYnEcO7tnz57tNTiwtalO+Os/9dRTjV3z1nIDOcbueaslAfJi930opa6M4JbJLghmbC5kY6F95MiRAldS2DWPY1OCyWuWUV/v3pRECFptKiOs7WjRooVgcd8ucMUFiwFYGvzyyy/22/V2DoWR3YIDVkFot1UQON4uS5cutV/yOIeVhqmMwA2cQ3Hzww8/eKQrKiqiQsKDCE9IwEWACokAngQsPFh32QeQlUlDQAABg02xj0tFpdHBtr2l7jGzutbALuToGna2Ymc7yjy2f7KkJrrqeW1Otu4uKRPXsoNZs0hWVrk89KZrtwTuHT/AtYC5aVep/G9OTrX0yPn1r/nGC8f28nCNcnAIYEe8k8I5w0ma/pVlXSC2zguHdk2Qm85s7rWQLUeVyu0v7Tbiz5x/bJp0au1SSHRTS6arxrl2syD2zHnTtkqiLjxeN76ZDOrmssJwF3ikyPdL8+XpD/e7L+HgylMz5NhDXTuurTdOOayJ3PGKq84oi47zyUnqE1/dxplyglpojeybLPf+t8oVx+SxGdKjffVdNucdI/LyF1ny5a9Vi6xmOXwPDQGn54zQtLLxlRoX4/oM4Wt+l8Z+8EdO6pBhJIMf//8sc1lWWvMdyCuWl3QH+lR1hwSlRI/WTQz3OZVVGUnLvfyuwAL1TD/8+lvrsh6b1g+lCFzlRTaqIuYVizImpvJHhfUfZGs29OM/i7dbL/G4BgJOj++4Tq6dk4VlFfLskurPGZqyMytfbv9xvc9WndSzhUzo5Hpeoah6Y6n3cnwW4OPGOv2sjJZUIy4L3EqZMSx8JOdlEiCBg0QAFgmvv/66HH/88R4twKLn9ddfL88++6zH9XA/gXsf+wKuNzdOTvQjWEbDhg2TwYMH+1QWYTc8YnPgdfnllxs782FBAAkmrxN9D6QMq5snMx8sF/yVGTNmyKRJk/xNHtJ03qyAvFlgQNkCpZHVGgmunGDd4U0R46vR+HxSSIAE/CNAhYR/nIxU2DVv3WUfQFYmDQEBq5sTLNrpd4UkqkVDz47xMqx3krG7eI4uzJljFmPZ/R4DhYTFYsLePHOs2+uOZgiCYy9YUqjKg6qFQnsenCfpYmV6qivC7tcLq+r2lpbXwpCA5RlxonXmc+REWSzDPwKmEgKfVOtnvEI/71jPW6cWB2u3lUieBpvtqu6dDlXFQvuWsXLWUU3kzdk5smB5gbTJiDE+x3vVKmr5hiKj4gINbo3yzjuhiVsZsWhNkWzYXqTWD4nSU60gRvZLli07SmTmTy6FwPhRqW5lxBZVUC5dXyidVclxiKbtpFYOl4xJkxkzs1T5WTWvQBmxXRWpm3aVSKdWcdKmeaz075wgmONmqyITgn7kFlQY5e1Ui61EnaaG902SNHUbd/GYdJk9v8r6wsjAP6EjYBm70FXCkmsjMLyNWj5pnIcEXY3vmBovp2sAaMgcDdBrD/bsq6wO6i4H8rUGfPa1ELtQd6IX9WktcKeDIMSrNf0mtU4y5cERneTNdXtlmVpoZKu7pNpkWItUKenpXdHwoy40Q3mwpaBYOibHy7h2aZKoq+OfbcqW7dkFPtu4MbdYBuoOd7je+feIzvKuuvJZpy6kGBOgttHwfj+Y8fVWYicNeg75QV111WVMju7aTC5TV2SQbzXItdVqxrgYxJ9uGlwbsiK70OfzFUTxzEoCJBAEgZ49ewoW7gcOHGgE27W7hUHRiCGAhXC7YIEUsSWwCBuOygpvC92wYCgrK5OYGNf/1fY+1fU8WEZoD9z4wPrBn13/5557riBuA1wCBZO3rv2taz4swtvF30V5X8oIxDOByyUs+sOlkz2mg70+p87j4ly/76zl+dq0YU1jHlf42BBi3re/JydX34hmT8NzEiABFwEqJAJ4EuBWA65+KOFBIMayq/iycdXNVTFS+9V6wRyzKN2NZgoWLc3r5jXjvTKJOdaZzV1fYLv26Q8iP8a+U2bVR2r7Tv/yeNTPk4NKwFzMdqoR5nPkVHksp3YC1sV962f2z1XFcvl9O6SwqGoeEMmTGy7IkMGHJEpntYpA+i9/zFdXTPFyRL8kWbq2WJ7/INtdaUpCtBw3JNU4/+63Ar2XZRy/p+XccnEzGdA9QU4b0UQ++86lEDhV3UNBrGlxftnpaTLqsGQZovXGfKDKUcvc8vIn2TLHolB48O8tJVMVJqPUyuKbn10uXx58dZ+tHyLfLCiQ6Ve3lFj9v62nKj3Wbq5aJEWdlNAQcHrOCE0rG36pRgBnWxBn9Hq1xmjwV9rpoj9kq8Xlkre8OzXYLxQE7dT1EWSJxplY262ZdNN4EW1VKXKDKiwg2AG/Wv3zf6n3523wtJwyEugfBKq2B6s27+1Sl0oLVSHx8qq9csfAthqDQgTBsPGCbNf7v+/Nl/dUAZKl9ZjyoZ6fkNlEklQ5g5gA/dV1FSS7pFyWqduoDzbsk/XqKojiH4FgxtdbDR0rn5uNOraBygmZaW73YIiB8pQGvfYmsG6wizclW1cNoJ2vFjzpavFzvCq8EF8EAmUJhQRI4OASePzxx+Vvf/ub0QgsqNbmfx47/+3KCLgP+uCDD+Swww5zdyYcFRK9evVyt888gBsk+PS/9tprzUvV3uES6K9//asRJLlbt27V7tsvOMWoQ4cORuBoKE3effddI04EdtL7EsQvgEICEkxeX+WH4joUX1988YVH0eDdrl07j2veTt5///1ql9966y0j3ompCDjttNNk5syZ1dLVdMGbkqSm9OY9KPPssnnzZvsl3fBV4WEdgQSmIqlaYl4gARJwhEDV6qkjxTXsQrC4aN1x27B7G/69sy48/r6y0Ng1jBhLyRosulNb/eGmO42vnZgh784+IB9/rdYKlp2sGEeMpy+BGw6k0Q2GhmhsLr/GPkWDW5pSrDuY+byYNCLj3erux4kWc85wgmJgZVgXiO2fv4zkGBkzOlm6qYVCRlq0NEmOlrhYl5IZQerN9OZzYLhu03nAlE4t44wFf5zP/DrXnR7ns37IMxQSqVpmus5BzdXKwnS9lJ4aJZeMcy0iIm23TNfE0jQl2ggmarXemrdQLbEsdf74e4GcPaaJlhfrvl6s+o7jDk+Sgb0T1YIiTtJSoyWp0rUcym+SEKNpffseRxqKMwTMZ8WZ0lhKXQkgOPQ2jQmBRftEXYjvrgv9zfX7eMohLeXQjGR5TINZ1ybxyKxS7MXtkjUvrDAgyZXvOL593kY5Xd3ojNEF4xaVvwNgzWAoBFQpsLVLc7lbF4/3auBtqyCg8ZJ93i2aNmhQbQgWxG/WWALnaWyIgRrAurKZhvKjrQZGHqvxI97dtF/eXrbTSA+riik/bpALNPj2ka1SDasK3ECQ7xEa8BqvRRow+wFl4m2R2iiEfzwI1HV8PQqpPHE/Z5ZNMt7SebuGMTSluSq/UlQxZo1ZgntXD2kvx7Z2KRbMtHi//betslKtf6yCz4dd3lKF1ZerqwdttafjOQmQQGgJYJd1SorLDbA/NXnbrQ+FhlUZ4U85ByPNkUceaVgRQAlhleuuu84ICH3xxRd7WErk5+fL888/L7gPKSz0/G61lmE9doIR4nKsXbtWLrvsMhk9erTxQh1QdixatEiefPLJaoohxDCABJPXKKAe/0AhYZe77rrLiI1ht5RAsG6MxVVXXWVY8NgVGRjfc845x15cjeem4sKaaPv2urmbRKwIWGdY40hAGQILDat7pc8++8xanXEMqyQKCZBA6AhQIREAWyxow9UPJTwIWGNCPPFS1S5mtC5BFxdvuyJDOrePkyP6J8mnX+k//JaxS9L/6Eu8KCSiK//TR4wJjPXuveW6eCnSIj3Gr7HftrVqEbC9ulrZsKHqPDyosRU1EXDaHzznjJpoh+aeWyGhSkXrfD3s0AS5dEKaW0mA2hEXwi0ak8ZMbz4HUbpTxryGdG10HoDAinnvbrW+srhw27m9akJJ1QXJ9s2qvl4P7elyg2Fktv3BXGRVSEAZYbX+KlHFJiQO6SrnsFt1buvVzbU72yyuSF1KJajLOggYmGnN+3wPDQHzWQlN6SzVXwLPr9jlEdQa+c7TWA9nqtXE8JbJ4o8//F1FpdJGF3lb6qsmScTOB5Vt6krJFCzsv7d8l/Fqojvg2zdJlB7pCYaCAlYT7ZJi5RQNfv2qLXbDN9tz5GM/4ktsUIuGafpCP1pq2V3SEmRwc40vowoH/GxBPIGZa/e5XQBBKfHsoq0CL+IZmr6zpu+jbpygvIAiZZAqNvpqDIw/KgNzm/3gu3cCdR1fb6Xt0OcsU5+JtpUuwrylqena1oJS43nKiIuRe4a2l1tU+WRVLPn6L8Wby9G9xWWyX9vTXhUbUKDh2+YrdQlGIQESiDwC9kVi9OCrr76SKVOmSMuWLQWLuU888URYdiwhIUFefvllI8aCvYFY+H/kkUeMhX8Ev4Yy4L333vNYXLbn8XXuBCNYQtx4443y4IMPyg033GAEs+7cubOuPSTIoEGDDMWKvf42bdoYl4LJay8z1OcIzGwXxPk47rjjBMGtu3fvLtnZ2fLNN9/ItGnTjMX9CRMmeCiOzPzo95IlS6R///7GuL399tu1WkdAIWdXIkDRgWDtCBS+ceNG2blzpyCguj8C5dxjjz3mkfSCCy4wXJh16tRJFixYIJMnT/a4jxO45qKQAAmEjkDN/3WFrt6ILNkIhFy5IBSRHWhgjbZaOFh3FKObJap/+GN5kaGQaNPCtbM4W5ULpjRPiZXcbE9lAeJPxFV+InKyNXiRjvVO9fsOaaG7nVulxciefVVlmGVZ37P3VUhxSYWx6NlXfdPPXVDlRsGajsfhSQCfcSeFc4aTNP0ry7pj3TovnKGxH2CxkJNbLp98lSt//FlsfJ5POT5ZzjgxVaIqraKMWio/5lGqpLCWUVbsej6i9M16HXnMRUocY8GvrKTqWXrutWxdMHIpFnDflFLdIZuraz8ZSVVp4TbKOreVV655Yg0UdY4YnOBWRixapu5gvs2TTVvLpFAVEs9Ma2koJWiZYxIO/bvTc0boW9x4avho3T5DIRGjH9h26UmC4M81yWaNvQCFxJBmKfKej4RY3Dd3qW/J9e4WDcqAP/HSDZFQNtw2rKMc1jxZhqplwqs+yvX3Mhaet+/PN15z1Q3UR6qUeGxYB0M12q9VivyiMS7ssv9AoeC1aEu2/O/PXTJjVHfD7Q/aQ4WEnVbt58GO78YDxYZCYog+E6/XXp1Hip9358vDv2ySs/q0knM7NzNch90+tKPcNXeDO92TaonzfxZrXfOGt1gq9/++zVDkddNn5/4hHQzl1t2Hd5Cbf1rvd+wVs3y+kwAJHFwC/fr1q9aAn376yWMHeLUEYXRh6NChxkI/lA92geWE3XrCnsafcycZIfDx1Vdf7a4WO+19xUTAwrdVgslrLSeUx3DNhMV/KBmsAjdVePkSuBcbPny44dLKTAPLBNNllXnNn3fEm7DXdfbZZ7uzQmnir0IC1h0IBG8dIyjsoFjxJej76aef7us2r5MACThAoMr214HCGnoR2MWKXad8hQcD905offC8jUlipQ9dLB7i/v7dFYZbJzyng/rEV8tzeF9XoEHc37tTdz9rnrVrXAsO8Mxw0ZlNquUx6x3SO14Oryxz02aXEmPYYN0h2U790nt5ZlK1wDNPSPF6z1t6XqunZ676mjEehzoL54x6GjfLZ8zbvJCRFC2tW7isGz5Xa6lvvy8y5gN8rswd7lAJmJ+zqErLhwR1j2Few/sOXfiHYE4ZdIjnHNK3a6V/N72/ZXOZbN1UpfCM0/IWLy6p9lq+rNQo39rmWEtfUOchXV2WELv3aEway/kBVaw8+0KOzlFlUqKhJXDPFNMyB9f4CjEDh+cMcwz5HjyBFgHuQF+SpTsZVHqqu6e+lXEa7K24pNLFTRn8DGs8BggWc3uqtYEvWa3KAIjpqsdXOl/Xx/Zoob7DXfOXPc3mvVVKlthKC8+jujQzrCLsaXFuKDTUTRQkvtLSwzjhH58EnB7fZdmu5wxxSI7VANW+5Ai1qElLrfpdinSb812bXGCNM3u7y/0S3IJdo26arALlg/1lvW8/XrsrT55aucu4DGuefxympsEUEiCBiCLQtGlTefjhhyOqzfbGTp8+XZ577jljZ7z9Xk3niYm+LZGt+ULJyLrQba3zxRdflL59+1ovVTsOJm+1why8MH78eMFCfqBit0QINL+Z/o477jAPg36HtQXifVhdNNVUKILAh6tFUU3t5j0SiDQCVEgEMGLYdYrdq3yFBwNrTIgUXeDHK10XHju3jZUJ41JkzLHJxuhu3qKLfpXjtmGj6x/xE0alyND+uqBYeb1npzg58zSXz919agWxZ4e6atF7q/8sk8VLXf8A9u2VIDdemSaZzdR9U2W+ru1iZcpfm8qUy9JlUH8NUKvX334313DpgkXL66aky+gRSe70aN+xwxPl3n81k3GqkGiuvt/Nsvh+8J8r7Ih3Ujhn1P+YWsfQ/EyVFVSNa+cOse7P3FFDEmWszgWG6MKymT7/gMtEoqcqGTCv4Do+uzu3lktWluvemaekGtdwD3PCySe45g9zvsEcsnefS4FxzhmpMhAKjMp5o7W6frrgzFS585YM45p1Lmvbsmp+gTXEYQNd/2StXFFipK2o1HMkV851Zv2TL27qdtkEl09mXXwP7TNofd6cnDtYVmAEEnQDAtwZYeEeLpOGqQujfwx0BXNGTIitlcqDmkr9Ui0q4MIGcvuhbQULwqagXCz6HqnKB8iHm7MFO+UhR7dpKtOGtJN/HtFJOqvVgRlQGO0YrmWc0cFVzsqs6haTaWqWmZQY5/WFsnHvclVIvDiqm0AxYV2g7qDWETfobnZT1lbGnJigO+f/76jOcqn2oZVahpjSvGminKk7680g2itzXAoV8z7fvRMIZny9lfj5qj1GQHLcm3JIK8PawXxm8N65RYrcd1QXuVGDo3fWoNO+5Dl1yYVYIJBjNGbEOX1b+0rq1/Xv9fn/SJ9rSD9VckwZ7Knk8KsQJiIBEqgTAW+uhLxdq63w66+/XhAM25tgJ/mqVauq3YqN9XSYERNTXQFubYv12CzMWx7zXiDvaMukSZNkzZo1cuWVVwqCcvsS7LiH2yS4orIGtK6tLcEyGjdunOEGCwvcNQnc/8BN0aWXXupOFkxeFOKtb/bxsJ+7K7cd+FMWskApYMbMsBXhPgULxJCARQMEFhJwr+Rt/Pr06WO4EjvjjDPc+X0djBo1ShAMu2vXrl6TpKa6/vfCTW/9sWeCRcXKlSvlmmuusd9yn6MvCPw+d+5cadu2rfs6Dryx9Vavt2ve8noUzhMSaKQE1EW2bvNqoILAOs8884zMnz9fYAZYV7n7/o3y1jt7ZXCfltI0xXO3Ul3LZL7gCQwYECuXT06rsaCiogp59OEs2aYLiZCOnWLkplvSjR3OOC8qrDD8yCcnVy1Yvvxijvy2sMoVQ3p6lFx/U7o0a1alvyvWdQj8frNuMPxlQaH85xXXbsWTT0mSE09KdtcDn/OlupAY7+n2Xf71j326wNlgP4JAHFGyeUeurN2cJY8+0ElOHNO8zm3nnFFndEFnPPLoeJl4bhMp0NgLt9y4z13erVPTpL0qIyD41sPL+vndsL5UHnnItRhz2OHxcvFfXf9oIDZ0jGYr03XK667ZK0OHx8uFF7nuYR6AKybEbkAalPnk/8uW1Ss1k0qfvrEyeUqaex7IyyvX4ygx55sDqvj4x637JbNdtEy93bVoiXzZ6jIO/w+mqsISgnR3/TvLmK/s8x7aZf/f8dmnswXWF5TQE3BqznCqpeeff74RTBH/cPXs2bPOxWI334YNGyQvr2oHfqCFnTp+uWzZWiyd/1FlPRRoGbWlf/fkXrUlkXs1bsPv6q6oky70TlUlhRl0Ghn3qALikSU7ZPVO127zQ9o0kX8dmukOBA1LCLh8ssraA0VGEGvTb/8lA9rKKe09f4sUqjs2+OQ3JV8D1lzz00bJznUpJe45srP0rmGxGfnQ7pV78uW10d3MYoz3ElWwwBjC2q4P9Hvrde0H5Al1yYRd7qYgRjf6gTg0pqzWPkz9Yb156th7llps7XytVE44J0Mev7VL0OV+/tVeueHWjdJ0jMZcOKr6IlnQFfhRQKDj689zBqXD3arEsgZGz1N3XMmqkKgaJZF7/thuuNWaOqyTDGmeJO9s3C//qwxejqZDgTFtRCfpWmlJ8fTK3fLN2r219sr83Ny0YHO12CtmXSjkP+v2+hXjpNYKA0yw+oViKd9cIX/MHyRx6mqxLoJgwJ07d5Zly5bVJbs7jxNzobswHpBAPRGAixy4ONq6datkZGQYO/T93RleT030uxoEsIaCAn3BQi+sHA455BCjX34X4iVhsIywhLZnzx5BwGooRRBPAYwzMzMF7o4QA8GXBJPXV5n1cb1M/+lAXzdt2iT79u0zxgJ9RQwGu2IL7SnWf5TwexQuqpKSkgzFQk0ukmrqw7Zt24x6sbCPeB2IiwLWdZWSkhLjdy6eraysLEP50KNHD6NMbwG161oP85FAfRGI1N8rVf+x1BepCK4nutzlviOCu9Cgml5a6P2flEL1jpCTXSZrV5fIJx8WSt4BXVCo/Bdv67pyee6JHDnr3BRp1TpGEhKrysjWnc8fvpcvfyxQiwrLv4QH9H+7u6dmyWlnJcmwIxMkJQW7MKtQIt/i34tlzueFbrcpX3xUKCuXlsqZZydLO+zI1v+jzTxYQNywrkTm/VQkKNtaV1WpPDoYBKzxB5yon3OGExQDK6O0yPWZLtGYClY3Rq+8kCtXTGlifO6xvojXgZxyY/EfiopSS/pFP5dIr0OKZOgRCRJduQZWoUpFlLfwJ7VUkFw5Y3yKJKkiM74ykDTKevO1PFm3XF0rVc4fKxeXyRMP5cj4c3UeaB9rzB1mbzBvLNQYMyizNF+DieqiIdpUpOuVaWlVys8t6gLu5edypVTXhVHuskVl8tWsAjlubJKhUMHcAoXnimXF0ketviDFahFi7btZJ9+dJ+D0nOF8Cxt2ibB+sLtCKtJrCFC9NqdI3lqzV/Zku3aRY0HeqowAGZwnqhWUKSt3HJCrcjfIVX3byIBmiRKLD2WlHNAF40+2ZBmBq81reP9o/X4p1DpHqTKjeaVrJVMZAUXAD+oO5zVdKDaVEchT4CWmDK5bpUzLLCgskYeX75TRrZvKQA1EDZ2CVbGwU/v5mi5A/6zxJEz5f8u2y9j2GTJCrTXQDuSJruxHgSpGoLz4WHfpU/wjEOj4+vOcbdB4JpO+Wy+X9G4lI9TqJkmfwRRVLkD0q0DWqMJolgYcX1apKCvUcYNg/KwCpdi/F2yRh4/sJK0T1GJXXYr9vDXHHdzcmtZ6bH5uilRxZpeHFm6WB9XCBi6lLuraXL7X8rK0PRQSIIHIIYBd3sOGDYucBtfQUizswxqiLjEIaijWcAsVDCMsWmNRHC8Eaw5EgskbSD1Op4VCCFYP3iwfvNUVr4sfYBMoH29lQfkQjALCXiZiXUABgReFBEjg4BGgQiIA9ljg4SJPAMBCnHTN0jK58W9V/4T7qs5cHDTvI98Dt+eodj1KWmdGGwuBOWqlgAVCiD29me/TtwsFL+TLbO/6x3Hf3qp89rybV+li5L2uXZctW6k7KbWwyFW/79u3VP1D6asus06+1y+BqKqhcaRizhmOYAyokEU/lsiiH13zgvXztX9rhfG5b6dWUqZs3ajaQYtY07/9Ur589HqBJGrA6UTd5LRzm1otVCoaFn5fIgu/zxJ8ruP1fkFehezb433+wDzw2F2ueQB1Y+0T80auKjAgKDNrZ4XcdHnVXNahs6uNvualz98rlB+/KpYmTdWli7pu2qUxb1zlVe1mN9tq6R4PQ0DA6TkjBE1s0EWe9/lKv/u3ZleujP9sRa3poTiYNn+jkQ5BrCGFJWU+F3kRMPqtpTuMF3asN0mKl2SNP5OjygLTrZNRiOWPWb7lks9DKBtMhUOKLhKnxscaFg9ZeUVGTAh7RsQDeAYvvQFXU021PbCm2K/xB7wFNrbn57kngUDH19/nDMqmZ9Xt0rNaHVxzpSfFSbEqHLLzi6uN62O/bpbHPJvlPkM5V81Z4z7356Cmzw2UHDd8u86fYpiGBEiABEiABEiABEiABOpMgAqJANAZ/uBVKUFpGARKNa7g1jVVK9D+LuAh36ZVgeXbt10XLLe7Fj/9radhUI6sXng6Swi+7ZwzgmfodAk71ErKlNo+i/is5+ar8sCHJRM+1679rL4VmWZdePe37m1ra29jwX7dPW3oMDivWBnX97HTc0Z9t5/11UwAi9GBCBZzkadKvRhI7trT5uliNV7+ChQQe4pdFiL+5mE63wRCNb5QKuBFIQESIAESIAESIAESIIHGQoAKiQBGOkYD3saWUyERADImJYGIIgAFgpPCOcNJmiyLBMKPgNNzRvj1kC0iARIgARIgARIgARIgARIgARIgAWcJUCERAE8oI2JLqZAIABmTkkBEEYiu2pjuSLs5ZziCkYWQQNgScHrOCNuOsmEkQAIkQAIkQAIkQAIkQAIkQAIk4BABKiQCABnNGBIB0GJSEog8AlHV4zsG1QnOGUHhY2YSCHsCTs8ZYd9hNpAESIAESIAESIAESIAESIAESIAEgiRAhUQAAHMLiqVVrCvAYQDZmJQESCBCCOzRoJ9OCucMJ2myLBIIPwJOzxnh18PgWlRU5LDZWXDNYe4QE8jf6rBWv7K9+eu13KNC3HgWHzYEyneFTVPYEBIgARIgARIgARIggRARoELCD7CH9EwyUpWpf/kYxpDwgxiTkEBkEoiTaKPhPbsnB9UBzhlB4WNmEogYAk7NGRHT4QAaekjPRFm7rlDydlRIShu6uwwAXeQmrdRHdOmW4EgfzO/ilBTXd7MjhbKQ8CdQViHNO8RJXBznjfAfLLaQBEiABEiABEiABOpGgAoJP7j175NqpNpbUSCxZel+5GASEiCBSCNQWF4mWwoOSHJirHTt4lJC1rUPnDPqSo75SCByCDg5Z0ROr/1vaf++yfLZ51lSvFZUIeF/PqaMXAIFG1waidGDnfmtjO/itLRYyV5SIi1OSJBY18/xyAXEltdKYN8y3f1VKtLjEFqk1wqLCUiABEiABEiABEgggglQIeHH4PXpnSyjjmkq33yXI63Ls6RvSoYfuZiEBEggkgj8krVHsJQy/qRmQTebc0bQCFkACYQ9ASfnjLDvbB0aeNq4FvLiK7tl15fFUpIQJ60O4y73OmCMmCw75pZJ6fpyaXt4gvTvGpyVobXTF53XQp58dods+aJUOp/Ff1usbBracXG2yJ6vVCGhcumE1g2te+wPCZAACZAACZAACZCAhQB/2Vtg1HR4643tZd7PK2T+gd2yv6RE+iWlSfPYBHXwQnPimrjxHgmEM4GiinJZW5Qjq4oOyM7ifOneJkVu+1d7R5rMOcMRjCyEBMKKQCjnjLDqqAONyUiPlak3ZcqNUzfK/pklUpoXIxl9YySpBX83OYA3LIqoKBHJ21UhexaUSdHvupAcHyVP/6OLo2278vJMmTc/V379LVfWZJdL0wGx0rxvtMQEZ8joaBtZWHAEirMqZOcvZZK/WGPO5FTISWdnyFGHNw2uUOYmARIgARIgARIgARIIawJUSPg5PB3bJ8rLM7rLvdO2yLKVWbKqMMvIGRsV42cJTEYCJBBuBEorXDvx0K6Rg9Ll/oc7OtZEzhmOoWRBJBA2BEI5Z4RNJx1syEljm0up+oOf9tA2yf66VA58XTnn6sI1pQEQKK4MGqFdadU9Tm69oZ306uScdYRJ6ImHuso9D2+Sz2dlyf6NJarg0jt8hkw8kf9ueY7+cmEzmXZ958jvE3tAAiRAAiRAAiRAAiRQIwEqJGrE43nz0P6p8s6bveQ/b+yQpUsL5M9lhVJk+RHtmZpnJEAC4U6gSVKiHNIjQQ47IlXO/EsLx5vLOcNxpCyQBA4qgVDPGQe1cyGq/NSTW8jwoWny3oe7ZfGf+bJCA12XV1QtZIeoWhZbDwRiVSnQvrN+h/ZJkasvyQxZjRkZsfLofV1l5BF75PclufLHikLZn63mGZQGQSCjVZz065kofzm+uQwZ2KRB9ImdIAESIAESIAESIAESqJkAFRI18/F696LzGJ3RKxheJAES8EqAc4ZXLLxIAiTQSAi0bBEnk/8WugXrRoKx0XfzL6e0ELwoJEACJEACJEACJEACJEACkU2AEQYje/zYehIgARIgARIgARIgARIgARIgARIgARIgARIgARIgARKICAJUSETEMLGRJEACJEACJEACJEACJEACJEACJEACJEACJEAC/5+984Bvo0r++LjIvfcaO07vvUFCS2ihk9DbAcfRDwhH/wNHJ0DoBxxHDf2oOSAh1As5ICG9k17sJO5x7+U/v5WevJIlWZLlWLJnPpal3X379u13d9/uzryZEQJCQAj4NgExSPj28ZPWCwEhIASEgBAQAkJACAgBISAEhIAQEAJCQAgIASEgBISAEPAJAmKQ8InDJI0UAkJACAgBISAEhIAQEAJCQAgIASEgBISAEBACQkAICAEh4NsExCDh28dPWi8EhIAQEAJCQAgIASEgBISAEBACQkAICAEhIASEgBAQAkLAJwiIQcInDpM0UggIASEgBISAEBACQkAICAEhIASEgBAQAkJACAgBISAEhIBvExCDhG8fP2m9EBACQkAICAEhIASEgBAQAkJACAgBISAEhIAQEAJCQAgIAZ8g0KMNEnFxcdpByMvL84mDIY0UAkJACAgBISAEhIC7BA4cOKCtGhsb624Vsp4QEAJCQAgIASEgBISAEBACQkAICIEuJdCjDRLjxo3T4K1atapLIUrlQkAICAEhIASEgBDobgJ43snJyaHExNI0YCMAAEAASURBVMTubopsXwgIASEgBISAEBACQkAICAEhIASEgE0CYpCwiUVmCgEhIASEgBAQAkLAdwhs2rSJKisrSQ3G8J2WS0uFgBAQAkJACAgBISAEhIAQEAJCoDcR6NEGiczMTEpPT6fFixfT2rVre9NxlX0VAkJACAgBISAEehGBN954Q9tbMUj0ooMuuyoEhIAQEAJCQAgIASEgBISAEPBBAj3aIIHj8cADD2iHZc6cOT54eKTJQkAICAEhIASEgBBwTOCbb76hp59+mgYMGEA333yz48KyVAgIASEgBISAEBACQkAICAEhIASEQDcS6PEGiSuvvJLOO+88+umnn+jMM8/sRtSyaSEgBISAEBACQkAIeJbA/v37SQ26gFEiODjYsxuQ2oSAEBACQkAICAEhIASEgBAQAkJACHiQQI83SIDVM888Q3FxcbRgwQI666yzaNeuXR5EKFUJASEgBISAEBACQuDwE3j77bdp5MiRtGXLFvrrX/9Kp5566uFvhGxRCAgBISAEhIAQEAJCQAgIASEgBISACwQCXSjrs0VTU1Np6dKldOutt9IXX3xB3377LcFzAnGW8Rk4cKDP7ps0XAgIASEgBISAEOgdBGpra2nVqlW0cuVK+sc//kH79u3TdvyRRx6hu+++26cglJQ2+lR7D2dj4+MMXbY54W4fbVdyLytvoubmVvsb78VLupK7t2OV69Hbj5C0Twg4JnC4+y/pMxwfD1kqBLydwOHuM7ydR68wSOAgDB06lBYtWqR5S8Aw8cILL3j7sZH2CQEhIASEgBAQAkLALoGjjz6a5s2bpw2usFvIixb8vqqS3v+gkNZtrKGCQjFI2Ds0GRlBNHxIGF1xWTINHxpur5jT84W7c6g8zT2/oIFeeHk/rd9QSzt31znXiF5YKjYmkIYPD6PTZ8bSKSfF93gCn3xRRIu+LaMNm2qoqrK5x++v7KAQ6MkEkhMNNHxYGJ13TiJNnRLVJbsqfUaXYJVKhUC3EEhOMtAofua58IIkmjguslva4E0b9Wtl8aYGHY62lJeXayMMMcoQn9zc3MOxWdmGEBACQkAICAEhIAQ6RUB5d+J7+PDhnarL3srDhg2jPXv2UHV1tb0iLs9//qX99MprBdp6YVEB1EytFJoZ4HI9PX4F1k/W7G2mhtoWbVdvn5NGf7o4xe3d1nMPjwZ3otAMf6YvoifQ2sTc9zVTo4e4f/5lMc2dd4AqKpoo0OBH8TlB1BDYItz10E2/6w+0UO0ho2L+vFnxdP89WTZKuTYrPDycsrOzadOmTa6taFXak33hobImenjuPlq0uEzbSmxKIIUkBVBts/Fat9q0TAoBIeDlBKr5nuHvR1RfYbyG/3JlMt18fbrHWi19hsdQSkVCwCsIoM/gLoMaKo19xjV/Tqa/XueZPsOTzyuHE1av8ZDQQ42OjqbjjjtO++jny28hIASEgBAQAkJACAgBzxJ46918zRgRnRBI4Sf4U+QgPI6L2CfgT0VrmqlsUTM98fQBSuIRmDNPdH3kuOIez+tHzwwkQ44oPu0zxxIj90Od5L5ydSXdc78xnFraqSEUOUGZf3pF6j7HiG0u9afKfQFUtKiJPvq0hEJD/ej2OX1slvTlmcoYkTMylBrHtVJYtvG8iOLzTkQICAFfJGC8dsu2NlPhwmZ69fUCior0pysuTfXIzkif4RGMUokQ8CICxj6jdFMzlSxu1t6NIiI812d40Y463RR5AnIalRQUAkJACAgBISAEhIAQcIXA1m01mlI9KIQNEeeIMcJZdoljAijlYmMuiYee2E8YKemKKO7BzD3uQoMYI5yEB+6pJu5/n5vnMnds5rF5edrWMi7SGyOcbEAvLRbZx4/6Xmkgv3g/euvdYvr5l/IeRUILucKeEVkjQsgwq8VsjOhROyk7IwR6KYGYQQGUfgHfr4P96KlnDxLuv50V6TM6S1DWFwLeSyBuWACl8bO5J/sM791bxy0Tg4RjPrJUCAgBISAEhIAQEAJCwE0CP/1sDE8SOjKAwlPEM8IVjFDSBuT4U/mhJvrfr0aOzq6vuKdODCL/OIlT7yw3lFPcq8qa6dufD7myKq1cU0lbttRSRBqf7wOVZ4RLVfTawn7stx81zhjGbeH3rnH3dmjIGQHxnyR9oLcfK2mfEHCHAJ5vgocZVWuf/1DqThUW60ifYYFDJoRAjyPg6T7DVwGJQcJXj5y0WwgIASEgBISAEBACXk4AiVshsZNFEefOoUqcZlTQrlxX5dLqirthgkurSWETAcV9KYdfckU2bDQep/Apkh/FFW6qbAq4cVexar1r57ta31u/cT3GpxgoKFPCpnnrMZJ2CYHOEkidauz3f1/b+f5L+ozOHg1ZXwh4PwFP9hnev7e2WygGCdtcZK4QEAJCQAgIASEgBIRAJwnsy20gQ7A/BXMoFhHXCYQnGR/VdzBHVwTcEa7JP0pG6bvCTZVV3Pfk1qtZTn3n5hmPU6DrKT+cqr/HF+LT3S/BjwoPuBaizJu5lJQ2UlVlM8Wl98rUjd58aKRtQsCjBLTnnCA/OnjQtfu1dSOkz7AmItNCoGcS8FSf4ct0xCDhy0dP2i4EhIAQEAJCQAgIAS8nICrxzh8gtx7YBXynwfuJHa3TDKUCI4GGZrkg5VwQAkLAeQLSZzjPSkoKASHgmwTcer/xzV2VVgsBISAEhIAQEAJCQAgIASEgBISAEBACQkAICAEhIASEgBAQAt1FQAwS3UVetisEhIAQEAJCQAgIASEgBISAEBACQkAICAEhIASEgBAQAkKgFxEQg0QvOtiyq0JACAgBISAEhIAQEAJCQAgIASEgBISAkUBQUADFR4VQYKCoRuScEAJCQAg4QyAyPEjrN50pK2WEgD0Ckl3LHhmZLwSEgBAQAkJACAgBIdBtBKAcOq5vLA2LDqOU0EBCBPaiumYqrGuk1cXVtOlgBYWHBdHs/s5nEF6wu5TKKo2JisdmxNCUpAhKCzNQEOuhSuqb+dNEG8tqadWBCmpoaLa579Ny4rhNofTJrlIqLq+1WUbNzE4Ip5MyY2hZURWtzStXs7362xkuFwxPYWbOJVj4vbCatuRXaPucGR9Ox2dEU0a4gaJZCVjGzIvrmmhXVT0tz680HxtrQB1xjI0MoWnpkdSfv1P5XDEE+FNBTROtLq2mxduLravz2mlfZI/rdAIf09GxYdq1FBscSLVNzbSnqpG+2neI9vK1KuI+AXevGfe3SARF05+HJFMLV/Ly+gN2+0JH2wgNMVCwwd/mNX0U96F9I4LNqze1tlI1nzOl3B+sL6q2uY65cBf8uHxYMh2fGkUf7z1EH20q0LZw4oAEGsr9/EruQ5ZyX98VgmsnItRAVbWN1NQE2p0T3A+PzYymAdwP9okMojquc3tFPW3m+9SyPYc6V3kXrB0TGUz1jS1Uy/d0vQxMjqRT+L5Z2tBEb68/qF8kvw8jgb6J4XQUXxfOCK7h9zbkO1O0XZlrx6RTCN+zP9tTar5fOOo/HC1rV3knZzhzT+7kJtxevaPnsBZ+aP5gS4FH+hZbjXxichYlBgfQPav301Z+foO48yyG8+y4tGgaFB1MaPMf5XX0fV4F5XHfa086eibEeheNSKFAB4nA9O8D9rYj87uegBgkup6xbEEICAEhIASEgBAQAkLABQJQiD1/ZDZFWo1Y7R9prOQMVrqsYIXFv3eX0GmsDHVWYMiAQeKRqX1pUFSbQgzr940w1nJiWhQ1D0mi8xZtbVdtRlw4XdE/QWvXcjYyODJIQDn0l8FJNJC309DS4hMGCWe5zOoT046NvRlQVMAgcT4bMWZbrZcVZlxrOkXSVawAvPG3fXTwUI1FVc5w/Nuo1HbHM4MVfePiQ+mE9Ci69b+7LOr0xglfZT+Vj+kNfJ5bSqCmcD42JYLmbsynFfvKLBfLlFME3L1mnKrcQaEYNiYcmRSulZgfbHDLIPHEEVmUGhJI9685oBmP9ZuD8n9IdIh+VtvvwUQbyuro6XUHqLK6oW3+Yf41gY3Jo2NDCf3XUuoag8Slw1JoJvdPn/H18T5fJ52RMXwfvHloMoVb3TMHsNIf29jKy59Ye5DK2fjrDQJF790jU2g3t+e2n3dbNGlATLB2/pWzseJtEoOEBZzDODGarwFXnq8+3lrkVl8xPdX4YLeipNpskHDUfzha5kk8zt6TPblNV+py5jnss50lbJDomn5U6fr9qW1wiqvPYlOyY+kWNn7rx7f05z7rZO6zHuT+CgOPrMWZZ0J4vZ3F7wiOZGU3GL8dtae3LhODRG898rLfQkAICAEhIASEgBDwUgJzRqVpSv8GHi71c0EVrWMldX1TK2VHBbGiIoKyWNnvz29D+ZUN9MYOyxHwx6dHUyYrowvY2+HrXEtF6C5WdJ0xONGsvF5RXEOreBRWUW0TpfGo/bFscBgTF8qvV20vWEB06qBEmpUV285AYgtff27fbSNTKZ5fiHxJXOHyyrYiCw+JETFhNCHBaF2wPh4bSmoJI+CUMQIKqKWFVbS7ooGSwgK10bxQXAfw8bR4KXWRY11zKy3cX06bDtVSJLM/NiWSRrFCEefK8QPi6bvtJV57OHydPcDiWvq5sJLyWYmcwQqFP7PhDsrRy9nQJAYJ1089d64Z17die41iPoafspIcXmmVte4psyx7UNvb2cQjYX8uqNTOkwQ2fExhI0isIYBGxITQY5P60G2/7m03et52TZ6f+x17ye1i4zX6k64SxUgp9tzdTip7J93D9xxII98zP+SR5tvK6imMXf+OSY6iKYlhfM8LofvGp3uNcdbPFB3Lz8bOry+upc8MZXSIPSREuo/Asvwqqm+29Ny5rF+8dq9ey9fFajYgKOHbr1vGCKz/Pp+vIf7+tE13ralrQ9Wv/3a0TF+uM79duSd3ZjueWHcJPyPvrKxrVxWOXHWNe/13u8pcmOHssxg8xK4flKQ99+G5cP6OUu33n/l5G8bsW4Yn0591Bgl3n62/Yu/kfCsvLOzOHr7/iHQ/ATFIdP8xkBYIASEgBISAEBACQkAImAikx4VpCilMzttcQKt0o6tX87zPNhfSBB6VjZA/CPWwcJulQSIlNIgy0w30BxsfrJehzgv7xuGLFu2voNd5FK6SdZhHxZTFowKPZS8JvUBnwgNlqYJHbEZxGBJH0swFDbyCM2Ud1XO4l7nC5fsdlsr9fB7tCoME9tkW87smZWm7k8svx9ajYX/gJe+xR8xZrOgo4/BNSlzh+CKHWSniF3J92JNlbIx6a/oADgXhR4OjQuk7VbEXfvsy++UHKmkDGyNKKtpe7nfzyEMYI2CUSOIQTlA86I+NFx4Cr2vS+TkJWptcuWZGcNiLJlZIby+uohFskBto8kJAX7iOjXV6gcEjKiiQNrFBAMcG3l+xrAQq5vBB8FLaWFrL4TNazccNYVIGxodRCRtvS/g6Hs1GxBw2PNWxwhJGx21cjxKE3Ik1GWTH83YCTZbG/OpGKihr84BaxQrNH3R9yRtcwQwOwXfNwERK4bY8PDnTQoE+io3NNQhDpNsWtpkUE0qp3Ifs4nB7yqsCOSFgGIPSKSSQjRwJoZTBxsk8bvtKVuCp0H2qzdbfO1g5ipBHtpRWqHsQG64zeJsINZXH4ckUR9SD/UfIJNyjEIqmsrGZtvIxUGFNUCaZjbjgB0GIJewbxHr/UA5tT+e2V3A9uzgEk/WxvG6o0UOpho/FnGW5Fp57uH/CoP4n7l9hnJ3K97//cehCCOpOYUM89tVacYlzCZ59+jZjHXgvDudjirZDCb2XFYkrWOFnfX1jFPOY5Agt3CLWK+S+/Q8+pwr5GGHZWL7PQ+K5f1D7jmnsWwH35Zv4+Jfq7gdYBgH7Ubz9TG5HGRssdpSz0UintEQZV85VlIfgmOVwyJg4viZgCMEx3cIGVuv9MpbuHf/RD1h7LJ7M93ooi5fwNahCmeF49mfjP/oU9P1K1Pmlvy6xDMcboXk2HDD2Sat5nWjmXsrnEsRR/xHNIYKc6VtQBzxtEtnQWcDPiZv53LMOH6j6S3hwYkR9JhtCwwID+Zqvdes5EW135vrQ903BfG8czQbDVH5uRejK1WwEwrUIpqPYQNufz3f0MauY0R4dW2xLyZccam6Pg9CIqq+3Pg5YH/s9JDGCGvhiVhwwncKhTGN4GQaKIHTamsIai75bbdv625VnsfHstYXnMzzr/X3lfnMf9Hc2BP9zajbFsHF6SEqUOeSnK8+E+nYt2H2IDtkw2OjLyO/uIyAGie5jL1sWAkJACAgBISAEhIAQsCKglFeY3QSNhw3pzIhr5f2AUBy2BC+tb1m93H35RxHhA/nH9P6UzEoUe4IX8iu+26Ytvmp0GiEElC+IO1yc3S/WyWliazQsFkCJON8qVrgrHK2VJqgTiqRDrMBLDQgkfUgBLPM28WX2MApax4AH32ns4QLZygrU3qzU0yC48c/Vawbx+O8fbRwlX8uK6VBVAbadRfQ7KwGf+H2fuSV3c98Eb4Rfi6I0TyIV6mcdK6ef5WtR1XU+h6bD8YMB4lYOCQSxrv+CbI5VzqOcP2VjMeThselmbyeEfFFhX1aW1NDjy9vaoBW2+gdjJ+4BMGZBgY4cGrlsuICh+l4OzQallHU4vYvZC+cIVoa+vavE3E+fz+vD88qW1PVL4FBSebST89vYk9n94trllUBZxG0/mw3i1qO065pT6KoluygpIogeHZdus9qdrGi757e9Gs8r2UigwgYOZ0Xo8BjjsdPvH2Kg2wo7spWNCvcvM9aD467CX33Ex8BWGMGvOJTO8WxgSOf8OifzeaAMEpcPSqDxbGR6dXsRfavzIEvg3Bnq+M9e+Id5XxBeBSOaoUTUSwmzvndlnmZswPzJWhiWJE2ZqS+H3//kbUHJqe6LCMuI46rkJjaIwZB0G+f1AK87lu5Wi+gUbu9lbKjTe9Jh4SbOSfL4qv3mfsiVcxXG0kemZFE/3qa1NLak0AXfbLWeLdNWBMbzdXYjh+2DQezSxcZnHxS5c3QKZfI1vJi9jf611jj4A8ZDdbwvY+MUlO93skdsAiu/711tVIo76j9gyFLH31bfAmPUrWPStHBrVs1kD8oKesM0CEXfX36VF85hzaLN9b7FYY7cuSc7e33o+yY8heqvpkNsOIR31hkcbihY7SiXuSA7zu3wh7eMSKU0NiItLaim51blWmA5nvO0Xc79Ifr0S9gwo6YtCmGiP1nwa7fcNMOVZ7GhJoP5Dr7O9QZRDG44yMZIGL6GxIWYDRKuPBPaa5/M9z4Cjod4eV97pUVCQAgIASEgBISAEBACPZhAYVWDFioEu3gru2zDdR4KEk9JnikEySn8Ano1v7hC4QWlRG+XruSyl48pBHkd7j8im4ZxDHkoDrpSojlpLl5oIbm19V25qU7X3VPYI9HkbB6tPXcacrQYcwR86oXJdDt9wA5DBZ25ZmCM2MNGvu945PheVvhBJrIH08Ss9jG1ociHMQKhfsrYgFdvxwis32XUv4U9D6BoLG1o1hadyyHtMNoW8jEnM8cIaAjCMv2HR9Dj818rzwZjifb/v2GvN4Trg0Ah1VlBCJFf2VCM0CaoFgr1W4a3KcGdrf8EDv2GuO1QIMLQBiMMGKN+1BmI0b4cJwXbQB4MhE56jUMK/mIyfEDpfSIbOiA/FVRQESfxhkD5phj9m0c7Q+ApoowRUNi9x14NMOigbhgyzmEFMCQ1vE2R/uNeSy8YrYDp39d5xnoz2SPCHUFYqDlskMJ+FvMx/4Q9L9S+IzzhHDaeQHAO3MI5mGB0wLmHdoMTeEGCOTTPFh6tvtXkUYWBAWrf8V1kGiWvFdb9Q7gWKE6ho93OPMAVXo44S4axYvPPbMCwJR2dq2ezYQjHBfXgfEbIwW/5G8fUoFMI26pb5hkJbGQPOUgY9wsY/Q+Bwh/GCMhUk3Eav+FZBMnnc16vhNZmmv456j8cLcPqN3DoMuR+wXXyO7frfT734HkAQS4VPHtYy6lsNMWhhkEFinl4fbl6T3b2+rDeNvrd34pqNGMBlsFIjL4Uxgj0sbjG4HkKmZFqO1/aqVz+5IEJ7T4nsqEWokKXHpEUZu6jtQX8byZ7vEC+ZU9HCLp/nPvos95hA++bO4u16w3LwA8exK6KvWexGPaKgWw39Q36euH5BIk12B/8oy/v6PdfuW+6cVwGXcmGr+ncr6r7lKN1ZNnhI9D5I3z42tptW2pqYre9vDztc+BAm2t/tzVINiwEhIAQEAJCQAj0CAJhYWGUkZGhfRISjC8PPWLHOrETGG39BYfbgTIGL7iX5MRrH4wc3cOK7d84HMlXPJrT3VHXb24roft4JDFeQJFcFR8IlEJrWeHzKb+EdRTOoxO757WrdiWXL5jpCWmR2qhtxIcfwYYgCJKWbuJRkp+z0kAf6sETkK7jhLEQKJp+2GdfUacV6uZ/PYX91ayIRBJdJRiRujrPMo+LWibfjgl05pp5nBMkr9SFunvyqL5akvGZ6TH0+17L44FcO89tLLAIuYSwI/YEyrEH1+43hw/5jBWQCK8BBXQq/4aH2cccQu1oDpmCsEv/3lXaLqSOvbr18zE6HiP/h3NYoW/JMkScvlxHvzeyYWDu6rbR87+YkimjbdlsjLEXBsW6XhitL2OFOMR6pPF8Nq6eyoaGWmYJb68L2UNOf3/6htdpZIXYMRzCaGBkKH3N07+xoW4oG9qRvHUZe6G8t8EyqfWfTNv6nO+F+mUq0fkxHJLrAz7O6RFGAwMMOLY8ldBeyMFqYzg83FOhkGswGZKMSzv+fwUr7mGIsU5C/TOHVHlobBohES0UjzHMFecC5AU+r1QomU95uh+HoCmvb9G8OD7bZ6C72Nskr6axnXectrLVv0tNylUYI+7SeU2gPddx245mtu9wG/T3bmfOVWU4hfJXjeLHpt9iRuN8xLvRCtVhn8SIdtzLozmc5VA2fC7l6SmpkeZ2wOCJYw+PpOGmwSX6/BPmgqYfjvqPZVzGXt+CsHOTTLmsHmJPiA1sWIJ8xp8nuA/M4fPzKL5urEN8rednkJc2FVp4FxXUNLn0nOjs9aFPKg8j3eNr9pvDzJWzMQXGEVzL93GftYNzbUF+5L70Mfa6Ghlr2ziLfgUfW/I/vgf/xEbOK1gRj+vyKDaoqpCbCOWkvH0XmgyhMAbjo5evtxbTS+wZjPCLOdwnW4e+0pe19dvesxjCtUFgCLKW2majsTbWZLSwXu7KNJ459QLvu7tX5Xn8mVO/DfntPAExSNhgVVFRQYsWLdI+3333HYkRwgYkmSUEhIAQEAJCQAh4lACME8OGDaOZM2fSySefTJMmTfJo/b5UGRQwGCF8ema09hKJtuNlCiMZ8Tm7TyzNY2WHdSxtZ/YRcYtva2yiCzn0w2geracGQWI0fSorhxBK4hMe4ftvVqr1JulKLlDSXfe/PXQxx4ZHUnIV8gMKDIzQxmcNj5qduzLXQpHnLv8reCTcuHjjSEyM8tMrAdytsyvX6ynsEVe8kHMM5PAIblxPGFEJUWEyupJhT6u7M9fMWpMiTjFBUk+EVEnluODW8iz3o9Y5GazL6KcPckgdvRIfyshqDukEpWMEj+71lKh+2U5kPac3s4FzVugV9TCQVbDhDLmAkHdCvy+OKo1hTwQVQuXtbcbQVKo86ocSVUkoK9pmDIhhY0ooJbNXGGLeq3XDO8hBhDowylz1kQlBBprFXkdKlHINXgkwkgSzxwJEeZSoctbfwYHGcpgfzMfJVYPEAL6mIcg7om8PcmQoSeTzaz8rWWEExtZuYg/H/+SW0yY29CN3hKMQWaoOe99QJkM+NSlOVbkfObzOFaxgBK9MzsWhN0g4c67u5XvTKB5RD68ThFj8Ob+S9rERC8cURiMR5wis5mOMEGkj2YC4lEpZQW40SKjQO0fz6H4c/2HMGrLK5FXhXO3OlerHOSOUDOHtDNQpolP5OoQg74u1PPp7++cOV+/Jzl4f+meR1aXVZmME2gSjGAwS8EBSxgjM38u5PCDw2Inlc9w6HwLC7O03ecJpBU3/4O1Qz/kfYBz9H7OH0e4Url8ZJGZmxmolsV19Dih4DR/H9+6B3A8l8H08hvssZWQM0/Uj+m3Z++3oWUx1hRhsZC1NplnwWHFH0L8t4L6ntKGRDrEnWhCzG8FeXlPZMAaOD3JYwct/2OGR50132ifrtBEQg0QbC/rpp5/o8ccfp2+//dY8NzExkSZOnGgevbhjxw46+uijzcvlhxAQAkJACAgBISAE3CVQXV1t9sLMzc2lFStWaJ8HHniAMjMz6ZJLLqG77rqLIiJsj35yd7u+sB7iXOOD0ZxpPCqrP3+mJkWykocTD7IS5E/son6LVaJWZ/cLSqhH+QOFTiK/4PXlZJZj+SXsKFaWQxF2DrvAf7mz1EKR5WzdvlyuK7lAwfoyjwZ8mQHhpTqbmQ9lpQEMQDieY9g4NIyVGO4YmfTML+NRhkoRjnAH/zHl/tCX8cbfPYG9NrrSBBdKS8S9xrH4mMOg4PiLuEbAU9dMPeKXsASaRq671oqOS1ex0kjloOi4tHMlYkyjZ/ebQuw5t5ZzpRpNCjClZHNmLRgvIECpV3pbrzuIR2DfywZRZVDAclsKN+v19NMpOqXptGSESLEdJsWfb1b5bACERPC9DPczvWeGtsD0T284cPVaxD0Y9UNgCMF1bUtCOXk4FPk/cWLe41g5jZA917P3AgRGK+S4+JY9Zuy10VadmIftK575nGzaWmCMwfIwpeG0LqCbtj5Xv2FPomP5mCGXBe5FKrfFWlbyvsm5N/aXGpXBuirkpw0CUK5rBgm+j8PDCgNH4KHy9IaD9OSETJrGyvCP+HyAZxJkC3sFeVqQ+F0Jwh7ZkhAXFOrO3pObOfm7s9eHrTapeXV8jdiSjoyH72wvNnsi2Vof877iQTYwSOCahCdJfkUtHxNjv7KAvbCUnM4hUi9lr2S94Poy2T31szv83dGzWHmDcX+DOIybtVjkQLJe6OT0O3zu6eW/bChTHnKoP50Nxq56e+jrk9+eISAGCea4Zs0aeuyxx+jjjz/WqI4cOVIbmYjRiWJ88MyJJrUIASEgBISAEBACHRMoKiqihQsXmj01H330UXr55Zc1o8Rtt93WcQU9sARexvBiiA9Gds1kQwRGRGbyiDe8+LqqXNEjgmIESfjw+ZVHQy5go8QzkzK10Z3DeSRVZ5Jn67fja7+7mgtG+OGzhkduf7SlkF49tr82Ynkie0p0xiCBOMF46YboE2n6En9fZW/N+FsODaQUl6k8urkz16l13b1xujPXDOKUQ2BsPdzizjbhIaBCiWwoqbVosr8HjCqKhytVIa48pKP9uYoV8FCOl/B963VO4LyJ48MjVv6xnKxWKectdsjGhN7b4W5O1tzICk9rwSHFvfFAZZuhL4fvX9vs5OkYw8mAIcgTYi0dGapaTOcP1kM+iNV8L7YluazEh7y0Oo+WcCjEGZxIeyiHmYERAwYr3LexJ/qQMM4cA/322ebRTpTBLcgNrSk8N676cQfN5JA2kxIiWJEepBnukIdgLivSL168td32ZEZ7AhtN5wSO9Vl8rkP+V1iphcXBORfDXjmzmTEE+W06UrJrBfmfo+vNelm96Tqp5Oe6B3nwgy2pMOVtsbXM3ryO7slrdB5pzlwf9rbTlfMRElN5q5zcJ5pzuARr53kVs1Lh/WD4Q4hUCMJJvbmtiL2FarVjdcv4TPZutW0YtdVuZ57FSjnEHSQpuL3nXlKoUU1dwh4enhQthORIYzhPT3r0ebKNva2u9uaoXkbgzjvvpLFjx2rGiClTptB//vMfWrduneYpIcaIXnYyyO4KASEgBISAEOhmAvDMvOyyy+jDDz+k/Px8uvfee6myspJuv/12ysnJoR9//LGbW9j1m0cc6ql9bY/AxNa3cTgFJQHWb6RqgYNvJPrDi5ctyS1pU7QEulG3rTp9ZV5XcsHxhFeELdFe9jkMDMTWSDlb61jPw8jge6dkmY0RH3FYD308cOvy3jbty+ztsYwyjXDH8gY3wy7Yq7s3zPfkNTOZFa2Qfd3gpRJkGlnv7DFDsvuHWREMgeFgJ4+8hrDeTBPYVOz138YSjv8j2W6yaZR2LucjcFYKdewGmsLRWK+LdmWbvBveYq8g5Ouwl7hXv26I1QjhfF1iZ3hxQJlo/VEje4vYsAvvA8gVbKy3JUk8Evgok6H2Jw5JpETZGWJ116papv9GH60ScBu4rdZtUdMopwRx+p9blUtXf7+druZwfSqp9QQ2mugFSa47EtSrkqePiDcaVtQ6GJQAJTjkIId5dEdQPzzp7vnfbjp/0VZ67g9jSC4YltxJ4utOG3x9HRickagacjqHBYIs4XNA+2aPGchppvlIzu6sOOo/rJflmq5RA18z+WyoU+el/lsfmshRG1y5J7tzfTjadlct+0+uMQQZ8s+cZ3rG/kZnTBnA16ayWT9qymHhrOFItdmVZ7EDJu+3kexVYy2DTSHiCkzPhtbL3Z1WSdexfr08l7iL0aPrdXwH8OjmvKeyxsZGOu+882ju3Lk0cOBAmj9/Pv3666902mmneU8jpSVCQAgIASEgBIRAryUQGhpKDz74IO3bt49uvPFG2r17N02fPp1effXVHs2kL4dkupljfL9wXH8awy+wUFBB8KKDcBjXcygYCBLhOQqdoRWy+oe6rmKDxOvH9iO8cML4oQRxc+eYFGGYt1Nn+FBleup3V3M5h0N8IPHtFaNSCcoxJXg5PJuPJ+J3Q7ZyGAFXBefFk9P6anHAse6bO4vpcw61gfn6j6v1Hq7yvswejO6alEXXjc2gZI4drgTGp5s5fjwESs88HmUp4hqBzlwzqabEsdgiDBvHcPgcCEYsHy4pN41sPYrD7CnB9agXhBHCPCiVUzm+91no96dlU2JwgHbePLj2oHkkdQWHAlJyUo7RYI1r57xhyTQ5wVLJrcrhOyOMRwKbtovt3MbhlKB0w6jtPNOIfn15e78R+x0JwCE38DZh2FAylhNl/3PGAM7N0BZ8QiVLRpkR7ClwmWnUuFoH32WcywgylhPxqjbCqAHlbp5JEXcLX0fZuv0L55Ars7nPfIz7PAiUofM5Tw4EiaXvOyJL46nN4H9DOOn03IlGrz8YeL7W5UUoMDE9ig0sqBeC5MN3jUnVfuv/reBk5ZCzM2MsBgyg3Udkx9I/OOktjgcS5eL3OE6eqwRKYOVhgtwdkDLTthHCR90THBmaVpkGC8zm/FGqr8G2rxmWoo2ir+OA+RjN7ao8cGQ2XT0mzYLZ7rI2Q5WMonaeqD5RNbwUVM6QpSbDhKrJnoeNWo5vR/2HvWVbOC9FE4djgyHpLk4CjetdSQL3iTfxKP+LRhhHx6v5tr7duSc7e33Y2l5n58XxdYc2W3+sr6clbCBF+Djks1EeaN/ocrIozzG0Z1ii8X6Oa+wkNnQ64x2Bsq48i/2833g/Qi4x9P1KkHcChlg8OyzjpNzuCEJGwqsD4amU4Hn/b/wMCsF54k5/oeqSb88RaLtreq5Or69p27ZtWkzm33//nU444QR65513KCmp7SLw+h2QBgoBISAEhIAQEAK9hkBqaio9//zzNHnyZM174uqrrybktHriiSd6NAMkxb2H8wFAoGxA8k41egvzntzQlkQU064I4sfCMIEPXsLgDKGPJ/45x9RFKAclCBN1OitCIAmm0Zh38IttGSeKRXiNv3LIByXZrJC5k1+oIKrszPRomphoVAretzLPom61njd8u8rFlTaDMTjggxdNvBgjuaCS7TxaWSVbxDxnOQZzklWE71Jyeb8EwsdablmeS3oPGOvl3T3ti+zBLDbYX0sgjpjxeMlHCAiE51Dy9q5il2PGq3V7+7er14zihbBz6DNZP2TOG7Gfcw18t92ouFbluvJ7PSv7oZSHIuvImYO1fhaJ65/4fZ95s4jzbivWO3cP9OSmfNqS36aMQm6CXWwUQHJjxDi/iA0t+j7bXKnVj2nY/vEDNQO2ivOOIq9yOBIo812R5zlx9SOcDDWN703/YoNAIRsokHsAOXCM0qolph3C+Y6QnBZ9HUTXzRmLmf5vLmVvv2zSlIPvsEED/SGuIYzSf2ZDPj3FhoQ4vt/g+xAbUPz5DgjlHQQhoZT8wKEM4QWDPDwj2eD75tE52iLc2/R97BMb8y2M+CvZ8wKj1uFh8NYxOcSbttvWd7cU0BHMEtc2Bgz8he+JNXyOqXscNogR6yEBAdr+3DU8hRqHJnOYmEYtJAuUxJB3OTcTJJcN/qp9L0zpw9s13t9v/K3t/NAKmv69u7WYPeDYcMLbQHn0M+Cqjul87mdcHc2NqkO4kuM5vBQ+SCbcxMxUnoPdfL7B00PEOQJIVK3O+aUFbTki9rAxS4Vtwr1/l84T1V7NjvoPR8vmm5KcD+Vr8PWjcviYNlEUx/lS59/3B503yrpyT3b2+mh7qrS3567Pv9sUgsjWmpf8uNOcCw3Xx1JObn2MyVtqPT/j6gf17OHQpUgijf2+nQ19zXz9quvSVt3W81x9FkMYwlUckm9cfKjWnyPEYwvxfYv7Agi8udDvK3H2mRDlE9jrS7v3cJ+FZ81yzmeCvkv1xThP3OkvVFvk23ME1N3TczV6eU0VFRV0zjnnEIwReKFfvHixGCO8/JhJ84SAEBACQkAICAGiCy+8kH755RcaPHgwPfnkk4Swkz1RNhdW0Wsc7gLKACV4mcQrChRVW8rr6G+/59KGA+VqscW3iiNsyx0bLzdPbS6g1fwShBdjCBQ2SrGFEbBY/h4rg/SCUZJQvOiVL3hpsp6HdRB2yNZ8NU+vINJvozt/u8tFtVmxrrMR6xxlnt90kH7ksA1QkkLwUqg44AX4fY5Lfu9ve7Vl6p+zHBubms3HUq1r67sF2jYvFF9mD5w/stJAhXPBNaGMERgh+yznB/maFYkirhNw55pRW4H3GPpMKLChjPmFlVC3/bJbLda+1bVoK5xWE1+n6B+xrpL6JuNvNdJdzce3mqf6Acz7nBOtrjN5IKAuXO+qtlpTXSgHQQ4A9L0I64MY7Fcs2WUzf88T6/LNYWFUnw2lmrpXqHYYa237D/2WMhpAkf/QuoNaOCVVQrFQ9w7MtzVvK5/rd6xkwyZ7L+B+hFHGqBdG6W859Ekt78MTaw+Y24N+Dh9cH7hvQepNfSB+w+AC4ze4qP1RixGS6fpf92rrYXks34OUMQKsVPgV1AN5ZNleepmNLHpDhepjcT7cvCxXy9ljLG38D2X7Z5zUGYL9QVux34tMo5JVbgYsh/LuxqV7tH4cRhPst7ofon7k7Knm++sBvm8vZ8W0OuZ92PMC5yLKvM73dZUjCPU9zfdabE+v9MR6KrmvfvsIfXUj80D+AbQTnhYwRqDMixxi6Vudsc2Vc/U7ZqD6L+yPMkbgvHp0jWVSXHDo7aKucXWM9Dz0iap/tjLkLDGFbdrOSmhrQ6C6buua24xsjvoPR8sWbivWrm9cIzhPkvgaVcaIbdy//GLKsdLI5x2uK5zL1u1x557s7PUBXnjmgej7AkzXmgyk9fxMYy3oY7T26p6x9LlmrMtjGtcSEm7r5SudR8QC9pjQC/YBXmlQ3kPQJ6FfQL8MnhB9m62PmzvPYo8t30tLC6q1tuJ44RkC952F3Ae9vGa/tk31z9lnQpRfy8ZvFUIM+wHDLupHeDs8l+A8EfEOAn6tLN7RlMPTijPOOEPLE3HTTTfRs88+e3g2KlsRAkJACAgBISAEhICHCGzfvp1OPfVUgsfnK6+8og2w8FDVWjXDhg2jPXv2UHV1Wz4Fd+s/bfZm2ru/gfrd3TaC3dW64GYdwS8T1TxCVD+ay9V6bJVHmIoIHmGPF6Cy6vp2L6a21jmc85p4kOHOJ+tp3OQIeuelgU5vGtzzmHu2m9y7kgvCCESFBmkvu4dq6r1ylJri3m9sKH352hCnuT/42F768OMSSv8Ln1fpeJV3XXyVPY5rDF9PUPQ0sRLE3STW215soMAKP1r322jX4ZnWCA8Pp+zsbNq0aZPbdWBFT/SFJaWNNG3GBsoaHUIhZ7n32u3MNYMQQq+Zwvic/+02wmhVJAOGcq07BW0PYCOtP2uDnMmn4ExbVT6a6vpGu/3H9RxG7Fj22oGBYwErnwymbMie4oHwJGCMXEMI52Qtqo2Yj5HAjgR1oX3wMLBVF9ZFfciZVMFx16E4dCRgHsaK2KuGJHOi5jBNwXj1Tzvs3t9QPtyUWLajtqrtIhxOGIeoQigte0xRBrlkKliZ6ag/QKiZQDZawKBjrRxW29N/o3wIG2ggzrZXv76t32CA/gtKXGcY26oD87Y+0kDRSQH0239G2ivS4XxP9BkdbsRHCjjqPxwtw+7huorj50fckyr5unHm3LKFxZ17sjPXh61tecs8lWsBhidP9dsd7ZvqMz11TWN76rru7HNJR23vzHJP9BnYvieeVzqzH+6u26tCNt18882aMeL0008XY4S7Z4ysJwSEgBAQAkJACHQrgQEDBmjhJqdOnUrXXHONpng78cQTu7VNXblxKGhs+0J0fqt40TpcL1udb+3hq6EruUCZVtzQFYELDh+frtySr7LHcS2U49olp4Y714y39GtG5bljBbqr0FxVWEER6a4y0l7bjHXaT6LsShtV+xz1iq7UB+b4/MBeCzBIwLPiveMH8IjhZgoL9KN/8AjhtXltd1VV3t6+2poPA0Ml2d9/rKOVMSUatlWHmmfPoKGWW3+jvKvrWNdhPQ0G0n9ZU+n+aRwXHudvsyGOlmEFXFf60Js2K3Fipjv3ZGeuDyc23W1FnE3+7ckGutLHObtdua6dJdV95XpNyKavv/6annvuORo5cqT2Et99yGXLQkAICAEhIASEgBDoHIGJEyean2cw4EJECAgBISAEhIAQEAKKwOq8MvqvKZY/wpakhwZqoZ/CeOS4iBAQAkJACAiB7ibQazwkHnvsMY31008/TVFRUd3NXbYvBISAEBACQkAICIFOETjvvPPohx9+oH/961/00ksv0XXXXdep+mRlISAEhIAQ8E0CVZzX4D886h1JeT3tDeCLRH4trOTEx820jvMZ9GZ5cVUefRwTRtnRwRTEYZEqkM+iqC3hcG9mI/suBISAEBAC3UugV5jH33vvPS0J5KxZs2j69OndS1y2LgSEgBAQAkJACAgBDxG47bbbtJqQ5FpECAgBISAEeicBGCHmrz9I72/M750ArPZ6DRtn3mYeOwpF+V5QVkPLOZnt0l2lWlJpY6gbK2AyKQSEgBAQAkLgMBPoFQYJ5R1x1113HWa8sjkhIASEgBAQAkJACHQdAeSTuPHGG7Uk1PACFRECQkAICAEhIASEgBAQAkJACAgBIeDNBHq8QeK3336jTZs20fnnn0/jxo3z5mMhbRMCQkAICAEhIASEgMsELrroIm2dL774wuV1u3qFoGA/aqpvodbGrt5Sz6y/sa7VuGMuBlkF93rh7vZJobi3BrhWhcHgp63QVNvi2opS2kyglfPk+gcZOZpn+vCPAA6TA1HnlA/vijRdCAgBBwS055yGVvJz8b5hXaX0GdZEZFoI9EwCnuozfJlOjzdILFq0SDs+M2fO9OXjJG0XAkJACAgBISAEhIBNApMmTSJ8li5dSgUFBTbLdNfMEUNCtU1XHjAp1rurIT663er9RsX2qGFhLu2B4l51ULi7BM5UWHEfZDp/na1jhOk41R5wdg0ppyfQUMbna3krZQ8I1s/26d8x0YGUkx1MRbvY0iIiBIRAjyWgnnOyB4Z0ah+lz+gUPllZCPgMAU/1GT6zwzYa2msMEieffLKN3ZdZQkAICAEhIASEgBDwfQLqOUcNxPCWPRo+PFxrSumqZm9pkk+1o3yN0SBxxOgol9qtuNesFYOES+BMhRX3CSOM56+zdQwfFqEVrd/AXkFNzq4l5RSBghXGfmLkMKMhU8339e/hw8OokUdO5y+TftDXj6W0XwjYI6Cec4YM7Xz/JX2GPcoyXwj0HAKe7DN8lUqPNkjs3buXVq5cSccccwwlJCT46jGSdgsBISAEhIAQEAJCwCEBZZBYuHChw3KHe+HsMxNp3OgIql/XTHs+Ew2tK/x3zm+ipt0tNOzIMDpikmsGCcW9bFWjcHcFOpdV3PtOCqHzpye6tHZ2nxC69KIEqi9soR3/khHxrsAr2dBMNf9rpsjEALrzmkxXVvX6stf+OZUQRq38myYq2y5GCa8/YNJAIeAiATzf4DknfoCBbrs4w8W12xeXPqM9E5kjBHoSAU/3Gb7KxsWItL61m7m5uVqDR44c6VsNl9YKASEgBISAEBACQsAFAuPHj9dK796924W1Dk/RO/+WThdcvk17Wd9VTxQxwI9jLPtRaFLPiRPvKZItbLOpLWihqj9aqWlnMwVF+9Pz9+a4Vb1wdx6bNXf/KH964u5s5yvQlbzz1j60bHkVbdtRR9v+0UBRYwIoNMWPAlghLWJJoL64lVpaWqmMPQda8o3ePLdzfxEa2rPGzGWxoerOW9PpwUfzqODdJipKb6a4yQEUHN+z9tPy6MqUEOjZBGoLWqmV+6/q3a3UsLGZ/Fizdgdf5yGmvDGd2XvpMzpDT9YVAt5JQPUZVdtbqfEPz/YZ3rnHHbeqRxsk8vLyNAIZGZ23UneMUkoIASEgBIRATyXwy/HHeNWuDXvmeYoZLsZ2rzoo3dwYf39/Sk9PJ/Xs083Nsdj8sKHhtOCjIfTovFz65ZdKOvSHxWKZsENg+JHh9NLfcygh3mCnhOPZivtj8/Lof79UCHfHuMxLcyaF0qsP9KO0pCDzPFd/fPrBEHr8qX303kclVL64icpdraAXlo/PMtCT/5dNk8dF9si9P392EqWkBPF5sZ/27aun4k/FY6xHHmjZqV5JIHloMD17X18aNdC1fE+OYEmf4YiOLBMCvk0gdST3Gf/Xl0b091yf4YtEerRBQnlIZGb2LLdfXzzRpM1CQAgIAV8m0NLIw7q9SXhElogQsCaA551ly5ZRQ0MDBQW5r0y1rtcT032zQ+hfLwyglWsqaeu2GtqyvZYa5TS2iXbIgBAaNSSCxowy5iOwWcjJmeD+6gv9zdy37qilemNaCidr6D3FBvYPprFDIz3CPYBHyN5zRxadfUYibdlWTZv+qKGqejnhbZ1NmRkGGjMkko6c7FpYMlt1efu8Y6bG0BETo2nZigqtH9y7v176QW8/aNI+IeCAQFZWEI3n+8bE8V1jSJU+wwF8WSQEfJBAdnYQTRgeSePHdE2f4WtIerRBQo0SFA8JXzstpb1CQAgIASEgBISAqwTU8w6ef3Jy3Avz4+o2XS2PB3B5CHeVWufLC/fOM3SnhiGDwwifs093Z21ZpycSCAryo6OOjNY+PXH/ZJ+EgBDwLAHpMzzLU2oTAkLAewj06MCVTU1GV1hvGyXoPYdfWiIEhIAQEAKHi0BQbDRFDPVOJfHhYiDb6VoC6nlHPf907dakdiEgBISAEBACQkAICAEhIASEgBAQAq4T6NEeEq7jkDWEgBAQAp0jsHz5co4NvM+ikuOOO47i4+Mt5vn6BBSen3/+ucVu9O3bl1RiXYsFMkHU2kojH7+OE/n604orHybyk+SmcloIASEgBISAEBACQkAICAEhIASEgBAQAr2PgBgket8xlz0WAoeVwPfff08///yz3W36sWI2ODiYoqKiaODAgXTMMcd4Xexzu423seDZZ5+lDz/80GIJ9n/atGkW83x9ora2ls4991yL3bjyyivptddes5jXmyfC+qRQU3UdNZSUaRj8Df5smIAhAnHE/dgm4UdRIwZQ+fptvRmT7LsQEAJCQAgIASEgBISAEBACQkAICAEh0IsIiEGiFx1s2VUh0B0EfvjhB3r88ced3nRkZCTdcsstdN9991FAQIDT6zlbEO2ZMWOGRfF3332XLrroIot5MiEEOkPA32CgUY9dR401dbTh7n9SfWEx1RwopZDkWK6WjRH+/jT6qb9ScEIMLbvoXuKTvTObk3WFgBAQAkJACAgBISAEhIAQEAJCQAgIASHgEwR4uKaIEBACQsB7CFRWVtKDDz5Il19+OXVFHPTm5uZ2O9vS0tJunswQAp0h0NLQSDv+9R8KDAmiEQ9dpVW18Z6XafV1T2rhmkbPu0kzRhQv2yTGiM6AlnWFgBAQAkJACAgBISAEhIAQEAJCQAgIAZ8iIB4SPnW4pLFCoPcQeOedd2jWrFl0xhln+NRO//3vf6drr73Wos2jR4+2mJaJXkCAIzMV/bSSYJiIGJhp3GGe19LYqP3O/+53CkqMpb1vfem9+SQ470VDVSUFBAVTAIdVExECQkAICAEhIASEgBAQAkJACAgBISAEhEBnCYhBorMEZX0hIARcJvD000/ThRdeqHlAlJaW0sKFC+nOO+9sV8+SJUscGiTg7ZCbm0s7duzQPgYOk9OvXz/KycmhPn36tKsP3hdVVVXt5ldXVxOWKQkJCSHUBUH5VlbMKgkKCtJyXqhp5FLAukhajRBT2HZaWpparH0jDJUjKSgo0Nq/fft2qqmpob6cHBr14KPaodZHW/UeHchDEBERoRZbfOv3CQvQvrCwMHMZ1LVz504qKioiHAd8sDwuLo4SExNpzJgx7bZvXll+dEyADRAlv67TPtZJrA8u/MW4vhcnt26srqJPJ46kkXPupmFX/aXj/ZUSQkAICAEhIASEgBAQAkJACAgBISAEhIAQ6ICAGCQ6ACSLhYAQ8DyB2NhYSk5O1ipOT0+nESNGEBT7DzzwgMXGfvvtN4tpNQEDwfvvv09z5syhwsJCNdvi+8QTT6TnnnuOBg0apM0/cOAAYVu2BB4Neq8GtAM5LGCMsDYmXHXVVYTE1S+99BJ98MEHtHr1aq3KtWvX0qhRowgeEo8++qjFZvbs2UNZWVkW8zCxfPlyuu6668x1WBeAQeLll1+mE044wbwI86z3GUaZjIwMcxn8WL9+vdYe/Ux4m3zxxRfarOnTp9OPP/6oX9zuN/b9mmuuoRtvvJEyM02j/NuVkhn2CAQnxFNgVBg1lldRQ3EJe0K0RUkMjIqkoPhoam1sotr9+cY81/YqcnE+DAktVqHJ/A1BZAgNdbEmbjKv5xcojwoug5MVhIAQEAJCQAgIASEgBISAEBACQkAICAGbBETLYBOLzBQCQuBwE1AGCv124XVgLWVlZXT66afT0qVLrRdZTC9evJgGDx5M8LI46qijLJY5O6H3jFDrrFq1SvMc2LZtm5pl8W1rHVvzkLgbhg1HsmvXLoJhBUnB77jjDq0oDCfWhpsFCxbQ9ddfb1HV559/bjGNiUsuucQ8z177zQX4BzwsnnzySUL9y5YtIxiSRGwT8GfPmZC0RGptaqaW+kbqf8P5FJnTZiSq3LOftj39DjVVVlPWZadT6nETqNWUuqSlqYm2zpvPia9LKSA8jBpKy9iI0eaxY3uL9ud+f/5sKtuxlQsYPXs4hTZlnnQaHfnM8/ZXsrHEL9BAWafPpuj+A2wslVlCQAgIASEgBISAEBACQkAICAEhIASEgBBwnYAYJFxnJmsIASHgYQJIXm1LgT506NB2W4Ii39oYgZH8J510En3zzTcWoZewMjwaNmzY0K4ed2cojwh318d6b731lk1jBDwYtmzZQtbGAoSzQj6N/v3708UXX9zOIPHuu++2M0jMnz/foolgdOqpp1rM008oTxDrME8og/bMnTtXM4zo15HfTIB1/jFjh9Kgmy4ivwCjBwQcIVqbW6l8y272fiig0D4pFD0wm8Y8dSs1HCqnkOQEqtqXT5Vb91JQXBTFjR5EQ+64wowT6+/96Hs6+OWPFuHCzAU6+OHPhoS4EWNoyFXXaCV/vflads4I6GCt9osDOXTZlIctvX3al5I5QkAICAEhIASEgBAQAkJACAjbZLuhAABAAElEQVQBISAEhIAQcJ6AGCScZyUlhYAQ8BCBzZs3a54LCIm0f/9+eu2112jFihXtaocxQS9ff/21pszXz4O3wD333KPlR4Bh495777VQnEOZ/tlnn9Hs2bMJ3g0wZtx88836KrTwTPC6UGIvtJNa3plvhI66/PLLLao4+eST6ZNPPjHnd/jyyy81LxB9oXnz5mnhm2CUOOaYY+i///2veTG8F/bt22fOm4FwTfCu0AtYBusSEyO81Jlnnqnl6EDILOWhUl5eTjBw3HDDDfrV6ddff7WYlgkjgbCsVBo85xJqrq+n0mWbKJA9HGKG9aM9Hy6mgm+NeSIMsdE09J4/UygbImCMqNi2mzY/+E9zMmtDZBiNefYOqt53kKr2HKC4ccOozzkzqL6gmEqWr3MLdXBiEvU53hjq65cWkyuGrqb85cto80sv6uYYf4ZyKLUpT8zTJprqamnptVdT33POo+yZp2jzKvg8W3nv3RbrtXL9099532KeTAgBISAEhIAQEAJCQAgIASEgBISAEBACQsAWATFI2KIi84SAEOhSAggDhI8jefHFF2nAAMtQMba8KJDfAMmaIYEc6/5Pf/qThUEC82EAwbKxY8dScXExZlkIlPzjxo2zmGdvIikpif7yl79o5ZH8ubGx0cIYYG89Nd9W3oZbb73VbIxAuVNOOYWwHX2uCOSoUHLllVdaGCQwH2xuuukmrYgtTpdddplaXfv+6quvLKaRKBts8IGBAjkp8vLyzGX02zfPlB+UeOwEjcLmuW9S9fa92m/khfAzGG+vISlJNPqpW4zRkzj3CcJ3bX7wFYt8Eo2VNbT80nvM6+x9awFNfPMh6nfNbCr5nQ0SxshLHqVdx8e5aM0Kis4ZwPm22SWDpXL/XgrONe4DplvZwFewahklH3UMJjWpZyNi0doVFJXVj9fzo4rcPdRcV8OFuZFenKBbtV++hYAQEAJCQAgIASEgBISAEBACQkAICIHuJSAGie7lL1sXAkLAigBCB73++ut0zjnnWC0hspXk2layaOsV//jjD+tZbk+fdtpp9NBDD7m9vq2QTzNmzGiXPNs6dNKmTZvM2zzrrLPMv9WP9957z2yQQMJvvUyYMIFGjhypn6X9BpePPvqI4Hliy0Ol3Qoyw5IAK+GDE+O0edXs9aCSVitjBKduoGF/v5oV+y2089VPqGjJcgrg81uV01dmXgczWbHfXFtPQTGRHAYqUDMM6Ms687smdx9tev01rS4/NthV7NpBh7Zvp1idka+1pZmO/+hTCjB5znx77tlUX1zkTPV0wsef8Xoh9NVJM6hy306n1pFCQkAICAEhIASEgBAQAkJACAgBISAEhIAQEIOEnANCQAh4FQEo520ZI+rq6jRPB+vGWivurZdjGmGSvEVWrlxpsykd7QeW19bWUmhoKIWHh9M111xDr7zCI+1NAoPCnj17qKKiol0OCnh0WMurr75KV199tfVsmXaFADwENuyguFGDOFH1mZT70WLyDzJQwpGjqfgX9mhpbSYDh3Cq42TVxb+uYQ+IIGqpq7e5hdSTp1Hpys3UUFZOUYOyyRAZwXkmDlIre+C443lQc3A/7Xx/vratkLhEKt+1jYpWrrAwSGBhc0O9OU+FreTrNhurm9n3vAuNRgzxjtBRkZ9CQAgIASEgBISAEBACQkAICAEhIASEgD0CYpCwR0bmCwEh0GUEkMMBeRMWLFhAL730ksV2EG7oueeeM4/2VwtVWCY1rb5VMmY1besboZW8RUI4UbC1OLMPWMff3xhaB78RgklvkMA8sLNl2ED+DL3YM0agHQhdlZOTQwjppA8ZpV9ffrcRKFqygtJOnUapx0+h1BOmaLaDVk7ZkHH2dNr+4odsTCD2JDC0hTTi6X5Xn0vl67dTxdY9vCyIBt58EYWmJlLWhTM15wms39rcRH889rpbxgi0LmHiFDrmH0aDVQkndf/uIstzAGXgOfHpxDbPGXhjhCelYpHTMuzyK5wuKwWFgCKwe08dbd1erSbl24rA0CHh1Cej/b3CqpjLk8LdMbKu4l5Y1EjrN1ZRE3vLibQnkN0nlAYPCmu/QOYIgV5IQPqLXnjQZZd7HIHoaAONHB5B4WFt7+49bidlh4SABwiIQcIDEKUKISAEXCOAhMonnHACHXvssYQQRkjKrBcYLKAYnzp1qnm2wcA3dg47hITNSpBnoaCgQE26/d3c3Oz2uq6uOHr0aPruu+8sVluzZg3169fPYl5HE5MmTaKBAwdaeEMgGTUShesFOTViYmL0s7Qk3xYzeOLDDz+kc889lxXqrDFnQZJvJNcWsU3AEN5MyaNayD+4kUp/foKSpp9KjdU51FTfQjUHiylh/FAactuf2LJAZIiOpEF3XUUHv/iJ0s46jmKG5lDikWPaKmbkZVt2a4aLQDZQBMdVUP2ef1PKyFL2qvCj4g1ENcVs1PC0cN6QwVfdSP6BAeaaQ2K9x3hnbpT86DEE3ph/kF5/q4gOlTX1mH3qqh1JiDfQdVcn0/mzkzq9CeHuPEJPcv/hp0M095n9nI+pwfkG9NKSoaEBdO7ZsXTHrX16KQHZ7d5OQPqL3n4GyP73RAKTJ0XSXbdm0ID+oT1x92SfhECnCYhBotMIpQIhIATcJQAjAxThSKJsPbJ/1qxZhETKqaltI7bHjx9vYZDACP633nqLoHS3JTU1NfTmm29qI/7hkQHRexmodTxh1FB1dfSNfbWWhx9+WGun9XxMI4wOPEmQYPqGG24wF4HhAGGb5syZY55nKz/F5Zdfbl6OHwh9tXjxYot5Rx55JJ133nkW82TCPoGgsGYaekGbgcAvyUBNhd/Rmvt5xHer0aCzJyyE0s89gcI4qXVQVDjFDuunfVBr1Z79VLxsA8WOGEj1FVWU//USqtnbFlZs5F0hFBjqT/FDeIQ0GzTi2Fa1/ct6qi5o26b91jm/BOfWyOtvYENIsPMrSUkh4AaBhoZWun7ODvrl10oKCQug1LHBVFXbTH4ZblTW01eBfbzAj0q2NNKDj+bRytVV9NSjOW7ttZ57GHPPHB9CFTW8AebuTog2txrhIyu1NrVSK7j/0Xnu2OWHHt9LH/y7RNv7lGHB5JfGhmW/FuFudT7U7m2lsHA/qtzYRG+/V0wr19bQ04/3pcx0uS9ZoZLJHkxA319kDA8hf+6jKznsZ3MLPwSKCAEh4HMEmiv52j1ItGx5JZ1x7ha6+/Y0uvj8FJ/bD2mwEOhqAmKQ6GrCUr8QEAIOCSApNUb2n3HGGRblYGyAkvyHH34gGC4gCD30xhtvWJSDwh35Ey699FLq06cPNXLM/c2bN2ueFwj9hHoeeOABLUQUVkxPT7dYHxMvvvgiHX300ZrhAkr9xMREzUOjXUEPzJg+fbqWwFpvgIFRBUYReIYMGjSIENZpOycghjcIEnyjTdOmTbMwSKApF1xwgYVBwrp5CL2k9zLBcluhr7CdDRzWRxmG/v3vf4t3hDVM3XTMAGgMDZS7tJZKtwXR6Pv9qKGqmcMs+ZnzVTfX1NG+t/5jXIufSQf9NZ4i+ibRxrnFVF9gTBwNQ4Qtaa5vZYME0cYPG8mPB9YOvSiQMo820B8fcWmjvcPWahbzag8epG0fccgolur8AzZXg1GrkHOa+BvaHgWQqDqBPZhEhIAnCTz+1D7NGJE+LpiCprVSUCxRFLV55nhyWz2lrujCIMpf1EQLvymj/jkH6Jo/s0bbRVHcB08Oo4YjOKdNNCt/ScIHOMJYU+hPBxcauffte4Cuv8p17p8uKNKMEclZBgo41o8i+xq3GCXs26OfapyVfGoA7WPum1bV0GNP5dJLz/RvX1bmCIEeSED1F5l9gylghh8FZxiNEKHSX/TAoy271NsIFK70o0NfNtGjTxygSeOjxVOit50Asr8dEmjTQnRYVAoIASEgBLqGAMID3XLLLfTMM89YbGDp0qV011130VNPPaXNh5eDrXLIQ2Gdi8KiIt1Edna2bsr4E94HU6ZMMc+HAQMho7pC0tLSaP78+XTWWWdZVL9o0SLCxxVJSUnR6kHuCFuCZNbWHiEw7kyePNkiTBaMIwiHJeIcgfBko0KvdBe/PIZz2KYANkgcajIbI9rVwkaEkmWFFJ5Yy4YBhNRyrBCs2F1PiWNYbcjFGuoDqLGmlUKi/TnnA4+udSIEeUBYGFXt2EYbnp5rbkpgKNcXFGSe9gsMpMCwCPp1TpvXDRaGJibRzK9MHjRssMB6AVxWiT/nnQgMQaxvJy0jakX57rUEfvjvIfrwkxKKZ+VsxOnAIOeOMydDWJIfZZ5toN2vNNDzL+XTUUfG0NAhzsfZV9xT+vJ1P7OFDDLQ1hnsBO59ZhloF3P/x8v5dOxU17iX8r1g7jyjx1vQyX4UlirnuzPg/fg2k3V6IO0sJ/rvkgp698N8GU3qDDgp49ME9P1F5JmB1BzT5NP7I40XAkLAkkDSeOPgGxgl7nh0L332xmDLAjIlBHo5AcdakV4OR3ZfCAiBw0fgscceo7Fjx7bb4Lx58+jjjz82z3/00Ufp/PPPN0+7+iM0NFTzmHB1PU+WP/PMM2nu3DZlcWfqvuKKK+yufvHFF9tcZm34sVlIZtomwEq98BQDNdS0UEs9UVA0QnCw4aDccR6Sih3G6mIHd6wVLFtrrCuSQzVBmhrYCsGrBYY43oaxNNGM9z6iWcvXtPv0n9WW2DrrxJPaLcc6ZmMEV2YIj6DZy9fSoEsuVVVTPHvwoJyEeTIjkR8dEFi7zpjXpnlgx+d+B1X1usWGSO5j+hsf1ddxUmRXRHEPGREgYYJcAcdlwT3YxH3JqjKX1l6/qYpzOTVT+vRgMUa4RM5YOH6i8Xz/ZaVr57sbm5JVhEC3E1D9xdhTI8QY0e1HQxogBLqGAIwS/hl+9AeHJKzm90cRISAE2giIQaKNhfwSAkKgCwhYj9DHJgJ1I67VJoM5jj1CBUVGsibASpBsGV4MEIQz+uCDD2glh5o55ZRTrEpaTiLp83333aeFNtIvufPOOzWjhK1toRyMFhBbbbcV8kgrbPpna7mtem6//Xbav38/XXvttTb3WdWJxN0ogzwTtuTEE0+0uT7Y2ApPhTrgIYE8EhkZGe2qHDp0qJZ029qDw7qgrX2yte/W6/n6dEAIh1MK9qP6Mo5/z3fQ4BijkrVqt2NjQXOtcZRs9AjOC9GBVO4y3ppjRhpDlVXlG+sODJaH2A7QyWIvJLB+Y63WqvjREqLJncOTMNHI7XeTYcfZOhR3w1AxBDnLTF9OcV++jnMDuSAbNhrLNyVKf+0CNnPRmEF8/wvxow2bjf2GeYH8EAI9kIDqL2qSpL/ogYdXdkkImAkEpxnf7da7OLjEXIH8EAI9lEBbHIYeuoOyW0JACHQvgUceeYTwcUb69etHFRUVzhTVQip99dVX1NLSQgc5Xv6uXbu0PAxRUVGUnJysfRDSyJYEcegaGCr+7//+j3bu3EmHDh3S6omIiNCU+LGxHOCcJTw83OWRpQ899BDh44wgfJMKN1VSUqLtQ25uLsE4A0MEcllkZmbazPug6kcIJmeZqXXwfcIJJ2j7vnXrVm27MMIg50T//v21YjNmzNAXb/fbHTbtKvHBGUFh7E7fGkANtXh5DKDwPqwsZFtD5W7HYTlam3g5/wVHQ7nY6HDPWzkxdjN7RURlI6lnLdUf5G0NZUNeFE8ecriqLBQCXkcAISkMwf4UGOF1TfOJBoVEG/uW/GLH/Yb1zoB7MHP3DxWDhDUbZ6YV98JS17gfYu6QwCjH9wRn2tBby/jxuJTKQ46N/L2Vjex3zyKg+oua4GYyDoXqWfsneyMEhICRgIGf5WBm31tcT21BooWOEBACYpCQc0AICAGfJoCR+vAEsOcN4GjnsO6AAQMcFTlsy+Lj4wmfCRMmHLZtwjCDRNb4iDhHoK7cQC3NrRTfL5jtCw0UwTHdW3m6Lp9zPDi4o7ZwwmuIH+ebQB4IeFfYEyxDYusAViZmTGuk+AFGr4qGQ12j4Gou2kIBiUPsNcfh/NaGcvILitbKNB1YQYFph+/8ddgwWehVBEQl3vnDEejfNdd/51vWs2sI4Fw6IkJACAiBriTQzM+R2qiVrtyI1C0EhEC3EwiWZ7luPwbSAO8i4EAl4l0NldYIASEgBISAEOhuAjAm7FpYp+V1iOsXRCExgVRXyiNijVFV7DbPP8CokvUP9CM/OFd0IA2VPDqUV0kYFqIZMPYvr6f6CgcWD1N9VZ9dRFWfX2acauE6WuDRwRtEogv8xjyI9hsjeVupce+XumWqHMqa1kVDzOX16/Lsiv38D3W2Umt9MX+zWJTVtYEXNRX8TlUfz6Lm0u1UvfhGqvr0fGouXK+tJv+EgBAQAkJACAgBISAEhIAQEAJCQAgIgZ5PoGPtRs9nIHsoBISAEBACQsBpAlUFwbTxbU42G9NIw28N0RJadzSI1g8GCf6DRA1upoodji0Y5RvrKSItiLYuqKOa/Qb2qDDmkzDWYP9/YOY4aq2r1IwENT/fz79LyD8ygQL7zKD6tW/yik0UccpbVPHO8Tw/hcKmz6XW2lI2DtzARpUQChl/DdUte5paSneTf3w/LpNKIeOup5olf6fmg+sp6vIlVPnhKdRaU0VRVy7VtlP5yVkUOfszati2mAy8naqvL6fWymKKmPUBVX97E7c9iIJGnEuGrBMoMHkiBfSZQAFxAyggNp38+x3NWGrs75AsEQJCQAgIASEgBISAEBACQkAICAEhIAR6FAHxkOhRh1N2RggIASEgBA4LAY7iYTBGKqL6YpPXgYMNB4SZrBFcJmaUY2MEqqncZQwTEpYe4DC8k/UmW2oOkV9wJDUVreIQUgbyj8ngYOZBWrHQyXdQYMoo7XdgRn+KOOt98o/uQ36hcRQ2Yx5vh7fJ+SvCjnucAtJGavOILS1ouV9wuDnOVGCfyWyY+K82XfPNLVzPh5wBnsc3mJ4oQibfTIFZHCGV1w1IGEyhxz2mbdP6X0vVfmpY/y4FRPa1XiTTQkAICAEhIASEgBAQAkJACAgBISAEhEAPJSAeEj30wMpuCQEhIASEQNcSaCgz1h8/NpTqCqqofCsno65hBX6rvxYlSb/1aF2qkpjBIbSP6toWs8Zf86Bghb6/XytFDWil9FPDtOU1+xDfyfmxA37BvF5ojLHuwHAKGf0n9nwIpab8lTzPaOTAwtamZg6xVMKGhnhMOpbmWgqZdAtVH7yyrVyA0WMjbObzVPvz/7ERY55xWdsmjNPNDdRaXdC2Hk9TQxUnyWhkY0gW+UdkUUtVITcxua2M/BICJgKBgf50XN9YGhYdRimhgZpxrKiumQrrGml1cTVtOlhB4WFBNLu/E+exqc4Fu0uprLJemxqbEUNTkiIoLcxAQXyZldQ386eJNpbV0qoDFdTQYNvYOC0njtsUSp/sKqXicqQpdCzYj/OGJFEgG+m+2nOISip017/jVbtlqTNcLhiewsysL3jbzf29sJq25FdoCzPjw+n4jGjKCDdQdFAAlTHz4rom2lVVT8vzK83Hxrqm7IRwOikzhpYVVdHavHLrxRQTGUxn9I1rN1/NaOKwde9tyFeTXvvti+z1MDPiwmlUYigNjAylzAgDNbW00mtbi2lbAXvuiQgBIdAjCPRNDKejUqOc2pfO9L3XjkmnkAB/+mxPKScDrta2Fx0RTC3cn1dW8/OklYSGGCjY4G/3PmJV3K3JydmxNCgqhH7j535b/Vp6XBjN4HvcwdoG+nZ7ibYNW88pdc0tVN7YTOuKaujgofaewkfxc0Zf3tcl/Jyzp8i4744ajG1MTY+iHF4nKyJIe17Kr2mi7ZW1tCSvgqpr2vNyVJ8sEwJCQAgcDgJikDgclGUbQkAICAEh0OMINFYE0N4FldTntAjqc7ruxYx1dEh0Xba9jsrXNVLlPj9KOynCHLIpwOBHhpgWCmEdavRgP4obE0qGECsjBhspKnbXUW2Ra7fp0Ml3mTkjPJISQ+bR2s+AxMHad/iJb6hFHKbpdu132IxnzPOUgSH0yPvM8yIv/Fr7HTr1AfO8gIShHPbpaW06/Phnte/ApPGEDyT0iLuopaaQqOaANk0BQRQ67WHtd8i4vxnnyX8hYINAZHgQPX9kNkWyMl8v/SONU2dkRtMKVlD/e3cJncYv/84KDBkwSDwytS8rFYItVuvLlynkxLQoamYDwnmLthpn6P5D4XpF/wStXctZOe6MQeLWsRk0IcFoZNzMxg5vNkg4y2VWH5PhU8fG3k8opGCQOJ+NGLOt1ssyYqHpFElXDUigG3/b1045A0XLXwYn0UA+Xg0tLTYNEumshOnoPPh4a5FdI5O9th/O+b7KXjGaNTSJLshubxRKY+PTNlVIvoWAEPB5AqPZQNxRf6vfSXf73umpxhv+ipJqzSCBe8HrR/XVqr7w++3t+vMnjsii1JBAun/NAW3Agr4Nnvp9VFIkTeT7eQMbW20ZJAbGhmpscmsbzQaJJO4D7fLqT/QLG+2fWZlr0cTj2eAzJDqEDjU0dWiQwCCJqwcksvHGcpDAADbUT0sOp8v5meWNHcW0aFuxxTZkQggIASHQ3QRc03R0d2tl+0JACAgBISAEvIhAyaoAKl5RS8GJLRQ7pJVi2bgQEmsMsxQ7KJTwUVK2vZYKlzbSwMsjacQck+aTF7byS01zYyu11LdS6cZaOrShhap2ch094A7dsPsr9sQo5/wRMxQG+RYCThGYMypNU/rjpf9nHom4jkcQ1je1UnZUEB3JXg1ZrJjwZ4+D/MoG7UVbX+nx6dGUGWqgAvZ2+DrX5MpkKrCrrI7OGJxoNkasKK6hVaXVVFTbRFCcjmWDw5i4UPYnsnyxP3VQIs3Kim1nINFv19bvy0ammo0RtpZ70zxXuLyyrcjCQ2JETJh5P6H40MuGklrCiFpljNjN3hBLC6tod0UDJYUF0oDIEDo2JYIC+HjqnS7683G+jfnFsyeFK/Ka1faxLkbq2/N4caXurirr6+yv5Ov1ZB6dC9lSXkcL95dTCV9TfdmItKXUuz2CuuqYSr1CoKcSWJZfRfU8wl8vl/WL1/rwtYdqaTUbEJTw+By3+9732TMixN+ftnGdzojlXduZNQ5/Gdw7IfAQPDolitLYgHJkUjhtZoP84u2W905nWjeOjfw3scEeUsvH5ENmtofvrWHsKdKfPTlO4echGCqS2HtERAgIASHgbQR6gLrD25BKe4SAEBACQqA3EfDjAdwNJf5U8D/ij8klml/AWjnaS0ROC4WntrC3hB81lEKpFkhrHqihxInNVF9KVL49gMux6tM8CByvUz3DGIFzIKj/LHyJCAGXCCDkwYiYEG2deZsLaNW+NqPCap772eZCmsAv4Xihr+XwTQutRv2lhAZRZrqB/mDjg/UyVHqhKbTPov0V9Po6k/cOz1/Hn0VUTFk8+vNY9pLQC+vKORwbey41tlAUv+g7IzM4lBRGRbIu3ELR7sy63VHGFS7f7zCGolDtzOfwV/ACAR9bzO+alKUVzeWwEbf9vFutpn3/wP/fY4+Ys1ihVcbhm5Q0M3ADg3eFeTlv/xur80HV583fvsweIVTgVQT5nA2A+tBYtkYQe/NxkLYJASHQMQGEGLIOM3Qy3wPgnbCEw7Mt5XCGEHg09GePARikd+vCDiWzATuFBwDsYo9BfeilUaw8x/1ywwFjWL7VvE50UCCVshEbMiXN5CLJvyfxvbWCQ/5BdrDBIp29AWJNxuvxvL1Ak3U7v7qRCsraQiINTI6kATHBlBjMgxb4+WFzaa05HJRWGf8bkRatGbHh2RfEdWby80hYYCDtcSJEo6rD3rf+3rmA71VPTetLGTyAYgw/9yy2t5Kd+QgHeS0PloAc5Hvnncv2WYRmWsHzv+B79Z+HJVMZe1ropR8bQQbFhGqGigMcXmpzSR3l8eAMvcSzQSODue5hI3M5HwNMp3F/D2MU+nbFaXtxFY1IiaSB7NEBwbPXOjZK62UAcw/j9lrPV+dIYU2jxTmF+WOSI7RwnainkPfvDz5WhXzOiAgBIdBzCIhBouccS9kTISAEhIAQ8BYCrLyEh0P1Pn/to29Wa4sfFS5ru/22GSP0peS3EOi9BJQiAQSaMLzShqzQGSlsLHY4S3k/IJSQLUGs6rdM8arV8i//KCJ8IP+Y3p+Sg9uuYVVG/z2Mwy1cPdCoKMCIyDPZuwIjIb1Z3OHi7P5wGHBN/GDZsSFQSs1ff9BiCRRYV3xnDPZz1eg0s9LbolAPmfBl9rPYkATdHxRiemNEDzk0shtCQAi4SWA8e77dyKP3a1iBfenitsBtd45OoUxWOC/mXE3/WmscFJDEyvF7R6VqW7qMlc7IeXAne14lsEHg3tWcM4JzOl1juqeikPIKwO9/sWfBlRyWSHnYYSCACpG0sqSGHl++j5Bf4tYxaTSaDSTWspAHJ7xhGpyAfET3jza246u8cJrJRhJV71s7LQ3x1vW4Ot3U1EIFnOcBBolIg2uegNjWWPZKizGt9yIP3rCVJwKDNl5YlWduGowY149Op2lskLAQznX3Jednelt3Hz6fmcJ7cWtFPRsT/LRjptb589LdZk7wzAhVN3kUyCL6nbk98fs+VZweHpumedDcaGV4mMRhua5jo8p6PuYP/rpXK488Hbdw2Ex4TVrLP7cX0Xem3BzWy2RaCAgB3yPg3W9GvsdTWiwEhIAQEAJCQAgIASHQCQKFVZwMndfHq+itw5Pp08gg+uWgc/kanNlsHo8G7MPKEBXKYOG+cjrIIx+hHPCEYPTn3axYQfsxYvxHVmLAIOHt0pVc9vIxhSIIipf7j8imTzi5+C4e1QpliSclmr1XbhiXobEvYwXWJoQPyWvzsPHktjxZly+zV7lYkLR9zoRMyuSRz8GsnCphA8X3nJB1iWm0tCd5SV1CQAh4P4GNHBIREsb9AUbXI38SFP4wRkCmcli+f2m/iAZxqERIPvcbthTrJWygWMLhG4/mUfOQHw5WUjUrwiHwcvh43yE6p0+sZjzYxCP6d3KuKMg23ibkBg7/h3sQPDBgpNhRVUeT2RsSSaBnsmJ/OYcR3MT9lV5ONeWngkEF93Mkova0IFQkZKUuzJWz2+jDnoWQIvYU2Zpf6dRqZwxMMBsjlnLuiq0VtTTOFKoSRpxdCKlo1WerPh7sDnEi7nC98YG3CmPEHh5UsJ1Zw0sCITWRZ2NiVgz9vte1+y88UpQxYi8f8//xMYdBCOE00Y5gDuElIgSEQM8hIAaJnnMsZU+EgBAQAkKgiwhEDh/VRTW7V21geFsOCvdqkLWEgPcSgJL6C1bkn8VJq6HIuCQnXvsghM8eVmz/xuEBvuIRcu4aEN7cVkL38QhIvOQicSQ+EIzwXsuKik93lWiJr90hhDADD09I55dmP1rOyhhfGjHelVy+YKYncLgNKC4QjmsEj1SFIMTSJh4Z+TnHvdaH9HCHvVrnGJPCCtNIfl4wKIH+9stejxs/1PY88e3L7FPYyARJDA6gRA6VoiSJvYiQlBWKJOuEraqMfAsBIdBzCcAAgT4ehuKhrKBeytNTTImqsdfhPFofoYN2smJ8eLTRIKHPP6Eng+eCN7YUmg0Sr2/Kt8hNkcsK/aM5LFAKeyL+mxXqeuNCBvdBk3j7kIfYE2IDe2ZAPuPPE5wkG0aJozjkkH4dLMeo/Zc2FVKxLlTT2IltfRzKuCoYsIBnj6QwA53bN1YLc4U6kJfDVckKN4ZIyuXnImcE3hGz2WgD0YfX+4ZDVd4yPlPLZXEpe7xZGyTq2FMVuaF+3nvI/NwFw5KSxzfm00qd1+qTzLSvZuhx3SCRyoYr5RnxwsYC2mPyVv2UN4Zzpbze80YhtR/yLQSEwOEnIAaJw89ctigEhIAQEAI+RmD0i6/4WIuluULAtwlAkY9R9aezQhnKAgheUvvxSzA+Z/NL9Tx+WbWOR+zMXv8/e+cB2FZ1/f/jIe+94pnYiePskEHIImwII0DZUNpCKaMUCv8CYVN+QMumLVD2KKNAmQHCCpAEEiBkh+y9POIR7yXbsv0/50nXfpKfbEmWE8n+nuRZ0nv33nfv5z49Sefcc47Ep57bYqFfD02iCbwqU5QDIhL/Oo1XSko8/A94teV7m0qsB9z4e9+UTIrnEAqyyvCfazrDJLjRxGEr2pdcJCTTn37YS7/hkBuSlFySbIqIomoGK7FlW8urXB9Zld+h8HAHRAGvhv2Mw00UsvdLHSvARNE1i5VTY1ghLuG1JFTH35btc6fJQ1rWX9mLgktYi2zkuOEf7q0kmYsoXuX6O07SKgniJWHrd7zydi3PDwQEQGBgEVjDRn4J+zOeFfFLqYKO4/uyiCwAkM/cY9NiNYPEGFsopdU2rwpvUhrGOSOUjOLz5NlyVMm+NJtBNdPmbaDKyeODKzz7PNK34fj8mRmD7XbJQovH+LuGY04Ou0JOXoRzGCURc5trSvoE/i5lsn3h+XiXNc+Havp9NuLIvVq+v4iXQjN7GCr5OL9S8/RUrx0f19kMPGq/fBZLqK40Nrq4K3oP2RvZQ/bT/GraxNeQ5I4QwxUEBECgfxGAQaJ/zSdGAwIgAAIgAAIgAAL9gsAPHNZHNvlxnM6K5Vzejk6JprGSYJJX2l/OoQf+4pA40dWB7+X8BA/yJgrV5OgwyokNpUmJkXQMK8vl9/oFHGJpPv9gdyekkMSozrYpNSQR8xVjUzu6k2rLOXE+tyvJK9/jME5VtpASHYV84ElfcFHDEqPEc2sL6TneEc/Ms5n5aFYOiQFI5lOU12NYWeWJkUkSbr6mi30t55TkoVdwDHIJx6GSpKu++OKjv7JXLN9hLxgVNqSSdz7Cq4qfOW4YJfL7dyTHh4dBQpHCIwgMHAJrOFGyZpDg+3s0fz7KggL5fPzHhgP0GId4m8Uebe+yZ6F4NohsKXPfU6Anmhm2EFFS7kIn4RPDbMr9ntpSx5ViX71WjzZbO5GTHFWyWEFELbQQw4zeu0C148pjEYc0kjBUGbawTz3VSbYZXyT0kmNYLAmJpSSUjRJ6g4SE0HRHmuQELBLGz12R71yL2VvkBDZiSWiv62xJu+s5pOa77En5NRtOPPWOdbcvKA8CIND3BGCQ6HvGOAMIgAAIgAAIgAAIgICHBOSHsShrZRMl8+lsiLiCky1m8Y9rUXCIottTkR+2sjJRtp94dfcnbJT459QsLV70WF4t6GnybC1xpm3Fp75vysNjKf/g9kWDhOprX3FR7VfWmkk2UVK/y2E4Xjw+l2LYW+Io9pTwxCCh2nV8XMIxwcUgIUmjHVd9Opb1ldf+xF76KjHFZVXtIF4Nu00HUY5JqA+RKJsXhe4wnoIACAwAAhv5c1tEDJPncDggkR9Ka7UQfVV875CkzOfnWvdLHgK9Ilwr7MEf5fWoqjbZPAhq+Z50PxvFjaSG8zC4IpXNFq1YvMlYjRZvW3xQ4aS9W5fs0er/alQy/SYnUcurdOPkLHpydb4rp7crs9/23UdyM0m4SEcjg11hftFsMxQY2QmCOywpbEjoZZ6GFtt5HOdB+hNstNOho8+yd+n3HErzpPRYXrQQpl074okn3/vEF+Sr7QcdauAlCICAvxIwvpP662jQbxAAARAAARAAARAAAb8mEMthBcaxYlq8I4xkO4eGURLkwo9bVVY9zuZQMos5FrKR4kPiUCtx5YezKiuPsrLvrjWFhqsC7+CEmhKm6MvCGvqZk2fu4DwYviZ9xUXGeXROAm3iUBxihHAUTQHf2MIGiVAK6aUixLHt9Chr0k9RwLTZlCSOZXzhtT+zL6xvofi4IC0x6hJevapEvI8GhQVpL5VhQh3DIwiAwMAgIAsGJFG1eECcZUsS/b0tefT3bJiXPD+STFlEkk27KqZg+1X8+nohDgbQfJvi3sQfBMW1zW55PurblecH+LNKZDx7fBjJVE6ULVJsK2dURvZ9vKWMPQBCtZwYswZFUuHoFPpgc6mz4ob7t3CYQxEJZ3nl6EH0JIc8NJIc/j4lX5VKbRzEbyGb+6nyM0id4fHWHBvy3OhzWva7KtOSrHnulMFE6snHr9g8Ytgw5YpIPg+V00MSot/E36EkqfUUXjQiOS8gIAAC/YMA0tT3j3nEKEAABEAABEAABECgXxDI4ZBM/29UCj19Qi5NZEWFhEISEQXnCE48eR3/cBdpaG1z28tA2rqKDRKvHD+MRAksxg8lWfxD9yYOIaFkl87wofb19Cgha9QPaf1jBa8EFVnPnhiyX5TwviR9zeWC7AR64ehsDqGURikcvkeJKBrO5fkURYPIthqrgkUdd/XxnulD6NccIks/n6KE+T2vqBTZzeGxfI25Gpu/s5fVziISf3xatjVhqnijnMOhNlTIjvUVrisaFRc8ggAI9A8C+kTV4qWgcgEstRkm1CjX2Lwp1GvHR70HwLR0ay4K+V6gpNrmvXAMh3ZUIse3sDHcwiGUZFHAHZMzNM9KdTyJk2nfyAmdLx3XGWJRHTN63GAzmkj+I/Fs0J9f2lBhG9e4cM97enUBba+xhnC6mD8jp9vun/rzxrInhnxGOG5yjy3kc0h4I5FZfP+9Zcpgu7HJ5+u1EzO00FhHp8aQhDYU45DIH/k7lrQhIp6mv2fPU5Et1V0XDWgHuvmTZktILkVk8cFxHG5JRH02yPOSJut5z7Yl1RZuM3i8v7V5zUgZEfncfubEXJo8OM66g/9KcnQzf98TEU9KCAiAQP8hAA+J/jOXGAkIgAAIgAAIgAAI9BsCkvDyLl4VJyIrrENZmSAr+5Q8tsH9pNOqbjjnLBDDhGwSXkBWD8oqQyXz8qu0JIrqtYSJOsv2QzrJ9iP+NlY+VHHiRgmDcMOinaqoXz+6y8WdwQrj0zNitU1WS0oyT30c7h1sNJCQXEqyWTFxO+eAEFHMpf5RyVZlx19XFXTMUQYrVI7gEFnnshJDrhWJYS0KIxEJGvRvN1eeahUP8R9/Za+FUWPD4WAOGXILr9ItYQWTzJd6P62rbPRqGK5DPC04HQiAQC8JSKJquXeLLC3p9A6UFfoqbJN8JuzWeSg6O+Uu/pyQ0IfX5iVrm3yOvLzzIH2zo5wN/o1s3A7TjKMzTx+pfbavZS+CR1fspzc4b5OE/BnNuaheOWYoHWTjRQx7WYiRQuTbA1bDqrPzqv37uM9LS+o590Wkts08OY9kwUE8f96oe942NjKs3l+lqnT7+AB/jv2TjfVyz/zLqEFUyrkclMFGKooHiWyOIrwu/HIrvbq5hPJ4TBnhwTQtOYKmHTtU+wyUjz/VH33dF7aW0b0T0iiXGb7KoRLlszKCGchnsXxWPs8hFN0VCXMpn7tiG1JG6MJGizYnqq0VbGzK5M/nSYnh9N5pI0m+bnV+41KliOeDw/9x2Ks7eIFBC3+eHGDP05RQU8c8/dchGXdnTTwDARDwRwIwMfrjrKHPIAACIAACIAACINBPCWzmkEaiYNhjS/4owxSlgfx4lR/MsoLvlhX5tKGoWg51ERUvusm2ok5fQMIqPc4/4NeUN2ohBOSY/BBXP9xlFZ8cf2tDsb4aRXGca1EYKMW4HJQf3o777CrpXpgtVg8Js0VG4HviKRc1EsXabIvVrfarx6c2HaBFvJJThe4R44QyRjTyPL3NySrvWbZPFdceJXyTEV+1T9WXwktLaqnO5nUi14oyRuRz2Iy5fK3oQ3HZncQHXvg7e0F478qCjnArokyS95Nc6Z9yjpCHVxqHEfEB9OgCCICAlwh0fAYYeP/pE1VLXh+9SNgmkR0czs/Ri02tije3Wj8/pdw/eCGCWuUvSnntXmP7WJ234yD9wkYJETmmlOzy+gvOO/DALwe0lfry+ZPC9ylljBAvhR/5M0SkhRXr0px4VDj2RyvAfyTfwzv8mSXGEGlLPpPUPe8LDst4HxtA9GJzkOzI4aA/Jvf/u/n+KZ+N0tat461G+MYevivIuUWk/o2Ld9JrbHCRfD4iMi79dxrp63u2vAvyvem+dQe0xOLqs1I4lXHOC/msFK8LJfLZLNLEfetOxFtV2grkb2nSrx9L62nuj3vsqry3tZTEOC0i4+T/2jz+XGY9n/puVMTf+5azAUvNnxi6pW05xyv8vdCbOaa0zuAPCIDAYSUQ0M5yWHvQhye/7rrr6Nlnn6Xly5fTUUcd1YdnQtMgAAIgAAIgAAIgcHgJXHrppfT222/Ttm3bKC8vz+POjBkzhvbu3Uv19Z35FDxt7MzzN9O+wmYadqc17JIn7UgYnij+wV/PP7a9nQhaEkFGhQRrP6Kr6n0vrI+FdTW7HmuiydOi6M1nXZ9T4V7A3LM95N6XXCRMREx4iKYwqWxoMszl4cl1InVUv5tZeVHf1OJx24r7sEnhNP/lUS535/6H9tH/3i+njKv5usoQlYv7osYgih1vX5N9yV5GKu1H8mpWUThJmA1PZPu/mym4JoB+WTbBk+pancjISMrOzqZNmzZ53IZU9Oa9sFcdQeV+ScAb94t+CcaFQcl9UvICtbIR3DEflNyHgtigHcg3In2YJ9WshAtK4O8VYnyobWx2anhQ5bt7lO8nkm9KFOi9zb3Q3XlcPabGJuVrOTyTGCyciYRqkgTW2ucle2a4I3HsYfHyrBytysVfb6dQ/h4l89Hd+aSwOqeF503yi3QnUjaGDUc1vFCkp7LdteMLxw780Eo131jo7w8OpnNOtYbH8oV+oQ/9h4C/fl9ByKb+cw1iJCAAAiAAAiAAAiDQ7whI3GNjX4jeD1WUFUYKi9637N8t9CUXUR4dbPYsV0RPVPuy3z2d21vH+3IMfclexi/tOyoHvcUF7YAACICAItDd57b1HtTpVaHqqEfxfCit8s5nkHw/8SVxZ2zeVPJ3Nx96Pu6cU8q6U15/HjwHARDwDwII2eQf84ReggAIgAAIgAAIgAAIgAAIgAAIgAAIgAAIgAAIgAAIgIBfE4CHhF9PHzoPAiAAAiAAAiAAAiAAAiAAAiAAAiAAAiAAAn1PoI7zM0mOIAuHaXKWa6Pve4EzgAAI+DsBGCT8fQbRfxAAARAAARAAARAAARAAARAAARAAARAAARDoYwJihHhj/YE+PguaBwEQ6O8EELKpv88wxgcCIAACIAACIAACIAACIAACIAACIAACIAACIAACIAACPkAABgkfmAR0AQRAAARAAARAAAT6I4GEuGCyNLWRpa4/jq7vx9RU066dJCzava/swr0J3D2eIMXdFBXgVhvxzF2kubrNrXoo3EmgvZYoPMa9672zNp6BgP8QUPeLVr7mISAAAv2XQEut9btcSAQ+2/rvLGNknhDAO8ITaqgDAiAAAiAAAiAAAiDQI4GxY8K1Mgc3tPZYFgW6EqgrtCq2jxoX2fVgN3sU98pNUIx3g8npIcV9/JgIp2WMDowdY52npmKjo9jXE4Hq3ay0MbdT7siwnoriOAj4PQF1vzAdhErG7ycTAwCBbgg02b7LHTMptptSOAQCA48APv0G3pxjxCAAAiAAAiAAAiBwSAiMG2tV6NZDMe4271YzUdVSqyFn6oRot+or7i1brKvy3Ko8wAvruR/tJvexoyPJZAqgmqUWaiwDe3cvpfKV1uv9yCPcM8C5ex6UBwFfIKDuFwULzbhf+MKEoA8g0AcEyta1Ult+O8UMDaboqKA+OAOaBAH/JQCDhP/OHXoOAiAAAiAAAiAAAj5N4NSTE+mcs+LJkt9Gez+yUGuDT3fXZzrXXNVO++ZZiKrbafZF8TR+bJRbfVPca/dYKP/jVnB3kZ6e+7RzYuikKfEu1rQWS04y0W03ZxCxY0rxfAvVFcIo4SrA/K8t1LK5lbLHh9H/u4IZQkCgnxNQ94t2vl9UfN6G+0U/n28Mb+ARKGfv4IqP+bscy803pQ88ABgxCPRAwBrotIdCOGxPIL/ATBs21dP6DfXU3IIfGvZ08MobBALZVDiO3f5lG5pjDXfhjXYd26iotND6TXW0YWM9VfJzCAj0BYHcYeE0bnQEjXNToeZuX1atreVruY7yC5rdrYryIOASgbTUEJIQC5OOiKbQUPdiy7t0gn5a6Labs2jPvmZa90s97drbRiFDAqmNV/+HDwFDxylvb22nplLOQbCTNVQcuiZnUjj987Ycx2IuvRbue5n72rXMfXcruHdDzZF7yvgQeu6uYd3UcH7o1xem0Hr+XvXpZ5VU+GIzmUYGUeggosAQXO9G1JrYk6RpM1/vze0UlRZET9ydbVQM+0CgXxLQ3y/qXiTcL/rlLGNQA42Apb6dmovbybKbP9tYTvltPF0wI2mgYcB4QaBHAjBI9IjIvsC/nimkF18psd+JVyDQJwTKtVYvOi+Rbr9lsNeVXx9+UkaPPFFEdXWI690n04dGuxCYPi2a7rg5k8RA4U1ZtaaWHnqigLZsafRms2gLBJwSyMgIodt5FfSJx7m3etppg/38QEx0ML39nxH09POF9NJ/SqlpvfVzp2V7Px94L4YXxMrr312bQnOvyvS4FeH+Fri7xU+4n/2HRPrbdUPcqudY+OH7c2j6UdH82VRENVt55f9WxxJ47Ujg6NNi6Ol7h1EoDDeOaPC6nxNQ94uH+X5RjftFP59tDG8gEUgeZqK/zh1MJx6F3BEDad4xVtcJwCDhOiu6+LJtmlfEoFQTpc4IpaaUdqprayH4SLgBEUVdItDewivpOMFZ/XoLvfthOS1bWUcfvDWKoiK9E2XtgYf30TvvWQ0ek+ZEUVMqUa2phVp5ZSYEBLxJoLG0nSICg6ji+xZa9nMtnXXBFnrluVyaPjXGK6eZN/8g3XXvfq2t9CEhlHZCKNVFt1KdGR4/XgGMRuwIWCqJ6pe3UuH+ZvrzTXvo/13fSFdfARdsO0jdvPjzHzNItu07Gmn3XsRucoYqLzfCq96R4O6MtP1+b3M/e04SyZZf2ETbtjeQxWJdKWl/VrzKzAgjYR8CQwQuhgFMAPeLATz5GHq/IxAdbaKReeGUmGDqd2PDgEDAmwRgkHCRpnhGSIimxAwTxV4eROYQ1hizRBLcr11EiGLuEshup8gjg6j25Vbav7+JnvhXPt17V+9W7EkXFi6u1IwRWTmhFHomGz0Srdeydc06rmd3pwnluycQlSHXFF/LRwRTycoAqvrMQo8/VUgfvtV7g0RxSbPm5SM9mPGnWCofZKY6soZrisK9ufuJwVHPCHBY87ixwVS9O5BK3rPQv/5dTMcfE0/Dc73r9eNZ5/ynVt7wcJINcmgJgPuh5a3OlpURSrJBQAAEQKAnArhf9EQIx0EABEAABPoLAe8st+4vNJyMQ3JGSJim2ORgSrwsiAJCsIrcCSrs7gMCw64MIVNaoOYpsWVr71eUPvLPQq2XEacGU1AiVuv1wZShSScEBk0JorDJQVpopTfeLnZSyvXdTz9XSDU1Fpp6UYxmjHC9JkqCQO8IxA4NpLiTg7RGHvx3Qe8aQ20QAAEQAAEQAAEQAAEQAAEQAAEQGEAEYJBwYbIlgbVI/FQTBYTCGOECMhTxMoGICda36i+csLc3UlrWQgWc8DdzbBhRKkLa9IYl6npGIOkoqxJ3NSe37a2s39BIwaYAqhtv9fLpbXuoDwLuEEhh4xpFBdCGDb03FLtzXpQFARAAARAAARAAARAAARAAARAAAX8mAIOEC7MnoZpEmhKR/NcFXCjSBwSiMq1v1ZXre2eQWK8MGukwrPXBNKFJFwhEpnIIp9AAWruxd0rcqmoL7dpjpqy8UMTldoE7ivQNAVN6IDVUclg99qSEgAAIgAAIgAAIgAAIgAAIgAAIgAAI9EwABomeGVFzi1V5G4jwry7QQpG+IBBsC7Vd1dA7o5hKqFgfgFBNfTFPaNNFAnwvbTT37hpUCdgDkATTRego1hcEAtnZTKStd5eztRH8BQEQAAEQ8CkCcXFx1NDQQGYzjM4+NTHoDAiAAAiAAAiAQAeByspKku8s/iYwSPjbjKG/A5pAUIB3kk63tsFDYkBfSD4weG99+LS241r2gelEF0AABEAABECg3xFIT0/XxlRUVNTvxoYBgQAIgAAIgAAI+D+BNl4Zd+DAAVLfWfxpRN7SCfnTmNFXEAABEAABEAABEAABEAABEAABEHBKICMjQzu2bt06p2VwAARAAARAAARAAAQOF4E1a9Zop87MzDxcXfD4vDBIeIwOFUEABEAABEAABEAABEAABEAABPojgTlz5mjDmj9/fn8cHsYEAiAAAiAAAiDg5wQ+++wzbQRnnnmm340EBgm/mzJ0GAT8m0BiTBjFR9sCr/v3UNB7EAABG4HoyBCS9zYEBEAABEAABPoLgZNOOomSk5PpjTfeoMbGxv4yLIwDBEAABEAABECgnxB47LHHtJH4o0EiuJ/MAYbhhEB4mIkuzEvSjppb2+jdTSVOSh7+3ReOGUThQVYb2XvbD3LS25bD3yn0wGUC49JjaHR8OA2LCqPE8CCqMLfSgcYW+rGklrYV12rtiNLyhaOztecXf72dJMl23qBoOiMrjiqaLfT6+gMun8/bBWOjQqmN8xHU1jd73HRkRAidn5vYbf1VZfW06UANXTI2lUICnecEkTQfH++uoHOHJWjtfbSr3Gnf0uIj6JSsWGrk9/h7/B7PSY6kY9Jiuu3HmoMNtKGoWivj2Bc5d31rK22pMNOW4ppu28FB9wg4XiOSAaOKr/3K5lYqbWjpeK84tmo0pxa+XuW+vrO6iTbx+0wlrZe6jueRfS08sSV8X/25qJbqGzy/zqUtR3lw6mBKCwume9cWade3vNevHDWIJNfzc+uLqJnHBwEBEAABEAABfyNw5ZVX0kMPPUSPP/443XPPPf7WffQXBEAABEAABECgnxL4z3/+Qw0NDfTb3/5WW0Dhb8OEQcLfZszN/s7MjKEzM2M7ai1hRdSByoaO177yJCUunC4cEt/RnaLGZvpmR3nHazzxXQKieLxhXBpNTAi36+SQCKKJFE6nZ8RQZUsrXbt4l91x9WJ4XCjNTImk6pY2ep0Oj0FClLevHJOjdenX3+7wWHmaEmmye7+pMeofg9gGIQaJ8wbH6XcbPl+QX0Vz+P0rZgsx2MzfWmZY7tycBDo+NYqKzBbNIDEhKbLHfgRzgnRlkHDal2yigsZkumPZfhgIDcm7v7Ona6SWjXTv7Cmnrx3ufz3NaZGZ5+nn/R2Ghu7Oc81wXu25u5w+22Z8Pbk/qs4aysYWx8ZweV+LvBFq8vg91dkynoEACIAACIDAoScwd+5ceuqppzSDxEUXXUR5eXmHvhM4IwiAAAiAAAiAAAjoCNTU1GjfTWTXLbfcojviP09hkPCfufKop7N51bpeTmADxVs+aJA4UWc0kf6emhELg4R+4nz4+f1TMimLFfoiq8obaDF7Q9Q0tVJmtIlmJEfTuDgO0WQKIlNwkOEo1h9spI9MVbxC3GJ43F93vs4K31ZxNXCQzRX2Lv/fl9TRrlqzQynSVpaXVjXSOi4vxp6T02MNDRLBwYEdit8FhVV27YiR58N9FXb71IvNlfb9kP0Limq4L00UwW1OTozU5i4z3EQ3HpFGDy/fr6ri0UsEnt9eRkFsGIoLCaJcDmM2gec5mtlfzQaDQN7/FXuKOYoY9/7L3jJyPJytWxMTIrXrI529E84cmkD/21jsWIXkPGIoSA0PoePYIynGFEiXD0ukfbXNHUapLpV6ueMgexp9uL+K5B1QywZmCAiAAAiAAAj4I4H4+Hi6++676Y477tBWIP7www9kMpn8cSjoMwiAAAiAAAiAQD8hIF4RmzdvphtvvJHGjx/vl6OCQcIvp821Tks87xwOQyOyl5VD2byS/cRUNkhs6KqwGsfKTgsrTyU8Swgrx7JYiRwRHEx7qxs7wsRkcxiY8YkRlMSrXUV5vLParCnFqpostO9gvXYeWWmey2F7iutbqKTK3hNjGK+WjTIFdwktIhVPsoWXUf0cYhofDgAAQABJREFUwu0kxYbTQT6/XiRsSUyItY1MPs/YhAhKDA2mQg4/soSVX45hQSQc0ODoEIrlMYVxOKhaVuZtqzI7DYuiPxee90zgVA4HpowRr+w8SF/qFKhb+DITL5dJmXF02fAkarG0UnBQ11tOCSvjN7EytYJX9yuRUGN5fK2VN3IoGw4xM3FQFA2LDtXCzawprSdR1IsiflxqNOXFhmnX4Y4aM63ia0AvcVxnBF8jSWFBFMvXXlNbGx3k86wqrutYSS7lp6dHd1SbysYxMaiI7GSlvQpto843NCaUItm4UsDvqTWldVTFCnwjcebN4Fh2/r5K2mt7/zgek9cLOKySGCRE4SyhmRw9nI5go6MK/bSkwD680n7u4xe6OTFqX7/vm4Lqjr58RmX0p0mZdAJ7Xozj9xrE+wS+3WnvBSbeRsrAd2VukvVadbimC/je+j2H8lLyBR2kJ4/PpYzwYA6XZr3fq2PqUX+eDyPK6amZ2fx+CKRpfE9WXjJSVu6X4rGUzPd4Ce0kxjN1b1dtyaN8Rkzm606MKC0cNmpfXZPWnr6MhNzbyPUlDJo+lFQWG7qyY0MpgduIYkOlhJzKl/dSYY1dOX1beA4CIAACIAACh5PA7bffTnv37qUXXniBzjjjDHrttdcoPT39cHYJ5wYBEAABEAABEBiABJqbm+nyyy+nTz/9lM466yz617/+5bcUumoH/XYo6LgjgRM4prxIKRsMnlhfTE9PH6ytjB3FRgl9XHhR2t47IU0r+1lBJIfYidVW08qO13glroT1uI4VkxISxkj2sTHg5u92a4eO5vA8V7HyeSXHp39khf2K6vsmZrJRIIBuWWHpUHpKJVGCiXJM5O9riuhf3M9IVjafyN4c7zoYJO6ckK6ttiey9lerZPtzSU4i3fDj3g4F8hAOW/Pg5Ax9kY7nsgr8rmX7oADrIOLZk7OzrGG2djBPvTFC39qagiqSTRMDfelENkbN5fwhMie3Ld2jFZvA19rNowdpz82t7dp1Y22APQeGJfHK60o6ho0Rg9gYpZev2fjw4rqijl3Xc56GCQbK9LYRKfTYpmJaycreTF5h/se85I46N45M6Xj+0o6DtIC3DG73zonpXc5nYYPMPzeX0nI2KvSVrGOvhSZmEcpL3I08nE62GfM2s4GwN/kvjPq/u85MJ1CUZvAQg4xesWxUHvt6R0Dm786f8+nRGUO0fAziKeZoZDM6g6VdMjUQ7WbDQE8iBrY9XE7eF/Fs3BURA+DNfH0bvVe+YEPBq790vqfEoPDXSeo+7PxsYlxRnysXl9V1XDv/nJplWKme35M3ccipcjYsQkAABEAABEDA1wg8//zzVF1dTf/73/9o+vTp9Nxzz9Hpp5/ua91Ef0AABEAABEAABPopgR9//JFuuOEGWrNmDZ100kn05ptv+vVI7bV5fj0UdN6RgPI6+Jbj1cuq6kJebS6raE9hJZfeIKGvJ/HqRRp41arErZfVq3NGJHcYI0Tpuaq8XlNkzeJV63G8wrW3cortnFu47UpeLf89J2cVo8hJvAK3uyTcNRyOZm1Fg5YI+6ikCM2ocRaHLHnHFrKEu86rczleP7e7ib016jg2+6iYcC28jay2n83Jgj/f1jUkSm/HM1Dqi4I6OdQ6//PYQNBXIkasDezVUsxhX45OidLm+wJbvhHJmbCJr+0R7CUxmL1qjmHj1ou6jrBDhJa/YiUnki7k+uIlI6GPknh19k2s5L+EDRLlrKCVsEnH8vUssvAAJ/yVi4dFVojLOO+dlKGt6BbjiFyf9XwtHcsGkURu54ZRKXQl13dMwj49O17zOtIasv0p4BA5jh4Oc3gsuxzyb0hxuXbFGCJGgB+4/RPTotlbwd7DSVaqT2JjichXhdYE1doL25/BrBQ+zZbUXr9fnm9h74+9zKU7kQTlIlv5PQRjRHekvHdMrqPPOHeIGHZH8XXtKKkcQmsC3zMD+Q4dHRLI9+YYEo8ySWj+TX7Xa8CxvryO4mtaRJJii1w/Pk0zRsg1J2HXdrIhahobdIeyx4XkgFnOnkCS90TeC/ew4UJCsEmC7G/5vSK5TUazN5uEm5LPjJ6klc9ZyMnuV/N5ytlYPoiNIRJaUIzQ17Jh8m9sKIaAAAiAAAiAgC8SeOedd7QcEvfff7/mKXHuuedqoRKOOeYYX+wu+gQCIAACIAACINAPCKxcuZJkYcSrr76qjeZPf/oTPfPMM34/Mhgk/H4KjQcgoY1EWSqyON8axuUbDv0iccOnp0TQM6z8MVIwrudQOM9uKrULlfTOqSO0dhZxmJtn1xRoz+XPBg7Fc+f41I7XnjwRBddM7qvI16zwElnIK3LFICFKr1xWQO9kZZijfM2rxl9lw4Maw41HZtEsDj8ihgYlBRX19OtvtneUkf1f8dYyOZPjqEdRXnQ4fa4K49FtAgm68DBFtS1u13elghid7ltb2BE2ZjkrYu9m5anIqxwiSoUjkuvorZOHa54U2axIVSGQHl2dbzf/Um8hK21fnpVDJvY4UGHBXt1S2mGQeIU9J/Shv0ShL+FlRHl71fe7OwwPH3Bc/v+eOFzzXBCPjmV77Y0yysNDzqlkaUk9PbnaPpSZXIuyGckP/F6QFe1fc24IMUiIJ5H+PTEzK07zZpK+reBwS44i5f/AoX+M5Etu+xUHg8RQVoA3sAEkjj1PTuL3oPKKWlpaa9QE9vURge18HxYRr5iUuHAtRJk6lRgB1XtA7ZPHGp43o5wl+jLiCfFrNjDn2u6T69mYJx5CU9mgK/IAe0Js4HuryEe8PcqJ3sUoId5IYpA4jo1s8l4Qw8UtK/KpkA3CIvN4e/qEXM2rQ9vRzZ9Lv9nR5T0p3lH/jw17IzgcGqT/E9i6vYHWb6ynrdvs74X9f+Suj3DsmAgaNzqKhud6L1weuPfMvy+45xeYacOmelq/oZ6aW6xG4J57MrBK5GSH0tgxUTRxvPF3IV+jcd9999GsWbPogQceoI8++kjbEhIS6Nhjj9XCOEkop2AOewsBARAAARAAARAAAU8JFBUVkWw//fQTFRYWas1Iroh77rmHzj//fE+b9al6+LbkU9Phvc4orwNR9IjXgchSVkCKQSKYk6FOYcWuowJVyjzISial5JfX8RwjXBS3Im+xAtbbMpmVntK+rJpdblOoSszyMo7hL4q3U9joYWSQWMwrc/X9XMfGBzFISHJYvYSLYnV4HI1lpd4gXlkcz8dFyScSaQsTpS+P564TCGcjgBLxpOkLOcArqfUx7HfpEjEv3t+pgJdrQfIlSM6ULFZqKoOE7J/I1/qMlGjKjjJRAsfGl6TBSuQa6MlHJo+9akTkfXP60HhVVXu0XUqUHtE1uaGsNBfFrV42VndVwP3CY5IcKI7CzhjUZEv0vYvzZlQ0t2rKYDEUqPeECte0rLTB7v2g2hKPjkWcF8ZIVpZ17cufWFntKP/bW0Ffcy4QyKEjwJdthzgaGZr4ovqJrwcRyR2SwPfJPL7mJXzZC0dn0/XsYSA5VvTyMhvrItk7SN3L5dhO/myQ3BLHDk3oKDqKwzjlcf4gJWl8zxTJZE8bEfVeWCYeRzZjhHbAzT8n5ibSZDaEpEWaNMN5BPdNJNz26GZzKO4nBErLWujhx/Ppq2/sc/34SfcPbTfft95zzzs7ge68bTCHVev83HK3I+DuBjEvcpez/uuZQnrxlRI3OjCwix45MYruui2TRuRZjeS+TEPCJMgmHhMLFizQtnnzxDwPAQEQAAEQAAEQAAHvEYiNjaULL7yQZs+eTVdccYX3GvaBlmCQ8IFJ8HYXZLX4LFbAiojHgHgPOMpsDltjZJBwLJdqU0TJ/moX4pM71u/p9SkcqkMkiJW9147vTA6nQgHNZCPDizwevfHBqE1Z1e0oI3hV7z1HpNvlHxDDB8Q7BErrOpXoaXydOCYg985Z7FuxiJbeiYjy3VHmHjW4Y/W3OiahbdxRfGZGdN4mL8nuVN6q9uRRQkE5ysPL9zvuMnz9JodlUgYUwwK2nRJ67UIO7yRhq17m90Qkr3YXRbTI1wbhmmS/5PZ49ZcD8tQlKWejRyWH0cnkEEASKkuIfqMz/LjUCAr1mkAqK+pFhH+1g7Fqe00TPaPzVJNyYjh+dFqW5lV2LIdYet/BIKFC60l7klNIvOU+3mI1MGfwXCuR68tIwoKtRtwsW792cUgnTySWDYb3T8nSQgeq+l3fteoIHvsTgZ27Gum3V+7g+OscOnJMGFly2qklkO/FKdZrqz+NtbdjaWOHw4aiNmrZ3k4fflJBK9fW03tvjqCY6M7PIlfPoeeee0Q4mbO57XYLuBsAVNzN23rPXZq/+LJtmldEXHIwhR/JnmVJrRQc3vW7gkFXBtQu88F2amPPkbplbbRqbR2dc/FWeunZXJo5zfr7wNdhXHLJJSSbiCS9VqsZ2yRmKAQEQAAEQAAEQAAEPCSQlpameV4OGzbMwxZ8v5r7v258f0wDvofjOaa4KBOViOeAo4zlVbCSdLSnJLiNra0dVUXppbwtOnY6eRKslo47OS67I1kRNl6XcNion+LNMJGNFpJ8uDsxUmpdxau9hYMoWV/ZUUabeEW4hL85nr1ErjNYCd5d+zjWlYDEulcJpydzyJcNrOTsa2l14wfeGE72rELRSLixD3dXUDkrUsW49ebsPJeNEs2235Tr2JPhLQ4TZSSl9X0Tskp/rkUFVoOEXNPj2NiWGWVVJNfyeJzlhNHXd+X5Q5wQXIwjw/ie8dDkLC0clCiQ5/64xy6MlSttoYznBGYkWw3Kkny6J2OsnEXuy1urmmh6cgSNjOn0cFA9+MOSPeyt0254v2+yvafkOrqfw6MZSQ17rIk4evwYle1u35yceM0YIfkn3mbPG/Haq2KjmYROe37mkO6q4pifE3joiQLNGBE7xkSRv5LvJ7JBOetsWqMz2dvzKKJdrzfR/v1N9CB7ljx8X46z4k73K+5pE0Ip8AwiWXceQfjq7wyYI/d7H9lP//zbUGfFne4XzwgJ0RSVGkRJvw+iIO22bO/B67TyADsQlWH9vZLCRpvSVbwoYr6F/v5YPn3+wRjitUp+JdnZ2SQbBARAAARAAARAAARAoGcC+FXSMyO/KzGbQ7qIyEra91npoxcxFMwdk6opGmfxSloVg19fRv+8khNhKxmVGE4/2cI/yb6EsK4/rpQHQjyHEelJZmXGaCoJUWr/Y1MJrwa2Nyv8jsN6ZLHR4hT25ujJIOF4Lkn2m23z7niNlcgr9nVv0HCsj9euEdjEyaYn83UhOT8+Y8ZGXhLisXM8KyK/OcRhf8YnWl3+xSClz33S08hMwUF2yvf99U1abHtJurvHIedCT21587iw3cthqeS6lsTcWTaDxCIOX+ZtkRBR/95WSjeMTNEUyHeyl9X//bTX26dBewYEzhiRRLMGWY3IK9g45KqE27wYjMp3592Wz9eUiIk1P8WcdN0xObu+vWIOoSZ5HiSJ9af6Ay4+n2AzQC/hJO3zt1o9NFysimJ+TOCjT8to2c+1lDkpjMJPDiReoA9xkcDQS8Noz3/N9On8SjpnTiJNneL6qnHFPe+oCGo/nj2uwN1F6kSK+4IvqmjZ2TU03Q3ukjNCwjRFJwXToA5jhMunHtAFxShhLmunvT+zJ+CLhXT9NRkDmgcGDwIgAAIgAAIgAAL9mQCWp/Wz2ZWkpRMTrDHvPy2oorWcl0G/iWJ/Nce2FznFZrjoDoEosvbbQoZck5dMx3C88SMHx9E1E9Ppj/zaUcpsBgxRmmbbklUn8ordW6YMtvPakHqzbeGafuCk1WsM+vqlLQzNBB6PeFO4I226pbwjdCuGx7Ei9zL2kIB4h8Dzm0u0/B/iEPPE1CyawteGEjEKTeIcIM8cN4yuGZ7MMbC75llQZfviURI9i0hiZ/HuERGvoKsnpHfxjhDPGSXT0q2r08WQIqJyLQzn8GdXHJHGiQo7b5uSYPohTpAt15WnksBchI3jJvwc5Svbe+Io9khJC7Pakxc5CdckdSPYm8KxXfXasW3H10vYo+QTTgAuIh5Vf5qU6VgEr3tJQK4lmWe5PuUaun3qYPr9MGsS8g1s7Ptgc2mXM4Tw5Sf1ZJO5zEiI0O7HStn/Cyeqdke2HOT8I/xeEc+bOyZnaO8RVV88FyTk36XjUrVdW2usuSkms7FPcrOIyL35Mk40r65HbaeTPxabzXkIG9PU9Z0WH0G3HmFt30k17PZzAhs2Wq/JljxWirOzDTb3GMQcYf3sXM+Jkd0RxT1wHBuBwN1tBor7d6vc8/6UBNYiUVOUZ4Q7s4ayqdOs331+5lBlEBAAARAAARAAARAAgf5LAB4S/WxuZ7LXgSiHxVNhlS1JtOMQv+Ukt1NYoZnJCUtFGdRo6QzL5FhWXj/PscYfmJROskJcVkx3J9vZ2NHMxgBJtvo4h3qRfkh+CEcZFBeheT/I/oVFxkl3fyyspatZkS21Z2ZEu5VYV8KcbKk206jYMJrDijNZwS8ibCDeIyChYl7iHAgyT3J93DY2ldrYA0fCwLiTp8F7PepsaRUbui7imPiSjPqlWdma0lWeOxNJAC85V65lQ5tscu2+zN414tmxlq8hMfTJdSSJpCtaWimJFcnq2o4ULbGHcud458rY3y7aZbdi/UcO2ySs1XVcZLZ0m1xYxvPmCcMMe/YZ3x9eW999fok3NxzQ8kmIF8wJqVFUMDKZPsXKdkOenuz83ymsoTWQ3WwI/vuK/QZHiD0UwshZPUlU7e78SNi+N3aV0xW5Sez5EEavHDOUDnIy9Rj2FFKh/761eeEs3lNJvx2ayIauQLqLjRBt49I6rkXDzjrsFI8PMezl8vb2ScOdfj44VMNLPyewfpPVIBGZHIRV+h7MZURKIImv6/J1dXSVG/UV9+aIdgqwOP/sc6PJAVVUcV+3wT0jr4RqEpGcEZwhTXuOP64TCIkPoIDYANq61WoAd70mSoIACIAACIAACIAACPgTAc+1aP40ygHU1zGs6Bf5mfMlOIs9/gsbAMRoIDKKlawtHDJJXskqWaM620tq6abl+bSQlVIS03wjr9ydl19FH9jyOlTZ4otLexLu4/GNJVpuAXktCls51RccK1yFc2ri841MsK5Yr2lpox3cvpHIqnU5l8hY27hU4uJmTkyslyY2QIhI20oe5Xj40l8RUeDKVsZ9FUOFiL6stgN/PCLw7c5yun7ZPpIV3XINCWdljJDXK3kF9r1ri7RrQ5JSy/WgrgU5oVnNne2alH1NtqXUZod5Fs8Xqau14ZBPQl0bqj0JryQGBXUuMUZIve85XIwSs1qyzTv+saGEilnBLyLl5NrlU2ny95/30WustG3g/ph4gINCg7Xj0vZyHt+OCusPZ7ZTaKLeX9ZXxn97KmM0Rnl//cK5LJQsKDQORSaJu3uSFjU4Lqj6YvSeeGx1foeX1O9YGR3HymSI5wTUNaJakEusmu+D+/h+t4zv2/etO0C3cs4Hx3ux0ZxK3QoOSbZNEl1vK6Pbl+5RzfJ93fpUzW3HAYMnErrvAU5+XsIJr+X9m8LXtzJGSOi/H233aOnTLfxZcJDPKSJlRVaXN5LkhRBR70Oj9/q8LaW0tKRz1au8x6T8jxwiTKTJ1ob2An/6DYHmpnYyhbKSkeeb2rC5yyDQFo6tocH6HnP1whDuoaGB4O7hNae41zX0/Hmqn5NmTtAsggTWeipuPmenaLl+ISAAAiAAAiAAAiAAAv2XADwk+tncPrkqn57sYUyiVPr1V9vsSl3wxVa7144vCisa6Dne9HLH1CHay6IG+4S+En7pcvbCiOVQHqKwlaSlIq/+oj1ofw5wWJHvOSRMT+IYt/7Pi3YaVtnARpbzHTwtZOXvXFbsqXA9UtHVpNyGJ8FOpwRKqxrpvp/2asclLFIMKzTrWSOq5l5VFIX6hV/aX2u/cMih8x3CDsk1dD5vjiLX7kVf2l+7qowYDRzlK1a0LtpbSRHcn9CgIKpsaNLyQzztWJBfl1Q10PV8fUkIGs3wwQaPZpviVYp/xgpf2SRMTgxvDS2WLkmCCyrq6fwe3kvq1I7vQbW/p0ejcTrWkXHL5qp01xdhftN3u11tCuV6IODONaJvyt05dfc88j68jjcJBZUQFaoZqmsbm7sYRuS9/sdvd3QYpuo4r4RcI45i9F6XMk+ygetlfo+FsJdFEFs0VN6Zfzo2gNf9j0ArGyMgbhMIFIU6C79lPBNw94ib4t6dZ6VHDaOSSwRwt3AJEwqBAAiAAAiAAAiAgN8SgEHCb6fu0HU8OymS7uC4+8t5xbkk+JVFrNOTozpyVSwp7urhIAqq8hqrJ8Kh66nxmWCEMObSV3vFECSbr4gYFfSGhZ76pc8nYVRWFK2yQUCgPxKQe7cYHXoSR2NjT+X1x+U91uknoT+C5/2agNUBrV8PsS8G12YLt+SxghbcPZqWXnP36KyoBAIgAAIgAAIgAAIgAAIDgwAMEgNjnns1ylBeMZvI8fJPz4jp0o6EYnIWcqlLYewAARAAARAAARAYmASwUt+jeQ+0hV/TYmt60gK4e0KNOrh7VBuVQAAEQAAEQAAEQAAEQAAEuiMAg0R3dHBMI7CHQzU9v72MBkeGUrQpiCzsIlHAoW/Wcez8fZykFAICIAACIAACIAAC3REIgGK8OzxOjwV0jYjmtKzRAXA3otLzPsXdY8+Unk+BEiAAAiAAAiAAAiAAAiAwYAnAIDFgp971gUu4G0lcDAEBEAABEAABEAABTwgE2EIPuVM3JCSAzpoYQyPSQik5Kpg4LRVVNFiovK6V1uU30k9bGygxJogumRbncrPzVtdQYbk17N4J4yJp8pAISo0JpmDOaVLd2Mq5htpoS3Ej/cBt1zUaWwPOnBRDedyneauraHexfQi/vIwQOmVMdLf9kYUdz3/bcx4trZFehlzyhLsrXK45MYFMQa6p61fta6Sft1nzkI0dHEYnjo7SmEeFBVKtmUN81rfS/vJm+mlHQ8fcyNgnDg2no3LCKTPeRImRwdTK3ErqLLRkez0t2WS/IGZwsolmjYiknOQQSuayIdy3g/UWWl9gpvd/ru52PgwP2rjLNXe4JSsxkk7OjKXMSBPFssdyVVMrHTRbaHddEy3nsKkSQu+YoQmUw/l/XJFCDpunvtdL3q/TsuMphxcdJYcHUyOH7TtobqWCxiZaUVJP+eWdnI3O0cxzUm9ppfXlDbSXQ7tCQAAEQAAEQAAEQAAEQMAVAjBIuEIJZUAABEAABEAABEAABDwn0OpeVuZBCUH0+MVpFBlqr/QekmjS+nDSqCjaONpMH7OB4YSRUS7365d9TVRY2kpP/CaVldfWtlTlLLK+njU8gv4wM5EueDJfHep4HDs4hC6cEqf1a+2eRtpdqGIqWYuMSgl3qT+vLa4iswvplgJajY0iHR3q6Ymb3F3lMrsHo4u+W22M6OfNZrrmpHiaPc54rmYOi6BLjoqjO98voa0FzRQWQnTPnBR9M9rzDDZOTMoKp8lZEfTPzzsXy9x4UnKX+RwUG0xj0sPo2OFRdP1rB7q01d0OxT2A7K+/7ur0xbGLx6bS+YPtDW5sQ9PkRIqmq4Yn0Z+X7aeT02JoVGyYS13YZzNIjEuPobuPSKOgAIcxxkozkXRJdgK9uKOMvt5h5dztOYYm0s9lDfT4yv0u9QGFQAAEQAAEQAAEQAAEBjYBGCRcmP9MXu0m0ljaRlEZQS7UQBEQ8C4BufZEEgb17i2bwSs6RSydv+G11/gDAoeKQKsskq1pp+iRvbuWExNMFBnFK0WLLZRKuC8fqvnDeewJNJdZ781pg1xbmWxfe+C8EnVnoJsr/W86JVFT+lta22nF7kbaUtBEzZZ2GpwYQpNywigtPpgCWVm8lz0UPlheYwdz1ogIGhQXrHlSLHZYSb9tfxNdNiu2Q3m9Kb+J1u8308FaC7dporGZoTQyI5RER6vv86XHxdLs8dEUoTOQBLYF2JWRTqzfyyvyTfb9UZ2blhtOWUlWo4d4LgTyeHqSNluoKweVcU/VOo7rx9Cx08mT3x7vOpf//VRNwToPiVHpoTQmy/o+cJyPTcz3yOywDmNEQbmFVu+RFfUtlMzeKdkpJprKBokgtlkF2ZgGsMeKSCV7TyzcKCv1WygjIZiOGxVJKWxomJUXQV+vqaMtPH8iAYxSro/vtzTQtqImigoLoOlsWBrB/Urna+WiaTH0/g/G86I14PBHcXfYfUhf5iRHdhgj9rA3xNLSOtpT00wpEcE0PDqMjk+N0owJguqDvZWUwR4USuJDg+mcLKshQ/K9FTd2Wr9K2LsihD0t/jKGPz35Qi9nT+glJbW0ubKRwjhv3NDoUDoxNYZiTIEU6Gis4BNsrDLT4uIaMvGJJZTrrEFRNDgihKYlR9AorreFj0FAAARAAARAAARAAARAoDsCvdMIdddyPzo2ll3LRap/bqPkiVB89aOp9ZuhlP9kXYE5c0L3YSB6GtAYvpaDgvmXa3HPSpCe2sJxEPCEQMkKq1ZyzOhwT6rb1Rk7KoKWr6yliH2BFDPEU3WdXZN4AQIuE2iqbKf2A+187QVTqE5J7XIDA6ygO7kMRg8JoeE2A/orC6vo2zX6UDAN9BqzO2VyJEWHB1E1z8O7i+0VoINYyS0GiT0lLV2OCfY5HHJJZCmHZXrqY33opEZ6l/cfMTSUZo2NJH2fA9oDtLzS9U3tHV4bkmdAX0ba3F9o4c2+P7JfRAwlIlvFuNLIdV1YfR/Y4SDh2T3OsX9aB5z8cYfLh0tq7Vo5cWKkZpAQPo7zIQXvuzRZK19caaG/vFRsV1depCZW03kzYqi8qlVjKnwe/KCM1u60GhxUhW37mumei6xtDU8Noa17rYr2V7+tpD1snDI3d36/Wbi6gV75czqFmAJoWAobmdzIY9LBvbM51YVD9njx0CTtXPns0TB3yR678y7kV29xuKVzhiVSFRsYCjnf2y+6EpFsIFAGiXm7K6iy1qw7SnRqXpJmcJCdN/20j+r5HEqW8ZN3t5TSabmJtKOKJ8JB1lTU0/fcppL5Ow7S/07J015mx4SwQUIdwSMIgAAIgAAIgAAIgAAIGBOAQcKYi93eIydF0zBejbdrj5mqtrVS3AgYJewA4UWfEqgrbKfW/e1kig2k49yIk23UqUBefXjGqXH06WeVVLiIKOME3AKMOGFf3xGo22jVrp1xbHyvT3LSCTGaQaL8h1ZNKdzrBtEACLhB4MBiq6F4+JTeG9fcOK3fFg10QxkcEtAZ3qmNUzQY1f12hTUngXhJOIqslheRR6O6tsX31M72UaPjG3Y0k2z6tt/5poZkE3nuxlRKYA8tzUPCxXGdPjWSUnmlvshbi2oMz6sddPjTzh4ivRGj8TlrzxMuqi29At/onMG2lfZyDqPjpewJ+tzHVVpzivsv2+znQA7uK+p0tQnUze+2PdZcHqqulBWjRi3nAUnkVfxyRRmdV8oZieLe9eoyKt03+8RjRCTAwEtB9tfWN9Mb6w/IU7dF59xCbZwHwlEsnEti/tYyx92Gr03Bnb+L9td2GjYMC2MnCIAACIAACIAACIAACDCBzl98wOGUgChxb7slUzte+p6FSlZYlRBOK+AACHiJQPmGVip8x/oj+3fXJFE0K0B6K3fcnEUJScFU930r5S/o/GHf23ZRHwS6IyCGtZ2vNFN7WTsddUY0nTKr9waJSy8aRCceG0vN21tp91sWaijpqlTprk84BgKeEGjhheF751mo6Rc2hOUE08N/yfakmQFXR/MmEI8CF7ZCDsWm3s2/PzmOLjsplpNIm1yqq7VvqyzKZKPzlfAqfZGjx0TQTecl0PicUIpg7a9RWcN9qn32mjA87jBGafscXv0vsmanmXbwKn9X6kkZsn1Me5pc2dXzSLnecAlkFiLOmB/gME0iKey58uDlyTRrTDgnqg5ymYMaxyydd11xGXtTOLDWv87kEE+S9FyklM+vP9bTc8W940LUWjm0f/bVWZX7meEmundGNo3hPBHhYZ1hmXrTm/211u+W0sajM4bQDE5sHetiUuzRseE0gZNsT+HcFuJpIfVF9rOXxbayOu05/oAACIAACIAACIAACIBAdwSwPLo7OrpjR0+PoTtvTaeHHi+iqs8tVLWwlYJS2aITApuODhOeeolAe0s7WUS52mDVehx3cRzdfHGmV1qP5djLD947hO57NJ8O/MQ/Hn9upcDUAAqKwrXsFcBopAuBFsmBUmW9lofMCKNn7x7WpYynO+64NYuaeXXn0qU1lM+GiYCkAApOwLXsKU/U656ApaqN2kut13LokEC66aZ0ymBlIaR7AqJMD+KcCa5KdWUbLV3bQMdMjODkxgF0+tQobZP8zsUHLbR+l5k+WFRrF55H37aEV9KEyxud9+Pva+maX8VzfHyiqSPDtU3Kl1e30vb8ZvqEwxHll9gsAdaWDP8G8voUo/YdC597fDTFRATySnSid76qcamOaqOdcyqIuE5P1bQ+utI/VaM3XISFEqNzfvp9HU0bFU6hPJ/DODfb9RkJWvH6xnbac6CZFiyvpzVb7cMKqfbUYzQbMH51tDV0ZWVtK63d1MQZhJyTufoMq+Fbrr+F7FFj1C/VtuOj4u64/1C+/nh3OZ2SHk3hbNAaFxdG4yama6evbmmjTRxKad7eCtpTpg9n5nrvNhRV065hCTSM80WkhQXTTaMHaZXN7JGzo7aJvubjyzgvhZEcmRhBsjnKtmozBSo3G8eD/fz1hg0baM2aNVRUVKRtbfJmh4AACIAACIAACICAhwTS0tIoPT2dxowZQ1OnTvWwFd+uBoOEG/Pzm4tTacbUWHrwyQJaz0nz6va2kvyDgEBfEDDFBVLy8BCa+8d0mj2196vJ9X08ZmYsffVhDP3t0X20aEUtle9voTZcy3pEeO5FAoGsiEsYYaKzz2LD2iXeMayp7qWnhdALT+bS628V04dfcgxxVlS2HMR9WfHBo3cJBPC3pqjBQTRyUiQ9f+dQiuAEsBDXCAS5GNpItfbyh9VUWGqhY9kokZ5i/boqIWwy+HlGShSdwDkk3vy8mpas7hrjXla/i0hIH6Pz/rTaTA31FTTnmCjKzQxhJaq1fGJsEE3n1d9TeRX+d6vq6bVPjXNBWEtz+2Lw6GFc0ZGB/BkeqVX5eUMjlRTzgpZulOiqbfXY2+TKPfVPnUcee8OlI2QTt2N0zrLSVrr72YN00exoGp8bquV1kHNGhgfQWM7ZIduO/c302OsVZOY8FI4Sxnla7r4skWLZKCEGhv98Um14HlXv2gvjaMTgEO3lVz/Wec7dU9cU1ZFePEpIpj/9sJd+k5dMM/maD7PFWYrlZNMzOOG1bGsrGumRVfkkIZbclbuW7aOz2cPh5PRYSuIk1yJyDs34wQaQwpxEun91AZXX2BuKSposnADbrCV+D2EDhCTTHsI5K05mD46jkqLoD99sd7crflm+qqqKHnnkEZo/fz5t2rTJL8eAToMACIAACIAACPg+gaFDh9KZZ55Jf/nLX2jIkCG+32EXewiDhIugVLGhOeH08r+Gay+rqy1k6WVsX9UuHkFAT0BWmMVzWIO+FBMnt77vzmy6j0/Swh4ZNbU9rwbty/6g7f5LIDGh71eQX3ZpKskmUl7RGYqi/1LFyA4HgUNxLR+OcR2Kc7oTv1/1Z8F3DSRbTFQA5WSFUE6miSbkhVI2P8pK+7OPi6YfVtgrS6VuRw4Jfu7svOs3NdP6TRUkiu7szGAakm6iUUNDaHxemGagOH5KJM1fVE+V1QaKXpu+XJ/DQPXZ8fGS2TGa8r2FP2Lf/7LWaX8c66nXzvqvjvf06G59T7korxTxV3B2zrKSVvr3G9Y8EUMygimHt2FZoXTU+DBtPoezAWHa6DBassp+TmWO7roygTIHWb8XvfNFDc9d1/wSisXVF8bS9PHW3C6rNpnp3c/r7PKBqHLdPaoxuJJ4vLt2entMjBLPrS2k57ih+Ogwyo4NpdHx4TQ7PUYLMzYxIZzGDIqmXwqr3T6VGDE+3FyqbdGcIDuT2x8eF6oZKMRrIiM8mOZwKKfXHfJULOBzfeqQX2IcGzX+OiGNxFiSx/3ZXmKf9Nztzvl4hb///e+aMaK21jrO008/nWbPnq2tZJTVjMHBffsd3sfxoHsgAAIgAAIgAAK9INDOC2KU1+XixYvps88+oyeffFLb5s6dS48++mgvWvedqvi21Iu5kNA3EBDoDwRMpgCCoq0/zCTGIARwLeM6AAHfI+BOuBzH3tezDntjVTNt3NBM87+sp/PPiKLTjouk5PggSudE0SWcS0AvAbYwR8SPPZ1XDAU7tlm07dvFjTRmRAPdxMpvySN85IhQWvSTvXJcfx5RWnfXfvog9riYYFWM/8Ahg2rK293yjpBzdYQO6uo0oO+K0+fd9c9pJT7gLhcVskkcClw5Z8G+VpJtKTXRO5/U0uN3JlMEe0uMyw2jH39u6uhafGwgzb02gQYlWj0j3p1fSwuXNjrleMMVcXTEqFCt/spfzPT8f9mTwg2PFHVixV0Zt9T+w/lYWWsm2dYWVNO7W0rpxeNzKYYNAEexp4QnBgn9WMTwsUW2YtKMDbdPHayFZZK2X9cXdPJcQkA1jUvVPCzy2LuivxokKioq6PLLL9e8IsLDw+m+++6jG2+8kWJjY52QwW4QAAEQAAEQAAEQ8JzAddddxwuIW+jZZ5/VFkM89thj9MMPP9Brr71GeXl5njfsAzURa8AHJgFdAAEQAAEQAAEQAIH+TCCQjQOubplJwXTasRFOy+/b1+nRFxYQ2KWcUiLLl1yjc543O4riOJSc0bEtWzrbNrG3olEZtWpeDB9Gx9W+i+ZEk4SZauIQRB/Nr++2rKrT5dEWEko8DzyRLu110+fecFEeEtJHo3PKfOZwYnKjYy0N7NlWZeUewt6bqsxQ9lq558ZEzRjRyjan/7xdTQu/b+w4rsrJo4RPu/vPCR3GiO9/bKAX36gxLKuv5/R5D6G4PJkLd+scnZOgeUUY1RPvhgONVm/AEBVzzKigk33DUiI1TwYnhzmPhNUQJyGZXJHgARC+rqCggKZPn64ZI371q1/Rxo0b6a9//SuMEa5cICgDAiAAAiAAAiDgMQGTyaQtgNi3bx9deeWVtGzZMu07yapVqzxu0xcqYom/L8wC+gACIAACIAACIAAC/ZiAK6vm1fCHDzHR+azMP/HoSPpiQR1t3NxMlVXtFM5hmsaO5Xw0c6K0oqLoLyrompOh02DQdbV+fBwnyT4pkk48JoIWcTiolauaqIhDCYmMGWmik0/oTNa7bw+3bZSMWxeyyfA4tzUyL5jGjrSu1F+8pIFE6e7RSv0W1xTC2gAM/jjrn2PR3nKxyyFhwOz4GRF03hlBtGqNmb5jD4dde6wGiOysYJo2NZSy2FghUpBv0ZgPywmmG/8URyE851rOiDerOU5/C0U5KN8bm63XxV23xFMSe1GIfL2wgb78qsGwrFbAhT/tiruHnikunKLHIhdkJ9ANI1PoK/Y++GxfFZVyImuRxJgwOjYzhkbEWK+vbTVd86j01Pis1BiakxlL6yob6b87D1IBP4qRQ0I3jWGviHOyrLnLtlV1equoNsVIoQwQoSEc2okTY/82N7Ejx8XGCr7Y+6GIZ8T27dvp1ltv1VYo9sMhYkggAAIgAAIgAAI+TEAMEy+99JLmGSHfRy677DLNOBETE+PDvXbeNRgknLPBERAAARAAARAAARAAAS8QMEp07KzZwHarEj4+LpAuvcj6BZs9lVkJyvkhdPr5996vM0xsLLkdNJHwQQ4r3VVuAMlBcdopkdpmYXuELATX67p//rmR9u7sNHacfXYETZ8WpjUbHW11ML74/Bg66/Q2LbzRPfdU2E5qfTj3zGjtSV1dG83/xHmIIbtKBi/aDFJYGBRzustx/M4KespFtSeeBiLy1+icYiSSuZsyOUzbZFxtPD/BVhuCVreoyEJffGZllZUarBkjtDa53pWXdw2JI238+YaDFMOJw5UxQsqfcmKEtmmN6v78+5kq0nvA6A51edpb7l0a9HCHXJenZ8Rqm/BqZeuMeO4o2VHbRN/uLFcv3X6cwPkoJkzJ0uqZOS+eSpwtOxpa2+ilLSVd2ryYDSWyGcl8Die1t6ze6JBf75NwCQsXLqRLLrkExgi/nkl0HgRAAARAAAT8n4DkkSguLqZ//OMfWijJjz76yC8HBYOEX04bOg0CIAACIAACIAAC/kFA1KfBDoaB7nq+aa2FvolvoCMmhlIK52EQ4QVBmshq+cICC33+aQNt3thCwQb5AVp41byIpZlXcjuct451tx+9X08TJ4XSEF6FL0YIvVK8mpNYL/y6kb5fZLZrOzIskJQhQmuc/wRx12SfhRf768+TmhZEgwdbv2Iv/JrbceiDqu/KY1ub1fjhSlmjMq6e21Mu6pwWs1VJLuyNzjmPjUdT2KAzclQIGxqsxh81smZehL98mVkz3Ki6qj3VvtGjGA2kvKUhgOS53qBkVJ5aAg37ZlRWce9U/RuV6tt9T206QLMz42kGeyyIoUAzmtksco1sLJiXX0Wfbj9o2IkWtrKJAUOKWwysK5/sqSQzFzg+NZoSQ6zvMWWMEKPH0tJ6enNbGVXXdXpINFqs7yv9CaXsweZWKqpvoY/2VnIOihr94X7xfNOmTVrc5tzcXHr99df7xZgwCBAAARAAARAAAf8m8MQTT9CaNWto3rx5tGDBApo9e7bfDQgGCb+bMnQYBEAABEAABEAABPyLgKuhg2RUjZXt9OWHZm2T14MyrMaA+vp2OpBvDa8k+52FQHrv1QaSzVmZH75uItlEEpIDKZY9Mdp4dfiBA23U3GhVujq2/eEbDSSbM9GXL8tvo5uu6vSY0B9zVt/ZfuVt4Kli3B3unnBR/V7zYzOt+dE6ZqPxblploU2r6rTiUTGBlJjECnZWspeVtFFdDVsTbKLq6ttTx4wepbxcL7dc08nbqJzap9pXr509Ku7UVQfvrIrX9+9io8CzsnHLIWw0iAkPoSC2MFQ2NFEzGwG6Ezl+4ZdbnRaR5Nj/21isbRJ+KZrbjuAE2TVNFpIE10by4PJ9Rrv7/b6HH35YG+Ptt9/OhlGbZbTfjxoDBAEQAAEQAAEQ8HUC8t3ku+++I/muAoOEr88W+gcCIAACIAACIAACIHDICQTZQvp4cuKD+bwKm6wKWFcVyq6ep7qknaptOSSkjrfbd7UfzsoFda93dlatY7+n3PuSSyPnAyngTYmvMZd+Ke6eGoLU2Lz1KAaGg83u54pw5fySO0IMFJWuFB5gZRoaGujtt9+mESNG0B/+8IcBNnoMFwRAAARAAARAwJcJiBHi5JNPpm+++Ya2bt1KI0eO9OXudukbPCS6IMEOEAABEAABEAABEAABbxLoWHHuzUYHQFuKW6f63p1BBxjmc3CnhYFatoO7LZ/JQOUw0Mc9f/58DgfWRnPmzBnoKDB+EAABEAABEAABHyRw5plnagYJ+c4Cg4QPThC6BAIgAAIgAAIgAAIgcPgIqNwAh68H/nnmVlv+CU9X6oO7Z/PeW+6enRW1fI3A4sWLtS7Jj30ICIAACIAACIAACPgaAfmOcsMNN9CiRYtIkl37k8BDwp9mC30FARAAARAAARAAAT8kAMW4Z5Nm6UiI7ZlJAtx7x90z6p6dE7V8j0BRUZHWqWHDhvle59AjEAABEAABEACBAU8gOzubc42FkPrO4k9AYJDwp9lCX0EABEAABEAABEDADwkEW6Da9WTagnuRe0POB+6eUGduirtnsbI8Oylq+RwB9eM+PT3d5/qGDoEACIAACIAACICAEJDvKeo7iz8RgUHCn2YLfQUBEAABEAABEAABPyKQlRlCu3abqaHZQlHBJj/quW90tdbconUkNdk9duDeu/lT3JNjQ9xqKDPDWr6xtI2iMoLcqovCTKCNqL28nWKzfOMnamNjI0VERFBgYCCmBwRAAARAAARAAAR8koB8VyktLfXJvnXXKd/4ttddD3EMBEAABEAABEAABEDALwmMHR1B3y2poe3VNTQ1Pskvx3A4O721ulo7/eQjI93qhuK+x1xLkyIS3aqLwkSK+8SJEW7hGDs6Sitft7yNkifCIOEWPC5csqpVM0qMGhXublWUBwEQAAEQAAEQAAEQ8CMCMEj40WShqyAAAiAAAiAAAiDgTwSOnh5D/36+mPaZ62hCUwJFBENJ6+r8lTc3UZG5nkJNQTRzRoyr1bRyivue+loaExQP7m7QU9xDgoLoxFNi3ahJdOSkaBqWE0a79pipalsrxY3A9e4OwJrVbJBgOeP4OHeqoSwIgAAIgAAIgAAIgICfEYBBws8mDN0FARAAARAAARAAgb4kEBYWRhKqxBsyflwU3XBdKj31TDEtqCik6VHJlBnq3qpzb/TD39rYwwacn+rKtG7feGUapaW6FzpIz/2bgEKaGgrurlwDeu5XnZdK2UNDXanWUUYi+9x2SyZdfd1OKn3PQk2ziQYdBaNEByAnT2r3t1PJwhZqK26naadF01kn986bymw2U2ioe3PnpGvYDQIgAAIgAAIgAAIg0AcEYJDwAGp+gZk2bKqn9RvqqbkF2e48QIgqIOATBOLjg2nc2EgaPyaKEvh5XwnuGX1Ftu/aHTUygq+LSBqR17eK01Vra2nDxjrKL2juu8GgZa8RSEw0kYTCGdfH9wyvddjDhjIzM2nNmjVUUFBA8ry38sc/pFNFhYX++85B+rKqgCICTRwqvp2SgxGWxZGtcKmwNFFjmzV3xG/OTqHLr0pxLObSazvujeDeHTRH7ucfl0zX3T6ouypOj4l3yp23ptPDjxdR1ecWqlrYSkGpRIEhyENgBM1SxvQrrb+nxh0TSS/8X65RMZf3lZSUUFtbG6WmMnQICIAACIAACIAACICATxLoOw2cTw6395361zOF9OIrJb1vCC2AAAj4DIGoqCC67eZ0Ou/sZK/3CfcMryM9RA2Wa+c59eQ4uv2WLEpxM6FsT51ctaaWHnqigLZs8c4q9J7Oh+PeJdCX9wzv9tSz1rKysrSK+fn5XjFISGN3zh1MM6bG0Ov/LaOtWxupus5C+c21nnWwn9eKjTTRqKwo+tOfU2kGK7d7I4r7G++U0ZbNzL0W3J3xjI0w0YiMKLrmmkF07AnuhWpybPM3F/PcTY2lfzxdSOv4eq/Y20Kt/A/SlUBIeCCljg6lC+fE0xUXp3Ut4Oae4uJirUZaWu/bcvPUKA4CIAACIAACIAACIOAiARgkXAQlxS6+bJvmFRGXHEzhRwZRW1IrBfOXaAgIgIB/EmiuaqOmA0Q1Sy10z335tHlLA91z+xCvDQb3DK+hPKQNtVmIGgrbqGU30VffVNGyFXX05svDKXeYd1Zzz5t/kO66d782pqj0IIqYFkimpIBDOkaczDMCTZVt1My6rr66Z3jWK+/XUl4R4iHhTTnumDiSTaS8wuoB4M32+0tbiQkmrw4F3F3D6W3uQ3PC6d//sK72r662kKUVXtVGM+Ft7sogAQ8JI9rYBwIgAAIgAAIgAAK+QQAGCRfnQVY5S4imqNQgSvp9EAWFSUXEhHURH4qBgG8SyOD38BiimDGBVDTPQu+8V66t4D3x+Phe9xf3jF4jPKwNxAzha2MG0e532ql6q4X+/lgB/ef54b3uU3FJMz3yRJHWTuolIRQ7EoaIXkM9hA1EyT1jbN/cMw7hMHo8VW6uVYm6YsUKuuCCC3os70kBbyshPenDQKwD7odn1mNj8ZPrUJFfuXKldqqhQ4ceqlPiPCAAAiAAAiAAAiAAAm4SwLdjF4BJ/HcJ0xSdFEyDOowRLlREERAAAb8gEJkWQCmnBlHx6230AIfR6a1BAvcMv5h2lzo59JJg2v0u0fIVtfTRp2V07lm9C+v19HOFVFNjocFnhVP4yDaX+oBCvkfA2/cMXxvhaaedpnXpyy+/pMcee8zXuof+gAAIgIBTAnLfElH3MacFcQAEQAAE/ISA5MZZsmSJXW+nTp1KgwcPttvX3Yvdu3fT6tWr7YqMHTuWRo0aZbcPL0AABEDgUBGAQcIF0pLAWiRqivKMcKESioAACPgVgdihgXRwWBCV7mqh0rKWXuUMwD3Dr6a+x84mTQ2iA5tbafUv9b02SKzf0EjBpgAKnwxjRI/gfbyAN+8ZvjbUyMhITZknir0tW7bgx6qvTRD6AwIgYEigqKiIfvrpJ5oxYwalp6cblsFOEACBQ0Ng586d9MYbb3R7MpPJRPKdQ3JXnXTSSRQf33sv9W5P6KcH165dSxdeeKFd79988036zW9+Y7evuxfffvst50i6xq7I3/72N7rrrrvs9uEFCIAACBwqAjBIuEBaQjWJSM4IhGnSUOAPCPRLAqEZRJZdROs31tFJvQjbhHtG/7o8ojMCiFON0FrbZ4Gno6viGOK79pgpOS/E0yZQz8cIeOue4WPD0rojq4vFIHH77bfTJ5984otdRJ9AAARAwI7AnXfeqb2Gd4QdFrwAgcNCYMeOHfTAAw+4de5f//rX9PTTT1NCQoJb9VAYBEAABEDA/wgE+l+XD32Pm1usSeiQwPrQs8cZQeBQEggKtcbzt1h6t3od94xDOWt9f64AyS8bEkANzb27LlptCU0tJiQ27ftZOzRn8NY949D01r2znHPOORQYGKitNm5oaHCvMkqDAAiAwGEgsHTpUu2s55577mE4O04JAiDQWwJvv/02HX/88VRaWtrbplAfBEAABEDAxwnAIOHjE4TugQAIgAAI+AaBwADvJKCGOcI35hO96J5AZmam5h1x8OBBeuihh7ovjKMgAAIgcJgJPP744yQx0q+//noaPXr0Ye4NTg8CIOApgfXr19PDDz/saXXUc0LgrLPOou+//95u+93vfuekNHaDAAiAQN8TQMimvmeMM4AACIAACIAACICA3xG444476Pnnn9cUA9deey1isvvdDKLDIDAwCFRWVmqG0+DgYJL7FgQEQMA3CZx33nn0zDPPUGtrK4n35apVq+jqq6+m2tpauw4vWLDA7rXjC6mfn59PkqdCNslFMWzYMBo6dKjTRM/qnPq2wsPDSe4bSqqrq7W+6UNGtbS0aMZOSSxdXl6ubeJBmpiYqG2SGDouLk410eWxrq6O2ts7lyOFhIRQaGioVk7GsG7dOqqqqqLhw4fTuHHjtJwaXRpxYUdbWxvV11tDjeuLR0VFUQAvqkpOTu7StoxfL42NjWSxWDp2BQUFUUREhPZa7rPS171799KQIUNIxp2SktJR1tkTmdsNGzbQtm3btFBcOTk52jjNZrPTczlrC/tBAAT6F4HOu2//GhdGAwIgAAIgAAIgAAIg0AsC8iNWlHtz586lq666ij7//PNetIaqIAACINA3BP74xz9SRUUF3X333TCc9g1itAoCXiEQHR1NgwYN6mgrNzdXU5RLQmu9bN68WVOuS8JrvYhiX8I63XTTTU7DOs2ePZuefPJJGjFihL4qLVy4kOSYXv773/9qIaIeeeQR+uyzzzTDgxxXBoT777+f7r33Xn0Vw+eSXFq8s6ZOnWp3XIwRMma9yPepyy+/XPteJePUiyj4X331VTrjjDP0u116Ljm/HnvsMbuy0t7WrVu1ZOHOxn/ppZd21Dn22GNp5cqVHa/FW/bHH3+kG264wTCfmHC7+eabSQwXjiJjl7w+khPEUcSLTYwxekNUXl6eZrRwLIvXIAAC/ZcAQjb137nFyA4DgfjoMJIN4j0CiTFhFBmBJMDeI4qWQAAEQMB1ArfccgtJPPYvvvhC+7Htek2UBAEQAIG+JyBKuPfee49OOeUUtxPo9n3vcAYQAIGeCOgNFPqyjqv3xYtAFOai/O8ux4R4V4wcOZKWLFmib47Eg8BR3nnnHa3sU0891WGM0JcpKCjQv3T6XAwb06ZNozVr1qpHG2QAAEAASURBVNiVUYYN/c6XXnqJZs6cSY7GCCkj45ozZ47hMX0bjs8/+OCDLsYIKfPVV19pxgh5bjR+o/5JWSUyfvGG+OSTT9Quu8fbbruNXnvtNbt98kK8SY444ghDY4Qcl7HrjRGyT++ZIa8hIAAC/Z8APCR8eI6Pzkmg3OhQGspbeFAAlZpbaX99E31XWEslVV0TTI5Lj6WJSRE0nMvHhgbT/tpm2lVnpu8Kaqiy1ux0pOFhJrowL0k7bm5to3c3lRiWvWRsKoUEdsZQb2prpwZLKx1oaKFfimupubnVsN7h3hnHPJpa2qjR3NKnXQkJCaKXZmVr5/jtol3dni8nOZKOSYux64/wPMh9XH6glmrrm+2OufNC5jPUFEhVtU3uVKPoyBC6ctQgkq9qz60v8on5PGpIHN06JpV28lhuX7rHrfEM1MJivDk/N7Hb4a8qq6dNB2rI8T3tWIkvSXpnSwmdMyKZIoIC6YfiGtpV2tUVWOoFBwfSpaOtK57e236Qk+EG9NiPUr7ev+SyIo59kXPXszv2lgozbeHzQqwEjO4djmw+3VNJyREmOiMrjiqaLfT6+gOORcjTzwtp6MIxg/gzybqeQeba6N4qhtlZGdH8GRZGaeHBZOLyJQ0WWlNRTwt2WOfcsVMzsuNpSmIUZceEUFUTz311I33OY6lvcH4/zE6KpFN5nD+X1dG6gmrHJrXXsVGhdN6wRMqLCaV4/mwsN1u0e8pHu8vdvk8anmAA7HzzzTc1F30Js5CdnU1ipICAAAiAwOEm8MILL5Cs0JWVtXKfgoAACPgfgY8//rhLp8ePH8+/JezXzv7lL38hlbheVRDvg1NPPVVTvDsquMUTQUIFSYgkZ+KJ56d4HTgziMg5V69e7ex0Lu//v//7P83Q6kqFLVu20AUXXNCl6EcffUQTJ07sst/bO2ReLrvsMrvQV+JZKzl9ICAAAiDQHQEYJLqjc5iOiYLl5vFplBZmPz05UURT2eBwwZB4WlPeSA8u36f1UBThNxyRQdOSrfH9VLfTub7su4iVPC+zAujbneXqkN3jzMwYOjMztmPfkqJaOlDZ1eBx3mDnsRFbWUG1iI0SL6wt6mjHF55MyoyjO8en0p66Jpq75NAptEUZ251M4DnWM9eXvSYvmV7cUUbf7DCeL31Zo+ePzhiiXTv38lyI0tlViWNDxswUq1vsG6EmnzBIBJCVY/c0XR3hwCiXEmlyem0pAmzf1K6N7t7TquxHu8ppRkoUZYWbaEhUCN3vxCAxhe8hck2zHYE+4HuNK/0oZsWwMkg47Us2UUFjMt2xbL+h4lv1c6A8dnfvUAzWVzRQOl8H8n6uZmPs69RpkOjt50VKXDhdyJ9BSooamw3vVbcckUYj2ACgl0y+hiYnhtMpGTF083f2P1KumZhOJ+uMtHK9jYsLoxN43+3L9xsaDsT4dvXIFM3Q0Myr3owMEtls/H3kyEwK0iUkT+TPTDFOzE6PpltXFtC+g8ZGNn3fB/pziR8syr6jjz5aC98kia6RcHKgXxUYPwgcXgIqlIrEjpf7kyuxzA9vj3F2EACB/fv3a54Lkj9CchLMmzeP3n///S5gRMmtFzEcOK7Ev+++++iuu+7SwgXJ6vp77rnH7rvJ9u3bSZTyF198sb4pt55LyCJR9ss2ZcoULT+FGEqam5tp0aJF9P/Zuw74Kqqsf4B0QkJCSSf0Jh0LCqwoxbqKrrrYsOuqaxdRd5W1gRX1s/desIudpoJUAQUEpZfQQk1oISSB7/zvm/ty32Refwkp5+T38t7M3PqfO3fuPfW8887z0PSHhQTiMNitO+yVQuCCeBqIXzFu3DhCIG+TZs6caR56/b1r1y4aOnRoheujR4+ms846q8L5UE5gboXAAd+wOvnqq688ioEgaOPGje7YHbNmzXIUEMOy5frrrydgCsuLM88806tgx6MCORAEBIFai4Anx7vWdrPmdAyanA8flU1RzDwBY+9r1vj8ffs+grZwK9YaHcxWEBBUNE8ov3U398iio1lQAfqjYD99v7GQdhSVcvpYOp+tLBJZc/lfzOTeyucWbChU6cx/J2V6auqfyAKK9xwEEjrPDxt3KQZ/MjN1MuNjWOjRkGKZAQ9mUlJ0FD02Z51Oeti/61mKFQjkVB1pZ0kZvb9qBzPLiLWIY2hgRiN1v65p14yWsNBpAzMWg6VQe7qNrTI+XVegxt1uZjIK1XwE3mIN8DJMHjZasqPI48zP+XtopYMVFaxloJ0+geeNK9o2ZQZxvHKf5aSxfhLPTaAFO4tcGu3MENfkrR07HKyqML+sZIuYBJ63ejdpqJjSYGTfxAzuh5kxLeRCAIKGT9fucIRjBd+DbTzffxZdQDvZQsKkcN8XAw3hNco9OSvZUSCBa/vLDtG3PHYWc3sa8fvihPRG1D0lnnJZkDC4XRN3PgjhtTBiWv5e+m59AaXx+LmO31tNOd8l7ZvT0/PyUKSitiwgG8FCewgW/NHtXTOUMGJLcSk99Uc+5RXup/ZNEuhWFqI35DF2bafmYn3lD0TrOvz9wvT/4osvVhrJq1evJrgoADNQSBAQBASBqkTg8ssvpzfeeIOysrIU4+voo4+uyuqlLkFAEAgRATDx8fFFYPKDeW0SBBd2uuGGG9yxC8DYR1wGu7KEk1sks5xevXoRYigg3kRycrISLmzdutWd5N5773X/1j8gSIFiRlJSEp144okV3Bkh6HOnTp108grfEG5ACKH5E4g9gbpNAsMeQg9f1h1wt3TllVcSBC8mYZ0GV3aRIAgh1q5dS3FxLpfUiBcBt1l2SxX0uUWLFqrK2bNnV6ga9xSCY00QSqSnp4tAQgMi34JAHUWgnKtdRwGobt2+jt3TQBhRxi+Ykay5ucbQ3FzExgfj/9pKZ3Rsxkw6lwCiDWvAamHEtxt20esLyi0UluXvphnM3Hu4TwtKYzcVV3O+620CCfjnb8VCENAaZki3ZLc9A9NZILFos1doJrKQxGzXC2DqdM+k49MSlQXHVT0y6ZXfy9vRnRlW+0oP0nJuj0nQtM3g+lYVFLldFMEdSVJMFC3mtK2YGdk5JY6S+XjFrv00h+st5XJMgoZsT643nV2CgLawxvVfzGzdwmXiWq9UF05NuP9ohyYtmGmf1ohaNIrhOhpQHLsU2c0CgqUs1FnK1h5OBHdInZh5BpcioA17S+gPdn/jxKA187fjesBgLWSmmIndes7/I2uga/p6zU56sV+uYqB1YaaZXSCRxve9a9N4yuK+7eK2rtpV7CFkQn9SLCbdkYxllGWpsZnrgZsvE19gmZ3akFJYwLWtqERZxfzB2B3ksWfHGe54ujIzsTULuRpGNaD1PFbmb9nj1loGLmDyHWAGpJN7nVzGrDHfA32vc/jetkyOpVRua2J0A2ZcHqQ8lMlj2F63xka+g0fgK54vAqGv1u70GJf2PL/wfYFAAsKu49gNj916B89aF9ZmB01ggaidAm0H8pnzy9e0la7rlU0npidSV2ZkC5UjsI6fl28td1flZ8t/FfP8sJif7R08J2oK932BcgZZVgz6fQHhQtPkeNrG7pVMepZd/21lIZf5PM/KK6A3B7bjubYedUyKp4lWhlPY5RIIZWrBA7ZWEDf8my0gjmueQC/wXKHdAuL9GM3vyV0slEli93TeCNYg6YwBaDzXjXciCPP/Lzw/Qhjf2nr/qQvyzy8CYPphE4rNLny2L168WAW9NgMi+i1EEggCgoAgECIC8JMOhiNcosBiCwyuli1bhliaZBMEBIHqhgBcFSEQMgQMJjlZDCC2gT9CQGdfBEsMu/DDnh7CBwgQEEcB2v9211D29GXsctYXQZChhRFIh+P+/ftXYPIXFxf7FEgAJ3uMC1hxwJWdWb6vtvi7BoGIFkYgLcpFAHK7QAIWL5qchEB2ixedVr4FAUGgbiPgOdPXbSwOe+/hwx/uLECfsaa6ybg2GwehxHjrxCk5KerXXmYuv724ohABsQheZ3dNd3H8BwglwBg3BQMn5riY9NAefWLhZnrm2BaKwdOJhRJOjGWzHfo3GE7PzFtPsUe1UC6ioOX/yu+uq1ksELiHNZvBQPrnd0t1FvV9UbumdBwzhaA9rRmWd7MwI4UZ1Gwv4JGWKJk2tm5Cd81a52b+92FXVLewdqvpikNneoldHuG8tv5oxAx1tEPTTcyAB7N+dO8sfcrjGxra/5m51oOZhngGN3ZMU8w0MzEU0O9jAczy7c5uPyBAGs5tB0H7+xVDyGSWg9+I9aHdFCXaGG0Xdk2nsyzGnZlvaatUGjXL1dYHe2WR9hYF9znaLdRctrKBdrnGd8bWJKWpDA1hELTan2I/86N6uDAaxv7YNSMR9/BudqeC8WNSKccdeXLJFprNzOyObKHzH9ZYBl3zywHazgIkTRBmPNQ7W+EGV1QT2BXVk8fk6Mse33s7NKdb+R6b+T0SyMFhQQDzyCIW1MGFDiwh7AKJfuyCB3SAHwYIlSJJqzgOzomUqOLXYCzpcRnJOmpjWT1ZcDCCrQAwl4204q+E+76AwDPZmpcemr+RnuL3BeaQgWxVN84mkHBy+4d7B6uwjAZRVN9yxwbsO1nCppk875j062Y+ZoEE5vIcHns6fslqFgJfPtGlDQYBuJ7nzbz4DQEGrDQgAOnGwtzvjQRbi10xhTZUcmwho8pa8xPacggY+a9//UtterGRf+GFF5Rg4rTTTqs1/ZSOCAKCQPVBYNKkSUoQMXnyZNUoCEXffvvt6tNAaYkgIAiEjQC05m+++eYKlpf79+93DPLsTzCABsGVUDg0Y8YM5frIW8yIcMo282JtFSzZhRHIn5mZ6dddVLD12NM3aeLia9jP62O7xQbOtxTBsYZHvgUBQcBAwJPDaFyQn1WPQLqhqfkta8oHQjkcuBSE+A3eGHXzWLhRzMFm4VYpi91gLDcK1tqukzjWABhIG9jNRxZbGwxha4JABRK6uA9WbmOBRAtl4ZGRkuAYh0KnDeR7OzOTFrLGfkpsA+rBDCvExLioQ1MVpwKar1oYsZZdyvzCLmfAiO/FGv/wWx7Lvh0XMRN+KTPGO7AVSCkLRGBBomkrx5RonhinXGEtZhcei9l6YA8zyzqx1i78rrfhQNgntUmlb5a6gq+CKT+CrVegIb6Vg63+yEF2YVEBd1XNmVGfYBMe6HpOZqa9FkZMZIxNyxGdxvxGAG5N85nppmkQBynWwggEeJ7NQg30CxYg6O+5zLT74I/N9PG6nXRuixSFBfoFZiRomSEgwDEEQaASZiDvZeuEYmbaOREYwKNYyAFLBjD2fmYNYwi/jmdrCbhLuZEFQlcy9r+x9cpeHmNgTg7hWCNoi6ZezKwGQxCCm2l5rnsAAdUGFgrN43u0nYVhaWxhAaaicqHCTNQHZ67V2eU7DASOZaFdKYA3aD0Hu7czi0/nmAArUytaICCrDkD8A1s+QCABKypYVplCI8QEAE3n+BJO89DpHBQb99xOuPdz1hbYT3sct+HnFPQXj2ensj0S16GDTJ77j3KI67Nk2z630NYOR7jviyGWu6Y/+V5AeIr54FR+VwziZ3ccW0T4I7gk1LGR8opccxPypCohNNFKtvgyCZZnmJfhdhAxbkKhmTyPnsAWNrAkfHJAa/pg9Q7ae+Agx8FIVcVNCSLOTij11+Y8L774IiF445gxY+jTTz+l008/nVq1akWnnnoqnXLKKepjD0hZm/GQvgkCgkBkEZgwYQJ9++239N1337ldkmCegSuSvn37RrYyKU0QEASqBIEBAwYoBYYVK1aoeAJmpWCwX3bZZWpNYWr4N2gAZcWKhIDW/ig11bXe85fO6TriOniba2CJADdPS5cupV9//dUpe1DnEKsrEgQrjvfee0+5oYpEeU5l+IuP0axZswrZTAuKChflhCAgCNRZBEQgUY1ufS67DgKBcQeN5EAIrntAG5hx44vyWQu0BafNYmaiJrjv0T64f7QYxROZ6XhpmyZ0LLvIeI6ZQMEwAOFeCAxMCAY6s6WHnemp6w3k+8u8Qnpn0SZ30svZugGMrxOZEf4Sn81ghqi2jHiG/YJra5JP+RrckhQWH1QuRD5bF62sQ9bvK6G32QLApPU79tIFrGVr9hEatCWszT+A3UC1bxRP31gZLmeGKoQRm9j9yS1TV7nzQDdrCPtCX2tjpCEbhAhXspsbEIQRTgG/G8fUV+5O4hlruDC6kC0pgB+Y/9AC1nRpG1c5n7PbEdOd1jC2fDmHmZIDGBclkGCm4PGsxQw3JR9xbApvQa3zmRH8NOOmXZigHljo2Glw61QljIBA56qfV7mDCn+ybCu9y65XIOTqwcy+mSxAg/XH2dyWIcycNAUSp3NgcdB07k+RpY184cTlbgx1nRCe3MwCDnsgXH1dvoNH4DYWEtkJPvqfnlduVovrGO/4OBHcNYExPJeFTiUs+Irmez6ANeI/XeKygoG7HrjtASHWhBNhTnEiBLW2CyRaJ8cpF29w8TWIn3kwk0HTtrjc7TiVUxfPYe4eyc+/nf7vry00lZ99JwrnfQHhZF9LkDnBYuJP5rGBeRlWbYjrsILduPkiuCQEQTQ1eV35WIHAErSPXTDZaR8LTCGQ0K7o7Nf9HT83fz3l9G9FbVnYm8Pj9A6rDcj3HbdfW+f5K0euOyPQu3dvggsVaC0///zzinH43HPPET5gJkDbEZ+cnBxq2tT1HnMuSc4KAoJAXUdg+/btyv0ImJL4aLcncN1yxhln0NVXX01ihVXXR4n0v6YjAE35IUOGqA9iEzz66KMeXUKsiMcee4zuuOMO93nEqkIQaDPwMywK8vP9K8O4CwnhB+Jm2QntGjVqFGkBwlNPPRURgYS9nkCP4QrpySef9Eh+7bXX0gknnKCsJTwuVNFB69atK9QEN3tO5ysklBOCgCBQpxAQgUQ1ut2xFlPGgSfjtZUx4F4zwVWKL4plbX5QQ+sbv7W2KxjB0HYFTWMGDZiHiGNxFGvDgtEcDFnNUYKJYPLZ086yMba+XL1TMb4ghICW7ZY9BxRTC72/qUsa+wfnwKmsbY/YEdqth71Mp+N4MD3bNWb/9/GUxoFzwfQCkx3U0LB6aM9WCKBxrF1rCjBwDi6IQLDa0HRKy8Y0rKVLI2MCM+pfNmJq6DT4BoPsxb655ikl9HiQ3aFogja6Ztg1jYmmf3QuN+mExjoIzMlg3NkguKvpukvXZf9uzxYjIIyHU1u73IPpNPpeQ1Mb9B1rukMgAfdYiNcBP+2w+OjMDGbQ1+s8maQDWWDTmy1aMthqB+1PsMZmvDFGVUb5FzICcNVlnxr+KPQURqBwuOxyEmrCcKbYCoqMcT+DhUqIFTMoI5kFEltUuwZwTAlQAbvi8TamwPg9pJ5YldT9bzNbydjpOhb+2enDNTvcz5n9Wl09hpBwPge+t9M6yyrKfh7H4bwvevMzDWEUBOazWTgFWsuWWrAYa8ZWbENY8OhLIHE5xxnSLgnfYTd9hWylBsK8pansUEWBhDbeQhyiUAhWJLmWsBVWYy34N+Yo0LEsvJ5qc2MYSh2Sh2jgwIHqc/DgQSWUgEYz/D2DqYhvJ9/PgpsgIAgIAk4IQHjZtWtXQswabXHlK7CrUxlyThAQBKo/Ag888ABNnTpVxWUwWzty5Eg68sgjVcBofR7HpkACLpTefPNNFchapzG/oZGPwPdggsNqMxSCe0o7mcII+7WqPn7iiSfo1ltvJVibfPXVV+7q4coKAlycMy1N3Akq+QeETnZCO4uKipRwOTExkSZOnEirV6+2J5NjQUAQqGMIiECiGt3wjRx4GATmM5jbOoCnryYi9gO04ZtZgTu9pY1jF0ag7RZzEUyg/s1djES4J7rpyIo+/eErPhiBhKlhv4EFBpGkQsMCpD4zx6Fp/yP7F0ewWzD1r7eYmHAnNA7MS9YQtgsO7O3pwFYF9zCTTDP7cd3JrQzuhWaSO1lC2MvFsRZGwCWSN2GEzgcXTAmsYQyXVKDfmImMANSa0g3Lhf5pcLXkcrekr+vv+lpCoE9E4Ds7oXyKON8SsNiLhesqEIRaS5jhBwHEacychEBioBWjBJYlWlAEgdL9R+Uo12C6LN/iNJ1KvoNFAHFDAqF3OM6MtjLylf4HZkRDIAEGNAKVgyE9iOcJ0KRN3i0YXltQLmDzVT6uwVXbTp7Xsvm5xrOJsTHR0Kb3l7+uXP+zsJgenRPY/dWYhPq+QH5YPoEgFL62W6b6jX8YCyC4unuZ3ytO8+4lHF/mVMutF6zFEAdJE9JDaIbpK87BJD/eEtSHMkfgPXcbu4CDQBVCkC+tek9goftVHMOoMc+7d3Lbrpjofezqdsp3YAjARRM0mE0tZgRlhGAC2s9CgoAgIAh4QyAlJUVZVPlzB+Itv5wXBASBmoUABI0ffPCBsn6wx4MYOnSoihsBK0vQOeecQ6+//rpHB+HeCe6Shg8fTi1atKCSkhKVZ/78+fT0008ThBb33XdfyAIJJ1dR48ePp2HDhjGf5oASpiCG1uEiHXcCVqmmQALt+eabb5RA5vLLL6/y5p199tkEKw2TsA685JJLzFPyWxAQBAQBKuc2ChiHHQGTid+Z3V/8bmmh+mpYHjP+IZCApvmnXhKmNIpzByLdxK6LQN04aLXJiO/PzCQ7dWHtewgZAnUf1dNy+QLG0SpbgGcIEcKh2JiKQ/V5dsXxMwduBUO0c0qc0rJHDILL2U0SdGm/X+aK/4B6naq/ioUYwAAM0Nc42PLirS7f62BWaQEH8h40VMy5+KAIGsUIuuotdgQCBd83Y40q87/H5qpYGWDcrWLm/k+W2xXT+uXueRs47kNFTWE00S7AioR8gl2tK/qdNejfW1GOp+us6/8WS5CGoy/ZpVTn5HTqyS67IHg4mbWqQV/llVvanN4qRQkjIKx5n4VHsMopYKEMXP/YrUVUZvlXbRCAi69CNuFCYOOBPE6ncMuassAONCWA+Uol9PNvDFsTQTgC12tjeucoRjUEWCOmr64wxv0UJZdtCIT6vmjIwqFuVuBpFOn0voBlWU8WWvzKMYtMuoFd4EGIBYJbN6e5EIGuYSXVhOMX2UlbMxTsL7Nf8nt8BFs/QBgB+s5wY/Xjyu20meetB3plqrGcze9PuPATqhwEYmNjqU2bNupTOTVIqYKAICAICAKCgCBQExFo2bKlClB/1llneTQfAopzzz2XfvrpJ8I6AlYOTu6J4C4Sn8qgPn36KE1+s+zzzz+f8KlOBLeYEIzYhQBXXHGFsl7Nzc2t0uZCUHL//ffTvffeW6X1SmWCgCBQ8xAIkr1a8zpYk1oMd0PQ8Add06G5hysLsx9g9PZr5XIHtMjSpIdLoSOYOe9El1rWA9D+n8sMIdBJFqN4Gcc+eIhjK5ifRzggsebB97e0Wp3KNc+1ZN/imom/nMvUWrLaywZYQqZLIzNvIL+7WwITtEu7l0I+xEh4el4eXTNpOV3zyxoOYu1yA3JUE08BC4Jcm4S2IDgv6E1mtMOPPfzkOxH6AqEF6EgWFAVCTyzJp8mWxjiCNf+TtXT90cO/5qmg4kh3Hd//9sxMA222XJvgN7STEVvC/oGmup1igpWe2Avg43V7XXhC0GOvUx+buCGAOoLQ4n7fe2SW8i2PcfeTEbgYAcpBUzkYNvy3QxghVHMQmMIB3UGIVXJKjis+CALLY/6KJMGi5tmlLrdQWcyovtvBiiuS9dWFskJ9X/TnmCF4phHbZvTCzR7vC7w78qy5c4hlLQMsYZ1wz7G5bmHEuLU7HYURSKtdd/VM8Zy38V7RsYK2Orj3Ql5flGRZbyCNKVjGcVFZuYAjLgq9ExIEBAFBQBAQBAQBQUAQqGoEYA1x8803V6h21qxZdPvtt7vPjx49WlknuE9U8g+0SVshVHJVYRd/1VVXOQbghoUE3GlWNSHWxl133eW1Widc4+Jcbp69ZpILgoAgUOsQ8OTS1rru1bwOvcTBgkFwg/Fov5aUYzDWYa1wWoem9CKfP6ely58/XBNpZvl/OPDzsdZ5lAGmO7RT4UoDBAY5tOjj46KpZ6qLKTx+fQH9xprN5gcarvPYbRBoiCW4UAfWv/goV7wCCEbAMIIFwBiuB4wjaLqO+W2DO/kuK4gxTpzc2iVEQf1g0Pdhly/eqFWSS1iA63ANc0U7l195+MQHISD3cwPbUm/2D65p+679zDBzvXCTrPgPBVb9sCJpznEiQMDFZE514BgNmroyQ+0ShwC8cKMEOosZsJ3YukQT7s8YDpiKfCYtZGbqC4zDnG2ufOfmptAp7X0H9ITg414WSoChD+uGexlXtBkWKustZtwtHC+jpYEbNJfP6dxctUHXX2i55fqb5ZIL58EcDIV+ZasRUDt264XA4mY5CGLr1PfvLaGXDnQ8lYMom9YbpTChYcpNjHELqTJSEuiO7hUD9LpSyv/KRiCVn0k8l/aPkxBxUp5LIAEh1cAMl9BsAlu5+CKMU3vZODbHk1N+BGdGgHsQLLau6+Uy23ZKK+f8IxDK+wKlQqgK+oVj+8x3eGd8ZwUz78HvFdxr3NfHeF7sbgkf31i5jT5fulWdxzX9UYXyv0ksWAbhXdXOEsQizXUc5B60jgUe2wqDF3itLigXdl7CwaxRpqYzc13vIxzn8xwrJAgIAoKAICAICAKCgCAQOQScXB45nUONY8aMoV69elWo/NlnnyW4SQKBYQ0XT3PnzvVwDVkhE59o37690tA3rRngVtJO3tqDdKmpqcot04ABA+zZlKACbRs7dmyFa2Y95m+d0KlOp3NmXvO3UznI/+qrr+pL7u8pU6bQu+++q479lYFETu1wF2b9cConKsrTyhlWLRAgwaUWvi+44ALq37+/im3x4osvqrgX9nIRuFxIEBAE6hYCnjNH3ep7teztDA4i3adZIh3HDPcWzNh58pgcdtFzSLkg0sGWzYaDiT2WLRp0LITbOqdRGTNxtFapTos4Ba9zOlBf1nYFw1tZTHhxszKJtaCPappA2RzoGcziTTtdjGnkh5sLJ9rHwoA7Z+d5uHhCrIdVrOHfmoUXw1s3oQvZssPeNqeyrmYBxGVtmnIbXTE1kAZBXF/+M18lh6/xNA5IfVeXdCrhPm/ieprHRrvdUL27codKl8cukYAfXCc9c2wL7nc9pel7w8x19CfHO+jE8Q5O5+Ddp1qCF+DiRG/9uYX6MQMeLp7Q/50lacTNoVQWboC8adjCx/sDfVuqeq5gV1K72d3NLxwY2xsh0Ov/WJDxyJHZrrr4+9YZa+nJRZvp8aNzVH34huCnPvcErnNAWiiF3wvZvRKELGDu9T21o+r/bzuKgvY3j7IU85HxgQALGA1mK5wdXDfc9Oj72DDGc3H3PWtCn2MIir5ZV+6uCWXOYWsOCDja8uf9Qe3UONRl4bpQ1SNwdzfvwqCLp6xUMVt0qxDfJI8FZDk8N4AgX/rFj0DirQGtVVr7vw1FpXTTjyvspz2O31m0ScWTQEBkxIxZ37GZRwwCj8Ry4BOBUN4XaY0TVJweFDzZEjbaK5m+gYPn8ZyN6bMvBznHsR4fSIu5HB873cLvizx27zeTheAQBCOmw5jeWcpC7yCPLO1u6WN+L5oEQfidHP8HpF2GYX46mt+doHvnrlcWO3DD9CsLhfEuO4Wt/QaxAA3vwlb8PtIuC7/md2CgbglV4fJPEBAEBAFBQBAQBAQBQcAvAkOGDOH9sqWJ5ic1hA3z5s3zk8p1uXfv3vT1118rzf9NmzbRqlWrKD8/n5KSkigtLU190tMr7m2CaY9uSIcOHQhMfdSxbNkyVWdmZqaKe6GZ93Al5Y0aNmwYEAYIwI2PNwqk7R07dvRZVyBlzJw501sT3OcvvfRSwscXIX5YQUGBCk6OgOR20kIS83yXLl3MQ/ktCAgCdQABT05iHehwTejiWNaSf2ABu8Fgph9cFIGZroURcOk0gZlCo38rDxK7dPNuun76Gpq/vUgx7e3MXfjtvnPaarcbpSOYwQSaxdrvYFA50QLOo2MXdLKsKfSxTg8BBDT3F7Krlmf/2kKXT15BsFKw06MLNtNmDmoM0m1DntWWKyJt1WDPh37HWBICMJH+PWOd273PRs47mxlNGh8Ib8BgQpteYxdMCKgMgmb+WHafBFcjWhiB88j3KPuq121ANfhsLS5TggqkKYY0xCIIVv49Yw2BsY+8Kcw4gzACKeYx7it27ldWFxDy4HpJabk7kPs4sDBc2oBuYmERNIiLLEuO/Q74r2GXTE+xAAQEv+qXdmyuggdfz4IJCFFQJ+rXwoh8DgA83ojR8DkHKF7AQgmQxgd5QMABdMCqXx1Y/0r5GtKjDyY9NGstvck+14Et7gkEQbiPSId7sJwxMQkumBAbA4QxbA+W/Dn3bRpbTWhCWWjXdLYqARWjERZpfMxz+pp8OyPA8iJF9ufVKbW/NGo8OJj5/mA9XygTY81026Xr0e3Qx07fpYfK5x/dFvO503keY7ds0JIHQbDZmIVZdZV8zR0mJt6enWDfFx1TXRZku1iYupxjiDgR7v8f1jPfhd8vmP+Mx9gpizp30Jpr8B66hec3CK9BmIshjMC8gLlwpk0gEcMabhBEaGGEysT/9DnMU5qe4FhD41nogPbgPITQeFeg7Ff5XfEmu5wSEgQEAUFAEBAEBAFBQBCoWQhAUz8rK0tp3iPoNRju3bt3JydhRDg9q8drUsTCQhyL0047jXr27BmQJUE4ddb0vJMmTVL34YgjjqCRI0cq640vv/ySXnnlFSXMuPjiiyt00clCpkIiOSEICAK1CoF6LLUu5/7Vqq4RXX/99SrI0ezZs+noo48OuXf3j1lLH368nbKujqHErHJGR8gFBpkRQaljGtSnfSWlAWlyqiDWcQ3ocQ4ECwKD/jsjwHOQ1UcsOdoF2ltc4uHCx6zglcHtFLP9Lg7evJatMhrwQgPMLW+CE+SFK6skZpLvYsa8L01X5SKGGVFFnM4sT7cLZZnxKXDsjVAnBBx7WVBhluUtfaTPo80NmLm2q+iAVyzhbgf41ed0TgzjUNoEDJP4E+hY9FUHBDMY1+hHKO5YfJUd6rVNv5TRromlNPaRXDp5cJNQi6HDPWeE3HDJ6BWBpQ8doPSMaJryeejaO9t3lFD/QYuo8RHRlHZe9dAHqG7vC8xbDdna7RD/RTK+DNw1NW4Yq4QdJSyMCHSu9zogrAuRmjP81RPo9QsvvJDef/99Wrp0qXJXEGg+SScICAKCgCBQEQEw09asWUN795Yr0lRMJWcEAUFAEBAETAS++eYbOv30081TPn8jgPlHH33kM41cFAQEAe8I1NT1irhs8n5Pq82VYBknSL+TFVk3sVVCBsdOgKugC1s1ofWsxRrNDPnbflp1WPoWbD9ccQfKLQ28NRpCCF+CCJ0PVg5OFGy7UEYg9TnVFalzgbQ5UPyCaRMw9IZjMOUgLYQksr0LFjVJLwhEFoHq9r7AvOWauyLbTwiOq4vgM7I9k9IEAUFAEBAEBAFBQBAQBASBmokA4n28/PLLNbPx0mpBQBAIC4HqoaIZVhckszcEHmW3T3CzAYKLCvjsT2ZXP0KCgCAgCAgCgoCJgLwvTDTktyAgCAgCgoAgIAgIAoKAICAIhIJATk4ODR48mBo1auSYHecHDBigrHoXLFhAjRs3dkwnJwUBQaB2IyAWErX4/iJY6NUcMLYDB/psEh+lghtv3OPyw15duz0+r4BjM0TRZsuXeHVtp7RLEBAEBIHahEBNfF/UJvylL4KAICAICAKCgCAgCAgCgkBtQKBbt240YcIE1ZX9+/fTrl271AfxODIyMighwRXTtDb0VfogCAgCoSMgAonQsasROeGmYvGmXTWirWjkV39trTFtlYYKAoKAIFCbEKhp74vahL30RRAQBAQBQUAQEAQEAUFAEKhtCMTFxRE+zZs3r21dk/4IAoJAmAiIy6YwAZTsgoAgIAgIAoKAICAICAKCgCAgCAgCgoAgIAgIAoKAICAICAKCgCDgHwERSPjHiLKzYlSqoi2ueAwBZJEkgoAgUAMRKN56SLU6KyM2rNbLnBEWfNUuc/EOHhcHDlFq8/CMCpukRlPDxAZ0QN4l1e4eh9qgSM0ZodYv+QQBQUAQEAQEAUFAEBAEBAFBQBAQBASBmoaACCQCuGNdOieqVHtmi0AiALgkiSBQYxE4sPEg1WOe8xHWMx9qR2TOCBW56pkvf2aZaljPbg3DbmCXTgm0b2sZ7VrrEn6FXaAUcFgRiNSccVg7IZULAoKAICAICAKCgCAgCAgCgoAgIAgIAlWIgAgkAgD7yF6NqE2rODqw6SAVLHUxpgLIJkkEAUGgBiGwYUopHdpyiHr0T6T6Yc6MMmfUoBvvp6klHIKn6A+XMPrvf0vxk9r/5UEnJqlE236Rd4l/tKp3ikjOGdW7p9I6QUAQEAQEAUFAEBAEBAFBQBAQBAQBQSByCITJdotcQ6pzSWBOjrw9WzVxy0ellD9HGEnV+X5J2wSBYBHI+6GU9vxcRvEpDej5e1sHm71CepkzKkBSI08UrCij1W8fINp3iIZekkrdurqs5cLpzIX/TKOBxydTybIyWvVeKe3LF0uJcPA8LHn5lkV6zjgs/ZBKBQFBQBAQBAQBQUAQEAQEAUFAEBAEBIHDgEB4DrEPQ4MPV5X9jk2iu+/IpIcf30gF35RSweQyapBOVD9GZDqH655IvYJAuAiU7TlIBzczd5EV4BMzGtB9I3IoOTky06LMGeHencOX/xDLnEu38qDY5RIW9D8jmUbf1DJiDbrrjhw6cPAQTZu2i/JYMFGvaT2KSpV3ScQArsSCynZbcwYPjUjPGZXY7JCKLiwspDlz5tC8efPUZ8mSJSGVI5kEAUFAEIg0AklJSXTkkUdS79691XeXLl0iXYWUJwgIAoKAICAICAKCgCBQiQhEhvNWiQ2sTkVfNCydjjsmmcY+s4F+/6uIdqwpoTL+ExIEBIGai0DT3Gjq1aMhPfafVhQdVS+iHZE5I6JwVmlhcckNKKdHDF1zcRqdekJqROvOzIihl55uS2+9t5m+/KGAVi4vopJt8i6JKMiVWFhlzhmV2Oygih43bhzddNNNlJ+f786XkJDg/i0/BAFBQBA4nAjs27ePZs2a5W7C8OHDaezYsdSkSRP3OfkhCAgCgoAgIAgIAoKAIFB9ERCBRJD3pnWreHp2bFuVq7CwlErLXBq0QRYjyQUBQaAaIJDUKIqioyMrhLB3S+YMOyI147hJanSlN/SSC9MJH9D2HSWVXp9UED4CsKCKalC5c0b4rQy9hOLiYiWIeOmll1Qhffr0oeuvv15pIXfq1Cn0giWnICAICAIRRGD37t00d+5c9fn888/p7bffpokTJyqhxLBhwyJYkxQlCAgCgoAgIAgIAoKAIFAZCIhAIgxUI+XaJYwmSFZBQBCoQQjInFGDblYVN7UqBCBV3CWprgYicMYZZ9CECROoZ8+e9PTTT1P//v1rYC+kyYKAIFDbEWjUqBGdcMIJ6jNixAgaNWoU3X///XT++edTSUkJXXzxxbUdAumfICAICAKCgCAgCAgCNRoBcVpdo2+fNF4QEAQEAUFAEBAEBIHwEXjkkUeUMOLss8+m+fPnizAifEilBEFAEKgiBO677z7Sll1wN7dhw4YqqlmqEQQEAUFAEBAEBAFBQBAIBQERSISCmuQRBAQBQUAQEAQEAUGgliCA4NV33nknNW7cWFlG1JJuSTcEAUGgDiFw9dVX05gxY2jnzp3K9Vwd6rp0VRAQBAQBQUAQEAQEgRqHgAgkatwtkwYLAoKAICAICAKCgCAQOQSeeOIJVRjcNGVnZ0euYClJEBAEBIEqRACC1cGDB9Onn35K06dPr8KapSpBQBAQBAQBQUAQEAQEgWAQEIFEMGhJWkFAEBAEBAFBQBAQBGoZAvPmzaPExEQaPnx4LeuZdEcQEATqGgJDhw5VXV64cGFd67r0VxAQBAQBQUAQEAQEgRqDgAgkasytkoYKAoKAICAICAKCgCAQWQS2bdtGK1eupN69e0e2YClNEBAEBIHDgEC3bt1UrSKQOAzgS5WCgCAgCAgCgoAgIAgEiIAIJAIESpIJAoKAICAICAKCgCBQ2xCAdQRIBBK17c5KfwSBuomAFkgsWLCgbgIgvRYEBAFBQBAQBAQBQaAGICACiRpwk6SJgoAgIAgIAoKAICAIVAYChYWFqti0tLTKKF7KFAQEAUGgShFISkqihIQE0nNblVYulQkCgoAgIAgIAoKAICAIBISACCQCgkkSCQKCgCAgCAgCgoAgIAgIAoKAICAICAKCgCAgCAgCgoAgIAgIAoJAOAiIQCIc9CSvICAICAKCgCAgCAgCgoAgIAgIAoKAICAICAKCgCAgCAgCgoAgIAgEhIAIJAKCSRIJAoKAICAICAKCgCAgCAgCgoAgIAgIAoKAICAICAKCgCAgCAgCgkA4CIhAIhz0JK8gIAgIAoKAICAICAKCgCAgCAgCgoAgIAgIAoKAICAICAKCgCAgCASEgAgkAoJJEgkCgoAgIAgIAoKAICAICAKCgCAgCAgCgoAgIAgIAoKAICAICAKCQDgIiEAiHPQkryAgCAgCgoAgIAgIAoKAICAICAKCgCAgCAgCgoAgIAgIAoKAICAIBISACCQCgkkSCQKCgCAgCAgCgoAgIAgIAoKAICAICAKCgCAgCAgCgoAgIAgIAoJAOAhEhZO5rub9bPxWWvTHPlq4eB8dKD5UV2GIaL8bJjagrp3iqGuXhnTGaU0jVvbSZfvox6kFtIjv1bq8AxErt64X1KZlLB3RJYEGn5BCLXPjIg6HPGMRh5Qi/YwVFR2kT77YwvNgEf31V1HkG1xHS0xLi6YunROoV49E+lvf5JBRkPsTMnQ+M0bq/visRC4KAoKAICAI1FoEZG9Sa2+tdKwOItChPfMvjkigM09vSo2TK4e1JnNGHRxY0uVai0DHjvHU7Yh4Omdoc4qPF/uAypk1a+nwWbGyiMY8sZ5mztrt7mF0bH0SkYQbjpB/lBYfpIUL9xKN204TJhXSyNuzKScrNuTykPHNdzfTo2M3usuI4Xt10H0kP8JBYOWq/TRhSiE9++JmuvO2LDr/3ObhFOfOK8+YG4qI/4jkMzbl55308BMbaP36ciFfFD9fQuEjgGdrxky8Y/Lpkgub0sjbWgRdqNyfoCELOEMk7k/AlUlCQUAQEAQEgVqFgOxNatXtlM7UcQSwt8K68NvvC+jNd7bSf0dm00BW1oskyZwRSTSlLEHg8CKg54xvvt1J73ywTfHRTjw+snPG4e1h8LWLQCJAzLZsLaGLr1xOhYWllNU7jg52O0iNsupRvegAC5BkPhEo20+0Z+NBKph1kKb8XEiL2bLh64+PoIYJoTE5/+/5DfTiq/kUG1efUntHU2zvQxTbpJ7PNsjFwBEo2nqI8qeVUfHCMnpgzHrataeUrrksM/ACHFLKM+YASgRPReoZA7P737esVi1rMZjnwjYHqWGGPFuRulUHCom2ziulkj8P0VvvbaMNm0ro/x5vE3Dxcn8ChiqkhOHen5AqlUyCgCAgCAgCNR4B2ZvU+FsoHRAEKiCwd/MhKlhSRvk/l9ANt62mZ58kihSDUeaMCnDLCUGgxiOwd9Mh2rm4jNZPO6B4KpGcM2oiOKFxe2tiT8Ns88OP5ylhRFKXaEo84xAltRRhRJiQemRvwF5/klvXp9wLoqhh/waUz0y4Rx5f55Em0IM583YrYUSzZtGUcVU0JQ0hEUYECl6A6eKb1aOWZ0dRxiUxRHH16OlnNtOSP/cFmNs5mTxjzrhE6mwknjG4AYJlBCjlpGiK73dIhBGRukFWOTHspSnrxCjKvSaaoto0oElsiTTu0y0B1SL3JyCYwkoUzv0Jq2LJLAgIAoKAIFBjEZC9SY29ddJwQcAnAg3T66l1e9Jgl57vvY+sJ6zHwyWZM8JFUPILAtUTAShyZg+KoqRBDVQDIzVnVM/e+m+VCCT8Y0R/sbb+9xMLKOuIOMo4VyALALKwkuABrc/WJ598sYM2bCx3CRNooe9/4GLeNTsjhmIjF44i0OrrVLqkVvUo9WTXZPrCe5tC7rs8YyFDF1LGUJ8xxIyAm6bsQXHU/DiZC0MCP8BM9Xhfk2E9Wy+9FZhAQu5PgOBGIFko9ycC1UoRgkCdRWD27Nn08ccfe3y2b99eY/Gobf2psTeiihoue5MqAlqqEQQOEwIZ/Roopcodm0vonU/yw26FzBlhQygFCALVGoGM/i5F7EjNGdW6sz4aJy6bfICjLy38g2MbMJW2lmgRGpPK/k5oV5/2bCijhX/spqzMJkFVt4ADjicmN6CyFqVB5ZPEoSHQrEcD2jG+lH5j3EMlecZCRS70fKE8YwhgragtNH/ETVPo6AeWM6F5PYpiy7HNqw7Q1m0l1Kypbx+Bcn8CwzVSqYK9P5GqV8oJHIGSkhL64osvaN68ebRq1SpauXIl7d+/n7KystQnMzOT+vTpQwMGDKBGjRoFXrCkrHIEnnrqKfrwww896p06dSr179/f41xNOaht/akpuB+udsre5HAhL/UKAlWHQMoRDWgvuzSeOn83XX1xRlgVy5wRFnySWRCoEQhEcs6oER12aKQIJBxAsZ/6a6mL0VpSH0w40Qq241MZx/VdSve0dPl+OoVdLgVK23eUUP6WEiWQCDSPpAsTAfClo+vRjnUlVFJyiKL5d7Akz1iwiIWfPpRn7K+/XAIJiRkRPv6BlnCQnynQshVFfgUScn8CRTVy6YK5P5GrVUryh0BpaSm99NJL9PDDD7NV1/oKyZcsWVLh3EUXXUTvvPNOhfNyQhAIFIF+/frR9OnT3cmzs7MpLy/PfSw/6iYCsjepm/ddel33END7o1UrOThmGCRzRhjgSVZBoAYhEKk5owZ1uUJThbteARLvJ+LTgme0ei9NrvhCID4zPKybtPKtSeyrbrkWPAL1mwefxymHPGNOqFTOuVCfsahYeW1Uzh1xLjW+VXB4y/1xxrGyzgZ7fyqrHVJuOQIHDhygCy+8kP797387CiPKU3r+mjNnjucJORIEgkSgrKzMIwfGopAgoBGQvYlGQr4FgVqMQEw9ipRPDZkzavE4ka4JAhqBCM4Zusia9C0WEjXpbklbBQFBQBAQBAQBQUAQEAS8IvDkk0/SRx995Hi9W7duBOsJJwsJxwxystog8L///Y+uvfZaj/b06NHD47gmHdS2/tQk7KWtgoAgIAgIAoKAICAICAKHHwERSBz+eyAtEAQEAUFAEBAEBAFBQBAIEwEIGx566KEKpdx88810//33u+NEII7E0qVLadq0aXT33XfT7t27K+TZt28fmRrvUVFRFB8f75EOMSpQlkmJiYlUr165lWdRUZESgug0DRo0oISEBHW4detWFd8CwZmPOeYYatu2rU7m/kb5sN5ADIx27dpR165dKSkpyX1d/0Bb0WaT0F60WwthFixYQHAjhLp0G8z0a9asoZkzZ6p+durUiTp06GBe9viNvqNN+fn5hPbjU79+fWrSpIn6dOnShRo3buyRxzzwhQvSoc0oMzk5meLi4qh169aEmB8mmXE/YI1QXFxsXvb7236vQu2TrtvJIsIcWxgXqBPkrz/2xmMcAO8VK1bQ2rVrqVmzZmo8YMwAI2/kC+edO3fS77//Trjvubm5hHvWvHmETF69NUjOCwKCgCAgCAgCgoAgIAgIAoyACCRkGAgCgoAgIAgIAoKAICAI1HgEEC/CZADrDt1+++1uYQTOgcHdvXt39bnkkksIVhXz58/XydV3q1ataMuWLe5zCH4NZr1JY8eOpTvvvNM8RQsXLlRCA33y+OOPp19//VUfKoEAgjFff/319N1337nP4weEBT/++KMSTIBZjHa//vrrHmnAhH///ffp9NNP9zg/efJkOumkkzzOvf322wSGNMqx44J2jxkzRqX/5ptv6MYbb1QMb7OAYcOG0fPPP08pKSnmaSXcGTVqlMc5pwPE5YDrLAhA7OSEy7p16+jTTz+lF154gaZMmaKyPPvssworWBSMHj3aoxjNSMfJe++9lx555BGP6/4OEOy8V69eKhkEVqH26bbbbiO0004YP3bhEYQmMTEx5K8/uiykx/i866679KkK3xdffDE99thjlJaWVuGaE86Ic4H7/eWXX1ZIDwzRHwjOhAQBQUAQEAQEAUFAEBAEBIHKQkAEEpWFrJQrCAgCgoAgIAgIAoKAIFBlCBw8eNCxrhtuuEExgGFdYFovIDEY/GBm+yPTWkKnPXSooqdop3M6Pb4hNIF2vBPh2gknnKCsPEaMGOEhENHpIVj4+9//TsuWLVMa8vq8U9+HDx+uL1f4RsBvWE9s2rSJXnvttQrXceLDDz9Uwps33njD47pToHCPBNbBu+++S/iYjH+ndDiHMv/xj3/Q559/7pjECVenc46ZvZw084fTJyfsvVRJuk79baazn4MlxJAhQ9S9NtPZfyMY+xdffEGffPKJSm+/bh6jn7CG8EYjR45UFi5XXHGFtyRyvhYh0CQpjg6UHaTdeyMf7yQmpgE1ioumwn0H2OLJeW6uRVBKVwQBQeAwIIA5bD/PL3t5nqkphDYf5OXjzt3lFrZO52pKfwJtZ0qjOJXU7HegeSVd7UVABBIh3ttWzRrS3zKSaNWeYpq2akeFUho1jKGz2zShYp5tPvxjc4XrgZxITozlyepQpSwSvdUfSJ0ZKQnUL7MRtU2Mo8yG0bSlqIRW7C6mOVt208ote70Vrc4f2zKF2vMkDPp54y5as813epUwhH/pzaLozG5NVc78/SX0/bJtFUppmBBD57Rtos5vKy6hb5Z6pslp0pAGZydTNvcxmRfVBcVltG1/qbrnszfvpgLus6bzu6RTTH1XEKu3F27Spz2+zTTvL8l3XJwHgo8ee2bhGGfbuJ+zN+32OV7Q535ZSdSax1ZuYowKurV5Xykt311EP6/f5fgyH9A6lTokx1HbRrHsjqEerd59gJbv2k+TV+9w7IPZrnB+m/cH5Xzw1xY6cMAzYOQ/OjenxKgG9BHf3yLuP0jjrA4c/jmNh66ZSdQ5JZ7a8JhuEt+Aduwvo008rqfn76alfK+Fqh8C5n2etL6QNuzwdFVyVIvG1LlxPP3E88xah3nmcI3r6odk4C0SzALHSlIeHgRatGjhWDGY3PhA+HDiiSfSscceSwMGDKDevXsrprxjpsN0EgxjWG34I2iyv/rqq/6S+bz+4IMP+ryOi2+++aYS2MBixBfB1Y9pUWKmveqqq5RQwjzn9NubMMIpbVWci0SfQm0nhBPXXHONozAC49hu8YJjWEr89ddfFSxagm3DLbfcosYgBFZC1Q+B845Io/gG9VXDzPVvsC3F2ndUj0zayHubG6es8Jn9HF5vN+T19he85y3kva+d9Jpr7ta9tHjTLnX5yi4ZdGJ6In2wZgd9uqTc2syet7KP41koEhtd32PfFkqd9n0J8xOp4EAp7eS9yZZ9JYd1vxDO3jwULMLJExVVnxLjo2kP77PsgqqT2jWlzsnxNHfHXkf+Sjj1St7wEND7Loz7YHgd4Ild2SmNIJJ8YeHGCnv5cFrVK7sx3d0tndawQPX2n1d5FIVrxzZPpMyEaObREG1nPs724lL6o6CI5vHe0M5T8MhciQfA46V+LVUNwyYsU8+A0zn7fIMM+1l4XFhSRgu27qNNOz33varAavwPAupX+rdULbx4yko338apye3TGtFpOY1pB8+vb3nhqznlk3M1EwFZaYZ433o0bUh/Z2b1ooL9ji/M5szExnVQKAIJTEKv/c21+btg0vIqmTQDqRMM4H/mphLzpd2UERdF3ZmZ+w9mAP7AE/wbLICxLzB04mvaN2MGsmsRncYLxEcdGIU6bTjfLbNj3fijnF8376HtzEQ3aWibVHea7bzXusEPAABAAElEQVSYNAUSw1jAcA73x6Rcl8tnGkiN6CpeMN0wc537ZYC+a1rtIKTqmpms8NFpvvSyoA8EHz32dFnmN/K/vHwrTVy+3TytfvdnwcI17ZpRXAPj5vGVdixo6J/WkC5r25ReX7GNvrOEN82ZmXtXjwzK4bFoUi4fD0hLpLNzU+hRXlj4E0KZeYP5bT5DyFfEL+GPFud7FHFWTorqj2JIWwIJ8154JLYOsPHSAiosAG7smkE9Uz39guNe96R4OpWFNzv5xX/tjyu9jmmnOuRc5SNg3ueOLDC7a9pqj0r782LmOBYcQwBlCiQO97j2aGQNORDMasiNkmYq4QI0u71p/INpCzc12lUNGLt33HGHCpaM2AdVRWB0Q+iAGAvjxo1Tbp7sdSPNZZddptJ89tlnHm6fkPa3336zZ3E8PvPMM5UABoIOJ7dCyHTaaacRXPvAWgLugeyEIOCmQAKupc4991z1OeqoowiCIMSPQAwFuFo677zzPBjmcIcF11H2GBz2esI5PuOMMygnJ6dCEdu2bVPWMfYLp5xyiodrrXD6BHdKl19+OV1wwQUeAgSML7jg0gSMYmNj9aHPb1in/PDDDx5p2rdvrwRrnTt3JsQfwVj/6quv3GkgEIK1zzPPPOM+5/RDjz98w32YWQbS4znZuHGjuq9O+eXc4UMA7+PzeP2taWPRAcc1v77u+9u1H/DcFTjnOIfrjOIYKBA4OAkk+jVvRH2bN1SZtUAikHKda4vs2UePyyXsVUf9ttEtLAmlBvu+xF7GbtbS/mD1dprgsAezp43kcbh780i2JZCyhh+RrvZXn60roPdtSptHMX+lB/MUSlkgO40qKnwGUr6kqRwEzH1XMLyOxszv0XPD27HRlcLTMsJ2qc4/1K8VdUjyfNe2coVvopNYEFvWiflZ3y2tHKAiVKrP+aYt0XRWAn5ybl6EaqvaYqDg6ovaNY5VY6aw5CC9Rc6Kvr7yy7WahYAIJGrW/TqsrR3crgmd3zJVtWELS5g/WbOT1u85QM1Z8jyUGfItmbmLSf4Aa+s7STOPYIsSLYxAIUc2SWA/ug0q5cVkB+qfzGx/fv5692nUe1qWS2DkPmn9gAWCFkaoF+6WPbR6F/oZxcz7ODqBtX0a8JvP21w6rFVqBSHV+SwM8EfB4gNG+fss2IB8ISM+hgZmNFL4QuiwZHuRh8Z4b74/N3V0BSoEY/9D1lZaw31KYI2htmyxAiwgqGjOiwYQtFdGH5VNjaNdPoQnsKBpNm9CYLHTNTWBhrLUuglj+GCvbLpaMYIr30zyLK7zm9U7Ha04nLD9OX8PrTRMIXWabTx2Nd3PfdQCl7nb99GPbA2xizUoshtFMzO7EXVtHEcpjEE0a4V5E7LpsuT78CEAoRqEfos2FvpsRLDjujJcGPhsYDW8KJhVw5siTfKJAGIBgAmMAMD+CIzXe+65RzFwJ0yYoGJK+MsT7nUwgRErQTOmoQXftKnLotMse/Xq1e7A03A5pYMh6zT2mBf6vPn93HPP0XXXXec+BYEAYg2YhCDgCOytKTU1VWGij/GNWA0mObm4QswLMP8RMwFWKFroo/OhDATK9kVoa//+/VVgZcQwgBClR48evrK4rx133HGEj0m4vwMHDjRPqd99+/aljz/+WMVy0BfD6ROEGfgAO5OAN6xwQqHx48dXyAZBA4QRIAS1huAN48mkt956y6dAAunhCgpxVECIFwFhFAK8m4T75c3iyEwnv6sWgYGWspuu9WRevzspIenr8k3km/UVGkIvLtuq9oKNeS/UlveGPVixqRHvna7mPVh93iNqxafQSg88V7h788BrilxKfT/sTGTUMJH3m6vYA8HinUWRq1BKijgCwfA6trH1wqcsfIJlxW4WoFY2ndmxmVsY8eu2fTSPrW22FpUqrx69UhsqJcR6lTIrVF7PMN+A4LHj+PQkymQBK4Q8S1hB9oflnh4+Kq8VVVfywm1F9Fl0AVuflfNsqq52qamqERCBRFUjzvXBdLQHM7VbsducMmbw4sX7G7+ATYbnsewSSdMxvPgEkxS0gl/Q8JEH5lspM/6Xb9tDXdMbUXvWEAb9xRYbCzZUZMqFW2dJaRkNb+3SHlzO7R01e51bkLCM6/2F3ffccXQLOrppgmJuf83CCrtFwiBLALCO25/NDHQw9Psxk3nKyora/KozEfwHjf73GG+t1XMyCwjgYsmJhrV2MQbyuJ0jpnpqXU/mDO+x4OUsdsdVwJr2TpQWG0UwXf6VX76glqzt0d4mpXfKFyw+6/eW0I8GdsD8xX65aoHchYU92oUNGIrXdmimqtzEbb5z1joPpj5CbX6xYjtdySbgMD0Gndm+qVsY8Qhrr+i+4NoiHqsz2ZXRI0fmUDRjeCkLOubTHlyqFMICprjskBKY/JNfvK8v2BhQPV+t3enTJdjJ3EctjHjNsAxB4X+ylzVs8GDueQnXifGvKZBnCWna8z3Yzgug9bwQgiVGC8tV2dKteyiZrUyymYm+pnA/xbGwo2vTeMrmc+t5zM1lQYrpDiytcQKls8WVfvZ1O/CNeeAA+0y3u5WCqWPr5FhKjYlSL/P1e0roT3apZs4xZjk1+TcEbHBdcHmHpnSLH4FEsOP6mXnlQsyajFE4bQ8VM1jctWUtt808T+UXeJoVt+FFdGJ0FC3mecQck4E8W+iLfv/9uXmXEmrnsOAwgV2LrCksogY8J3VgoWnTuAaUzHUU8/MBV3tz2UquJvmXDeee1fW8mZmZNHv2bLr11lvpnXfeCQgOaJYjSPTy5cvdjNqAMoaQCAGNtTAC2WGZAc13xITQBM36hATLLJNPNmzYkBBUe9asWTpJQN/2gMoow052JrpTGlg32AnCB1h3QPCAdoH574ucYnCY6cHQhwAlUoQ2Dx06tIJlSbdu3ZRFADC1U6T7ZC8/mGMngdOgQYM8ioBQApYeZnB03Ift27erceWR2DrA+NPCCJxCTBWUaxdI7NvnOW87lSXnqh6BQazcBYKLEiiCwWq5Kbu42cbvPzth/diF15fNeE1axOvYzbwm/YOViwJ5F3bXe7ZdxR5+zu11BHoMl0JoSxbv/7DWheW63pOhjGDXuuY6AG3twOsA7Emwp57J+yFNWA+nMBMPdCQrnEVZez+9NmnH1xN4n2TfO+s1DFwxOblGmcT7JpOwztdKTleyEpxad1j7wGD6Zu4fdrKFb0/ev7bm/QL2ZwuYuWpa/EK5LtS9OTDbxxYdy3kdZhIscDK4L6vYrY1dKQf9wH4li8fcLlaKW8Vjw44byvI17nAN/QFByU+PM90W7HUQDwD7Izth7diB2wflOVgGLdm+X+2xzHRQKkzivQ/Wl9m8Bu3C68EmvC/fwGNuKt8Pu5se7JG7szJlNitXxvN+DO6PV3Ldq/k5EfKOQDC8DrhU/mNHkVJqNNf8gT7DZivAU+nKvKZmfE+hYIh9rp0uaOVSDPhuwy56zeAZLOCE39E2yuUyTuB7rsnpmWvDYxQW9vPZCmELPwsYJ5rfBoEjXFfPtZ5vXU5jzlNZ+w9zvvmSPVk83r8V89KiWbiSQJ52lC6lUrS1NfOe4GZvPb8r5rNyrclbQLwKzYfAPIzjTOaTFfOeehk/O3Bb3lLxERrwfq2BchWVh3IYU/Memtht52cM/E0833AttYiVY1FWIKTn4UK+p3Dnns8KpYtZ6LLD4LWZbcY83pPnA/BOMA5m8fvE6R2IObI332sIjUEruNw9Bw4qHuSfzI+xzweBtFXSRB6Bik9x5OuQEg0EsDC6u3uGh6UALm9ljYoHf9ugmMjZLL39F7ve0aQ123H8CktBEb9gFLvSAWlmnDrAv1yiObzIeHTOOvepSNS5lxcH2l/p8+wH1OkBfmHxZurNbqZgPTAgO4n9hZYvJjCRH9fMtbn+kIUXA9KSlPACFhWVKZCAFQEWTViw/4OFCGBmoy1ntXCZO//GL0i7ux7LLWuFwJcaUCzQvPlO1OVdwHVpJv4/LUGOvqbLMb8jgQ8CBGmJfyJbPmjqxW6HtKXDs0vyHTciWCyYzNdTs1wuqH7nhaHuhy4P31iowT3XKVz28bxYTuC4C3vIWUBj5gvl9w52p/X1+gK6hHE8mcfLZ6u2e7xUQykTec5kd08gCNi0myp1wvg3n+vFR1MgzxLS4oV8W+c09vPIwgJe2EJQp+m2OXl0Oo8/WNo40f42TdmsfL3bFdZlzGiHNRFccZlm4NiA6nngnG//UkVhHD10bC5hIWWnkoPpdP731ds81d7mQI5f4oXZzWx6m8MLsz4co2aWsRG15w92XL/AeJoLL3t5deE4VMwQqwau7aCd9IjxPgJm9/XMVgLG2+e4Fp44F+izhQW/Hvdfr2/IZv/Jbmu1N1lA24MX5zD3t9PBDs3pMX5HOc1n9rRyXPMRgMXB22+/TYiR8NFHHyk3QibT1qmH0Mb/+uuv6ZxzznG6XKnnkpOdLTbNSiGkCJfsVhZO5ZmCEKfrODdjxgw666yzvMaM8Javqs6XlJTQ+eefr+67WSeCiX///feOMRaqU5+Ki4s9BFToA9oOl092cgpQvXLlSq8CCXt+HFeluzKn+uVcYAjgPZlsre8fmr+Rnjq2BTOc6tNA3nONswkkruLYENhj2QlKPjezYpJWWrJfx/Gdx7RQ6078VkpJDtbGuBYowbpeW9jrPJfyWvcetlzXjN9g1rrmOqCgJM29x9Fl/8nrgnumr1GHD/bKcq8R4EpZu1OGVfTDrFz3YK9MtW+9wSZ4OIatzq9jZa6FzIy8f8ZaXbTXb+wN756VR9o9FCxXNMMymL7p/QMqKmHFQwhZ3MT7ILjW/dZyrXs01xHK3jyL10n3MC8CSpF2tzUX8boN7k7f4r3WV3+5tLJR/4Vd0wmW6nZayszfUbPWutfK/sbdJczv0K50urAQqUtjFz9Dt+Ucdqc8mIVuH7NS2TjLTS/2Ntf3yKL+zID0oHZEX3EMOdMrw9087mHZzr4DPJLi4PxWTehGHhdaIAfhy8NH5VCSsWfWmebw2tXkpejz8s3uIi3eSaC8Dgjr9Lp9GDOBsa8K5hnWmF/N93aIw5ymr+tvzQuB2y8nglDvTcNluPnM7bcUIHW+gzxPfbpuJ/2NGfwQwpg0gZ+jl38vV5L8N7v7ror9B/DL5/ifEEg0UmO9vFV4tu/umVmhraWshPkk8+9m83MFGsZCU/AhlrJQMSGqnltBE9fAU3jymIruL3FtL++lbuX3h1Y6NrGz8yTPb8nxPwOIH3QGW7RowSp4S6/wvenJc8AIVpRdyTyakZZLZt1mtIOnRve8juOLWdH4Hn4nmgIQCCf/y/OGfmciHduYuL74/31876BkK3T4Eai4sj38bapRLWjBk+wp/JDbP6fneJpto1OQ0t3LkyncFoFR/ja/7PGg4gFuFtuA/sMTCAgSRrib0TSZAxWP5xcuPkv4JWASFiLQkpnIAcTWcj4QmJ9H57oWDZGqM4s1B0DrOQBV3nZnrQEsxuazNBTUIsGTIdqHFzEQVGBxBenqREuTGYzTFEtqqTJG+B8mrPdWuHxQnsRWJ9B46cfWCzCrzeO+TGENWzutZTdUIEz0o45rSXClBAlwIPThqm1qkgRzFJJ/SHOP4vuBdry/0rtJXSTwwctd03xDswNjFLSVrWzsmvQ6vfmNhZ+evL+ySf/NdN8a13KzXHWY1yP5+zvWRAJzH+vyiw1hna86+vJmApYq5qcTmzmC0Ec8c6DPeaERCAX6LJllAUctjCjgZx6Lo/2lngskLH5m8P3CM49xAtdZt3AgwFDobN484ZlCDXipY+MCd1uow2NTE0rh1TTPIsYOG0vQJbxw9EahjGtYstRlqirMQnm2cF9OZ+YC5oR9/A7FexQaOWwQod6vGPdv8JyLd+w2Fmoi3a0sJBSqWwjA5cztt99O3377LYFJvWDBAnr++eeVRYITEggI7I3AJA6EoHEeLEFr3R9FIsBwIGXAVZIvWrhwIcHlkVMAa8STuOiiiwjfh4tgiYF4DnaXUXBVNHHiRMrIqPh+rW598ncP/GF7EBNhEFSZsT2CaIYk9YPAEMtd05+s6AIlpJ8t7dNBNiYdBBdaGAHmId6Fn+cVUD5rkmJ20lYCTtXdfpRLGIF15FhWYoqUEN9c64L5rNa6HMMtXILC1Qa2/MA+GMwrUCf2GoC9G+hjXuNjbQ1azLjp/fRPAWruunIG9h/KXV8zziC0IVzCfYJiGPqGPRAIgpxk1mQGhbs3V4UE8G9Q2yZuYcQKxvg9VizEuhu4QrhwruUSOJBx92P+LrUfRbWw2tf34yOLUerUHFjqamHENNZYf5X3NhjXIAiYECPRiXYxZthbQbgAwp7sDCPtrSxkgTACsT8+4T0thDAzOVgwhkusLd6iKkD+KQRC5XV4g8/fM4x8GINaGIExiLU9hFFQWrTT+iIXHwfuqK9h3hq0/bGfCYQwLyE+LJ457CuwdziX4+dAGIEYlDgPTx+gv/E8a1JV7j8y2XMCaK7Bk0MfR7EAFm3FfAs+AOK0IE4q4v/cyMp7dn4Wnl94i8CzjHTIB8IcjX7ivYHnDVjDJTsE4NeyoMCJwJPEuwn16vuCeEfY43kjeKvQwghg+4oh4PGWB+cP8lOK53oS80jRVvAYr2IFTk2o8x5LGIE+oR/guy7g+dTVQ51SvqsDAp6ivurQohrWBrzcrmApYyB0Kkv9MdEV8wN98/S1bgn9tI276bnjcqk5TyDHsYbvDNbwff3PLUrzHOW+xlqdpkWCyXh+mN3paA0MpH2MLRTgCgparXPWFlCk6syxtPw3svsNX7SRmfyg7ERPBr5eGIPxCsnuIrby2M9BrYDHiTme1hS+yg/lGjTc83mSwgR9Nlsu9LE0LD7giQlmd3b6gs8PYeEFJlbEEOjKLzMQFoOLWVPmc34Jao0ee95tLLGewn0blNGILm6bSmvZVQ5oMgs+dvCC2RuFgk/jmPrKTDueXw4wq7uQ7xFenJh4zfblNnQtivMsQYu3NujzqdZCF8cwafZG2/eWM2fa5sTSYqo8836Mmfc5UNy1LIyARcY41mqBCaUvUpo8NgH/Hi7nUr4XZh837vbeR7P8YJ4lnQ8vva/5Jf4RazNho1JOrsXzH7zoeWT+Bve16ewi6u5u6ZTOZootWbK/xhAslef1/qsDC8BAWBCYL/U3LZNF7zlr9pXXl26lI3kOhZAJi1bTtFX3zLzngY5rmK9qLRBdTl36rirMQnm2cB+gufj84i0eZro/8fsT84VJk/MK6VU2b4ZQzptrCzO9/K65CMDNzRNPPEEjR44kuOYxCcx4nMPn6quvVt8I1mySL7dCmzdvNpPW2d+wMLATAoOPGjXK7WbqqaeequAqyZ6nMo4P8cYU8Tbeffddj+JhXTJ58mRlZeBxwTqobn3CWEWsCHN8IiYKBA12K4m8vLwKXYILMKHahQCYTX15XQiawIwb0GRW8IKVIDTC2zZPpBXslgPUnvcumh5i7XVN7/EPKOlsYncjTnQTu2Ltw9bsWLtCGGG6PnJKH+g5+1p3GjOR/9stQ/lBhwsWuOgIlZ75awv9vMqleIYyXh7Ujt24NKCWSTEcwJoFEqxlfzwzDrGu/ojT6YDbodbnL98ya28Sy+sNaOD726t4Kw+Ki//9dYPb5eX7rFz2Cu/xwVg8ni1ixrP1Qo6l/Bfq3txb3fbzEIKAwNR7b1H5e3AYa4Qj5uIA1h7/gPkRgYw7aKd3ZgtvWNjPYm15szx7vTjGuD/H8mpg1v89u965hccr/OgP5739NGMMIB+UUl7nNun1IMY2hBqmBXlra7/7Zd5O+uLPcmsQKEqmW8p8KEvIE4FQeR2epZQf+XuGkfISvscg8JHG/lr+zltk7ZvVRevfG8u2swJwhuKJwNoGHxAEYL+zIO1T5vOY7ousbOxR4yDdx95KtFu02dY8heumZRLG5HuD2ykeljl/PTovzz3edJmR2n/A1Rl4PIjbel6rFMrg+QwEV0WaBrOwDXMflB+v+nmVm7fwCcefeHdgO8KcBIsGc14Hzwh9m8oCQf2soLwLJy73OMY5CHzhkUBbOOGcJmB3/+8b3HyLz5gf8VK/lkpQkMG/NaY6Pb6xX4d7OxCEES/9tlH99vdvGVt1PMKCC+3y70/u9w0sFM1tWK6YO5gxgrARwoqbZq517+XHc+HPnNjWjZ+/uuR61SAQmLiwatpSI2vBg/wtx2ywfyBdtVPrRNcC8SdmWGtzQaTBYuV3S9LfytByt+d3Ov6dX7gmgfkJyrAsGiJVZxybc4Hgy98XQcAA0iak+A1NDq0pMokXzyBMer9YC+fBbElQ2QQ3UaAzc5KVYALWAhDYOBEsPa77ZQ3BMgX3VxOETzBjfYzNO//TJ9ertP1jK64DFjowh0MJH1lWGros8ztUfCDRfrFvrjKrg1uvpvwSwsv2ttnlL2rUE2/du/0BasxBwKGp1EeegxCnWxQfV55Hn4v092S2kkAwddAVbDLoj2A5BOm5+ZlujTmzj9CqDoRCeZaW80sTpsSewojy2haxb33zGoRneKmD4MM1WFrLfQZhsQCz6Q68SYA2BASa5gIk2HKre3rModqq7AI2ycZi0U7mPQ90XOt5z15WXTmuKsxCebZwD0az+zO7z1C8W3ryJuL6XtlKQP/a4Pb0cr9W7lvWkOdxodqLALT233//fRWc+oorrlBBkb311h5fAelycsql2Hb3Rih70aJF7uLA/HayEnAnqKU/fvjhhwo9M4URFS5W4Ym77rqLXnjhhQo1wjKiS5cuFc7rE5Hqk92yAeMDljmhkFMwb7vbMQjJvvnmG4/iYQlijwvikUAOaiQCvVnwAKE6GCyzrb0emDzYz4CGMGNOk6mAhP0K4qFpZTZYPJhKbsgDRhfemWDYYmUfSWEEyrevdX/n9uu1bnpi8GtdlKlpumGtjXOLrf13Ywff8jpPZX6b+hBlxj4p2Dq3sBKbGX8Le1No74MQhwOk16ih7M1VAQH8g6W/3ts3jYmmf3Ru7v5AaQ/UhPefWHcHO+4CqF4pkGkL7y9WlguekPdjSwgBgZxdC/tH3sObDNbfOZ4fCEHINW2wNOnPyE6hs7lfYC6jH7A+QowyIe8IBMvr8F4Skb9nGHwSzVd6ixXQ/NEi9sIxgoUW8NphPoJg4kMQhj3BeQ5a/ptYqdZknK9kbXpNP65z8ddwjHG1ztpv5/B+W1Nl7j+eO64FPXNsC+VqDcqHeA9AKdmMb9M+yeWuFkLLU1unuJ/TvzPjH3M8KNPiD7qOOIYoC+PgOt18VvS1gZwP8WGfPKENvX1SeyWMwDV9L3Q6fAM7U4kSynxw9w5CDAo7ndKysds9PYSHgQojUA6ClGthBI7/sCyg0Ec9D7RNdGHxc/5etzACaYWqJwJiIRHmfYH/+dcXsAqGjRB4CUF/TdKTAIIl2wlxDkBw5xQOwfoChMkIFKk6N7FvTfjFax7ve8jEslUBaKfFOMbv/jz5azqdNSm0yXHvJq7JAoz0ULTBdZmBfENzQpm5Wsyocaxt74uw8HuBpeTY1kJTAhYInbn/sGRI4D4i7sQRrHHjFMwLkzAWjcdaMTNmsHkpFjfaxNZebzj4wGwxgSf6TEtS/htL/s0FLOrayOMN9y7LMu+z128/3sb3WlMqu57ypiGeyNc0rdtUnkefq4zvN1mKfwdb1mDsYOHoi55lrShvWldbDGsRMP7tTE2nckN5lspFNk4lOp8r4UUGCOaHwdL3vDE7gYUQcEmGsaotb2Dy/QYv4nz5DA62ruqW/m3uX3/WEIRGxKm8iLJTKON6h4dVi73E2n9cVZiF8mx5Q38EL56PMWK2IJ3dr6m3vHK+diHw+uuvEz69evWinj17KiFFeno6rV69WgVjdgoafPbZZ7tB6NChA0Er3SQE/73wwguZaRFFYGLD1Y+dIKiozWRnuqOv48ePp2HDhjGjkwOHTp3qKBSobEwefvhheuSRRypUA2uBzz77TH3sF+FeqmvXrhSpPiGew/Tp0z2q+d///kf/+te/aP/+/era8OHDK1g5eGSwDs4991wlXDOvoZwPP/yQjjnmGIJlxJVXXmleVr/RJ6Hah4B2V4K14bXdXJbb6KV2PwpN8Zd57QfGEgL6ri9qagU9jXfHyoNro7c4FqEZGw1lwII8zYprBgU5JwUWNa3xstSbuyd9PtDZT6919X4V7YgE7ePg3YeT0q29FnAodNjvh9M2BJwFaazD2ZsH2g7TUqB/GvZdznuv+swNDHbcBdKGZtZeE+wNU5kTeeHiWlMs74XtgjZ9Dd8Imm2nT1kx8UZW6MO+4YKWqeqDer5nBuk4fk7s9dnz1+XjYHkdwWBlf4bTDAU9bzwJe/lgjo/mDwRMzZiP04r5OL3YddPfeJ8IxjXcMH3FAi5TKdBeRqmhlGq/Ziqs6muVuf9YxYGnQdqqBwqopocUXMtOKOfR2WP24DoozuLTuY7I0X0R+FX3s/JtlsHzC3Re1+Xiew/PV3Dx5ETD+HkDwZW7GYfDKa2/cwesedFMl9XQhcXGonJvHuZ1+V29ECgfudWrXbWyNVqDIUaLKY1eHrA00WMcAtYZyfz+xIMN0lVEqs68fa4HuiVrskD66O2l34UZ36CN7LpI00ms1aPJzijS5wdzmleCdE+j8wb6/fHaHco0DK6XfrK0KgLJC2ECPr+xRs84dqX18glt1eLlaLaWcBJIoMxxLG3WAon3WbPfF4WKD6xw7puxRhX932NzldDhVBb+rOK2mv3TUnzExEAMDX8LLFzXgdR6MGNvuRc/q10t03E0YOnqci0C1aBK+gerlnWtUjlGSQxdZfksDaUqLECwmIDWT2/uI7Qp/FGkniV/9ehn2C6PCGTTBkuBq6asUAz5Y5omsmlyjBJOQiD1CC8uLvphqb/qa+x1aEvAUg1xBc7LZXdplvaK7lAo43q7Dzdrutza/B0JzPTG2RdOkXq24DNav2OmsBnzpzzPb9+zXzFo3mHtHietHl/tkmu1AwEIHpyED/bevfLKK9S4cbmW8dFHH012jXRovD/55JP2rHXquE+fPioWg9lpBJDG53DSG2+84Vj9smXL6NFHH3W8hlgXEEhEqk8dO3asUM/o0aMJH03AKTa2XKtSn7d/Dx06VAUO//zzz92XEHi9X79+7mP7j+zsbIIARKh2IYC1ezdrf4WeaX/6Zi/hjqMnK6LAAgJCiZt/XEknwk0trwU7No5VylRgMMEt6M2seLTe0hg3y8BvKFwhDqHdinwHK85BcJFkxV+z50u1zu8wFNLsacxj+CMHWYb17kuBrHXdiYP8offGTtkCWas45bOfO66Zy6/8al6T2rWOw+2b3h/UV5FAiMLZm6PdTm6L7f3R9wnn7563gfeHFRn7uJWaLxDquLPXq491/fY9Ea5HGYMnyg//xDXadKmu71/Ye8KfrMg3lPeVR6TEKV/6GCPYS6ezdfno2Ws9M8iRBwLB8Do8MgZ54HTvAi0CzyCsCPCBS/QvWSiBgM18m6kLC3F9xcgpcxjr3uqt7P3HHVNXq6qHdmpGF7EnAPB0buqdQ0+zmyhNB6xHE0qI77ECpxNt8eGKW6c/nd0d4V2B+eZ9dlM+jb2bwMUVXN7CM0ckCdZP8OhgupkOtnzrVeKRrcgSJuUmuKy4PC7KQbVDwFlsVe2aWTsatMHSPO+RmlChQ53ZNxxoo2U+aCaIjqpo6mReN39j4QnSTOhI1fnnDpcLKix4z/ESVBgLX1g7gH6y/JtmcV+1nzsExXmI3deYn+lsPQCCf8/KpknMnHpiST7dz5YPvqgfL0y8BdpWLzYrToYv4REW+qMXbqYHub92iwWz7kjh8zCbJkLzCXQduzNCYDFNf1ruwKBVdaWPoK6tWMAAyx4Q/L2CEIfBHgAJ56FxcJGOK8JS+p2F5QIoXK9Mem2p6yULt0TajDiU+rRZN/zv4iXrROjn4HYubftQnyWncr2dg0l9mmXtkscvf5B+0abwRjAQwhiFb9n//LKahn23lJ5m/7ogYJXrx6okkPKrc5pxHKsDCyj01cnHZTDjGptJJx+j1bn/ldG2UDGDOTEoxQvzwmxrpJ6tbk1c71EEZnt+/no199oZAma98rv2IRBI0GZ7rxFf4NVXX62gbX7TTTcRrgl5InDzzTcT3ALVJopUn6655pqIjplnn31WWfgEgjXuCawnZMwGglbNStOfYwaAgQZFGuwtzH0UfmvL+yE2F7hwxQGm6vAfltHIuXkqeC963sOy4NYooNzbeR+x1tI4v71zujsotE6z2drDHt3Etc/U5/GNfUJry/VSvrVHMq/bf0PAAuEGaF2Ia117mYEcxzho6+o1dpLhyieQspzSnMbxCl1WBMTuYsvjYug6Al3HO5WNc1CgAq3Z69qjhbo318YCGFPaxYkq2OHfZkszG5ewj0SMQvvHdHODdIGOuzg/QgSUtcVSLkJb7Zbx7VJceCAdFAdDIWjcv7ZgI9360yoaPmUlfWe5lu6WKoxMf3gGyuvwV46/66a1Nvgm/uikdk29jus8Mwi0Lwmlv0ps16tq/4FYJ9pFMeaac9jVmKZ1VmxPWCXYn1F97E8pFWVBiRE0lQPCf8X8hMrYC4MfB9foIHhz+KeDCy11McR/sB4DQdBoJ3iREKpeCMgdqcL7Mc+aBLtxkKtjOXi1pr93bOY2i5pvWQmYE0afTNeGGMxRO2UYjFQw0gdYJre/bHE95JGqExM4AgmBzma3Sxd2TVdMad2ek9s3dfuC28gMah00bCBrK4Pg4/R7ZhbCysD8fMiLZRAYiD2stOpEJfwDYwpmyPaFk72qc9mMDIF4Lu+eoQKS6evwowkfk5rRuXSXb6sAmETDT6ovihQ+6Nu9vJlA0Ga8X+9laTOCqYHgpudHK+gRtKpuP6oFNTLMH9Gva3tmqdgY/dJd7rVeYSY22Imw5nmCpeEmIxvpxxyXq3yGovyX2GqkKgljaynHZgiXXuSXIZimwOsJ1pZAoD9NWKDD5+5zA9rQNe2aqc1WMM+SLsffdzYHpNPPNe7JiO6ZatNZwJpo6y3flfmW26C/sZAJmzgQBEd39cyoUPx9fVvSNT0zPe7v6oJyrJz8OFYopAafgOXLp+t2eu1BMOP6I54rhIhCxWyrJSBtyeMaLvlAmDsw/9gFiZF6thDIDYR4P1qojOfqap4PxTpCQVPr/8GlEgIBw30PXDX5ImiTP/bYY7Ru3TpCvAk7paSk0C+//OJYDtwATZo0yVHz3u7+x35srwfH0dHlLhCdruOcP2GLPdgx8tjrDiSNPY+9HMQnmDp1Kg0YMACXPAhMcTDRx44d63EeB/a6neqpkMk44ZTeXqaRPKCfusxI9Qn9//HHH6l///5e669nqfrqus2E9v5kZmbS7Nmz6bnnnvMpaIBABZYgffv2NYtTv53qsSey14vr/sabvQw5rjwEtPtNxN7D3sLcR+H3d2wdCurB1g1YJ0KLFuvBHNYG1rSWlZOirbGXZPPpjQDKcHHy31l5lM8WDlgX38NBYU0G8HzLogJBr7Hn04T18h29shSzGmvqv1jj3E5pca61K85jzXtjV1fAWfgYzwthrWsv399x4QGX0tTfmpcLmPXaG/0FnWkFTsb543iPfrEVRNdb2UiHvmOt0ZUFQXce04Ius4I/w4L9kyXle6Ng1vG6PghI9JofdUGLuLklxJnDftFBoe7Nd1n7CpRxMgeEBUGoBKZgH5viElwYr7eETLd0SfMYE2gfGKJj+rdSZQQ67gpKXJj3YgGLvg/eBCOwft7MfAXQvzigrk6Htd1l1jj8szB4YQTqfWNIezq9QzN3G7CH2FrsYmTCmkXXpSqXf44IBMLrcMwYxEkIm8DfAF1jjIFOzLP4F/PQTMI4vooFEq9x3AMIJkx32ZgPb2VvAZpWWsqX+jic76rcfzwzbz0hsDMIro80T/FXK8ZMO1ZuBA9LP1tI15ZdVeE5xVzlj0pdWynKtbyiIH0GC//u6J7uL2vA1xeyQjJcoyPOJwgutE4x3isBF+Ql4UwrZiiCfCOgfXdWPkUQ7Wc5oHW47vG9VCmnw0AgMJXbMCqQrOUIzOYI9qvZDLYV+2a7jTXVdzGjE888mCegX/mhhARTE6LZt+FJ5Vq2SMAHCz1YGfxqMZeRDmZn0Gzh96o7bgQ05ScudzH6I1UnynuFGbitecGVzhrc0Jwfyh8QeEBYvIL2sR83MMY1ncj+7EGTNjkz5pUZHS80YEVxEk+S/hj4utzK/kZ/oDmPDzRbgL0OqoW6ETtkkh9XTIG0MZL4YNH2P57cHzkyWzH8HuDvW2esVS6aXud71z45Tgm+sJnoc3xrNW4w9JxiFcD1z7urttPFbAWBBfATR+coDOxpJ7JwQAufAulvpNK8snQLPW4sKkIpFwucV9hH6NX8HEKbYGSXdDrI8SmK2UTTiXkZ7LMUSJsgIOrLQXfx3JgvyJeXbXWbes/lOeHvLKxD0Lg3B7T2eN7sdcTxwB3Mbmvw2cZa4qU8ePG8gqDxfzjulb2NlX08np/LM3huQqwXOwU6rr/mDb4vM157ubX5OFTMljFTAqb2EGriWcUcap8/NG6Rerbm8gL0n7yoxUbylf4tCRuEcF0k6DbKd81BoFOnToTPyJEjVUwDCBzgb3/fvn2UkJCgAleD0Yvf/qhbt240Z84cFUsCDF8IDrp3705paWkq68CBA2nEiBE+i5k5c6bP67gIJrY/QpwGXzRkyBB+P2BV6Z0gRPCX5sgjj/SbBvE1pkyZ4sblIL83gSnw0gzwW265xXtD+EoguJgFPPDAA4SPN1q6dKm3SwGdj0SfUFHv3r2VwKawsJCWL19OZWVlatzAHRhiTGh8/PVHNxqCgeuuu07Fodi4cSOtWLGCNm3apNyLtWvXTpXpS6AVCM6XXnop4SNU/RBIYwv6HEsZZfLGXY4NnL5ht1rLYivWN6sRxdavT0fwmh97RDDydjJDPpNdfOAdjFiDX7GrGicCQ/bu2Xk09thctTd9sHc23cbHsPT+hq2TT2NFHewJrmzblIbz/mA3lw2Gj7UFZIWQAgID204nsrLccSd1IFgvNmerSb2feouV0rQVYzBrXXv5/o4XstADgWARZ6PvqR2VJe1vLKB5dM46msNr7GxWSOrFsek+OqUjMUTu/vgq90NmZjsRfL0/xOWaFErfsC9+i9f8uH9Yz+p9NvZdZiDbUPbmuM9oJ/zR4z5eyAqN3tZn6MeTizbT47wPxL3GNwRYcBul+Re4r6BAx90SeF1o6Ypd8s6gdmo8YL0Gq24neom1tEexgKwt80ReZ7fJGMMJrMiIcYQ33oshKsZBU/pSFjwBg80smIrnMhEgG/QV7wO0Gyp1Qv4dVgQ+YR4a7lVnntfe4zGDpY5+Jpwahn08BBP4wHIeac0x/nleAWF/Eymq6v3HA3PX05OsPAvPJLd0SqMtbN2mhNXML4DbPfCvwAuAqz2k0X1vGFNxb2zHANZdEGrgeXufsfa1f7PnDfYYc/ADLDzvxPf1Cn6v7Ga36nClFi7BpfpiFizjPQhei5Obw3DrkPyRQ8D/qIxcXbWqJATJBO3nhYITWe9m9dI0r/9n1jrSbooQRAkvc54n2ff5LnqCXUyYNHZRvlsrAGkwmdj3mmBkQtsUCwNMGCh7xPTVZjEUqTqxyLx56ioCsw71YgGKj34hgEl/7bQ1btMuaMNqJuvPvFj2RhMt//1OZlXe8vg7X1zMgDHpIN/e0uv7p+8n0v3f4k0E/+MQ9IDQP714Rjr407tn5lp1Tf8D4w33CAxgb4RruKzThYqPbqtuu1kfNJyeshZmYGBfasVZwOLzph9X0Ju8+MdCEoRxo19Q0BD6gPv1EVuxaPqSF4AjLBNu9EqnxXWkh9n4S79t1Mkj/m010/Eeop/YTGjSPuhxrP2Nmud0Ovs3hEr/5nsJbSYshnGvtTACxxASjuI+Aj9QoM9SsaVesN+aJ+z1msfY/GjmORb1DyzY5OG7F0KEz3iTB+Kkqo0Ym9qs2Bzj2KjAGgmEBYgWRizkRdfo3zap87Xln7dnDhuID4zFjP058TWugc0jf2ymN9kFglA5AqFghmfm8T/y3fMo5g/MfXjX4V0FMp/RQJ+tEh77yI3nUzMyVGH8DwJ9CO11+RBGoE5t3ox0+7Xqj84k37UagZiYGGrbti2dcMIJdNppp6lvHAcijNDAgIEMxi/yg+mvhRH6el39hqZ/mzZt6JRTTlHYIHC4ZrbXVEwi2afk5GSCcAcBqGGt07p167DwgRUDrHogVEIcCuCOsexLGFFT74O0uxyBjpbrmF3MqPEW0w1W9dq9YhcWYMzjd+EKyxUS9mEQaOAdjECoD/6+yS000GvU/UYgaCg33cVrf6wzsU/4T69Md2NGzFynrOXxDoayAfYZWJci7YusSPPR4nx3WvzQ+xWkR1nwS479FBiEzy3dqlz76AzBrHV9rQOwPwXpvuH356x8tMCyxMCaQDOyce0jtgiHz3UQ9gDoDzTyZ1naxuaaQe9LVGL+h34hLiFcXc3k9PcxtvD1bl+bBNM3XTa+sb7X+2hgjP2nfd8V7N5cl//ogs1uHoPe32GvAOUlkIkfPAtcP2MtwRIBfQbTXgsjsB8cn+eyKA503P25eReBIYyydN3cPUXoJwjKYZoQ5w/Y4hnAOELduIfY74yYwy6L2ROAJp3fHui22OLX6HUn7hHWo0iP+57JAiD0C+MDe6n3WJFPyBMBb/suM5Wd14FrCA4NXPXaHOeCfYa/5vniy7xCNWbwjOKe4VnXz65+TtXeg+/d/O1Fqk7UhbGixxnG6+N8/T0Wsmnytmc/yI1Gm1XbjfGIfHqc6T1mMPsPJzyczun5RvM1dHvxjX7+99f17vF7RzfXPP3QrLWK1wNs0G+4xkPf0Y/ZzNNYbvFO9Nysnwez7M+ZjzTNssLCeeRHfzX/0uQ7eMMO+fQcUmzNySaeJcY7577Z69zuAm9iCxhYXmlczbq8tRll6fGFOjSNmr6G3li5TY2RNczDnMY80sf4HaXfEbs0s1ZnkO/DhkA91pQqv3OHrRmVU/H1119Pzz//vDJ3RnDCUOn+MWvpw4+3U9bVMZSYhWkwfIIZVaP4GDWhwn+hL8KDqR5ingzBbIOf+Vct88hhE5ZRbEyUuq6Zpt7KCqdOpzLRrjjux2jWlsCiFGZXkHRGggpWlFH+O6X/3955wMdRXH/82erFsi03yZZsueIOLoAxvf2pKSQkEFoggUAgEHoJEEKvgTRIAiS0QBISEhKqqYbQ3THGuDe59yZb/f9+ezfyan2nu73bO93e/Z4/8t1tmZ39zu7Mm/dm3siPfthLLr+kT9RJbtxUL4ceM1v67Zcv+afE/2hjumaJlhMq4826sHe6jJbAs1CqI2Mg21XxjvTs4Dg4UFDPb9d1TpzK9oLH66RpRbPM+nSMdo7dvyOJeMeQZ7eCKcAl2njvVC2grZiJbt6lUHm4ZGyFHKkjxuAE+o86gcw6MW2VA57ForxAWI9IsVJxbBfUG1pe27S8Qj23sbxjXzv1S1m2sk4G/ixyeJFQ952K2/Bc769lgRF/kMs1ZEG4xR7bI//VbzfIzvcb5bFHBsnBEwIh1cLlI1nl44YZ3pXO+ixCGW7rnTL3FO+7hXTw/Bfqe5ynhuRE19tuysfcYyI/zzzzTHnuuecEo8URVigaef755+W0006Te++9V6699tpoTuExJEACJJDSBIqKiqSqqkrmzJkTVz5HjBghS5culZ0798xgd5ug132TaK9v2tNcHS2MMD1t6ZjRpmmOM32CBu2bhpoVYY4znwilUqhtM/TStnRYN7quSTvaT6SdpY69jmqos4dGxvnQ/7EwcrT3E+017cdFc28Iv4IoCghNi7XgkK9a7ZOE0uPtaZvvbvvmJrzlTg1VFO01cE6WMgzXv4j2ucNx6P9gbQ84wqIRU05wODjLMJrzQx2DZ7OLziCCETRUHzfUOW1tm3dnnXTumSUf/3d0W4e1ua+96ow2M5UCO/HMFGtZddB/bdUjJqt4H4rVTmb1QXSNBaf9whzn1Wcy+x+R8oznukT/ajREWjR1tDM9sEPbgXd9w9Y9g0Cdx/npd0VpkfxqQqWV5e/rujFe1SHxMvCizkAevNBX4r2XWM5nyKZYqHlwDirEaCpSXCrSyxJpv8mul9c0+YJ6/qmOxDmxT4kcoLEg/6JTcteqUtNdK/+LP1AFXkeN+FmgnG2oS49K2F4OeBbcTlWM5Dizp+/X72iwo2m03bxLkVggLfxFEjyL0XYWcNy6NHxuIzGKZT+e6w+1Y/MDjf2rOpelqCDcFUaNTNe1c57ibIm9sLphhmfbTd3hxbvl5l3Z6+a4gQRIgARIgATSgIAX7Wk4DG7adaQBZ0g0DpFEtt8BHTowi9h5X9Ho/s5z3P6O5d7c5gv9bjd982htEfZ7jXROtM8djsOfm162Wx72fIf7Hu2zGe58bk8eATwv0QxuMjmy3ock2qJiecdNXr3+jPe5NnWJ1/lKVno/O7CfqL9TZukMqk3ar++hs6AQch4yT/v+frdRJotjMq5Dh0QyKKf5Nf4yd621in0/9aRiKiU+ITn6nUICJEACqU4AHZzfa7iBi3RBLcyGQrgryHxoMpSQBMgsJBZuJAESIAESIAESIIF2JcC+ebvi58VJgATamUCJrpeBdTBGdylolRM4J36tIYUpqUOADonUKYuoc7JjV738V9dxQJw+eIrbW+ANvkqnPfXvUSR9gmGANurC2m482O19D7w+CSSTwEfrtutCdY0yS8OcUVKDwLu6vsrUNdtlUNcC6aQOiV1aty4IxhVOjRymXi7ILPXKhDkiARIgARIgARLwJ4FFuqYdFlRergNl4hH2zeOhx3NJgAT8TuBPGhJ7P43e0kPDXech7JSuH7Jcw3Z9qOtypoL91O98vcw/HRJe0kxSWniJnk7BMCJY0Ad/FBIggbYJzNDOBv4oqUUAo/5nxNkJTK07SnxuyCzxjHkFEiABEiABEiCB9CeAcLpP6Z9Xwr65VySZDgmQgJ8ILFi7XfBHSX0CHVM/i6mTw11r418kOXXuJrVzUrMyPtbrltSn9g2mWe6a1nlzQ3zHvOEYTSqxvmMNte0/Kyua+0uXY3Ytcceb5ZPckndbPsnNHa9GAiRAAiSQKgTYN0mVkmA+SCCBBOris2HYc8Y6w06D30kgTQl4WGf4kRAdElGU2j5DArHHGjP8YYkClXeHBNvyIYPyXaXZrTRHevXIEa5e4Qpb/AfrAsCd+mRLTk5s5PmOxV8ErlOI4R3bZ0jgfdy5xjtl23W+M+yEjhoDEzJ4YOsYmKEwsHxCUUnsNjflk9icMHUSIAESIIFUJMC+SSqWCvNEAt4TMP2jsn6B9TRjvQLrjFjJ8TwS8BcBr+oMf91169zSIdGaR8hfo4YXW9sblobczY0JIFCzODAqeOTwItepjxxRKDVbG2XL/EbX5/IE9wQ2zlbODSIVg2JXvviOuece7xmxvGOj9N2CbJnLdyte/tGcX7tR1wla1Cide2ZLT3W0RhKWTyRC3u53Wz7eXp2pkQAJkAAJ+IUA+yZ+KSnmkwRiJ2D6R8OGRx5EFOkqrDMiEeJ+EvA/AS/rDL/SoEMiipIbPqxQjjy8RHbObZA1H9MQFwWyuA5ZNblBGpc1y4hDi6RvpbsZErjwd77d3br+1jebpX5bXFnhyREI1GgYsw2TAu/Emd/uEeHo8Lv5joVnk4g9sb5jXz+pu3TvliM7JjfKuqnuQgkl4j7SPc2VrwferVO+WxrVrbJ8osLk2UFuy8ezCzMhEiABEiABXxFg38RXxcXMkoBrAuumNVn9o44lHeRH3ypzfb7zBNYZTiL8TQLpRQC2FNhUvKoz/EqHDokoS+66qyokL6+jbH29QZb+u0F2rtKQJbTHRUkv8mFNdSI7qptlyT8aZPu7jZJb0lH+cMuAyCeGOOKwgzvLuWd1l93rGmXJY3Wy4s0GqeP6wSFIxb6pdlOzLH+tQVb8Wdfq2N4sB55aIt86pFvsCeqZfMfiwhfxZC/esa5dsuWGq3tb19r8Ur2seq9Bdm1g+KaI8F0c0LBDLMf3gj/WSb3O8uo/Nl+u/UFFVCmwfKLCFNdB8ZRPXBfmySRAAiRAAr4lwL6Jb4uOGSeBNgmgH7Tmw0bZ/N/A+pVnXthdqnrltXlONDtZZ0RDiceQgP8IoM6ADQW2FIhXdYb/SARynO3XjCc7330r8uXJRwfJL+6rlnkza6R6ZnCmRG5sMfOTnf+Uv55tfY6+I/Plrhv6CeInxirXXtlXioqy5OE/rpWaD9QxoX/CsooV597n2crrxHO7ygOX9d/7GJdb+I65BOb2cFuZxfOOnXBcN2nQNUPuuH+lbH+n0fqzssL3y22JhD7eVk4H/l8nefiWgaGPC7OV5RMGjFeb4ywfr7LBdEiABEiABPxFgH0Tf5UXc0sCEQnYdMKcgo5y1iXd5ZrvRTeIKGLaegDrjGgo8RgS8BEBW52R20nrjB93l6tP967O8BGJlqzSIdGCIvKXfUcVy7+fGSpPP7dGPv+qRmbP3SW19ZwmEZlc5CNy8ztK/4F5sv+wIjn/rPLIJ0RxxCUX9pEJB5bIe//bKjPnqhNpdZ00NXM0dxToIh5S2itHhusCx98+vruMGRFYYyXiSVEcwHcsCkgxHuLlO/a1E7vLhAM6ywsvrpfpX9bIwiW7+W7FWC7O04p1Fso+g/PliPGd5GvHBcLPOY+J9JvlE4lQ7Pu9KJ/Yr84zSYAESIAE/EyAfRM/lx7zTgJ7E+hZkSsjhxbIDzVMU5/esa+nuHfKgS2sM8KR4XYS8CeBXpW5MmpYgVz43XLp0T32Adj+vPu9c02HxN5MIm4554z44wJGvAgP8ITAuP06Cf4o/iLAdyz1ywsN6EXnB8I3pX5uMy+HLJ/MK3PeMQmQAAmQQOoTYN8k9cuIOSSBVCLAOiOVSoN5IQES8JIA15DwkibTIgESIAESIAESIAESIAESIAESIAESIAESIAESIAESIAESCEmADomQWLiRBEiABEiABEiABEiABEiABEiABEiABEiABEiABEiABEjASwJ0SHhJk2mRAAmQAAmQAAmQAAmQAAmQAAmQAAmQAAmQAAmQAAmQAAmEJECHREgs3EgCJEACJEACJEACJEACJEACJEACJEACJEACJEACJEACJOAlATokvKTJtEiABEiABEiABEiABEiABEiABEiABEiABEiABEiABEiABEISoEMiJBZuJAESIAESIAESIAESIAESIAESIAESIAESIAESIAESIAES8JIAHRJe0mRaJEACJEACJEACJEACJEACJEACJEACJEACJEACJEACJEACIQnQIRESCzeSAAmQAAmQAAmQAAmQAAmQAAmQAAmQAAmQAAmQAAmQAAl4SYAOCS9pMi0SIAESIAESIAESIAESIAESIAESIAESIAESIAESIAESIIGQBOiQCImFG0mABEiABEiABEiABEiABEiABEiABEiABEiABEiABEiABLwkQIeElzSZFgmQAAmQAAmQAAmQAAmQAAmQAAmQAAmQAAmQAAmQAAmQQEgCdEiExMKNJEACJEACJEACJEACJEACJEACJEACJEACJEACJEACJEACXhKgQ8JLmkyLBEiABEiABEiABEiABEiABEiABEiABEiABEiABEiABEggJAE6JEJi4UYSIAESIAESIAESIAESIAESIAESIAESIAESIAESIAESIAEvCWR7mVimpbVla4M0NjZn2m378n67leYkNd8bN9Un9Xq8WGwEunbJkY5JdMuyzoitnNrjLNYZ7UE99a+Z7Doj9YmkZw5ZV6dnuabTXWVldZAundmN83uZsr/g9xJM//xTH07/MuYdQOcpvgAAQABJREFUkgAJJI9AsuvU5N1ZbFeiJuuS25q1dfLb36+Uz2fvkkVLdrs8m4e3F4Hy8lwZNbxAzji9pxwwrlNCsvHPF9fLa29skdlzamTH9saEXIOJeksgK7uDPheFMn5ckVx5aYW3iQdTY52REKwJT5R1RsIR+/ICyagzfAkmDTLNujoNCjHDbmFAVZ6MHFkoPz6/XPr1zc+wu/fv7bK/4N+yy8ScFxVnychhhXLMUSVy5mm9EoLgs2nb5bm/rpNZX9TI2nUc1JcQyEyUBEggJQgkw8aQEjcaZSbokIgSFA7790sb5N5frpJt2xokO6eD9NonT+qym4RzJFxAbI9Dm0Q2rWiQN97eav1ddH4vueziPp7lZPOWBrnj3uXy2qQtVpqde2ZLz6pcqWvik+EZ5AQl1LC5SWZ+vtP6+/izHXL9VX1k3H7eOaxYZySo4BKdLOuMRBP2bfqJrjN8C8bnGXfW1b2HQr9rloZmtuM+L9q0zX7T7mZZtqJOFi+tldff3GLpL6ef2jNt7zcdbszZX+hali3l/fNkV6MqHRQSSFECteua5NMp262/Tz7RvtK1ldJHB/p5Jb95ZKX84fG1VnJFnbMkX/8KKjrSvuIVYKZDAiSQOgS0ud+YQLtk6txo9DmhQyJKVlOnb5cbb1luHd375HzptL/ppCYx3kuUeeVhoQh0lE1zGmXTpCZL6SkpyZJzzyoLdaDrbcYZUT4sT5r3b5LOA80z0cF1Wjwh2QQ6St3WbFk9uUHmTK+R63++TF76xwjJz4u/7FhnJLssvb4e6wyviaZHeomrM9KDj//uwl5X7/PNQpExZoYj2oH42wL/EWGO/UMgS9Z80ihbX2+Q2+6qlsqKfDl4Qol/sp9hOTX9hQGjC6R+XLMUVgX6kiVi+g0ZBoS36xMCHWXbsixZ/36jvP3eVqlVR/2jvxrkSd6f/Msaq1/erUeOdD4xW3IG0DnnCVgmQgIkkMIEAjaGjZMarfqvuLij/OCc8hTOb2KzRg0oSr53/7LaOrLiTLszIsqTeVhKECgdkSXlZ2RLBzU23/fgKpk3vybufFnTrnVmRC91RpScLjZnRNxJM4EkEcjtLNLvG9lSeEiWrKyuk7vuX+bJlVlneIKxXRNhndGu+FP24omqM1L2htM8Y6auHvHDIpszIs1vmreXNgTKJmRJL9VtIb94YHna3Fe63YjpL/QblS85325qcUak233yftKTQEm/DjLw7GzJHpQlH7y/Tf76wrq4bxT9cPTH8/I7SukZOXRGxE2UCZAACfiFAGwMvbXeE7VLPvCr1Z7YJf1y78580iHhJBLi99QZ22Xu3F1S3DtLioaYmREhDuSmlCdQVNZBckcEHvt33w+EWIon01gzAtJBZ0ZQ/E2g8ljt0Gu78OLLm+O+EdYZcSNMmQRYZ6RMUaRcRrysM1Lu5jIkQ6au7lGZIw19GzLkrnmb6Uagy5As6dCjg6xcXCd4pimpR8D0FzoeyFlXqVc6zFG0BLofnGUd+tdXNkZ7StjjTD+8/IBc6VhqZiaGPZw7SIAESCCtCMDGkB+0S7703qa0ujc3N0OHRBS0Zn+xwzqq6KBAIxzFKTwkhQmU60h4yCezAuUaT1axgHVJj2zOjIgHYgqdm6fe6oa6ZvliTnzPBuuMFCpUD7LCOsMDiGmahFd1RpriSfnbMnV198O9i4ed8jfNDKYlga4TA7rtO9O2puX9+f2m0F/oVpYjuZUcwOT3sszk/Hce0EE6dO0gy+fVxo0B7wQkZ/+4k2ICJEACJOBLAj2C9uVpX+z0Zf69yDQdElFQXKFhXCDZ3aI4mIekPIG8bjo6KVeVqWC5xprhjZvqZcf2Rskv42sUK8NUOy9PRxhCqlfFp2izzki1ko0vP6wz4uOXzmd7VWekM6NUvjdTV9d2ppEwlcuJeYtMoKBXQBddsGx35IN5RFIJmP5CaZ9AaK2kXpwXIwGPCWT30LW0djUJnut4ZPmKOitcU8cSRp+IhyPPJQES8C+BgtKA7WnVmoC92b93EnvOaUmNnR3PJAGLQF0TFSk+CiRAAtETYJ0RPSseSQLJIFBbz3ARyeDMaySeAAMCJZ5xrFeoa2R/IVZ2PC9NCfCVSNOC5W2RAAm4IZDJuhsdEm6eFB5LAiRAAiRAAiRAAiRAAiRAAiRAAiRAAiRAAiRAAiRAAiQQEwE6JGLCxpNIgARIgARIgARIgARIgARIgARIgARIgARIgARIgARIgATcEKBDwg0tHksCJEACJEACJEACJEACJEACJEACJEACJEACJEACJEACJBATATokYsLGk0iABEggPQl0KsqVbiX56XlzvCsSIAESIAESiJIA2sKundgeRomLh5EACZAACXhIIDc3y+qT4TMThX3STCx13nOmEcjOtBtu7/vNzu4oR/XvKiM6F0pZQbZgLaf1uxtl3e56mb5hp8xZvS1kFkf1LpHhXQtkYHG+dCvIkk16zupd9fLh2u0yb81265x9yjrJhJ7Frc7Hest/nbtWGhqapH+PIjmsvKRlP/bVNDbK1rpGmbd5t6zYuLNlX6gvRYW5cmRlZxmsnbO+nXJlt6a5YFutfLl1l3yydHOoU1q2RZN/czAanxOqukr/ojzpoYx26XU26P1W76qVz9bujJhPk046f46t6CIHaVn3LsyRXHUrbqxt1L8G+WLLLpm2apvUaZm6kR+P6SP5WR3lX0s3yTJ9DiHfG1mmaYdfYmetPrOvz9/g5jJRHdulU57U1jfJLk0/XQTvzqmDukV9O/9Zskm2bK+N+ngvD/zlQf2kVBXf66dWy8J1OzxLGkadQ/t0kkH6Wa7vdY4+b2trGmT6pp0yaUHo52ii1gP7dyuWqpJc2aLP+Fyta15Zsll21tS1yhfqtoN6dZIq1BmF2dKolduqmnp5W9+FWSu3tjrW/Ig2bXN8oj6d9XJb12lobpZnZ6/Zqy7HObV6zxv0nfl09XbZvrM1H+yP9D6jPTBtBY43ckj/Ui2zPBmgfwVZHbStapTlO2tl8srtsnZLjTms5bO8a6Ec0KtIBmhb1acoR3Zq/b1Gy2Lm5hqZUr3VaotaDtYvbtqV74zoJYX63HywZpssWhe6vUIbe+bwXtYlntf66eCKEumj759d1iunV4N112EDSqV/cV7LbjDe2dAom/R5+3z9znZ7D1syxC8kEIJArLpkiKRSdlM07SZ059cSoIcACnTRPx5SZfE5/Y35e9Vd1g7+RwJpTMDremaI6mknVXaRTXUN8tTnqy1yzvcc/eItun+z9mPWqe5g+ripgtmpMyBfNY1NskL1rqlhdByn/r9bj99a3yiz1tfIatWNKO1PwI3toSA/R/JyOiZFP/zOPj3kFH1nXtW+zJ9nBd6ZSLTc6NWR0krU/kh9EmNjuG9CP+mRlyU3Tl+Z1LogleslP5Sv/bkJZ9cJ1R7Yz+P3zCFAh0QSyxqN3W8OrpJOajCxy6BOgV/fUGP/FG107v1sectunHPZqHIZU1rQsg1f+hWKjJECObFPiWxWpebH7y6S8WqU+1pF51bH4ceLizfK9oY62a976P3mhJW7GuR3X66VBerkcMoYTfdyNfIUOfI+WI1UyMM83X/fzNWydUdrI6qb/MNpAsfFTfuWS1YHhyHcuq0i+V5VqTy6YL28sWCjM4sZ8/vOQ/rLPiV7DGi48f5BP9Rxyq9xWE857bV5rngcXR54CKeoU8o4JL7dt0ubaaza3eC5QwKOlp+NLpMl+hxd8/6SNq/vp5091TAb6t0Mdw9wTraXQ8K8eh3Ml3CZdLn9an2vnc9tRUGOjOtWIP+ndchVkxe3SvHCMb3lWJsDtVKPHdUlX47Sbdd/uryFDzrM9+9f2epc/KjSunOi1omT9O+xmata7Y827VYnJehHpHrZedl/zFvfZl1+4ZAeVh35pqOOjPQ+4zr/WrRRjW4BZ0aVthdXjS6X8vzWagLqmgO7F8p3+nWV6Rt3yV2fLrOyiHI4Teueb2ob5qi91QGfL6hjaof2lBunVctSNfRD3LYrE9UJi+egX3Gu3BbGIbG/tkV412DU+OfCjXJ8n87Ws2BdMPjfWnXeGocEnrFhmr+QMlRk9pbd8uCsVSGdPCHP4UYSSDCBWHTJBGcpIclH026uUT0kUQ6JhNwUEyUBnxBIRD0zuEueHNyzSI3xTfKUBIyrkd7z7do3/OuSjSnT72tLZ9i9T0+5CTpOcGAXirrN+xsk8qHqMg9NXeGTpyI9s+nW9nDfxH6WbnzLjFVhB5J6T8qpWYe+glu9OnQqid8aqU9ibAymK9pxr55FYvPY5nurl26veskv5WtKpy27Tqj2wJzHz8wi0NrSkFn3nvS7vXLf3pYzok6Hor6/dofM0lERtQ3N1ujfg9XQ0k9HcXY0NW8wd7ftXyGVwdGdUzfWyLs6G2Kbjtys6JSjxrZOloGua06W5GRnyYuLNskn6ky4dUyFjnbvIJN0dPBb6lF3jpaFA+O5xZukMLuDdMnNlrHdCq1r99FRy7epEfAGHRltV6Yw4vVGNUxB6jXvf9NR9PO31EqhDs0/oleJHNSjUA2N+fLz8X32Miq6yX9HHY1/xYgyyxmxUUfGvK/38uXmXZKvhi6Mzj26rERKdESCk1EQVUZ8fGNojxaj7pQNNTJNR5evV0dSbzV4jy0tshxXHWJotJ/TMs3v2FHmK2+nvKfP6qLtu52bZYMa9byWDkFfndfGcK/z6Ta9Ndvr5M8LW88COFYNpTCuwjj6yootrZJcrEbQdJTdjc3WKJ85+px10lkYR+qsrn115hfqvmMHdxNjRIcx3Dgj/qezol6r3iK99Bm/WI3t3fW87w/pKb+e1roDt17rxZdWbJZlyrpSZ3DBEA2HB5x0Ly/b0jIKLZa0E1kWn6zZIbU6Ws4u3x/YzaoHZyqn6baZa4qv1ewnU5drda+zTnIto3+x1pcXDu4hX6qzYOWmvUfehXufkQMz86Szzhi4R9uebG2PYNh/WUf9zdT2B7Mo+utslWN7d7Y6Yz11NoqR72vdfYI6liArdPbei8s2WzMjeuosrlFdCrWsiyVP6/jO2uZAYmlX3tD27IeDumt6BdbMCpNfK8Hgf8dp3iCzlB3236OO8sFd8+Wq4KyJh9WhAzZOmbN1t9XmwOnePS9HZ6AVCdpWOMHuPrCvXPPRsrSateW8f/72D4FYdEn/3F3onD6lA2sw880pm1zOBnWez98kQAKhCSSinvl8wy75V84Wnf0Quv/wh/nrLd2ni+p5mE27nw7GwyC+H6lOg75fImZlh777yFuhM0zWPnmeKmDI66GqM6Dvfce4CjlrUuhBYbg/SGe9v8O1T9tbB3zAQfPl4O5hZwpHzgmPiIcAQiG5tT1E5xqIJ1exnRuLXh3blbw7K1yfJBE2hlhznSr1kh/Lty27TqT2INby4nn+I7DHmuC/vPsqx31KCy3DBjL9S52FMG35HgPkdN32ry/Xyf46Ih1KipHjh3RvcUb8SY2Z9lFgc9eIZbyD5/H7qsjUa4gJzDBYpAaYLepwKMvK1vAmu2VJcCSqSROf1Tvr5V0dCWvkWf2CsCG3jw04MqBMXarGl81BI/TFw3tah2JK6pWfrJANGjbFCO7jZJ1OeK4a0GBURHiPDzTcDMRt/o/R0BlwOECu1OvbjU0f67a/z10nJ2jYmwUalihT5QzlC3lt5Tb5k47aNTIL22SD9FND7pFqgHUKppcO030IfQNZqc/AF/psGMbT9TsMhZscM1xw7EtqWLQ7qLDNCBS5YT2KpUyNjuhAYGYLpmLPWFcTMpwLzqvSZ22QjkjurnlCiJlFwecUUxDH6nsC6ZaXLfuqQdlIuLA7Zn+qfyL8lBmRbfJapgbkyj458pU6H5z7cMxA7aTso4bXnspp1a46NaLulmp1QNmllxp6y9RQvzBofLXvG6WG2bqmpr2muEZ6FuxpoKxGapmgPFZq3fK+vu+hwoEhH6O6F1ihcbZp/bNYQ7k5y+x3c9bKeq1TUE8Z+UQdMU8ePdjqxA0tKZA3gztO0FH2kKU6Bd44Hubrb9SOP9FR9hN7Fsrv9XlDXpDe1VNWtIy6x3lzdODdHDU6P3RgYObEQDUqm2nxbtJGWokW5MvkzVzrBK3XMTPhPXXK/k+dx+HEWZe/rKHz/nBIP+s9HKmO5lAOibbeZ3Odi9W5AGdEo4Yvum5Kawf1bK12/vvVevm6OkfhaIBUqDPUOCM+0rrkQS0PI+iW/082yQt67GUje8mO+oAhIpZ25QOt9+CQQGdwoob/Mg4scy3UISO1rCFvrAqE6kJ7tUufSRkeOGqmjkY0bVtgS+D/aer4eVtnVBj5s345Rtubi9QJVqZlcceEyr0c7uZYfpJAsgjEoku6aSfQPgzRumOjDnTYrO3WmF7FMlAHhCB8wnR9d9ap/oXZUKPUmTxE23EYCRds2y1TbTotWECnLFGdYo7WYf27oR0p0EEwHa1BJrPViId6u6e2b6N1tlWFvrcIvfSRhpsLNzPwJa1z2hKjL+B69jYG5yBcYF+dVbpBHaWoExE+YB9t17rnZ0nnnGwNd4ewoA0yVZ3DRidq61rcRwLpTiCWesYwwbor++j7XqGzVBH+sHpHvVUP4L1cqzrgHG1PN+n7FkresrXB2I9ZGmZg2/na9lvvqaOuiUZXNtdqK284BnXbvtqHqtA+TYEO9LP3UUwa5hM6g70vPU1DjGLgA5wS4BdK/7Lf33801NwDh/a3Bs6M0eMnmYT5mVQCR2m5ubE9IMxMV+1/QBCZIjsY2niN9qsRxtTLfnFbIKDvDtIBXZC563dY/aFY9GrTVi/Wtt05gNXcS52OhpqroVKN4L0cqfeOwaIYKLVMbQfOkKx41yp0/1Lt4yN6Bn731sFOGIA1X9tpI9H0Scyxzk+0+4M652ko1yztL9bK56qj2CN1QMco17xWawjkjaqnGEEZFui7btcXjO6zVQcJOm0e9vcWabRVL5lyMc+DuSY+UVcVq85hvy766g062GLBhh0tehWOhW3A2Y+OpXyR1mC9X+hfzvRMXhEaz9kPjaaMkTb0y5Ha/++huuMure/XqO5o7EtIvy27TlvtAZ6XffUZq9TyQwi/hVtr95qNZH/G8B6OUb7QJ+HMwmA/u70SeYWg7AfoM1Oq+ikc42if5q7bW28MHM3/k0WADokkkTYNFi7XgNo7hExxKFnfqOxqHbVAK1K7M8J+6nQdOYy/eAWOC0wzvXt8wCkxsXexvDJvt9VxM+Es/q6j6EO93C/riFOMmMUMixO0cTAOCbf5xyhfI00hRsJBmY3UKTXnp+unmf2AOOehBOGWnrRNFcYxB/TrIpcNDSjJ9nOA+FYNZYN1S67X2TsYeX7z9NZKh/34UN+P1fVQzhvYfe9dg0RHwm/TeJd7nCZo7K/Q64zVED1OWaTP+LuqoGA0OwQjom7WED9Gfho0JJjf6fyJDtEl+/WxRlu1us/B6hzSkeom7i72nbdPdxmvxiNnGLPunQvklv0C/E599auWZKJ5FszBd4/rY762fH6vfze57MOlrYw2Z44qs+KbthwU/DJPnWe3fLKsxTjkVHZwGN5pjPIvVweqfTrusKCS/bEq2XaZogqGqEMCjq9KNTybdQRMCCD7sVB0jAT7C9ZPt2mbNPzwCUO7qSOKg85dt/mGEoowWpB/aZvkVMxNenBK/Df446R+AechZsD8Xte4CCXoqN34wRJrFwyCsbQr6CwhhBJmLWAmhNMhcUhwhgZmIU7X+ideQScEbTcMIXC4V6phNdJaS/Fek+eTQFsEYtEl3bQT++lMJjObCO8zjGtGmrStf2H5ZjlMnRG91EltlzfUoPaoLTTez/brbc0w0rlQ9sOstmK+ht5EWEbT3psDzhzQTX7y4Z7BMGZ7pE90ehHqEzn9zVdZ8r7DiXuJOkL30zYFs0oREvUnuj4WfjulScOt3D9njTh1cedx/E0C6U4glnoGTBAX/ls6uG5PrREgtbuxTC54b7GMVgfnNboWFHT+6/4X0AfaYok2/2c6EM6EyMHMV+P8dKMrR5O3TuoouUfDfxrjtD1fn2ndcZ8tnLJ9n/n+lW3mZaHOrowkloNG11HDTN5OURwfKT3uj42ArYmTaGwPd4zto474wLUQHtSE452qs4jv0XCyXvaLw70jaPPuP6iv9NR2GINFr/i4Vhr1eyx69RUaFhwzdTAb3QwAMyTNvezSa5wddEgcpA6cS7SttOsGOH6j6sk3a4QNDFqAnK6/MTN6ng5QQ0QOE+0D++z9Uvx2K5jFfbP2URGa1y71Q5pVB1gnHwfXNf2e5gEzl+wDpWCLuFPPRRHe80WHlvpkoq4392MdgLRanaWXvrPQnuxe39uql9APuUAHCht9w36yiWBy9WcBpwf6QqavDsYFukZei/QT+UzrO1PvxNpvQnp3jO1t9ZsvdTgeDtRQuhfroOLPtcxu+2hZy6WjLeMLVM9z6nFIRM1Lcvkny3WgYmHL/lB2HTisQrUHJ6lt4/sDure8ZyZjcwaUyj3TVrbMVjfPGPbDpmXeS/w+W4+9efqqFucX2os7D+pnDbDBfrvUN5XJ916fZ9/E70kmYHvyk3zlDLvcuh111guK275KO0cIvQOjYTjBi4NFfCD/1g5gMgSGJ4S5gIzURbch5bpIrJF3loVeHBb7X6kO5LFSR2tDYsn/8u17FjGG8olFZ9HoUPYQqNaR8pCTtJFCHHwYyMA6nGCUzjU62hmKA0LaPK+zHf6rRu116j1GxV0YhdHyYG2wMHvH/jdMpxpD4FuD0QIxUJ/RkApPLNogcKBBsLYIZmwYuUzDfhlnxP/0+L+qg+tTVfLRcCF8z9xNu1RxCRiR4XBBPs3f+hAzN0y66fb5DZ0ZBQUKAk6P6+yoGcoGAsX3UG1kY5FYnoVtGucX02nRGYN01ufl67brYwQ5FluDLNRyf1ZnR0Eph2KA9SK+o86DtgTvt1mjYIUuWm+kNNg5W6SKrF0wenWHOjEgXVSpbEvG2mYKrbQ9P16k3dZ123MfFFYjmPUUSk7WtR9O0GfM+XecKtCQMlud+2pQqQ+Vjn1bv2A78T8dZRLNYvSxtiu45qTgzAd0RDA6xi5YiwSC+gidfS8EISLg4IAMK219PS/SZxok4IaAW13STdrOY6E3wAH4pg5aQGcZOgPWjoEzAvGdsX251smQw3TUWTiB0/lddSYjxAlkiLYN6MSinUfbMlnbGLxiCOl2YHlwQSxHYpiJ66yz8BtOdrQL07TdgRjjkDkdDlbjfHhVdQqIToiwHOFvaFhT6CzQRTbobDvc35U6wplCAplOIJZ65v807CbiwutrZBkh8V6hjjCOzWy75dcFYOgULwfDmhqDK053oytHk7crdXANnBGIDf9PHYyBMHEf66LTaP0RlimSDA0O5MDM0iW2UJttnYdwu5CpUR7fVlrcFxsBt7aHf6hNJqgSWm2a6adODo7697JfHOqOYFC/Z8IeZ8Q1n1Zbo/9j1atNyGDMPMeMCLucqLO1IW+sCsxoQMggtJHQDdBm4j0x73g3PRfvkFPQF4QzAswQjhv1gV3asjHYj7N/x5qE6APgXcPAKbTj1TpwMUcb8SuG9WrpG8wKRhUYbRuAME5tGuZtRthxI8ODNjmEp41GwtVL0Zwb6hg4IxAVADyXBfWqA9SgDx0HEmv5hrpWW9uiLWPMNDDOCNgoUAb/1noaYajBF07tWOw6gzSEPQa6Qh+DPQk2EEQFwVOD9QjPV4d2KGnSI6BPvqUzbfFcYODiBerYMPIt1SEx2xfpIKQ9wmhDB8TziOeG0r4EWg9xat+8pPXVUXG9qC8qjHeFWumcrSPB8IeXZqk6Kz7WqVov6yKkxohSajMKrbIZ6hMNCQZhjLgeqTG3IX2KA8oSDDJtGZpW7wxMv8W9oUHroo2PkWjzP1sNTYsGlloVBoyUpmOIygKVEkJwGK+3STvTPp+Yv1F+riPfUXcixr6Jsw+PPhrRF1SBtoc8+IFWwKhmsf+K9xe3PF9P6zYo6MscBt9QPC2Ds2PNYBiFz9XREjDWOWO6vjJvgzxy9CBr5MYAbTwwawOOif21YYU8ojNq3rGFDMOUyv17FVnH/Wt5jtygI6yq1Yv/9OcadyfDBM6lU/sGZkahYX82ONr8dQ3HdcX4SivW7DkaHq2tMD7hkLl9FtBQ//mLNS3PzE/1+nCUoEE3cm5wdow9r9h3upbhqdoxPUJH0v5V0wgnCA0EgYLw9vI9Dk8z8qZGHSJOwWggrJNgpkw79+M36qDzdGQMBMqRmUmB3/GmjTRSRbroOj5wbGPqcZVOQcUIY9QNqDNDhetDvo/QEYr4CyUIidRP19+AoG1yTt8OdQ629Q2OUlqmynQ0Emu7ghBdU9WoWK+OLiiQR+iIphe+DBg5wQGzGCBYa8JLwWhOGEJG6tTkN2RPWCcvr8G0SCAaAm51yWjSDHUMnNG3zlhptcvY/6k6w28KriWGjpwJM4g269ljA2H3sD6Pc0YVOn5P2NqRh44YYBknVmiH+1Yd6Wb0lTXDe8rpVaVyYPfivXQKXB9hQUMJFrX+TNcIekmNEtBd+6vuDJ3CjNI8um9g9hZCmULHhNyn6w8ZXduk+faKrfK4hk9BvYK6JNRsYHMsP0kg3Qm4rWdQD3w/qA86R1o/rQbUk7Vvt0t1sVhlfnDUNZyWeL8RXjZaXTnavA0I9rv/o2uRvTh3T4g4hHwrC+o49vz31rCrqCuKVQ8bo3XfqeqshUzXmRLO+sWch/Am0NGwttZ3+3dtGZCD8CKU9iHg1vbwDw0/e7gaYxHK83mdjYcoA3bxsl9sTxff4Yy4W2dGwEayU/vh135W3RIeOVa9+l0dqPgDHVwGA+5h2m8z4YkQysnMhHxVj4GYfiRmOF7z/hJrG/57Xwcp3q6j8Adp/xADzexhk9Afgc7wvqYR6r1oy8bQcgHbF+TLOCZv0zXiDP9JizbJbw8faA3mxcj5h6dXyyx1KMpQCfQZ9T3GLHKUnZH9NdQQ6gfka2TQaWFft88cF+7TWS8ZvSPc8W1tv0f1JDP7C8fdf1h/S585sU8XS8eJtXxDhVluKx/RlvGQYHhcpHWnRkMw8qx+wQDW1WpPxLXd2nXOCQ6Og93vBtssOjxzmM1xuPZfn9HnzOiOuO58tWXdqzN0zXM3VwdOXqr9RDNYDsdgrVsIwtk/ZpvN+6TaC8bZBjBaB/G/pBOgQyKJyGFcXKbOh69Xdhaj+KABgIEPf99SQ+Qvv1hrxXiDgcnIbjXAJUugKEGM99+MCjEjRAN79/4/T6fjGcnT0c2x5v/Gj5dZo14QAgohhCAwICJEB/5WasiY2zS0lD0WoLluJnxCcbpGY7CfoVPZsNibKS8oJ+U6Ohje6n/q6I3nVWGCYCQi5O86ct2pCLyhDrBoBB77dRoT0C72BekwS+MovfYQrey7az666AgjPNcQTNOEDFRjHgSjI+zOCGxDA/5KsLOB35kscEQaTz0WqbfLP1TxxeJ3WGgXBne3SobbZ+FdHWVgf2Zm6kgTOCSwVggEo9ONcb97bo58Ww1KRvCuQjBixih7Zp/5/IGG7zKhgTC7xigSON5IY/PedZ/qtpbUqAIZSnD+bboIMa6NQ++3ObbiTTvU9dpzG0Yd/eHgfq2yAOfjHTpNNZxgFhzWA3EKuNZqPE1T54fwBTlPafmdG6yIEGc2GjHXcNuu4JnHM4np11BKjynvrA6JddYlj9A1JSAwPC6wxae1Nsb5n6ln1UdDIYF2J+BGl4w1s6t1tCEGExhZFJw9i9/v2pzHeB+Xq44AR0Cl6htOh8RkRzvylXYGUW/N1vTsHcq5m9WxWCXagQw4Fc11zWdghNzeL+AazScERolNOnKuVOv9E7Qz/FRQpzhBO/OQV21OSuR5jDpYJvbsJFU66KZUF7FHOAEjRarDbDA/+EkCGUrATT3TRWdJwlkAeWp+oE022ODcgBE3HrGre1jc3o2uXKKOg2jytlJnoKNu+npFV+1bdbDWzKnWegRGzFDrTh2jI63xZxeM0P2tTee078P3hyf2bbUJAz/uVzahQpq2OpA/EkrAa9tDIvrFXTXmPdYyQ4gvOCOu+WxFi+MdcGLVqzHw6AOdVQyd+iRtF41D4sRg2HAYcI3NZXDQpoD1oex9vnxbqKEe6mwz/Tnk60V18Dn7/dhuJJKNwRxnPjHQEYK+jnFG4Dfa9f/qtbDO3IDgepnWu6t9AvSbh+kMpqm19bKvOh7qtQ7ZpsejnzhanSnzdG0pfId8FYwIYP2I8J+zXopweJu7Z+rgDbu8rIOvYFQvV56QWMvXra0g2jJeofZMIzdO6CevaX4X65p90OviCXtp7KMvBJ1g5hp4hn6gZQu7Q6U6l+z64zS1T9ifuS+CZYgmydhLMGAOZY8ZOwg19b6uZbZcZwCjfcr0wc6GcXt+0iGRZPpYXwF/eEF6a6WKxX0P0U4RFuLE7IJzdQr6FdpxwnRZI1iQJ1mjtbDICwSdUQgWp4FgRHI4wyL2m8bIjKq1r5PhJv9oUGBgwh+m2ldopTO4S561RgWM7lin4mQN5WSPo4/rZ5IgXv5d+ofy6KF8+uvI6LHqFDhMp7mh8kVIhZfUmN2ocQlMPMJoZkKEY4jFiJ1GBnMsFrY9R0dl2wVGRufsZtOgrtAGgRKeQA9VNCFwCDoX19xoMyLD6edGyUB9E++z4HQA2EeMHaozXET2hOeybiL4X0djzbVt/L6OtEVILwimp2I9AiOoA3D/OC1fFypzSkHw4drbNBUIFXerKkYYpQN58Et9dm2hi+JJ25mPVPmNUFmIV4wYsJAZOlMK6zWEk2cWbAj7PuOcVbowHwRKn1HkrA1t/LdGRz7i+uY9b+NQa1es7YpJd5Iqvug8IawhZl/BcHqMOrEhmK7rtXQJxsuHwYJCAqlAIFpd0qu82nU6Z5oYARmthDt2d6MuPK8SHMuwV3J/sq1HtdfO4IZXV26Rs3TQCoyE0BGxkKNxTL+psyiMXHNAX52JEZixabbtFb/Z7OAnCWQwgWjrGfTzINDd7IYir9CVBUMboabZqrrwPj0Cszyj0ZWjzdsLWkdcpgZAhG06Q2dr4Q/pv66Gwr+r3uTUyVGXVWteuqnuA4MnBEY5GLjCyeJg+FBjdINR1T4qOtx53J5YAl7aHhLVLz6ox54262kdxOUcjR+PXv2yDmSETg2HXEVpkazZtksC/TqR/wTDpaE/AFsQBO3q9/T9CCVYDN4ukbSDtmwM9nTM97JgP3l1sK9ituPThPQtsuVhuhqnj1adYF8NNwVHBPqWCMW2cMduXaegmxyh+2C7giBUUlvvr3WQ7T9nvWTbFffXWlQ+KtlBpcht+eLcaGe541iImzLGwtzVu7pbDrIxpQWCP8hKtRs+pfVlLOvb4vpmoOMaXWzaKbAvYX+kcON1IQZyv66zaI/UqA0YfILBuybc1EwdHPOERu5YqU4pSvsRoEOindjDmAhDGf7gjT5RHRHw/FVicStV7FCJQNnBizdOO05mqnkiswsD93465R2CFxSyavseA8wANXrPDzPydIyuVWAdH3RkoEKPN/9gMBd/a8QyWF6vo54xJf8Ana73lHW1zP4PChRG1eDvI431/h8tn4cOrLRCNI3UkewzbN72oA7hKTA0HAg7BsGiVU/MX6/e5l2WodyEFzIXrA02DmaUktke7jOcUSLc8emy3YwYD3X/9vi72R33jObEvRuFJRwH+0JtsT4LTqXS5BXX/JmG3qhHYG6HQJ9yOk4uHVdhKb44FOE87FMnzemIOQ6Ft5s6IJ1iRrJu2R0wYJn9mMqM0UMI24PrPjR3bchRD7Gkba6Rap+I737rR0utbN10UD8rVjocPYt1RN9kx8Ku0eZ9pc0ZPlydnDO1gx1Jlmk7AYfEOK2fMV03ksTarph00Q5t1SkcWNPkaL3fd3SHmVH3ThT5NelE84mZQGba+mzbopXRnMtjSCDRBKLRJU0eIrUT5rhQnxjg4IU42xGTJurseAVh/85UhwSc7+N1lsTBPQKjl6eqQcJ0zEdoqEvjjHhHw6S8oPXkRjVMQJ965rghLY77ePPC80kgnQhEqmfMTP4Q4088wTAx+C4jbAfeVaN/RqMrR5s3OF/m6oCOb/YvlREathjGWdwPdKoy1S/v+nRZq3t5ftkmq2+KBYYfmtjPmp11w+gyuUr7weFmPFwbDHPzzWE9LOcpRrv/dFzlXosJt7oQfySVgBvbg/N5T2S/2A7h+xrCEOGI7INV49GrEeIVzjEM/DxBwxzO25Zn9Sth4DcOM3s/EuvDhFunboVtNqU9z159N+9zbnBwmj1dY2vItVUMWJ8FDolRajA3jorJGnJ66dZayyGBdRq2a58TMl3ffzfirJfs52INhXgEzhOIScZt+WK2uFMi5clNGaMevvzdRXKUPosTNNTmUB08jIHVGDj8M60HL9fQ29XBNTyQD1uROLPV8tt+fZtPqWW/cdKEKvuWg/RLKH0SDrwLdLHyEzU8GUKDDtTwxNCJscbYvftXylmTuKi1nWGyv7e2aiX76hl0PcTUO0SVnHAyXw1LRrKCtc+c4LYTdQFjxKkMJXAiHKtrAXghV6uh0BhepgVHFa9XwxamBkJ+oE6TUIJ4noepZx0yG9Pug+I2/wPViI5FcsLJAs0LxIQHCXdcOm/HwrNQeELJCtuiaGh00FggRBJkvBoWvZbB6gAxze1d01fKwnU79jI+m2tiTQjIAB25Hi7/5lh85jkM7vZ96fx9XXAGCbgiHrddBuvoDiNm+rhpdLsGR3Cb/c7PRDwLa4IjvXAthOiCQuv8s4f8QF1180H9WpwRf9fpmKGcEUjPhOEY07U1gyp1RppwYOuDzk8cD6PxgwdXWc4ILJR6q8aHDDcF023aSN8Pcs+UFdbIFOT14n16tlmXtnU/UNpMnX+hpoNyCyX2Nm3O1oAS31c75kfYFj13nneQzm7DefG0KybNd7RDAUE82BOCC6tjdJNz1Jg5PpZPy8mliioEnYNFNuU6lvR4DgnES8D+3oVKK5QuGW07ESo9P22DIWlKcKr+2RrPHot0Qv6rI+OMjA4OuoFu9IjGmMZsMrSPFBIggT0E3NYzRndFCm314/ZcIfpvJ+nCpGa09mfBMHLmetHoyubYaPKG0DSYjXXl5MVyzjuLrMVUcd7o0kCYmFC5xsyJm6eutJwk6J/ePr6PNbAw1LFmG9aoeG9tYN0I3NuptpCn5hh+JodAPLaHXId+nMh+sbVug+r5GOwJw+89B1RY+rShFK9ejXBHEKz9d1rQXoXZQUbQTq6vDdgUcrSP7uzvmd+Jbk9XBe0JmAnv7J9gnTeIifKB718GdYKe2k+eoLNM0EecreF60I9eru8ujNJmtPx0rDkRpYSql3CqmW3RVWdwxyMw8kMQEhPitnzf1Xs0YnTAkjD2I3NcLGWMUEpw1p4zab5cN3WFbA/qU/vZZvQg/WjsOrj+pqDdalRQVzN5w2BtE1ZrtW3gnNkfzSfSR0SGGz9YIqe/Nk9+/dU66zQM/sZse0r7EQhtaWi//KTtlftrSKbLh/WU3x41yIpdC0MHBJXpPlr5XxJURrBgq5nu+gcNN4KKDf6JX+rIdywSYwRG3bEVXeThIwbKhYN7WAsdmX2RPqEw4brIAxwdh6oB6YHDB1izD3AuDIUmBjdeXkwNhKDy/7mOAkGlYGSYxt6794DAqHx4Lv+q056MuM3/oZrWXeP6CEb6wvBoGhpcb4Iask4JxjOct6XWXCKjPlFeF6hD4k9HDhQ4JtBhMIJ4lVcGDWfYtijozEL4FggWjUJZGcHxd+sCjqOCYU7MdjefxnuPc0YEGx6U2fHquMJaB3b5SvOBBhEzJC7fr09L2eL4k3WRovt08SbIluBUZywWBkcXJBoHhnVgGvyHGIhYpBNykdYX5t7xDpwXdAginqeRtUFeh6lRFqO0IFCubxhTbg5p+fT6WYDxpzroFLhiZK9WDhTkBR0sPGMQlPP9+h3xGyFPLNog/9a6Atvtf9ZO/e8tDeMEwXOEsBsQHHexMoFAiTQjg/Cc/FrrDITvwXiSn+v6CfPW72iVLs414iZtc44fPlFX/1w7KxjRhDbj5xoj07xD9vyXaj2CusT5Z541HPtHne0EAdP7DqkS1BdG8CxCEf+Dbj9V62UIFvHD6CoInCGILWuY4xPOtTsP6S9XDdfnRMMUxtOuWBfR/95aEXhGijR9jH6CvKGLcscqCDuIvOL+ytX5dwra60OrLAaou7B4nnO2T6zX4nkkECuBWHRJN+1ErPlK9HloU5x1Fn6besZcH4tbQzBKD85rOB7mBp2X2A5jBASzq7BYLQTv/I+0vjRhDa2N/I8EMpiA23oGuuva4KLVP9G1XLoEw2YCIfqqfzxmsPX+RkKK9xm6CN5N9E8wM/684GLZmBH6Tw3nC3GjK0eTt066BsYT/zfE6o+YOgUz/ddrzHkIjJZ2HcnaaPsPjs17dZ1ISBcN33Tr/hV71U22w62vv9X1ELEYK+R0DX+DARuU5BOIxfawVddbgxymIbeN4LlJRL/YpD9XR/TD6H+TOtLRjuE5u0ttQ2gHIfHq1e9pyDLYnNBPN4NTX3fE8Z8SdAh+S20K9kG2uPeJ+vw+fPSglvyYfHv9iVlM0MlhRD5vZFlL8uj7Htc7UB6YFWEEDsNVwf4JtmGdF7CCOI32CzaEXlw+2noJaa4PhjqvUr0CtiwIBs1dvX/flnBE1kbHf+W2gcdge0RZwCHxwbqAY8FN+eI5fEUjZxgxdfM3dK1aiCmvs3V2g1OiLWPM8rpVBwLa+4fLNu2SHK0rISXBMHZu7TrTgmV3qua1V9DBhPxeNKLM6tvCIYdoHG4Feb1wTO9WNswlNnticTC/btPl8d4Q2DsehjfpMpUwBDAd7kaNnw7BS4VFagKvbuCE+2evDXzR/+G9fUzjsP1IHQ4wulynFW+TvpC1trUBWg7WLzBSn6LrB5jQFZdqfP8z1Nlwua5SbzekYEGXv6niFUoQQsW5+NjbGlIKnlrEhxutxr8n1HkBQYVnFuBFI/Y79TTaY++5zb/JD6ZP7Rc0roMRGh0jcNg8NncPI7M9kz7RaYZjAn8oAxgfzahxcPi3xns0o4SfmrtO1ygpthjePra3bK7vJeiPY+FHSL5tMXJrg4v/lmqoKBN3+Vp9LhvV2IiF4PaU1p7E4GR7QWNUYn0LTI/8y7GDrZEWMHhC0V8X7Mis0A6Hea5+e1DflvQu/Xh52CnQe66SHt/+qN77W/YrtxyAfz5ykL7vGA3TwXrXYEr5g5apkamqnH5NFyHDqIEnjxhglS2eh1CSiGfhIe2APaAOSTxP+EQ4pI76BMDYAzEzdPJ0bRqEozOCDqbpZJpt+Lzi0xWCmT4fq1EJU5KhcN+tTkpFIE3qbsCzAvmHTdGqUMecqSOwF05Np6B+Ok1HQ0DcpO1MJ9V/o+P9ixkr5d7xFYF3Xj+v/GhZq9jHmEobTs7WEYGowxECboLGaJ6oyjRmPSAUHN5LqPDhwq79UmO236bsMXILsWXxh5kWhdp2hXokY21XTN5hAFihDjHzXOHd+CCEQ+Iq7QSM1vALRn6rTvWvdBTkHR8vM5usz+9q3YQ/pyDd++esaWXUdB7D3ySQbAJudEk37USy7yPa6z2l7VsoQbzin767sGUXnA8b63q1jKR7uXrP7AgcNFVncp6m7znaksfU4QjDjmlXWhLhFxIgAYuAm3rmN3PWyp1j+1jhGx/TASjQ6xFiEzoBxB521NoQ4r9wfVOsvXDnZ8tbneFGV46YN1WckddzVe/EunhYFwvrlZm1IV7SUJD2fnSrjAR/zNL1H58ozrF0W+hN142vlDs/aa1nOM+7fWq1PKSDO9Bvv2JYL1mnxtNFusAwJfkE3NgePtewRPuokRmDpg4+cailH89QY+yvZq70vF/sJIFQ33fOWi0379vbchwgVO0Nqufj+YxHr8b5/9Nn74hgxIvP1ehrBsiaPPxF7S8T9Z7RN8Mg2x/pQLkatdMYuxOOw6wR9+Zic4XIn8gT3sdvVHa2Zjagr4J+L9a3QF8DoYpeUtuZXaaqI+Xr2leGTLatM/fByu1W2CZsx3p8xlGB33ZxUy/NV4cJQsph8O8DastC/9Nuo7Gna/+OfhZsXnobLToJ9Js3F2xsOSya8sXB932xplXZfabPTIUOah6rC3s/f8JQK3wSWIWSaMsYMx5G6AAz5BsD4Tark6639vNxr7BbvKQh8CBt2XVCXn/eBmvmO+yesAOZQXZm/ZKnF2+IWBeHSjdfy+NYDdmJvw36rDdoHjH4FYLZR/YF0kOdz22JJRDQEhJ7DaauBL7UTtDjCzdYD70BAiMaKgQYPDDq+erPVuy1VgTWl/iJGk4wMgQdJ1S6ZhQXfmN6+i0zVllGpGI1AtobBVQK3dUQmBUMfwPjsV1QScJgiEoYjojLP1kRNoQKlKrf66hZY2BEOnBG6PtsjfCAwThUiBQ3+f/Pks3yTzVE2q9hDI3I62Sd3nrph8uskTH2+8iU7zAUPqCzZqZrHHNwh6AMTEMHDzj2PxscpYP9OOcnHy0VKEo4B8o1jMc4fZqmszAYYsvEZDQLS+JcE6O1VhvIUALlBaOGEcsdgnzgecZ6EsYbbz/379pZeVhHxWM6HwwA6OjgE0bsl4OLZiFNLESMRtnu3DD3a10oTf6DYxFiYl6a28J6Mbcq123KFc8/jPsoZ0yVvUbrCPvCS2hA/xUcEQr2epjF7rWgYdbEW0Ta0T8LgfJ2LgpVGxxRYi9ThGS65KNlVv2Fs/B8GWcEngEzBbi+obHlmUVewkmTvucQKIVXaLpmAUDcF54VPBe/UoeMva5x8guVtv0RdpN2qLSSsc3c0+4gc+c1TV0eaj86K2AEgaPqXF2kEWLeZ+tHiP/wjtnjxD+osy1u104PjP7Yh2fQOCPgaHhD24y7tO0xgoXvL3xvibytyr7JHxRKPJco1QXazvxGndZYCM1IrO2KOX+SGgCMzNIOonPRSewrVacn8mEE75R9KvWuhsAzZ/bjncGzi3oMcXJ/8N5imRJ8x8wx/CSB9iIQiy7ppp2oDb4PRicw94nYvtDDnPUE9qNetj5t9ZXZ5mxHTN2wy14p68km3LHZj/TMNnwPJw3NrfVaHPdK0AmBvL6j60rYBSNMoYvjXiBoV3CcCZ+CbbuDDLCQt3W/wWOxj0ICmUAglnpmnoYIQcgO6Axo9zHKGs4I6B7QF3Zpu2p0Frtu6nzP8WaiX4EQjFh8Fvow1l5wGgvd6MqR8rZ9V528qnpzoO8hllMF+ize/zdVz35W+yVGjM7grCOx/xU1pmFtGggG8WHUuLm/UDoY9PKbplS3XPfa0b2tc/lf8gjEYnv4txq8oXNC8IxAP8Zzm4h+cUt/wGbDma3v06+CgzOxbt5Z6swyEo9e/bJtRsR/dMaEU3B/l/5vqfWMwwaF99vYnTBgFLaknfpMQ0xbbu8z2tMz70O4/eZY857Z7RPPzF4tz2j0DrTj6HPCmYg6Z47a0tB3dNYVM4IzO3D857YZkyZsE641zRGS1by3Jh/R1kuWreaLgB0D58I2gmcE9YvRO0LdM/ihf4I7wXEfqnPomg+XmMu3fIYrXxyANGDLm+FYS+957XuZtWHRnwYrRGP4JBiiyug8SCPaMkZod9gPIXAWYM0d3Ctmy9+hdbZZt6stu06o9gD9uEu1DJdqFAbktUTLF+mjzcDA5zdsDppwz5ixOYCjWZcC9bgJOYZn1jgj4Hi7a8Zq6z74X/sR6NCs0n6XT+yVL7nkEnnkkUfk008/lQMOOCDmi9129zL52z82Sp8f5UpxH7zG8QvC7RTrC7FTazynB7qt1DG1vESVPLfntZWm232YtlqoeUDFg3ibbiTa/GN6VqeCXCnUimibKrGmYnNzrbaOnXdnnZSV58g7/x7Z1mFt7tu4qV4OPWa2dBmRI72+u8fg1eZJHu5ECINidTihwt2yM7xn335J8IehHwqDs8G2H+f2O6YjQtC4hDIKOtOzQi1ow4sOPxrvUGKOQSfGy7yGupbZtvqDRtn2ZoM8eG8/Of7YvacymuMifXpVZ6C8sIA1jDptccU7WZQXmIEABSsaScSzgGn2WANnm3buoIR4IebemlXdd1NXRnNtN2mnQ50RDZNwx6Bsc7XzUVMfXX2M97eLjpbBs7tVFcxI73A87Uq4PCdju1d1hld5PfPMM+W5556TefPmyZAhoWdCOq/1/PPPy2mnnSb33nuvXHvttc7daf3bq7q6vSC50SVNfYe8RttOtNd9Jfq6pr7Jy8qSzTW1nrVXic53W+nvWNksKx+tk0NOKpFHbx/U1qEZsa+oqEiqqqpkzpw5cd3viBEjZOnSpbJzZ+wj101/od9++ZJ/iv+63W7qGcBGHw4zY7GeHWZuJlqi1ZWjyZvRXdCfgaMiku6S6HtLxfQXP9sg9fN1RP1bo6Rb6Z7Zz27z+rVTv5TqlXVS9bPY03B7zbaOd2t7QDuCQZ8d9Tl39tES0S9uK++h9pl2LhZ7Taj0nNvw3hXmZMs27ceH68s7z/H6NzjDDlKjtgKv+p1e5BHPUme101g2mqDh3pkuQts9HgxtfPob8606Ewb0aFma8r1AHVIHavQJOHIv1Bmj4eosU0826IDIaO1qkcrYvDPoH0Z6DtzadXB8vjqGIV7prGDWRcsFTiIvbRXOsnXzu1kjwM2/vVZ6Ds6RyX8f5ebUvY71Ql/ZK9EkbGDIpiRADnUJKGitx22FOmrvbahAoq1E9j7bmy2o8GOt9KPNPypTVD57IuB5k/d0SgXKj1MBinR/iXp23Dqmomlsozkm0v36fX+05RXLOxlt2m4YeqUw2K8Zy73Zz2/reyLTbuu6ftzntmzx/rp5h1kWfnwqmOf2JuBGl+Q7tqe0yGIPC34jgUgE3NQzSAt9uIaGwGKskdL2Yr8bfTZS3tzqLl7kn2mkBgG3tge0Izq3OGTmE9EvDnmhNjYmup3De7ddkveeh7pVt5xDpZGIbXiW3ObNrU3HlO/bOjMFDgnMFnlWQ2Kv2d2o4XI7yMM6W36mbbaEm3rSMIlUxuadMce39emmT4h0ElEXg9m6ukQGFWuLAPeFI5D8Yd3hcsLtJEACJEACJEACJEACJEACJEACJEACJEACJEACJEACYQlM1zCVCGsOwWyYPgXZVghlrOFHIQE/EOAMCT+UEvNIAiRAAiRAAiRAAiRAAiRAAiRAAiRAAiRAAiTgWwI7dL2d/+oMBiywjJkG8cjvplXLP7oUSlXnPA2vq6GTdd3JuesDTop40uW5JJAMAnRIJIMyr0ECJEACJEACJEACJEACJEACJEACJEACJEACJJCxBOCEePpz7xZUXrulRvBHIQG/EeBcnihKLCcnsJB1w674vJdRXIqHJIFAM9ZQrmuWDoF1cmK+YpZ6oCHNtf5boC7mm07zE5v0uYBk6+JM8QjrjHjopd65rDNSr0xSJUde1Rmpcj+Zlg9TVzfuZjueaWWfbvdr+iiN8akv6YYlJe7H9BfqWc+kRHkwE/ERaKoN2EPMcx1rarl5HaRW07J07FgT4XkkQAIk4GMCjbWBzDcH7Yo+vpWYs061NQp0o0YUWkftWhXFwTwk5QlsXxUwPAwbXhBXXrt0zpYBVXmyY3noBa3iSpwntwuB3dWBy44cURTX9VlnxIUv5U5mnZFyRZIyGfKqzkiZG8qwjJi6OmcTJwxnWNGn3e3WrAzotmNGxqe/pB2YFLgh019Yv7h9F4BNARTMQhoQaNR+dHF5tuC5jkdGDQv0w3es5oCAeDjyXBIgAf8SqFkXcPD2H5jn35uIM+d0SEQBcOSIYuuo2tnqxW+I4gQektIENk0LOBAmjO4Udz5HjtocQKsAABFnSURBVCyURh1Vv+YTOiXihtnOCWxfoTEcFzVKcfcsKeuVG1duWGfEhS/lTmadkXJFkhIZ8rLOSIkbysBMmLp62/R66ncZWP7pdMs7vgh0ao8Y2zmdbitt7gX9hXr2F9KmPDP1RtZ+pv1djTTQa0BO3AhGBp2nNTPpkIgbJhMgARLwJYFNMwK627Ah8Q2U9uXNBzOdEQ6Jxsb4jMVVffPlnDO7S616sBY+xtEtfn7gl/6rQWpnNUrvoXly1qk9476VH59fLphyuvX1BtmyIL7nLO7MMIGYCezeqE6l1xHLS+SCi3rFnI45kXWGIeH/T9YZ/i/DRNyB13WGV3mMV9/xKh9+ScfU1VtXNciyPwXaAL/knfkkAUNg4eN10ryuWUYfVyQjBwZmdZt9/EwNAuwvpEY5MBexE9i2tFm2vBXo6/70R71jTyh45qnf7CHj9iuWLdPqBbo2hQRIgAQyiYCxMXQfnCPXnl2RSbfe6l7jm2vXKqnU+1FZWWllqro6GIcljixef1Vf+eTTHTJ/4W6Z/3CdlIzJkoKyDpKlxmhKahNoVt2pZm2T7FzYLPVfNUoHfervvqGvJ5nup86q66/qI7fdVS1r/9Ig6/s0SumELMnrlhG+Pk8Ytmci9duapGZNs+z4UB8StUWNO6ZYLvhWmSdZYp3hCcZ2SYR1Rrtg98VFE1lneAHA6DtG//EizXRPw15XL3i4XjqN6Uj9Lt0LPQ3ur1HXL9u1tlm2z26UJg3XlFvaUR6+aWAa3Fl63gL7C+lZrplwV7Ubm2TzlEZpXB6YyXD8uV3lmFHezMS6/uo+8r3z5luDBRdrLPXiwR10jccOUtCT9pVMeLZ4jySQaQRC2RhuvKZCMrnGS2uHREVFwNNkOujxPvAv/HWY3PPAcnn27xtl66QG2Rpvgjw/6QT6jymQX99cJYOqvJsWdbrOtCgry5W7HqiW6uV1suEFjvJIesHGe0FtBS64rJdccW6feFNqdT7rjFY4fPmDdYYviy3xmU5QnRFvxqHvdO/eXQoKvGvj4s2TH85vXVc3Ub/zQ6Exjy0ERh1dJI//YpB0Kspq2cYvqUfA9BfueWClLF9ey/5C6hURc9QGgbyuHeWKK8rlnJPjn0luLjNieJH85+/D5O5fVssHH26TzV+ZPfwkARIggfQmUD46T351U38ZNSizZ7bSIeHiOc9Sj/2N1/WTb32jh8ydv1PmfFUjO3SEEiX1CQzRhWL2HVYs48fEv25EqLs94pAuMvGAzvLJlG0yb36NLF5ZK018NEKhSqltJV2yZOywIhmxT6H0rcz3PG+sMzxHmrQEWWckDbWvLpToOiNeGHBIjBo1Kt5kMu58Z1391bwa2bqbjXjGPQg+uuFs7cHtM7hAxg4vlpFq1KP4g4Czv7BM+wv1rGr8UXgZmssevbJl7NAiqw9d0sl701H/qnx59LeDZOqM7VYfet7CXVIbCKueocR52yRAAulMoH//XBk/olPC7JJ+Y+d9q5JCBEzIgrlz53qaq2FDCwV/3/q6p8kyMZ8TyM3tIIcd3Nn68/mtMPseE2Cd4THQNEmOdUaaFGSK3MYXX3whWEPC6D4pki1fZcPU1b7KNDNLAiTgKwJs+31VXMxskghg0GCiBg4m6RZ4GRIgARIgAZcE0jrQ/cCBA2XEiBHy2muvyc6dO12i4eEkQAIkQAIkQAIk4A8Cr776qpXRE044wR8ZZi5JgARIgARIgARIgARIgARIgAQykkBaOyRQoqZjDqcEhQRIgARIgARIgATSkYDRc4zek473yHsiARIgARIgARIgARIgARIgARLwPwE6JPxfhrwDEiABEiABEiCBDCawYcMGmTx5sowfP16qqqoymARvnQRIgARIgARIgARIgARIgARIINUJpL1D4qijjpKKigr585//LAsXLkz18mD+SIAESIAESIAESMAVgV//+tfW8SeddJKr83gwCZAACZBAeAIFBQVSU1MjTU1cZTc8Je4hARIgARIgARJoTwLQVQoLC9szCzFdO+0dEqByww03WHDuvvvumCDxJBIgARIgARIgARJIRQLr1q2T+++/X0pLS+Waa65JxSwyTyRAAiTgSwK9e/e28r1q1Spf5p+ZJgESIAESIAESSH8C0FOMzuKnu80Ih8TFF18sI0eOtGZJTJ061U/lw7ySAAmQAAmQAAmQQFgCcEbU1tZazoiioqKwx3EHCZAACZCAOwKmc79o0SJ3J/JoEiABEiABEiABEkgCgaVLl0pdXR0dEklgHfMlzCyJ6667LuY0eCIJkAAJkAAJkAAJpAqBt99+Wx544AFLAeXsiFQpFeaDBEggXQgceeSR1q289NJL6XJLvA8SIAESIAESIIE0ImB0FCxX4DfJiBkSKJQzzjhDzjzzTHnnnXfk/PPP91s5Mb8kQAIkQAIkQAIk0EJg8eLFcvbZZ1u/77vvPsnKymrZ5+ZLv379rMPnzZvn5jQeSwIkQAIpSaC6utpa96Fv375x5+9rX/uadOzYUV5++eW402ICJEACJEACJEACJOA1AeOQgM7iN8kYhwQK5plnnpGJEyfKn/70J7njjjv8VlbMLwmQAAmQAAmQAAlIc3Oz5YxYvXq13H777daAi1ixjBs3zjp12rRpsSbB80iABEggZQh8/vnnVl5Gjx4dd56wQCQGtcFh++STT8adHhMgARIgARIgARIgAa8IYLb8m2++KUcccYQMHTrUq2STlk5GOSQ6dOhgOSXKy8vl5ptvll/84hdJA80LkQAJkAAJkAAJkEC8BFasWCFHH320fPTRR/LDH/5QbrrppriSzM7OFjglZs2aJbt3744rLZ5MAiRAAu1NAHUZxAuHBNIx4fAQHo9CAiRAAiRAAiRAAqlCAGsJQq6++upUyZKrfGSUQwJkBgwYIH/729+ksrJSbr31Vjn33HNdAePBJEACJEACJEACJNAeBN59911rpic+zzrrLHn88cc9ycb+++9vpXPLLbd4kh4TIQESIIH2ILB582b53e9+Z11633339SQLcGzA+Ttnzhz2Gz0hykRIgARIgARIgATiJXD99dfLpEmT5LjjjpOTTjop3uTa5fyMc0iA8mGHHSYffPCB9fnUU0/J4YcfLujcU0iABEiABEiABEggFQlgnQgsVob46JjhiTCUXglG/vbv319wjbfeesurZJkOCZAACSSVwBVXXCGrVq2yZsKPHDnSs2vD+Yv+I/qN1113nWfpMiESIAESIAESIAEScEsAMyPuvfdeGTJkiDz99NNuT0+Z4ztoHOLmlMlNO2QEMySgXEK+853vyA033CBjxoxph5zwkiRAAiRAAiRAAiTQmsCjjz4qd999tyxdulRycnLkiSeeiGvNiNap7/n14osvyimnnCKjRo2yrmHWlthzBL+RAAmQQOoSePDBB+Wqq66SCRMmyMcff+x5RpcvXy7HHnuszJ8/X775zW/KQw89JFVVVZ5fhwmSAAmQAAmQAAmQQCgCjY2NctFFF1mz5EtLS+W1116TAw44INShvtiW8Q4JlBJWJUdn3yivJ598spx44olywgknUNH0xWPMTJIACZAACZBA+hCYPHmyvPrqq5aS+cUXX1g3dtlll1mDJsrKyhJ2o5dccok88sgjVvp33XWXdb2EXYwJkwAJkIAHBGbMmGGt84CFHbEINT7hlEiEbNq0yQrbhL5jp06drJkYiNuMdQopJEACJEACJEACJJAoAo899pjcfvvtgvUEDzroIHnyySetGRKJul4y0qVDwkYZ4Q/gmJg7d27L1vHjx1vrTlRUVAj+UPiJUnJbLsovJEACJEACJEACGUFg586dVhgm6BcIxzRlyhTZsGFDy72fc845ghihw4YNa9mWyC9QbjHKGIY3hHHCTAkzW2Ls2LGJvDTTJgESIIGoCKxfv16mTp1q/SEML+TUU08VhDBIxqyFO+64wzIK1NXVSX5+vhx//PFy5JFHSu/eva2/7OzsqO6DB5EACZAACZAACZCAkwACGSEEJf4+/PBDef311wXrZEHQT0O43XQQOiRClCJGI5qRiRilSCEBEiABEiABEiCBZBDo1auXNUMTszQxW7O4uDgZl211jdWrV1vK7iuvvCLbtm1rtY8/SIAESCCVCAwdOlSuvfZaOe+885KaLRgJ7rzzTstIsHjx4qRemxcjARIgARIgARLIHALl5eXW4tXQd5I1SC0ZdOmQiEC5tra21chFKJ8UEiABEiABEiABEvCCAEKMYAZmZWWl9QmHRCrJl19+KdOmTZOvvvoqlbLFvJAACWQwAThqMXMLM9kRQ7m9ZdasWTJz5syW0YxNTU3tnSVenwRIgARIgARIwMcE4ITAzMvhw4enbZQeOiR8/IAy6yRAAiRAAiRAAiRAAiRAAiRAAiRAAiRAAiRAAiRAAiTgFwId/ZJR5pMESIAESIAESIAESIAESIAESIAESIAESIAESIAESIAESMC/BOiQ8G/ZMeckQAIkQAIkQAIkQAIkQAIkQAIkQAIkQAIkQAIkQAIk4BsCdEj4pqiYURIgARIgARIgARIgARIgARIgARIgARIgARIgARIgARLwLwE6JPxbdsw5CZAACZAACZAACZAACZAACZAACZAACZAACZAACZAACfiGAB0SvikqZpQESIAESIAESIAESIAESIAESIAESIAESIAESIAESIAE/EuADgn/lh1zTgIkQAIkQAIkQAIkQAIkQAIkQAIkQAIkQAIkQAIkQAK+IUCHhG+KihklARIgARIgARIgARIgARIgARIgARIgARIgARIgARIgAf8SoEPCv2XHnJMACZAACZAACZAACZAACZAACZAACZAACZAACZAACZCAbwjQIeGbomJGSYAESIAESIAESIAESIAESIAESIAESIAESIAESIAESMC/BOiQ8G/ZMeckQAIkQAIkQAIkQAIkQAIkQAIkQAIkQAIkQAIkQAIk4BsCdEj4pqiYURIgARIgARIgARIgARIgARIgARIgARIgARIgARIgARLwLwE6JPxbdsw5CZAACZAACZAACZAACZAACZAACZAACZAACZAACZAACfiGAB0SvikqZpQESIAESIAESIAESIAESIAESIAESIAESIAESIAESIAE/EuADgn/lh1zTgIkQAIkQAIkQAIkQAIkQAIkQAIkQAIkQAIkQAIkQAK+IUCHhG+KihklARIgARIgARIgARIgARIgARIgARIgARIgARIgARIgAf8SoEPCv2XHnJMACZAACZAACZAACZAACZAACZAACZAACZAACZAACZCAbwjQIeGbomJGSYAESIAESIAESIAESIAESIAESIAESIAESIAESIAESMC/BOiQ8G/ZMeckQAIkQAIkQAIkQAIkQAIkQAIkQAIkQAIkQAIkQAIk4BsCdEj4pqiYURIgARIgARIgARIgARIgARIgARIgARIgARIgARIgARLwLwE6JPxbdsw5CZAACZAACZAACZAACZAACZAACZAACZAACZAACZAACfiGAB0SvikqZpQESIAESIAESIAESIAESIAESIAESIAESIAESIAESIAE/EuADgn/lh1zTgIkQAIkQAIkQAIkQAIkQAIkQAIkQAIkQAIkQAIkQAK+IUCHhG+KihklARIgARIgARIgARIgARIgARIgARIgARIgARIgARIgAf8SoEPCv2XHnJMACZAACZAACZAACZAACZAACZAACZAACZAACZAACZCAbwjQIeGbomJGSYAESIAESIAESIAESIAESIAESIAESIAESIAESIAESMC/BOiQ8G/ZMeckQAIkQAIkQAIkQAIkQAIkQAIkQAIkQAIkQAIkQAIk4BsCdEj4pqiYURIgARIgARIgARIgARIgARIgARIgARIgARIgARIgARLwLwE6JPxbdsw5CZAACZAACZAACZAACZAACZAACZAACZAACZAACZAACfiGwP8Dkps7Ebp0CncAAAAASUVORK5CYII=)"
      ],
      "metadata": {
        "id": "muVby_kg4UBk"
      }
    },
    {
      "cell_type": "markdown",
      "source": [
        "![изображение.png](data:image/png;base64,iVBORw0KGgoAAAANSUhEUgAABiwAAAQ+CAYAAABMYBfBAAAMPWlDQ1BJQ0MgUHJvZmlsZQAASImVVwdYU8kWnluSkEBoAQSkhN4EESkBpITQQu9NVEISIJQYA0HFXhYVXAsqImBDV0UUrDQ7YmdR7H2xoKKsiwW78iYFdN1Xvnfyzb1//jnznzPnzi0DgNpxjkiUi6oDkCcsEMcE+dGTklPopF6AwB8FMIAuh5svYkZFhQFoQ+e/27vr0BfaFXup1j/7/6tp8Pj5XACQKIjTefncPIgPAIBXc0XiAgCIUt5saoFIimEDWmKYIMSLpThTjqulOF2O98h84mJYELcDoKTC4YgzAVC9BHl6ITcTaqj2Q+wo5AmEAKjRIfbOy5vMgzgNYmvoI4JYqs9I/0En82+a6cOaHE7mMJbPRWZK/oJ8US5n+v9Zjv9tebmSoRiWsKlkiYNjpHOGdbuZMzlUilUg7hOmR0RCrAnxBwFP5g8xSsmSBMfL/VEDbj4L1gzoQOzI4/iHQmwAcaAwNyJMwadnCALZEMMVgk4TFLDjINaFeDE/PyBW4bNJPDlGEQttzBCzmAr+LEcsiyuNdV+SE89U6L/O4rMV+phqUVZcIsQUiM0LBQkREKtC7JCfExuq8BlXlMWKGPIRS2Kk+ZtDHMMXBvnJ9bHCDHFgjMK/JC9/aL7YpiwBO0KB9xVkxQXL64O1czmy/OFcsEt8ITN+SIefnxQ2NBce3z9APnfsGV8YH6vQ+SAq8IuRj8UpotwohT9uys8NkvKmEDvnF8YqxuIJBXBByvXxDFFBVJw8T7womxMSJc8HXwHCAAv4AzqQwJYOJoNsIOjsa+qD/+Q9gYADxCAT8IG9ghkakSjrEcJjLCgCf0LEB/nD4/xkvXxQCPmvw6z8aA8yZL2FshE54AnEeSAU5ML/Etko4XC0BPAYMoJ/ROfAxoX55sIm7f/3/BD7nWFCJkzBSIYi0tWGPIkBRH9iMDGQaIPr4964Jx4Gj76wOeEM3H1oHt/9CU8IXYSHhGuEbsKtSYL54p+yDAfdUD9QUYv0H2uBW0JNF9wP94LqUBnXwfWBPe4M4zBxHxjZBbIsRd7SqtB/0v7bDH64Ggo/siMZJY8g+5Ktfx6paqvqMqwirfWP9ZHnmj5cb9Zwz8/xWT9UnwfPoT97Youx/dgZ7AR2DjuMNQE6dgxrxjqwI1I8vLoey1bXULQYWT45UEfwj3hDV1ZayXzHOsdexy/yvgL+NOkzGrAmi6aLBZlZBXQmfCPw6Wwh12EU3cnRyQUA6ftF/vh6Ey17byA6Hd+5BX8A4HVscHDw0Hcu5BgAe93g7d/ynbNmwFeHMgBnW7gScaGcw6UHAnxKqME7TQ8YATNgDefjBFyBJ/AFASAERII4kAwmwuyz4DoXg6lgJpgHikEpWAHWgEqwEWwBO8BusA80gcPgBDgNLoBL4Bq4A1dPD3gB+sE78BlBEBJCRWiIHmKMWCB2iBPCQLyRACQMiUGSkTQkExEiEmQmsgApRcqQSmQzUovsRVqQE8g5pAu5hTxAepHXyCcUQ1VQLdQQtURHowyUiYaicegENBOdghahC9FlaAVag+5CG9ET6AX0GtqNvkAHMIApYzqYCWaPMTAWFomlYBmYGJuNlWDlWA1Wj7XC63wF68b6sI84EafhdNweruBgPB7n4lPw2fhSvBLfgTfi7fgV/AHej38jUAkGBDuCB4FNSCJkEqYSignlhG2Eg4RT8F7qIbwjEok6RCuiG7wXk4nZxBnEpcT1xAbicWIX8RFxgEQi6ZHsSF6kSBKHVEAqJq0j7SIdI10m9ZA+KCkrGSs5KQUqpSgJleYrlSvtVDqqdFnpqdJnsjrZguxBjiTzyNPJy8lbya3ki+Qe8meKBsWK4kWJo2RT5lEqKPWUU5S7lDfKysqmyu7K0coC5bnKFcp7lM8qP1D+qKKpYqvCUklVkagsU9muclzllsobKpVqSfWlplALqMuotdST1PvUD6o0VQdVtipPdY5qlWqj6mXVl2pkNQs1ptpEtSK1crX9ahfV+tTJ6pbqLHWO+mz1KvUW9RvqAxo0jTEakRp5Gks1dmqc03imSdK01AzQ5Gku1NyieVLzEQ2jmdFYNC5tAW0r7RStR4uoZaXF1srWKtXardWp1a+tqe2snaA9TbtK+4h2tw6mY6nD1snVWa6zT+e6zqcRhiOYI/gjloyoH3F5xHvdkbq+unzdEt0G3Wu6n/ToegF6OXor9Zr07unj+rb60fpT9Tfon9LvG6k10nMkd2TJyH0jbxugBrYGMQYzDLYYdBgMGBoZBhmKDNcZnjTsM9Ix8jXKNlptdNSo15hm7G0sMF5tfMz4OV2bzqTn0ivo7fR+EwOTYBOJyWaTTpPPplam8abzTRtM75lRzBhmGWarzdrM+s2NzcPNZ5rXmd+2IFswLLIs1lqcsXhvaWWZaLnIssnymZWuFduqyKrO6q411drHeop1jfVVG6INwybHZr3NJVvU1sU2y7bK9qIdaudqJ7Bbb9c1ijDKfZRwVM2oG/Yq9kz7Qvs6+wcOOg5hDvMdmhxejjYfnTJ65egzo785ujjmOm51vDNGc0zImPljWse8drJ14jpVOV0dSx0bOHbO2Oaxr5ztnPnOG5xvutBcwl0WubS5fHV1cxW71rv2upm7pblVu91gaDGiGEsZZ90J7n7uc9wPu3/0cPUo8Njn8ZenvWeO507PZ+OsxvHHbR33yMvUi+O12avbm+6d5r3Ju9vHxIfjU+Pz0NfMl+e7zfcp04aZzdzFfOnn6Cf2O+j3nuXBmsU67o/5B/mX+HcGaAbEB1QG3A80DcwMrAvsD3IJmhF0PJgQHBq8MvgG25DNZdey+0PcQmaFtIeqhMaGVoY+DLMNE4e1hqPhIeGrwu9GWEQII5oiQSQ7clXkvSirqClRh6KJ0VHRVdFPYsbEzIw5E0uLnRS7M/ZdnF/c8rg78dbxkvi2BLWE1ITahPeJ/ollid1Jo5NmJV1I1k8WJDenkFISUralDIwPGL9mfE+qS2px6vUJVhOmTTg3UX9i7sQjk9QmcSbtTyOkJabtTPvCieTUcAbS2enV6f1cFnct9wXPl7ea18v34pfxn2Z4ZZRlPMv0ylyV2Zvlk1We1SdgCSoFr7KDszdmv8+JzNmeM5ibmNuQp5SXltci1BTmCNsnG02eNrlLZCcqFnVP8ZiyZkq/OFS8LR/Jn5DfXKAFP+Q7JNaSXyQPCr0Lqwo/TE2Yun+axjThtI7pttOXTH9aFFj02wx8BndG20yTmfNmPpjFnLV5NjI7fXbbHLM5C+f0zA2au2MeZV7OvN/nO84vm/92QeKC1oWGC+cufPRL0C91xarF4uIbizwXbVyMLxYs7lwydsm6Jd9KeCXnSx1Ly0u/LOUuPf/rmF8rfh1clrGsc7nr8g0riCuEK66v9Fm5o0yjrKjs0arwVY2r6atLVr9dM2nNuXLn8o1rKWsla7srwiqa15mvW7HuS2VW5bUqv6qGaoPqJdXv1/PWX97gu6F+o+HG0o2fNgk23dwctLmxxrKmfAtxS+GWJ1sTtp75jfFb7Tb9baXbvm4Xbu/eEbOjvdattnanwc7ldWidpK53V+quS7v9dzfX29dvbtBpKN0D9kj2PN+btvf6vtB9bfsZ++sPWByoPkg7WNKINE5v7G/KaupuTm7uaglpaWv1bD14yOHQ9sMmh6uOaB9ZfpRydOHRwWNFxwaOi473ncg88ahtUtudk0knr7ZHt3eeCj119nTg6ZNnmGeOnfU6e/icx7mW84zzTRdcLzR2uHQc/N3l94Odrp2NF90uNl9yv9TaNa7r6GWfyyeu+F85fZV99cK1iGtd1+Ov37yReqP7Ju/ms1u5t17dLrz9+c7cu4S7JffU75XfN7hf84fNHw3drt1HHvg/6HgY+/DOI+6jF4/zH3/pWfiE+qT8qfHT2mdOzw73BvZeej7+ec8L0YvPfcV/avxZ/dL65YG/fP/q6E/q73klfjX4eukbvTfb3zq/bRuIGrj/Lu/d5/clH/Q+7PjI+HjmU+Knp5+nfiF9qfhq87X1W+i3u4N5g4Mijpgj+xTAYEMzMgB4vR0AajIANLg/o4yX7/9khsj3rDIE/hOW7xFl5gpAPfx+j+6DXzc3ANizFW6/oL5aKgBRVADi3AE6duxwG9qryfaVUiPCfcCm2K/peeng35h8z/lD3j+fgVTVGfx8/hdD+XxtErUH/gAAAKJlWElmTU0AKgAAAAgABgEGAAMAAAABAAIAAAESAAMAAAABAAEAAAEaAAUAAAABAAAAVgEbAAUAAAABAAAAXgEoAAMAAAABAAIAAIdpAAQAAAABAAAAZgAAAAAAAACQAAAAAQAAAJAAAAABAAOShgAHAAAAEgAAAJCgAgAEAAAAAQAABiygAwAEAAAAAQAABD4AAAAAQVNDSUkAAABTY3JlZW5zaG90XP28HgAAAAlwSFlzAAAWJQAAFiUBSVIk8AAAA1VpVFh0WE1MOmNvbS5hZG9iZS54bXAAAAAAADx4OnhtcG1ldGEgeG1sbnM6eD0iYWRvYmU6bnM6bWV0YS8iIHg6eG1wdGs9IlhNUCBDb3JlIDYuMC4wIj4KICAgPHJkZjpSREYgeG1sbnM6cmRmPSJodHRwOi8vd3d3LnczLm9yZy8xOTk5LzAyLzIyLXJkZi1zeW50YXgtbnMjIj4KICAgICAgPHJkZjpEZXNjcmlwdGlvbiByZGY6YWJvdXQ9IiIKICAgICAgICAgICAgeG1sbnM6dGlmZj0iaHR0cDovL25zLmFkb2JlLmNvbS90aWZmLzEuMC8iCiAgICAgICAgICAgIHhtbG5zOmV4aWY9Imh0dHA6Ly9ucy5hZG9iZS5jb20vZXhpZi8xLjAvIj4KICAgICAgICAgPHRpZmY6Q29tcHJlc3Npb24+MTwvdGlmZjpDb21wcmVzc2lvbj4KICAgICAgICAgPHRpZmY6UmVzb2x1dGlvblVuaXQ+MjwvdGlmZjpSZXNvbHV0aW9uVW5pdD4KICAgICAgICAgPHRpZmY6WFJlc29sdXRpb24+MTQ0PC90aWZmOlhSZXNvbHV0aW9uPgogICAgICAgICA8dGlmZjpZUmVzb2x1dGlvbj4xNDQ8L3RpZmY6WVJlc29sdXRpb24+CiAgICAgICAgIDx0aWZmOlBob3RvbWV0cmljSW50ZXJwcmV0YXRpb24+MjwvdGlmZjpQaG90b21ldHJpY0ludGVycHJldGF0aW9uPgogICAgICAgICA8dGlmZjpPcmllbnRhdGlvbj4xPC90aWZmOk9yaWVudGF0aW9uPgogICAgICAgICA8ZXhpZjpQaXhlbFhEaW1lbnNpb24+MTU4MDwvZXhpZjpQaXhlbFhEaW1lbnNpb24+CiAgICAgICAgIDxleGlmOlVzZXJDb21tZW50PlNjcmVlbnNob3Q8L2V4aWY6VXNlckNvbW1lbnQ+CiAgICAgICAgIDxleGlmOlBpeGVsWURpbWVuc2lvbj4xMDg2PC9leGlmOlBpeGVsWURpbWVuc2lvbj4KICAgICAgPC9yZGY6RGVzY3JpcHRpb24+CiAgIDwvcmRmOlJERj4KPC94OnhtcG1ldGE+CvwdzPYAAEAASURBVHgB7N0HgFxV2f/x37TtPdn03hBBWuggoUsTaSLSBEVfxD8gAtKrUqQoiFhQ6SoWVLoCmiBFeg8tJCG9bDbbZ3f6/zw3zjJbkuxudjNbvud9h5m599xzz/3cCZJ55jmPL+WaaAgggAACCCCAAAIIIIAAAggggAACCCCAAAIIIIBAFgX8WTw3p0YAAQQQQAABBBBAAAEEEEAAAQQQQAABBBBAAAEEPAECFnwQEEAAAQQQQAABBBBAAAEEEEAAAQQQQAABBBBAIOsCBCyyfguYAAIIIIAAAggggAACCCCAAAIIIIAAAggggAACCBCw4DOAAAIIIIAAAggggAACCCCAAAIIIIAAAggggAACWRcgYJH1W8AEEEAAAQQQQAABBBBAAAEEEEAAAQQQQAABBBBAgIAFnwEEEEAAAQQQQAABBBBAAAEEEEAAAQQQQAABBBDIugABi6zfAiaAAAIIIIAAAggggAACCCCAAAIIIIAAAggggAACBCz4DCCAAAIIIIAAAggggAACCCCAAAIIIIAAAggggEDWBQhYZP0WMAEEEEAAAQQQQAABBBBAAAEEEEAAAQQQQAABBBAgYMFnAAEEEEAAAQQQQAABBBBAAAEEEEAAAQQQQAABBLIuQMAi67eACSCAAAIIIIAAAggggAACCCCAAAIIIIAAAggggAABCz4DCCCAAAIIIIAAAggggAACCCCAAAIIIIAAAgggkHUBAhZZvwVMAAEEEEAAAQQQQAABBBBAAAEEEEAAAQQQQAABBAhY8BlAAAEEEEAAAQQQQAABBBBAAAEEEEAAAQQQQACBrAsQsMj6LWACCCCAAAIIIIAAAggggAACCCCAAAIIIIAAAgggQMCCzwACCCCAAAIIIIAAAggggAACCCCAAAIIIIAAAghkXYCARdZvARNAAAEEEEAAAQQQQAABBBBAAAEEEEAAAQQQQAABAhZ8BhBAAAEEEEAAAQQQQAABBBBAAAEEEEAAAQQQQCDrAgQssn4LmAACCCCAAAIIIIAAAggggAACCCCAAAIIIIAAAggQsOAzgAACCCCAAAIIIIAAAggggAACCCCAAAIIIIAAAlkXIGCR9VvABBBAAAEEEEAAAQQQQAABBBBAAAEEEEAAAQQQQICABZ8BBBBAAAEEEEAAAQQQQAABBBBAAAEEEEAAAQQQyLoAAYus3wImgAACCCCAAAIIIIAAAggggAACCCCAAAIIIIAAAgQs+AwggAACCCCAAAIIIIAAAggggAACCCCAAAIIIIBA1gUIWGT9FjABBBBAAAEEEEAAAQQQQAABBBBAAAEEEEAAAQQQIGDBZwABBBBAAAEEEEAAAQQQQAABBBBAAAEEEEAAAQSyLkDAIuu3gAkggAACCCCAAAIIIIAAAggggAACCCCAAAIIIIAAAQs+AwgggAACCCCAAAIIIIAAAggggAACCCCAAAIIIJB1AQIWWb8FTAABBBBAAAEEEEAAAQQQQAABBBBAAAEEEEAAAQQIWPAZQAABBBBAAAEEEEAAAQQQQAABBBBAAAEEEEAAgawLELDI+i1gAggggAACCCCAAAIIIIAAAggggAACCCCAAAIIIEDAgs8AAggggAACCCCAAAIIIIAAAggggAACCCCAAAIIZF2AgEXWbwETQAABBBBAAAEEEEAAAQQQQAABBBBAAAEEEEAAAQIWfAYQQAABBBBAAAEEEEAAAQQQQAABBBBAAAEEEEAg6wIELLJ+C5gAAggggAACCCCAAAIIIIAAAggggAACCCCAAAIIELDgM4AAAggggAACCCCAAAIIIIAAAggggAACCCCAAAJZFyBgkfVbwAQQQAABBBBAAAEEEEAAAQQQQAABBBBAAAEEEECAgAWfAQQQQAABBBBAAAEEEEAAAQQQQAABBBBAAAEEEMi6AAGLrN8CJoAAAggggAACCCCAAAIIIIAAAggggAACCCCAAAIELPgMIIAAAggggAACCCCAAAIIIIAAAggggAACCCCAQNYFCFhk/RYwAQQQQAABBBBAAAEEEEAAAQQQQAABBBBAAAEEECBgwWcAAQQQQAABBBBAAAEEEEAAAQQQQAABBBBAAAEEsi5AwCLrt4AJIIAAAggggAACCCCAAAIIIIAAAggggAACCCCAAAELPgMIIIAAAggggAACCCCAAAIIIIAAAggggAACCCCQdQECFlm/BUwAAQQQQAABBBBAAAEEEEAAAQQQQAABBBBAAAEECFjwGUAAAQQQQAABBBBAAAEEEEAAAQQQQAABBBBAAIGsCxCwyPotYAIIIIAAAggggAACCCCAAAIIIIAAAggggAACCCBAwILPAAIIIIAAAggggAACCCCAAAIIIIAAAggggAACCGRdgIBF1m8BE0AAAQQQQAABBBBAAAEEEEAAAQQQQAABBBBAAAECFnwGEEAAAQQQQAABBBBAAAEEEEAAAQQQQAABBBBAIOsCBCyyfguYAAIIIIAAAggggAACCCCAAAIIIIAAAggggAACCBCw4DOAAAIIIIAAAggggAACCCCAAAIIIIAAAggggAACWRcgYJH1W8AEEEAAAQQQQAABBBBAAAEEEEAAAQQQQAABBBBAgIAFnwEEEEAAAQQQQAABBBBAAAEEEEAAAQQQQAABBBDIugABi6zfAiaAAAIIIIAAAggggAACCCCAAAIIIIAAAggggAACBCz4DCCAAAIIIIAAAggggAACCCCAAAIIIIAAAggggEDWBQhYZP0WMAEEEEAAAQQQQAABBBBAAAEEEEAAAQQQQAABBBAgYMFnAAEEEEAAAQQQQAABBBBAAAEEEEAAAQQQQAABBLIuQMAi67eACSCAAAIIIIAAAggggAACCCCAAAIIIIAAAggggAABCz4DCCCAAAIIIIAAAggggAACCCCAAAIIIIAAAgggkHUBAhZZvwVMAAEEEEAAAQQQQAABBBBAAAEEEEAAAQQQQAABBAhY8BlAAAEEEEAAAQQQQAABBBBAAAEEEEAAAQQQQACBrAsQsMj6LWACCCCAAAIIIIAAAggggAACCCCAAAIIIIAAAgggQMCCzwACCCCAAAIIIIAAAggggAACCCCAAAIIIIAAAghkXYCARdZvARNAAAEEEEAAAQQQQAABBBBAAAEEEEAAAQQQQAABAhZ8BhBAAAEEEEAAAQQQQAABBBBAAAEEEEAAAQQQQCDrAgQssn4LmAACCCCAAAIIIIAAAggggAACCCCAAAIIIIAAAggQsOAzgAACCCCAAAIIIIAAAggggAACCCCAAAIIIIAAAlkXIGCR9VvABBBAAAEEEEAAAQQQQAABBBBAAAEEEEAAAQQQQICABZ8BBBBAAAEEEEAAAQQQQAABBBBAAAEEEEAAAQQQyLoAAYus3wImgAACCCCAAAIIIIAAAggggAACCCCAAAIIIIAAAgQs+AwggAACCCCAAAIIIIAAAggggAACCCCAAAIIIIBA1gUIWGT9FjABBBBAAAEEEEAAAQQQQAABBBBAAAEEEEAAAQQQIGDBZwABBBBAAAEEEEAAAQQQQAABBBBAAAEEEEAAAQSyLkDAIuu3gAkggAACCCCAAAIIIIAAAggggAACCCCAAAIIIIAAAQs+AwgggAACCCCAAAIIIIAAAggggAACCCCAAAIIIJB1AQIWWb8FTAABBBBAAAEEEEAAAQQQQAABBBBAAAEEEEAAAQQIWPAZQAABBBBAAAEEEEAAAQQQQAABBBBAAAEEEEAAgawLELDI+i1gAggggAACCCCAAAIIIIAAAggggAACCCCAAAIIIEDAgs8AAggggAACCCCAAAIIIIAAAggggAACCCCAAAIIZF2AgEXWbwETQAABBBBAAAEEEEAAAQQQQAABBBBAAAEEEEAAAQIWfAYQQAABBBBAAAEEEEAAAQQQQAABBBBAAAEEEEAg6wIELLJ+C5gAAggggAACCCCAAAIIIIAAAggggAACCCCAAAIIELDgM4AAAggggAACCCCAAAIIIIAAAggggAACCCCAAAJZFyBgkfVbwAQQQAABBBBAAAEEEEAAAQQQQAABBBBAAAEEEECAgAWfAQQQQAABBBBAAAEEEEAAAQQQQAABBBBAAAEEEMi6QDDrM2ACg0Jg3rx5euyxx7TddtsNiuvhIhBAAAEEEEAAAQQQQAABBBBAAAEEEEBg8At88MEHmjFjhvbdd9/Bf7ED4AoJWAyAmzQQpvi73/1OV1111UCYKnNEAAEEEEAAAQQQQAABBBBAAAEEEEAAAQRaBXbaaSe9/PLLre95kT0BAhbZsx9UZ7Y/1Naqq6tVUVExqK6Ni9l0gRUrVigWi2nChAmbPhgjIIAAAggMGYH6+notX75cW2yxhXw+35C5bi4UAQQQQGDTBBKJhGwVgHHjxqmoqGjTBuNoBBBAAIFBL7DNNtto7733HvTXOVAukBoWA+VOMU8EEEAAAQQQQAABBBBAAAEEEEAAAQQQQAABBAaxAAGLQXxzuTQEEEAAAQQQQAABBBBAAAEEEEAAAQQQQAABBAaKAAGLgXKnmCcCCCCAAAIIIIAAAggggAACCCCAAAIIIIAAAoNYgIDFIL65XBoCCCCAAAIIIIAAAggggAACCCCAAAIIIIAAAgNFgIDFQLlTzBMBBBBAAAEEEEAAAQQQQAABBBBAAAEEEEAAgUEsQMBiEN9cLg0BBBBAAAEEEEAAAQQQQAABBBBAAAEEEEAAgYEiQMBioNwp5okAAggggAACCCCAAAIIIIAAAggggAACCCCAwCAWIGAxiG8ul4YAAggggAACCCCAAAIIIIAAAggggAACCCCAwEARIGAxUO4U80QAAQQQQAABBBBAAAEEEEAAAQQQQAABBBBAYBALBAfxtXFpCGRFoDGeVDieULM9J1Lea8mngqBP+QG/9ygI+lUcCmRlfpwUAQQQQAABBBBAAAEEEEAAAQQQQAABBBDojwIELPrjXWFOA0JgTSSuhQ0RLW2KqjYaV30soUb3iCVTirtARSKVknvpPVJKKeDzye+T9xwM+BRyb4pc0KIkFFRpTkDjCnM0uThXlbn8sRwQHwAmiQACCCCAAAIIIIAAAggggAACCCCAAAK9KsA3o73KyWCDXWBRY0SLGqN6ry6sVeGYmmIui8IFKSyDIugCEC5xwj38XlAi12VUBGybC1L43P/FXAAjHncP99zinhuTSVU1xZVQi1JuW747uNAFLkbkh7RVWYEmFeVoYlHuYCfl+hBAAAEEEEAAAQQQQAABBBBAAAEEEEAAAU+AgAUfBAQ2IBBJJLXQBSksk2K+e17VFFOdy6ywzInCkF8luS4zojjHC1BsYJhPd60n/pBwA3oZGtGk3qtu1vvuUerGriwIaUZJniYV52myC17kucwMGgIIIIAAAggggAACCCCAAAIIIIAAAgggMBgFKLo9CO/qk08+qS9/+csaMWKEfG4ZosrKSt1yyy0drnTBggU65ZRTvH7W59RTT9WiRYs69BuKG+IugPBCVaPu+Gi1/rxwrZ5eWqd5Nc0uUJHS+FBcn8tr0bRUjUa2rFFuuFaBSHiTmCwTo9wtBTXeBT+2HJavcSXrIhsL6yJ6yp37Lwur9euPVum51Q2KuiAKDQEEEEAAAQQQQAABBBBAAAEEEEAAAQQQGGwCZFgMsjt622236ayzztLUqVN1+OGHa9y4caqrq9O7777b5kpXr16tXXfd1QtW3HzzzQoEAvrRj37kbXvzzTc1cuTINv2H0psP6pr139VNWtIU0Rq37FMoGdGUxoUaU/OxylZ/JH8iJn8y7h62FJSrUeEPuEdQyUBItSO2UP3ILRQePkPJnPWkU3QBs8hlbxSFcryeVhdjdTiuKjeXtS1xfVDboj1GFmnL0vwujEQXBBBAAAEEEEAAAQQQQAABBBBAAAEEEEBgYAgQsBgY96lLs/zwww+9YMVRRx2lBx98cIPHWHCiqqpKL7/8siZNmuT13XPPPTVx4kTdcMMNsiDGUGtVLTH9a0WD3l8b9gIDebE6bb/6FU1YNVf5jdUKJaKKBXOVDIa8AEUssC4g4U/FFUi6wEY0rHHz/6PYopfUXDhMa8dso7WTd1e8oGyTKK0wd1FpQA1RC1zEXBClUYvdElWfqSjQfqOKNdLVvKAhgAACCCCAAAIIIIAAAggggAACCCCAAAIDXYCAxUC/gxnzt0CDtfRzxq4OL++66y4dcsghrcEK6zBhwgQdfPDBsn1DKWDRknDLP62u1ytrmrS8IapgLKxtq17XtCX/VUF4rWI5BWouGanG4LqMhw6Y7Tb4YxHlh2s08f0nVbn4Va2cuqdqJ+2mRM6mZUQUu4Lc9qj3AhdxvbiiXp/UN2vnyiKXcVGs/AArvLW7FbxFAAEEEEAAAQQQQAABBBBAAAEEEEAAgQEkQMBiAN2sjU318ccf17bbbquioiL9+Mc/VnNzs6ZMmaL99tvPW/opfXxTU5Nqamq0ww47pDe1Ptu2J554QtansLCwdftgfbEyHNWDi9fKakXEXN2KiU1LtMPcP6m4dqmiecWqq5iolFvyqTstGcpVU+ko+dySUUV1yzT99T+pfuGLWrjjV9U8bHJ3huq0b4kLWtjDin/bUlFPLK7V+24Zq2MmVmh0QdeCKp0OzEYEEEAAAQQQQAABBBBAAAEEEEAAAQQQQCCLAgQssojf26deuXKlV7vic5/7nBobG7XFFlvI6lGUlJTot7/9rY455hjvlC0tLd5zWVnHpYoqKiq8fRbsWF/A4rHHHtMrr7zSZvofffSR9766ulrJ5MAoCr3UBSv+s7JBq5pjKgsGNGPtuxq+5HXlugyJtWO3U9wt/7SprTavzGVsRLzAxaS3HlLVhB1V75aK6o1W6QapdFOscnUtVqyq158a6vR5V9tiQuGmz7s35pc5RkNDg+LxuNasWZO5mdcIIIAAAghsUCAcDsse9t8XNAQQQAABBLoqYH8ntf/9sB/qpf/+29Vj6YcAAgggMPQEEol1dWqH3pX3zysmYNE/70u3Z5VKpbxjnn/+eS8wce+99yo/P1+LFi3S/vvvr1NOOUUHHXSQl32RDigUFBR0OE9xcbG3zb5cXl+bN2+ennnmmTa7018kWKAjN7f/fWHeZrLuzXxXA+KN6rDqXEHrEbkBTVz+qkqqPlLA/QuqtnJGt7Mq2o+f+d5qXdTmFKqgYZVbIuo15TY3aK0LXPRWG+USQJqCKa1paNIzLhi1jattMb2kf92DSCQi+5e//aWBhgACCCCAQFcF7EumWCzG/350FYx+CCCAAAKegP392P73w/53JP13ZWgQQAABBBBYnwD/W7E+mexsJ2CRHfdeP6vP52sd87bbbvOCFbbBimiff/75+r//+z8veLHVVlspEFi3xFF9fX3rMekX9kt4a+k+6e2Zz9/97ndlj8xmWReHHXaYxo0bp3SWRub+/vI64f7D9R/L6vS8CxpYTYrxFTkaPf9fGvXx0/In46odPlWBSE2fTDeSk6OyqvkqqFusSE5Ia7bYv9fOY9UriuNJLayPaFXYr6aSYh08rkwh/6efi147WQ8GWrFihfcXBquT0t1mn8l///vfsiyeVatWeZkaFmybOXOmDj30UIVCIZ177rldGvbSSy/V8OHDdf3118syktq3yZMn6+yzz26/uc371atX69prr9VOO+2kE044oc0+e3Pffffp9ddf15VXXqnS0lL961//0iOPPKKvf/3r2mabjtk1l112mex6LrroIm+s5cuXe3VovvOd72j69OkdxmcDAgggMJQE7L9V7IcW48ePV+Z/6wwlA64VAQQQQKD7AvZjKfsx3ejRo70f7XV/BI5AAAEEEBhKAsEgX5H3p/vN3ehPd2MT51JeXu79emTUqFFtRrIloqxZOqy1vLw877mz5Xmqqqq8fZadMdhak/tC/9EltXqrukktiaSmluWofPnbGj3vGYWibrmJUVv2+SXXVk7VsFUfaMy8OYoUVqph3La9ds78oF/TyvO0uD6qF9xSV/WxpL40oUzFoe7V4Oi1CfXCQJa5M23aNNXW1mrPPffULrvs4n25//TTT+u6667T22+/rS233NJb+izzdG+99ZZ3zKxZszI3yzI9rFlQwQIW6T8b6U4byixK9xkxYoT3l58TTzzRm5vNKd1efvllnXzyyV7Qw4IV1nbffXeddtppeuihh/Tee++1BhNt38UXX+xdh11PutmfwVtvvVWHH344AYs0Cs8IIIAAAggggAACCCCAAAIIIIAAAkNCgIDFILrN9ovzzC8+05eWzqRI16SwX3Pb0k9z5sxJd2l9nj17tvercCvcPZha1BXU/tuiGr27tkk+939TS/MUbK7VhHceUVHDalWP3GKzXW6Ny+IYvupDjZ/7qD50RbgT+SW9du6Ay7SZXJqr5Y1Rve0CM3GXUXLspAoVuGDGQGxWe8WCFc8++6wXsEhfg2U4WMaFBeksCt7+s2zLoL300ksdtqePt2cLJFjmQ0/azTff7AUgTjrpJG8e6TEs48KymiyYkm4W/LvnnntkwZPLL79cN954o7fL6stYP8t+2m+//dLdeUYAAQQQQAABBBBAAAEEEEAAAQQQQGDICgzMbzGH7O3a8IUfffTRXoef//znbTrefvvt3ntbTiHdvvSlL+nVV1/1lqtJb7Mvfe1L3qOOOiq9adA8P7G0Vu+tDXtLJI0rzvGua/j8Z1VUv0K15ROUDIQ227XauWrLxqm4dplsDn3RxhTlqCDk1/vumh931z5Qm2UkWEaDZVe0bzNmzFBlpZUe3/zNAnq/+c1vZPVcbOkna7ak08cff6z777+/TRaF7dtrr728JaFuuukmvfHGG7bJW05q7Nixsm00BBBAAAEEEEAAAQQQQAABBBBAAAEEEJDIsBhEn4LTTz9dDz/8sGzt+7/97W/aeuut9fjjj3u/AL/66qu9tfvTl2u/ELe6ABbksIfVrPjzn/+sMWPGtPl1eLr/QH5+xi2P9GpVo8s2SGps4brlsHJrlmnYkje84tqxXsxw6KpTtKBMcpkdw5a+odpxOyhSNrqrh3a5X2V+SEtiUb1e1aQStyzUgWPXLVHU5QH6QUdbVslqRrzyyitezYjenJItifbAAw9oyZIlmjp1qg488MBurW9rNVuOPfZYXXXVVd7STVYXw+pfdBZcsXn/+Mc/ltV6sawM+zNnwRjLiBps2Uy9eY8YCwEEEEAAAQQQQAABBBBAAAEEEEBgaAmQYTHI7rcFKK655hrZMlB33323t0b/f/7zH1lh38xmv1q3L4GPO+4470tTC14cf/zx3raRI0dmdh3Qr9+rbdbsFXVqjCY1oTi39VrKl72u4vrlqi8f17ptc7+wcxfXLVfZ0tf77NTjS3IUccthPbuyXq9Vh/vsPH018DHHHOMNvfPOO3tf8tuX/lafojfaiy++qK9+9av6/ve/741tBbFfe+21bg1t2UwWVLF6Fu2Xgmo/kPWzbKe5c+fKAogsBdVeiPcIIIAAAggggAACCCCAAAIIIIAAAkNdgIDFIPwEWCFfW9rJimz/5S9/0ec///lOr9KyKX75y19q0aJF3lI29mWqbRssbWlTVI8tqdHa5rgmuboOPlffwZo/HlPZirkuuyKoRCh7xcXjOQWSz6/yFe/In4j3GftEtwRWXSShp5bValHjuqLTfXayXh7YPrsPPvigrD7LX//6V5177rnabrvtNHnyZP3xj3/s8dksC8myG1KuxsfChQv1s5/9zPvzctBBB7UWp+/K4MOGDfPmY32tbsbGitVnZl9YhgYNAQQQQAABBBBAAAEEEEAAAQQQQAABBD4VIGDxqQWvBpFAfSyhR5fWaElDVBNdsCLoXxessEvMr16gvOY6Nee7ZZmy3FoKSr255K9d2GczCbhrn+SKjK90AZxHLYATTfTZufpiYKupYvVWLLhgGRC33nqr4vG4lx3U06DFGWec0VroetKkSd4yarZMmi0TZdlG6WbZSVbbJf2wAuCZ7c4779QzzzyjrbbaSlYg/Pnnn8/c3eH117/+dVnRe6sn8//+3/9Tc3Nzhz5sQAABBBBAAAEEEEAAAQQQQAABBBBAYKgKELAYqnd+EF931C2B9PDiWi2si2hUYUh5gbYf88I185UXrlGkPwQs8suV64InhVUf9+kdyQ34nEWOFtZH9MjiGoXjyT49X18NvsMOO+iss87yCldbNoMVvu6tli42bzUt0u2RRx7RQw891PqwgEa6LV682JvLwQcfrBdeeMErDn7KKaekd3d4tiXabMm22267TXfddZeX2XTBBRd06McGBBBAAAEEEEAAAQQQQAABBBBAAAEEhqoARbeH6p0fxNf939UNbumjFuWG/CrN7fgRL6hfIb8rwJ0M5nRZwR9rUX7TWuW1NCiQjLolnGIKJBJKJd04oZCS/pASgZAieUVqLqhQwpZ76kKzOQSTcdmc+roV5wS8eha2LNRzqxoGZBHutNHw4cO95cssaNBbra6uzhvKCtCn24033ph+2eHZ6l/k5uZ6tWJKSkq850MOOUQWhPjRj37Upv+KFSu8jAoLbliWhbXTTjvNC15Y/Qur0UFDAAEEEEAAAQQQQAABBBBAAAEEEEBgqAu0/en5UNfg+ge8QJ1b7uittWGvZsPI/FCn15PbVO0CDB0DGZ11zm+s0rCVH2jM4jdVueojldYuV2F9tcvQaFAw0qxQPOq9LmysVlndCtfnY41e8pYql891QYiVnQ3ZYVsiEFSuC4ZsjjY8L+gKkCf0fl2zagbA0lC2FFRn7f3339f8+fNlyzl1t0UindfxuOOOO7yhdtxxx40O+dOf/tTLqrC6L1bA3poFI04++WTdcMMNevPNN9uMYQXtLRByt8uySLef/OQnGjt2rE444YT0Jp4RQAABBBBAAAEEEEAAAQQQQAABBBAY0gJd+9Z2SBNx8QNJ4OU1japqjqk8v/OPtj8acZkRcS8bYkPXlRteq7Lqxa6+RL2s+kXC77ITcotcoe5Pa2F0drzP1VkIuiBGYUO1ChrWKFq3XDXlE9RSNLyz7t62hMvOsIwNKwaeDHYeZFnvwT3YMbwgpFVNMb3gMlEOHZf9Oh4bugRbPsnqQli9h2233Vb19fVezYhf/OIX3mFWi6K7bdmyZZo1a5aXCbH11lvrk08+0WOPPeYVqN9rr7202267bXDIBQsWeMceccQRXh2NzM4233/84x9eEGLu3LneLivobTUw7r///tbghu0oKirSPffc4xXr/v73v+8FOjLHsn1WQ6N9s8LjxcXF7TfzHgEEEEAAAQQQQAABBBBAAAEEEEAAgQEv0Pm3ugP+sriAoShQE43rnZqwwrGUq9fw6bI+mRaBeLP8bkmnxHoCAwEXbCirmq+ixjUKusBGS07+evtmjpt+nfL5FAvleg+/WzIqv6lOOeG5ai6qUPWIaUqE8tNdW5+TbikpL2ARbXIBi74PIBQG/VqTkt5zVjOHFWrUejJRWieYxRdnnnmmbPknqyNx0UUXqaWlxStwfeGFF3pLKlmGQmfN6lHMnDmzs10qKyvT5MmTZWOn25QpU/Td735XP/jBD9Kb1vs8e/ZsWaDk8ssv79DHloZ6+OGH9Yc//EGWBbLFFlto6dKlsmyKzjIp9ttvP/3617/We++9J8v8sCWmKisrdfbZZ3tjty/ybRuTbhkyGgIIIIAAAggggAACCCCAAAIIIIAAAoNRgIDFYLyrQ/SaXljd6GUOjCxa/8faggNJX1CWCdG+5YTrVFE9X4WNNYoHc9VUUNK+S7feJ90SQGE3Rk60RSV1q1zmRURrK6eoxdW4yGw+pZTy+ZVyc9tcbURBsDXL4qiJbeezuebQlfPY8kxdWaKp/VgbyryoqKjoNHOh/Rjre/+Nb3xjfbu87bvssovskW7XX399+mWnz1bLIrONGTNGt9xyS+YmXiOAAAIIIIAAAggggAACCCCAAAIIIDAkBKhhMSRu8+C/yFVuGagPXV2GpItDFAY7z64whURuoZKuZoQtv5TZrN7E8FUfqqihxmVVFLrlnzpmQmT2787raE6ewvnFKnABkWErP1JxzZI2h1t2RcIV37a5ba6W77IsbHWrT1wB7sXuQUMAAQQQQAABBBBAAAEEEEAAAQQQQAABBLItQMAi23eA8/eKwHOrGrQmHNeooo1nKcRySxRIxlvPm+fqVZSv+UT5LY0uI6LYLdu08TFaD+7iCwuShPNLlBcJq2Tt0jYFuf1uLrG80i6O1HvdRhbmqCoc00trmnpvUEZCAAEEEEAAAQQQQAABBBBAAAEEEEAAAQR6KEDAoodwHNZ/BKx2xZJwxC2sJOUFNv6RjrnAgU/r6gAEo2GVVy3wAgnN+UVKuuLafdWSfv+6oEW0WWVrl7jaFnXeqXyuJkEsb/MXUc4NuBSLlE/LmiJa3dI246SvDBgXAQQQQAABBBBAAAEEEEAAAQQQQAABBBBYn8DGv91d35FsR6CfCCxsiKguklBpbteCDeHikYq6ZZ9CzfWqcMGK/OYGteQW9GmwIk2VcuswNecVedkc5dULlRuuUdQtBdVcPCLdZbM+V+QHtLYl4ZaGim7W83IyBBBAAAEEEEAAAQQQQAABBBBAAAEEEECgvQABi/YivB9wAvZle70LWBTndC1g0VQ5TS1uCaaymsXKa65Vwh90NSR6fxmo9UFaMe6Yq1mRF65XWfUiby6Nw6avr3ufbi8IBdQYS2gRdSz61JnBEUAAAQQQQAABBBBAAAEEEEAAAQQQQGDjAgQsNm5Ej34sEEkktaChRQGrIN3F1jxssluCqUSltasUikVdhkNBF4/svW5WiDuUjKm4fo3iuUVqGT6x9wbv5kg5bmkoMwzH1y2T1c3D6Y4AAggggAACCCCAAAIIIIAAAggggAACCPSKAAGLXmFkkGwJLHLZFTUtcRV1MbsiPc9kMOjqN6RcCQeflXHISkt49TKs8oY9stfMrtYZfkKWRfZuAmdGAAEEEEAAAQQQQAABBBBAAAEEEEAAARGw4EMwoAXsS/YWlxlQ2o2AhS8ek99lVshlZfhSLqsgS/GCQCKhlAta+BJxBVsasnYfit2yUC3xFAGLrN0BTowAAggggAACCCCAAAIIIIAAAggggAACJkDAgs/BgBb4pCnixRuC3VgSKq9uqUKRRjUUD1fc1ZLIjTRtdoPclibFQjmqKx2pnEiD8tZ+stnnkD6h2RmfWdIQQAABBBBAAAEEEEAAAQQQQAABBBBAAIFsCRCwyJY8591kgeVhtxxUJC4rHN2dVmDFtlvqVDNskhqLhimYiCloGRebqdm57JyNxcNUUznFK/xdULNkM52989MU5ga8wuUU3+7ch60IIIAAAggggAACCCCAAAIIIIAAAggg0PcCBCz63pgz9JFAlau70OyWg8oPdu9jnNtQpVA0rGh+qWpGTFdj4TDluvf+ZN8XnfYnE9657Jw1ldOVCOUrGI8qr6mqj5S6Nmy+K7wdjiVV5QJANAQQQAABBBBAAAEEEEAAAQQQQAABBBBAIBsC3fumNxsz5JwIrEegOZFUxAUsuhmvcMGKRiX9rui2a8lASNUjp6s5r1j5ro5EXwYtbOz85kbvXHZOO7e1aE6h8utXea+z9Y+Q368W59kcT2RrCpwXAQQQQAABBBBAAAEEEEAAAQQQQAABBIa4AAGLIf4BGMiXb9kVkURK9mV7d1pew2qlfJ8eE88t1BoXQAi7jIv8Zhe0iPd+lkHAFfrOa2lUuKDUnWuG7JzplgoEFHCFt71C4OmNm/k56PMp5iybXfFtGgIIIIAAAggggAACCCCAAAIIIIAAAgggkA2BT7+1zcbZOScCmyBgGRZR97Av27vaLChgwQELEmS2aEG5Vo/+rFdXIs8tD2VFsX2pTf/y3sbIdVkVudFmr16GnSNaUJZ5aiUVcJkdbl4u8yNbLeSWhIq5DJCw86QhgAACCCCAAAIIIIAAAggggAACCCCAAALZECBgkQ11ztkrAg2u5kLSxRQCPfkUdxKMSOTke0GL2rLRbrmmoArCdcpxgYaeNjvWxkgGQ7Ixq0ZvKTvHelsqu8ECnwv81EWzO4f12rADAQQQQAABBBBAAAEEEEAAAQQQQAABBAa9wLqF/Af9ZXKBg1Gg0dVbCHUzWpEM5SjhghGBRKxTkpSrK7F21GcUbqxSSd0K5bmAQ2FTnRL+gOLBHO+h9SV0uOCJFdC2R8AV1465QEVDcaXqXbCipaiy0/PZxkAypoi/VElXyyKbLeACFo1u6SoaAggggAACCCCAAAIIIIAAAggggAACCCCQDQECFtlQ55y9ImA1LILrCx5s4AyRwmHyrf1kAz3kBRgsyJDfsEr54VoXuKhVyH2Zn9Nc75aKSnoxC/unrUZlyz7Z4lFWFyPugiFRl0XR4mpVNLuln5qLR27wPLbT75aosiDKBrMvNjrKpncI+n0KU8Ni0yEZAQEEEEAAAQQQQAABBBBAAAEEEEAAAQR6JEDAokdsHNQfBKyGhX3J3t0Wd5kMfpcF0ZVmAQcv6OAyJnJb6hSKNP0vi6JFof8tFxVzAYp4MM/Lvoi5YtqRvFIXhWhbI2ND58pxNTMihRUb6rJZ9oWcZcKtsWWu+d3MXNksE+QkCCCAAAIIIIAAAggggAACCCCAAAIIIDCoBQhYDOrbO3gvrsllV9iX6z0JWDSXjFAkv9RlS9Qp6p671FwAIlJQ4T261L+LnQIu6BHNyXMZHSO6eETfdQtYwMJli7QkUi5g0Xfn6cnITU1Nuuqqq/Tkk0/qrbfeah1i5syZOvjgg3XWWWepoKBAl1xySeu+Db24/vrrFQqFdO6557Z2sxoelZWVmjhxovbff3+NHLnh7JhYLKbLLrtM5eXluuCCC1rHSb+wuT7++OM6/fTT9ZnPfEbvv/++fvWrX+nAAw/UIYccku7W+nzzzTdr9erV+uEPf+jNrbm5WRdddJGOPPJIzZo1q7UfLxBAAAEEEEAAAQQQQAABBBBAAAEEEBisAj0pVzxYLbiuASRgS0HZckwuGaDbLVwxxWVBFCunpaHbx/b2AbmRerXkl6lx+NTeHrrb46VcsMLqWAS6n7TS7XN154BFixZpp5120u23367DDz9cTz/9tGbPnq1HH31UY8aM8b7gv/rqq93nwaeysrI2j7vvvlsPPPBAm23Wx/omk0ndeuutevnll739xcXFeu6553TiiSdq1KhRevbZZzc4TQt4TJ8+XRdeeKF+9rOftek7f/58HXXUUXrttde8YIXt3HLLLfXRRx/p6KOPlu3PbL/+9a913nnneddj41qLRCLe/N58883MrrxGAAEEEEAAAQQQQAABBBBAAAEEEEBg0AqQYTFob+3gvrBct2SR333pbBkB3W3NwyZ5mRJF9avV2N2De7l/rgua1JWNU7gfBCziLmPFkaok1L/SK4444gjV1NTo7bff1tSpbQM7hx56qBcUmDNnjpdhceWVV7a5Q/fcc49KS0vVfrt1sgwJa7vvvnub/S+99JJ23XVX3XTTTfr85z/v9VnfP77xjW/o97//vc4//3wv0yM9v6985SteUOT+++9vc6gFUCzIYftfffVVb9/ixYt1zjnnaOedd9bZZ5/dpj9vEEAAAQQQQAABBBBAAAEEEEAAAQQQGEoCZFgMpbs9yK612H2xbl+y96StHbOt4qFcV5MieyGLQKzFVepOqmb01kqG8npyGb16jFnm9bPaFfaFv2UYWPAgHQxof9G2LFTm0k7t93f3/S677OJlXMybN69Lh953333KycnxghB2gC03ZZkVN954o7e8VOYgI0aM0C9/+Utvvy39ZO2rX/2ql+3xu9/9LrMrrxFAAAEEEEAAAQQQQAABBBBAAAEEEBhyAgQshtwtHzwXbAGLnmRYmEDNpF3U4DIbSmqWZQ2kpHapN4e1k3bL2hwyT+xKV6iwn2VXPPLII94UTzjhhMyp9unrlpYW1dbWqqSkpEvnsWWpbEkoC1KceuqpXt2JffbZx6td0dkAFqCwrBGrf2EZGi+88IKuu+46TZs2rbPubEMAAQQQQAABBBBAAAEEEEAAAQQQQGDICBCwGDK3evBdqC1d1NMMC8toWD1pV1fwOl95jdWbHScnXCfLDakaP1PxwvLNfv7OTmiWpaFgZ7uyts2yHCZPnrxZz3/mmWd657PAQlfbSSed5C0JZUs+FRUV6a677trgob/97W9VUVGhO++8k6WgNijFTgQQQAABBBBAAAEEEEAAAQQQQACBoSRAwGIo3e1Bdq0Frjp0jnv0NGhRN34nNQyboJL65fLb8kybqfkTMZXVLFJj6RiX6dE/sivs0q3WdnGof/0roampyVtuqf2tufbaa70aEVY82x4TJkxo36XL72+++eY2Y/3mN7/RJZdc0u16EjYPa1tssUWHpaDaT8bqZ6T7f/GLX2y/m/cIIIAAAggggAACCCCAAAIIIIAAAggMSYH+9e3kkLwFXHRPBQpcNkCOq7kQ70HhbTtnMpSjZVseorWu4HV59SfyJRM9nUq3jitfs0C15RO1dMuDlMgr6taxfdU5mkx6wZ98FwDqT62wsFCNjR3rjFgx7CuuuMJ7rK+2RVev49hjj9Xs2bO9x09+8hPvsOeff77N4ffee69XGNuKY9vj3//+d5v9llHx+OOPe0s82dJQt956a5v97d+cdtppam5u1pe//GVdc801+uCDD9p34T0CCCCAAAIIIIAAAggggAACCCCAAAJDTqB/rf8y5Pi54E0RKAj6lOu+YI+54gt5gZ6NFK6cppVTP69g/CmVrVmomsopLtWg7+J4pdULFS4od8tR7ayGcdv1bNJ9cFTcGea64E9BsIeQfTAnG3L69Ol64403VFNTo/LyT5fOsoCFPaz997//1fvvv++97sk/xo8fr7333ts71J6tMLbVzLjlllv03e9+19u+4447tsnimDLFfU7+1xYvXixbRurggw+WZWckXfDnwgsv1GGHHdZpoXALfjz66KNe3+OOO04zZszwCna/9dZb6SF5RgABBBBAAAEEEEAAAQQQQAABBBBAYEgK9N03s0OSk4venAKVuUEVuDoWLYnkJp22ZsoeXi2JpqJhGrZ6nvzx6CaN19nBvkRc5VUfK5JbpOrRn1PVll/orFvWtoXjSRXk+DUir3/FMC0IYO0Xv/jFZrM5/vjj9dnPftbLfLAlqazZewtmpB+ZS1BZrYtAICCrX2HNAh1Wn+IrX/mK9z7zHytWrPCCG/vuu6+XjWEZJPfdd5/efvtt/eAHP8jsymsEEEAAAQQQQAABBBBAAAEEEEAAAQSGnAABiyF3ywfPBY8pyFG5C1o0RjctYGEiK7f+olZOm6W6svGyJZuCkXCvQQVcfYyK6gVqLB6l1RN30Yrtju61sXtroMZYSoVBvyYW5fbWkL0yzimnnOIFC6ymxAMPPNDpmHV1dZ1u7+rGdC2JzP62TNOaNWt00003ZW7u8Pq2227TCy+84AVULDPDWklJiReEsKWhbJzMZsEQaxakSDcLXpx++um6/PLLvcBFejvPCCCAAAIIIDCwBZLRqFrmfayw+2+CJpcR2jDnGTU89ZQaZv9bTW75yfArr6hl7lwlGhoG9oUyewQQQAABBBBAAAEEelGgf/2cuhcvjKGGhsAk9wX7h2ublUimFPBvWv2F6ul7K1I0Qon3n1BR3Qr5GxNekCGRk98jzIDL1ChsWCmfq7FRUzFRqybvodopu/dorL48KOXmF4knNK2kuC9P0+Oxbfmkgw46SJbJYJkWe+21l1paWmQBgXfffVdVVVU66aSTejx+ZwceccQRsmWgbrzxRp133nmyTIj2benSpfr+97/vLQWVDkSk+1gQ4tRTT9Wll16qY445xivEffvtt2vOnDlesGLMmDHprt6zBUYefvhhLyuj/fJWFhT529/+1qa/vbE6Gdtuu22H7WxAAAEEEEAAgewKRJcsVmT+AiXcfysk6+uVCoeVctm2qURCPveQ3/1mzGVn2sOXmyt/SakCI0cqZ/Jk5bplJ305Odm9AM6OAAIIIIAAAggggEAWBQhYZBGfU2+6gGUEFIT8qo8lXbaF+4vfJrbG0Z/VwuKRqvz4GZWsmafimmXy+VJqyS9VJL9cyUBog2ewwt254RrlNdfJn4ipvny8Gl2wYrUFQ0rbfkm9wYE2484GZ1foDPtbdkWaYLL7y/s777yjJ554wgtS1Lu/+FvbbrvtvGCABTMya0qkj7PnP/zhDwoGO//XnG23YttWw6KzZgGEDz/8UPF4vLPd3nabkwU2OmsWXDn55JPddxLrEtksuGDZGLvttluH7hYQefnllzVv3jw1uF9ZFhcXq6ioyJtfh87/2zBx4sT17WI7AggggAACCGRBILZsqVrefEuxFcuVXFsj9x8L8ufny+d+FOK3OmH+oHz23yUuaOEFMNwPRuSyMBIrl7vHSsUXLlSLq2mVt/XWyttqqyxcAadEAAEEEEAAAQQQQCD7Au7H3+7n1TQENlHgscce84oMV1dXe+v3b+JwXT7cai/89L2Vqo0kNL64d3+Nlr9mvkbMf1Z5Dau9AESuC0L4lFLSF1AqEFTS757dlkAyLgtU+FPuL53uj5MX3MhzAY7CClW5rAoLgvTntqzRZYK4gMV3txrtLQvVF3O12g2xWKxN4eq+OA9jIoAAAggMLgELUi9fvtzLVOtsCb/BdbVczUAVSDQ2qvnFFxWdP1/JNVXyuSCFv2LYuuBENy4qWVerZG2NC3CUKTh2rPJ33lk548Z1YwS6IoBAWiDhAoP2Y6Bx7s+Q/RCIhgACCCCAwIYEttlmG291jxtuuGFD3di3mQQ6/+nxZjo5p0FgUwUKXN2FKSV5emFF76/92zx8qha5R27tCuWvXaiimsXKb1ytQKzZPSIKxCNeACOWW6h4MFeJnAK1FA5XU/kEhcsnqaViYPwFsymW0JblBX0WrNjUe8zxCCCAAAIIIIBAfxWIr61Wg1u6Mb5smVviya/AmLHyh3r2Ixp/aZlbHqpECbfcZfStNxR3S0sV7n8A2Rb99eYzLwQQQAABBBBAAIE+ESBg0SesDLo5BWwpozeDTWp0X7wXhTZ9Waj2c4+UjZY9arWu/kQg2iyfK6Ttt4CFy6hIhPKUCq0LWLQ/tr+/DzszC/pM7uXslP5+3cwPAQQQQAABBBDYVAGrVdH09FOKLfpEgcqRCpSXb+qQks8FPUaMdFkWLnCx2I3/738pUVurwj322PSxGQEBBBBAAAEEEEAAgQEgQMBiANwkprhhgYkFIZXmBdTgloXqi4BF+7N7Rbh7WIi7/VjZft8QTag0N6iJhT37JWC258/5EUAAAQQQQACBbAhEXUHthoceVnLlCoVcPSxfYe8uOePPc7UvpkxVwgVDmp99Vql4TEWz9s7GpXJOBBBAAAEEEEAAAQQ2q8C6arCb9ZScDIHeFRhVkOMKRucpknD1JajI0i3ccDylsS5YMb4wt1vH0RkBBBBAAAEEEBiqAvGatWp66ikvWBGYNKnXgxVpVyvQHZwyxWX2RhV5/Q01v/tuetcmPw8b5mps+Hz6whe+0OlYTz75pLff+rybcV6rK2PbMh+TnMFxxx3n1QvIHGzChAlevzPOOCNzs/f6gw8+8PY9//zzHfZ1ZcMbb7yh119/vStd6YMAAggggAACCCAwwAQIWAywG8Z0OxfYrbJQZS7LYlVTrPMObO0gsNpZleQGtPuI4g772IAAAggggAACCCDQUSDZ3KxG92V+bMF8Vxh7nCwTok+bWyLKP36Cki5IYpkW0SVLeu10VojYAhPLrP5Gu3b33XdvsFDxAQccoCuuuEKXXHKJpk2bpj/+8Y/afvvtVeXqb7Rvv/jFL7RgwYL2mzfp/dlnn60zzzxzk8bgYAQQQAABBBBAAIH+KUDAon/eF2bVTQGrY/GZsnxXxyKuWCLZzaOHXve4S0Wpi8Y1zRUsn1pMdsXQ+wRwxQgggAACCCDQE4HwSy8q7rIDAsOHy1e8eX704WVaTJykxPJlCs+Zo2Q02pOpdzhmv/32U1lZme677742+2pdzYy/uULixx57bJvtmW8OPPBAXXnllfrhD3+op59+Wn//+9/V1NSk+++/P7Ob9txzTxUWFnp92+zgDQIIIIAAAggggAAC6xEgYLEeGDYPPIE9XKZAeV5Qq8LxgTf5zTzj1eGYy0gJap9Rm+cv2pv58jgdAggggAACCCDQ6wLxtdWKfviRK4ztU2DY8F4ff0MD+nJzXZCkUnFXM6Nl7twNde3yvlAopJNOOkl33HFHm2MsW8LaCSec0Gb7ht586Utf8nZ/9JHzyWgVFRU655xzvKCILQO1sdbS0qJLL71UI0aM8JaMys/Pl2VTNLvMlnQ7/fTT9fbbb3tLVe29996yx/HHH5/ezTMCCCCAAAIIIIDAABcgYDHAbyDT/1RgVH5IO1YWqTmWUHOcLItPZdq+iiaTsmLb2w0r0mhX/4OGAAIIIIAAAgggsHGB8MuvKLl6pfyjR2+8cx/08Lu6E6nGJkXfeVu2NFVvtFNPPVULFy7USy+91DrcXXfdpaOPPtrLjGjduJEXS/63VFVJSUmHnuedd55KS0t18cUXd9iXuSESiWi33XbTzTffrJNPPlmPPPKILr/8ct17773af//9W7t+85vf1MSJEzXeFTu3LA97WFCDhgACCCCAAAIIIDA4BIKD4zK4CgTWCVg9hnfWhrWiMaopZXmwdCKwojGm0UU5+vzIok72sgkBBBBAAAEEEECgvUDcLZMUX7RICgblzy9ov3uzvQ9UjlB81SpFPv5Y+Z/73Caf1+pObLHFFrKaFbvssos+/PBDL3hxzTXXdHlsWwoqXU9in3326XBcOlhxwQUX6JVXXtFOO+3UoY9t+NWvfqU333xTc9yyV7NmzfL6HHbYYfr85z/vPZ577jlviamZM2d6AZBEIuFlV3Q6GBsRQAABBBBAAAEEBqwAGRYD9tYx8c4EynMC2nF4oXICPtW7LAJaW4Hw/zJPth9WoGG5xCvb6vAOAQQQQAABBBDoXCC+dKmSLmgRqBjWeYfNtNVfVuplWdh8eqvZEkvpOhZ33nmnxowZI6tvsaF2/vnne0s2+dzyWFa8+6GHHpKNc9BBB3V62FlnnaWRI0d6Rbo77eA2/uMf/9D06dNbgxXpflYHY9y4cXr99dfTm3hGAAEEEEAAAQQQGMQCfGM5iG/uUL20XdyyUHNrm7WwrkUFwTwF/b6hStHmuhOplJY3RDWhJEeWiUJDAAEEEEAAAQQQ6JpA1C15lGpqlG/s2K4d0Ie9fPm5ii1ZrGQ4LH/Bpmd7WK0KqzPxwAMPyJaD+va3v73R2R9wwAHafffdFQgEvKWZLDtjyy23XO9xeXl5uuKKK3TGGWfo2WefVWVlZYe+K1as0Lx587xASIedbsPSXgzSdDY+2xBAAAEEEEAAAQT6hwABi/5xH5hFLwoUhwI6YEypHkkktag+osmlufK7X38N9fZJXUQjCoPa19mUOCMaAggggAACCCCAwMYFEi4wEHcBAp/70r0/NH9RsVL1DYq6L/DzZszo0ZQsMyLlfsxizYIHVjT7e9/7nqqqqnTKKad429P7vTft/vGFL3xB5557brutG35rgZBrr73WO87qUrRvVgR866231m233dZ+l/fealbQEEAAAQQQQAABBAa/AAGLwX+Ph+QVfrYsX2ujcf1rWZ0W10c1yQUthnJb7AI3RS5IsdPwYm1bvum/xBvKllw7AggggAACCAwtgWTNWqUiUfn7ScBCbh6p+jolamp6fCMsGGFBi3Sz4tu2rNPee++tyZMne5sz96f7berzddddp5NOOkmPPvpoh6GmTZvmLQtlc9hYs8yOaDS6sW7sRwABBBBAAAEEEBiAAtSwGIA3jSlX5l8eAABAAElEQVR3TWBPt+zRDq6ehf1dbLkrwj1U28qmqOLJlGZWFmr/MSVDlYHrRgABBBBAAAEEeiSQjMSkeFwK5fTo+N4+yBcMSbG4Ui0tvTa0ZVhYEGP27Nm9NmZnA5144oleFsX111/v7c4Milggo8YFYY488kgtX768zeF1dXVa4pblSrdRo0Zp2bJl6bc8I4AAAggggAACCAwiAQIWg+hmcikdBQ4eW6btXNCixRWbrm5xf9kcYq02klBTLKntXLDikHFlQ+zquVwEEEAAAQQQQGDTBVLRiFLxmHzB/pGcbvNIJlzAws1rILYf/vCHqq6u9qaeuezUwQcfrIsvvlh///vfNdbVCjn88MN15ZVX6ogjjtDo0aM1d+7c1ss97bTTvJoWtoSUZWQcf/zxrft4gQACCCCAAAIIIDCwBfrHf3UPbENm348FrOD2ERPKFY4n9N7aZuX4/SrOGRr1GxpdoKIqHNWWFfk6cmKFQhQf78efVKaGAAIIIIAAAv1WILYuwyIV9OvTRZSyO1ufz+8CFj3/Mc7DDz+ssrIN/5jFimhbxkV6iSi74gJX5Nu2TZ06daMAf/rTn1RYWNihn2VzWOHtuMtasYBDZrvmmmv05S9/2VueyrItbI5HHXWULrvsMs2cObO163777af6+notXLjQy8qwot40BBBAAAEEEEAAgcEhQMBicNxHrmIDAgXuL5dHuC/so6lqfVzToqTrWzrIgxYNsYRWuWWwJpXmuYBNhYqcAQ0BBBBAAAEEEECgBwI5rhaay2rwJey/IvtHS6WS8uX0fImqPfbYY6MXUlJS4mUvZHYMOgfLaOhK23XXXdfbbc8991zvvu2220722FgrLi7WNttss7Fu7EcAAQQQQAABBBAYYAJ8iznAbhjT7ZnA8NygDh9Xrs+U56umOS6r6zBY2+qmmKrcY4ZlVrjskpH5bp1jGgIIIIAAAggggECPBPz5eW45qJCSrm5Ef2ipREL+QNAVAc/vD9NhDggggAACCCCAAAII9KoAAYte5WSw/iwwrjBHx00Zpm2GF3hFqBfVu/WIXXHBwdSWNETV4n79t/WwQh03ebgmFrlfBNIQQAABBBBAAAEEeizgy/tfhoUV3u4HLeUVAHcZHy6QQkMAAQQQQAABBBBAYLAJELAYbHeU69mgQEkooK9MHqZdRhYrP+DXx7URL3ixwYMGwM6EC7zMr21xdSqknUYUucBMhcoH+bJXA+C2MEUEEEAAAQQQGAQCwbJy+QvylYw094urSbU0u2BFofzlFf1iPkwCAQQQQAABBBBAAIHeFCBg0ZuajDUgBHL+V4h7v7GlGl0UkmVahF3Nh4HamuNJfVIb1ajCkGaNLtUxkyq8YMxAvR7mjQACCCCAAAII9CcBqxURHDde2oQi1715PamGevmKi5QzZnRvDstYCCCAAAIIIIAAAgj0CwECFv3iNjCJbAjsNapYXxxfrokluVodjmt5Y0yWqTBQWtJNdYUrrG31OCaW5ujAsWXaf0zJQJk+80QAAQQQQAABBAaMQHC0Cw7k5yvV1Jj1OaeaIwqNHiu/mw9t8wnYUrJz5sxRU1NTj05aXV2tZ555pkfHDqSD6urqVF9fr4SrtUJDAAEEEEAAAQR6IkDAoidqHDNoBD5blq9jXUbCFq5AdX7IpwU1LapyRbn7e1vTEtf8mmblBv3awhUSP3JihbarKOjv02Z+CCCAAAIIIIDAgBQIjRkjf1GxEmvXZnX+idpa+QoKFCC7osf34dvf/rZ8Pp9GjBjR6RhVVVXefutzzz33tPZJJpPaZ599NH/+/NZt3Xnx4osvesdnHnPxxRersLAwc1OH142Nja3zuf766zvstw0XXXRRa59IJNJpn8yNy5Yt8/rff//9mZs7vF60aJEuuOAC7brrrq3j23zat3A4rOOOO04F7rNZVlam0tJSBYNBHX744bJz0RBAAAEEEEAAge4IELDojhZ9B6XA6IIcHe/qWuw1skSTy/IUiSf0kQsG1Eb636+C6qI2txaF3bPNdU9Xi+PEqcM1wRUUpyGAAAIIIIAAAgj0jUBw+HAFJ0yU4jElXQ2JbLVk1Wr5R45Q7vTp2ZrCoDivBQksMPHoo492uB4LUnQWRLAAxhVXXKGRI0d2OKYrG2bMmOEd35W+nfUpKirSb3/728526e6775bt7+1mGSU/+9nPvADE1ltvvd7h16xZo1dffVXnnHOOnnzyST344IM65phj9Mgjj3jP6z2QHQgggAACCCCAQCcCBCw6QWHT0BMocJkKtkTU16dXympbjC/OVX3EZTG4QtZNLoCR7WZ1Kha4udS6zIrxxTna183xlGmV2md0CfUqsn1zOD8CCCCAAAIIDAmB/J13lH/ESCVWrszK9Vp2h899KZ239ecU6IMvp7NyUVk6qQUd9txzT917770dZvCb3/xGX/7ylzts9/v9uvLKK3scsJjugkwW8OhpO/roo/Xxxx/rpZdeajPEP/7xD610n8njjz++zfbeePPFL37RWwLrn//8p2bOnLneIcvLy/XOO+/ommuu0QEHHKCjjjpKf/7zn/X1r39dlllimRo0BBBAAAEEEECgqwIELLoqRb8hIVAcCrg6EKVe4GIvFwwY54IDNW6JKAsWWK2IsAscbK5mhcDtnAtqI6pujmmsm8ueFlSZMUJfcAGL0pzA5poK50EAAQQQQAABBIa8QKhyhHI+s6V8TiJZU7NZPZJumZ/kmioFx4xV3uc+t1nPPVhPdvLJJ3tfqte6ZbbS7ZVXXtGHH34o29e+2ZJQe++9d5sloT755BNvmy17ZMEMW2bKMjF22203L7iQOYZ9cb/ffvtlburW65133lmTJ0/2sikyD7TsivS+zO298bqioqLDMHZ97VtxcbEr8dKxpsoRRxzhdV29enX7Q3iPAAIIIIAAAgisV4CAxXpp2DGUBSpygzp0fJm+6paK2mlEsSaX5qrABTPWusDBx25JpmWu2HW9W5bJiu/1Zqt3QYpljRF97AIka1sS3jknu4La2w8v0vFThuvwCeWqIFDRm+SMhQACCCCAAAIIdFkgf6edFJw2XfHVqzZbAe5UPK7Eok8UGD1GBbNmyZ+b2+X50nH9Al/96le9nX/4wx9aO911110aO3Zsh1oT1sH+u9+KZmcW3bbXtu0rX/mKl0Xwy1/+Utddd53efvttb1vrwO6FFd2ePXt25qZuvz7ttNN03333tR5nwZY//vGPnQZYWjtl8cVrr73mnb2ysjKLs+DUCCCAAAIIIDDQBIIDbcLMF4HNKWD1LY6a6LIsXHBikQskLHaPFc1RNcSSanLBhcUu+yKWTLlfUklB949QwLfu2S0xFXTbcgJ+uVresp/iWT93mHskZYkasYQ927aU+wuQO97vU2GOXxV5IRWF/Bqdn6MJRbma6OpTWACFhgACCCCAAAIIIJBdgYArKlz0hS+ooTms+IKFCkya6AIIeX03qVRSySWL5R82TAV77aWcceP67lxDbGSr+WBLP1mGghXitmbBi7PPPrvLEukfL+2444665ZZbWo+zotNnnHGGrLbDcFf/pLfa1772NV1yySX605/+pGOPPdabr419wgknyIIl/aktXrzYM9l33301adKk/jQ15oIAAggggAAC/VyAb0H7+Q1iev1DoNxlNZRXFGg797DmBS+aIlrSFHPBjLgiLvgQSaTU7CISze51gwtmJFwgwv2/Ev/LwnCxDPldUCPgAhMWnMh1wYzSXL/yXHDDe+0yOMa74MREF6Sw54DrS0MAAQQQQAABBBDoXwJBt15/4f4HqNEVbE4sWCDf+AlebYnenmU6s0J5+crbbnvlbbVVb59iyI9nSz9ZnYYPPvhAb731lixjwYIC3W3HHXdcm0N233137319fX2vBiws+8OWpbLC4BawsIwQW3aprKyszfmz/Wb58uXe8le2jNYdd9yR7elwfgQQQAABBBAYYAIELAbYDWO6/UPAggr2SDdbyskKY7e4YEWTe7agRYsFMFzBbqt7YWu95rkgRb7LnMgPBFTg0i8KXMAi122zpaZK3IOGAAIIIIAAAgggMDAEcsaPV9Fhh6rp6acVW7hAgWHDvUdvzT7pMjgSS5bI75bSyZu5kwp33623hmacDIHDDjvM+7LfsiwsYLHHHnt4dSIyunTp5ZgxY9r0Kykp8d5HXO2R3m4WZLFi1s8995ys5sZFF13U6Snq6uq8uhqZO2+88UYFg337FYAtk3XwwQd7NTxsuaypU6dmToHXCCCAAAIIIIDARgX69r9WNnp6OiAwOAQs4EDQYXDcS64CAQQQQAABBBDoikCOy6zwH3GkGp98UvF5HynuviD2jxwlf2FhVw7vtE8yFlWyqkrJhgYFXVCkYK9ZyvvMZzrty8beEbAAwG9/+1tv+ab+nA2QLnZ99NFHewELy7Aod9k+Rx55ZKcQeXl5+tKXvtRmn9/ftyUsW1paZEEgq+Hx5z//WXu5ZcxoCCCAAAIIIIBAdwUIWHRXjP4IIIAAAggggAACQ1qgsbHR+0IuGo16DgWursF49+Xy6NGjvfe2PRwOb9TIfuls6+jHXVFlGzPd7EtF+7IxJycnvWmjz83Nzcr8NbeX3enGyKVA80btNqWDLQ9V6r4wDr/xhiKuwHB8+TL5c0Lyl1bIV1wkn8us7UpLul+lJ+tqlXRLEgWGu6yK3XZXwW67ycan9a2ABSx++tOfeidJF+Lu2zP2bPR0vQzL3rB5Wr2N73znO+sdzP7s2/JRm6tZsOLQQw/VnDlz9Otf/1rHHHPM5jo150EAAQQQQACBQSZAwGKQ3VAuBwEEEEAAAQQQQKBvBBrcr96/973v6Te/+Y0mTJjQunTMAlfHYIlbvmf77bf3vqyzgrjf/OY3NzqJXXfdVf/973/1wgsvaNasWR36T548WZdddplOPfXUDvvab7BlYW699db2m2VL1Vx++eX6v//7vw772NA7Aj4XWCrcZRflzpih8EsvKfbRh0rUrFFqqSuWXVS8LuPCAkcWyHD1KCyLwhdxmRQusJVygaZUQ71SLrBhfXO23VZ5O+yovOnTemdyjLJRgZkzZ3p/bi14aI/+2tIZFjY/W9rpW9/6lj772c/2i+lakNaKa7/zzjt66qmntP/++/eLeTEJBBBAAAEEEBiYAn2bEzowTZg1AggggAACCCCAAAIdBOwLuT/+8Y/63e9+p0WLFnlfcs5xvyZevHix7r33XtXU1MiKzZ522mmyX0OnHxaQsPajH/2odZvts2BFZnv99de9/Vao95FHHvHWmre16m17V1ppaWmb8aurq/UZt5zQ6aefrpfcF+m0vhWwbIiSgw5S8VFHq+DAg5S7407ylZUrlUi4JZ7qlVy92qt3kXSfkURtjVKRFvlcFkxoi88of599VeSW7yk58iiCFX17mzod3QKGFrjIRrNsLAtGdPbInE86w8K2pYtvjxgxIrNLt1+fdNJJnZ7XAg/W7N9d6XlZoW9rFtSxbaeccor33v6xcOFC799nlil2wAEHtB6TPvbf//53a19eIIAAAggggAACGxMgw2JjQuxHAAEEEEAAAQQQGPIC1157rV599VU9+uij3rIn7UHsiz9bLz6ZTLbf1e33xcXF3jrwFnCwLwVffPFF7bDDDt0ep6KiQtdff7123nln71fPu7gsgMxmWSH2RWMgENDw4cO94ridFeStdcsUWYDGnm05GguC5OfnZw7lvf7oo4+8gE0oFJJ9kTp9+vQOfYbChpxx42QPOe+4M0u4R8ot+ZRwGTqpcJN8Obnyu3vsKyxSoLRYocpN+9J5KJj25jWec845+trXvrbRIWfPnu191tMdbak225ZZRNqyoGxb+8DBqFGjvO0TJ05MHy7LqLK+mc2CmwceeGDmpg6v7c+aHbexP0/HH3+8dw7787exZn/e288l85gpU6Z4b7faaqv19rNrTDdbEm9D423rModoCCCAAAIIIIBAVwUIWHRVin4IIIAAAggggAACQ1bgpptu8n6BbWu0r6/Zl/m92UaOHOkNV+WKMPe0pWtptF/qprKyUlb3wn5VvmLFCs2bN0/25aoFZLbeeuvW051//vmya7cvLu1LTutrgQn7xfQ+++zT2u+QQw7RE088IRvXvsi0X2hbRsrf/vY3L8jR2nGIvQiWlcketP4jMMMt3dWV1r7+g2ULtN9W6Aqst99mY1uQof32YcOGdVj6zQID6eDA+uZkAcX2Y3XW15aps0dXWlfrW1jWVlfObXV8utKvK3OjDwIIIIAAAgggQMCCzwACCCCAAAIIIIAAAhsQsGVObLmnPffccwO9en+XBQCs7bjjjl0a3Ip32xJV1qwA7nPPPac777zT+2W2FRbObHfccYeOdMWi082WfrGgg9W6eP75573NFuywYIX9CtyK6KabZZpk/qLcghr/+c9/9OCDD+qoo47yulkfW8f+6quv9sZIH8szApkCLUlXbFwxxZMxyZeSXwEFfCHl+PLcc05mV14jgAACCCCAAAIIDBEBAhZD5EZzmQgggAACCCCAAAI9E7CCstbKXY2C9u3nP/+5VrvaBOl2zDHHtMlQSG/vyvOvfvUrLzvB+tpSTVYXw7IUNpTVkTluk1t2KDPrwfbZkjXPPvusbHmozJYZrLDtu+++uy644AJdfPHF3rJWtvxNJBLxDrFARmbLDKDYOS2oYfU50sEK62t9LPhx2223EbDIxOO1WpKNaoxXqznZoHgqomQqLlfxxfs/nwtZ+H0ubOEFLQpUEChVcXC4F8iADgEEEEAAAQQQQGBoCBCwGBr3matEAAEEEEAAAQQQ2EQBy2Bo3yxgMXfu3NbNVt8hc0ml1h0beGFLzVizrIT00k3PPPOMt0RTutBt+nCrI5HZbBkqCy5Ys+VpbEkna1ZL44033tDf//532RI4Vij8sMMO8/bZP9auXas//OEPXkFvq09h15ZeesoCNHmuGLSNbcs7WSDCMjRs3X+rg2HnSTdbIsraW2+9pSuvvNJ7nf7H/PnzvWWnLFPDloyhDW2BmAtO1MaWqylRq2gq7IIVUZdPEXLBiaDWBSp8LmiRdP8XVzQZVjhVq3CyVg3xNSoJjVBJoHJoA3L1CCCAAAIIIIDAEBEgYDFEbjSXiQACCCCAAAIIINAzgZycdUvTrFy5ssMA7777rrdtzZo1Xv2GDh26sCGVSnm9bNml7bff3nv92muvecV4jz76aL300kveNst4aJ/lYYWzx1mBZ9esYHbmOvKWnXHuued6yzedd955rQELm6sFMSwYcfjhh8sK5lqzwMt7773XWjjc1s63c19xxRV64IEHvIwPCzyceuqpXkaFBS7SWRgffPCBli1b5o2T+Y9Zs2YpfX2Z23k9tATCLkixJrZYEbcElAUqbMmnvEDxehFyfIUu8yKhWKpZjak1ikWb1eJv0PDciWRbrFeNHQgggAACCCCAwOAQIGAxOO4jV4EAAggggAACCCDQRwKW9WDZBlZoenM1K4Z96aWX6nvf+55+//vf6/jjj5cVyu3Jl/+W8TF79uzWqf/zn//0Mh8soyMz88GWdvrLX/7S2s9eWBHfu+66y3ssXrxYt99+u2644QZvqSkLhlhxYWsXXXSRbDmsgdJS7gvwVLRFqViLS0dxmTOhPPmC7pFjz6GBchkDYp71iSqtjS51S0DVKddf4B4dl1br7EL8voByfUUucJFUS6peiURcsZaoRuZOUZD6Fp2RsQ0BBBBAAAEEEBgUAgQsBsVt5CIQQAABBBBAAAEE+lLg7LPP1g9+8ANdf/31uvDCC/vyVK1jf/vb3/aCA5dffrkXsGjd0c0X77//fpvMDKu5YTUtMoMVNuRf//rXDY5swQurVfHQQw/pww8/9PqOHj3ae7Zj+3vAIrbsQ8WXzFX8k3eUijRK7gtwe6TcF+K+gPtrkfdwSxRVTlRw4ucUGr+V/EVd+3J9g3BDeGdTokZVkYXeElD5frd8mVv+qbvNaloU+Mq87IyGxGr5XEmZUbkzrNpFd4eiPwIIIIAAAggggMAAEOC/8gbATWKKCCCAAAIIIIAAAtkVuPrqq7XTTjt5mQTf+ta39Mknn3gTsuLYTz31lC655BLvfboeRW/M1upIWBFsqwVx9913b3RIq0MxZ86c1odlhFjBblvK6rTTTms9fsyYMVq+fLmXwWHP1n7605/qv//9b2sfe2F1LiwQ8frrr7dut9oaFqyYPn26t80yLK666iqvHsZ3vvMd2VJW1hobG2V9reh2Nlsq4pYSevtfavzrdWp+/DZFnvuTEkvfV6putVLN9UolYlbwwwUwwko11ihZvVyxt/6lln/dpca/Xa/wnHsVX7Uwm5cwYM8ddcs5VUUXKaZm5ftLexSsyLz4XH+hV+/Clpeqji7O3MVrBBBAAAEEEEAAgUEk0P2fuAyii+dSEEAAAQQQQAABBBDoqoAFACzTwmpN2COzlZWVeUGLzMLWmft7+vrMM8/UtddeK8uyOOWUUzY4TFNTk/bZZ582fSorK3XZZZfJAi7pduSRR3rZENdcc43sYW3atGkdskcsAHLiiSd6y0elj7Ugyje/+U2dddZZ6U3e3GzZLFvCyoqQZ7bdd99ddg2bvbnMieiC1xR56yklVy5wAYkW+UuHKTB2C/ly8zY6nWRTrVL1axR97QnF57/+/9k7D8A4qqv73+3qsuQq23I3Nh0MJqb3FkwJEGoSWiBA8lFCCCR/EjqhhYQeCJ2EECBACB0SejcdGxv3XtW1Kltm//c8M8toVbySdqXV7rnfN97ZmTdv3vxmRXbfmXuPeDf7ngS23kc8g4Zv8lg22EgAogLKQOW7i1Ss8KQES0D7aoYRd3SDFERLpdDDDJiUgGUnJEACJEACJEACJJBBBFxaB3ejy18GDYpDGXgEnnvuOWPkWFVVZUoMDLwr4IjTSWD16tUSDodNHex0nod9kwAJkAAJZBeB+vp6kwkwZYpOMrtcGXNx0WjUZBDYX6NhTl1c3LmBcMYMPGEgECQgcoAtPDo6i7q6OuOd4fP5BEbbnUUil02176yf3m6PqtDQ8tY/VGiYJbGWoLiHjlGxYmiPuo3p9xdr/RKJNdVrP5USmHGkBDbfvUd95dJBECrWti6Q1liTya5I5bXHJCrN0Xop9Y6QisCUVHY9YPqKxsLSpIxboo3GxNySiERjEfHo/7ldPuPxka+m5ijD5dH3AyHw3yNkZkH87Uk0NDQYnx+/328Ox3+P5s+fL6NHjxYIqgwSIAESIAES6IrANttsIwcddJApx9pVO+7rGwLMsOgbzjwLCZAACZAACZAACZBAlhCAQFFaWjrgr8br9SZ1HcleayZwCS/7Slref0qiS74QV0m5eComqz9Fz5/ud6lI4xk5WaxgvWZqLJCWN/8h0Q0rJH/6YeLK61y8GfAfjl5eQGOkRlqsRsnTCfNUh8tMynu0/wb1tWgyRt6pPkem9heJhaQ2vFqCWhYrIq0SsVrFUgFHBIIunkPcKOwio8UXDahwEZAC9yAp841Q4WLjRH46rw0iLkrBISZOnCiVlZXtTrd27VqBrw5it912E/x3CPH+++/L7rvvrhXa1FOmBwL1jBkz5IILLpBTTz3V9IexfPjhhyZDbPvttzfbOvrHOZ699tqroyYya9YsI6aMGDFCpk6d2mEb58alS5easoF77rmnc3On62+99ZY888wz5gEvt9stO+64Y698izo9EXeQAAmQAAmQwAAhQMFigNwoDpMESIAESIAESIAESIAESKBzAq1z39ESTs9LdNUCcQ8fL+7i1JULcheWiGvcNmKtXqgeF69KrKFK8vf8iWB7MhGzwhJtXqkZH6vVN6NBl1Y1/G4RS1/dHi1RpYsLi1efiM8fLe78kcl0m5FtLDUxh88EJp1TVQoq8UJ9rnwJx1q0PFR9zggWdZF1UhvRrGUVaUJ67T4VIwKeArUeb59BEVVhA+JGq4pGIatZglaNlHlHSom3Z5lGifw7e48sCbssHV5RRi8xzjvvPHn00UfN5tra2rhoCmE02Qn+xD7xHh5DFRUV8V0QPk466STj35NYwi/eSFcwxhNOOMFsevbZZ43vj3M/MsXRNwL9JeMn9PDDD5tSfHYWnrM/53pzc7McfvjhxgcJr1tuuaWsWLHCjBniCfyGGCRAAiRAAiSQiwQoWOTiXec1kwAJkAAJkAAJkAAJkEAWEQgvnyOhT16U6JrF4qncQlzfloVJ5SW6PF7xjJ5ijLkjiz6V5kC+FKho4fK2nzC2z2uFaiTaOF8zNJYK1q1wvT4Dr0/Eu9y6IPPDrU/Iq+m3FdWyWxF9GxC3r0RfBou7YJx4izfT/gdWJkdrrFHFBBViOphIt7n09hVljiBWtKj4I1oaKtujKrxMMyvWGANziDVF7sFdXjKyKbAEpEjFjWYVkPRzqAIGRJ7BvvZZD1121oOd06ZNk9dee81kGYwbNy7eA8rLQazA/k8++SS+HStbb721vP766222dedNMkJCV/1hTPfdd187weKee+4xZarKy8u7OrxH+y688EIjVrz44oty4IEHxvu4/fbbBSX1GCRAAiRAAiSQqwT0mzKDBEiABEiABEiABEiABEiABAYmgWjNaml5718SXb1ATbV1gj8NYoWTjHuwPvWs4kV00WfS8uHTzl3x9VhEJ+2r35fWVVrmZcO7YrWsMgKFp7BSPMWTxVM0UTyF43RRfw28Fk8Ub8kU8RRUqKChLg3BJXrc23r80xKp/XxjRka898xeCVmaOaIFi9yS3mfjXEoKHhnZHutDi6VGy0CF9FrzXCWaWbFp03gnE78KHPnuUlM+qya8SjaEljp3p2X9kEMOMZP89957b5v+H3zwQfP+uOOOa7Mdb5YtWyaXXXZZm+3vvPOOvPzyyxIKhQTCwfnnny/XXXedfPbZZ23a4Q0m+T/99NN225PdcPLJJ8uTTz4pGzZsaHPInXfeKSeeeGLKBYR169aZMf/oRz9qI1bg5PDcCAQCbcbBNyRAAiRAAiSQSwQoWOTS3ea1kgAJkAAJkAAJkAAJkECWETCeFSvniUfLQLn8fTPJ5xk+TrMm6iS8YJaEl3zehmikfra0rHhCQuvf0ayKOi3xNEKzJSo1a6JMEyu6fmrapRkWLs2u8BSO1Wsp0xJS6yS07jUJrVJfjuDiNufJ3DeaMaKShbsHPgTduSaUnIpp+alsDpSAqo+sN34VhZ7yHpfYQmmuQk+ZybCoj66X+ujatGJDdgAEAGQsOAOiwvHHH9+hsTYEi8svv1zvKbw4NgYED4gY8Kf4xz/+YcqM3XXXXQJPiueee85uZl7vuOOOXgkWxx57rOTl5clDDz0U7/fVV18VlIQ65ZRT4ttStQJ/DcRpp51mBBhc51/+8pdeXUOqxsZ+SIAESIAESKC/CVCw6O87wPOTAAmQAAmQAAmQAAmQAAn0iEBo/oeaWTFfXPnF4ioo7lEfPT3ImHFvWC6tX72ufhQRkwUR2vCmhNe9KbHWDWpLMVS8haO1zFPPzI7dXvUngHChJaKiTctUuHhdwjUfa/koLR2VwRGDXBGL6uRyun9qukwmRwaj6NXQYCgOg22UdCrQDIlUBPoJWUGpDq0y4kUq+uysDwgWq1atEpQ7QsC4+ptvvun25P97770n+++/v/z3v/+Vm266Sb744gsZM2aM/OEPf+js1D3aXlhYKMccc4zcfffd8eMhmEyZMkV22GGH+LZUrSxfvtx0BQ8NCDAQa8466yxTLuvqq69O1WnYDwmQAAmQAAkMSALp/hY5IKFw0CRAAiRAAiRAAiRAAiRAAplNIBZuldDXb4lVs0bcg0f1+WBdXq8ae5eLtW6JtMzTLIj1r0qkRss3qRcFyjy5vEUpGZPbP0gzNMZKLFQrkWrN6NjwRkaXiEIpKHhMQLRIb8S0PFJ+ek/Rj73XhFdKi9Wg5Zxg7O5KyUggIuV5ik2/KA+Vzth2220Fi51lgZJOMJGG+JBsINsCZtyYzLcD5ZK+//3vy5w5c+xNKXtFJsW8efPkgw8+ENtv42c/+1nK+nd21NLSYt5eeeWVcuutt0pNTY3x9dh9993lkksuMaWwnO25TgIkQAIkQAK5RCC9hUVziSSvlQRIgARIgARIgARIgARIoM8IoBSTtW6ZuAcNV/9qT5+d13kiV1mFRFfOlfCa18XjGy5uNchGKadUB0pJeYrGqhfGWok2fKPdu8U/dI9vjbtTfbbe9efVsbr1/yyUa0rNPHuHA7KsmHjUSyQbo1WzIJqtOqXo6XEZqM64QFByuV0SVCPukNUsfnf6RJ9TTz1Vzj33XFm7dq387W9/Mx4UnY2ro+0o+wUzbpRqcsaQIUPMBL9zWyrW99prLyOqQGTZcsstTZfwmOgoli5dKosXf1embcSIETJ16tSOmna4zfPtf7POOOMM+cUvfmHaINPin//8pxkD/D4OOOCADo/lRhIgARIgARLIdgLZ+Q0v2+8ar48ESIAESIAESIAESIAEcpxAZNU8serWi3f81v1GwuV2i2t0oWY8VIuEh2lZqtSLFc6Lc+cNF6t5jfGzCGvJKF/595y7M2LdJ/kmwyIca03beCCGwCIDhtLZGE0qVqAkVJ4nNVk6iYz8eo9g4g1RJB2CBYQGBCb7IVgcccQREgwG4+Wg7P2J4+roPfwwEsOtf3epCtszw349/fTTTekplJ06/PDDZejQofFTOc+LTIwXXnghvm+nnXbqlmBRUoLMGRGIJM6oqKiQrbbaShYtWuTczHUSIAESIAESyCkCFCxy6nbzYkmABEiABEiABEiABEhg4BOItQQ1s+GbPjPZ7oxYzN+kJtk+iUWaJNYUEkmN1UBnpzPb3WribQWXSaRhvrjzRopHDb0zKXxqHB5wF0lzpCFtw4pKq3hdAcn3bJz0TduJ+qnjJs1+sFxqXK7ZEOkIj8svEateGiPVUuodkfJT2JP/5eXlcuSRR8qTTz4pe+yxh0yYMMGcy96f8hP3oENbPLFf4b2BElSzZ8+Wa665pk2PlqVZQ98Gsh96kwFRWbnx77ahof3fSWNjo4wa1fdl7uxr4ysJkAAJkAAJ9DeB9HwD6u+r4vlJgARIgARIgARIgARIgASylkBYyzBZjdXiKk5vRkOXAN06eZnfrKbYIrHaiFh5mmVRMbHLQ1K1050/yhhxR+q+zDjBAtcIIaE+ss4YO/tcbcv5pIJBS7RJCj2lkufuW6P1VIx9U31EYyHNrmjWYlDpLXPmcXlMlkVUPVc8rtROCzgFid/+9remrNO+++4bv3Tn/vjGflqxx2K/jhs3znhKVFVVyWGHHZa2UW2zzTam73//+9+CslB2fPrpp7JkyRKTnWJv4ysJkAAJkAAJ5BqB1H4zyTV6vN5eEUAK7ZdffmlqmiLVd9q0abLjjjvGn7xJ7HzWrFnyzDPPSH19vdkF07ZDDjkkXl/Ubh+NRuWtt96y32q6uMuYteEpFTuld9WqVfLNN6j/23UMGjRItttuuw4bffHFF1JdrT9MEyIQCMjOO++csLXjt6FQSJ566ilj7tbU1CQTJ040KdP2OO2jFixYICtWrLDfmmsqKysTfKG204njO7lCAiRAAiRAAiRAAllOwKpZrRkN9Wp6vfGJ7f64XCsQFPGExRXRn1RqwI2sj1iotW+yPtweFUpKtDzUaonUzxFvyRb9gaDTcxZ7hkide600x2rUGDu1gkU41iw+t19KfENTPtHe6QX14Y6ICggxQXZFegULV8xrsjgsieqZUjstYGcrANsOO+xgFidC537n9nSsf/LJJ3LZZZe16xrG3SjjZI/FfkVD21Oi3UHd3NDRedEFtuP33tVXXy3/7//9PznuuOPMgt98119/vRQWFso555zTzbOxOQmQAAmQAAlkD4HUfjPJHi68kjQSaG1tlV133VU+/vhjcxaIFF6vV6677jrzfv78+TJp0qT4CGBodvTRRwsECxis2QZozz33nFx00UUyfPhwI1BMnjzZHIOJ/7333jt+vHMFT6/cddddgidZzj77bOeuDtf33HNPef311zvc9+tf/1peeumldvtQ7xRj3lSsX79eZsyYYeqT4rrwpfXrr782T9i88sorst9++8W7uPXWW+WWW26Jv3euYF+qvlQ7++U6CZAACZAACZAACWQqAaulUT0jtASTz98vQ4ypUCH+kBoixyRm6cSyPq0uUUu9LELqMx3okzG5A4PVy0JLQ0GwKFThxpNaYaA3F+HVkkNlvpESCjVJi5YeynOX9Ka7+LGWRLS/oJR4hkqppyK+PZtWLAgWxqMjvYKF2+U254nGwioqpeYzC48HeFZ873tde6vAowHt8KCXHXgYDducwsH+++/fobk2fkOhrTN+/OMfx38nYjvG8pOf/ESKioqktrbW2dSs48ExxGabbWb6wu/RruKkk06SsWPHdtUkvg9CCMbX0XnjjXQF2Sf4DXjTTTcZs23sw29j/L5LfIDNeRzXSYAESIAESCDbCbg09TGW7RfJ60s/AYgHM2fOFKTOolZpV3HbbbfJ//3f/8kNN9wgv/rVr+JNkTnx6quvCkSCwYMHm+0QH5DhABEDE/Y4zhlPP/20qTH6pz/9KW5YhjqgyDpw9v/222+bGqTI6sBy0EEHObsxggfqqv7xj3+UX/7yl232dfYGfaxdu1aQttuTOO200+S+++6Tv/3tb3LiiSeaLmDehi/4paWlbUQPfOF98MEH23zpheBx7LHHymuvvSYffPCBeUKoJ+Poi2NWr14t4XBYIOYwSIAESIAESCBZAvhugKzIKVOmtJnESvZ4tsteAsH/3ifhT14U78Tt++UirXytO58fFBfECksnfps020Kfi/dttqNmfXT9XTiVA46FqvWsbvENnpFxWRa4ztWt30htZLUE1Bzb6+69oBJUc/M89ccY4Z+sZaf6wDAklTcryb5arEZZ0fKVae13FyR5VPebhWL6mY25pTJva/UcSd95uj+y1ByBrHv8hhw9erQRLVLTK3shARIgARLIVgIo1Yd5PmS6MfqfQNePEfT/+DiCLCSAyXU8MeIUK3CZEBlgyuaMP/zhD+aL5l/+8hf52c9+5txl1o844ghTQgnGZF3FbrvtJugDT8Vggj9RsOjq2HTt++qrr4yZmi1W4DyYkDnqqKOMkIFMFOdTR4njAEOIMngKBxkZeJJnU4F6qBBD8AQRynHhizxEBOfTQsuWLZPly5cb0Wjq1KntuoTwsHDhQoFgguOLi4tliy22kPz8fNO2paVF1qxZY8pV4UfCypUr9em6UBuxIhgMCsaC+4bMmI5ELjyRBAEHHFCaq6PyVxgL+ke5L7yiT8Ree+1lXvHPokWLzPVAm8UTWzgfnuByBo7FNcFIr6CgQPA/VHl5vf9R7TwH10mABEiABEiABFJHINas3/20LFJ/hcunGRZqiiyWGlggPB6JacZHLKrb+zBcvmL1slgjVus6PesWfXjm5E411D9OIrFWaYiuF78VE7974/fF5I7+rpXmsQiMqFFeqtRbkbViBa7Yo6YoLs1+QKZFOiOq33t9bm9WltVKJzf2TQIkQAIkQAIkkH4CFCzSz5hnSCCASWFMWGNCGhPRXcU999xjJqM7EiucxyHVd1NhP91fU1OzqaZJ78eE/Ztvvil+v994bwwbNizpYydMmCDwwUjkAG8NZJh0JVbYJ8EkOyKZ60e78ePHy8knn2y8QNA/liU6yX/MMcfI/fffLwcccIDx9oCogRqqqO2K7Bk7Xn75ZfnhD39oSnNVVlYaMeH999836dbIAEGgdNfuu+9uBKkbb7xRtt9++3gWykcffSTItoCBHTJn5s6dKxA4EktgIVsH550+fboREezyYchIOeWUU+zhGJFh8803NynXN998s+kT4gMyX5Bpg3qwyKiBIAJRBdcEMcWZWIa6sddcc01cFPnss8/MZ+7ZZ5/t1L8kPgCukAAJkAAJkAAJ9AsBl18fLNAJ8P6ImEdL9rii4tKn0+OBpHV9MEJ0orlPQye3TVmq1g1amkr9NNzfCih9OojOT4bSUEP948UVckuTVaPlnCL6NH+Rls1SVklGxJhQN5rMiiL1xij3jUryyIHZDN4V8JQIS3NaLyDmimhuToHgHjFIgARIgARIgARIIJMI9PE36ky6dI6lvwgceuihglJPmIy+/fbb5fPPP+9wKJFIxEwu77LLLh3u7+5G+FYgkMWQqkCWAkpYwWQbXhrwncCEeTIB/w0IDRAL/ve//xmvDGxD+Srbz8PZD3jATwPLiy++KJdccokpkYXrQc3WZOOBBx4wdVFRYmPx4sUCL47HHnvMXAPqvK5bt85ktVx55ZXy/PPPy+zZs+NdX3zxxSb7AEIJxvHee+8ZAcIpItiNIWRAHIDRHUQMiDnIJrn22mtNeQ+U0oJYguyO3/zmN/Zh5vX88883GRwffvihORaZGBCt4DsCISIxHnnkEXMe9InxI5PirLPOMmIFhAyUKoMRO8QSGLfbgWwbiBUnnHCCqY+L4+fMmWMyRw4//HC7GV9JgARIgARIgAQyjIAroCVskp/zTunoMdErnqgpBRXv2FIBA0bYnn6Y/PUUiRVRw+9wXXw4mbRiSjgFJgvEBkyON6unRchqNsbSXY0T3grNVp3J0ChwD1KholLFj3FdHZIV+zwur2aiFKgepxk8aQr0jQX3hkECJEACJEACJEACmUaAGRaZdkdyYDx46h2lfH73u9/FzaKRUQBjbUxc2+WJkL2AKCsra0cFvg94Wt6Offfd1zzVb7/Hqz2pjol+ZEHAnwLlizApn4pANgIm0TE+TP4j+wBZBjAUh5CBc3UVyDB49913TXuM344nnnjClIWy39uvyEpJNBOHSHL33Xd3WFLJPi7xFeWSMEFvBwQL1OhDSSeYktuBkl24R+BoG52jDJS9brcbMWKEYEmMyy67zIg42I4STMiqQMYMylhVVGw0ScT4IbZcddVVbQ538sCOwsJCgVgCw3SUq0K2hDPwuUEmhx1gBRED5zznnHPszeYVgpkdMLjDdcNXxQ5kbCDrAn4pyLbAfWKQAAmQAAmQAAlkFgFXXiFcdftlUG43ChRp+X/1rrA1k5hmELt8Xl36PsPB5QloKapWFVB0ydCAUDHCv5k0WhukPrxe4J/QHG0wogUeNEFWAbIuLM1csVT8QXjVCDrgKpIC9aoY5KsQv/pg5EoUegZJY7RKwrFmLYOV+uuOSosRjwq8XWe75wpvXicJkAAJkAAJkEBmEaBgkVn3I2dGg0lqLMiugNE2nn7HZPTDDz9sDKS32mor85Q8gKBkUGKgHQQCO3z64xBliJwBzwosCIggKG+Ep+nh/ZBs4Gl+WzjBMfA3QPknRKI5N0QA+Ej8/Oc/N9eBbICu4tFHH5Xjjz/elDiCOIDJewgxEG7Qh3MSHf2gTBPKR9mBrIUrrrjCZHg89dRTxssD+5CNAJHGDueYsQ3+DM6wDc633npr52bj4YBSSs5zHnjggXLvvffK119/LZj4R2aFXWqrzcH6JvE8uD5E4nbbTwJjhreGHU8++aTxG4EHBQQIlBJDOMdjt4VhujOqq6vNW5Sv6ipQfgsZPImimO1xgmwZChZdEeQ+EiABEiABEugfAq5Aobj8+RJrbhBXftcPiaR6hDH1rtgoWTh6hndFvooo3r7PsIDptqZXbBQtHEPKtFW3lssq8QyTQne5loeqlRYVLGAwHY1BoIgappAu3B71VRCfFHhLJN9dmpNZAEWewVLrXiNBLaOVasECpVFbrKDei6F6L9o/GJZpnxuOhwRIgARIgARIIPcI9M9jSbnHmVfcCYFtt91WLrjgAnn66afljTfeMKWi7HJI9uQ1ygYlxksvvWR8CJxeBIlt8CQ/9mNBH48//rgxXE5s19V7ZDRgMtte0EdXYYsUMIveVODJ/2nTphmDbWQMQDg499xz5be//a0plbVhw4Yuu4DZNsobQQhA9oEd+++/f3y8GDeEEWfY5tjObRA1OjKZ9qiBpFP8QIYEshJwTmRQQAhCpgkMxBMjsT/0hUjcbt9n572EMPLTn/5UkO1w4YUXmnMh6wEBA+/ESPRCscecKEQkHldXV2eEoMTttgl4c3N6awcnnpfvSYAESIAESIAEkiPgKasQV2GpWI3fPcyR3JG9bxVz6wS7K2YyAuK9RSPiCuRrSajvHr6I70vzihvm4zrpH9MySwMhUPKoWMtDwduiMm9rXbaUkYEtdNlcRudtpcuWMipvcynzjspJsQL3EMbbg7wj1MnCL60qLqQykN0C8/IS73AabqcSLPsiARIgARIgARJIGYG+/0adsqGzo2wjgKfkR48eLfZkv1vT/OEPASFjxYoVZl9fXzOyGHoS8OjoKpAtgPJKRxxxRLtmEDEQ8F0YMmRIu/2JGzbbbDOToWJvh69EOgP+EliQ9YDMGJROOvjgg02pplScF4bZyJ6B5whKOtlhfy7s9129QoBB2KbknbWF8XlHniO2SJYohHTWD7eTAAmQAAmQAAn0LQHvyM3EVVQm1vK5IkMr+/Tk8NZ22n3HQlqKSbM93CWb/t6WjoGa8lTwO1BD64EYmJzHwmhLoNg7TILRaqmNrBFvzJ8SRjAwx1LqrdBlY/Zz27PyHQmQAAmQAAmQAAn0PwFmWPT/Pci5EdTX13d4zShlBGGisvK7H52///3vTVuYNWOCvLNwPp3fWZu+2G5nYCSWPUo8N8QYGG7DkDoxPv74Y7MJJaA2FTCRhlH0+PHjN9U05fvhK4HSSShrhftml2zq7Ylsscf5OUCf8AdJNiD0YEFGSFeBclAffPCBycBxtoMJOSKVBu3O/rlOAiRAAiRAAiTQOwIuX0AgWmgNUS0L1fl3xMSzxNQfwQrWiVW/QayatRLdsFIX/R6j62ZbsFaTFTYx8R/DTyi4V2yULWItQS1PlSfu4sGJp+uT9zEVKlyatSDuQJ+cjyfpGwJaHEuG+SdKoadcSzg1qEk2Smf1PCyJaLZGo+lvmGa3MEiABEiABEiABEggUwlQsMjUO5PF4zr99NPlBz/4gdxyyy0ye/ZsqampkX/961+CEkcIlAKyY5999jG+EzDNRtmk22+/XV5//XWz/O9//5OLLrrINN2UwbXdX6pe4aMwc+ZMkwmA8cDg+eSTT5ZjjjlGSkpKBAKLM2bMmNHOYwOZCRAn4AMxd+5ck1EBJn/4wx8E7RONrFHmyHntN954o0yfPt14VsCboy8CGQ/PPvusORXKKWFi/4477jCm2hBhUhF2VgmMtCHoINMEZajg75FsoPzU5ZdfbszPjzrqKPM5w7H4vKEEmR32OjJdIPzgmv76178KypLBEyVRNLGP4ysJkAAJkAAJkED/E/BNnC7u8gqxqldscjBWY41EVy2Q6IJPJLr4C11mS3TpHJOhYS2bZ9aji7+S6CLdN/9jia78RqyGqo77tdQeOqZCiWoWsbB6V0SjKlaUibugb7007MG51P9B3CpYePLsTXzNEgIwHh/un6ReHoOk2apTv4+eGatH9DiYnMMTBCIITNAZJEACJEACJEACJJCpBPSbLYME+pbAfvvtJ3feeafxa3CeeerUqUa4QHkhZ2DiGl4XmKCHObXThBseBQ888ICcdNJJzkPSvo4J8ddee02ee+65Nufadddd5Y9//KPYHghtdia8gcgQ1h+5uC5cgx2YPL/11lvtt/FXZJjAU8MOeF4cd9xxAt8MiDl9ER999JH85z//aXMqjOnmm29us603byA+QbiBGLXDDjuYriAe4LzdMcAGF5imw98DBt52oMwT7hGioqLC3EMYwNuluLAdBu0wdmeQAAmQAAmQAAlkLgHviAniHbeNhGY9b7IsXDC9Tgirbp1YmkURa9Zyna3N6vOg2QiY3MeDFmb5thQRSiqp75maZYmlbV2NmhFco8eqL4V7yChxl434rmfNsDC5FepjYUy/C0vEM6L/nlhH1ohohoXbTcHiu5uUPWt57iL19Jgq60KLpDFSpdk0rRLQbTAo31TAHL5VhQp8Xku8Q2WYb6L4mImzKWzcTwIkQAIkQAIk0M8EXFpKx3zf7udx8PQDnAAm7pFxgKfhk5msx+UiYwBloDD5HwgExO9P7kkflAyC8TKe6Ec2Q38HxoIFZtK2gXR3xwQxAiWVYIjd0z66e87etI/qk4QYM8pC2WbaXfWH0lUQZ8aMGdNVs3b7IDj0lgnGin7w+bK9LRJPBPZog/8c+nw+c12JbfieBEiABEig7wmgjOSqVatMiT4XjAMYJJBAIFqzWoLP/lmsdcvEO36b+F4rWC/W2sUS0/JP0tqi4oQaUwfykjbFjun3Bwm1SCwSVjNtPU5FCfewsZpJUS4xT1hixTXiirRqGakm8YyaJL4xffPwSPwCHStWy1px+8skMOpIvc7kvk87DufqACEQjUXUz2K11EfWSVjUYF1/xcP7wy0eFS9UsHK5TdmomGbcWLpELP3s6n82/a4CFSuGySBfhWk7QC6318PEb4D58+cbH0SU4mWQAAmQAAmQQFcEUNodZc+vv/76rppxXx8RYIZFH4HmadoTwMR8T0yNMenc2cRz+7OkfwsmwpMVWzobDSb+B1JApOgLsSgVpb4w1k19ziB+JeMZMpDuEcdKAiRAAiRAArlAwFNWIf6t95XWdx6TqAoUnuHjxapSX4qVCzZmXXj0546WanIhm6Ib4dLvD4KMDTzbpR4Z1rpVEmtQf4uRE8SjwoX6FuvDJkFxlw4R74iJ3eg59U1jkRY1/FYDZYoVqYebQT16NItmsK9SzbKHSX10gzRFatTbIqjihQpnsSbVLyyTdeF2eVSY8KpXRZkUegdJsWcoS0Bl0H3kUEiABEiABEiABDZNgILFphmxBQmQAAmQAAmQAAmQAAmQQIYSyNvuAIlWLZfwl69LZNHnEquvNiWgXMWlWinp25JPPRy7yewp0Kez1VQb2RrWyoUbMy9KtbRUpZaCqthMDbf7z+w6FtXyVV7NAAkM6+EV8rCBRgC+FuXeUWYJWc0SUrEiHGuRcDQkPk9AfLo/4C7UV5YIG2j3luMlARIgARIgARLYSICCBT8JJEACJEACJEACJEACJEACA5pA/oyjJTL7bWOWrfUdxVU6WLMqUldGzKWZwegz1qjGx4u+Fve4UeLZanMVK1J3jp7cgFioVsdQLu68ip4czmMGOAG/O1/8kr/xKvjLfoDfTQ6fBEiABEiABEjAJsCvNTYJvpIACZAACZAACZAACZBAFwT+/ve/y+233y7z5s2T6upq2WKLLeTAAw+Uo446SnbddVd577335J///GcXPWzcNW7cODnvvPNMP3feeWeH7c8880yZOnVqh/vsjfBeOv/88+235hW+YGPHjpXp06ebpc3OLH4TXjRLYlHNetAyTsaEulVNtjsw4e4NAvSLxaXlSWPqXeGK+NTjolG3Ddpo5N2bzntwLLIr8Bnw5o/UalDlPeiBh5AACZAACZAACZAACZBA5hGgYJF594QjIgESIAESIAESIAESyDACV1xxhVx66aUyfPhw2XfffWXzzfXpenW0/eSTT+SGG24wgkVVVZV89tln8ZHDNPzTTz+VCRMmSGVlZXx7OBw268uWLZObb75Zpk2bJom+TTg2mcDxGJNT3PjXv/4lCxculLPOOkvuuOOOZLoZ0G3Cy2ZL68cvaGkkr3i23EWzLOZKrK5GrAY1xs5X/wrd3tuIqY9FTE24XYWl4h4yQv0ivBKZt0S8W4+RmLdKXHnqIdHHYbWsN5kVnkHb9fGZeToSIAESIAESIAESIAESSB+B3n97T9/Y2DMJkAAJkAAJkAAJkAAJ9DuB1tZWI1bstdde8tprr7UbT11dndk2c+ZMwWIHMi522WUXQbbEhRdeaG+Ov+LpeMRf/vKXXmVD6McuwAAAQABJREFUHHTQQfLAAw+Yvux/DjnkEEH2xrXXXislJSX25qx7tZobpeXNv4tVs1a8Y7cw1+cZu41EV8wVCapJtvpOSA+Nt9EZRAqIFS5fQFzF5epZMU7cZSpYaESXz5XoslUik10qihTqol4XfRSxkIok7oB4iieL2zeoj87K05AACZAACZAACZAACZBA+glQsEg/Y56BBEiABEiABEiABEhgABOwsx1Q+qmjKC0t7Whzv27beeed5fnnn5c1a9bEBYuamhp5+umn5csvvxTLsqSsrEwmTpwoP/jBD6SwsLDNeL/44guTPbJkyRKpra1VWwifoM8jjzyyTbvZs2fLE088Iei7vLxcNttsM9MfSlP1RbR++T+xqlepkDAxfjqXjtU7fmvdvlqsqlUSa2qQWIOKF+ppAeEBBtoutzvePnElFgmpsXarxMIhcanY4SoaJO6SMnEPHaeZFN/6BehB7pGTVLT4RrcPE0uzLNwubetJv9GxFa4XKxwUb+kW4ivdJnH4fE8CJEACJEACJEACJEACA5pA59/UB/RlcfAkQAIkQAIkQAIkQAIkkBoC9mT+Sy+9lJoOv+0FJaUQjzzyiFx++eVyzz33yIcffvjt3t69QKzIz8+XMWPGxDt644035NxzzzX+G8i6QPmqs88+WyZNmiQoZ2XHnDlzZNttt5XbbrvNeCQMGjRI/H6/GaPdBq+33HKLbLXVVvLQQw+ZdhA5jj/+eJkyZYoEg0Fn07SsR2vXSOSb90W8arLtby+QuMsrxDNhW3FXjBd3+TD1nijWlAn9f826sOqqNCtjvVi1+lpfra8bNi66XVpaRHx+ccO4e6iaa4/bSjyVWgLMIVbggoyY4S8Ra3G1uKwCsZrXqo+GHpvGiKlQEQvViLd4ovgH76qqiS+NZ2PXJEACJEACJEACJEACJND3BJhh0ffMeUYSIAESIAESIAESIIEBRKBATZbPOOMMufvuu43R9sEHH2yyFpBxcMABB/T4SuySUH/+85/b9LHPPvsIfCggFCQTEB4uu+wy03T9+vUCYQVZISgJlZf33RP/e+65p9nu7HPt2rVGYIA4AY8OBEzFEW+++abg2u24+uqr7VVZvHixET9OPfVUuffee+Pb3333XePngXP/6le/im9Px0po/kcmg8LtyK5IPA9EBc+wsSK6xLR8lNVYq4KEZlxE1EfEiujkv2ZTwKwbmRcqfKB8lAsZGJpV4SrUBeWkugh3WYV6ZswTa8NULUk1SqLNq9QAW4UOX9uMlS66SHpXrFV9OaJB8RSOE9/g3UwZqqQPZkMSIAESIAESIAESIAESGCAEuv4GPkAugsMkARIgARIgARIgARIggXQSuOuuu2SHHXYwXhE33XRT/FSjR4+Whx9+WOBv0d1AJsJHH30kO+64oz7U3yKzZs2S6667Tp599lk55ZRT5KmnnkqqS5R9ev31103bpqYmY7iN0kzIsHAGSkDZMXfuXFMuCu8nT55sykTZ++zXjz/+WHbffXf7bZvXV155xbyH4bgz4NkBIQfCRbojuny2CgyepE21XflF4tElleHC+fMKxVqiBtzb/kzH87lYTcskZrWIOzA4ZaeymtdoSoeKL0WTxDdkV02syLwyZCm7WHZEAiRAAiRAAiRAAiSQ0wQoWOT07efFkwAJkAAJkAAJkAAJJEsAWRZYkL2A8koQFO6//345/PDDZfXq1W2yEZLpc+zYsYIFgUyI3XbbzSwo0QSvCTvgI3HzzTfbb83rn/70p/j7RNPt5uZmueSSS+TYY4+VYcOGxcWU6upqYwD++OOPx4+1V1DyyY59993XjGOPPfYw2RfwuYB3xWmnnWY3kZUrV5r1RE8LbFy4cKERYOKN07ASWbNQSzqt0SyI/p+4RyaG1Vgj0Q014q/cW0Ib3tbyUGt0WamZFiWqM2gpqh6GFVLvjUijZn2UibdgtPjKd1FRRLNBehghzSiBqIXwqNhSXNzzsfVwCEkfhrFC+MLfhdfLn61Jg2NDEiABEiABEiABEhjgBOhhMcBvIIdPAiRAAiRAAiRAAiTQtwTg/3DooYfKfffdJxdeeKERMOwJ/FSM5LDDDjPdIOsimbC9MOy2yKywyzG99dZb9mY5/fTT5T//+Y/xykA5KnvB+WDCbQeuD8dBlIGXxdtvvy0//elPjUG3PSa0x3mQWZK4nHXWWSZDxO4vHa+RFXPVe6JKBYvvskbScZ5k+nSraBJrqpfIyrlGnAgM2098ZTto5kWFelq0SjS4VKzWqqT9LWLRJrFa1pvjcH5TAqp8Z/EN3bvHYgVEpOOOO05gho5MGyy4zxAsLrjggmQus1dtkAGEMmLdCQhse++9d1xg6c6xbEsCJEACJEACJEACJDBwCfBRlYF77zhyEiABEiABEiABEiCBfiaw3XbbmREgqyFVUVdXZ7pyuzc+WzRu3DhxZlQknsf2wkjcjvf20/RYf+211+SEE05okymB7Sj9VFlZidU2gQwLLIhbb71VzjnnHPn6669l++23N5kbuObzzjsvaa+NNp338k20drWI+lC4MujJe6tqxcarUiNs76BttHzTRInUf6klolaoXQbMsmtVGFLPDJdbXFreCa/qmq1LVJ3ALRWQNr66POo74i0UT95QFSsmiKdYDb97kVUBI/f9999fhgwZIi+//LJZx0CRFXTNNdcISpxdddVV7UqIoU2qAsLD73//+3bG7V31X15ebj6zTh+VrtpzHwmQAAmQAAmQAAmQQHYQoGCRHfeRV0ECJEACJEACJEACJJAmApiYx+TuhAkT2p3hxRdfNNuGDx/ebt+mNmzYsMFMIjvbQTx49NFHZfPNNxdnmSZnm2TWbZ8N9GMHMjHCYTWbdgTKQyE7xClYIIvCadaN5raXhZ3Nseuuu5pe8HS+03Tb7rqxsVGKilLrF2H3jddYk4o6WtIoU8Ll85ksC+d4XCo6+MpnSKwkqBkWazcumjkRi7aoPqHChaX3AiKF26/ahU/c+qomG+p9MUzceSNUsBhh9jn77O56a2ur/PCHPzTZNP/9738F4pcdFRUVRog6+eST9dwbxTF7H14hnEEMQzmmTd1LnAd/J8i6QRZHT8M+Jwzn8flH9k5HgQyfhoYGFX5c5pw+5d/bwOceC/oqLNy0aXptbW3Gl9XqLRMeTwIkQAIkQAIkQAL9QYCCRX9Q5zlJgARIgARIgARIgAQGDIFgMGjKISGzYM8995TS0o2+Cc8995wxyoaPQ08EixNPPFHWrl0rBx54oJl4hek2JpUHDx7coQjQGTCIJs6J3aqqKvnqq68EogJ8LOxAGasHH3zQlAHCE/eff/65/PnPfzZm4rYQgbZo8+qrrxpvDkxqf/DBB6aMFJ7Qh78GYtq0aXLqqaeaslgvvfSSWcdT9EuXLpUnn3xStt56a7n66qtN23T8EwvWaXZF7yepUzY2HUtMMz6spgZxF7T1hYBw4fFqpoRmS5hQsSJmRXRpVcEiYkQJtwoWMZfPCBcpG5N2hHuxbNkyk6HjFCuc54CZvDPwGUT5KAhqduDz8ve//12GDh1qbxIYrEPEw+vPf/7z+PYjjjhCHnnkESMkwIfCFjCuuOIKwYKAoHb++efLokWLzN8WPkO/+93vBNkgiGg0KuvWrRN8/iBioHyVHfCOgcgCLxk7kDl0zz33xLNEUOoKpc4w5sQYPXq0Mbp3+sSgP3zu7UBWxwMPPGDEHnsbMpT22WcfM0acb8GCBSbTCH/DDBIgARIgARIgARIggdQRoGCROpbsiQR6TaApYkkwEhW8NkexxMxrU3jjezzlVuB1S4HPI3ket+R7XFKAV91W6PXo0v7puF4Pih2QAAmQAAmQQI4TgEDxxz/+Ud58800zqVlTUyMjRoyQyZMnm/c/+clPOiSEydZzzz3XCAIdNcAk8LPPPivvvPOOERimT58uN954o5x99tnxideOjnNuQ//OwNPhGBtKVcE82xkoK4Unx+Fj8dhjj8l+++0n8BbAGJBBYge2f/nll2YCGKIG/A5gfAy/DueT9siswGT1ddddJ1deeaUxIIdBN86NCd10hdXcaMQBffQ/Xafofr8qOEhUhYhQUCRBsGjXmcmo0KwKKWizy9XmXWre2B4mEMeSiRUrVpjPxdSpUwWCHF4hepxyyikyc+ZMI145+8HnB38XECAgXkBMwMQ/Phu/+MUvTLbCK6+8YspQ4e8E/SBs4csuZwbBAH8PF198sREEnQKa83yfffaZMYCH0T2M5e1x4m8G5cnuuusu0xzXi3EkZvqABzKK8HdmB/6GnnjiCZNtcswxxwgyJ2644QbBOgQU/F06AwIlRBkIjSxX5STDdRIgARIgARIgARJIDQGXfkmMpaYr9pLLBPCDBj9i8EQf6s0ykiPQGI7KosaQLGlsleXBVolYMQmpUBHS17AuERUsovonqqtmUXtM8Wjqu1t/0eLVq4KFV9/4v118Kl5U5PtlfHFAJhQFpNTvSW4gaW6FSRCUoBgzZkyaz8TuSYAESIAEsokAnqBetWqVTJkyxWQgZNO18Vp6TiAWDknj41eIVb1KPCMn97yjFB4ZXbdUXPnFUnTkxeIuHpzCnnvX1VFHHSXIwEGWUDKBTIk77rjDCGhbbrll/JDLL79cLrvssjbbd955Z3n//feNmbYze2PHHXc0mRgvvPBC/HgIEB15WMAMHOLFmWeeKXfeeWe8PVbWrFnTLsNip512MuWrcF5nIFMIGRsQKCDKvfvuuybDCFkSJ510UrzpGWecIQ8//LDJHkG75cuXm++nie1wwBZbbGGyPyDwIewMi+uvv96Id2Yj/8lYAsjSmT9/viCjxim0ZuyAOTASIAESIIF+JbDNNtvIQQcdJPjfeUb/E8igx5L6H8ZAHwG+mONpuY7ioosuMl/47X14UgpPQ3UU+MLPSB+BNc1hWawCxTIVKiBSBFW0CGoGhaXChBsihIoPXhUkvCo+FPi+FSXUlFFX9QeaS8UMywgZERUxIGpA3GjW4yF2YFlS1yJfVG/MthhVGJCxKlyML/LLyAKti8wgARIgARIgARIggQFOwOXT7zRev2ZZaDmlTAkYgPsC4gps2vugL4ccUUYeT/IPsKCU2FZbbSVOsQLjRWkxCBYog+Tchywep1iBttgPL5buxNFHH73J5igv9dFHH5nMisTGKEeGQBmp8ePHm8wfvEKcsAUL+FP84x//MGWebI+KTz/91ByHUk+JgTJrzrJR9n6IQAwSIAESIAESIAESIIH0EaBgkT62fd4zUvdvvvlmmTFjRrxWrD0ImOA544033pBbbrnF1GF2bud6+gjMr2+RjzYEZW1zSKpbolLXGpGAihLFAY+MLPQJsiOSCb/brRkVnbeEaFGvIsj65ogsbwjLbH+TlOd7ZVieT3YcUiibl+Z3fjD3kAAJkAAJkAAJkMAAIOAuHiJRa27GjBT+FRBRXP68jBkTBgIvB5hTJxsol4SMpsRA6SUE/CScMWzYMOdbsw7D9qampnbbu9rQUT+J7SFYIK666iqzJO7He6evBcpPIasD1zRq1ChTCg0ZGM4SbijvhkgmC9guTIBSbwwSIAESIAESIAESIIH0EaBgkT62/dYzarDiS/mmIj8/39Qt3lQ77u8dgQUqVHywoUkWNzRLMBTVzlxSrIrDsII8k1HRu97bH40MjfKA1yzYW6/nrFLxYn1TRJY0tMqYojzZaSiEi8z6Qd3+SriFBEiABEiABEiABDom4MovUs8IS2Ja9sXVjQyCjntLwdZwq5aCGpKCjlLbBcoaIZCJDb+RTQVKu3YkNqxfv94cCo+UdITXu+mfpXamyLXXXivIHt9UwBQeggWMt3/961/LQw89ZEpVwaPFDogrCBiMw+y+q7B9NfAbikECJEACJEACJEACJJA+Al08p52+k7JnEsgFAhAq/rG4Wv6xqEo+W6/mkHrRo9VbYnSxX0pVUED5p76IEvWxGKUloSr1vCgp9WVVUB5btEEeXFAlc+vaZt70xXh4DhIgARIgARIgARLoLQH3oBHiKi6TWFN9b7vq9fExNQF35RWKuzzznrw/7LDDzPXBg6KrsLTkKAJG8jC2RiaCM+xSspWVlc7N3VqHn1lvAkIBMkZg9J1M4AGuPffcU+BPAcEF5vKnnXZam0PHjh1r3ifbZ5uD+YYESIAESIAESIAESCAtBChYpAVr/3Z61113yZVXXin333+/zJ3beao8ykThCaWrr77aPHm0bNmy/h14lpx9kWYxPLKoWv62cIN8uKbB+E2MLfHHMx768zIHqXgxvjRghgAR5REVLR5cWCXzKFz0523huUmABEiABEiABLpJwDt6qrgKB0ksuLGkTzcPT2lzq7HWiCfeke1LKaX0RD3oDH4UMNJ++eWX5fjjj29T0gmiBIyxDz/8cIG/AwJta2trBebUdixevFh++ctfCgSD7bff3t7crVcIA/Cf6G0gUwIm4tddd127rubMmSPw7HAGyj99/fXX8YwM28/CboNSuhMnTjSG3bNmzbI3x18/+OCD+DpXSIAESIAESIAESIAE+obApnNv+2YcPEsKCUCscAYM8i699FLnpvj6b37zm/g6zOfuvPNO+fGPfxzf1tHKc8891+4HxzfffGOaVlVVif2EVkfHZvO2qKZQfLihUSBYVLeGJc/jlSkqEHiQSJFhiQwjdUgj1K+yVstFLVxVK9UbvDJHsz9mDCkSn2ZhpDpQOxk/IJFuzyABEiABEiCBZAmgNA0WfL9gkEBbAgXSXDpGIrX14olpWR/1+OqviEZc4hkySlr9g8WVgd918FsAgsS9994rzzzzjGyzzTaCB5c+//xzgwzm1PCmwN/aZpttJhdffLF5qOn555833g7wyYPHxOOPP26Os73x8N2utbW13fc7nAu/B5zf+5DZgPJMdlkl/F4588wzpbq62owBXhLO9tho/93j1favwDGrV682Y8Q4p02bJign9eGHH5p+VqxY0cbLD2baKPuEB7m22247GTJkSLvzwIgb45s+fbq5TggYGMv8+fPl0EMPlfvuu8/0bft3JI7T7OQ/GUcAn0F8pvHZsgW5jBskB0QCJEACJJAxBKJaZpSROQRcah6GSjWMLCDwxRdfiN/vF5jiBYNBef/99+WKK64QpHDfdttt5okp+zLffvttGTdunIwePdp8iUMa9CWXXCJ4MunVV1+Vfffd127a7hVPXt1xxx3ttmPDe++9J4MGDepwXzZvDKnR9Zc1zcZQ26OlnlCGqa9KPvWWK/4TAJPusCouQ/O8slVZgRR4U/ujH4IFfjSUlpb2drg8ngRIgARIIIcIYDIU/xuC2vL2RGcOXT4vdRMEohuWSXjJF9rKpdkWJZtonZ7dseagSKRVvJVbirdiUnpOkqJekTmxdOlSIzKgS/hRoGxSR4bXKKG0ZMkSwffEQCBgjLhtvwd7OPjdgN8ekya1vW5kZGByHwKBMzDRv2bNGjOJDJPrESNGmIlk/IZBJkhBQYGzuREpUJ7KFiWcOyFiYHz25AKuBeWqIEgkBjIs8N+RkSNHmt8+ifvt9wsXLoyLJNhWVlZmBBtcPwLXNG/ePNlpp53Me/6T2QTw2wOCWElJifmcZvZoOToSIAESIIH+JnDEEUcISmlef/31/T0Unl8JULDI8o8BvpxDmEC9V3yp7yoWLVpkUqLxB/rvf/+7q6bt9iHrYubMmeZLPsz6cilWBkPyr2XVsqi2RSrUK6LI5xmQl98csWRlQ0hGFvvkyLHlMrE4dabceBIOdYvx45RBAiRAAiRAAskSqK+vl1WrVpnJUgoWyVLLnXaxcEiCz98ikfmzxDN2SzXf9vb5xUcWfS6ecVtL0czzjI9Fnw+AJyQBEuiQAMQsZMngAb2ioqIO23AjCZAACZAACdgEkIF60EEHUbCwgfTza2ofo+7ni+Hp2xOAULHffvuZp6k2lUwzYcIEU5cWTyExkiPwWXVQ/vrNOlmoYsWYkrwBK1bgavM1q2KMem2sbAjL/fPWy/sb9IlBBgmQAAmQAAmQAAlkKAGXzy/+LfcS96BhYq1e2OejjK5bqpkdpeLffDeKFX1OnyckARIgARIgARIgARLIVgIULLL1zjquC08nJhtoizqwjE0TeHlVnfxTDavrWqIyoTRPAsasYtPHZXILv8et1xKQFi0P9dSiKvnP8loJa7krBgmQAAmQAAmQAAlkIgH/pB3FO/l7EotGxKpa2WdDtOrXS0zNtr3jtxf/lF367Lw8EQmQAAmQAAmQAAmQAAlkOwEKFll0h9euXdvual566SV58cUXZf/9929T+9k2jXMe8Ne//lVQu/XAAw90buZ6AoHmqCX/XFwtryyvk0jMJRMHBcSbBqPqhNP22VuPXst4FS1QeuP1lXXyiAoX8LhgkAAJkAAJkAAJkEAmEsjf+SjxbbaTWLXrxQrWpn2IsaZGsdYuE+/E7SV/9xPE5fWl/Zw8AQmQAAmQAAmQAAmQAAnkCgE+Sp9Fdxr11uA/AfO8xsZG+eCDDwTm2ogbb7wxfqWo5wmTuzPPPNOYINfU1AhMt2F4hxJSF198cbwtV9oSQLbBYypWfLY+KPk+t4xSz4psjcpiv5qIh+XT9Y3SqqZ1J04YLIXegenPka33iNdFAiRAAiRAAiSgpnz+PMnb9Tixmuokqp4SMmKcuIsHpwWNFawXa80C8YzaTPL3OEHc/WT2nZaLY6ckQAIkQAIkQAIkQAIkkAEEmGGRATchVUM4+uijjbEYMiruuOMOWbNmjZx44okyd+5cgZhhh9vtloMPPlg+/fRTeeaZZ+See+4xhshnnXWWzJkzR4YPH2435WsCgedX1MoX6u1Q6PdktVhhX/bwfJ+U5flkTlWTPL0s/U8s2uflKwmQAAmQAAmQAAl0h4BHfSzy9/qJeCZNE2vdComuW9adw5Nqa1WvUbFioXhGTpE8nGtwZVLHsREJkAAJkAAJkAAJkAAJkEDyBJhhkTyrjG95++23JzVGlPp58sknk2rLRt8ReGttg7y9ul7U5kEqCnMn9X9IvldaIlH5eF2jlPo8MrNy0HdQuEYCJEACJEACJEACGULAO3SsFB54ljS/9XeJfPORRJZ8KW7d1tssiFhLUAWQpeYqvVNmmMwKz6ARGXLVHAYJkAAJkAAJkAAJkAAJZBcBChbZdT95NWkiMLeuRZ5dWqMG1CKT1LMi12J0cUAW1bXKa+ppMSTPKzOGFuUaAl4vCZAACZAACZDAACDgLiqTgn1/Ks1FgyWycJbJiIgF8sVdPkpcBcXduoJYc1Cs6lUSa6oX95BR4hm3reTvcoy48/k9qFsg2ZgESIAESIAESIAESIAEukGAgkU3YLFpbhJY3RSSJ5ZUSZOqFRPL8tqYl+cSkbHqabFQRYsXtSzWMC0TNUFFDAYJkAAJkAAJkAAJZBoBeFoU7H68hMduI6E5b0p0xdcSXT3fDNNVWCYuFTVcgQJx+dp6kcXCYYmFmiUWrJFYQ41ILCqukqHi3WI38W+5p/gnbJ9pl8rxkAAJkAAJkAAJkAAJkEDWEaBgkXW3lBeUSgL14ag8uaxG1jSGZFxpnvjcrlR2P6D68ui1jy0JyOLaFvWzqJGTJw+VcvXyYJAACZAACZAACZBAJhLwjdlSsIQWfyYRiBbLZ4vVWKNZE6tFIiERKyriVdEiFtu4rmVTxesTV36x+lRMEs/oqeIdNVX8k6Zn4uVxTCRAAiRAAiRAAiRAAiSQlQQoWGTlbeVFpYJA2IrJv9VoeqFO0I8s8ku+lx71AY9LRpf4ZYmWyPq3lsg6dny5FJBLKj5u7IMESIAESIAESCBNBPzjtxMssUhYouuXSrR6pWZStGzMpgi3qGAhgqwMe3GXjhDv8PGagcFs0jTdEnZLAiRAAiRAAiRAAiRAAp0SoGDRKRruyHUC765rkEX1zVLoc0tpgH8q9uehSI23hxT4ZEFds8CI/MBRpfYuvpIACZAACZAACZBAxhJwafaEt2KSWTJ2kBwYCZAACZAACZAACZAACeQ4AT4ynuMfAF5+xwQaI5Z8UhWU+lBURhS2rW/c8RG5tXWwGm+3Ri2ZXdsk61vCuXXxvFoSIAESIAESIAESIAESIAESIAESIAESIAESIIG0EKBgkRas7HSgE3h/XaOsCYZlSL5voF9K2sYPIWeVenu8vz6YtnOwYxIgARIgARIgARIgARIgARIgARIgARIgARIggdwhQMEid+41rzRJAjWhiHxc1SghS6SEptKdUoOnh1vNKT+vDsqaZmZZdAqKO0iABEiABEiABEiABEiABEiABEiABEiABEiABJIiQMEiKUxslEsEkF2xTrMrRhQyu2JT932YellsaAoL/D4YJEACJEACJEACJEACJEACJEACJEACJEACJEACJNAbAhQsekOPx2YdgQ2tEfmqttlcV5GabTO6JoAsizxd5tW1yJLG1q4bcy8JkAAJkAAJkAAJkAAJkAAJkAAJkAAJkAAJkAAJdEGAM7JdwOGu3CPw7toGWa8ZAxVFNNpO9u4P10wUMKOXRbLE2I4ESIAESIAESIAESIAESIAESIAESIAESIAESKAjAhQsOqLCbTlJIBixZEFDi157TJA5wEiOgN/tloDHJUsbW2R1Uyi5g9iKBEiABEiABEiABEiABEiABEiABEiABEiABEiABBIIcFY2AQjf5i4BiBW1LVEpy6N3RXc/BYPzvcouIouDFCy6y47tSYAESIAESIAESIAESIAESIAESIAESIAESIAENhKgYMFPAgl8S2BpY0hq1cOimN4V3f5M5Hs90hSOyeJ6+lh0Gx4PIAESIAESIAESIAESIAESIAESIAESIAESIAESMAQoWPCDQAJKIGLF5OvaJgnoxLvL5SKTHhAoUKFnsZaFatTSWgwSIAESIAESIAESIAESIAESIAESIAESIAESIAES6C4BChbdJcb2WUlgqZYyqm+NSpGffxI9vcHFAY80KMNFxgekp73wOBIgARIgARIgARIgARIgARIgARIgARIgARIggVwlwNnZXL3zvO42BJY0tkqzZgYU+zxttvNN8gSK1KgcDFFai0ECJEACJEACJEACJEACJEACJEACJEACJEACJEAC3SVAwaK7xNg+KwkgKyCqZaECHpaD6ukN9rhd4tNlQX1zT7vgcSRAAiRAAiRAAiRAAiRAAiRAAiRAAiRAAiRAAjlMgIJFDt98XvpGAmubw1KtZttFfi+R9JJAkWaoBDXLYrFmrDBIgARIgARIgARIgARIgARIgARIgARIgARIgARIoDsEKFh0hxbbZiWB9S0RaQpZku9jdkVvb3C+Gm8HQ1EBUwYJkAAJkAAJkAAJkAAJkAAJkAAJkAAJkAAJkAAJdIcABYvu0GLbrCTQFLUkZFnidVGw6O0N9mlJrVA0Jk3haG+74vEkQAIkQAIkQAIkQAIkQAIkQAIkQAIkQAIkQAI5RoCCRY7dcF5uewLNkai06iQ7JtsZvSMA0SesXiDNKgIxSIAESIAESIAESIAESIAESIAESIAESIAESIAESKA7BChYdIcW22YlgWYVK0I6wQ7DaEbvCHiVYUQFi4YwBYvekeTRJEACJEACJEACJEACJEACJEACJEACJEACJJB7BChY5N495xUnEGgIR0Tn2MXDklAJZHr2FqJFbYgeFj2jx6NIgARIgARIgARIgARIgARIgARIgARIgARIIHcJULDI3XvPK/+WQKNmA2CSnZEaAmAJXxAGCZAACZAACZAACZAACZAACZAACZAACZAACZAACXSHAAWL7tBi26wkEIxQsEjljYWPRYsyZZAACZAACZAACZAACZAACZAACZAACZAACZAACZBAdwhQsOgOLbbNSgIwiKZ/RepuLczLtcKW1IejqeuUPZEACZAACZAACZAACZAACZAACZAACZAACZAACWQ9AQoWWX+LeYFdEWjSTICoGliwIlRXlLq3DyytWExaWBaqe+DYmgRIgARIgARIgARIgARIgARIgARIgARIgARynAAFixz/AOT65Rd43eLRGXbOrafukwADc7eWhcrz8D8vqaPKnkiABEiABEiABEiABEiABEiABEiABEiABEgg+wlwRjH77zGvcBMEIFpENSOAkRoCEVUsYGFe4vOkpkP2QgIkQAIkQAIkQAIkQAIkQAIkQAIkQAIkQAIkkBMEKFjkxG3mRXZFoNDrkQgFi64QdWsfBIt8FYEYJEACJEACJEACJEACJEACJEACJEACJEACJEACJNAdApxV7A4tts1KAkU6uR6OMsMiVTcXKAuZXZEqnOyHBEiABEiABEiABEiABEiABEiABEiABEiABHKGAAWLnLnVvNDOCBTr5LptFN1ZG25PngBMzAf5vMkfwJYkQAIkQAIkQAIkQAIkQAIkQAIkQAIkQAIkQAIkoAQoWPBjkPME8j0u8atBdBhu0YxeE1C/bSny8T8tvQbJDkiABEiABEiABEiABEiABEiABEiABEiABEggxwhwVjHHbjgvtz2BAs0GCKhogcwARu8IhKKWsnQLRCAGCZAACZAACZAACZAACZAACZAACZAACZAACZAACXSHAAWL7tBi26wkUKCT6wH4WFCw6PX9heG2X3kWqJE5gwRIgARIgARIgARIgARIgARIgARIgARIgARIgAS6Q4CCRXdosW1WEhia55V8FSyaI8yw6O0NbtYMi3wtBzVMmTJIgARIgARIgARIgARIgARIgARIgARIgARIgARIoDsEKFh0hxbbZiWBoXk+GZbvl6aIlZXX15cX1dBqSanfI2OLAn15Wp6LBEiABEiABEiABEiABEiABEiABEiABEiABEggCwhQsMiCm8hL6D2BsYU+kVhMUNKI0TMCMeXXqhkW44vyetYBjyIBEiABEiABEiABEiABEiABEiABEiABEiABEshpAhQscvr28+JtAuM0I6DQ55Ha1qi9ia/dJFAftqRIGYIlgwRIgARIgARIgARIgARIgARIgARIgARIgARIgAS6S4CCRXeJsX1WEqgsDMigPI80hChY9PQG17dEpSTgkfHFFCx6ypDHkQAJkAAJkAAJkAAJkAAJkAAJkAAJkAAJkEAuE6Bgkct3n9ceJ+Bzu2RySb5EtSQUFkb3CbREozKuOE8K1cCcQQIkQAIkQAIkQAIkQAIkQAIkQAIkQAIkQAIkQALdJcCZxe4SY/usJTCm0C+lmmXRSPPtbt/jRi0HhZJaY4v83T6WB5AACZAACZAACZAACZAACZAACZAACZAACZAACZAACFCw4OeABL4lMLEkT0r8HqluDpNJNwmA2aA8rxpusxxUN9GxOQmQAAmQAAmQAAmQAAmQAAmQAAmQAAmQAAmQwLcEKFjwo0AC3xIo0lJGk7SkkdvlopdFNz4VLVFLwlpGa1SBX0bk+7pxJJuSAAmQAAmQAAmQAAmQAAmQAAmQAAmQAAmQAAmQwHcEKFh8x4JrJCC7DC+WoQU+WdsUIY0kCawJRgyz3YcXJXkEm5EACZAACZAACZAACZAACZAACZAACZAACZAACZBAewIULNoz4ZYcJjAk4JXtywu0VlpMalujOUwiuUsPRqIS0mWLQflSWchyUMlRYysSIAESIAESIAESIAESIAESIAESIAESIAESIIGOCHg72shtJJDLBGYMK5ZZG4KyOhiSQYH8XEaxyWtf0xiWoYU+2U0zUxgkQAIkQAIkQAIkQAJdEIiFJdK0UiRcLzFdFyxWWGIuj7hcPnG5/eowGBBPwWhxeZm52gVJ7iIBEiABEiABEiABEshiAhQssvjm8tJ6RgBeFruNKJZnltRIdUtEytVMmtGeQH0ooj+2RaYPKZLBmpnCIAESIAESIAESIAESaE/Aalkt0aalYjWvEisSFFUtVKyI6vcoy7yqUqGChUfwKipaROqLxRMYIq68UeItHGe2te+VW0iABEiABEiABEiABEggOwlwljE77yuvqpcEpg8ulC+qm+SbmmYpy9On3vT/GG0JrFPvilHFftl5GJ8AbEuG70iABEiABEiABEhAkyda1qn48JW+rtVkirqN4gSyKDR7wqXihNulP8XcHiNcuIyAoeVIrZDEtH2kZb1IcLlEG+dp88ni0UUgajBIgARIgARIgARIgARIIMsJULDI8hvMy+sZgYDHLTsNLZJ1zWFZ2RCW0Toxz/iOwFotl1Xgc5vsihIffzx/R4ZrJEACJEACJEACOU8g2iLh2o8lGtSsitYq1RkC4vIP1gSKjr8zQbwwWRbiE/HkictXYhDGIg0qWCxRwWO9uBsXiW/QduLOH5nzeAmABEiABEiABEiABEgguwnQdDu77y+vrhcEdtQsiy3LCiRsWVLVojWGGYZAfSgqWKao0fYuzK7gp4IESIAESIAESIAE4gQszaRoXfuKhKs/UbFiveoPw9SWQss7dSJWxA/sYMXl1dJQBaNMZka0/msJrf+fZmzM7aAlN5EACZAACZAACZAACZBA9hBghkX23EteSRoIHDJ6kNSpV8Pn65vE73ZLsb/jJ+PScOqM7LI1GpNVDSGZXJ4nh48pE5+bpbIy8kZxUCRAAiRAAiRAAn1OwGpZI+ENb6lfxXK1oijTTInSlIzBHRgsMV+xxNQDI1z1rsQideIr/15K+mYnJEACJEACJEACJEACJJBpBJhhkWl3hOPJKAIFasD9g7HlMrY0oKWhQhLSbItcjYgVkyV1LTK8yCc/ULGiNMfFm1z9HPC6SYAESIAESIAE2hOAT0Xr2ldVrFgp7ryRKRMr7DO51PvCDQNuq1Ui1R9LqOo9e1fGv4ZCIamtrTVLQ0NDv4/3ww8/lKVLl/b7ODgAEiABEiABEiABEiCBjglQsOiYC7eSQJzA4IDXiBZleV5ZWhcSKxaL78ullaX1rSbDZGZlmVQWBnLp0nmtJEACJEACJEACJNApAStcbzIrYvCa0BJOLk/6vM/cecONUXe07istDzWn0zFlwo6FCxfKiSeeKIFAQMrKysxSUlIiRUVFcu655/bbEE8++WR5+OGH++38PDEJkAAJkAAJkAAJkEDXBFgSqms+3EsChsDE4oB8f2yZPLO4WpZrpsXYktyasF9eHxKvln/as6JEtisv4KeCBEiABEiABEiABEhACcSs0MYyUMFlxhDb5Up/+VB3YKhmcqxQn4xZ4vaV6XkrMu5efPzxx7LvvvtKXV2d/OY3vzHrHo9HgsGgvPjii3LLLbfIVVddJcXFxRk3dg6IBEiABEiABEiABEigfwlQsOhf/jz7ACIwY0ihrG8Oyxur6mR1MCwVhb4BNPqeD7WqJWJKYe00vFgOGJWaWsw9Hw2PJAESIAESIAESIIHMIRCp/VyijYtVNBiW1syKxCv2FIyUaFBFi5r3NINhpmZdpC+rI/Hcybz/4Q9/KOFwWD755BPZfvvt2xxyyCGHyE9/+lPxevlTtA0YviEBEiABEiABEiABEjAEWBKKHwQS6AaBg3TCftshRdKoRtzItMj2WKPCzIamsGwxuEAOqxyU7ZfL6yMBEiABEiABEiCBpAlY4ToVKxaIy+1RsaKvM1Dd6pUxTKymtVoaam7SY+6q4d133y2bb765uFwus5SWlsoTTzzR5pBXX31Vtttuu3gbrL/++utt2jz55JOyePFi+f3vf99OrLAbbrvttpKfn2+/lfXr18uPfvSjeL9DhgyRq6++Or7fXvn1r38tl156qWCsU6dOjbf/2c9+ZjeJv7a0tMiZZ54po0ZpmS69prFjx8qzzz5r1uONHCvI+BgxYkS8zxNOOEG++eYbRwuRv/3tb3LKKaeYLJEdd9wx3vb73/++NDU1tWl7++23y+TJk+NtMIb99tvPZJk4Gz700EOyxRZbxNvtscce8tprrzmbyJdffil77bWXwH9j7733Nm1RaquzWLZsmWn/wQcfyKGHHhrv+7DDDouP8+c//3l8+7Rp02TNmjVtunvkkUdkm222ibfB+HfbbTdZu3ZtvN0vfvELueKKK+Tmm2+WCRMmmLaDBw+Wxx9/3LR59913ZcqUKfE+rrvuuvixWAGzww8/3HwW7M9deXm5XHLJJW3a4Q2OveCCC+T++++P8/rzn/8cb3fjjTfK+PHj4+caOXKkzJo1K74fKxiXczxgimwgBgmQAAmQAAmQQGYRoGCRWfeDo8lwAj4ti3T0uDKZMaJEompCvai2RaJZ6GkR02uCwXZTOCrThhbJMePKBQbkDBIgARIgARIgARIggY0EovVfSRS+Ff7B/YLE5cnT80Yk2vC1SLS5V2M466yzBJP+mHTGBPp///tfwTanOfXLL78s+++/v7jdbnnwwQfl73//u5kcxgT6888/Hz//e++9Z9bhX5FsTJ8+3fR3zTXXyDPPPCNHHnmkmbSGiOGMzz77TP76178a0QJZGk8//bRALICA8eijjzqbytFHHy133XWXHHfccaZPjOeYY45pM+FuH4DyVb/73e/kBz/4genzpptuMkIMRAkYhtuxZMkS09dPfvITQabIv//9bznjjDPkhRdeMCWu7HbLly8XTOZDmHnllVeMAPG///1PZsyYYTJP7HYol3XSSSeZCfh//vOfZjK+ublZ9tlnH3nnnXfsZqa01htvvCEQHDARD0bPPfdcfH/iCkpvof1RRx0lFRUV5pog9vznP/+R8847z3DAeZ566ilz3Z9++qmcf/758W5gjg5ew4YNM+IMBBQsBx10kEAIsgOT/XfccYf86U9/Mv0+9thjUllZafrH9Zx22mlGNILwhXt88cUXCxjaAcFi9erVhh36v/fee+Xggw82YtV9991nNzOvc+fONZ+RU089VY4//njDFWIHAvftwgsvlO9973uC8+KzivvvFFfwucb9Hz58uGmDz9GKFSsE9xjCDoMESIAESIAESCBzCLh0YjI3HYQz5x5kxUjwhXnmzJlSVVUleComF+IlLQ31+so6CYYtGVeaJwGPKysuOxy1ZIl6VuB6vqdloA7VzAoINb0J/BBBWYAxY8b0phseSwIkQAIkkGME6uvrZdWqVfEnYnPs8nm5GUwgFmmS1lVPSSxUr+Wg1Ai7nyIWbdUx1Ihv2J7iLdmyR6OYN2+eyVbA5HZiRoWzQ2QBIBMC2RMwzkY0Njaap9rxVD0mlBGYzIepdbI/M/GUPCbL8fQ7JpntgBCASeUFCxbIxIkTzeYDDjjATFTD0Bviih3ItkAGxUsvvWQ2ff3110YEuOiii+Taa6+1mwmewsfE9pVXXhl/ih+T/5j4xmQ7SlnZYXNB9sA555xjNiMLA8IGfDgOPPBAu6k5HgLDhg0bzDaUwtphhx1k5cqVRmCIN3SsIKMBYsKvfvUrueGGGxx7xGSFbLXVVvHrefvtt2X33XeXH//4x0ZQatO4gzf29YMrxBc7IPJAFABbiDl24PpuvfVWiUajRpBChgZ4IqMDQkNnsfPOO8v7779v/juNa0Hgez9EFYTz3uF3IjJn7rzzTiNimAad/APB6quvvmqT4YLMlgceeMB8RvFZtQMZPhDNzj77bEFWix24lvnz58vo0aNNBgcybZA1hPtqBwSNcePGGSEpMavFbsNXEiABEiCB3CCArEII89dff31uXHCGXyUfmc7wG8ThZS6BA0eWytEThsjgfK9mWjRLg2YjDPRARsXCulYp9rtlppqMH6lLb8WKgc6E4ycBEiABEiABEiCBRAJWyyqJhRvE5e9ffy+XJ6BDi4rVsjpxiEm/x6Q0oqMyPHYnra2tgknwk08+OS5WYB+EC2zDJDCe2EdEIhHzmuw/b731lpm4d4oVOBYlixCYuHYGJsmdYgX2IXPBORGNsSJOP/1082r/gwn7xEAmAsy/nWIF2qB0EJ6+t4UY+zhMejvFCmzHk/2YkLcsyzQrLCw0ryiXNGfOHLOe+A+yRRDIQkgMCCjIekgMZxZE4r6O3icyReknROJ2XCfCzp4oKNhY4gxCyueff272dfYPyirZYgXaYB3iAIQOW2jCdohaKJEFEToxZs+ebbJLwOuyyy4zGSUQGxIDDz85xQrsx+cHgRJknQWyZCBOQKhxBrItII5A9LDvnXM/10mABEiABEiABPqHAAWL/uHOs2YJgR3U2+GkyUNl4qA8WaWeFjDlHqhR0xqRZZpZMarILydOGiK7a3YFgwRIgARIgARIgARIoD2BKAQLzbLYWJap/f4+3eIOaEWoNTqeYI9OW11dbY6DH0VnYYsRW27ZPosDmRcIu01JSUmb9+ZNF/+gRBC8MxID5ZQQzrI+eA+ficSAiIAySHbY1+ScMMe+QYMGmSfu7XZ4RdYISiDZHgrOV3ggoGyQM+zsAee2srIy89ae9IbYgYyFf/3rXwJm6BPlnJApYYddasrpG2KfG1kIGFdiwKPBDmRz2O3tVycDtEtkZd8bTNQ7w95ujx+ZEPDrgAeF7VmC7JaOylAl9oV+cT8Sz43tOI/9OcF7BEQEZJPcdtttgrJZEA+Q4YGwx4N1ZOwg6yMxwAECSUfjsNsiEwiB8ySGvQ3Z4AwSIAESIAESIIHMIODNjGFwFCQwcAmMKwrIyZOHyZNLq2VedbMsCrVKRaFP8geI50NrxJLVwZCgNtyWQ/Ll8MoyqSjwD9wbwpGTAAmQAAmQAAmQQDoJWGE1u16hYgWyG/o/YPgdizSqaLFSvMWbdXtAfv/G732Y1LVLPSV24vVu/NmYaCyNdvYkObwtEJisR6BUEEr1bCowuZ04iY1j7Al9+9x2P5icT4zE8lNOQ+/EtvZ47e3oHyIEPDk6imTK3SaeH/3AwwILJv7hdQHDcnhIIOMCIoXH4zGngw8HGCQTThY4JrGMUV4efE06D5ud/dp5SzEeFvCxgOhijx8lgOFvAo8NOzrqCzw62p64DaXDUPYLpbwgiNiBbAmU7UoMn8+XuEnw+a2rq2u33bnB/own3nu0scWMxLE5j+c6CZAACZAACZBA3xKgYNG3vHm2LCVQ5vfICRMGy3O+Wplf36KZCq1GsBiuwkXAk5mJTBE1DV8TDEtDKCLDdJyTSvKNX0Wxb+OPpyy9VbwsEiABEiABEiABEugVAStcKzErlBnZFXolyPKwQtVaoqrrSdvOLho1/BF4+h+1mzsKu0QQvBkSwy4pZYsdmNT+5S9/aSacuxIs8PQ8RI5JkyYZw2yUI3JOuCO7AWGPL/G8Xb2HWTQCfdjljvB+0aJFUlNTg9V4IGsBZYrgOYHSUKkOGIdjgZ8F/BS++OILI1jYGQjghrJK3Q1M3vfkuO6eByWYsGBiH+WecL+dgkV3+3O2h2k3uDvFCuxHlgWiIyHI7HD8g88PxoYSW51lCdkZJCizhRJQzvjoo49M5octajj3cZ0ESIAESIAESKB/CGTmTGr/sOBZSaBXBPJVmDh6XLkcob4P2w8tFPhUL6hpkVWNIYE4kCmBoUCo+KamWSx9+mnrIYVy+NhyI7hQrMiUu8RxkAAJkAAJkAAJZCwBFSvEUu8yV4b8lNJxxCz1jYjpuHoQe+yxhwwdOlR++9vftpvMt59ch7AAM20YNjs9HZAtgKfkDz74YLGf/odPwbnnnmue/sdEt50pYQ8NJZ6OPfbYeGYGnuJHSSanOTTaXn311eYQTGh3N3bZZRdT/gkm2c649NJLnW/NOvwiEHiFSbQzIKJ05KXgbNPRemIZK7SxOdic4CeBLAn4bLz33nvturEFm3Y7+mADxmpnHtinw2cBRtYdZTnYbbr7Cq8PlNxyZti88ML/Z+8+4OWqyv3/P2fmlJyW3nsCJKEkoYQA0oUAoUiLV5DeRS8C0hRFmhQBlS4/RRCRPyAoUgJIkZKA9F4T0ntC2ullZs5/fRfuuXPm9DZzymfd12Rmdltrv/e5OLOfedbzTLwuRXOOp+um46h4eXIGUHAOWr///vvbH/7wh1pTfGnKq+eff75O/ZLm9Ms2CCCAAAIIINBxAmRYdJwtR+6hAlv3yTU9PtpYZnPXFNsSl23xlQsO9MvLskG9Ml0go24ae6qoVGNjfVnEemVm2IR+uba7q1Oxfb88y1R0hYYAAggggAACCCDQpEAs6gIDNSosndvktqnaIMNN7lmjcbWi6WaupuRRcEHz+SvLQjUBnnvuOdtvv/3igQNN0/PUU0+Zil6rQLWKa//jH/8w1Tu4+eaba/Ws9/p1/K233mq6Aa2gg6ZA0pQ8uhGvrIngF+177723KSvj5z//uc/y0HRJ6lvFtlUHornTJSUOQOd033332bHHHuuLPysoo6BATk6On7IqcfqfKVOm2O9+9ztTQWsFW2bMmGEKeKhw97PPPmvXX3+9X554/KZeK5AzYcIEO+yww3zhaRWulrFqaOjYahrjI488YkceeaRfJiPZKwNEU0ftsMMOfiqmpvrqiPXKOFHRbFkoa0Hno+uoa3rwwQe3W5dHHHGEXXvttd5IDmvXrvVTTqkQuYJjidepoU6VqaK/y2OOOcYmT57sC6KrpsgTTzzhA2OTJk3yu1533XU+I0XOKjou5wcffND/LdY3/VRD/bEcAQQQQAABBDpeIMN96Og8P/3u+POlhw4SUAE2fdFYv369NWee1w4aRqc87PsbyuyNtSW2vKTSTb8UdcGCkBXmhK3QPWd18HRRyuwocn2WuEe5q1WRlxWy4a7mxi6DCmzH/nmWlaJAxapVq0yF7EaPHt0prxGDQgABBBDonAJFRUV+qhbNid+cG1ed8ywYVXcTiBbPs6o1L1hGdm83HVNepzi9aPEiC/ebbDlD/q8OQEsHVllZ6Ysea5oeBQl0I1g30BOnSVIx67/85S+mQtlqmo5H0x3pRnx9TTe+VctiwYIF/v+XNeXT7rvv7r83JG+vWgkKKigQoj4VQEme4kc3/hX4CAolB8dQFoRuduvYiU2/3tf3FH0W3WWXXXwmiOoxaBooBSoSm7IrFEBQdoRqWqiIs252a7+gLVmyxK+fPn16sMg/a7onjUHBF/23ShkKCjooI0H7KCtBgRgFAIKps4ID6PvTQw895PfX1EXjx4+3UaNGmfoI7JXdoOmMmjsFlDINNHWTxp5Yz0PnpkCMpslKHIcKVytAtOeee3pfZTwoGKXP77LTNQmCOQMGDAiGbpoiTNc0KLwerFDf6lcBhMSmvy39rSQWQ//00099loOKjGt7Bclkor+bk046Kf7ffmX2KOMl+W8iOL6yKVQnRFND6dpp+ipdZ/UVnKvORYGs1atX+91UEF0ZPsGUZ8GxeEYAAQQQ6HkC+lygzz033HBDzzv5TnjGBCw64UXpikMiYNH0VVvkAhZfuWyLTzaV2rrSiA9eZLqARYELIhS6Ghj57rk9WpkLTBRXRqykOmZV0Zg7ftgGuOyO7frm2Va9c0xFwlOdUUHAoj2uLMdAAAEEep4AAYued827whlHShdb9ernLCMzxz3av+ZBawyiJYstq/+OljVon9bszj4IdDsBBYsURFLdkCBg0e1OkhNCAAEEEGg3AQIW7UbZLgdiSqh2YeQgCDQtMM4FCvSYMby3LSutsoXFFfaJmyrq64pq+7qs2pZGohZ2GQ9Zbo5gZT64BAyfgZEd1jL3cL/WUkJEVcw9XCCi2mVP6NnFJ6w6WmPVNTGLuWW9Ml3wIztkY1xwYjs33dMWhd8EKZoeIVsggAACCCCAAAIINCUQckWuLeS+RtW4OhadpPmUeY2LhgACCCCAAAIIIIBAFxcgYNHFLyDD75oCo/KzTY+9h/a2VWVVtsBlXywqrrR1LnhR6YIP5S47osIFI8qqNT9yw031MFSPosBlaORmZln/nCwfFFGQYqQ7Pg0BBBBAAAEEEECgnQVC7jNWRtgVuq6yTlEFzNXTyFAAJYOARTtfaQ6HAAIIIIAAAgggkAYBAhZpQKdLBBIFhuVlmx57DC502RM1VupSJsqqo1bmAjI0r9wAAEAASURBVBZ6XaFleq9UCtdy3TRS+W6ap1yXeZHnX4csz2VV6HWOW0ZDAAEEEEAAAQQQ6DgBTQMVCudatLqo4zppwZFrIpUuYNHLQtl9WrAXmyKAAAIIIIAAAggg0DkFCFh0zuvCqHqoQLab8ynbZUv0cw8aAggggAACCCCAQOcTyAhlWSh3mEXLlneKwdVESywjq7eFew3tFONhEAgggAACCCCAAAIItEWgfar8tmUE7IsAAggggAACCCCAAAIIdCGBjJzBruB2vtVUl6Z91DWRcsvIGWTmsj5oCCCAAAIIIIAAAgh0dQECFl39CjJ+BBBAAAEEEEAAAQQQSKlAKGeoy2ootFj1ppT2m9xZTcRlV7hi22E3HhoCCCCAAAIIIIAAAt1BgIBFd7iKnAMCCCCAAAIIIIAAAgikTED1IkK5w11/MauJlqes3+SOYhVfWyhnoIULxiev4j0CCCCAAAIIIIAAAl1SgIBFl7xsDBoBBBBAAAEEEEAAAQTSKZDZZ6oPFsQq1qVlGDWu6HdGZq6FCrZyzwVpGQOdIoAAAggggAACCCDQ3gIELNpblOMhgAACCCCAAAIIIIBAtxcIZfdzmQ1bmZuTyWKVG1N7vrGI69NlV/QabJm9t0lt3/SGAAIIIIAAAggggEAHChCw6EBcDo0AAggggAACCCCAAALdV0BZFpqOKVa90WoiKSrAXROzaNkyy+g1xDL77eLiJTndF5gzQwABBBBAAAEEEOhxApk97ow5YQQQQAABBBBAAAEEEEDACVRGa6wiGrPKWMwisRrLDocsJ5RhvdxzlntuqilYkDVwTzNXxyJasshCeSM7PIAQq1jpCn73sax+O1nY9UdDAAEEEEAAAQQQQKA7CRCw6E5Xk3NBAAEEEEAAAQQQQACBRgWWlFTa/KIK+2JzhRVXR1ygwsUbamrMJS5YyOWfh12gIjMjwwblZtmkPrk2oXeODeqV1eAxQ1m9XdBiD4tFKyzmMh9CucNcTYn8Brdv7YqaWNRqyle4QWZbZt/tmAqqtZDshwACCCCAAAIIINCpBQhYdOrLw+AQQAABBBBAAAEEEECgrQIKSLy3ocw+WF9qq8qqraQqamGXQJGTGfIBimwXoAi5BS5m4QIYMatw2RZfbiyz+ZvKrXd22MYW9rKdBuTZRBfAqK+Feg21nCH7W/XXcy1SutjC2X0tI7t/fZu2allNtNJiLliR4epmZPaZYln9d27VcdgJAQQQQAABBBBAAIHOLkDAorNfIcaHAAIIIIAAAggggAACrRb4ZGO5vbau2JYUVVqG1Vgfly0xoFdjX4PC3/TlMixqXKCjuDpmH7tAx7zN5TahT57tOaTARuVn1xmPghbZQw80W/eqmx5qgVl1iSuKPchNEVV/kKPOAepZUOOKa9dUrXc1Mopd5sZwy+4/3cKFE+rZkkUIIIAAAggggAACCHQPgcY+qXePM+QsEEAAAQQQQAABBBBAoMcJlFRH7cnlm+zDdaVW5QIPw12QIddlVLSkZbjMC2VY6LG5MmJvryl2gYsy22tooX17WJ86h8rILHSZFgdYJPdzq970oSttsdpNM5Xpa05kZBW47ZvXf020zGpcwCNWtdnNAOWyKvrt6GpWTHOv+9bpkwUIIIAAAggggAACCHQnAQIW3elqci4IIIAAAggggAACCCBgqlPxrAtWfO6yK/q5TIlRjWZUNA+sT06mD1wsL66255ZvtrUVEZs5oq/1ccGMWi2U5WpMTLFQ/liLbHrfZ1tEqzaZla/ytS1CmXlmGTkuduECGW5bV0HD1c+ImMUqTVM/1bhsihoX2Ai5AEdmn4l+Cqhw/vhaXfAGAQQQQAABBBBAAIHuKkDAorteWc4LAQQQQAABBBBAAIEeKPC5K6b9zPKNtqy4yoa6rIrC5IBCG0yUcTGqd7atK4/YO2tLbLOrhXHU2P42yAUzkpuKcWcP2ttihZMsVrHKZVusdDGJdS4oUWFW44ISqvJdE3XBi5BlZLighzu2K1Jh4YLxlpE7wkI5QyycN9Ktrjv9VHJfvEcAAQQQQAABBBBAoLsI1P1k3V3OjPNAAAEEEEAAAQQQQACBHiWwsqzKnluxyQUrKm1UQY4vqt0RAINyMy3bze6kotyzl22y/3FBi7wGppsK9RrialkMcVkX2/taFDXVm11SRZnFIiUuq6LcBSmyfOZFRjj/mwyMnEEdMWSOiQACCCCAAAIIIIBAlxAgYNElLhODRAABBBBAAAEEEEAAgcYEilzNiqdXbLbFmyttRGHHBSuCMWiKKFeP+5ughZt+6rsuaNFUC2UVmunhWtJEUk3tynoEEEAAAQQQQAABBHqEQPOqvvUICk4SAQQQQAABBBBAAAEEuqrAv1ywYr6rWTEoL7PFxbVbe84DXaZFzBX0/sJlWryxzmVM0BBAAAEEEEAAAQQQQKBNAgQs2sTHzggggAACCCCAAAIIIJBugYVuCqhFxRWuDESGKfMhlW2ky+bY4GpavLu+1EpclgcNAQQQQAABBBBAAAEEWi9AwKL1duyJAALNENi0aZNFo//35T0Wi5mW0RBAAAEEEEAAgfYSeG1tsa0qqbYhLrsiHW1gXpatLq0myyId+PSJAAIIIIAAAggg0K0E0vOJvlsRcjLpFFi6dKldeeWV9sorr9iCBQssNzfX9tlnHzvwwAPtjDPOsLy8vFrDW7Nmjd1+++32+9//3tavX+/XjR492m/7ne98x6ZMmRLfvqqqyi6++OL4+1AoZIMGDbJJkybZkUce6Ze/+eab9uCDD8a3aejFqFGj7IILLqh39d13322ffPJJnXW9e/e2q666qs7y+hZ89tln9rOf/czeeust27x5sz+Pc845x4477rhamz/11FP2wgsvxJfpnIYOHWo77LCDzZgxI768vV4oUNGvXz977rnnbOLEif6wS5YssfHjx1t5ebn16tWrvbriOAgggAACCCDQQwWUXbG8tMrys8OWHU7P77H65oRtYXmVfeqmhtp9SKHlpmkcPfRPgNNGAAEEEEAAAQQQ6EYCBCy60cXsaaeycOFC23777a24uNj23HNPO+KIIywrK8tefPFFO++88/wN+G222SbO8u9//9tvo+2PPvpo22677fy6lStX2mWXXeYfc+bMsT322MMvr66utltuucXGjh1rY8aM8VkC7777rr/RPmHCBPvoo49sw4YN9sEHH8T7KCoqsvfff9/GjRtnCoQETTfnG2pPPvmkDyLsvPPOtTbp37/pwo3aQf3vtttupuDDzJkzbciQITZ79mw7/vjjTcGBSy+9NH7c1157zZ/T3nvvHV+mc7jkkkvs0EMPNY2lo5uCFOpf46UhgAACCCCAAAJtFVjgpoLSlEwjC7Paeqg27d8/N9s2VkZMAZRt++a26VjsjAACCCCAAAIIIIBATxUgYNFTr3w3OO/77rvPByteffVVH7BIPKV58+b5X/YHy5YvX25HHXWU5efn20svvWQ77bRTsMo//+pXv7Jf//rXpqyK5HbaaafZL37xi/jiq6++2n75y1/aPffcY2effbYPEgQrlXGx66672plnnmk//elPg8WNPte4Qo0Kirz88suNbtfQyuuvv94qKirs448/jgdh7rjjDtt2221NY00MWOgYyjpJ7ksBixtuuMEefvhh+973vtdQV+2yfNiwYXX6b5cDcxAEEEAAAQQQ6JECClhErcYy0/xjiMKskC0pqrYFBCx65N8hJ40AAggggAACCCDQPgL8xLl9HDlKGgQWL17sswmUXZHclAGh6ZuCdsUVV/ipkhTkSA5WaJvBgwfbb37zG/v2t78d7BJ/VvHGxKZsDLX33nsvcXHaXitDRFkVQcZIMJB9993XBzJKS0uDRabgiB7J7ZRTTvGLlB3SnPbAAw/YO++842tRKNDxk5/8xG677TZbtmxZk7tv3LjRdD0ikUiT27IBAggggAACCCDQmMDikkr7uiJihZnhxjZLybpwKMP0fyr+XRWr+3krJYOgEwQQQAABBBBAAAEEurgAAYsufgF78vD79u1rqknx9ttvN8nwj3/8w9dQOOCAA5rctrkb1Hfjv7n7Jm6ngIimqVK9CmVLKMth7dq1iZs0+loZHXJIroOhKbC22GILn1USHEB9JQdgtO7555/3m2y11VbBpo0+n3rqqT4jRUES+Wv6LAUhNA1WU0ELFdxW3RECFo0SsxIBBBBAAAEEmiGwxgUrSquiluuyGzpD65UZspLqqK1x9SxoCCCAAAIIIIAAAggg0HIBpoRquRl7dBKBWbNm2a233mrTp0/30z3tvvvutt9++9nUqVNrjVA3xvWr/tYGK5IDE8ooUJs2bVqtftryRjf5L7/88vghVL/iL3/5ix1yyCHxZQ29uOiii+zvf/+7r9mhQuOqDaEpnz7//HN7+umna+2mYEVZWZkPLmhFZWWlvf766z5b4qSTTjJNf9Xc9uijj9qHH34YL1SuuiFbbrml/fWvf/UFwJt7HLZDAAEEEEAAAQRaK1AeiVokZpbtshs6Q8t2366qXXZFeZQMi85wPRgDAggggAACCCCAQNcTIGDR9a4ZI/6vgKaC0o36a6+91pRBoYfaWFcPQpkKQS2GIOCgYs/J7ec//7mpEHXQTjjhhDo37ZWpoKBHNBq1uXPn+mDApEmTLJhGKdi3tc/nnnuu3XvvvaYghTIrnn32WV8zQwEZ1aVQEKCxpqmvNJ2Vgg2qWRE0nZuKcCe2wEIBDbVYLOaDDuFw2Gdj+IXN/EfBlClTpsS3VjaHin/Pnz8/vowXCCCAAAIIIIBARwqUuWhFtfs8kx3uHAGLLPfDkRKX8aFx0RBAAAEEEEAAAQQQQKDlAgQsWm7GHp1IQIW09VBTTQkFFG688UY75phj/DIFLZRxoJZYy8EvSPrnlVdesT322CNpqdmiRYv8jX3d1NeUR8rqOOecc+ps19iCDz74wNd7CLZRwGPo0KH+bWLdDNXSOPHEE23cuHG211572YMPPmhBzYxg3+RnFQBXoEKBm8MPP9wfV4XFzz//fPvnP/9ZZ6qo+opu33TTTaZMDWVcqAC5mrInlJkSNNUFGT58ePDWxo8fH38dvBgwYIB9/fXXwVueEUAAAQQQQACBDhUo/29goL4pLzu04wYOnuUyPSIuw6IsSsCiASIWI4AAAggggAACCCDQqAABi0Z5WNmVBHbccUfT4/vf/76NGjXK/vjHP/osCwUa+vXr57MVks/nmmuuiS8qKCiIv058cfrpp5uyFdrSFEhZsGBB/BDK9ggCFvGFCS+UPaIxNydb4Xe/+53tv//+taZhOvroo33g4Ac/+IGpOLmyThprF154od1///2+cHYQsNBUUfPmzYvv9j//8z+1AhaZmXX/86HgkDJRaAgggAACCCCAQCoEFCCo6USzLymbVbNTZWZ0joyPVFwD+kAAAQQQQAABBBBAoD0F6t5xbM+jcywE0iAwcOBAf2N99erV8d6VefDnP//ZNL1TYkZDfIMOfvG///u/Le5B2Q31BQUSD6QvxSUlJTZkyJDExf51EBBRzYrmtD59+lhRUZH70l/jC3OfffbZzdmNbRBAAAEEEEAAgbQJ5Lki15kuQqCEhnAnqLsdcZ+jNJ58N662tE2bNtnSpUt9hq5+EKIfn4wcObLBQ1ZVVfkf5xQXF/ttcnJy/Pb6EU9y07ETm7bNzc2NL9KxmvP5UePq3bt3fL/6Xih7t7y83K/q27dvfZv4ZTpX/chGx9R0p5pqtL7PwZs3b/afVZMPlJ2dbcoiDpo+z2pbtfz8fMvKygpWxZ+bO7b4DrxAAAEEEEAAAQQQSIlA2z5Jp2SIdIJA/QLvvvtuvStUbHrhwoW2/fbbx9dfeeWVVlhYaMcdd5w1tF984xS+UDZCfV8Ig4yOvffeu9ZoFJwIvohqhaY/UI0LTWeldYlN00Gp6UtfU+2NN96wOXPm2LbbbuuP2dT2rEcAAQQQQAABBDqDQG5m2AcIIq6ORWdoKritgEVeG6InF198sc+0nTp1qumzoDJvFXjQDf8vvviizmlq+lDVQps2bZrtu+++/vGtb33LT2U6YsQIHwgIdqqoqPDHViZv8NCNfn1evOeee/xmqhEXrGvseeeddw4OW+f5scce88EMZRUHx6izkVuwYsUKU5bzmDFj4ueqqVM1PWpinblgX51PcLzE5zPOOCPYxD9v2LAhvt1VV11Va13wRlnZwTHIEA5UeEYAAQQQQAABBNIvQIZF+q8BI2ilgGpJPPnkk/7Ljb6c6YuOajf8v//3//wvrFSTIWiqPaEvTkcccYT/Mqcpk5RpoZoLn376qb3wwgu+xsV2220X7JKSZwUrNO6zzjrL9Os2Fd1+/vnn7auvvvK/LAtqcQSD0fj1BUz1OoKm2hWarmmnnXYyFfBWZsUDDzzgi5Br/+SAhfq84oor/O4quq36GnJUU/FuGgIIIIAAAggg0FUElGGhgtvlLsUip41ZDe1xzhWRGuudHTaNqzXtkUce8fXYDjnkEDvvvPNsl1128T+60Q9T/va3v5mmOk1sxx57rD300EN20EEH2fXXX28Kcqjp854+3+oz3/vvv+8zNBL3O+mkk+zkk0/2U3m+8847Plhx2mmn2TbbbOM/I+szddD0uVQBgWCfYHliRkOwLHhW1u7uu+9u++yzj/3rX//yn9GDdYnP1dXVvn6bPpvvt99+Piviueee8+euz7H6EVJydoQ+D+szb2KrL9tY65WVcu+99/p6b4nbr1+/3n9W1vrly5cnruI1AggggAACCCCAQJoFCFik+QLQfesFVPha0z9pmqfgS8tWW23lC26rELV+mZXY9CVINRl+//vf++LcP/vZz/wUSNrmwAMP9L9YmzhxYnwXfTnScRv79Vh84/++ULCgJfsofV3H1xdMNaXja9w/+clPfE0KBTESm77MJRcP/+53v2tPPfWUXXfddX4fpfErjV61KIJMjeAY+uKo8SVOBaDi2ZdcconPPpk8eXKwaaPP+gKtX+4lt8MOO6xWmr7S+rWtAkNB09QBGkPyF+5gPc8IIIAAAggggEBzBQbnZPoAwYaKqPWt/bGpuYdo1+3KqmI2pjDHBrhxtab95z//8bspCJFYX02vTz311FqHVCaEtjv++ON9LbLElQomfOc73/GP+m7I68c8Ciao6TPykUceafocrB+93HbbbbWmG1UWgpo+owb7+AWN/KPghh5qH330UYNbaqqrO++8M75eU5Tqs61+xKMpVRcvXmz6fJ/YFGRoyThUsy55Wlidp6aKOuqoo0w/gmpOi0QiPqNZmS4KtOgzuTJI9Ehs+iyu9Tp+Q00BJW2nps/G+swcNE1lpe8I+l6gzGr9wEguyU3rtE19U2dp22D6LH2n0XaJfQTH0jH0mVx/LwqK6RyTp9DSeep81JKnDwuOk3g+ymrnc34gwzMCCCCAAAIItEagdZ+kW9MT+yDQzgJKe9ejJW3YsGHWUFp48nH0ReHmm29OXtzoe2VLtGQffejXr86a2xqqK6Ff4enRVDv00ENNj7a2X//61/UeQgXKE5umrFJR8FWrVsW/6Ch40RKjxOPxGgEEEEAAAQQQSBQYkZ9t/Xtl2cqSSOLitLyujCjLI8PGFOT4aaFaMwjVXtAN8MRgRUPH+e1vf+tXNfW5qrHaF8GxJ0yY4F+qlkRnaEHGhKawaktTEGbXXXe1P7tadol17DT91fe+971GgwrJ/c6dO9dPt6WMjVNOOSW+escdd/Sf5zW9qgIgQVO2in5UlPgjKmXEaNrW5PNSgCbIitazPlN/8sknfspWHU8BBwVezj//fB+s0XSwQdN3G00LFjRlpUyZMqXOj5yUfX7DDTcEm/lnmeiHTgpWzJ492y9TIEznsWDBAh90Sp6aSw76EZSa9lNmjrJ/gqaAxZ/+9CcfeAqW8YwAAggggAACCLRE4P9+ytGSvdgWAQQQQAABBBBAAAEEEOgEAlu4AEEvFygoqoqmdTQbKqNWmBO2LVyGRWubbgTrZrayVl9++eVa04AmH/P111+3vfbaq1Yma/I2zX2vaZ/U6ivS3dxjtOd2utGvph8DJTcFDPSjGGUm6MdLTWVIaOorTbUVZCl/+OGHpkdi0CG5j8beK4tZU80qg+HZZ5/1dThOOOEEn+msfjZu3OineNW0WKpHErT58+f7jBgFGBSYCh6aDjZ5ei1lhKtOnWrzKYikc1AGtqbJUgBKwYzVq1fbhRdeaMosX7JkSdCNz6S44IILfBF29aHpbxWouPHGG+v90dDDDz/s99HUYNpef3vKxtbfovZVNoqm0NI69ZOYOf2jH/3IByt0bE1bq3EpWKLpapXVQkMAAQQQQAABBFojQMCiNWrsgwACCCCAAAIIIIAAAp1CYOqAPBuYl2lrSr+ZtiYdg4q4YttFlREbmZ9jW/WuPUVQS8Yza9Ys081m3bBXjTbVKNOUTLphHQQVdLygSHSQiZDYh24yK9gRPBL3C7bTjedg/TPPPGPqV03TS6W7KQhw3333+WlFFZRIbMpa0LSwukmvrOFFixb5qUYbyzRWJoVakAWgbAtNRbXHHnskHrrZr1U/TnU0NDZNK6ub8xqzghNy1JRR+++/v7d89NFH48fV9EtqyTXqtG3y9FGaBktZICpAriBSkN2s7Ia//vWvtu222/ppuxQoUEusb6dzu/LKKy2ozSczZVccfvjhPtPE75Dwj6bYVdBCf2tqmkLqj3/8o61Zs8Y/qzi5irqraSoxjUlNAYq//OUvflpZBU70d6pxBbXxlBFCQwABBBBAAAEEWiPAlFCtUWMfBBBAAAEEEEAAAQQQ6BQC/bIzbWq/PFvrAhbKslDR61S3tWXVNigvy3YZ1HDdguaO6aabbvI34TV1kH6lrpvUuoGvh2pcaIqjoKm+QXJToe3EG+WqJ6YpOhObbjTrETTdkNYN8sRjB+saek6sbaBtNG1Rcv21hvZtaPmLL75oM2fOtO23395PgZS83VtvvVVrkaYkUmDn6aefti+//NLX4ai1gXujAIJqdMhPWRUKWOgGe31NnsqMSGzaP7HtueeeiW9t+PDh/v3ee+9da7mmolVTcEk1HYL3qkmnAJTOsb6acNonuQ9Ns6SgRjAVk7YJmoJW69atC976ZwVyHnzwQfvss898BoiyIxS4Sqxjpw2VqaJAha5dYnvzzTf9FFVBICtxXfBaGR5qxx13XLDIPytwIW8FcWgIIIAAAggggEBrBMiwaI0a+yCAAAIIIIAAAggggECnEdh1cKENyc+yVSVVFq17D79Dx1keiVqxC5SMc1NBbd2n9o3f1nasX9Urk0BTD+lmdFCn4vLLL/eHDIoaBzeNE/vRtES6Qa2Hpu/Rc3I78cQT7aWXXjLVQlCtAk3509IpkpS5oJvTwePuu+9O7qZF7xWMUe0E3fhXPYjkaZLqO5hqfSjbQk010xpqChDoXBW40U37hs5VFsH5BM9BNktw7OQARlD0Onm5MhXUAn8FLN5//30bMWKEaSolBR8UKNIUU8kt+Vhar+NpTMlN/ScGrhRsGD9+vN1+++0+O0OeKlKu6bWCabGCY2hsyrBIbpruSpkajbUgY6S+acTUV3l5ea1xNXYs1iGAAAIIIIAAAokCZFgkavAaAQQQQAABBBBAAAEEupxAQWbI9h3Wxx6v2mDLiittbJ/W15FoyckrOLK0qMpG986xGcP7tGTXFm177rnn+loNX3zxRXy/XXbZxVQQWTUT6ruRHd+wnhe6oayb2G1pmkaouvr/puFK/pV+S479xBNP+CmLdthhB1/8OXmKpMaOFdxYD26g17ftAQcc4Gs/qA6EpnEKsiKUYZDYVIBanoktCA4lLmvta2VVKAilpqm7FGxRwWxdi9ZOUZU8ljvvvNMHJz7++GNTZkbQlIGiuieJLfn8g3V9+vSxxL+1YHniczBdl4JdyU3TSamFQvw+MtmG9wgggAACCCDQtACfIJo2YgsEEEAAAQQQQAABBBDo5AI79M+zHQfkW9jdg15XHknJaBUcGewyO/ZzwYohud/8or6jOlYx7uAmsfr48Y9/7LvSlE/paAoqKBMgeLR2OijV61B9halTp5qmhGpJsELn/eqrr/rTHzx4cKMMqjGhbANlrjTUdIM9OJ/guaFt27pc9R5Uj0Jt8eLF/rk9/lm+fLmvX5EYrFC2g4p7N7epmLmOk1gbI3nfoUOH+kUvvPBC8io/lVlLphercwAWIIAAAggggECPFiBg0aMvPyePAAIIIIAAAggggED3EThwRF/bxhXhLqmK2MbKaIee2Eo3/VSvzAzbvn++KVjSHk2FilXDQlMHBU3Fjc8880xbuXKlL/AcLFcxZBV8Vi0KFZ3+8MMPg1X+WTeSy8rKai1L1RtNuxQU9Q5+ba/xaNm8efPiw/j666/9OSg4oOmudA7BfnrW1ERBUz2GW2+91ZYuXeoX6TjXXXedr0ehaZaUndFYU6BCx0ws0B1M19TYfu21ThkOb7zxRq3DPfTQQ/59fdMq1dqwBW+UcaLaJ4nF1nXu9WVCNHTY0047zdew0POyZcvim+l18F5ZPSeccIK/Jm+//XZ8G9UH0TVvLDAU35gXCCCAAAIIIIBAPQJMCVUPCosQQAABBBBAAAEEEECg6wnkuPSKg0b0sUo3V9OCzRVWGYnZUJcB0Z4t5kpCLC2usoKsDJvQN69dp4LSDfSLLrqo3uGeeuqpfvqgxJWalmmrrbayW265xRdxTlzXq1cvO+mkk+ySSy5JXJyS1x988IEvhp3Y2YwZM/zbs846y+666y7/Wje29et/PVS/Irmp7sRee+3lF+uGu6bG0iOx6ab51VdfbdnZ2YmLO91rFfPebbfdfA0LTT2lKZs0/ZQCKMkFu9syeBVd13RT+rtQ1srChQtNGRMKINx2223NOvSgQYN8gffjjz/eRo8ebZMnT/Y1RVQfQ9OQBQEWTT+lzJ/p06fblClTfB0RXUv9XSqYRkMAAQQQQAABBFojkOE+FNetwtaaI7FPjxaYPXu2HXroof6XOyoeR0MgUUBFEDXHsb7w0BBAAAEEEGiugG7w6VflEydOtIbmWm/usdiuZwkUVUftyaWbbEFxuW1ymRbD8rIsLyvcZoSNlRHb4KabUoFvFdg+eGRfywzVroPQ1k4qKyv9FEEqqK2CyqonMHLkSD9VUWPHXrFihWmfSCRiKvCsOg1BQejE/ZT9oGCGHs1pKjqt+hAt2UdjKCkpqffwmjoqqHcRHLveDd1CFdVOPAdlV6jAtAqRa51qcdRXnFtfcZWdoXWNBTJ0s10PZXg01YJzSt5W10s36ZuzXNvqc7EySzT9lK5r8lRWGrfGHBgF49JyFd5OPl/9d1KmyVNyaUonPZRxoembFBzRMfQ+aLquqtGRfMxgvZ41XrmrgLse9dVL0fVYtGiR/1sdN25co+aJx+7I1/rbmj9/vjfW3woNAQQQQACBxgQUeD/ooIPshhtuaGwz1qVIgIBFiqC7ezcELLr7FW7b+RGwaJsfeyOAAAI9VYCARU+98u1z3tUuFWL2che0KKqw1aVVFsrI8NkW2eGWz4pbGom6Y1Rbrtt3sAt+7DyowL7lHjQEEOicAgQsOud1YVQIIIBAZxUgYNG5rgxTQnWu68FoEEAAAQQQQAABBBBAoB0EslzmwxGj+9kXbmqoN9eV2OryKlvmpnJS4KJ3Tth6Z4Usq5HgRbmbTqrIZVQUV8Xcdhk2siDbRubl2J5DClzGRueefqgd+DgEAggggAACCCCAAAJpESBgkRZ2OkUAAQQQQAABBBBAAIFUCEzq08v0eG9DmX3sHptcQe6iqqitchkTVa7WRdRNkBt2QQzN7KTXmk5IQY3czJAVusDGIJdRMbhXtk0bmG9bFOakYsj0gQACCCCAAAIIIIBAjxUgYNFjLz0njgACCCCAAAIIIIBAzxHYsX+e6bHeZU0scVNErXCPUpdFoQLdJW7KpzL3utBlXeRnhi3HZV4UuoDFmIIc98j2y3qOFGeKAAIIIIAAAggggED6BAhYpM+enhFAAAEEEEAAAQQQQCDFAgNyMk0PBS9oCCCAAAIIIIAAAggg0LkEWl5xrnONn9EggAACCCCAAAIIIIAAAggggAACCCCAAAIIIIBANxAgYNENLiKngAACCCCAAAIIIIAAAggggAACCCCAAAIIIIBAVxcgYNHVryDjRwABBBBAAAEEEEAAAQQQQAABBBBAAAEEEECgGwgQsOgGF5FTQAABBBBAAAEEEEAAAQQQQAABBBBAAAEEEECgqwsQsOjqV5DxI4AAAggggAACCCCAAAIIIIAAAggggAACCCDQDQQIWHSDi8gpIIAAAggggAACCCCAAAIIIIAAAggggAACCCDQ1QUIWHT1K8j4EUAAAQQQQAABBBBAAAEEEEAAAQQQQAABBBDoBgIELLrBReQUEEAAAQQQQAABBBBAAAEEEEAAAQQQQAABBBDo6gKZXf0EGP//CaxcudLmzZv3fwsSXk2bNs0KCgoSlnzz8pFHHrHXXnvNv9lrr73sqKOOqrMNCxBAAAEEEEAAAQQQQAABBBBAAAEEEEAAAQQQ6GgBAhYdLZzC4z/55JP2gx/8wHbddVfLycmp1fM999xTK2Cxfv16mzlzpn355Zc2a9YsC4fDdtppp9lNN91kTzzxhA0cOLDW/rxBAAEEEEAAAQQQQAABBBBAAAEEEEAAAQQQQKAjBQhYdKRumo796KOP2ogRIxrt/dprr7W3337bXnjhBdtvv/38tt///vdt3333teuuu85+85vfNLo/KxFAAAEEEEAAAQQQQAABBBBAAAEEEEAAAQQQaE8Bali0p2YXOta9995rO+20UzxYoaHvs88+tvPOO5vW0RBAAAEEEEAAAQQQQAABBBBAAAEEEEAAAQQQSKUAGRap1E5RX3PnzrWvvvrKhg8fbrvttptNmjSpVs+lpaW2cePGWsGKYAMFLZR5oW3y8/ODxTwjgAACCCCAAAIIIIAAAggggAACCCCAAAIIINChAgQsOpQ3PQc/5phjanV8xRVX2OWXXx5fVlFR4V/XV6di8ODBfl15eXmDAYv58+fbihUr4sfTi48//ti/Lysrs169etVaxxsEKisrLRKJmP4+aAgggAACCDRXQJ9Zqqur/f9+ZGRkNHc3tkMAAQQQ6OECsVjM/++H/nckFGJiiR7+58DpI4AAAk0K1NTUNLkNG6ROgIBF6qw7vKcxY8bY73//ezv22GMtMzPT3njjDbvqqqtMAQsFJ370ox/5MejDm1pBQYF/TvynT58+/q1uLjfUbr75ZrvzzjvrXb18+XIrKSmpdx0Le65AcXGx6e+usb+rnqvDmSOAAAIINCSggLf+N2Tp0qVGwKIhJZYjgAACCCQL6LvH5s2bTTegsrOzk1fzHgEEEEAAgVoC+pEUrfMIELDoPNeizSM56KCDah1DxbSnT59uY8eOtRtvvDEesAiHw367oqKiWtvrjW4KqAXb+DdJ/9xxxx2mR2KbPXu2HXrooTZhwgTr379/4ipeI2CrVq3yv3AaPXo0GggggAACCDRbQJ9VVq5caRMnTiRg0Ww1NkQAAQQQiEajppkBRo4cWe8P9RBCAAEEEEAgUYDgdqJG+l+TG5n+a9ChIygsLLT999/flixZ4n9dos6CKZvWr19fp+9169b5Zbm5uXXWsQABBBBAAAEEEEAAAQQQQAABBBBAAAEEEEAAgY4SIGDRUbKd6LjJmRR5eXmmQIamjEpu//nPf0zTQtU3XVTytrxHAAEEEEAAAQQQQAABBBBAAAEEEEAAAQQQQKC9BAhYtJdkJzjOmjVr6oxiwYIF9uyzz9qMGTNqTaWg6aPmzJljixcvju+zbNkye+WVV+ywww6LL+MFAggggAACCCCAAAIIIIAAAggggAACCCCAAAKpEKCGRSqUU9THlClT7Oijj7YjjzzSVKTyzTfftLvuusv3rhoWie2yyy6zZ555xteduOSSS3zNiuuvv95nVlx88cWJm/IaAQQQQAABBBBAAAEEEEAAAQQQQAABBBBAAIEOFyDDosOJU9fBrFmz7MEHH7QDDjjAZ0ncdNNNNmnSJJs7d65NnTq11kAmT55sL730kg0dOtROPPFEO+644/zrl19+2bSOhgACCCCAAAIIIIAAAggggAACCCCAAAIIIIBAKgXIsEildgf3dccdd5gezW3Tpk2zF154obmbsx0CCCCAAAIIIIAAAggggAACCCCAAAIIIIAAAh0mQIZFh9FyYAQQQAABBBBAAAEEEEAAAQQQQAABBBBAAAEEEGiuAAGL5kqxHQIIIIAAAggggAACCCCAAAIIIIAAAggggAACCHSYAAGLDqPlwAgggAACCCCAAAIIIIAAAggggAACCCCAAAIIINBcAQIWzZViOwQQQAABBBBAAAEEEEAAAQQQQAABBBBAAAEEEOgwAQIWHUbLgRFAAAEEEEAAAQQQQAABBBBAAAEEEEAAAQQQQKC5AgQsmivFdggggAACCCCAAAIIIIAAAggggAACCCCAAAIIINBhAgQsOoyWAyOAAAIIIIAAAggggAACCCCAAAIIIIAAAggggEBzBQhYNFeK7RBAAAEEEEAAAQQQQAABBBBAAAEEEEAAAQQQQKDDBAhYdBgtB0YAAQQQQAABBBBAAAEEEEAAAQQQQAABBBBAAIHmCmQ2d0O2QwABBBBAAAEEEEAAAQQQaINATdSi5SstVrHCaqqLrSZaYe6NxaKVFgrnmIV6WUbYPbIK3csRFs4dbm5BGzpkVwQQQAABBBBAAAEEupYAAYuudb0YLQIIIIAAAggggAACCHQxgVh1kUVL5lusdLHFqja4QEWpOwMlu4ctI8M9u6BETAGMmph7RC3DYpaRmW+h7P4Wyh9r4YKtLJTVu4udNcNFAAEEEEAAAQQQQKDlAgQsWm7GHggggAACCCCAAAIIIIBAkwI1kXKLFH1okc2fu0yK8m+yJcL5Fs4Z0OS+sUiZC258bbHKNRbZ9KFl9tnGMntPdYGM3Cb3ZQMEEEAAAQQQQAABBLqqAAGLrnrlGDcCCCCAAAIIIIAAAgh0WoFI8ZdWvf4Nq3EZFRkuSBHKGewCFs0vIRjKzDPTw2VdKCuj+uv/uODHPMsesKuFCyd02vNmYAgggAACCCCAAAIItEWAgEVb9NgXAQQQQAABBBBAAAEEEEgQqIlVW/XGdyy6+WOrcVkSIVeHIiOUlbBFC1+6IEcoZ6BZVl9f/6Jq3SuWWb3BMvvu1LbjtnAYbI4AAggggAACCCCAQCoEmv8Tn1SMhj4QQAABBBBAAAEEEEAAgS4qUBMptaq1L1h04/tuCqiIhfNHt19QIZTpj+eKXVhkw3u+n5pISReVYtgIIIAAAggggAACCNQvQIZF/S4sRQABBBBAAAEEEEAAAQSaLaDMiqr1cy1aPN9CrmB2Rna/Zu/bkg1DuUP9FFHqpyojw3IG7efqd7chgyOp85KSElu8eLFt2rTJIpGIZWZm2pgxY2zUqFHxLbV+3LhxVl5ebr169Yovb88XS5YssUWLFvlDhsNhGzFihI0fP75OFxUVFbZw4ULbuHGjVVdXWygU8mPV+BKbzqehlp2dbXl5bvqtRlpZWZlVVVXFt8hw9jr3nJyc+LLEF431J9OCggK/eU1NjW3evDm+q46rYya6xmIxKyoqim/T2Iu+ffs2tpp1CCCAAAIIIIBApxcgYNHpLxEDRAABBBBAAAEEEEAAgc4uENn4psVKl7h6Fb06LFgRGISy+5tuYsdKl1p15luWNWD3YFWbnu+66y47//zzTUGAyZMnW58+feydd97x7//2t7/Zd7/73TYdvzk7v/XWW3bWWWfZBx98YNOnT7fc3FxTsODtt9823Yz/7LPPbNiwYf5Q//znP+2UU07xwZUtt9zShg8fbu+//74VFxfbDTfcYBdddJHfToGGfv0aDiCdfvrp9sc//rHR4f3gBz+w+++/v842I0eOtF/96ld20kknxdfp2jTW34wZM+y5557z269du9aGDh0a3zd4of3PPfdcu/zyy33gRufXnKZzzcpqvwBWc/pkGwQQQAABBBBAoD0FmBKqPTU5FgIIIIAAAggggAACCPQ4gWjJAosUL7CaaOU39SZSIBDqNdD3Fyn+yvX9VZt7/Oqrr+zss8/2N951w/+jjz6yOXPm+CyKv//97z7DIehk7NixpsyAxCyAYF1bnhWU2GWXXXyGwYIFC+zNN9+0l19+2RTE0OvtttvOZ1KoD2UwHH/88bbnnnva+vXrbf78+fbKK6/4TAQFA7beeus6Q/nZz37mx62xJz6aClYEB1KWR+J+q1ev9tkcJ598sn3yySfBZvHnM888s9b2wb5BsCK+oXuhMQTrX3rpJdthhx3siiuusH/961+2xRZbxNcF28j+wAMPrLOcYEWiKq8RQAABBBBAoCsKkGHRFa8aY0YAAQQQQAABBBBAAIFOIVATq7JI0SdWU7nOQvljUzqmcO4wi7qsjmjRx/+tl5Hd6v7nzp3r97366qvj0xUFBzvqqKOCl/5ZGRhvvPGG7bXXXn4KJi3UlEV6KONg6dKlfpqmQYMGmTIDgmmTNHWT1vXu3dsmTpxo+fn5tY6rLAXt/8ILL9QZg7ItFEAJpkb6+OOPrbS01C677DLr379/reMogyEVbciQIXbNNdfYt7/9bXvxxRd9QKU9+t1nn31MdgrQPP744z4w0R7H3bBhg/dXsEfZKgrqBNdGx1++fLnPaBkwYECt7tatW2fRaLRWJoimBdMx9FCgSddC02ptv/32pim2aAgggAACCCCAQGsFyLBorRz7IYAAAggggAACCCCAQI8XiGz+zGIVa9w0UP0tIyPFX69cf6EcNz2UC5ZEiz5r07VQ/Qc1BRSaasos2HfffWvVdLj33nttjz328DfwdSP8vPPO8zfcVf9i1apVfoomZQpoyqmddtrJZw0oiyJoH374oX3++ed2wQUX1AlWBNvoWcEONd1AV2vOeP2GHfSPpqtSSw6+tLU7BSzUVq5c2dZD+f3POeccUyDixBNP9Jkbs2bN8hkymvIraAoKKQCU3H70ox/Z9773vVqLVSNEGSA77rijHX744aZtlB2z6667+im8am3MGwQQQAABBBBAoAUCZFi0AKsjNtVcsPPmzfNpzNdff73/hYu+AHz99dft9gudjhg3x0QAAQQQQAABBBBAoKcLxKqLLFoyz03NVGbhvNFp4cjI6uNrWUSK57kMj/Gu/vY3N/RbOhjdeFY76KCDfO0HBR++9a1vtegwKpT95JNP+pvsqn+hqZx0E1vHVDFsTd2kbAhlR0yZMsVuvPFGU90MtS+//NI/N7fPCRMm+O2VlfHpp5/6bA9lJjTWFNzQFFPJTdkeQV2M5HWJ7ysrK+P7q+C4Mj7uvvtufy7HHHNM4qb+tYIN9fWnm/0K5DTWnnnmGb962rRpjW3WrHXKqLj99tvtxz/+sd1yyy3xfZQlo2muWtt0LAU4rrrqKn+Ip59+2g455BBf0+Paa69t7WHZDwEEEEAAAQR6uAABizT9AejDulKHNTds0JR+rZRcpeLuvPPOpgJswS9rgm14RgABBBBAAAEEEEAAgc4hEC1ZaDVVmywjs29aB6SghcYRK11oob7bt2osynrQTeZLL73ULrnkEn8MTfGjYMNPf/pT//2kOQf+wx/+4It1a1v9Yn///ff3Uzy9/vrr8ambVND7O9/5jg9oBMcsKSnxLxXoaE5Tge377rvPfvjDH/rC1ME+M2fO9Fkc9U0L9cADD5geyU1Bh9NOOy15cZ33+lGZMksSm4Idmg6qoKAgcbF//dRTT5keyU3f+37xi1/UWvzEE0/474FauHnzZrv55ptNgQ3VFWlr0xReagomJDZlQ7SljRo1Kh6s0HEOPvhgU+DmuuuuM51jOBxuy+HZFwEEEEAAAQR6qAABizRdeBVmUxrzY4895n/Nk/hhUb+i0YdTpUgTsEjTBaJbBBBAAAEEEEAAAQSaEIhVrbVYpNjVj2j81/JNHKbNqzOyCr+pZVG51tryBU9FqTVlkwpIKztCv8DX95V//OMf9uijj9rRRx/d6FgHDhzosw0SN1JgQYGP3XbbLXGx/2W/+ghaRkaGfxlM9RQsb+xZ0xvpoYwNPV599VVTgfADDjjA3/A/99xza+1+3HHH2emnn15rmd4o6KCmgtYKFiQ2BVCCsen8HnnkEb9a43z//ff9e+2vzPn99tsvcVc79NBD/RRXtRa6N/qul9yUYZJYn0NTTP31r3/10zglb9vQ+6qqqlrTMWVmZvpAirJaNB2UinSfeuqpdsIJJ/ipm9paNF3BqOSmZQ899JCvaRFM35W8De8RQAABBBBAAIHGBNryebax47KuEYFYLOZ/aaNf4ijL4quvvqqzteZ3VVE0GgIIIIAAAggggAACCHRCgWi5WZX7vJ6RlfraFUkcvnaGG4cfj5ueys1PlbRF89/qJrZ+QKWHshdUKFvZ3xdeeGGTAYv6sgx007y++g5aHolE4gMLbm6vWbPGttlmm/jy5rxQxoYe3//+9/10RPoxmGpoJAcsRo8ebY1NG6V6FP369avVpQpOK1Chpmz4xP0VoFDtBk0ndfHFF9u7775ba18FaxK3r7Uy6c1FF10UD6ZoKikFXVQbQoGM5KLiSbvG3yp7RAGJoKko+iuvvOKLYKsw9i9/+Uu75557/EPX5IwzzvDZEK0NXAwePDjoKv4cLNOUWcE1ja/kBQIIIIAAAggg0AyBUDO2YZN2FtDcp2rjx49v8Mj6dU1Q+K7BjViBAAIIIIAAAggggAACaRGIVW102RVlFsouTEv/yZ2G3ThikVKLuamh2rPpO4vqUCxevNhnILTnsROPteWWW/q3zz33XOLiFr9WcEE3+9V007wlTTfxlWWR+AiCFQ0dJzc317baait77733GtqkxcsV6Ljjjjt8XcOW1II45ZRTao1dwYqgKavj/vvv9+sXLVrkp8DStFPK4ghaVlZWrULqwXL9kC7IMgmW6VlTZCU3TWus1togSPLxeI8AAggggAACPU+AgEUarrl+TaS2bNmyenvXBz+lRzf14bjenVmIAAIIIIAAAggggAACHS5QE3V1AWJVlhHK6fC+mtVB2I0jVm0xjasVrbS0tMG9dINbrb6b1g3u1MIVU6dOta233tquv/76eAHu+g4RTJukbIiGWjDeVNRQUFBk/vz5tt122zU0nGYtT7bde++9fTb+b37zG1u9enWzjtHcjcaOHeuLb6vg9rx58+K7DR06tNZ7rdAUWe+88058m8QXKrId1McIlmv6MLX6sm2CbXhGAAEEEEAAAQQaEyBg0ZhOB63TL1f0YfzHP/6xT7FO7kbp1mrbbrtt8ireI4AAAggggAACCCCAQCcQqIm5G+Y1EXcTv3PMspuh6hVuPBZrWVZBQPmXv/zFT0GkOhBBU1DgJz/5iX3xxRe+VkSwvKOeZ8+ebZoaV1M6aTxBhsScOXPsmmuuMRUGX758ue9eRbw13VJyRoZu8D/77LOm6ZCys7NrDXXp0qX28ssv13l8+OGHtbZr6I0y5RP31xS/Kh6um/qq/ZHcNLVT4vbB6zfffDN503rfq3i1ms69LU3TbKmod+J5Pv/887ZixQoLMlt0fAVJZH3jjTfGAxWzZs2qU9cjGMuqVav834yCHpo6S8XZFcRQQfFUBIuCcfCMAAIIIIAAAt1LoHN8uu5eps06G80detRRR/kP5EohVtO8pfqC8Nlnn9lvf/tb69u3b7OOxUYIIIAAAggggAACCCCQWoGaSIXVxCJWkxGyb8pFp7b/Or25cfjxuHG1pk2ZMsVUA0E3rZObvrdo+qCObpq2SLUWrrrqKl9v4aSTTqrV5cyZM32xbi1UPYpQKOQLSdfayL1RbYk//elPyYv9+ekck9u+++5r//73v5MX13mvTHhtm9j0XU5BksTaEcH6p556ytcuDN4HzzpP1QZpqk2fPt2f3+23326//vWvffHypvapb72mGlY9jMSmqaxUf+PMM8+ML7788svt888/9/U4VJNDTYXKFbRQQCK5qUaIpp0KipYH21999dXJm/IeAQQQQAABBBBotkCGm5+zptlbs2G7CugXQ3fddZcpbXbu3Ln+A+ikSZPs0ksvbbKgXbsOpB0Opl9DHXroobZ+/fpmF4Vrh245RBcR0K+v9EVJXyxpCCCAAAIINFdAU7/oF8q6GZY8XUpzj8F2CHSUQPXGd6163RxX33qkmysp/YnrNTVRi5WtsKyBu1tW/51bfdrRaNRKSkp8rQMdRFkKeXmtL+Ld6oG4HVWUO5iqqk+fPg0eSv+tiMVifr2m32U6orpU8ikuLvbXtalrqkwSfVfVzAD1FUzX0fXfZBXxvvLKK/10xsrGUXFwBb46Q9PfsabqGjlyJH8PneGCMAYEEECgkwvof78OOuggu+GGGzr5SHvG8MiwSMN11odFZVJoyielDteXPpyGYdElAggggAACCCCAAAIINFMgI5zt4hSZLquh2jJUPyLdzWV7uIG4MfVq00g0lU9jwYE2HbyFOyv40Jyx9O7du4VH7nmbKxulOZaSycnJ8Y+mlILfPioThIYAAggggAACCLSXQPp/CtReZ9KFjqNfrCiVOJh/tQsNnaEigAACCCCAAAIIIICAE8gI5bp/9Puvb37Zn3YUl2GREcoyC7ctYJH282AACCCAAAIIIIAAAj1agAyLNFx+/WJFbe3atWnonS4RQAABBBBAAAEEEECgzQIhV9BZAYJopQsSuOBFmluNxuECKJ0i2yPNFnTf8QIvvfSSjRkzpuM7ogcEEEAAAQQQ6HECZFik4ZIrHfe0007z831u3LgxDSOgSwQQQAABBBBAAAEEEGiLQCi7n4Uy8y0WKWnLYdpt35poqYufFFgoe2C7HZMDIdCQwD777GPjXPFwGgIIIIAAAggg0N4CZFi0t2gzjzd06FBfbFtFiGfMmOHrWWi+2MR23nnnWd++fRMX8RoBBBBAAAEEEEAAAQQ6gUBGZqGrSN3XakqXd4LRmNVEq9x4+rski/QUyO4UCAwCAQQQQAABBBBAoMsLELBI0yW85ppr4j0/9thjpkdyO/nkkwlYJKPwHgEEEEAAAQQQQACBTiIQzhlhscyFLlhQ5qZiSl+gQP2HXKAinDOsk8gwDAQQQAABBBBAAAEEWidAwKJ1bm3eq6amps3H4AAIIIAAAggggAACCCCQPoFwwXiLFH1ssaqNroxF+gIWsapNbiqoAabx0BBAAAEEEEAAAQQQ6MoC1LDoylePsSOAAAIIIIAAAggggEDaBDJcDYtw4STLcP9XEy1Pyzh8dofrOVw40U0HlZ+WMdApAggggAACCCCAAALtJUCGRXtJtvI4GzZssOXLl9vmzZstGo3a8OHDbcKECa08GrshgAACCCCAAAIIIIBAKgWyem9jsZJ5FitfbRn5o1PZte8rVr7WQnkjLNONg4YAAggggAACCCCAQFcXIGCRxit42WWX2a9+9as6I9hll13s0UcftZEjR9ZZxwIEEEAAAQQQQAABBBDoRALhXi67wQUtKjdYrOJrC/UamLLBqb8M139m4db+OWUd0xECCCCAAAIIIIAAAh0kQMCig2CbOqyKbitYMWvWLFOAYptttrFVq1bZRx99ZI8//rgddthh9tZbb1lWVlZTh2I9AggggAACCCCAAAIIpFEgs8/WFq1cbdGiL6wmUuKmZiro8NGon5pYuYVdZoX6pyGAAAIIIIAAAggg0B0ECFik4SrGYjH7xS9+Ybfeequdc845dUagdVtssYUPXuy000511rMAAQQQQAABBBBAAAEEOpFARpZlD/iWVUXKLFq62FW0CFsoM7fDBqi6FbGN2GPLAABAAElEQVTK9RbOH+f63c3M9U9DAAEEEEAAAQQQQKA7CFB0Ow1XsbKy0vc6c+bMensfNGiQTZ061VauXFnvehYigAACCCCAAAIIIIBA5xJQVkWWCx6Ecke4YMI6q6na3CEDjLnjRjX1VO5I318qsjk65EQ4KAIIIIAAAggggAAC9QgQsKgHpaMXhULfsC9YsKDBrhYuXMh0UA3qsAIBBBBAAAEEEEAAgc4nEOo1xLKH7OdqSmxpNdFyV9NiXbsOMlax1swdV8fPHrKvq5cxpF2Pz8EQQAABBBBAAAEEEEi3AAGLNFyBnJwcGz9+vJ177rm2dq370pHUfvrTn/rsCtW1oCGAAAIIIIAAAggggEDXEQhl97fsQd+2UOEEs3CuRctWWE11UZtOIFZV5I+j4+m4/vjZqSvu3abBszMCCCCAAAIIIIAAAi0QoIZFC7Dac9Pbb7/dDj74YBsyZIh/3nbbbX3R7VdffdWWLl1qJ554oo0ePbo9u+RYCCCAAAIIIIAAAgggkAKBjMw8yxmyv0WKPrdoyZe+3kSsdKkrxp3nghh5rr6Fe26ixVw9DBelcEW8y9x+ha5exSgLF0y0zN4U2G6CjtUIIIAAAggggAACXViAgEWaLp7qVzz55JP285//3J5++mn/0FCGDRtmF1xwgd10001pGhndIoAAAggggAACCCCAQHsIKLgQzh9rkc2fuNjDEh98MJdtEa1c6wpl66tY2DIyXNJ7RtjcHFJWUxNzj6gr2h2xjFAvM1cXI5TX38U4xlhmn+3cZh1XyLs9zpdjIIAAAggggAACCCDQVgECFm0VbMP+hx56qOlBQwABBBBAAAEEEEAAge4poCBDVv+dfcAhVrHGZVu4h6tFUROtsJpYpVms2gcrLJTlghRZFg7luDhGL8vIGeSehvo6FQQquuffBmeFAAIIIIAAAgggUFeAgEVdE5YggAACCCCAAAIIIIAAAu0qoKCDsi308M0FKmpiVS6jwgUsYhFz80S5bAsFLbLd66x27ZuDIYAAAggggAACCCDQVQQoup2mK7XLLrvYWWedVW/vb731lvuykmFr1qypdz0LEUAAAQQQQAABBBBAoIsLKKMiM9/FJvpaKGegf9Z7ghVd/LoyfAQQQAABBBBAAIE2CRCwaBNf63aORqOmoMThhx9e7wGmT59uQ4cOtS+//LLe9SxEAAEEEEAAAQQQQAABBBBAAAEEEEAAAQQQQKC7CRCwSMMVraqq8r1us802Dfa+7bbb2qZNmxpczwoEEEAAAQQQQAABBBBAAAEEEEAAAQQQQAABBLqTAAGLNFzNUOgb9hUrVjTYu9ZpWigaAggggAACCCCAAAIIIIAAAggggAACCCCAAAI9QYCARRquck5OjvXp08duvPHGenufPXu2ffHFFzZ8+PB617MQAQQQQAABBBBAAAEEEEAAAQQQQAABBBBAAIHuJpDZ3U6oq5zPZZddZhdeeKHtsMMOdtxxx5mmh1q1apW98sordv/999vIkSNt8uTJXeV0GCcCCCCAAAIIIIAAAggggAACCCCAAAIIIIAAAm0SIGDRJr7W73zBBRfY+vXr7brrrrMPPvig1oG+9a1v2YMPPmjZ2dm1lvMGAQQQQAABBBBAAAEEEEAAAQQQQAABBBBAAIHuKkDAIo1X9tprr7Wf/OQn9uWXX1p1dbWvWaFpoLbaaqs0joquEUAAAQQQQAABBBBAAAEEEEAAAQQQQAABBBBIvQABi9Sb1+px4MCBpgcNAQQQQAABBBBAAAEEEEAAAQQQQAABBBBAAIGeLEDAopNc/dWrV9vixYstHA77+hXDhg3rJCNjGAgggAACCCCAAAIIIIAAAggggAACCCCAAAIIdLxAqOO7oIdA4Ic//KGdeeaZwdv48+mnn24KUOy22242ffp007RQKspNQwABBBBAAAEEEEAAAQQQQAABBBBAAAEEEECgpwgQsEjRlY5EIvb73//eJkyYUKvHOXPm2J/+9Cfbcsst7bbbbrM///nPfptf/epXtnHjxlrb8gYBBBBAAAEEEEAAAQQQQAABBBBAAAEEEEAAge4qwJRQKbqyRUVFvqeDDz64Vo/333+/f//oo4/a1KlT/eu99trLxo8f74tx77rrrrW25w0CCCCAAAIIIIAAAggggAACCCCAAAIIIIAAAt1RgAyLFF3V6upq31NybYoXX3zRJk6cGA9WaKNx48b5jItNmzalaHR0gwACCCCAAAIIIIAAAggggAACCCCAAAIIIIBAegUIWKTIPycnx/e0Zs2aeI/r1q2zhQsX+toV8YX/fdG3b1+rqKhIXsx7BBBAAAEEEEAAAQQQQAABBBBAAAEEEEAAAQS6pQABixRd1vz8fN/Tww8/HO/xscce869nzJgRXxa8WLJkiRUUFARveUYAAQQQQAABBBBAAAEEEEAAAQQQQAABBBBAoFsLUMMiRZc3KyvLzjrrLLviiivs/ffftylTptjNN99smiLqsMMOqzWKuXPnmrIvRo0aVWs5bxBAAAEEEEAAAQQQQAABBBBAAAEEEEAAAQQQ6K4CBCxSeGV/97vfWV5ent111132+OOP25AhQ+yJJ56wwsLCWqPQdsquUOFtGgIIIIAAAggggAACCCCAAAIIIIAAAggggAACPUGAKaFSeJVzc3Ptt7/9rZWUlFhRUZGtXr3apk2bVmcEf//73624uNiUlUFDAAEEEEAAAQQQQAABBBBAAAEEEEAAAQQQQKAnCBCwSMNVDoVCdbIq0jAMukQAAQQQQAABBBBAAAEEEEAAAQQQQAABBBBAoNMIELDoNJeCgSCAAAIIIIAAAggggAACCCCAAAIIIIAAAggg0HMFCFj03GvPmSOAAAIIIIAAAggggAACCCCAAAIIIIAAAggg0GkECFh0mkvBQBBAAAEEEEAAAQQQQAABBBBAAAEEEEAAAQQQ6LkCBCx67rXnzBFAAAEEEEAAAQQQQAABBBBAAAEEEEAAAQQQ6DQCBCw6zaVgIAgggAACCCCAAAIIIIAAAggggAACCCCAAAII9FwBAhY999pz5ggggAACCCCAAAIIIIAAAggggAACCCCAAAIIdBoBAhYpvhSLFy+2O++80+69915buXKl733OnDm20047WUZGhn+cccYZtmnTphSPjO4QQAABBBBAAAEEEEAAAQQQQAABBBBAAAEEEEifQGb6uu55Pb/22mt20EEHWUlJSfzk586dazNnzrTS0lKbOnWqLViwwO6++25bsWKFPf300/HteIEAAggggAACCCCAAAIIIIAAAggggAACCCCAQHcWIMMihVf30ksvtfz8fHv11Vd9QOLwww+3WbNm2bhx42z9+vX2wQcfWHFxsV122WX2zDPP+CBGCodHVwgggAACCCCAAAIIIIAAAggggAACCCCAAAIIpE2AgEUK6RWouOiii2zPPfe04cOH2+23326rV6/2QYv+/fvHR6IpodQUvKAhgAACCCCAAAIIIIAAAggggAACCCCAAAIIINATBAhYpOgqx2Ix39OECRPiPY4cOdK/HjRoUHyZXowaNcq/r6ysrLWcNwgggAACCCCAAAIIIIAAAggggAACCCCAAAIIdFcBAhYpvrLhcLhWjwUFBb7Qdq2F/31TU1NT32KWIYAAAggggAACCCCAAAIIIIAAAggggAACCCDQ7QQIWHS7S8oJIYAAAggggAACCCCAAAIIIIAAAggggAACCCDQ9QQIWKT4mh1yyCE+oyIjI8M/l5SU2A9/+MNay7SOhgACCCCAAAIIIIAAAggggAACCCCAAAIIIIBATxLI7Eknm85zVRDi3HPPbdEQevfu3aLt2RgBBBBAAAEEEEAAAQQQSLXA8uXLbfbs2abn4uJi22KLLWynnXayHXbYwXJzc+sMZ+PGjfbkk0/ae++959eFQiEbN26cbb/99rbnnnvW2n7BggW2bNmy+LKcnBwbMGCABbUBVSvw1Vdfja9v7MWuu+5qvXr1qneTTZs22bp16/yjqqrKn0NQWzBxh/Xr19u7775rb775puk8Bg8ebFOmTLGDDz44cTP/euHChbZ06dI6y7Vg9913t6ysrPi6jz/+2HTsPn36eLf4ioQXL7/8sn83efJkb5Cwqk0vy8rKLD8/35YsWWKjR4/2x9I5Tps2zaLRqOn60BBAAAEEEEAAgVQJELBIkbQCFjfffHOKeqMbBBBAAAEEEEAAAQQQQKDjBf7whz/YWWed5TsaPny4bbXVVvbggw/a2rVr7bjjjrO//vWvtQZx/fXX289+9jO/bOedd7a8vDz/+r777rMNGzbYEUccYY899lh8nzvuuMN+97vfxd8HL3RjXdttt912tu+++waLG31etGiRjR07ts42umHfr1+/WstvvPFGu/DCC2st0xsFYnRjf9KkSTZw4ED74IMPTFnzCra88cYbpoBK0O6++2677rrrgre1nr/++utaQQeZKOijpkBI3759a23/t7/9zb73ve/5ZQr2HHroobXW8wYBBBBAAAEEEOguAvxUortcSc4DAQQQQAABBBBAAAEEEEihgG70K1ix9dZbm4IBK1asMGUBrFmzxmdPnHDCCbVGc+edd/pgxR577GGLFy+2t956y2+vfZRd8Mgjj5hu5Cc2/bpfWQc1NTX+sWrVKvvjH//oMxd0/Ozs7Pi6YJu99trLByCC98FzfcEK9aU+zjnnHPv73/9uTz31VGL3dV5rOl9lTnz++ec2Z84cn1Fy2223+cDFrbfeWmd7LQj6T3xWlkhyk6MyQBTwSW5//vOfbccdd0xe3GHvFZjReMmu6DBiDowAAggggAACDQgQsGgApiMW60N5aWlpk4eORCL+g3tFRUWT27IBAggggAACCCCAAAIIIJAOAWVEqJ1//vl1Mhc0HdSBBx4YH1ZRUZFdcskltuWWW9pzzz1nY8aMia8LXsyaNcueffbZ4K1/1k3zxDZ06FA7/fTT7aSTTrLPPvusWd+vEvev77WCBAo2HHXUUT5ror5tgmUXX3yxn74qeK/n//3f//UBkpdeeilxcYtfa1qm7373u6Zsk8S2cuVKe+aZZ+yUU05JXNzkawWCNCWV7F977TU/ddYXX3zR5H7aQH1eccUVPmjRrB3YCAEEEEAAAQQQaCcBAhbtBNnUYTS3quZlTf4Arqmi9IucxKaghtKaV69enbiY1wgggAACCCCAAAIIIJBigbUV1fba2hJ7dPEGe2Dhertn/jq744s1dteXa+zer762/88t+8eSjfbW16VWVB1N8ejS252yG9QSa0w0NCLdMNfUSZr6qL66FsF+umnfnKbAhZrqTXSGpu97iTUpNCZ911N75513bO7cuc1yUlBC9TESAwv333+/nyJK02U1tynQo++Ul156qakWhwIhP/jBD3w2zG677dbkYZTJcuWVVxKwaFKKDRBAAAEEEECgvQWoYdHeohwPAQQQQAABBBBAAAEEurRAJFZjH20ss882Vdj6ymrbWBmxkioXjNCP/d096OBH/9/cj87QIuudE7Y31oZtWF62bdcvz7buU39x5y4NkzR4FZzeZptt7Oqrr7bNmzfbAQccYIWFhb5Yc1CbIthFxbPVNB1Ue7Tgh2DqL93t8ccf9+d/+OGH1zsU1eoI2siRI011PFTfo76mIINqgSjLIqh/cdddd9nxxx9fJyBS3/7Jyx544AE/xdQxxxzjV+lYZ599ts/YmDlzZvLmvEcAAQQQQAABBNIuQMAi7ZeAASCAAAIIIIAAAggggEBnEfhkY7nLliixlWVVVlYd88GIQheMGJSb1eAQYy6CUey2XV1abWvKqu2rogp7vyDHdhtcYOPcc3du//73v339B02plFjDQTfkb7nllnhh6WBq3OTi1pqy6J577qlF9Itf/MIyM7/5qqpMAQVDND1R0NTnhx9+aD/96U/j2wXrUv08f/58O+OMM2zKlCl26qmn1upeBcFVe0LTX+kcXn31VV9/Q8EH1eVoqHC2jqd6HwpYqJC3phZu6XRQwUAURAmCFVqmLAtZyo+ARaDEMwIIIIAAAgh0JgECFp3pajAWBBBAAAEEEEAAAQQQSIuApnOavXyzLSgqt00VUZcxEbIRBd9MedTUgEIu1aJPdtg/dIN9TVnE3nXTSC0tqbSt++baQSP6WE64e87GO2TIEPvb3/7mp3t64YUX/E15ZRzol/0qTP3uu+96vmD6qOQ6fbqRr1oLakuWLPE35xMDEcG0SpqeSE0ZFRMnTrS7777bTjvtNL+sOf8oYPL222/X2nSfffap9b6lbxRsUcaIgisySG7HHntsrUUKHmiZMi5uuummBgMWJ598sp+OSbU+VAhc56uC2ypmntz+85//WGVlZXzx5MmT40EiLZw6dWp8XfBi9OjRtnbt2uAtzwgggAACCCCAQKcSIGDRqS4Hg0EAAQQQQAABBBBAAIFUC6xy2RT/XLrR5rspoBRYGN0728L/rT/Q0rHoBvvQ/CyrioVtZXG1vV5RbJvcdFKHj+5nfV1Qo7u2goICU40FPX7729/66aGef/55f5NdQY2BAwf6U1e2gGoqBE032IOAhaaW+uUvfxms8s8KACkbYdOmTbWWt/SNgiGabimxRaNRC4VaF0hSwXFlSKjmhupzDBs2LPHQDb6eNm2aDz4owyGxaRw6V7WxY8fa3nvvbX/4wx9MQSBlRKgF6/2b//6j2hQrVqyIL3rqqafskEMOib9PnppLKxL7im/ICwQQQAABBBBAoJMIELBI8YX45JNPav3iRd0rjTj4kK73KkZHQwABBBBAAAEEEEAAgY4X+GJzuT25bJMtK6q0wS7Q0C+nfb4iZbsb0GP75Lhpoqrsg3WlVupujh85qp+vcdHxZ5X+Ho4++mhTwKK4uNgUsNCUSWoPP/yw7bnnnikfoGpt1HfDvzUDUfBkxowZtnr1anv99debHawI+urVq5clBxJUtDvIJtF2mgJKmRZqQb2LxPV+hftn+fLlwUueEUAAAQQQQACBbiHQPp/GuwVFak4i+HVMYm+33Xab6UFDAAEEEEAAAQQQQACB1Aksd8GERxZtsHWu7sSowmzLy2r/DIih+dm2OStqn39dZuWuzsWpEwZbv26SaVFdXd1gIeivvvrKX8igKLamJtptt93sjjvusAMPPNAOO+ywOhe6vQIKdQ7cjguUWbH//vv7rIZXXnnFttxyyxYdXdNkvffee3bQQQfV2S/x/BXwWbRokalI96BBg/y2ievr7MwCBBBAAAEEEECgmwgQsEjRhVTa7UsvvdSi3oYOHdqi7dkYAQQQQAABBBBAAAEEmiew0U3T9JibBmqdqzcxxmVC9OrAGhOqb5FRmGNLXRbHP5dusmPH9evQ/pon0PatVAdB0yxpGihlTQTBiccee8wX4Nb0R8quCNqDDz7oaz585zvf8fUndFM+NzfXr9a0Ro8++qh/3dppmoJ+WvN8zTXXmAIwQcaC6kcEme8///nP44GZvfbayz799FNfyFrZIoltwIABvgC5lim4oLoTslGdCx1rzpw5fpqncDhsN9xwQ+Ku/nViBoWm2Er+sVvi+jo7swABBBBAAAEEEOgmAgQsUngh92ljUbcUDpWuEEAAAQQQQAABBBDotgIV0Zj9c8lG+2pjuQ1zmRUdGawIEHu7oEWFm27qs/WlNjsrZEeP6Res6rLPQQHsu+66y2688cZa53H22WfbVVddVWvZmDFjfHaBlj/55JP2pz/9Kb5+iy228Df3n332WQsKdMdXpuCFAhbl5eXxnjSdlR5qF198cTxgMW/ePL/soYce8s+J/0yYMCEesNByBT8Sgw79+vWzo446yi6//HIbN25c4q68RgABBBBAAAEEEPivQIb75cc3lb0g6VABMZ9//vl+LlKlQ3e3Nnv2bF90bv369da/f//udnqcTxsFVq1a5X+xNnr06DYeid0RQAABBHqSQFFRka1cudImTpxYa273nmTAuXaMwL9XFdmLKzZbpiuQrboVqWzLiqssNzPDjhjb36b2y0tl1x3alzIIIpGI5eTkxLMmmupQ25eVlfl6DpmZ3fe3dCruXVFR4Qt0N2XC+vYRkLlqRWpKLWWr0BBAAAEEEGhMQLW2NF1jfRmQje3Huo4RCHXMYTlqsoACFrfccosFc7kmr+c9AggggAACCCCAAAIIdLxAcXXUPthQahWRmpQHK3R2IwqybGNF1N5a627wx7rPb8d0U7hv377NDlbIQkGK3r17+2e9765NU0Dl5+d319PjvBBAAAEEEEAAgXYVIGDRrpwcDAEEEEAAAQQQQAABBDqzwJvrSnyR7YH56flFf8hldaimxcqyKvtoY1lnpmJsCCCAAAIIIIAAAgikXICARcrJ6RABBBBAAAEEEEAAAQTSIaCMhk83lZtLcLDeWeF0DMH3OTAv02VZRNxYKtI2BjpGAAEEEEAAAQQQQKAzCqTnZ0WdUSJFY3r44Yft448/blZv5513nk+rbtbGbIQAAggggAACCCCAAAKNCiwuqbTNVVHr1yt9wQoNUFkWeZlhW11eZRs1HpdxQUMAAQQQQAABBBBAAAE3bSgIqRV45JFHmt3hySefTMCi2VpsiAACCCCAAAIIIIBA4wIKWBRXRm14YWoLbdc3qsLsmJVVlNiyTW6KqD4uYJERtoxQjotmZLnn7Pp2YRkCCCCAAAIIIIAAAt1egIBFii/xFVdcYXvvvXezeh06dGiztmMjBBBAAAEEEEAAAQQQaFpgdXnEKqMxyw6lZ2bcnFiJ9YmttH7RlZYX22j/P3vnASdFkb7/d2Znc95lWeKSg+QkKKCCpx5KEFGMGMGcPdQznMJx/n9gOMVTzGDOnAIqBhQwgmRRkJyWJbNsThP+9dReDz1hZ2fZvPu8n2u6u7q6qvrbe85MPfW+b2ZJkUQcDJOiXPwsU2OyYAsRqy1KrFFpEqI2awR/E5T/ZlmDBEiABEiABEiABEigoRCgYFHDb7JHjx4ybNiwGu6V3ZEACZAACZAACZAACZAACWQW2yXSVvNiRazjgKQ6tkm82ke6ciXMVSglljCxW53iVPk0xIWQUMUiTqe4XE5xFB4Se94esYb9LtbwZAmJ6aQ3i/K+oJEACZAACZAACZAACZBAQyZAwaIhv10+GwmQAAmQAAmQAAmQAAmQgCZQrBJu59sdEmK11BiRSEemtLBvlGRnukS5cpQkESH51lg5Jk31GA65SiRECRftIqJ9xuRyFIk4ctX/toszf684cv6UkPjeYovp4FOXBSRAAiRAAiRAAiRAAiTQUAhQsGgob5LPQQIkQAIkQAIkQAIkQAIkUCaBnBKH2JVoYQupGcGiRcnv0tr+u0Q7c6TIGiVHQ1qI0+Xp3YHk2wV2p98xW0JUPgu1hYQli6skSwkWW8WRnyHOmHYS1nS4uhbl9z4WkgAJkAAJkAAJkAAJkEB9JkDBoobenkX9GLnzzjulY8eONdQjuyEBEiABEiABEiABEiABEjAIlCixAoKFxb8+YFSr9N7mLJQ0+1ppbt8qoa4iJVQ0FbvyrBCXb9OQTpwuNS612dTvhbLMEhov1pAYcRUdkpLsjeJSfYQmnSrWyBZl3cJyEiABEiABEiABEiABEqiXBChY1NBrg2DxzDPP1FBv7IYESIAESIAESIAESIAESMBMICLEKuFqy3EgaUT1WJgzTzqULJNklVQbdtjaXP2L/BT+DdpJiPqdEEisMO60WEPEEtlMLCXZKkzUTnE5ipVocbLKbcEFUQYj7kmABEiABEiABEiABOo/AQoWNfQOXWrV1N13312h3h555BFJSkqq0D2sTAIkQAIkQAIkQAIkQAIk4EsgWiXbtqn8FQ4/ng6+tSteEuJySNuSVUqs2CuFlii1xfptxOKyS5ilWCwquXasq1iaWK3iKi4RsUDYUMcWm1htkX7vRaElNE55W0SIs2C/2DNXqtuilacFhJGqsU2bNsm3334re/bskcLCQunataucfPLJ0qNHDwkLC9OdFBUVSUREhGzbtk3at29fNR2bWkH7X375pXz//ffiUAKTVTHq3LmzjBs3Tpo2Lc3/YVRPT0+Xzz//XLDPycmRDh06yMCBA6VXr14SGXmc4w8//KDbMu4z78PDw+XUU081F/kc79+/X/7880+P8vj4eGnevLk0a9bMoxwnK1askLy8PJ9yFOB5Tj/9dH0NvxOXLl3qUS8uLk5SUlKkdevWutypkrGDRTCG58Dz0EiABEiABEiABEigvhKgYFFDbw5fRGfOnFmh3u666y4KFhUixsokQAIkQAIkQAIkQAIk4J9AqBIrsNmrSbFIs6+WJEe62C3hPmKFRZwS7sqTSFeuRDlzlc+FXSwqRlSiik8V47BISa5NnStT3hYWJVi4rBFKmIgXS1icEiSOT7obT2axhok1IlUcSrSQo8sltOmZYlVCRmXt4Ycflscee0xPwo8YMULS0tLkiy++kHvuuUcvvvrXv/5V2S7Kvf+rr76SCRMmyOHDh6VPnz4CUQC/pV5//XW5+eab5eeff3aLCy+++KIuS0xMlPPOO0+H3/3xxx8FC79Gjhwpb7/9tru/v/zlL1JSooQhPwZhYPfu3X6uHC9auHChXHfddTJkyBCx2Up/RhcUFMivv/4qp512mnz99ddaxDHumDRpkvz222/Gqcc+KirKLWZAkBk+fLi0bNlSjx/ixNq1a7X40q5dO91+dHS0ruPRSBknEG7QFo0ESIAESIAESIAE6isBChY19OYQEiomJkavprn00ktl4sSJeuVPDXXPbkiABEiABEiABEiABEig0RNoFRUmu3OKq5xDsn2HJNl3i00ccsySfLx95UUR48qSONdRsSlvCqu67lRyhUPXFClUNaNsSnwIgXcFAkTB/cMpLnuuOO05YikKVd4WSrSITPURLpCU2xqerBJxq4n2o79KeOpZ6t4TN0zYQ6zAxP6CBQs8vBPgKbBlyxZ341jBDxGhqg1eCYZQ8ssvv8gpp5zi0QUEioyM0nBbGBMEjG7duglECogWZlu+fLn5VB9D1IA3RmUMbMx9Pffcc3L77bfL888/L3/72988msb48RzBGLxHnn32WXfVW265RV544QUtvsyaNcuHN9rGOzN4uG/kAQmQAAmQAAmQAAnUcwLWej7+ejN8CBYHDx7UX2TxZX/QoEHarfqpp57Sq4fqzYNwoCRAAiRAAiRAAiRAAiRQTwm0iY1QAoFFckuqLvN2iKtEUlWC7VglTGRZm7jJRLmypZlzpzRxZujk2yrjhBRItKhgSsq/wiZFTqvKX2GVSIgV6reCDgmlvCuUW4WILVosthhd7ig+LI6czVqYcDmK3O3jwIJ61lAVHipDXd/lca2iJ/v27dO3PPjggx5iBQqxwh/eDobZ7XaZMmWKZGZmGkX6tw68IGDffPONwFv8//7v/wShmAzDMfL6wQPip59+Mord+xtvvFEfL1q0yEeswIWbbrpJxowZo+scPXpU7yESmAUEXaj+we+tmrBrr71Wd7NmzZpKdYffi2aDSAFPDH+czPWCPd6wYYN8/PHHPtW3bt2qvVfg2WHYypUr5bPPPtOneKfGu0S5tyEM1wcffCDTpk3T9SDcQHgyDO2iDe9wWrj+ySefeHih4O8KdXft2iUbN26U++67T7f5+OOPe/ytGW1zTwIkQAIkQAIk0DAJULCowfeKGKpwb/7uu+9k586dcsEFF+gv7IhPiuP58+fX4GjYFQmQAAmQAAmQAAmQAAk0LgJtY8IkLtwm2UX2KnvwFMc2JVYclTxLjPKPsKrcFA5JceyRpo7dEqXCQBUpAaJQItU1eFEcN4fyULCpXAYRIZ4T1cdrqCN1r8UWW+p3UbBPCRebxFF8XCRAXWtYE5UDI1Ps2X8oB40TTyhu5HvAZHF5hjBGU6dO9ZhExsQ3Ju/h9XDOOefonAsQP5Cr4Z133pF//OMf+viNN96QJ554QoYOHarzVBh9YXEXJv3RRqdOnYxin31oaKguM/JpBDNen0YqUeDtWWJMxHfs2LESrfq/FSIG8ohUhUFEuvfee32agncKmEMsMOzDDz8UvLvBgwcLPD2QPwPnyGWCa4ZlZ2fr3CKIIICQWAhlBfECOURwDQbBAu0vXrzYuM29R5vwWDGsuLhY10VoMnjO4Pfxf//7X7n//vt1KC6E4KKRAAmQAAmQAAk0fAJqCQ+tNgi0adNGr0LBShQklJs9e7acf/75gnKIGTQSIAESIAESIAESIAESIIGqJdBEiRUpEaGSnl0kDrWgPKSSy7cgTjQp2S4Rznw5EtJC+VAUqjwW+5QfRa72oihQ3hRabfB6DEx6I6JSpEoEHoxZVE4LldRCh4py5SlBwV6oEm2rMFHKQ0PFk1Jho6LFWXhQ7PnpyjmjTTBN+tRBUuvU1FSdp+GPP/6QhIQEnSsCIaIqYqtXrxYkqEZbWH0/bNgw7RmBCf29e/dKixYtdP4GiBoQMRACCgbBAoZJ8mAM7WNS+5///KccOnRIJ77u37+/zvUAzwR/tnnzZu0Z4n2td+/eegGZd7n53PCAwGp/JByHISfG+++/rwUa5PkwG94xEpfDE8XbwPryyy/3LvY4R/4NhL0Cp9qw9evXa/EAi+3wvPBogcg0ffp0ufjii/WQkKAd73rZsmUeHi1477Gx/pPOB/MseHZzSDB4e4wePVqefvppLZwE0wbrkAAJkAAJkAAJ1F8CFCzqyLvzXqlTR4bFYZAACZAACZAACZAACZBAgyLQOylK0vOK5GB+sTRXHheVsVjnYeU7kSv51hgEeVJeFXskwpWvkm5HKsGi1BPAX/uFatV5hFJLYmyeXhf+6rrLLCFKs4hVuS3yxFGo8jioUFQh0Wmll8MSxKXECifKT1CwwKQ0VtsjLBPC1hqGyX+EYkLCbcMLw7hm3hu/Z1APYgIMk9bnnnuuQMTAxD3EChhCTI0aNUpPPuM+iAFYXQ9Dku1g7dtvv9UeAMj1YLarr75a/v3vf0tSUpK5WOAFAs8Qb7vqqqvKFSyM55sxY4bH7QhHdf3110tcnGfSczwTBBp//SEhuLdgMXfuXFm3bp1uG0IIkosjmbe/+z0GUE0n+Hv4z3/+4xZnwBKiAQQbw+BpAzt27JhRpPeVESvQAPI9mvOX4G8FwhneM7wyaCRAAiRAAiRAAg2bQHBLeho2g1p5OrguY0VRWlqa/hIPF9x58+bRu6JW3gY7JQESIAESIAESIAESaCwE+irBok1MuOSpPBYlzsoljo5z7VcCRYEgP0UTR4b2tCi0RAUUKxAKChYdGhI4HJTfF2JV3hSlK9edxUeUQHFA19KeFiqylDN/j7icx0P7+G0iQCG8ICACHDlyRIf2QTggTMRj8v+SSy4JcCfSbagBKDPnusB5cnJpEvJevXrh1G1NmpTm+zBCEYXoxOPiFi7cFQMcNGvWTIcMwop+5EO4++67pX379oKwU/48E5B0G8KD94b6hi1ZskTMmxHayLgOTwPj/t9//10Qvmj8+PEyadIko4p7j0l3o655b+SHcFf0OjDyc+B+b9HFq6rHaW5ursfY8RwnauAIYclsCGUMw7PAevToIc2bN9deMhgrcpbAO6eyBk8Zb0M4qvT0dHff3td5TgIkQAIkQAIk0HAIULCowXeJmJtwbz3zzDOlbdu28umnn+okYnBhxhdsI4FcDQ6JXZEACZAACZAACZAACZBAoyNwWmqsNI0OlT0qNFRlLMF+QKwqLFSC47DKV5Gj8lWUJtQO1GahikUVrnJXJCjB4kTNqhJyu5wlWrBwlWTpZiwhKteFPVeVlSbPPtG2cR8myRH2BwmUkaPhpJNO0rkGiorK5mVMYhvhkoz+repZYd7eGYbAYdQzVuWfSHjcmJgYGTt2rBZWtm3bJmeddZasWrVKDhwoFXSMPoLZDx8+XIeVMvZI/lyWde/eXRAKCl4kr732mhgeB2XVD1Q+btw4t9iAPh944AGd6wM5HIK1LVu2eIwdz2C8F7RhPjba9FeGd+P9vlDfeGfGPeCOvw94neC9P/nkk1rEgDAEL5HyzJzo21wX7Xqb8fdRGcbebfKcBEiABEiABEigbhKgYFFD7wVf6po2bSq33nqr/sK/fPlyQVxQfME1VhfV0FDYDQmQAAmQAAmQAAmQAAk0agJtlYfFqU1jtJfD7hMULSKc2RKukmrbXMUSK1lid4VKiYQF5JpndyixwiJNImwq4XapR0LAGwJctGjRolAcKhSUUipUcu4ItcvXCbgD3FbhSwjRhJA8sOpMetyyZUvdB5I2V9YuuOAC3QQ8Lypq+N1m3gYNGlRuE/D0gAUzSV9WY4YYYFyHNz5Ca1UkBFLfvn09xo7nMNpFknIj7JbRB/YIW1UZgwfOfffdp8UWeOYg9NfChQvlp59+0s0a/fsTu+Ax4c/8jQlCFkQRm83m7xaWkQAJkAAJkAAJNCACFCxq6GXiyyJcdOFSPGvWLJ2UDF/eAm0nsrqohh6H3ZAACZAACZAACZAACZBAvSYwrFmcDEgpDXmzN7c0f0JFHijEVSQhrkKVVjtfrOLU3hWB7i9Q8f4hUiSpxN/RFcldUUajFuS0CIkUl6NQeVUcUsvf1USuEi5czsIy7ghcXFhY9n1Iqgzzt+o+cKvBXw0PD5f7779fL+qCd4E/wxgRhgnmb/LduMcYr3deCeN6Ve4h4iAxNczbu6Qy/YD1vffeK0hs/d5771WmKX0vQnPt27dP/yY1N4ak4VVpGDPMCKVlhPqC94fZEBYrP18JbOp3sre9++673kUyf/58OeOMM3zKWUACJEACJEACJNDwCHB5Qg29UwgTd955Z4V6q4kv2BUaECuTAAmQAAmQAAmQAAmQQAMicG6rBMm1u2TFgWzZmVUkaXHhEqzjg00lvY51ZinRwi7FKhRUIINnRYhyqEgMs0m82qrMLMqjQ4kmzuJMCQlLUpO/DiVYVFx8wXiQ8Bk5KxDOZ8iQIXryHeF3XnrpJfnhhx/koosuEogK1WnTp08XeKJjj0TdSPaNpNaY1F67dq3MnDlThx9C7gSEezr77LN1WN3TTz9djDBCH330kbz11lsyYMAA7eFuHu/mzZu1B4C5zDiGZ0AwhrGZhRv0h/yESDZuNox5z549Zfb3yCOPiBEuy3yf+RjvA+2i7mWXXWa+VOFj8IBdeeWV+nfpjh07ZPbs2T4JsyvS8OLFi3XoLaNt/L2gTVjXrl3dTV144YUyZ84cvWgPXiNI7v7qq69KQkKCXwYImXzbbbfpvzk08txzz+n3PW3aNHebPCABEiABEiABEmi4BKrw23LDhVQVTwbB4plnnqmKptgGCZAACZAACZAACZAACZBAFRAIVerExW0TJcZmkZWH8mRbZqG0iQ+TsJDyHdFDpUAl3M5T3hWuMkNBOdWkdb7KWRGh+klUnhUJVSlW/O/5LbYo5WVRIK6SY6L8t1Xm7bLzTARC1qVLFx36Cd7g5sl3JF6Gx8NDDz0U6PYqu4ZJcORCQCJs5HUwDJPimLSHoAJDAuhrr71W59l44oknjGp6jzC8/gSIrVu3ytSpUz3qGif+6hvXzPvHH3/cfYoxdOvWTebNm+eTjxC//xDaqKz+EPKpPIMwMnnyZJ3YG4JS7969y7ulzOtIoo2k2HiXyKUIgyB01VVXyQ033FDmfYEu4PnhDWF4VaAuwiDjd2/nzp3dtyJpO9hfffXVuqxDhw7yzjvvaIHMn4cFhAmElUIODli7du10Mngk3qaRAAmQAAmQAAk0fAIW9QXB1wez4T83n7CKCXz++ef6Bw7iliJJH40EzATgfo6YvmlpaeZiHpMACZAACZBAQAIIKZKRkSGYSMXkH40EqpPAz4dyZem+bDmQV6xzWzSNQp6JsoWLNiWrpU/hIrFbQqVQIj2Ghp9YRU6XONQ+UokfKSpnRVQVhIHy6MR04irJFmtYgog1VGwJvSWs6V9MVyt+iP/v4RngUVGVYY4qOhKs2M/LyxOIJkZoIX9tIPSu3W7X4zV7P/ir29jLwBShmMC0PA+PirDCe0J7gfgjfBYSbaNvf2aM68MPP5Tx48fr8FUIkwyPmooanhNhqFq1auX2vqloG6xPAiRAAiTQeAj06tVLRowYIeaFCY3n6evek9LDou69E46IBEiABEiABEiABEiABEighgkMTomRNtFhsmRfjmw+ViBblLdFdGiIxISFSILyjvAOFRWukm5bVQgmp+V4mKQSNRlrVxP9DrUkDMm1cV9CqE3gyVGtZrVpLwulMijRInB4qmDGUVdC00KkCGYsRjioYJ6tsdcB09jY2CrHUJYIYe4okJhhrmcc472eiFhh3M89CZAACZAACZBA/SRAwaJ+vjeOmgRIgARIgARIgARIgARIoIoJtIwKkys6JMvvSrD46WCO7M8vlqwiu+xTSbmjlHihtAu1hUi42oeWHBGH6r9IiRQFToc+DlW6hE15A8WqugmqMrwrasIsyrPCZS9Unkg2sViPCyg10Tf7IAESIAESIAESIAESIIGqJEDBoippsi0SIAESIAESIAESIAESIIF6T6BHQqRg263CQ+3OK5IdOcWSkV8k9v+FeXKV5KpcESUqHJRNwlxOcSlhItJmlQi1xxZW3R4VPoSVgqKSf1ssLrHYKFj44GFBvSCA8GPIYYK8IDQSIAESIAESIIHGS4CCReN993xyEiABEiABEiABEiABEiCBAATSVIgobEObihSr5NlZdqdkF9tVXgWHJGZFSXRRpIQ4iyUkLFyJBQEaqu5LFpX6WwkWyr9DpbFIrO7e2D4JVAsB5MAYNmxYtbTNRkmABEiABEiABOoPAQoW9eddcaQkQAIkQAIkQAIkQAIkQAK1RCBMeU6kYFN5KZw2mxQVWMXpihVXSZZYdEAo5eVQi2YRp+o9RCzhzWpxFOyaBEiABEiABEiABEiABCpHgIJF5fjV6bv37t0rW7ZsESQ3GzRokMdYUY7r/oyrWvxRYRkJkAAJkAAJkAAJ1G8CdrtdcnNzdcJdJN6trBntmdsJCwuTqKgoc5HHcX5+vuzYsUMyMzPFqXI/tG7dWtq1a+dRx6USR2dlZXmUmU/w3TY8vHbDHrlUOCiEhLLaosXpyFfhmNS5pfJMzc9ZoWPFDPm2xRapcljwJ16F2LEyCZAACZAACZAACZBAnSLAb7N16nVU3WDy8vJk4MCBkpGRIZ06dZLNmzd7NP7cc8/Js88+61FmnBQUFAjih9JIgARIgARIgARIgAQaDoFff/1VhgwZIsuXL9ffEyv7ZD/++KMMHz7cp5no6Gi55pprBN83zTZ79my58847tWhiLocAMXfuXDn33HN1McSKxMSywxo99thj8uCDD5qbqPFjizVMVOwl5VmBfaTSK44poaD2vj+7nEi4HSohkc1rnAU7JAESIAESIAESIAESIIGqJEDBoipp1qG2Jk+eLAkJCXorKVErvvwYfhxilRuNBEiABEiABEiABEiABE6UAIQIw0sC3zunTp0qzz//vLRt21bwnRSWnp4uEydOlAEDBsgjjzwigwcPluTkZIHosXDhQoFnhrfdeuutctFFF3kXS/v27X3KarwgRIkTyqMCnhbWiBRxwMvCWaTEi1rw/FBJv0Xl0RCVbBtjoZEACZAACZAACZAACZBAfSZAwaI+v70yxv7dd9/Jiy++KGvWrJGrr75ayhIsyridxSRAAiRAAiRAAiRAAo2cAEJHIeQTkuBikUtoaGiZRCBC9OzZ030dXhzwsvjqq6/cggW8OmCvvfaa9OrVy1136NChgs2fdezYsc4m4LVAmLCon1KuQqVRJCut4rC4io9qLwflauHvcaqtzKXEEktIpBJLlIhSi14e1faAbJgESIAESIAESIAESKBREajZb9ONCm3tPCxCQV155ZVy7733Sp8+fQIOwmKxyLJly+Snn34qM59FwAZ4kQRIgARIgARIgARIoMER6NGjh85zgbBM8fHx2vth5MiRsm/fvqCe1chhYexxk7GAxlwWVGN1tJJF5a6w2mJKPRvUGK3hKUo0CFf5LHJrdsTw6nA5dO4Ka2isilIVX7P9szcSIAESIAESIAESIAESqGIC9LCoYqC13dzf/vY3vQLu8ccfL3coCAd16qmnuuvBlf/JJ5+UcePGucv8HfhL2L1+/XpdFW0y/4U/ao27rKioSK/SZAiyxv13wKcnARIggYoSKCws1BPd+PzAQgta5QiAJwz7QJ/JZ511luC75LBhw+TgwYM6bNN9992n81J88skn7kEY7SH/mdHe6tWrZdasWbrO+PHj3eVdunTRZRdffLE89dRTMmjQIHc73gdGW8XFxe77vevUhXO7JVXsxelKqHCqv894cahzlyNTqTPFyvkiutqH6HLZxWV3iTWsqVic0cqxI1ocznixMuRrtbNnB3WfgNPp1J8f+O8UPMVoJEACJEACJBCIgMvlCnSZ12qYAAWLGgZend0hFNRLL70kP/zwQ7nd9O3bV9555x254IIL9I/WL774Qm677Ta58MILZdGiRfKXv/ylzDaeeeYZ9w9R70qIT4wQAjQSMBPIyckR/GhAaAkaCZAACZAACQRLAII3PkN2795NwSJYaAHqHThwQF/dv3+/ZlpW1ZtuuklfAncYQj5NmjRJpk2bJtu2bXOHh4KYAfMnPkyfPl3fZ7SBsFIPPfSQIGH2mWeeqe/DIheEj0JuC3w3NSw7O1sf3n///YLN21555ZUyw0h5163Oc6SNcOSp5ODZJdq7QqSZSr4dpUQLlc8CeSVCfPNyVNl41Pcq1ZnqI1msJQmqz1yxhMWIzZGlusBGI4HGTQC/PbKysgQTUP5y5DRuOnx6EiABEiABbwKGN7B3Oc9rh4BFfYBTQqod9lXaK/6PhcSGECCee+45d9u9e/cWrHrbvHmzu6ysg8WLF+sfkGPHjhXz6rmy6pvLP//8cxk1apQcOXJEkpKSzJd4TAI6hAT+RtPS0kiDBEiABEiABIImgInrjIwMwep8elgEja3Mij///LMWCJBPYuDAgWXWw4W3335bli5dKjt37tSrlI8ePSrwqMU7iY2N1fcuWbJEhg8fLuak29u3bxd8p8T97733nlx66aUe/WRmZsr8+fN1om2EJt21a5e+jvpXXHGFPj527JggHFVZSbeRA6NOfN90FElRxifiyN8nITFt9NhdSqhw5KcrL4tjSrNQnhYhKmxUFXsHuRzKU0Z5V1hsKgRUVCvVr0XlzzgiocmnSmjSyXoc/IcEGjsBh8MhiAzQqlUriYlR/z+kkQAJkAAJkEAAAvh+OWLECO1lHKAaL9UQAXpY1BDo6u7mzz//1D/osXptypQp7u6wkg6r2lE2ZswY6devn/ua9wF+cHbu3Fm2bt3qfYnnJEACJEACJEACJEACjYTAeeedpwWFG2+8UQsceGx4VkCw8Lf6zJx0G2GkrrvuOkFeNXhlwHvXnLAbQsTVV1+tN7S7YMEC/R0VYU0NwQLlsLqcdFsPUOWssES1EUvRUeXskCeWUBWWSSXctkWnKdFC/cwqyVS6QrYSLZAMWyXprqypXBUue55qK1T1laj6UWKFNUx5eexWubZTlWjSvrI98H4SIAESIAESIAESIAESqHUCFCxq/RVUzQCwggSGHBT+bOrUqXp1SSDBAvfBNR+hF2gkQAIkQAIkQAIkQAKNjwC8KhYuXCgrVqzQIZ0MAnPmzNFeE8Z5eXt4+cJjF94SKSkpZVYfPXq09tL97LPPdPjI+hZrPjS+h7jydymBIkNClGBhWEhUC3EWRYiz8IDytFAeEfYsJVxEKWeIUKNK8HvltWGEmdK5MVSy75ColqqtECVgqPwuVptYo9sp7SI5+DZZkwRIgARIgARIgARIgATqKAEKFnX0xVR0WH369NHxOb3vq0hIqHXr1slvv/3m47rv3SbPSYAESIAESIAESIAEGiaBvXv36geD14TZAoUL9Rdhds2aNfr28PDyPQuMJNv1MewXwjKFxJ6kxAnlZaE2S/jx0KhWdWyxRSnR4qASFnKV6FCgQjmp/BbKK8KivCTURTNiz2PkwFA5KpwIK6WOLSGRKl9FlHLUUDkrwhJ0XYSfchbuV2GhWktofE/P+3lGAiRAAiRAAiRAAiRAAvWUQIBvyfX0iTjscgnAG+OUU07R7vdIdIhkZIhBjASG0dHR8uCDD5bbBiuQAAmQAAmQAAmQAAnUTwKrV68WQyQwPwG+FxreEHPnztXhnHD9rbfe0qGbzHXNxytXrhTkuDBs0aJFMm/ePP19My4uThdD8MDimHPOOUcGDx6sy5BnDd7B3333nYwfP94nTwnClOI7qre1aNFChzH1Lq+tc1t8N3Eo4cCe9YeE2CJKPSn+NxiEgwpRIaKcSrBwFh5RWbqVaCF2JV4UlYoXKv+EznGhQknpRN2ihAplLrGKVYka1hDltYF9WKJKqq021PufOQv2qrIkCU08WWkfx707jOvckwAJkAAJkAAJkAAJkEB9JEDBoj6+tUqOGavXEIf4kUcecbeEeMJXXnmlPPTQQ0yM7KbCAxIgARIgARIgARJoeARuvvlmvw91+PBhOf3007UYcNFFF0nbtm11mCZUnjlzptx5551+75s4caJPOfJXzJgxw10eFhYmCFGKzdtGjRols2bN8i6W559/Xm/eF5Bb48UXX/Qurr1zFeYprMlpSozIF0fuDp0IG2GazGZVYZysKvGvy4k8FMrbQuWicDlLVBUV1tVp194UyoVCixMI9WS1hqidyomhPDR0DgxzY+pYe3OovBi2hN7MXeHFhqckQAIkQAIkQAIkQAL1m4DnN+n6/SwcvR8CWMnmbYgNbKyCQ0LuwsJCiVE/oGgkQAIkQAIkQAIkQAINl8DAgQMlMzOzzAeMj4/XXg6bNm2SzZs3CwSM5s2bS7t27QTeEGPGjJGEhNJwRGhk6NChPu3ZbDaJilKhi9T3TbONHDlShy/dvn27pKen637gfYH2mzZtaq4qGEegcQYTZsqjwRo4gbAQmnKG0h7yxJmfrqI3tdChn7y7tkCICIsXwXaC5iw6onNahCb2Vd4V/U+wFd5GAiRAAiRAAiRAAiRAAnWTAAWLuvleamxU+FFJsaLGcLMjEiABEiABEiABEqg1AvjeZxYcAg2kc+fOHmGXIiMjtceF+Z6KtGfc1759e8EWyOANHOw4A7VT09esKjxTeLO/SsnhH8SRt1vlm2iiPSSqbBw6Z8UB7YVhSxogoUmDqqxpNkQCJEACJEACJEACJEACdYWA59KnujIqjoMESIAESIAESIAESIAESIAE6hkBa3iKhKWOkJC4ripndpY4C/b9L/RT5R7EWZKtRJA9IqGxEtpksIQlDwmctLty3fFuEiABEiABEiABEiABEqg1AvSwqDX07JgESIAESIAESIAESIAESKChEUB4qPDUs8Ue1VpKMteo1BYZYrVFlibNVgm0K2I614UKASUqebct4SS1DdCeGxVpg3VJgARIgARIgARIgARIoD4RoGBRn94Wx0oCJEACJEACJEACJEACJFD3CajE2ba47iqXRVuxZ60Ve84WcRaqcE4qrJPFhmTakeoZVD4LVU+pGboc11wulYjbZVfeGSoxt6NIJ9y2RqeJLb6XSq7dse4/N0dIAiRAAiRAAiRAAiRAApUkQMGikgB5OwmQAAmQAAmQAAmQAAmQAAn4IwBxIlSFbwqJ6azCQ2WIo3C/Fi5cJflamHBqkcKhk5Br8QIChsWmvSisUa2UV0aq2JSnhoSE+2ueZSRAAiRAAiRAAiRAAiTQ4AhQsGhwr5QPRAIkQAIkQAIkQAIkQAIkUJcIILcFNpv0Vg4U+eIsPioqVpQ41bHLkScW5WUBcUOs0WINjdF169L4ORYSIAESIAESIAESIAESqCkCFCxqijT74vSXaQAAQABJREFUIQESIAESIAESIAESIAESaPQEkOMiRG0w5U9BIwESIAESIAESIAESIAESMBGwmo55SAIkQAIkQAIkQAIkQAIkQAIkQAIkQAIkQAIkQAIkQAIkQAK1QoCCRa1gZ6ckQAIkQAIkQAIkQAIkQAIkQAIkQAIkQAIkQAIkQAIkQAJmAhQszDR4TAIkQAIkQAIkQAIkQAIkQAIkQAIkQAIkQAIkQAIkQAIkUCsEKFjUCnZ2SgIkQAIkQAIkQAIkQAIkQAIkQAIkQAIkQAIkQAIkQAIkYCZAwcJMg8ckQAIkQAIkQAIkQAIkQAIkQAIkQAIkQAIkQAIkQAIkQAK1QoCCRa1gZ6ckQAIkQAIkQAIkQAIkQAIkQAIkQAIkQAIkQAIkQAIkQAJmAhQszDR4TAIkQAIkQAIkQAIkQAIkQAIkQAIkQAIkQAIkQAIkQAIkUCsEKFjUCnZ2SgIkQAIkQAIkQAIkQAIkQAIkQAIkQAIkQAIkQAIkQAIkYCZAwcJMg8ckQAIkQAIkQAIkQAIkQAIkQAIkQAIkQAIkQAIkQAIkQAK1QsBWK72yUxIggVonUFJSIvn5+YJ9dRv6cTgccvjw4eruiu2TQLUScLlcYrPZJDw8XKKioqq1LzZOAiRAAiRAAiRAAiRAAiRAAiRAAiRAAo2NAAWLxvbG+bwkoAhkZWVJRkZGjbGAWIGJ3kOHDtVYn+yIBKqbQHR0tKSlpVV3N2yfBEiABEiABEiABEiABEiABEiABEiABBoNAQoWjeZV80FJoJRAYWGhFiuwQjw+Pl4iIiLEYrFUKx673a4Fi9DQ0Grth42TQE0QwP+HcnJyJC8vT44cOSLJyck10S37IAESIAESIAESIAESIAESIAESIAESIIEGT4CCRYN/xXxAEvAkkJmZqQtat24tNSUgIOwUPCzCwsI8B8MzEqiHBBAKKikpSbZs2SLZ2dkULOrhO+SQSYAESIAESIAESIAESIAESIAESIAE6iYBJt2um++FoyKBaiNQXFwsVqu1xsSKansQNkwCtUwAAhz+/0QjARIgARIgARIgARIgARIgARIgARIgARKoGgIULKqGI1shgXpDAJ4O1R0Cqt7A4EBJoBIE8P8jp9NZiRZ4KwmQAAmQAAmQAAmQAAmQAAmQAAmQAAmQgJkABQszDR6TAAmQAAmQAAmQAAmQAAmQAAmQAAmQAAmQAAmQAAmQAAnUCgEKFrWCnZ2SAAmQAAmQAAmQAAmQAAmQAAmQAAmQAAmQAAmQAAmQAAmYCVCwMNPgMQmQQLUTcDgccuzYMY8tPz+/2vut6g6QSBzPkZeXV9VNu9ubOXOmvPnmm+7zQAd33XWXbNy4MVAVXiMBEiABEiABEiABEiABEiABEiABEiABEiCBOk2AgkWdfj0cHAk0PAKrV6+WxMREjy06OloiIyPl+uuvrzcP/I9//EM/Q6tWraptzB9++KF88cUXQbUPcWP37t3uups2bRKIGFu2bHGXVdfBq6++KtOnT6+u5tkuCZAACZAACZAACZAACZAACZAACZAACZBAIyFAwaKRvGg+JgnUNQI//PCDIAG4sU2ePFkw8Q0hoD7Y66+/Ls2aNdNeFp9++mmtD3nx4sVy8sknu8exa9cugYixZ88ed1l1HcyfP1/eeuut6mqe7ZIACZAACZAACZAACZAACZAACZAACZAACTQSArZG8px8TBIggTpOYNq0afLSSy/JokWLBMdmQ+gleAwUFRVJQkKCtG/fXmJiYsxV9HFxcbFs375dDh06JFarVbp27SrJyck+9fbv3689DyCWwNujQ4cOEhUV5VOvrILPP/9cDhw4IHPnzpWbbrpJ5syZI2PHjvWpnpGRIWFhYdKkSRNZv369HDlyRAYOHOjuC+Gkfv/9dykoKBCbzSbdu3fX4/FpSBV8/PHHsmHDBj3WUaNGSXx8vL9qugwhtn777Td9vG7dOs0CJxA04M1iGMQM8AoJCdH9durUSY/XuG7swR3jzMnJ0W116dJFUlNT9eU//vhDPxeeZcmSJbrMYrHIGWecocUoCCd4B7GxsUZzep+enq7LjOdwOp3aQ6Rp06Z6PCtXrtRMMGa8S9jevXtl27ZtgvaTkpKkY8eOEh4erq/xHxIgARIgARIgARIgARIgARIgARIgARIggfpPgIJF/X+HfAISaDAEkN/CWzi48cYb5eWXX/Z4RggACxYskFNOOcVdDhHhsssu05Pq7kJ1cMMNN2ghxCh78skn5d577zVO9b5ly5aC+3v37u1RXtYJBAqMYdy4cbJ8+XJ5/PHHtUiSkpLiccuIESOkR48ecvToUfnqq6/0tXnz5smYMWPkl19+kXPPPVeysrI87kG5+bkwkX/RRRdpccSomJaWJj///LNg3IYNHz5cvvzyS/nrX/8qEAmMZ7znnnuMKlo0wXhgKH/66afd13AAgQccIAgZBoEA4gPEArO98cYbctVVV8kjjzyix4JrGAMMggLGbbfbpV27dtpzZuLEifqa8c+wYcPk5ptvlr/97W+6CCIL6j722GMya9Ysd38QqyBqoB9vIQtCE8YLAYVGAiRAAiRAAiRAAiRAAiRAAiRAAiRAAiRQ/wkwJFT9f4d8AhKolwTWrFmjV+RjVT7CGSF/BSb2MQluNkyWw2MC3hDZ2dl6Uh4T1ePHjxckvjbs73//u57Ah9eAEWYKk+xXXHGFUUX3g4n8M888U3788UctbkBAwAT7hAkT3PUCHWACHZ4VV199ta523XXX6X1ZybHfe+897QWwatUqPa7zzjtPP+f5558vyH+BcFJoE2PeuXOn9hww9//RRx8JJvOR+wP1IBQgVwXCPZVlJ510klsg+fbbb908DLHi7bff1mIFBJcVK1ZoDgjpBM8TCERmg7gCe/fdd7WIgHEePHhQezegHCxGjx4t3bp1c/cDseJE7aGHHpLbb79dPyP6gicNGEGsADsIRPD0ABf8PVxzzTUn2hXvIwESIAESIAESIAESIAESIAESIAESIAESqGME6GFRx14Ih0MCjYXAHXfc4fOoL774olsIMC5efvnlxqEOIQQPAng3DBgwQHbs2CGdO3fW1zHZDk8EcxLsFi1aCDbD7r//fkHYI0ziG4YJ+cLCQrnkkkt0mChcD2QQDGBGgnCs7j/11FPllVdecXsLmO+H18UHH3wgERERuhihn1544QUtwsDrom/fvu7qbdq0cR8bBwhZheTbRggsCDoQDzBxf6IG0Wbo0KEeXhsQbCBEwOMhMzNTh4j67LPPdBgqiANgaxieydubxLhW2T2eD+/JMISrwpgQGgreFIZhPAixhZBcePfIJ0IjARIgARIgARIgARIgARIgARIgARIgARKo3wQoWNTv98fRk0C9JfDss89Kz5499fjhWfD999/ryWeEIEKIJbNhFT88MZBvAbkSDM8KTKwbhvBLEBPi4uK0BwXyQZjFC6zWhzfByJEjdVvGfdgjzwQMeSnKEywgNgwaNMgjDNG1116rQ0+hfXPia3huIGeFIVboTtQ/y5Yt0+GPzGKFcc17j/YMscK4hlBQ4HEihnwZmOAHL+82jDwTEAIglBh5MMxixYn0WZF7TjvtNI/qRl4ScPQeb2RkpK6L8VKw8MDGExIgARIgARIgARIgARIgARIgARIgARKolwQoWNTL18ZBk0D9J4DJeqzyNwyhfTA5/cQTT8jDDz+shQdcO/vss3UiboQvMsQAJIFGDgfsDUNII4Qleu6559yCByblkbMC4oURpgjJo6dMmWLc5t4j9JQhXLgLvQ4QlgnJv5F/wdwGQhPBkNvCGCPOIZLAG8TbkLeiefPm3sV+zyEceFtoaKhbtPG+Vt458krAwA8eKt4GDkaSa4ReQhLsmjRvXsZ7gxi0b98+n6GYx+tzkQUkQAIkQAIkQAIkQAIkQAIkQAIkQAIkQAL1igAFi3r1ujhYEmjYBCBivPPOOzoRNTwl4PGwaNEiLULceuut7offsGGDTJ8+3X1uHDzwwAOCLTc3V+bPn6+9HsaOHatDPRmT8MhfMXv2bOOWCu0hSMCw0t97tT/Kka/i3//+t9ujAh4W/iwhIUEnwPZ3rbrLIHbAEALrn//8Z8Du4HGBMFGVNUMkMbcDT5lgDCG0YAjdBbY0EiABEiABEiABEiABEiABEiABEiABEiCBhkuASbcb7rvlk5FAvSOwbt06PWYj1A9W+MOGDBmi98Y/ECMCGUIoIfcFEkhv3bpVezpAPBg8eLBORh3sZLl3H0hWfc4557iTS8ODwtiQvBtJsZEgujxD/g2EwVq7dm15VU/4OgQfGPJzmA3hqdLS0uSTTz4xF/s9NpJ0I4dFIENfSAzubYY4ghBUZktPT9dhqcxlZR1DsEASceTToJEACZAACZAACZAACZAACZAACZAACZAACTRsAhQsGvb75dORQJ0lsGbNGrenArwVpk2bJgjr1KtXL3cYpfj4eD1+JLQ2DKGBkP/C22bNmiVGaCZcy8jI0N4Z7du3F8PTAbkxUH7uuefK119/rT0xjHYgRphzYhjlxh6T9hAkzEnAjWvYwwMAQonhhWG+5n0MIQWhjyZOnCiYvDcMIob53Cg/kX3Hjh31ba+99ppPm08//bQgNNaoUaN07hDktYDBMwU5OowcIUhw3rVrV5k8ebKHRwi8Lv744w99D/5BHYwdycW9rV+/fpqJ8VzgjlBdFTF4VmzZskWHB1u8eLFbHIFIgr8NY/wVaZN1SYAESIAESIAESIAESIAESIAESKC6CeD3NRYrYt4D208//aR/P3v3i5DXmLvAoksaCTR2AhQsGvtfAJ+fBGqJwB133CHDhw93b4888ohMmDBBe0AYQ0pJSdE5LSACIJcDxAzkj0CeC2+bOnWqQOCAF0WfPn0EiamRpPull15yV4WnxtKlS/XqfkzGI+QRvhBgM4ecct9gOjCEiAsvvNBU6nl48cUXayGkPA+O1NRUnUMCYapat27tHkO7du1k7969no2e4BkEkRkzZsh///tfdx8QKWDIBwKPEOTkQA6IqKgoPQbwwHswLDw8XAsa8LQAe4MVxr9q1SqjmvZkQVLsSy+9VNcxwm+hAsQGCBzGc4I7kpR36NDBfX95BxA4vvzyS/nzzz91QvXo6GjdD/b3339/ebfzOgmQAAmQAAmQAAmQAAmQAAmQAAnUKAHMC2BhJn6b43f3o48+qnNh3nTTTYLf/ohU8O2339bomNgZCdQXAhYVzsRVXwbLcdZdAp9//rlerX3kyBFJSkqquwPlyLSSj+TWnTt3rjEaWFGA/9QgqbXD4RAj1JMxAIT9QRiokJAQo8hjj7BGWNEPD4a2bdsKJtJ3qhX9zZo1c+eLwA1IygwvAUyQI1k06hphiTwaVCdY8b9nzx7tTdCmTRvBFsiQKBsT8ZjUL8vAFav+8cUDdfGceCYIAmUZPD52796tv8TgiwzyWxiGZ4FIgIl5s6EP5IUwwj7hGrw/UM/7eZG0Gl+UwB1j92a8a9cuzQFt4EsThB5/BqZI0o3x4f/jEJO8DStC8K7wrs3PAXbbtm3Tic/xd4dxgz/GY3jR4B7U8/cM5n7ACu8Nz4X3CyGktgxjAVuErKKRAAlUDwF4zuG/k126dNH/PayeXtgqCZAACZBAQyOA777w0G3VqpX+DdHQno/PQwIkUPcJYLElFkw+/PDDWrgwjxieFhAwkFvylltu0ZfwexohnPHfLiNigvkeHlcvASzSxGJJROag1T4BJt2u/XfAEZBAoyKACXPzZHYwD48P7f79+3tUxWS1tzVv3lwXderUyfuSzzl+vGAL1oyJ9UD1IchgMyyQuGHUadGihWDzZxBo/Jk/AaQspuWJLMGINRgDBCBsgQxCEjZvAzuEhjKbN3sIM2U9g/k+5N/ARiMBEiABEiABEiABEiABEiABEiCBukjg9ddf12LFfffd5yNWYLyGmAFxIhjDgk1sMCwAxOQ6Fn4ahgWMmIvwN1eABY9YXOn9exuLQg8dOqR/w2MxKBYw0kigrhA4/tddV0bEcZAACZAACZAACZAACZAACZAACZAACZAACZAACZBAPSQwe/ZsPeoHH3ww4OiDWWw5adIkQW5KRDnAIs3ffvtNR8xApBPDEwN5OiFabNy40ac/9NGtWzf55ptv9DWEzkYOTggWWAiKRYebNm0ShL/++OOPfe5nAQnUBgHmsKgN6uyTBEiABEiABEiABEiABEiABEiABEiABEiABEigwRFAvkhEGQgmUkOgh3/jjTe0WHHPPffo0Nfr1q2TZcuW6XDYCCdl2DXXXKNzPq5YscIo0vvvvvtOh1fFdcPGjh2r83oi+TfCPiNXJMSMuXPnysyZM41q3JNArRKgYFGr+Nk5CZAACZAACZAACZAACZAACZAACZAACZAACZBAQyGAXIeJiYk+j/PFF1/oxNtTpkzR+/fff9+njrng6aef1rk7n3rqKXfxoEGD5NZbbxWIIsj1BjPEC4SiMtucOXN0nkh4T8DgSbF+/Xr5z3/+I4MHD3ZXPeuss+Syyy6TZ5991l3GAxKoTQIMCVWb9Nk3CZAACZAACZAACZAACZAACZAACZAACZAACZBAgyJQWFjo8zyfffaZvPDCC+7y888/Xy699FL3ufcBclzAI8Lbzj77bJk+fbr2ukBOTOSnQDvvvvuuPP/887o6RBOEeJowYYJO5o3Cffv26Ws//vijFi/0yf/+QT4LhItyuVyCHJM0EqhNAvSwqE367JsESIAESIAESIAESIAESIAESIAESIAESIAESKDBEGjTpo07Sbb5oWbNmqUFAYgCyCsRyFAHCbORu8LbUlNTdVFBQYH7EsI+IY/FRx99pMvee+89gWhiDgdVUlKir61Zs0aWLFniseHaGWecIU6n090mD0igtgjQw6K2yLNfEiABEiABEiABEiABEiABEiABEiABEiABEiCBBkUAIZaQKPuXX36RU0899YSeDV4O0dHRcuTIEZ/7Dxw4oMsiIyPd1/76179qcQNhocaPHy/Yt2vXToYMGeKug/ZgzzzzjAwcONBdzgMSqGsE6GFR194Ix0MCJEACJEACJEACJEACJEACJEACJEACJEACJFAvCdx///06DNMDDzxQqfGffPLJ8vXXXwvCO5kNoZ5gLVu2NBfLxIkTBXkykHwbSbVxbrb27dvrUyTYppFAXSZAwaIuvx2OjQRIgARIgARIgARIgARIgARIgARIgARIgARIoN4Q6NSpk7zyyiuydOlSOf3002X58uV67JmZmToM02OPPSa7du0q93n+9a9/6TwVo0aNkg0bNgjuRwJu5ME47bTTfMJFXX311brNCy64QO+Nc6OjZs2aybXXXiuPP/64/P3vf5d169bpS0ePHtXjMufXMO7hngRqgwBDQtUGdfZJAiRAAiRAAiRAAiRAAiRAAiRAAiRAAiRAAiTQIAkg2XWHDh10cmyEiMrNzfV4zquuukoeffRRjzLvE4Rzeuutt+TGG2+U7t27uy9DiDCSa7sL1UHXrl3llFNOkWXLlgn6bNWqlfmyPp49e7b2zIAYMmPGDPf1pKQkgWcIjQTqAgEKFnXhLXAMJEACJEACJEACJEACJEACJEACJEACJEACJEACDYYA8lfMmzdPPw8SZBcVFQlyU8TExEhISIjHc4aHh+uE3B6F6gTCx2WXXSY5OTn6EuqZc1d410fejPJs2rRpWiwxiygYk83GaeLy2PF6zRDgX2LNcGYvJNBoCOzfn6k+eK3KNTG+1p4ZXwLwZSAhISHoMeTn50txcbH+4McXgLIMsSN37typXTGdTqe0bt1aJ7Iy13e5XJKVlWUu8jiOiIjQ8SxR6HA43F88cG61WvW1sLAwnNJIgARIgARIgARIgARIgARIgARIgATqOQGIDIGEhkCPB3GjIvMbgdoyrkGcqOo2jba5J4HKEqBgUVmCvJ8ESEDFZdwga9buVDEYDyk3x0I16W6R6OhwadMmRQYN7Cj9+7erUUpz5syRm2++WQsBWCUQjPXr1082bdokV1xxhbz99tt+b0G7d9xxh48rJ750fPjhh4K4krDs7GxJTEz02wYKsZrh4Ycf1tdXr14tAwcO9Knbs2dPefnll7U7p89FFpAACZAACZAACZAACZAACZAACZAACZAACZBAAyRAwaIBvlQ+EgnUFIHDh7Pl47nL5eefN0l6+lHl1hgpcXER4nS6JCPjmKxdu0sLGacN7SJjRvdTXhd102tgxYoVWqxo3ry5vPPOOzoWZHy8p4fI3r175brrrhMIG4gziViSycnJ8tNPP8kXX3wh/rwybrnlFhk/frzP62jXzlfAefbZZwUiBTw9Fi9eLK+++qqMGTNGjyuQ+OHTOAtIgARIgARIgARIgARIgARIgARIgARIgARIoJ4SoGBRT18ch00CtU0gJ6dAXnhxkaxes0NN1ttk8KmdJTTMMwZjUWGJbNqyTz7/Yq0cOpQtd981StUNre2h+/QPzwmEaXr33Xdl+PDh8sEHH8gNN9zgUQ9Jq2AQEvr27eu+BuECmz/r2LGjDBs2zN8lnzK0OXToUF1+3nnnSfv27QWCx/vvv6+9RXxuYAEJkAAJkAAJkAAJkAAJkAAJkAAJkAAJkAAJNDAC1gb2PHwcEiCBGiLw6bxflVixXZqnxstJXVv4iBUYRnhEqPTqmSbxcZHy64pt8sXCNTU0uuC7KSwslDfffFMuuugiLS506dJFIGB4m91u10XR0dHel6rlvHv37rpd5MugkQAJkAAJkAAJkAAJkAAJkAAJkAAJkAAJkEBjIEDBojG8ZT4jCVQxgVWrtqswUJvFZguR1GaeoZP8ddW6dbI4HS757rvfZYvyuKhL9sknnwgSaSPcE+z6668XeFMgn4XZevfurU8vv/xy+eWXX8yXquV44cKFut0BAwZUS/tslARIgARIgARIgARIgARIgARIgARIgARIgATqGgEKFnXtjXA8JFAPCKxavV3278+StmlNgh5tq1ZJ+p4VK7cFfU9NVIQ3Rdu2bXUoKPR31VVX6W5nz57t0X3Xrl0FeSZWrVolgwcPFovFIlFRUTJ27Fidx8Kj8v9O7rnnHl0Pdc2bIUaY70F/U6ZM0dukSZNk+vTpcuqpp/rNgWG+j8ckQAIkQAIkQAIkQAIkQAIkQAIkQAIkQAIk0FAIMIdFQ3mTfA4SqEECmZl5kpNbKDGxEUH3Gh8fKZs375fs7IKg76nuihkZGfLNN9/IP//5T3dXKSkpcv755+uwUDNmzHCX4+D222+XCRMmyIIFC3SibXhizJs3T29vvPGGW+wwbior6XavXr2MKu69dxiqTp06yVdffeW+zgMSIAESIAESIAESIAESIAESIAESIAESIAESaOgEKFg09DfM5yOBaiBw9GiOxKm8FBWxkJAQCVMJtyF21BV77bXX9FD27NmjPRuMcSFfxaFDh+Szzz6TUaNGGcV6n5iYqIUJwxMD4sWYMWNk8uTJPoJFRZJu//DDD+6k2z/99JNceOGFAk8LJACnkQAJkAAJkAAJkAAJkAAJkAAJkAAJkAAJkEBjIEDBojG8ZT4jCVQxgaSkWCkpyahwq3a7UxISaiZpdTCDM8I+vfLKK36rv/766z6ChXfF0aNHCzYIFw6HQyDMVNaGDBkiU6dOlZtuuknGjRsnl1xySWWb5P0kQAIkQAIkQAIkQAIkQAIkQAIkQAIkQAIkUOcJMIdFnX9FHCAJ1D0CaWnJUlBQXKGBlZTYxSIuadEisUL3VVflpUuXys6dO2XmzJnicrl8thtuuEHmzp0rx44dK3cIBQWlYa6s1hP/TypyXJjtxhtvlObNm8vdd99tLuYxCZAACZAACZAACZAACZAACZAACZAACZAACTRYAvSwaLCvlg9GAtVHoFmzRElOipGMjGNKgEgIqqOMfZnSpEmsNG8WH1T9ylSCAAFDmKXISN/QVcOGDdM5KlDn0ksvxc7HUP7yyy/Lm2++KXfccYd8+umnsnbtWjn77LMFHhCGPfbYY7Jo0SIdwslbdNi6dassWbLEqOreQ4jo0qWL+7ysgwcffFDnzUB+i2uvvbasaiwnARIgARIgARIgARIgARIgARIgARIgARIggQZBgIJFg3iNfAgSqFkCffu0lc6dm8my5duUCBEjYWGB/1OSn18k6Xsy5cwze0rPnm2qfbCGcHDeeef57auoqEjnhoD40LRpU791hg8fLqmpqYKwURAsQkNDdZgmhGryNuS5ePHFF72LZdasWXrzvoDcFGWFoTLXve2223SfU6ZMoWBhBsNjEiABEiABEiABEiABEiABEiABEiABEiCBBkkg8Cxjg3xkPhQJkEBlCSAPxbgLTlHhkvLljz/2SvfuLcsULQoLS2TT5v26zsXjBymPh7DKdl/u/fBGKMtzAjdDfNi3b59EREQEbGvbtm0qV0eJrjNy5EgdNmrHjh2Snp6uy+Li4pSHSQtJSUnxaAflmZmZHmXmk7Cw4wz69eun68bExJiruI937dolxcXFum9DiHFf5AEJkAAJkAAJkAAJkAAJkAAJkAAJkAAJVAGBo1n5cjAzT3LUotOSEofERIVLXEyEtG0eXGSNKhgCmyABTYCCBf8QSIAETohA375t5Zy9veXrr9epUEm7pW2bZImJjZCI8DBxupxSXGSXrOwC2b37iHTs2FQlpu4vnTo1P6G+KnpTeHi4YAtkCQnlf+BGR/smCG/Xrp1gC2QQFoJpH20gSXegulFRUYKNRgIkQAIkQAIkQAIkQAIkQAIkQAIkQAJVSaBQzd2s/nOv/LHtkOzef0wK1KLTIiVWOJ0uCQsNkQgVUSMpPkq6tGkivbs0kzYUL6oSP9sqgwAFizLAsJgESKB8AqNH9ZeuXVrIp/NWqgTWB2XbtoOSlVUgVqtFYuMiVL6KBJXzoaeMHtVX0tKalN8ga5AACZAACZAACZAACZAACZAACZAACZAACVQ7gR9W75Tlv6fLFrXQNDO7UKIibMqrIkwLFaFqcWVBsV2OKK+L7XuPydpN+1TdPdKlbRMZObSLJCdwYWW1v6BG3AEFi0b88vnoJFAVBOA1cest5yix4oAcOpwtBw9mKa8BqwqTFCcpTeKUd0UzJWCIDmlUFf2xDRIgARIgARIgARIgARIgARIgARIgARIggcAE9hzIkh3pmZKdVyS5BcUSagvRgkSThEjZuvuorNmUobwqsqVpYrS07Zro05g5LkVhUYns2ndMDqmQUUfUQtXLRvSUZsmxPvewgASqggAFi6qgyDZIoJETiFJxDXv2TCuTgpEHoswKvEACJEACJEACJEACJEACJEACJEACJEACJFApAgjxBCHi21+3S/qBbMlRYoVLteh0OnU0DJfLIkeP5QnyVUSEh8rAHi2lSaL/nJrmgaBul7YpOsfFzyoseG5+sdx44QBpmlT+veZ2eEwCwRCgYBEMJdYhARIgARIgARIgARIgARIgARIgARIgARIgARIggTpKYP3WA7Jg6Z/y587DYlORL5LjI6VV0zgdBcMYcsbBbNm9N1NK7E5VpPJXbMyQZinxKkdFsoSrfBXlGbwxQiwia/7cJ+99uV6JFicr4aP8+8prl9dJwEyAf1FmGjwmARIgARIgARIgARIgARIgARIgARIgARIgARIggXpE4OtftsrXv2yRvYdypUOrRImODPMZfW5+kWzccUgKi0ukRUqs9riAB8b2PYeVJ0ah9OzYVOJiIn3u8y5IToiWYzmFOv9F2xYJcv6wk7yr8JwEKkVARZankQAJkAAJkAAJkAAJkAAJkAAJkAAJkAAJkAAJkAAJ1DcCP67ZJZ8u3iDpB3OkW/sUv2IFnmm7ymeRlVMgSfFRWqxAWWx0uMSqMN8ZKnzUus37pUDlqgjG2rVMlOJih6DvdJXLlEYCVUmAgkVV0mRbJEACJEACJEACJEACJEACJEACJEACJEACJEACJFADBLanH5VPl2yUg0fzpUeHpjoUlL9u4V1x4EiOvh4eFuJRBSGd4mMj5OCRPPlj60FxupD1IrBZrVbp3CZJJe3OkuXr0wNX5lUSqCABChYVBMbqJEACJEACJEACJEACJEACJEACJEACJEACJEACJFCbBOwOp8z/fpNsU6LFSe2beOSq8B7X4WP5UlBYIjHKm8KfRUeGajHjwOEc2avyXARjsdERYrFYZMP2QyonhiOYW1iHBIIiwBwWQWFiJRIggfpIIP9AvhQfK5GSnGJx2stfIVDdz2i1WSQ0NkzCEkIlKjWqurtj+yRAAiRAAiRAAiRAAiRAAiRAAiRAAg2UwPLf98jG7QclVSXCjorwzVlhfuyc/GIpLLJLckLZcxGJcZFy4HCu7FRJuVOTYiQs1NMTw9yecRwVEaq8O3LVlictVYJvGglUBQF6WFQFRbZBAiRQpwgUHCyQQysPSc6OXCnKLKoTYgUAQTTBeDAujA/jpJEACZAACZAACZAACZAACZAACZAACZBARQms2rBPDmXmS+tm8eXeml9QIqGhgaeBQ0IsEhVp0wm4D6rwUcEYPDOKiu2SlVsYTHXWIYGgCAT+Sw2qCVYiARIggeMEEBPx8LG84wU1fHR482HJ+G2fX5EiPz9PcnNz/Y6ooKCgzGt+bzjBwl9//VWee+45Pb7s7TmSuztX0PexY8fK3FxBxI8Mdjjp6ely1113SU5OcF8+gm23rHqPPPKILFu2rKzL7vL8/Hw9rl27drnLDh8+rMvsdru7jAckQAIkQAIkQAIkQAIkQAIkQAIk0NgJHFHzLnsOHJO46DCVQLv86d2CwmIJCaJeWJhNe2Jk5RUHhThaeXYUlzgpWARFi5WCJVD+X3SwLbEeCZBAoyUAN8QXP14h/zf7e3n2vWUy891f9PFLc1fIus37aoxLXkaezJ39Xxk9erRkZOz16XfkyFH62po1q32uTZgwQU2O3+lTXtUFGzdukLlz57qbzcvIl8fue0wSExPL3AoLq26lwsGDB2XmzJkCgaAm7OWXX5bff/+93K6Kior0uPbv3++uCxEHY3U6ne4yHpAACZAACZAACZAACZAACZAACZBAYydwSOWkyFVhnpAsOxizBFNJ1QlXYaBKShySo5J0V8Tsdv5urwgv1g1MgDksAvPhVRIggQAEitWH2ILv/5Rlv+1Ryn62wBMgNjpcTTC7JF8lc8IH4naV/GlonzT566kdArRU+UuOAofyVsiTDh1K+1mzZq20aNHS3fDatWv1cUxMjOC4b99+7mv79mXI0aNHZdiwM9xlNXkQlhsmcZFxMu+LeX67DQ/3nxTLb+UGVNiyZUtZvHix2Gz8qGpAr5WPQgIkQAIkQAIkQAIkQAIkQAIkUEkCeQXFWliIjQqcu8LoBp4TjiAWA4aEWNVv8BApKioxbg24xziQ6yI6yHEEbIwXSeB/BDgLxD8FEiCBEyYwZ/5q+XntbrFYLNKtXVOfeIiIY7htz1GZ++0GnYRp4gUnn3Bf5d1YcKg0H0THjqWCxW+/rZORI0e6b1u3bq0kJSXJKacMknXr1rnLcWCc9+nT16O8qKhQfQEoDUcUFRWp3CzLTjjlcDh0aCc0AFHEsGPHMgVhmGy2UOnatasSdYwrx/fglxzWRAkmw44XBnGUnZ2ta8XF+Sa2QsinyMjIMif7IS5lZma6n71v374SH+8/7iU8HNAexok2Q0NDyxzdpk2bZN++fdKxY0dp1apVmfVwAdwxhl69eum2vSujr0BMECoKIb4g6KBuWQYPFWwQPszvxl/9vLw89c6V2KaetSwe/u5jGQmQAAmQAAmQAAmQAAmQAAmQAAnUFIFCNd/iUItFbUpgCMZisLj0oJ8JCT83h6o2oW3YHc5y289VgkVcTLg0TYr20xKLSODECAT3V31ibfMuEiCBBkzg2+XbZemqnZIUHyld2jbxESvw6OFKwe/WoalEhofKdyt2yC+/7a42IsVZpfEVIyOj9GT5ypWrPPpau3ad9O/fX3r37q0myn+T4uLj8RgN74s+ffroe5BTYurUKTJixLk6hBRCTGFbunSpR5s7duyQ4cOHy4IFCzzqGTknZsyYLhdcME5uv/0Oufnmm+WGG65Xoob/UExRlrIn3I1O0S4m0idPnqw8REoFBkyqYxJ+zpw5utptt92m60DEgLDw4osvGrd77D/++GMt4GD82NLS0mThwoUedXDy6quv6lBVCQkJegI/LCxMLr30Urc4Y9ywfv16ad26tRZl0B6On3zySeOyx/6bb74RjA+8UTc5OVkwHm/bunWrfhbzu3riiSd0H19++aUWRBBKKyoqSvr16ye7d3v+fR05ckTOOOMMLWagXmxsrIwdO1bGjx8vQ4cO9egOTNEOWKIunrdFixYedXhCAiRAAiRAAiRAAiRAAiRAAiRAAnWBQISab7HZrFpUCGY8CTERyhNC5acodpRb3a6EEKuaMQ5GDMlTybybJcdKq6b+F0CW2xkrkIAfAhQs/EBhEQmQQGAC6QezdCgofHg1TTruTVDWXS2bxuowUXMX/VFtCbnthcc/dPv06a1DPCHUk2EQJSBW9OrVWxdt2PCHcUlWrFipQkm11xPaKHzmmadlyZKlctNNN8n8+fOVGDBb2rfvIFOmTBF/+S+QRHvSpIny2WcLdF2ICq+99qp8+eVXcuWVE2TevE/ljTfeUJPgifLhhx+5+zUfhFqCc+PEPU899ZT85S9/EQgmW7ZskZ49e8p1110nEydO1Pke4OWwc+dO7Z0AoQReDN527733CvJLIE/E8uXL9eT/eeedJ3v27HFX/eCDD+T666/XfSFZODw63n33XYHgcPvtt7vrQVAYMWKE9mLANXhjzJs3Tx577DE5cOCAux4O4H1xzjnnSJs2bWTVqlW6f4zj7rvv9qgX6ASJuSEwvPPOO+4xbdy4UfBMZrv22mvl+++/dz/nmjVrBPd6iyOoA6ZvvvmmDmsGYWjFihVy8cUXm5vjMQmQAAmQAAmQAAmQAAmQAAmQAAnUCQLRkWGl+SaCzB2REKsiE0SESl4QuSkQaSJCJdMuz47lFKhE3hbp2DqpvKq8TgIVIkDBokK4WJkESAAEVv6RoUI85UlaM99QRGURapESq+9Z8+fxpMpl1T2hcpNno+EpYYR6QjgoGMqbNWumVvQnqTwWpWGh9u/fp8UN4x5Mtn/99Tdy1llnySWXXKJFjLZt28n/+3//T7fx9ttv6735n7Fjz5dx4y6U6OgYQV2Eh3r77Xe0QHLddROVN0G89mCYNu2fqk6U+Vb3cWFBofYmgNhh3tq1a+euYxwMGjRIey+0bdtWe5NAMIGtXLlSZs2aJZ07d9aCwAsvvKDLIWB426RJk7QYAQ+NgQMHykcflQopZo8MCACnnHKK/Pe//5WTTz5Zs7jsssvk0UcfVYLMazocE9r96quvVJLzDME4wA1eCmPGjJEZM2Z4dyvGmN5//33tFYH+IYpgC9YQ3gliCkQbeE1gTBBsPvzwQ3cThw4d0p4v9913n/s58Y4hpHgbQnahnYsuush9acCAAUq4esZ9zgMSIAESIAESIAESIAESIAESIAESqCsE4NUQp8I8Zecdjx4RaGyx0RHSJDFah5EqCuBlUVLiFOS7iFWCSCBDYu5NO49I+1aJMqAboxMEYsVrFSdAwaLizHgHCTR6AvsO5wjiFEZHBp8MOk59OGbnFcmhzNxq52d4URihnrBH/gokcYb169dfJ97GsVGnd+/ScFCZmUdRLGeffbbeG/9gQnvo0CHyxx/HPTOMa955FgoLS/NpDB8+zKii9+HhETJo0CkeZTjBin6EWkKCae/tvffe86mPMEpm69Spkz5F+COzIWcGDF4U3oawTmbr1q2bnHTSSbJhwwZdXFRUpL0t0PaSJUs8NiNnhuE9AW8OGAQes3n3gWt//vmndOnSRbp3726uWiFvhpSUFJ/7jWeFWAQ7ePCg3l9wwQV6b/yD0FcQaCAKGYZcGxCqxo0bJxBScEwjARIgARIgARIgARIgARIgARIggbpKICE2Qtq1TBJ4OThUrolgrIMSFxDWOzM7v8xQUsV2hyDcVKKqF8g27Tqs81b07dpCjyNQXV4jgYoSYNLtihJjfRIgAck4lC2xUYHVdm9MISEWHS9x/5HqFywgLiDpM0I9weBN0bdvqSCBc4SGQn4FhDIyBAvDwyI/vzTHRNOmKajqYampqVJUVKwFBvOEN3IwmA1Jm2FNmzY1F+vj1FTfMrQVEhKiQzj53OCnAPkVzGYICN7lRh1zDgijDDkmvA2T+QjZBENCa9hbb72lN33i9Y8xsY+QU4YYZK6CceFdmA2eD2X1ba4X6Njfc0ZEROhbkCAcLJE8G+bvHaDMHCbr9NNPl4ceekg/5yeffKJzWcDb4v777xcIOTQSIAESIAESIAESIAESIAESIAESqGsE+p3UXFb/mSHpB7KkTYvEcocHL4tObZooscIlh1TUjKT4KJV7NMR9HxZT5uUXS6qKkJGS4D+JNn5zb0svDTsNz4rzhnZ2388DEqgqAvSwqCqSbIcEGhGBxLioMtX4QBjsSvWPiwneKyNQW+VdM/JY7NmzW4sShgcF7uvdu5e+fePGDT75K5B4GZaVlaX35n+OHi39UDaLFebrxjG8JWBZWdlGkXtvnih3F9bCARJSexu8EiDKwKzW0o8H5KHAlxZ/myHywHtl79693s3pxNyGqGFchFhQVt9GnarYIywV7PDhwz7N4Tm93+G//vUvnd8CHibTpk1TuUrWaC+Oo0dLPW58GmEBCZAACZBAjRPAogJ4DSI0YG0Zvh9gDP6+J9TWmNgvCZAACZAACZBA4yTQ/6SW0r2D+o2dXSB5BUVBQWiREicntU+RhLhIOZyZpzw0CsWIsH0sp0jnuUhrFq8Tens3mJ1bqASSfVKsclyc0b+dXHFeb4lSeTFoJFDVBChYVDVRtkcCjYBA69R4KSgqXYEf7OMiDiKC8DRXcRZrwozJdCSJhkHAMKxVq9Yqr0SsLFz4pUf+ClxPTCxdlYCE0N4Gb4zu3ctfcW+s9l+9erV3EyrRtG+ZT6UaKFi0aJFHL/v379eT9IZHQWRkpCC/BEJUlWfwzID9/PPPHlW9+8BF5NeAGGCEkzJuQLLuqjTDs8I7ZwWSbiOBOAQYf4awWPfcc49O6I3r27dv91eNZSRAAiRAAjVI4IEHHtBCc3R0tP6cxmcUQgFOnTrVYxQ33nijRx4oI08T8i6Z7ccff/SoBxHbvCEnlLc9/fTTghCC8PLDdwXsO3TooHJWva28L4vk+++/92jD3J73MdpGOEXvcvM5cjUZBu8/8zU8P0IrPvzww26PQqMu9yRAAiRAAiRAAo2LwOjTu0oX5TWxedfRoENDQbQY0L2lNFeeFIVqbufA4VzJyi1S+S2cktokVlqpOR+zOdXv5+17j8rv2w5Kk4QoGXdmd7nhwgEqTHjpYk1zXR6TQFUQYEioqqDINkigkRFITYqWpLgIQS6L5urDLBjbfyRHx0pMbVK68j2YeypTx8hj8eWXX+mJhdatSyfVjTb79++vk0Xj3Ox9ERsbpxJND5JPPvlUBg8eoidEUAcJpeEdMXHiRJwGNKs1REaPHqWSPn8mf/3rOdK//wBd//XX5whCInkbJs+RewG5IvzZkCFDJDS0alctzJw5U0aNGqXzVqDPO+64Q3d91VVXuYeAhNUIlYSE4w8++KC7HOGWMEFzzTXXSHh4uE5+DY+Gu+++WyA8IBQUvBjM9xg3T5gwQeDNcOedd+p8EShHXgsjcbhRr7L7Jk2aqHcwWo8dE0yXX365bNu2TSfnbtHCMyEYJplQ3xBr0LcxUeQd0qqy4+L9JEACJEACFSOAzyWEJ0RuqXPPPVd69eqlFxssWLBA5s+fL48++qhHgxA1Jk+erMsyMjLU4oSFMmnSJElPT/epe/3114v3ZwJu9C5Dv19++aWceeaZ8uyzz+q8WAiHgLxHV155pSAUJK6Zx4LPSoSf7Nevn/488hik6QQhCL3zOuGyvzJ8dkIogXcHFhTAC3L58uX6s9fUJA9JgARIgARIgAQaEYE2zRPk3KGdpEh5PazbvF86t0mWmKjyI1skxEbKoF5psmNvpmzcdkCOqBBRUTr0t0W27jkiNhV1AQtVC4pKtBCSouaBzujfXkaf0VkLJI0IMR+1FghQsKgF6OySBOo7gV6dm0mH1smycsNeSVbqepjteMxDf8+WX1ii8l7kyOkD2kv39r45HPzdU+Gy4zmU9a1GHoutW7d6eFcY7SKPxeLFS/Sp4Y1hXLv11lsFk/U333yzWj3ZXoUVOqInB84/f4yMHDnSqBZwf/XVV+sE3ZMn3yvt2rXT4SNSUprIhRdeKHPnzvW4F6smi4qLxDuZtlEJk/9INF2VhtWqEG2QABteBNnZ2YIyeBgYBsEBIZEgWmBDsmqbzaY9KZC3A4IFDJNDL730klxxxRXSrFkzPfEPD5V///vfMmPGDF3H+Af9IeTSP/7xDy0YtW3bVjZt2iTPP/+8FhOMelWxnzNnjowZM0ZuueUWvWGSB6txv/32W49wIuvXr5fbbrtN5z3B+OEZg7AjEFcwXhoJkAAJkEDtEYBYcdppp8nXX3/tMYjx48f7DcsEAX3KlCkedfHZhjJ89hghD1EBHhn4LAxkEAUgVsD77qmnnvKoCpEC3xewGKFNmzYe/aIMgsWAAQM8yj0aUCcXX3yx4FmCsbvuukvwuWkYvmu8+eabsmzZMrXY4hSjmHsSIAESIAESIIFGRmBI7zZSUGiX737dJr9vPagWlsYEldMCHhUQOtJU/osmKmdFk8RItRDD4aaH+BNWq0W6d0yVbiqMVI8OqRJazvyP+2YekEAlCFjUyl7/cTEq0ShvbXwEPv/8c71aG7HpEc+eVncJIAQBkjAjNE9lbN3mffLW5+tk74Fs6douRSXU9i9aFCo1/s+dhwQxEG+6aKAWOirTb1n3Hl1/VEryPMNUFRYWqOTRDkFOCSOvhHE/PBoKCgpUiAVMuPt6fZSUFKsV+dv1xDbqNG/eXCVwLs3vYLThdDrUxHaBGPkSjHJjb7eXyJ496apOnhYccH9ubq7eMDFuGEJJuEKdEt/N0+3SuI6QFhA1YIibjZBTRtgpo06gcggKhocG3j1WnLZVEx54fngdIM8DzrH5M0y6QFTAalKsOkV74OFtqIeQS7BOnTrpkFJ79uzRq0G9PRWw0hUb2CGkBsJb4G8T7cJrA4b+IKRAaDAMrLAZicaNcjwXRAZzXeMaQkAhEbcxKQURAom2X3nlFV0FK2ONHBwIjYWxIMyVER7MaMd7v3v3bh2KwyzyeNfhOQmQQOUI4L8B+G8W/n9r/Hewci3y7vpEAP99xuc3vADhGVieQYBAKED8t9xs8EyAZwT+nvB5hJBQEEEQ+sn4bDDXN47RP77X4rNp8+bNRnFQe3wmIjzhDTfcoEV975vwmYcFDR9++GG5ggVCQo0bN0527Njh8VmNsJdYLPDCCy/ITTfd5N0Fz0mgURPAd/0tW7boUG5lfVdv1ID48CRAAg2SwPqtB2TB0k2yMyNTDqn8FAjZFKu8JmKjsQ+XYjU/kpNXJLkFJZKtQkCJyl7RWs3V9OqUqsM8xUaHCxac5uYX6boxkeGSEBvRIFl5PxS8eEeMGCGPP/649yWe1wIBeljUAnR2SQINgUDvzs1l78Ec+W7FdqXgHxDktYiOCpWIMJuaaBb14WaXbPVBuPdAjrRrGS/nDu5UbWIFeIbFh/kIFhERkWWixgR2oB8voaFh7nBQZTWC0E+B2rDZQvVkhPl+1Pe+BxP00S2iJCbBVzgx34tjfxPyFSnHxI8hTGBivkeP/8/efcBJVZ2NH3+mbq+wS+8oiBR70AiCKNbYWxK7vvnHJMYWTdQoRl9jL9Hoa4y+aopGNNGoia9oAqJGjSWgIggEkM4uW9g6O/V/not3MjPbZvvs7O/4GeaWc88993tXmJ3nnvNMTTxFs3Ud3ZHMCI+W6o0aNapZe7pBp2nSV2yx+2Vv06dgE69XreyAhl1P31sKSunoEP2iSUeG2OXFF1+0vnSKHfmhwRz73Pa7XZ93BBBAAIG+E7CD7ToN4YUXXmimcPxPPqqO9MrOm2S3l+yxepw+aHDmmWcme0iv1tu2bZt1vsSHAnq1E5wMAQQQQAABBFJGYJoZCTHOjJZ4/b211kiLnbvqpaK6wQpe6MOkbjM6wutxWwGMCSOLpKQ4V+YcMFb2m/yfaZM1iTaJtFPmlg7YjhCwGLC3ngtHoOsCxx6qcxcOkpffWi0bt1XJhi3VVpBChwzmmii+5rqYc+A4E6yYYAIa+V0/YRstZJVkSf3WhjZqpPYu7T+lewV0+hB9qla/aNIRKfokrc75rdN2nHTSSd17MlpDAAEEEOgRgbvuukuuvvpqM73jPjJt2jQ59NBDZf78+dYrOzu73XO+8sorVl4izSWRODpRRz+09GW/5sfQ7Rqs0DJ+/Ph2z9PZCjpVlU6LmFh0WkMdgdFS0RwWzz//vJUzQ/upOakoCCCAAAIIIICACuh3MScfPsUEIsbJyvXl1miLcMLcOjmZ5gHNcYNl4qhipnjixyYlBQhYpORtoVMI9B8BzWXxnVMOkPVmyOFOk6Sp3ETvXebJ+MGFWWb+wxwZP6JInI6I9PTsc64sM9phdI7UbazvP3hf9VT7rf2ndK/AEUccYX2Zo9N46JRR+mWVPqF77LHHdu+JaA0BBBBAoMcENIH25MmTRadFWrlypTX9kU6BpNMlPvroo1YOiNiT66iIOXPmWJt0OjGdEkYD1U899VRsNWtZp4NKTLCtOzRfkxadmlCLjsrsqTJlypQWE2zr9IuJJTGAodN7Pv7445ZFYl3WEUAAAQQQQGBgCxTlZ8khM0Zbr4EtwdX3RwECFv3xrtFnBFJMQIcLWsm0W3kAUeeA7o2SMzxHIsFIvxppoVNBab8p3S8wePBgK9l297dMiwgggAACvSmgIwjsUQQ+n0/+9re/WTkbdATdIYccEjfFoH7RbwcsNKih+U9aC1S3l3TbnoKwqqqqxy63I0m3n3nmGdEcWPoQyO23324lItd8UBQEEEAAAQQQQAABBNJJgIBFOt1NrgUBBMwoi1xxZbrMSIs6CZvgRaoWp9tMm2X6mlXKVFCpeo/oFwIIIIBA6gnotE7HHXeclcha35cvXx4NWOgX+ZonSqdZ6o6igW8t7733njXFYHe02ZU2Zs6cGc25NHfuXJk3b56V1PvII4+UQYMGdaVpjkUAAQQQQAABBBBAIGUEnCnTEzqCAAIIdJOABgFKDiiRvHG5klGUIRocSIWi/dD+aL+0fwQrUuGu0AcEEEAAgf4oUFxcbHVbp/zrqaIjNA4++GD5wx/+IF988UWrp+nJPrR6UrPj4YcfltraWrntttvaqsY+BBBAAAEEEEAAAQT6lQAjLPrV7aKzCCDQEYHsIdmSPaQjR1AXAQQQQAABBFJFIBgMyoMPPijf/va3pbS0NNqthoYGuffee631qVOnRrf3xIIGBfbdd19rmqlnn31WZs+eHXcazSGhU0edffbZcdt7YsXhiH8AQ6e7Ouuss+See+6xEpMPGcKHnp5wp00EEEAAAQQQQACB3hVghEXvenM2BBBAAAEEEEAAAQQQSEJAp3i68sorRb+I1+TU3//+9+Wcc86xpkV67rnnrDwWe+yxRxIttVzlgAMOEA0CJL5effXV6AH77LOPlTNDE3AfdthhMmPGDLn88svlpJNOsqZhuvjii6NTUkUP6sCC5rBIPL+u33fffUm1csMNN1j1FixYkFR9KiGAAAIIIIAAAgggkOoCjLBI9TtE/xBAAAEEEEAAAQQQGIACHo9HNmzYIMuWLbNyVVRWVsqECRPklltukcMPP1wSgxU/+tGP5J0NB1MAAEAASURBVPzzz29Xatq0abJ48eJW602fPj1un55r06ZN8v7778vKlStl7dq1Mm7cODnmmGPkxBNPtBJhxx1gVnQ6KT3HsGHDEndZ65o8u60+TJw4MXrcrFmzrLotjaDQQM4HH3wg9fX10fosIIAAAggggAACCCDQnwUIWPTnu0ffEUAAAQQQQAABBBBIY4ExY8aIvjQw0F7Zc889RV/tFQ0mzJkzp71qcfu9Xq9o4EBfyRSt39Y5NHl4W/tjz6HJv9uqqyNFKAgggAACCCCAAAIIpIsAU0Kly53kOhBAAAEEEEAAAQQQQAABBBBAAAEEEEAAAQQQ6McCjLDoxzePriOQigLlvoC4nE4p9rpSpns1NTWic09r0Sces7Ozm/UtFApJbW1tdLvOH61PP2oiTbvodAuBQMBebfVdj9MXBQEEEEAAAQQQQAABBBBAAAEEEEAAAQSSF2CERfJW1EQAgVYEPq6ol9/9u0IeWrVDnlq7U55cU2Yt/95s+7y6sZWjen7z448/bk0NoVM/FBUVWa+cnBwpLi6W//f//p80NTVFO7Fq1apoHa1bWFhoBR323ntveeedd6x65557blwdu83E92QTZUZPzgICCCCAAAIIIIAAAggggAACCCCAAAIICCMs+CFAAIFOCwTCEXl96y5ZXtkg5Q27Rx5kupwSMf/5dUBDxCebG5pkv6IsOaw0p9Pn6eiBDQ0NMnPmTPn0009FE3BeccUVMnz4cKuZTz75RG6//XZ59NFH5aabbmqWDPOOO+6Qgw46SBobG+XNN9+Uxx57TI4//ngr6efNN98sl156abQ7L7zwgjzwwANy9913y/777x/dPn78+OgyCwgggAACCCCAAAIIIIAAAggggAACCCCQnAABi+ScqIUAAi0ILNxQJZ/srJNQRGRMfoa4nY64Wn4zDdOmGr+8YYIZO31B+ebEkrj9PbVy/fXXW8GKRx55xBpJEXue6dOny9NPPy033nij5OXlxe6ylnW/ndjymGOOkUmTJsmFF14o77//vsyfPz+u/ooVK6z1GTNmRI+Jq8AKAggggAACCCCAAAIIIIAAAggggAACCCQtwJRQSVNREQEEYgXe2lErH5fVmnwVDhlX0DxYoXW9JpfFhMJMCUci8mF5vXxY0RDbRI8say6K+++/XzSIoNM+tVYmT54subm5re2Obt9nn32s5bKysug2FhBAAAEEEEAAAQQQQAABBBBAAAEEEECg+wUIWHS/KS0ikPYC2xr88uZ2k8jajKwYkett93q1jjV91JZqqWwKtlu/KxUqKiqsw4899tiuNBM9dvny5dZyaWlpdBsLCCCAAAIIIIAAAggggAACCCCAAAIIIND9AkwJ1f2mtIhA2gssr2qQqsagjDLTQCVTXGamqGG5Hqky00J9VtUos4c2n4opmXaSqePz+axqw4YNa1b93XffjUu0raMwNGF2S0VzWLzyyitWDgxNwK05MSgIIIAAAgggMPAEgk3lEg7ukkioUcLhJomEA+JwesTpzBCHK0tcngJxeXtn2suBp88VI4AAAggggAACCAw0AQIWA+2Oc70IdINAuQk8OBwOydBIRJIl1+2UnY1hqfT37AgL7ZcWnRoqsZx66qmybdu26OY33nhD5s2bF13XBc1bEVt06ihN0J2fnx+7mWUEEEAAAQQQSGOBcGCX+Go/F3/9Kgn4tpmAhZnWMhKUSMR8voiExUQszGchl3l3i9OdLZ7MYeLN3UsyzctpAhgUBBBAAAEEEEAAAQQQ6JwAAYvOuXEUAgNaoNwXkIT82kl5RCRiJd9OqnInK2VmZlpHbt++vVkLf/zjH60RFhs3bpTzzjvPfOlg5rRKKHfccYccdNBB4vV6ZezYsTJ8+PCEGqwigAACCCCAQLoKhPxV0lD5tjTVrZSQv9IEKmrMpZrghEs/X7hMnMJrBSo0cBEJm4cwIj4JNFSZ12Zpql0tDd6lkmGCFjmDZhO4SNcfEq4LAQQQQAABBBBAoEcFCFj0KC+NI5CeAvkel2wy0yF0tARN0oscc2xPluLiYqv51157TW6//fa4Ux188MHW+qpVq+K2x67oNFFz5syJ3cQyAggggAACCKS5QMRM9dRQ8bY0VP9TQr4d5qGGsBVw8OaMT/rKg/5dJnCxSQKNW83ojM8ku/AgyS4+1AQ7kptCM+kTUREBBBBAAAEEEEAAgTQWIOl2Gt9cLg2BnhIYmmWSaLcw5VJb5wt+NZqhJKNnAxYul0t+8IMfyLJly+TVV19tq0vsQwABBBBAAAEERKd/qtr4a6nZ9qIZJbFWnN4C8eaMFrd570jR+t6cMSafRYHVjrZXtelx0351R5qhLgIIIIAAAggggAACA1qAgMWAvv1cPAKdExic5bFGSlSYXBbJlgpfSPK8LinJ9CR7SKfr/fznP5dJkybJ2WefbSXOTmxIR19QEEAAAQQQQACBQOMmE6z4XzMN1L/MdE9uySrYS1zuvC7B6PHajrbXUPmRCVo8YUZdbO5SmxyMAAIIIIAAAggggMBAEWBKqIFyp7lOBLpRYEpBpnyQnyGrKxqlwAQh3O0ktPCFTLLtxqDMGJIrk8yxPV3y8vLkH//4hzXS4hvf+IYVvBg6dKisXLlSysrKrNMfccQRsvfee/d0V2gfAQQQQAABBFJUwF+/Xqo3/0b8devEkz3CjKjYPa1kd3XXkzXCBC0ypLFqmYQCNVI06jxznrHd1TztIIAAAggggAACCCCQlgIELNLytnJRCPSsgOawmDc0X+r8IdlY0ySjTfCitaCF3wQrttYFZFSeV44aXiCZrt4Z2KW5LJ5++ml54oknZOvWraJJuJuamkSTco8fP15KS0vjkCZPnixVVVWSk5MTt72tlYsvvli+/e1vS25ublvV2IcAAggggAACKSYQ8u+UXVsXmqmb/i0ZeRPMqIrk//3vyKW4MwaboEWmdZ6abQulcNRFZsqoQR1pgroIIIAAAggggAACCAwoAQIWA+p2c7EIdJ/AlMIs2d4YkPfLa2X9Lp+UZHsky+0UrxltYXJrS9C86oMhqWgIypAcj8wakidjc3s/6WRGRoaMGzfOerV19Zr7orCwsK0qzfZp2/qiIIAAAggggED/EQiHfFKz9TlpqlklGSZXRU8FK2wRlydXMnJHS2P1SnG6F0rByAvE6er5Eaf2+XlHAAEEEEAAAQQQQKA/CRCw6E93i74ikGIChw/Ll/F5GfL3bTWyrcEv28xIikYTpHCYfma6XVKc5ZZ9S3LksJJsGW6WKQgggAACCCCAQF8LNOx8XRqql4k7c5AZ7dCxhxU623eXp1DcGY3SYKaH8mT+XXKHHNvZpjgOAQQQQAABBBBAAIG0FuAbxLS+vVwcAj0voKMmvjl+kGys80ulPyiVJhG3y4yyKMpwS7HJbzEmxyuOcEgiETPkgoIAAggggAACCPShQMC3wwQNPhQxn008mUN7tSeerGESMqM6Gqrel6yiA02wpKRXz8/JEEAAAQQQQAABBBDoDwIELPrDXaKPCKS4QJbJS9FWMu2A+VKAggACCCCAAAII9LVAffnr4m/cKl4zFVRfFE/2KAk0bJG68r9LwYgz+6ILnBMBBBBAAAEEEEAAgZQW6J3stylNQOcQQAABBBBAAAEEEEAg3QV0dEVT3SpxOj0mb0V2n1yu5stwON3iq/lMgk3lfdIHTooAAggggAACCCCAQCoLELBI5btD3xBAAAEEEEAAAQQQQKBbBPz1X0jIX2lySZR2S3udbUTPH/JXmODJF51tguMQQAABBBBAAAEEEEhbAQIWaXtruTAEEEAAAQQQQAABBBCwBfz1q03qikZxeXLtTX3yrucPBxvN1FBr+uT8nBQBBBBAAAEEEEAAgVQWIGCRyneHviGAAAIIIIAAAggggECXBUL+cvHXbzBTQfVtsMK+EKeZGqqpfp010sLexjsCCCCAAAIIDCyBpqYmqa+vH1gXzdUikIQAAYskkKiCAAIIIIAAAggggAAC/Vcg4NsukVCDOFx9k7siUc7pyZFIsN7ksdieuIt1BBBAAAEEEEhS4Be/+IXcc889zWrX1NTIjTfeKFdddZVs2bKl2f5U2XD//ffLKaeckirdoR8IpIyAO2V6QkcQQAABBBBAAAEEEEAAgR4QCJvgQDjkN/krUmOEhcPhlXC4QULBuh64WppEAAEEEEBgYAgsXLhQGhsbrcCEfcVbt26VOXPmyJo1a+SVV16RESNG2LtS7n306NEyffr0lOsXHUKgrwUIWPT1HeD8CCCAAAIIIIAAAggg0KMCERMciEQCIk5vj54n2cadph/BcNAa9ZHsMdRDAAEEEEAAgbYF1q9fbwUrNm7cKIsWLZIjjzyy7QP6eO83v/lN0RcFAQTiBQhYxHuwhgACXRTwhxvF4XCKx5HRxZb65vC33npL9tprLxk8eHCHO6BzT37wwQdy2GGHGQNHh4/nAAQQQAABBBDoGQGdDipiAgROh6dnTtDRVk3AQgMo4WBDR4+kPgIIIIAAAgi0IPD555/L3Llzpba2VhYvXmwFLmKrVVdXy+9+9ztZu3attXnChAlyzjnnSGFhYbRaKBSS3/72t9bv9JFIRB5//HEzIjIs+++/vxx//PGSmZkpep7f/OY31vapU6fKueeeGz1eFzZt2iRLliyx2v7rX/9qBU4KCgpk5syZcswxx8TVfeedd2TdunVWXXuHnl+/k5g4caI88sgjUlZWJuPGjZOTTz5ZRo4caVeLvr/22mvW9fp8Pqt/xx57rMyePTu63174v//7P1m+fLls326myTTXpuf49re/Lbm5qTH61O4n7wioADks+DlAAIEuC9QEy2Vr0yrZ6PtEtjR9Llt8K6xl3VYXquxy+x1tQP9R14CBvnQ4aGLRf8j1H2Xdf+WVV8btPuKII0Q/NHSmbNiwwfqApB9y7PLMM89Y59mxY4e9qdm7fgCy+3v22Wc3268bdG5Ou45+YKEggAACCCCAQAcETKDC4XBJRMIdOKgnq5p/+82vYg4nz4/1pDJtI4AAAggMDIGPPvpIvv71r0tDQ4O88cYbzYIVOvJizz33lOuuu040cKHfCSxYsED22GMP+eyzz6JIgUBALrjgAvnv//5v60v/qqoqWblypZx++unW9jfffFOOOuooqaysFG3zvPPOs9ajDZiFf/3rX1YQ46KLLpLrr7/e+j1egwUaSLjhhhtiq8rbb79tBVFiN+r5b7/9dpk2bZrodWmftK+TJ09u9v3GD3/4Qzn66KNF++Vyuax3fYDy6quvjm1Svva1r8n5559v9VuDJ/qw5TXXXCOffvppXD1WEEgVAT4hp8qd6IF+aGIhnbMvKyvL+suppVM899xz0S9nNQJLsp+WlNjWmkA4EpKKwCapCZWJ30y1oMUlbvNlgJivA4LWui9cK3nOUilwDLPWe+MPfVpAiwYlnnrqKbn22mvjTvvss89a/0Dn5OTEbdcV/XAzZcqUZtuT2TB27FjryQb9oNCZov39/e9/Lw899JDoh4jY8uijj1rXU1dXZz0NEbuPZQQQQAABBBBoW0CTbVvBgbBOC9X3oywiph8OM8rC4Wr+WaTtK2EvAggggAACCMQKbN682QpQ6AN+OrLigAMOiN1tLWvy7fLyciuYsM8++1jb9OFFXf7Od74j//jHP+KO0e8FdCRFfn6+tV0DDz//+c/ln//8p3zyySdSVFRkbb/11lvlpz/9qezcuTM6S4P9fYTb7bbOZzd84oknyr333is/+9nPxOls+/nxP/7xj9Z5NGih5dJLL5VJkybJ008/LT/60Y+sbStWrJAHH3xQ9KFHHZVhFx3xcffdd1ujNjQ/hgZdtN8vvfSSfOMb37Crya9//WvR7xcoCKSiQNv/h6Rij+lTUgKadOjQQw+1nvbWIW4tFY0+n3HGGfLyyy+LDlM79dRTU35+v5aug219J7Ddv9YELDZKINIoWc5CyXEVS6YrX7LMS5ezXQXSFK43db6UnaENvdZR/aCiRZ+C0C/6E8sTTzxh/azbHzJi98+aNUsGDRoUuyluuaamRvSloyISiwZA5pjkXvb5E/e3t24HDP/whz/EVdWnKvTDkv7/qqWz7cc1ygoCCCCAAAIDSMDlzjEBAo8J+u9+oKKvL313wMIt2i8KAggggAACCHReQKeA0i/eDz/88BaDFdryCy+8YH0/YAcrdJuOuNAREu+++6414kK32UVHR9jBCt1mf9F/2mmnRYMVul2DEFoqKiqs99g/dDRHbDnzzDOtESD6fV17Rdu1gxVaV/t60EEHRaez0m2vv/66vsnNN99svdt/3HTTTdaiBl202AGUL774wlqP/YPpoGI1WE4lAQIWqXQ3urEvGuH1er2tPimu08toBPmuu+6Sf//737J69Wq57777rKfL77///m7sCU2lq0BVcKvsCm4zc0E7JdtZZL0nXqvDjLfQwEXY/Fdt6teEyhOr9Oi6DnnUaZp0mKVddF2HS+owy5ZKRkaG/PnPf47u0iclNEDwpz/9SY477jhr5IOOftBRFDr/ZWzRJxy0bjDYuS9DSkpK5IQTTpD//d//jW3WWh8+fLjMnz8/bjsrCCCAAAIIIJCcgMNpRli4MlMmybXm1HCa/jDCIrn7Ry0EEEAAAQRaE9BcDPp9lv4e31ICaztAoF/4JxbNTaFFgx6xRXNGxBb7ocbWttvniD1mzJgxsavRERh+vz9ue0sriefROppnM3Z66G3btol+h5BYd/z48VZQRROPaykuLramy9JpovShTf0uZOnSpdY+/kAgVQUIWKTqnelCv3S+PB1mplPh6BC0lsovf/lLGTVqVHQomda5/PLLZayZ0kano6Eg0JaANWrCv8lUiUimc/cQybbqZ0qehB0h2elfL4Gwr62q3bpPpznTn2kdUWGXxx57THQkhCas6kj5wQ9+IDqcUnNR6BBQnQNSRy8lfrDpSJst1dUPDzpc0376QefW1GmiNPjCyIqWxNiGAAIIIIBA+wKezGHi8hRIMBD/hUT7R/ZMjVCwzsxMlS+ezBE9cwJaRQABBBBAYAAJ6PdZGrTQ2QrsmQvsy7dzTLY0msAeRWHXsY9J/C7NnsIpcbv9O7o9isE+vqV3u25L+xK3JZ5H9+vxsefRfB0tXZPW1etqamrSRavoQ5wa0NHvMDQhuOa5mDFjRrOcGHZ93hHoawECFn19B3rg/PoX0H/913/JzJkzW2xdvwBdu3ZtdEhbbCVNAqT7tA4FgdYEaoM7d08DZaZ8SqY4zCiMTMk100M1Sl24d5NwX3jhhWLnrNC+avBC/x/JzMxMpuvROvrkxW233SalpaXW0ExN7K1F88R0ZznppJOksLBQNLCiRYeu7tq1y/p/ujvPQ1sIIIAAAggMJAGnCVZ4MkeZX/RD5tV8WsfetIiEtQ8h8WSNESdTQvUmPedCAAEEEEhjATtoob9DxwYt7N/9N23Shy7jiybO1qK5X/tbGTFihOgoi5bKl19+aX13EbtPZ3N44IEHrGThms9CH8RMnN0htj7LCPSlQMuP3/dljzh3lwRuueUW2b59uzXVU2sNaRRWi/7lllhGjhxpbdI69l/qiXX0C1pN6B1bPv3003aPi63Pct8J6HRFGpVvKQdDsr1q+irBtiPiMmMsdie4butYPZ9TNMFlo/hDjRJ29uwXBfZTB3qNOmLhxhtvlIULF8qQIUOsJwh0nkr7+luy0H32fvtdE1nZy3qtOtpCi85VaW+PfbeXY/tib7MOjPnD3m73RfunI6TuuOMO6wOE5qMZPXq0vP/++9ZRWt8+JqYZFntZwL5f9t+pvXx6TofAgBDQBygCgYA1329HnkobEDhcZIcFwu4JEnJ8Lg31teLKGNTh47vrgFBTtUQcpRJxj7d+trurXdpBAIH/COhnZf33Q/8dsZ+M/s9elhBAIF0E7N+N7d/JNIG2Trn04x//WI455hjR5NVadDSBfjmvyavtURU6jZPmvNRpkjwej/Vvsv3wro5OsNvU4+0pn7TtlrbrcfZ2e2SDva7Ha7Hb1u06FbUW/XtKR3ck1rU//1qVvvpD6+nfZ3bdvffe22pTp3zXh5btojOqaJk6dapVV9vS64st8+bNk2HDhllTTNntxe4fiMv2dzcD8dpT8ZoJWKTiXelknzSQoF/M6hA4nWO/tWIPddOnuBOLPS9fW3PqaY6Lhx9+OPFQa33z5s1WsqMWd7IxJQT0H0/Nb9LWPW6voz4zjYH+ZR4yTwcmU+wv13VaqEYzFYM/0v6cjcm021odO4eEXqPO8zh37lzrw4mOjtBkVZpoS/dZ12D+0U+00OPtbfa7foixl2PPq/+429v1g4AWXbevObYvdr3Y43XZrqv/b2qdb33rW6IfOnR6Nk2UpaM5dHsybSW2zXrPCej90ntuzw3ac2eiZQQGroD+m6VT7+n/ZwQsBu7PQXddeSScK40NEyXYtF3cGXnd1WyH2tEHPUJN9eb8Q6WhMlcc1bvnl+5QI1RGAIF2BfTztY5S1s/7+rsPBQEE0lNAPyvq78qxv5PpSIKqqiq5/fbb5cgjj5THH39crrrqKjn33HOtqZD0oUb9e+HJJ5+UdevWiT74ax9vBxv0wUR7m8pt3brVAqysrIzbXl6+O0+njnTQ7wy02Ntij4/drt+b2VNLV1dXW0GHxLr251+rwa/+0KCJfidg191jjz1k3333taZ3//zzz63vOT766CPrejWvx8SJE626+sCxXr/mxNQghpYlZloo7bO2Ybf31WkG7Jv9fc6ABUixCydgkWI3pCvd0Wlu9C+gM888s81m7CdM7AhxbGX7L2e7Tuw+e1mH2Z1++un2qvX+3nvvybXXXis6QkMT+lBSV0D/odUvWrvywd0rWdIUqhOX09WxC3WIZLiyu3TuZE6oCbG12NeoH0j0w4mWO++8M7pd13VuSLuermuJ3Wbvi922u9buP2O3208t6DG6XYv9rtvstnYf+Z8/7YCF9lvrHHDAAbLffvvJD3/4Q6uSJg6LbVPP01pb/2mVpZ4W0Pul90JHv1AQQKBnBOrqzDz/5kky/f+MgEXPGA+0Vhurq6R2x2rzc9VoRlkM7vXLD/rMFxvZYckt3VOyCif0+vk5IQIDRUA/X+vvPPoEcXZ29kC5bK4TgQEnoL8r65f4ib+T3XDDDaIjEPS7qnfffdf6nkwf2r3++uut764USr+815kYjjvuuKibfmn9/e9/Xw4++OC4NvXvEd1uz35gH6BBCt0+bdq06Cwmmtz7sssuizte6+sIC607YcKE6N9L+nCl9j22/5o/85BDDonbpsfr93D252Jd1/Lqq69ao0ZefPFFa7SIPqR5xhlnyIMPPhjNb5GXl2dNO33XXXftPsj8qd85aCDnrLPOim4b6Av29zkD3SFVrp+ARarciS72Y/Xq1dZ0MRohXmIipXbRX/Q12qzbJk2aZH1gs7/o1IhzYtEoshZ7eFrifl3XCKy+Ykt9fb21qn+J84EwVib1lvULdP0A31ZQqr1eZzpzZVdwe9JfHu1ODmWmgYo4xOvK6tK52+ub7revzX7Xf9gvueQS0Z/T888/P7rf/vLLrme3rev2tth3e9muZ5/L3h77bi/HnsPeFnt87LLWtevotFAff/yx6Ls9ZNVuS78ot+vFHs9y7wrY94u/83rXnbMNLAH9BVR/edD/z+y/AweWAFfb3QJZmQeLw/cvaahaZnJIZIrL1bGcVl3pTzjcJJHQFsku2keKhn5NHE5vV5rjWAQQaENAgxX674dOc8xntTag2IVAPxe4+uqrW70CndZZX3b5xje+0WIuV3u//W5PqWSv67sGFFrarn+/JG4/8MADRV+JRWd6SKwbGyyx6+usJi0VDXYkFj2/Bl3aKlon9nvCtuoO5H38rpFad5+ARWrdj073xp5zTr+Mbalo1PbXv/61XHzxxZKTk2NV0QQ7icXelpubm7iLdQSiAl5npnicGSbxdoN4HMk9sWRmkLWO8Tp7P5mV/qKiwbv+VHR0hT3Coj/1m74igAACCCCQygIaJMgd8g0J+MrEX/tvycyfbAIHu0dm9mS/NdF3U+1a8WSPMOc/gWBFT2LTNgIIIIAAAggggEC/FiBg0a9v3386r5HalhLEaGIhnfpJR2DYRZ/MnjNnjixevNjal5W1+wtkHZ72+uuvy9FHH22eNuv5X9zs/vDe/wRyXMWS6ciTunCFuE3gwuFo++clHAlKU6Reil3DJdvZPHdK/xPoeI+HDh3a4kE6DZs9bVSLFdiIAAIIIIAAAt0q4M2ZIHlDj5earc9LU/06ycyLHzncrSf7qrGmun+L21skeSZY4s0Z3xOnoE0EEEAAAQQQQAABBNJCgIBFWtzGjl/E3Xffbc1Zp9PN3HPPPVaAQpPw6FPot956a8cb5IgBJeB2eGWQd7QEmhqlIbxLspwF4mwlaGFmjzVjK2qsAMcg92hxOXr+rx3NWZHMXIwrVqywhorH3ryysrK4YeOaiF6nT2tp1JFut0csaRuTJ0+26sYGIE499VRrW+w5Ypdjp2hrayo2Pebkk0+22iooKIhtgmUEEEAAAQQQ6KBAdvEhJvl1mdSWvSY+M/IhI3e8eQDD2cFW2q9ujayoW2e1nTNolmQXz2z/IGoggAACCCCAAAIIIDCABXr+m8MBjJvKl77//vvLa6+9Zk05Yyf3mTJliixatMhK9pvKfadvqSGQa0ZZFHtHSXnTBmmIVIk3kmNN+WSyMFgdDJupD0LiF1+4RtwmSfcg9yjJcuX3Suf1i//2vvzXjti5IWI7lRgM0HkMNTlXSyVxu45MStymAQk7KNFSG/a2xOPs7bHvOg9vMvVij2EZAQQQQAABBFoWyB1yrBmhHJL6irfEV7PKBC0mitPVfXklwqEmaTLBCre3wAQqvm6mgjq+5Y6wFQEEEEAAAQQQQAABBKICBCyiFOm5sHz58lYvbP78+bJq1SrRqaD0S9lkvuBttTF2DEiBYvdIM7oiX3Y0rZOmcK34grW7R1pEIhI2/2m+ijznEDMV1CjxSnK5LgYkJBeNAAIIIIAAAr0uoPks8oefKi7vIKkrW2RyWnwhrozB4s4c0qXRFjqqIujbbl4V4skZJbklR0jO4Dm9fn2cEAEEEEAAAQQQQACB/ihAwKI/3rVu7rMmJKYg0FkBDViMypxqclTUij/cJIGwCYCZ/zxfJebWXBehYLjFHCudPSfHIYAAAggggAAC3SWgwQS3CVrUbH9JAo1bxLdrhbizhlrbOjJNlBWo8FdIsHG7ON05kpG/p+QPO0ky8vburq7SDgIIIIAAAggggAACaS9AwCLtbzEXiEDPC2heimxHkUmo3fK5Qma0BQUBBBBAAAEEEEhVgYz8aTIoa6SZHuptadz1sQlcbJVA/WZxenJN4KJQHK4cE4TIsh7KsK9BAxThkE8ioXoJ+qslHKiz6ntNPoysgv3MNFCHmtEbRXZ13hFAAAEEEEAAAQQQQCAJAQIWSSBRBQEEEEAAAQQQQAABBNJbwOkpkryh37ASYzdW/0ua6r8woyW2SSiwS8K+nSImQCEmMbeOJI2Y/+x1pytL3GYqKU/BDPHmTJSswv1MoGJwemNxdQgggAACCCCAAAII9JAAAYsegqVZBBBAAAEEEEAAAQQQ6H8CLm+J5JbOl1yZLyF/uQlcbDCjJyp2By6CJngRrDGjLfLNq0BcngIzqmKQeLPHmqBFSf+7WHqMAAIIIIAAAggggECKCRCwSLEbQncQQAABBBBAAAEEEEAgNQQ0eJFtXhQEEEAAAQQQQAABBBDoHYFWZpzvnZNzFgQQQAABBBBAAAEEEEAAAQQQQAABBBBAAAEEEEBABQhY8HOAAAIIIIAAAggggAACCCCAAAIIIIAAAggggAACfS5AwKLPbwEdQAABBBBAAAEEEEAAAQQQQAABBBBAAAEEEEAAAQIW/AwggAACCCCAAAIIIIAAAggggAACCCCAAAIIIIBAnwsQsOjzW0AHEEAAAQQQQAABBBBAAAEEEEAAAQQQQAABBBBAgIAFPwMIINBlgcCOHVL/3ntS+9prUv3UU1L9u99J3euLpP799yVYWdHl9jvawCOPPCIOh8N6lZeXt3h4UVGRtf/KK6+M2z99+vTosXYb48ePlwceeCCu3lPmOnX/0KFDxefzxe3TlalTp8q3vvWtZtuT2bB582ZZsmSJNDU1JVOdOggggAACCCCAAAIIIIAAAggggAACCKSFAAGLtLiNXAQCfSQQCknDhx9KzfPPS+Nr/ydN770rwe3bJbh5kzS9+640mG01zz0nvk8+6dUORiIR63y5ubny29/+ttm5Fy5cKNXV1ZKTk9Nsn27Ya6+9ZPHixdbroYceEpfLJZdddpn85je/aVZ/hwnW3HPPPc22d2XDn/70J5k7d65UVlZ2pRmORQABBBBAAAEEEEAAAQQQQAABBBBAoF8JELDoV7eLziKQWgI1f/mL1C96TaRyp7jGjBH3hIniHjFC3CNHiWv8BPM+UsImgNG4aJE0/v1vvdZ5Hfmg5fTTT5df//rXzc6royOOPPJI0VEWLZX8/HyZM2eO9fre974nH3zwgRQWFsqNN97YrLq2c9ttt3UouKAjJzRgUl9f36w9NiCAAAIIIIAAAggggAACCCCAAAIIIDBQBQhYDNQ7z3Uj0EWBho8+kqbly8Thdotr3ATz7mnWosObYQUxJBwSnxmJ4Vuxolmdntxw/vnny6pVq2T58uXR0+gUUX/961/lggsuiG5rb0GDFYceeqh8+eWXEg6H46rffvvtVuDh1ltvjdve2sp3vvMdyczMtIIlOgIkKytLfmem0LLLiy++aI3m0PXhw4dHp6eqqqqyq/COAAIIIIAAAggggAACCCCAAAIIIIBAWgoQsEjL28pFIdCzAoHyMmn8xz9EzJRQ7uEj2j2Zc9hwkSafNCxdKkEzsqC3yuzZs2Xs2LGiIyrsoss6FdTJJ59sb0rqvayszKrndMb/tbnffvvJmWeeKffee69s2bKlzbauvfZaa4qqSy65xJpe6ve//71ozoxzzjlHlhobLRoYufTSS63l581UW/bUVHl5edY2/kAAAQQQQAABBBBAAAEEEEAAAQQQQCBdBeK/eUvXq+S6EECgWwX8q1ZL2CTTdo8elVS7DpMDwmUCG6GqCvGvXZvUMd1V6cILL4wbwfD4449bAQId5ZBs+eUvfyn//Oc/5ZRTTmnxEJ0SSstPf/rTFvfrRs11oaMx7rjjDnn44YetPmhS7vdNYvKRZuqsm266yTp28ODBMnHiRGv5kEMOiU5N5TYjWSgIIIAAAggggAACCCCAAAIIIIAAAgikswABi3S+u1wbAj0kEDajJDRPhMOb/Jf+juwccQSCEq6p6aFetdzsRRddJDoN1CuvvCIfmWmsdIqo9qaD0iCCdX16jealIx723ntveeCBB1o8ybhx4+Tiiy+WJ598UlavXt1inU8//dTafsQRRzTbr6M9NE8GBQEEEEAAAQQQQAABBBBAAAEEEEAAgYEswCO7A/nuc+0IdFIgWL5DIm5Xp44O9eKUUNpBzQMxb948a1qooUOHyqRJk+Sggw5qs+8jTOJwDUBoKSkpsY5pKdAQ28iCBQvksccek6uvvlr+/Oc/x+6yljXJthYNfLRWIpGIFSBpbT/bEUAAAQQQQAABBBBAAAEEEEAAAQQQSGcBAhbpfHe5NgR6SMDh9YozGOpw65GEhNUdbiDJA/SL/9iiybc1T0RRUZFcd9110V0tBQh0RMWoUaOiUzRFK7ezoNM6XXHFFXLfffdZIzkSq2dkZFibNHH36NGjE3ezjgACCCCAAAIIIIAAAggggAACCCCAwIAXYEqoAf8jAAACHRdwlZRK2Ofr0IEarIgEg+I2ORp6umjQIbacdtppVqLtqqoqOe+886K7tF5icCO6sxMLmsNCE3pfdtllzY62gxR2cu1mFWI2ZGVlWWuBQCBmK4sIIIAAAggggAACCCCAAAIIIIAAAgiktwABi/S+v1wdAj0i4Bo0SBzZWSaJdlXS7UcqK8WZlyfOQcVJH9NdFTXBdl1dnRWc0CmeeqoUFxfLVVddJe+8846sWLEi7jQzZsyQKVOmWFNGvf3223H7dOXdd9+NbtMRHonbojtZQAABBBBAAIF+KRBuKpdgzQoJVC2TQOX74t/5jnm9bS0Hqv5l9n1mHgjZ3i+vjU4jgAACCCCAAAIIINBdAkwJ1V2StIPAABLInDxJmv71sQQ3fGmCELnicHvavPpwwC/hHdslY+p0yRg/oc26/X3nNddcI7/4xS9k165dzS7l1VdfFR3tMWvWLBkyZIiVG0NHeaxfv16mTp0qf/nLX6xjjj76aNlrr73krLPOsl66sdIEfHRKKwoCCCCAAAII9B+BcKBWwvXrJdS40QQjykTXHZGQeYjCTK0ZCZsLMS+H2+SwMrnBzMvhzhVnVqm4skaLM2esOD0F/edi6SkCCCCAAAIIIIAAAt0gQMCiGxBpAoGBJuDMzZPsw+ZKbeWfJLRxo7hMTobWghYRE6yQTZvEOXSYZM89zPwSvnu6o540O+GEE2Ty5MntnmLhwoVSWloaV08TZ7tc7ScUP+qoo2Tx4sVxx+qKTgn1z3/+U7Zu3dqsbZ0WSvetWrVKtm//zxOUOjJjjz32iGvr888/l9WrV0tZWZkEzVRaeWZ0CgUBBBBAAAEE+olAyCeBXZ9ZIyoigRqRUJM4PLni8pqRps7dwQkrQOFwmrhF0FyUCWCY90ioQUI1X0iobr04qpeJO3+SeU03n7Oy+8mF000EEEAAAQQQQAABBLomQMCia34cjcCAFcjYcw8JHnaYNC59U4Jr14pz2DBxmUCG+bbfMomEzNODtTUSMl/ci5lCKmP2bPGO6p1k08OHDxd9tVcOPvjgZlUOPPDAZtta2jB06FDRV0tlzz33FH21VjSYkkxApb12Wmuf7QgggAACCCDQdwI6tVOg8l8S9leYkRMOcWYMNrGJ1h/YcDj1VzLzcmaYwESOSEaJCWL4zIiMCvGX/8MEPVaJp3A/cRdO77uL4swIIIAAAggggAACCPSSAAGLXoLmNAiko0DOzJniGTlS6t/4m4S2bxP/li3m6UGvNcWBBiychYXimTrNBCtmiat0SDoScE0IIIAAAggggIAlEAk2mkDFuxLc9bkZLeEz8YcSM6VT50ZIOpyZ4soeIZFgvTWVlL98iQmA7BBP8SG7gxqYI4AAAggggAACCCCQpgIELNL0xnJZCPSWgNcELNxnnSkBMzVUcMcOCZbtMA8JesVdMljcg0vEM3aMhMzThZFIpLe6xHkQQAABBBBAAIFeFdCE2oGKf+yeysmMmHCY/BMOM91TV4uOuHDljjNBix0mWfdnEjE5MDzFB5spNod1tWmORwABBBBAAAEEEEAgJQUIWKTkbaFTCPQvAWdmpmSYKZD01VIJBQItbWYbAggggAACCCDQ7wXCJkdFYOdSCTVsMiNN88XpLez2a3JmDhFHsE5C9V+a6aL84i09wppqqttPRIMIIIAAAggggAACCPSxQNcf++njC+D0CCCAAAIIIIAAAggggECfCJjgQaDiLROs2GwCFYN6JFhhX5fDnSvOzFJzrq3WaA6dLqo7yrPPPmvl2tB8G/YrLy9P5s2bJ3/961+bnWLWrFnRenb92Hf7gHA43Kxebm6ufP3rX5fFixdb1fx+f7M6sW3FLm/YsMFumncEEEAAAQQQQACBNBZghEUa31wuDQEEEEAAAQQQQAABBHpOwL/zHQnXfWmSauf2Sm4JTd7tzBhkRlpsFH/FO5JROlfMsI5uucDnn39eBg0aZLXl8/nkJz/5iRx33HGyZMkSOeyww6Ln0Gk+hwwZIt/97nej2+wFDTAkluOPP16uuuoq0QDGxx9/LHfeeaccfvjh8v7778v+++8vCxYsiDvkySeflB1mmtEf//jHcdsLTW40CgIIIIAAAggggED6CxCwSP97zBUigAACCCCAAAIIIIBANwuEaleZwMF6EzBwmCBCUTe33npzmsg7HGqScP0Gk+B7pbgLp7deuQN7DjnkEBk27D+5MaZNmyYjTa6y3/72t3EBCw1KaL2bbropqdaHDx8uc+bMsepqoOKYY46RqVOnWsfrCI7EdjRAUlNT02x7UiejEgIIIIAAAggggEC/F2BKqH5/C7kABBBAAAEEEEAAAQQQ6E2BSDggwbrVotMyaX6J3i7OzMHm3I27+xBq7JHT26Mt6uu7NvWUjsiILXvvvbeMGTNGli1bFruZZQQQQAABBBBAAAEELAECFvwgIIAAAggggAACCCCAAAIdEAjVrZGwr0Kc7pwOHNW9VR3eAokEdkmw5ovubfir1u666y5raf78+d3afnV1tXz55ZdW0KJbG6YxBBBAAAEEEEAAgbQQYEqotLiNXAQCCCCAAAIIIIAAAgj0loBOBRUJ1IgzZ1RvnbLZeZyefJOAe5OEGzeIFO3TbH+yG+y8E6eeeqp4vV4JBoPW6AfNOaFBiwsuuKBZUzo6wj4udqcm6n7jjTdiN8n27dutPBi6MRQKyS233GLtv/LKK+PqsYIAAggggAACCCCAgAoQsODnAAEEEEAAAQQQQAABBBBIUiDsrzTBimqTZDszySN6rpom+w4Has1oj+1maqqhXTqR5rDIzc212tC8E2+++aY89thjctBBB8ns2bOjbbeVdHv8+PHRevbCyy+/LPqKLb/61a/k9NNPj93EMgIIIIAAAggggAAClgABC34QEEAAAQQQQAABBBBAAIEkBTQ4EAnUicOz+8v9JA/rkWoOd7ZE/FUSaux8wMLOMXHVVVfFJd3WDk+cOFHOOuss2bp1a7T/HU26ffzxx4u2raWyslKuvfZaeeCBB+Q73/lOtE0WEEAAAQQQQAABBBCwBQhY2BK8I4BApwWCOzdKcOMKCdfulFDZl+JwucU5eJQ4cweJZ7yZoiBnUKfb7siBOh/y2LFjkzrE5/OJ0+m0pj5o6YDLLrtM7r///pZ2sQ0BBBBAAAEEBrBA2IyuCAfrxJ1Z0ucKDleGhEM+k4C7qkf6cuSRR8ojjzwijY2NkpWV1alz6GiNOXPmRI+dPHmyaOLta665Ru68887odhYQQAABBBBAAAEEEFABAhb8HCCAQOcFQkHxrVgi/mWLJLxzi4ivXsRrpkeIRES+eF8kM0f8Zr9736PFvechnT9PkkcWFhbKggUL4mr/7Gc/s4IY5513Xtx2l8slOjezFv0l+rDDDovbP3PmzLh1VhBAAAEEEEAAAUsg1GDyNzhTB8PpMgGLuh7pT1lZmdVuS/kqOnvCKVOmyBlnnGHlx7joootk0qRJnW2K4xBAAAEEEEAAAQTSUICARRreVC4Jgd4SqF/ylATXfCCR2kpxlo4RR3aBGV3hsk4fMcGMSH2VhLetFX/DcxIq3yjeuef2aNcKCgrkpptuijuHjpIYN25cs+1aKRAIWHXnzp0rN954Y9xxrCCAAAIIIIAAAi0JRILmAY0UClg4HOZXOu1TJ4s9JZT9bjfz7LPPyp/+9CfRvBSZmd2br0MfMFm4cKHcdttt8uSTT9qn5B0BBBBAAAEEEEAAAUmhR4O4Gwgg0J8EfJ/8zQQrPhQzJ4K4J+wrzrziaLBCr8OaFiq/RFxmSqiIr06Cq98X/+r3+tMl0lcEEEAAAQQQQKCZgAYsrCBBsz19tMGho0aDImZqqK6UESNGmOtyRF+au0Knbnr11VebNbts2bJovdhjdNnv9zern7hBR1mccMIJ8tRTT1l5LRL3s44AAggggAACCCAwcAUYYTFw7z1XjkCnBUIVm8W//A0zgqJa3OOmt9mOw0xT4BgyXiImx0XTB6+Ia+hEceUPbvOY3t75/PPPy9///ncpLi6WPfbYQy688EKmJ+jtm8D5EEAAAQQQ6AcCkWCjmfkylFIjLESfQYsETdDC5OdydXwkxOGHHy6LFy+O08/OzpaSkhJrlGrcDrOiCbN37dqVuDm67vF4rGXNFabtDhs2LLovduGxxx6TFStWGM9I7GYrh1hdXc9McRV3IlYQQAABBBBAAAEEUlKAgEVK3hY6hUBqC/j//ZFEqraJa/geSXXUmiZqyDgJV2+TwIZl4pp+RFLH9Val/Px8K5/FW2+9JS+88IKVAPLhhx+WSy65pLe6wHkQQAABBBBAoB8IONxZZmSByRmhQYtUKVYAxW36tTtQ0NFulZaWir6SLfvuu2+yVa08Ya1V1oCI5hFLLPvss0/iJtYRQAABBBBAAAEEBpAAU0INoJvNpSLQXQLh2gqrKUdGVtJNOrLzzPzKJq/FV8cmfWAPVtQnACsrK+Xtt9+WpUuXSnl5ubz22muSk5Mj3/ve99p8erAHu0XTCCCAAAIIIJDCAg6X+fyTQgGLiITE6TQBC3dOCqvRNQQQQAABBBBAAAEEkhMgYJGcE7UQQCBGIGwSaHemaCLucM3OzhzaY8cUFRXFtT1//ny54YYbrG3btm2L28cKAggggAACCCAgJjCQUiMsNH+Fs+NTQXEnEUAAAQQQQAABBBBIRQECFql4V+gTAiku4PBmmAcLzS/HHS1hM31CwjzFHW2iN+p/7Wtfs05TXV3dG6fjHAgggAACCCDQjwQc7nzTW6f5SBNOmV47MopTpi90BAEEEEAAAQQQQACBrggQsOiKHsciMEAFnINGijQ1dOjqI2HzS70JcjiLR3TouL6ovHbtWuu0OjUUBQEEEEAAAQQQiBVwZg410y/lmjzX9bGb+2Q5EmwQh0m07coY0ifn56QIIIAAAggggAACCHS3AAGL7halPQQGgICzaJg4snLFzmWR1CXvKhNHdr44i4YmVb03Kq1bt07WrFkTd6pFixbJtddeKwUFBbLnnnvG7WMFAQQQQAABBBBwZ5aagEW2yc1V1+cYEe2DmaLKkUnAos9vBh1AAAEEEEAAAQQQ6BYBAhbdwkgjCAwsAe/4A8Q5eLSEd3yZ1IVHQiGJVGwV57AJ4h0zPaljeqPS8uXLraDE3nvvLbNnz5aSkhI56qijrGDFSy+9JBkZGb3RDc6BAAIIIIAAAv1JwJVtUkaUmukxG0U0f0QfFZ2SKhKoE6e3SJyewj7qBadFAAEEEEAAAQQQQKB7Bdzd2xytIYDAQBBw5hZKxsGnSOOiX0to+zpxDR3f5mVHytaLFA+TrENON08A9u40S6+88ork5ua22L9Zs2bJU089JWEzXdX69evlrLPOkv32209mzpzZYn02IoAAAggggAACKuDKHi+h+k0SbqoQZ1bfjG6I+KvEkVEk7twJ3BQEEEAAAQQQQAABBNJGgIBF2txKLgSB3hXwjt9PwgedIE3//LMEv/xcXMP3EIfHE9eJSJNPQlvXiCO3SDwHnyru4b0/xdKhhx4a16fYlcGDB8u5554bu4llBBBAAAEEEECgXQFX7nhx1q+RUPXnEgkHxOGM/wzUbgNdrLB7dEWNuPIniSt3jy62xuEIIIAAAggggAACCKSOAAGL1LkX9ASBfieQud8x4h62hzS+/YyEyzdKpKFWxOkS85u7mSIhYgIVBeKesI+4DzrFmkKq310gHUYAAQQQQAABBFoR8ORPk3DjDok0bhNHzuhWavXM5rCe00wF5cqfKiahRs+chFYRQAABBBBAAAEEEOgDAT7d9gE6p0QgnQTcwyZK7glXSWDzSgntNFMj7Nxokj9miGvQCHEWjxDPqCkSFKdEIpF0umyuBQEEEEAAAQQGuIAza7i48ydLsPJDE7jYZqaGGtYrImFfuTmPwwQrJpt822N75ZycBAEEEEAAAQQQQACB3hIgYNFb0pwHgTQWcGRki3fC/iL6aqkEAi1tZRsCCCCAAAIIINCvBTzFB5mBpY0SrFoukaZKk1OiuEevJ+yvNnm+68VdOFW85twUBBBAAAEEEEAAAQTSTcCZbhfE9SCAAAIIIIAAAggggAACvSXgKT5YXHkTJRTYZU0R1VPnDTfttJJ8u/MmSMbg2UwF1VPQtIsAAggggAACCCDQpwIELPqUn5MjgAACCCCAAAIIIIBAfxZwOL2SUXK4eApnmMsISbhh0+58Xt12URETCNkikZBP3AVmZEXpPBFXZre1TkMIIIAAAggggAACCKSSAFNCpdLdoC8IIIAAAggggAACCCDQ/wRMAMFbOlcCnhwJVq+QUP16cXoHmcTYhV26Fp0CKuI3U0158k2+jL3MNFAzRZyeLrXJwQgggAACCCCAAAIIpLIAAYtUvjv0DQEEEEAAAQQQQAABBPqHgMMlOj2UI2O4hHb9y4y02CLh2goTtCgyAYc8cSQZaIiEgyKBWgkHqkxwIkNcJrG2u3BfceVO6B8O9BIBBBBAAAEEEEAAgS4IELDoAh6HIoAAAggggAACCCCAAAKxAu6cMeLOHi7B2lVmtMUnZoTELjPi4ktxONwmcJFjAhcZ1igJ690cGA41mT8C5uU3M0rVm3W/ONymXuZQM6piinjMNFBmuEbsKVhGAAEEEEAAAQQQQCBtBQhYpO2t5cIQQAABBBBAAAEEEECgTwQcHhNsmCbOrLES8W2RkG+7yUOxWSLBxt2vSL3pVkgikYgJZLjMy6QW1BEYGSXizR5hRmmUmmNHmk0FfdJ9TooAAggggAACCCCAQF8JELDoK3nOiwACCCCAAAIIIIAAAmkt4DRTQYlnsrjyJkvEjKCIaE4KfTcvRySwO2DhMqMnTIBDk3c7zfRRjKZI6x8JLg4BBBBAAAEEEECgHQECFu0AsRsBBBBAAAEEEEAAAQQQ6KqABiQcmaVdbYbjEUAAAQQQQAABBBBIawEz9piCAAIIdE0g3FQugaqPJVD+pjRtek6atvxJAjuXmm0m4aTfJIzs5fI///M/ZmoFR9xrzJgxcvLJJ8uSJUua9WbixIlxdWOPLSwsjNYPBALN6o0aNUpOOOEEWb58uVWvvr6+WZ3Y9mKXt2/fHm2bBQQQQAABBBBAAAEEEEAAAQQQQAABBAa6ACMsBvpPANePQFcEIiEJ7lohgV3LJNJUKZFQ4+5EkhKWYM0aEVeGOGtWiDN/hjhyJnXlTJ069tprrxWvd3eSyrq6OnnooYfkxRdflA8//FD233//aJs6f/To0aPlggsuiG6zFzIzM+3F6PvBBx8s8+fPl3A4bLX18ssvi74+//xzmTBhgixYsCBaVxd+9atfSUNDg1xxxRVx23Nzc+PWWUEAAQQQQAABBBBAAAEEEEAAAQQQQGAgCxCwGMh3n2tHoIsC/vIlEqpdY5JH1okzs8QEKEaa0QW7B25FImERsz3s2ybBQIO4/DtFhszt4hk7dvh1110nsUGBY489VubNmye///3v4wIWOupBR2DcdNNNSZ3gkEMOiaurAZADDzxQfvazn8kf/vCHuH3a4EsvvSQVFRXNtid1MiohgAACCCCAAAIIIIAAAggggAACCCAwQASYEmqA3GguE4HuFghWf2KCFWtNs2Fx5Y4XhzsvGqzQc2ngwuHJN/vGmcSSPqtuqHZ1d3ejQ+3NmDHDqq+jLbqzHHDAATJo0CBZtmxZdzZLWwgggAACCCCAAAIIIIAAAggggAACCAwoAQIWA+p2c7EIdI9A2IyWCOz6xEwBVW9GVgxtp1ETuMgYIpFAtclp8aGEAzXt1O+53XfccYfVuE7n1J1l69at1ggKHaVBQQABBBBAAAEEEEAAAQQQQAABBBBAAIHOCTAlVOfcOAqBAS0QqlsnEZNM25U1PCkHa5qoTBO08FdLuH6DOAunJ3VcVysdc8wx4nK5RJNlf/zxx+LxeOTBBx+U0047rVnTn3zyicyZM6fZ9tmzZ8vNN98ct33Tpk3R5N1+v19uuOEGa//ll18eV48VBBBAAAEEEEAAAQQQQAABBBBAAAFTgEBVAABAAElEQVQEEEhegIBF8lbURACBrwQ0Z4VVnLsTWicD43BlWaMsIqHaZKp3S51Zs2ZZSbc1qfbQoUPlzTfflCeffFJOPvlkGTFiRPQcur+goKDFgMVee+0VrWcvLFy4UPQVW/74xz+KBkgoCCCAAAIIIIAAAggggAACCCCAAAIIINA5AQIWnXPjKAQGtECkqbxz1x8JSTjYe1NCJSbdbmhokIkTJ8o3v/lNWbp0afQaOpp0+4wzzpBLLrnEOl7zVlxxxRXywAMPyCmnnBJtkwUEEEAAAQQQQAABBBBAAAEEEEAAAQQQ6JgAOSw65kVtBBBQAYdHHCb40PESNjm6Ix0/rJuOyM7OtkZRvPXWWxIMBjvd6qhRo6x2dAopnQZKR1fo6I3EqaM6fQIORAABBBBAAAEEEEAAAQQQQAABBBBAYAAKELAYgDedS0agqwLOjEESCTd1qJlIJCwRE+RwZhR36Ljurrxz587ubtIaWXHEEUfIggULZPPmzd3ePg0igAACCCCAAAIIIIAAAggggAACCCAwEAQIWAyEu8w1ItDNAg5PkZiM2yYnRQfyUQRqxOnOFofbHNtH5YknnpDXX39d9t13X3G7Oz8jnk4hlVjs0RV33nln4i7WEUAAAQQQQAABBBBAAAEEEEAAAQQQQCAJAQIWSSBRBQEE4gWcOePE4S2WcFNZ/I7W1nR0hb9CnJlDxJU9urVa3b49Ly9PNLhgvy688EKZMWOGvPDCC83OpdNE2fUS38NhM5VVO+Xggw+2pol68MEHpb6+vp3a7EYAAQQQQAABBBBAAAEEEEAAAQQQQACBRIHOP2Kc2BLrCCAwYAScnjzxFO0ngfK3JOzbYQUi2rr4iAlsOLyDxFW4vxlhkdVW1W7Zd+KJJ8pee+0V11ZOTo6UlJTI2LFj47bryu9+9zvx+XzNttsbNIChRUdlLF68WDSHRUvl6aefli+++KJZfoxHH31UAoFAS4ewDQEEEEAAAQQQQAABBBBAAAEEEEAAAQS+EiBgwY8CAgh0SsCdP8UEK7ZKqHathOo3ijNruDicCX+lhP0Sbtwm4swRZ95EceeO79S5OnrQ8OHDRV/JlpkzZyZVVQMXmmi7tTJs2DDRV2I54IADEjexjgACCCCAAAIIIIAAAggggAACCCCAAAIJAgnfLibsZRUBBBBoQ8BbMleC3lIJ1nwmkaadEg41mmmVXBIx/5ms3GY0RY44MoeaQMXe4sid3EZL7EIAAQQQQAABBBBAAAEEEEAAAQQQQACBgS5AwGKg/wRw/Qh0RcAEJ9yF083oimESatgkEqw1oy5MXgunS5wZg01i7nxx5YyRkCNXIhETxKAggAACCCCAAAIIIIAAAggggAACCCCAAAKtCBCwaAWGzQggkLyAM6PEBChKWj0gRP6GVm3YgQACCCCAAAIIIIAAAggggAACCCCAAAK7BZxAIIAAAggggAACCCCAAAIIIIAAAggggAACCCCAAAJ9LUDAoq/vAOdHAAEEEEAAAQQQQAABBBBAAAEEEEAAAQQQQAABIWDBDwECCCCAAAIIIIAAAggggAACCCCAAAIIIIAAAgj0uQABiz6/BXQAAQQQQAABBBBAAAEEEEAAAQQQQAABBBBAAAEECFjwM4AAAggggAACCCCAAAIIIIAAAggggAACCCCAAAJ9LkDAos9vAR1AAAEEEEAAAQQQQAABBBBAAAEEEEAAAQQQQAABAhb8DCCAAAIIIIAAAggggAACCCCAAAIIIIAAAggggECfCxCw6PNbQAcQQKAnBRoaGqS6ulp8Pl+nT7Nr1y5ZsmRJp4/nQAQQQAABBBBAAAEEEEAAAQQQQAABBBBoX4CARftG1EAAgXYEAr6tUlf2muza/LRUrv+lVG54WHZt+YPZtkhC/vJ2ju6Z3ddcc404HA7JycmRoqIiycrKkilTpsgtt9zS4RN+9tlnMnfuXIlEItFj77vvPqt9PYf9Gjt2rJx//vmybdu2aD17YciQIdF6dn37XffZpampqVm9UaNGycknnywrVqywqtXU1DSrY7eV+F5RUWE3zTsCCCCAAAIIIIAAAggggAACCCCAAAIpLeBO6d7ROQQQSHmBxuqPpK58kQR9OyQcbIjrr8udI77aTySr+Cjx5EyK29eTKxqsuOuuu+Too4+2XtOmTZPy8nJ5+eWX5aWXXpIbbrihQ6cfPXq0LFiwwAoSJB7405/+VFwul7W5trZW7r33Xlm0aJF8+umnMmjQoLjq48aNk3PPPTdum65oUCWxzJo1Sw4//HAJhULy4Ycfyosvvmi93nvvPdlnn32s/sQe89BDD0k4HJZLL700drMVqInbwAoCCCCAAAIIIIAAAggggAACCCCAAAIpKkDAIkVvDN1CoD8I1O34q9TtXCLBpgrxZg0TT9Zw86X+7oFbkXBIQkEzFdOuzyXQuFOyBx8p3qHzeuWyNFihIyJeffXVuPOdeeaZotM7dbToCIebbrqpxcMSR2zMmzdPjjvuOHn00Ufl2muvjTtmwoQJrbYTV9GszJ49O67u22+/LRrEuOeee2ThwoVx+/TY5557TgKBQLPtie2yjgACCCCAAAIIIIAAAggggAACCCCAQKoKMCVUqt4Z+oVAigs01XwqtWbKp0ioUbIK9hKXtzAarNCuO5wucXsHSWb+ZDMtVLXUl/1F/PXrevyq/H6/dY799tuvxXMVFBQ027506VI58cQTo9Ms6fRRP//5z6P1dEqoOXPmxE0JFd2ZsKCjH7Rs2LDBeu+uPw499FBrJMaaNWu6q0naQQABBBBAAAEEEEAAAQQQQAABBBBAIKUECFik1O2gMwj0D4FwsE52bX9JQoFa8eaMabPTOuLCY+qE/JVSu/2PJsDR+eTXbZ7oq51er9daevrpp0UDDe0VncLpsMMOk7KyMnnsscdk8eLFcv3118u6df8JruiojDfffLO9pqz9d999t/WubXZn0bwV9fX1kp+f353N0hYCCCCAAAIIIIAAAggggAACCCCAAAIpI8CUUClzK+gIAv1HoHHXMgk0bBZv7rikOq1BC3f2KGmq+9K8Vkpmwb5JHdfZSjo64rrrrhPNXaEvnUpp/vz51ktHT9hFAxFXXXWVHHjggfLuu+/am63RFNGVVhY0ubUWDUzoso7s0DZ0BMfDDz8s3/rWt5odqbkodKRGYtFcFTfeeGPi5uj6O++8I5dddpm1/s1vfjO6nQUEEEAAAQQQQAABBBBAAAEEEEAAAQTSSYCARTrdTa4FgV4SCDVtt87kcmUmfUaXO1cC/nIJ+Lb2eMBCc0fstddeVoLtlStXWgEEDSIUFRVZuSVOO+00q9+6T8tPfvIT670zf2jAwul0WtNFDR06VF544QV56qmn5KSTTpJhw4bFNannbylgMWXKlLh6unLrrbdar9gdN5k8Gt/97ndjN7GMAAIIIIAAAggggAACCCCAAAIIIIBA2ggQsEibW8mFINB7Av6G9Z07WSRoEnRv69yxHTxKAwb60tLY2Civv/66fO9735PTTz9dtmzZIsOHDxedZklLa/kurJ2t/BGJRKw9N998c1yNFStWyNSpU+X888+X1157LW5fR5Jun3322XLRRRdZx+vIjKuvvlo08TYFAQQQQAABBBBAAAEEEEAAAQQQQACBdBUgYJGud5brQqAHBXQKJIcJPnS0RCIhkU4c19HzJNbXaaBOOOEEaxSEBjF0ZIUGLDwej1XVDlwkHteZ9b333ttK4P3nP/9ZQqGQuFyuzjQjY8aMiY7G0FEZI0aMsKaZ0pEiGnihIIAAAggggAACCCCAAAIIIIAAAgggkG4CJN1OtzvK9SDQCwLujOHmy/iOJc/WEQmRcEj02L4qhYWF1qmbmpqsd53CSUt3j1yoqqqy2rXzXFgrXfxDc1doLo5bbrlFfL6O2Xfx1ByOAAIIIIAAAggggAACCCCAAAIIIIBArwgQsOgVZk6CQHoJuDOHidOdLSH/7i/mk7m6kMlf4fLkiitjSDLVO10nGAzKAw88IGVlZXFt1NXVyS9+8Qtrm+a30KLvEydOlNtuu002bdpkbbP/qKystBc79P6rX/1Kli5dKjNnzrRyW3To4HYqaw6L7du3y/33399OTXYjgAACCCCAAAIIIIAAAggggAACCCDQ/wSYEqr/3TN6jECfC2TmzxBP5hIJNHwpLm9Ru/3RqaCCvh2SVThVMvOaJ5hut4EOVAiHw3LZZZdZL01mffjhh0t1dbW8+uqrUlFRIZdffrmMGzcu2uJjjz0mxx13nMyYMcN6Hz9+vDXiQqdyWrRoUbReawuadFtHUugIkk8//VR0dMX+++8vzz//fLND3njjDatusx1mg/a7vREZei377ruv3H777dZ1ZGYmn/S8pXOyDQEEEEAAAQQQQAABBBBAAAEEEEAAgVQSIGCRSneDviDQTwRc3mLJLZ0vu7Y8J/76L8WbM6bNngcaNpqpoEolr/QoMzIjr826Xd3p9Xpl/fr1snz5cuulIyU02bWOopg3b55oQCK2aMBh3bp18swzz1jH5eXlyTnnnCOTJ0+OVtMk2osXL44LKGjybg0exJbc3FwpKSmx8k/EbtflF154Qfx+f+Lm6LodrNC8GnouzWHRUnn55ZdlzZo1EggEJDZg8cQTT1hBk5aOYRsCCCCAAAIIIIAAAggggAACCCCAAAL9QYCARX+4S/QRgRQUyC7+ujTVrRHfrmXiq/lCvLnjzBRI3riehsNN4q9bZ4IUBZJZcIB5xX/BH1e5G1fGjh0r+jrxxBOTarW0tNQakdFa5YKCgmgCbLvOyJEjRV/JlkMOOSSpqk6ns9m5Yg/U5Nv6SiwHHXRQ4ibWEUAAAQQQQAABBBBAAAEEEEAAAQQQ6FcCBCz61e2iswiklkDhqLOlIXus1Fe8KcHGbRIK1InD6RLzqL9EJGxyVuSLJ2esZBbONq+DU6vz9AYBBBBAAAEEEEAAAQQQQAABBBBAAAEEUkqAgEVK3Q46g0D/EnA43JIzeI6ZEmqCNNV+LkF/hclVsclMneQWd+YIcXsHSUb+dIk4i5muqH/dWnqLAAIIIIAAAggggAACCCCAAAIIIIBArwsQsOh1ck6IQPoJeLJGib5aK5pvgYIAAggggAACCCCAAAIIIIAAAggggAACCLQl4GxrJ/sQQAABBBBAAAEEEEAAAQQQQAABBBBAAAEEEEAAgd4QIGDRG8qcAwEEEEAAAQQQQAABBBBAAAEEEEAAAQQQQAABBNoUIGDRJg87EUg/AYfDQT6J9LutXBECCCCAAAIIIIAAAggggAACCCCAAAL9XoCARb+/hVwAAh0T8Hg8Eg6HhbwSHXOjNgKJAvr/UEZGRuJm1hFAAAEEEEAAAQQQQAABBBBAAAEEOilAwKKTcByGQH8VyMnJsbpeVlbGSIv+ehPpd58LVFRUiN/vl+zs7D7vCx1AAAEEEEAAAQQQQAABBBBAAAEE0kXAnS4XwnUggEByAgUFBVJVVSU1NTXWK7mjulYrEolYDeh0VBQE0kXA5XJJSUlJulwO14EAAggggAACCCCAAAIIIIAAAgj0uQABiz6/BXQAgd4XGDt2rBW08Pl81lPiPd2DhoYGaxoqe3RHT5+P9hHoSQG3221NBVVcXCxOJwMVe9KathFAAAEEEEAAAQQQQAABBBBAYGAJELAYWPebq0UgKlBUVBRd7umFbdu2WTkzRo8e3dOnon0EEEAAAQQQQAABBBBAAAEEEEAAAQQQ6KcCPBraT28c3UYAAQQQQAABBBBAAAEEEEAAAQQQQAABBBBAIJ0ECFik093kWhBAAAEEEEAAAQQQQAABBBBAAAEEEEAAAQQQ6KcCTAnVT28c3UYAAQQQQAABBFJJoK7OJ+vW7ZAdZbukurpedu1qkJoan9TWNkheXpYUFGRbr8LCHBk6pFDGjSuVnJyMVLoE+oIAAggggAACCCCAAAIIINDHAgQs+vgGcHoEEEAAAQQQQKC/CmzdWikffbzeClTs3FljAhUNsqumUerrmqSh0S9ut1PcLqcEg2HzCpkARabk5Hql8KvgRUlJgYwfXyoHHjBBSksL+isD/UYAAQQQQAABBBBAAAEEEOgmAQIW3QRJMwgggAACCCCAwEARqK1tlDf+9ql8+OG/ZcuWKjOSolG8GW4pHZwnE0wAoq0SDkekoqJWvvhim3y2YrN8bAIe7767WmbO3EMOnztVsrMZddGWH/sQQAABBBBAAAEEEEAAgXQWIGCRzneXa0MAAQQQQAABBLpRQEdJvPPOF7L0rZW7R1VU1MvokUVmeqeSpM/idDqkpCTfemnwomxHjSz/ZJNs21Ytn366SWbPmixf//rkpNujIgIIIIAAAggggAACCCCAQPoIELBIn3vJlSCAAAIIIIAAAj0mUF/fJE/95k0TVNho8lTUmDwU+XLA/skHKlrqmAYvhg4rsF4asPjgw3VmxEaFfL5yi5xz9uyWDmEbAggggAACCCCAAAIIIIBAGgsQsEjjm8ulIYAAAggggAAC3SGgSbSfeHKJfPTROgkEQjJj+qjuaDaujWHDCmXIkAJZYaaJqq1bJT6fX047df+4OqwggAACCCCAAAIIIIAAAgiktwABi/S+v1wdAggggAACCCDQJQHNN/Hw/7xu5asoLMyWPfYY2qX22jpYR1xMmzZKVq/eLn9fvMIk6m6SuXPGt3UI+xBAAAEEEEAAAQQQQAABBNJIwJlG18KlIIAAAggggAACCHSjQGOj30wDtVTefW+1DB1aKOPbSajdXafec8+hUlyYKx+bER3Llm0Qvz/YXU3TDgIIIIAAAggggAACCCCAQAoLELBI4ZtD1xBAAAEEEEAAgb4UePqZt02S7VUmX0WBDB9e2KtdGT1mkBQU5sj6DeXyzB/e6tVzczIEEEAAAQQQQAABBBBAAIG+EWBKqL5x56wIIIAAAggggEBKC/z5pQ9l6dKV4nK7ZMyYwX3S11EjB0mTv0YWL14pI0cOliPmTe9UP8LhsLmWpTJ69GgzSiS5Kabq6+vlgw8+ELfbLYceemib592wYYPs3LlT6urqrHqDBw+WcePGSU5OTvS4NWvWmITiW6LriQuz/z97ZwFvR3H24Yl7SIhBSJASQoKT4FIkuBQrFG0JlFCc4t4Utw8oFKfBKdAWt6DF3S1AAgRCIEA8Ic755j/tbOfs3eN6733m97t39+yOPjM79s7M+8tfmpYt/7OW6PnnnzeLFi2KrMifXr16mWWXXTZ6Ft7I388//9y5adeuXWRXccdAAAIQgAAEIAABCEAAAhBoTAQYxTSm3CKuEIAABCAAAQhAoAoExo79zjz++Ltm6rSfzNAhy1YhxMxB9OrV1bz22g/mwQffMoMH9TNLLbV4ZssZ3ixcuNBsttlm5qSTTjLnnXdeBlvpj6+77jpzzDHHuIevvPKKWXfdddMt2F8ffPCBGTZsmPn+++9N165dzWqrrWamTJliPvroIzNw4EDzySefRG7+8pe/mCuvvDL6Hb+ZO3eukbBBZosttrDHYM2PWzHrrLOOuffee+1ul77ROwlV9Lxjx45m6NChLi4KV0KOu+66y2y//faRXW4gAAEIQAACEIAABCAAAQjUOwGOhKr3HCJ+EIAABCAAAQhAoMoEHn/iXfPl+B/NyoP/NzFe5ShEwbVs0cIMWrGvOxpq9OPvRM8rffO3v/3NKgBf1QVz4403JgY3fPhwM2fOHPPCCy+Y6dOnG+2M+PDDD91uhxEjRjRw06NHD5NKpRL/vLDCO9puu+0iexKMnHDCCVZw85pJ8ldCDO0I0S6SMWPGmKefftq5PeCAA7x3XCEAAQhAAAIQgAAEIAABCDQKAggsGkU2EUkIQAACEIAABCBQHQIffvi1effd8abbYh1N+w5tqxNojlC6dG1v2rdvY49oGmeFAZNy2C799ZtvvukEDxIO7Lnnnua2224z2gERGh0z9cYbb7j3G264YfjKHQd17LHHpj0r5cfKK69sLrjgArdrQ0KJ0Ky99tpm5513Dh+53SRHHHGE222hHR8YCEAAAhCAAAQgAAEIQAACjYUAAovGklPEEwIQgAAEIAABCFSBwJNPvW/GfzXZ6kuojd6KTElczsZn/PjJ5vEn3stkpWzP/Y6Kfffd1/z2t791uxe0iyHJfPHFF0mPK/Ksd+/eZubMmXn53aFDB2dPx2FhIAABCEAAAhCAAAQgAAEINBYC6LBoLDmVRzwXLFhgNGieOHGis92lSxfTp08fq6SyXwPXOr5g3rx5DZ7rQbdu3RKf8xACEIAABCAAgaZNQLsX9KfdFW3b1lc3sWPHdqZDxzbm448n2L7OFKvHoXBdFvnm3u2332522mkn1yfadtttnRJrCTH22muvyAspyNbOiieffNLtcNhvv/3MxhtvbCRUSDIt7NFW6qv9+9//bvBa+iekhyKbeeutt4x2fqy++urZrEXvlAb1BTPFJ7LIDQQgAAEIQAACEIAABCAAgToiUF8j0ToC0xij8sc//tEpc1x66aWN/t599123Ck9KH5966qk0wYWUTl5++eWJyZQwo3379onveAgBCEAAAhCAQNMlMM4KK378cZbp2aNzXSayZ4+u9pijGWbcuEkVE1jcfffdZtq0aW5nhYegnRaXXnqpWxQSKry+9dZbzW9+8xtz//33uz/Zl94LPdORUGF/SrorZsyY4Y5r8v76a1xBt55/9tlnZuTIkc6K9GL885//dPc6GiqXOfDAA537m2++OZdV3kMAAhCAAAQgAAEIQAACEKgrAhwJVVfZUVpkfv3rXxutvhs/frxT+qhB8V133WU+/fRTc/TRRzfwXEcFJCl+DAfXDRzxAAIQgAAEIACBJktAgoAfJ880PepUYNGrV2crTPjJjB33XcXyQDsptNt01113jcLQ7gkZf1SUf7Hccss5RdhfffWVefzxx81pp53mhBS6rrfeet6au2qHRdeuXc0zzzzT4E+Cj7iZPHmy242hHRnvvfefY7DOPvtss/XWW8etpv0+7LDDzKhRo8wpp5ySJnRJs8QPCEAAAhCAAAQgAAEIQAACdUqAHRZ1mjHFRGvTTTdt4GyPPfYw55xzjjtCoMFLHkAAAhCAAAQgAIH/Epg9e57dufCd6dqlg2nZqj7XtLRp09q0a9fGLsaYaObPX1j2Y6t0rOZjjz1mBg0aFO1uCAuIBAGnnnpq+Mjd9+/f3+hvyy23NGeddZY5/vjjzcUXX2yeffZZs8kmmzg7WiTSpk0bk9Rfa+ChfSCBx8MPPxy9OuSQQ5xAZJVVVnHHVUUvgptLLrnEXHXVVU5Qof4fBgIQgAAEIAABCEAAAhCAQGMjUJ+j0cZGsY7j+9NPP5kJEyaYnj0bKs7USj+ZF1980XzzzTd1nAqiBgEIQAACEIBApQlMmjTN/PTTfNOlc30fC9mla3sza9Y888MP08uOxB+h1KtXr2h3g3Y46E+6Iz7//HPzwgsv5Ax37733dna8XrGcDvKwcPXVV7vjpnTUVJLRe73bZpttjE9Hkj2eQQACEIAABCAAAQhAAAIQqGcC7LCo59wpMm5vvPGGHcjPMosWLTLnn3++U/Coa9xImOGFFnqnM5d1hNTgwYPjVvkNAQhAAAIQgEATJyBhxYIF2rXQqq5T2tbuslBc58xZUPZ4XnfddWbAgAHmueeea+D3zJkz3ZFOOhZqo402cu+l90tHbMbNuHHj3CMJPoo12pERN9q9sfPOO5sbbrjB/P73v49eX3PNNebQQw81w4YNM48++mj0nBsIQAACEIAABCAAAQhAAAKNjQACi8aWY3nE94ADDjDvv/++s9mxY0d3HMFaa62V5rJLly7moIMOMrvssouZO3euWzl4/fXXm7XXXtu51ZnMmYzORtZxA0lG+jJ07jMGAiEBTfL8/PPPdoLpp/Ax9xCAAAQgUEcEJk2abH6xXAd35FLHjvWxCbeVlZ20b9/CLNHnf/Hp3KmrOw7qm2++NAsXTsuL4Pz585099Y9uueWWBm6WX355q8z7e/Pll1+aI4880owZM6aBHT3YbLPNzJ133ul0g2nRh453Un9qhx12sHo/erhdrU899ZS5/PLLnXCje/fukV9S5D1v3rzE8OX3kCFDTOvW/+maS1gxe/bsyK3ey6y44opmmWWWMWeccUYkNJFwRMdFSRm4lH3H06edIe3atfuPB/yHAAQg0EwIaOwxZcoU217Mt4L4ts0k1SQTAhCAAASKJeDHC8W6x115CSCwKC/PuvBN5ytL4bYG5aNHj3ZCiCuvvNKtvPMRlNLG0EhwoRV7m2++uRsEJyl/9PalwHv33Xf3P931lVdeMSeffLLp16+fWXzxxdPe8QMCmgRauHChm0yBBgQgAAEI1CeBid/OtcqsZ1rhQDczd17D1f21iHW7/84xTZn6sw3+P0dZTp+20EyZOsvqhljMLL300nlFyw9ApBMi1AvhHd90003ms88+cz+1cyGTv1K+LaXZmgQbOnSo00+hfld8J+t2221nzjzzzLRdq507d3Y7YH/3u9/5YNOuOsJTAg4ZCUPat2+fGI+RI0ea4cOHu37e9ttvbz7++GPnRsdPjRgxwt2H/z744INEf0I73EMAAhBoagQksNCJA0suuaTRIj4MBCAAAQhAIBsB6ZrD1A+BFnYFV32MSOuHSZOLiYQQL7/8slup17Ll/1YoJiVUK/e0Cu+9995Lep3xmQb/Wl04efJkBBYZKTXfF99++607mizTBFDzJUPKIQABCNQPgeee+8hcedXjpn+/HkZ6IurBtG/Xwu7cbGG+mySBxX/M1Kmzrf6KmeaIw7e2iqkH+sc1vWoHoYQiGujoiKhc/a2aRpbAIQABCDQDAhJWSBCtBXUSGGMgAAEIQAAC2QisttpqThfchRdemM0a76pEIPvsdZUiQTCVJaBzlnXsk/5yGa3mk/4LDAQgAAEIQAACzYtAp07t7ZFErezEe/l1Q5ST5Pz5C208W9oJqIa6I8oZTiF+afWujsTs1KkTwopCwGEXAhCAAAQgAAEIQAACEIBAjAACixiQpvjTK47MdXbnF1984XZWrLvuuk0RA2mCAAQgAAEIQCALgU6d2jmF2/MXLMpiq/av5s9fZOPZ2gos0MtQ+9wgBhCAAAQgAAEIQAACEIAABMpLAIFFeXnW1Lf11lvP3H///S4Oc+bMMS+++KLTS/Hss8+avffeO1LkqO2xG2ywgXniiSec3alTp5p7773XHemkByeeeKJ7zj8IQAACEIAABJoPgc6d21u9CW3MAisQqGczf8ECF0/FFwMBCEAAAhCAAAQgAAEIQAACTYsASrebUH5K0bYUZ4emV69e5qKLLjLHHXdc9FiKHMeMGWO22mqr6JluBg8ebB544AGzxhprpD3nBwQgAAEIQAACTZ9A796LOUHA5Cmz6zqxs2bNM0v1Xdz07Nm1ruNJ5CAAAQhAAAIQgAAEIAABCECgcAIILApnVrcuPvroI6d/YuHChUZCCemjkALtuJEiyClTppiZM2ca7bZo1aqVs5fryKi4P/yGAAQgAAEIQKDpENAxS6uvvqz5+OOX6zZRixYuMnN+mm/juUzdxpGIQQACEIAABCAAAQhAAAIQgEDxBBBYFM+uLl127tw573h16dIlb7tYhAAEIAABCECg6RMYsPwSpkuX9mbq1Nmme/dOdZfgKXb3R7duHY3iiYEABCAAAQhAAAIQgAAEIACBpkcAHRZNL09JEQQgAAEIQAACECiKwIABfUzfvt3M5CmzinJfaUeKV9++3c2KK/atdFD4DwEIQAACEIAABCAAAQhAAAI1IIDAogbQCRICEIAABCAAAQjUI4ElluhuVlqpvz02cq7R8Uv1ZKQM/Cd7HNQaayxrd4F0qKeoERcIQAACEIAABCAAAQhAAAIQKBMBBBZlAok3EIAABCAAAQhAoCkQGLb5KqZP767my69+rKvkfP7F96Zfv8XN5putUlfxIjIQgAAEIAABCEAAAhCAAAQgUD4CCCzKxxKfIAABCEAAAhCAQKMnMGDAEmbo0F+YyT/OMnPnLqiL9Pw0e56ZNWuu2WCDgWappRavizgRCQhAAAIQgAAEIAABCEAAAhAoPwEEFuVnio8QgAAEIAABCECgURPYasvVjPRZfPzxxLpIx8djJpqBA5cw2v2BgQAEIAABCEAAAhCAAAQgAIGmSwCBRdPNW1IGAQhAAAIQgAAEiiKw7LK9zbBhq5pOndqZceO+L8qPcjn64ceZpnv3Tma77YYY6djAQAACEIAABCAAAQhAAAIQgEDTJYDAounmLSmDAAQgAAEIQAACRRP41Y5rWaHFKuaHH2eYH36YUbQ/pThUuAsXLDJbbrkquitKAYlbCEAAAhCAAAQgAAEIQAACjYQAAotGklFEEwIQgAAEIAABCFSbwD57b2QFBSubL7+cbGbOmFvV4KdNm20mTZpmlluul9lj9/WrGjaBQQACEIAABCAAAQhAAAIQgEBtCCCwqA13QoUABCAAAQhAAAJ1T6BduzbmgOGbmfXXH2A+HvON+X7S9KrE+duJU81nYyeZoWstb1ZffTnTpk3rqoRLIBCAAAQgAAEIQAACEIAABCBQWwKM/mrLn9AhAAEIQAACEIBAXRPo0aOLOfqo7U2XLh3Nk0++Z2b/NM/ueuhdsThLUDFr5hyzw/ZDzK67DDFTpvxQsbDwGAIQgAAEIAABCEAAAhCAAATqiwA7LOorP4gNBCAAAQhAAAIQqDsCUr596CFbmv3229gs+jll3nzrSzNjxpyyxlNHQL3++uemVasWZrjd1fGHg7c07du3KWsYeAYBCEAAAhCAAAQgAAEIQAAC9U2AHRb1nT/EDgIQgAAEIAABCNQFgdatW5ndf72+WXml/uaee181b739pWljn/3iF72sYKFt0XGcM2e+GTvue2NSKbPxxoPMLjuvbQYO7Fu0fziEAAQgAAEIQAACEIAABCAAgcZLAIFF4807Yg4BCEAAAhCAAASqTmCllfoZ/b344hgz+vF3rULuH8ycuQtM507tTfduHc1i9i+XmTp1tplqd1T89NN807FjW7PqKv3MNluvYdZdd4VcTnkPAQhAAAIQgAAEIAABCEAAAk2YAAKLJpy5JA0CEIAABCAAAQhUisCGGw4ya689wHz66bdWIfcE8/LLn5off5xpPrcCjAULfjY///yzad26pWndqqVZuPBn+7fIHvfUyirQbmm6dO1gluizmFlvvYFmpcFLmQEDlrB2W1UqqvgLAQhAAAIQgAAEIAABCEAAAo2EAAKLRpJRRBMCEIAABCAAAQjUG4G2bVubVVbp7/50XNSYMd+YrydMNtJHIR0X33473SrNnmF69uxqllhiMdO1a0fTrVsns3T/Hhz7VG+ZSXwgAAEIQAACEIAABCAAAQjUAQEEFnWQCUQBAhCAAAQgAAEINAUCgwYtZfSHgQAEIAABCEAAAhCAAAQgAAEIFEOgZTGOcAMBCEAAAhCAAAQgAAEIQAACEIAABCAAAQhAAAIQgAAEykkAgUU5aeIXBCAAAQhAAAIQgAAEIAABCEAAAhCAAAQgAAEIQAACRRFAYFEUNhxBAAIQgAAEIAABCEAAAhCAAAQgAAEIQAACEIAABCBQTgIILMpJE78gAAEIQAACEIAABCAAAQhAAAIQgAAEIAABCEAAAhAoigACi6Kw4QgCEIAABCAAAQhAAAIQgAAEIAABCEAAAhCAAAQgAIFyEkBgUU6a+AUBCEAAAhCAAAQgAAEIQAACEIAABCAAAQhAAAIQgEBRBBBYFIUNRxCAAAQgAAEIQAACEIAABCAAAQhAAAIQgAAEIAABCJSTAAKLctLELwhAAAIQgAAEIAABCEAAAhCAAAQgAAEIQAACEIAABIoigMCiKGw4ggAEIAABCEAAAhCAAAQgAAEIQAACEIAABCAAAQhAoJwEEFiUkyZ+QQACEIAABCAAAQhAAAIQgAAEIAABCEAAAhCAAAQgUBSB1kW5whEEYgRmzJjhnrzwwguma9eusbf8bO4EJk+ebBYuXGg+//zz5o6C9EMAAhCAQAEEZs+ebdSGfPvtt6ZFixYFuMQqBCAAAQg0ZwI///yzmTBhgvniiy9Mhw4dmjMK0g4BCEAAAnkQmDVrlpk2bVoeNrFSDQIILKpBuRmE8cknn7hU7rTTTs0gtSQRAhCAAAQgAAEIQAACEIAABCAAAQhAAAIQaCoE3nnnnaaSlEafDgQWjT4L6yMB++yzj+nWrZtZY401iorQDjvsYG677TbnR1EelODo3XffNdddd5258sorS/AlP6d33323+e6778yRRx6Zn4MCbL333nvmmmuuMVdddVUBrrJbVTz3339/M2TIkOwWc7y98MIL3erYSy+9NIdNXjdWAtttt52588472WEVy8A77rjDrdI49NBDY28a10/l7Y8//mgOP/zwuov4yJEjzUYbbWS22GKLmsRtq622Mvfdd5/p2LFjRcPXDjWl9ZZbbqlIOFtvvbW55557TKdOncriv+I5d+5cM2LEiJL8e/rpp81ZZ51lnnjiCdO6Nd3WkmDWqeMzzjjDbLrppmbzzTev0xjWJlqffvqpOf/8882oUaNqE4EyhTpu3Dhz5plnmptvvrlMPpbPm4ceesh88MEH5qSTTiqfpwX4dMopp5htttnG/PKXvyzAVXFWd9ttNzdG6NOnT3EeZHF12mmnuTZY33E5zMcff2wuueQSc/3115fknU4A0GK6c88916y//vol+YXj+iTwwAMPmDFjxpgTTjihPiNYw1jtvPPO5oYbbjA9e/asYSxKD3rXXXd1cxy9e/cu3bMy+jBp0iSj8d2//vWvMvqav1fqs3/55ZfmmGOOyd9RkTbVF1lllVWM5uzKbTSGGjt2rDnuuOPK5nUpc4uqTwYOHFi2uOBRaQQY+ZXGD9f/JbDCCiuYo48+umgemoTYcMMNTa9evYr2o1iHOmJiscUWc4PlYv3I192bb77pJlzK1aEPw23VqpWbLC6n3xJCrb766iWzufXWW93EVTnjFqad+9oTUPnTpPHiiy9e+8jUUQxeeeUV88MPP5T8DdU6Sa+//rpp3759XaZDA5jBgwfXLG4tW7Y0G2+8senSpUtFs6lHjx5OKLJpmSaE4pH137Daw3KY559/3ug4p1LjKyG/zCabbGLatGlTjqjhR50RUN9vpZVWKrms1FmySo6OjliVALHUb6jkiJToQffu3es2HZ999pkTxteKsSYSV1555arkcbt27cx6661nlllmmRJztKHzcqdDxzepTS01X6ZMmeIiu+qqq5bsV8NU86QeCGhycfr06eRvQmaoz7TBBhuYvn37JrxtPI/atm3rBI79+/evq0iPHz/eqF4ttZ4qNlHvv/++mT9/flXCv+mmm8yKK65YkbA+/PDDsowXQo6lzC3WKj/D+HP/PwIt/3fLHQQgAAEIQAACEIAABCAAAQhAAAIQgAAEIAABCEAAAhCoDYEWKWtqEzShQgACzYXAgQce6BTe6WgPDAQgAAEIQCBfAjqObK+99nKryNhhkS817EEAAhCAgHZYaHfigw8+WJGjTCAMAQhAAAIQgEDlCLDDonJs8RkCEIAABCAAAQhAAAIQgAAEIAABCEAAAhCAAAQgAIE8CbSyChxH5mkXaxCAAASKJjBo0KCilbIXHSgOIQABCECg0ROQnpJhw4Y1+nSQAAhAAAIQqC4BnWWuM8m10wIDAQhAAAIQgEDjIcCRUI0nr4gpBCAAAQhAAAIQgAAEIAABCEAAAhCAAAQgAAEIQKDJEuBIqCabtSQMAhCAAAQgAAEIQAACEIAABCAAAQhAAAIQgAAEINB4CCCwaDx5RUwhAAEIQAACEIAABCAAAQhAAAIQgAAEIAABCEAAAk2WQOsmmzISBgEINCoC06ZNMx988IHp0KGDGThwoOnSpUujij+RhQAEIACB2hD44YcfzLfffmtmzJhhll56afdXm5gQKgQgAAEINFYCr7/+uov62muv3ViTQLwhAAEIQAACTYYAOyyaTFaSEAg0XgKvvvqqGTJkiHnooYfM3Xffbfr162fuv//+xpsgYg4BCEAAAlUjsPzyy5uLLrrIPPnkk2bHHXc0v/nNb6oWNgFBAAIQgEDjJ6Bxx3bbbWcOPPDAxp8YUgABCEAAAhBoAgRQut0EMpEkQKCxE5g1a5bp3LlzlIzLLrvM3Hjjjebdd9+NnnEDAQhAAAIQyEXg+++/N3369DETJkwwSy21VC7rvIcABCAAgWZOYPr06Ua7Ko488khz/fXXM/5o5uWB5EMAAhCAQH0Q4Eio+sgHYgGBRkdg/Pjx5uuvvzYLFy40a665pllsscUypuEf//iHefHFF937zTbbzOy0005pdkNhhV4MGDDAzJs3L80OPyAAAQhAoGkQkFDhyy+/ND/99JNZZpllzHLLLZcxYa+88opRG7Jo0SJ31NNBBx2U9cjANm3auKMFdbwgBgIQgAAEmg6B+fPnm++++86oDdFiJx0fO3To0IwJ1DjlhhtuMBJIdOrUyYwYMcK1OXEHRxxxhDnxxBNNx44d46/4DQEIQAACEIBAjQhwJFSNwBMsBBorgbFjx7rJoGWXXdZsvPHGRgKI999/PzE5c+fONRtssIHZY489zCOPPGIefPBBs/POO5ttt9020b4eys2ZZ57pBhUZLfECAhCAAAQaHQEJuHv16uV2QKy77rqu/bjpppsypuPUU08166+/vttx9+yzz5pjjz3WDBo0yO2eiDs64YQTzKabbmpWX311t0J28cUXj1vhNwQgAAEINGICW265pRM4aDeExh+HHnpoxtTccsstTsj96KOPGgmyn3/+eaOxy3XXXZfm5uGHHzafffYZR0GlUeEHBCAAAQhAoPYEEFjUPg+IAQQaFYHWrVubY445xjz++OPmggsuyBr3K664wrz88svmL3/5i/n000/NuHHjnJvHHnvMXHXVVQ3cSlghYUaPHj1cGA0s8AACEIAABBo1AQmwpavoueeec+lo0aJFYno+/PBDc+6557o2YcqUKebtt982r732mpk4caI5/PDDG7jZd999zciRI82ee+5pTjvtNDNnzpwGdngAAQhAAAKNl4B2QjzxxBNOaL300ktnTMiMGTPMIYcc4hZNqd2QjiO1OVtvvbU5+OCDzY8//ujcSoiuXRc333xzRr94AQEIQAACEIBAbQigw6I23AkVAk2CwOWXX26OOuoot2ppo402apAmP5j46quv0t717dvX9OzZ07z33ntpz6XsToOIZ555xm3dTnvJDwhAAAIQaDIExowZYwYPHmxOP/10t6sunjBNKmklrNqP/v37R6+lEHXUqFFGE1I6DiTJaPXttddea4YMGZL0mmcQgAAEINDICWiMseSSS5pXX321QUruu+8+s8suu5h77rnHXb2Fp556ymyxxRauDRk+fLgbc6ywwgpuZ57s6KgptTlrrbWWG4tkEqh7/7hCAAIQgAAEIFA5AuywqBxbfIZAsyags8l1duxuu+3WgMP222/vjpFasGBB9G6bbbZx59KOHj0aYUVEhRsIQAACzZPA008/bVZaaaU0YYVIqK2Q0REe2czPP/+c7TXvIAABCECgiRL46KOPXMp0bFRohg0b5n76o2ylf+/ee+91u/O0Q09jlj59+rjfCCtCctxDAAIQgAAEqk8ApdvVZ06IEGgWBGbPnu3S2a9fvwbp9atlZadbt25uh4YEFdrqreOjZFq1auVW3jZwzAMIQAACEGjyBKQvSeeVx41vUyZPnuxezZw50x3pseKKK7rf77zzjvniiy/MwIED4075DQEIQAACzYCAdkrIaIwRN927dzeTJk1yj6XbQrqPvPn2229N586d0575d1whAAEIQAACEKguAQQW1eVNaBBoNgQWLVrk0pppsKCXOjtWRqtodQxUaFq2ZANYyIN7CEAAAs2NQFL7IR1HMl5HRadOnZziVd/mSMhx++23s1OvuRUW0gsBCEDgvwQ0vkhqP/Rauyr8oqo4MO2w2GGHHeKP+Q0BCEAAAhCAQA0IILCoAXSChEBzIOAFDjoaKm7mz5/vHvnt1pqAClc4xe3zGwIQgAAEmh8BL5QIUz5v3jz3U7vwZNTWbLzxxu6efxCAAAQgAIF27dqZadOmJYLQrrz27dsnvmvbtq3RHwYCEIAABCAAgdoTYAlz7fOAGECgSRLwHf4pU6Y0SJ8Ua8toQIGBAAQgAAEIxAksvvjiZurUqfHHxh8FpWM7MBCAAAQgAIE4gV69erlHmdqQJZZYIu6E3xCAAAQgAAEI1BkBBBZ1liFEBwJNhUCXLl1cUt56660GSXrjjTdMhw4d3DmxDV7yAAIQgAAEmj2BlVde2XjFqCGM119/3f3s27dv+Jh7CEAAAhCAgCOwwgoruOurr76aRuSll15yv1dZZZW05/yAAAQgAAEIQKD+CCCwqL88IUYQaBIEdFzHhhtuaB544AHz9ddfR2kaP368efLJJxOVqUaWuIEABCAAgWZNYIsttjAzZswwd9xxRxqH2267zXTt2tX4Cam0l/yAAAQgAIFmT2Ddddd1DOLtx5133umeq33BQAACEIAABCBQ3wTQYVHf+UPsIFB3BKST4sILL3Tx8iuXRo0a5YQQElKcfvrpUZwvvvhis/7665sdd9zR3HDDDUa6Kw466CD3/uyzz47scQMBCEAAAs2DgNqFWbNmGX804LPPPmtGjhzpEn/iiSe63Xf6ccwxx5gbb7zRjBgxwqhtWW+99cxxxx1n3nvvPXPFFVc4+/yDAAQgAIHmQ2D06NHm5ZdfdgmePn26WbRoUdR+7LvvvmbAgAHuXb9+/Vzbcd1115nevXubTTbZxGh3ntqOvffe2yy77LLNBxophQAEIAABCDRSAi1S1jTSuBNtCECgBgR0fnjPnj0TQ9ak0sKFC9PePfLII+aoo44yY8eOdc+1Dfvyyy83m222WZo9fkAAAhCAQNMnsOSSS5rvvvsuMaHSedS9e/fondqNAw880Dz33HPumdoeCS0k2MBAAAIQgEDzInD//febZ555JjHRBx98sBk8eHDaOy2Ouvbaa82ECROM2h4JwL2APM0iPyAAAQhAAAIQqDsCCCzqLkuIEASaJoE5c+aYli1bomi7aWYvqYIABCBQMQIShM+bN8906tSpYmHgMQQgAAEIQAACEIAABCAAAQjUBwEEFvWRD8QCAhCAAAQgAAEIQAACEIAABCAAAQhAAAIQgAAEINCsCaB0u1lnP4mHAAQgAAEIQAACEIAABCAAAQhAAAIQgAAEIAABCNQHAQQW9ZEPxAICEIAABCAAAQhAAAIQgAAEIAABCEAAAhCAAAQg0KwJILBo1tlP4iEAAQhAAAIQgAAEIAABCEAAAhCAAAQgAAEIQAAC9UEAgUV95AOxgAAEIAABCEAAAhCAAAQgAAEIQAACEIAABCAAAQg0awIILJp19pN4CEAAAhCAAAQgAAEIQAACEIAABCAAAQhAAAIQgEB9EEBgUR/5QCwgAAEIQAACEIAABCAAAQhAAAIQgAAEIAABCEAAAs2aAAKLZp39JB4CEIAABCAAAQhAAAIQgAAEIAABCEAAAhCAAAQgUB8EEFjURz4QCwhAAAIQgAAEIAABCEAAAhCAAAQgAAEIQAACEIBAsyaAwKJZZz+JhwAEIAABCEAAAhCAAAQgAAEIQAACEIAABCAAAQjUBwEEFvWRD8QCAhCAAAQgAAEIQAACEIAABCAAAQhAAAIQgAAEINCsCbRu1qkn8RCAAAQgAAEIQAACzZLA9OnTzf3332++/PJLM2XKFNOnTx+z7rrrmiFDhphu3brVPZMVVljBjBgxwhx//PF5xXWvvfYyixYtMnfffXde9puSpR122MGsv/765tRTT21KyarbtOyyyy6mU6dO5rbbbqvbOBIxCEAAAhCAAAQgAIH6JYDAon7zhphBAAIQgAAEIAABCFSAwMsvv2y22morM2vWLNO1a1ez2mqrOaHFKaecYgYOHGg++eSTCoRaOy/ffvttc+edd5p33nmndpEg5GZDQEK0DTfc0Jx44olm1VVXbTbpJqEQgAAEIAABCEAAAuUhgMCiPBzxBQIQgAAEIAABCECgkRDYddddXUxfeOEFN7Hqo/3FF1+YV1991f9sMtezzjrLpXP11VdvMmkiIfVLYIMNNnCCivPPP9/cfvvt9RtRYgYBCEAAAhCAAAQgUJcEEFjUZbYQKQhAAAIQgAAEIACBShBYuHCh+e6779xxSloFHprlllvO6C803377rWndurU74ubdd9818+bNM23btjWa/NexN3Ezf/588+GHHxodOaX3ffv2NUsttVTcmvs9ceJEM3bsWNOiRQvTvXt3M2DAANO+ffsGdmXnmWeeMd98841Zdtllzf77729SqVQDe0kPdNzVvffea66//vqk12bOnDnm/fffNz/99JPp3Lmz6devn1liiSUiu3qvNOudOIRm2rRpplWrVqZLly7u8dy5c93ulKlTp5qWLVuaxRZbzCyzzDINjthSHkyYMMGxmTRpkhk3bpzp2LGj293ij+OSXzquS3794he/cEd2hWHrueLWu3dvo3yZOXOmi8sqq6ziWIZ2M92HaVcalHYdDRY3ysvx48e7uIj7kksuaVZcccW4tbTfOn7r66+/dnaVxs8//9y9l/+DBw9Os+t/yN6nn37q8lblYfnll3dc/HtdFQ/FtU2bNuaDDz5weaNjzLRTKJOZPXu2kTBOZeHnn382PXr0cHGI56f8FnPlXa9evVz4CidulDcKWzuUZFQ29D2Edg877DDzhz/8wVx99dVZ4xb3m98QgAAEIAABCEAAAhBQhxgDAQhAAAIQgAAEIACBZkHATthqpj+15ZZb5pXetdZay9m1k9QpO4mcWmONNZx7K4hI2UnbND/eeOONVP/+/d17O3GespPT7v64445Ls6cfhx56qHtnhRophaE4WWFEygo70uz+61//SnXo0MG9txPTKSvQSA0bNixlBSupCy+8MM1u0o9//vOfzq0VCjR4/eyzz6bsxLR7b4/FSi2++OLu/rzzzovsWmFJyk5Ip7bZZpvomW7srg1n97777oue77HHHu6Z0rP22mu7e6Xrqquuiuzoxk6Ku3d2Qttd7WR3ygos3P0DDzyQsrtcUnYCPmWPE0rZyXn3/JZbbknz46STTkqtvPLKLj/EcOjQoc6e4vrEE0+k2d1+++1TZ599dtqzp556KmUn7p0b5alP+0UXXZRmb+TIkc6O/N9kk03cnxWSpMJ0pzn47w8rrHDuhg8f7q5KS8+ePd397373uwZO7PFJ7p3y2qdFZU5lKjRWmJCyO4RSVrDj4vzLX/4yZY/6Cq2k3VuBgfNX+evjbwUzqUsvvTSyZwU3qd13393ZE/c111zT3asMWyFGZE83VnAWlWulye6mcHZHjRqVZs8KXtxz5ScGAhCAAAQgAAEIQAAChRBAYFEILexCAAIQgAAEIAABCDR6Avvss4+bTN1pp51SmtDXJOzkyZMT0+WFCeEk81tvveUmjNdZZ53IjV11ntIE80orrZSyOjCi53/7299cWA8++GD0TJPimsgPJ9Ht6vqUBBL688auYHcT9pps9vGzq+SdHbnPR2ChiX1NxseN/NPkvgQLdvV99FrCCvkdTpRr0jkMT7z0+8gjj4zc6ebJJ59M2V0g0TO7sj91xBFHOLs+/nqp8OTe7iCIwrY7JlKaILe7O1JK75gxY5w/dueES6+eh0bpkh+ahBcnma+++ipld2M4IYzdFRJZjwssfvjhB5d2q4jbufEWzzzzTOen3bHhHtndMu53mE/ert1d4m8Tr15gIQHEiy++GNnxPKxOkeiZ3f3iwrG6H6Jn4qG0WeXqop9dkQAAQABJREFU0TPdSGChdCcJwdIs/veHBFwSjsXN999/Hz364x//6Py89tpro2cScCl/dtxxx+iZ3EiApOcff/xx9NzuWIryK3pobyT8OOOMM8JH3EMAAhCAAAQgAAEIQCAnAQQWORFhAQIQgAAEIAABCECgKRHQivJjjz02WtWvCWD9bbfddpFgwKfXCywkKAjNqaee6txoslbmsccec7+1OyBu1ltvvZRV8h091q6G8Ld/8cgjjzg/NNkt89BDD7nfeh4a7YxQfPMRWOy2225OABC61/1NN93k/NBK+LjRhLR2P4TmhBNOcPbvuusuJxDQLoB8jD1Sy7l78803I+teYKGJ+tD85S9/cXYvu+yy8HHqhhtucM8lAPHGCyzscVb+kbveeuutzu4rr7wSPY8LLLyAQAKOuLFHWEWCGAlLxPmKK66IW8v52wssDj/88DS7KnsSIG288cbRc3sUWCoUfvkXSoPC/+ijj/wjJ7Cwx1FFv7Pd2KO3nHurTD6jNW/HHjPWwI7nPmPGDPfummuucf6FwrcGjoIH2gGz1157BU+4hQAEIAABCEAAAhCAQG4C6QfR2h4xBgIQgAAEIAABCEAAAk2ZgPREXHzxxe7PHg3k9EOMHj3aWMGA2XTTTc17770XJV/6JTbbbLMGehG23nprc8455zi9BtJLYCfhnRu7G8H5E3lgb6TXwq5Id48WLFhg7Ap/I70C9rih0Jp7pgd2JbvTpyCdBjLbbrutu/p/9hggY1fu+59Zr9L1IJ0HcfPZZ5+5R0lKkdu1axfF17u74IILzPPPP29+85vfOP/szhT/Ku16ySWXGCs0cLoYpBfDG8XDGzGViSsBl74PGbvDwl39P68DRLoTpOtCxg5znH4I6awIjfJFRnpKMhnpiZCxu18aWFHa7e4O91y6GewxXcbuijAPP/yw2XnnnY3dneN0NjRwGHvg0+jj41+r7Kk82V0X7pHSIR0lVgDUoDxI14eM0hLqvbDCDvc81z/pF7E7aMy5555rXn75ZfOrX/3K2J1CaWXZ66FQGPHyKJ0pMr4MiZvK3Q477JAraPdeOkzszpq87GIJAhCAAAQgAAEIQAACngACC0+CKwQgAAEIQAACEIBAsyNg9UEY/dljf4w9Zsf83//9n5uY95PCmlCWAuS4savk3SNNostIECHzwgsvuGv4TwIDb1/+yUiZ97///W93H/6zxwBFyq2lFDpJ2CD7Xjl16DbpXsqYrc6IBq+kSFsmKQ5SuCxF13GjCXwZTa5rIj9u7BFbzj+xtPoN3Guld/PNN3dCG2/fM9DkfWi80ua4MEYT73HjFZXHnyvuMqGwJG5HaVfYSWmXQu0wbS+99JKx+h6cXSmR1t/vf/97J+zShHwm49OYZEdlwQtUvD0JsZLio/IgIUpo8s17uZEgzu5YcUI5e/ST0d+ee+5pJFhSWqWEW0ZlROUtbhS+lHDLSPAmhd35GilClyJzDAQgAAEIQAACEIAABAohgMCiEFrYhQAEIAABCEAAAhBosgTs8TVOYCFhQmj8SvPwmVVG7H76CWkJBmTuueeeSDjhHsT++cl37Zr461//Gnub/lOT75r0tUfyGO+/txGPo38ev2pS2uqjiD82Pt5Jk+QNLNsHEuRYZdZut4E9IslNgh999NGRVXtkltHuEntklLHKt6Pn9mik6L7cN0n58vnnn7tgvOAiKUxN+EvQlE/axc8eveW80c4Xe0yXOfDAA4121Ugwk8skxVHCgUGDBjmnXhggAdltt92Wy7uC30vY9uc//9n9KY+Uh4q/hA9WobvxQqL99tvP2KOjsvovphMmTHDs4sKmJIfiZY8+S3rFMwhAAAIQgAAEIAABCGQk8J/lMhlf8wICEIAABCAAAQhAAAJNi0DSSnKl0E929+zZMy3BVi9FdOSTf/GPf/zD3Vpl0O5qlW27qz3331tJvEpgoaOQrB6AnMfl+GOANLEcmr///e/hz6z3Ol5Jk8yaPA7Nmmuu6X6OGjUqfJx4//bbb7vdJzpO6PLLL3er9LVS//XXX4/se6b+WCf/4uabb/a3Zb9Onz7dPP7442n++nyxeh7Snoc/rGJz9/OWW24JH+e87927tznggAPMuuuua6xeiZz2ZUECnNAoHyQ00M4Fb3SvdFRSuKOwtLNDR3pJiGAVi7vgtWtG6VI8dUxZNmOVlLvX+ZQZpVNHmvmdNtn85R0EIAABCEAAAhCAAARCAggsQhrcQwACEIAABCAAAQg0aQLSC6Ajf3S0z9133+1W2WulvXRaaDJaq+81IR0arbK3yqvNO++8Y6ZNm2ascmhjlVabP/3pT5EuCekKkG6CE0880ekK8BPpEhZoR4LseqPjeKzCZyMhh/QLTJw40b16+umnjVa6KwwZTfbKTwkHpF9Duy10xI/C8DsknMUs/6zScPdWOgxCYxVRO8GJVttrEvu5555zr6WLQ/G78sor3W9NYivtyy23XPRM76U7YpdddnFxkkV/bJbSKUGGVvPLD6vg2vlTiX86nkjxt0rIXTw06a7dBNrh0b9//4xB6ugqsZUARrtqfNolsLrooouMVS7t3Er/gth7dtpVI10eEmD5HRIZA/nvC7lVHovHhx9+aHbddVfTqVMnc/rpp0dOtYNDR0KtscYaTo+EyoaMjhcbMWJEVD4iB3neaBfJwQcfHKVPQgSl7d57700TJOjIKOltsUqyXVn1+kZU5pTH3my55ZYujscff7y59tprIyGYhETx3SpeR4cXDnk/uEIAAhCAAAQgAAEIQCAnAXtuKgYCEIAABCAAAQhAAALNgsCiRYtSu+++e8oe6SNlEml/diI7ZZVjp3GwE/6pvffeO3Xeeeel7LFMzr6dcE6deeaZafb0w07up+wEc5qfCsNOBKfsToM0+08++WRqmWWWSbNrFUqnrGLklN2tENm1uhhSw4cPj+zJzaOPPppafvnlU3aiO7KX7cYKG1K//e1vG1ixE9Mpq0Q68tvzsBPnKTtZ7exbIY57/9Zbb6W5/+STT1L2WKCUmHljJ8NTVudG5N8666yTev/9991v75/sWqGIe2Ynyb1Td73vvvvcczvJn/bcCn/ccytAiJ6fdNJJKTsZnrrzzjtTdleHe6/4H3LIIZEdf2OFMyl7fJP/6a5Ku9XlELkL026FQpEd5Yl/56/777+/y+s0D2M/7G4J505psjpSIj/szpaU3d0Qs51K2Qn+1MCBAyN7Pix7dFjK7iSJ7NsjpFJW10r0O9uN1dURlVnvn65WAJX68ccf05xaJeoNvgmVdyv8SbNnjyJLS4/8s7uMXPxDi1YQ5NITPuMeAhCAAAQgAAEIQAAC+RBoIUu2o4mBAAQgAAEIQAACEIBAsyIgxcw6y1/n+EvRs9cnEELQzgk7kWxuv/1291i7LLQSPpuRn/Jb/mo1fTajXRNSfCzl2knhe7faGSJl0bn88/bDq3YNSN+C9F7YCfjwlbuXvzrSScqd4wqvG1jO44HSJB0HXj9CHk4KtnLyySe7Y5TefPNN5/aDDz5wO2e8YvB8PfRpV3yz6WWQPeVBvvy1s0a7PLTbRLtctMNCOzZWWGGFrFETOytUc+XB6zvJ6iDPl4q78jiTEnfvjfSlaHiYawePdt5I0bz8i8dTO4S040Y7iw4//HDvNVcIQAACEIAABCAAAQjkRYAjofLChCUIQAACEIAABCAAgaZGQJP3OgJKk9CZhAUtWrRIS3YuYYUst23bNvI3zXHCD034anI4U/jeSevWrfOeLPdu/FVH+OhYKynOTjISVIhDOYQV8l9pqqSwQmHE11zpiKpChRXyx6c9m7DC28tXWCH78XIj/RG5hBVyJ3bKi7gQQO9KMSo/8juXkXL3XMIK+SEWmeIpAZnyA2FFLtq8hwAEIAABCEAAAhBIItA66SHPIAABCEAAAhCAAAQgAIGmQ0BKlrXzAwOBShOwx3WZM844o9LB4D8EIAABCEAAAhCAQBMlwJFQTTRjSRYEIAABCEAAAhCAQOkEdOSQdh5IQTamfghIQbaOWfJKxesnZv+JiY6QksLtoUOH5rWzod7iT3wgAAEIQAACEIAABCBQKwIILGpFnnAhAAEIQAACEIAABCAAAQhAAAIQgAAEIAABCEAAAhCICKDDIkLBDQQgAAEIQAACEIAABCAAAQhAAAIQgAAEIAABCEAAArUigMCiVuQJFwIQgAAEIAABCEAAAhCAAAQgAAEIQAACEIAABCAAgYgAAosIBTcQgAAEIAABCEAAAhCAAAQgAAEIQAACEIAABCAAAQjUigACi1qRJ1wIQAACEIAABCAAAQhAAAIQgAAEIAABCEAAAhCAAAQiAggsIhTcQAACEIAABCAAAQhAAAIQgAAEIAABCEAAAhCAAAQgUCsCCCxqRZ5wIQABCEAAAhCAAAQgAAEIQAACEIAABCAAAQhAAAIQiAggsIhQcAMBCEAAAhCAAAQgAAEIQAACEIAABCAAAQhAAAIQgECtCCCwqBV5woUABCAAAQhAAAIQgAAEIAABCEAAAhCAAAQgAAEIQCAigMAiQsENBCAAAQhAAAIQgAAEIAABCEAAAhCAAAQgAAEIQAACtSKAwKJW5AkXAhCAAAQgAAEIQAACEIAABCAAAQhAAAIQgAAEIACBiAACiwgFNxCAAAQgAAEIQAACEIAABCAAAQhAAAIQgAAEIAABCNSKAAKLWpEnXAhAAAIQgAAEIAABCEAAAhCAAAQgAAEIQAACEIAABCICCCwiFNxAAAIQgAAEIAABCEAAAhCAAAQgAAEIQAACEIAABCBQKwIILGpFnnAhAAEIQAACEIAABCAAAQhAAAIQgAAEIAABCEAAAhCICCCwiFBwAwEIQAACEIAABCAAAQhAAAIQgAAEIAABCEAAAhCAQK0IILCoFXnChQAEIAABCEAAAhCAAAQgAAEIQAACEIAABCAAAQhAICKAwCJCwQ0EIAABCEAAAhCAAAQgAAEIQAACEIAABCAAAQhAAAK1IoDAolbkCRcCEIAABCAAAQhAAAIQgAAEIAABCEAAAhCAAAQgAIGIAAKLCAU3EIAABCAAAQhAAAIQgAAEIAABCEAAAhCAAAQgAAEI1IoAAotakSdcCEAAAhCAAAQgAAEIQAACEIAABCAAAQhAAAIQgAAEIgIILCIU3EAAAhCAAAQgAAEIQAACEIAABCAAAQhAAAIQgAAEIFArAggsakWecCEAAQhAAAIQgAAEIAABCEAAAhCAAAQgAAEIQAACEIgIILCIUHADAQhAAAIQgAAEIAABCEAAAhCAAAQgAAEIQAACEIBArQggsKgVecKFAAQgAAEIQAACEIAABCAAAQhAAAIQgAAEIAABCEAgIoDAIkLBDQQgAAEIQAACEIAABCAAAQhAAAIQgAAEIAABCEAAArUigMCiVuQJFwIQgAAEIAABCEAAAhCAAAQgAAEIQAACEIAABCAAgYgAAosIBTcQgAAEIAABCEAAAhCAAAQgAAEIQAACEIAABCAAAQjUigACi1qRJ1wIQAACEIAABCAAAQhAAAIQgAAEIAABCEAAAhCAAAQiAggsIhTcQAACEIAABCAAAQhAAAIQgAAEIAABCEAAAhCAAAQgUCsCCCxqRZ5wIQABCEAAAhCAAAQgAAEIQAACEIAABCAAAQhAAAIQiAggsIhQcAMBCEAAAhCAAAQgAAEIQAACEIAABCAAAQhAAAIQgECtCCCwqBV5woUABCAAAQhAAAIQgAAEIAABCEAAAhCAAAQgAAEIQCAigMAiQsENBCAAAQhAAAIQgAAEIAABCEAAAhCAAAQgAAEIQAACtSKAwKJW5AkXAhCAAAQgAAEIQAACEIAABCAAAQhAAAIQgAAEIACBiAACiwgFNxCAAAQgAAEIQAACEIAABCAAAQhAAAIQgAAEIAABCNSKAAKLWpEnXAhAAAIQgAAEIAABCEAAAhCAAAQgAAEIQAACEIAABCICCCwiFNxAAAIQgAAEIAABCEAAAhCAAAQgAAEIQAACEIAABCBQKwIILGpFnnAhAAEIQAACEIAABCAAAQhAAAIQgAAEIAABCEAAAhCICCCwiFBwAwEIQAACEIAABCAAAQhAAAIQgAAEIAABCEAAAhCAQK0IILCoFXnChQAEIAABCEAAAhCAAAQgAAEIQAACEIAABCAAAQhAICKAwCJCwQ0EIAABCEAAAhCAAAQgAAEIQAACEIAABCAAAQhAAAK1IoDAolbkCRcCEIAABCAAAQhAAAIQgAAEIAABCEAAAhCAAAQgAIGIAAKLCAU3EIAABCAAAQhAAAIQgAAEIAABCEAAAhCAAAQgAAEI1IoAAotakSdcCEAAAhCAAAQgAAEIQAACEIAABCAAAQhAAAIQgAAEIgIILCIU3EAAAhCAAAQgAAEIQAACEIAABCAAAQhAAAIQgAAEIFArAggsakWecCEAAQhAAAIQgAAEIAABCEAAAhCAAAQgAAEIQAACEIgItBppTfSLm5oReP31181NN91kWrdubfr371+zeDSFgMeOHWueeuop065dO7P44os3hSRVPQ1Tp041zz//vLnjjjvMs88+a7777jszYMAAVz6rHhkChEAdEZgyZYr517/+ZcaNG2cGDx5cRzGrblTmzZtnnnjiCfPQQw+Z9ddfv7qB29BoM/+HfNGiRebjjz82Dz/8sLnrrrvcfadOnUzv3r3/Z6kZ3n3++efmlltuMR07djR9+vRpsgRSqZR54403zN/+9jczZMgQ1/dpiomdOHGiue2228yCBQvqqp9cSjnLVo/OmjXL3Hzzzebll182K6+8smnbtm1TzNaC0yRmb775punXr1/Bbr2Dr7/+2lx//fVm/PjxZtVVV/WPm+1VPNSe33777a4uEePlllvOtGjRoiJM1H/SmFdjtJ49e1YkjFp5Wi/frcZt99xzjyvjK664YtVxvPDCC6Zv376mZcv6Xxs7d+5cV+7/+c9/mgceeMCoTtdcjPpRlTDZxhGFlp98417tb7wS3PAzmcDChQvNc8895+ZsNt5442RLNXiarZznE51sfSvGgPkQbEJ27EAHUwSBLbfcMtWlS5eS/mbMmOFCth90yhYp9yc/7WRxETHCiQjMnj07NXDgQMfSDkZqCuUXv/hFzvKhuG666aapww8/PPXggw+mZs6cWdM4K/Bbb73V8bODwZSd8IrK5korrZSyEwU1jx8RgEC1CdhJjdRFF12U2nzzzaPv4Ygjjqh2NGoenuonOyma2n333SMOqsOqbWgz/0d88uTJqbXXXtvlh52sjvJFfYo777zzfxabyd1rr72WOvnkk1OrrbZaxMJOQjTJ1N97772pP/zhD2nt9Lffftuk0moFcamzzjorKuMq19dee23N01hKOcu3Hj3ttNOiMnzOOefUPM31EIH33nvPfds77bRTSdFZb731IrZ2cU5JfjVmx3aiK3XIIYc4Furj+7GoroceemhZk/b++++nVKbDcB599NGyhlEPntXyu/33v/+dOumkk1JhX+CYY46pOhaVK/UNN9xww5SddKx6+IUE+M4770RjdT9/4L8DuwCyEK+y2s13HFFI+ckn7tX8xrMC4GVZCWg+5u9//3tqv/32c+VXZVZziLU2+ZbzTPHMp2/FGDATvab7vP7F3vYLrEcjKfzjjz9u7KDY2MFH9NehQwezzz77mP333z/6s5WJsZ1rM3To0Mie3GiVmIyk3t7o+TfffON/ci2QwPHHH28+/fTTAl1VxrqtdM3dd99tFltssbR816qlPfbYw2y00UYuYNvBNH/961/NjjvuaJZffnlz3333VSZCefg6atQoo/JqJyTdCpO33347WqX70UcfuV0XeXiDFQg0KQJjxowx+p6ffvrpJpWuQhPzww8/uFU82nVVS0Ob+R/62gmn1VRaaaQV9lp1/Oc//znKmiuvvDK6by43r776qmNhJzabfJJHjx5tXnrpJfP999832bS+++67Rit1VcbryZRSzvKtR7VryhtxaO5Gq8U15tKfdpKVYj788MPIeXgfPWwmN8OHDzdXX321ufTSS404PPnkk1HKr7rqKvPTTz9Fv0u9sZOr5pNPPjEaSzRlU8vv9pVXXjFfffWVeeutt2qKuFWrVkZx0e7G1Vdf3dRre6wxrvpQGqd/+eWX7huwC1IjdtpxVC6T7zgi3/KTb9yr+Y2XixX+5Cbw888/u/HYM8884+aYcruojo18y3mm2OTTt2IMmIleE37edGUx1UmZ3aqdtiLFdvqyBmw7EimtXLdFKuVXwnnpt1azn3jiiVnd8zIzAXs0SVpe1HqHhY+p7fSnxcsOvv0rd1UZ2nbbbdPsWMFLmp1q/JgzZ04kpb/xxhujIG3j4cqs7dS5HSzRC24g0MwInH322dF32hx3WPjstluPIw612GFBm/mfnLjssstcPqjv4I09Hip14IEHurrcHp/jHze7a7gbqqnusFCmqt1Wf9L/+X5lU8vwcFdXPeyw8HxLKWe56lH1DbUaXbsB7ASkD7JZXu0xLa6M77333inV/6Wa6667zvVrd9lll5RWazZHYwXcUb3x2WefRQjERit1jz766OhZoTdqh7QbJsmE452muMOiHr5bzSX4NqEWOyx8vuvUA40dVZ60W67ejHZqiZNdZBpFTbtWVefqlAQrKI6el+sm1zgi3/KTT9wr+Y2Xi0el/dEulKZsVM/6b70edlh41rnKubeX6Zqtb8UYMBO1pvu8tS3kmBIIxM9Q7dy5c1bfdCaiPVrE7LXXXsZ+cM6uViJoJYv+MMURmDRpkmNanOvKulpyySXTAoiXEdsxcueM/vKXv4xWEaqM/PrXvzbrrLNOmttK/rBHUkVS+lVWWSUKSnEIpdnRC24g0MwI2Mn5Zpbi5ORqJ1gtDW3mf+hffvnl7mbdddeNskPnRd9www3uL3rYDG8GDRrULHZEtW/f3tiJFbcjsilns524r8vklVLOctWj6hs259X/PsO1UvtXv/qV2+1rhVVG9X+p5qCDDjL6a85GOm+8CctiOdhYYbpb/Zu0Y7yp61aqh++2XupL7bCQzjeVL500oZ2gdlLVF7uaXidMmGDuv/9+Fwft2vJGelWs0MD/LPs11zgin/KTb9wPO+ywKP7l/sYjj+v4Rm2HdOzZadw6jmVpUZN+0Xo0ucp5rjhn61sxBsxFr+m950ioEvO0TZs2BfswbNgwo86EGnJM6QTUEPmBxyWXXFK6h2X2IZ8yokmH888/Py1kbX+vptE2PG/KMSD0fnGFAAQgAIHyErCrgqNJ6tatWXsSp9sYFH3G41zs7+aQ/5VS/lssc++uOZUzn+ZqXu0KbXfMrsK85pprTHzBTzXj0tTC0lFr3pTz+5K/xx57rPeaaw0I5DPurFa0evXq5RZq6rjmcAK9WuFnCkdHKnlTT7x8nLJd8417pb7xbHGrl3c6KlNCsqZuyll31xMr+lb1lBu1jwsCixrkgRpvrZqSFB9TOgG7fdlod4BWCy299NKle1gjH1ZeeeW0kD/44IO035X+YY+SqHQQ+A8BCEAAAmUgoF2FGAhAAAJNmYB08lilvWbttdc29vimppzUqqftiy++KHuY0sG42267ld1fPGzcBPbdd1+3s+LWW281Dz/8cF0k5rvvvquLeBQTiXzjXolvvJj4VtuNdMTqJJOmrN+r2kwJDwK1JMCyvCrSnzZtmtlzzz3d8T9JuyukVE/KvO1Zim77ZFLUVAk/9thjRtJ1TTBry5S2MupIiLif48ePd/ZCfwYPHmxWXHFF90h+yE5oNOE/ZMiQ8FFk98477zTHHXec6datm1GnQyvypUDannNqtEMgNNqGJwWgEszo3SabbGI23XRTp9gqtFfqvZT7/OEPf4gURWvraT7Gnh3stoLas1TNFltskY+Tittp27ZtWhgSbMWNPVvTHXPx/vvvO+Xsq666qrHn/LkyELfrfyufM+WdFMQrn2TsGbbeiZESp7BsSCF4fNeFFJTJbynSmzVrlts1pEGldg9lW/GpAY09W90pHd9www2d8nqrf8RohYtWZfXt29fFY8aMGU4QNW7cOHPGGWe4Z/pGlHdS2ie322yzjenZs2cUbx1dJSWk+pMSNeWtjtrKZObNm+c6z/JPiuratWvnvqXtttsuo0BRHcV7773XSPp/8MEHG3uGuJHidCki1vep7bwasGVbHWDP93UKzMVPZXippZYy+jaVnmzbpceOHesUkEqBncLVd680xo+my5Tecj1XHmrQobiLs/Jc9cqPP/7oymMYjnZAaXu16rbTTz/ddO3a1Sgfn3/+eVc/KO4azOhYk2ym2LQXUxdJmZnqrhdffNGVcR3lp++slkasn3rqKTd5M336dKM4qf7SN5e0wkZlTPHXkQyqt/VdSeGlvm3x1/bwnXfe2eTaTqzvwn9TnTp1MmuttZYrd+VmoXKitk31kZTSqjxJiKt6YZlllnHfSDzMTG2m+Cid+RjVVTvssEMDq8XUtQ08yeOB0q36XGmRkFr1htpgcVb7Gjf69jWBp3rRGx0PEB69oa3YpRwJod0b//jHP1yfYr/99nPftVbq6ZudP3++q1M1eZipns/W5iT1F4ptS5T+uXPnujKj+MkflRu1V0mmnH0i+V/telxK1lWfqQ2UMly1/3vssUdSUsvyrNA6txptdpiw1157zdUZKv/qu0p5qvqa2YzaaCkW1nekPo/an80228z1JzKVZ/lXSDlLCr/YenTmzJnG6m9w3+BRRx3VwGuVA6sHwLWxF198sTv6Qn1z9UkUphTeatyhdjqbUR2vsqU2QizlTm1Lnz59sjlz7aPC0sSY2iTVO2prVI/Jj1KM+hM6HlVGbVUuo3qnkLio3KhfojpDbWlo1L9RWcnHaGyjcVFoii1noR/53hdSf0qhr/JYRmXLm7D90GK6bP1m7yZ+lb86ustPEk6cODFql7QzJttYS+2Z+isqgzoySuHn6nNVq40upp7P9d1qzKSyp77mAQccYJQvN998s1HfRXMA4TGP4lxMHOL5k/S7mHKqOkdjIPWRFS+NXXSMsOY4VAdrHBU36juqXb7jjjvceE5jrKR+a9xdPr9VN0vJuPpQqtP1Laru0l84PvR+qR+t/FFZ80bj2PAb2GCDDVw59O+LuZYyjshUfvKJu9KsulOm0G9cTAqZu8l3PO/5Fep/MeNtlUN9U08//bQPNi1vNc6Oz1lFFvO8KbTu0RHwio/mOs477zyj70HzFcrP119/3ajPvv3226eNx3x/T31bP97XUeHxuZikKKsvpvpFYwt9o+oral4i10LpQvNHYZdSzuW+lL5VpjGg/FW6yzEGVl4//vjjbq5L+aB+jeZdNU7LJy8UF0wZCNjBMqYEArYy1cF40V82Rc+jR4929mxlGoVoJx5S9iiglK2sIj+kcCnJSLGO/UicPSkts53kyI3iYCdwnbJNO4GfuuCCC5yyKNkL46fn3tx9992pUJGh7NmjlfzrlO0Ep6RE3H6UkR+28mugIPrKK69Mc+MVQUn5j/58+FIMaivDyG6pN3ay2cXNDjhTtmJ33tkKOgovU17YQXhkR3GrtEKmuDLwTOHZRiktXrfcckuEyFa8KSnC9jyVZs9V18MPPzxlK/3Ifr55FypmC/2L34d+2wo7ddJJJ7nwFR/ld1hGlM92x0sUF90of6QA1jbIUbxt5zw1cuTI6LfCtA1qSgr/bMc2eq4ybwdAKTvojp75+Cl8fYO20+0U1vvn4fXqq69Oi4v/ISWOiqvsKjx9N56vrrYT4a2m7OAiZc+LT/vmFB8pwgy/XR+uFDkqz5KM3NiOtAtXbhW2D1fxURmOG4XvmSsMH28fnt1dFHdSsd9///vfXdwVZzE7+eSTo/hLSZ03tiPh8lfPfDztpLsrL/53eP3Tn/7knaZdi027voFi6iLVz76cirOdEIzKd/jdVUvpttLv62mFr29dSgw9O9sxd+XfQ1P7ceihh6aVEeVFWH68W12l+DXJqPwqT7xdMfHtSZinKsOlGjtIj9Kkdsyuqo3yQOGrrfImnzZT35iPt64qq/4vfK77ePwLrWt9vIq52gmdKJ3KW5W1sIypnrCTAmleh3kfT4v/LX6FGjuwdZx9WZNfhxxySEpKUb2/4VXxVFvqTb5tTthfKKYt8eHpKiWeviwqH6WQ1/ML60hfp+o78GXYp6WQPlEYdrXrcXvWdpQP+kaUTyrTYTqVpnIo3S6kzrUCrKq02WFf4f/+7/9cXvs8DK9qe1WfJBn1seyEuuMY5yam+h6TTKHlLPSjmHpUfVv1G1WefdpUbkNjF6FE7YLsqCxYQW9Un3h3uurbyFQu7MSWq3dkT/0432Z69+p/WaGla+vV3iu/vfnjH//o4qdvUP0Avffu1AaVauzETuSfFcJk9S7fuEjBtvrSoULPCy+8sIHfPh3+6tsPXf0zf7WCoTT3xZazNE/y+FFM/al+rI93pqvamEKNynkSGx9G2M7+7ne/i+Kgfrj6NN5eeLULXBKjUc02upB6Ptd3q29H8wAHHnhglF4rnGjQxoqjxjTeFBIH78YKBqIwMindLqacqg31bazGa+pr+DpVeWcnsH0UGlyt/pkoTuVStm6F1tEYTPWX6v+wHKru0jfvjfIoLGOZ7u3ksndS1LWYcUSu8pNv3DU2yZQu/zz+jRcyXsp3PK8+ijeF+K/+RynjbZUBn86ka6a20Mc127XQukftuMZoYZnUN6LvJiluTzzxhAteY56k9+oTWAFBWhTVDni7CscuyEgLL3xnBY1pbv2PQvLHu9G1mHIeui+mb5VrDFiuMbDiaY9mj1hqfBbWdWK99dZbp0aMGOH6PuqjYypHQKtxMCUQyFdgoQrST1J6gYU9m9U1tPGBU5LAwkr4ooFpOBmRVKnpI1KF7U04+RsOzv17CUx8hRYKLDSACytZ2fHPwudnnnmm88rHUekJ02DPnY38lx92BYQPuqTrKaec4vy1K6oif/IRWKgC8unV1a6qiNxX4iYfgYWVvqe23HLLtHipAfHGrjJz79SxV7mRUaMXCgqKzTs1wPrzk7Riovzzz3X1RmF7oZk6PBrseqNOdVguQkGBOsx+YsmzV1nSve/86l5+Hn/88dG34u2qTMn9aaedlrIKZVN2F0PESvFWoyE7dvWuG4zGO2yajAuNBGfeb7t7I3qljpJ/Lv+ULzKaCJDfYVx9WtWAaaDu0+PdJzVe6ozovdxq4OJNXFhlV7j4V65z4vNGA23fWVEe+TjITwmEKm307fr0qdPgjV257OIiZt7YXRNp8ZM7vddV9ZNPk/dPV3VSQ6O0enuFpL3YukjflAbWiosGOuGgMRxs6X21BBa+/lZeS3Dnzbnnnhvlhdh4Y3e/RRNQnq3/9jRRoA5vWG70Pfsy5f1Qun2nX+/Vznmjbyd0H05EeDuFXtXhU1zDOkx+eIGqF97m22Zqckv+/fWvf02bYJOfqj88F12feeYZPY5MoXVt5LDAGy1A8BxVt4RlTfkZxtEqqox8V16pTg7rME1mhvV1PD8jx1luNED3dbsP28dPeazvwX8b/r3qQ31rMr5v4N/p6p95f/TM9xeKbUt8EtTue3/DtkaDNw0Qw3h4gYV3678p2SmkT+TdV7set7q5XHqU3rBvFe8DKD2lDMaVvkLrXLvatiptdiiw8Hmrtld9Bv/bX5W/vu32eWZX2jl7sm9X1rvHintYVlS+wwl5WSqlnBVbj9qdEml9O6UrLrDQOCDe51A9rzZW/UT1iTwPXZMmLZXXXoCnCXxfB2lhgf+2vB/6Lb+9HT8hqjBD1r6/K66lGj9mUtg+3CQ/C4mLJtHi9VgmgYXaSz9e8+Fq0ZZnoquvz/z7YsuZd5/vtZT607cVYTr8M12LaT8Ub7m1u/AiPhJ+hf76tIUCC1/O1N9QPvh+h4+b1XvgnUXXarXRhdbzub5bCRnDCS+l0Y/hfB/Np1v5K1NoHDwk/03Iv6Rvv5hyqrrRfzvheENtrq+L7E4ZH4UG1/DbKYdAU31dz0vp9UZ1RSgUEttQaOHLpPLLu1c/wD/XtRRT7DgiV/lRnHwcc8Xd2/Pp09U/0zX8xgsdL+U7nteiWplC/S91vK20qU3KlHYXqSL/FVr3aHGFBHthXPw3pHZaC2vD+lB96iOPPNLZ13ONO1U2Q/fxRWahwCK0pzY9nLPw7/Tth6bQ/PFuiy3n3n0xfat8xoDlGAMrjr6OFLdQgJkkYFc7pgXemMoRQGBRItu4wEKVgyZTwz9fOfnKIt4BVuPqJ/JkJxyQ+uj5Ckzv7bER/rG7hiuizjrrrLR3+hEKJJIG55qw93GLTxipcvDv/FWTk5oAVsWtSQw/se5XZiZJcMPVTJowK9WowlZ8NKEVmnwEFlql4PNEnUVV9pU0fgDn+cV3WIhn2GDJniYjvdHktZ5pMik+aAsHB7ITrsYtJO8UVjiJk2knjAQGPh1qrOImrOBlLz7RFt8VpM64Ok8SvKlRt8cqOS/DiXH5IyGGJhe8UQPr46Grvrt4R1nScG8nXKEtP9Th8u/s0SfeW3cNVzWGggO9tEeORe7kXg2XypM3fwpWpOvbCI1Wb/rBmcpE3ISThWH+a9JVYWkFYdycc845UXxUh4Rxidstx2+tjlZc9P3EjYQNSl9otDPHp1nuNKgJy40mjsKBmuyGwqVi015sXaQ8Uzw1qAwnYXyawjJVDYGFBBSKTxJzrUzx79QGxI2v42RHZSNcoSpBo3era3xSYNSoUdF7u2057nUqFEInlYUGDrI80ODClxF9X6FRHaZ38d1yudpM1YsqV3GjtITp1vcbmmLr2tCPfO5V5/kBvsqafsdN2G4r/+wW7zQr2gHm0xKfzEyzWOAPPznu/VZZCOOnSSX/TletgvamkDanlLZE9YofiMXzUHFRmx72qeICi5BtoX2iatfj4Xceb8eUVvUHw/woVWBRbJ1b6TY7LrAIF5ro24gv+AhZqc/ty0u8PtNuDF//iGNY15RazkqtR0MhedI3Hh9/SBgT5r9WWvqyoe8hbsL+jOr00IQr8f3EU/jet7Eam8SN2qNS+/laxevjrjoymykmLuGO3bjAwk92xcuK2h0vRFHc1GcL+1zFlrNsacv0rpT60/vp+epaLhOOAZL6JQonPt4J+8PqD3ghmuIVz5tqtdHF1vNKX67vNr66WnWbjMZd+m7kXqaUOGQTWBRbTrW7wpcZTSqHRgvW9E7tVSbjvyvZU31cilE95+ttLfiIG32rfrGTwpMgLG7Cvo7mM8plSh1H5Co/ime+cff5pWsm4+vPQuZu9J3mO54vxn/FNWyfFP9CxtuKXz5pz8Qk6XkpdU/YH1VfJRwHK6ywXVG8H3nkkbQoaFGOT0+8zxsXWKjch4tJtYvNu9VVYzbx8abY/CmlnJfat8o1BlTaShkDh+5Vz4RjILX5vu4RTz9v5XlyrQyBzDVYZcJrcr7GBwwqvOrE+j91tMOKSu/jAgtBCQdbSQIL+SO3+osbNTL+nSad40ZSP/8+aXCu43v8+7jAQn6FYes4mCTjV7TKH1UkcXPFFVdEYciOKqtijQYy6uyIcdyffAQWClcdpy+++KLYKBTkLi6wUONwwgknuE67n7Ty/HW97LLL0hoT3+lSByVulI6w4gwnj2Q3n7zzfuYSWIQTEvHJeO+HruHKPg0KQ6OOpU+rdiVkMlrJ4+3pGjau3k24sjLeuMtOOKka74xqVZz3X5OboQlXrse3LftOudxKKBk34XvlbWi09VvuJCRLSk/4HfsVECGH8Igq728Ynvz27vz7cl917IPnFq+n/OAqHmbYadCAJ24kZPN+6uqPtyo27cXWRb4zqjiEk1ZhfMMJqGoILMJJGwl9Q6MOlOemzm7chCsVJRiMm0zvtcvIt1mZJp0k4PBhlyqw0ISh90txircfmhDTJGrcZGsztZIvqb70danCUxsSFwL490luc9W18fhl+x2uDPTlPW5f+RDW7X4Sw9urlMAibEPVViWZcLJPZSWsz/Jpc0ptS8LJVKt/KCmKbjGFL1dxgUUpfaJq1+N+QYo4q05MMv57VXrDCesku9meFVvnys/QreIRlgkfZiltdiiwsLquvJfRVcKyUPitsLzxq1GT+seyE9aFqle8KaWclaMeDXdeJgksFE9fxnUVg7jJ9j7sj4WLS+RHfGwT99dPsKgeld3QaKJJC1BKMeHEd5LAJPS7mLiE/bz4pLjaoKQdIr4ceabqf4XGvy+0nIV+5HNfav3pw/Dp0LVcJsy3fAQWSWNK7aj0cYtPzlWrjS6mnvcMc3234S5/9Z/Ut0gypcQhm8Ci2HIaHg8pP+JGaUnq44f2wj5NXOgR2st1H+6g0I6wJBOWRZWncEGf7Oc76Z/kd6Zn5RhH5Co/hcTdf0eZvvFix0uKQ9h+ZBrPl+J/OL4tdLyt/keutGfKw0zPS6l7wr5PvK1VeKEQM74QV+/DhSnxvkBcYJH0XcV3lvsdA8XmT6nlvJS+lXjIZBsD6n3YrytkDCy3kyZNispPUnvuj6BUGWNnhYhV3rS0sDFlJGAnupziJ9tou6ttII0t+E6BsZ2ozBhSNgVAtjPjlAx7x1J4FRop5/RGyjLLbcK4hWGF4dhJ3+inlKRKmVb4Zyf3ove6CRWGpr3I44f8krK822+/PVG5Vx5eOEU5yy67bD5Wy25HykztAMkpWLMdKqds2E5GGitBN3bgZ6RY0SsjswMnp9xYkbC7AtKYyo6URNoV6VEcVe5Ck0/ehfaz3Yd5LGW4mYw93iV6JWXfYXkNlbHFlcpFjuxNXPml5xHaWXLJJaOfcYXlehEqlxLX0NjGxlx11VVOAdZGG20UvbKTp2nfWshWllS2vQnZ+md24sjfOsXB/oftPBk7iHc/rUAnyl//XlcplbSrLoydpDZS+CYjJZLe2EF5g/yP1ylS2ltJEypiXH/99Y3VN2JUP8koP2znp0HwYV726NGjwXs7wWlsxyN6bieb3X2xaQ/LaSF1kZ0QjuJgJ0ii+/BGiiOraaQ80AqGjO3cOUX1Ydh2wjr6qXIbN2FZDe+9vSWWWMLfOkWP/ocUvHqlmWG++Pe6SmFcuYyUsKtsy1ihnZEyRin79cauJDV77bWX/xldk74//1IKIPWNh8YeYRDVpXouBZd28BxZKbWujTzK40YK3LwZNGiQv027ivHw4cOjZ3YSJ7qv5I2U5XqTpLBS7+wkkrfiyoodIEW/w3zJp79QTFui9lNG9a0UfiaZXEqGk9zkelbtelxKk+3Rgi5a+i6SvmO9jCv8zZWOTO+LrXPlX1jP63e522z56Y2dGPO30bVjx47msMMOi36rHbBCFPf7mWeecVe7OKdBG6p4qt7xxq5y9reun6YfxZSzctSjYX8pilTsJqzDksqHFeJELqSIMzQan3ijfkdopGw7dGsnRcLXkQJl9cXVX7ETINF7lVW7SCT6XcyNXSEaOUvqN0Qv7Y1X5lxIXMJ6KvRL9yrLVpCc9lgKpY877rjomZ1gMmuuuWb0WzfFlrM0T/L4EfZxiqk/8wiialaS6q6wb6/xszfVaqOLred9PHN9t2HZ07eTpLi11Dj4uCRdiy2ndtI48k7fgsakYd9TiuoztcfeYa9evfytsTvlo/tCb1SXe7P88sv727Sr2Gp84Y3G3pU25RhH5Co/5UxDWJeo/VB7GP5lm7sJ45lpPF+K/2F7Fn4zPv2Zxtv+fTmvpdY9YfzDPraPY5iW0K5/3717d3/r5gmiH7Eb9QeS+u128VnaeMcKxZzLYvOn1HJejj58EqcQR1h+wntvJ9MYWO/tojxvLW0uxz9cZ511/K2xi9Cje24qR6B15bzG55DA0ksvbc4++2w3GRM+z+denWe7m8DYM6+ddV3DjkM4MbvMMsvk42XRdpIGofLMd4BUWWoiOJuRH8sWKSzQBLgmnuwuBKNJqcZo7KoB16kTh7DBT0qLPT4qeqyOQ1hJRi+Cm6SBvH+dKe/8+1zXcDI8aZDh3fvJR/9bky5Jk3JJjbZ3k881PkESdxO+D4UmsqeJZ6tQNnIiQY8aYAmNSjGZGGtiwAs/lltuuYxB9O3bN+2d71TooSYsM/nvHdlVHP62ItdNNtnETd74Ce2DDz7YcbM7qNykRa7BSqZIaYLDroBwr70ws9i0F1sX+fpVkYjnQ6Z4V+O56npf36scqw60R3MZ1SPeeKGR/53PNWmQLHd2xXrk3K6eje4refPb3/7WeAGMysEKK6xgrG4ZY3eimXCAW2wc7KpzY89MjpzrXkLi0JSzrg39TboPBcvZJtYlFJSwSiYsn0l+VvOZF6j6MFXHhwMu/zxTfVVKW6IyqYlJGZWTappq1+N25WiUPPUhK22KrXPzjVfYJie5Cd/H2+wk+/Fnu+66q7G7L6LHKifipok0GQmi7crc6H3Sjf8e7Q6JkspZLerRpPSETOPvNa7w7a6EVX7i39vTN211VbmJjvjkwK9//Wtjd/Q6q7IzbNgwY49MdIIKMc/Wz/H+Z7uGi6/CMU6Sm0rHxe5mTCs34nbSSSelRUVtcDHlLM2TPH+UUn8m9cXzDLZq1pIWICnwarXRxdbz5QRUqTiUUk417rOrliMBr11Z7BYO2t0WZp999jEDBgzIicDXKbJYrMBC7vwYRHMO2eo4LbLydXE4CZkzokVaCPtp9TSOyJScYsdLcf8yjefL5X88PP3O1L9Mslvqs0rXPdnKsOIevlffpFDToUMH1z57Qbw9yt15UWz+lFLOS+1bFZr2TPYzjYFlP5zLUF2s/qgWxXgTCoWWWmop/5hrBQkgsKgg3LjXmnTSZG6uSeq4O/3eYYcdogkLTaz6CSy90wpcb7bZZht/W9Wrn4Dp37+/scp2KxK2PTfO+NX76rCMHDmyQThhR14Vs5/Y0ESuBlT1YNSwxwd/meIVrjRW/O0W60xWK/5clbY34aon/8xfQ6m1nqljWa+DJO1w0Uo5Ddq1AkE7BOy5z+bUU0/1ySnLNWRnj23I20+t6vPGbgNNXDnh31fjqk7PY489ZlTP+AGDJs7t8VfGHidnNHDRivlCTTgx7lfFFpv2Yuoiu5nRhCtri6mjC01zIfbVwdPgUKtWlQeq++yxPNEuorAzW4i/SXb9Dhe9CztoSXbL9UwCBHv2cZqw2x7bZuyxbm5AHJ9IKzRcrbz2AkOVNT/RFvpTrbpWk19hZ1/fUaZVsmFHWPHXZEM58zpMfyH3GihKOO4nAPw3m68fYX1YaFsSrvSuVvn06QrjXY16PKwD9d1X2oTh1UN7U2h6w+9FbpVH9qjCyButiM+3f2qP3YncFVPOalGPRhHO82arrbYyVimosy3BqHal+fpF9Y1vE+3RcA0mh7S7U4soJGz2xuoNMfrTgiItsMk0ieXt53vVavNsptJxUTukvqI3N910k4lPqhdbzryfhVzDeqjQ+rNe++L5pL9abXTIt5B6Pp805GunUnEotZxqXK0FIL5uUP9FdYDmJfRd5BJahCudi1loI35h3ax6yh4NnXFMHY4twrTnmw+F2Kv3cURSWooZLyX5k+lZpf3PFG65n1er7il3vEP/woXCfjxUTP6UWs7D77eYvlWYpkrda1en5mu1kE6s7LGyaX2dcHFPfPFbpeLU3P39397/5k6iCunXlq7XXnstY8OaLQq///3voxWM6hSoA61OvCYK/KpwHTWTdHRGNn/L9c533rWSQYKFShhtyfOVrFUu7iaaNdkc/vljdxS+OlT+ndUjUYkoVdzPcAWBnxyqeKAZAggbFq2ozWTUIQ2PKQg7jJncVPu5ypI9G9/oOCiVk6eeespNjGoHS8i8EvEKG+tc/ocD/rDDlMtdJd9r0kcTrlppFRodh6cGPjweJnyf7T4UcviVDcWmvZi6KL6lM9skQLZ0VOKdOkza8q4dB5o4UvnR7iC/ErjcYVpFo5GXOqKsGkZ5rV0j9jzrtLpDg2EdS5Vr1162OOoYgPDIlxtvvDFRqBZ+95Wsa+OrerIxDnct6N5PJmZLb7Xehauec01SxONUSlsSTjqMHz8+7nXVflejHvcLLpSobOWkXIkuts4tV/il+hPve6jeDNMU7ljJFVap5awW9WiuNMXfa8ekdp3IqKxZvQ1u8k+/1Z7LqN4555xz3H38n9VlZuxZ1m4HePjOnm3uVlwXOyEpv8JjoMLdFmE44X2l4qLdI+EReH/6058aHAWleBRbzsI05HtfSv2Zbxj1aK9abXSY9kLq+dBdOe/LGYdSy6nmMaySWXP66aenJVECPe14TDoWNrQY7qoIj7kJ7eS6jy8okgAlkwkX0IVH3GWyX8rzeh5HZEpXMeOlTH4lPa+0/0lhVuJZLeqecqcj/Bb8Iqli8qfUcl5q36rcXDL5p7beG/UBXnrpJfdTR4xbPYTuXn2jTEfSebdcy0MAgUV5OFbcF22vtop6jD+zXhNW2p6pbUmapFfnwSryqtmERng0Q3iWbRIYnZWr830LNepoaUI021/YIdFEubdbj5Pm+aQ/lIjrKJhcRmejh41BLvuFvA+3+IdnXcf9kPTdC5b0LkxD3G6tfut70TFGMiqLlZaQa+eRNwpPApNsxk9Uhczvu+++bE6kNdEdF1ToauesnsZealuk4q7zrVXfaGdKeEasJnr9ETYxp1l/hgICvwKw2LQXUxfFjzjz22WzRroKL1UOtLNKE/cqo9IZEgp3KhGFcJWyP56rEuF4P1Vu/TnI2jWiSejjjz/ev3ZX7ZDwdtJe5Pihc9DDI2CsYsAGx554L8J6qtJ1rY4U8SbcFeif+Wt45nymM4K93WpfNZEnI+F0KFjJJx7ht11oW6K6xxvVN5Ws73w4/lrtejwcYIa7H3x8yn0N86Ue2ptC06dFPL7voR1AmtgNGVqlsSbX5LdWNmsSvtRyVu16tFBWsq+JPx1j5I/L0yBcO3lUznW0lgTkGneEDH04qo9Vd2tMIl5aYR0uVFEdmmss4P1KuoYCi7h+jbj9SsVF5Uk7R71RX+fkk0/2P9OuIaNCylmaJ3n+CL/TQuvPPIOoS2vVaqOLrefLCa1ScSilnKrvrzGAJjm1A1btb3zXv4SV2Uwhumky+RM/HjGbIDrsN6666qqZvCzL83odR2RLXDHjpWz+xd9V2v94eJX6Xa26p1Lxl79J30Ix+VNqOS+1b1VJRqHfVsm621mpfo36lTpJQvWydCxpYaZ2mGbqD4T+cF8eAggsysOxKr5ooKWVFtrSrmNrtFL0kUcecUp61XkIV91kilDS1upyDPjDSk9SyfDYhnhcdO59uOI1/j7Tb6VPO1Sy/YWTpYqHtxuea5zJ/3p8HnbMdPROtkkEvdcum0ptYVZl7Y3CyrTqJ+yQ6iiucEWPd1/LqyYBL7jgAhcFNUR+haGPkwbh5TbhAFOT0FL4m8lo66HOrpcJ3WmVebYJZO200lFW4UqQTGEU+1w7mzQx4Y2O6tGWUj/hoec6EqJQE5Ylr6i32LQXUxeJWSh48asnCk1Hue2LtZ+A0+65cHV+Jcqp4h+uFtEq26Q2o5zpVPrUCfSrcbXqTgrZNFEWToRrF1Sh5qijjor4SWjtv/vQH+lE0sqZata1YZ2jdlzHRCWZcFW9/y6S7FX7mY4okxBNJkxLvvEopS0J80nhSXBaikkq35n6RGGdVI16PBwkSzhcaUFqmL56aG8KzddQ8O0XIWhXUqjbS7rkMhkN6H/1q18ZCS1KLWfVrkczpSnXcx2nov6cFvdoPKE+po59Ud2jtjycOA390s43f663GOu4VvVPwm/b63QI3eV773dayn4uIVOl4jJq1Kg0oYsmKOKru9VOyV6x5SxfHqG9kHE998WT6tYwHYXeh9+k0l2p8VBYDxZSzxeanmz2KxWHUsqp5h3CI/XU11YeqA/jjXasawVyklGf1fcbNPYKhdu2x9wAAEAASURBVCdJ9jM9kzAzrNO1MzeTUf55s/rqq/vbilzrdRyRLbHFjJey+Rd/V2n/4+FV6ne16p5KxV/+hv1Hv/i5mPwptZyHLBWvUvvw8qNSRguzNEbVTorRo0e74y7V9khgoV2dlZxvqVSaGqu/CCxKzDl19kOTa+V0aDe8Dzt24b23o/NwNfmrM2c1maZVt7vttps70iYu7fRu/DVcqaQPLm7CFTqZBupxN/HfoX4IHWGiwUt8Qk3pOuaYY4yO6IhvJ437V+nf2q5/ww03ZJx0L2f48SOyCmEsSW44kapjeML88vHUKl2dOS3uYQPk3+dz9ROGsps0gSY9KuEEYqZOYjhIDbfU5RMHbydedvzzTNdC7IdnS6shiq/eC49yiOddpvBzPZfyNT+BIrtatRdy8u41INCqxksuucQ9CgemiquUU8e3Y8qivimtQtdkjD8jVnmoSV5N/nqFxj6cUq7x49U0ANJxPr4DlG17dlK4KndeCKLVWkOHDnXWik17sXWRFLZ6oyP3ws6dfx5uZ4+XjUrwDrfXx4VVIeckBbW5vomkdkbpVD3ijTpr4TF7/nk4gZQUtreX71VlWxM/oVE50PGH3viBrv8dxj+89+8ffPBBc8cdd/ifbhIuaXeK8loTndWsa8NVu0rX888/H8UzvPETMhrca1dlaMI6Oin9od1y34c7UIqp40tpS9QGhTq8pI8k3g9TesPyEm9zi+0TVbsel8LQ0Hh9A+Ez9TnDNiGe1tBurvti61z5m6u+iYddqP24+6Tf4cD3tNNOi6xopZw30gXkjzvyz3RVP2DHHXd0E8/SZ1VqOStHPRp+1+F9GO9c92G/Lm5XAhpN9que1zEvirPaYI0z8lEY6xV2e3979eqVtns608Slt5/tKsG1/851BGXSNx66LzQuIc/w3vupfmBYT2vM4vsm3o6u6g/5PmUx5Sz0K9/7UurPTGGU63tUf9CbsJ/gn+ka8k4KN3wflt9qtdHF1vM+jWH8w3v/Pp9rqXHIFkYp5VSLDePf4v77729OPPHEKMhMx8KGi9lU15SymO3/2TsTeP2q6f9vSbNmiqRSJBWZRSJjIqJIimQKmUOp9C1DRUkShVJRlExJJDQSKjKWTJnnoczj7/zXe7P2f519zznPmZ7n3u/9rvV63XvOc84eP3uftddea+29OW9HCZ0IMmRO9B3mRhD6k9y5wspQ9j5Pp8vvofMI8rJ9xt7bctjy2nsbJr+v+tb6zpfytOt+Tzv9unxzRXKTE21dGvb5rHgPeVa1ky1Ln3vqr86ErGBXZ5i+7TOknw+VrbT+9tuw9/p+Eo5VcTQu1zPPPDMaJU444YRw0EEHRbkIvSvbYueOCzae308JAWlQpwEIyIHXuGOnP5kk9UpNBPOUhhgV5qQhA218L16ihXg5F6KIKcQbqrjssssKWY5dyJLIQiauc+LxQM4bSGlTVvGGKETZVohQUYiQUXonXguFTGJK6YjCPIURpVLpnf6QAbOw4ciHOomytLj44osLESgK8eCK6chqEI02+lUmD6msMimtTF8mUSkM5ZSzASrDjfVQPBVL+Z177rmdkhaFYSm+KK8KmUgV4olfyCSteOUrXxnfyyBQiFdcKW3bJnVtpxG0fcAEHKtIFAKpLJSDfmdJlJeFbHcSw8j2LvZVvJdzI1J8URzMea8PxIM3haM8VX1bJtYpjAzEGjVd+UaIy58tyw033JCe804E30KE3UKU0cURRxxRenfggQcWMtAXYlGP6drvHbxyEsNRis+3aonvWsujV1GMFLIyohDjTyFCf3wvCoRCBtIU1WJGPNn2LH63pEdfetKTnhTjiUGkEAE9xeOb03y40nZDCTxIq6ovkT/vROlTysb2wapvUlZFpXKKZ2spbp+69+VFfDsWL9rPlkeUEgXfmIahHcQglPjlNPCW7YxSfuQt3muxb4iCO/FTLY8o3ApZ7VLICquIoUwIU1zGipy03xCfsivR92yb8d72Hb4THY80b/qvGFA0iU5XxhvS4XvOiXpqHmJ0K71uGjNFUVJqKzHkluLqD/Aifb5raAiv1TTbXmXrhFQ3eAk8zxLjktZdDHr2VbyXbUfSezEWznnf94Hl8fRxeKMl5AaeUzbxtrSv4r3tO1V8QiPYfLqOJTYu5YBn0uZKjI2KHVd4EmURZX4MMkQmmjUft/2EusjEKY2HjIsy+SzVVZaozxmXFZc21z48l3SnOWaT/mGHHZbqKSuleFQi5Drlz7LdY+mdeNmmuNovxPmjEKeVKJ8ii2hccRpIcYf0szH4KPKdlhd+lxN56HuuuexOeL4tDYPsY4m5hL5jLiArBaLsh8wuq5Pj+JfzJY0PzwIzWbGqj+KV8UfTFMeL0ruuP6w8Jnvk10bvUxY5EyqVM5+3gasoddN7eBpyYE7UFTmBeQ7Ut5/l6bb5bftmV/5J+rSbthNX5IcxSBw9SumKMSwmyxiGTA7x7WneyA45iaE+vYe3W5rVGN2Xz1PWSd+tbbtcXrZ1HVIGccRIGMpWmDbZ3v0UOZJ2O+6440rp8UM8kFN+VfM1wthxWVaZ86g38T3y3Ws/kj3m56RF39L3YvSc856xUt/D/8agofMIyjCp/xCmTdnbfON950uUwcoKdfP5IekPmW9TPniztq/qCBhH+rb1EN5j5ys636CMSnxTWtaqvixb5ab38HvGKCW+BY3LVQyK+ipdjzrqqBgmH7P7ts/Qfm55IGXuKsNTMYspvDKnvnNg0tF5KWUTR57i6KOPLsT4WZAPfUhWlxaMdU6zQwBLnlMPBFAMyjYmhWzBU2IUMBKUWKo0apM0E2nLbPbee+9oULBxVQlsw1Xdo/RBaM6pKb4VNDRNmBuMzCpFeIdSta5uKNPs5EjTslfZOqbEaPNyDv3dxmDBwGXLBBOaBmEUQsmGEcjmh5CF8FQn1OVloR1k6VkpDZse9+Bulatd284qBkmPfiRem3lR4m8mZ5o/AgF9hD6Bsl6V1kxIrAKJiBg3rABBn8wNLJqhLL1PeZAXExhL4v1W6msI/XZCyb1VyDJIE0cpbxOtD+HEk7mUN+9QeCIgyNZipXfUWYn3ufKISb8lOwHXPO2ViXGOm3h/Fygkbbj8nj6VKw7UAKJhqxQetmxt7tVggcISQykEL7R8AiWwJavApCxgSP/HAGCVUHK2h40W7/vWvS8vshMqxY2+gsCiv/Mrig9oGnjnvMrmzTihimP7HCGKP8uL4R+W39wgiiv7Xlb1lMac6667rvSe9Pk2+L6JZ+Nq3mDUh6xgyEQCvgnR9mqUxLBnadKYKYfHltoLHs8kkD8ETgw0KH617OAB9eG1MWKPfyjPreIG4Rp+AS9FYQjelO/www8vGSLJCiWiePqk8hPOKlp7FCdFyScSfL9M1MAIhYV+z/BcO0Z0HXPIsO9YQlwMzdp+eoXHNck61nDXFK5OJiJfaJZ8HINRFf/BaMh4WvUt0nfqxtb/1qD+f1+eO+0xG2W6tjNX+g4Tfwx78G2VLTBmWMO91hSFqY1fdV+lPB3Sz4bwUWQYDIK2nEySLeGwYN/nhs38fa5UyuUVm5a957vCOcqSKgvhWxiLIHgXDknEZWzKZRIbv829eGSn+lUZqTSNrmWhvFYGhKdhiFXK+zJ10vGDK+PyMccck8Zfa/Dv28807y7XvvwTXg2eto1ldW5JRuhSDhuWb0+/RU0fXgtPYs6MAcPyLAxDdk6J05MdF0nDOkbNcozuw+cnfbf0aZVrFJ98nmDx7FMG8rBjBt+ifqOadp9+qgYLym15pZ3bVTklaZ7Mo4hL+9POQ4k5nf2O4WeMBxjfTj311JSXrAqZkxVxrfxMn1U5cE7gjg+GzCMm9R+K0qbsXb7xPvMl2+a0adN8vk/6Y8y38zmZyny5PqFt8/blPcgB+q1zlZ1GSnow+B8Kew0Dr7QOYGDB2K3vuVp5H56r8wXeMSbTB+G3YP/CF74wxkWPYHmp1rtP+xB3SD8n/hDZatIccOgc2MoeFvf8Htwx3FUZiaij03gIuMGiJ5aqmM07r/2tXtl1WWBYsEzGxuXeejGg3LNCXh7W/mbgzT2t+PhQStlwMG/KqMwUoR0BmLxQpjTlhzK4ihAWLOPV/BAMUITAeKdJbQwWTKK0blyt0mXMsmkeikHVVbataJUluDFBquovKNjloO2UDorJprxt233uc59rDEtfsmlrJliYGRTzfBAeWVGSt3M+AbFYkAdCGtT0TWi/bjLe4DFphWqbD/cIMBADuRVWeYdSlPZAkLY4U0+8G/K6atooDolT9z73QpbtVObkTVpLliwpTdxiQf/3DwUlq2ryPPhNv6gS/u23oGW1afa5x2BBnrQFaYKhlgn+UeUFqQpOwmOw1LLoFV5qDT95ufrUnTT68iIU2qoA0TJyZSWTemwh+MGfrVJwGnjzHVmjDuUAe/UWqlq9JVtXzMGYeLQTCj7ryWPrx70dsxBsrdFPw/I96EoivhMU/7mRKm/Dpt9qsLD9xN5jxFCFRhN/oHzUDQWvlrXtVfkP5ezCa5vq1eYdeaGItZ5CWmaeyTYtc5Jp4qW0MXxkCFmDBUqP3FhK/0OBZ5XCXcacvGxdxxKND3ayVDvxIsUNDPhO8VLjGQoxfufK064yEflZmhUfJ09klCrlMuMtxl9V2rAii4msNU7aMre978Jzm77JMcdsyg7mVhGnbc6VcaRJ8Ud8eLsqLWxcZFbL+wirNLSf9eGjVRN5LS+Y0r65s5S+hyfDL+v4BO+VWC0nW6W05peyRaFGjWMkZbHjv5YBhSyrmMYgXQlBu9cR43XbsuT8TMvMlTkSVMWPbbj8Hic1S336mY3f5b4r/5Rt5Rrbm+9oKOF8YjGCPyEj1MkmhEWmkW0cS/FsGtbYxjfZdj40tC5d+Pyk77ZJ9uK7rPK8pvxdylAlsymOfCeWuvZTnVvpeMO3r/Mo7pFl6sgqVXGIHIvgdayQ0jJpXbnCh3IvaMLDK2w4e087IMsPpT7ziEn9B1m5Tdn7fONd5kt1Yws4Uj4rTyuOXdLH4KTjim0b7rvMt5nn056aBve6ykvL1fXalffUjTfUj++9yXCI4xU6iTos+PZUDmcuimHC1lfrTTi+kSalepf2sZj16ecav49s1SRvUl94bN04o5g38WErB9q5kGJZd+WbcJouAjcjeWkApwWOAPswiiAS2EtNhOl4qJVMwOMByzIAxyt7motAEfejZf9u9jnNSSa38bAYzjnQg29E2RnjbLXVVnnw3r9lwhsP8mMfwc022yzuD947sSlEZC968RCPZ4C0Oax8CkXoneT1118fRIEe9xgG25VWWql3WkMjisdBEINXPBRx6623Duw7vLSQTPrDtddeG78d9iRceeWVU9FFCAicH7DeeuvF/ptejHRD+iJIx3Ykj8033zydPdGUBfE46FIE13ggN9+w3TM4jyuKrrg/P2dfcNYNfX4Ike8KK6wQsRKFXxAhJ/Ctc8Aoe2Lm+4aS15Zbbhlx5l6EjbDaaqsFUeJgLA/bbLNN6/7bte7kB/XlRSLsxvKy370o0CPO4qUWsae9qmhsvDUP9uPnIFgOYgRnS2BKX6IPr7rqqvbVKPeMK+xxTttyaCF5sE8+Z+nIBHjQPsQUUITWOCbxHfBNclaHGEljPwF3+st80Sx5rUzy4gH2HKwOL50vvs4e1bo/LedmyPY6sX/Rx6zcMHab9B1L6DOMQXwjMjGL3wh9lWd8uzKBayzqEJloVnxcK4DMR5+EpyGvcWYAJIr6+HtsWaYvz9XyTutKucTLNPbLddddN3BAc9M4mJcDPi5G17DGGmvEPj3pHDjiD+1n0+ajeR3b/Kbvs5+9rNaJe9CDC7IxcwL+6GeiPIrnW4gXZhCjWTwTi7T53sCeb02ME/GPMf3Od77zxG+uTdk0DGXg7IjvfOc7cU7BOJfTrMqS5zvpd59+NinNuvd9+WddekOfc44B3xiyoc41h6ZZFX8WY3RfPl9V3r7PplmGtv0UGYWz2+CX6B34JuEXHJ49aQ7DuUGcsSgG4zheTWMPeHiVGMbivE0MGAFZar6pzzxiPsvcd77UtszTTj8vB+MYc2bmEcjVVXPUPE7b37PgPW3LYsMxD2XOhryInMg43Zb6ts+Qfj5Utmpbty7h4LcHH3xwlHdkVWVAtmZME4e4kt6V+aoYNuJzeOHaa6/dJRsP2wEBN1h0AGu+gp5xxhnx4BfZAqR0CGlVeTgMC6WCLFGKk4uqMP7MEXAElh0EEKpQIqB4FK/jmVc8N1hssMEGMy/DLDOcb7xnWVfPa/EhkBssZBXP4quk18gRWMYRwKCHQRgjH4pl67BRBc2ee+4ZjRc4Rc2aZNV3VHRiWJHVDION5LMuv+fnCCzLCKDow3CFsg8jKYpjJ0fAEXAEFioCGFcxssrWckF25mgsps75ZcVMdChvDOwveyOwXO+YHnEmCOA5JFvgxLzwhJpEeL7icesCwSSk/L0jsPgRwCt/++23j16UsqXU4q/wPNfQ8Z7nBvDsHQFHwBFwBCYigAMUxOrLScYKwrGihRWR80HMZ2Rbt3DJJZcE2Y5uPorgeToCjkAPBPBU3nfffaOxAmOn6yZ6gOhRHAFHYGYIXHDBBdFYQYY77rjjxHzZEQBiVZfT9BBwg8X0sB0lZTyflE466aTo4aS/8ytLsnbYYYe4TYfsyZu/9t+OgCOwDCHAstBtt9027LPPPkEOGQvTWILdBk4mLEps/7NYaaHgvVjx9XrNBgG7S6i9n03unosj4AhMGwFWYl911VUxGzk7IG3ZWJUv26wgQ7CtBorH+aInP/nJ4ZRTTgmHH354NFo4b5qvlvB8HYF2CLB9FIZRVm0yB5Hzz9pF9FCOgCPgCMwTAmwHrnTssccGtlusImSQCy+8MMhZOXFHG98Oqgql8Z4tP15SntI0EGBvXqWLLroobLTRRkEOhoueTuwjyR517D8pB9/ECQjnW3B+xULYu1HL7VdHwBGYPQLwh09+8pNBDqucfeb/y5EBnb27leBVG264of5cVNeFgPeiAtQrMy8IcDaNEl7VTo6AI7C4EOB8HPaSZ3sWVnGzbePOO+8cV2Oy3zUrtX/1q1/FOQXzCc6BkcPc4/xjPpGQQ0jjuS1sTyWHjAY5sHQ+i+N5OwKOQA0COCfhOAkfwdjJ+WdOjoAj4AgsdAQ4M0vp6KOPjqs7d99997itHWehMEdibsTZwuxo89znPjcceeSRGsWvU0LAz7CYErBjJssyaDybOOCqjliKdNRRR4Vddtll1EOF6vLz546AI+AI1CGAoeLqq68OZ511VsBDQemBD3xgOOSQQ+IhjJyr4eQIOAILAwEUl1dccUXYf//944F9Wqrjjjsu7svK98ohxU6OgCOw9CNwww03hP322y86NdTV5pa3vGU47LDD4oR87APd6/Js8xwnCFaIPPaxj20T3MM4Ao7APCDA+Zu77rprqy3n5qF4nqUj4Ag4ApUInHjiieGAAw6IW9lVBpCHj3zkI8MRRxwR7nGPe9QF8ecjIuAGixHBnGZSbKvysY99LHD43LXXXhtuuummwOoL/WPrl+WX9wUz02wDT9sRcATaIQC/alIm3O52twvvfOc72yXmoRwBR2DqCJx55pmBvzo66KCDwnbbbVf32p87Ao7AUojA5ZdfHjgskoMj8RrceOON42HcGCiZV7iRcilsVC+yI+AIOAKOgCPgCPRGgO0w2c4O2ei6664Lyy23XFyNit6VFar8Oc0OATdYzA5rz8kRcAQcAUfAEXAEHAFHwBFwBBwBR8ARcAQcAUfAEXAEHAFHwBFwBGoQ8EO3a4Dxx46AI+AIOAKOgCPgCDgCjoAj4Ag4Ao6AI+AIOAKOgCPgCDgCjoAjMDsE3GAxO6w9J0fAEXAEHAFHwBFwBBwBR8ARcAQcAUfAEXAEHAFHwBFwBBwBR8ARqEHADRY1wPhjR8ARcAQcAUfAEXAEHAFHwBFwBBwBR8ARcAQcAUfAEXAEHAFHwBGYHQJusJgd1p6TI+AIOAKOgCPgCDgCjoAj4Ag4Ao6AI+AIOAKOgCPgCDgCjoAj4AjUIOAGixpg/LEj4Ag4Ao6AI+AIOAKOgCPgCDgCjoAj4Ag4Ao6AI+AIOAKOgCPgCMwOATdYzA5rz8kRcAQcAUfAEXAEHAFHwBFwBBwBR8ARcAQcAUfAEXAEHAFHwBFwBGoQcINFDTD+2BFwBBwBR8ARcAQcAUfAEXAEHAFHwBFwBBwBR8ARcAQcAUfAEXAEZofAzQ8Tml12ntNCQ6AoinD11VeHU045JdzjHvcIK6644ihF/Pe//x2++MUvhlNPPTXc+973Dre4xS1GSdcTCeHPf/5zOPfcc8M111wT7nrXuy4YSH7wgx+E97znPWGVVVYJ6623Xqdy/eMf/wif/vSnw8c//vGw7bbbluL+3//9X/jIRz4SzjvvvLDBBhuENddcs/R+sf74yU9+Et71rneFH/3oR2HrrbderNX0eo2EwH/+859w3XXXhfPPPz+cffbZ8X7VVVcNt771rUfKYelP5tprrw033nhjWGeddUarzM9//vPwuc99Lnzve98L8Kp11113lLQX2xj6y1/+MvziF79ohT08j7b68pe/HH76059G+WH11VcPN7vZzRK23//+98PXvva1sMkmm6Rn9ob8PvzhD0f+ufnmm9tXy8w9Y/JnPvOZiOWmm24all9++WWm7rOu6GKRU+A7X/jCF8Ltb3/7WUM4r/n95je/ifxkww037F0O+sC3v/3t8NnPfjaOw5///OfDdttt1zs9G/Gmm26KMjDXIWUkTeYQF154YfjkJz8Z7ne/+9lslsr7yy+/PGy00UaVZf/nP/8Z+d8VV1wR/v73v8fx5+Y3v3kMi8z0oQ99KGy22WadeOMY41NlYZfih/CN173udVHevNWtbtWrJshm3/zmN6PugO8RvcEtb3nLXml1jbSs8r2uOHn44Qgs7bI949wNN9wQGN9+9atfhbXWWqukO7z44ouTzD4crYWbwrT0pwu3xvNcMgHcaRlEQBTAxXOf+9xClFmFdMH4J8qEQUiIgFG84x3vKJ70pCcVImSkdH/7298OSndakWVSEctJWfv+HX744dMqXildsH3b295WPPrRj064PvnJTy6FmY8fV155ZfGqV72qEMNJKtcHP/jBVkX505/+VIihrHjiE5+Y4t7pTneaE/dTn/pUev+QhzxkzvvF+kAmkqneMiFbrNX0eo2AwO9+97tCDMOxv4jhOfUbePtZZ501Qg5LdxKi/C6e8pSnRFze/OY3j1IZUfYUt7vd7UpYgzf4X3TRRb3yEEVSIUb+At7eZwz96Ec/2mosu8Md7hD7y6677locf/zxxbe+9a1e5W0bSQwHsVzHHXdcbRTqvmTJkoKyqUySXx/wgAcUL3zhCwvakHD8tnTJJZcUBx54YGwDjfuyl73MBlmm7pHxwAE5TybJreq+//77T+xDr3nNa1JatEGT/PTqV786hV3MN4tFTvnud78b+wx9h29ysROy9SGHHBLrvPPOO/eqrhgRClHWxu+A743v4alPfWrxiU98old6VZH23nvvWEbGsT704x//uDj22GOLhz/84TEdyonc3pZe+cpXNn7nygOQ4eEJT3/60wtxYCqGziubyofcw/wB/kYbWPrXv/5VnHTSSalNdDzgimzNOPGKV7wiYkGfn0RjjE+MWYpT3RX8HvzgBxcveMELCnHSKpgnWWIeWBe3y3PkjK50wgkn1Oat/T4vb5s8vvOd75TmgdRD24s5rxgBS8lMQ85Z1vheCVD/MXUEljb9WB0g6M3gUfp96pVnyAzI+Dzrw1/q8lxoz6ehP11odVyI5QkLsVBepukjAGOxSmYYzFDBEqUH6d7lLncpMbOFarBgAv/DH/6wQAhTpqtXhCQUI/bvmc98ZhKONRyT+1nQV77ylZi3FeQWgsHirW99a2kCBC5tDRbi/VkwCbNGMwa9nGz7UH/xisqDLMrftq2ZeDk5AlUI/P73v088V1bLxSAYUpVHPfCBD6yKtkw8Y6KL4kix4DqGwQLljU2z6h7leVdiDH7+85+f2lPTbTuGoqT52c9+VojX6BxFzSMf+ciooEGRhELE8hfywdGgbT5t6yWeWMUBBxwQsYKP1xEGWWuoYEyg3RhfZNVdHKMpt+Kh11zhdtRRRyXDlIZZVg0W4lmc2vglL3lJHfRznv/tb38rMPDRDxVDvb7+9a8vZCVRISsiUzzukf1sf+Ke7wxFFOktC7SY5JRvfOMb0RiL8fUPf/jDomw+lN0YSLVvc+1qsPjrX/9aHHPMManvw7dQptrvYwzwPvCBD6Ry9jVYwGOZw1h5O+efTWXlO5ZVbcXRRx+dyqLYkS58ljmJOk7oO66HHnpoa4NpUxnsO3gUDgPUQVbh2VfxXg085M/Y9973vjf+vehFL5pT/ssuu2xOfPtgrPGJ8bXK0YE6gOGjHvWoOcpA2gsFmRKGMYutGu6Zs+bYY5jhOQYkO74Sv6scRJ+2fceWQe8xAHUlZFaNT9/6y1/+EpOQVSzF4x73uPiOfOl7StOSc5YFvqcY+nW2CCxt+rEqdDBC6LeKrubEE08szjnnnAKnlJy/wKcWK01Df7pYsRqzXm6wGBPNpSwtBFBlPlyHGiy0+rKss5Tu2EoQzWfMKwKtxaLJG5F3TNwJj0FjlvT2t789lXMhGCy07qx8UPzaGiw0LpMFjVtlsPj1r39dkD4D4vvf/36Ntuiv73znO+OE7PGPf3yBUtrJEahCQD1amNQpYdRjAozi8IwzztDHy9QVL3AUGijilb9w7TpRz0GDB5EO2B555JEFyiQ8V1EK2Hy4xyjbh1AO2LT6jKHqNazpyBLuUlHwSH3jG99YygfFCUq4sUiNFYxbVcRYitFfy8gVRdMf//jHquAFCgWLM2NCFWm+pLesGixki8WE66WXXloFU+Mza/AAxyblJn1L2xCHFZRNyxotNjkFwxRjCkrPPl7Tde2PEVm25ql7PZPnrHygbuqdr323i8ECj3sr92JImIacxsoIawzsa7BQYGW7r/StNn3TGr7qalf/MsbmBD/IDczPe97z8mC9f+MNT/sxX8BzOScdo2lX5KCcGJftOMIYXkXTGp/sPI4yypaSpexpI4wX2i+5qjFAx3Xa7utf/3opHt7PNg7pWGL8JB5hjjjiCPtq4j0GH+KBO+Nu/kdbWKPCxAQlAMYJXaXKmJ0TOgrSJV/mQVWkeGi9h8o50+J7VWX3Z8seAkujfoxW4rvQbwwZTw2L2oKMh895znNSGBxeFjNNS3+6mDEbWjc3WAxFcCmPj9ChTGgsgwWQINRoun2ULbOGFYuplpfJwSTCcxTsiDdLkv2oUzkXksHCemN2NVjgEazYVxksZomv5+UILG0IKA/vomxZ2urYp7yyt2ry6rSrLIYYLBDSGR/APB/XMBLlBgA8kPqSTuThjXlebdIkb+WrXOWsjcpoavDSsBhKxyBwJs06RQN55GVkC5FJhLJTlU3IGVV0+umnp7ovqwYLlWnor3ik9iG7WraOv+CBr9vQocichtK2T9k9znAEZC/q+B3ttddewxOTFFjVAF9jxfB8EgZR3e7q3e9+d+IVdX08LytxWaWmPFOOgsyDjPIbhbk1ipDfUIMFq8q13H0NFtYJoE5mZzyE92teXMfYehD+omNjXT+y+eZKfW0YxnLlb3VbFU5rfGLFhMXlq1/9qhYrXVGI5SsmvvSlL0UDPHHlrIcUVm8mGSwIJ+c+xbxZ9dKWmO+CFWNJnTNB27RsOOuslhttNBzlpL5141jeRmPIOWPzPa2LXx0BEFja9GOUmdXOyrP45upIjRasjlrspHNvcBlTf7rYcetbv+UEaKdlGIFpHcK4wgorLFWodi0vh3+KJ2jtgZ/Tqrw9dHRaefRJd7nlnJX0wc3jOAJDEJDJe+BgXWhavHxI+eYzrkwKgh6uKQqOUYpywQUXBPE2DmKUnXN4NDxQvCCDeEamvOQsi3Tf9abrmJSn3zb+fvvtV4rKIc1DSTw5w0tf+tKYjCiDKpPjMG3xuk3vCC+GpfS77mbFFVeM+PNelDqVwTisc1kmMVCEM888M0Igns69ecNKK62UYKzqT3wLj3nMY4IoDoMYkQLfBwcwOi0OBEQpH0Q5HWSVXpDtIAZVShTYQQwfge9+vkmUn2HVVVeNxbjNbW7TqTiyAi3yeNnyL8aTMyGCeHl3SqNtYHgnY8jJJ5/cNsrEcGPI6vDgSUQ+cr5dKZhsrVT63eeHnO0Q+5Bscxfufve7VyZhxzAOiK2iVVZZJZx99tnxlSi55wSZ7/EJ3itbHJbKJWdBxTFPDBlhyy23LL1r+0OMVIG/urGzKh05nyceXH7QQQeNegg244YSB243EWONGEvmBKkal+YEkgdd5Jwx+V5VWfzZso1A2z67kFCyvJuxvI7EUSkw3/rJT35SF2TRPPc592yb0rWMs8Xbc1tECIjnR5C9zBdRjbwqjoAjsDQhIKsIlqbiLvVllW12gmwjUqsooYJW6X799dcv+DojdIuHfCqnrHhL931uxHsmoCSHUFjd/va3j/f5PxRPlg4++GD7s/F+/fXXD7KFRDQeNQZcRl+K52rC5glPeMJUUJBVP+GhD31o+PznPx+NFbLNTlhjjTWmkpcnOn8IqOHxGc94RvjlL3/ZuyCvfe1rg+zf3zv+Qoko2/kEVd5gFJetcpJhfMwyiid8ePnLXx5k9XKQcwjGTHpmaW2++ealvKoMA6UAE37IeUbhfe97XwzF/KsN1RnMibvVVlsFOeOr0oi2EMan3CghqyqioULO4WhT9dowxMfo0Zbe8IY3xKDnnntukL3pg6zkCLJtZdvoteGsQVw8uCvDKc/AyLj22mtXhmnzsKucMxbfa1M2D+MILE0IHH/88QHDfRVhCH72s58dZNu+qtf+zBHojcDyvWN6xITANddcEz3+dtttt6jIwAuAAV32jwwrr7xy2GmnnaJwoJ4tDPRf/vKXgyyBDLLfYthmm22iF1OTZxpKALwWEWIRWkgLJcO97nWvVl7+smw/fPGLXwxMZGE0W2+9dcwzVaLhBm89PFZkaW1kQlhPd9hhhzhJHWJhBDe8lMBgww03DLLkNNz2treNdbvb3e7WUKL5fXXVVVdFj6d3vOMdlQWh/c8777wg+3kGFappN7CXg+IibjvuuGNYd911U3ys0VdccUX8Y9L/sIc9LGy//fbpfdON7HEb+x8DBHHvec97BlkS3ehV2bdNZTuO1HdlaXlgQiLL6JuKV3pHWbWeeLjRf+973/uWwlT9kKXxsa+cf/75AQt+TvRpBFu+OTkEka3ugiyfjnHIk/4kW2hNVKhQNr4TFI0o2oiHYL/eeuvlWfb63bXP4+WFNzc4W89tMgcL2rEN4TG05pprloL26QMoM8lX9qGOWPLNUjaUV7J1QSn9Lj/A5ayzzooTdMqJEoD222STTQKedHZiQ97wV1YWyD78kXeADe1UtQIJbxCUanIYZkwfHkP7yrLvyE833XTTsMsuu4TNNtussciynUW48MILgyzfj95p9A081eDD6slfl0AfrOvS4jm8mPrDY5ToK9RRSbZqiDxVf9N2eMput912kQdRFxQAeKPLOQKR92pYrnzftAv1lS0wYlpgTJs38X3i0GenOR7acs7yXs4smshD6LNKG220kd6OdpVDKisVLKuttlocN/pkZL2eN9hggz5JpDh4Y6rnJLJPFV155ZUB5YcSRp511llHf7a6whdudatbtQpbF6iLXIXcpsqTPD3GMV3FA78hHGOW0hZbbBH5pP7myjiDHCjbpET+9qAHPSjAp8dQ+suh6zErlDx872OTnFERHvGIRwQ5VDsq/BgTyKstIUfQR5CLkFvg+fAW/qxclKc3bdlqqBwxKzmlL2/uM34jn9G2eDjLWT1Btr3Lm6XxN9+DnPUTDj/88BSOVQP0IYg2z3kOKwfhc/QPeNPGG28c5UTmSihE5ovwSpeDgVP2GBPGkg1TonJDP2RlC2M4eIP9tAleCO/m28xJtr6Isk7+fNJv2SajFKTrapZSZPkh51LFR8iaTfPlO9/5zoF5GnTaaaeFO97xjtF4XiUfsjomV64tlPEp98RmvMtXCsRKdvwn53q0jgGOzNMhxiz+IHgCuwzgtMf8vQ/ZFTL0PTkbMljHBWRJbUfZ2rFPFqU4XeScoXzPZiz7/0dDm5yVGfkYcjtGT/oZ/Ayngvvf//42ypx70kBnhOwPH6J86AlU7sgjILMjh7PCCGPzddddF2SrzDhnwqGkzbw7T5PfbcrB3IRyVhH8Hh6DPssS823rOKPvmFuiTyFN+AmyAo4S6KDsvFDDc522nMD4JIdNx7ZDdqWMtA1tKmd/Rd3NJB2MLW/dfRus6+KO/dzOj5H7ZGvCuIpXVyra/BQT+0zvx8COuTgyBH0ImQZ9JmMC8/Em6ovnEP1pU3n8XUcEREhx6oGACNLxECy7h5lMwAthYqX96aQ54r5v7MMIEU8GmLQXnL5nf8iqw8OIw56M4mET4xCX/UNtGjIANO4NSrk0H/Z+5qA5ETbmlLNqDzb2laRsxLf77vGbtOr2i7TlE2ZONUok3gsxTfATL8x4FoSWcT4O6xGPk4QR2DQRh5WBiSUOqGTvb/bA1XoI8yw4iJGzJvSZXslDvNXi3tL2gFB9z7Vqn0C7Ryn9QJTzc9ImLuWr2y+2b5uKwBP3bid99q1lL11tZ9s3REiy0MR7mbQWS5YsSWWlP+uhcvYbsvvhsm+q7tkKXoqNTVyU3LE/6zvC8R3p96LPtcxVfZz06KPgSTgRmgr2X7RxaUsZhGM/ZW9w2rsrte3zMqAXsv1Cae9i9sbPyZaPe+quf/k7Dm601KcP6EGG5AEGfLfckxdt2JVE6RIPQAZvLa8IIKlf6LO3ve1tMWn2jYZ38Zx+Jx5whXjHpbgilJf2aufAQXiJ7Zvw3wMPPDDF0Ty4sp9uHclS/FRX+onyROKBgUxE4oFj4AK/tdQHaxu/6t7W29bB3ouCqGB/eQ7dtt8D+/uz57YNC65KMhlKGFE3vgXbRuApEwgNHq+zHA9LGbf8QV/V+g45w6JNdmI0SnkN2dvc8kU7hr7rXe+KB+FqffR7zM+eOOWUU1I5CFs3Vlv5gHDwniEkW6SkfDk8vIrE2zqFIc8TTjihKljvZ+KFm9KvO8Oiq1zFnud6LoRiz5Xvw+4nTlux57+G4XvhAGwl+J6OL7QdfzasKIQ0aK+rGEdTmkNlKfvd77rrrrE88GjlqWJg6Xwgsyhp0kGqpM9+8xYDxlnGQKVZyFZD5IhZyil9eLPiOGT8tjKs5UWadtOVb1v7d9U1lxc53Ff7A7yEsdXGk21ySuN8U95t3olxMaU/6QwLeKwtC32ZA5tf/epXF8gfYvgvONCbb3AI6XyE9CHkVs136BkWyIKaFnKtEvwNvqzfNmGQx5FbLf8iPN+opmFldk1Lr/BeDceVA9f7kjidpLSY9zRRVZ9DbmPO1YamPT6Jo0iqC7hUnWFBOZEdLX6Tzniy80Pi5Ydut6l7HqZqzLNl4h75uC9Z2ZS0+IaQG8SYn/gA8mmdLDFNOWcI3xNFapRr9Lwt6gYPzvuWYsl8mG8wJ+Y9ds5iv0/iUn8lxkox/MSD5jVdMU4UlsfxHP7alUd1KYc4I6T5tJaDK3IPegnOcIFv6DvOvkJ3lpMYKGMYyrv33nuX0kR2sDqzacsJYjSOvF7noJRdtjSdg63WiTmqKMjzKsXfqjchbNV42gXrygym8BAepXXTK+NHHe+yRRgLO/RIzE9UPrA4UiZ0AmIMs1nH+yF42vlRV/3pnIL4g0EI+KHbPeGjE+vhMvrx6seDYITAhMJI33FVJRECOAIXwq9VSshSyzmlESt1+jjFo7A0yPDh2vTFI2lOfPGISgzfCi8MpnYySjq5MlcFRJRj4pkQ0xbPnyiYa74MOlXKW8WCcDlDVmUCdedQOSUV4hD8Z006QaC8MMM6AmMEhtxgAS6yf/mcQ9IISz3Fi6eQfWhLiiYENfoCYWhb2lM8eEttCqO3lAuklJf4TOyUiWvb0AYcPGupb5uKh01K3xpSmEDTXpon13wCimCkh+AxwNlJA8oZW247+UGBTHj7nvQt8Y1ZgZD34A0mDF75ZLdKeYXCQY0nHHCoghyTqzxvfpO2hrFlabrv0ucRiKwwR53qDBYIcbL3aylrFErE0T+EPkt9+oB4oKX0xNMlJSdekhEjMOlKtFuOrz6zz7X8agzkHYZAJQyIWle+ISUUH2qE0vfKb8GNib/Nh75GX8hJ8SIN8epIr+lfmq5eSc8qxDVuHx6aMqq4oZwIb3w/mjd9mGf6Rxj6u9ZZw+n3Ynk0ikeICRM4EJYyW97NJMTiZfnArMbDCihaPZqlwUL2eU5twnfTl2y72XagjWgv2og+KN5klVlMmsgzbjMm2TZlHOnK22zm8CLtZ0xO6yjnyyj5xiTlt5SliucPkatyuc4q120dlIfbPsChw/BK/qw8dtJJJyXcKLONY9Nsc29lBO6HkJURMVjAz7S/0AeZCHYheLL2D9pIiT4nXr/pHX1fcZ2FbDVEjpiVnNKXN4Px0PEbXq/thoK+C+lYZQ2ZyNE6Ttm0VDnK92EVIfA/2xdRJFaN1TattvdWmTfJYGF5MnhQTsXFXnnOeNmHtDwoNpVmYbAgL2Q7rZNsfRXbSMtgr5MMFvA5q2QFG76xIWTH8EnY8q3gyGfbhHt4l6yML807q8o07fFJ57paPtvXtTzMje03Q1iM3U1keT/h7RjTFK/pHboCnDDQTyBPK//Xsuu1r6EdPq9jpabFd6b5IN83ySTTlHOG8D10Lzm/0DohW8PD9FvTeucyEzxODTrMbZTn0a6aFnFxSoIwvFtnKt4p38zLwjfSlrqWQ9PF2UzrxtUaPpl/8UxW1Wjw0pV5lMa18awRj3mc0rTlBOZ+OjfScmkb0H/hiXk/Zo4FL8zJzr2sbE+4vljneUzjd66fUhyQsWW3g9osx8JOVjfGPsG8R/tvrsuU7ahK5RiC5xD9aakQ/mMUBMrav1GSXLYSgWHqRwsTyo0GVsgiXO5xaZWLMDtLCPSqXGIQ4ndOeBtp/gx+VnmBR7y+q5pk4BWo77lagwWKB2Wqsl1RKVsYkzJq4uHxmZPG5X3OkNVCjZEgJwbsoR5EeZptfluDBWXG4m//GPStcJEbLDQPOzEkHYwYDKRKDF481z9wkuWh+jperZI1b7dcIF2yZEnyPEHAxTCiaXO1HpZ92xSLtbYnA0VOGC0sNrnB4t3vfncqU96XSMsqa/JvgPd4ZNg68cwSBhD7HmHQ9mXZziy9p5w5yfYZ6T1lsSR7NaZ3qtS179ve9+nz1rsnN1jQ1tQ5xxPB3k7UELCsZ1LfPqCCZ1X7gBH8oA8hdNi24x4jCIY6hBOEQCZpGCg0XF4Gy+dygZ8yEV7j0v6s2lGCN+k7rrLUVV+lq8anjpYHg6vlg5deemmKw01frEuJTPghy+VT+TFYVBECmyq4ta5MAKgL/AVFpJbd8g8EwZzUAKPp5OPdNMfDvCxdfttx2BqUuqTRJizfn/LCoeOYnWDqGMr4oTLBJG/LfCKPMZbJL/0kn3iRF99blfNBm3prGAwP2jfwzK2jfFJd9d3lcemzeOHV/cE3lJoMFkPlKniW/e7z8Y4y4PkHDvAvSzoO4GGYE+2j2A3pO4z5pEMZmxQ9ef5Vv1XZoelp+bgyee1CjMmKGw4aOVFWVc6QPk4OlqYtWw2VI6YtpwzhzUPHb8v3MSz1Iat8rVI44xms/avKYxsZQHkr4WTP+z7FmBNHDQSk2WSwwDin5dMr8jfYIFPgpKb9m/fcYxjtQlpH5h72252FwQKlOfjyh3d7E1mDBXXlu+WPNrbjFu+oS1V7NqVf9c7KtdZhpSoszxgzbRxtMy0Tq0LraNrj0ySDBWOZlaUoM4r7SZTPD8cwWOR5Mh9EQV4lQ+QOdnncut/wXjvWaFs1yRCa1jTlnDH4njpaUSe+LdsmzCGYs2h9uZKnkq4UqsIBRb/GI107z8udKlTvhFEJ2QKjXRfqWw7ysLwC2RX5S+XEXD6yZbL9y64OZu5LfbXuzG8sTVtOUCW25o9+w84LmavrO66yHaItXrxXfQrvVbbXQEOw1jSmdQV7DAK2fnpPm0zi80OwY0wiL/qFHRupq2zFVSqT3V2kL55Wr5Dr4cizSX/Ke6fxEXCDxUBMdckaH1KVIuTiiy9OHxIDchVZIdcyPuuNxqBcRQjRNr4diHQghJHUKSIs47dKXt1qqE6AV4956o2QmlMTQ1YhkjDW2540UB7r1gN5mtP8nRssYIr2DwHWYlVnsABnZeBc88GUOqBQ1zBVnqVWgY8SyZIVSClfFdntKMgHxSnUt02t0l7O4KjKsiSUWAUO/VNxq1PCoKxSPHJlNJkxOOl7rlVk36vl3YZreo/yRN/nCthciWHT7HLfp8/blQO5wQJMqlYiaRtrfXLFgL7v+l1bha8VuMEAYRIe1Jfs5JAl01XE1kZaJxR7luCZ+g6cc7K8ynrqaLim96xQ0rSrMGMioe9z/t8Xay1Xm2sbgwXp2D6OF2sVWUG/aSJhvQ8xqlma5nho8+l6b/tv3k5d02oKr2M230M+tjXFq3pnFT9MajDcwR9JGwF9EuUTefgwY66VF7Tv8k72oi4tsZ+UftV7Jmeapq6MqgqXlwGj9ySSgz9LCm3NhytGGFYBKjUZLLSNiNdHriIPvE01/yr5RydJllei1NQ4+YSLNFHA6nuuVUvbCddEpKvY1n3nTfHzd1VKJFtG2qQt2RUUdVvDWAUR+diJ57RlK+ph69ZVjpimnDKUN1v+Z/skdW4zfiP3KTZ1si9pNVGTwQLslN/Bi1CMVFHuoFU3r6mKW/esrcHCYgAWVUoMZFmVdwmTG93qyqDPdc5Ge1uatsFCnXr43nU1vc0/v7dKSOrJuGLrrX2FK/MUeNuQtlIHHU23bVqE050NNK69wser5mjKQzXs2ONTbrDAkM34i5FCHRI0b65ycHhlOfN2sfND4uXfeh5+yG/Gp1x5iczblxgTbJ31nnGsaSycppxjv/m+fM96pev2thYj6ma/HZW96buKAXJ+Tszt9D1Xa+hAcazvkBnr+GmeZtXvIeUgPWRX+z0xr+U3ddZVlFX5Wicr64hLWDuW5O9secGg6vseooNBv6HY8t1WkXU2pJ55Ger0Y7bsXdu8qhzTesbYZ9tU8eCK/q7OcDkEO3VmweiRE/3blkeNREPw1LGY9iOdKrLfrdWfVoX1Z8MRWE46mNMABDiwVKnqIFJ7gCAHcFeRPThSlMspCIeiKnGIWBVx4M0+++yTXonXZbznoGHZpiPec/ClLWcKLDf5Qbz6Tgwt8ZbDjjioLP8TD0ENmg7hSg8m3HBQFMQBWBw0xeE5SpRVlPT6c16uwvjiYX/igZOuMnEOoryMB0Xyvo7yPlB1yJs9eC4/VI1011577ZS8KL3SfX4jAlT+KP4W40vpuXhOxd9921SU5TG+MOfA4aFVVHdQ6Mc+9rEg3lAxiggZVVFD1aFNNmCOqX2n97ZNqvq6TIY1aDyQK/2QG9pWicOVLHGgoo0rExf7uvV9nz5fd6AYmYKJCOql/DlI+uUvf3l6Jl42wR5qx4u+fcAeAL/tttsG2c4uHSpLfxZlXMq3642tJ4fXVhF8SiZfQYxn8eBoG0YEu/STQ7hzsv3B3mu49ddfX2/jgXTph9yIAiL9FK/pdK8397nPffQ2WN7Nw75YpwRHvFlxxRVTanWH7XFgnNKWW26pt3OushViesZB6bKCLP22+FZ9t0PGw5TJAr2h/Tm8HBLD26iHsXL4JH0NrLnvc5Ay44CsyIr8Dz4nxrvA4YsQPBo+D6+TLW7isz7/7Ddix7E8rfyQzpzv5uH5zeGeougJso1V6fWSJUuCGP7Dg+TQ6jY0RK7S9O03AI4comkJ/sj4LN7F6bH9vvhOcplKFBspLDd5mqWXNT/IQyaL8a1MHGtC9XvM+C8rLEuR5fytICtsS8/qfiBLKm266aZ6W7oiD1q5RlbTpPc5P5mGbDVEjsjLlwpubvqmb/tOH948dPy28h08ZGy64YYb4qGqpIvMcvOb37wyC1HmpefwLItLejGlG/F6L6W8yy67lH7zg8Od5TyL9Jx5EnOxNoQ8x5yNqz3gtE3cIWEYq5BPRSEUeX9+APqktEUhGscV5keikojzOlFMJd7H4bvwNmQ7MY5NSq7yfS5bWTmjMsL/HhKO8UGU4aFq/iGrlsKznvWsWG6bzqzHJ/gc4y+HIoviOY7D4pgTZEuiwBzwxS9+cRwvbBnn+x6ZknFOHNFSUXSumR60vEGmUR4lOwyUYokDX9h9993TfKP0suLHmHLOGHzP8rJ11llnTonBURyK0nPxJI/3YKIkjlhz5AUxLurreBWP7/TbzqkYU20ZUqCWN0PKQRbU+dRTT025yZapUUaB76y11lrpeX5z2mmnhTe96U1RB2PHTfiw5cUq72j8fBweW05YbrnlNKtg5zPpodxYOYlxysrFNlx+PxTrPL1p/RZDTWyDXNdEfuJ0HMToGqpk+r7YiUNDOP/882N1ZPupOd8CbW77Abo7qC+eQ/WnMXP/NzoCy4+eoidYQiBnnqWX//thBxerENWPjmB24MzTQIGIIg9COIQQ0JRuf/vb622rq1grE3MQK3cQz7jGeE1lq4q42267BbGAxleyZ2p46EMfGhBSMFRQ1k022aQq2oJ4xmQKpZRYmHuXZ1KfsO+tMrBthgg3YsGPEwfiwHz7tqmskEjpMBnrSuKhkqJQpvkii2leBvEAi8o7njPAqXFBw6GooZ8iNNlvVd+3uU67z8sqg9J3Sp1kD+FS0fr2ARJBGQgOanzad999g6zmCuI5F42OdYasUgFa/KgSLjUayj9VAPJdoCwXj6VoRNQw1LErNQnztl4Ytsh3lVVWSVlYgdVO9IdgnRKf0o0VGm0WdsJTZ8gmPPzFEvylzqBuw3Hf9B1qWPuN2fFQ3y/Uq6y2id+HeNdH5c+Y5VRli6xuGWV8pH3hc/ztsMMOQTw7Y3ER+h/zmMcEOSwwfu9d6yBbVqUoTX0I/mTHBhSW1pCfEqm4UcWGvsr7oz6vuw6RqzRNnEww9jCphrjKnvPxXjwfoxwGb7KkBkzGEdkf3r6acw8f3Hjjjec8n/RAPCtjEPJoa8CZlKa+F6/EyO8plzWMY7yhrZnE1hH9QscOytbEB2hf7RvWYFyXtn3elC7h7Ps+spWNb/Md674u/aG8eej4bWV8eIR4jIa6caQPFrL9Qopm80oP/3dz29veNipzkccgrih2Z0Gy5UrKhj5cpzSXFc5RQa+B6cOT5mCyoiIqzsWrM8jKWY069SvzRVU4831Pch5qUyDkIIylsiI1yqCyojFGIy945gUXXNC571jlV595xOabbx5ky7Fw5plnBtkyr6Tcki1dAkZAFGFKsx6fGDOQNeH71rlEyzP2FaO9rCCrTBYnOoxXbYm5vKxojMGpR1e64oorooKTeDgeyGrJwJgiq5NSO2HIQzk6adzM8x4q51heNA2+p+V9xCMeEVDkQ4x9GP7krAZ9HXBEbZobEZDvdxo0RjngB8gH6oCAkXMS395oo43SN8l4w/eLAc86PvStb904q+nZ933kBIxElpgjMX+eRGNgPSmPsd5jbHrLW94S9thjj6h7UJmN9OH1zClwWO1KVdhZAxXGb+soWJU+/Qvqi+cQ/WlVefzZOAi4wWIcHEdPBQWkGh9InMlenWeVVZQxqKIsw9taqW5lh77Pr9YLBgU9AviYhGcAA/DTnva0lCwGAP5k6WsU9secDKVMRrrBwNK/oKrZAABAAElEQVS08mGkbAYlg4cWK1ggjA5925SJlJJV1OqzSVc5oyUF6RM/RZ7iDcIinhwQhj8Ujyqw8D3Jvp/xHQLXJKExBqz4N+0+jxcSnllKKNDy1Tt9+wBpwkOYaO64445J8cTkBE8KWRYeZCl4WH311TX7qV3py0yAMW5SJlnuH2T5bVqVpO02VgHwDkIhyioO+gKeg5ZvWYHICuBDsB6r7F3TsSuN8JasI7sihTCMTW0NFnVpLu3PGbf45mTrlbDffvtNrTpM2mRblDS5HSMj+jNKfFlqHZOjnzMxxDN1CDHpriNrCCQMqwnyiUpd3Nwrzxq46uLo86FyleUvslVFbHPSxtMUz2p4Ll6yEBM5S2oowXt3bJmKfJD7bN51ClVbpj73OGxg5GWcVMLhRLbWieODPrNXK0fQv2QbjFrjv1VIWj5q01vW7ofy5qHjt+33YD+2wcIqCGRrhcbmxWCmBotZyuF2pS19uI5QkhJWyyhb+dUFTc/1W0KphUyTk81Ptm9KYfhWWCEwBuHggkPIWIZOeCFjimxTlOayrEa75JJLJiorx6hPngayO3yX+RuOeNYYCk8DR5VhZz0+Md/tMo7ldev6G8eHJsJRpG15MMapjNx19RWe58wpIAx1GCsg2ggF6BOe8IQoe/MMmQRHqbvd7W787Ex95Jxp8z2tBIZYS8gpVocDLtY5yoad9v1Y5WAFkRos+PZwOGPu1kSMMxjDcAYhDkYdnOSYc8JLFirBa1CaK4+RLYVaFXUsrFtlNlIgxgwcPTFQ0KZKGJZYAdnVkFaFnTVYwBsw7LehvnjaeF31p23K5WH6IbBcv2gea9oI5F6/cgBqbZbWcss9g6wqq4nUFLcqUWsssBOJqrB9n7G0m6WPeLJYYmnknnvu2Xr5p407q3u240B4WshkBSC8i/q2qVUY2EGjbd2tANu1H7bNY2g4JmhMYCC+GwRnFCqQbnfBdyWHnMVnff9Nq88zMbZLUFE05ltBUea+fUDrS5oYUfF8sgRGTFjaLnu1cbvcYzRgK5FDDz00euugBHve857XuPqsS/p1Ya3iFpzxCINQlsh++PGevmG3ORmKdUx0xv+sQRGPoDpCEYqHqZJVMOqzZemKYI7CCQ9A2Z93KlXXfkbiBx98cDQejpmRNbaRLtuv9SE7qa7ank3TzBVCahTW903XvkZj0hwqV9lysbWabsuA0Q7vUBQ9bH/AGJIbVtSAjCLGemvbNIfcYzxVxebY20Hl5UJOU89pfYdSRXmjPtNr7jXcpJS2BlGrJNa0lsXrGLx5yPhtv+VJK2T6tI+tH6utmsjKtnjhzoryvmgxycuAUUWpDb/S1UfIUmzlmf+pMZk0Cavv829Q82x7Zf5lt7BiVYSdO7ZNpymcKqE1jJwTp7etr3Z7wUnlw3nAevvmmbCSj9VueXtah5/5Gp/ysk7rt5XfxshDHVbqnCrr8kCu0TFLV5FqWORKHDTUW5rnupJDw3S9dpVz7Dc+Db6n5VdDGb/ZEhEdjp1DsOJ1vmiscuDUYYlVNMr37HO9x2mKeTnzZla6MN9jnjVLnq9l6XO1PKvtFn9jYd2nvE1xWCmhWzJVhUO2xQk51w00xalKR5/l2NkxVI1AGrbp2hdPO8YsVL1VU70X6zs3WCzglrXKfLskPC+yHDqUHun+5HbSZ62FKWDDjY2L15wcjNQQ+r9nAOi+i40B//cSIQDvSyb7xGNrGStAYaW151q0SXO+wqC0ZIlak4JvPspmBS2EyL5tyhkOSgwUbT0FNI5d/dNnT25NZ5pXlCkMrCwVhxCisarjCYvnFSsrmGRZDLuWZ1p9Hg8UvE2UEHbx8q4iW/6u3zXLYtlHkv7AtiN4t9i9xukbui1dVd5DnyFA4FmBgMukA+HXCvlD02+Kz/J4JrPwKCZXrCqhbzDxxUiDoJZjPgTrprJM853dis/u/ZnnCe/WSSbvrHImD7vYf6P4eOxjHxuXRA9VHjVhhdLHKpbwaFcP3qZ4bd/lW5ZYQ3PbNAhnDRZ2G488DbwqraMFWz3ManwYIlfl9WBvcSV4Emds8G1UbaNpt1ScJN+AXdfl9OwdDMGn1ACvZZvGFaNFbsSnXXUlic0z719NjjBWdtl6661tMsvs/VDePHT8tt+yPXNvrAax/YOx3uaX52HfWRkkDzf2b7ZLsjyraXWHXd2Ew9AkwgsVp4+6PzWMkg7ft4bbaqutJiU98T0OIOoFC+/Cq10ddiZGbhEgVzA2GSvrkrNb8xCmaetP5FPOO2oijF65c4F1zprP8amp3GO9Q2eAHFf313Z1hZZHzxjZZptt9FGrqzUsVZ1fh9HfGuu66jLyQlg+w7tJco7lNdPge1o+u6JZv2nL8z/60Y9q0Mor7YjepOv8vDKx7OEY5cCRga3DkFvVAAWv0ZVlWZbx++aMIDz04Xc4BbVV+udpzddvlc8pvx03msozBtZN6fd9x7kwrBiu20aOdBnzWP1iqa+yP8fOzjHtKg6bl71nyzv4eV887fx9KM+x5fL7YQi4wWIYflONbSedeO2xTLCKLFPQQd9+4CgX2yxL1rSx7uugwrPXve51+mrOlcklChu7ZH1OoOwBnhR6OBd5YWlHWYEiUKmvZVbjz+qK9zV7llcdpjWrMlTlo1sw4EWEkrlvm+YCnu6RXZVn1TPrdY73GAr2hUhM0NjiiIkgnrIIiBx+yLfFVmX5IXxd6zCtPs/+u1b5hfI892bF2EK4vn2AurIkF8OiEnvfo5hSIw/Ph5zrounWXclbleQITtZTGmF92oQARf4o6PD6wouP/oLBAg8g6wFCWYZgPe261KVv+S91Ux6Sh//tb3+bHqHosF4s6cUycMNB8xjP2AOcLdnqcOAsA7bxGEq5Yglvpj7761aVI1cy3/Oe96wKNvGZVTDbyX4ekUkcmFnSPZzts2ncD5Gr8vJwNhF1gTACsw86StSq7a2swQK5oel8Fra+4MDetmS3g0IpoKs52sbvG442s4eFwyPhCfkkD/nIypQcuFlH1rut7/YfdWkvrc+H8uah47cqJMGvL2+w2OdyoM5bNEyTgs6uwFDPbo037as93wylSB1ZRajt93Xh2ZL0yiuvrP2z4werIDTs2WefXZdk6+fIKiiBlI+xkrVOkdg6URMwd2azBmMTrPEWec8abaxRM4/I6gjmj4zPTZQr1+2Ki/kcn5rKvBDfIX8r1vl3PKm81rBXF5YztpTyuY0+b3vtKueMzffqyqkKWt5zJilkla2THDrY8YGVt/k8JCY08N/QciATMEfim6KczEWVWDFT5ZjBnFZX3cLvrOMkcet0YZrufF/ZulhXj1h5c1K5hmI9Kf2+75FdacdJO4vgoGqNM1bmbZt3FXZWD8XctEk+4D1b3mFc6YvnEP1p23p6uO4IuMGiO2Yzi2E9p2F+WJurSD9eBgS2SIHygyl1j34bH49pOyBb67w9dAvPUd0ax8ZHIcFggsCrB7fZ9033+f6DeC/YgSv3XqJs7B+PUqDJu6Ypz6Z3tu5N4ew7JhF4VaK00sPquipPu4a3+dfdI5TpsjkORVLq06YMPnrQMengJVHlfaWDM2EslnY5OEKZeoESTsmu4GmjgOuDWVOfYfKDQYHyXXrppXEfVfZI5GwLu/2AlrfvtWuft5N6e6/5Mym2PAIP7CplAl6/epZInz6g+ZGOJb57lLE6kezjOWfTa7rXCRFhck9sm29V/5nUX6qwtWXhoEYEbgyTKOjoF2y5whYbTROoIVjb/JvureA+qR5N6fCOw5atsFmnVLTGZLtd1qT05/P9pD6Qlw2ehJNArmzRcGyNBs+AT5wmZ1fwLVQR4xXbiI3hHUYetIkqligD5yjUEeN7G+KbyY0HOCH0IfXUJa7ynLp0MLjYbwSD58knn1wXfLTnlmd2lavyQrCVjTXaomy3v214VogpoRTEUSPvl3zDGD3Y69muqNF4dVc8GJlQQmNuB8XkUcmO6/qMKx6wfAtKlAP50yqWeWeVoHYrEI3HlXFa97mmL9nJfo6VjVd13zV8VRr5syY5Ig/bJ/+69MfgzUPGbzvG5tuq5PWu+22NaHbeQXjkLAxtSvDeKmJrFPXKZuxRubsqbNtnXdrJrpyC71cRddMy0oftmEr4yy67LB7+bFfGV6Uzy2fgz/xKifHAKhb1uV7bbmmHrJY7slheoem1ue60004pWNMKLR1rObOgyWhuvdpJWOVYzWSa41OOXx1v1bK0veZG8LYyQNv0q8JhWGccxRCFnJwTdaubu9vzUuyZnTYNK9NXzW/a1rGPnDMG37N1qbtXfgev0DNprJGaMZX+n/NN0mO85Nw0HEvbGIDqylD3fGg5WO3E3BoHQLb6IT3r5IA8ln+nVu7OHafg19YBN/+WuvBz6tw1fB1O9rldBdBljjQUa7BChh57xw9V/L/iFa+Ijnq2rvYe3ZDVBeEA2pWqsGM3A7uaEt5ctQsAO9Ggc0K2xljSF8+h+tOudfbwLRGQj9VpAAKHHHII7r3x7w1veMOclITxpvfiaTPnPQ9kr8YURlYqlMLIsvv0Tj7+QiaQpfciwKf34oVcemfjUkZRthUyuMcwXIX5pLi8l21NChEE43uZeJfe8V6YRCHMsJBtMAoxYhQyuMYworgv5csPUaqk+KJYLb2nHsQVgb30XCyiKY5MgkvvxCCS3sn+raV3Y/wQxUlKn7rKIFibLOUEB8LxJ4egprC0jz7nqninAHIjSq4URoR5+yrei9dBei+HUpXeywF26Z1YkUvv+CHCYSFGpBiG9rLUt01lVUXKkzrJhKMQhV5KWoTR0nvyF6/+WBZRwBQy0JTek57S7373u0KUEqX3opQrRFDUIIXtF+SffwPkYTEXA0SKqze2P4oiRR/Hq3gfpvgHHHBAIRO1Qib3sZ+LJ1vBN5nnWUqgxY8+fV48qlO54DOWqLPts2AskxUbJN6DHfxFDjyLv/v2ATmQMZaFds1JFBjxHe3eh2z/qEqfNEVRkLCAd4j3TQEGYsQtwNa2vwi/hRjtYr8hrggw6b2snuFRiURRkt6LIq30jr6kaYvwU8hh34VMEApZZVHINlGFrBQrRHguxdEffbHW+G2uohBP5ZMJd20UOV8hhYN315H91vlmdDzQ8DLpK2RiGtPKeRNhpj0eajm6XmUinepv+XVVOvBsHdtoe3iuJZkUpPfwQvh5/se3qWlw34c0PmWgLynR97RPcpXJXyGGK32drocddlgpnBj90ju9oe8yjtj0qEtVehpn0hVMND2ZwDQGh//TjzQ8V75HO77kCTBm2vBV8oco3FIYMerkSRRWNuoqV+WJWRmMclGnKgJTy+sIK84AkTcjU8F7lJe95jWvqUqi9pl+33yzkzCvTSR7gSxhx80m/kL/tGGpG+MO2CgxPmn9eC+GPH2Vroz9vONPFFjpOTfTlq2GyhHTllOG8Oah4zc8RtsF/teHRDGV0qDt+R5k24ZCDuuMYzV9xfahKtmYb5ly0LfAewwSRVoqV5VMbfPI5a4zzjjDvo73lvcgh1gSx6+Ulxgz7KvGe/ih4s9caAhZfiWrCkpJ2fGb/PgeqwhZSMtDmyEX5MR4Y+e2hM/ndXmcpt9yRk/Ks2kMF6eoFC6fq2j6YhgsVG6lXGIk1lel67TGJ/GYT2Uk/3PPPbeUb98ftn+Rrij/+iYV4xGf9qUd0W/kYwvyg7axeDZX5tU0d+f7p5z8MTZWzZfFKTCFyb8nMpymnDMG37OyBnIoPMQSc0zFAL2CJR3X9T3fK3NUZED6jM5d6Mv0aSU7VvSdl2laXPuWQ5xpY93yMqD70X5D3aiHlTmRhbTOXOGz1I+xx8ryvGNOh75A52HTlhMstrSHGJMsVIWsui94Ttn22muv0jv9Yce5XD/WF2sxkifMSJ9yjEXiQJzSZl5y3XXXVSaNbk7bDVkv16MNwc7ydfKgjsgU6J/EGbQQw1jMm/LJzhipfH3xtN8t+XXRn6bM/WZUBLAuOvVEQKzdSXlDh+YDtQM6DDgXAFGwWUKo0w+cKx+8HXiYNKJ41jAo3xjgENaZ5KpSI49HHjBSK1hqGiiIGSws09R39mPHAKLP665VAq2ddBIPIdUO0jpppS4wQoj6MEknPMw+N2bY/BmcxyLakMHQps89GMGwUBrLNjDRmCOekyVjg8axiiDZkqeUFgO2JQYnizsDuVU0c69CCOnTHnZAY6DQfLnCjBFebhAlPIobFcIREqlbTn3bVLwjS/mSN8oWVV7aMum9Kocps60z76kXZeV5/o739FuIfiOe7aW8mRBaQnDTPLnmhrv8fa6wzQ13Ni17T33FO85m3fq+a5/nu8DAqfkjzFsBJO9nfDsM2vrHZP+YY45JgpNVxPfpA6rw4NvECAvBp6zCvGoy0QQQ/NHGp65Pf/rTKxURuZJSceGKwkMFRPscAZY/278Qdu2kiO/GvpfzSkpClmx/lNrApp3f05/5Fi3/p+59sG7CzL5DMBdv6lL5qpS3GB3s5IBv1gp0Nk3uMW5p/YhHG8GfxXsl8RfGpFypPIvxMC9rm9/0S9vG8JYq3qhpYYTS+nMVzzV9VYjnUglLG67uXlYOpvhtbvgucqME37Lttyj8bH5MjHQSgfIIPkWftGHgIcgjTHgxAFbJBqSLwW8IwYM0Xzm8u1VSTDpsG1F2vlVkB/o0Yyw8gHpq2lwxroinbCkPvllbN3iDyhkacIhcpWnYqxqP4V9NhKHV1tPWRe+RM6y81JQe76yBbVL+k9LiPXmDl/J8LRdX+Fn+3RMHXqSyhw1PXWlbnbgiy9hxjbEXBSp97tRTT41tSxzx2iXZEuVj3tiyVS4ndJEjZiGnAEZf3qxt2Xf81vGD760vnX766aVvl7LQ1nJOWEqSb91+HxgT+J7huyiV6Vv0H8aiMYi0VTYjbfKW1cmNSaNktXGQrRgf6QPIvNr/4dk52bkc4fS7yMPlv8cyWDC/sA46lAHHCyV4SS7TYxxQ/okDh36nWk+u8L8lS5YUzBPg27k8Bq7I3V34mpbJXpWvNxmWUJzbspG3bGUSnUvgP4xPmg7huJ/UDmONT+Qjq+tKPJAy0J8w0Nox3tZ70j3tythieSvp0pY4AeVy6aT09H0uZ5A+8gxlxTgCtjyzfUjj6tW2RdXcnfQ0DDoBne/SV6zcn8/bZiHnjMH3csUnc370QIx78EQwpP4YXqzSHvyQbXAUUHyqrvQdqy+Bp8GnbVh0RkOoTzmQQbUMVXNDZDt9zxX+Dh+F6AP2nb2nvmBon3GPoyc0bTnBKt3JF7kaZfoNMpeE//Ob55Sxap4xST/WB2vqnetJ+uoqSCsnvsUcbxyc+e5xVqF/WadC+jR45DQEO76N3FiVl4l8c6fvvngO1Z/mdfffwxFwg0VPDKsUuPrxMKlAaNKBSJ/rFWEOZR8eNvrMXpmsW09jmAVe3yhMbTjueSbb2NTWAoZZpZBFyEDoUAEHZsNkIReYUJzkAiz54rmSe1TkiiFbVrBA6IMYcBAEFB9l8IRnoGVykpNOVgiDwDwG2QHVlrXLPXUAM5h2riDSdKgrgn4Ts8Wzwk52NK5erSIC5U0+8dFwCDdWOV2FU5c21fj0QQZEFeA0P+rPAKyCLRMXflsBijRQmlpDjMZHQGXyyW/ww4qtwg0KBO0jGl6vPEcZlnsH63vSQvipw4n3SnhR1X2Lmp69WgOVpjHp2qXPNwmoKNShKl5gy5jf517iXfsACg8w1/ZXZQP58P02TViqsOGbqWtb0qSvWKL/5Z5UlIUJDVTlsSZbqszhl6StfUfOoah8TxjL23Ihi/d1f/S3nLpincev+l3Xr7V+KA+gpnDgZ42lMcL//tGefJt5GzFegDXtYWmW46HNt+kehWMdTwYn+jArqXJCMLZjnhWAm/Cs6hPkn4+peX72tyydr+1btAUTIwzsebto3qo419+Trny7GL0wZJD3WKQKIb7ZtsTEgnFeeUxd2SmzHSds+lVjjKYDD7Y0RK6y6XBPPyIflFGTCEWFXYWi5aM/wmvyb2tSelaOqerPk+Ln73Us13JVXVlpptQk19i4N/xvAsu4TH9T2dOGQf5TT0lNfxay1RA5YlZyiuLRlTcTb8j4jeymbdR1nNcyc0XBmBu1MFbk/R35HyeEnHfzm3FGlVo27a73OF008Rny0jG0Km0Uz/m8Snky33HumKZpWKOYlen1fd11DIMF3vLajvkVLPg+c+WqDSdbYdbGt+G4Bwv4LQZmFJNVq57r6tr03BrD6wzrPKcMyMqMJ3WyMmU8/vjj40rwpjz13Rjjk/aRHC/7W7ZU0SxbXZkv2fh191aOaZWwBEImyL9DTZ/njO91MqTm0WbujoxsxwPSVqx4zndjKffA1zLVXfvIOWPxPftNIZ9ovbSsyJrIdXWEMwCe5Hk8fmMUtaub6M+abn4F07YOJFVl6VKO3KudsrICQClXrmtZCaf9SWUq+w6ejLMJcpY+58pcj3Gjrq/C38bSwdj5IHJuPl8nLxwIreMx9W6rHyNsF6wJD+GEppgwBoHTmEQ9+aMNkJfy/qh5Iz/WrTLui53WA1mBPl/VzrIdflyxqWHttQ+exB+qP7Vl8PvhCNyMJKSjOS0lCAgzj4fdcggZB1yutNJKrUouCuR4EKJ8uGGrrbYKnBkBiWU0/mYv5iYSD5vA/nBrrLFG3BtuzTXXbAre+I497tZdd914QJQMMnG/PbohB+gJI6qMK0qkeAgThy/pHqWVAZehh2BGu8hEIx74KoJPmNSOFp4+bSrKtyCevHGfQhkU46FGHPTFMw7WrGs/zZc9QUUIjm3PgZrsQSwDa9yPUCY4tQfXavxpXMVwF/dSZ79s8T6OmMqAGw+0FWEw8M3IJCieb8FBYDJRDWKU7FSUPn2+UwY9A7ftAyLsxYNcV1555SAePEGUbhEXDlXngKppHPZWVSVwlIlX7Hf2YCzCimIriLIrni0xxt7WpClCZzzMjvaWyXL8vjhomz1lRXGS/tirWYSx+Jy+w16tObXFOo83n7/hu3zbojCJ481aa601n8WZWd60rUzu4pkwy0qdxwQXWQH5RCY1caxoK6dQBsY1vqcf/ehHQbyZ4/jA98TYv+WWW0YZZMyyklZfuUrLwXfC2S5dzv5gXBHDaOSdyDTs09uHkKEuuOCCGJV927tg3Se/MeMwrspEPratKKYCcq1TOwS68OYh4/eee+4ZOBxVFBHhrW99a7vC1YRiPOV8B/o++9E3nQFFEvRtZA36hiiCalKdv8fIrsgj8Dt4FDLtpHISnvrf9773nb+CL8U5i6EniGd67Iv0ySoSo348k0vnqcxbrr/++thO8BgO5maP80n9ryrt+Rifqsoxq2d8s+gJxOs9jpN8i5tvvnmc77UpQ9u5O7hy7hXzWWRozlVhXETOrzsjrE3+fcOMxffEyBrEOSoWg/35xSgfOGuAOsIv2sqXtIOs/g3wcs4U4CDi+cBlluWATzI/X2211aLsZ+UD5mCcdSHGqIl6h759oCoeZ7Y84QlPiK84M5YxkXknf/AUe0B0Vfwuz7pijX6F8ZWzk+yZUV3yrAsrTo9xbOPbh/heqTPfLH2S5+jwVl999bokwpjYwc+ZIyifaCP3dsVTKzJUf6rp+HUYAm6wGIafx3YEHIGlGAGUsQg8GF+YdKKQbyKEWJQsshqmKZi/WyQIcHiXLH2PBzAzUW4iBCgENhTd4tXXFNTfOQKLHgEObZWVm0G2qwyyteKir69X0BFYbAhcdNFFgcPikY9QHI3lCLDYcPL6zA4BNXahnMOwrc53syuB57TYERiT7+UGi913332xw7eo65cr3WXF+aKu75iVc+zGRHPZS2u5Za/KXmNHwBFwBP6LgGw9EG922mmnicYKAuJltM022/w3sv9f1AjgtYyxAtpxxx0n1hVvcAgPNCdHYFlH4BnPeEaQQ3KDLCEPF1544bIOh9ffEViqEGBFoGxFEr1X8a50Y8VS1XyLtrB4W7OaFcKBSM5nWLR19YrNHgHne7PH3HN0BBwBR2ASAm6wmISQv3cEHIFFiQATHdkLM9ZNzkKISynrKsqqin322Scuyd13333rgvnzRYSAnFWSaiP7MAeWtlcRS2NRyLLUm+3CqraDqornzxyBxY6A7FUcWJkke94GObx9sVfX6+cILAoEML6zsoItj+SMlLgty6KomFdiUSDA1oCXXHJJ3CZYzgWIW2wtiop5JeYVgWnwPdl3P9WJuYLT0o2AbUN7v3TXajalt3jZ+9nk7rks7Qgsv7RXwMvvCDgCjkAfBNjzkHM/2OqAsxGYBO28885h++23j2esMFmXg/aiUeO8886LnoZyMH3YaKON+mTncZYyBNhjW0kOmQ1ymHxgOTfnduDlx1kerLg555xz4vkZeJMfeeSRGsWvjsAyjwB7DrNKib19WcUmh2UGOYh1mcfFAXAEFioCnBvBeWKcscC2bpw35+QILDQE5ADYaLDYY489ghx+G6644gpfBbTQGmkpKs+0+B5zSyVdha2//br0IcC8T4n5n1N7BBy79lh5yLkI+BkWczHxJ46AI7CMIMABb/vtt1+j9y8Hxx522GFxe5Muh5ovIxAu6mqeeOKJ8SB2DnirI7zHjzjiiMAE2skRcASqEbj66qvDcsst599JNTz+1BFYEAjceOONAceM3XbbbUGUxwvhCDQh8I9//COcffbZ0RDO+OLkCPRBYGy+973vfS+wlR6OTEq3vvWtw/HHHx8dOHCWm49Ds7Usfu2GAIYnjKL7779/+MEPfpAic6A6ZxZyfuEaa6yRnvvN/0fAsfv/WPhdfwTcYNEfO4/pCDgCiwSByy+/PB6WzMHJeE1svPHG8TBuhJBtt93WBZFF0s59qsF2YBwWRt/gkHYmxazG2WKLLeIKHSYeTo6AI+AIOAKOgCPgCDgCjoAjsGwjcMABB4RvfOMbtSCceeaZYa211qp97y8WFgK0F391dNBBB4Xtttuu7vUy/dyxW6abf7TKu8FiNCg9IUfAEXAEHAFHwBFwBBwBR8ARcAQcAUfAEXAEHAFHwBFwBBwBR8AR6IuAr5/si5zHcwQcAUfAEXAEHAFHwBFwBBwBR8ARcAQcAUfAEXAEHAFHwBFwBByB0RBwg8VoUHpCjoAj4Ag4Ao6AI+AIOAKOgCPgCDgCjoAj4Ag4Ao6AI+AIOAKOgCPQFwE3WPRFzuM5Ao6AI+AIOAKOgCPgCDgCjoAj4Ag4Ao6AI+AIOAKOgCPgCDgCjsBoCLjBYjQoPSFHwBFwBBwBR8ARcAQcAUfAEXAEHAFHwBFwBBwBR8ARcAQcAUfAEeiLgBss+iLn8RwBR8ARcAQcAUfAEXAEHAFHwBFwBBwBR8ARcAQcAUfAEXAEHAFHYDQE3GAxGpSekCPgCDgCjoAj4Ag4Ao6AI+AIOAKOgCPgCDgCjoAj4Ag4Ao6AI+AI9EXADRZ9kfN4joAj4Ag4Ao6AI+AIOAKOgCPgCDgCjoAj4Ag4Ao6AI+AIOAKOgCMwGgJusBgNSk/IEXAEHAFHwBFwBBwBR8ARcAQcAUfAEXAEHAFHwBFwBBwBR8ARcAT6InDzw4T6RvZ4ixuBP//5z+Hcc88N11xzTbjrXe+6qCv7+9//Ppxzzjnhpz/9abjTne60qOtaVblf/OIX4SMf+Uj44Q9/GO585ztXBZn5M9rkQx/6UPj+978ftthii5nnP4sMf/WrX4UvfelL4frrrw+rrbZauOUtb5my/eY3vxn7421uc5v0bNo3f/rTn+L3/uUvfznc/OY3D2uttVa42c1uFrP99a9/HS6//PKw2WabtS7GtddeG2688cawzjrrtI5TF7AoitgfvvWtb4Utt9yyLti8P7/qqqvCaaedFpZffvmw4YYbznt5xijAmO04RnkWUhqMk6effnr4whe+EPvlCius0Ll4//jHP8KnP/3p8PGPfzxsu+22pfhjpF9KcKQff/zjH2OdN95445FSDOHSSy8Na6yxRlh55ZVbp/nzn/888M194xvfCOB461vfOvGsSYn8/e9/D/TtK664IsDf4L+rrLLKpGit3v/73/+O4yllIw/Ktuaaa0a+0CaBMcv2ox/9KJYBvo6Mc4tb3CKsvvrqJZwYZ7/2ta+FTTbZpE3xltowY/Dn//u//4t97pRTTonfK2PlLIg+QT//4he/GPj+Vl111Tnfyuc+97nwz3/+M6y99tqzKNK85PGZz3wmrL/++rEfz6IAffiSlus3v/lN/K6mKQvQH7/97W+Hz372s+H8888Pn//858N2222nRfCrI+AIOAKOgCPgCDgCSy8CogRycgQSAiJcF29729uKRz/60YX06vj35Cc/Ob1fTDe//OUvi2OPPbZ48IMfnOr6qle9ajFVsbEuV199dXHooYcW97jHPVL9X/aylzXGmfZLUawURx99dPGQhzwklemFL3zhtLOdefrf/e53S9+YfmuibCue9KQnFccff3whhrNi7733LpWNb1GUaoP/rrvuulK6YlQoaHsth17J65GPfGRx5JFHFjvvvHNB+dqQKOiKpzzlKTG9N7/5zW2ixDD0ybr6aZlEIdM6vVkHFCNbwpB6/OEPf5h1EUbNr287jlmIhz/84ZV9Qgx9jdnA2+v6Es9vuOGGxvhtXx5yyCGpzV//+te3jVaIcbAQhWfxxCc+McXnm8+pb/p5OmP/hk/zTYoCdXDSn/rUp4r73e9+MT14QBsS5XshjhQJO+UPd7nLXQoxHjUmIYrf4vDDD58TlzRe+tKXFv/6178a4ze9JO7JJ58ceaWWSa/wT/qlKBhrkxirbGLoKpYsWVLc4Q53qKwnZXrAAx5QML7CownHb0tg2fQN8Y46EQ45CuzEyaX4y1/+YpNZMPdD+TP99LnPfW6pbcVwMNX6/e53vyv233//iLH2I3sFf8boAw88MI7TvDvhhBNimeAtk9rvE5/4xJzyv/3tb6+Nd7vb3a7g25uULu/pU3zXj3vc46JMI04YjX1/TkEqHoixJvbnk046qeLtuI/68CUtAXMp5d3ITtOgm266qXjd614X24J2B/OnPvWpRVWbTiN/T9MRcAQcAUfAEXAEHIFpIxCmnYGnv3Qh8JWvfCUqUBB8dVK0WA0WKLye/vSnJ2Gf+i5LBguUZbSttjPX+TZYMEG0CjzKtNgMFij4FHO+s9e+9rXFhz/84eINb3hD8cAHPjC9IwyGG0vWkMN7VRRhYMwVUzxDkXHve9+7pGAhnlUKojhFUaplet7znld84AMfKE488cRkdNB3XJuUeeLlFyfMNnwXg4UaOWx8e4+CciGTeCgnHCk3CpqlkYa245h1Rskoqw9KfRRsUdRhdK4j8TIuMAzmhrj3vOc9hXiZD1acab677rpranOMjW3pBz/4QTRIUg/t41UGi77pty1Hn3DwABSXlBsFbl8ST+moJNf6c7W8qS7d97///QkzjO4odTG6YljVtFBsVhHKdDXSwzMxbvznP/+J+cJPiQ8fauJzVenyDEMEfYA04Ltf/epXY1D6ImVWuapOzhirbLISrjQe0MdQZL71rW8tZBVPVGgj+yhWes35K8r4r3/963N4OvXAOPGiF70oKqPt+EFa5McYstBoKH9GAZ2P0dMyWMgKnWjQ1D4DrvRPxudTTz01ygwY3TAyafvp9Y1vfGOEnv5E+1WNq4zv8KCqfi6rgeLY9exnPzulTTnIF6cS+rmsbCpkVW7q05o3feGZz3xmlOOqZA/6Bv2/r1ELJw7y4tvlu50G9eVLlAVehKFQ8eA6tsHir3/9a3HMMcck7MH0ox/9aEG7OTkCjoAj4Ag4Ao6AI7CYEHCDxWJqzRHrgoeVCtyL1WChcDG507rWKRI07GK82vrPt8FC8cVrTNtkMRksUEJY5U6+0gFFAN6RWncm5ZbUCxkFhGzjZV8Vsrtfikd8S0zsP/nJT6b3dpUCCkfN773vfa+NFu8vuuiiksHjZz/72ZwwPHjNa14TlZiqsNM02xosZEuSWA4UI9S76k+2CKvMe6E8pH1RKKFAOOCAAxZKsTqVY2g7dsqsQ2D6Hbhqv+KK8hBlcBOhkNNvDk/lsQmFN4pEvk0M/l3psssuS3WinDkNTT9Pb4zfH/vYx1KZaQe8ibsSHvkoyO1qTtKaZLCQLeFS3hhk89UKj3/84+N7+EiVwdAq6lHsWyJv7V8oXbsSSmCNX8UnZeuw9F6NGTaPoWWD/9DHtQxcUfDWKdUxnluFdz7eaNkwats0q7CRbWjSKhkNe9ZZZ2kSC+LahT9jtGW1S07wG60f1zps83hdfpOvXflLPiio875Omjx797vfnZTXhMWQYcmuLOE9Kx7aEHKDGibrxnFWdpCm/lV9czgH5UYT+tqklVB5GTFQaz5cp7GSoC9foqyUhzEKpxs7Vo1psGDllHVcAVfa18kRcAQcAUfAEXAEHIHFiEBZq7UYa+h16oUAHkY6MVjsBgu8xrSuy6LB4owzzkj1XygGC7wztU0Wk8EChabWq8kb+33ve18KZz9gFHwoEKq8E5sMFpoG272RPx7rEMpc9eDkWqUQIRzKGy0320FUkZzHUaAQgvDm1fB1io48Dbx1idNViZGn47+HITC0HYfl3hzbKle1f73kJS9pjiRvtT+ykmmhEYptrUuVwWKhlZfysE2XlpkrKxu6EjxFySr3Jhks7IoTtizL6QbZ6kvLRrtbsh72KPqqCGW8xrdlrAqbP1NFIvhUEXxb02bbP0tjlM0aTMiH1USTCOW4fle0Qx3pOEG6L3jBCyqD4V2uCm7Ckd7S6PWt9agzQNr+Og2DBatXtJ9w1fG6EvT/PcRQoHGqjOX6jitjbVt6xjOeEdOtG5fpxzZtsKsjjI22fxCvTR/V9I444ohSXnXfmYbvc7XfvG3nSXyJvOgLGBQgjEiKy1gGC9K2hixkPidHwBFwBBwBR8ARcAQWMwLLiUDl5AjMQUAP2p3zwh8sOgRmdWDkogOuR4WuvPLKFEuMBek+v9ljjz2CGDTiYzkHIb2WCWt42tOe1vtgWE1TlFQxTQ775qBtJRns9LZ03XzzzYPsGR2fcUB7FcnkPh7UzTtRSlQFqX3229/+NojiI4gCIoinem04fzF9BIa04/RLNzeH4447LojRde4L80QPrl9vvfXMU7/tgwAHSHNAuCUxSsaDfu2zSffwFKWNNtpIbxuv3/ve94Kssoph6KdbbLHFnPAcAi7e2/G5rBgLYoBLYSinErymimTVRnr8rne9K923uZHVaDGYKG0rg1v+ykHYloaWjcO0ZXVXSlKU3kEMNul33c2KK64YPvjBD8bXf/vb3+qCzTncuSogBz2TrxIHmcu2bPpzqbjKqoKw1157xcPJ56PA5513XrB9QVZLhIc97GETi7LlllsGcb6J4cQwNie8GJzSMw5db0scFA+tttpqlVGWX375yudVD2UlWpDVFun7JAzyjBhtq4KXniEvwestwYfEUGMfDb7vw5c0UzDmIHRIxxx9N/Qq20CFRz3qUeGSSy6JScG/ZIuyocl6fEfAEXAEHAFHwBFwBBY0Am6wWNDN44VzBByBxYqA7P8cZEuo2urJVk3xnVW4PfShDw277bZbbZxJL9Zdd90gHulhk002mRMUw0WT4hcjClRnsJiTYIcHagwBD9liIiolraGmQ1IedJEjgFJIzt8p1RLF7DXXXFN6Zn+oEqlO6WbD+n0zAvqtyqHbKSCKaVm9kn5P60a2okpJo7yro0c84hHp1WmnnRbvZfVX0HsebLfddvF5/m/bbbdNj975zneGKuVvCpDdqFJYPPPDFVdckb0NQbZNSs823XTTdD9G2WTVQ0qPm4MPPrj0u+nH+uuvH8Qrv2S8bgrf9M4qfAk3jfGiKf+h7+RMqSDbJw5Npld8lNJ77rlnikt/khWm6fekG/ggzgI4NoxFGLSgLkaOprxve9vbBll9UAqy3377lX5X/eDbh8/QT/U7I5ysGq0KvuieyTa9Qbawi/XCWIsx1p2NFl0ze4UcAUfAEXAEHAFHIEOgvWtMFnFZ/olSDc/knO52t7tFRaBsp1Q5YcCL8O53v3uMJgfWBettveGGG4Z73vOeKUk88RBOCYMnnuybG70JZWlxsBPdFOF/N3gqnX/++UGWNYc11lgj4NHEBBIPZtmuIA/e6fePf/zj6ImHxxxpU17ZLzo0eVjhFQUecvBf9LRjMrXDDjsE2YKgMh7ebUzq5QC58PKXvzwwuQHriy++OMiWCbHuu+yyS9hss80ayy5Ls4PsDR5QHIAJ4bfeeuvowd1GyAcvyqETBOoq+9JWlpmCoCzDSxFlMm1M/p/97GeDLKOPnok77bRTkAMIw3LL/ddGKNskBNlaJ8hZAkG2sAjbbLNN9Khfa621autFm5KmHJQYbrrppkCfQWlDunUrYiiX7CMdscRTjkkOHm4orFFcr7TSSrX5Meml7aroPve5T2wb+04OOY11kmX/Md0HPehBQZavx75iw9l72YIoEB6sKSt1GtpPbfqyt2+Qpfyx7+CBivftfe9734j3KqusYoOW7vEipj233377WAfZoz1iTznXWWed2I/ow10pNxTQl2Xf48pvmrzxVrWKAhRoQ8l6b97+9rcvJSf7nQeUV1bhpwFWX331IOdrhDyOvu97RUkj56jE6LSRHD6ekpK9tsNBBx0U6G9dif4oe16XooE3RJ4XXnhh6R0/qHfeL+DFF1xwQezb9AP4Kd6stAs8fYMNNpiTDryK/iN70le27Rj9Cy9u6iB74Qc8oxl/ZMuwIAcKz1yRwZhTtWIIAwFGNvCD51mqwtq+b7qXbUoiv6A/Kj32sY+NzzDKtaF8DLZxdtxxx8Qb4SGMJZbk7IzIB/QZxj4UaowbL37xi/XxnCtjKIps/jCi3Ote94r8aE7A7EGb9MGXdqBvkQ+KRngdYw+e72MQ444c3Bxk66ogZyXEcRqeCGHAkO0jx8imNg1dwUCAppVYGB3UsELfQ8mJLKCEwrNOhkBGQSGIchTcGT8Yy9oQPJs2gHbffffYzoxpELLNySefHO/5x3uloWVDTjz33HM1ubiygnGqCyEP3OpWt+oSpTKsNbATgPGkLcFftT/ZOPBY5Bz4KvJSTvBsHbP4DqzBge8gN25V8WfaR7Y2C6xoUKK/6UoY8q/i9YQlLjIu8hwe//StxzzmMZUrgDTtqutVV11VMhrxjTXJhHkayLbwRi1z/n6h/OZ7YrWnbP0Zi0TfvfTSSxu/s7e85S0xLIa5lVdeOch2SPE337mcuzRK340JLsB/jO/WQPz85z8/+GrBBdhQXiRHwBFwBBwBR8ARGB8BUcY4dUTg4x//eNr3XVqk4I/DP2XSGPeEZ296fa5X9jYWJXzKSZRphSiWUrhDDz00vfvOd74TD6MkrkySCvbo5oA6TUsmvSmsvXn/+98fw8hkvOAgXc5j4J54xO9CohhP+VEfDvzT/O2Vw0bZl7aKONiX94QXBUApPnsmi8IoRWN/XBHCS+FkUlnkB/pp3hxUWkecf6D5kQ/73Go8MCddS/kZFva3xuNKG9pDGEnnFa94RaltZOJVnHPOOSl/G1/bmHiiFEll0jBgVXV4KfvWcogf4YjH/tH0N43HHsOiLExV+uEPf1iIUrrUvzhcUybtKQ5xOc8A0n7DM3uGBf2QPqT5cAUDntl9fsmPQxx5T3/TPsdv2oG+XkU33nhjOnCVcPQz/SYsPn3PsOAAaS0LfYADWm1djjrqqBJu7H2+ZMmS1GcJ+453vKPg4FBNx8YH464kivI5fYO0xzhMmv2Mbfnals3uCa/xOfTc9vW2aWk4228m4WT7n+afX2Xrg0KUQpp8qyt4KB/Q9DSirN6I35Eexqzv6cuWREGbvjV4CYeZ2kOC4TVKYkgs6FM2Tbvv95j9i7MYtE/y3SifpR48p68/5znPieMAPKkvtW1H+osdoygH2L/pTW8q+M4pi2JM+ThcmOddiTYgPiSKydQ2mjbfueWFmj7tRhjL++FhOU8kDIemi6Jao8Zx3fJbeBT9hPyRBexhsqRXRfRdeIuWkz6keVvc7BkWXdLnEGzt6+yXzviv/YOrKEKritX5mRiIYh3E2zfGtWcNUTfG/D6EnKPYNO0Vr3UiLONsHXH4rabHWAJRZn1mca5KQ8chwnPGU1vie9c8uJI39eFsH3s2hihnS0kOLZusCijlSzuNTdq/qFfdGRb0WduWxOnCt2XLrxL/JC++D8ZySIzZqV8rzrQlz5XE0JTkEcLAM6BJ/Fn7tqabX8UArVmkb40wyEmWP9h4sr1TitPmRvmUptHnUGnOoarC3H47HMzelnQMsDKfjWv7LuVuOsPCxoNnaT25MseoI/g2YZCDoZ/85CeluJxtMQ2yfbmJL1XlLUazVMahZ1iIo0pKCxyYa8J7X/3qVxfI/7QnfaVq7Ksqmz9zBBwBR8ARcAQcAUdgaUHAD93u2VK5sI0AbUm2rEgCJhMFPYzWhpGVGjGMeKGnxyjIdGLIREsPweVqFe+yyiHF4YbfKvwzMVMST6s4wSPNLmQNFpouaVAGO/HhHZNyDmq1JF5ysTxM5MRrOr5CWYtwrekx0ZSVI/EdE9Lc0KOKHPH6jkohmy+HDys2Nl9V2qLA+/73v59e2cP6qAdGACVroNA8xHszKifzww8Jq4Qi0CriFAuu1IUJcD4B1fKhUGSCxkRE60k8FH85MdnhHWVjMq5k62TLpUo94uifPtP68Vy80mJSVmFsDRa8RCFHWNpYvA0163Rlcgqe/FnlrHi9pbyJn/dXDpql/XnHwah2ooWRgOf618dggcKO+JRLPNBTecUDOhlFeM+B8tqPMKzUtSftRZrgoOXiSj26Eoo2m4beo8BEYdOXtG9pem3TQRFh+4XGp32q2rxNuqrkIK1JBgt4HoeKEg7+oP1Cy6HXY489tk3WpTAoajU+15zgA7buucFC+8Ozn/3sUlQONSU9PTCUw3QpN/3N5me/ibH6l/JW8rHtgxLR5s09dZuEf6li2Y8u7SgrEUq8TBWFJEkfozzwOjs+ZdlN/Kl8TAPKdjNzMH/lK1+pr9NV+bA1WPCSb5/xV3FjXKki+K6WH6UsBP+2im3eVxks4G2yEjHGJ31Z9ZOyoE/Y/kcfUmqbPmlo+dUoThr0bX1Ov6ySQTSvNleUoDpWqbEJLGyfV4Vim/RsmDaKQXtgNfVqOogYw4nWnSttgHJPnzG+N5GVtboeKJ4rF8lTDYrUUzzx52Q9tGy5Mb6PontOobIHtp2rDBZ84+q4oDg3tVGWfPqJI4vG54p8YklWEJXe2/HdhuO74g/jdBv+DC+gj9u2R0nNs9wAYLFAJiAfDFLiBZ+cjSg776xsY8tXdQ9/s3VnjjAWWT6zEAwW+feMEbuOVJ67+OKLUxA7X6A9hjhYpESzmzZ8KYuSfo5psFC+q33D9j99xpXnslorlcFvHAFHwBFwBBwBR8ARWNoRmKvBWdprNKPyM7mxijXZj76Ucz6Rt8pzDaiKYusBy70KoPmkUA6ATO/k8DlNJl7xlieeVXhoADnMNk6o9Heba26wwDtUFTUoPvB41nJyZXWEEsoMVezmhhyUk3biRJ0sWUwRvmX7ovQaZbPNE882S7bMKLIsqcJJ41tPUGuw4D3KLVVikwbeexqvSiGFQUXfU+/cE8sq/QiHYtkSqx80ft5+ttz5OzV4ERdFgaV8MkgYjFd4DjOpxkigylnth4SxBgs8S3nGJNoaSmw+uvIj7/+EYTUG8fnDC9kS+fMcRU6VIs1ORrsaLD71qU+lfPFEz4m62AmfbHFSCvKiF70oxaeM1hiE8sEqOGUv5lLctj+sQVMx0isKsj6T774GC8qMx579LrUsXOnfuUFyUj1tn++qMOfbQzGhhjpbllzhPKkctJeNXxVelYmE02+CcJRDMclXwPB98S7nX+Rn+5Y1WGjeQ/uX8kjyt4o0+LOWl7rkXtyaf5dr13a0vIwy8C2CiSrieD+EcoMFaeVGKfJlVZSlOoMFYej7xNG/KiOkGm6rvndrYK0aH4ijaefjIflb427O43k/KX14tqafrzqwqz9kC0KS603KV3O5JPfuv0FWqnWlNopBDF1aT64YaupIPbI1PG1qVzhUtZNNS8c14lvZxoZpurdtpmXgKlt1VUYbWjbLw8gnl42qMsWYQH+p+0NesGT5GnIOq4T4Yzy078gfA11XXm3zssZXnEZysu2jRmMbhrJTDivP8L4Nf7YGizrlr60vymTrkCHbgZb4cNUYYMuq9/lYRfkZZ8YiOzYsBIMF9bI41hmLMYSDBbzRyuWMbzzXv/e9731jQZXSacOXUuDsZiyDhTU8a12XyHwMxwXmRzhG2bblvsoomhXPfzoCjoAj4Ag4Ao6AI7BUIPDfDfVFCnLqhgBnBtjD8PJD5FZYYYUgir6UqCiF073eyEQr7pUsk2d9VNrv/za3uU16zs0WW2yRfuf7BLP3OyQT1SAT+RSOmyGH9BJfJhJBlKGBOkHsk8vBhHvttVf8zT9ZFh7PVeCefZopjygc4wGAPFNiH/yHPexh+jPtYasP2Bte6cwzzyztXc+ezJyZoSSTUr3F8JbwZr/qfN9k9maWyWsML5OksNVWW6W49kY8uYJ4qZbOhLD4ieHJBo/39kwRmQiWziIhgO6tzL145AaZbHCbiLLIJCP+pv1kUpbe2fMLREmQnnMjE7j0m/3YLbGnsygx0iP6H2cPsKc8Z4PQ99h/v47YL5f2pQ+LIahyf2BR9AVRdsQk2K85J9tWMplMe9izXzdnaUCc0VB1pgh7yPchMX4E2dIlRqWd2dc+J9sXeEdfFmVBCnbHO94x3YvnaxDPv/Sb81pkC6X0WxTc6b7LjawkiGcP2DbS+KIkjv1EVlvoo6lfZWIe6Nu2bprp6aefHvfk1r3Z9fm0rvBWUYLFMwFE8VfKhvMsulDT+TqaTl0Y9q/nD+IwcvqWEt/XPvvsk/q0PictzpJooiH9S4xtkceTPhjpmTj8hj8/61nP4jaS3Rdfn037Ci+TlV8pG75F+Cn70ssKmVq+myL0uOEcCPqoJc5SYE/5NkTfF+NqCgpvzIlDvuHR9twBDWPHLH2mV1E4xkPk+S3GgznjIc9t3vzOqSl9wnI2kVI+7tlxjr4zhEQxFqPvu+++pWTgZZb07Aj7bIx7zvGy1HSAev4OecnG1/HWpmfv7fs+h0bLyqy4R79Nk3v6ai6f8Xxo2cQQRjKJ9NyM9KDiBv7AIeSi/J/zhzwrhqeKWP99hHwnBonAmQuXXHJJPO/DBhYlazxHxT7rcm/7FPKkGGNL0Z/2tKel3/YgdX149tlnx1ubDg/a8GdNo+2VsxfseSj0HTBVUtlcf9dd8zoSjrMaFjNZmbaOXytvR1a0Z7XJ6u2SjCsr0hYlVJxHZEm2gorzsfvf//5xfsSB5ZyHh7wLIbPkcwwb3+8dAUfAEXAEHAFHwBFYmhBYbmkq7EIr6x577JGKJHvVhnxii3JeiUm8VUSjHORgQBQ6Vin9IDmMjkOSxas7Hoqs8VGWiee+/kyKNH3AYY9KHDjJ4byqYMPwwUHLfalKqUpa4ilcSpLDXyHxjo5XMGGCkf+JN358z7988m6xsPcawSpkZLWGPg4chK4TQxR5VST7qceDvwnHoeFVVHXAoc0zb2PSsOWsUn7aQ2DrJqD2sEtZoZKKhjJKPPSCrJKJStP0Qm5QFihZLPSZPVAbRUkbos9waKxsqxIPn6QfcmhlFemB5LwDg7ydrUGPMGrssUrourbKFU7Eb0MoWcQTNwbl8PP/197Zg9xzlAv83HgLBUGNiKgQkkpD8AMEbUQQBUMKkVgI2tjYCyqKKYygIX6AWKWzFixUkBCCkC6VoIUiqS5oq1hanvv85t5neXbO7p49H+///+7Jb+B9UdMiKQAAI8dJREFUd8/Ox87+ZnZ25nmemZlShuAZMzyG5BDk1WepZVjLNiPUsorlJvLyyUcE2wh9YnbUQVw2zkW59SCFzjwXG0WHJfUurEZHeWIQjFJqSjg0CnjlHwj+aMvS9Zsf5/W7ONJ+I8zG0WaxeXFVIsUss139BmQe6nuX1+rxkvqFQjMdG9T2rm5OXtuRPtxd/kYhipIbx7vIRra85/334pp5QIDJpsHVoTBd+36mMpv4vI8xc2VICmE35R9W8AcbshNorn3Ej424U1EQlttcOnBsvr3kltInHoI8DAZiFsjuU5/61JAU3wTakXSpfMvfpxxpu/meU45VCUIa73//+5syJtMjL5fcK9Ppj1W4id+UgDfjxAy1PG1HFIxVQb8UlwixfOUQ/1j5DAH//yS/oQgW2Ri8GhZQF+ifxQzPUbRL89YrKNbUe77x1Jm6ETiZQtgZS0otboAcMyB2KEl4N3hXqGekk0LTmL3RDFa++tWvDv3Q0QMf+cG3O9te6lKvLK99azbGrsoV8kN/KWZj7aaUfcfa5yNZO/Ce6kvWujrVTh8kEheoo72L5eP6Szf1u36jsu7UB6Qs6bfjUPhWR3+Tti8dfSUU47fmqmEWz/bFL37x4BExgsC4Jh3fq17RkX4eJSABCUhAAhKQwJYI/PeWMnvf8orFP1boWN/isGJPwQcD5lhqZsgyQnI601gF4VLwV2dhZOBqxYnlPNZupJWCD8JV5Qe/UXTQ4c8wWEEiGCYeljh1dgbhr+EYUDIwS0UBHWQG6zm4RLiBkGfJTQ32lsLPCaCxcktXB/95LY/VEi6vHTvmzJJj4eb8q4ByLkwdRP/nP/8ZBUPowR8OQQoKLYRqVZidyqlRxPKDwd0ax0A/HTNDluKlYgqLQoRUS450Hn/88RakWtIh7LqmQ3GVbqlucV+E8qnc4HjM0jnTrVbtee3cI3UjlhxpM0EQ6FZlHoIaZl/xTI8++ui5tzg5HuUeS/fsfvSjH42s5UmIWQUf+tCHhvp4cuJnROCesQReE4rBBAFQVRqdkeTqKAjCUzGIEA7BADMGEPbdVR6W6ldtx//617+29qAKuqpy9AMf+MDq57xmQJR8fN9QuKVDwDnXdmeYS48/+clP2qwlLL5xvNMITBG0H3OxB8DwLeN7xqyynBlHe4ujHp7qqsKgCjFPTWcpPMrdnFVGOJSgfPtfeumlpWgn+cXSZy08yvvaRmUitd7xjjKDjnbtmg7FQe3jxNI7s8n3frT1VQkby8zMxsWjGgBMCb3nIvMdps6hrKCv9+qrr7Y+Ecp73ol0KD9pVz74wQ+2S5fmDQVhrWsI8PsZunnv/liNXfBLRUEfbu437RXtEn+xRFRT4uY7yMxKrqPcPdXRh822lz7ws88+OyRR+ylc5D7PPfdc8+fd5R1GUfqwXDV0YPbvGkcfiX5eNeJBUbi2HNfc476Fyf4X+cr2tubxlVdeaWWJ0o9y7V3fN//FL37RFFV9uC3/rspV+tq1btXnYixajYQwbmBWtU4CEpCABCQgAQlsmcAjW878fch7FchXy3GEHCgPGMCly6nNdEDpWCOMfOKJJ9J7dGSpGZb3QOiElSZWxliSpeuFWlju07mvVkoItLEyw0q5H8BnOpceqwKAZQDq0kRYydGJXvpj2ahruCoEr9aR10j7PqQBW5YuQmDEkkHUjSp0WaMUOfU5Yl+M3ZKFH4IxHNadS2WMH0IcBKsM3uuA/Jj18Kl5jo0/hyhTs2EGzzhJBQrXlp6zxrmrc4SZsd9Gswyt96ANuabgsaa9dE5ZobCYslhMwdBS/Gv6UberVWEqZa95j7m0ELr2gtfYrL4JP//whz/MRbuz6yjJU6CIYJgZMdVVy+21Crga/1rntP1VGY+SpwpernWfmg6CHATFVTHALMbnn3++Bps8p44xsyxdtTrn24sgMWeNZJg1RxR/6apiKa9d88i7itDvYx/7WBO4M6uSd/hSx7JWqZCmX4PguP/rBchYRddZKpfmIePX2Z5VqZD+eaz9HRRn1I2qFPjXv/6VQSePdYbChz/84ckwUxdffPHFYZlLZidiiIBCifNkSDze3dqOXpq3qsgk/ZzNyPkx188qrcYTx+L2/vRPcpnI9MPy+5w+WV1WCSOY7FvGfhG72FNoh5IxXZ3BzDmC3argyHD3/djXtTqj75p57w2eltLO2UqX1Iup9N94443R5c985jOj3/zI2acI3/s2h9/1G0N46l6dbcO1rbvaNtBuzDlmY9ew5y5XOpe+1yUgAQlIQAISkMDDIKDC4kLqWKdlJ5FONUICBgNYd6E8YIDP4AnHOtgInlFA0PFEkTDlsMRDkUF41o1mSSCEx701UR8XIRGC+7p3AGGwjkTItXZqep/u0u9qIY+1YFWkVOHxUhrX9qtWW9dO+2Gkh5Uh+2Qg9GMQz4Adi9qlGQTn5hMLrZwFhGA4Nr8e7e9Q0836iGXnWmFkXQKAtPq9WGr655xXoeCxgWutu0uzcs7Jx1Qc3s0cgE/5cw3+uQRChkGRcRcOoR7LfyCQnHPMzuqXYUJxuiQsnEvrkut1n5iqaLokzTVxac8oM2bPZTtOPN4NlvipQsg16V0jTF2fmpkLr7/+eksWpVvuDYOgujK7xn1PSQPhYq23tBE//vGPT0nirLDMeuH7Wt0Pf/jDgz0uqn+eV+EXgi8UnuzTQ957pVXGOXasewvExs/Hgp/lz/47zM5iOSiUwVgi5/5PSzPk1t6M/QDor7C/E2nP/VXrXr7BGFBc29XllapSob9PbZ/oF+Gqccg///nPPsrod1WKViXJKFD3g30omOWDo0/Yv398s6vyGaF7PsOleesVFtUooMvmwc9r1JGaKLNt6uwq/KpBSQ27dM6yT7WPzCwKHLPtcOyJk0qNnMHMkRlAGHTUvkCLsIF/fV2rM0YvzT4zI9NVY5e8NnfMOnrtWZ79TC2Mq6pDoYHCGWXxXJvD9bpkJPHvag+dmrcHeZ7jy7xnbdvyWh5r3+ja73Xew6MEJCABCUhAAhJ4kARUWFxIG4FWXY6BDTvpZKO8wLIM6zo2RUv329/+tgm5UGbU2RfpjyVZLj3xgx/8oMVds5QGFmwILt773vc2QRHLl9TBD/nprSDznpcca+eZpRPqfg9wODYwYlkTNoy71NWpz7kk1VyaCBbuQnkzd79LrjMA/+xnP9sEpFhMMzir6zdfkvZUXCxRq5KNvR3YxHzK1c2D6+yfqbAMehEk1g1iCXdtK7BaD2CXg+25POX1+q7ktWsfeRcQMOcyF3Pps6xcHaSioLoLx+wWZgvUmWFT90GBVds4wjzoGSnZzsDl1DXlp55pzTVmA+V92cSZtaS//e1vj6LStmeYkccd/uC7gTU9ChQEyQh6mOXE0iG0a3yDmIX1sBzcEBiSt8oLRcs5gstTnwMBdQo3M+4aJTbKjq997WsZpS31yKzIS6y167Jcp1i9D5lYcUI/I5efpI295swajC9S0cR3gLTn/uqMAbKNQPnargrm65KI/X1qn4K9gnBVQY1CYq4N45tR68taZTZKOuo8LpX+7Uf5h9KnCvPz+3dp3p5++unR7FoUqXdV38rjzJ72yppjsx3nEqqbZmN4Q5nxbBjl8M3OvjLxeVcx9sHV6+3CRv596UtfGuWU58kZDiOPM37U/lpVyB1LKsuuKuyPxTnmj7FENd5g+dhcHi3jYqyFo8801+Zw/etf//po9htKwXwPM60tH3MpvHyGuXYL/7pcVM8z43uUgAQkIAEJSEACWyKgwuIKpcWSN+mwcP3e977XhBwp/KiWm1hqsr4vA9faucz4WIOmw7q9uqW1cFkuqAoeP/e5z7W1rKtlKMtlXNulMBVBIsoSltaoVpD1efp7I+j7whe+sENpcamrS1MxcF2yTPvmN785Wo7h0nvfZXzKNAdfbPBblVdL9eGSPCE8qUvN/PznP29KjD7NOgBGGNnvvVHDsx41FnVYfVXlQFqE17CXnPebi6MgnHN1Bka1PpwLf+n1VEJUC/m5NKu1IUu83IVDYcHyOSyZk3Vs7j49136T17l417qegm5mfFzippbCmBMIwYTnzP1hWDoFC+o//vGPI+EgVp4P2iFQJX/MpGCTdKyOEeCisGBD+YdpXYlSFWU1swwRdtelW1BkJM9zmNHGHKurpEtbWZUla+9VFXN8UxGOIvw8V0lWBbcIXKfq39q8TYVD8JcKBQSKCP6qu/QbQd3C2IHlK6v1br1HnvP9zz4P11Bi53ubYS49MtM0HXmbcxhspMu2lL5JXcIzZyZluDzW2Qncr84azTBTR9JPt/T+VUOV7ANemjfKvrcspx/6sByzgqvrN2qvfkvnn/zkJ4f+AvUw+8TsIYRjllsug8qMZJR3lHe/tNLSPZb8rv2+Lt0LP743GCqlQ7FQl6fL60tHjJdof3tX+2v4r1mmixnhvGdzCrj+Hmt/Y5SBQQmOupv7AGZ8vmMoLPDrZ4xnmHqsm2/zfbh2v7Le62GcM55Lx744c67O6KvjsLnwXpeABCQgAQlIQAL3nYAKiyuUELMKcmo6nWUG6d/61rfa7AqSRxiag+YUtlQlRmYBQU4dLFeBKmGyg8/5lHD497//PV6DYxCMFVNa9KWl1BDgwhP2MGAQiWNPjnR1QI6wOzfsTH+OWDGyfwV5/MpXvjJ4HROwzA0gsTBkcJOONe/7NXLxY41pBkLVArmmWc8zrXotyy/97vrIEmPpeovJWp5rBp+Zzpoja6HXjTIRAPbCJ2Z+pGPWAMs39OUHOwanLLGCMAFX15ZGyJJWppkWx7rG+NrlpoiHsiWFGvxm7fApx9rQuUkpCoQqkOyfYSr+OdfSihZhQVUuTqVVB57ZdkyFq9f6NmGNYBjBDnUaBerSc+f64dyP5eWOLbexlFbN85pzWKTl7POhXDnVpUCLeMwYqo56lm0Y15mlVh1sUFBU9/GPf3zID9d7a9XaXtTzTONSNiz3g1KCdgyhJO8qlrnMLLj2njCn5hUFNnWJ/R5QDCO4rYJU2olc0iV5nHLMJeX6cppK44UXXmgCzSm/uWuf+MQnhu9ltvVVyD0Vr5ZxPScsgv50KJlYBqh3dRbiVDte06znpFP3yCC//Yyy2o6c0o5mHnPjYhRNaxyK6er4/l/TsXQSVtU43tvaLuV94JmzL1DgZP8H/6pQee211zLK6JgbRnOxCkJHgSZ+oPxNpTRLic29OwiB01Ur6EvzhmC39r0wUDlV2J35mjr235epMFxjk/vaV0VwWoXlc/HmrtcZyrTfCM9ZJghH/5H2prr+d/XjvL5D9TzD5VKX/M72Jv2mjlNp1Gtz9WAqLa7RbtZvFkut1b2J5uJxnfeBOk9d6tuS2u8ibO6px/mcyyXM6kyXPuyafkbGwTgApTDKpXR8z+pMNK7nfVEWH+trEJ4+X+3/s6zmmm8Ece/KnVruzPzGUIj+Yc+0foOyL9Tnm7qafVrekVqHCMvSnrCu+/v0afhbAhKQgAQkIAEJ3DsC0anSXYFAWCHto3CHvxBijVINwengFxanI7/6Iwa9Q7gYmO9jGZJ9CBr2sYb6Pjrkg18M2PbRqd2HJVuL/t3vfrf5hXCtJtfOSYe8hYLgwG/uQlgND/eaym90rlt6pBsD5VEyMVgd4iYTwsTgeR9Cgn0IMfbRmW5hYuPaUdwQ8AxxX3755ZEfP2JgMviHFdXIPwTsgx/3hVdMJ98TDv4xkGv+MetjFC+W0xjixWB35MePsPYa/EkX7tXV+4a1a/Vq57E8xRA/Bu8H/lyo5R4zToYwMVAZ4sIsFFr7GAzvY+C+D8Hx4Ee+Qli1DyXSPvYkaPFjJsPgP1Uv8iYxcB3CxWAyL+9jwLePgc/gx/1DaTH4x6aq+3oP8kC9DCv0Vs5wzzzG0kNDvFjLfUiTODx7feYQwg31A/8QAu2pjzEjZ0hj6SSUEaN3JQQ3B8Ep57x38spA5B8//nivehcC2MGf8jnFUf6Zdsw4mYxa3z3qcCguJ8P1F0PxN6TNPXgPj7lY+36Iw7NS5r2LJQhGPH/3u9/1QQ5+h0B9SDeUhAf+eSFmQrXy5zkpE+5VHWVDu8XzhIC+eq0+z7ImDdqA2FunvcNw7utvzA4Y0qW+ESesrIdrecL7hx9/IYTPy+3IO5B+fBd6d0n9yjyRfiiy9j/96U/3oQzcc59YJmr/5z//eR8KwP6WZ/9eW47cIASa7f0nbyGwHd2TsksmHJfao1HE8oNvaqZBO7jGxV4Fo7aV9vGYiyW1hvvQfh1zYc0/hKfsq6Ot7utY7O0xBAmF2fBdymfjWx/K6CHMUvq0DRmPYwjY96G42JNuKGxGfrzflFEI84e0l05C8DzE59uyxvG8+W3PfPGOH3M1DvV4yZH/TDsEswdB+Yal/1Raodwb/EPAN4ofCrfBj77Iqe4b3/jGED+EjwfRac/yWx/LzB34X5o3yp108/k50mcKJc7BvfIC38cavu+TEY581zChGMnow5E+YSzFNgpHnOyjDgFPPCHv9d59v7CWGd+R/nve3+5Y+xxLDA33o/9IPycUAfswMhrSrvn5+9//3t+ivYcZJpR+B/7HLlBv6ztBWvQzebenHN9tvl08P39/+ctfpoLtQ/kxPBtphuHEZDjSC6F/C0ufZe6+RM6xRz5v7ctl4rTD9Jv6tjCMmTLIcKz9Q9qgtY62IPPAMZQia6POhqtlMNWWzEYMD+6f+ZkaQ/Vxa/8tZtmMvGlXeecyvZiRMvLnR+2X9t85OGdc+vQ6CUhAAhKQgAQksBUCWIHprkAAIXYORBm09i6sWoYOYxVY9OEYIGXHsj/GGtIHftwTl4MGhLsIyHHkKax1hjh9J7YFmvmHkKHeH8EmQjEEJAxoUwlCJzssew5SYSBU40+dI5ipDkEbg60Mi7CsClC5d/WPWS1NmZNpMGCunfpMpx5JkwFoOsqlF8qHVWp6N+UASoiaRs03zx7WxIM/Aq6wIhvic6+q0CAdhJ3VxSyKIT7+DFZSKdILE2o+GEBT3vUa52HJOyp3rjGYmxrIM5BEIJtpUJ+qsKxXPsEfAWmmheCwlkmmU4+xLFnjWJ8ZYU4NwzkDY4Sw/fX8HZuO1yQWz6mjNV8MHnlWhAsx46Pdg/v1A3ueq+YBvlVREtaxo/oCLxRaax2Ku3wejtRhBJLUffKCcL/6r1EOkD/alBqPc97NmJUzeof6fFZlHXGoy5QNQn0UPwigsl3DnzbomKOdqezhOdVGkE5fv4kXs8L2tD9hjb4P6+iWFgpHBu3nuFjX/4BNskKBkQqRvEYeKOeqHOC5URzjYqP44Z2BcXUI4jMdjryjGY9wl9Yv6nBNf+4cQQttdm2Laj7XnJ9SjjxXCkp7BTb3oh2veSV/awXnxKU+1HaKdhblDG3+Mcdz5L3XfAN5lqy/1LslhwIgloQc0uc+5Ks68p7pZT54fr6hXO/9CMM7g1uTflWCZvocuUcV3qdfzISr2Ts45z1DCUf8jAMHvpXHHG1Gxskj7zDf7inHvVBsZ1iOsZTX0XKNpbqGOAjqqOe8Z+Qz08IwYsohfCZPhOOIwBvHdzPb/lPb9bwP7Ub2jUifZ8s+DN/VrMOkP6VEuFbeaMNrvaIs6fvEviKt/0afg7a3r7vkj/YtXQrrq2I7+aII5puMEBylSL0fYaiX9D+v4WhHSROB99R3II1Rpvre9f7H2mfCVgMO7kkfgGeLmQ8tKb7JyYAj/bWaJwTu9ZtJW7VW4VfzivI+lrwa3YtyxEiCcuT7+Mtf/rK18/muUveyPte08hyFVlXYkH/6v7HE1h5FLQpwlGaZHkf6AlOOdjKWfTsod94p3mHGMvRv8p2qzOiPxgypg2Sp/1mWhKfv2BsxHESKC/Qv+vtQZigZatlMxZ26dm67lGnxnabc85nJy9TzZniOGZYj5dg72NQ0aVsoA/KKEi/j/+xnP+ujNqOy9OdY+yQHgb0gAQlIQAISkIAE7hEBFRZXLAw6inQGmRUx5RAeMABYErJgydQL3RlgpBCkzjBgIJWDCRQWdIpzoJSDLPLDIO9U6yDyz6C2F7Bmp5dBCR3mJYeCowrzMy6DsF5YFcsFDR3uDMeRZ8JCL5YRmfQnTE2LDjwWbcSr6cAdq6Q6eKmd/BqWcwa+DBD6dDIcQk6sWfN3f8SKmnzNxad8UEpUZUlNg/wyuCa/sQzO6D6UMcIGXBXcEB/B9dw98af+pOut7er9Gfxx7xTsVL88T4ELQqp+YE0YnpH8VOZ5b47UjzoAy3QZPKMU4jf3p+wRApzqUE4g6IBlps2R35QddaW6pfpAHqiHNZ16jtBsjUPwTfkw44TBfJ+3TBOevfXvVPp9+Wf8euR+cy6WkWvPRL4QhMwJPynL3rK1TxMl5dzzkB/S4H7VIcyrAoo+3wjUqgKtxj3lfOq94L1C0JmWjQj0Ys+TQUGVCotqFVrPYZZ1CMXe0rNTf65Vv6aUU5VbPZ9SHhzjdmo5IuCs9+QcYWY6hCNzbBCQHXNVANzfh/JY41IxtkZhQXq0Qbw3Wb5T91hq/2mjU1BNXL7T9dudz4EVP4pKfsMolvhqs+SIszZ9BJS8W5kmR+o0M1JiWZgRe+5XFbDcp3f9bJia7pICbK7tyPjU2+oQWi59q3impXYfxX/2d0gn04Ij35YlB5c68yrTIa8odM4RMOf9qDOkkc/NsaaPIHdJCHutvPFeopyv9655ynPeoVrv8jk4HivTTIMj3GnLmaHA97vW/5rmOedp1JH9nj6NX/3qV403ysEpt6Z9znjw79sclBX0Y6b6szw7dQ+FVyw1Oir3ymftrLDMB0f6iLw3+Y2q6dVz+qMoMOb6WjVNlFAo9vJ9qenkOX4oHeYMDf4nFJAZdulIOvRxqRP0iZlV2s8+z7wxxplLK5bEymAHxyUjL9I7psTqE7ykXcJYbOl94x35/ve/39+y/U5DGvJM+Uw5vqWUS+WU5Uh72RtDZRpVycbz6SQgAQlIQAISkMBWCPwXGY3Oj+4KBGKgs2Mjx7pBWk02BOBtbV/WyV5yFEkMfnYhcN199KMf3T366KOj4OwlEIOOtrEga/jiQgixY+3dt73tbbuw7tmFEHnHWsls+slmmUubQI4Sn/hBfmKAvYtBStuAMgZtq9aVzaSIG0KZ3Tve8Y62lvE73/nO9LqzI2XBng8xOGrrSl/K4M4yujJhnoPNyVnDm2epLgbju7DQb2vY170YapgHcU59CyVNq2tsgv6+971v1W1D4Nbei3e/+91tg03qNHWGOl3X+F6V2Ewg3iXeiRDAtI2mZ4Ld+WXKMKwcd5/+9KeHe7HBJO80eaR82fOGfXEehCMvMRtl9+Uvf3m4XQjc2tr4IWTdvec979k9+eSTrc6t3Xx2SOiEE56fNi+UYLvHHnuslXsM/C9qt/rbkzbt0Fvf+tYdm8Dm2tg8J2tox8B/FCWEP20TazYTDuFba09ow9/+9re3esrxQbsQYO2ee+65tvk3GwvzDNSfUHTvKLf8o+0LQVe7Thn335AHne/7cL/XXnut7WfAd+iYgynt0qWbvPf3CeVbq+d8j/m2016HAcPuT3/6U9sb5tx3jPrJ+uWUP3uZ0A9IR50Jge+Oeky7fGuOfgnfHRg89dRTre2o+xAsPS/9hBCUtv2uaHdoF+B0DRdKj5Y232c21w6BYuv/vOtd71qV/LXyRv+N9iAMadoeB9Q32gOeE15r3odVGb7jQOzR9swzz0xugk7ZsxlxGPtcJRe8M7xP9GnYs+jaewOdk8mYbdXe41BEtXzRX6KPRR/pnD419YK06DvyDoUwvH3v2WuLPv5b3vKWc7JpnDMJMKYLpdaqdpp3mL4k/RneZb4l9JeWHOGpz2xkr5OABCQgAQlIQAJbIaDCYislZT4lIAEJSOBNTYCN7WM96raZfFhKLrJ44403mvIrZgYNm9QuRtBTAhKQgAQkIAEJSEACEpCABCQgAQncAwKP3IM8mAUJSEACEpCABBYIvPLKK01ZQZCnn356IeT/eTEbBMesIp0EJCABCUhAAhKQgAQkIAEJSEACEtgKARUWWykp8ykBCUhAAm9aAizrky42XW3LAubvemSpD5ZHiQ10d7HetctBVTieS0ACEpCABCQgAQlIQAISkIAEJHDvCbgk1L0vIjMoAQlIQAJvdgKs4R6bqw4YWLOavUfYp4j9NNi76B//+Mfu17/+ddsTJjYV3sUGyq5FPhDzRAISkIAEJCABCUhAAhKQgAQkIIEtEFBhsYVSMo8SkIAEJPCmJ/DSSy/tvvOd77TNtOdgfP7zn9+98MILbYPpuTBel4AEJCABCUhAAhKQgAQkIAEJSEAC95WACov7WjLmSwISkIAEJNAR+Pe//737zW9+s2NT7b/97W+7Rx55ZPfUU0/tnnzyyd1HPvKR9tdF8acEJCABCUhAAhKQgAQkIAEJSEACEtgMARUWmykqMyoBCUhAAhKQgAQkIAEJSEACEpCABCQgAQlIQAISuF0Cbrp9u2Xrk0lAAhKQgAQkIAEJSEACEpCABCQgAQlIQAISkIAENkNAhcVmisqMSkACEpCABCQgAQlIQAISkIAEJCABCUhAAhKQgARul4AKi9stW59MAhKQgAQkIAEJSEACEpCABCQgAQlIQAISkIAEJLAZAiosNlNUZlQCEpCABCQgAQlIQAISkIAEJCABCUhAAhKQgAQkcLsEVFjcbtn6ZBKQgAQkIAEJSEACEpCABCQgAQlIQAISkIAEJCCBzRBQYbGZojKjEpCABCQgAQlIQAISkIAEJCABCUhAAhKQgAQkIIHbJaDC4nbL1ieTgAQkIAEJSEACEpCABCQgAQlIQAISkIAEJCABCWyGgAqLzRSVGZWABCQgAQlIQAISkIAEJCABCUhAAhKQgAQkIAEJ3C4BFRa3W7Y+mQQkIAEJSEACEpCABCQgAQlIQAISkIAEJCABCUhgMwRUWGymqMyoBCQgAQlIQAISkIAEJCABCUhAAhKQgAQkIAEJSOB2CaiwuN2y9ckkIAEJSEACEpCABCQgAQlIQAISkIAEJCABCUhAApshoMJiM0VlRiUgAQlIQAISkIAEJCABCUhAAhKQgAQkIAEJSEACt0tAhcXtlq1PJgEJSEACEpCABCQgAQlIQAISkIAEJCABCUhAAhLYDAEVFpspKjMqAQlIQAISkIAEJCABCUhAAhKQgAQkIAEJSEACErhdAiosbrdsfTIJSEACEpCABCQgAQlIQAISkIAEJCABCUhAAhKQwGYIqLDYTFGZUQlIQAISkIAEJCABCUhAAhKQgAQkIAEJSEACEpDA7RJQYXG7ZeuTSUACEpCABCQgAQlIQAISkIAEJCABCUhAAhKQgAQ2Q0CFxWaKyoxKQAISkIAEJCABCUhAAhKQgAQkIAEJSEACEpCABG6XgAqL2y1bn0wCEpCABCQgAQlIQAISkIAEJCABCUhAAhKQgAQksBkCKiw2U1RmVAISkIAEJCABCUhAAhKQgAQkIAEJSEACEpCABCRwuwRUWNxu2fpkEpCABCQgAQlIQAISkIAEJCABCUhAAhKQgAQkIIHNEFBhsZmiMqMSkIAEJCABCUhAAhKQgAQkIAEJSEACEpCABCQggdsloMLidsvWJ5OABCQgAQlIQAISkIAEJCABCUhAAhKQgAQkIAEJbIaACovNFJUZlYAEJCABCUhAAhKQgAQkIAEJSEACEpCABCQgAQncLgEVFrdbtj6ZBCQgAQlIQAISkIAEJCABCUhAAhKQgAQkIAEJSGAzBFRYbKaozKgEJCABCUhAAhKQgAQkIAEJSEACEpCABCQgAQlI4HYJqLC43bL1ySQgAQlIQAISkIAEJCABCUhAAhKQgAQkIAEJSEACmyGgwmIzRWVGJSABCUhAAhKQgAQkIAEJSEACEpCABCQgAQlIQAK3S0CFxe2WrU8mAQlIQAISkIAEJCABCUhAAhKQgAQkIAEJSEACEtgMARUWmykqMyoBCUhAAhKQgAQkIAEJSEACEpCABCQgAQlIQAISuF0CKixut2x9MglIQAISkIAEJCABCUhAAhKQgAQkIAEJSEACEpDAZgiosNhMUZlRCUhAAhKQgAQkIAEJSEACEpCABCQgAQlIQAISkMDtElBhcbtl65NJQAISkIAEJCABCUhAAhKQgAQkIAEJSEACEpCABDZDQIXFZorKjEpAAhKQgAQkIAEJSEACEpCABCQgAQlIQAISkIAEbpfA/wI/+IvvAvH3hQAAAABJRU5ErkJggg==)"
      ],
      "metadata": {
        "id": "lnYwobKnJXv3"
      }
    },
    {
      "cell_type": "code",
      "source": [],
      "metadata": {
        "id": "5Nn5f2UE3eZE"
      },
      "execution_count": null,
      "outputs": []
    },
    {
      "cell_type": "markdown",
      "source": [
        "# Tokenization"
      ],
      "metadata": {
        "id": "RepBvCJ7H058"
      }
    },
    {
      "cell_type": "markdown",
      "source": [
        "# nltk"
      ],
      "metadata": {
        "id": "k77KBgaQs_fc"
      }
    },
    {
      "cell_type": "code",
      "source": [
        "import nltk\n",
        "nltk.download('punkt')\n",
        "nltk.download('punkt_tab')\n",
        "\n",
        "sentence = \"\"\"At eight o'clock on Thursday morning Arthur didn't feel very good. Comma, separated, sentence.\"\"\"\n",
        "tokens = nltk.word_tokenize(sentence)\n",
        "tokens"
      ],
      "metadata": {
        "colab": {
          "base_uri": "https://localhost:8080/"
        },
        "id": "TwO2Pg4Y1I0r",
        "outputId": "96029b22-532d-4db2-d35a-ce0f1a780436"
      },
      "execution_count": 5,
      "outputs": [
        {
          "output_type": "stream",
          "name": "stderr",
          "text": [
            "[nltk_data] Downloading package punkt to /root/nltk_data...\n",
            "[nltk_data]   Package punkt is already up-to-date!\n",
            "[nltk_data] Downloading package punkt_tab to /root/nltk_data...\n",
            "[nltk_data]   Package punkt_tab is already up-to-date!\n"
          ]
        },
        {
          "output_type": "execute_result",
          "data": {
            "text/plain": [
              "['At',\n",
              " 'eight',\n",
              " \"o'clock\",\n",
              " 'on',\n",
              " 'Thursday',\n",
              " 'morning',\n",
              " 'Arthur',\n",
              " 'did',\n",
              " \"n't\",\n",
              " 'feel',\n",
              " 'very',\n",
              " 'good',\n",
              " '.',\n",
              " 'Comma',\n",
              " ',',\n",
              " 'separated',\n",
              " ',',\n",
              " 'sentence',\n",
              " '.']"
            ]
          },
          "metadata": {},
          "execution_count": 5
        }
      ]
    },
    {
      "cell_type": "markdown",
      "source": [
        "![image.png](data:image/png;base64,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)"
      ],
      "metadata": {
        "id": "tD2ws-4R20W5"
      }
    },
    {
      "cell_type": "code",
      "source": [
        "nltk.download('averaged_perceptron_tagger')\n",
        "\n",
        "tagged = nltk.pos_tag(tokens)\n",
        "tagged"
      ],
      "metadata": {
        "colab": {
          "base_uri": "https://localhost:8080/"
        },
        "id": "8MC-Z4301RUC",
        "outputId": "468f5c2f-afec-408f-a1da-412e884a5689"
      },
      "execution_count": null,
      "outputs": [
        {
          "output_type": "stream",
          "name": "stdout",
          "text": [
            "[nltk_data] Downloading package averaged_perceptron_tagger to\n",
            "[nltk_data]     /root/nltk_data...\n",
            "[nltk_data]   Package averaged_perceptron_tagger is already up-to-\n",
            "[nltk_data]       date!\n"
          ]
        },
        {
          "output_type": "execute_result",
          "data": {
            "text/plain": [
              "[('At', 'IN'),\n",
              " ('eight', 'CD'),\n",
              " (\"o'clock\", 'NN'),\n",
              " ('on', 'IN'),\n",
              " ('Thursday', 'NNP'),\n",
              " ('morning', 'NN'),\n",
              " ('Arthur', 'NNP'),\n",
              " ('did', 'VBD'),\n",
              " (\"n't\", 'RB'),\n",
              " ('feel', 'VB'),\n",
              " ('very', 'RB'),\n",
              " ('good', 'JJ'),\n",
              " ('.', '.')]"
            ]
          },
          "metadata": {},
          "execution_count": 38
        }
      ]
    },
    {
      "cell_type": "markdown",
      "source": [
        "## HuggingFace Tokenization"
      ],
      "metadata": {
        "id": "8VYhF4UHvgW2"
      }
    },
    {
      "cell_type": "code",
      "source": [
        "!pip install -q transformers"
      ],
      "metadata": {
        "colab": {
          "base_uri": "https://localhost:8080/"
        },
        "id": "1pvXYoEGJz4W",
        "outputId": "5fd964a1-0c67-431c-f140-67d38c354ef6"
      },
      "execution_count": 13,
      "outputs": [
        {
          "output_type": "stream",
          "name": "stdout",
          "text": [
            "Requirement already satisfied: transformers in /usr/local/lib/python3.11/dist-packages (4.48.3)\n",
            "Requirement already satisfied: filelock in /usr/local/lib/python3.11/dist-packages (from transformers) (3.17.0)\n",
            "Requirement already satisfied: huggingface-hub<1.0,>=0.24.0 in /usr/local/lib/python3.11/dist-packages (from transformers) (0.28.1)\n",
            "Requirement already satisfied: numpy>=1.17 in /usr/local/lib/python3.11/dist-packages (from transformers) (1.26.4)\n",
            "Requirement already satisfied: packaging>=20.0 in /usr/local/lib/python3.11/dist-packages (from transformers) (24.2)\n",
            "Requirement already satisfied: pyyaml>=5.1 in /usr/local/lib/python3.11/dist-packages (from transformers) (6.0.2)\n",
            "Requirement already satisfied: regex!=2019.12.17 in /usr/local/lib/python3.11/dist-packages (from transformers) (2024.11.6)\n",
            "Requirement already satisfied: requests in /usr/local/lib/python3.11/dist-packages (from transformers) (2.32.3)\n",
            "Requirement already satisfied: tokenizers<0.22,>=0.21 in /usr/local/lib/python3.11/dist-packages (from transformers) (0.21.0)\n",
            "Requirement already satisfied: safetensors>=0.4.1 in /usr/local/lib/python3.11/dist-packages (from transformers) (0.5.3)\n",
            "Requirement already satisfied: tqdm>=4.27 in /usr/local/lib/python3.11/dist-packages (from transformers) (4.67.1)\n",
            "Requirement already satisfied: fsspec>=2023.5.0 in /usr/local/lib/python3.11/dist-packages (from huggingface-hub<1.0,>=0.24.0->transformers) (2024.10.0)\n",
            "Requirement already satisfied: typing-extensions>=3.7.4.3 in /usr/local/lib/python3.11/dist-packages (from huggingface-hub<1.0,>=0.24.0->transformers) (4.12.2)\n",
            "Requirement already satisfied: charset-normalizer<4,>=2 in /usr/local/lib/python3.11/dist-packages (from requests->transformers) (3.4.1)\n",
            "Requirement already satisfied: idna<4,>=2.5 in /usr/local/lib/python3.11/dist-packages (from requests->transformers) (3.10)\n",
            "Requirement already satisfied: urllib3<3,>=1.21.1 in /usr/local/lib/python3.11/dist-packages (from requests->transformers) (2.3.0)\n",
            "Requirement already satisfied: certifi>=2017.4.17 in /usr/local/lib/python3.11/dist-packages (from requests->transformers) (2025.1.31)\n"
          ]
        }
      ]
    },
    {
      "cell_type": "markdown",
      "source": [
        "### BPE Tokenizer"
      ],
      "metadata": {
        "id": "OGZ98MAgvw7K"
      }
    },
    {
      "cell_type": "code",
      "source": [
        "from transformers import AutoTokenizer\n",
        "\n",
        "# https://huggingface.co/google-bert/bert-base-uncased/blob/main/vocab.txt\n",
        "# https://huggingface.co/google-bert/bert-base-uncased/blob/main/tokenizer.json\n",
        "# https://huggingface.co/google-bert/bert-base-uncased/blob/main/tokenizer_config.json\n",
        "# https://huggingface.co/google-bert/bert-base-uncased/blob/main/config.json\n",
        "\n",
        "gpt2_tokenizer = AutoTokenizer.from_pretrained('openai-community/gpt2')\n",
        "gpt2_tokenizer"
      ],
      "metadata": {
        "colab": {
          "base_uri": "https://localhost:8080/",
          "height": 286,
          "referenced_widgets": [
            "69ef74ecdad143878bf08becddab74ac",
            "b3b04e3244324c22865097c906ba1a4f",
            "671a6405601b40f5b6a5055994a6c639",
            "ba7475243e2140b39d5857d6ad2cf193",
            "1f582897811d44cb9f5ffea845ccb300",
            "58b46945740a48d08bc5ab5008c781b7",
            "c10dc162646048328b399771168d0e49",
            "cdb94b4b87d149a6ae3569c97510e678",
            "0502824c29124894afe75f34604af510",
            "28267454c474442e8d0821e3a1f99756",
            "b2cce337c3454c519fd5bd4f525752f7",
            "ab86081166c54c9980ab0386a162d0de",
            "9fa167baf48c498786505111bc4cc5e7",
            "3988d04cb4b34624805cd9720dc1315b",
            "807f4ba084224513ae2a5baef6288cde",
            "8534ed14eab14975b5f439f56a84a35f",
            "bae75653f8d248cfabd55e5f7ac4bc36",
            "0c434cdcd7ae4dd5b17f753af9a683fe",
            "57834fe03b1f49dd92f3eb70f5ad5351",
            "850cc6687127454cb9c4903b766d5522",
            "a9f0f89be54a49d98ae770810d1361fc",
            "92729c9580f0462d93549578d5a8c1ad",
            "3a7d3979460f44e1bf1a59c565e5c53c",
            "56d095c8e87544fe9bb0e4c5bd6b7aeb",
            "ad82ed2c99a64ce59fdc5def5d730c29",
            "cee62f64688045a7ae134979584ead7d",
            "012df7f84a2742ca834fef71faadbd6f",
            "f3b6366fc6b7459ca1295e0946f7cdea",
            "c379b44cf405421f805b59fed1225529",
            "d30d547e864e4e6daf94b8eab8b53a9f",
            "92afa66a3297485b8faf81462c0cdcdc",
            "b57526c333574d989f545ad5254c9a45",
            "504b0c047ba2405e9e58a2fe871324e5",
            "28f944f1cf40465fbebce2d79c9dd178",
            "d565db5b6d93470f87bc963e83b7292b",
            "8eb6ddd4bd924d1e9769036a78bd436f",
            "1f1d2fba49bb40d1bcdb60b4b07b5031",
            "02b6d3e65c7d434ebb6f5e52cb4aa5f4",
            "5deca4f39d704e7a8ddc53d6cfb070c6",
            "2890dfeab10749f08f2f6b46c3d6fed7",
            "768ac32cc01a414d8d2a164757cca610",
            "8bbec78f44644b6e9a8590fddb702dce",
            "3b22c1aca5cf42c882fab57dca41f350",
            "d94c488c0463457386e7f215c9b60072",
            "dcbf1fd5b6cb4c68a621678df10e8cc9",
            "991267e7513d4c359d5d3438d9de1137",
            "ae5e8948fe134b0994986fbba99c8d18",
            "df6d77ca81464ca48b33408d73d38c94",
            "e53d4bd4e010405bae0b1e1f1ac12959",
            "b740ddbbbca74540a02a4c1f406cfce5",
            "5c732e24895a4aa0899d77fa0535754d",
            "b2e9334f8fcf4698bf548f429b852627",
            "b8483aef107742b3a2138eae967034b6",
            "89b438223e9b44119e38ce263f24b902",
            "ee1bd5651135454c8f492e124de7d539"
          ]
        },
        "id": "c3y4Lxf9O1Kl",
        "outputId": "6a90da84-e140-49d4-8c06-f2bbe94d186f"
      },
      "execution_count": 22,
      "outputs": [
        {
          "output_type": "display_data",
          "data": {
            "text/plain": [
              "tokenizer_config.json:   0%|          | 0.00/26.0 [00:00<?, ?B/s]"
            ],
            "application/vnd.jupyter.widget-view+json": {
              "version_major": 2,
              "version_minor": 0,
              "model_id": "69ef74ecdad143878bf08becddab74ac"
            }
          },
          "metadata": {}
        },
        {
          "output_type": "display_data",
          "data": {
            "text/plain": [
              "config.json:   0%|          | 0.00/665 [00:00<?, ?B/s]"
            ],
            "application/vnd.jupyter.widget-view+json": {
              "version_major": 2,
              "version_minor": 0,
              "model_id": "ab86081166c54c9980ab0386a162d0de"
            }
          },
          "metadata": {}
        },
        {
          "output_type": "display_data",
          "data": {
            "text/plain": [
              "vocab.json:   0%|          | 0.00/1.04M [00:00<?, ?B/s]"
            ],
            "application/vnd.jupyter.widget-view+json": {
              "version_major": 2,
              "version_minor": 0,
              "model_id": "3a7d3979460f44e1bf1a59c565e5c53c"
            }
          },
          "metadata": {}
        },
        {
          "output_type": "display_data",
          "data": {
            "text/plain": [
              "merges.txt:   0%|          | 0.00/456k [00:00<?, ?B/s]"
            ],
            "application/vnd.jupyter.widget-view+json": {
              "version_major": 2,
              "version_minor": 0,
              "model_id": "28f944f1cf40465fbebce2d79c9dd178"
            }
          },
          "metadata": {}
        },
        {
          "output_type": "display_data",
          "data": {
            "text/plain": [
              "tokenizer.json:   0%|          | 0.00/1.36M [00:00<?, ?B/s]"
            ],
            "application/vnd.jupyter.widget-view+json": {
              "version_major": 2,
              "version_minor": 0,
              "model_id": "dcbf1fd5b6cb4c68a621678df10e8cc9"
            }
          },
          "metadata": {}
        },
        {
          "output_type": "execute_result",
          "data": {
            "text/plain": [
              "GPT2TokenizerFast(name_or_path='openai-community/gpt2', vocab_size=50257, model_max_length=1024, is_fast=True, padding_side='right', truncation_side='right', special_tokens={'bos_token': '<|endoftext|>', 'eos_token': '<|endoftext|>', 'unk_token': '<|endoftext|>'}, clean_up_tokenization_spaces=False, added_tokens_decoder={\n",
              "\t50256: AddedToken(\"<|endoftext|>\", rstrip=False, lstrip=False, single_word=False, normalized=True, special=True),\n",
              "}\n",
              ")"
            ]
          },
          "metadata": {},
          "execution_count": 22
        }
      ]
    },
    {
      "cell_type": "code",
      "source": [
        "tokenized = gpt2_tokenizer([ \"Example tokenization\" ])\n",
        "\n",
        "[ gpt2_tokenizer._convert_id_to_token(x) for x in tokenized['input_ids'][0] ]"
      ],
      "metadata": {
        "colab": {
          "base_uri": "https://localhost:8080/"
        },
        "id": "9uRH_HYaPHAG",
        "outputId": "bd8d216d-0807-4573-83bc-a9e86c9628bc"
      },
      "execution_count": 23,
      "outputs": [
        {
          "output_type": "execute_result",
          "data": {
            "text/plain": [
              "['Example', 'Ġtoken', 'ization']"
            ]
          },
          "metadata": {},
          "execution_count": 23
        }
      ]
    },
    {
      "cell_type": "markdown",
      "source": [
        "### Word-Piece Tokenizer"
      ],
      "metadata": {
        "id": "NZewkE1eOL0O"
      }
    },
    {
      "cell_type": "code",
      "source": [
        "from transformers import AutoTokenizer\n",
        "\n",
        "# https://huggingface.co/google-bert/bert-base-uncased/blob/main/vocab.txt\n",
        "# https://huggingface.co/google-bert/bert-base-uncased/blob/main/tokenizer.json\n",
        "# https://huggingface.co/google-bert/bert-base-uncased/blob/main/tokenizer_config.json\n",
        "# https://huggingface.co/google-bert/bert-base-uncased/blob/main/config.json\n",
        "\n",
        "bert_tokenizer = AutoTokenizer.from_pretrained('bert-base-uncased')\n",
        "bert_tokenizer"
      ],
      "metadata": {
        "colab": {
          "base_uri": "https://localhost:8080/",
          "height": 327,
          "referenced_widgets": [
            "ed94a1273eb64334a64c6b78c802ff49",
            "99f0c90abeb14c6a80052d9d021da1f1",
            "7c31430d14d64b3b896519ccaefb26cc",
            "af4c7c8c3bae47889ee72a1d3a6b75a1",
            "5a27d5156ca747158a74922dc3d2e6ac",
            "decc54b95c3c4442b5536ee94344ceef",
            "dcecd1b5bc474bde954cfa8601439d41",
            "09e1043ebed843b4b9766d3a5bd811d5",
            "786c7648ae4f4487a56988b238e8d4b9",
            "1913b45f34924282a0e12f26a1221877",
            "a8bf7226dc724aaf9ffb87296aaf88ae",
            "3a439063adc54f968fa0a58f5b0116fe",
            "d9f26e28f1f84fd88fece42ed7af68cc",
            "f040bfe1309f4f488a5d08d063f07e17",
            "ec0d3f7f000d48c1ad5078a17acd35cd",
            "90471aa66f424a34903fa793c35e7a11",
            "9931299884814a18a3889483d1181e59",
            "d5ab984cf752483286232ecdab4199c2",
            "8696abfe5b78442b9309269c5f7522cf",
            "5bdc40211d9746198c381347a0d1653b",
            "c944436de35840f2a723722c1830db16",
            "f0b1f1ea08404e0b983d5b19e5d02d97",
            "e801f9dd76d14e52b7203a2057cb7828",
            "7f6c3087583a43ca8175e1ad6190e432",
            "ce6925031265487b943a9dc64684dc07",
            "a7c27b943837479fabea01e1002c1e84",
            "056700f93494451083de39c813aadf3b",
            "c0fa46a09efd4de4b02e7552c32d7265",
            "8f66d6ef2f464671b4cf6d222dae0dcd",
            "06f9ca46fc0249a8883f4fd04f11b0db",
            "215518b8d172435c9686b9039873f4f0",
            "3581658d8d574d69a8f66b5665c60f77",
            "1421fd452540461f976e2e896e7b61e5",
            "58b0eca38a344c86aab760b70871eb26",
            "fece256d7e7f49fa8006d078b91be1ab",
            "46319610755242c4b697191a557660e8",
            "696f60751d7f461e974086149ae02d61",
            "90884f54981343048e8821eb4690a306",
            "2b7d1e75bb4245cabab015e1ee168d69",
            "c237892eb08c4314a1ca682f8ed351c3",
            "67151f1522384aaeaa8e7212ffd720d8",
            "1f18c6eae02c454f8319f8fab0d2ad2c",
            "ecbedee2bda14983a9a527edc9c5cb57",
            "b79bf4d9b54b44f4b366b2f6f2fa3ddd"
          ]
        },
        "id": "5YyDeZfXJ0Mw",
        "outputId": "847d4e05-044d-4d61-8f56-fdebfe74a160"
      },
      "execution_count": 15,
      "outputs": [
        {
          "output_type": "display_data",
          "data": {
            "text/plain": [
              "tokenizer_config.json:   0%|          | 0.00/48.0 [00:00<?, ?B/s]"
            ],
            "application/vnd.jupyter.widget-view+json": {
              "version_major": 2,
              "version_minor": 0,
              "model_id": "ed94a1273eb64334a64c6b78c802ff49"
            }
          },
          "metadata": {}
        },
        {
          "output_type": "display_data",
          "data": {
            "text/plain": [
              "config.json:   0%|          | 0.00/570 [00:00<?, ?B/s]"
            ],
            "application/vnd.jupyter.widget-view+json": {
              "version_major": 2,
              "version_minor": 0,
              "model_id": "3a439063adc54f968fa0a58f5b0116fe"
            }
          },
          "metadata": {}
        },
        {
          "output_type": "display_data",
          "data": {
            "text/plain": [
              "vocab.txt:   0%|          | 0.00/232k [00:00<?, ?B/s]"
            ],
            "application/vnd.jupyter.widget-view+json": {
              "version_major": 2,
              "version_minor": 0,
              "model_id": "e801f9dd76d14e52b7203a2057cb7828"
            }
          },
          "metadata": {}
        },
        {
          "output_type": "display_data",
          "data": {
            "text/plain": [
              "tokenizer.json:   0%|          | 0.00/466k [00:00<?, ?B/s]"
            ],
            "application/vnd.jupyter.widget-view+json": {
              "version_major": 2,
              "version_minor": 0,
              "model_id": "58b0eca38a344c86aab760b70871eb26"
            }
          },
          "metadata": {}
        },
        {
          "output_type": "execute_result",
          "data": {
            "text/plain": [
              "BertTokenizerFast(name_or_path='bert-base-uncased', vocab_size=30522, model_max_length=512, is_fast=True, padding_side='right', truncation_side='right', special_tokens={'unk_token': '[UNK]', 'sep_token': '[SEP]', 'pad_token': '[PAD]', 'cls_token': '[CLS]', 'mask_token': '[MASK]'}, clean_up_tokenization_spaces=False, added_tokens_decoder={\n",
              "\t0: AddedToken(\"[PAD]\", rstrip=False, lstrip=False, single_word=False, normalized=False, special=True),\n",
              "\t100: AddedToken(\"[UNK]\", rstrip=False, lstrip=False, single_word=False, normalized=False, special=True),\n",
              "\t101: AddedToken(\"[CLS]\", rstrip=False, lstrip=False, single_word=False, normalized=False, special=True),\n",
              "\t102: AddedToken(\"[SEP]\", rstrip=False, lstrip=False, single_word=False, normalized=False, special=True),\n",
              "\t103: AddedToken(\"[MASK]\", rstrip=False, lstrip=False, single_word=False, normalized=False, special=True),\n",
              "}\n",
              ")"
            ]
          },
          "metadata": {},
          "execution_count": 15
        }
      ]
    },
    {
      "cell_type": "code",
      "source": [
        "tokenized = bert_tokenizer([ \"Example tokenization\" ])\n",
        "\n",
        "[ bert_tokenizer._convert_id_to_token(x) for x in tokenized['input_ids'][0] ]"
      ],
      "metadata": {
        "colab": {
          "base_uri": "https://localhost:8080/"
        },
        "id": "mOkZSejxNchs",
        "outputId": "9ad2b19b-d409-41f3-9f06-d10277a24d72"
      },
      "execution_count": 21,
      "outputs": [
        {
          "output_type": "execute_result",
          "data": {
            "text/plain": [
              "['[CLS]', 'example', 'token', '##ization', '[SEP]']"
            ]
          },
          "metadata": {},
          "execution_count": 21
        }
      ]
    },
    {
      "cell_type": "markdown",
      "source": [
        "## TikToken\n",
        "\n",
        "[**GitHub**](https://github.com/openai/tiktoken)"
      ],
      "metadata": {
        "id": "gqbX5Zbovn5P"
      }
    },
    {
      "cell_type": "markdown",
      "source": [
        "\n",
        "\n",
        "![](https://raw.githubusercontent.com/openai/tiktoken/main/perf.svg)"
      ],
      "metadata": {
        "id": "0TngkvGaKCOi"
      }
    },
    {
      "cell_type": "code",
      "source": [
        "!pip install tiktoken"
      ],
      "metadata": {
        "id": "a8pYM7D1KSRp"
      },
      "execution_count": null,
      "outputs": []
    },
    {
      "cell_type": "code",
      "source": [
        "import tiktoken\n",
        "\n",
        "# To get the tokeniser corresponding to a specific model in the OpenAI API:\n",
        "\n",
        "tiktoken_tokenizer = tiktoken.encoding_for_model(\"gpt-4o\")\n",
        "tiktoken_ids = tiktoken_tokenizer.encode(\"Example tokenization\")\n",
        "tiktoken_ids"
      ],
      "metadata": {
        "colab": {
          "base_uri": "https://localhost:8080/"
        },
        "id": "b6AUOfXyJ1I1",
        "outputId": "d0690be8-30dc-40bd-e6fe-c65e0dc2bf4d"
      },
      "execution_count": 33,
      "outputs": [
        {
          "output_type": "execute_result",
          "data": {
            "text/plain": [
              "[18523, 6602, 2860]"
            ]
          },
          "metadata": {},
          "execution_count": 33
        }
      ]
    },
    {
      "cell_type": "code",
      "source": [
        "[tiktoken_tokenizer.decode([ x ]) for x in tiktoken_ids]"
      ],
      "metadata": {
        "colab": {
          "base_uri": "https://localhost:8080/"
        },
        "id": "EkivH39HQTmx",
        "outputId": "f4209e95-ac38-43f6-fa2b-f139ad5207c7"
      },
      "execution_count": 35,
      "outputs": [
        {
          "output_type": "execute_result",
          "data": {
            "text/plain": [
              "['Example', ' token', 'ization']"
            ]
          },
          "metadata": {},
          "execution_count": 35
        }
      ]
    },
    {
      "cell_type": "markdown",
      "source": [
        "# Доп материалы\n",
        "\n",
        "* [Voita word_embeddings](https://lena-voita.github.io/nlp_course/word_embeddings.html)\n",
        "* [Habr W2V в картинках](https://habr.com/ru/post/446530/)\n",
        "* [HuggingFace Course / Tokenization](https://huggingface.co/learn/nlp-course/chapter6/5)"
      ],
      "metadata": {
        "id": "UYnlFrhPCGG9"
      }
    },
    {
      "cell_type": "markdown",
      "source": [
        "# Блиц"
      ],
      "metadata": {
        "id": "mjwztqGFcIXV"
      }
    },
    {
      "cell_type": "markdown",
      "source": [
        "## Какие проблемы могут быть, если использовать OHE эмбэддинги для слов?\n",
        "\n",
        "<!-- * одинаковое расстояние между всеми словами, нелья как-то определить меру близости\n",
        "* гигантские размерности -->"
      ],
      "metadata": {
        "id": "OxS-IXLWcJ-1"
      }
    },
    {
      "cell_type": "markdown",
      "source": [
        "## Сколько матриц обучается в `Word2Vec`? А в `GloVe`?\n",
        "\n",
        "<!-- Две. Представление слова, если оно в центре. И представление, если оно контекст. -->\n"
      ],
      "metadata": {
        "id": "hnE1XzEpi4tT"
      }
    },
    {
      "cell_type": "markdown",
      "source": [
        "## Какие эмбэдинги используются после обучения Word2Vec?"
      ],
      "metadata": {
        "id": "hYBYwKPxLSdr"
      }
    },
    {
      "cell_type": "markdown",
      "source": [
        "## Зачем нужен negative sampling во время обучения W2V?\n",
        "\n",
        "<!-- Это оптимизация, которая позоляет обновлять фиксированное относительно небольшое количество контекстных векторов.\n",
        "\n",
        "[Voita w2v_negative_sampling](https://lena-voita.github.io/nlp_course/word_embeddings.html#w2v_negative_sampling) -->"
      ],
      "metadata": {
        "id": "G1BK8o3L35MA"
      }
    },
    {
      "cell_type": "markdown",
      "source": [
        "## Чем отличается Glove от Word2Vec?\n",
        "\n",
        "<!-- Обучается на другую ф-ю потерь, использует явно статистическую инфромацию по корпусу для штрафа редких токенов -->\n"
      ],
      "metadata": {
        "id": "XMwW3-PbCdyr"
      }
    },
    {
      "cell_type": "markdown",
      "source": [
        "## Мы знаем, что Glove в отличие от Word2Vec требует больше памяти. Что именно хранится в этой памяти? Эта дополнительная память требуется во время обучения или вычисления модели? Или в обоих случаях?\n",
        "\n",
        "<!-- Доп память нужна для хранения статистик по со-встречаемости слов. Они используются только на этапе обучения для штрафа редких слов. -->\n"
      ],
      "metadata": {
        "id": "Ot0hj-f4C7q-"
      }
    },
    {
      "cell_type": "markdown",
      "source": [
        "## Какие приемущества у FastText по сравнению в W2V?\n",
        "\n",
        "<!-- Позволяет получить эмбеддинги для слов, которых не было в обучающей выборке за счет использвоания n-грамм -->"
      ],
      "metadata": {
        "id": "9rh4Xrt_ECyy"
      }
    },
    {
      "cell_type": "markdown",
      "source": [
        "## Чем лосс FastText отличается от W2V?\n",
        "\n",
        "<!--\n",
        "\n",
        "Ничем. FastText обучается на skip-gramm лосс Word2Vec.\n",
        "\n",
        " -->\n"
      ],
      "metadata": {
        "id": "uKXcse2yGbhb"
      }
    },
    {
      "cell_type": "markdown",
      "source": [
        "## Чем `n-gram`-токенизация отличается от `BPE`-токенизации?\n",
        "\n",
        "<!--\n",
        "\n",
        "Во-первых, метод получения эмбэддингов с помощью `n-gram` - это не токенизация, потому что в этом методе есть пересечения разных n-gram.\n",
        "\n",
        "Обычно `BPE`-токенизация дает более осмысленные куски слов. Кстати, BPE токенизацию, можно применять к Count-Based моделям, например, `FastText`\n",
        "\n",
        " -->\n"
      ],
      "metadata": {
        "id": "VQCw5jt4Ep23"
      }
    },
    {
      "cell_type": "markdown",
      "source": [
        "## Какая ключевая проблема объединяет все рассмотренные методы (Cont-based) на сегодняшнем занятии?\n",
        "\n",
        "<!--\n",
        "\n",
        "Все эмбэддинги слов не зависят от конкретного контекста.\n",
        "\n",
        "# Например:\n",
        "* Мама мыла раму\n",
        "* Дома нет мыла\n",
        "\n",
        "Слово \"мыла\" в этих двух примерах в одном случае глагол, в другом существительное. Но во всех count-based методах эмбэддинги этого слова будут одинаковыми в разных контекстах.\n",
        "\n",
        "-->\n"
      ],
      "metadata": {
        "id": "CV3AiU2jEDbY"
      }
    },
    {
      "cell_type": "markdown",
      "source": [
        "## Где сейчас применяются Count-Based подходы?\n",
        "\n",
        "<!-- Для предобработки/фильтрации больших датасетов -- скорость работы алгоритмов на этом этапе критична. -->\n"
      ],
      "metadata": {
        "id": "sBFNHXnMI_7F"
      }
    },
    {
      "cell_type": "markdown",
      "source": [
        "\n",
        "----\n",
        "\n",
        "\n",
        "# Новая домашка `hw-tokenization`\n",
        "\n",
        "Нужно реализаовать BPE-токенизацию.\n",
        "\n",
        "\n",
        "# Про инженерный подход\n",
        "\n",
        "`TODO`\n"
      ],
      "metadata": {
        "id": "2A7oGS0czCjD"
      }
    },
    {
      "cell_type": "code",
      "source": [],
      "metadata": {
        "id": "j08WKhswRjHv"
      },
      "execution_count": null,
      "outputs": []
    }
  ]
}