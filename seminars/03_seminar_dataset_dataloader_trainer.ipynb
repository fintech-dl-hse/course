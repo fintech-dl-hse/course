{
  "cells": [
    {
      "cell_type": "markdown",
      "source": [
        "\n",
        "## Обратная связь: техническое\n"
      ],
      "metadata": {
        "id": "FTGqPP0tn1Vm"
      }
    },
    {
      "cell_type": "markdown",
      "source": [
        "\n",
        "#### ❓ Непонятно почему градиент в вершине равен 1. Непонятно что это за градиент (чего по чему).\n"
      ],
      "metadata": {
        "id": "WNloLZj_68r8"
      }
    },
    {
      "cell_type": "markdown",
      "source": [
        "Вспомним, как у нас выглядит шаг обучения:"
      ],
      "metadata": {
        "id": "4tOFTuKV7Cyp"
      }
    },
    {
      "cell_type": "code",
      "source": [
        "# Forward Pass\n",
        "predictions = model(inputs)\n",
        "\n",
        "# Compute Loss\n",
        "# tensor( 1.67435 )\n",
        "loss_value = criterion(predictions, labels)\n",
        "\n",
        "# Backward pass\n",
        "loss_value.backward() # loss_value.grad is assumed to be 1\n",
        "\n",
        "# Optimization Step\n",
        "optimizer.step()"
      ],
      "metadata": {
        "id": "VbtDDGKHzzJ5"
      },
      "execution_count": null,
      "outputs": []
    },
    {
      "cell_type": "markdown",
      "source": [
        "Можно воспринимать эту единицу как инициализация размера шага оптимизации.\n",
        "Проблема в том, что без этой единицы мы не можем посчитать градиенты - этого требует `chain rule`.\n",
        "\n",
        "**Связь `loss.grad = 1` с `learning_rate`**\n",
        "\n",
        "🤔 Почему сначала не умножить лосс на `learning_rate` и после этого сделать `backward`?\n",
        "\n",
        "**1)** В этом случае значения градиентов будут на порядки меньше и может уменьшить точность вычислений.\n",
        "\n",
        "**2)** Вообще говоря, это допустимо и в случае с `SGD` оптимизатором это было бы эквивалентно нашему изначальному алгоритму:\n",
        "* считаем градиенты\n",
        "* умножаем градиенты по параметрам на `lerning_rate`\n",
        "* делаем шаг обновления\n",
        "\n",
        "НО! С другими оптимизаторами такой трюк не будет эквивалентен изменению шага оптимизации.\n",
        "\n"
      ],
      "metadata": {
        "id": "j-RyB9Ji1dom"
      }
    },
    {
      "cell_type": "markdown",
      "source": [
        "## Обратная связь: лирическое\n",
        "\n",
        "* Не хватило времени, не успел задать вопросы\n",
        "* Эффективнее было бы до семинара и лекции самостоятельно изучать материал, а на парах уже разбирать вопросы\n",
        "\n",
        "**Просьба:** Задавайте, записывайте вопросы, оставляйте их в форме обратной связи или лучше даже скидывайте в чат или можете подойти после занятия, задать их голосом\n",
        "\n",
        "---\n",
        "\n",
        "Спасибо, что оставляете обратную связь!\n"
      ],
      "metadata": {
        "id": "dh6u-jB_zyfD"
      }
    },
    {
      "cell_type": "markdown",
      "source": [
        "# Вспоминаем прошлое занятие\n",
        "\n",
        "### Зачем переопределялись операции сложения/умножения на семинаре?\n"
      ],
      "metadata": {
        "id": "J_stFBndYEED"
      }
    },
    {
      "cell_type": "code",
      "source": [
        "# Как можно было обойтись без переопределения __magic__ методов класса?\n",
        "\n",
        "class Value():\n",
        "    def __init__(self, data, inputs=(), name=''):\n",
        "        self.data = data\n",
        "        self.grad = 0\n",
        "        self._backward = lambda: None\n",
        "        self.inputs = set(inputs)\n",
        "\n",
        "    def add(self, other):\n",
        "        other = other if isinstance(other, Value) else Value(other)\n",
        "        out = Value(self.data + other.data, inputs=(self, other), name='+')\n",
        "\n",
        "        def _backward():\n",
        "            self.grad += out.grad * 1\n",
        "            other.grad += out.grad * 1\n",
        "\n",
        "        out._backward = _backward\n",
        "\n",
        "        return out\n",
        "\n",
        "    def backward(self):\n",
        "        topo = []\n",
        "        visited = set()\n",
        "        def build_topo(v):\n",
        "            if v not in visited:\n",
        "                visited.add(v)\n",
        "                for child in v.inputs:\n",
        "                    build_topo(child)\n",
        "                topo.append(v)\n",
        "        build_topo(self)\n",
        "        self.grad = 1\n",
        "        for v in reversed(topo):\n",
        "            v._backward()\n",
        "\n",
        "value1 = Value(1)\n",
        "value2 = Value(2)\n",
        "sumValues = value1.add(value2) # функциональная запись - тоже допустимо и можно, в теории так работать, но не очень удобно\n",
        "print(\"sumValues.data\", sumValues.data)\n",
        "sumValues.backward()\n",
        "\n",
        "print(\"value1.grad\", value1.grad)\n",
        "print(\"value2.grad\", value2.grad)"
      ],
      "metadata": {
        "id": "dVXvA7rFYTUX",
        "outputId": "6d82a5ec-3ea8-44c4-e90b-9daa253afc70",
        "colab": {
          "base_uri": "https://localhost:8080/"
        }
      },
      "execution_count": null,
      "outputs": [
        {
          "output_type": "stream",
          "name": "stdout",
          "text": [
            "sumValues.data 3\n",
            "value1.grad 1\n",
            "value2.grad 1\n"
          ]
        }
      ]
    },
    {
      "cell_type": "markdown",
      "source": [
        "### Идейно пройтиcь по коду автограда"
      ],
      "metadata": {
        "id": "epF3o7yydUyE"
      }
    },
    {
      "cell_type": "markdown",
      "source": [
        "\n",
        "Идейно:\n",
        "\n",
        "1. Мы не хотим считать производные руками\n",
        "2. Можно автоматизировать вычисление градиентов используя chain rule\n",
        "3. Для того, чтобы вычислить градиент мы строим граф вычисления нейросети\n",
        "4. Чтобы посчитать градиент вершины, надо знать нисходящий градиент и входящие аргументы (например, для вычисления градиента умножения)\n",
        "5. Чтобы правильно вычислить градиенты графа, надо правильно его обойти. В этом нам поможет обратная топологическая сортировка графа. Важно, чтобы при вычислении значения градиента текущей вершины были посчитаны градиенты всех вершин, в которые входит ребро из текущей вершины.\n",
        "\n",
        "Интуиция по базовым операциям с градиентами:\n",
        "1. Сложение - распространяет, размножает градиент по входящим ребрам графа\n",
        "2. Обратное распространение градиента для умножения меняет местами множители\n"
      ],
      "metadata": {
        "id": "3Y2XbCbCYHz3"
      }
    },
    {
      "cell_type": "markdown",
      "source": [
        "# План семинара\n",
        "\n",
        "\n",
        "**Pytorch**\n",
        "* функции активации\n",
        "* разобраться с Dataset API\n",
        "* написать базовый Trainer - класс с тренировочным циклом\n",
        "* Рассмотреть пример простейшей нейросети\n",
        "* попробовать писать логи tensorboard\n",
        "* научиться сохранять/доставать чекпоинты\n",
        "\n",
        "**Блицы**\n",
        "\n",
        "* блиц по pytorch\n",
        "\n",
        "\n",
        "**Обзор домашки**\n",
        "\n",
        "* Activations\n",
        "* Weight Initialization"
      ],
      "metadata": {
        "id": "B3n8gg4yIPFQ"
      }
    },
    {
      "cell_type": "markdown",
      "source": [
        "# Функции активации\n",
        "\n",
        "[Non-linear Activations (weighted sum, nonlinearity)](https://pytorch.org/docs/stable/nn.html#non-linear-activations-weighted-sum-nonlinearity)\n",
        "\n",
        "[Non-linear Activations (other)](https://pytorch.org/docs/stable/nn.html#non-linear-activations-other)\n"
      ],
      "metadata": {
        "id": "-4fWByFXCRY-"
      }
    },
    {
      "cell_type": "code",
      "source": [
        "import torch\n",
        "import torch.nn as nn\n",
        "import matplotlib.pyplot as plt\n",
        "\n",
        "data_t = torch.arange(-5, 5, 0.1)\n",
        "data_t"
      ],
      "metadata": {
        "colab": {
          "base_uri": "https://localhost:8080/"
        },
        "id": "nBI0oziyCY2g",
        "outputId": "6d4b21c0-affe-4b38-8a05-e0050aea24db"
      },
      "execution_count": null,
      "outputs": [
        {
          "output_type": "execute_result",
          "data": {
            "text/plain": [
              "tensor([-3.0000e+00, -2.9000e+00, -2.8000e+00, -2.7000e+00, -2.6000e+00,\n",
              "        -2.5000e+00, -2.4000e+00, -2.3000e+00, -2.2000e+00, -2.1000e+00,\n",
              "        -2.0000e+00, -1.9000e+00, -1.8000e+00, -1.7000e+00, -1.6000e+00,\n",
              "        -1.5000e+00, -1.4000e+00, -1.3000e+00, -1.2000e+00, -1.1000e+00,\n",
              "        -1.0000e+00, -9.0000e-01, -8.0000e-01, -7.0000e-01, -6.0000e-01,\n",
              "        -5.0000e-01, -4.0000e-01, -3.0000e-01, -2.0000e-01, -1.0000e-01,\n",
              "        -2.3842e-08,  1.0000e-01,  2.0000e-01,  3.0000e-01,  4.0000e-01,\n",
              "         5.0000e-01,  6.0000e-01,  7.0000e-01,  8.0000e-01,  9.0000e-01,\n",
              "         1.0000e+00,  1.1000e+00,  1.2000e+00,  1.3000e+00,  1.4000e+00,\n",
              "         1.5000e+00,  1.6000e+00,  1.7000e+00,  1.8000e+00,  1.9000e+00,\n",
              "         2.0000e+00,  2.1000e+00,  2.2000e+00,  2.3000e+00,  2.4000e+00,\n",
              "         2.5000e+00,  2.6000e+00,  2.7000e+00,  2.8000e+00,  2.9000e+00])"
            ]
          },
          "metadata": {},
          "execution_count": 16
        }
      ]
    },
    {
      "cell_type": "code",
      "source": [
        "relu_module = torch.nn.ReLU()\n",
        "relu_module"
      ],
      "metadata": {
        "colab": {
          "base_uri": "https://localhost:8080/"
        },
        "id": "_TC2e_5xCgww",
        "outputId": "07d21ac5-af34-4239-9ffe-82e08a92c3a8"
      },
      "execution_count": null,
      "outputs": [
        {
          "output_type": "execute_result",
          "data": {
            "text/plain": [
              "ReLU()"
            ]
          },
          "metadata": {},
          "execution_count": 18
        }
      ]
    },
    {
      "cell_type": "code",
      "source": [
        "# relu_module.forward(data_t)\n",
        "# relu_module(data_t)         # same\n",
        "\n",
        "plt.plot(relu_module.forward(data_t))"
      ],
      "metadata": {
        "colab": {
          "base_uri": "https://localhost:8080/",
          "height": 448
        },
        "id": "FCfEx6dkC5oH",
        "outputId": "4452771e-c959-44e1-bbd2-776223a33003"
      },
      "execution_count": null,
      "outputs": [
        {
          "output_type": "execute_result",
          "data": {
            "text/plain": [
              "[<matplotlib.lines.Line2D at 0x7abaf6868b80>]"
            ]
          },
          "metadata": {},
          "execution_count": 13
        },
        {
          "output_type": "display_data",
          "data": {
            "text/plain": [
              "<Figure size 640x480 with 1 Axes>"
            ],
            "image/png": "[encoded data removed]"
          },
          "metadata": {}
        }
      ]
    },
    {
      "cell_type": "code",
      "source": [
        "plt.plot(data_t, torch.nn.LeakyReLU()(data_t))"
      ],
      "metadata": {
        "colab": {
          "base_uri": "https://localhost:8080/",
          "height": 284
        },
        "id": "BE8vAHxMCi2J",
        "outputId": "bfac7ebc-3ef5-4e0d-bc79-b0f3d11fd8db"
      },
      "execution_count": null,
      "outputs": [
        {
          "output_type": "execute_result",
          "data": {
            "text/plain": [
              "[<matplotlib.lines.Line2D at 0x7f55d1c7a2b0>]"
            ]
          },
          "metadata": {},
          "execution_count": 43
        },
        {
          "output_type": "display_data",
          "data": {
            "text/plain": [
              "<Figure size 432x288 with 1 Axes>"
            ],
            "image/png": "[encoded data removed]"
          },
          "metadata": {
            "needs_background": "light"
          }
        }
      ]
    },
    {
      "cell_type": "code",
      "source": [
        "plt.plot(data_t, torch.nn.Sigmoid()(data_t))"
      ],
      "metadata": {
        "colab": {
          "base_uri": "https://localhost:8080/",
          "height": 283
        },
        "id": "LjfdfmJwCitw",
        "outputId": "73da7856-887c-408d-cd10-e097103a0790"
      },
      "execution_count": null,
      "outputs": [
        {
          "output_type": "execute_result",
          "data": {
            "text/plain": [
              "[<matplotlib.lines.Line2D at 0x7f55d1c4bd30>]"
            ]
          },
          "metadata": {},
          "execution_count": 44
        },
        {
          "output_type": "display_data",
          "data": {
            "text/plain": [
              "<Figure size 432x288 with 1 Axes>"
            ],
            "image/png": "[encoded data removed]"
          },
          "metadata": {
            "needs_background": "light"
          }
        }
      ]
    },
    {
      "cell_type": "code",
      "source": [
        "plt.plot(data_t, torch.nn.ELU()(data_t))"
      ],
      "metadata": {
        "colab": {
          "base_uri": "https://localhost:8080/",
          "height": 283
        },
        "id": "CfYhamuFCiq5",
        "outputId": "664541d4-0c37-4b16-c2ee-8e4558cfbcc9"
      },
      "execution_count": null,
      "outputs": [
        {
          "output_type": "execute_result",
          "data": {
            "text/plain": [
              "[<matplotlib.lines.Line2D at 0x7f55d1bad6a0>]"
            ]
          },
          "metadata": {},
          "execution_count": 45
        },
        {
          "output_type": "display_data",
          "data": {
            "text/plain": [
              "<Figure size 432x288 with 1 Axes>"
            ],
            "image/png": "[encoded data removed]"
          },
          "metadata": {
            "needs_background": "light"
          }
        }
      ]
    },
    {
      "cell_type": "code",
      "source": [
        "import torch\n",
        "import torch.nn as nn\n",
        "\n",
        "sigmoid = nn.Sigmoid()\n",
        "\n",
        "criterion = nn.MSELoss()\n",
        "\n",
        "batch_size, features_num = 3, 5\n",
        "sigmoid_input = nn.Parameter(torch.rand([batch_size, features_num], requires_grad=True) * 5)\n",
        "\n",
        "sigmoid_out = sigmoid(sigmoid_input)\n",
        "\n",
        "loss = criterion(sigmoid_out, torch.rand([batch_size, features_num]))\n",
        "loss.backward()\n",
        "\n",
        "print(\"loss\", loss)\n",
        "\n",
        "print(\"sigmoid_input\")\n",
        "print(sigmoid_input)\n",
        "\n",
        "print(\"sigmoid_input.grad\")\n",
        "print(sigmoid_input.grad)"
      ],
      "metadata": {
        "id": "B_hZ_anTfBHZ",
        "outputId": "a93f56f0-89a5-40ae-9eee-ff7f632f2c58",
        "colab": {
          "base_uri": "https://localhost:8080/"
        }
      },
      "execution_count": 4,
      "outputs": [
        {
          "output_type": "stream",
          "name": "stdout",
          "text": [
            "loss tensor(0.2796, grad_fn=<MseLossBackward0>)\n",
            "sigmoid_input\n",
            "Parameter containing:\n",
            "tensor([[1.2073, 3.2473, 0.5732, 4.7202, 3.2083],\n",
            "        [1.9623, 2.2351, 1.8206, 4.4083, 4.8156],\n",
            "        [0.8288, 4.4605, 4.6697, 3.7197, 3.5195]], requires_grad=True)\n",
            "sigmoid_input.grad\n",
            "tensor([[ 0.0116,  0.0002, -0.0046,  0.0008,  0.0042],\n",
            "        [ 0.0021,  0.0029,  0.0012,  0.0002,  0.0006],\n",
            "        [ 0.0195,  0.0004,  0.0009,  0.0030,  0.0021]])\n"
          ]
        }
      ]
    },
    {
      "cell_type": "markdown",
      "metadata": {
        "id": "3sqXsvePmJvC"
      },
      "source": [
        "# Практика обучения моделей\n"
      ]
    },
    {
      "cell_type": "code",
      "execution_count": 5,
      "metadata": {
        "id": "vLNBuNC9mJvG"
      },
      "outputs": [],
      "source": [
        "import numpy as np\n",
        "import torch\n",
        "import torch.nn as nn\n",
        "import torch.nn.functional as F\n",
        "import torch.optim as optim\n",
        "from torch.utils.data import DataLoader\n",
        "import wandb\n",
        "\n",
        "from tqdm.auto import tqdm"
      ]
    },
    {
      "cell_type": "markdown",
      "source": [
        "## Dataset API\n"
      ],
      "metadata": {
        "id": "Dk8-4iqHPBgT"
      }
    },
    {
      "cell_type": "markdown",
      "source": [
        "![image.png](data:image/png;base64,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)"
      ],
      "metadata": {
        "id": "RMs3P1jUPI_c"
      }
    },
    {
      "cell_type": "markdown",
      "source": [
        "\n",
        "Подготовка данных легко может стать бутылочным горлышком, когда на подготовку очередного батча уходит больше времени, чем на forward+backward проходы по сети.\n",
        "Проблема усложняется особенностями python: чтобы использовать несколько ядер CPU для подготовки данных надо постараться.\n",
        "\n",
        "В Pytorch работа с данными строится на двух классах из [torch.utils.data](https://pytorch.org/docs/stable/data.html): `Dataset` и `DataLoader`:\n",
        "\n",
        "- **`Dataset`** отвечает за подготовку одного примера\n",
        "- **`DataLoader`** отвечает за выбор примеров, склейку их в один батч и распараллеливание на CPU, поддерживает итерирование.\n",
        "\n",
        "\n",
        "Для решения задачи обычно пишут кастомные Dataset-классы, для этого нужно написать всего две функции:\n",
        "- `.__len__(self)` возвращает количество примеров в датасете;\n",
        "- `.__getitem__(self, i)` возвращает i-тый по счету пример из датасета.\n",
        "\n",
        "Задачи DataLoader достаточно сложно аккуратно реализовать и лучше использовать готовый. Он довольно гибкий, все основные моменты кастомизируются заданием функций:\n",
        "```\n",
        "torch.utils.data.DataLoader(\n",
        "    dataset,            # экземпляр класса Dataset, из которого надо доставать элементы\n",
        "    batch_size=1,       # количество примеров в батче\n",
        "    drop_last=False,    # нужно ли при итерировании выбрасывать неполные батчи? (такое бывает, если число примеров не делится нацело на batch_size\n",
        "    shuffle=False,      # перемешивать ли элементов\n",
        "    sampler=None,       # определяет выбор элементов для батча\n",
        "    batch_sampler=None, # как `sampler`, но возвращает индексы, а не элементы\n",
        "    num_workers=0,      # на сколько процессов запараллелить подготовку данных\n",
        "    collate_fn=None,    # функция, которая будет склеивать элементы в батчи\n",
        "\n",
        "    pin_memory=False,   \n",
        "    timeout=0,\n",
        "    worker_init_fn=None,\n",
        "    multiprocessing_context=None,\n",
        "    generator=None)\n",
        "```\n",
        "\n",
        "Напишите два датасета для работы с `FashionMnist`: один готовит данные как вектора, другой как картинки\n",
        "\n",
        "\n",
        "**NB: FashionMNIST возвращает картинки в формате PIL.Image.Image, чтобы сделать из него понятный np.array, просто вызовите np.array(PIL_IMAGE)**"
      ],
      "metadata": {
        "id": "Z33wgZcTPM1Q"
      }
    },
    {
      "cell_type": "code",
      "source": [
        "from torchvision.datasets import FashionMNIST\n",
        "import matplotlib.pyplot as plt\n",
        "import torch.nn as nn\n",
        "import numpy as np\n",
        "fmnist = FashionMNIST(\"./tmp\", train=True, download=True)\n",
        "\n",
        "plt.imshow(fmnist[3][0])"
      ],
      "metadata": {
        "colab": {
          "base_uri": "https://localhost:8080/",
          "height": 838
        },
        "id": "lUnNDw8TPRwI",
        "outputId": "36275b01-2664-4add-8e64-639c514e432c"
      },
      "execution_count": 6,
      "outputs": [
        {
          "output_type": "stream",
          "name": "stdout",
          "text": [
            "Downloading http://fashion-mnist.s3-website.eu-central-1.amazonaws.com/train-images-idx3-ubyte.gz\n",
            "Downloading http://fashion-mnist.s3-website.eu-central-1.amazonaws.com/train-images-idx3-ubyte.gz to ./tmp/FashionMNIST/raw/train-images-idx3-ubyte.gz\n"
          ]
        },
        {
          "output_type": "stream",
          "name": "stderr",
          "text": [
            "100%|██████████| 26.4M/26.4M [00:01<00:00, 13.4MB/s]\n"
          ]
        },
        {
          "output_type": "stream",
          "name": "stdout",
          "text": [
            "Extracting ./tmp/FashionMNIST/raw/train-images-idx3-ubyte.gz to ./tmp/FashionMNIST/raw\n",
            "\n",
            "Downloading http://fashion-mnist.s3-website.eu-central-1.amazonaws.com/train-labels-idx1-ubyte.gz\n",
            "Downloading http://fashion-mnist.s3-website.eu-central-1.amazonaws.com/train-labels-idx1-ubyte.gz to ./tmp/FashionMNIST/raw/train-labels-idx1-ubyte.gz\n"
          ]
        },
        {
          "output_type": "stream",
          "name": "stderr",
          "text": [
            "100%|██████████| 29.5k/29.5k [00:00<00:00, 198kB/s]\n"
          ]
        },
        {
          "output_type": "stream",
          "name": "stdout",
          "text": [
            "Extracting ./tmp/FashionMNIST/raw/train-labels-idx1-ubyte.gz to ./tmp/FashionMNIST/raw\n",
            "\n",
            "Downloading http://fashion-mnist.s3-website.eu-central-1.amazonaws.com/t10k-images-idx3-ubyte.gz\n",
            "Downloading http://fashion-mnist.s3-website.eu-central-1.amazonaws.com/t10k-images-idx3-ubyte.gz to ./tmp/FashionMNIST/raw/t10k-images-idx3-ubyte.gz\n"
          ]
        },
        {
          "output_type": "stream",
          "name": "stderr",
          "text": [
            "100%|██████████| 4.42M/4.42M [00:01<00:00, 3.69MB/s]\n"
          ]
        },
        {
          "output_type": "stream",
          "name": "stdout",
          "text": [
            "Extracting ./tmp/FashionMNIST/raw/t10k-images-idx3-ubyte.gz to ./tmp/FashionMNIST/raw\n",
            "\n",
            "Downloading http://fashion-mnist.s3-website.eu-central-1.amazonaws.com/t10k-labels-idx1-ubyte.gz\n",
            "Downloading http://fashion-mnist.s3-website.eu-central-1.amazonaws.com/t10k-labels-idx1-ubyte.gz to ./tmp/FashionMNIST/raw/t10k-labels-idx1-ubyte.gz\n"
          ]
        },
        {
          "output_type": "stream",
          "name": "stderr",
          "text": [
            "100%|██████████| 5.15k/5.15k [00:00<00:00, 5.17MB/s]"
          ]
        },
        {
          "output_type": "stream",
          "name": "stdout",
          "text": [
            "Extracting ./tmp/FashionMNIST/raw/t10k-labels-idx1-ubyte.gz to ./tmp/FashionMNIST/raw\n",
            "\n"
          ]
        },
        {
          "output_type": "stream",
          "name": "stderr",
          "text": [
            "\n"
          ]
        },
        {
          "output_type": "execute_result",
          "data": {
            "text/plain": [
              "<matplotlib.image.AxesImage at 0x7f0d3114af50>"
            ]
          },
          "metadata": {},
          "execution_count": 6
        },
        {
          "output_type": "display_data",
          "data": {
            "text/plain": [
              "<Figure size 640x480 with 1 Axes>"
            ],
            "image/png": "[encoded data removed]"
          },
          "metadata": {}
        }
      ]
    },
    {
      "cell_type": "code",
      "source": [
        "np.array(fmnist[0][0]).shape"
      ],
      "metadata": {
        "colab": {
          "base_uri": "https://localhost:8080/"
        },
        "id": "YROoJBWGPUiQ",
        "outputId": "ec388e5a-ca1d-4832-9a85-7d39ebf33ac8"
      },
      "execution_count": 7,
      "outputs": [
        {
          "output_type": "execute_result",
          "data": {
            "text/plain": [
              "(28, 28)"
            ]
          },
          "metadata": {},
          "execution_count": 7
        }
      ]
    },
    {
      "cell_type": "code",
      "source": [
        "from collections import namedtuple\n",
        "from torchvision.datasets import FashionMNIST\n",
        "\n",
        "class VectorSet:\n",
        "    def __init__(self, train=True):\n",
        "        self.data = FashionMNIST(\"./tmp\", train=train, download=True)\n",
        "\n",
        "    def __len__(self):\n",
        "        return len(self.data)\n",
        "\n",
        "    def __getitem__(self, item):\n",
        "        # сделайте вектор с float32 числами\n",
        "        sample, label = self.data[item]\n",
        "        sample = np.array(sample, dtype=np.float32).reshape(-1) / 255\n",
        "        return dict(\n",
        "            sample=sample,\n",
        "            label=label,\n",
        "        )\n",
        "\n",
        "vs = VectorSet()\n",
        "print(vs[0]['sample'].shape)\n",
        "\n",
        "class ImageSet:\n",
        "    def __init__(self, train=True):\n",
        "        self.data = FashionMNIST(\"./tmp\", train=train, download=True)\n",
        "\n",
        "    def __len__(self):\n",
        "        return len(self.data)\n",
        "\n",
        "    def __getitem__(self, item):\n",
        "        # сделайте одноканальную картинку [1, 28, 28] с float32\n",
        "        sample, label = self.data[item]\n",
        "        sample = np.array(sample, dtype=np.float32)[None:, ...] / 255\n",
        "\n",
        "        return dict(\n",
        "            sample=sample,\n",
        "            label=label,\n",
        "        )\n",
        "\n",
        "ms = ImageSet()\n",
        "print(ms[0]['sample'].shape)"
      ],
      "metadata": {
        "colab": {
          "base_uri": "https://localhost:8080/"
        },
        "id": "q2bQVpjpPXO5",
        "outputId": "28b76106-915d-47d2-f6a3-97cad9e1768e"
      },
      "execution_count": 8,
      "outputs": [
        {
          "output_type": "stream",
          "name": "stdout",
          "text": [
            "(784,)\n",
            "(28, 28)\n"
          ]
        }
      ]
    },
    {
      "cell_type": "code",
      "source": [
        "# проверьте итерирование, именно его мы используем в train-loop'е\n",
        "vl = DataLoader(vs, batch_size=4, shuffle=True)\n",
        "for batch in vl:\n",
        "    print(\"batch\", type(batch))\n",
        "    for k, v in batch.items():\n",
        "        print(k, v.shape)\n",
        "    break"
      ],
      "metadata": {
        "colab": {
          "base_uri": "https://localhost:8080/"
        },
        "id": "gzXHTJD9PZGO",
        "outputId": "dc9a9a6d-c854-4cc3-93eb-06ed28f187a7"
      },
      "execution_count": 9,
      "outputs": [
        {
          "output_type": "stream",
          "name": "stdout",
          "text": [
            "batch <class 'dict'>\n",
            "sample torch.Size([4, 784])\n",
            "label torch.Size([4])\n"
          ]
        }
      ]
    },
    {
      "cell_type": "code",
      "source": [
        "# проверьте итерирование, именно его мы используем в train-loop'е\n",
        "ml = DataLoader(ms, batch_size=4)\n",
        "for batch in ml:\n",
        "    for k, v in batch.items():\n",
        "        print(k, v.shape)\n",
        "    break"
      ],
      "metadata": {
        "colab": {
          "base_uri": "https://localhost:8080/"
        },
        "id": "MmpUtesSPbUH",
        "outputId": "1265d23b-cb83-4942-e2ae-34f7973275b8"
      },
      "execution_count": 10,
      "outputs": [
        {
          "output_type": "stream",
          "name": "stdout",
          "text": [
            "sample torch.Size([4, 28, 28])\n",
            "label torch.Size([4])\n"
          ]
        }
      ]
    },
    {
      "cell_type": "markdown",
      "source": [
        "## Замечания по Dataset/Dataloader\n",
        "\n",
        "1. Dataset может возвращать что угодно (туплы, словари, whatever) с отдельными числами или массивами (numpy, torch.tensor).\n",
        "Удобно возвращать словари с читабельными ключами, тогда будет проще разделять логику по компонентам.\n",
        "\n",
        "2. Имеет смысл поглядеть в [стандартный collate_fn](https://github.com/pytorch/pytorch/blob/master/torch/utils/data/_utils/collate.py#L42): он умеет клеить в батчи и конвертировать в тензора самые разнообразные данные. Это может работать во многих случаях, но неожиданно падать в других. В частности, не сможет поклеить примеры разной длины.\n"
      ],
      "metadata": {
        "id": "1wnQFt4RPiwq"
      }
    },
    {
      "cell_type": "markdown",
      "source": [
        "## Trainer\n"
      ],
      "metadata": {
        "id": "xSkjw0EIQv4r"
      }
    },
    {
      "cell_type": "code",
      "source": [
        "import wandb\n",
        "wandb.login()\n",
        "wandb.init(project=\"03_seminar_dataset_dataloader_trainer\")"
      ],
      "metadata": {
        "colab": {
          "base_uri": "https://localhost:8080/",
          "height": 57
        },
        "id": "fzeRAAKn_8N5",
        "outputId": "3e391961-8506-4ba6-c24e-08ac536fa096"
      },
      "execution_count": 20,
      "outputs": [
        {
          "output_type": "stream",
          "name": "stderr",
          "text": [
            "\u001b[34m\u001b[1mwandb\u001b[0m: \u001b[33mWARNING\u001b[0m Calling wandb.login() after wandb.init() has no effect.\n"
          ]
        },
        {
          "output_type": "execute_result",
          "data": {
            "text/html": [
              "<button onClick=\"this.nextSibling.style.display='block';this.style.display='none';\">Display W&B run</button><iframe src='https://wandb.ai/hsemrsndmn/uncategorized/runs/94smn7cs?jupyter=true' style='border:none;width:100%;height:420px;display:none;'></iframe>"
            ],
            "text/plain": [
              "<wandb.sdk.wandb_run.Run at 0x7f0d15ea44d0>"
            ]
          },
          "metadata": {},
          "execution_count": 20
        }
      ]
    },
    {
      "cell_type": "code",
      "source": [],
      "metadata": {
        "id": "MBNTiQcLDo0D"
      },
      "execution_count": null,
      "outputs": []
    },
    {
      "cell_type": "code",
      "source": [
        "class Trainer:\n",
        "    def __init__(self, model, optimizer, train_dataset, val_dataset, batch_size=128):\n",
        "        self.model = model\n",
        "        self.optimizer = optimizer\n",
        "        self.train_dataset = train_dataset\n",
        "        self.val_dataset = val_dataset\n",
        "\n",
        "        self.batch_size = batch_size\n",
        "\n",
        "        self.device = 'cpu'\n",
        "        if torch.cuda.is_available():\n",
        "            self.device = torch.cuda.current_device()\n",
        "            self.model = self.model.to(self.device)\n",
        "\n",
        "        self.global_step = 0\n",
        "        self.writer = wandb\n",
        "\n",
        "    def save_checkpoint(self, path):\n",
        "        torch.save(self.model.state_dict(), path)\n",
        "\n",
        "    def train(self, num_epochs):\n",
        "\n",
        "        train_loader = DataLoader(self.train_dataset, shuffle=True, pin_memory=True, batch_size=self.batch_size)\n",
        "\n",
        "        # валидационный датасет не стоит перемешивать\n",
        "        val_loader = DataLoader(self.val_dataset, shuffle=False, pin_memory=True, batch_size=self.batch_size)\n",
        "        best_loss = float('inf')\n",
        "\n",
        "        for epoch in range(num_epochs):\n",
        "            model.train()\n",
        "            for batch in tqdm(train_loader, desc=f\"Epoch {epoch}\"):\n",
        "                self.training_step(batch)\n",
        "                self.global_step += 1\n",
        "\n",
        "            model.eval()\n",
        "\n",
        "            val_losses = []\n",
        "            for batch in tqdm(val_loader):\n",
        "                loss = self.validation_step(batch)\n",
        "                val_losses.append(loss.item())\n",
        "\n",
        "            val_loss = np.mean(val_losses)\n",
        "            self.writer.log({ \"validation/loss\": val_loss })\n",
        "            if val_loss < best_loss:\n",
        "                self.save_checkpoint(\"./best_checkpoint.pth\")\n",
        "                best_loss = val_loss\n",
        "\n",
        "\n",
        "    def training_step(self, batch):\n",
        "        self.optimizer.zero_grad()\n",
        "\n",
        "        batch = {k: v.to(self.device) for k, v in batch.items()}\n",
        "        loss, details = self.model.compute_all(batch)\n",
        "\n",
        "        loss.backward()\n",
        "        self.optimizer.step()\n",
        "\n",
        "        log_metrics = { 'train/' + k: v for k, v in details.items() }\n",
        "        log_metrics['train/loss'] = loss.item() # Почему важно .item()?\n",
        "\n",
        "        self.writer.log(log_metrics)\n",
        "\n",
        "        return\n",
        "\n",
        "    def validation_step(self, batch):\n",
        "        batch = {k: v.to(self.device) for k, v in batch.items()}\n",
        "        loss, details = self.model.compute_all(batch)\n",
        "\n",
        "        return loss\n",
        "\n"
      ],
      "metadata": {
        "id": "tv3nE7yqQyST"
      },
      "execution_count": 17,
      "outputs": []
    },
    {
      "cell_type": "markdown",
      "source": [
        "## MLP"
      ],
      "metadata": {
        "id": "iQB0q2_bSGMt"
      }
    },
    {
      "cell_type": "code",
      "source": [
        "class VeryModel(nn.Module):\n",
        "    def __init__(self, activation=None):\n",
        "        super().__init__()\n",
        "\n",
        "        if activation is None:\n",
        "            activation = nn.ReLU()\n",
        "\n",
        "        self.inner = nn.Sequential(\n",
        "            nn.Linear(784, 100),\n",
        "            # Dbg(),\n",
        "            activation,\n",
        "            nn.Linear(100, 10),\n",
        "        )\n",
        "\n",
        "        # nn.Sequential последовательно применяет переданные слои\n",
        "        # self.linear_1 = nn.Linear(784, 100)\n",
        "        # self.activation = nn.ReLU(),\n",
        "        # self.linear_2 = nn.Linear(100, 10),\n",
        "\n",
        "    def forward(self, x):\n",
        "        return self.inner(x)\n",
        "        # return self.inner.forward(x) # def __call__(self, x): return self.forward(x)\n",
        "\n",
        "        # Эквивалентро применению sequential\n",
        "        # out = self.linear_1(x)\n",
        "        # out = self.activation(out)\n",
        "        # out = self.linear_2(out)\n",
        "        # return out\n",
        "\n",
        "    def compute_all(self, batch):  # удобно сделать функцию, в которой вычисляется лосс по пришедшему батчу\n",
        "        x = batch['sample']    # [ bs, 784 ]\n",
        "        y = batch['label']     # [ bs ]\n",
        "        logits = self.inner(x) # [ bs, 10 ]\n",
        "\n",
        "        loss = F.cross_entropy(logits, y)\n",
        "        acc = (logits.argmax(axis=1) == y).float().mean().cpu().numpy()\n",
        "        metrics = {\n",
        "            \"train_metrics/acc\": acc,\n",
        "            \"train_metrics/loss\": loss.detach().item(),\n",
        "        }\n",
        "        return loss, metrics\n",
        "\n",
        "# проверяйте работоспособность сразу\n",
        "model = VeryModel(activation=nn.Sigmoid())\n",
        "# model = VeryModel()\n",
        "opt = optim.SGD(model.parameters(), lr=1e-2)\n",
        "trainset = VectorSet(train=True)\n",
        "valset = VectorSet(train=False)\n",
        "\n",
        "trainer = Trainer(model, opt, trainset, valset, batch_size=128)"
      ],
      "metadata": {
        "id": "CJc5hXWUQ0hz"
      },
      "execution_count": 18,
      "outputs": []
    },
    {
      "cell_type": "code",
      "source": [
        "trainer.train(5)"
      ],
      "metadata": {
        "colab": {
          "base_uri": "https://localhost:8080/",
          "height": 337,
          "referenced_widgets": [
            "df7c9cf57ba44b09863cf9440096a377",
            "10d5af2247a14f1f9df515b0fbbf4bcf",
            "b4e47fd45df348849054645181db5ee5",
            "5c494e384e914da0a9f2686db8de37b8",
            "53ca062381274ecdbccd1cfd575e821e",
            "8dc7132443774f1989da11b7015cb701",
            "d6bb6649197c4173861bbe375cec02f2",
            "42ad69d9790c46ebb6b606a34551f745",
            "e0a6ea3091bd47e48b42e7de9de7dfe1",
            "de7f2478bce04b3eb41802d72049f39a",
            "b01f9028585d44f0b55bd2cc391ee9e0",
            "73977e5203f546a88d04863e3487276a",
            "74f876ba98fc4767a50c865639767039",
            "24f3633a7f9c4ae9944477b303517c8d",
            "20f5b8ca6f154a88aca15e96b0e20a9e",
            "5f690a2882d74144afb35c2910b4ab8e",
            "f9398b0f680e40db9c8deb2d62b71de7",
            "2833e6a44bab466ba8419a6695a3f5f7",
            "0cb7ac628b1a400fbede0c187341acfa",
            "ab0ac7176ffa434c9367ee38d334d580",
            "af9581d1cd5e4c0787e44d582c2183ee",
            "05a32f9cfc78496e9b810b5ddfe095d3",
            "d596696ec31542129e6abfb144abff6f",
            "cdb316f125924a5f9867a212eaad6f92",
            "d0207be15a5048e9965fc915a2333aef",
            "a457ff2e09a147a3bef7ff007f9dfd44",
            "a7879e8589874192ad3b562fa91dad91",
            "b338610b6b8744088b3131ec1e8db882",
            "bce70bac587a42f5ae663ad4fb190a1a",
            "97d3fc9fba54409f8f0b012768f7798f",
            "156e0f022d8f43eb8b117a9ccf4b05a0",
            "f25069a20e9f4bf294c0a8fb4cbf43fa",
            "83fd12013e8e4e39854343dd2b5f9852",
            "b3e84c7e767c4dd5b7edf83fd3ea2e3e",
            "cbb1e0ce97014d33bef8562cb6656d9d",
            "14c9bbba7356406b9478a45555ee59af",
            "ecb5655f2c7b428ca6a6800b9005e1ea",
            "fc8cb0aec2bb470b8e51cf8bb55d04df",
            "fbee2dcc3861454ebbb3ba314e687fe7",
            "e0d790f7481149bdb4f2c4f63600384d",
            "1ff93ab9b43b4dda8b497610a71d528d",
            "2b52afce279a4624b84a5dce404d839c",
            "9d47187588cb42d2a97ba26d6af86d7a",
            "4ccfa7e5ea2a4b1ba96f60a4074ff2a8",
            "0662c621c8ce40dc863f71c94669bafe",
            "dd0b9b75e97e4122bf2eb1266a0b7b93",
            "4ade77b48bf84351af79564801aff24d",
            "27606c6f255b40e69e3514ce920ede80",
            "db7f915d710042d59096a54e41543377",
            "86e74553a3934091bab89dbe05e5583a",
            "06fb4518822949dabed678686365233f",
            "80211c3b9a364421bd831ab8cdf91cd4",
            "1d655c15ad254a01b30f2358d0e91ccb",
            "d0b961288bd04c40bd61b146fe4e296b",
            "86c7c1cd888a497aa067e9f1d2ee82bf",
            "7bc33622163f4c8bb205337515dc4276",
            "49068678799843a48ac94ae6bdd537b6",
            "cba1cac48a7049e5ab8d05073fe121ee",
            "a14c2bbd8029431ca13ebe3dd138630c",
            "1ad4f0e771594c9c9573b6bde58da17c",
            "94f6bdc130de463d890d6a3571342a36",
            "7a28148b41ea478a93b1d32b0065875f",
            "e8d40cd024bd4a8d88a687720e75f4f3",
            "91a5e8154c534ea5957c182b64822d51",
            "2235028126904cde9d26757d0f553cff",
            "0d55f35afdaa480685c7f3b4e8451627",
            "66ff68a2ced043f1b8bf59b1ed802947",
            "12dbf7d3deca4708a764f3b130754218",
            "671890d228d441cf9b9daa7945b90f21",
            "ca87ec412c524980942b168be205cd59",
            "9b1e80e980cb496782e02875bac36dbe",
            "5dbf621c1d2d44cbb6d03edd27b45dba",
            "fae65a8bf4a84d1f99e5faa2e47c428c",
            "ad8cecdb49104ab89e65d26fc6046f23",
            "bad704f30261470f95a29cd14b44f093",
            "b718aee59b9147f49c879b7ea9ac7ca5",
            "67c44c7c7f104465a7270a665fb1d4a6",
            "57b6712daed74af78b6fee569313b909",
            "ddfe50a8ba414aa3b13f20ae47c7c931",
            "fc897e09d48f4298be7d8b2ed267e6cc",
            "411ed232318a43058cb5e23a59809b6d",
            "b3d7dea3bf2a413a99b6ea3d5f2355a5",
            "97b0f3af990d4cca958a813bd18b09b5",
            "79f241179ed0429fb49fd8bbe17ccee5",
            "8cd31461f4d44aa394e18f40365dedc6",
            "71b33bd75b7f42ce958949a4665f9065",
            "8a0e57bfba114cf1981894c6318425b5",
            "ab5d8febb3144412ab597624f84d7c64",
            "4b2c1a99f54646bd853e44ee2bfd3258",
            "9a4cf21c6db045949bf6d6a1e5ca265f",
            "d7413bb66efb463699980c893a38cf0b",
            "fd86c5323e2a4989bc438f3e9fec4f60",
            "66f9cdf543784af098efde2feec8e13d",
            "cd482de6f1ab4c29b40abaa113312417",
            "77be4bc69fcf4da8a8c54b304ac8bcca",
            "db27870f736a40d4a3c403919a3a3f70",
            "3734165ee5954ecc886cba5a6f5db027",
            "78c07ab423e74e2a96a073874fd0feec",
            "f0d30c4a29ea4d979971a91e2ebdbd5f",
            "14f4b501ee484ed3a7c23db536d6b95a",
            "aa325b56a4a8480b9e58f8cb56fc7f8d",
            "0e958d1fa6304e8ea467a3fec425d204",
            "e6c4a3e84e4f49b3b6993bc216f293bf",
            "bc0f67e0efdb4150accc3f52a24252cc",
            "5ede0c9a9ec949a3b3b4bb3728895ff0",
            "c1d0825f489147559ea021c508b17bae",
            "b5127d701ca2490d95a0e76501e85597",
            "15ba0c0a325d492d9b8acc1acf9e4f6c",
            "45b8b77d74754875b8a7edd83aa7531b",
            "cdbce784dac24775bbefbfd27b10d054"
          ]
        },
        "id": "H6sRpekyQ4W2",
        "outputId": "ce23483c-339a-40c2-eab8-4247558978c7"
      },
      "execution_count": 19,
      "outputs": [
        {
          "output_type": "display_data",
          "data": {
            "text/plain": [
              "  0%|          | 0/469 [00:00<?, ?it/s]"
            ],
            "application/vnd.jupyter.widget-view+json": {
              "version_major": 2,
              "version_minor": 0,
              "model_id": "df7c9cf57ba44b09863cf9440096a377"
            }
          },
          "metadata": {}
        },
        {
          "output_type": "display_data",
          "data": {
            "text/plain": [
              "  0%|          | 0/79 [00:00<?, ?it/s]"
            ],
            "application/vnd.jupyter.widget-view+json": {
              "version_major": 2,
              "version_minor": 0,
              "model_id": "73977e5203f546a88d04863e3487276a"
            }
          },
          "metadata": {}
        },
        {
          "output_type": "display_data",
          "data": {
            "text/plain": [
              "  0%|          | 0/469 [00:00<?, ?it/s]"
            ],
            "application/vnd.jupyter.widget-view+json": {
              "version_major": 2,
              "version_minor": 0,
              "model_id": "d596696ec31542129e6abfb144abff6f"
            }
          },
          "metadata": {}
        },
        {
          "output_type": "display_data",
          "data": {
            "text/plain": [
              "  0%|          | 0/79 [00:00<?, ?it/s]"
            ],
            "application/vnd.jupyter.widget-view+json": {
              "version_major": 2,
              "version_minor": 0,
              "model_id": "b3e84c7e767c4dd5b7edf83fd3ea2e3e"
            }
          },
          "metadata": {}
        },
        {
          "output_type": "display_data",
          "data": {
            "text/plain": [
              "  0%|          | 0/469 [00:00<?, ?it/s]"
            ],
            "application/vnd.jupyter.widget-view+json": {
              "version_major": 2,
              "version_minor": 0,
              "model_id": "0662c621c8ce40dc863f71c94669bafe"
            }
          },
          "metadata": {}
        },
        {
          "output_type": "display_data",
          "data": {
            "text/plain": [
              "  0%|          | 0/79 [00:00<?, ?it/s]"
            ],
            "application/vnd.jupyter.widget-view+json": {
              "version_major": 2,
              "version_minor": 0,
              "model_id": "7bc33622163f4c8bb205337515dc4276"
            }
          },
          "metadata": {}
        },
        {
          "output_type": "display_data",
          "data": {
            "text/plain": [
              "  0%|          | 0/469 [00:00<?, ?it/s]"
            ],
            "application/vnd.jupyter.widget-view+json": {
              "version_major": 2,
              "version_minor": 0,
              "model_id": "66ff68a2ced043f1b8bf59b1ed802947"
            }
          },
          "metadata": {}
        },
        {
          "output_type": "display_data",
          "data": {
            "text/plain": [
              "  0%|          | 0/79 [00:00<?, ?it/s]"
            ],
            "application/vnd.jupyter.widget-view+json": {
              "version_major": 2,
              "version_minor": 0,
              "model_id": "57b6712daed74af78b6fee569313b909"
            }
          },
          "metadata": {}
        },
        {
          "output_type": "display_data",
          "data": {
            "text/plain": [
              "  0%|          | 0/469 [00:00<?, ?it/s]"
            ],
            "application/vnd.jupyter.widget-view+json": {
              "version_major": 2,
              "version_minor": 0,
              "model_id": "4b2c1a99f54646bd853e44ee2bfd3258"
            }
          },
          "metadata": {}
        },
        {
          "output_type": "display_data",
          "data": {
            "text/plain": [
              "  0%|          | 0/79 [00:00<?, ?it/s]"
            ],
            "application/vnd.jupyter.widget-view+json": {
              "version_major": 2,
              "version_minor": 0,
              "model_id": "14f4b501ee484ed3a7c23db536d6b95a"
            }
          },
          "metadata": {}
        }
      ]
    },
    {
      "cell_type": "code",
      "source": [
        "class Dbg(nn.Module):\n",
        "    def forward(self, x):\n",
        "        print(\"x.shape\", x.shape)\n",
        "        return x"
      ],
      "metadata": {
        "id": "0xHm39ZFQ_kD"
      },
      "execution_count": null,
      "outputs": []
    },
    {
      "cell_type": "markdown",
      "source": [],
      "metadata": {
        "id": "zz6Rm6r9SSHu"
      }
    },
    {
      "cell_type": "markdown",
      "source": [
        "## Логирование\n",
        "\n",
        "\n",
        "Возвращаемся к ячейке с wandb.\n",
        "\n"
      ],
      "metadata": {
        "id": "PNsxR66vEas-"
      }
    },
    {
      "cell_type": "markdown",
      "metadata": {
        "id": "JXrz4nCymJvK"
      },
      "source": [
        "\n",
        "**Альтернативы wandb**\n",
        "\n",
        "\n",
        "[Tensorboard](https://www.tensorflow.org/tensorboard) -- это pip-installable web-приложение.\n",
        "\n",
        "```\n",
        "tensorboard --logdirs=./some-folder/with/events-files\n",
        "# зайти на http://localhost:6006\n",
        "```\n",
        "<img src=\"https://www.researchgate.net/publication/335864383/figure/fig1/AS:804107535265792@1568725584130/A-screen-capture-of-the-TensorBoard-output-from-a-model-trained-in-HIPSTER-on-simulated.jpg\"/>\n"
      ]
    },
    {
      "cell_type": "markdown",
      "metadata": {
        "id": "xpCgosUfmJvQ"
      },
      "source": [
        "## Сохранение-загрузка тензоров и моделек\n",
        "\n",
        "Нам часто бывает необходимо сохранить/загрузить веса модели в файл на диске.\n",
        "Распространенное название для этого -- checkpoint.\n",
        "\n",
        "У торчевых моделей (наследников torch.nn.Module) и оптимизаторов (наследников torch.optim.Optimizer) есть методы для получения и загрузки состояний:\n",
        "\n",
        "`.state_dict()` возвращает словарь (или почти словарь) с весами\n",
        "\n",
        "`.load_state_dict(some_dict)` загружает веса из словаря в модельку\n",
        "\n",
        "Для сохранения/загрузки словарей с тензорами в файлы есть простые функции `torch.save(some_dict, path)` и `torch.load(path)`. Сравните с использованием pickle или json!\n",
        "\n",
        "**NB: В DL термином checkpointing называют так же метод бекпропа, позволяющий экономить память ценой дополнительных вычислений (https://pytorch.org/docs/stable/checkpoint.html#torch-utils-checkpoint).**"
      ]
    },
    {
      "cell_type": "code",
      "execution_count": null,
      "metadata": {
        "id": "R3ArdLmImJvR",
        "outputId": "1e601cc1-96b1-4ab7-a1d3-885f97371950",
        "colab": {
          "base_uri": "https://localhost:8080/"
        }
      },
      "outputs": [
        {
          "output_type": "stream",
          "name": "stdout",
          "text": [
            "OrderedDict([('0.weight', tensor([[-0.0664, -0.1143,  0.0927,  0.2251, -0.1066,  0.0699,  0.0839,  0.1290,\n",
            "          0.2634, -0.1207],\n",
            "        [-0.0667, -0.0684,  0.2839, -0.1812, -0.0663, -0.2177, -0.1561,  0.2530,\n",
            "         -0.1258,  0.0492],\n",
            "        [ 0.0277, -0.1238,  0.0233, -0.1850, -0.3061,  0.1397,  0.0905,  0.0550,\n",
            "         -0.1700, -0.3050],\n",
            "        [ 0.2981, -0.0113,  0.1828,  0.2367,  0.2410,  0.2082, -0.1709, -0.2723,\n",
            "         -0.0275,  0.2663],\n",
            "        [ 0.0250,  0.0213, -0.2093,  0.1383,  0.0041,  0.0610, -0.0874, -0.2920,\n",
            "         -0.1293, -0.2178],\n",
            "        [-0.2060,  0.3007, -0.1237, -0.0175, -0.2875,  0.0112, -0.1040, -0.0917,\n",
            "         -0.1510,  0.0197],\n",
            "        [ 0.2770,  0.2413, -0.0847,  0.2721, -0.2573, -0.1065, -0.2707, -0.1601,\n",
            "          0.1047, -0.2812],\n",
            "        [-0.0505, -0.2201, -0.1225, -0.1742, -0.2167,  0.1323, -0.2703,  0.1405,\n",
            "         -0.1572, -0.2330],\n",
            "        [ 0.2996,  0.3131,  0.2423, -0.0556, -0.1100,  0.0063,  0.2777, -0.1559,\n",
            "          0.0465,  0.1355],\n",
            "        [-0.2529,  0.1176,  0.0811, -0.2023, -0.0746,  0.2164, -0.0017,  0.1573,\n",
            "          0.2521,  0.1547]])), ('0.bias', tensor([ 0.2618,  0.0280,  0.1851,  0.3150,  0.0505, -0.0060,  0.1803,  0.2386,\n",
            "         0.0425,  0.1450]))])\n",
            "{'state': {}, 'param_groups': [{'lr': 0.001, 'betas': (0.9, 0.999), 'eps': 1e-08, 'weight_decay': 0, 'amsgrad': False, 'maximize': False, 'foreach': None, 'capturable': False, 'differentiable': False, 'fused': False, 'params': [0, 1]}]}\n"
          ]
        }
      ],
      "source": [
        "some_model = nn.Sequential(nn.Linear(10, 10))\n",
        "print(some_model.state_dict())\n",
        "\n",
        "opt = optim.Adam(some_model.parameters())\n",
        "print(opt.state_dict())\n",
        "\n",
        "torch.save({\"model_stuff\": some_model.state_dict(), \"opt_stuff\": opt.state_dict()}, \"./that.is.it\")"
      ]
    },
    {
      "cell_type": "code",
      "execution_count": null,
      "metadata": {
        "id": "YYpEavYGmJvT",
        "outputId": "ef285bc5-ed7e-4663-991d-d0685ebe19d6",
        "colab": {
          "base_uri": "https://localhost:8080/"
        }
      },
      "outputs": [
        {
          "output_type": "execute_result",
          "data": {
            "text/plain": [
              "{'model_stuff': OrderedDict([('0.weight',\n",
              "               tensor([[-0.0664, -0.1143,  0.0927,  0.2251, -0.1066,  0.0699,  0.0839,  0.1290,\n",
              "                         0.2634, -0.1207],\n",
              "                       [-0.0667, -0.0684,  0.2839, -0.1812, -0.0663, -0.2177, -0.1561,  0.2530,\n",
              "                        -0.1258,  0.0492],\n",
              "                       [ 0.0277, -0.1238,  0.0233, -0.1850, -0.3061,  0.1397,  0.0905,  0.0550,\n",
              "                        -0.1700, -0.3050],\n",
              "                       [ 0.2981, -0.0113,  0.1828,  0.2367,  0.2410,  0.2082, -0.1709, -0.2723,\n",
              "                        -0.0275,  0.2663],\n",
              "                       [ 0.0250,  0.0213, -0.2093,  0.1383,  0.0041,  0.0610, -0.0874, -0.2920,\n",
              "                        -0.1293, -0.2178],\n",
              "                       [-0.2060,  0.3007, -0.1237, -0.0175, -0.2875,  0.0112, -0.1040, -0.0917,\n",
              "                        -0.1510,  0.0197],\n",
              "                       [ 0.2770,  0.2413, -0.0847,  0.2721, -0.2573, -0.1065, -0.2707, -0.1601,\n",
              "                         0.1047, -0.2812],\n",
              "                       [-0.0505, -0.2201, -0.1225, -0.1742, -0.2167,  0.1323, -0.2703,  0.1405,\n",
              "                        -0.1572, -0.2330],\n",
              "                       [ 0.2996,  0.3131,  0.2423, -0.0556, -0.1100,  0.0063,  0.2777, -0.1559,\n",
              "                         0.0465,  0.1355],\n",
              "                       [-0.2529,  0.1176,  0.0811, -0.2023, -0.0746,  0.2164, -0.0017,  0.1573,\n",
              "                         0.2521,  0.1547]])),\n",
              "              ('0.bias',\n",
              "               tensor([ 0.2618,  0.0280,  0.1851,  0.3150,  0.0505, -0.0060,  0.1803,  0.2386,\n",
              "                        0.0425,  0.1450]))]),\n",
              " 'opt_stuff': {'state': {},\n",
              "  'param_groups': [{'lr': 0.001,\n",
              "    'betas': (0.9, 0.999),\n",
              "    'eps': 1e-08,\n",
              "    'weight_decay': 0,\n",
              "    'amsgrad': False,\n",
              "    'maximize': False,\n",
              "    'foreach': None,\n",
              "    'capturable': False,\n",
              "    'differentiable': False,\n",
              "    'fused': False,\n",
              "    'params': [0, 1]}]}}"
            ]
          },
          "metadata": {},
          "execution_count": 39
        }
      ],
      "source": [
        "torch.load(\"./state.pth\")"
      ]
    },
    {
      "cell_type": "markdown",
      "source": [
        "# Блиц по `Pytorch`"
      ],
      "metadata": {
        "id": "hA_4SXLNIn4C"
      }
    },
    {
      "cell_type": "markdown",
      "source": [
        "### Какие базовые абстракции можно выделить при обучении нейросети?\n",
        "\n",
        "<!--\n",
        "* датасет+dataloader\n",
        "* модель (сама нейросеть)\n",
        "* оптимизатор\n",
        "* trainer -- класс, который отвечает за то, как именно должна обучаться модель\n",
        "\n",
        "ЗЫ можно выделить и больше абстракций\n",
        " -->"
      ],
      "metadata": {
        "id": "F82PfD3BOHBg"
      }
    },
    {
      "cell_type": "markdown",
      "source": [
        "### Что нужно сохранять для того, чтобы сохранить текущее состояние обучения/модели?\n",
        "\n",
        "<!-- На саммо деле ответ уже есть в вопросе -- сохраняем `state_dict` для модели и для оптимизатора -->\n"
      ],
      "metadata": {
        "id": "L-0zga_PLz5i"
      }
    },
    {
      "cell_type": "markdown",
      "source": [
        "### Зачем нужно сохранять текущее состояние модели?\n",
        "\n",
        "<!--\n",
        "Во-первых, если ничего не сохранить, то никак нельзя будет применить в будущем обученную сеть и после завершения процесса обученные веса просто выгрузятся из памяти и все.\n",
        "\n",
        "Кроме финального сохранения весов может иметь смысл анализ промежуточных состояний сети - мы хотим знать, что происходит с весами в процессе обучения нейросети?\n",
        " -->\n"
      ],
      "metadata": {
        "id": "tgpspHk8jjOx"
      }
    },
    {
      "cell_type": "markdown",
      "source": [
        "### Когда нужно сохранять состояние модели/оптимизатора?\n",
        "\n",
        "<!--\n",
        "\n",
        "Вообще говоря, зависит от конкретной задачи, датасета и цели.\n",
        "\n",
        "Есть разные стратегии сохраннения чекпоинтов:\n",
        "* можно сохранять чекпоинты в конце каждой эпохи\n",
        "* можно сохранять N последних чекпоинта\n",
        "* можно сохранять N лучших чекпоинтов (по метрике или лоссу)\n",
        "* можно сохранять чекпоинты через k шагов обновления (если в эпохе очень много шагов)\n",
        "\n",
        " -->\n"
      ],
      "metadata": {
        "id": "jgGHffQiQGu-"
      }
    },
    {
      "cell_type": "markdown",
      "source": [
        "### Чем отличается Dataset от Dataloader?\n",
        "<!--\n",
        "- `Dataset` отвечает за подготовку одного примера\n",
        "- `DataLoader` отвечает за выбор примеров, склейку их в один батч и распараллеливание на CPU, поддерживает итерирование.\n",
        "-->"
      ],
      "metadata": {
        "id": "g60cTs3FMGBz"
      }
    },
    {
      "cell_type": "markdown",
      "source": [
        "### Зачем нужна `collate_fn`?\n",
        "\n",
        "<!-- Функция, которая будет склеивать примеры в батчи -->"
      ],
      "metadata": {
        "id": "wXQ6mJo1OSXy"
      }
    },
    {
      "cell_type": "markdown",
      "source": [
        "## Расставьте этапы обучения модели в правильном порядке\n",
        "\n",
        "* получение примеров для обучения из датасета (`Dataset`)\n",
        "* склеивание примеров объектов из датасета в батчи (`Dataloader`)\n",
        "* обновление весов сети\n",
        "* backward pass\n",
        "* forward pass + вычисление лосса\n",
        "* обнуление градиентов `model.zero_grad()`\n",
        "* сохранение чекпоинта\n",
        "\n",
        "<!--\n",
        "\n",
        "Правильный порядок:\n",
        "\n",
        "* получение примеров для обучения из датасета\n",
        "* склеивание примеров объектов из датасета в батчи\n",
        "* обнуление градиентов `model.zero_grad()`\n",
        "* forward pass + вычисление лосса\n",
        "* backward pass\n",
        "* обновление весов сети\n",
        "* [например, в конце эпохи] сохранение чекпоинта\n",
        "\n",
        " -->"
      ],
      "metadata": {
        "id": "l5zoIr-7PchF"
      }
    },
    {
      "cell_type": "markdown",
      "source": [
        "### Почему при логировании лосса важно сделать `loss.item()`?\n",
        "\n",
        "<!-- Чтобы не было утечки памяти. Дело в том, что логгер хранит переданные значения в оперативной памяти. А к переменной `loss` привязан весь граф вычислений (в том числе, значения активаций с промежуточных слоев - вспоминаем прошлый семинар) -->\n"
      ],
      "metadata": {
        "id": "o2FnznnOA70q"
      }
    },
    {
      "cell_type": "markdown",
      "source": [
        "# Блиц по функциям активации"
      ],
      "metadata": {
        "id": "OREM7Atqfj9F"
      }
    },
    {
      "cell_type": "markdown",
      "source": [
        "### Что вы запомнили про ф-и активации?\n"
      ],
      "metadata": {
        "id": "3RbAHRoNfoqH"
      }
    },
    {
      "cell_type": "markdown",
      "source": [
        "### Можно ли ставить ф-ии активации после последнего линейного слоя в MLP?\n",
        "\n",
        "<!--\n",
        "В теории можно, но в общем случае не рекомендуется.\n",
        "Могут хуже течь градиенты, проблема dead neurons.\n",
        "\n",
        "Важно понимать масштаб и диапозон данных, с которыми работает сеть на каждом этапе. Иногда выход из сети может ожидаться в диапозоне [-1, 1]. Иногда [0, 1]. Иногда нет никаких ограничений.\n",
        "\n",
        "Чаще всего выход сети - это логиты. Которые мы потом преобразуем в вероятности через SoftMax.\n",
        " -->\n"
      ],
      "metadata": {
        "id": "L7d4ojIdkZ_l"
      }
    },
    {
      "cell_type": "markdown",
      "source": [
        "# Блиц по инициализации"
      ],
      "metadata": {
        "id": "1tW1ooDuCC36"
      }
    },
    {
      "cell_type": "markdown",
      "source": [
        "### Если инициализировать все веса нейросети нулями, то она не будет обучаться?"
      ],
      "metadata": {
        "id": "4D06aPW_CIZS"
      }
    },
    {
      "cell_type": "markdown",
      "source": [
        "### Если не инициализировать веса нейросети, она не будет обучаться?"
      ],
      "metadata": {
        "id": "9_3JIL-QCYCk"
      }
    },
    {
      "cell_type": "markdown",
      "source": [
        "### Если инициализировать веса нейросети значениями > 1, она не будет обучаться?"
      ],
      "metadata": {
        "id": "i6s-BgavCi2f"
      }
    },
    {
      "cell_type": "markdown",
      "source": [
        "### Если инициализировать веса нейросети значениями < 1, она не будет обучаться?"
      ],
      "metadata": {
        "id": "OpZDvvRLCsdV"
      }
    },
    {
      "cell_type": "markdown",
      "source": [
        "# Обзор домашки\n",
        "\n",
        "Инвайты на домашку в закрепе чатике\n",
        "\n",
        "<!--\n",
        "https://github.com/fintech-dl-hse/hw-activations\n",
        "https://github.com/fintech-dl-hse/hw-weight-init\n",
        "-->"
      ],
      "metadata": {
        "id": "gVwrjEJQf0ad"
      }
    },
    {
      "cell_type": "markdown",
      "source": [
        "#### Pytorch inplace/outplace operations"
      ],
      "metadata": {
        "id": "ThXO_gR7Cr-P"
      }
    },
    {
      "cell_type": "markdown",
      "source": [
        "По умолчанию любая операция и преобразование с тензорами должна возвращать копию тензора.\n",
        "\n",
        "Но в торче для многих преобразований есть inplace модификация (с подчеркиванием на конце: `add_`, `mul_`, `exp_`, `fill_`)\n"
      ],
      "metadata": {
        "id": "bM9V6WCWCy32"
      }
    },
    {
      "cell_type": "code",
      "source": [
        "import torch\n",
        "\n",
        "a = torch.randn(5)\n",
        "b = torch.randn(5)\n",
        "\n",
        "c = a + b # returns new tensor object\n",
        "assert id(c) != id(a) and id(c) != id(b)\n",
        "\n",
        "d = a.add_(b) # inplace add operation in `a` tensor memory\n",
        "\n",
        "assert id(a) == id(d)\n",
        "assert (d == a).all()"
      ],
      "metadata": {
        "id": "U5gBEDcsCgwg"
      },
      "execution_count": null,
      "outputs": []
    },
    {
      "cell_type": "markdown",
      "source": [
        "Это правило касается не только обычных операций с тензорами, но всех модулей (в том числе слои активаций).\n",
        "\n",
        "inplace операций лучше избегать, если вы точно не уверены, что они вам нужны. Их плюс в том, что такие операции экономят память. Но из минусов можно в какой-то момент получить сломанный граф градиентов (если тензор, который был модифицирован inplace до этой модификации использовался для какой-либо операции, по которой мы хотим считать градиент)\n",
        "\n",
        "Операция записи по индексам в тензор делается inplace.\n",
        "\n"
      ],
      "metadata": {
        "id": "cw92usiADM7u"
      }
    },
    {
      "cell_type": "code",
      "source": [
        "mytensor = torch.rand([10,10])\n",
        "mask = torch.zeros_like(mytensor).bool() # configure boolean mask\n",
        "\n",
        "mytensor[mask] = 0 # inplace operation"
      ],
      "metadata": {
        "id": "2ErnPK4eDMYv"
      },
      "execution_count": null,
      "outputs": []
    },
    {
      "cell_type": "markdown",
      "source": [
        "Поэтому если мы хотим сделать такое в нашем модуле, перед такой операцией надо явно создать клон тензора.\n",
        "\n",
        "Когда не нужно явно клонировать тензор? В 99% случаев не нужно Для сигмоиды явно клонировать значение тензора не нужно, потому что `torch.exp(...)` и так возвращает новый тензор и не используются inplace операции"
      ],
      "metadata": {
        "id": "z6ao0-w3DRoS"
      }
    },
    {
      "cell_type": "code",
      "source": [],
      "metadata": {
        "id": "b4-1Zft6DTBD"
      },
      "execution_count": null,
      "outputs": []
    }
  ],
  "metadata": {
    "kernelspec": {
      "display_name": "base",
      "language": "python",
      "name": "base"
    },
    "language_info": {
      "codemirror_mode": {
        "name": "ipython",
        "version": 3
      },
      "file_extension": ".py",
      "mimetype": "text/x-python",
      "name": "python",
      "nbconvert_exporter": "python",
      "pygments_lexer": "ipython3",
      "version": "3.7.3"
    },
    "colab": {
      "provenance": [],
      "toc_visible": true
    },
    "widgets": {
      "application/vnd.jupyter.widget-state+json": {
        "df7c9cf57ba44b09863cf9440096a377": {
          "model_module": "@jupyter-widgets/controls",
          "model_name": "HBoxModel",
          "model_module_version": "1.5.0",
          "state": {
            "_dom_classes": [],
            "_model_module": "@jupyter-widgets/controls",
            "_model_module_version": "1.5.0",
            "_model_name": "HBoxModel",
            "_view_count": null,
            "_view_module": "@jupyter-widgets/controls",
            "_view_module_version": "1.5.0",
            "_view_name": "HBoxView",
            "box_style": "",
            "children": [
              "IPY_MODEL_10d5af2247a14f1f9df515b0fbbf4bcf",
              "IPY_MODEL_b4e47fd45df348849054645181db5ee5",
              "IPY_MODEL_5c494e384e914da0a9f2686db8de37b8"
            ],
            "layout": "IPY_MODEL_53ca062381274ecdbccd1cfd575e821e"
          }
        },
        "10d5af2247a14f1f9df515b0fbbf4bcf": {
          "model_module": "@jupyter-widgets/controls",
          "model_name": "HTMLModel",
          "model_module_version": "1.5.0",
          "state": {
            "_dom_classes": [],
            "_model_module": "@jupyter-widgets/controls",
            "_model_module_version": "1.5.0",
            "_model_name": "HTMLModel",
            "_view_count": null,
            "_view_module": "@jupyter-widgets/controls",
            "_view_module_version": "1.5.0",
            "_view_name": "HTMLView",
            "description": "",
            "description_tooltip": null,
            "layout": "IPY_MODEL_8dc7132443774f1989da11b7015cb701",
            "placeholder": "​",
            "style": "IPY_MODEL_d6bb6649197c4173861bbe375cec02f2",
            "value": "100%"
          }
        },
        "b4e47fd45df348849054645181db5ee5": {
          "model_module": "@jupyter-widgets/controls",
          "model_name": "FloatProgressModel",
          "model_module_version": "1.5.0",
          "state": {
            "_dom_classes": [],
            "_model_module": "@jupyter-widgets/controls",
            "_model_module_version": "1.5.0",
            "_model_name": "FloatProgressModel",
            "_view_count": null,
            "_view_module": "@jupyter-widgets/controls",
            "_view_module_version": "1.5.0",
            "_view_name": "ProgressView",
            "bar_style": "success",
            "description": "",
            "description_tooltip": null,
            "layout": "IPY_MODEL_42ad69d9790c46ebb6b606a34551f745",
            "max": 469,
            "min": 0,
            "orientation": "horizontal",
            "style": "IPY_MODEL_e0a6ea3091bd47e48b42e7de9de7dfe1",
            "value": 469
          }
        },
        "5c494e384e914da0a9f2686db8de37b8": {
          "model_module": "@jupyter-widgets/controls",
          "model_name": "HTMLModel",
          "model_module_version": "1.5.0",
          "state": {
            "_dom_classes": [],
            "_model_module": "@jupyter-widgets/controls",
            "_model_module_version": "1.5.0",
            "_model_name": "HTMLModel",
            "_view_count": null,
            "_view_module": "@jupyter-widgets/controls",
            "_view_module_version": "1.5.0",
            "_view_name": "HTMLView",
            "description": "",
            "description_tooltip": null,
            "layout": "IPY_MODEL_de7f2478bce04b3eb41802d72049f39a",
            "placeholder": "​",
            "style": "IPY_MODEL_b01f9028585d44f0b55bd2cc391ee9e0",
            "value": " 469/469 [00:05&lt;00:00, 69.91it/s]"
          }
        },
        "53ca062381274ecdbccd1cfd575e821e": {
          "model_module": "@jupyter-widgets/base",
          "model_name": "LayoutModel",
          "model_module_version": "1.2.0",
          "state": {
            "_model_module": "@jupyter-widgets/base",
            "_model_module_version": "1.2.0",
            "_model_name": "LayoutModel",
            "_view_count": null,
            "_view_module": "@jupyter-widgets/base",
            "_view_module_version": "1.2.0",
            "_view_name": "LayoutView",
            "align_content": null,
            "align_items": null,
            "align_self": null,
            "border": null,
            "bottom": null,
            "display": null,
            "flex": null,
            "flex_flow": null,
            "grid_area": null,
            "grid_auto_columns": null,
            "grid_auto_flow": null,
            "grid_auto_rows": null,
            "grid_column": null,
            "grid_gap": null,
            "grid_row": null,
            "grid_template_areas": null,
            "grid_template_columns": null,
            "grid_template_rows": null,
            "height": null,
            "justify_content": null,
            "justify_items": null,
            "left": null,
            "margin": null,
            "max_height": null,
            "max_width": null,
            "min_height": null,
            "min_width": null,
            "object_fit": null,
            "object_position": null,
            "order": null,
            "overflow": null,
            "overflow_x": null,
            "overflow_y": null,
            "padding": null,
            "right": null,
            "top": null,
            "visibility": null,
            "width": null
          }
        },
        "8dc7132443774f1989da11b7015cb701": {
          "model_module": "@jupyter-widgets/base",
          "model_name": "LayoutModel",
          "model_module_version": "1.2.0",
          "state": {
            "_model_module": "@jupyter-widgets/base",
            "_model_module_version": "1.2.0",
            "_model_name": "LayoutModel",
            "_view_count": null,
            "_view_module": "@jupyter-widgets/base",
            "_view_module_version": "1.2.0",
            "_view_name": "LayoutView",
            "align_content": null,
            "align_items": null,
            "align_self": null,
            "border": null,
            "bottom": null,
            "display": null,
            "flex": null,
            "flex_flow": null,
            "grid_area": null,
            "grid_auto_columns": null,
            "grid_auto_flow": null,
            "grid_auto_rows": null,
            "grid_column": null,
            "grid_gap": null,
            "grid_row": null,
            "grid_template_areas": null,
            "grid_template_columns": null,
            "grid_template_rows": null,
            "height": null,
            "justify_content": null,
            "justify_items": null,
            "left": null,
            "margin": null,
            "max_height": null,
            "max_width": null,
            "min_height": null,
            "min_width": null,
            "object_fit": null,
            "object_position": null,
            "order": null,
            "overflow": null,
            "overflow_x": null,
            "overflow_y": null,
            "padding": null,
            "right": null,
            "top": null,
            "visibility": null,
            "width": null
          }
        },
        "d6bb6649197c4173861bbe375cec02f2": {
          "model_module": "@jupyter-widgets/controls",
          "model_name": "DescriptionStyleModel",
          "model_module_version": "1.5.0",
          "state": {
            "_model_module": "@jupyter-widgets/controls",
            "_model_module_version": "1.5.0",
            "_model_name": "DescriptionStyleModel",
            "_view_count": null,
            "_view_module": "@jupyter-widgets/base",
            "_view_module_version": "1.2.0",
            "_view_name": "StyleView",
            "description_width": ""
          }
        },
        "42ad69d9790c46ebb6b606a34551f745": {
          "model_module": "@jupyter-widgets/base",
          "model_name": "LayoutModel",
          "model_module_version": "1.2.0",
          "state": {
            "_model_module": "@jupyter-widgets/base",
            "_model_module_version": "1.2.0",
            "_model_name": "LayoutModel",
            "_view_count": null,
            "_view_module": "@jupyter-widgets/base",
            "_view_module_version": "1.2.0",
            "_view_name": "LayoutView",
            "align_content": null,
            "align_items": null,
            "align_self": null,
            "border": null,
            "bottom": null,
            "display": null,
            "flex": null,
            "flex_flow": null,
            "grid_area": null,
            "grid_auto_columns": null,
            "grid_auto_flow": null,
            "grid_auto_rows": null,
            "grid_column": null,
            "grid_gap": null,
            "grid_row": null,
            "grid_template_areas": null,
            "grid_template_columns": null,
            "grid_template_rows": null,
            "height": null,
            "justify_content": null,
            "justify_items": null,
            "left": null,
            "margin": null,
            "max_height": null,
            "max_width": null,
            "min_height": null,
            "min_width": null,
            "object_fit": null,
            "object_position": null,
            "order": null,
            "overflow": null,
            "overflow_x": null,
            "overflow_y": null,
            "padding": null,
            "right": null,
            "top": null,
            "visibility": null,
            "width": null
          }
        },
        "e0a6ea3091bd47e48b42e7de9de7dfe1": {
          "model_module": "@jupyter-widgets/controls",
          "model_name": "ProgressStyleModel",
          "model_module_version": "1.5.0",
          "state": {
            "_model_module": "@jupyter-widgets/controls",
            "_model_module_version": "1.5.0",
            "_model_name": "ProgressStyleModel",
            "_view_count": null,
            "_view_module": "@jupyter-widgets/base",
            "_view_module_version": "1.2.0",
            "_view_name": "StyleView",
            "bar_color": null,
            "description_width": ""
          }
        },
        "de7f2478bce04b3eb41802d72049f39a": {
          "model_module": "@jupyter-widgets/base",
          "model_name": "LayoutModel",
          "model_module_version": "1.2.0",
          "state": {
            "_model_module": "@jupyter-widgets/base",
            "_model_module_version": "1.2.0",
            "_model_name": "LayoutModel",
            "_view_count": null,
            "_view_module": "@jupyter-widgets/base",
            "_view_module_version": "1.2.0",
            "_view_name": "LayoutView",
            "align_content": null,
            "align_items": null,
            "align_self": null,
            "border": null,
            "bottom": null,
            "display": null,
            "flex": null,
            "flex_flow": null,
            "grid_area": null,
            "grid_auto_columns": null,
            "grid_auto_flow": null,
            "grid_auto_rows": null,
            "grid_column": null,
            "grid_gap": null,
            "grid_row": null,
            "grid_template_areas": null,
            "grid_template_columns": null,
            "grid_template_rows": null,
            "height": null,
            "justify_content": null,
            "justify_items": null,
            "left": null,
            "margin": null,
            "max_height": null,
            "max_width": null,
            "min_height": null,
            "min_width": null,
            "object_fit": null,
            "object_position": null,
            "order": null,
            "overflow": null,
            "overflow_x": null,
            "overflow_y": null,
            "padding": null,
            "right": null,
            "top": null,
            "visibility": null,
            "width": null
          }
        },
        "b01f9028585d44f0b55bd2cc391ee9e0": {
          "model_module": "@jupyter-widgets/controls",
          "model_name": "DescriptionStyleModel",
          "model_module_version": "1.5.0",
          "state": {
            "_model_module": "@jupyter-widgets/controls",
            "_model_module_version": "1.5.0",
            "_model_name": "DescriptionStyleModel",
            "_view_count": null,
            "_view_module": "@jupyter-widgets/base",
            "_view_module_version": "1.2.0",
            "_view_name": "StyleView",
            "description_width": ""
          }
        },
        "73977e5203f546a88d04863e3487276a": {
          "model_module": "@jupyter-widgets/controls",
          "model_name": "HBoxModel",
          "model_module_version": "1.5.0",
          "state": {
            "_dom_classes": [],
            "_model_module": "@jupyter-widgets/controls",
            "_model_module_version": "1.5.0",
            "_model_name": "HBoxModel",
            "_view_count": null,
            "_view_module": "@jupyter-widgets/controls",
            "_view_module_version": "1.5.0",
            "_view_name": "HBoxView",
            "box_style": "",
            "children": [
              "IPY_MODEL_74f876ba98fc4767a50c865639767039",
              "IPY_MODEL_24f3633a7f9c4ae9944477b303517c8d",
              "IPY_MODEL_20f5b8ca6f154a88aca15e96b0e20a9e"
            ],
            "layout": "IPY_MODEL_5f690a2882d74144afb35c2910b4ab8e"
          }
        },
        "74f876ba98fc4767a50c865639767039": {
          "model_module": "@jupyter-widgets/controls",
          "model_name": "HTMLModel",
          "model_module_version": "1.5.0",
          "state": {
            "_dom_classes": [],
            "_model_module": "@jupyter-widgets/controls",
            "_model_module_version": "1.5.0",
            "_model_name": "HTMLModel",
            "_view_count": null,
            "_view_module": "@jupyter-widgets/controls",
            "_view_module_version": "1.5.0",
            "_view_name": "HTMLView",
            "description": "",
            "description_tooltip": null,
            "layout": "IPY_MODEL_f9398b0f680e40db9c8deb2d62b71de7",
            "placeholder": "​",
            "style": "IPY_MODEL_2833e6a44bab466ba8419a6695a3f5f7",
            "value": "100%"
          }
        },
        "24f3633a7f9c4ae9944477b303517c8d": {
          "model_module": "@jupyter-widgets/controls",
          "model_name": "FloatProgressModel",
          "model_module_version": "1.5.0",
          "state": {
            "_dom_classes": [],
            "_model_module": "@jupyter-widgets/controls",
            "_model_module_version": "1.5.0",
            "_model_name": "FloatProgressModel",
            "_view_count": null,
            "_view_module": "@jupyter-widgets/controls",
            "_view_module_version": "1.5.0",
            "_view_name": "ProgressView",
            "bar_style": "success",
            "description": "",
            "description_tooltip": null,
            "layout": "IPY_MODEL_0cb7ac628b1a400fbede0c187341acfa",
            "max": 79,
            "min": 0,
            "orientation": "horizontal",
            "style": "IPY_MODEL_ab0ac7176ffa434c9367ee38d334d580",
            "value": 79
          }
        },
        "20f5b8ca6f154a88aca15e96b0e20a9e": {
          "model_module": "@jupyter-widgets/controls",
          "model_name": "HTMLModel",
          "model_module_version": "1.5.0",
          "state": {
            "_dom_classes": [],
            "_model_module": "@jupyter-widgets/controls",
            "_model_module_version": "1.5.0",
            "_model_name": "HTMLModel",
            "_view_count": null,
            "_view_module": "@jupyter-widgets/controls",
            "_view_module_version": "1.5.0",
            "_view_name": "HTMLView",
            "description": "",
            "description_tooltip": null,
            "layout": "IPY_MODEL_af9581d1cd5e4c0787e44d582c2183ee",
            "placeholder": "​",
            "style": "IPY_MODEL_05a32f9cfc78496e9b810b5ddfe095d3",
            "value": " 79/79 [00:01&lt;00:00, 74.02it/s]"
          }
        },
        "5f690a2882d74144afb35c2910b4ab8e": {
          "model_module": "@jupyter-widgets/base",
          "model_name": "LayoutModel",
          "model_module_version": "1.2.0",
          "state": {
            "_model_module": "@jupyter-widgets/base",
            "_model_module_version": "1.2.0",
            "_model_name": "LayoutModel",
            "_view_count": null,
            "_view_module": "@jupyter-widgets/base",
            "_view_module_version": "1.2.0",
            "_view_name": "LayoutView",
            "align_content": null,
            "align_items": null,
            "align_self": null,
            "border": null,
            "bottom": null,
            "display": null,
            "flex": null,
            "flex_flow": null,
            "grid_area": null,
            "grid_auto_columns": null,
            "grid_auto_flow": null,
            "grid_auto_rows": null,
            "grid_column": null,
            "grid_gap": null,
            "grid_row": null,
            "grid_template_areas": null,
            "grid_template_columns": null,
            "grid_template_rows": null,
            "height": null,
            "justify_content": null,
            "justify_items": null,
            "left": null,
            "margin": null,
            "max_height": null,
            "max_width": null,
            "min_height": null,
            "min_width": null,
            "object_fit": null,
            "object_position": null,
            "order": null,
            "overflow": null,
            "overflow_x": null,
            "overflow_y": null,
            "padding": null,
            "right": null,
            "top": null,
            "visibility": null,
            "width": null
          }
        },
        "f9398b0f680e40db9c8deb2d62b71de7": {
          "model_module": "@jupyter-widgets/base",
          "model_name": "LayoutModel",
          "model_module_version": "1.2.0",
          "state": {
            "_model_module": "@jupyter-widgets/base",
            "_model_module_version": "1.2.0",
            "_model_name": "LayoutModel",
            "_view_count": null,
            "_view_module": "@jupyter-widgets/base",
            "_view_module_version": "1.2.0",
            "_view_name": "LayoutView",
            "align_content": null,
            "align_items": null,
            "align_self": null,
            "border": null,
            "bottom": null,
            "display": null,
            "flex": null,
            "flex_flow": null,
            "grid_area": null,
            "grid_auto_columns": null,
            "grid_auto_flow": null,
            "grid_auto_rows": null,
            "grid_column": null,
            "grid_gap": null,
            "grid_row": null,
            "grid_template_areas": null,
            "grid_template_columns": null,
            "grid_template_rows": null,
            "height": null,
            "justify_content": null,
            "justify_items": null,
            "left": null,
            "margin": null,
            "max_height": null,
            "max_width": null,
            "min_height": null,
            "min_width": null,
            "object_fit": null,
            "object_position": null,
            "order": null,
            "overflow": null,
            "overflow_x": null,
            "overflow_y": null,
            "padding": null,
            "right": null,
            "top": null,
            "visibility": null,
            "width": null
          }
        },
        "2833e6a44bab466ba8419a6695a3f5f7": {
          "model_module": "@jupyter-widgets/controls",
          "model_name": "DescriptionStyleModel",
          "model_module_version": "1.5.0",
          "state": {
            "_model_module": "@jupyter-widgets/controls",
            "_model_module_version": "1.5.0",
            "_model_name": "DescriptionStyleModel",
            "_view_count": null,
            "_view_module": "@jupyter-widgets/base",
            "_view_module_version": "1.2.0",
            "_view_name": "StyleView",
            "description_width": ""
          }
        },
        "0cb7ac628b1a400fbede0c187341acfa": {
          "model_module": "@jupyter-widgets/base",
          "model_name": "LayoutModel",
          "model_module_version": "1.2.0",
          "state": {
            "_model_module": "@jupyter-widgets/base",
            "_model_module_version": "1.2.0",
            "_model_name": "LayoutModel",
            "_view_count": null,
            "_view_module": "@jupyter-widgets/base",
            "_view_module_version": "1.2.0",
            "_view_name": "LayoutView",
            "align_content": null,
            "align_items": null,
            "align_self": null,
            "border": null,
            "bottom": null,
            "display": null,
            "flex": null,
            "flex_flow": null,
            "grid_area": null,
            "grid_auto_columns": null,
            "grid_auto_flow": null,
            "grid_auto_rows": null,
            "grid_column": null,
            "grid_gap": null,
            "grid_row": null,
            "grid_template_areas": null,
            "grid_template_columns": null,
            "grid_template_rows": null,
            "height": null,
            "justify_content": null,
            "justify_items": null,
            "left": null,
            "margin": null,
            "max_height": null,
            "max_width": null,
            "min_height": null,
            "min_width": null,
            "object_fit": null,
            "object_position": null,
            "order": null,
            "overflow": null,
            "overflow_x": null,
            "overflow_y": null,
            "padding": null,
            "right": null,
            "top": null,
            "visibility": null,
            "width": null
          }
        },
        "ab0ac7176ffa434c9367ee38d334d580": {
          "model_module": "@jupyter-widgets/controls",
          "model_name": "ProgressStyleModel",
          "model_module_version": "1.5.0",
          "state": {
            "_model_module": "@jupyter-widgets/controls",
            "_model_module_version": "1.5.0",
            "_model_name": "ProgressStyleModel",
            "_view_count": null,
            "_view_module": "@jupyter-widgets/base",
            "_view_module_version": "1.2.0",
            "_view_name": "StyleView",
            "bar_color": null,
            "description_width": ""
          }
        },
        "af9581d1cd5e4c0787e44d582c2183ee": {
          "model_module": "@jupyter-widgets/base",
          "model_name": "LayoutModel",
          "model_module_version": "1.2.0",
          "state": {
            "_model_module": "@jupyter-widgets/base",
            "_model_module_version": "1.2.0",
            "_model_name": "LayoutModel",
            "_view_count": null,
            "_view_module": "@jupyter-widgets/base",
            "_view_module_version": "1.2.0",
            "_view_name": "LayoutView",
            "align_content": null,
            "align_items": null,
            "align_self": null,
            "border": null,
            "bottom": null,
            "display": null,
            "flex": null,
            "flex_flow": null,
            "grid_area": null,
            "grid_auto_columns": null,
            "grid_auto_flow": null,
            "grid_auto_rows": null,
            "grid_column": null,
            "grid_gap": null,
            "grid_row": null,
            "grid_template_areas": null,
            "grid_template_columns": null,
            "grid_template_rows": null,
            "height": null,
            "justify_content": null,
            "justify_items": null,
            "left": null,
            "margin": null,
            "max_height": null,
            "max_width": null,
            "min_height": null,
            "min_width": null,
            "object_fit": null,
            "object_position": null,
            "order": null,
            "overflow": null,
            "overflow_x": null,
            "overflow_y": null,
            "padding": null,
            "right": null,
            "top": null,
            "visibility": null,
            "width": null
          }
        },
        "05a32f9cfc78496e9b810b5ddfe095d3": {
          "model_module": "@jupyter-widgets/controls",
          "model_name": "DescriptionStyleModel",
          "model_module_version": "1.5.0",
          "state": {
            "_model_module": "@jupyter-widgets/controls",
            "_model_module_version": "1.5.0",
            "_model_name": "DescriptionStyleModel",
            "_view_count": null,
            "_view_module": "@jupyter-widgets/base",
            "_view_module_version": "1.2.0",
            "_view_name": "StyleView",
            "description_width": ""
          }
        },
        "d596696ec31542129e6abfb144abff6f": {
          "model_module": "@jupyter-widgets/controls",
          "model_name": "HBoxModel",
          "model_module_version": "1.5.0",
          "state": {
            "_dom_classes": [],
            "_model_module": "@jupyter-widgets/controls",
            "_model_module_version": "1.5.0",
            "_model_name": "HBoxModel",
            "_view_count": null,
            "_view_module": "@jupyter-widgets/controls",
            "_view_module_version": "1.5.0",
            "_view_name": "HBoxView",
            "box_style": "",
            "children": [
              "IPY_MODEL_cdb316f125924a5f9867a212eaad6f92",
              "IPY_MODEL_d0207be15a5048e9965fc915a2333aef",
              "IPY_MODEL_a457ff2e09a147a3bef7ff007f9dfd44"
            ],
            "layout": "IPY_MODEL_a7879e8589874192ad3b562fa91dad91"
          }
        },
        "cdb316f125924a5f9867a212eaad6f92": {
          "model_module": "@jupyter-widgets/controls",
          "model_name": "HTMLModel",
          "model_module_version": "1.5.0",
          "state": {
            "_dom_classes": [],
            "_model_module": "@jupyter-widgets/controls",
            "_model_module_version": "1.5.0",
            "_model_name": "HTMLModel",
            "_view_count": null,
            "_view_module": "@jupyter-widgets/controls",
            "_view_module_version": "1.5.0",
            "_view_name": "HTMLView",
            "description": "",
            "description_tooltip": null,
            "layout": "IPY_MODEL_b338610b6b8744088b3131ec1e8db882",
            "placeholder": "​",
            "style": "IPY_MODEL_bce70bac587a42f5ae663ad4fb190a1a",
            "value": "100%"
          }
        },
        "d0207be15a5048e9965fc915a2333aef": {
          "model_module": "@jupyter-widgets/controls",
          "model_name": "FloatProgressModel",
          "model_module_version": "1.5.0",
          "state": {
            "_dom_classes": [],
            "_model_module": "@jupyter-widgets/controls",
            "_model_module_version": "1.5.0",
            "_model_name": "FloatProgressModel",
            "_view_count": null,
            "_view_module": "@jupyter-widgets/controls",
            "_view_module_version": "1.5.0",
            "_view_name": "ProgressView",
            "bar_style": "success",
            "description": "",
            "description_tooltip": null,
            "layout": "IPY_MODEL_97d3fc9fba54409f8f0b012768f7798f",
            "max": 469,
            "min": 0,
            "orientation": "horizontal",
            "style": "IPY_MODEL_156e0f022d8f43eb8b117a9ccf4b05a0",
            "value": 469
          }
        },
        "a457ff2e09a147a3bef7ff007f9dfd44": {
          "model_module": "@jupyter-widgets/controls",
          "model_name": "HTMLModel",
          "model_module_version": "1.5.0",
          "state": {
            "_dom_classes": [],
            "_model_module": "@jupyter-widgets/controls",
            "_model_module_version": "1.5.0",
            "_model_name": "HTMLModel",
            "_view_count": null,
            "_view_module": "@jupyter-widgets/controls",
            "_view_module_version": "1.5.0",
            "_view_name": "HTMLView",
            "description": "",
            "description_tooltip": null,
            "layout": "IPY_MODEL_f25069a20e9f4bf294c0a8fb4cbf43fa",
            "placeholder": "​",
            "style": "IPY_MODEL_83fd12013e8e4e39854343dd2b5f9852",
            "value": " 469/469 [00:05&lt;00:00, 99.13it/s]"
          }
        },
        "a7879e8589874192ad3b562fa91dad91": {
          "model_module": "@jupyter-widgets/base",
          "model_name": "LayoutModel",
          "model_module_version": "1.2.0",
          "state": {
            "_model_module": "@jupyter-widgets/base",
            "_model_module_version": "1.2.0",
            "_model_name": "LayoutModel",
            "_view_count": null,
            "_view_module": "@jupyter-widgets/base",
            "_view_module_version": "1.2.0",
            "_view_name": "LayoutView",
            "align_content": null,
            "align_items": null,
            "align_self": null,
            "border": null,
            "bottom": null,
            "display": null,
            "flex": null,
            "flex_flow": null,
            "grid_area": null,
            "grid_auto_columns": null,
            "grid_auto_flow": null,
            "grid_auto_rows": null,
            "grid_column": null,
            "grid_gap": null,
            "grid_row": null,
            "grid_template_areas": null,
            "grid_template_columns": null,
            "grid_template_rows": null,
            "height": null,
            "justify_content": null,
            "justify_items": null,
            "left": null,
            "margin": null,
            "max_height": null,
            "max_width": null,
            "min_height": null,
            "min_width": null,
            "object_fit": null,
            "object_position": null,
            "order": null,
            "overflow": null,
            "overflow_x": null,
            "overflow_y": null,
            "padding": null,
            "right": null,
            "top": null,
            "visibility": null,
            "width": null
          }
        },
        "b338610b6b8744088b3131ec1e8db882": {
          "model_module": "@jupyter-widgets/base",
          "model_name": "LayoutModel",
          "model_module_version": "1.2.0",
          "state": {
            "_model_module": "@jupyter-widgets/base",
            "_model_module_version": "1.2.0",
            "_model_name": "LayoutModel",
            "_view_count": null,
            "_view_module": "@jupyter-widgets/base",
            "_view_module_version": "1.2.0",
            "_view_name": "LayoutView",
            "align_content": null,
            "align_items": null,
            "align_self": null,
            "border": null,
            "bottom": null,
            "display": null,
            "flex": null,
            "flex_flow": null,
            "grid_area": null,
            "grid_auto_columns": null,
            "grid_auto_flow": null,
            "grid_auto_rows": null,
            "grid_column": null,
            "grid_gap": null,
            "grid_row": null,
            "grid_template_areas": null,
            "grid_template_columns": null,
            "grid_template_rows": null,
            "height": null,
            "justify_content": null,
            "justify_items": null,
            "left": null,
            "margin": null,
            "max_height": null,
            "max_width": null,
            "min_height": null,
            "min_width": null,
            "object_fit": null,
            "object_position": null,
            "order": null,
            "overflow": null,
            "overflow_x": null,
            "overflow_y": null,
            "padding": null,
            "right": null,
            "top": null,
            "visibility": null,
            "width": null
          }
        },
        "bce70bac587a42f5ae663ad4fb190a1a": {
          "model_module": "@jupyter-widgets/controls",
          "model_name": "DescriptionStyleModel",
          "model_module_version": "1.5.0",
          "state": {
            "_model_module": "@jupyter-widgets/controls",
            "_model_module_version": "1.5.0",
            "_model_name": "DescriptionStyleModel",
            "_view_count": null,
            "_view_module": "@jupyter-widgets/base",
            "_view_module_version": "1.2.0",
            "_view_name": "StyleView",
            "description_width": ""
          }
        },
        "97d3fc9fba54409f8f0b012768f7798f": {
          "model_module": "@jupyter-widgets/base",
          "model_name": "LayoutModel",
          "model_module_version": "1.2.0",
          "state": {
            "_model_module": "@jupyter-widgets/base",
            "_model_module_version": "1.2.0",
            "_model_name": "LayoutModel",
            "_view_count": null,
            "_view_module": "@jupyter-widgets/base",
            "_view_module_version": "1.2.0",
            "_view_name": "LayoutView",
            "align_content": null,
            "align_items": null,
            "align_self": null,
            "border": null,
            "bottom": null,
            "display": null,
            "flex": null,
            "flex_flow": null,
            "grid_area": null,
            "grid_auto_columns": null,
            "grid_auto_flow": null,
            "grid_auto_rows": null,
            "grid_column": null,
            "grid_gap": null,
            "grid_row": null,
            "grid_template_areas": null,
            "grid_template_columns": null,
            "grid_template_rows": null,
            "height": null,
            "justify_content": null,
            "justify_items": null,
            "left": null,
            "margin": null,
            "max_height": null,
            "max_width": null,
            "min_height": null,
            "min_width": null,
            "object_fit": null,
            "object_position": null,
            "order": null,
            "overflow": null,
            "overflow_x": null,
            "overflow_y": null,
            "padding": null,
            "right": null,
            "top": null,
            "visibility": null,
            "width": null
          }
        },
        "156e0f022d8f43eb8b117a9ccf4b05a0": {
          "model_module": "@jupyter-widgets/controls",
          "model_name": "ProgressStyleModel",
          "model_module_version": "1.5.0",
          "state": {
            "_model_module": "@jupyter-widgets/controls",
            "_model_module_version": "1.5.0",
            "_model_name": "ProgressStyleModel",
            "_view_count": null,
            "_view_module": "@jupyter-widgets/base",
            "_view_module_version": "1.2.0",
            "_view_name": "StyleView",
            "bar_color": null,
            "description_width": ""
          }
        },
        "f25069a20e9f4bf294c0a8fb4cbf43fa": {
          "model_module": "@jupyter-widgets/base",
          "model_name": "LayoutModel",
          "model_module_version": "1.2.0",
          "state": {
            "_model_module": "@jupyter-widgets/base",
            "_model_module_version": "1.2.0",
            "_model_name": "LayoutModel",
            "_view_count": null,
            "_view_module": "@jupyter-widgets/base",
            "_view_module_version": "1.2.0",
            "_view_name": "LayoutView",
            "align_content": null,
            "align_items": null,
            "align_self": null,
            "border": null,
            "bottom": null,
            "display": null,
            "flex": null,
            "flex_flow": null,
            "grid_area": null,
            "grid_auto_columns": null,
            "grid_auto_flow": null,
            "grid_auto_rows": null,
            "grid_column": null,
            "grid_gap": null,
            "grid_row": null,
            "grid_template_areas": null,
            "grid_template_columns": null,
            "grid_template_rows": null,
            "height": null,
            "justify_content": null,
            "justify_items": null,
            "left": null,
            "margin": null,
            "max_height": null,
            "max_width": null,
            "min_height": null,
            "min_width": null,
            "object_fit": null,
            "object_position": null,
            "order": null,
            "overflow": null,
            "overflow_x": null,
            "overflow_y": null,
            "padding": null,
            "right": null,
            "top": null,
            "visibility": null,
            "width": null
          }
        },
        "83fd12013e8e4e39854343dd2b5f9852": {
          "model_module": "@jupyter-widgets/controls",
          "model_name": "DescriptionStyleModel",
          "model_module_version": "1.5.0",
          "state": {
            "_model_module": "@jupyter-widgets/controls",
            "_model_module_version": "1.5.0",
            "_model_name": "DescriptionStyleModel",
            "_view_count": null,
            "_view_module": "@jupyter-widgets/base",
            "_view_module_version": "1.2.0",
            "_view_name": "StyleView",
            "description_width": ""
          }
        },
        "b3e84c7e767c4dd5b7edf83fd3ea2e3e": {
          "model_module": "@jupyter-widgets/controls",
          "model_name": "HBoxModel",
          "model_module_version": "1.5.0",
          "state": {
            "_dom_classes": [],
            "_model_module": "@jupyter-widgets/controls",
            "_model_module_version": "1.5.0",
            "_model_name": "HBoxModel",
            "_view_count": null,
            "_view_module": "@jupyter-widgets/controls",
            "_view_module_version": "1.5.0",
            "_view_name": "HBoxView",
            "box_style": "",
            "children": [
              "IPY_MODEL_cbb1e0ce97014d33bef8562cb6656d9d",
              "IPY_MODEL_14c9bbba7356406b9478a45555ee59af",
              "IPY_MODEL_ecb5655f2c7b428ca6a6800b9005e1ea"
            ],
            "layout": "IPY_MODEL_fc8cb0aec2bb470b8e51cf8bb55d04df"
          }
        },
        "cbb1e0ce97014d33bef8562cb6656d9d": {
          "model_module": "@jupyter-widgets/controls",
          "model_name": "HTMLModel",
          "model_module_version": "1.5.0",
          "state": {
            "_dom_classes": [],
            "_model_module": "@jupyter-widgets/controls",
            "_model_module_version": "1.5.0",
            "_model_name": "HTMLModel",
            "_view_count": null,
            "_view_module": "@jupyter-widgets/controls",
            "_view_module_version": "1.5.0",
            "_view_name": "HTMLView",
            "description": "",
            "description_tooltip": null,
            "layout": "IPY_MODEL_fbee2dcc3861454ebbb3ba314e687fe7",
            "placeholder": "​",
            "style": "IPY_MODEL_e0d790f7481149bdb4f2c4f63600384d",
            "value": "100%"
          }
        },
        "14c9bbba7356406b9478a45555ee59af": {
          "model_module": "@jupyter-widgets/controls",
          "model_name": "FloatProgressModel",
          "model_module_version": "1.5.0",
          "state": {
            "_dom_classes": [],
            "_model_module": "@jupyter-widgets/controls",
            "_model_module_version": "1.5.0",
            "_model_name": "FloatProgressModel",
            "_view_count": null,
            "_view_module": "@jupyter-widgets/controls",
            "_view_module_version": "1.5.0",
            "_view_name": "ProgressView",
            "bar_style": "success",
            "description": "",
            "description_tooltip": null,
            "layout": "IPY_MODEL_1ff93ab9b43b4dda8b497610a71d528d",
            "max": 79,
            "min": 0,
            "orientation": "horizontal",
            "style": "IPY_MODEL_2b52afce279a4624b84a5dce404d839c",
            "value": 79
          }
        },
        "ecb5655f2c7b428ca6a6800b9005e1ea": {
          "model_module": "@jupyter-widgets/controls",
          "model_name": "HTMLModel",
          "model_module_version": "1.5.0",
          "state": {
            "_dom_classes": [],
            "_model_module": "@jupyter-widgets/controls",
            "_model_module_version": "1.5.0",
            "_model_name": "HTMLModel",
            "_view_count": null,
            "_view_module": "@jupyter-widgets/controls",
            "_view_module_version": "1.5.0",
            "_view_name": "HTMLView",
            "description": "",
            "description_tooltip": null,
            "layout": "IPY_MODEL_9d47187588cb42d2a97ba26d6af86d7a",
            "placeholder": "​",
            "style": "IPY_MODEL_4ccfa7e5ea2a4b1ba96f60a4074ff2a8",
            "value": " 79/79 [00:00&lt;00:00, 80.59it/s]"
          }
        },
        "fc8cb0aec2bb470b8e51cf8bb55d04df": {
          "model_module": "@jupyter-widgets/base",
          "model_name": "LayoutModel",
          "model_module_version": "1.2.0",
          "state": {
            "_model_module": "@jupyter-widgets/base",
            "_model_module_version": "1.2.0",
            "_model_name": "LayoutModel",
            "_view_count": null,
            "_view_module": "@jupyter-widgets/base",
            "_view_module_version": "1.2.0",
            "_view_name": "LayoutView",
            "align_content": null,
            "align_items": null,
            "align_self": null,
            "border": null,
            "bottom": null,
            "display": null,
            "flex": null,
            "flex_flow": null,
            "grid_area": null,
            "grid_auto_columns": null,
            "grid_auto_flow": null,
            "grid_auto_rows": null,
            "grid_column": null,
            "grid_gap": null,
            "grid_row": null,
            "grid_template_areas": null,
            "grid_template_columns": null,
            "grid_template_rows": null,
            "height": null,
            "justify_content": null,
            "justify_items": null,
            "left": null,
            "margin": null,
            "max_height": null,
            "max_width": null,
            "min_height": null,
            "min_width": null,
            "object_fit": null,
            "object_position": null,
            "order": null,
            "overflow": null,
            "overflow_x": null,
            "overflow_y": null,
            "padding": null,
            "right": null,
            "top": null,
            "visibility": null,
            "width": null
          }
        },
        "fbee2dcc3861454ebbb3ba314e687fe7": {
          "model_module": "@jupyter-widgets/base",
          "model_name": "LayoutModel",
          "model_module_version": "1.2.0",
          "state": {
            "_model_module": "@jupyter-widgets/base",
            "_model_module_version": "1.2.0",
            "_model_name": "LayoutModel",
            "_view_count": null,
            "_view_module": "@jupyter-widgets/base",
            "_view_module_version": "1.2.0",
            "_view_name": "LayoutView",
            "align_content": null,
            "align_items": null,
            "align_self": null,
            "border": null,
            "bottom": null,
            "display": null,
            "flex": null,
            "flex_flow": null,
            "grid_area": null,
            "grid_auto_columns": null,
            "grid_auto_flow": null,
            "grid_auto_rows": null,
            "grid_column": null,
            "grid_gap": null,
            "grid_row": null,
            "grid_template_areas": null,
            "grid_template_columns": null,
            "grid_template_rows": null,
            "height": null,
            "justify_content": null,
            "justify_items": null,
            "left": null,
            "margin": null,
            "max_height": null,
            "max_width": null,
            "min_height": null,
            "min_width": null,
            "object_fit": null,
            "object_position": null,
            "order": null,
            "overflow": null,
            "overflow_x": null,
            "overflow_y": null,
            "padding": null,
            "right": null,
            "top": null,
            "visibility": null,
            "width": null
          }
        },
        "e0d790f7481149bdb4f2c4f63600384d": {
          "model_module": "@jupyter-widgets/controls",
          "model_name": "DescriptionStyleModel",
          "model_module_version": "1.5.0",
          "state": {
            "_model_module": "@jupyter-widgets/controls",
            "_model_module_version": "1.5.0",
            "_model_name": "DescriptionStyleModel",
            "_view_count": null,
            "_view_module": "@jupyter-widgets/base",
            "_view_module_version": "1.2.0",
            "_view_name": "StyleView",
            "description_width": ""
          }
        },
        "1ff93ab9b43b4dda8b497610a71d528d": {
          "model_module": "@jupyter-widgets/base",
          "model_name": "LayoutModel",
          "model_module_version": "1.2.0",
          "state": {
            "_model_module": "@jupyter-widgets/base",
            "_model_module_version": "1.2.0",
            "_model_name": "LayoutModel",
            "_view_count": null,
            "_view_module": "@jupyter-widgets/base",
            "_view_module_version": "1.2.0",
            "_view_name": "LayoutView",
            "align_content": null,
            "align_items": null,
            "align_self": null,
            "border": null,
            "bottom": null,
            "display": null,
            "flex": null,
            "flex_flow": null,
            "grid_area": null,
            "grid_auto_columns": null,
            "grid_auto_flow": null,
            "grid_auto_rows": null,
            "grid_column": null,
            "grid_gap": null,
            "grid_row": null,
            "grid_template_areas": null,
            "grid_template_columns": null,
            "grid_template_rows": null,
            "height": null,
            "justify_content": null,
            "justify_items": null,
            "left": null,
            "margin": null,
            "max_height": null,
            "max_width": null,
            "min_height": null,
            "min_width": null,
            "object_fit": null,
            "object_position": null,
            "order": null,
            "overflow": null,
            "overflow_x": null,
            "overflow_y": null,
            "padding": null,
            "right": null,
            "top": null,
            "visibility": null,
            "width": null
          }
        },
        "2b52afce279a4624b84a5dce404d839c": {
          "model_module": "@jupyter-widgets/controls",
          "model_name": "ProgressStyleModel",
          "model_module_version": "1.5.0",
          "state": {
            "_model_module": "@jupyter-widgets/controls",
            "_model_module_version": "1.5.0",
            "_model_name": "ProgressStyleModel",
            "_view_count": null,
            "_view_module": "@jupyter-widgets/base",
            "_view_module_version": "1.2.0",
            "_view_name": "StyleView",
            "bar_color": null,
            "description_width": ""
          }
        },
        "9d47187588cb42d2a97ba26d6af86d7a": {
          "model_module": "@jupyter-widgets/base",
          "model_name": "LayoutModel",
          "model_module_version": "1.2.0",
          "state": {
            "_model_module": "@jupyter-widgets/base",
            "_model_module_version": "1.2.0",
            "_model_name": "LayoutModel",
            "_view_count": null,
            "_view_module": "@jupyter-widgets/base",
            "_view_module_version": "1.2.0",
            "_view_name": "LayoutView",
            "align_content": null,
            "align_items": null,
            "align_self": null,
            "border": null,
            "bottom": null,
            "display": null,
            "flex": null,
            "flex_flow": null,
            "grid_area": null,
            "grid_auto_columns": null,
            "grid_auto_flow": null,
            "grid_auto_rows": null,
            "grid_column": null,
            "grid_gap": null,
            "grid_row": null,
            "grid_template_areas": null,
            "grid_template_columns": null,
            "grid_template_rows": null,
            "height": null,
            "justify_content": null,
            "justify_items": null,
            "left": null,
            "margin": null,
            "max_height": null,
            "max_width": null,
            "min_height": null,
            "min_width": null,
            "object_fit": null,
            "object_position": null,
            "order": null,
            "overflow": null,
            "overflow_x": null,
            "overflow_y": null,
            "padding": null,
            "right": null,
            "top": null,
            "visibility": null,
            "width": null
          }
        },
        "4ccfa7e5ea2a4b1ba96f60a4074ff2a8": {
          "model_module": "@jupyter-widgets/controls",
          "model_name": "DescriptionStyleModel",
          "model_module_version": "1.5.0",
          "state": {
            "_model_module": "@jupyter-widgets/controls",
            "_model_module_version": "1.5.0",
            "_model_name": "DescriptionStyleModel",
            "_view_count": null,
            "_view_module": "@jupyter-widgets/base",
            "_view_module_version": "1.2.0",
            "_view_name": "StyleView",
            "description_width": ""
          }
        },
        "0662c621c8ce40dc863f71c94669bafe": {
          "model_module": "@jupyter-widgets/controls",
          "model_name": "HBoxModel",
          "model_module_version": "1.5.0",
          "state": {
            "_dom_classes": [],
            "_model_module": "@jupyter-widgets/controls",
            "_model_module_version": "1.5.0",
            "_model_name": "HBoxModel",
            "_view_count": null,
            "_view_module": "@jupyter-widgets/controls",
            "_view_module_version": "1.5.0",
            "_view_name": "HBoxView",
            "box_style": "",
            "children": [
              "IPY_MODEL_dd0b9b75e97e4122bf2eb1266a0b7b93",
              "IPY_MODEL_4ade77b48bf84351af79564801aff24d",
              "IPY_MODEL_27606c6f255b40e69e3514ce920ede80"
            ],
            "layout": "IPY_MODEL_db7f915d710042d59096a54e41543377"
          }
        },
        "dd0b9b75e97e4122bf2eb1266a0b7b93": {
          "model_module": "@jupyter-widgets/controls",
          "model_name": "HTMLModel",
          "model_module_version": "1.5.0",
          "state": {
            "_dom_classes": [],
            "_model_module": "@jupyter-widgets/controls",
            "_model_module_version": "1.5.0",
            "_model_name": "HTMLModel",
            "_view_count": null,
            "_view_module": "@jupyter-widgets/controls",
            "_view_module_version": "1.5.0",
            "_view_name": "HTMLView",
            "description": "",
            "description_tooltip": null,
            "layout": "IPY_MODEL_86e74553a3934091bab89dbe05e5583a",
            "placeholder": "​",
            "style": "IPY_MODEL_06fb4518822949dabed678686365233f",
            "value": "100%"
          }
        },
        "4ade77b48bf84351af79564801aff24d": {
          "model_module": "@jupyter-widgets/controls",
          "model_name": "FloatProgressModel",
          "model_module_version": "1.5.0",
          "state": {
            "_dom_classes": [],
            "_model_module": "@jupyter-widgets/controls",
            "_model_module_version": "1.5.0",
            "_model_name": "FloatProgressModel",
            "_view_count": null,
            "_view_module": "@jupyter-widgets/controls",
            "_view_module_version": "1.5.0",
            "_view_name": "ProgressView",
            "bar_style": "success",
            "description": "",
            "description_tooltip": null,
            "layout": "IPY_MODEL_80211c3b9a364421bd831ab8cdf91cd4",
            "max": 469,
            "min": 0,
            "orientation": "horizontal",
            "style": "IPY_MODEL_1d655c15ad254a01b30f2358d0e91ccb",
            "value": 469
          }
        },
        "27606c6f255b40e69e3514ce920ede80": {
          "model_module": "@jupyter-widgets/controls",
          "model_name": "HTMLModel",
          "model_module_version": "1.5.0",
          "state": {
            "_dom_classes": [],
            "_model_module": "@jupyter-widgets/controls",
            "_model_module_version": "1.5.0",
            "_model_name": "HTMLModel",
            "_view_count": null,
            "_view_module": "@jupyter-widgets/controls",
            "_view_module_version": "1.5.0",
            "_view_name": "HTMLView",
            "description": "",
            "description_tooltip": null,
            "layout": "IPY_MODEL_d0b961288bd04c40bd61b146fe4e296b",
            "placeholder": "​",
            "style": "IPY_MODEL_86c7c1cd888a497aa067e9f1d2ee82bf",
            "value": " 469/469 [00:12&lt;00:00, 92.73it/s]"
          }
        },
        "db7f915d710042d59096a54e41543377": {
          "model_module": "@jupyter-widgets/base",
          "model_name": "LayoutModel",
          "model_module_version": "1.2.0",
          "state": {
            "_model_module": "@jupyter-widgets/base",
            "_model_module_version": "1.2.0",
            "_model_name": "LayoutModel",
            "_view_count": null,
            "_view_module": "@jupyter-widgets/base",
            "_view_module_version": "1.2.0",
            "_view_name": "LayoutView",
            "align_content": null,
            "align_items": null,
            "align_self": null,
            "border": null,
            "bottom": null,
            "display": null,
            "flex": null,
            "flex_flow": null,
            "grid_area": null,
            "grid_auto_columns": null,
            "grid_auto_flow": null,
            "grid_auto_rows": null,
            "grid_column": null,
            "grid_gap": null,
            "grid_row": null,
            "grid_template_areas": null,
            "grid_template_columns": null,
            "grid_template_rows": null,
            "height": null,
            "justify_content": null,
            "justify_items": null,
            "left": null,
            "margin": null,
            "max_height": null,
            "max_width": null,
            "min_height": null,
            "min_width": null,
            "object_fit": null,
            "object_position": null,
            "order": null,
            "overflow": null,
            "overflow_x": null,
            "overflow_y": null,
            "padding": null,
            "right": null,
            "top": null,
            "visibility": null,
            "width": null
          }
        },
        "86e74553a3934091bab89dbe05e5583a": {
          "model_module": "@jupyter-widgets/base",
          "model_name": "LayoutModel",
          "model_module_version": "1.2.0",
          "state": {
            "_model_module": "@jupyter-widgets/base",
            "_model_module_version": "1.2.0",
            "_model_name": "LayoutModel",
            "_view_count": null,
            "_view_module": "@jupyter-widgets/base",
            "_view_module_version": "1.2.0",
            "_view_name": "LayoutView",
            "align_content": null,
            "align_items": null,
            "align_self": null,
            "border": null,
            "bottom": null,
            "display": null,
            "flex": null,
            "flex_flow": null,
            "grid_area": null,
            "grid_auto_columns": null,
            "grid_auto_flow": null,
            "grid_auto_rows": null,
            "grid_column": null,
            "grid_gap": null,
            "grid_row": null,
            "grid_template_areas": null,
            "grid_template_columns": null,
            "grid_template_rows": null,
            "height": null,
            "justify_content": null,
            "justify_items": null,
            "left": null,
            "margin": null,
            "max_height": null,
            "max_width": null,
            "min_height": null,
            "min_width": null,
            "object_fit": null,
            "object_position": null,
            "order": null,
            "overflow": null,
            "overflow_x": null,
            "overflow_y": null,
            "padding": null,
            "right": null,
            "top": null,
            "visibility": null,
            "width": null
          }
        },
        "06fb4518822949dabed678686365233f": {
          "model_module": "@jupyter-widgets/controls",
          "model_name": "DescriptionStyleModel",
          "model_module_version": "1.5.0",
          "state": {
            "_model_module": "@jupyter-widgets/controls",
            "_model_module_version": "1.5.0",
            "_model_name": "DescriptionStyleModel",
            "_view_count": null,
            "_view_module": "@jupyter-widgets/base",
            "_view_module_version": "1.2.0",
            "_view_name": "StyleView",
            "description_width": ""
          }
        },
        "80211c3b9a364421bd831ab8cdf91cd4": {
          "model_module": "@jupyter-widgets/base",
          "model_name": "LayoutModel",
          "model_module_version": "1.2.0",
          "state": {
            "_model_module": "@jupyter-widgets/base",
            "_model_module_version": "1.2.0",
            "_model_name": "LayoutModel",
            "_view_count": null,
            "_view_module": "@jupyter-widgets/base",
            "_view_module_version": "1.2.0",
            "_view_name": "LayoutView",
            "align_content": null,
            "align_items": null,
            "align_self": null,
            "border": null,
            "bottom": null,
            "display": null,
            "flex": null,
            "flex_flow": null,
            "grid_area": null,
            "grid_auto_columns": null,
            "grid_auto_flow": null,
            "grid_auto_rows": null,
            "grid_column": null,
            "grid_gap": null,
            "grid_row": null,
            "grid_template_areas": null,
            "grid_template_columns": null,
            "grid_template_rows": null,
            "height": null,
            "justify_content": null,
            "justify_items": null,
            "left": null,
            "margin": null,
            "max_height": null,
            "max_width": null,
            "min_height": null,
            "min_width": null,
            "object_fit": null,
            "object_position": null,
            "order": null,
            "overflow": null,
            "overflow_x": null,
            "overflow_y": null,
            "padding": null,
            "right": null,
            "top": null,
            "visibility": null,
            "width": null
          }
        },
        "1d655c15ad254a01b30f2358d0e91ccb": {
          "model_module": "@jupyter-widgets/controls",
          "model_name": "ProgressStyleModel",
          "model_module_version": "1.5.0",
          "state": {
            "_model_module": "@jupyter-widgets/controls",
            "_model_module_version": "1.5.0",
            "_model_name": "ProgressStyleModel",
            "_view_count": null,
            "_view_module": "@jupyter-widgets/base",
            "_view_module_version": "1.2.0",
            "_view_name": "StyleView",
            "bar_color": null,
            "description_width": ""
          }
        },
        "d0b961288bd04c40bd61b146fe4e296b": {
          "model_module": "@jupyter-widgets/base",
          "model_name": "LayoutModel",
          "model_module_version": "1.2.0",
          "state": {
            "_model_module": "@jupyter-widgets/base",
            "_model_module_version": "1.2.0",
            "_model_name": "LayoutModel",
            "_view_count": null,
            "_view_module": "@jupyter-widgets/base",
            "_view_module_version": "1.2.0",
            "_view_name": "LayoutView",
            "align_content": null,
            "align_items": null,
            "align_self": null,
            "border": null,
            "bottom": null,
            "display": null,
            "flex": null,
            "flex_flow": null,
            "grid_area": null,
            "grid_auto_columns": null,
            "grid_auto_flow": null,
            "grid_auto_rows": null,
            "grid_column": null,
            "grid_gap": null,
            "grid_row": null,
            "grid_template_areas": null,
            "grid_template_columns": null,
            "grid_template_rows": null,
            "height": null,
            "justify_content": null,
            "justify_items": null,
            "left": null,
            "margin": null,
            "max_height": null,
            "max_width": null,
            "min_height": null,
            "min_width": null,
            "object_fit": null,
            "object_position": null,
            "order": null,
            "overflow": null,
            "overflow_x": null,
            "overflow_y": null,
            "padding": null,
            "right": null,
            "top": null,
            "visibility": null,
            "width": null
          }
        },
        "86c7c1cd888a497aa067e9f1d2ee82bf": {
          "model_module": "@jupyter-widgets/controls",
          "model_name": "DescriptionStyleModel",
          "model_module_version": "1.5.0",
          "state": {
            "_model_module": "@jupyter-widgets/controls",
            "_model_module_version": "1.5.0",
            "_model_name": "DescriptionStyleModel",
            "_view_count": null,
            "_view_module": "@jupyter-widgets/base",
            "_view_module_version": "1.2.0",
            "_view_name": "StyleView",
            "description_width": ""
          }
        },
        "7bc33622163f4c8bb205337515dc4276": {
          "model_module": "@jupyter-widgets/controls",
          "model_name": "HBoxModel",
          "model_module_version": "1.5.0",
          "state": {
            "_dom_classes": [],
            "_model_module": "@jupyter-widgets/controls",
            "_model_module_version": "1.5.0",
            "_model_name": "HBoxModel",
            "_view_count": null,
            "_view_module": "@jupyter-widgets/controls",
            "_view_module_version": "1.5.0",
            "_view_name": "HBoxView",
            "box_style": "",
            "children": [
              "IPY_MODEL_49068678799843a48ac94ae6bdd537b6",
              "IPY_MODEL_cba1cac48a7049e5ab8d05073fe121ee",
              "IPY_MODEL_a14c2bbd8029431ca13ebe3dd138630c"
            ],
            "layout": "IPY_MODEL_1ad4f0e771594c9c9573b6bde58da17c"
          }
        },
        "49068678799843a48ac94ae6bdd537b6": {
          "model_module": "@jupyter-widgets/controls",
          "model_name": "HTMLModel",
          "model_module_version": "1.5.0",
          "state": {
            "_dom_classes": [],
            "_model_module": "@jupyter-widgets/controls",
            "_model_module_version": "1.5.0",
            "_model_name": "HTMLModel",
            "_view_count": null,
            "_view_module": "@jupyter-widgets/controls",
            "_view_module_version": "1.5.0",
            "_view_name": "HTMLView",
            "description": "",
            "description_tooltip": null,
            "layout": "IPY_MODEL_94f6bdc130de463d890d6a3571342a36",
            "placeholder": "​",
            "style": "IPY_MODEL_7a28148b41ea478a93b1d32b0065875f",
            "value": "100%"
          }
        },
        "cba1cac48a7049e5ab8d05073fe121ee": {
          "model_module": "@jupyter-widgets/controls",
          "model_name": "FloatProgressModel",
          "model_module_version": "1.5.0",
          "state": {
            "_dom_classes": [],
            "_model_module": "@jupyter-widgets/controls",
            "_model_module_version": "1.5.0",
            "_model_name": "FloatProgressModel",
            "_view_count": null,
            "_view_module": "@jupyter-widgets/controls",
            "_view_module_version": "1.5.0",
            "_view_name": "ProgressView",
            "bar_style": "success",
            "description": "",
            "description_tooltip": null,
            "layout": "IPY_MODEL_e8d40cd024bd4a8d88a687720e75f4f3",
            "max": 79,
            "min": 0,
            "orientation": "horizontal",
            "style": "IPY_MODEL_91a5e8154c534ea5957c182b64822d51",
            "value": 79
          }
        },
        "a14c2bbd8029431ca13ebe3dd138630c": {
          "model_module": "@jupyter-widgets/controls",
          "model_name": "HTMLModel",
          "model_module_version": "1.5.0",
          "state": {
            "_dom_classes": [],
            "_model_module": "@jupyter-widgets/controls",
            "_model_module_version": "1.5.0",
            "_model_name": "HTMLModel",
            "_view_count": null,
            "_view_module": "@jupyter-widgets/controls",
            "_view_module_version": "1.5.0",
            "_view_name": "HTMLView",
            "description": "",
            "description_tooltip": null,
            "layout": "IPY_MODEL_2235028126904cde9d26757d0f553cff",
            "placeholder": "​",
            "style": "IPY_MODEL_0d55f35afdaa480685c7f3b4e8451627",
            "value": " 79/79 [00:00&lt;00:00, 103.30it/s]"
          }
        },
        "1ad4f0e771594c9c9573b6bde58da17c": {
          "model_module": "@jupyter-widgets/base",
          "model_name": "LayoutModel",
          "model_module_version": "1.2.0",
          "state": {
            "_model_module": "@jupyter-widgets/base",
            "_model_module_version": "1.2.0",
            "_model_name": "LayoutModel",
            "_view_count": null,
            "_view_module": "@jupyter-widgets/base",
            "_view_module_version": "1.2.0",
            "_view_name": "LayoutView",
            "align_content": null,
            "align_items": null,
            "align_self": null,
            "border": null,
            "bottom": null,
            "display": null,
            "flex": null,
            "flex_flow": null,
            "grid_area": null,
            "grid_auto_columns": null,
            "grid_auto_flow": null,
            "grid_auto_rows": null,
            "grid_column": null,
            "grid_gap": null,
            "grid_row": null,
            "grid_template_areas": null,
            "grid_template_columns": null,
            "grid_template_rows": null,
            "height": null,
            "justify_content": null,
            "justify_items": null,
            "left": null,
            "margin": null,
            "max_height": null,
            "max_width": null,
            "min_height": null,
            "min_width": null,
            "object_fit": null,
            "object_position": null,
            "order": null,
            "overflow": null,
            "overflow_x": null,
            "overflow_y": null,
            "padding": null,
            "right": null,
            "top": null,
            "visibility": null,
            "width": null
          }
        },
        "94f6bdc130de463d890d6a3571342a36": {
          "model_module": "@jupyter-widgets/base",
          "model_name": "LayoutModel",
          "model_module_version": "1.2.0",
          "state": {
            "_model_module": "@jupyter-widgets/base",
            "_model_module_version": "1.2.0",
            "_model_name": "LayoutModel",
            "_view_count": null,
            "_view_module": "@jupyter-widgets/base",
            "_view_module_version": "1.2.0",
            "_view_name": "LayoutView",
            "align_content": null,
            "align_items": null,
            "align_self": null,
            "border": null,
            "bottom": null,
            "display": null,
            "flex": null,
            "flex_flow": null,
            "grid_area": null,
            "grid_auto_columns": null,
            "grid_auto_flow": null,
            "grid_auto_rows": null,
            "grid_column": null,
            "grid_gap": null,
            "grid_row": null,
            "grid_template_areas": null,
            "grid_template_columns": null,
            "grid_template_rows": null,
            "height": null,
            "justify_content": null,
            "justify_items": null,
            "left": null,
            "margin": null,
            "max_height": null,
            "max_width": null,
            "min_height": null,
            "min_width": null,
            "object_fit": null,
            "object_position": null,
            "order": null,
            "overflow": null,
            "overflow_x": null,
            "overflow_y": null,
            "padding": null,
            "right": null,
            "top": null,
            "visibility": null,
            "width": null
          }
        },
        "7a28148b41ea478a93b1d32b0065875f": {
          "model_module": "@jupyter-widgets/controls",
          "model_name": "DescriptionStyleModel",
          "model_module_version": "1.5.0",
          "state": {
            "_model_module": "@jupyter-widgets/controls",
            "_model_module_version": "1.5.0",
            "_model_name": "DescriptionStyleModel",
            "_view_count": null,
            "_view_module": "@jupyter-widgets/base",
            "_view_module_version": "1.2.0",
            "_view_name": "StyleView",
            "description_width": ""
          }
        },
        "e8d40cd024bd4a8d88a687720e75f4f3": {
          "model_module": "@jupyter-widgets/base",
          "model_name": "LayoutModel",
          "model_module_version": "1.2.0",
          "state": {
            "_model_module": "@jupyter-widgets/base",
            "_model_module_version": "1.2.0",
            "_model_name": "LayoutModel",
            "_view_count": null,
            "_view_module": "@jupyter-widgets/base",
            "_view_module_version": "1.2.0",
            "_view_name": "LayoutView",
            "align_content": null,
            "align_items": null,
            "align_self": null,
            "border": null,
            "bottom": null,
            "display": null,
            "flex": null,
            "flex_flow": null,
            "grid_area": null,
            "grid_auto_columns": null,
            "grid_auto_flow": null,
            "grid_auto_rows": null,
            "grid_column": null,
            "grid_gap": null,
            "grid_row": null,
            "grid_template_areas": null,
            "grid_template_columns": null,
            "grid_template_rows": null,
            "height": null,
            "justify_content": null,
            "justify_items": null,
            "left": null,
            "margin": null,
            "max_height": null,
            "max_width": null,
            "min_height": null,
            "min_width": null,
            "object_fit": null,
            "object_position": null,
            "order": null,
            "overflow": null,
            "overflow_x": null,
            "overflow_y": null,
            "padding": null,
            "right": null,
            "top": null,
            "visibility": null,
            "width": null
          }
        },
        "91a5e8154c534ea5957c182b64822d51": {
          "model_module": "@jupyter-widgets/controls",
          "model_name": "ProgressStyleModel",
          "model_module_version": "1.5.0",
          "state": {
            "_model_module": "@jupyter-widgets/controls",
            "_model_module_version": "1.5.0",
            "_model_name": "ProgressStyleModel",
            "_view_count": null,
            "_view_module": "@jupyter-widgets/base",
            "_view_module_version": "1.2.0",
            "_view_name": "StyleView",
            "bar_color": null,
            "description_width": ""
          }
        },
        "2235028126904cde9d26757d0f553cff": {
          "model_module": "@jupyter-widgets/base",
          "model_name": "LayoutModel",
          "model_module_version": "1.2.0",
          "state": {
            "_model_module": "@jupyter-widgets/base",
            "_model_module_version": "1.2.0",
            "_model_name": "LayoutModel",
            "_view_count": null,
            "_view_module": "@jupyter-widgets/base",
            "_view_module_version": "1.2.0",
            "_view_name": "LayoutView",
            "align_content": null,
            "align_items": null,
            "align_self": null,
            "border": null,
            "bottom": null,
            "display": null,
            "flex": null,
            "flex_flow": null,
            "grid_area": null,
            "grid_auto_columns": null,
            "grid_auto_flow": null,
            "grid_auto_rows": null,
            "grid_column": null,
            "grid_gap": null,
            "grid_row": null,
            "grid_template_areas": null,
            "grid_template_columns": null,
            "grid_template_rows": null,
            "height": null,
            "justify_content": null,
            "justify_items": null,
            "left": null,
            "margin": null,
            "max_height": null,
            "max_width": null,
            "min_height": null,
            "min_width": null,
            "object_fit": null,
            "object_position": null,
            "order": null,
            "overflow": null,
            "overflow_x": null,
            "overflow_y": null,
            "padding": null,
            "right": null,
            "top": null,
            "visibility": null,
            "width": null
          }
        },
        "0d55f35afdaa480685c7f3b4e8451627": {
          "model_module": "@jupyter-widgets/controls",
          "model_name": "DescriptionStyleModel",
          "model_module_version": "1.5.0",
          "state": {
            "_model_module": "@jupyter-widgets/controls",
            "_model_module_version": "1.5.0",
            "_model_name": "DescriptionStyleModel",
            "_view_count": null,
            "_view_module": "@jupyter-widgets/base",
            "_view_module_version": "1.2.0",
            "_view_name": "StyleView",
            "description_width": ""
          }
        },
        "66ff68a2ced043f1b8bf59b1ed802947": {
          "model_module": "@jupyter-widgets/controls",
          "model_name": "HBoxModel",
          "model_module_version": "1.5.0",
          "state": {
            "_dom_classes": [],
            "_model_module": "@jupyter-widgets/controls",
            "_model_module_version": "1.5.0",
            "_model_name": "HBoxModel",
            "_view_count": null,
            "_view_module": "@jupyter-widgets/controls",
            "_view_module_version": "1.5.0",
            "_view_name": "HBoxView",
            "box_style": "",
            "children": [
              "IPY_MODEL_12dbf7d3deca4708a764f3b130754218",
              "IPY_MODEL_671890d228d441cf9b9daa7945b90f21",
              "IPY_MODEL_ca87ec412c524980942b168be205cd59"
            ],
            "layout": "IPY_MODEL_9b1e80e980cb496782e02875bac36dbe"
          }
        },
        "12dbf7d3deca4708a764f3b130754218": {
          "model_module": "@jupyter-widgets/controls",
          "model_name": "HTMLModel",
          "model_module_version": "1.5.0",
          "state": {
            "_dom_classes": [],
            "_model_module": "@jupyter-widgets/controls",
            "_model_module_version": "1.5.0",
            "_model_name": "HTMLModel",
            "_view_count": null,
            "_view_module": "@jupyter-widgets/controls",
            "_view_module_version": "1.5.0",
            "_view_name": "HTMLView",
            "description": "",
            "description_tooltip": null,
            "layout": "IPY_MODEL_5dbf621c1d2d44cbb6d03edd27b45dba",
            "placeholder": "​",
            "style": "IPY_MODEL_fae65a8bf4a84d1f99e5faa2e47c428c",
            "value": "100%"
          }
        },
        "671890d228d441cf9b9daa7945b90f21": {
          "model_module": "@jupyter-widgets/controls",
          "model_name": "FloatProgressModel",
          "model_module_version": "1.5.0",
          "state": {
            "_dom_classes": [],
            "_model_module": "@jupyter-widgets/controls",
            "_model_module_version": "1.5.0",
            "_model_name": "FloatProgressModel",
            "_view_count": null,
            "_view_module": "@jupyter-widgets/controls",
            "_view_module_version": "1.5.0",
            "_view_name": "ProgressView",
            "bar_style": "success",
            "description": "",
            "description_tooltip": null,
            "layout": "IPY_MODEL_ad8cecdb49104ab89e65d26fc6046f23",
            "max": 469,
            "min": 0,
            "orientation": "horizontal",
            "style": "IPY_MODEL_bad704f30261470f95a29cd14b44f093",
            "value": 469
          }
        },
        "ca87ec412c524980942b168be205cd59": {
          "model_module": "@jupyter-widgets/controls",
          "model_name": "HTMLModel",
          "model_module_version": "1.5.0",
          "state": {
            "_dom_classes": [],
            "_model_module": "@jupyter-widgets/controls",
            "_model_module_version": "1.5.0",
            "_model_name": "HTMLModel",
            "_view_count": null,
            "_view_module": "@jupyter-widgets/controls",
            "_view_module_version": "1.5.0",
            "_view_name": "HTMLView",
            "description": "",
            "description_tooltip": null,
            "layout": "IPY_MODEL_b718aee59b9147f49c879b7ea9ac7ca5",
            "placeholder": "​",
            "style": "IPY_MODEL_67c44c7c7f104465a7270a665fb1d4a6",
            "value": " 469/469 [00:05&lt;00:00, 77.55it/s]"
          }
        },
        "9b1e80e980cb496782e02875bac36dbe": {
          "model_module": "@jupyter-widgets/base",
          "model_name": "LayoutModel",
          "model_module_version": "1.2.0",
          "state": {
            "_model_module": "@jupyter-widgets/base",
            "_model_module_version": "1.2.0",
            "_model_name": "LayoutModel",
            "_view_count": null,
            "_view_module": "@jupyter-widgets/base",
            "_view_module_version": "1.2.0",
            "_view_name": "LayoutView",
            "align_content": null,
            "align_items": null,
            "align_self": null,
            "border": null,
            "bottom": null,
            "display": null,
            "flex": null,
            "flex_flow": null,
            "grid_area": null,
            "grid_auto_columns": null,
            "grid_auto_flow": null,
            "grid_auto_rows": null,
            "grid_column": null,
            "grid_gap": null,
            "grid_row": null,
            "grid_template_areas": null,
            "grid_template_columns": null,
            "grid_template_rows": null,
            "height": null,
            "justify_content": null,
            "justify_items": null,
            "left": null,
            "margin": null,
            "max_height": null,
            "max_width": null,
            "min_height": null,
            "min_width": null,
            "object_fit": null,
            "object_position": null,
            "order": null,
            "overflow": null,
            "overflow_x": null,
            "overflow_y": null,
            "padding": null,
            "right": null,
            "top": null,
            "visibility": null,
            "width": null
          }
        },
        "5dbf621c1d2d44cbb6d03edd27b45dba": {
          "model_module": "@jupyter-widgets/base",
          "model_name": "LayoutModel",
          "model_module_version": "1.2.0",
          "state": {
            "_model_module": "@jupyter-widgets/base",
            "_model_module_version": "1.2.0",
            "_model_name": "LayoutModel",
            "_view_count": null,
            "_view_module": "@jupyter-widgets/base",
            "_view_module_version": "1.2.0",
            "_view_name": "LayoutView",
            "align_content": null,
            "align_items": null,
            "align_self": null,
            "border": null,
            "bottom": null,
            "display": null,
            "flex": null,
            "flex_flow": null,
            "grid_area": null,
            "grid_auto_columns": null,
            "grid_auto_flow": null,
            "grid_auto_rows": null,
            "grid_column": null,
            "grid_gap": null,
            "grid_row": null,
            "grid_template_areas": null,
            "grid_template_columns": null,
            "grid_template_rows": null,
            "height": null,
            "justify_content": null,
            "justify_items": null,
            "left": null,
            "margin": null,
            "max_height": null,
            "max_width": null,
            "min_height": null,
            "min_width": null,
            "object_fit": null,
            "object_position": null,
            "order": null,
            "overflow": null,
            "overflow_x": null,
            "overflow_y": null,
            "padding": null,
            "right": null,
            "top": null,
            "visibility": null,
            "width": null
          }
        },
        "fae65a8bf4a84d1f99e5faa2e47c428c": {
          "model_module": "@jupyter-widgets/controls",
          "model_name": "DescriptionStyleModel",
          "model_module_version": "1.5.0",
          "state": {
            "_model_module": "@jupyter-widgets/controls",
            "_model_module_version": "1.5.0",
            "_model_name": "DescriptionStyleModel",
            "_view_count": null,
            "_view_module": "@jupyter-widgets/base",
            "_view_module_version": "1.2.0",
            "_view_name": "StyleView",
            "description_width": ""
          }
        },
        "ad8cecdb49104ab89e65d26fc6046f23": {
          "model_module": "@jupyter-widgets/base",
          "model_name": "LayoutModel",
          "model_module_version": "1.2.0",
          "state": {
            "_model_module": "@jupyter-widgets/base",
            "_model_module_version": "1.2.0",
            "_model_name": "LayoutModel",
            "_view_count": null,
            "_view_module": "@jupyter-widgets/base",
            "_view_module_version": "1.2.0",
            "_view_name": "LayoutView",
            "align_content": null,
            "align_items": null,
            "align_self": null,
            "border": null,
            "bottom": null,
            "display": null,
            "flex": null,
            "flex_flow": null,
            "grid_area": null,
            "grid_auto_columns": null,
            "grid_auto_flow": null,
            "grid_auto_rows": null,
            "grid_column": null,
            "grid_gap": null,
            "grid_row": null,
            "grid_template_areas": null,
            "grid_template_columns": null,
            "grid_template_rows": null,
            "height": null,
            "justify_content": null,
            "justify_items": null,
            "left": null,
            "margin": null,
            "max_height": null,
            "max_width": null,
            "min_height": null,
            "min_width": null,
            "object_fit": null,
            "object_position": null,
            "order": null,
            "overflow": null,
            "overflow_x": null,
            "overflow_y": null,
            "padding": null,
            "right": null,
            "top": null,
            "visibility": null,
            "width": null
          }
        },
        "bad704f30261470f95a29cd14b44f093": {
          "model_module": "@jupyter-widgets/controls",
          "model_name": "ProgressStyleModel",
          "model_module_version": "1.5.0",
          "state": {
            "_model_module": "@jupyter-widgets/controls",
            "_model_module_version": "1.5.0",
            "_model_name": "ProgressStyleModel",
            "_view_count": null,
            "_view_module": "@jupyter-widgets/base",
            "_view_module_version": "1.2.0",
            "_view_name": "StyleView",
            "bar_color": null,
            "description_width": ""
          }
        },
        "b718aee59b9147f49c879b7ea9ac7ca5": {
          "model_module": "@jupyter-widgets/base",
          "model_name": "LayoutModel",
          "model_module_version": "1.2.0",
          "state": {
            "_model_module": "@jupyter-widgets/base",
            "_model_module_version": "1.2.0",
            "_model_name": "LayoutModel",
            "_view_count": null,
            "_view_module": "@jupyter-widgets/base",
            "_view_module_version": "1.2.0",
            "_view_name": "LayoutView",
            "align_content": null,
            "align_items": null,
            "align_self": null,
            "border": null,
            "bottom": null,
            "display": null,
            "flex": null,
            "flex_flow": null,
            "grid_area": null,
            "grid_auto_columns": null,
            "grid_auto_flow": null,
            "grid_auto_rows": null,
            "grid_column": null,
            "grid_gap": null,
            "grid_row": null,
            "grid_template_areas": null,
            "grid_template_columns": null,
            "grid_template_rows": null,
            "height": null,
            "justify_content": null,
            "justify_items": null,
            "left": null,
            "margin": null,
            "max_height": null,
            "max_width": null,
            "min_height": null,
            "min_width": null,
            "object_fit": null,
            "object_position": null,
            "order": null,
            "overflow": null,
            "overflow_x": null,
            "overflow_y": null,
            "padding": null,
            "right": null,
            "top": null,
            "visibility": null,
            "width": null
          }
        },
        "67c44c7c7f104465a7270a665fb1d4a6": {
          "model_module": "@jupyter-widgets/controls",
          "model_name": "DescriptionStyleModel",
          "model_module_version": "1.5.0",
          "state": {
            "_model_module": "@jupyter-widgets/controls",
            "_model_module_version": "1.5.0",
            "_model_name": "DescriptionStyleModel",
            "_view_count": null,
            "_view_module": "@jupyter-widgets/base",
            "_view_module_version": "1.2.0",
            "_view_name": "StyleView",
            "description_width": ""
          }
        },
        "57b6712daed74af78b6fee569313b909": {
          "model_module": "@jupyter-widgets/controls",
          "model_name": "HBoxModel",
          "model_module_version": "1.5.0",
          "state": {
            "_dom_classes": [],
            "_model_module": "@jupyter-widgets/controls",
            "_model_module_version": "1.5.0",
            "_model_name": "HBoxModel",
            "_view_count": null,
            "_view_module": "@jupyter-widgets/controls",
            "_view_module_version": "1.5.0",
            "_view_name": "HBoxView",
            "box_style": "",
            "children": [
              "IPY_MODEL_ddfe50a8ba414aa3b13f20ae47c7c931",
              "IPY_MODEL_fc897e09d48f4298be7d8b2ed267e6cc",
              "IPY_MODEL_411ed232318a43058cb5e23a59809b6d"
            ],
            "layout": "IPY_MODEL_b3d7dea3bf2a413a99b6ea3d5f2355a5"
          }
        },
        "ddfe50a8ba414aa3b13f20ae47c7c931": {
          "model_module": "@jupyter-widgets/controls",
          "model_name": "HTMLModel",
          "model_module_version": "1.5.0",
          "state": {
            "_dom_classes": [],
            "_model_module": "@jupyter-widgets/controls",
            "_model_module_version": "1.5.0",
            "_model_name": "HTMLModel",
            "_view_count": null,
            "_view_module": "@jupyter-widgets/controls",
            "_view_module_version": "1.5.0",
            "_view_name": "HTMLView",
            "description": "",
            "description_tooltip": null,
            "layout": "IPY_MODEL_97b0f3af990d4cca958a813bd18b09b5",
            "placeholder": "​",
            "style": "IPY_MODEL_79f241179ed0429fb49fd8bbe17ccee5",
            "value": "100%"
          }
        },
        "fc897e09d48f4298be7d8b2ed267e6cc": {
          "model_module": "@jupyter-widgets/controls",
          "model_name": "FloatProgressModel",
          "model_module_version": "1.5.0",
          "state": {
            "_dom_classes": [],
            "_model_module": "@jupyter-widgets/controls",
            "_model_module_version": "1.5.0",
            "_model_name": "FloatProgressModel",
            "_view_count": null,
            "_view_module": "@jupyter-widgets/controls",
            "_view_module_version": "1.5.0",
            "_view_name": "ProgressView",
            "bar_style": "success",
            "description": "",
            "description_tooltip": null,
            "layout": "IPY_MODEL_8cd31461f4d44aa394e18f40365dedc6",
            "max": 79,
            "min": 0,
            "orientation": "horizontal",
            "style": "IPY_MODEL_71b33bd75b7f42ce958949a4665f9065",
            "value": 79
          }
        },
        "411ed232318a43058cb5e23a59809b6d": {
          "model_module": "@jupyter-widgets/controls",
          "model_name": "HTMLModel",
          "model_module_version": "1.5.0",
          "state": {
            "_dom_classes": [],
            "_model_module": "@jupyter-widgets/controls",
            "_model_module_version": "1.5.0",
            "_model_name": "HTMLModel",
            "_view_count": null,
            "_view_module": "@jupyter-widgets/controls",
            "_view_module_version": "1.5.0",
            "_view_name": "HTMLView",
            "description": "",
            "description_tooltip": null,
            "layout": "IPY_MODEL_8a0e57bfba114cf1981894c6318425b5",
            "placeholder": "​",
            "style": "IPY_MODEL_ab5d8febb3144412ab597624f84d7c64",
            "value": " 79/79 [00:01&lt;00:00, 44.19it/s]"
          }
        },
        "b3d7dea3bf2a413a99b6ea3d5f2355a5": {
          "model_module": "@jupyter-widgets/base",
          "model_name": "LayoutModel",
          "model_module_version": "1.2.0",
          "state": {
            "_model_module": "@jupyter-widgets/base",
            "_model_module_version": "1.2.0",
            "_model_name": "LayoutModel",
            "_view_count": null,
            "_view_module": "@jupyter-widgets/base",
            "_view_module_version": "1.2.0",
            "_view_name": "LayoutView",
            "align_content": null,
            "align_items": null,
            "align_self": null,
            "border": null,
            "bottom": null,
            "display": null,
            "flex": null,
            "flex_flow": null,
            "grid_area": null,
            "grid_auto_columns": null,
            "grid_auto_flow": null,
            "grid_auto_rows": null,
            "grid_column": null,
            "grid_gap": null,
            "grid_row": null,
            "grid_template_areas": null,
            "grid_template_columns": null,
            "grid_template_rows": null,
            "height": null,
            "justify_content": null,
            "justify_items": null,
            "left": null,
            "margin": null,
            "max_height": null,
            "max_width": null,
            "min_height": null,
            "min_width": null,
            "object_fit": null,
            "object_position": null,
            "order": null,
            "overflow": null,
            "overflow_x": null,
            "overflow_y": null,
            "padding": null,
            "right": null,
            "top": null,
            "visibility": null,
            "width": null
          }
        },
        "97b0f3af990d4cca958a813bd18b09b5": {
          "model_module": "@jupyter-widgets/base",
          "model_name": "LayoutModel",
          "model_module_version": "1.2.0",
          "state": {
            "_model_module": "@jupyter-widgets/base",
            "_model_module_version": "1.2.0",
            "_model_name": "LayoutModel",
            "_view_count": null,
            "_view_module": "@jupyter-widgets/base",
            "_view_module_version": "1.2.0",
            "_view_name": "LayoutView",
            "align_content": null,
            "align_items": null,
            "align_self": null,
            "border": null,
            "bottom": null,
            "display": null,
            "flex": null,
            "flex_flow": null,
            "grid_area": null,
            "grid_auto_columns": null,
            "grid_auto_flow": null,
            "grid_auto_rows": null,
            "grid_column": null,
            "grid_gap": null,
            "grid_row": null,
            "grid_template_areas": null,
            "grid_template_columns": null,
            "grid_template_rows": null,
            "height": null,
            "justify_content": null,
            "justify_items": null,
            "left": null,
            "margin": null,
            "max_height": null,
            "max_width": null,
            "min_height": null,
            "min_width": null,
            "object_fit": null,
            "object_position": null,
            "order": null,
            "overflow": null,
            "overflow_x": null,
            "overflow_y": null,
            "padding": null,
            "right": null,
            "top": null,
            "visibility": null,
            "width": null
          }
        },
        "79f241179ed0429fb49fd8bbe17ccee5": {
          "model_module": "@jupyter-widgets/controls",
          "model_name": "DescriptionStyleModel",
          "model_module_version": "1.5.0",
          "state": {
            "_model_module": "@jupyter-widgets/controls",
            "_model_module_version": "1.5.0",
            "_model_name": "DescriptionStyleModel",
            "_view_count": null,
            "_view_module": "@jupyter-widgets/base",
            "_view_module_version": "1.2.0",
            "_view_name": "StyleView",
            "description_width": ""
          }
        },
        "8cd31461f4d44aa394e18f40365dedc6": {
          "model_module": "@jupyter-widgets/base",
          "model_name": "LayoutModel",
          "model_module_version": "1.2.0",
          "state": {
            "_model_module": "@jupyter-widgets/base",
            "_model_module_version": "1.2.0",
            "_model_name": "LayoutModel",
            "_view_count": null,
            "_view_module": "@jupyter-widgets/base",
            "_view_module_version": "1.2.0",
            "_view_name": "LayoutView",
            "align_content": null,
            "align_items": null,
            "align_self": null,
            "border": null,
            "bottom": null,
            "display": null,
            "flex": null,
            "flex_flow": null,
            "grid_area": null,
            "grid_auto_columns": null,
            "grid_auto_flow": null,
            "grid_auto_rows": null,
            "grid_column": null,
            "grid_gap": null,
            "grid_row": null,
            "grid_template_areas": null,
            "grid_template_columns": null,
            "grid_template_rows": null,
            "height": null,
            "justify_content": null,
            "justify_items": null,
            "left": null,
            "margin": null,
            "max_height": null,
            "max_width": null,
            "min_height": null,
            "min_width": null,
            "object_fit": null,
            "object_position": null,
            "order": null,
            "overflow": null,
            "overflow_x": null,
            "overflow_y": null,
            "padding": null,
            "right": null,
            "top": null,
            "visibility": null,
            "width": null
          }
        },
        "71b33bd75b7f42ce958949a4665f9065": {
          "model_module": "@jupyter-widgets/controls",
          "model_name": "ProgressStyleModel",
          "model_module_version": "1.5.0",
          "state": {
            "_model_module": "@jupyter-widgets/controls",
            "_model_module_version": "1.5.0",
            "_model_name": "ProgressStyleModel",
            "_view_count": null,
            "_view_module": "@jupyter-widgets/base",
            "_view_module_version": "1.2.0",
            "_view_name": "StyleView",
            "bar_color": null,
            "description_width": ""
          }
        },
        "8a0e57bfba114cf1981894c6318425b5": {
          "model_module": "@jupyter-widgets/base",
          "model_name": "LayoutModel",
          "model_module_version": "1.2.0",
          "state": {
            "_model_module": "@jupyter-widgets/base",
            "_model_module_version": "1.2.0",
            "_model_name": "LayoutModel",
            "_view_count": null,
            "_view_module": "@jupyter-widgets/base",
            "_view_module_version": "1.2.0",
            "_view_name": "LayoutView",
            "align_content": null,
            "align_items": null,
            "align_self": null,
            "border": null,
            "bottom": null,
            "display": null,
            "flex": null,
            "flex_flow": null,
            "grid_area": null,
            "grid_auto_columns": null,
            "grid_auto_flow": null,
            "grid_auto_rows": null,
            "grid_column": null,
            "grid_gap": null,
            "grid_row": null,
            "grid_template_areas": null,
            "grid_template_columns": null,
            "grid_template_rows": null,
            "height": null,
            "justify_content": null,
            "justify_items": null,
            "left": null,
            "margin": null,
            "max_height": null,
            "max_width": null,
            "min_height": null,
            "min_width": null,
            "object_fit": null,
            "object_position": null,
            "order": null,
            "overflow": null,
            "overflow_x": null,
            "overflow_y": null,
            "padding": null,
            "right": null,
            "top": null,
            "visibility": null,
            "width": null
          }
        },
        "ab5d8febb3144412ab597624f84d7c64": {
          "model_module": "@jupyter-widgets/controls",
          "model_name": "DescriptionStyleModel",
          "model_module_version": "1.5.0",
          "state": {
            "_model_module": "@jupyter-widgets/controls",
            "_model_module_version": "1.5.0",
            "_model_name": "DescriptionStyleModel",
            "_view_count": null,
            "_view_module": "@jupyter-widgets/base",
            "_view_module_version": "1.2.0",
            "_view_name": "StyleView",
            "description_width": ""
          }
        },
        "4b2c1a99f54646bd853e44ee2bfd3258": {
          "model_module": "@jupyter-widgets/controls",
          "model_name": "HBoxModel",
          "model_module_version": "1.5.0",
          "state": {
            "_dom_classes": [],
            "_model_module": "@jupyter-widgets/controls",
            "_model_module_version": "1.5.0",
            "_model_name": "HBoxModel",
            "_view_count": null,
            "_view_module": "@jupyter-widgets/controls",
            "_view_module_version": "1.5.0",
            "_view_name": "HBoxView",
            "box_style": "",
            "children": [
              "IPY_MODEL_9a4cf21c6db045949bf6d6a1e5ca265f",
              "IPY_MODEL_d7413bb66efb463699980c893a38cf0b",
              "IPY_MODEL_fd86c5323e2a4989bc438f3e9fec4f60"
            ],
            "layout": "IPY_MODEL_66f9cdf543784af098efde2feec8e13d"
          }
        },
        "9a4cf21c6db045949bf6d6a1e5ca265f": {
          "model_module": "@jupyter-widgets/controls",
          "model_name": "HTMLModel",
          "model_module_version": "1.5.0",
          "state": {
            "_dom_classes": [],
            "_model_module": "@jupyter-widgets/controls",
            "_model_module_version": "1.5.0",
            "_model_name": "HTMLModel",
            "_view_count": null,
            "_view_module": "@jupyter-widgets/controls",
            "_view_module_version": "1.5.0",
            "_view_name": "HTMLView",
            "description": "",
            "description_tooltip": null,
            "layout": "IPY_MODEL_cd482de6f1ab4c29b40abaa113312417",
            "placeholder": "​",
            "style": "IPY_MODEL_77be4bc69fcf4da8a8c54b304ac8bcca",
            "value": "100%"
          }
        },
        "d7413bb66efb463699980c893a38cf0b": {
          "model_module": "@jupyter-widgets/controls",
          "model_name": "FloatProgressModel",
          "model_module_version": "1.5.0",
          "state": {
            "_dom_classes": [],
            "_model_module": "@jupyter-widgets/controls",
            "_model_module_version": "1.5.0",
            "_model_name": "FloatProgressModel",
            "_view_count": null,
            "_view_module": "@jupyter-widgets/controls",
            "_view_module_version": "1.5.0",
            "_view_name": "ProgressView",
            "bar_style": "success",
            "description": "",
            "description_tooltip": null,
            "layout": "IPY_MODEL_db27870f736a40d4a3c403919a3a3f70",
            "max": 469,
            "min": 0,
            "orientation": "horizontal",
            "style": "IPY_MODEL_3734165ee5954ecc886cba5a6f5db027",
            "value": 469
          }
        },
        "fd86c5323e2a4989bc438f3e9fec4f60": {
          "model_module": "@jupyter-widgets/controls",
          "model_name": "HTMLModel",
          "model_module_version": "1.5.0",
          "state": {
            "_dom_classes": [],
            "_model_module": "@jupyter-widgets/controls",
            "_model_module_version": "1.5.0",
            "_model_name": "HTMLModel",
            "_view_count": null,
            "_view_module": "@jupyter-widgets/controls",
            "_view_module_version": "1.5.0",
            "_view_name": "HTMLView",
            "description": "",
            "description_tooltip": null,
            "layout": "IPY_MODEL_78c07ab423e74e2a96a073874fd0feec",
            "placeholder": "​",
            "style": "IPY_MODEL_f0d30c4a29ea4d979971a91e2ebdbd5f",
            "value": " 469/469 [00:09&lt;00:00, 97.36it/s]"
          }
        },
        "66f9cdf543784af098efde2feec8e13d": {
          "model_module": "@jupyter-widgets/base",
          "model_name": "LayoutModel",
          "model_module_version": "1.2.0",
          "state": {
            "_model_module": "@jupyter-widgets/base",
            "_model_module_version": "1.2.0",
            "_model_name": "LayoutModel",
            "_view_count": null,
            "_view_module": "@jupyter-widgets/base",
            "_view_module_version": "1.2.0",
            "_view_name": "LayoutView",
            "align_content": null,
            "align_items": null,
            "align_self": null,
            "border": null,
            "bottom": null,
            "display": null,
            "flex": null,
            "flex_flow": null,
            "grid_area": null,
            "grid_auto_columns": null,
            "grid_auto_flow": null,
            "grid_auto_rows": null,
            "grid_column": null,
            "grid_gap": null,
            "grid_row": null,
            "grid_template_areas": null,
            "grid_template_columns": null,
            "grid_template_rows": null,
            "height": null,
            "justify_content": null,
            "justify_items": null,
            "left": null,
            "margin": null,
            "max_height": null,
            "max_width": null,
            "min_height": null,
            "min_width": null,
            "object_fit": null,
            "object_position": null,
            "order": null,
            "overflow": null,
            "overflow_x": null,
            "overflow_y": null,
            "padding": null,
            "right": null,
            "top": null,
            "visibility": null,
            "width": null
          }
        },
        "cd482de6f1ab4c29b40abaa113312417": {
          "model_module": "@jupyter-widgets/base",
          "model_name": "LayoutModel",
          "model_module_version": "1.2.0",
          "state": {
            "_model_module": "@jupyter-widgets/base",
            "_model_module_version": "1.2.0",
            "_model_name": "LayoutModel",
            "_view_count": null,
            "_view_module": "@jupyter-widgets/base",
            "_view_module_version": "1.2.0",
            "_view_name": "LayoutView",
            "align_content": null,
            "align_items": null,
            "align_self": null,
            "border": null,
            "bottom": null,
            "display": null,
            "flex": null,
            "flex_flow": null,
            "grid_area": null,
            "grid_auto_columns": null,
            "grid_auto_flow": null,
            "grid_auto_rows": null,
            "grid_column": null,
            "grid_gap": null,
            "grid_row": null,
            "grid_template_areas": null,
            "grid_template_columns": null,
            "grid_template_rows": null,
            "height": null,
            "justify_content": null,
            "justify_items": null,
            "left": null,
            "margin": null,
            "max_height": null,
            "max_width": null,
            "min_height": null,
            "min_width": null,
            "object_fit": null,
            "object_position": null,
            "order": null,
            "overflow": null,
            "overflow_x": null,
            "overflow_y": null,
            "padding": null,
            "right": null,
            "top": null,
            "visibility": null,
            "width": null
          }
        },
        "77be4bc69fcf4da8a8c54b304ac8bcca": {
          "model_module": "@jupyter-widgets/controls",
          "model_name": "DescriptionStyleModel",
          "model_module_version": "1.5.0",
          "state": {
            "_model_module": "@jupyter-widgets/controls",
            "_model_module_version": "1.5.0",
            "_model_name": "DescriptionStyleModel",
            "_view_count": null,
            "_view_module": "@jupyter-widgets/base",
            "_view_module_version": "1.2.0",
            "_view_name": "StyleView",
            "description_width": ""
          }
        },
        "db27870f736a40d4a3c403919a3a3f70": {
          "model_module": "@jupyter-widgets/base",
          "model_name": "LayoutModel",
          "model_module_version": "1.2.0",
          "state": {
            "_model_module": "@jupyter-widgets/base",
            "_model_module_version": "1.2.0",
            "_model_name": "LayoutModel",
            "_view_count": null,
            "_view_module": "@jupyter-widgets/base",
            "_view_module_version": "1.2.0",
            "_view_name": "LayoutView",
            "align_content": null,
            "align_items": null,
            "align_self": null,
            "border": null,
            "bottom": null,
            "display": null,
            "flex": null,
            "flex_flow": null,
            "grid_area": null,
            "grid_auto_columns": null,
            "grid_auto_flow": null,
            "grid_auto_rows": null,
            "grid_column": null,
            "grid_gap": null,
            "grid_row": null,
            "grid_template_areas": null,
            "grid_template_columns": null,
            "grid_template_rows": null,
            "height": null,
            "justify_content": null,
            "justify_items": null,
            "left": null,
            "margin": null,
            "max_height": null,
            "max_width": null,
            "min_height": null,
            "min_width": null,
            "object_fit": null,
            "object_position": null,
            "order": null,
            "overflow": null,
            "overflow_x": null,
            "overflow_y": null,
            "padding": null,
            "right": null,
            "top": null,
            "visibility": null,
            "width": null
          }
        },
        "3734165ee5954ecc886cba5a6f5db027": {
          "model_module": "@jupyter-widgets/controls",
          "model_name": "ProgressStyleModel",
          "model_module_version": "1.5.0",
          "state": {
            "_model_module": "@jupyter-widgets/controls",
            "_model_module_version": "1.5.0",
            "_model_name": "ProgressStyleModel",
            "_view_count": null,
            "_view_module": "@jupyter-widgets/base",
            "_view_module_version": "1.2.0",
            "_view_name": "StyleView",
            "bar_color": null,
            "description_width": ""
          }
        },
        "78c07ab423e74e2a96a073874fd0feec": {
          "model_module": "@jupyter-widgets/base",
          "model_name": "LayoutModel",
          "model_module_version": "1.2.0",
          "state": {
            "_model_module": "@jupyter-widgets/base",
            "_model_module_version": "1.2.0",
            "_model_name": "LayoutModel",
            "_view_count": null,
            "_view_module": "@jupyter-widgets/base",
            "_view_module_version": "1.2.0",
            "_view_name": "LayoutView",
            "align_content": null,
            "align_items": null,
            "align_self": null,
            "border": null,
            "bottom": null,
            "display": null,
            "flex": null,
            "flex_flow": null,
            "grid_area": null,
            "grid_auto_columns": null,
            "grid_auto_flow": null,
            "grid_auto_rows": null,
            "grid_column": null,
            "grid_gap": null,
            "grid_row": null,
            "grid_template_areas": null,
            "grid_template_columns": null,
            "grid_template_rows": null,
            "height": null,
            "justify_content": null,
            "justify_items": null,
            "left": null,
            "margin": null,
            "max_height": null,
            "max_width": null,
            "min_height": null,
            "min_width": null,
            "object_fit": null,
            "object_position": null,
            "order": null,
            "overflow": null,
            "overflow_x": null,
            "overflow_y": null,
            "padding": null,
            "right": null,
            "top": null,
            "visibility": null,
            "width": null
          }
        },
        "f0d30c4a29ea4d979971a91e2ebdbd5f": {
          "model_module": "@jupyter-widgets/controls",
          "model_name": "DescriptionStyleModel",
          "model_module_version": "1.5.0",
          "state": {
            "_model_module": "@jupyter-widgets/controls",
            "_model_module_version": "1.5.0",
            "_model_name": "DescriptionStyleModel",
            "_view_count": null,
            "_view_module": "@jupyter-widgets/base",
            "_view_module_version": "1.2.0",
            "_view_name": "StyleView",
            "description_width": ""
          }
        },
        "14f4b501ee484ed3a7c23db536d6b95a": {
          "model_module": "@jupyter-widgets/controls",
          "model_name": "HBoxModel",
          "model_module_version": "1.5.0",
          "state": {
            "_dom_classes": [],
            "_model_module": "@jupyter-widgets/controls",
            "_model_module_version": "1.5.0",
            "_model_name": "HBoxModel",
            "_view_count": null,
            "_view_module": "@jupyter-widgets/controls",
            "_view_module_version": "1.5.0",
            "_view_name": "HBoxView",
            "box_style": "",
            "children": [
              "IPY_MODEL_aa325b56a4a8480b9e58f8cb56fc7f8d",
              "IPY_MODEL_0e958d1fa6304e8ea467a3fec425d204",
              "IPY_MODEL_e6c4a3e84e4f49b3b6993bc216f293bf"
            ],
            "layout": "IPY_MODEL_bc0f67e0efdb4150accc3f52a24252cc"
          }
        },
        "aa325b56a4a8480b9e58f8cb56fc7f8d": {
          "model_module": "@jupyter-widgets/controls",
          "model_name": "HTMLModel",
          "model_module_version": "1.5.0",
          "state": {
            "_dom_classes": [],
            "_model_module": "@jupyter-widgets/controls",
            "_model_module_version": "1.5.0",
            "_model_name": "HTMLModel",
            "_view_count": null,
            "_view_module": "@jupyter-widgets/controls",
            "_view_module_version": "1.5.0",
            "_view_name": "HTMLView",
            "description": "",
            "description_tooltip": null,
            "layout": "IPY_MODEL_5ede0c9a9ec949a3b3b4bb3728895ff0",
            "placeholder": "​",
            "style": "IPY_MODEL_c1d0825f489147559ea021c508b17bae",
            "value": "100%"
          }
        },
        "0e958d1fa6304e8ea467a3fec425d204": {
          "model_module": "@jupyter-widgets/controls",
          "model_name": "FloatProgressModel",
          "model_module_version": "1.5.0",
          "state": {
            "_dom_classes": [],
            "_model_module": "@jupyter-widgets/controls",
            "_model_module_version": "1.5.0",
            "_model_name": "FloatProgressModel",
            "_view_count": null,
            "_view_module": "@jupyter-widgets/controls",
            "_view_module_version": "1.5.0",
            "_view_name": "ProgressView",
            "bar_style": "success",
            "description": "",
            "description_tooltip": null,
            "layout": "IPY_MODEL_b5127d701ca2490d95a0e76501e85597",
            "max": 79,
            "min": 0,
            "orientation": "horizontal",
            "style": "IPY_MODEL_15ba0c0a325d492d9b8acc1acf9e4f6c",
            "value": 79
          }
        },
        "e6c4a3e84e4f49b3b6993bc216f293bf": {
          "model_module": "@jupyter-widgets/controls",
          "model_name": "HTMLModel",
          "model_module_version": "1.5.0",
          "state": {
            "_dom_classes": [],
            "_model_module": "@jupyter-widgets/controls",
            "_model_module_version": "1.5.0",
            "_model_name": "HTMLModel",
            "_view_count": null,
            "_view_module": "@jupyter-widgets/controls",
            "_view_module_version": "1.5.0",
            "_view_name": "HTMLView",
            "description": "",
            "description_tooltip": null,
            "layout": "IPY_MODEL_45b8b77d74754875b8a7edd83aa7531b",
            "placeholder": "​",
            "style": "IPY_MODEL_cdbce784dac24775bbefbfd27b10d054",
            "value": " 79/79 [00:00&lt;00:00, 102.10it/s]"
          }
        },
        "bc0f67e0efdb4150accc3f52a24252cc": {
          "model_module": "@jupyter-widgets/base",
          "model_name": "LayoutModel",
          "model_module_version": "1.2.0",
          "state": {
            "_model_module": "@jupyter-widgets/base",
            "_model_module_version": "1.2.0",
            "_model_name": "LayoutModel",
            "_view_count": null,
            "_view_module": "@jupyter-widgets/base",
            "_view_module_version": "1.2.0",
            "_view_name": "LayoutView",
            "align_content": null,
            "align_items": null,
            "align_self": null,
            "border": null,
            "bottom": null,
            "display": null,
            "flex": null,
            "flex_flow": null,
            "grid_area": null,
            "grid_auto_columns": null,
            "grid_auto_flow": null,
            "grid_auto_rows": null,
            "grid_column": null,
            "grid_gap": null,
            "grid_row": null,
            "grid_template_areas": null,
            "grid_template_columns": null,
            "grid_template_rows": null,
            "height": null,
            "justify_content": null,
            "justify_items": null,
            "left": null,
            "margin": null,
            "max_height": null,
            "max_width": null,
            "min_height": null,
            "min_width": null,
            "object_fit": null,
            "object_position": null,
            "order": null,
            "overflow": null,
            "overflow_x": null,
            "overflow_y": null,
            "padding": null,
            "right": null,
            "top": null,
            "visibility": null,
            "width": null
          }
        },
        "5ede0c9a9ec949a3b3b4bb3728895ff0": {
          "model_module": "@jupyter-widgets/base",
          "model_name": "LayoutModel",
          "model_module_version": "1.2.0",
          "state": {
            "_model_module": "@jupyter-widgets/base",
            "_model_module_version": "1.2.0",
            "_model_name": "LayoutModel",
            "_view_count": null,
            "_view_module": "@jupyter-widgets/base",
            "_view_module_version": "1.2.0",
            "_view_name": "LayoutView",
            "align_content": null,
            "align_items": null,
            "align_self": null,
            "border": null,
            "bottom": null,
            "display": null,
            "flex": null,
            "flex_flow": null,
            "grid_area": null,
            "grid_auto_columns": null,
            "grid_auto_flow": null,
            "grid_auto_rows": null,
            "grid_column": null,
            "grid_gap": null,
            "grid_row": null,
            "grid_template_areas": null,
            "grid_template_columns": null,
            "grid_template_rows": null,
            "height": null,
            "justify_content": null,
            "justify_items": null,
            "left": null,
            "margin": null,
            "max_height": null,
            "max_width": null,
            "min_height": null,
            "min_width": null,
            "object_fit": null,
            "object_position": null,
            "order": null,
            "overflow": null,
            "overflow_x": null,
            "overflow_y": null,
            "padding": null,
            "right": null,
            "top": null,
            "visibility": null,
            "width": null
          }
        },
        "c1d0825f489147559ea021c508b17bae": {
          "model_module": "@jupyter-widgets/controls",
          "model_name": "DescriptionStyleModel",
          "model_module_version": "1.5.0",
          "state": {
            "_model_module": "@jupyter-widgets/controls",
            "_model_module_version": "1.5.0",
            "_model_name": "DescriptionStyleModel",
            "_view_count": null,
            "_view_module": "@jupyter-widgets/base",
            "_view_module_version": "1.2.0",
            "_view_name": "StyleView",
            "description_width": ""
          }
        },
        "b5127d701ca2490d95a0e76501e85597": {
          "model_module": "@jupyter-widgets/base",
          "model_name": "LayoutModel",
          "model_module_version": "1.2.0",
          "state": {
            "_model_module": "@jupyter-widgets/base",
            "_model_module_version": "1.2.0",
            "_model_name": "LayoutModel",
            "_view_count": null,
            "_view_module": "@jupyter-widgets/base",
            "_view_module_version": "1.2.0",
            "_view_name": "LayoutView",
            "align_content": null,
            "align_items": null,
            "align_self": null,
            "border": null,
            "bottom": null,
            "display": null,
            "flex": null,
            "flex_flow": null,
            "grid_area": null,
            "grid_auto_columns": null,
            "grid_auto_flow": null,
            "grid_auto_rows": null,
            "grid_column": null,
            "grid_gap": null,
            "grid_row": null,
            "grid_template_areas": null,
            "grid_template_columns": null,
            "grid_template_rows": null,
            "height": null,
            "justify_content": null,
            "justify_items": null,
            "left": null,
            "margin": null,
            "max_height": null,
            "max_width": null,
            "min_height": null,
            "min_width": null,
            "object_fit": null,
            "object_position": null,
            "order": null,
            "overflow": null,
            "overflow_x": null,
            "overflow_y": null,
            "padding": null,
            "right": null,
            "top": null,
            "visibility": null,
            "width": null
          }
        },
        "15ba0c0a325d492d9b8acc1acf9e4f6c": {
          "model_module": "@jupyter-widgets/controls",
          "model_name": "ProgressStyleModel",
          "model_module_version": "1.5.0",
          "state": {
            "_model_module": "@jupyter-widgets/controls",
            "_model_module_version": "1.5.0",
            "_model_name": "ProgressStyleModel",
            "_view_count": null,
            "_view_module": "@jupyter-widgets/base",
            "_view_module_version": "1.2.0",
            "_view_name": "StyleView",
            "bar_color": null,
            "description_width": ""
          }
        },
        "45b8b77d74754875b8a7edd83aa7531b": {
          "model_module": "@jupyter-widgets/base",
          "model_name": "LayoutModel",
          "model_module_version": "1.2.0",
          "state": {
            "_model_module": "@jupyter-widgets/base",
            "_model_module_version": "1.2.0",
            "_model_name": "LayoutModel",
            "_view_count": null,
            "_view_module": "@jupyter-widgets/base",
            "_view_module_version": "1.2.0",
            "_view_name": "LayoutView",
            "align_content": null,
            "align_items": null,
            "align_self": null,
            "border": null,
            "bottom": null,
            "display": null,
            "flex": null,
            "flex_flow": null,
            "grid_area": null,
            "grid_auto_columns": null,
            "grid_auto_flow": null,
            "grid_auto_rows": null,
            "grid_column": null,
            "grid_gap": null,
            "grid_row": null,
            "grid_template_areas": null,
            "grid_template_columns": null,
            "grid_template_rows": null,
            "height": null,
            "justify_content": null,
            "justify_items": null,
            "left": null,
            "margin": null,
            "max_height": null,
            "max_width": null,
            "min_height": null,
            "min_width": null,
            "object_fit": null,
            "object_position": null,
            "order": null,
            "overflow": null,
            "overflow_x": null,
            "overflow_y": null,
            "padding": null,
            "right": null,
            "top": null,
            "visibility": null,
            "width": null
          }
        },
        "cdbce784dac24775bbefbfd27b10d054": {
          "model_module": "@jupyter-widgets/controls",
          "model_name": "DescriptionStyleModel",
          "model_module_version": "1.5.0",
          "state": {
            "_model_module": "@jupyter-widgets/controls",
            "_model_module_version": "1.5.0",
            "_model_name": "DescriptionStyleModel",
            "_view_count": null,
            "_view_module": "@jupyter-widgets/base",
            "_view_module_version": "1.2.0",
            "_view_name": "StyleView",
            "description_width": ""
          }
        }
      }
    }
  },
  "nbformat": 4,
  "nbformat_minor": 0
}