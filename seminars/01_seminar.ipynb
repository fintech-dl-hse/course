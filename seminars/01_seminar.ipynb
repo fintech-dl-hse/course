{
  "cells": [
    {
      "cell_type": "markdown",
      "metadata": {
        "id": "OFVfRBHfX5Nv"
      },
      "source": [
        "# From math to engine\n",
        "\n",
        "<a href=\"https://colab.research.google.com/github/m12sl/dl-hse-2021/blob/master/01-introduction/seminar.ipynb\" target=\"_parent\">\n",
        "  <img src=\"https://colab.research.google.com/assets/colab-badge.svg\" alt=\"Open In Colab\"/>\n",
        "</a>\n",
        "\n",
        "Based on [karpathy's micrograd](https://github.com/karpathy/micrograd)\n",
        "\n",
        "Нейронная сеть -- это просто формула с большим количеством параметров, собранная из очень простых примитивов.\n",
        "Давайте пройдем путь от идеи до реализации в коде, используя возможности современных языков программирования.\n",
        "\n",
        "## Proof of concept\n",
        "\n",
        "\n",
        "Идея: давайте писать код вычислений, по нему строить вычислительный граф, градиенты считать по графу.\n",
        "\n",
        "Формат представления графа под капотом не важен, давайте определимся с интерфейсами.\n",
        "\n",
        "Варианты:\n",
        "\n",
        "1. Явно создавать граф вычислений (tensorflow 1.x):\n",
        "\n",
        "    ```\n",
        "    x, y, z = placeholder(), placeholder(), placeholder()\n",
        "    f = (x+y)*z\n",
        "    grad_x, grad_y, grad_z = gradients(f, [x, y, z])\n",
        "\n",
        "    print(f) # <operation: mul>\n",
        "    print(grad_x) # <operation: mul>\n",
        "\n",
        "    out, fx = graph.run([f, grad_x], {x: 1, y: 2, z: -3}) \n",
        "    print(out, fx) # -9, -3\n",
        "    ```\n",
        "\n",
        "2. Упражняться в ООП и писать код (pytorch/tensorflow 2.x):\n",
        "\n",
        "    ```\n",
        "    x, y, z = Variable(1), Variable(2), Variable(-3)\n",
        "    f = (x + y) * z\n",
        "    print(f) # -9\n",
        "    f.backward()\n",
        "    print(x.grad) # -3\n",
        "    ```\n",
        "\n",
        "Пойдем по второму пути."
      ]
    },
    {
      "cell_type": "code",
      "execution_count": null,
      "metadata": {
        "id": "SER5uaCUX5Ny"
      },
      "outputs": [],
      "source": [
        "%matplotlib inline\n",
        "\n",
        "import matplotlib.pyplot as plt\n",
        "import numpy as np\n",
        "import random"
      ]
    },
    {
      "cell_type": "code",
      "execution_count": null,
      "metadata": {
        "id": "RmCYy4otX5N2",
        "outputId": "642ecff1-d447-4c11-b2cc-4b5e2290ed00",
        "colab": {
          "base_uri": "https://localhost:8080/"
        }
      },
      "outputs": [
        {
          "output_type": "stream",
          "name": "stdout",
          "text": [
            "[0, 0, 0, 0]\n",
            "[4.0, 1.0, 1.0, 1]\n"
          ]
        }
      ],
      "source": [
        "class Value:\n",
        "    \"\"\" stores a single scalar value and its gradient \"\"\"\n",
        "\n",
        "    def __init__(self, data, inputs=(), name=''):\n",
        "        self.data = data\n",
        "        self.grad = 0\n",
        "        # internal variables used for autograd graph construction\n",
        "        self._backward = lambda: None\n",
        "        self.inputs = set(inputs)\n",
        "        self.name = name # the op that produced this node, for graphviz / debugging / etc\n",
        "\n",
        "    def __add__(self, other):\n",
        "        other = other if isinstance(other, Value) else Value(other)\n",
        "        out = Value(self.data + other.data, (self, other), '+')\n",
        "\n",
        "        def _backward():\n",
        "            self.grad += out.grad\n",
        "            other.grad += out.grad\n",
        "        out._backward = _backward\n",
        "\n",
        "        return out\n",
        "\n",
        "    def __mul__(self, other):\n",
        "        other = other if isinstance(other, Value) else Value(other)\n",
        "        out = Value(self.data * other.data, (self, other), '*')\n",
        "\n",
        "        def _backward():\n",
        "            # todo\n",
        "            \n",
        "        out._backward = _backward\n",
        "\n",
        "        return out\n",
        "\n",
        "    def __pow__(self, other):\n",
        "        assert isinstance(other, (int, float)), \"only supporting int/float powers for now\"\n",
        "        out = Value(self.data**other, (self,), f'**{other}')\n",
        "\n",
        "        def _backward():\n",
        "            # todo\n",
        "\n",
        "        out._backward = _backward\n",
        "\n",
        "        return out\n",
        "\n",
        "    def relu(self):\n",
        "        out = Value(0 if self.data < 0 else self.data, (self,), 'ReLU')\n",
        "\n",
        "        def _backward():\n",
        "            # todo\n",
        "\n",
        "        out._backward = _backward\n",
        "\n",
        "        return out\n",
        "\n",
        "    def backward(self):\n",
        "\n",
        "        # topological order all of the children in the graph\n",
        "        topo = []\n",
        "        visited = set()\n",
        "        def build_topo(v):\n",
        "            if v not in visited:\n",
        "                visited.add(v)\n",
        "                for child in v.inputs:\n",
        "                    build_topo(child)\n",
        "                topo.append(v)\n",
        "        build_topo(self)\n",
        "\n",
        "        # go one variable at a time and apply the chain rule to get its gradient\n",
        "        self.grad = 1\n",
        "        for v in reversed(topo):\n",
        "            v._backward()\n",
        "\n",
        "    def __neg__(self): # -self\n",
        "        return self * -1\n",
        "\n",
        "    def __radd__(self, other): # other + self\n",
        "        return self + other\n",
        "\n",
        "    def __sub__(self, other): # self - other\n",
        "        return self + (-other)\n",
        "\n",
        "    def __rsub__(self, other): # other - self\n",
        "        return other + (-self)\n",
        "\n",
        "    def __rmul__(self, other): # other * self\n",
        "        return self * other\n",
        "\n",
        "    def __truediv__(self, other): # self / other\n",
        "        return self * other**-1\n",
        "\n",
        "    def __rtruediv__(self, other): # other / self\n",
        "        return other * self**-1\n",
        "\n",
        "    def __repr__(self):\n",
        "        return f\"Value(data={self.data}, grad={self.grad})\"\n",
        "\n",
        "    \n",
        "a = Value(1.0, name='a')\n",
        "b = Value(2.0, name='b')\n",
        "\n",
        "c = a + b\n",
        "z = a * c\n",
        "d = z - b\n",
        "\n",
        "print([x.grad for x in [a, b, c, z]])\n",
        "z.backward()\n",
        "print([x.grad for x in [a, b, c, z]])"
      ]
    },
    {
      "cell_type": "markdown",
      "metadata": {
        "id": "eNS8kDM4X5N4"
      },
      "source": [
        "# Visualization\n",
        "\n",
        "Для наглядности и отладки графов может пригодиться визуализация вычислительного графа:"
      ]
    },
    {
      "cell_type": "code",
      "execution_count": null,
      "metadata": {
        "id": "_yl7WZHgX5N4",
        "outputId": "a4eaeb13-2be7-4cda-e267-72067e7f7217",
        "colab": {
          "base_uri": "https://localhost:8080/",
          "height": 247
        }
      },
      "outputs": [
        {
          "output_type": "execute_result",
          "data": {
            "text/plain": [
              "<graphviz.dot.Digraph at 0x7f4e944c1c10>"
            ],
            "image/svg+xml": "<?xml version=\"1.0\" encoding=\"UTF-8\" standalone=\"no\"?>\n<!DOCTYPE svg PUBLIC \"-//W3C//DTD SVG 1.1//EN\"\n \"http://www.w3.org/Graphics/SVG/1.1/DTD/svg11.dtd\">\n<!-- Generated by graphviz version 2.40.1 (20161225.0304)\n -->\n<!-- Title: %3 Pages: 1 -->\n<svg width=\"1290pt\" height=\"155pt\"\n viewBox=\"0.00 0.00 1290.00 155.00\" xmlns=\"http://www.w3.org/2000/svg\" xmlns:xlink=\"http://www.w3.org/1999/xlink\">\n<g id=\"graph0\" class=\"graph\" transform=\"scale(1 1) rotate(0) translate(4 151)\">\n<title>%3</title>\n<polygon fill=\"#ffffff\" stroke=\"transparent\" points=\"-4,4 -4,-151 1286,-151 1286,4 -4,4\"/>\n<!-- 139975471887888 -->\n<g id=\"node1\" class=\"node\">\n<title>139975471887888</title>\n<polygon fill=\"none\" stroke=\"#000000\" points=\"92,-55.5 92,-91.5 264,-91.5 264,-55.5 92,-55.5\"/>\n<text text-anchor=\"middle\" x=\"134.5\" y=\"-69.8\" font-family=\"Times,serif\" font-size=\"14.00\" fill=\"#000000\">data 2.0000</text>\n<polyline fill=\"none\" stroke=\"#000000\" points=\"177,-55.5 177,-91.5 \"/>\n<text text-anchor=\"middle\" x=\"220.5\" y=\"-69.8\" font-family=\"Times,serif\" font-size=\"14.00\" fill=\"#000000\">grad 1.0000</text>\n</g>\n<!-- 139975471888528* -->\n<g id=\"node5\" class=\"node\">\n<title>139975471888528*</title>\n<ellipse fill=\"none\" stroke=\"#000000\" cx=\"329\" cy=\"-27.5\" rx=\"27\" ry=\"18\"/>\n<text text-anchor=\"middle\" x=\"329\" y=\"-23.8\" font-family=\"Times,serif\" font-size=\"14.00\" fill=\"#000000\">*</text>\n</g>\n<!-- 139975471887888&#45;&gt;139975471888528* -->\n<g id=\"edge12\" class=\"edge\">\n<title>139975471887888&#45;&gt;139975471888528*</title>\n<path fill=\"none\" stroke=\"#000000\" d=\"M237.2458,-55.4516C256.5411,-49.5736 277.3233,-43.2426 294.2218,-38.0947\"/>\n<polygon fill=\"#000000\" stroke=\"#000000\" points=\"295.6476,-41.3192 304.1936,-35.0569 293.6076,-34.623 295.6476,-41.3192\"/>\n</g>\n<!-- 139975471887824+ -->\n<g id=\"node13\" class=\"node\">\n<title>139975471887824+</title>\n<ellipse fill=\"none\" stroke=\"#000000\" cx=\"329\" cy=\"-81.5\" rx=\"27\" ry=\"18\"/>\n<text text-anchor=\"middle\" x=\"329\" y=\"-77.8\" font-family=\"Times,serif\" font-size=\"14.00\" fill=\"#000000\">+</text>\n</g>\n<!-- 139975471887888&#45;&gt;139975471887824+ -->\n<g id=\"edge13\" class=\"edge\">\n<title>139975471887888&#45;&gt;139975471887824+</title>\n<path fill=\"none\" stroke=\"#000000\" d=\"M264.0861,-78.0609C273.6792,-78.5691 283.0397,-79.065 291.5315,-79.5149\"/>\n<polygon fill=\"#000000\" stroke=\"#000000\" points=\"291.6041,-83.0236 301.7753,-80.0576 291.9745,-76.0334 291.6041,-83.0236\"/>\n</g>\n<!-- 139975471887888b -->\n<g id=\"node2\" class=\"node\">\n<title>139975471887888b</title>\n<ellipse fill=\"none\" stroke=\"#000000\" cx=\"27\" cy=\"-73.5\" rx=\"27\" ry=\"18\"/>\n<text text-anchor=\"middle\" x=\"27\" y=\"-69.8\" font-family=\"Times,serif\" font-size=\"14.00\" fill=\"#000000\">b</text>\n</g>\n<!-- 139975471887888b&#45;&gt;139975471887888 -->\n<g id=\"edge1\" class=\"edge\">\n<title>139975471887888b&#45;&gt;139975471887888</title>\n<path fill=\"none\" stroke=\"#000000\" d=\"M54.345,-73.5C62.4401,-73.5 71.8029,-73.5 81.6815,-73.5\"/>\n<polygon fill=\"#000000\" stroke=\"#000000\" points=\"81.7042,-77.0001 91.7041,-73.5 81.7041,-70.0001 81.7042,-77.0001\"/>\n</g>\n<!-- 139975471888464 -->\n<g id=\"node3\" class=\"node\">\n<title>139975471888464</title>\n<polygon fill=\"none\" stroke=\"#000000\" points=\"90,-.5 90,-36.5 266,-36.5 266,-.5 90,-.5\"/>\n<text text-anchor=\"middle\" x=\"134.5\" y=\"-14.8\" font-family=\"Times,serif\" font-size=\"14.00\" fill=\"#000000\">data &#45;1.0000</text>\n<polyline fill=\"none\" stroke=\"#000000\" points=\"179,-.5 179,-36.5 \"/>\n<text text-anchor=\"middle\" x=\"222.5\" y=\"-14.8\" font-family=\"Times,serif\" font-size=\"14.00\" fill=\"#000000\">grad 0.0000</text>\n</g>\n<!-- 139975471888464&#45;&gt;139975471888528* -->\n<g id=\"edge7\" class=\"edge\">\n<title>139975471888464&#45;&gt;139975471888528*</title>\n<path fill=\"none\" stroke=\"#000000\" d=\"M266.2742,-23.7614C275.1484,-24.2903 283.78,-24.8048 291.6594,-25.2744\"/>\n<polygon fill=\"#000000\" stroke=\"#000000\" points=\"291.6993,-28.7829 301.8898,-25.8842 292.1158,-21.7953 291.6993,-28.7829\"/>\n</g>\n<!-- 139975471888528 -->\n<g id=\"node4\" class=\"node\">\n<title>139975471888528</title>\n<polygon fill=\"none\" stroke=\"#000000\" points=\"600,-9.5 600,-45.5 776,-45.5 776,-9.5 600,-9.5\"/>\n<text text-anchor=\"middle\" x=\"644.5\" y=\"-23.8\" font-family=\"Times,serif\" font-size=\"14.00\" fill=\"#000000\">data &#45;2.0000</text>\n<polyline fill=\"none\" stroke=\"#000000\" points=\"689,-9.5 689,-45.5 \"/>\n<text text-anchor=\"middle\" x=\"732.5\" y=\"-23.8\" font-family=\"Times,serif\" font-size=\"14.00\" fill=\"#000000\">grad 0.0000</text>\n</g>\n<!-- 139975471888784+ -->\n<g id=\"node11\" class=\"node\">\n<title>139975471888784+</title>\n<ellipse fill=\"none\" stroke=\"#000000\" cx=\"1047\" cy=\"-54.5\" rx=\"27\" ry=\"18\"/>\n<text text-anchor=\"middle\" x=\"1047\" y=\"-50.8\" font-family=\"Times,serif\" font-size=\"14.00\" fill=\"#000000\">+</text>\n</g>\n<!-- 139975471888528&#45;&gt;139975471888784+ -->\n<g id=\"edge14\" class=\"edge\">\n<title>139975471888528&#45;&gt;139975471888784+</title>\n<path fill=\"none\" stroke=\"#000000\" d=\"M776.2811,-34.1395C851.2154,-39.7753 955.0362,-47.5835 1009.7765,-51.7005\"/>\n<polygon fill=\"#000000\" stroke=\"#000000\" points=\"1009.8127,-55.213 1020.0471,-52.4729 1010.3378,-48.2327 1009.8127,-55.213\"/>\n</g>\n<!-- 139975471888528*&#45;&gt;139975471888528 -->\n<g id=\"edge2\" class=\"edge\">\n<title>139975471888528*&#45;&gt;139975471888528</title>\n<path fill=\"none\" stroke=\"#000000\" d=\"M356.278,-27.5C405.2932,-27.5 510.5016,-27.5 589.3727,-27.5\"/>\n<polygon fill=\"#000000\" stroke=\"#000000\" points=\"589.8295,-31.0001 599.8295,-27.5 589.8294,-24.0001 589.8295,-31.0001\"/>\n</g>\n<!-- 139975471887632 -->\n<g id=\"node6\" class=\"node\">\n<title>139975471887632</title>\n<polygon fill=\"none\" stroke=\"#000000\" points=\"92,-110.5 92,-146.5 264,-146.5 264,-110.5 92,-110.5\"/>\n<text text-anchor=\"middle\" x=\"134.5\" y=\"-124.8\" font-family=\"Times,serif\" font-size=\"14.00\" fill=\"#000000\">data 1.0000</text>\n<polyline fill=\"none\" stroke=\"#000000\" points=\"177,-110.5 177,-146.5 \"/>\n<text text-anchor=\"middle\" x=\"220.5\" y=\"-124.8\" font-family=\"Times,serif\" font-size=\"14.00\" fill=\"#000000\">grad 4.0000</text>\n</g>\n<!-- 139975471888208* -->\n<g id=\"node9\" class=\"node\">\n<title>139975471888208*</title>\n<ellipse fill=\"none\" stroke=\"#000000\" cx=\"688\" cy=\"-82.5\" rx=\"27\" ry=\"18\"/>\n<text text-anchor=\"middle\" x=\"688\" y=\"-78.8\" font-family=\"Times,serif\" font-size=\"14.00\" fill=\"#000000\">*</text>\n</g>\n<!-- 139975471887632&#45;&gt;139975471888208* -->\n<g id=\"edge11\" class=\"edge\">\n<title>139975471887632&#45;&gt;139975471888208*</title>\n<path fill=\"none\" stroke=\"#000000\" d=\"M264.2209,-128.3213C342.6911,-127.1956 461.5697,-123.0779 564,-109.5 594.1954,-105.4974 627.941,-97.9436 652.5961,-91.8414\"/>\n<polygon fill=\"#000000\" stroke=\"#000000\" points=\"653.7268,-95.1661 662.5692,-89.3297 652.0172,-88.378 653.7268,-95.1661\"/>\n</g>\n<!-- 139975471887632&#45;&gt;139975471887824+ -->\n<g id=\"edge9\" class=\"edge\">\n<title>139975471887632&#45;&gt;139975471887824+</title>\n<path fill=\"none\" stroke=\"#000000\" d=\"M237.1942,-110.4242C246.8272,-107.4579 256.6945,-104.4045 266,-101.5 275.3316,-98.5873 285.4289,-95.3985 294.7489,-92.4398\"/>\n<polygon fill=\"#000000\" stroke=\"#000000\" points=\"296.0153,-95.7098 304.4841,-89.3436 293.8937,-89.0391 296.0153,-95.7098\"/>\n</g>\n<!-- 139975471887632a -->\n<g id=\"node7\" class=\"node\">\n<title>139975471887632a</title>\n<ellipse fill=\"none\" stroke=\"#000000\" cx=\"27\" cy=\"-128.5\" rx=\"27\" ry=\"18\"/>\n<text text-anchor=\"middle\" x=\"27\" y=\"-124.8\" font-family=\"Times,serif\" font-size=\"14.00\" fill=\"#000000\">a</text>\n</g>\n<!-- 139975471887632a&#45;&gt;139975471887632 -->\n<g id=\"edge3\" class=\"edge\">\n<title>139975471887632a&#45;&gt;139975471887632</title>\n<path fill=\"none\" stroke=\"#000000\" d=\"M54.345,-128.5C62.4401,-128.5 71.8029,-128.5 81.6815,-128.5\"/>\n<polygon fill=\"#000000\" stroke=\"#000000\" points=\"81.7042,-132.0001 91.7041,-128.5 81.7041,-125.0001 81.7042,-132.0001\"/>\n</g>\n<!-- 139975471888208 -->\n<g id=\"node8\" class=\"node\">\n<title>139975471888208</title>\n<polygon fill=\"none\" stroke=\"#000000\" points=\"812,-62.5 812,-98.5 984,-98.5 984,-62.5 812,-62.5\"/>\n<text text-anchor=\"middle\" x=\"854.5\" y=\"-76.8\" font-family=\"Times,serif\" font-size=\"14.00\" fill=\"#000000\">data 3.0000</text>\n<polyline fill=\"none\" stroke=\"#000000\" points=\"897,-62.5 897,-98.5 \"/>\n<text text-anchor=\"middle\" x=\"940.5\" y=\"-76.8\" font-family=\"Times,serif\" font-size=\"14.00\" fill=\"#000000\">grad 1.0000</text>\n</g>\n<!-- 139975471888208&#45;&gt;139975471888784+ -->\n<g id=\"edge8\" class=\"edge\">\n<title>139975471888208&#45;&gt;139975471888784+</title>\n<path fill=\"none\" stroke=\"#000000\" d=\"M984.2424,-65.451C993.5641,-63.8244 1002.6342,-62.2417 1010.849,-60.8082\"/>\n<polygon fill=\"#000000\" stroke=\"#000000\" points=\"1011.5021,-64.2472 1020.7515,-59.0803 1010.2987,-57.3514 1011.5021,-64.2472\"/>\n</g>\n<!-- 139975471888208*&#45;&gt;139975471888208 -->\n<g id=\"edge4\" class=\"edge\">\n<title>139975471888208*&#45;&gt;139975471888208</title>\n<path fill=\"none\" stroke=\"#000000\" d=\"M715.0239,-82.2426C737.1148,-82.0322 769.755,-81.7214 801.3758,-81.4202\"/>\n<polygon fill=\"#000000\" stroke=\"#000000\" points=\"801.6256,-84.9181 811.5918,-81.3229 801.5588,-77.9184 801.6256,-84.9181\"/>\n</g>\n<!-- 139975471888784 -->\n<g id=\"node10\" class=\"node\">\n<title>139975471888784</title>\n<polygon fill=\"none\" stroke=\"#000000\" points=\"1110,-36.5 1110,-72.5 1282,-72.5 1282,-36.5 1110,-36.5\"/>\n<text text-anchor=\"middle\" x=\"1152.5\" y=\"-50.8\" font-family=\"Times,serif\" font-size=\"14.00\" fill=\"#000000\">data 1.0000</text>\n<polyline fill=\"none\" stroke=\"#000000\" points=\"1195,-36.5 1195,-72.5 \"/>\n<text text-anchor=\"middle\" x=\"1238.5\" y=\"-50.8\" font-family=\"Times,serif\" font-size=\"14.00\" fill=\"#000000\">grad 0.0000</text>\n</g>\n<!-- 139975471888784+&#45;&gt;139975471888784 -->\n<g id=\"edge5\" class=\"edge\">\n<title>139975471888784+&#45;&gt;139975471888784</title>\n<path fill=\"none\" stroke=\"#000000\" d=\"M1074.3289,-54.5C1081.9177,-54.5 1090.6158,-54.5 1099.7956,-54.5\"/>\n<polygon fill=\"#000000\" stroke=\"#000000\" points=\"1099.9161,-58.0001 1109.9161,-54.5 1099.9161,-51.0001 1099.9161,-58.0001\"/>\n</g>\n<!-- 139975471887824 -->\n<g id=\"node12\" class=\"node\">\n<title>139975471887824</title>\n<polygon fill=\"none\" stroke=\"#000000\" points=\"392,-63.5 392,-99.5 564,-99.5 564,-63.5 392,-63.5\"/>\n<text text-anchor=\"middle\" x=\"434.5\" y=\"-77.8\" font-family=\"Times,serif\" font-size=\"14.00\" fill=\"#000000\">data 3.0000</text>\n<polyline fill=\"none\" stroke=\"#000000\" points=\"477,-63.5 477,-99.5 \"/>\n<text text-anchor=\"middle\" x=\"520.5\" y=\"-77.8\" font-family=\"Times,serif\" font-size=\"14.00\" fill=\"#000000\">grad 1.0000</text>\n</g>\n<!-- 139975471887824&#45;&gt;139975471888208* -->\n<g id=\"edge10\" class=\"edge\">\n<title>139975471887824&#45;&gt;139975471888208*</title>\n<path fill=\"none\" stroke=\"#000000\" d=\"M564.021,-81.9096C594.2137,-82.0534 626.5721,-82.2075 650.6578,-82.3222\"/>\n<polygon fill=\"#000000\" stroke=\"#000000\" points=\"650.7566,-85.8226 660.7732,-82.3703 650.79,-78.8227 650.7566,-85.8226\"/>\n</g>\n<!-- 139975471887824+&#45;&gt;139975471887824 -->\n<g id=\"edge6\" class=\"edge\">\n<title>139975471887824+&#45;&gt;139975471887824</title>\n<path fill=\"none\" stroke=\"#000000\" d=\"M356.3289,-81.5C363.9177,-81.5 372.6158,-81.5 381.7956,-81.5\"/>\n<polygon fill=\"#000000\" stroke=\"#000000\" points=\"381.9161,-85.0001 391.9161,-81.5 381.9161,-78.0001 381.9161,-85.0001\"/>\n</g>\n</g>\n</svg>\n"
          },
          "metadata": {},
          "execution_count": 15
        }
      ],
      "source": [
        "from graphviz import Digraph\n",
        "\n",
        "def trace(root):\n",
        "    nodes, edges = set(), set()\n",
        "    def build(v):\n",
        "        if v not in nodes:\n",
        "            nodes.add(v)\n",
        "            for child in v.inputs:\n",
        "                edges.add((child, v))\n",
        "                build(child)\n",
        "    build(root)\n",
        "    return nodes, edges\n",
        "\n",
        "\n",
        "def draw_dot(root, format='svg', rankdir='LR'):\n",
        "    \"\"\"\n",
        "    format: png | svg | ...\n",
        "    rankdir: TB (top to bottom graph) | LR (left to right)\n",
        "    \"\"\"\n",
        "    assert rankdir in ['LR', 'TB']\n",
        "    nodes, edges = trace(root)\n",
        "    dot = Digraph(format=format, graph_attr={'rankdir': rankdir}) #, node_attr={'rankdir': 'TB'})\n",
        "    \n",
        "    for n in nodes:\n",
        "        dot.node(name=str(id(n)), label = \"{ data %.4f | grad %.4f }\" % (n.data, n.grad), shape='record')\n",
        "        if n.name:\n",
        "            dot.node(name=str(id(n)) + n.name, label=n.name)\n",
        "            dot.edge(str(id(n)) + n.name, str(id(n)))\n",
        "    \n",
        "    for n1, n2 in edges:\n",
        "        dot.edge(str(id(n1)), str(id(n2)) + n2.name)\n",
        "    \n",
        "    return dot\n",
        "\n",
        "\n",
        "dot = draw_dot(d)\n",
        "dot"
      ]
    },
    {
      "cell_type": "code",
      "execution_count": null,
      "metadata": {
        "id": "oFghnGsvX5N5"
      },
      "outputs": [],
      "source": [
        ""
      ]
    },
    {
      "cell_type": "markdown",
      "metadata": {
        "id": "zmpeewXlX5N5"
      },
      "source": [
        "# Тестирование\n",
        "\n",
        "По-хорошему для проверки корректности нам стоит завести unit-тесты на каждую функцию/ветку выполнения.\n",
        "Это будет работать, поскольку вся логика разбита на небольшие изолированные части.\n",
        "\n",
        "Но для простоты мы можем просто сравнить результаты работы с эталоном. В качестве эталона можно взять pytorch (В курсе мы будем пользоваться именно им).\n"
      ]
    },
    {
      "cell_type": "code",
      "execution_count": null,
      "metadata": {
        "id": "a-f8ddKdX5N6"
      },
      "outputs": [],
      "source": [
        "import torch\n",
        "\n",
        "def test_sanity_check():\n",
        "\n",
        "    x = Value(-4.0)\n",
        "    z = 2 * x + 2 + x\n",
        "    q = z.relu() + z * x\n",
        "    h = (z * z).relu()\n",
        "    y = h + q + q * x\n",
        "    y.backward()\n",
        "    xmg, ymg = x, y\n",
        "\n",
        "    x = torch.Tensor([-4.0]).double()\n",
        "    x.requires_grad = True\n",
        "    z = 2 * x + 2 + x\n",
        "    q = z.relu() + z * x\n",
        "    h = (z * z).relu()\n",
        "    y = h + q + q * x\n",
        "    y.backward()\n",
        "    xpt, ypt = x, y\n",
        "\n",
        "    # forward pass went well\n",
        "    assert ymg.data == ypt.data.item()\n",
        "    # backward pass went well\n",
        "    assert xmg.grad == xpt.grad.item(), f\"{xmg.grad} == {xpt.grad.item()}\"\n",
        "\n",
        "def test_more_ops():\n",
        "\n",
        "    a = Value(-4.0)\n",
        "    b = Value(2.0)\n",
        "    c = a + b\n",
        "    d = a * b + b**3\n",
        "    c += c + 1\n",
        "    c += 1 + c + (-a)\n",
        "    d += d * 2 + (b + a).relu()\n",
        "    d += 3 * d + (b - a).relu()\n",
        "    e = c - d\n",
        "    f = e**2\n",
        "    g = f / 2.0\n",
        "    g += 10.0 / f\n",
        "    g.backward()\n",
        "    amg, bmg, gmg = a, b, g\n",
        "\n",
        "    a = torch.Tensor([-4.0]).double()\n",
        "    b = torch.Tensor([2.0]).double()\n",
        "    a.requires_grad = True\n",
        "    b.requires_grad = True\n",
        "    c = a + b\n",
        "    d = a * b + b**3\n",
        "    c = c + c + 1\n",
        "    c = c + 1 + c + (-a)\n",
        "    d = d + d * 2 + (b + a).relu()\n",
        "    d = d + 3 * d + (b - a).relu()\n",
        "    e = c - d\n",
        "    f = e**2\n",
        "    g = f / 2.0\n",
        "    g = g + 10.0 / f\n",
        "    g.backward()\n",
        "    apt, bpt, gpt = a, b, g\n",
        "\n",
        "    tol = 1e-6\n",
        "    # forward pass went well\n",
        "    assert abs(gmg.data - gpt.data.item()) < tol\n",
        "    # backward pass went well\n",
        "    assert abs(amg.grad - apt.grad.item()) < tol\n",
        "    assert abs(bmg.grad - bpt.grad.item()) < tol\n",
        "    \n",
        "\n",
        "test_sanity_check()\n",
        "test_more_ops()"
      ]
    },
    {
      "cell_type": "markdown",
      "metadata": {
        "id": "d70hU7HbX5N7"
      },
      "source": [
        "# Модули\n",
        "\n",
        "Как уже обсуждалось на лекции, удобно собирать отдельные значения в вектора и матрицы, а однотипные операции делать матричными. \n",
        "\n",
        "Для решения практических задач опишите несколько простых модулей:"
      ]
    },
    {
      "cell_type": "code",
      "execution_count": null,
      "metadata": {
        "id": "sYHBNXUpX5N7"
      },
      "outputs": [],
      "source": [
        "class Module:\n",
        "\n",
        "    def zero_grad(self):\n",
        "        for p in self.parameters():\n",
        "            p.grad = 0\n",
        "\n",
        "    def parameters(self):\n",
        "        return []\n",
        "\n",
        "class Neuron(Module):\n",
        "\n",
        "    def __init__(self, nin, nonlin=True):\n",
        "        self.w = [Value(random.uniform(-1,1)) for _ in range(nin)]\n",
        "        self.b = Value(0)\n",
        "        self.nonlin = nonlin\n",
        "\n",
        "    def __call__(self, x):\n",
        "        \n",
        "        # todo\n",
        "\n",
        "        # todo activations\n",
        "\n",
        "        return y\n",
        "\n",
        "    def parameters(self):\n",
        "        return self.w + [self.b]\n",
        "\n",
        "    def __repr__(self):\n",
        "        return f\"{'ReLU' if self.nonlin else 'Linear'}Neuron({len(self.w)})\"\n",
        "\n",
        "class Layer(Module):\n",
        "\n",
        "    def __init__(self, nin, nout, **kwargs):\n",
        "        self.neurons = [Neuron(nin, **kwargs) for _ in range(nout)]\n",
        "\n",
        "    def __call__(self, x):\n",
        "        out = [n(x) for n in self.neurons]\n",
        "        return out[0] if len(out) == 1 else out\n",
        "\n",
        "    def parameters(self):\n",
        "        return [p for n in self.neurons for p in n.parameters()]\n",
        "\n",
        "    def __repr__(self):\n",
        "        return f\"Layer of [{', '.join(str(n) for n in self.neurons)}]\"\n",
        "\n",
        "class MLP(Module):\n",
        "\n",
        "    def __init__(self, nin, nouts):\n",
        "        sz = [nin] + nouts\n",
        "        self.layers = [Layer(sz[i], sz[i+1], nonlin=i!=len(nouts)-1) for i in range(len(nouts))]\n",
        "\n",
        "    def __call__(self, x):\n",
        "        for layer in self.layers:\n",
        "            x = layer(x)\n",
        "        return x\n",
        "\n",
        "    def parameters(self):\n",
        "        return [p for layer in self.layers for p in layer.parameters()]\n",
        "\n",
        "    def __repr__(self):\n",
        "        return f\"MLP of [{', '.join(str(layer) for layer in self.layers)}]\""
      ]
    },
    {
      "cell_type": "code",
      "execution_count": null,
      "metadata": {
        "id": "hcjlAqVQX5N8",
        "outputId": "7b6ab863-ed22-4142-b9c7-d0d434cebeef",
        "colab": {
          "base_uri": "https://localhost:8080/",
          "height": 392
        }
      },
      "outputs": [
        {
          "output_type": "stream",
          "name": "stdout",
          "text": [
            "MLP of [Layer of [ReLUNeuron(2), ReLUNeuron(2), ReLUNeuron(2), ReLUNeuron(2), ReLUNeuron(2), ReLUNeuron(2), ReLUNeuron(2), ReLUNeuron(2), ReLUNeuron(2), ReLUNeuron(2), ReLUNeuron(2), ReLUNeuron(2), ReLUNeuron(2), ReLUNeuron(2), ReLUNeuron(2), ReLUNeuron(2)], Layer of [ReLUNeuron(16), ReLUNeuron(16), ReLUNeuron(16), ReLUNeuron(16), ReLUNeuron(16), ReLUNeuron(16), ReLUNeuron(16), ReLUNeuron(16), ReLUNeuron(16), ReLUNeuron(16), ReLUNeuron(16), ReLUNeuron(16), ReLUNeuron(16), ReLUNeuron(16), ReLUNeuron(16), ReLUNeuron(16)], Layer of [LinearNeuron(16)]]\n",
            "number of parameters 337\n",
            "Value(data=1.6600703555340846, grad=0) 0.16\n"
          ]
        },
        {
          "output_type": "display_data",
          "data": {
            "image/png": "[encoded data removed]",
            "text/plain": [
              "<Figure size 360x360 with 1 Axes>"
            ]
          },
          "metadata": {
            "needs_background": "light"
          }
        }
      ],
      "source": [
        "from sklearn.datasets import make_moons, make_blobs\n",
        "X, y = make_moons(n_samples=100, noise=0.1)\n",
        "\n",
        "y = y * 2 - 1 # make y be -1 or 1\n",
        "# visualize in 2D\n",
        "plt.figure(figsize=(5, 5))\n",
        "plt.scatter(X[:,0], X[:,1], c=y, s=20, cmap='jet')\n",
        "\n",
        "# initialize a model \n",
        "model = MLP(2, [16, 16, 1]) # 2-layer neural network\n",
        "print(model)\n",
        "print(\"number of parameters\", len(model.parameters()))\n",
        "\n",
        "# loss function\n",
        "def loss(batch_size=None):\n",
        "    \n",
        "    # inline DataLoader :)\n",
        "    if batch_size is None:\n",
        "        Xb, yb = X, y\n",
        "    else:\n",
        "        ri = np.random.permutation(X.shape[0])[:batch_size]\n",
        "        Xb, yb = X[ri], y[ri]\n",
        "    inputs = [list(map(Value, xrow)) for xrow in Xb]\n",
        "    \n",
        "    # forward the model to get scores\n",
        "    scores = list(map(model, inputs))\n",
        "    \n",
        "    # svm \"max-margin\" loss\n",
        "    losses = [(1 - yi * scorei).relu() for yi, scorei in zip(yb, scores)]\n",
        "    data_loss = sum(losses) * (1.0 / len(losses))\n",
        "    # L2 regularization\n",
        "    alpha = 1e-4\n",
        "    reg_loss = alpha * sum((p*p for p in model.parameters()))\n",
        "    total_loss = data_loss + reg_loss\n",
        "    \n",
        "    # also get accuracy\n",
        "    accuracy = [(yi > 0) == (scorei.data > 0) for yi, scorei in zip(yb, scores)]\n",
        "    return total_loss, sum(accuracy) / len(accuracy)\n",
        "\n",
        "total_loss, acc = loss()\n",
        "print(total_loss, acc)"
      ]
    },
    {
      "cell_type": "code",
      "execution_count": null,
      "metadata": {
        "id": "He_SccB3X5N9",
        "outputId": "a8a46273-8772-4566-b918-400b49c4d256",
        "colab": {
          "base_uri": "https://localhost:8080/",
          "height": 504
        }
      },
      "outputs": [
        {
          "output_type": "stream",
          "name": "stdout",
          "text": [
            "step 0 loss 1.6600703555340846, accuracy 16.0%\n",
            "step 1 loss 1.1560312377373316, accuracy 54.0%\n",
            "step 2 loss 0.4519980385009665, accuracy 83.0%\n",
            "step 3 loss 0.3311921528537112, accuracy 88.0%\n",
            "step 4 loss 0.5324840499779426, accuracy 76.0%\n",
            "step 5 loss 0.3100762492283723, accuracy 89.0%\n",
            "step 6 loss 0.3743074094169788, accuracy 82.0%\n"
          ]
        },
        {
          "output_type": "error",
          "ename": "KeyboardInterrupt",
          "evalue": "ignored",
          "traceback": [
            "\u001b[0;31m---------------------------------------------------------------------------\u001b[0m",
            "\u001b[0;31mKeyboardInterrupt\u001b[0m                         Traceback (most recent call last)",
            "\u001b[0;32m<ipython-input-20-433ca4d4133a>\u001b[0m in \u001b[0;36m<module>\u001b[0;34m()\u001b[0m\n\u001b[1;32m      3\u001b[0m \u001b[0;34m\u001b[0m\u001b[0m\n\u001b[1;32m      4\u001b[0m     \u001b[0;31m# forward\u001b[0m\u001b[0;34m\u001b[0m\u001b[0;34m\u001b[0m\u001b[0;34m\u001b[0m\u001b[0m\n\u001b[0;32m----> 5\u001b[0;31m     \u001b[0mtotal_loss\u001b[0m\u001b[0;34m,\u001b[0m \u001b[0macc\u001b[0m \u001b[0;34m=\u001b[0m \u001b[0mloss\u001b[0m\u001b[0;34m(\u001b[0m\u001b[0;34m)\u001b[0m\u001b[0;34m\u001b[0m\u001b[0;34m\u001b[0m\u001b[0m\n\u001b[0m\u001b[1;32m      6\u001b[0m \u001b[0;34m\u001b[0m\u001b[0m\n\u001b[1;32m      7\u001b[0m     \u001b[0;31m# backward\u001b[0m\u001b[0;34m\u001b[0m\u001b[0;34m\u001b[0m\u001b[0;34m\u001b[0m\u001b[0m\n",
            "\u001b[0;32m<ipython-input-18-a5a22c209b03>\u001b[0m in \u001b[0;36mloss\u001b[0;34m(batch_size)\u001b[0m\n\u001b[1;32m     24\u001b[0m \u001b[0;34m\u001b[0m\u001b[0m\n\u001b[1;32m     25\u001b[0m     \u001b[0;31m# forward the model to get scores\u001b[0m\u001b[0;34m\u001b[0m\u001b[0;34m\u001b[0m\u001b[0;34m\u001b[0m\u001b[0m\n\u001b[0;32m---> 26\u001b[0;31m     \u001b[0mscores\u001b[0m \u001b[0;34m=\u001b[0m \u001b[0mlist\u001b[0m\u001b[0;34m(\u001b[0m\u001b[0mmap\u001b[0m\u001b[0;34m(\u001b[0m\u001b[0mmodel\u001b[0m\u001b[0;34m,\u001b[0m \u001b[0minputs\u001b[0m\u001b[0;34m)\u001b[0m\u001b[0;34m)\u001b[0m\u001b[0;34m\u001b[0m\u001b[0;34m\u001b[0m\u001b[0m\n\u001b[0m\u001b[1;32m     27\u001b[0m \u001b[0;34m\u001b[0m\u001b[0m\n\u001b[1;32m     28\u001b[0m     \u001b[0;31m# svm \"max-margin\" loss\u001b[0m\u001b[0;34m\u001b[0m\u001b[0;34m\u001b[0m\u001b[0;34m\u001b[0m\u001b[0m\n",
            "\u001b[0;32m<ipython-input-17-53d4b83398d5>\u001b[0m in \u001b[0;36m__call__\u001b[0;34m(self, x)\u001b[0m\n\u001b[1;32m     53\u001b[0m     \u001b[0;32mdef\u001b[0m \u001b[0m__call__\u001b[0m\u001b[0;34m(\u001b[0m\u001b[0mself\u001b[0m\u001b[0;34m,\u001b[0m \u001b[0mx\u001b[0m\u001b[0;34m)\u001b[0m\u001b[0;34m:\u001b[0m\u001b[0;34m\u001b[0m\u001b[0;34m\u001b[0m\u001b[0m\n\u001b[1;32m     54\u001b[0m         \u001b[0;32mfor\u001b[0m \u001b[0mlayer\u001b[0m \u001b[0;32min\u001b[0m \u001b[0mself\u001b[0m\u001b[0;34m.\u001b[0m\u001b[0mlayers\u001b[0m\u001b[0;34m:\u001b[0m\u001b[0;34m\u001b[0m\u001b[0;34m\u001b[0m\u001b[0m\n\u001b[0;32m---> 55\u001b[0;31m             \u001b[0mx\u001b[0m \u001b[0;34m=\u001b[0m \u001b[0mlayer\u001b[0m\u001b[0;34m(\u001b[0m\u001b[0mx\u001b[0m\u001b[0;34m)\u001b[0m\u001b[0;34m\u001b[0m\u001b[0;34m\u001b[0m\u001b[0m\n\u001b[0m\u001b[1;32m     56\u001b[0m         \u001b[0;32mreturn\u001b[0m \u001b[0mx\u001b[0m\u001b[0;34m\u001b[0m\u001b[0;34m\u001b[0m\u001b[0m\n\u001b[1;32m     57\u001b[0m \u001b[0;34m\u001b[0m\u001b[0m\n",
            "\u001b[0;32m<ipython-input-17-53d4b83398d5>\u001b[0m in \u001b[0;36m__call__\u001b[0;34m(self, x)\u001b[0m\n\u001b[1;32m     36\u001b[0m \u001b[0;34m\u001b[0m\u001b[0m\n\u001b[1;32m     37\u001b[0m     \u001b[0;32mdef\u001b[0m \u001b[0m__call__\u001b[0m\u001b[0;34m(\u001b[0m\u001b[0mself\u001b[0m\u001b[0;34m,\u001b[0m \u001b[0mx\u001b[0m\u001b[0;34m)\u001b[0m\u001b[0;34m:\u001b[0m\u001b[0;34m\u001b[0m\u001b[0;34m\u001b[0m\u001b[0m\n\u001b[0;32m---> 38\u001b[0;31m         \u001b[0mout\u001b[0m \u001b[0;34m=\u001b[0m \u001b[0;34m[\u001b[0m\u001b[0mn\u001b[0m\u001b[0;34m(\u001b[0m\u001b[0mx\u001b[0m\u001b[0;34m)\u001b[0m \u001b[0;32mfor\u001b[0m \u001b[0mn\u001b[0m \u001b[0;32min\u001b[0m \u001b[0mself\u001b[0m\u001b[0;34m.\u001b[0m\u001b[0mneurons\u001b[0m\u001b[0;34m]\u001b[0m\u001b[0;34m\u001b[0m\u001b[0;34m\u001b[0m\u001b[0m\n\u001b[0m\u001b[1;32m     39\u001b[0m         \u001b[0;32mreturn\u001b[0m \u001b[0mout\u001b[0m\u001b[0;34m[\u001b[0m\u001b[0;36m0\u001b[0m\u001b[0;34m]\u001b[0m \u001b[0;32mif\u001b[0m \u001b[0mlen\u001b[0m\u001b[0;34m(\u001b[0m\u001b[0mout\u001b[0m\u001b[0;34m)\u001b[0m \u001b[0;34m==\u001b[0m \u001b[0;36m1\u001b[0m \u001b[0;32melse\u001b[0m \u001b[0mout\u001b[0m\u001b[0;34m\u001b[0m\u001b[0;34m\u001b[0m\u001b[0m\n\u001b[1;32m     40\u001b[0m \u001b[0;34m\u001b[0m\u001b[0m\n",
            "\u001b[0;32m<ipython-input-17-53d4b83398d5>\u001b[0m in \u001b[0;36m<listcomp>\u001b[0;34m(.0)\u001b[0m\n\u001b[1;32m     36\u001b[0m \u001b[0;34m\u001b[0m\u001b[0m\n\u001b[1;32m     37\u001b[0m     \u001b[0;32mdef\u001b[0m \u001b[0m__call__\u001b[0m\u001b[0;34m(\u001b[0m\u001b[0mself\u001b[0m\u001b[0;34m,\u001b[0m \u001b[0mx\u001b[0m\u001b[0;34m)\u001b[0m\u001b[0;34m:\u001b[0m\u001b[0;34m\u001b[0m\u001b[0;34m\u001b[0m\u001b[0m\n\u001b[0;32m---> 38\u001b[0;31m         \u001b[0mout\u001b[0m \u001b[0;34m=\u001b[0m \u001b[0;34m[\u001b[0m\u001b[0mn\u001b[0m\u001b[0;34m(\u001b[0m\u001b[0mx\u001b[0m\u001b[0;34m)\u001b[0m \u001b[0;32mfor\u001b[0m \u001b[0mn\u001b[0m \u001b[0;32min\u001b[0m \u001b[0mself\u001b[0m\u001b[0;34m.\u001b[0m\u001b[0mneurons\u001b[0m\u001b[0;34m]\u001b[0m\u001b[0;34m\u001b[0m\u001b[0;34m\u001b[0m\u001b[0m\n\u001b[0m\u001b[1;32m     39\u001b[0m         \u001b[0;32mreturn\u001b[0m \u001b[0mout\u001b[0m\u001b[0;34m[\u001b[0m\u001b[0;36m0\u001b[0m\u001b[0;34m]\u001b[0m \u001b[0;32mif\u001b[0m \u001b[0mlen\u001b[0m\u001b[0;34m(\u001b[0m\u001b[0mout\u001b[0m\u001b[0;34m)\u001b[0m \u001b[0;34m==\u001b[0m \u001b[0;36m1\u001b[0m \u001b[0;32melse\u001b[0m \u001b[0mout\u001b[0m\u001b[0;34m\u001b[0m\u001b[0;34m\u001b[0m\u001b[0m\n\u001b[1;32m     40\u001b[0m \u001b[0;34m\u001b[0m\u001b[0m\n",
            "\u001b[0;32m<ipython-input-17-53d4b83398d5>\u001b[0m in \u001b[0;36m__call__\u001b[0;34m(self, x)\u001b[0m\n\u001b[1;32m     17\u001b[0m     \u001b[0;32mdef\u001b[0m \u001b[0m__call__\u001b[0m\u001b[0;34m(\u001b[0m\u001b[0mself\u001b[0m\u001b[0;34m,\u001b[0m \u001b[0mx\u001b[0m\u001b[0;34m)\u001b[0m\u001b[0;34m:\u001b[0m\u001b[0;34m\u001b[0m\u001b[0;34m\u001b[0m\u001b[0m\n\u001b[1;32m     18\u001b[0m \u001b[0;34m\u001b[0m\u001b[0m\n\u001b[0;32m---> 19\u001b[0;31m         \u001b[0my\u001b[0m \u001b[0;34m=\u001b[0m \u001b[0mself\u001b[0m\u001b[0;34m.\u001b[0m\u001b[0mb\u001b[0m \u001b[0;34m+\u001b[0m \u001b[0msum\u001b[0m\u001b[0;34m(\u001b[0m\u001b[0mwi\u001b[0m \u001b[0;34m*\u001b[0m \u001b[0mxi\u001b[0m \u001b[0;32mfor\u001b[0m \u001b[0mwi\u001b[0m\u001b[0;34m,\u001b[0m \u001b[0mxi\u001b[0m \u001b[0;32min\u001b[0m \u001b[0mzip\u001b[0m\u001b[0;34m(\u001b[0m\u001b[0mself\u001b[0m\u001b[0;34m.\u001b[0m\u001b[0mw\u001b[0m\u001b[0;34m,\u001b[0m \u001b[0mx\u001b[0m\u001b[0;34m)\u001b[0m\u001b[0;34m)\u001b[0m\u001b[0;34m\u001b[0m\u001b[0;34m\u001b[0m\u001b[0m\n\u001b[0m\u001b[1;32m     20\u001b[0m \u001b[0;34m\u001b[0m\u001b[0m\n\u001b[1;32m     21\u001b[0m         \u001b[0;32mif\u001b[0m \u001b[0mself\u001b[0m\u001b[0;34m.\u001b[0m\u001b[0mnonlin\u001b[0m\u001b[0;34m:\u001b[0m\u001b[0;34m\u001b[0m\u001b[0;34m\u001b[0m\u001b[0m\n",
            "\u001b[0;32m<ipython-input-14-2dd5cd3b91c0>\u001b[0m in \u001b[0;36m__add__\u001b[0;34m(self, other)\u001b[0m\n\u001b[1;32m     12\u001b[0m     \u001b[0;32mdef\u001b[0m \u001b[0m__add__\u001b[0m\u001b[0;34m(\u001b[0m\u001b[0mself\u001b[0m\u001b[0;34m,\u001b[0m \u001b[0mother\u001b[0m\u001b[0;34m)\u001b[0m\u001b[0;34m:\u001b[0m\u001b[0;34m\u001b[0m\u001b[0;34m\u001b[0m\u001b[0m\n\u001b[1;32m     13\u001b[0m         \u001b[0mother\u001b[0m \u001b[0;34m=\u001b[0m \u001b[0mother\u001b[0m \u001b[0;32mif\u001b[0m \u001b[0misinstance\u001b[0m\u001b[0;34m(\u001b[0m\u001b[0mother\u001b[0m\u001b[0;34m,\u001b[0m \u001b[0mValue\u001b[0m\u001b[0;34m)\u001b[0m \u001b[0;32melse\u001b[0m \u001b[0mValue\u001b[0m\u001b[0;34m(\u001b[0m\u001b[0mother\u001b[0m\u001b[0;34m)\u001b[0m\u001b[0;34m\u001b[0m\u001b[0;34m\u001b[0m\u001b[0m\n\u001b[0;32m---> 14\u001b[0;31m         \u001b[0mout\u001b[0m \u001b[0;34m=\u001b[0m \u001b[0mValue\u001b[0m\u001b[0;34m(\u001b[0m\u001b[0mself\u001b[0m\u001b[0;34m.\u001b[0m\u001b[0mdata\u001b[0m \u001b[0;34m+\u001b[0m \u001b[0mother\u001b[0m\u001b[0;34m.\u001b[0m\u001b[0mdata\u001b[0m\u001b[0;34m,\u001b[0m \u001b[0;34m(\u001b[0m\u001b[0mself\u001b[0m\u001b[0;34m,\u001b[0m \u001b[0mother\u001b[0m\u001b[0;34m)\u001b[0m\u001b[0;34m,\u001b[0m \u001b[0;34m'+'\u001b[0m\u001b[0;34m)\u001b[0m\u001b[0;34m\u001b[0m\u001b[0;34m\u001b[0m\u001b[0m\n\u001b[0m\u001b[1;32m     15\u001b[0m \u001b[0;34m\u001b[0m\u001b[0m\n\u001b[1;32m     16\u001b[0m         \u001b[0;32mdef\u001b[0m \u001b[0m_backward\u001b[0m\u001b[0;34m(\u001b[0m\u001b[0;34m)\u001b[0m\u001b[0;34m:\u001b[0m\u001b[0;34m\u001b[0m\u001b[0;34m\u001b[0m\u001b[0m\n",
            "\u001b[0;32m<ipython-input-14-2dd5cd3b91c0>\u001b[0m in \u001b[0;36m__init__\u001b[0;34m(self, data, inputs, name)\u001b[0m\n\u001b[1;32m      6\u001b[0m         \u001b[0mself\u001b[0m\u001b[0;34m.\u001b[0m\u001b[0mgrad\u001b[0m \u001b[0;34m=\u001b[0m \u001b[0;36m0\u001b[0m\u001b[0;34m\u001b[0m\u001b[0;34m\u001b[0m\u001b[0m\n\u001b[1;32m      7\u001b[0m         \u001b[0;31m# internal variables used for autograd graph construction\u001b[0m\u001b[0;34m\u001b[0m\u001b[0;34m\u001b[0m\u001b[0;34m\u001b[0m\u001b[0m\n\u001b[0;32m----> 8\u001b[0;31m         \u001b[0mself\u001b[0m\u001b[0;34m.\u001b[0m\u001b[0m_backward\u001b[0m \u001b[0;34m=\u001b[0m \u001b[0;32mlambda\u001b[0m\u001b[0;34m:\u001b[0m \u001b[0;32mNone\u001b[0m\u001b[0;34m\u001b[0m\u001b[0;34m\u001b[0m\u001b[0m\n\u001b[0m\u001b[1;32m      9\u001b[0m         \u001b[0mself\u001b[0m\u001b[0;34m.\u001b[0m\u001b[0minputs\u001b[0m \u001b[0;34m=\u001b[0m \u001b[0mset\u001b[0m\u001b[0;34m(\u001b[0m\u001b[0minputs\u001b[0m\u001b[0;34m)\u001b[0m\u001b[0;34m\u001b[0m\u001b[0;34m\u001b[0m\u001b[0m\n\u001b[1;32m     10\u001b[0m         \u001b[0mself\u001b[0m\u001b[0;34m.\u001b[0m\u001b[0mname\u001b[0m \u001b[0;34m=\u001b[0m \u001b[0mname\u001b[0m \u001b[0;31m# the op that produced this node, for graphviz / debugging / etc\u001b[0m\u001b[0;34m\u001b[0m\u001b[0;34m\u001b[0m\u001b[0m\n",
            "\u001b[0;31mKeyboardInterrupt\u001b[0m: "
          ]
        }
      ],
      "source": [
        "# optimization\n",
        "for k in range(100):\n",
        "    \n",
        "    # forward\n",
        "    total_loss, acc = loss()\n",
        "    \n",
        "    # backward\n",
        "    model.zero_grad()\n",
        "    total_loss.backward()\n",
        "\n",
        "    learning_rate = 0.3\n",
        "    \n",
        "    # update (sgd)\n",
        "    for p in model.parameters():\n",
        "        # todo make update\n",
        "    \n",
        "    if k % 1 == 0:\n",
        "        print(f\"step {k} loss {total_loss.data}, accuracy {acc*100}%\")\n"
      ]
    },
    {
      "cell_type": "code",
      "execution_count": null,
      "metadata": {
        "id": "_PR6IRgOX5N9",
        "outputId": "089cc2ba-34ac-4f67-a245-a9cd1b7f60a4",
        "colab": {
          "base_uri": "https://localhost:8080/",
          "height": 282
        }
      },
      "outputs": [
        {
          "output_type": "execute_result",
          "data": {
            "text/plain": [
              "(-1.6284133958141513, 1.8715866041858487)"
            ]
          },
          "metadata": {},
          "execution_count": 21
        },
        {
          "output_type": "display_data",
          "data": {
            "image/png": "[encoded data removed]",
            "text/plain": [
              "<Figure size 432x288 with 1 Axes>"
            ]
          },
          "metadata": {
            "needs_background": "light"
          }
        }
      ],
      "source": [
        "# visualize decision boundary\n",
        "\n",
        "h = 0.25\n",
        "x_min, x_max = X[:, 0].min() - 1, X[:, 0].max() + 1\n",
        "y_min, y_max = X[:, 1].min() - 1, X[:, 1].max() + 1\n",
        "xx, yy = np.meshgrid(np.arange(x_min, x_max, h),\n",
        "                     np.arange(y_min, y_max, h))\n",
        "Xmesh = np.c_[xx.ravel(), yy.ravel()]\n",
        "inputs = [list(map(Value, xrow)) for xrow in Xmesh]\n",
        "scores = list(map(model, inputs))\n",
        "Z = np.array([s.data > 0 for s in scores])\n",
        "Z = Z.reshape(xx.shape)\n",
        "\n",
        "fig = plt.figure()\n",
        "plt.contourf(xx, yy, Z, cmap=plt.cm.Spectral, alpha=0.8)\n",
        "plt.scatter(X[:, 0], X[:, 1], c=y, s=40, cmap=plt.cm.Spectral)\n",
        "plt.xlim(xx.min(), xx.max())\n",
        "plt.ylim(yy.min(), yy.max())"
      ]
    },
    {
      "cell_type": "code",
      "execution_count": null,
      "metadata": {
        "id": "uafQwd81X5N9"
      },
      "outputs": [],
      "source": [
        ""
      ]
    }
  ],
  "metadata": {
    "kernelspec": {
      "display_name": "base",
      "language": "python",
      "name": "base"
    },
    "language_info": {
      "codemirror_mode": {
        "name": "ipython",
        "version": 3
      },
      "file_extension": ".py",
      "mimetype": "text/x-python",
      "name": "python",
      "nbconvert_exporter": "python",
      "pygments_lexer": "ipython3",
      "version": "3.7.3"
    },
    "colab": {
      "name": "ftiad_dl_seminar_1.ipynb",
      "provenance": [],
      "collapsed_sections": []
    }
  },
  "nbformat": 4,
  "nbformat_minor": 0
}